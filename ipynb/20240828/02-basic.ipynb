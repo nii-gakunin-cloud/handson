{
 "cells": [
  {
   "cell_type": "markdown",
   "id": "6b611d36",
   "metadata": {},
   "source": [
    "# 関数の働きに関する考察\n",
    "\n",
    "今回は関数の働きに関する考察を行います。"
   ]
  },
  {
   "cell_type": "code",
   "execution_count": 3,
   "id": "b289d59e",
   "metadata": {
    "nbgrader": {
     "grade": false,
     "grade_id": "code",
     "locked": true,
     "schema_version": 3,
     "solution": false,
     "task": false
    }
   },
   "outputs": [],
   "source": [
    "# 次のコードについて考えてみましょう。\n",
    "def f(x):\n",
    "    if x == 0 or x == 1:\n",
    "        return x\n",
    "    return f(x - 1) + f(x - 2)"
   ]
  },
  {
   "cell_type": "markdown",
   "id": "c40c5acb",
   "metadata": {
    "nbgrader": {
     "grade": false,
     "grade_id": "part1_summary",
     "locked": true,
     "schema_version": 3,
     "solution": false,
     "task": false
    }
   },
   "source": [
    "A. この関数fの働き、計算内容、使い方について解答しましょう。\n",
    "\n",
    "「YOUR ANSWER HERE」をダブルクリックすると入力可能になるので、「YOUR ANSWER HERE」を削除した後に解答を記入してください。"
   ]
  },
  {
   "cell_type": "markdown",
   "id": "c653b18f",
   "metadata": {
    "nbgrader": {
     "grade": true,
     "grade_id": "part1_answer",
     "locked": false,
     "points": 1,
     "schema_version": 3,
     "solution": true,
     "task": false
    }
   },
   "source": [
    "この関数は、関数の再起呼び出しを使用してフィボナッチ数列を計算します。引数が 0 や 1 の場合、関数はそれぞれ 0 または 1 を返します。それ以外の場合、この関数は x-1 と x-2 を引数としてそれぞれ自身を呼び出し、それらの戻り値を加算したものを返します。"
   ]
  },
  {
   "cell_type": "markdown",
   "id": "48663298",
   "metadata": {
    "nbgrader": {
     "grade": false,
     "grade_id": "part2_summary",
     "locked": true,
     "schema_version": 3,
     "solution": false,
     "task": false
    }
   },
   "source": [
    "B. この関数fに引数として整数の「10」を渡し、その結果を画面に表示するコードを解答しましょう。\n",
    "\n",
    "以下の「raise NotImplementedError()」を削除した後、その位置に適切なプログラムを記入してください。"
   ]
  },
  {
   "cell_type": "code",
   "execution_count": null,
   "id": "31c5d1eb",
   "metadata": {
    "nbgrader": {
     "grade": true,
     "grade_id": "part2_answer",
     "locked": false,
     "points": 1,
     "schema_version": 3,
     "solution": true,
     "task": false
    }
   },
   "outputs": [],
   "source": [
    "print(f(10))"
   ]
  }
 ],
 "metadata": {
  "celltoolbar": "Create Assignment",
  "kernelspec": {
   "display_name": "Python 3 (ipykernel)",
   "language": "python",
   "name": "python3"
  },
  "language_info": {
   "codemirror_mode": {
    "name": "ipython",
    "version": 3
   },
   "file_extension": ".py",
   "mimetype": "text/x-python",
   "name": "python",
   "nbconvert_exporter": "python",
   "pygments_lexer": "ipython3",
   "version": "3.10.9"
  },
  "toc": {
   "base_numbering": 1,
   "nav_menu": {},
   "number_sections": true,
   "sideBar": true,
   "skip_h1_title": false,
   "title_cell": "Table of Contents",
   "title_sidebar": "Contents",
   "toc_cell": false,
   "toc_position": {},
   "toc_section_display": true,
   "toc_window_display": false
  }
 },
 "nbformat": 4,
 "nbformat_minor": 5
}
