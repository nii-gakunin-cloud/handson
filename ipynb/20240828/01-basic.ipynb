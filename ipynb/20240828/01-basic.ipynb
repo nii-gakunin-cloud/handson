{
 "cells": [
  {
   "cell_type": "markdown",
   "id": "b9868c61",
   "metadata": {},
   "source": [
    "# 関数の練習\n",
    "今回は関数の練習です。\n"
   ]
  },
  {
   "cell_type": "markdown",
   "id": "15e1620d",
   "metadata": {},
   "source": [
    "## 級数の和を求める関数\n",
    "以下のsum関数は、引数として自然数nを受け取ると1からnまでの級数の和を返す関数です。\n",
    "\n",
    "以下の「raise NotImplementedError()」を削除した後、その位置に適切なプログラムを記入してください。"
   ]
  },
  {
   "cell_type": "code",
   "execution_count": null,
   "id": "5e0fc3e2",
   "metadata": {
    "code_folding": [],
    "nbgrader": {
     "grade": false,
     "grade_id": "sum",
     "locked": false,
     "schema_version": 3,
     "solution": true,
     "task": false
    }
   },
   "outputs": [],
   "source": [
    "def sum(n):\n",
    "    if n < 1:\n",
    "        return 0\n",
    "    s = 0\n",
    "    for i in range(1, n + 1, 1):\n",
    "        ### BEGIN SOLUTION\n",
    "        s = s + i\n",
    "        ### END SOLUTION\n",
    "    return s"
   ]
  },
  {
   "cell_type": "markdown",
   "id": "f772c0f1",
   "metadata": {},
   "source": [
    "以下のセルを利用して、sum関数の入出力を確認しましょう。"
   ]
  },
  {
   "cell_type": "code",
   "execution_count": null,
   "id": "70149063",
   "metadata": {},
   "outputs": [],
   "source": [
    "# 例えば print(sum(4)) のような文を実行して表示内容を確認してみる\n",
    "print(sum(4))"
   ]
  },
  {
   "cell_type": "code",
   "execution_count": null,
   "id": "aaddec55",
   "metadata": {
    "nbgrader": {
     "grade": true,
     "grade_id": "correct_sum",
     "locked": true,
     "points": 1,
     "schema_version": 3,
     "solution": false,
     "task": false
    }
   },
   "outputs": [],
   "source": [
    "# このセルには何も記入しないでください。\n",
    "### BEGIN HIDDEN TESTS\n",
    "assert sum(1) == 1\n",
    "assert sum(4) == 10\n",
    "assert sum(5) == 15\n",
    "assert sum(0) == 0\n",
    "assert sum(-1) == 0\n",
    "### END HIDDEN TESTS"
   ]
  },
  {
   "cell_type": "markdown",
   "id": "12eadbb5",
   "metadata": {},
   "source": [
    "## 2乗を求める関数\n",
    "以下のsquares関数は、引数として自然数nを受け取ると、1からnまでの各整数の2乗を求め、そのリスト（配列）を返します。\n",
    "\n",
    "例えば、引数として10を渡すと、[1, 4, 9, 16, 25, 36, 49, 64, 81, 100] というリストを返します。\n",
    "\n",
    "以下の「raise NotImplementedError()」を削除した後、その位置に適切なプログラムを記入してください。"
   ]
  },
  {
   "cell_type": "code",
   "execution_count": 1,
   "id": "ab46f0cd",
   "metadata": {
    "nbgrader": {
     "grade": false,
     "grade_id": "squares",
     "locked": false,
     "schema_version": 3,
     "solution": true,
     "task": false
    }
   },
   "outputs": [],
   "source": [
    "def squares(n):\n",
    "    if n < 1:\n",
    "        raise ValueError(\"引数nには自然数を渡すべきです。\")\n",
    "    #### BEGIN SOLUTION\n",
    "    return [i ** 2 for i in range(1, n + 1)]\n",
    "    ### END SOLUTION"
   ]
  },
  {
   "cell_type": "code",
   "execution_count": null,
   "id": "7a16dfe0",
   "metadata": {
    "code_folding": []
   },
   "outputs": [],
   "source": [
    "# 例えば print(squares(10)) のような文を実行して表示内容を確認してみる\n",
    "print(squares(10))"
   ]
  },
  {
   "cell_type": "code",
   "execution_count": null,
   "id": "ed2e11a7",
   "metadata": {
    "code_folding": [],
    "nbgrader": {
     "grade": true,
     "grade_id": "correct_squares",
     "locked": true,
     "points": 1,
     "schema_version": 3,
     "solution": false,
     "task": false
    }
   },
   "outputs": [],
   "source": [
    "# このセルには何も記入しないでください。\n",
    "### BEGIN HIDDEN TESTS\n",
    "assert squares(1) == [1]\n",
    "assert squares(2) == [1, 4]\n",
    "assert squares(10) == [1, 4, 9, 16, 25, 36, 49, 64, 81, 100]\n",
    "assert squares(11) == [1, 4, 9, 16, 25, 36, 49, 64, 81, 100, 121]\n",
    "### END HIDDEN TESTS"
   ]
  },
  {
   "cell_type": "code",
   "execution_count": null,
   "id": "80d26098",
   "metadata": {
    "code_folding": [],
    "nbgrader": {
     "grade": true,
     "grade_id": "squares_invalid_input",
     "locked": true,
     "points": 0,
     "schema_version": 3,
     "solution": false,
     "task": false
    }
   },
   "outputs": [],
   "source": [
    "# このセルには何も記入しないでください。\n",
    "### BEGIN HIDDEN TESTS\n",
    "try:\n",
    "    squares(0)\n",
    "except ValueError:\n",
    "    pass\n",
    "else:\n",
    "    raise AssertionError(\"did not raise\")\n",
    "\n",
    "try:\n",
    "    squares(-4)\n",
    "except ValueError:\n",
    "    pass\n",
    "else:\n",
    "    raise AssertionError(\"did not raise\")\n",
    "### END HIDDEN TESTS"
   ]
  }
 ],
 "metadata": {
  "celltoolbar": "Create Assignment",
  "kernelspec": {
   "display_name": "Python 3 (ipykernel)",
   "language": "python",
   "name": "python3"
  },
  "language_info": {
   "codemirror_mode": {
    "name": "ipython",
    "version": 3
   },
   "file_extension": ".py",
   "mimetype": "text/x-python",
   "name": "python",
   "nbconvert_exporter": "python",
   "pygments_lexer": "ipython3",
   "version": "3.10.9"
  },
  "toc": {
   "base_numbering": 1,
   "nav_menu": {},
   "number_sections": true,
   "sideBar": true,
   "skip_h1_title": false,
   "title_cell": "Table of Contents",
   "title_sidebar": "Contents",
   "toc_cell": false,
   "toc_position": {},
   "toc_section_display": true,
   "toc_window_display": false
  }
 },
 "nbformat": 4,
 "nbformat_minor": 5
}
