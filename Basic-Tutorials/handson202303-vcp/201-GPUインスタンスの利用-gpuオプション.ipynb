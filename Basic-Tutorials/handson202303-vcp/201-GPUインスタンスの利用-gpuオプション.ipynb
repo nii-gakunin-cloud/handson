{
 "cells": [
  {
   "cell_type": "markdown",
   "metadata": {
    "lc_cell_meme": {
     "current": "6c509dd8-da23-11eb-a657-02420a01000d-2-75c9-51e4",
     "next": "6c509f36-da23-11eb-a657-02420a01000d-2-9eeb-bb5f",
     "previous": null
    }
   },
   "source": [
    "# GPUの利用"
   ]
  },
  {
   "cell_type": "markdown",
   "metadata": {
    "lc_cell_meme": {
     "current": "6c509f36-da23-11eb-a657-02420a01000d-2-9eeb-bb5f",
     "next": "6c50a044-da23-11eb-a657-02420a01000d-2-6784-84eb",
     "previous": "6c509dd8-da23-11eb-a657-02420a01000d-2-75c9-51e4"
    }
   },
   "source": [
    "## GPU利用のために必要となる設定"
   ]
  },
  {
   "cell_type": "markdown",
   "metadata": {
    "lc_cell_meme": {
     "current": "6c50a044-da23-11eb-a657-02420a01000d-2-6784-84eb",
     "next": "6c50a134-da23-11eb-a657-02420a01000d-2-b545-ed30",
     "previous": "6c509f36-da23-11eb-a657-02420a01000d-2-9eeb-bb5f"
    }
   },
   "source": [
    "### インスタンスタイプ、VMサイズ\n",
    "\n",
    "GPUが利用できるEC2インスタンスタイプ(Amazon)、VMサイズ(Microsoft Azure)を指定する必要があります。"
   ]
  },
  {
   "cell_type": "markdown",
   "metadata": {
    "lc_cell_meme": {
     "current": "6c50a134-da23-11eb-a657-02420a01000d-2-b545-ed30",
     "next": "6c50a210-da23-11eb-a657-02420a01000d-2-e8fc-653a",
     "previous": "6c50a044-da23-11eb-a657-02420a01000d-2-6784-84eb"
    }
   },
   "source": [
    "Amazon EC2 であれば、以下のものが候補になります。\n",
    "\n",
    "* [p3インスタンス](https://aws.amazon.com/jp/ec2/instance-types/p3/)\n",
    "* [p2インスタンス](https://aws.amazon.com/jp/ec2/instance-types/p2/)\n",
    "* [g3インスタンス](https://aws.amazon.com/jp/ec2/instance-types/g3/)\n",
    "\n",
    "Microsoft Azure VM であれば、以下のものが候補になります。\n",
    "\n",
    "* [NVシリーズ](https://docs.microsoft.com/ja-jp/azure/virtual-machines/windows/sizes-gpu#nv-series)"
   ]
  },
  {
   "cell_type": "markdown",
   "metadata": {
    "lc_cell_meme": {
     "current": "6c50a210-da23-11eb-a657-02420a01000d-2-e8fc-653a",
     "next": "6c50a2ec-da23-11eb-a657-02420a01000d-2-efab-3325",
     "previous": "6c50a134-da23-11eb-a657-02420a01000d-2-b545-ed30"
    }
   },
   "source": [
    "### ドライバ、ライブラリなど"
   ]
  },
  {
   "cell_type": "markdown",
   "metadata": {
    "lc_cell_meme": {
     "current": "6c50a2ec-da23-11eb-a657-02420a01000d-2-efab-3325",
     "next": "6c50a3d2-da23-11eb-a657-02420a01000d-2-4b42-16e2",
     "previous": "6c50a210-da23-11eb-a657-02420a01000d-2-e8fc-653a"
    }
   },
   "source": [
    "GPUを利用するためには、GPUドライバ、ライブラリなどを準備する必要があります。\n",
    "\n",
    "VCPではGPUドライバなどをVCノードの構成に合わせた形でセットアップしたものを事前に用意してあります。そのため通常のVCノードを利用する場合に`spec`指定を行ったのと同様の手順で、いくつかのパラメータを `spec`に指定するだけでGPUを利用することが出来ます。\n",
    "\n",
    "GPUを利用しない場合（下図左側）と、GPUを利用する場合（下図右側）のVCノードの構成を以下に示します。\n",
    "\n",
    "![GPUコンテナ](images/201-001.png)"
   ]
  },
  {
   "cell_type": "markdown",
   "metadata": {
    "lc_cell_meme": {
     "current": "6c50a3d2-da23-11eb-a657-02420a01000d-2-4b42-16e2",
     "next": "6c50a4ae-da23-11eb-a657-02420a01000d-2-41b7-99f8",
     "previous": "6c50a2ec-da23-11eb-a657-02420a01000d-2-efab-3325"
    }
   },
   "source": [
    "GPUを利用しない場合との違いを以下に示します。\n",
    "* OS（マシンイメージ）に nvidia ドライバをインストールしている\n",
    "* Baseコンテナで[NVIDIA Container Runtime for Docker(nvidia-docker)](https://github.com/NVIDIA/nvidia-docker)を利用できるようにセットアップしている\n",
    "\n",
    "nvidia ドライバはカーネルモジュールになっているため、VMのカーネルバージョンに強く依存しています。そのためnvidiaドライバはBaseコンテナではなくOS（マシンイメージ）にインストールしています。"
   ]
  },
  {
   "cell_type": "markdown",
   "metadata": {
    "lc_cell_meme": {
     "current": "6c50a4ae-da23-11eb-a657-02420a01000d-2-41b7-99f8",
     "next": "6c50a58a-da23-11eb-a657-02420a01000d-2-9107-febc",
     "previous": "6c50a3d2-da23-11eb-a657-02420a01000d-2-4b42-16e2"
    }
   },
   "source": [
    "## 操作手順"
   ]
  },
  {
   "cell_type": "markdown",
   "metadata": {
    "lc_cell_meme": {
     "current": "6c50a58a-da23-11eb-a657-02420a01000d-2-9107-febc",
     "next": "6c50a670-da23-11eb-a657-02420a01000d-2-9aa0-f4c3",
     "previous": "6c50a4ae-da23-11eb-a657-02420a01000d-2-41b7-99f8"
    }
   },
   "source": [
    "この Notebook では以下の操作を行います。\n",
    "\n",
    "1. GPU用のVCノードを起動する\n",
    "1. GPUを利用するアプリケーションコンテナを起動する"
   ]
  },
  {
   "cell_type": "markdown",
   "metadata": {
    "lc_cell_meme": {
     "current": "6c50a670-da23-11eb-a657-02420a01000d-2-9aa0-f4c3",
     "next": "6c50a760-da23-11eb-a657-02420a01000d-2-05a0-cef5",
     "previous": "6c50a58a-da23-11eb-a657-02420a01000d-2-9107-febc"
    }
   },
   "source": [
    "# GPU用VCノードを起動する\n",
    "\n",
    "GPUを利用するために必要となるパラメータを `spec`に指定して、VCノードを起動する。"
   ]
  },
  {
   "cell_type": "markdown",
   "metadata": {
    "lc_cell_meme": {
     "current": "6c50a760-da23-11eb-a657-02420a01000d-2-05a0-cef5",
     "next": "6c50a832-da23-11eb-a657-02420a01000d-2-3e31-86b3",
     "previous": "6c50a670-da23-11eb-a657-02420a01000d-2-9aa0-f4c3"
    }
   },
   "source": [
    "## アクセストークンの入力"
   ]
  },
  {
   "cell_type": "markdown",
   "metadata": {
    "lc_cell_meme": {
     "current": "6c50a832-da23-11eb-a657-02420a01000d-2-3e31-86b3",
     "next": "6c50a904-da23-11eb-a657-02420a01000d-2-cc2c-fc6b",
     "previous": "6c50a760-da23-11eb-a657-02420a01000d-2-05a0-cef5"
    }
   },
   "source": [
    "VCP SDKを利用するにはVC Controllerのアクセストークンが必要となります。次のセルを実行すると入力枠が表示されるのでアクセストークンの値を入力してください。\n",
    "\n",
    "> アクセストークン入力後に Enter キーを押すことで入力が完了します。"
   ]
  },
  {
   "cell_type": "code",
   "execution_count": null,
   "metadata": {
    "lc_cell_meme": {
     "current": "6c50a904-da23-11eb-a657-02420a01000d-2-cc2c-fc6b",
     "next": "6c50a9f4-da23-11eb-a657-02420a01000d-2-dad4-375a",
     "previous": "6c50a832-da23-11eb-a657-02420a01000d-2-3e31-86b3"
    },
    "lc_wrapper": {}
   },
   "outputs": [],
   "source": [
    "from getpass import getpass\n",
    "vcc_access_token = getpass()"
   ]
  },
  {
   "cell_type": "markdown",
   "metadata": {
    "lc_cell_meme": {
     "current": "6c50a9f4-da23-11eb-a657-02420a01000d-2-dad4-375a",
     "next": "6c50aabc-da23-11eb-a657-02420a01000d-2-245a-654a",
     "previous": "6c50a904-da23-11eb-a657-02420a01000d-2-cc2c-fc6b"
    }
   },
   "source": [
    "## VCP SDKの初期化\n",
    "\n",
    "VCP SDKの初期化を行います。"
   ]
  },
  {
   "cell_type": "code",
   "execution_count": null,
   "metadata": {
    "lc_cell_meme": {
     "current": "6c50aabc-da23-11eb-a657-02420a01000d-2-245a-654a",
     "next": "6c50abca-da23-11eb-a657-02420a01000d-2-46ef-c0f3",
     "previous": "6c50a9f4-da23-11eb-a657-02420a01000d-2-dad4-375a"
    },
    "lc_wrapper": {}
   },
   "outputs": [],
   "source": [
    "from common import logsetting\n",
    "from vcpsdk.vcpsdk import VcpSDK\n",
    "\n",
    "# VCの管理オブジェクトの作成\n",
    "vcp = VcpSDK(\n",
    "    vcc_access_token,  # VCCのアクセストークン\n",
    ")"
   ]
  },
  {
   "cell_type": "markdown",
   "metadata": {
    "lc_cell_meme": {
     "current": "6c50abca-da23-11eb-a657-02420a01000d-2-46ef-c0f3",
     "next": "6c50aca6-da23-11eb-a657-02420a01000d-2-a253-a850",
     "previous": "6c50aabc-da23-11eb-a657-02420a01000d-2-245a-654a"
    }
   },
   "source": [
    "上のセルの実行結果がエラーとなり以下のようなメッセージが表示されている場合は、入力されたアクセストークンに誤りがあります。\n",
    "\n",
    "```\n",
    "2018-09-XX XX:XX:XX,XXX - ERROR - config vc failed: http_status(403)\n",
    "2018-09-XX XX:XX:XX,XXX - ERROR - 2018/XX/XX XX:XX:XX UTC: VCPAuthException: xxxxxxx:token lookup is failed: permission denied\n",
    "```\n",
    "\n",
    "この場合はアクセストークンの入力からやり直してください。"
   ]
  },
  {
   "cell_type": "markdown",
   "metadata": {
    "lc_cell_meme": {
     "current": "6c50aca6-da23-11eb-a657-02420a01000d-2-a253-a850",
     "next": "6c50ad96-da23-11eb-a657-02420a01000d-2-47d0-eaa7",
     "previous": "6c50abca-da23-11eb-a657-02420a01000d-2-46ef-c0f3"
    }
   },
   "source": [
    "## VCノードのspecを指定する\n",
    "\n",
    "GPUを利用するVCノードのspecを指定します。"
   ]
  },
  {
   "cell_type": "markdown",
   "metadata": {
    "lc_cell_meme": {
     "current": "6c50ad96-da23-11eb-a657-02420a01000d-2-47d0-eaa7",
     "next": "6c50ae5e-da23-11eb-a657-02420a01000d-2-497e-76b1",
     "previous": "6c50aca6-da23-11eb-a657-02420a01000d-2-a253-a850"
    }
   },
   "source": [
    "### specの取得"
   ]
  },
  {
   "cell_type": "markdown",
   "metadata": {
    "lc_cell_meme": {
     "current": "6c50ae5e-da23-11eb-a657-02420a01000d-2-497e-76b1",
     "next": "6c50af62-da23-11eb-a657-02420a01000d-2-176e-71b6",
     "previous": "6c50ad96-da23-11eb-a657-02420a01000d-2-47d0-eaa7"
    }
   },
   "source": [
    "プロバイダと `flavor`を指定して `spec`オブジェクトを取得します。ここでは以下の値を指定します。\n",
    "\n",
    "* プロバイダ: `aws`\n",
    "* flavor: `gpu`\n",
    "\n",
    "`flavor` に `gpu` を指定することで、GPUが利用できるインスタンスタイプが選択されます。"
   ]
  },
  {
   "cell_type": "code",
   "execution_count": null,
   "metadata": {
    "lc_cell_meme": {
     "current": "6c50af62-da23-11eb-a657-02420a01000d-2-176e-71b6",
     "next": "6c50b03e-da23-11eb-a657-02420a01000d-2-86ad-437d",
     "previous": "6c50ae5e-da23-11eb-a657-02420a01000d-2-497e-76b1"
    },
    "lc_wrapper": {}
   },
   "outputs": [],
   "source": [
    "spec = vcp.get_spec(\n",
    "    'aws',    # プロバイダ\n",
    "    'gpu'  # flavor\n",
    ")"
   ]
  },
  {
   "cell_type": "markdown",
   "metadata": {
    "lc_cell_meme": {
     "current": "6c50b03e-da23-11eb-a657-02420a01000d-2-86ad-437d",
     "next": "6c50b110-da23-11eb-a657-02420a01000d-2-95d5-7d42",
     "previous": "6c50af62-da23-11eb-a657-02420a01000d-2-176e-71b6"
    }
   },
   "source": [
    "GPUを利用するための nvidiaドライバや、GPUコンテナを実行するためのランタイム（[nvidia-docker2](https://github.com/NVIDIA/nvidia-docker)）を準備したVMイメージ、Baseコンテナイメージを `spec` の設定に追加します。"
   ]
  },
  {
   "cell_type": "code",
   "execution_count": null,
   "metadata": {
    "lc_cell_meme": {
     "current": "6c50b110-da23-11eb-a657-02420a01000d-2-95d5-7d42",
     "next": "6c50b1f6-da23-11eb-a657-02420a01000d-2-a28c-ef5b",
     "previous": "6c50b03e-da23-11eb-a657-02420a01000d-2-86ad-437d"
    },
    "lc_wrapper": {}
   },
   "outputs": [],
   "source": [
    "# Baseコンテナイメージの設定\n",
    "spec.image = 'vcp/gpu:1.6.2-gpusopt'\n",
    "# 仮想マシンイメージの設定\n",
    "spec.cloud_image = 'niivcp-gpu-a-21.04.0-r0'"
   ]
  },
  {
   "cell_type": "markdown",
   "metadata": {
    "lc_cell_meme": {
     "current": "6c50b1f6-da23-11eb-a657-02420a01000d-2-a28c-ef5b",
     "next": "6c50b2dc-da23-11eb-a657-02420a01000d-2-8123-22fd",
     "previous": "6c50b110-da23-11eb-a657-02420a01000d-2-95d5-7d42"
    }
   },
   "source": [
    "### sshの鍵ファイルを設定する\n",
    "\n",
    "VCノードにsshでログインするためには事前に公開鍵認証の鍵を登録する必要があります。そのための設定をここで行います。"
   ]
  },
  {
   "cell_type": "markdown",
   "metadata": {
    "lc_cell_meme": {
     "current": "6c50b2dc-da23-11eb-a657-02420a01000d-2-8123-22fd",
     "next": "6c50b3ae-da23-11eb-a657-02420a01000d-2-397b-25b4",
     "previous": "6c50b1f6-da23-11eb-a657-02420a01000d-2-a28c-ef5b"
    }
   },
   "source": [
    "VCノードに登録する公開鍵認証の**公開鍵**のパスを次のセルで指定してください。"
   ]
  },
  {
   "cell_type": "code",
   "execution_count": null,
   "metadata": {
    "lc_cell_meme": {
     "current": "6c50b3ae-da23-11eb-a657-02420a01000d-2-397b-25b4",
     "next": "6c50b48a-da23-11eb-a657-02420a01000d-2-e7af-451a",
     "previous": "6c50b2dc-da23-11eb-a657-02420a01000d-2-8123-22fd"
    },
    "lc_wrapper": {}
   },
   "outputs": [],
   "source": [
    "import os\n",
    "ssh_public_key = os.path.expanduser('~/.ssh/id_rsa.pub')"
   ]
  },
  {
   "cell_type": "markdown",
   "metadata": {
    "lc_cell_meme": {
     "current": "6c50b48a-da23-11eb-a657-02420a01000d-2-e7af-451a",
     "next": "6c50b57a-da23-11eb-a657-02420a01000d-2-e5b6-2548",
     "previous": "6c50b3ae-da23-11eb-a657-02420a01000d-2-397b-25b4"
    }
   },
   "source": [
    "指定した公開鍵を `spec` に設定します。"
   ]
  },
  {
   "cell_type": "code",
   "execution_count": null,
   "metadata": {
    "lc_cell_meme": {
     "current": "6c50b57a-da23-11eb-a657-02420a01000d-2-e5b6-2548",
     "next": "6c50b66a-da23-11eb-a657-02420a01000d-2-0c52-9d78",
     "previous": "6c50b48a-da23-11eb-a657-02420a01000d-2-e7af-451a"
    },
    "lc_wrapper": {},
    "scrolled": false
   },
   "outputs": [],
   "source": [
    "spec.set_ssh_pubkey(ssh_public_key)"
   ]
  },
  {
   "cell_type": "markdown",
   "metadata": {
    "lc_cell_meme": {
     "current": "6c50b66a-da23-11eb-a657-02420a01000d-2-0c52-9d78",
     "next": "6c50b732-da23-11eb-a657-02420a01000d-2-fd08-e490",
     "previous": "6c50b57a-da23-11eb-a657-02420a01000d-2-e5b6-2548"
    }
   },
   "source": [
    "後でVCノードにSSHでログインする際に秘密鍵も必要になるので、ここで設定しておきます。次のセルで**秘密鍵**のパスを指定してください。"
   ]
  },
  {
   "cell_type": "code",
   "execution_count": null,
   "metadata": {
    "lc_cell_meme": {
     "current": "6c50b732-da23-11eb-a657-02420a01000d-2-fd08-e490",
     "next": "6c50b7fa-da23-11eb-a657-02420a01000d-2-1cc4-aaef",
     "previous": "6c50b66a-da23-11eb-a657-02420a01000d-2-0c52-9d78"
    },
    "lc_wrapper": {}
   },
   "outputs": [],
   "source": [
    "ssh_private_key = os.path.expanduser('~/.ssh/id_rsa')"
   ]
  },
  {
   "cell_type": "markdown",
   "metadata": {
    "lc_cell_meme": {
     "current": "6c50b7fa-da23-11eb-a657-02420a01000d-2-1cc4-aaef",
     "next": "6c50b8ea-da23-11eb-a657-02420a01000d-2-7a72-5b8d",
     "previous": "6c50b732-da23-11eb-a657-02420a01000d-2-fd08-e490"
    }
   },
   "source": [
    "公開鍵と秘密鍵が正しいペアであることをチェックします。次のセルを実行してエラーにならないことを確認してください。"
   ]
  },
  {
   "cell_type": "code",
   "execution_count": null,
   "metadata": {
    "lc_cell_meme": {
     "current": "6c50b8ea-da23-11eb-a657-02420a01000d-2-7a72-5b8d",
     "next": "6c50b9d0-da23-11eb-a657-02420a01000d-2-0cb4-32c9",
     "previous": "6c50b7fa-da23-11eb-a657-02420a01000d-2-1cc4-aaef"
    },
    "lc_wrapper": {}
   },
   "outputs": [],
   "source": [
    "!grep -q \"$(ssh-keygen -y -f {ssh_private_key})\" {ssh_public_key}"
   ]
  },
  {
   "cell_type": "markdown",
   "metadata": {
    "lc_cell_meme": {
     "current": "6c50b9d0-da23-11eb-a657-02420a01000d-2-0cb4-32c9",
     "next": "6c50bc50-da23-11eb-a657-02420a01000d-2-bf2f-f72a",
     "previous": "6c50b8ea-da23-11eb-a657-02420a01000d-2-7a72-5b8d"
    }
   },
   "source": [
    "### specの設定内容の確認\n",
    "\n",
    "ここまで `spec` に設定した内容を確認してみます。"
   ]
  },
  {
   "cell_type": "code",
   "execution_count": null,
   "metadata": {
    "lc_cell_meme": {
     "current": "6c50bc50-da23-11eb-a657-02420a01000d-2-bf2f-f72a",
     "next": "6c50bd54-da23-11eb-a657-02420a01000d-2-4835-ab10",
     "previous": "6c50b9d0-da23-11eb-a657-02420a01000d-2-0cb4-32c9"
    },
    "lc_wrapper": {}
   },
   "outputs": [],
   "source": [
    "print(spec)"
   ]
  },
  {
   "cell_type": "markdown",
   "metadata": {
    "lc_cell_meme": {
     "current": "6c50bd54-da23-11eb-a657-02420a01000d-2-4835-ab10",
     "next": "6c50be30-da23-11eb-a657-02420a01000d-2-64ff-dbe4",
     "previous": "6c50bc50-da23-11eb-a657-02420a01000d-2-bf2f-f72a"
    }
   },
   "source": [
    "## VCノードの起動\n",
    "\n",
    "VCノードの起動と、VCノードを操作するためのAnsible設定を行います。"
   ]
  },
  {
   "cell_type": "markdown",
   "metadata": {
    "lc_cell_meme": {
     "current": "6c50be30-da23-11eb-a657-02420a01000d-2-64ff-dbe4",
     "next": "6c50bf16-da23-11eb-a657-02420a01000d-2-ef9a-0ca8",
     "previous": "6c50bd54-da23-11eb-a657-02420a01000d-2-4835-ab10"
    }
   },
   "source": [
    "### Unitの作成とVCノードの起動\n",
    "\n",
    "Unitの作成とVCノードの起動を行います。"
   ]
  },
  {
   "cell_type": "markdown",
   "metadata": {
    "lc_cell_meme": {
     "current": "6c50bf16-da23-11eb-a657-02420a01000d-2-ef9a-0ca8",
     "next": "6c50bfe8-da23-11eb-a657-02420a01000d-2-aa28-44bb",
     "previous": "6c50be30-da23-11eb-a657-02420a01000d-2-64ff-dbe4"
    }
   },
   "source": [
    "まずはUnitGroupを作成します。UnitGroupの名前は `handson201`とします。"
   ]
  },
  {
   "cell_type": "code",
   "execution_count": null,
   "metadata": {
    "lc_cell_meme": {
     "current": "6c50bfe8-da23-11eb-a657-02420a01000d-2-aa28-44bb",
     "next": "6c50c0ce-da23-11eb-a657-02420a01000d-2-2cb8-6cec",
     "previous": "6c50bf16-da23-11eb-a657-02420a01000d-2-ef9a-0ca8"
    },
    "lc_wrapper": {}
   },
   "outputs": [],
   "source": [
    "unit_group = vcp.create_ugroup(\n",
    "    'handson201'                   # UnitGroupの名前\n",
    ")"
   ]
  },
  {
   "cell_type": "markdown",
   "metadata": {
    "lc_cell_meme": {
     "current": "6c50c0ce-da23-11eb-a657-02420a01000d-2-2cb8-6cec",
     "next": "6c50c1a0-da23-11eb-a657-02420a01000d-2-79c0-1c4d",
     "previous": "6c50bfe8-da23-11eb-a657-02420a01000d-2-aa28-44bb"
    }
   },
   "source": [
    "VCノードを起動する前のUnitとVCノードの状態を確認しておきます。"
   ]
  },
  {
   "cell_type": "code",
   "execution_count": null,
   "metadata": {
    "lc_cell_meme": {
     "current": "6c50c1a0-da23-11eb-a657-02420a01000d-2-79c0-1c4d",
     "next": "6c50c29a-da23-11eb-a657-02420a01000d-2-6732-893c",
     "previous": "6c50c0ce-da23-11eb-a657-02420a01000d-2-2cb8-6cec"
    },
    "lc_wrapper": {}
   },
   "outputs": [],
   "source": [
    "from IPython.display import display\n",
    "\n",
    "# Unitの一覧を DataFrame で表示する\n",
    "display(unit_group.df_units())\n",
    "\n",
    "# VCノードの一覧を DataFrame で表示する\n",
    "display(unit_group.df_nodes())"
   ]
  },
  {
   "cell_type": "markdown",
   "metadata": {
    "lc_cell_meme": {
     "current": "6c50c29a-da23-11eb-a657-02420a01000d-2-6732-893c",
     "next": "6c50c380-da23-11eb-a657-02420a01000d-2-9709-8f71",
     "previous": "6c50c1a0-da23-11eb-a657-02420a01000d-2-79c0-1c4d"
    }
   },
   "source": [
    "Unitの作成とVCノードの起動を行います。\n",
    "\n",
    "> 処理が完了するまで2分～7分程度かかります。"
   ]
  },
  {
   "cell_type": "code",
   "execution_count": null,
   "metadata": {
    "lc_cell_meme": {
     "current": "6c50c380-da23-11eb-a657-02420a01000d-2-9709-8f71",
     "next": "6c50c452-da23-11eb-a657-02420a01000d-2-8823-17bd",
     "previous": "6c50c29a-da23-11eb-a657-02420a01000d-2-6732-893c"
    },
    "lc_wrapper": {},
    "scrolled": true
   },
   "outputs": [],
   "source": [
    "# Unitの作成（同時に VCノードが作成される）\n",
    "unit_group.create_unit(\n",
    "    'gpu1',         # Unit名\n",
    "    spec\n",
    ")"
   ]
  },
  {
   "cell_type": "markdown",
   "metadata": {
    "lc_cell_meme": {
     "current": "6c50c452-da23-11eb-a657-02420a01000d-2-8823-17bd",
     "next": "6c50c52e-da23-11eb-a657-02420a01000d-2-7286-7bbe",
     "previous": "6c50c380-da23-11eb-a657-02420a01000d-2-9709-8f71"
    }
   },
   "source": [
    "起動したUnit, VCノードの一覧を表示します。"
   ]
  },
  {
   "cell_type": "code",
   "execution_count": null,
   "metadata": {
    "lc_cell_meme": {
     "current": "6c50c52e-da23-11eb-a657-02420a01000d-2-7286-7bbe",
     "next": "6c50c60a-da23-11eb-a657-02420a01000d-2-0a8a-4ecd",
     "previous": "6c50c452-da23-11eb-a657-02420a01000d-2-8823-17bd"
    },
    "lc_wrapper": {},
    "scrolled": false
   },
   "outputs": [],
   "source": [
    "# Unitの一覧を DataFrame で表示する\n",
    "display(unit_group.df_units())\n",
    "\n",
    "# VCノードの一覧を DataFrame で表示する\n",
    "display(unit_group.df_nodes())"
   ]
  },
  {
   "cell_type": "markdown",
   "metadata": {
    "lc_cell_meme": {
     "current": "6c50c60a-da23-11eb-a657-02420a01000d-2-0a8a-4ecd",
     "next": "6c50c704-da23-11eb-a657-02420a01000d-2-f6c0-847b",
     "previous": "6c50c52e-da23-11eb-a657-02420a01000d-2-7286-7bbe"
    }
   },
   "source": [
    "### 疎通確認\n",
    "\n",
    "起動した VC ノードに SSHでログイン出来ることを確認します。"
   ]
  },
  {
   "cell_type": "markdown",
   "metadata": {
    "lc_cell_meme": {
     "current": "6c50c704-da23-11eb-a657-02420a01000d-2-f6c0-847b",
     "next": "6c50c7d6-da23-11eb-a657-02420a01000d-2-477e-cc0b",
     "previous": "6c50c60a-da23-11eb-a657-02420a01000d-2-0a8a-4ecd"
    }
   },
   "source": [
    "まず、VCノードのIPアドレスを確認します。"
   ]
  },
  {
   "cell_type": "code",
   "execution_count": null,
   "metadata": {
    "lc_cell_meme": {
     "current": "6c50c7d6-da23-11eb-a657-02420a01000d-2-477e-cc0b",
     "next": "6c50c8a8-da23-11eb-a657-02420a01000d-2-fa92-0af3",
     "previous": "6c50c704-da23-11eb-a657-02420a01000d-2-f6c0-847b"
    },
    "lc_wrapper": {}
   },
   "outputs": [],
   "source": [
    "ip_address = unit_group.find_ip_addresses(node_state='RUNNING').pop()\n",
    "print(ip_address)"
   ]
  },
  {
   "cell_type": "markdown",
   "metadata": {
    "lc_cell_meme": {
     "current": "6c50c8a8-da23-11eb-a657-02420a01000d-2-fa92-0af3",
     "next": "6c50c98e-da23-11eb-a657-02420a01000d-2-0ea6-5751",
     "previous": "6c50c7d6-da23-11eb-a657-02420a01000d-2-477e-cc0b"
    }
   },
   "source": [
    "ping による疎通確認を行います。"
   ]
  },
  {
   "cell_type": "code",
   "execution_count": null,
   "metadata": {
    "lc_cell_meme": {
     "current": "6c50c98e-da23-11eb-a657-02420a01000d-2-0ea6-5751",
     "next": "6c50ca74-da23-11eb-a657-02420a01000d-2-49c2-4fd8",
     "previous": "6c50c8a8-da23-11eb-a657-02420a01000d-2-fa92-0af3"
    },
    "lc_wrapper": {}
   },
   "outputs": [],
   "source": [
    "# NIIのハンズオン環境ではネットワーク構成の事情により本NotebookからVCノードへのping実行はできません。\n",
    "# !ping -c 4 {ip_address}"
   ]
  },
  {
   "cell_type": "markdown",
   "metadata": {
    "lc_cell_meme": {
     "current": "6c50ca74-da23-11eb-a657-02420a01000d-2-49c2-4fd8",
     "next": "6c50cb5a-da23-11eb-a657-02420a01000d-2-f7da-f9b8",
     "previous": "6c50c98e-da23-11eb-a657-02420a01000d-2-0ea6-5751"
    }
   },
   "source": [
    "VCノードにSSHでログインする準備としてVCノードのホストキーを ~/.ssh/known_hosts に登録します。"
   ]
  },
  {
   "cell_type": "code",
   "execution_count": null,
   "metadata": {
    "lc_cell_meme": {
     "current": "6c50cb5a-da23-11eb-a657-02420a01000d-2-f7da-f9b8",
     "next": "6c50cc2c-da23-11eb-a657-02420a01000d-2-1973-89ea",
     "previous": "6c50ca74-da23-11eb-a657-02420a01000d-2-49c2-4fd8"
    },
    "lc_wrapper": {}
   },
   "outputs": [],
   "source": [
    "!touch ~/.ssh/known_hosts\n",
    "# ~/.ssh/known_hosts から古いホストキーを削除する\n",
    "!ssh-keygen -R {ip_address}\n",
    "# ~/.ssh/known_hostsにVCノードを登録する\n",
    "!ssh-keyscan -H {ip_address} >> ~/.ssh/known_hosts"
   ]
  },
  {
   "cell_type": "markdown",
   "metadata": {
    "lc_cell_meme": {
     "current": "6c50cc2c-da23-11eb-a657-02420a01000d-2-1973-89ea",
     "next": "6c50cd1c-da23-11eb-a657-02420a01000d-2-18a1-a212",
     "previous": "6c50cb5a-da23-11eb-a657-02420a01000d-2-f7da-f9b8"
    }
   },
   "source": [
    "VCノードにSSHでログインをしてコマンドを実行してみます。"
   ]
  },
  {
   "cell_type": "code",
   "execution_count": null,
   "metadata": {
    "lc_cell_meme": {
     "current": "6c50cd1c-da23-11eb-a657-02420a01000d-2-18a1-a212",
     "next": "6c50cdf8-da23-11eb-a657-02420a01000d-2-4a9d-e2c5",
     "previous": "6c50cc2c-da23-11eb-a657-02420a01000d-2-1973-89ea"
    },
    "lc_wrapper": {}
   },
   "outputs": [],
   "source": [
    "!ssh root@{ip_address} ls -la"
   ]
  },
  {
   "cell_type": "markdown",
   "metadata": {
    "lc_cell_meme": {
     "current": "6c50cdf8-da23-11eb-a657-02420a01000d-2-4a9d-e2c5",
     "next": "6c50ceca-da23-11eb-a657-02420a01000d-2-7cfd-3ed2",
     "previous": "6c50cd1c-da23-11eb-a657-02420a01000d-2-18a1-a212"
    }
   },
   "source": [
    "# GPU環境の確認\n",
    "\n",
    "NVIDIA GPUではGPUデバイスを管理、監視するためのコマンド[nvidia-smi](https://developer.nvidia.com/nvidia-system-management-interface)が提供されています。ここでは、起動したVCノードのGPUに関する状態を取得するために`nvidia-smi`コマンドを実行してみます。"
   ]
  },
  {
   "cell_type": "markdown",
   "metadata": {
    "lc_cell_meme": {
     "current": "6c50ceca-da23-11eb-a657-02420a01000d-2-7cfd-3ed2",
     "next": "6c50cf9c-da23-11eb-a657-02420a01000d-2-8e2a-f430",
     "previous": "6c50cdf8-da23-11eb-a657-02420a01000d-2-4a9d-e2c5"
    }
   },
   "source": [
    "`nvidia-smi` コマンドを利用するとGPU名やドライババージョン、GPUメモリ使用量、GPU使用率、GPUの温度などのGPUに関する情報を取得することができます。`nvidia-smi`コマンドが表示するサマリ情報の例を以下に示します。\n",
    "\n",
    "```\n",
    "+-----------------------------------------------------------------------------+\n",
    "| NVIDIA-SMI 384.130                Driver Version: 384.130                   |\n",
    "|-------------------------------+----------------------+----------------------+\n",
    "| GPU  Name        Persistence-M| Bus-Id        Disp.A | Volatile Uncorr. ECC |\n",
    "| Fan  Temp  Perf  Pwr:Usage/Cap|         Memory-Usage | GPU-Util  Compute M. |\n",
    "|===============================+======================+======================|\n",
    "|   0  Tesla K80           Off  | 00000000:00:1E.0 Off |                    0 |\n",
    "| N/A   51C    P0    59W / 149W |      0MiB / 11439MiB |     96%      Default |\n",
    "+-------------------------------+----------------------+----------------------+\n",
    "                                                                               \n",
    "+-----------------------------------------------------------------------------+\n",
    "| Processes:                                                       GPU Memory |\n",
    "|  GPU       PID   Type   Process name                             Usage      |\n",
    "|=============================================================================|\n",
    "|  No running processes found                                                 |\n",
    "+-----------------------------------------------------------------------------+\n",
    "```"
   ]
  },
  {
   "cell_type": "markdown",
   "metadata": {
    "lc_cell_meme": {
     "current": "6c50cf9c-da23-11eb-a657-02420a01000d-2-8e2a-f430",
     "next": "6c50d08c-da23-11eb-a657-02420a01000d-2-e06c-24fc",
     "previous": "6c50ceca-da23-11eb-a657-02420a01000d-2-7cfd-3ed2"
    }
   },
   "source": [
    "`nvidia-smi`コマンドは[CUDAコンテナ](https://hub.docker.com/r/nvidia/cuda/)の中で実行するので、まずコンテナイメージの取得を行います。\n",
    "\n",
    "> コンテナイメージの取得に１～３分程度かかります。"
   ]
  },
  {
   "cell_type": "code",
   "execution_count": null,
   "metadata": {
    "lc_cell_meme": {
     "current": "6c50d08c-da23-11eb-a657-02420a01000d-2-e06c-24fc",
     "next": "6c50d172-da23-11eb-a657-02420a01000d-2-4c2e-437e",
     "previous": "6c50cf9c-da23-11eb-a657-02420a01000d-2-8e2a-f430"
    },
    "lc_wrapper": {},
    "scrolled": true
   },
   "outputs": [],
   "source": [
    "!ssh root@{ip_address} docker pull nvidia/cuda:8.0-cudnn5-runtime-ubuntu16.04"
   ]
  },
  {
   "cell_type": "markdown",
   "metadata": {
    "lc_cell_meme": {
     "current": "6c50d172-da23-11eb-a657-02420a01000d-2-4c2e-437e",
     "next": "6c50d262-da23-11eb-a657-02420a01000d-2-0695-88e8",
     "previous": "6c50d08c-da23-11eb-a657-02420a01000d-2-e06c-24fc"
    }
   },
   "source": [
    "実際にCUDAコンテナから`nvidia-smi` コマンドを実行してGPUに関するサマリ情報が表示させてみます。\n",
    "\n",
    "> コンテナを実行する際に`docker run`コマンドの引数に`--gpus all`オプションを追加しています。このオプションを指定することで、コンテナ内からGPUを利用するための処理が [nvidia-container-runtime](https://github.com/NVIDIA/nvidia-container-runtime) によって実行されています。"
   ]
  },
  {
   "cell_type": "code",
   "execution_count": null,
   "metadata": {
    "lc_cell_meme": {
     "current": "6c50d262-da23-11eb-a657-02420a01000d-2-0695-88e8",
     "next": "6c50d348-da23-11eb-a657-02420a01000d-2-1d8f-4faa",
     "previous": "6c50d172-da23-11eb-a657-02420a01000d-2-4c2e-437e"
    },
    "lc_wrapper": {}
   },
   "outputs": [],
   "source": [
    "!ssh root@{ip_address} docker run --gpus all --rm \\\n",
    "    nvidia/cuda:8.0-cudnn5-runtime-ubuntu16.04 nvidia-smi"
   ]
  },
  {
   "cell_type": "markdown",
   "metadata": {
    "lc_cell_meme": {
     "current": "6c50d348-da23-11eb-a657-02420a01000d-2-1d8f-4faa",
     "next": "6c50d42e-da23-11eb-a657-02420a01000d-2-aea9-9b88",
     "previous": "6c50d262-da23-11eb-a657-02420a01000d-2-0695-88e8"
    }
   },
   "source": [
    "GPUに関する詳細情報を取得するために `--query`オプションを指定して `nvidia-smi` コマンドを実行してみます。\n",
    "\n",
    "> `nvidia-smi`コマンドの他のオプションについては [nvidia-smi documentation](http://developer.download.nvidia.com/compute/DCGM/docs/nvidia-smi-367.38.pdf)を参照してください。"
   ]
  },
  {
   "cell_type": "code",
   "execution_count": null,
   "metadata": {
    "lc_cell_meme": {
     "current": "6c50d42e-da23-11eb-a657-02420a01000d-2-aea9-9b88",
     "next": "6c50d500-da23-11eb-a657-02420a01000d-2-ff62-0cc7",
     "previous": "6c50d348-da23-11eb-a657-02420a01000d-2-1d8f-4faa"
    },
    "lc_wrapper": {}
   },
   "outputs": [],
   "source": [
    "!ssh root@{ip_address} docker run --gpus all --rm \\\n",
    "    nvidia/cuda:8.0-cudnn5-runtime-ubuntu16.04 nvidia-smi --query"
   ]
  },
  {
   "cell_type": "markdown",
   "metadata": {
    "lc_cell_meme": {
     "current": "6c50d500-da23-11eb-a657-02420a01000d-2-ff62-0cc7",
     "next": "6c50d5fa-da23-11eb-a657-02420a01000d-2-d4af-5a78",
     "previous": "6c50d42e-da23-11eb-a657-02420a01000d-2-aea9-9b88"
    }
   },
   "source": [
    "# GPU環境の利用\n",
    "\n",
    "構築したGPU環境を利用して [OpenPose](https://github.com/CMU-Perceptual-Computing-Lab/openpose) を実行してみます。OpenPoseは画像、動画から人の体、手、顔、および足のキーポイントを検出するシステムです。"
   ]
  },
  {
   "cell_type": "markdown",
   "metadata": {
    "lc_cell_meme": {
     "current": "6c50d5fa-da23-11eb-a657-02420a01000d-2-d4af-5a78",
     "next": "6c50d6d6-da23-11eb-a657-02420a01000d-2-1b67-27c4",
     "previous": "6c50d500-da23-11eb-a657-02420a01000d-2-ff62-0cc7"
    }
   },
   "source": [
    "## 準備\n",
    "\n",
    "起動時のオプションなどを記述した `docker-compose.yml`ファイルをGPU環境に配置します。"
   ]
  },
  {
   "cell_type": "markdown",
   "metadata": {
    "lc_cell_meme": {
     "current": "6c50d6d6-da23-11eb-a657-02420a01000d-2-1b67-27c4",
     "next": "6c50d7a8-da23-11eb-a657-02420a01000d-2-c7b6-d208",
     "previous": "6c50d5fa-da23-11eb-a657-02420a01000d-2-d4af-5a78"
    }
   },
   "source": [
    "OpenPoseのコンテナイメージを作成するための`Dockerfile`とコンテナを起動する際のオプションなどを記述した `run.sh` をGPU環境に配置します。"
   ]
  },
  {
   "cell_type": "code",
   "execution_count": null,
   "metadata": {
    "lc_cell_meme": {
     "current": "6c50d7a8-da23-11eb-a657-02420a01000d-2-c7b6-d208",
     "next": "6c50d88e-da23-11eb-a657-02420a01000d-2-54cf-5d1f",
     "previous": "6c50d6d6-da23-11eb-a657-02420a01000d-2-1b67-27c4"
    },
    "lc_wrapper": {},
    "scrolled": true
   },
   "outputs": [],
   "source": [
    "!scp -r openpose/ root@{ip_address}:."
   ]
  },
  {
   "cell_type": "markdown",
   "metadata": {
    "lc_cell_meme": {
     "current": "6c50d88e-da23-11eb-a657-02420a01000d-2-54cf-5d1f",
     "next": "6c50d988-da23-11eb-a657-02420a01000d-2-e5c4-72da",
     "previous": "6c50d7a8-da23-11eb-a657-02420a01000d-2-c7b6-d208"
    }
   },
   "source": [
    "## OpenPoseコンテナのビルド（取得）と実行\n",
    "\n",
    "[OpenPose](https://github.com/CMU-Perceptual-Computing-Lab/openpose)をアプリケーションコンテナとして実行します。"
   ]
  },
  {
   "cell_type": "code",
   "execution_count": null,
   "metadata": {
    "lc_cell_meme": {
     "current": "6c50d988-da23-11eb-a657-02420a01000d-2-e5c4-72da",
     "next": "6c50da6e-da23-11eb-a657-02420a01000d-2-8163-ee73",
     "previous": "6c50d88e-da23-11eb-a657-02420a01000d-2-54cf-5d1f"
    },
    "lc_wrapper": {}
   },
   "outputs": [],
   "source": [
    "!ssh root@{ip_address} 'cat openpose/run.sh'"
   ]
  },
  {
   "cell_type": "code",
   "execution_count": null,
   "metadata": {
    "lc_cell_meme": {
     "current": "6c50da6e-da23-11eb-a657-02420a01000d-2-8163-ee73",
     "next": "6c50dd16-da23-11eb-a657-02420a01000d-2-8c67-a469",
     "previous": "6c50d988-da23-11eb-a657-02420a01000d-2-e5c4-72da"
    },
    "lc_wrapper": {},
    "scrolled": true
   },
   "outputs": [],
   "source": [
    "#!ssh root@{ip_address} 'cd openpose && docker-compose up -d'\n",
    "!ssh root@{ip_address} 'cd openpose && sh run.sh'"
   ]
  },
  {
   "cell_type": "markdown",
   "metadata": {
    "lc_cell_meme": {
     "current": "6c50dd16-da23-11eb-a657-02420a01000d-2-8c67-a469",
     "next": "6c50db4a-da23-11eb-a657-02420a01000d-2-dbd6-1308",
     "previous": "6c50da6e-da23-11eb-a657-02420a01000d-2-8163-ee73"
    }
   },
   "source": [
    "コンテナが起動されたことを確認します。次のセルを実行して`State`が `Up` と表示されていればコンテナの起動に成功しています。"
   ]
  },
  {
   "cell_type": "code",
   "execution_count": null,
   "metadata": {
    "lc_cell_meme": {
     "current": "6c50db4a-da23-11eb-a657-02420a01000d-2-dbd6-1308",
     "next": "6c50ddf2-da23-11eb-a657-02420a01000d-2-2be3-ccb7",
     "previous": "6c50dd16-da23-11eb-a657-02420a01000d-2-8c67-a469"
    },
    "lc_wrapper": {},
    "scrolled": false
   },
   "outputs": [],
   "source": [
    "!ssh root@{ip_address} 'docker ps'"
   ]
  },
  {
   "cell_type": "markdown",
   "metadata": {
    "lc_cell_meme": {
     "current": "6c50ddf2-da23-11eb-a657-02420a01000d-2-2be3-ccb7",
     "next": "6c50ded8-da23-11eb-a657-02420a01000d-2-15da-6c8a",
     "previous": "6c50db4a-da23-11eb-a657-02420a01000d-2-dbd6-1308"
    }
   },
   "source": [
    "## OpenPoseの利用"
   ]
  },
  {
   "cell_type": "markdown",
   "metadata": {
    "lc_cell_meme": {
     "current": "6c50ded8-da23-11eb-a657-02420a01000d-2-15da-6c8a",
     "next": "6c50dfbe-da23-11eb-a657-02420a01000d-2-2aa9-242a",
     "previous": "6c50ddf2-da23-11eb-a657-02420a01000d-2-2be3-ccb7"
    }
   },
   "source": [
    "### サンプルの画像を処理する\n",
    "\n",
    "OpenPoseのサンプル画像を処理してみます。"
   ]
  },
  {
   "cell_type": "markdown",
   "metadata": {
    "lc_cell_meme": {
     "current": "6c50dfbe-da23-11eb-a657-02420a01000d-2-2aa9-242a",
     "next": "6c50e0a4-da23-11eb-a657-02420a01000d-2-e964-a98b",
     "previous": "6c50ded8-da23-11eb-a657-02420a01000d-2-15da-6c8a"
    }
   },
   "source": [
    "まず処理前のファイルを格納するディレクトリを作成します。"
   ]
  },
  {
   "cell_type": "code",
   "execution_count": null,
   "metadata": {
    "lc_cell_meme": {
     "current": "6c50e0a4-da23-11eb-a657-02420a01000d-2-e964-a98b",
     "next": "6c50e194-da23-11eb-a657-02420a01000d-2-5cd2-3742",
     "previous": "6c50dfbe-da23-11eb-a657-02420a01000d-2-2aa9-242a"
    },
    "lc_wrapper": {}
   },
   "outputs": [],
   "source": [
    "result_dir = './openpose_result'\n",
    "!mkdir -p {result_dir}"
   ]
  },
  {
   "cell_type": "markdown",
   "metadata": {
    "lc_cell_meme": {
     "current": "6c50e194-da23-11eb-a657-02420a01000d-2-5cd2-3742",
     "next": "6c50e266-da23-11eb-a657-02420a01000d-2-75d5-cf8b",
     "previous": "6c50e0a4-da23-11eb-a657-02420a01000d-2-e964-a98b"
    }
   },
   "source": [
    "処理前のファイルを取得します。"
   ]
  },
  {
   "cell_type": "code",
   "execution_count": null,
   "metadata": {
    "lc_cell_meme": {
     "current": "6c50e266-da23-11eb-a657-02420a01000d-2-75d5-cf8b",
     "next": "6c50e356-da23-11eb-a657-02420a01000d-2-0bfe-e78e",
     "previous": "6c50e194-da23-11eb-a657-02420a01000d-2-5cd2-3742"
    },
    "lc_wrapper": {},
    "scrolled": true
   },
   "outputs": [],
   "source": [
    "!ssh root@{ip_address} \\\n",
    "    'cd openpose && docker cp openpose:/root/openpose/examples/media .'\n",
    "!scp -r root@{ip_address}:openpose/media {result_dir}"
   ]
  },
  {
   "cell_type": "markdown",
   "metadata": {
    "lc_cell_meme": {
     "current": "6c50e356-da23-11eb-a657-02420a01000d-2-0bfe-e78e",
     "next": "6c50e41e-da23-11eb-a657-02420a01000d-2-9387-6f85",
     "previous": "6c50e266-da23-11eb-a657-02420a01000d-2-75d5-cf8b"
    }
   },
   "source": [
    "処理前の画像を１つ表示させてみます。"
   ]
  },
  {
   "cell_type": "code",
   "execution_count": null,
   "metadata": {
    "lc_cell_meme": {
     "current": "6c50e41e-da23-11eb-a657-02420a01000d-2-9387-6f85",
     "next": "6c50e50e-da23-11eb-a657-02420a01000d-2-3dae-cee6",
     "previous": "6c50e356-da23-11eb-a657-02420a01000d-2-0bfe-e78e"
    },
    "lc_wrapper": {}
   },
   "outputs": [],
   "source": [
    "from IPython.display import Image\n",
    "Image(filename='openpose_result/media/COCO_val2014_000000000192.jpg')"
   ]
  },
  {
   "cell_type": "markdown",
   "metadata": {
    "lc_cell_meme": {
     "current": "6c50e50e-da23-11eb-a657-02420a01000d-2-3dae-cee6",
     "next": "6c50e5e0-da23-11eb-a657-02420a01000d-2-17e7-bc64",
     "previous": "6c50e41e-da23-11eb-a657-02420a01000d-2-9387-6f85"
    }
   },
   "source": [
    "[処理前の画像](./openpose_result/media/)のリンクから他の画像を確認することもできます。"
   ]
  },
  {
   "cell_type": "markdown",
   "metadata": {
    "lc_cell_meme": {
     "current": "6c50e5e0-da23-11eb-a657-02420a01000d-2-17e7-bc64",
     "next": "6c50e6c6-da23-11eb-a657-02420a01000d-2-d49a-7dbf",
     "previous": "6c50e50e-da23-11eb-a657-02420a01000d-2-3dae-cee6"
    }
   },
   "source": [
    "OpenPoseで画像の処理を行います。"
   ]
  },
  {
   "cell_type": "code",
   "execution_count": null,
   "metadata": {
    "lc_cell_meme": {
     "current": "6c50e6c6-da23-11eb-a657-02420a01000d-2-d49a-7dbf",
     "next": "6c50e7a2-da23-11eb-a657-02420a01000d-2-ad1e-e0c2",
     "previous": "6c50e5e0-da23-11eb-a657-02420a01000d-2-17e7-bc64"
    },
    "lc_wrapper": {}
   },
   "outputs": [],
   "source": [
    "!ssh root@{ip_address} 'docker exec -t openpose \\\n",
    "    build/examples/openpose/openpose.bin --display 0 \\\n",
    "    --image_dir examples/media --write_images /root/result \\\n",
    "    --write_images_format jpg'"
   ]
  },
  {
   "cell_type": "markdown",
   "metadata": {
    "lc_cell_meme": {
     "current": "6c50e7a2-da23-11eb-a657-02420a01000d-2-ad1e-e0c2",
     "next": "6c50e87e-da23-11eb-a657-02420a01000d-2-eeed-c0da",
     "previous": "6c50e6c6-da23-11eb-a657-02420a01000d-2-d49a-7dbf"
    }
   },
   "source": [
    "処理後のファイルを取得します。"
   ]
  },
  {
   "cell_type": "code",
   "execution_count": null,
   "metadata": {
    "lc_cell_meme": {
     "current": "6c50e87e-da23-11eb-a657-02420a01000d-2-eeed-c0da",
     "next": "6c50e96e-da23-11eb-a657-02420a01000d-2-3818-520f",
     "previous": "6c50e7a2-da23-11eb-a657-02420a01000d-2-ad1e-e0c2"
    },
    "lc_wrapper": {},
    "scrolled": true
   },
   "outputs": [],
   "source": [
    "!scp -r root@{ip_address}:openpose/result {result_dir}"
   ]
  },
  {
   "cell_type": "markdown",
   "metadata": {
    "lc_cell_meme": {
     "current": "6c50e96e-da23-11eb-a657-02420a01000d-2-3818-520f",
     "next": "6c50ea40-da23-11eb-a657-02420a01000d-2-ca4b-3370",
     "previous": "6c50e87e-da23-11eb-a657-02420a01000d-2-eeed-c0da"
    }
   },
   "source": [
    "OpenPoseで処理した画像を１枚表示させてみます。"
   ]
  },
  {
   "cell_type": "code",
   "execution_count": null,
   "metadata": {
    "lc_cell_meme": {
     "current": "6c50ea40-da23-11eb-a657-02420a01000d-2-ca4b-3370",
     "next": "6c50eb26-da23-11eb-a657-02420a01000d-2-1931-ba91",
     "previous": "6c50e96e-da23-11eb-a657-02420a01000d-2-3818-520f"
    },
    "lc_wrapper": {}
   },
   "outputs": [],
   "source": [
    "Image(filename='openpose_result/result/COCO_val2014_000000000192_rendered.jpg')"
   ]
  },
  {
   "cell_type": "markdown",
   "metadata": {
    "lc_cell_meme": {
     "current": "6c50eb26-da23-11eb-a657-02420a01000d-2-1931-ba91",
     "next": "6c50ec02-da23-11eb-a657-02420a01000d-2-6047-494e",
     "previous": "6c50ea40-da23-11eb-a657-02420a01000d-2-ca4b-3370"
    }
   },
   "source": [
    "[処理結果](./openpose_result/result/)のリンクから他の処理結果の画像を確認することもできます。"
   ]
  },
  {
   "cell_type": "markdown",
   "metadata": {
    "lc_cell_meme": {
     "current": "6c50ec02-da23-11eb-a657-02420a01000d-2-6047-494e",
     "next": "6c50ece8-da23-11eb-a657-02420a01000d-2-b311-7333",
     "previous": "6c50eb26-da23-11eb-a657-02420a01000d-2-1931-ba91"
    }
   },
   "source": [
    "### サンプルの動画を処理する"
   ]
  },
  {
   "cell_type": "markdown",
   "metadata": {
    "lc_cell_meme": {
     "current": "6c50ece8-da23-11eb-a657-02420a01000d-2-b311-7333",
     "next": "6c50ede2-da23-11eb-a657-02420a01000d-2-5615-8c21",
     "previous": "6c50ec02-da23-11eb-a657-02420a01000d-2-6047-494e"
    }
   },
   "source": [
    "[処理前の動画](./openpose_result/media/video.avi)を確認します。"
   ]
  },
  {
   "cell_type": "code",
   "execution_count": null,
   "metadata": {
    "lc_cell_meme": {
     "current": "6c50ede2-da23-11eb-a657-02420a01000d-2-5615-8c21",
     "next": "6c50eec8-da23-11eb-a657-02420a01000d-2-1503-78fe",
     "previous": "6c50ece8-da23-11eb-a657-02420a01000d-2-b311-7333"
    },
    "lc_wrapper": {},
    "scrolled": true
   },
   "outputs": [],
   "source": [
    "from IPython.display import HTML\n",
    "\n",
    "HTML(\"\"\"<video style=\"max-width: 100%;\" controls>\n",
    "  <source src=\"openpose_result/media/video.avi\" />\n",
    "</video>\n",
    "\"\"\")\n"
   ]
  },
  {
   "cell_type": "markdown",
   "metadata": {
    "lc_cell_meme": {
     "current": "6c50eec8-da23-11eb-a657-02420a01000d-2-1503-78fe",
     "next": "6c50efc2-da23-11eb-a657-02420a01000d-2-bc1d-a2bb",
     "previous": "6c50ede2-da23-11eb-a657-02420a01000d-2-5615-8c21"
    }
   },
   "source": [
    "OpenPoseのサンプル動画を処理してみます。\n",
    "\n",
    "> 処理には30秒程度かかります。"
   ]
  },
  {
   "cell_type": "code",
   "execution_count": null,
   "metadata": {
    "lc_cell_meme": {
     "current": "6c50efc2-da23-11eb-a657-02420a01000d-2-bc1d-a2bb",
     "next": "6c50f0a8-da23-11eb-a657-02420a01000d-2-a36a-68d3",
     "previous": "6c50eec8-da23-11eb-a657-02420a01000d-2-1503-78fe"
    },
    "lc_wrapper": {}
   },
   "outputs": [],
   "source": [
    "!ssh root@{ip_address} 'docker exec -t openpose \\\n",
    "    build/examples/openpose/openpose.bin --display 0 \\\n",
    "    --video /root/openpose/examples/media/video.avi --write_video /root/result/result.avi'"
   ]
  },
  {
   "cell_type": "markdown",
   "metadata": {
    "lc_cell_meme": {
     "current": "6c50f0a8-da23-11eb-a657-02420a01000d-2-a36a-68d3",
     "next": "6c50f170-da23-11eb-a657-02420a01000d-2-9b42-177c",
     "previous": "6c50efc2-da23-11eb-a657-02420a01000d-2-bc1d-a2bb"
    }
   },
   "source": [
    "処理結果のファイルを取得します。"
   ]
  },
  {
   "cell_type": "code",
   "execution_count": null,
   "metadata": {
    "lc_cell_meme": {
     "current": "6c50f170-da23-11eb-a657-02420a01000d-2-9b42-177c",
     "next": "6c50f256-da23-11eb-a657-02420a01000d-2-4832-414e",
     "previous": "6c50f0a8-da23-11eb-a657-02420a01000d-2-a36a-68d3"
    },
    "lc_wrapper": {},
    "scrolled": true
   },
   "outputs": [],
   "source": [
    "!scp -r root@{ip_address}:openpose/result {result_dir}"
   ]
  },
  {
   "cell_type": "markdown",
   "metadata": {
    "lc_cell_meme": {
     "current": "6c50f256-da23-11eb-a657-02420a01000d-2-4832-414e",
     "next": "6c50f350-da23-11eb-a657-02420a01000d-2-cc9e-a856",
     "previous": "6c50f170-da23-11eb-a657-02420a01000d-2-9b42-177c"
    }
   },
   "source": [
    "処理後の動画を確認します。"
   ]
  },
  {
   "cell_type": "code",
   "execution_count": null,
   "metadata": {
    "lc_cell_meme": {
     "current": "6c50f350-da23-11eb-a657-02420a01000d-2-cc9e-a856",
     "next": "6c50f42c-da23-11eb-a657-02420a01000d-2-ef35-b2b9",
     "previous": "6c50f256-da23-11eb-a657-02420a01000d-2-4832-414e"
    },
    "lc_wrapper": {},
    "scrolled": true
   },
   "outputs": [],
   "source": [
    "# Notebookに埋め込んで再生する場合に、aviだと再生に失敗するが、mp4に変換すると再生できる。\n",
    "# mp4に変換\n",
    "!ffmpeg -i openpose_result/result/result.avi openpose_result/result/result.mp4"
   ]
  },
  {
   "cell_type": "code",
   "execution_count": null,
   "metadata": {
    "lc_cell_meme": {
     "current": "6c50f42c-da23-11eb-a657-02420a01000d-2-ef35-b2b9",
     "next": "6c50f512-da23-11eb-a657-02420a01000d-2-56be-1977",
     "previous": "6c50f350-da23-11eb-a657-02420a01000d-2-cc9e-a856"
    },
    "lc_wrapper": {}
   },
   "outputs": [],
   "source": [
    "from IPython.display import HTML\n",
    "\n",
    "HTML(\"\"\"<video style=\"width: 100%;\" controls>\n",
    "  <source src=\"openpose_result/result/result.mp4\" />\n",
    "</video>\n",
    "\"\"\")\n"
   ]
  },
  {
   "cell_type": "markdown",
   "metadata": {
    "lc_cell_meme": {
     "current": "6c50f512-da23-11eb-a657-02420a01000d-2-56be-1977",
     "next": "6c50f5e4-da23-11eb-a657-02420a01000d-2-b2de-0e3a",
     "previous": "6c50f42c-da23-11eb-a657-02420a01000d-2-ef35-b2b9"
    }
   },
   "source": [
    "上記で見られない場合は、[処理後の動画 (result.avi)](./openpose_result/result/result.avi)をダウンロードして確認します。"
   ]
  },
  {
   "cell_type": "markdown",
   "metadata": {
    "lc_cell_meme": {
     "current": "6c50f5e4-da23-11eb-a657-02420a01000d-2-b2de-0e3a",
     "next": "6c50f6ca-da23-11eb-a657-02420a01000d-2-3228-2c28",
     "previous": "6c50f512-da23-11eb-a657-02420a01000d-2-56be-1977"
    }
   },
   "source": [
    "### GrafanaでVCノードの利用状況を確認する\n",
    "\n",
    "GrafanaでVCノードの利用状況を確認してみます。"
   ]
  },
  {
   "cell_type": "code",
   "execution_count": null,
   "metadata": {
    "lc_cell_meme": {
     "current": "6c50f6ca-da23-11eb-a657-02420a01000d-2-3228-2c28",
     "next": "6c50f7ba-da23-11eb-a657-02420a01000d-2-8d8a-aca2",
     "previous": "6c50f5e4-da23-11eb-a657-02420a01000d-2-b2de-0e3a"
    },
    "lc_wrapper": {}
   },
   "outputs": [],
   "source": [
    "vcc_ctr = vcp.vcc_info()['host']\n",
    "http_host = vcc_ctr.split(':')[0]\n",
    "grafana_url = \"https://{}/grafana/d/vcp/vcp-metrics?refresh=5s\".format(http_host)\n",
    "print(grafana_url)"
   ]
  },
  {
   "cell_type": "markdown",
   "metadata": {
    "lc_cell_meme": {
     "current": "6c50f7ba-da23-11eb-a657-02420a01000d-2-8d8a-aca2",
     "next": "6c50f88c-da23-11eb-a657-02420a01000d-2-ab4c-6bd2",
     "previous": "6c50f6ca-da23-11eb-a657-02420a01000d-2-3228-2c28"
    }
   },
   "source": [
    "> ログインするためのユーザ、パスワードは `admin`/`admin` です。"
   ]
  },
  {
   "cell_type": "markdown",
   "metadata": {
    "lc_cell_meme": {
     "current": "6c50f88c-da23-11eb-a657-02420a01000d-2-ab4c-6bd2",
     "next": "6c50f986-da23-11eb-a657-02420a01000d-2-c6c2-ade5",
     "previous": "6c50f7ba-da23-11eb-a657-02420a01000d-2-8d8a-aca2"
    }
   },
   "source": [
    "### インターネット上の画像を処理する\n",
    "\n",
    "インターネット上の画像を処理してみます。"
   ]
  },
  {
   "cell_type": "markdown",
   "metadata": {
    "lc_cell_meme": {
     "current": "6c50f986-da23-11eb-a657-02420a01000d-2-c6c2-ade5",
     "next": "6c50fa58-da23-11eb-a657-02420a01000d-2-5b48-838f",
     "previous": "6c50f88c-da23-11eb-a657-02420a01000d-2-ab4c-6bd2"
    }
   },
   "source": [
    "処理対象となる画像の URL のリストを設定してください。"
   ]
  },
  {
   "cell_type": "code",
   "execution_count": null,
   "metadata": {
    "lc_cell_meme": {
     "current": "6c50fa58-da23-11eb-a657-02420a01000d-2-5b48-838f",
     "next": "6c50fb5c-da23-11eb-a657-02420a01000d-2-5ff6-c1e3",
     "previous": "6c50f986-da23-11eb-a657-02420a01000d-2-c6c2-ade5"
    },
    "lc_wrapper": {}
   },
   "outputs": [],
   "source": [
    "image_urls = [\n",
    "# (例)\n",
    "#    'http://www.example.com/sample.jpg',\n",
    "]"
   ]
  },
  {
   "cell_type": "markdown",
   "metadata": {
    "lc_cell_meme": {
     "current": "6c50fb5c-da23-11eb-a657-02420a01000d-2-5ff6-c1e3",
     "next": "6c50fc38-da23-11eb-a657-02420a01000d-2-8f15-b62d",
     "previous": "6c50fa58-da23-11eb-a657-02420a01000d-2-5b48-838f"
    }
   },
   "source": [
    "処理対象の画像ファイルをOpenPoseコンテナに配置します。"
   ]
  },
  {
   "cell_type": "code",
   "execution_count": null,
   "metadata": {
    "lc_cell_meme": {
     "current": "6c50fc38-da23-11eb-a657-02420a01000d-2-8f15-b62d",
     "next": "6c50fd28-da23-11eb-a657-02420a01000d-2-32ca-9008",
     "previous": "6c50fb5c-da23-11eb-a657-02420a01000d-2-5ff6-c1e3"
    },
    "lc_wrapper": {}
   },
   "outputs": [],
   "source": [
    "for url in image_urls:\n",
    "    !ssh root@{ip_address} 'cd openpose/data && curl -O {url}'"
   ]
  },
  {
   "cell_type": "markdown",
   "metadata": {
    "lc_cell_meme": {
     "current": "6c50fd28-da23-11eb-a657-02420a01000d-2-32ca-9008",
     "next": "6c50fdfa-da23-11eb-a657-02420a01000d-2-eeff-dda9",
     "previous": "6c50fc38-da23-11eb-a657-02420a01000d-2-8f15-b62d"
    }
   },
   "source": [
    "OpenPoseの処理を実行します。"
   ]
  },
  {
   "cell_type": "code",
   "execution_count": null,
   "metadata": {
    "lc_cell_meme": {
     "current": "6c50fdfa-da23-11eb-a657-02420a01000d-2-eeff-dda9",
     "next": "6c50fed6-da23-11eb-a657-02420a01000d-2-9b07-9f73",
     "previous": "6c50fd28-da23-11eb-a657-02420a01000d-2-32ca-9008"
    },
    "lc_wrapper": {}
   },
   "outputs": [],
   "source": [
    "if len(image_urls) > 0:\n",
    "    !ssh root@{ip_address} 'docker exec -t openpose \\\n",
    "        build/examples/openpose/openpose.bin --display 0 \\\n",
    "        --image_dir /root/data/ --write_images /root/result2'"
   ]
  },
  {
   "cell_type": "markdown",
   "metadata": {
    "lc_cell_meme": {
     "current": "6c50fed6-da23-11eb-a657-02420a01000d-2-9b07-9f73",
     "next": "6c50ffc6-da23-11eb-a657-02420a01000d-2-fb9e-6f48",
     "previous": "6c50fdfa-da23-11eb-a657-02420a01000d-2-eeff-dda9"
    }
   },
   "source": [
    "処理結果のファイルを取得します。"
   ]
  },
  {
   "cell_type": "code",
   "execution_count": null,
   "metadata": {
    "lc_cell_meme": {
     "current": "6c50ffc6-da23-11eb-a657-02420a01000d-2-fb9e-6f48",
     "next": "6c510098-da23-11eb-a657-02420a01000d-2-ccdf-2da0",
     "previous": "6c50fed6-da23-11eb-a657-02420a01000d-2-9b07-9f73"
    },
    "lc_wrapper": {}
   },
   "outputs": [],
   "source": [
    "!scp -r root@{ip_address}:openpose/result2 {result_dir}"
   ]
  },
  {
   "cell_type": "markdown",
   "metadata": {
    "lc_cell_meme": {
     "current": "6c510098-da23-11eb-a657-02420a01000d-2-ccdf-2da0",
     "next": "6c510174-da23-11eb-a657-02420a01000d-2-5da0-8c83",
     "previous": "6c50ffc6-da23-11eb-a657-02420a01000d-2-fb9e-6f48"
    }
   },
   "source": [
    "[処理結果](./openpose_result/result2)を確認します。"
   ]
  },
  {
   "cell_type": "markdown",
   "metadata": {
    "lc_cell_meme": {
     "current": "6c510174-da23-11eb-a657-02420a01000d-2-5da0-8c83",
     "next": "6c510250-da23-11eb-a657-02420a01000d-2-31c0-7454",
     "previous": "6c510098-da23-11eb-a657-02420a01000d-2-ccdf-2da0"
    }
   },
   "source": [
    "# 後始末"
   ]
  },
  {
   "cell_type": "markdown",
   "metadata": {
    "lc_cell_meme": {
     "current": "6c510250-da23-11eb-a657-02420a01000d-2-31c0-7454",
     "next": "6c51034a-da23-11eb-a657-02420a01000d-2-3bd7-b381",
     "previous": "6c510174-da23-11eb-a657-02420a01000d-2-5da0-8c83"
    }
   },
   "source": [
    "ビルドしたOpenPoseのイメージをプライベートレジストリに格納する場合は、次のセルのコメントを削除して実行してください。\n",
    "\n",
    "> 完了するまで2分程度かかります。"
   ]
  },
  {
   "cell_type": "code",
   "execution_count": null,
   "metadata": {
    "lc_cell_meme": {
     "current": "6c51034a-da23-11eb-a657-02420a01000d-2-3bd7-b381",
     "next": "6c51041c-da23-11eb-a657-02420a01000d-2-fc53-a14b",
     "previous": "6c510250-da23-11eb-a657-02420a01000d-2-31c0-7454"
    },
    "lc_wrapper": {}
   },
   "outputs": [],
   "source": [
    "# !ssh root@{ip_address} 'cd openpose && docker-compose push'"
   ]
  },
  {
   "cell_type": "markdown",
   "metadata": {
    "lc_cell_meme": {
     "current": "6c51041c-da23-11eb-a657-02420a01000d-2-fc53-a14b",
     "next": "6c5104e4-da23-11eb-a657-02420a01000d-2-8dc0-a018",
     "previous": "6c51034a-da23-11eb-a657-02420a01000d-2-3bd7-b381"
    }
   },
   "source": [
    "全てのリソースを削除します。\n",
    "\n",
    "> 処理が完了するまで1分～2分程度かかります。"
   ]
  },
  {
   "cell_type": "code",
   "execution_count": null,
   "metadata": {
    "lc_cell_meme": {
     "current": "6c5104e4-da23-11eb-a657-02420a01000d-2-8dc0-a018",
     "next": "6c5105de-da23-11eb-a657-02420a01000d-2-1cdb-a6fd",
     "previous": "6c51041c-da23-11eb-a657-02420a01000d-2-fc53-a14b"
    },
    "lc_wrapper": {}
   },
   "outputs": [],
   "source": [
    "unit_group.cleanup()"
   ]
  },
  {
   "cell_type": "markdown",
   "metadata": {
    "lc_cell_meme": {
     "current": "6c5105de-da23-11eb-a657-02420a01000d-2-1cdb-a6fd",
     "next": "6c5106b0-da23-11eb-a657-02420a01000d-2-430a-82c7",
     "previous": "6c5104e4-da23-11eb-a657-02420a01000d-2-8dc0-a018"
    }
   },
   "source": [
    "ビルドのログがある場合は削除します。"
   ]
  },
  {
   "cell_type": "code",
   "execution_count": null,
   "metadata": {
    "lc_cell_meme": {
     "current": "6c5106b0-da23-11eb-a657-02420a01000d-2-430a-82c7",
     "next": "6c51078c-da23-11eb-a657-02420a01000d-2-652c-ae4c",
     "previous": "6c5105de-da23-11eb-a657-02420a01000d-2-1cdb-a6fd"
    },
    "lc_wrapper": {}
   },
   "outputs": [],
   "source": [
    "if 'log_file' in locals():\n",
    "    !rm -f {log_file[1]}"
   ]
  },
  {
   "cell_type": "markdown",
   "metadata": {
    "lc_cell_meme": {
     "current": "6c51078c-da23-11eb-a657-02420a01000d-2-652c-ae4c",
     "next": "6c510868-da23-11eb-a657-02420a01000d-2-279c-9a48",
     "previous": "6c5106b0-da23-11eb-a657-02420a01000d-2-430a-82c7"
    }
   },
   "source": [
    "取得した画像ファイルなどを削除します。"
   ]
  },
  {
   "cell_type": "code",
   "execution_count": null,
   "metadata": {
    "lc_cell_meme": {
     "current": "6c510868-da23-11eb-a657-02420a01000d-2-279c-9a48",
     "next": "6c510944-da23-11eb-a657-02420a01000d-2-b654-1c24",
     "previous": "6c51078c-da23-11eb-a657-02420a01000d-2-652c-ae4c"
    },
    "lc_wrapper": {}
   },
   "outputs": [],
   "source": [
    "!rm -rf {result_dir}"
   ]
  },
  {
   "cell_type": "code",
   "execution_count": null,
   "metadata": {
    "lc_cell_meme": {
     "current": "6c510944-da23-11eb-a657-02420a01000d-2-b654-1c24",
     "next": null,
     "previous": "6c510868-da23-11eb-a657-02420a01000d-2-279c-9a48"
    }
   },
   "outputs": [],
   "source": []
  }
 ],
 "metadata": {
  "kernelspec": {
   "display_name": "Python 3",
   "language": "python",
   "name": "python3"
  },
  "language_info": {
   "file_extension": ".py",
   "mimetype": "text/x-python",
   "name": "python",
   "nbconvert_exporter": "python",
   "pygments_lexer": "ipython3",
   "version": "3.9.7"
  },
  "toc": {
   "base_numbering": 1,
   "nav_menu": {},
   "number_sections": true,
   "sideBar": true,
   "skip_h1_title": false,
   "title_cell": "Table of Contents",
   "title_sidebar": "Contents",
   "toc_cell": false,
   "toc_position": {
    "height": "748px",
    "left": "0px",
    "right": "1118.08px",
    "top": "111px",
    "width": "212px"
   },
   "toc_section_display": "block",
   "toc_window_display": true
  }
 },
 "nbformat": 4,
 "nbformat_minor": 2
}
