{
 "cells": [
  {
   "cell_type": "markdown",
   "metadata": {
    "lc_cell_meme": {
     "current": "98c51688-4ad2-11e9-9859-0242ac110002",
     "next": "98c516f6-4ad2-11e9-9859-0242ac110002",
     "previous": null
    }
   },
   "source": [
    "# 秘密情報管理サーバの利用\n",
    "\n",
    "このNotebookではVCPが秘密情報管理のために提供している[HashiCorp Vault](https://www.vaultproject.io/)の利用手順について記しています。\n",
    "\n",
    "> VCPのVaultサーバでは格納された秘密情報のバックアップや冗長管理は行っていないので、**元データの管理は利用者の責任**で行ってください。"
   ]
  },
  {
   "cell_type": "markdown",
   "metadata": {
    "lc_cell_meme": {
     "current": "98c516f6-4ad2-11e9-9859-0242ac110002",
     "next": "98c51746-4ad2-11e9-9859-0242ac110002",
     "previous": "98c51688-4ad2-11e9-9859-0242ac110002"
    }
   },
   "source": [
    "## HashiCorp Vaultについて\n",
    "\n",
    "[HashiCorp Vault](https://www.vaultproject.io/)は秘密情報を安全に管理するためのツールです。"
   ]
  },
  {
   "cell_type": "markdown",
   "metadata": {
    "lc_cell_meme": {
     "current": "98c51746-4ad2-11e9-9859-0242ac110002",
     "next": "98c5178c-4ad2-11e9-9859-0242ac110002",
     "previous": "98c516f6-4ad2-11e9-9859-0242ac110002"
    }
   },
   "source": [
    "### 特徴"
   ]
  },
  {
   "cell_type": "markdown",
   "metadata": {
    "lc_cell_meme": {
     "current": "98c5178c-4ad2-11e9-9859-0242ac110002",
     "next": "98c517e6-4ad2-11e9-9859-0242ac110002",
     "previous": "98c51746-4ad2-11e9-9859-0242ac110002"
    }
   },
   "source": [
    "HashiCorp Vault（以下ではVaultサーバと記します）には、以下のような特徴があります。\n",
    "\n",
    "* セキュアな秘密保管\n",
    "  - 任意のキー、バリューの組で秘密情報を格納できます。Vaultサーバではこれらの秘密情報を永続ストレージに書き込む前に暗号化しています。\n",
    "* マスターキーの分割\n",
    "  - 永続ストレージに記録している秘密情報はマスターキーによって暗号化されています。マスターキーは[シャミアの秘密分散法](https://en.wikipedia.org/wiki/Shamir%27s_Secret_Sharing)によって複数のキーに分割されています。閾値以上のキーを与えることで永続ストレージの情報は復号化できるようになります。\n",
    "* 監査\n",
    "  - Vaultサーバへの要求と応答は（エラーを含めて）その全てを監査ログに記録することができます。\n",
    "* HTTP API\n",
    "  - Vaultサーバのあらゆる機能は HTTP APIで操作できます。"
   ]
  },
  {
   "cell_type": "markdown",
   "metadata": {
    "lc_cell_meme": {
     "current": "98c517e6-4ad2-11e9-9859-0242ac110002",
     "next": "98c51836-4ad2-11e9-9859-0242ac110002",
     "previous": "98c5178c-4ad2-11e9-9859-0242ac110002"
    }
   },
   "source": [
    "### シークレットエンジン"
   ]
  },
  {
   "cell_type": "markdown",
   "metadata": {
    "lc_cell_meme": {
     "current": "98c51836-4ad2-11e9-9859-0242ac110002",
     "next": "98c5187c-4ad2-11e9-9859-0242ac110002",
     "previous": "98c517e6-4ad2-11e9-9859-0242ac110002"
    }
   },
   "source": [
    "Vaultサーバが秘密情報を扱うためのコンポーネントとしてシークレットエンジンがあります。シークレットエンジンには単なる Key Value ストアの機能をもつものから、動的に秘密情報を生成できるものまで様々なものが用意されています。\n",
    "\n",
    "ここでは VCP で利用できる以下の２つのシークレットエンジンについて簡単にふれておきます。\n",
    "1. [KV シークレットエンジン v1](https://www.vaultproject.io/docs/secrets/kv/kv-v1.html)\n",
    "1. [Cubbyhole シークレットエンジン](https://www.vaultproject.io/docs/secrets/cubbyhole/index.html)\n",
    "\n",
    "1.のKVシークレットエンジンはいわゆる Key Valueストア(KVS)です。通常のKVSと異なるのはValueに指定した値が暗号化されて保存されることです。\n",
    "\n",
    "2.の Cubbyholeシークレットエンジンも1.と同様に暗号化をサポートしたKVSです。1.と異なるのはKVSのスコープがアクセストークン毎に別々になっていることです。つまりトークンAでアクセスした場合とトークンBでアクセスした場合で全く異なるKVSにアクセスするようになっています。それぞれのKVSはお互いにアクセスできないようになっています。\n",
    "\n",
    "VCPではユーザ毎に別々のトークンを発行することになるので、VC Controllerに属する全てのユーザが共有する秘密情報はKVシークレットエンジンに、ユーザ個々が保持する秘密情報はCubbyholeシークレットエンジンに保管するという利用方法が考えられます。\n",
    "\n",
    "> VCPでは基本的には Cubbyhole シークレットエンジンの利用を推奨します。\n",
    "\n",
    "> ただし Cubbyholeシークレットエンジンに保管されているデータはトークンが無効になってしまうと（削除されて）アクセスできなくなるので注意が必要です。トークンが無効になる原因としてはトークンの有効期限が切れた、または管理者によって明示的にトークン無効化の操作が行われた、などが考えられます。"
   ]
  },
  {
   "cell_type": "markdown",
   "metadata": {
    "lc_cell_meme": {
     "current": "98c5187c-4ad2-11e9-9859-0242ac110002",
     "next": "98c518cc-4ad2-11e9-9859-0242ac110002",
     "previous": "98c51836-4ad2-11e9-9859-0242ac110002"
    }
   },
   "source": [
    "## VCPでの利用方法\n",
    "\n",
    "VCPではVC ControllerのVaultサーバに格納されたAWSの認証情報などを参照する機能があります。この機能を利用するとローカル環境にAWSの認証情報などの秘密情報を保持する必要がなくなります。"
   ]
  },
  {
   "cell_type": "markdown",
   "metadata": {
    "lc_cell_meme": {
     "current": "98c518cc-4ad2-11e9-9859-0242ac110002",
     "next": "98c51912-4ad2-11e9-9859-0242ac110002",
     "previous": "98c5187c-4ad2-11e9-9859-0242ac110002"
    }
   },
   "source": [
    "### Vaultサーバを利用しない場合\n",
    "\n",
    "はじめに Vault サーバを利用しない場合のクラウドプロバイダの認証情報の扱いを確認します。"
   ]
  },
  {
   "cell_type": "markdown",
   "metadata": {
    "lc_cell_meme": {
     "current": "98c51912-4ad2-11e9-9859-0242ac110002",
     "next": "98c51958-4ad2-11e9-9859-0242ac110002",
     "previous": "98c518cc-4ad2-11e9-9859-0242ac110002"
    }
   },
   "source": [
    "> ここではAWSの認証情報を扱う場合を例として記しています。"
   ]
  },
  {
   "cell_type": "markdown",
   "metadata": {
    "lc_cell_meme": {
     "current": "98c51958-4ad2-11e9-9859-0242ac110002",
     "next": "98c519a8-4ad2-11e9-9859-0242ac110002",
     "previous": "98c51912-4ad2-11e9-9859-0242ac110002"
    }
   },
   "source": [
    "![Vaultを利用しない場合](images/102-001.png)\n",
    "\n",
    "1. AWSの認証情報は、事前にVCP SDKの設定ファイル`vcp_config.yml`に平文で書き込まれています\n",
    "1. ユーザによってVCP SDKが呼び出されます\n",
    "1. VCP SDKによってVC Controller Coreに対する REST APIが呼び出されます\n",
    "  * その際にパラメータとして AWSの認証情報が付加されます\n",
    "1. VC Controller Coreは受け取った認証情報を用いて AWS APIを実行してAmazon EC2インスタンスを起動します"
   ]
  },
  {
   "cell_type": "markdown",
   "metadata": {
    "lc_cell_meme": {
     "current": "98c519a8-4ad2-11e9-9859-0242ac110002",
     "next": "98c519ee-4ad2-11e9-9859-0242ac110002",
     "previous": "98c51958-4ad2-11e9-9859-0242ac110002"
    }
   },
   "source": [
    "### Vaultサーバを利用する場合\n",
    "Vault サーバを利用する場合のクラウドプロバイダの認証情報の扱いを確認します。"
   ]
  },
  {
   "cell_type": "markdown",
   "metadata": {
    "lc_cell_meme": {
     "current": "98c519ee-4ad2-11e9-9859-0242ac110002",
     "next": "98c51a34-4ad2-11e9-9859-0242ac110002",
     "previous": "98c519a8-4ad2-11e9-9859-0242ac110002"
    }
   },
   "source": [
    "![Vaultを利用しない場合](images/102-002.png)\n",
    "\n",
    "1. AWSの認証情報は、事前にVC ControllerのVaultサーバに格納されています。\n",
    "  - Vaultサーバの機能によって認証情報は暗号されて格納されています\n",
    "1. VCP SDKの設定ファイル`vcp_config.yml`にはVaultサーバにおける認証情報の格納場所が記されています\n",
    "1. ユーザによってVCP SDKが呼び出されます\n",
    "1. VCP SDKによってVC Controller Coreに対する REST APIが呼び出されます\n",
    "  - その際VC Controller Coreとの間で認証情報が受け渡されることはなく、Vaultサーバの格納場所のみを渡します\n",
    "1. VC Controller Coreは受け取ったVaultサーバの格納場所から認証情報を取得します\n",
    "1. VC Controller Coreは取得した認証情報を用いて AWS APIを実行してAmazon EC2インスタンスを起動します"
   ]
  },
  {
   "cell_type": "markdown",
   "metadata": {
    "lc_cell_meme": {
     "current": "98c51a34-4ad2-11e9-9859-0242ac110002",
     "next": "98c51a84-4ad2-11e9-9859-0242ac110002",
     "previous": "98c519ee-4ad2-11e9-9859-0242ac110002"
    }
   },
   "source": [
    "## 操作手順"
   ]
  },
  {
   "cell_type": "markdown",
   "metadata": {
    "lc_cell_meme": {
     "current": "98c51a84-4ad2-11e9-9859-0242ac110002",
     "next": "98c51aca-4ad2-11e9-9859-0242ac110002",
     "previous": "98c51a34-4ad2-11e9-9859-0242ac110002"
    }
   },
   "source": [
    "このNotebookでの操作手順は以下のようになります。\n",
    "\n",
    "1. Vault サーバに HTTP API でアクセスして値の読み書きを行う\n",
    "1. AWSの認証情報をVaultサーバに格納する\n",
    "1. AWSの認証情報を設定ファイルに直書きせず、Vaultサーバから取得するようにVCP SDKを設定する\n",
    "1. 新たな設定でVCP SDKでAWSのリソースを作成できることを確認する"
   ]
  },
  {
   "cell_type": "markdown",
   "metadata": {
    "lc_cell_meme": {
     "current": "98c51aca-4ad2-11e9-9859-0242ac110002",
     "next": "98c51b10-4ad2-11e9-9859-0242ac110002",
     "previous": "98c51a84-4ad2-11e9-9859-0242ac110002"
    }
   },
   "source": [
    "# Vaultサーバにアクセスするための準備"
   ]
  },
  {
   "cell_type": "markdown",
   "metadata": {
    "lc_cell_meme": {
     "current": "98c51b10-4ad2-11e9-9859-0242ac110002",
     "next": "98c51b60-4ad2-11e9-9859-0242ac110002",
     "previous": "98c51aca-4ad2-11e9-9859-0242ac110002"
    }
   },
   "source": [
    "Vaultサーバにアクセスするのに必要となるアクセストークンの入力やアドレスの設定を行います。"
   ]
  },
  {
   "cell_type": "markdown",
   "metadata": {
    "lc_cell_meme": {
     "current": "98c51b60-4ad2-11e9-9859-0242ac110002",
     "next": "98c51ba6-4ad2-11e9-9859-0242ac110002",
     "previous": "98c51b10-4ad2-11e9-9859-0242ac110002"
    }
   },
   "source": [
    "## アクセストークンの入力"
   ]
  },
  {
   "cell_type": "markdown",
   "metadata": {
    "lc_cell_meme": {
     "current": "98c51ba6-4ad2-11e9-9859-0242ac110002",
     "next": "98c51bec-4ad2-11e9-9859-0242ac110002",
     "previous": "98c51b60-4ad2-11e9-9859-0242ac110002"
    }
   },
   "source": [
    "VaultサーバにアクセスするにはVC Controllerのアクセストークンが必要となります。次のセルを実行すると入力枠が表示されるのでアクセストークンを入力してください。"
   ]
  },
  {
   "cell_type": "code",
   "execution_count": 1,
   "metadata": {
    "deletable": false,
    "editable": false,
    "lc_cell_meme": {
     "current": "98c51bec-4ad2-11e9-9859-0242ac110002",
     "next": "98c51c32-4ad2-11e9-9859-0242ac110002",
     "previous": "98c51ba6-4ad2-11e9-9859-0242ac110002"
    },
    "run_through_control": {
     "frozen": true
    }
   },
   "outputs": [
    {
     "name": "stdout",
     "output_type": "stream",
     "text": [
      "········\n"
     ]
    }
   ],
   "source": [
    "from getpass import getpass\n",
    "vcc_access_token = getpass()"
   ]
  },
  {
   "cell_type": "markdown",
   "metadata": {
    "lc_cell_meme": {
     "current": "98c51c32-4ad2-11e9-9859-0242ac110002",
     "next": "98c51c78-4ad2-11e9-9859-0242ac110002",
     "previous": "98c51bec-4ad2-11e9-9859-0242ac110002"
    }
   },
   "source": [
    "入力された値が正しいことを確認するために、VCP SDKの初期化を行います。アクセストークンが正しく入力されていない場合は、VCP SDKの初期化がエラーとなり以下のようなメッセージが表示されます。\n",
    "\n",
    "```\n",
    "2018-09-XX XX:XX:XX,XXX - ERROR - config vc failed: http_status(403)\n",
    "2018-09-XX XX:XX:XX,XXX - ERROR - 2018/09/XX XX:XX:XX UTC: VCPAuthException: xxxxxxx:token lookup is failed: permission denied\n",
    "```\n",
    "\n",
    "この場合はアクセストークンの入力からやり直してください。"
   ]
  },
  {
   "cell_type": "code",
   "execution_count": 2,
   "metadata": {
    "deletable": false,
    "editable": false,
    "lc_cell_meme": {
     "current": "98c51c78-4ad2-11e9-9859-0242ac110002",
     "next": "98c51cbe-4ad2-11e9-9859-0242ac110002",
     "previous": "98c51c32-4ad2-11e9-9859-0242ac110002"
    },
    "run_through_control": {
     "frozen": true
    }
   },
   "outputs": [],
   "source": [
    "from common import logsetting\n",
    "from vcpsdk.vcpsdk import VcpSDK\n",
    "\n",
    "\n",
    "vcp = VcpSDK(\n",
    "    vcc_access_token  # VCCのアクセストークン\n",
    ")"
   ]
  },
  {
   "cell_type": "markdown",
   "metadata": {
    "lc_cell_meme": {
     "current": "98c51cbe-4ad2-11e9-9859-0242ac110002",
     "next": "98c51d0e-4ad2-11e9-9859-0242ac110002",
     "previous": "98c51c78-4ad2-11e9-9859-0242ac110002"
    }
   },
   "source": [
    "## Vaultサーバのアドレスを確認する"
   ]
  },
  {
   "cell_type": "markdown",
   "metadata": {
    "lc_cell_meme": {
     "current": "98c51d0e-4ad2-11e9-9859-0242ac110002",
     "next": "98c51d54-4ad2-11e9-9859-0242ac110002",
     "previous": "98c51cbe-4ad2-11e9-9859-0242ac110002"
    }
   },
   "source": [
    "VCP SDKからVaultサーバのアドレスを取得します。取得したアドレスは後でVaultサーバにアクセスする際に利用するので変数`vault_address`に格納しておきます。"
   ]
  },
  {
   "cell_type": "code",
   "execution_count": 3,
   "metadata": {
    "deletable": false,
    "editable": false,
    "lc_cell_meme": {
     "current": "98c51d54-4ad2-11e9-9859-0242ac110002",
     "next": "98c51d9a-4ad2-11e9-9859-0242ac110002",
     "previous": "98c51d0e-4ad2-11e9-9859-0242ac110002"
    },
    "run_through_control": {
     "frozen": true
    }
   },
   "outputs": [
    {
     "name": "stdout",
     "output_type": "stream",
     "text": [
      "http://192.168.2.1:8200\n"
     ]
    }
   ],
   "source": [
    "# VCP SDKからVaultサーバのアドレスを取得する\n",
    "vault_address = vcp.vcc_info()['vault_url']\n",
    "\n",
    "# アドレスを表示する\n",
    "print(vault_address)"
   ]
  },
  {
   "cell_type": "markdown",
   "metadata": {
    "lc_cell_meme": {
     "current": "98c51d9a-4ad2-11e9-9859-0242ac110002",
     "next": "98c51dea-4ad2-11e9-9859-0242ac110002",
     "previous": "98c51d54-4ad2-11e9-9859-0242ac110002"
    }
   },
   "source": [
    "Vaultサーバのアドレスが正しいことを確認するために Vault サーバの HTTP API を実行してみます。 次のセルを実行してエラーにならなければ、アドレスが正しいことが確認できます。\n",
    "\n",
    "> ここでは [Helpを取得するHTTP API](https://www.vaultproject.io/api/index.html#help)を実行しています。"
   ]
  },
  {
   "cell_type": "code",
   "execution_count": 4,
   "metadata": {
    "deletable": false,
    "editable": false,
    "lc_cell_meme": {
     "current": "98c51dea-4ad2-11e9-9859-0242ac110002",
     "next": "98c51e30-4ad2-11e9-9859-0242ac110002",
     "previous": "98c51d9a-4ad2-11e9-9859-0242ac110002"
    },
    "run_through_control": {
     "frozen": true
    }
   },
   "outputs": [
    {
     "name": "stdout",
     "output_type": "stream",
     "text": [
      "HTTP/1.1 200 OK\r",
      "\r\n",
      "Cache-Control: no-store\r",
      "\r\n",
      "Content-Type: application/json\r",
      "\r\n",
      "Date: Wed, 20 Mar 2019 05:37:54 GMT\r",
      "\r\n",
      "Content-Length: 1145\r",
      "\r\n",
      "\r",
      "\r\n"
     ]
    }
   ],
   "source": [
    "!curl -I --fail --header \"X-Vault-Token:{vcc_access_token}\" \\\n",
    "    \"{vault_address}/v1/cubbyhole?help=1\""
   ]
  },
  {
   "cell_type": "markdown",
   "metadata": {
    "lc_cell_meme": {
     "current": "98c51e30-4ad2-11e9-9859-0242ac110002",
     "next": "98c51e80-4ad2-11e9-9859-0242ac110002",
     "previous": "98c51dea-4ad2-11e9-9859-0242ac110002"
    }
   },
   "source": [
    "VaultサーバのHTTP APIについては次節以降で説明します。"
   ]
  },
  {
   "cell_type": "markdown",
   "metadata": {
    "lc_cell_meme": {
     "current": "98c51e80-4ad2-11e9-9859-0242ac110002",
     "next": "98c51ec6-4ad2-11e9-9859-0242ac110002",
     "previous": "98c51e30-4ad2-11e9-9859-0242ac110002"
    }
   },
   "source": [
    "## ライブラリの準備\n",
    "\n",
    "このNotebookでは Vaultサーバ の HTTP API を呼び出すために、Python のライブラリ[Requests](http://docs.python-requests.org/en/master/)を利用します。ここでは Requests が利用できることの確認と簡単な使い方について記します。"
   ]
  },
  {
   "cell_type": "markdown",
   "metadata": {
    "lc_cell_meme": {
     "current": "98c51ec6-4ad2-11e9-9859-0242ac110002",
     "next": "98c51f0c-4ad2-11e9-9859-0242ac110002",
     "previous": "98c51e80-4ad2-11e9-9859-0242ac110002"
    }
   },
   "source": [
    "まず、この環境から Requests が利用できることを確認します。次のセルを実行してエラーにならないことを確認してください。"
   ]
  },
  {
   "cell_type": "code",
   "execution_count": 5,
   "metadata": {
    "deletable": false,
    "editable": false,
    "lc_cell_meme": {
     "current": "98c51f0c-4ad2-11e9-9859-0242ac110002",
     "next": "98c51f52-4ad2-11e9-9859-0242ac110002",
     "previous": "98c51ec6-4ad2-11e9-9859-0242ac110002"
    },
    "run_through_control": {
     "frozen": true
    }
   },
   "outputs": [],
   "source": [
    "import requests"
   ]
  },
  {
   "cell_type": "markdown",
   "metadata": {
    "lc_cell_meme": {
     "current": "98c51f52-4ad2-11e9-9859-0242ac110002",
     "next": "98c51f98-4ad2-11e9-9859-0242ac110002",
     "previous": "98c51f0c-4ad2-11e9-9859-0242ac110002"
    }
   },
   "source": [
    "エラーになった場合はライブラリのインストールを行います。次のセルのコメントを外して実行してください。\n",
    "\n",
    "> ハンズオン環境ではインストール済なので実行する必要はありません。"
   ]
  },
  {
   "cell_type": "code",
   "execution_count": 6,
   "metadata": {
    "deletable": false,
    "editable": false,
    "lc_cell_meme": {
     "current": "98c51f98-4ad2-11e9-9859-0242ac110002",
     "next": "98c51fde-4ad2-11e9-9859-0242ac110002",
     "previous": "98c51f52-4ad2-11e9-9859-0242ac110002"
    },
    "run_through_control": {
     "frozen": true
    }
   },
   "outputs": [],
   "source": [
    "# !pip install --user requests"
   ]
  },
  {
   "cell_type": "markdown",
   "metadata": {
    "lc_cell_meme": {
     "current": "98c51fde-4ad2-11e9-9859-0242ac110002",
     "next": "98c5202e-4ad2-11e9-9859-0242ac110002",
     "previous": "98c51f98-4ad2-11e9-9859-0242ac110002"
    }
   },
   "source": [
    "Requests を使って試しに https://www.nii.ac.jp/ にアクセスしてみます。"
   ]
  },
  {
   "cell_type": "code",
   "execution_count": 7,
   "metadata": {
    "deletable": false,
    "editable": false,
    "lc_cell_meme": {
     "current": "98c5202e-4ad2-11e9-9859-0242ac110002",
     "next": "98c52074-4ad2-11e9-9859-0242ac110002",
     "previous": "98c51fde-4ad2-11e9-9859-0242ac110002"
    },
    "run_through_control": {
     "frozen": true
    }
   },
   "outputs": [
    {
     "data": {
      "text/plain": [
       "<Response [200]>"
      ]
     },
     "execution_count": 7,
     "metadata": {},
     "output_type": "execute_result"
    }
   ],
   "source": [
    "# https://www.nii.ac.jp/ に GET のリクエストを行う\n",
    "r = requests.get('https://www.nii.ac.jp')\n",
    "r"
   ]
  },
  {
   "cell_type": "markdown",
   "metadata": {
    "lc_cell_meme": {
     "current": "98c52074-4ad2-11e9-9859-0242ac110002",
     "next": "98c520c4-4ad2-11e9-9859-0242ac110002",
     "previous": "98c5202e-4ad2-11e9-9859-0242ac110002"
    }
   },
   "source": [
    "リクエストが成功したことを示すステータスコード[200](https://developer.mozilla.org/ja/docs/Web/HTTP/Status/200)がレスポンスとして返されます。\n",
    "\n",
    "取得したテキストを表示してみます。"
   ]
  },
  {
   "cell_type": "code",
   "execution_count": 8,
   "metadata": {
    "deletable": false,
    "editable": false,
    "lc_cell_meme": {
     "current": "98c520c4-4ad2-11e9-9859-0242ac110002",
     "next": "98c5210a-4ad2-11e9-9859-0242ac110002",
     "previous": "98c52074-4ad2-11e9-9859-0242ac110002"
    },
    "run_through_control": {
     "frozen": true
    },
    "scrolled": true
   },
   "outputs": [
    {
     "name": "stdout",
     "output_type": "stream",
     "text": [
      "<!DOCTYPE html>\n",
      "<html lang=\"ja\">\n",
      "<head>\n",
      "<!-- Google Tag Manager -->\n",
      "<script>(function(w,d,s,l,i){w[l]=w[l]||[];w[l].push({'gtm.start':\n",
      "new Date().getTime(),event:'gtm.js'});var f=d.getElementsByTagName(s)[0],\n",
      "j=d.createElement(s),dl=l!='dataLayer'?'&l='+l:'';j.async=true;j.src=\n",
      "'https://www.googletagmanager.com/gtm.js?id='+i+dl;f.parentNode.insertBefore(j,f);\n",
      "})(window,document,'script','dataLayer','GTM-PDNSR5');</script>\n",
      "<!-- End Google Tag Manager -->\n",
      "\t<meta http-equiv=\"content-type\" content=\"text/html; charset=UTF-8\" />\n",
      "\t<meta http-equiv=\"content-language\" content=\"ja\" />\n",
      "\t<title>å½ç«æ",
      "å ±å­¦ç ç©¶æ / National Institute of Informatics</title>\n",
      "\t<meta name=\"viewport\" content=\"width=640\">\n",
      "\t<meta name=\"robots\" content=\"index,follow\" />\n",
      "\t<meta name=\"keywords\" content=\"NII,æ",
      "å ±å­¦,CSI,ãªã¼ãã³ãã¦ã¹,å¸æ°è¬åº§,SINET,CiNii,ãªãã¸ããª,ç§ç è²»ç ç©¶çªå·,ãµã¤ãã¼,è«ææ¤ç´¢\" />\n",
      "\t<meta name=\"description\" content=\"å½ç«æ",
      "å ±å­¦ç ç©¶æã¯ãæ",
      "å ±å­¦ã¨ããæ°ããç ç©¶åéã§ã®ãæªæ¥ä¾¡å¤åµæããç®æãããå½å¯ä¸ã®å­¦è¡ç·åç ç©¶æã¨ãã¦ããããã¯ã¼ã¯ãã½ããã¦ã§ã¢ãã³ã³ãã³ããªã©ã®æ",
      "å ±é¢é£åéã®æ°ããçè«ã»æ¹æ³è«ããå¿ç¨å±éã¾ã§ã®ç ç©¶éçºãç·åçã«æ¨é²ãã¦ãã¾ãã\" />\n",
      "\t<meta name=\"rating\" content=\"General\" />\n",
      "\t<meta name=\"author\" content=\"å½ç«æ",
      "å ±å­¦ç ç©¶æ / National Institute of Informatics\" />\n",
      "\t<meta name=\"copyright\" content=\"Copyright Â© 2007-2019\" />\n",
      "\t<meta http-equiv=\"content-script-type\" content=\"text/javascript\" />\n",
      "\t<meta http-equiv=\"content-style-type\" content=\"text/css\" />\n",
      "\t<meta http-equiv=\"X-UA-Compatible\" content=\"IE=edge\" >\n",
      "\t<meta name=\"google-site-verification\" content=\"tW7EKJkt28d9IatrhH0_fZw7vKQ--sSZBLDvZylSwkU\" />\n",
      "\t<meta property=\"og:title\" content=\"å½ç«æ",
      "å ±å­¦ç ç©¶æ / National Institute of Informatics\" />\n",
      "\t<meta property=\"og:type\" content=\"website\" />\n",
      "\t<meta property=\"og:url\" content=\"https://www.nii.ac.jp/\" />\n",
      "\t<meta property=\"og:image\" content=\"https://www.nii.ac.jp/_img/ogp.jpg\" />\n",
      "\t<meta property=\"og:site_name\" content=\"å½ç«æ",
      "å ±å­¦ç ç©¶æ / National Institute of Informatics\" />\n",
      "\t<meta property=\"og:description\" content=\"å½ç«æ",
      "å ±å­¦ç ç©¶æã¯ãæ",
      "å ±å­¦ã¨ããæ°ããç ç©¶åéã§ã®ãæªæ¥ä¾¡å¤åµæããç®æãããå½å¯ä¸ã®å­¦è¡ç·åç ç©¶æã¨ãã¦ããããã¯ã¼ã¯ãã½ããã¦ã§ã¢ãã³ã³ãã³ããªã©ã®æ",
      "å ±é¢é£åéã®æ°ããçè«ã»æ¹æ³è«ããå¿ç¨å±éã¾ã§ã®ç ç©¶éçºãç·åçã«æ¨é²ãã¦ãã¾ãã\" />\n",
      "\t<meta name=\"twitter:card\" content=\"summary_large_image\">\n",
      "\t<meta name=\"twitter:site\" content=\"@jouhouken\">\n",
      "\t<meta name=\"twitter:title\" content=\"å½ç«æ",
      "å ±å­¦ç ç©¶æ / National Institute of Informatics\">\n",
      "\t<meta name=\"twitter:description\" content=\"å½ç«æ",
      "å ±å­¦ç ç©¶æã¯ãæ",
      "å ±å­¦ã¨ããæ°ããç ç©¶åéã§ã®ãæªæ¥ä¾¡å¤åµæããç®æãããå½å¯ä¸ã®å­¦è¡ç·åç ç©¶æã¨ãã¦ããããã¯ã¼ã¯ãã½ããã¦ã§ã¢ãã³ã³ãã³ããªã©ã®æ",
      "å ±é¢é£åéã®æ°ããçè«ã»æ¹æ³è«ããå¿ç¨å±éã¾ã§ã®ç ç©¶éçºãç·åçã«æ¨é²ãã¦ãã¾ãã\">\n",
      "\t<meta name=\"twitter:image\" content=\"https://www.nii.ac.jp/_img/ogp_tw.jpg\">\n",
      "\t<link rel=\"canonical\" href=\"https://www.nii.ac.jp/\" />\n",
      "\t<link rel=\"shortcut icon\" href=\"/_img/common/favicon.ico\" />\n",
      "\t<link rel=\"stylesheet\" href=\"/_css/ionicons.css\">\n",
      "\t<link rel=\"stylesheet\" href=\"/_css/nii_style.css\">\n",
      "\t<!-- HTML5 shim and Respond.js IE8 support of HTML5 elements and media queries -->\n",
      "\t<!--[if lt IE 9]>\n",
      "\t<script src=\"/_js/html5shiv.js\"></script>\n",
      "\t<script src=\"/_js/respond.min.js\"></script>\n",
      "\t<![endif]-->\n",
      "</head>\n",
      "<body>\n",
      "<!-- Google Tag Manager (noscript) -->\n",
      "<noscript><iframe src=\"https://www.googletagmanager.com/ns.html?id=GTM-PDNSR5\"\n",
      "height=\"0\" width=\"0\" style=\"display:none;visibility:hidden\"></iframe></noscript>\n",
      "<!-- End Google Tag Manager (noscript) -->\n",
      "<div id=\"fb-root\"></div>\n",
      "<script>(function(d, s, id) {\n",
      "  var js, fjs = d.getElementsByTagName(s)[0];\n",
      "  if (d.getElementById(id)) return;\n",
      "  js = d.createElement(s); js.id = id;\n",
      "  js.src = \"//connect.facebook.net/ja_JP/sdk.js#xfbml=1&version=v2.9\";\n",
      "  fjs.parentNode.insertBefore(js, fjs);\n",
      "}(document, 'script', 'facebook-jssdk'));</script>\n",
      "<div id=\"navi\" >\n",
      "\t<section id=\"naviBox\" class=\" cf relative\">\n",
      "\t\t<h1 class=\"logo\"><a href=\"/\"><img class=\"mainLogo\" src=\"/_img/_logo/mainLogo.gif\" alt=\"å½ç«æ",
      "å ±å­¦ç ç©¶æ / National Institute of Informatics\" /></a></h1>\n",
      "\t\t<h2 class=\"logolede\">å¤§å­¦å",
      "±åå©ç¨æ©é¢æ³äºº æ",
      "å ±ã»ã·ã¹ãã ç ç©¶æ©æ§</h2>\n",
      "\t\t<div  id=\"naviSP\">\n",
      "\t\t\t<img class=\"hidePC\" src=\"/_img/_icon/menuSP.gif\" />\n",
      "\t\t\t<img class=\"hide\" src=\"/_img/_icon/menuClose.gif\" />\n",
      "\t\t</div>\n",
      "\t\t<img id=\"naviPC\" class=\"hidePC\" src=\"/_img/_icon/menuPC.gif\" />\n",
      "\t\t<div id=\"searchBox\" class=\"menuSP\">\n",
      "\t\t\t<div class=\"searchBox\">\n",
      "<script>\n",
      "  (function() {\n",
      "    var cx = '016971415964877497097:bc1er7qg8li';\n",
      "    var gcse = document.createElement('script');\n",
      "    gcse.type = 'text/javascript';\n",
      "    gcse.async = true;\n",
      "    gcse.src = 'https://cse.google.com/cse.js?cx=' + cx;\n",
      "    var s = document.getElementsByTagName('script')[0];\n",
      "    s.parentNode.insertBefore(gcse, s);\n",
      "  })();\n",
      "</script>\n",
      "<gcse:search></gcse:search>\n",
      "\t\t\t</div>\n",
      "\t\t</div>\n",
      "\t\t<ul id=\"infoBox\" class=\"menuSP bg-light-gray\">\n",
      "\t\t\t<li class=\"bd-gray-left\"><a href=\"/about/access/\">äº¤éã¢ã¯ã»ã¹<br class=\"hideSP\" /><i class=\"ion-android-arrow-dropdown hideSP\"></i></a></li>\n",
      "\t\t\t<li class=\"bd-gray-left\"><a href=\"/about/contact/\">ãåãåãã<br class=\"hideSP\" /><i class=\"ion-android-arrow-dropdown hideSP\"></i></a></li>\n",
      "\t\t\t<li class=\"bd-gray-left bd-gray-right\"><a href=\"/en/\">English<br class=\"hideSP\" /><i class=\"ion-android-arrow-dropdown hideSP\"></i></a></li>\t\t\t\t\n",
      "\t\t</ul>\n",
      "\t</section>\n",
      "<div class=\"bg-light-gray bd-gray-top bd-gray-bottom bd-none-sp menuContainer\">\n",
      "\t\t<ul id=\"globalMenu\" class=\"menuBox cf\">\n",
      "\t\t\t<li class=\"bd-gray-left to-index \"><a href=\"/about/\">NIIã«ã¤ãã¦<br class=\"hideSP\" /><small><span class=\"hidePC\"> / </span>About NII</small></a>\n",
      "\t\t\t\t<div class=\"subMenuBox bg-light-gray bd-gray bd-none-sp box-shadow\">\n",
      "\t\t\t\t\t<div class=\"hideSP dropDown dropDown-1\"><i class=\"ion-android-arrow-dropdown\"></i></div>\n",
      "\t\t\t\t\t<div class=\"table col-04 notable-sp top full padding-right-default padding-top-default padding-bottom-default padding-none-sp\">\n",
      "\t\t\t\t\t\t<div class=\"padding-left-default padding-none-sp\">\n",
      "\t\t\t\t\t\t\t<span class=\"to-category nolink\"><em>ã¯ããã«</em></span>\n",
      "\t\t\t\t\t\t\t<div class=\"pageList\">\n",
      "\t\t\t\t\t\t\t\t<span class=\"to-page\"><a href=\"/about/introduction/director/\">æé·ã®æ¨æ¶</a></span>\n",
      "\t\t\t\t\t\t\t\t<span class=\"to-page\"><a href=\"/about/introduction/mission/\">NIIã®ç¹è²</a></span>\n",
      "\t\t\t\t\t\t\t\t<span class=\"to-page\"><a href=\"/about/introduction/iuric/\" class=\"bd-cancel\">å¤§å­¦å",
      "±åå©ç¨æ©é¢</a></span>\n",
      "\t\t\t\t\t\t\t</div>\n",
      "\t\t\t\t\t\t\t<span class=\"to-category nolink\"><em>æ¦è¦</em></span>\n",
      "\t\t\t\t\t\t\t<div class=\"pageList\">\n",
      "\t\t\t\t\t\t\t\t<span class=\"to-page\"><a href=\"/about/overview/history/\">æ²¿é©</a></span>\n",
      "\t\t\t\t\t\t\t\t<span class=\"to-page\"><a href=\"/about/overview/council/\">éå¶ä¼è­°ã»ã¢ããã¤ã¶ãªã¼ãã¼ã</a></span>\n",
      "\t\t\t\t\t\t\t\t<span class=\"to-page\"><a href=\"/about/overview/organization/\">çµç¹å³</a></span>\n",
      "\t\t\t\t\t\t\t\t<span class=\"to-page\"><a href=\"/about/overview/chizai/\">ç¥çè²¡ç£</a></span>\n",
      "\t\t\t\t\t\t\t\t<span class=\"to-page\"><a href=\"/about/overview/budget/\">æå¡ã»äºç®</a></span>\n",
      "\t\t\t\t\t\t\t\t<span class=\"to-page\"><a href=\"/about/overview/rekidai/\">æ­´ä»£æé·</a></span>\n",
      "\t\t\t\t\t\t\t\t<span class=\"to-page\"><a href=\"/about/overview/catalogue/\">è¦è¦§ã»æ¦è¦</a></span>\n",
      "\t\t\t\t\t\t\t\t<span class=\"to-page\"><a href=\"/about/overview/annualreport/\">å¹´å ±</a></span>\n",
      "\t\t\t\t\t\t\t\t<span class=\"to-page\"><a href=\"/about/overview/commark/\">åºå ±ã³ãã¥ãã±ã¼ã·ã§ã³ãã¼ã¯</a></span>\n",
      "\t\t\t\t\t\t\t\t<span class=\"to-page\"><a href=\"/about/overview/jouhouken/\">æ",
      "å ±ç ã­ã£ã©ã¯ã¿ã¼</a></span>\n",
      "\t\t\t\t\t\t\t</div>\n",
      "\t\t\t\t\t\t</div>\n",
      "\t\t\t\t\t\t<div class=\"padding-left-default padding-none-sp\">\n",
      "\t\t\t\t\t\t\t<span class=\"to-category margin-bottom-sm margin-none-sp\"><a href=\"/about/rso/\">ç ç©¶æ¦ç¥å®¤</a></span>\n",
      "\t\t\t\t\t\t\t<span class=\"to-category margin-bottom-sm margin-none-sp\"><a href=\"/about/property/\">ç¤¾ä¼é£æºæ¨é²å®¤</a></span>\n",
      "\t\t\t\t\t\t\t<span class=\"to-category\"><a href=\"/about/international/\">å½éäº¤æµ</a></span>\n",
      "\t\t\t\t\t\t\t<div class=\"pageList\">\n",
      "\t\t\t\t\t\t\t\t<span class=\"to-page\"><a href=\"/about/international/mouresearch/\">å¤§å­¦ã»ç ç©¶æ©é¢ã¨ã®ç ç©¶äº¤æµ</a></span>\n",
      "\t\t\t\t\t\t\t\t<span class=\"to-page\"><a href=\"/about/international/mou/\">å½éäº¤æµåå®ï¼MOUï¼ã®<br>ç· çµç¶æ³</a></span>\n",
      "\t\t\t\t\t\t\t\t<span class=\"to-page\"><a href=\"/about/international/ictlec/\">NII International advanced lectures series on ICT</a></span>\n",
      "\t\t\t\t\t\t\t\t<span class=\"to-page\"><a href=\"/about/international/shonanmtg/\" class=\"bd-cancel\">NIIæ¹åä¼è­°</a></span>\n",
      "\t\t\t\t\t\t\t</div>\n",
      "\t\t\t\t\t\t\t<span class=\"to-category\"><a href=\"/about/library/\">å½ç«æ",
      "å ±å­¦ç ç©¶æ å³æ¸å®¤</a></span>\n",
      "\t\t\t\t\t\t\t<div class=\"pageList\">\n",
      "\t\t\t\t\t\t\t\t<span class=\"to-page\"><a href=\"/about/library/guide/\">å³æ¸å®¤ å©ç¨æ¡å",
      "</a></span>\n",
      "\t\t\t\t\t\t\t\t<span class=\"to-page\"><a href=\"/about/library/gakunin/\">å³æ¸å®¤ å­¦èªçµç±ã®ã¢ã¯ã»ã¹</a></span>\n",
      "\t\t\t\t\t\t\t</div>\n",
      "\t\t\t\t\t\t\t<span class=\"to-category margin-bottom-sm margin-none-sp\"><a href=\"/about/seminar-house/\">å½éé«ç­ã»ããã¼ãã¦ã¹</a></span>\n",
      "\t\t\t\t\t\t\t<span class=\"to-category margin-bottom-sm margin-none-sp\"><a href=\"/about/aic/\">å",
      "ç«¯ICTã»ã³ã¿ã¼</a></span>\n",
      "\t\t\t\t\t\t</div>\n",
      "\t\t\t\t\t\t<div class=\"padding-left-default padding-none-sp\">\n",
      "\t\t\t\t\t\t\t<span class=\"to-category margin-bottom-sm margin-none-sp\"><a href=\"/about/aic/nii-csirt/\">NII CSIRT</a></span>\n",
      "\t\t\t\t\t\t\t<span class=\"to-category\"><a href=\"/about/publication/\">åºçç©ã»åºå ±èª</a></span>\n",
      "\t\t\t\t\t\t\t<div class=\"pageList\">\n",
      "\t\t\t\t\t\t\t\t<span class=\"to-page\"><a href=\"/about/publication/today/\">NII Today</a></span>\n",
      "\t\t\t\t\t\t\t\t<span class=\"to-page\"><a href=\"/about/publication/harmony/\">è»½äºæ²¢åææè©±ä¼è¬æ¼é<br>ç¥ã¨ç¾ã®ãã¼ã¢ãã¼</a></span>\n",
      "\t\t\t\t\t\t\t\t<span class=\"to-page\"><a href=\"/about/publication/bit-kun/\">ã®ããã¦ã¿ããNII<br class=\"hideSP\">æ",
      "å ±ç ããããã</a></span>\n",
      "\t\t\t\t\t\t\t\t<span class=\"to-page\"><a href=\"/about/publication/jouhouken-series/\">æ",
      "å ±ç ã·ãªã¼ãº</a></span>\n",
      "\t\t\t\t\t\t\t\t<span class=\"to-page\"><a href=\"/about/publication/jouhougaku-series/\">æ",
      "å ±å­¦ã·ãªã¼ãº</a></span>\n",
      "\t\t\t\t\t\t\t\t<span class=\"to-page\"><a href=\"/about/publication/other-books/\" class=\"bd-cancel\">ãã®ä»ãæå¡ã®èæ¸</a></span>\n",
      "\t\t\t\t\t\t\t</div>\n",
      "\t\t\t\t\t\t\t<span class=\"to-category margin-bottom-sm margin-none-sp\"><a href=\"/about/pr-video/\">åºå ±ãããª</a></span>\n",
      "\t\t\t\t\t\t\t<span class=\"to-category\"><a href=\"/disclosure/\">æ",
      "å ±å",
      "¬é</a></span>\n",
      "\t\t\t\t\t\t\t<div class=\"pageList\">\n",
      "\t\t\t\t\t\t\t\t<span class=\"to-page\"><a href=\"/disclosure/sinet_advisory/\">å­¦è¡æ",
      "å ±ãããã¯ã¼ã¯<br>å¤é¨è«®åå§å¡ä¼å ±åæ¸</a></span>\n",
      "\t\t\t\t\t\t\t</div>\n",
      "\t\t\t\t\t\t\t<span class=\"to-category margin-bottom-sm margin-none-sp\"><a href=\"/procure/\">èª¿éæ",
      "å ±</a></span>\n",
      "\t\t\t\t\t\t</div>\n",
      "\t\t\t\t\t\t<div class=\"padding-left-default padding-none-sp\">\n",
      "\t\t\t\t\t\t\t<span class=\"to-category margin-bottom-sm margin-none-sp\"><a href=\"/about/recruit/\">æ¡ç¨æ",
      "å ±</a></span>\n",
      "\t\t\t\t\t\t\t<span class=\"to-category\"><a href=\"/about/access/\">äº¤éã¢ã¯ã»ã¹</a></span>\n",
      "\t\t\t\t\t\t\t<div class=\"pageList\">\n",
      "\t\t\t\t\t\t\t\t<span class=\"to-page\"><a href=\"/about/access/\">å­¦è¡ç·åã»ã³ã¿ã¼</a></span>\n",
      "\t\t\t\t\t\t\t\t<span class=\"to-page\"><a href=\"/about/access/chiba/\">åèåé¤¨</a></span>\n",
      "\t\t\t\t\t\t\t\t<span class=\"to-page\"><a href=\"/about/access/karuizawa/\" class=\"bd-cancel\">å½éé«ç­ã»ããã¼ãã¦ã¹</a></span>\n",
      "\t\t\t\t\t\t\t</div>\n",
      "\t\t\t\t\t\t\t<span class=\"to-category margin-bottom-sm margin-none-sp\"><a href=\"/about/contact/\">åãåããçªå£</a></span>\n",
      "\t\t\t\t\t\t\t<span class=\"to-category\"><a href=\"/mail/\">ã¡ã¼ã«ãã¬ã¸ã³</a></span>\n",
      "\t\t\t\t\t\t\t<div class=\"pageList\">\n",
      "\t\t\t\t\t\t\t\t<span class=\"to-page\"><a href=\"/mail/form/\">è³¼èª­ã®ç»é²ï¼è§£é¤</a></span>\n",
      "\t\t\t\t\t\t\t\t<span class=\"to-page\"><a href=\"/mail/archives/\">ããã¯ãã³ãã¼</a></span>\n",
      "\t\t\t\t\t\t\t</div>\n",
      "\t\t\t\t\t\t\t<!--<span class=\"to-category margin-bottom-sm margin-none-sp\"><a href=\"/news/\">ãã¥ã¼ã¹</a></span>-->\n",
      "\t\t\t\t\t\t\t<!--<span class=\"to-category margin-bottom-sm margin-none-sp\"><a href=\"/event/\">ã¤ãã³ã</a></span>-->\n",
      "\t\t\t\t\t\t\t<span class=\"to-category margin-bottom-sm margin-none-sp\"><a href=\"/link/\">ãªã³ã¯</a></span>\n",
      "\t\t\t\t\t\t\t<span class=\"to-category margin-bottom-sm margin-none-sp\"><a href=\"/sitemap/\">ãµã¤ãããã</a></span>\n",
      "\t\t\t\t\t\t</div>\n",
      "\t\t\t\t\t</div>\n",
      "\t\t\t\t</div>\n",
      "\t\t\t</li><!--\n",
      "\t\t\t--><li class=\"bd-gray-left to-index \">\n",
      "\t\t\t\t<a href=\"/research/\">ç ç©¶<br class=\"hideSP\" /><small><span class=\"hidePC\"> / </span>Research</small></a>\n",
      "\t\t\t\t<div class=\"subMenuBox bg-light-gray bd-gray box-shadow\">\n",
      "\t\t\t\t\t<div class=\"hideSP dropDown dropDown-2\"><i class=\"ion-android-arrow-dropdown\"></i></div>\n",
      "\t\t\t\t\t<div class=\"table col-03 notable-sp  top full padding-right-default padding-top-default padding-bottom-default padding-none-sp\">\n",
      "\t\t\t\t\t\t<div class=\"padding-left-default padding-none-sp\">\n",
      "\t\t\t\t\t\t\t<span class=\"to-category margin-bottom-sm margin-none-sp\"><a href=\"/research/research-divisions/\">ç ç©¶ç³»</a></span>\n",
      "\t\t\t\t\t\t\t<span class=\"to-category\"><a href=\"/research/centers/\">ç ç©¶ã»ã³ã¿ã¼</a></span>\n",
      "\t\t\t\t\t\t\t<div class=\"pageList\">\n",
      "\t\t\t\t\t\t\t\t<span class=\"to-page\"><a href=\"/research/centers/network/\">å­¦è¡ãããã¯ã¼ã¯ç ç©¶éçºã»ã³ã¿ã¼</a></span>\n",
      "\t\t\t\t\t\t\t\t<span class=\"to-page\"><a href=\"/research/centers/kmcs/\">ç¥è­ã³ã³ãã³ãç§å­¦ç ç©¶ã»ã³ã¿ã¼</a></span>\n",
      "\t\t\t\t\t\t\t\t<span class=\"to-page\"><a href=\"http://grace-center.jp/\" target=\"_blank\">å",
      "ç«¯ã½ããã¦ã§ã¢å·¥å­¦ã»å½éç ç©¶ã»ã³ã¿ã¼</a></span>\n",
      "\t\t\t\t\t\t\t\t<span class=\"to-page\"><a href=\"/research/centers/\">ç¤¾ä¼å",
      "±æç¥ç ç©¶ã»ã³ã¿ã¼</a></span>\n",
      "\t\t\t\t\t\t\t\t<span class=\"to-page\"><a href=\"/research/centers/ccrd/\">ã¯ã©ã¦ãåºç¤ç ç©¶éçºã»ã³ã¿ã¼</a></span>\n",
      "\t\t\t\t\t\t\t\t<span class=\"to-page\"><a href=\"/research/centers/dsc/\">ãã¼ã¿ã»ããå",
      "±åå©ç¨ç ç©¶éçºã»ã³ã¿ã¼</a></span>\n",
      "\t\t\t\t\t\t\t\t<span class=\"to-page\"><a href=\"/research/centers/cybersecurity/\">ãµã¤ãã¼ã»ã­ã¥ãªãã£ç ç©¶éçºã»ã³ã¿ã¼</a></span>\n",
      "\t\t\t\t\t\t\t\t<span class=\"to-page\"><a href=\"https://rcos.nii.ac.jp/\" target=\"_blank\">ãªã¼ãã³ãµã¤ã¨ã³ã¹åºç¤ç ç©¶ã»ã³ã¿ã¼</a></span>\n",
      "\t\t\t\t\t\t\t\t<span class=\"to-page\"><a href=\"https://qis1.ex.nii.ac.jp/qi/\" target=\"_blank\">éå­æ",
      "å ±å½éç ç©¶ã»ã³ã¿ã¼</a></span>\n",
      "\t\t\t\t\t\t\t\t<span class=\"to-page\"><a href=\"/research/centers/\">ãµã¤ãã¼ãã£ã¸ã«ã«æ",
      "å ±å­¦å½éç ç©¶ã»ã³ã¿ã¼</a></span>\n",
      "\t\t\t\t\t\t\t\t<span class=\"to-page\"><a href=\"http://bigdata.nii.ac.jp/wp/\" target=\"_blank\">ããã°ãã¼ã¿æ°çå½éç ç©¶ã»ã³ã¿ã¼</a></span>\n",
      "                            <span class=\"to-page\"><a href=\"/research/centers/\">ã·ã¹ãã è¨­è¨æ°çå½éç ç©¶ã»ã³ã¿ã¼</a></span>\n",
      "                            <span class=\"to-page\"><a href=\"http://research.nii.ac.jp/rc4mb/\" target=\"_blank\">å»çããã°ãã¼ã¿ç ç©¶ã»ã³ã¿ã¼</a></span>\n",
      "\t\t\t\t\t\t\t\t<span class=\"to-page\"><a href=\"https://rcfsd.github.io/\" target=\"_blank\">éèã¹ãã¼ããã¼ã¿ç ç©¶ã»ã³ã¿ã¼</a></span>\n",
      "\t\t\t\t\t\t\t\t<span class=\"to-page\"><a href=\"/research/centers/\">ã³ã°ããã£ãã»ã¤ããã¼ã·ã§ã³ã»ã³ã¿ã¼</a></span>\n",
      "                            <span class=\"to-page\"><a href=\"/research/centers/cris/\">ã­ãã¹ãã¤ã³ããªã¸ã§ã³ã¹ã»ã½ã¼ã·ã£ã«ãã¯ãã­ã¸ã¼ç ç©¶ã»ã³ã¿ã¼</a></span>\n",
      "\t\t\t\t\t\t\t</div>\n",
      "\t\t\t\t\t\t</div>\n",
      "\t\t\t\t\t\t<div class=\"padding-left-default padding-none-sp\">\n",
      "\t\t\t\t\t\t\t<span class=\"to-category\"><a href=\"/faculty/\">ç ç©¶è",
      "ç´¹ä»</a></span>\n",
      "\t\t\t\t\t\t\t<div class=\"pageList\">\n",
      "<!--\n",
      "\t\t\t\t\t\t\t\t<span class=\"to-page\"><a href=\"/faculty/closeup/\">ç ç©¶è",
      "ã¯ã­ã¼ãºã¢ãã</a></span>\n",
      "-->\n",
      "\t\t\t\t\t\t\t\t<span class=\"to-page\"><a href=\"/faculty/director/\">æé·</a></span>\n",
      "\t\t\t\t\t\t\t\t<span class=\"to-page\"><a href=\"/faculty/deputy-director/\">å¯æé·</a></span>\n",
      "\t\t\t\t\t\t\t\t<span class=\"to-page green\"><a href=\"/faculty/informatics/\">æ",
      "å ±å­¦ããªã³ã·ãã«ç ç©¶ç³»</a></span>\n",
      "\t\t\t\t\t\t\t\t<span class=\"to-page orange\"><a href=\"/faculty/architecture/\">ã¢ã¼ã­ãã¯ãã£ç§å­¦ç ç©¶ç³»</a></span>\n",
      "\t\t\t\t\t\t\t\t<span class=\"to-page blue\"><a href=\"/faculty/digital_content/\">ã³ã³ãã³ãç§å­¦ç ç©¶ç³»</a></span>\n",
      "\t\t\t\t\t\t\t\t<span class=\"to-page pink\"><a href=\"/faculty/society/\">æ",
      "å ±ç¤¾ä¼ç¸é¢ç ç©¶ç³»</a></span>\n",
      "\t\t\t\t\t\t\t\t<span class=\"to-page\"><a href=\"/faculty/list/\">ç ç©¶è",
      "ä¸è¦§</a></span>\n",
      "\t\t\t\t\t\t\t\t<span class=\"to-page\"><a href=\"/faculty/meiyo/\">åèªææ</a></span>\n",
      "                            <span class=\"to-page\"><a href=\"/faculty/closeup/\" class=\"bd-cancel\">ç ç©¶è",
      "ã¯ã­ã¼ãºã¢ãã</a></span>\n",
      "\t\t\t\t\t\t\t</div>\n",
      "\t\t\t\t\t\t\t<span class=\"to-category\"><a href=\"/research/projects/\">åç»ããå¤§åãã­ã¸ã§ã¯ã</a></span>\n",
      "\t\t\t\t\t\t\t<div class=\"pageList\">\n",
      "\t\t\t\t\t\t\t<span class=\"to-page\"><a href=\"/research/projects/amed/\">AMED</a></span>\t\n",
      "                            <span class=\"to-page\"><a href=\"/research/projects/jst-erato/\">JST ERATO</a></span>\n",
      "\t\t\t\t\t\t\t\t<span class=\"to-page\"><a href=\"/research/projects/jst-crest/\">JST CREST</a></span>\n",
      "                            <span class=\"to-page\"><a href=\"/research/projects/ntcir/\">NTCIR</a></span>\n",
      "\t\t\t\t\t\t\t\t<span class=\"to-page\"><a href=\"/research/projects/impact/\">ImPACT</a></span>\n",
      "                                <span class=\"to-page\"><a href=\"/research/projects/sip/\">SIP</a></span>\n",
      "\t\t\t\t\t\t\t</div>\n",
      "\t\t\t\t\t\t\t<span class=\"to-category margin-bottom-sm margin-none-sp\"><a href=\"/research/past/\">éå»ã«åãçµãã <br class=\"hideSP\">ãã­ã¸ã§ã¯ã</a></span>\n",
      "\t\t\t\t\t\t</div>\n",
      "\t\t\t\t\t\t<div class=\"padding-left-default padding-none-sp\">\n",
      "\t\t\t\t\t\t\t<span class=\"to-category viridian\"><a href=\"https://www.nii.ac.jp/research/iga/\" target=\"_blank\">ç£å®å­¦é£æºæ´»å</a></span>\n",
      "\t\t\t\t\t\t\t<div class=\"pageList\">\n",
      "\t\t\t\t\t\t\t\t<span class=\"to-page viridian\"><a href=\"https://www.nii.ac.jp/research/iga/index.html?event\" target=\"_blank\">ç£å®å­¦é£æºå¡¾</a></span>\n",
      "                                <span class=\"to-page viridian\"><a href=\"https://www.nii.ac.jp/seeds/\" target=\"_blank\">NII SEEDS</a></span>\n",
      "\t\t\t\t\t\t\t\t<!-- <span class=\"to-page\"><a href=\"/research/XXXXXXX\" class=\"bd-cancel\">ç ç©¶è",
      "ã«ããå­¦è¡æå°<br>ï¼ã³ã³ãµã«ãã£ã³ã°ï¼ã®æ¡å",
      "</a></span> -->\n",
      "\t\t\t\t\t\t\t</div>\n",
      "\t\t\t\t\t\t\t<span class=\"to-category margin-bottom-sm margin-none-sp\"><a href=\"/research/collaboration/\">å",
      "±åç ç©¶ï¼æ°éã»å",
      "¬ååï¼</a></span>\n",
      "\t\t\t\t\t\t\t<span class=\"to-category margin-bottom-sm margin-none-sp\"><a href=\"/research/jyutaku/\">åè¨ç ç©¶æ¦è¦</a></span>\n",
      "\t\t\t\t\t\t\t<span class=\"to-category margin-bottom-sm margin-none-sp\"><a href=\"/research/kifukin/\">å¯éé</a></span>\n",
      "\t\t\t\t\t\t\t<span class=\"to-category\"><a href=\"/research/kenkyou/\">ç ç©¶å¡ã»å­¦çåå",
      "¥å¶åº¦</a></span>\n",
      "\t\t\t\t\t\t\t<div class=\"pageList\">\n",
      "\t\t\t\t\t\t\t\t<span class=\"to-page\"><a href=\"/research/kenkyou/jyutakukenkyuin/\">åè¨ç ç©¶å¡</a></span>\n",
      "                            <span class=\"to-page\"><a href=\"/research/kenkyou/gairaikenshusei/\">å¤æ¥ç ä¿®ç</a></span>\n",
      "\t\t\t\t\t\t\t\t<span class=\"to-page\"><a href=\"/research/kenkyou/tokubetsukenkyuin/\">ç¹å¥å",
      "±åå©ç¨ç ç©¶å¡</a></span>\n",
      "\t\t\t\t\t\t\t\t<span class=\"to-page\"><a href=\"/research/kenkyou/kenkyukenshusei/\">ç ç©¶ç ä¿®ç</a></span>\n",
      "                            <span class=\"to-page\"><a href=\"/research/kenkyou/cooperation/\">é£æºå¤§å­¦é¢</a></span>\n",
      "\t\t\t\t\t\t\t\t<span class=\"to-page\"><a href=\"/research/kenkyou/jsps/\">æ¥æ¬å­¦è¡æ¯èä¼ç¹å¥ç ç©¶å¡</a></span>\n",
      "\t\t\t\t\t\t\t</div>\n",
      "\t\t\t\t\t\t\t<span class=\"to-category margin-bottom-sm margin-none-sp\"><a href=\"/research/kyakuin/\">å®¢å¡æå¡ç ç©¶è²»</a></span>\n",
      "\t\t\t\t\t\t\t<span class=\"to-category\"><a href=\"/research/reports/\">ç ç©¶ææ</a></span>\n",
      "\t\t\t\t\t\t\t<div class=\"pageList\">\n",
      "\t\t\t\t\t\t\t\t<span class=\"to-page\"><a href=\"/research/reports/pi/\">Progress in Informatics</a></span>\n",
      "\t\t\t\t\t\t\t\t<span class=\"to-page\"><a href=\"https://www.nii.ac.jp/TechReports/public_html/index-j.html\" target=\"_blank\">NIIãã¯ãã«ã«ã¬ãã¼ã</a></span>\n",
      "\t\t\t\t\t\t\t\t<span class=\"to-page\"><a href=\"/research/reports/kaken/\">ç§ç å ±åæ¸ãªã©</a></span>\n",
      "\t\t\t\t\t\t\t</div>\n",
      "\t\t\t\t\t\t</div>\n",
      "\t\t\t\t\t</div>\n",
      "\t\t\t\t</div>\n",
      "\t\t\t</li><!--\n",
      "\t\t--><li class=\"bd-gray-left to-index \">\n",
      "\t\t\t\t<a href=\"/service/\">äºæ¥­<br class=\"hideSP\" /><small><span class=\"hidePC\"> / </span>Service</small></a>\n",
      "\t\t\t\t<div class=\"subMenuBox bg-light-gray bd-gray box-shadow\">\n",
      "\t\t\t\t\t<div class=\"hideSP dropDown dropDown-3\"><i class=\"ion-android-arrow-dropdown\"></i></div>\n",
      "\t\t\t\t\t<div class=\"table col-03 notable-sp  top full padding-right-default padding-top-default padding-bottom-default padding-none-sp\">\n",
      "\t\t\t\t\t\t<div class=\"padding-left-default padding-none-sp\">\n",
      "\t\t\t\t\t\t\t<span class=\"to-category margin-bottom-sm margin-none-sp black\"><a href=\"http://www.sinet.ad.jp/\" target=\"_blank\">å­¦è¡æ",
      "å ±ãããã¯ã¼ã¯ ãSINET5ã</a></span>\n",
      "\t\t\t\t\t\t\t<span class=\"to-category red nolink\"><em>å­¦è¡æ",
      "å ±ã®å",
      "¬éã»å",
      "±æ</em></span>\n",
      "\t\t\t\t\t\t\t<div class=\"pageList\">\n",
      "\t\t\t\t\t\t\t\t<span class=\"to-page red\"><a href=\"https://ci.nii.ac.jp/\" target=\"_blank\">CiNii Articles</a></span>\n",
      "\t\t\t\t\t\t\t\t<span class=\"to-page red\"><a href=\"https://ci.nii.ac.jp/books/\" target=\"_blank\">CiNii Books</a></span>\n",
      "\t\t\t\t\t\t\t\t<span class=\"to-page red\"><a href=\"https://ci.nii.ac.jp/d/\" target=\"_blank\">CiNii Dissertations</a></span>\n",
      "\t\t\t\t\t\t\t\t<span class=\"to-page red\"><a href=\"http://jairo.nii.ac.jp/\" target=\"_blank\">JAIRO</a></span>\n",
      "\t\t\t\t\t\t\t\t<span class=\"to-page red\"><a href=\"https://kaken.nii.ac.jp/\" target=\"_blank\">KAKEN</a></span>\n",
      "\t\t\t\t\t\t\t\t<span class=\"to-page red\"><a href=\"https://dbr.nii.ac.jp\" target=\"_blank\">NII-DBR</a></span>\n",
      "\t\t\t\t\t\t\t\t<span class=\"to-page red\"><a href=\"http://reo.nii.ac.jp/\" target=\"_blank\">NII-REO</a></span>\n",
      "\t\t\t\t\t\t\t\t<span class=\"to-page red bb3\"><a href=\"https://support.nii.ac.jp/ja\" target=\"_blank\">NIIå­¦è¡ã³ã³ãã³ããµã¼ãã¹ãµãã¼ã</a></span>\n",
      "\t\t\t\t\t\t\t\t<span class=\"to-page red\"><a href=\"https://erdb-jp.nii.ac.jp/\" target=\"_blank\">ERDB-JP</a></span>\n",
      "\t\t\t\t\t\t\t\t<span class=\"to-page red\"><a href=\"https://community.repo.nii.ac.jp/\" target=\"_blank\">JAIRO Cloud</a></span>\n",
      "\t\t\t\t\t\t\t\t<span class=\"to-page red\"><a href=\"https://www.nii.ac.jp/CAT-ILL/\" target=\"_blank\">NACSIS-CAT/ILL</a></span>\n",
      "\t\t\t\t\t\t\t\t<span class=\"to-page red\"><a href=\"https://www.nii.ac.jp/irp\" target=\"_blank\">NII-IRP</a></span>\n",
      "\t\t\t\t\t\t\t\t<span class=\"to-page red bb3\"><a href=\"https://www.nii.ac.jp/sparc/\" target=\"_blank\">SPARC Japan</a></span>\n",
      "\t\t\t\t\t\t\t\t<span class=\"to-page red\"><a href=\"/nels_soc/\" target=\"_blank\">[çµäº] NII-ELS</a></span>\n",
      "\t\t\t\t\t\t\t\t<span class=\"to-page red\"><a href=\"/nels/\" target=\"_blank\">[çµäº] å­¦è¡éèªå",
      "¬éæ¯æ´äºæ¥­</a></span>\n",
      "\t\t\t\t\t\t\t</div>\n",
      "\t\t\t\t\t\t</div>\n",
      "\t\t\t\t\t\t<div class=\"padding-left-default padding-none-sp\">\n",
      "\t\t\t\t\t\t\t<span class=\"to-category nolink\"><em>å¤§å­¦æ",
      "å ±ç°å¢æ´åæ¯æ´</em></span>\n",
      "\t\t\t\t\t\t\t<div class=\"pageList\">\n",
      "\t\t\t\t\t\t\t\t<span class=\"to-page\"><a href=\"https://www.gakunin.jp/\" target=\"_blank\">å­¦èªï¼GakuNinï¼</a></span>\n",
      "\t\t\t\t\t\t\t\t<span class=\"to-page\"><a href=\"https://www.eduroam.jp/\" target=\"_blank\">eduroam JP</a></span>\n",
      "\t\t\t\t\t\t\t\t<span class=\"to-page\"><a href=\"https://cloud.gakunin.jp/\" target=\"_blank\">å­¦èªã¯ã©ã¦ã å°å",
      "¥æ¯æ´ãµã¼ãã¹</a></span>\n",
      "\t\t\t\t\t\t\t\t<span class=\"to-page\"><a href=\"https://certs.nii.ac.jp/\" target=\"_blank\">UPKIé»å­è¨¼ææ¸çºè¡ãµã¼ãã¹</a></span>\n",
      "                            <span class=\"to-page\"><a href=\"/service/nii-socs/\">å¤§å­¦éé£æºã«åºã¥ãæ",
      "å ±ã»ã­ã¥ãªãã£ä½å¶ã®åºç¤æ§ç¯ï¼NII-SOCSï¼</a></span>\n",
      "\t\t\t\t\t\t\t\t<span class=\"to-page\"><a href=\"/service/sp/\">é«ç­æè²æ©é¢ã«ãããæ",
      "å ±ã»ã­ã¥ãªãã£ããªã·ã¼ç­å®ã«ã¤ãã¦</a></span>\n",
      "\t\t\t\t\t\t\t\t<span class=\"to-page\"><a href=\"/service/hikatsuba/\" class=\"bd-cancel\">ãã«ãªï¼ã¤ã°ãã®ï¼ææå®¤ã·ãªã¼ãº</a></span>\n",
      "                                <span class=\"to-page\"><a href=\"https://meatwiki.nii.ac.jp/confluence/display/NIIninsho/Outage\" target=\"_blank\">ã¡ã³ããã³ã¹ã®ãç¥ãã</a></span>\n",
      "                        </div>\n",
      "\t\t\t\t\t\t\t<span class=\"to-category red nolink\"><em>å¤§å­¦å³æ¸é¤¨ã¨ã®é£æº</em></span>\n",
      "\t\t\t\t\t\t\t<div class=\"pageList\">\n",
      "\t\t\t\t\t\t\t\t<span class=\"to-page red\"><a href=\"https://www.nii.ac.jp/content/cpc/\" target=\"_blank\">å¤§å­¦å³æ¸é¤¨ã¨å½ç«æ",
      "å ±å­¦ç ç©¶æã¨ã®<br>é£æºã»ååæ¨é²ä¼è­°</a></span>\n",
      "\t\t\t\t\t\t\t\t<span class=\"to-page red\"><a href=\"https://www.nii.ac.jp/content/justice/\" target=\"_blank\">å¤§å­¦å³æ¸é¤¨ã³ã³ã½ã¼ã·ã¢ã é£å<br>ãJUSTICEã</a></span>\n",
      "\t\t\t\t\t\t\t\t<span class=\"to-page red\"><a href=\"https://jpcoar.repo.nii.ac.jp/\" target=\"_blank\">ãªã¼ãã³ã¢ã¯ã»ã¹ãªãã¸ããªæ¨é²åä¼<br>ãJPCOARã</a></span>\n",
      "\t\t\t\t\t\t\t\t<span class=\"to-page red\"><a href=\"https://www.nii.ac.jp/content/korekara/\" target=\"_blank\">ããããã®å­¦è¡æ",
      "å ±ã·ã¹ãã æ§ç¯æ¤è¨å§å¡ä¼</a></span>\n",
      "\t\t\t\t\t\t\t\t<span class=\"to-page red\"><a href=\"https://ir-suishin.repo.nii.ac.jp/\" target=\"_blank\">æ©é¢ãªãã¸ããªæ¨é²å§å¡ä¼ï¼ï½2017.3ï¼</a></span>\n",
      "\t\t\t\t\t\t\t</div>\n",
      "\t\t\t\t\t\t</div>\n",
      "\t\t\t\t\t\t<div class=\"padding-left-default padding-none-sp\">\n",
      "\t\t\t\t\t\t\t<span class=\"to-category margin-bottom-sm margin-none-sp\"><a href=\"https://www.nii.ac.jp/hrd/\" target=\"_blank\">æè²ç ä¿®äºæ¥­</a></span>\n",
      "\t\t\t\t\t\t\t<span class=\"to-category\"><a href=\"/service/openforum/\">å­¦è¡æ",
      "å ±åºç¤ãªã¼ãã³ãã©ã¼ã©ã </a></span>\n",
      "\t\t\t\t\t\t\t<div class=\"pageList\">\n",
      "\t\t\t\t\t\t\t\t<span class=\"to-page\"><a href=\"/service/openforum/archives/\">éå»ã®éå¬ç¶æ³</a></span>\n",
      "\t\t\t\t\t\t\t\t<span class=\"to-page\"><a href=\"/service/openforum/access-line/\" class=\"bd-cancel\">å­¦è¡æ",
      "å ±ãããã¯ã¼ã¯ï¼SINET5ï¼<br>æ¥ç¶ç¨ã¢ã¯ã»ã¹åç· ä»æ§æ¸ï¼ä¾ï¼</a></span>\n",
      "\t\t\t\t\t\t\t</div>\n",
      "\t\t\t\t\t\t\t<span class=\"to-category nolink\"><em>ç¤¾ä¼è²¢ç®</em></span>\n",
      "\t\t\t\t\t\t\t<div class=\"pageList\">\n",
      "\t\t\t\t\t\t\t\t<span class=\"to-page\"><a href=\"/service/jmooc/\">NII JMOOC | gacco</a></span>\n",
      "\t\t\t\t\t\t\t</div>\n",
      "\t\t\t\t\t\t</div>\n",
      "\t\t\t\t\t</div>\n",
      "\t\t\t\t</div>\n",
      "\t\t\t</li><!--\n",
      "\t\t--><li class=\"bd-gray-left bd-gray-right bg-purple to-index\"><a href=\"/graduate/\" target=\"_blank\" class=\"text-white noneIcon\">å¤§å­¦é¢æè²<br class=\"hideSP\" /><small class=\"text-white\"><span class=\"hidePC\"> / </span>Graduate Program</small></a>\n",
      "\t\t\t</li>\n",
      "\t\t</ul>\n",
      "\t</div>\n",
      "</div>\n",
      "<div id=\"mainContents\">\n",
      "<!-- #mainContents -->\n",
      "<style>\n",
      ".label.important {\n",
      "color: #fff;\n",
      "background-color: #df0011;\n",
      "}\n",
      "</style>\n",
      "<div id=\"slideMain\">\n",
      "\t\t<a href=\"/about/recruit/2019/0315.html\"><img src=\"/upload/recruit_nii.png\" /></a>\n",
      "\t\t<a href=\"/about/publication/today/82.html\"><img src=\"/upload/banner_NIIToday82.png\" /></a>\n",
      "\t\t<a href=\"/news/2018/0629.html\"><img src=\"/upload/banner_jouhouken-series-22.png\" /></a>\n",
      "\t\t<a href=\"/en/glo-daad/\"><img src=\"/upload/daad_top.png\" /></a>\n",
      "\t\t<a href=\"https://www.nii.ac.jp/seeds/\"><img src=\"/upload/banar_seeds2017.png\" /></a>\n",
      "</div>\n",
      "<div class=\"bg-light-gray\">\n",
      "\t<section id=\"infoContainer\" class=\"relative\">\n",
      "\t\t<div class=\"hidePC tabMenu block cf\">\n",
      "\t\t\t<h3 class=\"selected bd-gray-right\">ãããã¯ã¹</h3>\n",
      "\t\t\t<h3 class=\"pressTabHead\">ãã¥ã¼ã¹ãªãªã¼ã¹</h3>\n",
      "\t\t</div>\n",
      "<!-- ãã¥ã¼ã¹ -->\n",
      "\t\t<div class=\"newsContainer tabContent\">\n",
      "\t\t\t<h3 class=\"with-border hideSP block\"><a href=\"/news/\">ãããã¯ã¹ <small>/ TOPICS</small></a></h3>\n",
      "\t\t\t<div class=\"newsBox\">\n",
      "\t\t\t\t<a href=\"/about/recruit/2019/0315.html\" >\n",
      "\t\t\t\t\t<span class=\"date\">2019/03/19</span>\n",
      "                  <span class=\"label\">\n",
      "\t\t\tåé\n",
      "\t\t\t\t\t</span>\n",
      "\t\t\t\t\t<p>æ",
      "å ±ã»ã·ã¹ãã ç ç©¶æ©æ§ å½ç«æ",
      "å ±å­¦ç ç©¶æ ç ç©¶æè²è·å¡ åé</p>\n",
      "\t\t\t\t</a>\n",
      "\t\t\t</div>\n",
      "\t\t\t<div class=\"newsBox\">\n",
      "\t\t\t\t<a href=\"/news/award/2019/0315.html\" >\n",
      "\t\t\t\t\t<span class=\"date\">2019/03/15</span>\n",
      "                  <span class=\"label\">\n",
      "\t\t\tåè³\n",
      "\t\t\t\t\t</span>\n",
      "\t\t\t\t\t<p>å²©ç° é½ä¸å©æï¼æ",
      "å ±å­¦ããªã³ã·ãã«ç ç©¶ç³»ï¼ãåå¤§ã»æ¥ç«æ°æ¦å¿µã³ã³ãã¥ã¼ãã£ã³ã°ã³ã³ãã¹ã2018ã§ç·ååªå</p>\n",
      "\t\t\t\t</a>\n",
      "\t\t\t</div>\n",
      "\t\t\t<div class=\"newsBox\">\n",
      "\t\t\t\t<a href=\"/about/recruit/2019/0308.html\" >\n",
      "\t\t\t\t\t<span class=\"date\">2019/03/08</span>\n",
      "                  <span class=\"label\">\n",
      "\t\t\tåé\n",
      "\t\t\t\t\t</span>\n",
      "\t\t\t\t\t<p>ã³ã³ãã³ãç§å­¦ç ç©¶ç³» ã¦ã¤ç ç©¶å®¤ æè¡è£ä½å¡ï¼ç­æééç¨è·å¡ï¼åé</p>\n",
      "\t\t\t\t</a>\n",
      "\t\t\t</div>\n",
      "\t\t\t<div class=\"newsBox\">\n",
      "\t\t\t\t<a href=\"/about/recruit/2019/0308-2.html\" >\n",
      "\t\t\t\t\t<span class=\"date\">2019/03/08</span>\n",
      "                  <span class=\"label\">\n",
      "\t\t\tåé\n",
      "\t\t\t\t\t</span>\n",
      "\t\t\t\t\t<p>æ",
      "å ±å­¦ããªã³ã·ãã«ç ç©¶ç³» äºä¸ç ç©¶å®¤ äºåè£ä½å¡ï¼ç­æééç¨è·å¡ï¼åé</p>\n",
      "\t\t\t\t</a>\n",
      "\t\t\t</div>\n",
      "\t\t\t<div class=\"newsBox\">\n",
      "\t\t\t\t<a href=\"/about/recruit/2019/0305-2.html\" >\n",
      "\t\t\t\t\t<span class=\"date\">2019/03/05</span>\n",
      "                  <span class=\"label\">\n",
      "\t\t\tåé\n",
      "\t\t\t\t\t</span>\n",
      "\t\t\t\t\t<p>ç·åé¨ ä¼ç»èª²  ç¤¾ä¼é£æºæ¨é²å®¤ äºåè£ä½å¡ï¼ææéç¨è·å¡ï¼åé</p>\n",
      "\t\t\t\t</a>\n",
      "\t\t\t</div>\n",
      "\t\t\t<div class=\"text-right next-contents\">\n",
      "\t\t\t\t<a href=\"/news/\"><i class=\"bg-icon bg-icon-navy ion-ios-arrow-forward\"></i> ãããã¯ã¹ä¸è¦§</a>\n",
      "\t\t\t</div>\n",
      "\t\t</div>\n",
      "<!-- /ãã¥ã¼ã¹ -->\n",
      "<!-- ãã¥ã¼ã¹ãªãªã¼ã¹ -->\n",
      "\t\t<div class=\"newsContainer pressRelease tabContent\">\n",
      "\t\t\t<h3 class=\"with-border hideSP block\"><a href=\"/news/release/\">ãã¥ã¼ã¹ãªãªã¼ã¹ <small>/ RELEASE</small></a></h3>\n",
      "\t\t\t<div class=\"newsBox\">\n",
      "\t\t\t\t<a href=\"/news/release/2019/0313.html\" >\n",
      "\t\t\t\t\t<span class=\"date\">2019/03/13</span>\n",
      "\t\t\t\t\t<p>å­¦è¡æ",
      "å ±ãããã¯ã¼ã¯SINETã®å å",
      "¥æ©é¢æ°ã900ãçªç ´<br>ï½æ¥æ¬å",
      "¨å½ã®å¤§å­¦ã»ç ç©¶æ©é¢ç­ã®300ä¸äººã®ç ç©¶è",
      "ç­ãå©ç¨ãã å­¦è¡å°ç¨ã®è¶",
      "é«é100Gbpsæ",
      "å ±éä¿¡ãããã¯ã¼ã¯ï½</p>\n",
      "\t\t\t\t</a>\n",
      "\t\t\t</div>\n",
      "\t\t\t<div class=\"newsBox\">\n",
      "\t\t\t\t<a href=\"/news/release/2019/0301.html\" >\n",
      "\t\t\t\t\t<span class=\"date\">2019/03/01</span>\n",
      "\t\t\t\t\t<p>NIIãä¸çåã®åç¬å°çä¸å¨è¶",
      "é«é100Gbpså­¦è¡éä¿¡åç·ç¶²ãæ§ç¯<br>ï½Society 5.0å®ç¾ã«åãSINETå½å",
      "åç·ã«ç¶ãç±³å½ã»æ¬§å·ã»ã¢ã¸ã¢ç´çµã®å½éåç·ãå¢å¼·ï½</p>\n",
      "\t\t\t\t</a>\n",
      "\t\t\t</div>\n",
      "\t\t\t<div class=\"newsBox\">\n",
      "\t\t\t\t<a href=\"/news/release/2018/1225.html\" >\n",
      "\t\t\t\t\t<span class=\"date\">2018/12/25</span>\n",
      "\t\t\t\t\t<p>èªç¶ãªé³å£°ãé«éã«åæå¯è½ãªæ°ææ³ãéçº<br>ï½å¤å",
      "¸çææ³ã«ãã¥ã¼ã©ã«ãããã¯ã¼ã¯ãå°å",
      "¥ãããã¥ã¼ã©ã«ã»ã½ã¼ã¹ãã£ã«ã¿ã¼ã»ã¢ãã«ï½</p>\n",
      "\t\t\t\t</a>\n",
      "\t\t\t</div>\n",
      "\t\t\t<div class=\"newsBox\">\n",
      "\t\t\t\t<a href=\"/news/release/2018/1220.html\" >\n",
      "\t\t\t\t\t<span class=\"date\">2018/12/20</span>\n",
      "\t\t\t\t\t<p>SINETãåºåãã¼ã¿åéåºç¤ãæ°ãµã¼ãã¹ã®å®è¨¼å®é¨ãã¹ã¿ã¼ã <br>ï½Society 5.0ã®å®ç¾ã«åãã¦ãç°å¢ã»çä½ã»IoTç ç©¶ãªã©ã§ ã¢ãã¤ã«ç«¯æ«ããã®ãã¼ã¿åéã¨å¦çãã¯ã³ã¹ãããã§å®ç¾ï½</p>\n",
      "\t\t\t\t</a>\n",
      "\t\t\t</div>\n",
      "\t\t\t<div class=\"newsBox\">\n",
      "\t\t\t\t<a href=\"/news/release/2018/1211.html\" >\n",
      "\t\t\t\t\t<span class=\"date\">2018/12/11</span>\n",
      "\t\t\t\t\t<p>ä¸çæéã®ï¼æ³¢600Gbpså",
      "ä¼éã¨587Gbpsã®ãã¼ã¿è»¢éå®é¨ã«æå<br>ï½å",
      "ç«¯ç§å­¦æè¡ç ç©¶ã§å¾ãããããã°ãã¼ã¿è»¢éã®é«éåã«åãã 600Gbpsæ³¢é·ãããã¯ã¼ã¯ã¨ãã®ãã«æ´»ç¨ãã­ãã³ã«ã®å®ç¾ã«ç®éï½</p>\n",
      "\t\t\t\t</a>\n",
      "\t\t\t</div>\n",
      "\t\t\t<div class=\"text-right next-contents\">\n",
      "\t\t\t\t<a href=\"/news/release/\"><i class=\"bg-icon bg-icon-navy ion-ios-arrow-forward\"></i> ãã¥ã¼ã¹ãªãªã¼ã¹ä¸è¦§</a>\n",
      "\t\t\t</div>\n",
      "\t\t</div>\n",
      "<!-- /ãã¥ã¼ã¹ãªãªã¼ã¹ -->\n",
      "<!-- ã¤ãã³ã -->\n",
      "\t\t<div class=\"newsContainer event\">\n",
      "\t\t\t<h3 class=\"with-border\"><a href=\"/event/list/\">ã¤ãã³ã <small>/ EVENT</small></a></h3>\n",
      "\t\t\t<div class=\"text-right next-contents\">\n",
      "\t\t\t\t<a href=\"/event/list/\"><i class=\"bg-icon bg-icon-white ion-ios-arrow-forward\"></i> ã¤ãã³ãä¸è¦§</a>\n",
      "\t\t\t</div>\n",
      "\t\t</div>\n",
      "<!-- /ã¤ãã³ã -->\n",
      "\t</section>\n",
      "\t<section class=\"youtubeBox\">\n",
      "\t\t<div class=\"float-left margin-bottom-default text float-none-sp\">\n",
      "\t\t\t<h3 class=\"with-border\">ããããåç» <small>/ MOVIE</small></h3>\n",
      "\t\t</div>\n",
      "\t\t<div class=\"float-right float-none-sp padding-bottom-md-sp\">\n",
      "\t\t\t<iframe width=\"640\" height=\"360\" src=\"https://www.youtube.com/embed/W3w0ZtGw5fQ?rel=0&amp;showinfo=0\" frameborder=\"0\" allowfullscreen></iframe>\n",
      "\t\t</div>\n",
      "\t\t<div class=\"float-left text float-none-sp\">\n",
      "\t\t\t<h4>ã¤ã³ãã¯ãã®ããç ç©¶ã«åãã¦ããç§ã®çµé¨ã¨éåºèªé²ãäº¤ãã¦</h4>\n",
      "\t\t\t<p class=\"hideSP\"><p>å½ç«æ",
      "å ±å­¦ç ç©¶æ ç¹å¥è¬æ¼ä¼</p>\n",
      "<p>éåº æ­¦éï¼ã«ã¼ãã®ã¼ã¡ã­ã³å¤§å­¦ã®ã¯ã¤ã¿ã«ã¼å å",
      "¨å­¦ææï¼</p></p>\n",
      "\t\t\t<div class=\"text-right next-contents btn-sp\">\n",
      "\t\t\t\t<a href=\"https://www.nii.ac.jp/event/2018/1130-2.html\" target=\"_blank\"><i class=\"bg-icon bg-icon-navy ion-ios-arrow-forward\"></i> è©³ããã¿ã</a>\n",
      "\t\t\t</div>\n",
      "\t\t</div>\n",
      "\t</section>\n",
      "</div>\n",
      "<section class=\"specialBox\">\n",
      "\t<h3 class=\"with-border\">æ³¨ç®ã³ã³ãã³ã <small>/ SPECIAL</small></h3>\n",
      "<div id=\"footerSlider\">\n",
      "\t\t<a href=\"/about/publication/today/82.html\"><img src=\"/upload/banner_today82_s.png\" />NII Today No.82</a>\n",
      "\t\t<a href=\"/service/sp/\"><img src=\"/upload/banar_security.png\" />é«ç­æè²æ©é¢ã«ãããã»ã­ã¥ãªãã£ããªã·ã¼</a>\n",
      "\t\t<a href=\"/about/introduction/mission/\"><img src=\"/upload/banar_tokushoku.png\" />NIIã®ç¹è²</a>\n",
      "\t\t<a href=\"/research/iga/\"><img src=\"/upload/bana_iga.png\" />NIIãææ¡ããç£å®å­¦é£æºæ´»å</a>\n",
      "\t\t<a href=\"http://shonan.nii.ac.jp/shonan/\" target=\"_blank\"><img src=\"/upload/shonanmeeting_smalll.png\" />NIIæ¹åä¼è­°</a>\n",
      "\t\t<a href=\"https://www.nii.ac.jp/seeds/\"><img src=\"/upload/40ddb9141d2ab38a274abb7dd4fd612023c764b2.png\" />NII SEEDS</a>\n",
      "</div>\n",
      "</section>\n",
      "\n",
      "<div class=\"bd-gray-top bd-gray-bottom\">\n",
      "\t<ul class=\"menuBoxFooter padding-none-sp cf\">\n",
      "\t\t<li class=\"bd-gray-left bg-light-gray\"><a href=\"/news/\">ãã¥ã¼ã¹<div class=\"nextPage noClick hidePC\"><i class=\"ion-android-arrow-dropright\"></i></div></a></li>\n",
      "\t\t<li class=\"bd-gray-left bg-light-gray\"><a href=\"/event/\">ã¤ãã³ã<div class=\"nextPage noClick hidePC\"><i class=\"ion-android-arrow-dropright\"></i></div></a></li>\n",
      "\t\t<li class=\"bd-gray-left bg-light-gray\"><a href=\"/policy/\">ãµã¤ãããªã·ã¼<div class=\"nextPage noClick hidePC\"><i class=\"ion-android-arrow-dropright\"></i></div></a></li>\n",
      "\t\t<li class=\"bd-gray-left bg-light-gray\"><a href=\"/link/\">ãªã³ã¯<div class=\"nextPage noClick hidePC\"><i class=\"ion-android-arrow-dropright\"></i></div></a></li>\n",
      "\t\t<li class=\"bd-gray-left bg-light-gray bd-gray-right\"><a href=\"/about/recruit/\">æ¡ç¨æ",
      "å ±<div class=\"nextPage noClick hidePC\"><i class=\"ion-android-arrow-dropright\"></i></div></a></li>\n",
      "\t\t<li class=\"bd-gray-left bg-light-gray bd-gray-right hidePC\">ã</li>\n",
      "\t</ul>\n",
      "</div>\n",
      "<section id=\"footer\" class=\"table padding-top-default padding-bottom-lg padding-side-default-sp block-sp\">\n",
      "\t<div class=\"padding-right-lg padding-bottom-default padding-top-default padding-none-sp cf\">\n",
      "\t\t<div>\n",
      "\t\t\t<div class=\"padding-bottom-default bd-gray-bottom cf\">\n",
      "\t\t\t\t<div class=\"float-right float-none-sp text-center-sp padding-tb-lg-sp cf\">\n",
      "\t\t\t\t\t<a href=\"https://www.facebook.com/jouhouken/\" class=\"social-box social-box-facebook noAfter\" target=\"_blank\"><i class=\"ion-social-facebook\"></i></a>\n",
      "\t\t\t\t\t<a href=\"https://twitter.com/jouhouken\" class=\"social-box social-box-twitter noAfter\"><i class=\"ion-social-twitter\" target=\"_blank\"></i></a>\n",
      "\t\t\t\t\t<a href=\"https://www.youtube.com/user/jyouhougaku\" class=\"social-box social-box-youtube noAfter\"><i class=\"ion-social-youtube\" target=\"_blank\"></i></a>\n",
      "\t\t\t\t</div>\n",
      "\t\t\t\t<div class=\"float-left float-none-sp\">\n",
      "\t\t\t\t\t<a href=\"/\">\n",
      "\t\t\t\t\t\t<img class=\"block float-left margin-right-default niiLogo\" src=\"/_img/_logo/niiLogoSmall.gif\" alt=\"niiLogoSmall\" />\n",
      "\t\t\t\t\t\t<div class=\"float-left line-height-small text-black fontB padding-top-sm-sp text-lg-sp\"><small class=\"hideSP\">å¤§å­¦å",
      "±åå©ç¨æ©é¢æ³äºº æ",
      "å ±ã»ã·ã¹ãã ç ç©¶æ©æ§</small><br class=\"hideSP\" />\n",
      "\t\t\t\t\t\tå½ç«æ",
      "å ±å­¦ç ç©¶æã<br class=\"hidePC\" /><small class=\"fontR text-default-sp\">ã101-8430 æ±äº¬é½åä»£ç°åºä¸ãæ©2-1-2</small></div>\n",
      "\t\t\t\t\t</a>\n",
      "\t\t\t\t</div>\n",
      "\t\t\t</div>\n",
      "\t\t\t<div class=\"copy float-left fontL\">\n",
      "\t\t\t\tCopyright&copy; National Institute of Informatics\n",
      "\t\t\t</div>\n",
      "\t\t\t<div class=\"staffOnly float-right small\">\n",
      "\t\t\t\t<a href=\"https://staff.nii.ac.jp/auth/shibboleth\" class=\"fontB\">STAFF ONLY</a>\n",
      "\t\t\t</div>\n",
      "\t\t</div>\n",
      "\t</div>\n",
      "\t<div class=\" footerLink padding-left-default bd-gray-left bd-none-sp padding-none-sp cf\">\n",
      "\t\t<a href=\"http://www.rois.ac.jp/\" target=\"_blank\">æ",
      "å ±ã»ã·ã¹ãã ç ç©¶æ©æ§</a>\n",
      "\t\t<a href=\"http://www.nipr.ac.jp/\" target=\"_blank\">å½ç«æ¥µå°ç ç©¶æ</a>\n",
      "\t\t<a href=\"http://www.ism.ac.jp/\" target=\"_blank\">çµ±è¨æ°çç ç©¶æ</a>\n",
      "\t\t<a href=\"https://www.nig.ac.jp/nig/ja/\" target=\"_blank\">å½ç«éºä¼å­¦ç ç©¶æ</a>\n",
      "\t</div>\n",
      "</section>\n",
      "<div id=\"toPageTop\"><i class=\"ion-chevron-up\"></i></div>\n",
      "</div><!-- /#mainContents -->\n",
      "<div class=\"modalBack\"></div>\n",
      "<script src=\"//ajax.googleapis.com/ajax/libs/jquery/1.11.0/jquery.min.js\"></script>\n",
      "<script src=\"//ajax.googleapis.com/ajax/libs/jqueryui/1.12.1/jquery-ui.min.js\"></script>\n",
      "<script src=\"/_js/slick/slick.min.js\" type=\"text/javascript\" charset=\"utf-8\"></script>\n",
      "<link rel=\"stylesheet\" type=\"text/css\" href=\"/userfiles/js/shadowbox/shadowbox.css\" />\n",
      "<script type=\"text/javascript\" src=\"/userfiles/js/shadowbox/shadowbox.js\"></script>\n",
      "<script type=\"text/javascript\">Shadowbox.init();</script>\n",
      "<script src=\"/_js/_main.js\"></script>\n",
      "</body>\n",
      "</html>\n",
      "\n"
     ]
    }
   ],
   "source": [
    "print(r.text)"
   ]
  },
  {
   "cell_type": "markdown",
   "metadata": {
    "lc_cell_meme": {
     "current": "98c5210a-4ad2-11e9-9859-0242ac110002",
     "next": "98c52150-4ad2-11e9-9859-0242ac110002",
     "previous": "98c520c4-4ad2-11e9-9859-0242ac110002"
    }
   },
   "source": [
    "`GET`以外のメソッド(POST, PUT, DELETE, HEAD, ...)でリクエストを行う場合は以下のように呼び出すことができます。\n",
    "```\n",
    "r = requests.post(url)\n",
    "r = requests.put(url)\n",
    "r = requests.delete(url)\n",
    "r = requests.head(url)\n",
    "```"
   ]
  },
  {
   "cell_type": "markdown",
   "metadata": {
    "heading_collapsed": true,
    "lc_cell_meme": {
     "current": "98c52150-4ad2-11e9-9859-0242ac110002",
     "next": "98c52196-4ad2-11e9-9859-0242ac110002",
     "previous": "98c5210a-4ad2-11e9-9859-0242ac110002"
    }
   },
   "source": [
    "# Vaultサーバにアクセスする\n",
    "\n",
    "Vaultサーバに対して[HTTP API](https://www.vaultproject.io/api/index.html)でアクセスして値の格納、取得などの操作を行ってみます。"
   ]
  },
  {
   "cell_type": "markdown",
   "metadata": {
    "hidden": true,
    "lc_cell_meme": {
     "current": "98c52196-4ad2-11e9-9859-0242ac110002",
     "next": "98c521e6-4ad2-11e9-9859-0242ac110002",
     "previous": "98c52150-4ad2-11e9-9859-0242ac110002"
    }
   },
   "source": [
    "VaultサーバのHTTP APIはシークレットエンジン毎にそれぞれ用意されています。\n",
    "\n",
    "1. [KV シークレットエンジン Version 1 API](https://www.vaultproject.io/api/secret/kv/kv-v1.html)\n",
    "1. [Cubbyhole シークレットエンジン API](https://www.vaultproject.io/api/secret/cubbyhole/index.html)\n",
    "\n",
    "ここではVCPでの利用機会が多いと思われる Cubbyholeシークレットエンジンの例を紹介します。"
   ]
  },
  {
   "cell_type": "markdown",
   "metadata": {
    "hidden": true,
    "lc_cell_meme": {
     "current": "98c521e6-4ad2-11e9-9859-0242ac110002",
     "next": "98c5222c-4ad2-11e9-9859-0242ac110002",
     "previous": "98c52196-4ad2-11e9-9859-0242ac110002"
    }
   },
   "source": [
    "## 値を格納する"
   ]
  },
  {
   "cell_type": "markdown",
   "metadata": {
    "hidden": true,
    "lc_cell_meme": {
     "current": "98c5222c-4ad2-11e9-9859-0242ac110002",
     "next": "98c5227c-4ad2-11e9-9859-0242ac110002",
     "previous": "98c521e6-4ad2-11e9-9859-0242ac110002"
    }
   },
   "source": [
    "まずは以下のような設定で値を格納してみます。\n",
    "\n",
    "* シークレットエンジン\n",
    "  - cubbyhole\n",
    "* 格納場所\n",
    "  - vcp/my-secret\n",
    "* 格納データ(Key=Value)\n",
    "  - foo=bar\n",
    "  - zip=zap"
   ]
  },
  {
   "cell_type": "code",
   "execution_count": 9,
   "metadata": {
    "deletable": false,
    "editable": false,
    "hidden": true,
    "lc_cell_meme": {
     "current": "98c5227c-4ad2-11e9-9859-0242ac110002",
     "next": "98c522c2-4ad2-11e9-9859-0242ac110002",
     "previous": "98c5222c-4ad2-11e9-9859-0242ac110002"
    },
    "run_through_control": {
     "frozen": true
    }
   },
   "outputs": [
    {
     "name": "stdout",
     "output_type": "stream",
     "text": [
      "http://192.168.2.1:8200/v1/cubbyhole/vcp/my-secret\n"
     ]
    },
    {
     "data": {
      "text/plain": [
       "<Response [204]>"
      ]
     },
     "execution_count": 9,
     "metadata": {},
     "output_type": "execute_result"
    }
   ],
   "source": [
    "# HTTP APIのURL\n",
    "url = '{addr}/v1/{engine}/{path}'.format(\n",
    "    addr=vault_address,\n",
    "    engine='cubbyhole',    # シークレットエンジンの指定\n",
    "    path='vcp/my-secret',  # 格納場所の指定\n",
    ")\n",
    "print(url)\n",
    "\n",
    "# 格納データを dictに設定する\n",
    "payload = {\n",
    "    'foo': 'bar',\n",
    "    'zip': 'zap',\n",
    "}\n",
    "\n",
    "# アクセストークンをHTTPヘッダに設定する\n",
    "custom_headers = {\n",
    "    'X-Vault-Token': vcc_access_token,\n",
    "}\n",
    "\n",
    "# 値を格納する HTTP APIを呼び出す\n",
    "r = requests.post(url, headers=custom_headers, json=payload)\n",
    "r"
   ]
  },
  {
   "cell_type": "markdown",
   "metadata": {
    "hidden": true,
    "lc_cell_meme": {
     "current": "98c522c2-4ad2-11e9-9859-0242ac110002",
     "next": "98c52312-4ad2-11e9-9859-0242ac110002",
     "previous": "98c5227c-4ad2-11e9-9859-0242ac110002"
    }
   },
   "source": [
    "HTTP APIの URL が `http://xxx.xxx.xxx.xxx:8200/v1/cubbyhole/vcp/my-secret` として表示されているはずです。その後に`204`のステータスコードがレスポンスとして表示されていれば `cubbyhole` への値の格納は成功です。"
   ]
  },
  {
   "cell_type": "markdown",
   "metadata": {
    "hidden": true,
    "lc_cell_meme": {
     "current": "98c52312-4ad2-11e9-9859-0242ac110002",
     "next": "98c52358-4ad2-11e9-9859-0242ac110002",
     "previous": "98c522c2-4ad2-11e9-9859-0242ac110002"
    }
   },
   "source": [
    "[cubbyholeに値を格納するAPI](https://www.vaultproject.io/api/secret/cubbyhole/index.html#create-update-secret)についてもう少し詳しくみてみます。\n",
    "\n",
    "> APIの詳細についてはリンク先の公式ドキュメントを参照してください。\n",
    "\n",
    "まず、Vaultサーバに値を格納する場合の HTTP メソッドですが、`POST`, `PUT` のいずれかを用います。どちらを用いても同じですが、上の例では `POST`を使用しています。\n",
    "\n",
    "Requestsライブラリで HTTPメソッドの`POST`リクエストを行うには `url`を指定して `post()` を呼び出します。\n",
    "\n",
    "```\n",
    "r = requests.post(url, ...)\n",
    "```\n",
    "\n",
    "値の格納が成功した場合のレスポンスのステータスコードは `204` になります。"
   ]
  },
  {
   "cell_type": "markdown",
   "metadata": {
    "hidden": true,
    "lc_cell_meme": {
     "current": "98c52358-4ad2-11e9-9859-0242ac110002",
     "next": "98c5239e-4ad2-11e9-9859-0242ac110002",
     "previous": "98c52312-4ad2-11e9-9859-0242ac110002"
    }
   },
   "source": [
    "シークレットエンジンと格納場所の指定は `POST`を行う URLで設定します。URLを以下のように指定します。\n",
    "\n",
    "```\n",
    "{vaultサーバのアドレス}/v1/{シークレットエンジン}/{格納場所}\n",
    "```\n",
    "\n",
    "例えば、先程の例のように `cubbyhole` の `vcp/my-secret` に格納する場合は\n",
    "\n",
    "```\n",
    "http://xxx.xxx.xxx.xxx:8200/v1/cubbyhole/vcp/my-secret\n",
    "```\n",
    "\n",
    "のようになります。格納場所の指定には `vcp/my-secret`のようにパスライクな値を指定することができます。"
   ]
  },
  {
   "cell_type": "markdown",
   "metadata": {
    "hidden": true,
    "lc_cell_meme": {
     "current": "98c5239e-4ad2-11e9-9859-0242ac110002",
     "next": "98c523f8-4ad2-11e9-9859-0242ac110002",
     "previous": "98c52358-4ad2-11e9-9859-0242ac110002"
    }
   },
   "source": [
    "次にVaultサーバに格納するデータの指定方法ですが、HTTPの本文（メッセージボディー）に json 形式でキー、バリューを記述します。キー、バリューの組は複数の組を記述することができます。\n",
    "\n",
    "Requests ライブラリで`POST`リクエストの本文をjson形式で指定するには `post()` の `json`パラメータにキー、バリューの `dict` を設定します。\n",
    "\n",
    "```\n",
    "requests.post(..., json={\n",
    "    'key1': 'value1',\n",
    "    'key2': 'value2',\n",
    "})\n",
    "```"
   ]
  },
  {
   "cell_type": "markdown",
   "metadata": {
    "hidden": true,
    "lc_cell_meme": {
     "current": "98c523f8-4ad2-11e9-9859-0242ac110002",
     "next": "98c5243e-4ad2-11e9-9859-0242ac110002",
     "previous": "98c5239e-4ad2-11e9-9859-0242ac110002"
    }
   },
   "source": [
    "最後にVaultサーバのHTTP APIにアクセスするためのアクセストークンの指定方法について記します。アクセストークンはHTTPリクエストの `X-Vault-Token` ヘッダーに指定します。\n",
    "\n",
    "Requests ライブラリでHTTPリクエストにカスタムヘッダーを指定するには、`post()` の `headers`パラメータにヘッダーの `dict` を設定します。\n",
    "\n",
    "```\n",
    "requests.post(..., headers={'X-Vault-Token': 'xxxxxxxxxx'})\n",
    "```"
   ]
  },
  {
   "cell_type": "markdown",
   "metadata": {
    "hidden": true,
    "lc_cell_meme": {
     "current": "98c5243e-4ad2-11e9-9859-0242ac110002",
     "next": "98c52484-4ad2-11e9-9859-0242ac110002",
     "previous": "98c523f8-4ad2-11e9-9859-0242ac110002"
    }
   },
   "source": [
    "## 値を取得する\n",
    "\n",
    "先程Vaultサーバに格納した値を取得してみます。"
   ]
  },
  {
   "cell_type": "markdown",
   "metadata": {
    "hidden": true,
    "lc_cell_meme": {
     "current": "98c52484-4ad2-11e9-9859-0242ac110002",
     "next": "98c524ca-4ad2-11e9-9859-0242ac110002",
     "previous": "98c5243e-4ad2-11e9-9859-0242ac110002"
    }
   },
   "source": [
    "値を格納する場合の HTTPメソッドは `POST`, `PUT`でしたが、[値を取得するAPI](https://www.vaultproject.io/api/secret/cubbyhole/index.html#read-secret)では `GET` を用います。また成功した場合のステータスコードは `200` になります。\n",
    "\n",
    "URLとヘッダーの指定方法は、値を格納するHTTP APIの場合に記したものと同様です。"
   ]
  },
  {
   "cell_type": "code",
   "execution_count": 10,
   "metadata": {
    "deletable": false,
    "editable": false,
    "hidden": true,
    "lc_cell_meme": {
     "current": "98c524ca-4ad2-11e9-9859-0242ac110002",
     "next": "98c5251a-4ad2-11e9-9859-0242ac110002",
     "previous": "98c52484-4ad2-11e9-9859-0242ac110002"
    },
    "run_through_control": {
     "frozen": true
    }
   },
   "outputs": [
    {
     "name": "stdout",
     "output_type": "stream",
     "text": [
      "http://192.168.2.1:8200/v1/cubbyhole/vcp/my-secret\n"
     ]
    },
    {
     "data": {
      "text/plain": [
       "<Response [200]>"
      ]
     },
     "execution_count": 10,
     "metadata": {},
     "output_type": "execute_result"
    }
   ],
   "source": [
    "# URLは先ほどと同じなので設定済みの値をそのまま利用している\n",
    "# アクセストークンを設定設定したヘッダーについても同様\n",
    "\n",
    "# URLを表示する\n",
    "print(url)\n",
    "\n",
    "# 値を取得する HTTP APIを呼び出す\n",
    "r = requests.get(url, headers=custom_headers)\n",
    "r"
   ]
  },
  {
   "cell_type": "markdown",
   "metadata": {
    "hidden": true,
    "lc_cell_meme": {
     "current": "98c5251a-4ad2-11e9-9859-0242ac110002",
     "next": "98c52560-4ad2-11e9-9859-0242ac110002",
     "previous": "98c524ca-4ad2-11e9-9859-0242ac110002"
    }
   },
   "source": [
    "取得した値はHTTPレスポンスの本文に json 形式で格納されています。\n",
    "\n",
    "Requestsライブラリではレスポンスの本文から json 形式のデータを取り出すための関数 `json()`が用意されています。`json()`を呼び出してVaultサーバからのレスポンスを取得してみます。"
   ]
  },
  {
   "cell_type": "code",
   "execution_count": 11,
   "metadata": {
    "deletable": false,
    "editable": false,
    "hidden": true,
    "lc_cell_meme": {
     "current": "98c52560-4ad2-11e9-9859-0242ac110002",
     "next": "98c525a6-4ad2-11e9-9859-0242ac110002",
     "previous": "98c5251a-4ad2-11e9-9859-0242ac110002"
    },
    "run_through_control": {
     "frozen": true
    }
   },
   "outputs": [
    {
     "data": {
      "text/plain": [
       "{'request_id': 'fb04082c-9ff6-d100-6eb4-046133731056',\n",
       " 'lease_id': '',\n",
       " 'renewable': False,\n",
       " 'lease_duration': 0,\n",
       " 'data': {'foo': 'bar', 'zip': 'zap'},\n",
       " 'wrap_info': None,\n",
       " 'warnings': None,\n",
       " 'auth': None}"
      ]
     },
     "execution_count": 11,
     "metadata": {},
     "output_type": "execute_result"
    }
   ],
   "source": [
    "r.json()"
   ]
  },
  {
   "cell_type": "markdown",
   "metadata": {
    "hidden": true,
    "lc_cell_meme": {
     "current": "98c525a6-4ad2-11e9-9859-0242ac110002",
     "next": "98c525ec-4ad2-11e9-9859-0242ac110002",
     "previous": "98c52560-4ad2-11e9-9859-0242ac110002"
    }
   },
   "source": [
    "レスポンスの本文にはキー、バリューの値だけではなくそれに付随するメタデータも含まれています。キー、バリューは `data` に対応する部分なので、そこだけを表示させてみます。"
   ]
  },
  {
   "cell_type": "code",
   "execution_count": 12,
   "metadata": {
    "deletable": false,
    "editable": false,
    "hidden": true,
    "lc_cell_meme": {
     "current": "98c525ec-4ad2-11e9-9859-0242ac110002",
     "next": "98c5263c-4ad2-11e9-9859-0242ac110002",
     "previous": "98c525a6-4ad2-11e9-9859-0242ac110002"
    },
    "run_through_control": {
     "frozen": true
    }
   },
   "outputs": [
    {
     "data": {
      "text/plain": [
       "{'foo': 'bar', 'zip': 'zap'}"
      ]
     },
     "execution_count": 12,
     "metadata": {},
     "output_type": "execute_result"
    }
   ],
   "source": [
    "r.json()['data']"
   ]
  },
  {
   "cell_type": "markdown",
   "metadata": {
    "hidden": true,
    "lc_cell_meme": {
     "current": "98c5263c-4ad2-11e9-9859-0242ac110002",
     "next": "98c52682-4ad2-11e9-9859-0242ac110002",
     "previous": "98c525ec-4ad2-11e9-9859-0242ac110002"
    }
   },
   "source": [
    "先程設定したキー、バリューが取得できることが確認できました。"
   ]
  },
  {
   "cell_type": "markdown",
   "metadata": {
    "hidden": true,
    "lc_cell_meme": {
     "current": "98c52682-4ad2-11e9-9859-0242ac110002",
     "next": "98c526c8-4ad2-11e9-9859-0242ac110002",
     "previous": "98c5263c-4ad2-11e9-9859-0242ac110002"
    }
   },
   "source": [
    "## 一覧取得\n",
    "\n",
    "Vaultサーバの指定した場所に格納されているエントリの一覧を取得してみます。"
   ]
  },
  {
   "cell_type": "markdown",
   "metadata": {
    "hidden": true,
    "lc_cell_meme": {
     "current": "98c526c8-4ad2-11e9-9859-0242ac110002",
     "next": "98c5270e-4ad2-11e9-9859-0242ac110002",
     "previous": "98c52682-4ad2-11e9-9859-0242ac110002"
    }
   },
   "source": [
    "[エントリの一覧を取得する](https://www.vaultproject.io/api/secret/cubbyhole/index.html#list-secrets)にはHTTPのメソッドに `LIST` を指定します。このメソッドは HTTP の標準メソッドではないので Requests ライブラリで呼び出すには `request()`関数を利用します。\n",
    "\n",
    "```\n",
    "r = requests.request('LIST', ...)\n",
    "```"
   ]
  },
  {
   "cell_type": "markdown",
   "metadata": {
    "hidden": true,
    "lc_cell_meme": {
     "current": "98c5270e-4ad2-11e9-9859-0242ac110002",
     "next": "98c5275e-4ad2-11e9-9859-0242ac110002",
     "previous": "98c526c8-4ad2-11e9-9859-0242ac110002"
    }
   },
   "source": [
    "指定する URL にはエントリの一覧を取得するパスを指定します。先程の実行例では `vcp/` を指定しています。\n",
    "\n",
    "> 格納場所の指定には、値を格納したパスではなく、親ディレクトリに相当するパスを指定する必要があります。"
   ]
  },
  {
   "cell_type": "code",
   "execution_count": 13,
   "metadata": {
    "deletable": false,
    "editable": false,
    "hidden": true,
    "lc_cell_meme": {
     "current": "98c5275e-4ad2-11e9-9859-0242ac110002",
     "next": "98c527ae-4ad2-11e9-9859-0242ac110002",
     "previous": "98c5270e-4ad2-11e9-9859-0242ac110002"
    },
    "run_through_control": {
     "frozen": true
    },
    "scrolled": true
   },
   "outputs": [
    {
     "name": "stdout",
     "output_type": "stream",
     "text": [
      "http://192.168.2.1:8200/v1/cubbyhole/vcp/\n"
     ]
    },
    {
     "data": {
      "text/plain": [
       "<Response [200]>"
      ]
     },
     "execution_count": 13,
     "metadata": {},
     "output_type": "execute_result"
    }
   ],
   "source": [
    "# HTTP APIのURL\n",
    "url_p = '{addr}/v1/{engine}/{path}'.format(\n",
    "    addr=vault_address,\n",
    "    engine='cubbyhole',   # シークレットエンジンの指定\n",
    "    path='vcp/',          # 一覧取得対象の指定\n",
    ")\n",
    "# URLを表示する\n",
    "print(url_p)\n",
    "\n",
    "# エントリの一覧を取得する HTTP APIを呼び出す\n",
    "# アクセストークンは先ほどと同じなので設定済みの値をそのまま利用している\n",
    "r = requests.request('LIST', url_p, headers=custom_headers)\n",
    "r"
   ]
  },
  {
   "cell_type": "markdown",
   "metadata": {
    "hidden": true,
    "lc_cell_meme": {
     "current": "98c527ae-4ad2-11e9-9859-0242ac110002",
     "next": "98c527f4-4ad2-11e9-9859-0242ac110002",
     "previous": "98c5275e-4ad2-11e9-9859-0242ac110002"
    }
   },
   "source": [
    "一覧の取得に成功したするとレスポンスのステータスコードは `200`になります。\n",
    "\n",
    "取得結果はレスポンスの本文に json 形式で格納されています。そのうち、エントリの一覧情報は `data` 要素にあります。"
   ]
  },
  {
   "cell_type": "code",
   "execution_count": 14,
   "metadata": {
    "deletable": false,
    "editable": false,
    "hidden": true,
    "lc_cell_meme": {
     "current": "98c527f4-4ad2-11e9-9859-0242ac110002",
     "next": "98c5283a-4ad2-11e9-9859-0242ac110002",
     "previous": "98c527ae-4ad2-11e9-9859-0242ac110002"
    },
    "run_through_control": {
     "frozen": true
    }
   },
   "outputs": [
    {
     "data": {
      "text/plain": [
       "{'keys': ['my-secret']}"
      ]
     },
     "execution_count": 14,
     "metadata": {},
     "output_type": "execute_result"
    }
   ],
   "source": [
    "r.json()['data']"
   ]
  },
  {
   "cell_type": "markdown",
   "metadata": {
    "hidden": true,
    "lc_cell_meme": {
     "current": "98c5283a-4ad2-11e9-9859-0242ac110002",
     "next": "98c52880-4ad2-11e9-9859-0242ac110002",
     "previous": "98c527f4-4ad2-11e9-9859-0242ac110002"
    }
   },
   "source": [
    "URLに親ディレクトリ相当のパスではなく、値が格納されているパスを指定するとエラー`404`になります。"
   ]
  },
  {
   "cell_type": "code",
   "execution_count": 15,
   "metadata": {
    "deletable": false,
    "editable": false,
    "hidden": true,
    "lc_cell_meme": {
     "current": "98c52880-4ad2-11e9-9859-0242ac110002",
     "next": "98c528c6-4ad2-11e9-9859-0242ac110002",
     "previous": "98c5283a-4ad2-11e9-9859-0242ac110002"
    },
    "run_through_control": {
     "frozen": true
    }
   },
   "outputs": [
    {
     "name": "stdout",
     "output_type": "stream",
     "text": [
      "http://192.168.2.1:8200/v1/cubbyhole/vcp/my-secret\n",
      "<Response [404]>\n"
     ]
    }
   ],
   "source": [
    "# URLを表示する\n",
    "print(url)\n",
    "\n",
    "r = requests.request('LIST', url, headers=custom_headers)\n",
    "print(r)"
   ]
  },
  {
   "cell_type": "markdown",
   "metadata": {
    "hidden": true,
    "lc_cell_meme": {
     "current": "98c528c6-4ad2-11e9-9859-0242ac110002",
     "next": "98c5290c-4ad2-11e9-9859-0242ac110002",
     "previous": "98c52880-4ad2-11e9-9859-0242ac110002"
    }
   },
   "source": [
    "## 値の削除\n",
    "\n",
    "先程格納した値を削除してみます。"
   ]
  },
  {
   "cell_type": "markdown",
   "metadata": {
    "hidden": true,
    "lc_cell_meme": {
     "current": "98c5290c-4ad2-11e9-9859-0242ac110002",
     "next": "98c52952-4ad2-11e9-9859-0242ac110002",
     "previous": "98c528c6-4ad2-11e9-9859-0242ac110002"
    }
   },
   "source": [
    "[削除するには](https://www.vaultproject.io/api/secret/cubbyhole/index.html#delete-secret) `DELETE`メソッドを用います。URLとヘッダーの指定は値の設定、取得の場合と同様です。"
   ]
  },
  {
   "cell_type": "code",
   "execution_count": 16,
   "metadata": {
    "deletable": false,
    "editable": false,
    "hidden": true,
    "lc_cell_meme": {
     "current": "98c52952-4ad2-11e9-9859-0242ac110002",
     "next": "98c529a2-4ad2-11e9-9859-0242ac110002",
     "previous": "98c5290c-4ad2-11e9-9859-0242ac110002"
    },
    "run_through_control": {
     "frozen": true
    }
   },
   "outputs": [
    {
     "name": "stdout",
     "output_type": "stream",
     "text": [
      "http://192.168.2.1:8200/v1/cubbyhole/vcp/my-secret\n"
     ]
    },
    {
     "data": {
      "text/plain": [
       "<Response [204]>"
      ]
     },
     "execution_count": 16,
     "metadata": {},
     "output_type": "execute_result"
    }
   ],
   "source": [
    "# URLは先ほどと同じなので設定済みの値をそのまま利用している\n",
    "# アクセストークンを設定設定したヘッダーについても同様\n",
    "\n",
    "# URLを表示する\n",
    "print(url)\n",
    "\n",
    "# 値を削除する HTTP APIを呼び出す\n",
    "r = requests.delete(url, headers=custom_headers)\n",
    "r"
   ]
  },
  {
   "cell_type": "markdown",
   "metadata": {
    "hidden": true,
    "lc_cell_meme": {
     "current": "98c529a2-4ad2-11e9-9859-0242ac110002",
     "next": "98c529e8-4ad2-11e9-9859-0242ac110002",
     "previous": "98c52952-4ad2-11e9-9859-0242ac110002"
    }
   },
   "source": [
    "削除に成功した場合のステータスコードは `204`です。"
   ]
  },
  {
   "cell_type": "markdown",
   "metadata": {
    "hidden": true,
    "lc_cell_meme": {
     "current": "98c529e8-4ad2-11e9-9859-0242ac110002",
     "next": "98c52a2e-4ad2-11e9-9859-0242ac110002",
     "previous": "98c529a2-4ad2-11e9-9859-0242ac110002"
    }
   },
   "source": [
    "削除できたことを確認するために格納されているエントリの一覧取得を行ってみます。\n",
    "`vcp/`に格納したエントリが全て無くなっているので `404` がレスポンスとして返ってくるはずです。"
   ]
  },
  {
   "cell_type": "code",
   "execution_count": 17,
   "metadata": {
    "deletable": false,
    "editable": false,
    "hidden": true,
    "lc_cell_meme": {
     "current": "98c52a2e-4ad2-11e9-9859-0242ac110002",
     "next": "98c52a74-4ad2-11e9-9859-0242ac110002",
     "previous": "98c529e8-4ad2-11e9-9859-0242ac110002"
    },
    "run_through_control": {
     "frozen": true
    }
   },
   "outputs": [
    {
     "name": "stdout",
     "output_type": "stream",
     "text": [
      "http://192.168.2.1:8200/v1/cubbyhole/vcp/\n",
      "<Response [404]>\n"
     ]
    }
   ],
   "source": [
    "# URLを表示する\n",
    "print(url_p)\n",
    "\n",
    "# 一覧取得\n",
    "r = requests.request('LIST', url_p, headers=custom_headers)\n",
    "print(r)"
   ]
  },
  {
   "cell_type": "markdown",
   "metadata": {
    "lc_cell_meme": {
     "current": "98c52a74-4ad2-11e9-9859-0242ac110002",
     "next": "98c52aba-4ad2-11e9-9859-0242ac110002",
     "previous": "98c52a2e-4ad2-11e9-9859-0242ac110002"
    }
   },
   "source": [
    "# AWSの認証情報を Vaultサーバから読み込むようにVCP SDKの設定を変更する\n",
    "\n",
    "現在のハンズオン環境では VCP SDKの設定ファイル`vcp_config.yml`にAWSの認証情報が直接書き込まれています。これをVaultサーバから AWSの認証情報を読み込むように設定を変更します。"
   ]
  },
  {
   "cell_type": "markdown",
   "metadata": {
    "lc_cell_meme": {
     "current": "98c52aba-4ad2-11e9-9859-0242ac110002",
     "next": "98c52b0a-4ad2-11e9-9859-0242ac110002",
     "previous": "98c52a74-4ad2-11e9-9859-0242ac110002"
    }
   },
   "source": [
    "## AWS の認証情報を Vault サーバに格納する\n",
    "\n",
    "VCP SDKの設定ファイルに書き込まれているAWSの認証情報をVaultサーバに格納します。"
   ]
  },
  {
   "cell_type": "markdown",
   "metadata": {
    "lc_cell_meme": {
     "current": "98c52b0a-4ad2-11e9-9859-0242ac110002",
     "next": "98c52b5a-4ad2-11e9-9859-0242ac110002",
     "previous": "98c52aba-4ad2-11e9-9859-0242ac110002"
    }
   },
   "source": [
    "ハンズオン環境ではVCP SDKの設定ファイル`vcp_config.yml`にAWSの認証情報が平文で書き込まれています。次のセルを実行すると`vcp_config.yml`をJupyter Notebook のファイル編集機能で開くためのリンクが表示されます。`vcp_config.yml`を開いて認証情報を確認してください。\n",
    "\n",
    "ここで必要となるAWSのアクセスキー、シークレットキーは`vcp_config.yml`に`access_key`, `secret_key` として書き込まれています。。\n",
    "\n",
    "```\n",
    "# AWS の設定\n",
    "#\n",
    "aws:\n",
    "    access_key: XXXXXXXX\n",
    "    secret_key: xxxxxxxxxxxx\n",
    "```"
   ]
  },
  {
   "cell_type": "code",
   "execution_count": 18,
   "metadata": {
    "deletable": false,
    "editable": false,
    "lc_cell_meme": {
     "current": "98c52b5a-4ad2-11e9-9859-0242ac110002",
     "next": "98c52baa-4ad2-11e9-9859-0242ac110002",
     "previous": "98c52b0a-4ad2-11e9-9859-0242ac110002"
    },
    "run_through_control": {
     "frozen": true
    }
   },
   "outputs": [
    {
     "data": {
      "text/html": [
       "<a href=\"/handson/edit/vcpsdk/config/vcp_config.yml\" target=\"_blank\">vcp_config.yml</a>"
      ],
      "text/plain": [
       "<IPython.core.display.HTML object>"
      ]
     },
     "execution_count": 18,
     "metadata": {},
     "output_type": "execute_result"
    }
   ],
   "source": [
    "%run scripts/nbutils.py\n",
    "\n",
    "nb_html_link('/notebooks/notebook/vcpsdk/config/vcp_config.yml', 'vcp_config.yml')"
   ]
  },
  {
   "cell_type": "markdown",
   "metadata": {
    "lc_cell_meme": {
     "current": "98c52baa-4ad2-11e9-9859-0242ac110002",
     "next": "98c52bf0-4ad2-11e9-9859-0242ac110002",
     "previous": "98c52b5a-4ad2-11e9-9859-0242ac110002"
    }
   },
   "source": [
    "AWSのアクセスキー、シークレットキーをVaultサーバに格納するために、まずはPythonの変数にそれぞれの値を設定します。\n",
    "\n",
    "`vcp_config.yml`で確認したAWSのアクセスキーの値を入力してください。"
   ]
  },
  {
   "cell_type": "code",
   "execution_count": 19,
   "metadata": {
    "deletable": false,
    "editable": false,
    "lc_cell_meme": {
     "current": "98c52bf0-4ad2-11e9-9859-0242ac110002",
     "next": "98c52c36-4ad2-11e9-9859-0242ac110002",
     "previous": "98c52baa-4ad2-11e9-9859-0242ac110002"
    },
    "run_through_control": {
     "frozen": true
    }
   },
   "outputs": [
    {
     "name": "stdout",
     "output_type": "stream",
     "text": [
      "········\n"
     ]
    }
   ],
   "source": [
    "import getpass\n",
    "aws_access_key = getpass.getpass() "
   ]
  },
  {
   "cell_type": "markdown",
   "metadata": {
    "lc_cell_meme": {
     "current": "98c52c36-4ad2-11e9-9859-0242ac110002",
     "next": "98c52c7c-4ad2-11e9-9859-0242ac110002",
     "previous": "98c52bf0-4ad2-11e9-9859-0242ac110002"
    }
   },
   "source": [
    "同様にAWSのシークレットキーの値を入力してください。"
   ]
  },
  {
   "cell_type": "code",
   "execution_count": 20,
   "metadata": {
    "deletable": false,
    "editable": false,
    "lc_cell_meme": {
     "current": "98c52c7c-4ad2-11e9-9859-0242ac110002",
     "next": "98c52cc2-4ad2-11e9-9859-0242ac110002",
     "previous": "98c52c36-4ad2-11e9-9859-0242ac110002"
    },
    "run_through_control": {
     "frozen": true
    }
   },
   "outputs": [
    {
     "name": "stdout",
     "output_type": "stream",
     "text": [
      "········\n"
     ]
    }
   ],
   "source": [
    "aws_secret_key = getpass.getpass()"
   ]
  },
  {
   "cell_type": "markdown",
   "metadata": {
    "lc_cell_meme": {
     "current": "98c52cc2-4ad2-11e9-9859-0242ac110002",
     "next": "98c52d08-4ad2-11e9-9859-0242ac110002",
     "previous": "98c52c7c-4ad2-11e9-9859-0242ac110002"
    }
   },
   "source": [
    "VaultのHTTP APIを呼び出し、AWSのアクセスキーとシークレットキーを Vaultサーバに格納します。格納場所はそれぞれ以下のようにします。\n",
    "\n",
    "* アクセスキー\n",
    "  - cubbyhole/aws/access_key\n",
    "* シークレットキー\n",
    "  - cubbyhole/aws/secret_key"
   ]
  },
  {
   "cell_type": "markdown",
   "metadata": {
    "lc_cell_meme": {
     "current": "98c52d08-4ad2-11e9-9859-0242ac110002",
     "next": "98c52d58-4ad2-11e9-9859-0242ac110002",
     "previous": "98c52cc2-4ad2-11e9-9859-0242ac110002"
    }
   },
   "source": [
    "まずアクセスキーをVaultサーバに格納します。"
   ]
  },
  {
   "cell_type": "code",
   "execution_count": 21,
   "metadata": {
    "deletable": false,
    "editable": false,
    "lc_cell_meme": {
     "current": "98c52d58-4ad2-11e9-9859-0242ac110002",
     "next": "98c52d9e-4ad2-11e9-9859-0242ac110002",
     "previous": "98c52d08-4ad2-11e9-9859-0242ac110002"
    },
    "run_through_control": {
     "frozen": true
    }
   },
   "outputs": [
    {
     "name": "stdout",
     "output_type": "stream",
     "text": [
      "http://192.168.2.1:8200/v1/cubbyhole/aws/access_key\n"
     ]
    },
    {
     "data": {
      "text/plain": [
       "<Response [204]>"
      ]
     },
     "execution_count": 21,
     "metadata": {},
     "output_type": "execute_result"
    }
   ],
   "source": [
    "# 格納データを dictに設定する\n",
    "# VC Controller のフォーマットに合わせるためにキーの名前は value にする\n",
    "payload = {\n",
    "    'value': aws_access_key,\n",
    "}\n",
    "\n",
    "# HTTP APIのURL\n",
    "url = '{addr}/v1/{engine}/{path}'.format(\n",
    "    addr=vault_address,\n",
    "    engine='cubbyhole',\n",
    "    path='aws/access_key',\n",
    ")\n",
    "print(url)\n",
    "\n",
    "# 値の格納\n",
    "# アクセストークンは先ほどと同じなので設定済みの値をそのまま利用している\n",
    "r = requests.post(url, headers=custom_headers, json=payload)\n",
    "r"
   ]
  },
  {
   "cell_type": "markdown",
   "metadata": {
    "lc_cell_meme": {
     "current": "98c52d9e-4ad2-11e9-9859-0242ac110002",
     "next": "98c52de4-4ad2-11e9-9859-0242ac110002",
     "previous": "98c52d58-4ad2-11e9-9859-0242ac110002"
    }
   },
   "source": [
    "値の格納が成功したこと（レスポンスが `204`であること）を確認します。\n",
    "\n",
    "次にシークレットキーも同様に値の格納を行います。"
   ]
  },
  {
   "cell_type": "code",
   "execution_count": 22,
   "metadata": {
    "deletable": false,
    "editable": false,
    "lc_cell_meme": {
     "current": "98c52de4-4ad2-11e9-9859-0242ac110002",
     "next": "98c52e2a-4ad2-11e9-9859-0242ac110002",
     "previous": "98c52d9e-4ad2-11e9-9859-0242ac110002"
    },
    "run_through_control": {
     "frozen": true
    }
   },
   "outputs": [
    {
     "name": "stdout",
     "output_type": "stream",
     "text": [
      "http://192.168.2.1:8200/v1/cubbyhole/aws/secret_key\n"
     ]
    },
    {
     "data": {
      "text/plain": [
       "<Response [204]>"
      ]
     },
     "execution_count": 22,
     "metadata": {},
     "output_type": "execute_result"
    }
   ],
   "source": [
    "# 格納データを dictに設定する\n",
    "# VC Controller のフォーマットに合わせるためにキーの名前は value にする\n",
    "payload = {\n",
    "    'value': aws_secret_key,\n",
    "}\n",
    "\n",
    "# HTTP APIのURL\n",
    "url = '{addr}/v1/{engine}/{path}'.format(\n",
    "    addr=vault_address,\n",
    "    engine='cubbyhole',\n",
    "    path='aws/secret_key',\n",
    ")\n",
    "print(url)\n",
    "\n",
    "# 値の格納\n",
    "# アクセストークンは先ほどと同じなので設定済みの値をそのまま利用している\n",
    "r = requests.post(url, headers=custom_headers, json=payload)\n",
    "r"
   ]
  },
  {
   "cell_type": "markdown",
   "metadata": {
    "lc_cell_meme": {
     "current": "98c52e2a-4ad2-11e9-9859-0242ac110002",
     "next": "98c52e70-4ad2-11e9-9859-0242ac110002",
     "previous": "98c52de4-4ad2-11e9-9859-0242ac110002"
    }
   },
   "source": [
    "値の格納が成功したこと（レスポンスが `204`であること）を確認します。\n",
    "\n",
    "Vaultサーバに格納されたエントリの一覧を取得して、それぞれの値が所定の場所に格納されていることを確認します。"
   ]
  },
  {
   "cell_type": "code",
   "execution_count": 23,
   "metadata": {
    "deletable": false,
    "editable": false,
    "lc_cell_meme": {
     "current": "98c52e70-4ad2-11e9-9859-0242ac110002",
     "next": "98c52ec0-4ad2-11e9-9859-0242ac110002",
     "previous": "98c52e2a-4ad2-11e9-9859-0242ac110002"
    },
    "run_through_control": {
     "frozen": true
    }
   },
   "outputs": [
    {
     "name": "stdout",
     "output_type": "stream",
     "text": [
      "http://192.168.2.1:8200/v1/cubbyhole/aws/\n",
      "<Response [200]>\n",
      "{'keys': ['access_key', 'secret_key']}\n"
     ]
    }
   ],
   "source": [
    "# HTTP APIのURL\n",
    "url_p = '{addr}/v1/{engine}/{path}'.format(\n",
    "    addr=vault_address,\n",
    "    engine='cubbyhole',\n",
    "    path='aws/',\n",
    ")\n",
    "print(url_p)\n",
    "\n",
    "# 一覧の取得\n",
    "r = requests.request('LIST', url_p, headers=custom_headers)\n",
    "print(r)\n",
    "\n",
    "# 取得した一覧の表示\n",
    "print(r.json()['data'])"
   ]
  },
  {
   "cell_type": "markdown",
   "metadata": {
    "lc_cell_meme": {
     "current": "98c52ec0-4ad2-11e9-9859-0242ac110002",
     "next": "98c52f06-4ad2-11e9-9859-0242ac110002",
     "previous": "98c52e70-4ad2-11e9-9859-0242ac110002"
    }
   },
   "source": [
    "## 認証情報をVaultサーバから取得するように設定する\n",
    "\n",
    "認証情報をVaultサーバから取得するようにVCP SDKの設定ファイル`vcp_config.yml`を変更します。"
   ]
  },
  {
   "cell_type": "markdown",
   "metadata": {
    "lc_cell_meme": {
     "current": "98c52f06-4ad2-11e9-9859-0242ac110002",
     "next": "98c52f4c-4ad2-11e9-9859-0242ac110002",
     "previous": "98c52ec0-4ad2-11e9-9859-0242ac110002"
    }
   },
   "source": [
    "`vcp_config.yml`では、実際の値がVaultサーバに格納されていることを示すために以下のような記法が利用できます。\n",
    "\n",
    "```\n",
    "vault://(シークレットエンジン)/(格納場所のパス)\n",
    "```\n",
    "\n",
    "先程AWSのアクセスキーを Vault サーバ cubbyholeシークレットエンジン の `aws/access_key` に格納しましたが、この格納場所は\n",
    "\n",
    "```\n",
    "vault://cubbyhole/aws/access_key\n",
    "```\n",
    "\n",
    "と記すことができます。\n"
   ]
  },
  {
   "cell_type": "markdown",
   "metadata": {
    "lc_cell_meme": {
     "current": "98c52f4c-4ad2-11e9-9859-0242ac110002",
     "next": "98c52f9c-4ad2-11e9-9859-0242ac110002",
     "previous": "98c52f06-4ad2-11e9-9859-0242ac110002"
    }
   },
   "source": [
    "では、実際に `vcp_config.yml`の設定を変更する作業を行ってみます。\n",
    "\n",
    "まず、元の設定ファイルを一時的に退避する作業ディレクトリを作成します。"
   ]
  },
  {
   "cell_type": "code",
   "execution_count": 24,
   "metadata": {
    "deletable": false,
    "editable": false,
    "lc_cell_meme": {
     "current": "98c52f9c-4ad2-11e9-9859-0242ac110002",
     "next": "98c52fec-4ad2-11e9-9859-0242ac110002",
     "previous": "98c52f4c-4ad2-11e9-9859-0242ac110002"
    },
    "run_through_control": {
     "frozen": true
    }
   },
   "outputs": [
    {
     "name": "stdout",
     "output_type": "stream",
     "text": [
      "/tmp/tmpnk_b6crq\n"
     ]
    }
   ],
   "source": [
    "import tempfile\n",
    "\n",
    "work_dir = tempfile.mkdtemp()\n",
    "print(work_dir)"
   ]
  },
  {
   "cell_type": "markdown",
   "metadata": {
    "lc_cell_meme": {
     "current": "98c52fec-4ad2-11e9-9859-0242ac110002",
     "next": "98c5303c-4ad2-11e9-9859-0242ac110002",
     "previous": "98c52f9c-4ad2-11e9-9859-0242ac110002"
    }
   },
   "source": [
    "現在のVCP SDKの設定ファイル`vcp_config.yml`を作業ディレクトリにコピーします。"
   ]
  },
  {
   "cell_type": "code",
   "execution_count": 25,
   "metadata": {
    "deletable": false,
    "editable": false,
    "lc_cell_meme": {
     "current": "98c5303c-4ad2-11e9-9859-0242ac110002",
     "next": "98c53082-4ad2-11e9-9859-0242ac110002",
     "previous": "98c52fec-4ad2-11e9-9859-0242ac110002"
    },
    "run_through_control": {
     "frozen": true
    }
   },
   "outputs": [],
   "source": [
    "!cp /notebooks/notebook/vcpsdk/config/vcp_config.yml {work_dir}"
   ]
  },
  {
   "cell_type": "markdown",
   "metadata": {
    "lc_cell_meme": {
     "current": "98c53082-4ad2-11e9-9859-0242ac110002",
     "next": "98c530c8-4ad2-11e9-9859-0242ac110002",
     "previous": "98c5303c-4ad2-11e9-9859-0242ac110002"
    }
   },
   "source": [
    "次のセルを実行すると表示されるリンクをから `vcp_config.yml` が編集できます。AWSに対応する設定を以下のように変更してください。\n",
    "\n",
    "```\n",
    "aws:\n",
    "    access_key: vault://cubbyhole/aws/access_key\n",
    "    secret_key: vault://cubbyhole/aws/secret_key\n",
    "```\n",
    "\n",
    "> 設定ファイルは YAML フォーマットなのでインデントにはタブではなくスペースを用いてください。また、この例では `aws:` の前にはスペースなし、`access_key:`, `secret_key:` の前にはスペース４つを入れてください。"
   ]
  },
  {
   "cell_type": "code",
   "execution_count": 26,
   "metadata": {
    "deletable": false,
    "editable": false,
    "lc_cell_meme": {
     "current": "98c530c8-4ad2-11e9-9859-0242ac110002",
     "next": "98c5310e-4ad2-11e9-9859-0242ac110002",
     "previous": "98c53082-4ad2-11e9-9859-0242ac110002"
    },
    "run_through_control": {
     "frozen": true
    }
   },
   "outputs": [
    {
     "data": {
      "text/html": [
       "<a href=\"/handson/edit/vcpsdk/config/vcp_config.yml\" target=\"_blank\">vcp_config.yml</a>"
      ],
      "text/plain": [
       "<IPython.core.display.HTML object>"
      ]
     },
     "execution_count": 26,
     "metadata": {},
     "output_type": "execute_result"
    }
   ],
   "source": [
    "%run scripts/nbutils.py\n",
    "\n",
    "nb_html_link('/notebooks/notebook/vcpsdk/config/vcp_config.yml', 'vcp_config.yml')"
   ]
  },
  {
   "cell_type": "markdown",
   "metadata": {
    "lc_cell_meme": {
     "current": "98c5310e-4ad2-11e9-9859-0242ac110002",
     "next": "98c53154-4ad2-11e9-9859-0242ac110002",
     "previous": "98c530c8-4ad2-11e9-9859-0242ac110002"
    }
   },
   "source": [
    "設定ファイルが正しいフォーマットで保存されたことを確認するために VCP SDKで設定ファイルを読み込んでみます。フォーマットに誤りがある場合は次のセルを実行するとエラーになりますので、先程のリンクから再度編集しなおしてください。"
   ]
  },
  {
   "cell_type": "code",
   "execution_count": 27,
   "metadata": {
    "deletable": false,
    "editable": false,
    "lc_cell_meme": {
     "current": "98c53154-4ad2-11e9-9859-0242ac110002",
     "next": "98c531a4-4ad2-11e9-9859-0242ac110002",
     "previous": "98c5310e-4ad2-11e9-9859-0242ac110002"
    },
    "run_through_control": {
     "frozen": true
    }
   },
   "outputs": [],
   "source": [
    "from vcpsdk.vcpsdk import VcpConfigYaml\n",
    "\n",
    "# VCP SDK の設定ファイルを読み込む\n",
    "config = VcpConfigYaml(vcp.config_dir).load_config('vcp_config')"
   ]
  },
  {
   "cell_type": "markdown",
   "metadata": {
    "lc_cell_meme": {
     "current": "98c531a4-4ad2-11e9-9859-0242ac110002",
     "next": "98c531ea-4ad2-11e9-9859-0242ac110002",
     "previous": "98c53154-4ad2-11e9-9859-0242ac110002"
    }
   },
   "source": [
    "元のファイルを復元してから編集しなおしたい場合は次のセルのコメント `#` を外して実行してください。\n",
    "\n",
    "> 編集済のファイルを上書きしてしまいますので、注意して操作してください。"
   ]
  },
  {
   "cell_type": "code",
   "execution_count": 28,
   "metadata": {
    "deletable": false,
    "editable": false,
    "lc_cell_meme": {
     "current": "98c531ea-4ad2-11e9-9859-0242ac110002",
     "next": "98c53230-4ad2-11e9-9859-0242ac110002",
     "previous": "98c531a4-4ad2-11e9-9859-0242ac110002"
    },
    "run_through_control": {
     "frozen": true
    }
   },
   "outputs": [],
   "source": [
    "#!cp {work_dir}/vcp_config.yml /notebooks/notebook/vcpsdk/config/"
   ]
  },
  {
   "cell_type": "markdown",
   "metadata": {
    "lc_cell_meme": {
     "current": "98c53230-4ad2-11e9-9859-0242ac110002",
     "next": "98c53276-4ad2-11e9-9859-0242ac110002",
     "previous": "98c531ea-4ad2-11e9-9859-0242ac110002"
    }
   },
   "source": [
    "ここまでの作業でVCP SDKの設定ファイル`vcp_config.yml`を認証情報が直接記載されないように変更できました。"
   ]
  },
  {
   "cell_type": "markdown",
   "metadata": {
    "lc_cell_meme": {
     "current": "98c53276-4ad2-11e9-9859-0242ac110002",
     "next": "98c532bc-4ad2-11e9-9859-0242ac110002",
     "previous": "98c53230-4ad2-11e9-9859-0242ac110002"
    }
   },
   "source": [
    "## VCノード(Amazon EC2インスタンス)を起動できることを確認する"
   ]
  },
  {
   "cell_type": "markdown",
   "metadata": {
    "lc_cell_meme": {
     "current": "98c532bc-4ad2-11e9-9859-0242ac110002",
     "next": "98c53302-4ad2-11e9-9859-0242ac110002",
     "previous": "98c53276-4ad2-11e9-9859-0242ac110002"
    }
   },
   "source": [
    "設定変更が正しくおこなわれたことを確認するためにVCノード(Amazon EC2インスタンス)をVCP SDKで起動してみます。"
   ]
  },
  {
   "cell_type": "markdown",
   "metadata": {
    "heading_collapsed": true,
    "lc_cell_meme": {
     "current": "98c53302-4ad2-11e9-9859-0242ac110002",
     "next": "98c53348-4ad2-11e9-9859-0242ac110002",
     "previous": "98c532bc-4ad2-11e9-9859-0242ac110002"
    }
   },
   "source": [
    "### VCノードを起動する"
   ]
  },
  {
   "cell_type": "markdown",
   "metadata": {
    "hidden": true,
    "lc_cell_meme": {
     "current": "98c53348-4ad2-11e9-9859-0242ac110002",
     "next": "98c53398-4ad2-11e9-9859-0242ac110002",
     "previous": "98c53302-4ad2-11e9-9859-0242ac110002"
    }
   },
   "source": [
    "UnitGroupを作成します。\n",
    "\n",
    "> `vcp` はアクセストークンの値をチェックしたときに作成したものを利用しています。"
   ]
  },
  {
   "cell_type": "code",
   "execution_count": 29,
   "metadata": {
    "deletable": false,
    "editable": false,
    "hidden": true,
    "lc_cell_meme": {
     "current": "98c53398-4ad2-11e9-9859-0242ac110002",
     "next": "98c533de-4ad2-11e9-9859-0242ac110002",
     "previous": "98c53348-4ad2-11e9-9859-0242ac110002"
    },
    "run_through_control": {
     "frozen": true
    }
   },
   "outputs": [],
   "source": [
    "unit_group = vcp.create_ugroup(\n",
    "    'handson102'       # UnitGroupの名前\n",
    ")"
   ]
  },
  {
   "cell_type": "markdown",
   "metadata": {
    "hidden": true,
    "lc_cell_meme": {
     "current": "98c533de-4ad2-11e9-9859-0242ac110002",
     "next": "98c53424-4ad2-11e9-9859-0242ac110002",
     "previous": "98c53398-4ad2-11e9-9859-0242ac110002"
    }
   },
   "source": [
    "UnitGroup, Unit, Nodeの状態を確認しておきます。"
   ]
  },
  {
   "cell_type": "code",
   "execution_count": 30,
   "metadata": {
    "deletable": false,
    "editable": false,
    "hidden": true,
    "lc_cell_meme": {
     "current": "98c53424-4ad2-11e9-9859-0242ac110002",
     "next": "98c53474-4ad2-11e9-9859-0242ac110002",
     "previous": "98c533de-4ad2-11e9-9859-0242ac110002"
    },
    "run_through_control": {
     "frozen": true
    }
   },
   "outputs": [
    {
     "data": {
      "text/html": [
       "<style  type=\"text/css\" >\n",
       "    #T_978aab2a_4ad2_11e9_9f6a_0242ac110002row0_col3 {\n",
       "            background-color:  #dfd;\n",
       "        }</style>  \n",
       "<table id=\"T_978aab2a_4ad2_11e9_9f6a_0242ac110002\" > \n",
       "<thead>    <tr> \n",
       "        <th class=\"blank level0\" ></th> \n",
       "        <th class=\"col_heading level0 col0\" >vcno</th> \n",
       "        <th class=\"col_heading level0 col1\" >vctype</th> \n",
       "        <th class=\"col_heading level0 col2\" >vcname</th> \n",
       "        <th class=\"col_heading level0 col3\" >state</th> \n",
       "        <th class=\"col_heading level0 col4\" >vcid</th> \n",
       "        <th class=\"col_heading level0 col5\" >cdate</th> \n",
       "    </tr></thead> \n",
       "<tbody>    <tr> \n",
       "        <th id=\"T_978aab2a_4ad2_11e9_9f6a_0242ac110002level0_row0\" class=\"row_heading level0 row0\" >0</th> \n",
       "        <td id=\"T_978aab2a_4ad2_11e9_9f6a_0242ac110002row0_col0\" class=\"data row0 col0\" >34</td> \n",
       "        <td id=\"T_978aab2a_4ad2_11e9_9f6a_0242ac110002row0_col1\" class=\"data row0 col1\" >compute</td> \n",
       "        <td id=\"T_978aab2a_4ad2_11e9_9f6a_0242ac110002row0_col2\" class=\"data row0 col2\" >handson102</td> \n",
       "        <td id=\"T_978aab2a_4ad2_11e9_9f6a_0242ac110002row0_col3\" class=\"data row0 col3\" >RUNNING</td> \n",
       "        <td id=\"T_978aab2a_4ad2_11e9_9f6a_0242ac110002row0_col4\" class=\"data row0 col4\" >3700dda0...</td> \n",
       "        <td id=\"T_978aab2a_4ad2_11e9_9f6a_0242ac110002row0_col5\" class=\"data row0 col5\" >2019/03/20 05:39:27 UTC</td> \n",
       "    </tr></tbody> \n",
       "</table> "
      ],
      "text/plain": [
       "<pandas.io.formats.style.Styler at 0x7f43265759b0>"
      ]
     },
     "metadata": {},
     "output_type": "display_data"
    },
    {
     "data": {
      "text/html": [
       "<div>\n",
       "<style scoped>\n",
       "    .dataframe tbody tr th:only-of-type {\n",
       "        vertical-align: middle;\n",
       "    }\n",
       "\n",
       "    .dataframe tbody tr th {\n",
       "        vertical-align: top;\n",
       "    }\n",
       "\n",
       "    .dataframe thead th {\n",
       "        text-align: right;\n",
       "    }\n",
       "</style>\n",
       "<table border=\"1\" class=\"dataframe\">\n",
       "  <thead>\n",
       "    <tr style=\"text-align: right;\">\n",
       "      <th></th>\n",
       "      <th>vctype</th>\n",
       "      <th>vcno</th>\n",
       "      <th>vcname</th>\n",
       "      <th>vc_state</th>\n",
       "      <th>vcid</th>\n",
       "      <th>cdate</th>\n",
       "      <th>unit_name</th>\n",
       "      <th>unit_state</th>\n",
       "    </tr>\n",
       "  </thead>\n",
       "  <tbody>\n",
       "  </tbody>\n",
       "</table>\n",
       "</div>"
      ],
      "text/plain": [
       "Empty DataFrame\n",
       "Columns: [vctype, vcno, vcname, vc_state, vcid, cdate, unit_name, unit_state]\n",
       "Index: []"
      ]
     },
     "metadata": {},
     "output_type": "display_data"
    },
    {
     "data": {
      "text/plain": [
       "[]"
      ]
     },
     "metadata": {},
     "output_type": "display_data"
    }
   ],
   "source": [
    "from IPython.display import display\n",
    "\n",
    "# UnitGroupの一覧を DataFrame で表示する\n",
    "display(vcp.df_ugroups())\n",
    "\n",
    "# Unitの一覧を DataFrame で表示する\n",
    "display(unit_group.df_units())\n",
    "\n",
    "# Nodeの一覧を DataFrame で表示する\n",
    "display(unit_group.df_nodes())"
   ]
  },
  {
   "cell_type": "markdown",
   "metadata": {
    "hidden": true,
    "lc_cell_meme": {
     "current": "98c53474-4ad2-11e9-9859-0242ac110002",
     "next": "98c534ba-4ad2-11e9-9859-0242ac110002",
     "previous": "98c53424-4ad2-11e9-9859-0242ac110002"
    }
   },
   "source": [
    "sshでログインするための秘密鍵のパスを設定します。"
   ]
  },
  {
   "cell_type": "code",
   "execution_count": 31,
   "metadata": {
    "deletable": false,
    "editable": false,
    "hidden": true,
    "lc_cell_meme": {
     "current": "98c534ba-4ad2-11e9-9859-0242ac110002",
     "next": "98c5350a-4ad2-11e9-9859-0242ac110002",
     "previous": "98c53474-4ad2-11e9-9859-0242ac110002"
    },
    "run_through_control": {
     "frozen": true
    }
   },
   "outputs": [],
   "source": [
    "import os\n",
    "ssh_private_key = os.path.expanduser('~/.ssh/id_rsa')"
   ]
  },
  {
   "cell_type": "markdown",
   "metadata": {
    "hidden": true,
    "lc_cell_meme": {
     "current": "98c5350a-4ad2-11e9-9859-0242ac110002",
     "next": "98c53550-4ad2-11e9-9859-0242ac110002",
     "previous": "98c534ba-4ad2-11e9-9859-0242ac110002"
    }
   },
   "source": [
    "VCノードに登録する公開鍵のパスを設定します。"
   ]
  },
  {
   "cell_type": "code",
   "execution_count": 32,
   "metadata": {
    "deletable": false,
    "editable": false,
    "hidden": true,
    "lc_cell_meme": {
     "current": "98c53550-4ad2-11e9-9859-0242ac110002",
     "next": "98c53596-4ad2-11e9-9859-0242ac110002",
     "previous": "98c5350a-4ad2-11e9-9859-0242ac110002"
    },
    "run_through_control": {
     "frozen": true
    }
   },
   "outputs": [],
   "source": [
    "ssh_public_key = os.path.expanduser('~/.ssh/id_rsa.pub')"
   ]
  },
  {
   "cell_type": "markdown",
   "metadata": {
    "hidden": true,
    "lc_cell_meme": {
     "current": "98c53596-4ad2-11e9-9859-0242ac110002",
     "next": "98c535dc-4ad2-11e9-9859-0242ac110002",
     "previous": "98c53550-4ad2-11e9-9859-0242ac110002"
    }
   },
   "source": [
    "spec を設定します。"
   ]
  },
  {
   "cell_type": "code",
   "execution_count": 33,
   "metadata": {
    "deletable": false,
    "editable": false,
    "hidden": true,
    "lc_cell_meme": {
     "current": "98c535dc-4ad2-11e9-9859-0242ac110002",
     "next": "98c5362c-4ad2-11e9-9859-0242ac110002",
     "previous": "98c53596-4ad2-11e9-9859-0242ac110002"
    },
    "run_through_control": {
     "frozen": true
    }
   },
   "outputs": [
    {
     "name": "stdout",
     "output_type": "stream",
     "text": [
      "\n",
      "========================\n",
      "aws\n",
      "------------------------\n",
      "\n",
      "    cci_version: \"1.0\"\n",
      "    name: \n",
      "    description: \n",
      "    private_network: default\n",
      "    num_nodes: 1\n",
      "    image: vcp/base:1.4.2\n",
      "    recovery_mode: none\n",
      "    params:\n",
      "        {'v': [], 'e': ['AUTHORIZED_KEYS=c3NoLXJzYSBBQUFBQjNOemFDMXljMkVBQUFBREFRQUJBQUFCQVFDcW5XY3Y2TlB6SVRld3pKdEMzbTdPb040MGhHUkJQSDdRR2pjUk5FQXY5T0tMcFl6TEJha01rN2VLL3krRzZZRTQ3VUJCdWFGT21hREtOdVJsdHRjLytZZWRTbEI3eGdtMXpyUXl4SExpa2FxSys3azBxclRkSHNPcm5pNEJOWDNEWS9IK2pINldGZ3RZSUtxUk1qWmRXM05PRWJabHMwZkNBVFovR3R6RkhnblMrKzhXN3BSUXYzc1R4NDBHR2h0L2dWU2hOcGEyRmtKREFYeFFscDZXK1AvdkNBaDJxV3E5M1ZRQ1FzQWxpNjVCTGNMZ0hPVy9UbGFlZ2pTTXk4dkszNzUrL0NuSTZja1BTeU1pWHlvMi91clRneXg5QlNZQWYvVUovNXpnb3hjSUsxUlFqR1FPcUs2MVZUTVo2QnhzWXc0bkRDaWdwaFI5L1BXMnNIUDMgYml0X2t1bkA5M2EzNGM3NmQwNDIK']}\n",
      "    instance_type: m4.large\n",
      "    volume_size: 8\n",
      "    volume_type: gp2\n",
      "    volume_id: []\n",
      "    cloud_image: default\n",
      "    tags: {}\n",
      "========================\n"
     ]
    }
   ],
   "source": [
    "# specの取得\n",
    "spec = vcp.get_spec('aws', 'small')\n",
    "\n",
    "# SSHの公開鍵を spec に設定する\n",
    "spec.set_ssh_pubkey(ssh_public_key)\n",
    "\n",
    "# 設定内容の表示\n",
    "print(spec)"
   ]
  },
  {
   "cell_type": "markdown",
   "metadata": {
    "hidden": true,
    "lc_cell_meme": {
     "current": "98c5362c-4ad2-11e9-9859-0242ac110002",
     "next": "98c53672-4ad2-11e9-9859-0242ac110002",
     "previous": "98c535dc-4ad2-11e9-9859-0242ac110002"
    }
   },
   "source": [
    "Unitの作成とVCノードの起動を行います。\n",
    "\n",
    "> VCノードの起動には1分半～２分程度かかります。"
   ]
  },
  {
   "cell_type": "code",
   "execution_count": 34,
   "metadata": {
    "deletable": false,
    "editable": false,
    "hidden": true,
    "lc_cell_meme": {
     "current": "98c53672-4ad2-11e9-9859-0242ac110002",
     "next": "98c536b8-4ad2-11e9-9859-0242ac110002",
     "previous": "98c5362c-4ad2-11e9-9859-0242ac110002"
    },
    "run_through_control": {
     "frozen": true
    }
   },
   "outputs": [
    {
     "name": "stdout",
     "output_type": "stream",
     "text": [
      "2019-03-20 14:39:57,761 - INFO - BOOTING ... 0 sec\n",
      "2019-03-20 14:40:02,947 - INFO - BOOTING ... 5 sec\n",
      "2019-03-20 14:40:08,143 - INFO - BOOTING ... 10 sec\n",
      "2019-03-20 14:40:13,343 - INFO - BOOTING ... 15 sec\n",
      "2019-03-20 14:40:18,562 - INFO - BOOTING ... 20 sec\n",
      "2019-03-20 14:40:23,765 - INFO - BOOTING ... 25 sec\n",
      "2019-03-20 14:40:28,964 - INFO - BOOTING ... 30 sec\n",
      "2019-03-20 14:40:34,157 - INFO - BOOTING ... 35 sec\n",
      "2019-03-20 14:40:39,384 - INFO - BOOTING ... 40 sec\n",
      "2019-03-20 14:40:44,646 - INFO - BOOTING ... 45 sec\n",
      "2019-03-20 14:40:49,849 - INFO - BOOTING ... 50 sec\n",
      "2019-03-20 14:40:55,052 - INFO - BOOTING ... 55 sec\n",
      "2019-03-20 14:41:00,247 - INFO - BOOTING ... 60 sec\n",
      "2019-03-20 14:41:05,447 - INFO - BOOTING ... 65 sec\n",
      "2019-03-20 14:41:16,653 - INFO - unit aws-server is RUNNING\n"
     ]
    }
   ],
   "source": [
    "unit = unit_group.create_unit('aws-server', spec)"
   ]
  },
  {
   "cell_type": "markdown",
   "metadata": {
    "hidden": true,
    "lc_cell_meme": {
     "current": "98c536b8-4ad2-11e9-9859-0242ac110002",
     "next": "98c536fe-4ad2-11e9-9859-0242ac110002",
     "previous": "98c53672-4ad2-11e9-9859-0242ac110002"
    }
   },
   "source": [
    "設定変更が正しくおこなわれていた場合 VCノードの起動に成功します。"
   ]
  },
  {
   "cell_type": "markdown",
   "metadata": {
    "hidden": true,
    "lc_cell_meme": {
     "current": "98c536fe-4ad2-11e9-9859-0242ac110002",
     "next": "98c53744-4ad2-11e9-9859-0242ac110002",
     "previous": "98c536b8-4ad2-11e9-9859-0242ac110002"
    }
   },
   "source": [
    "Vaultサーバに格納した認証情報に誤りがありVCノードの起動に失敗した場合は以下のようなメッセージが表示されます。\n",
    "\n",
    "```\n",
    "2018-09-XX XX:XX:XX,XXX - INFO - unit aws-server is ERROR\n",
    "2018-09-XX XX:XX:XX,XXX - ERROR - [Vc]\n",
    "+ type[compute] name[handson102] vcno(000) state[ERROR] vcid[xxxxxxxxxxxxxxxxxxxxxxxxxxxxxxxx]\n",
    "\n",
    "[VcUnit]\n",
    "+ type[compute] name[aws-server]  state[ERROR]\n",
    "*** HAS ERROR:\n",
    "---\n",
    "2018/09/XX XX:XX:XX UTC: * provider.aws: version = \"~> 1.29\"\n",
    "2018/09/XX XX:XX:XX UTC: * provider.aws: InvalidClientTokenId: The security token included in the request is invalid.\n",
    "```\n",
    "\n",
    "この場合は、次のセルのコメントを外してVCの削除を行って、\n",
    "[AWS の認証情報を Vault サーバに格納する](#AWS-の認証情報を-Vault-サーバに格納する)の手順から再度実行してください。"
   ]
  },
  {
   "cell_type": "code",
   "execution_count": 35,
   "metadata": {
    "deletable": false,
    "editable": false,
    "hidden": true,
    "lc_cell_meme": {
     "current": "98c53744-4ad2-11e9-9859-0242ac110002",
     "next": "98c53794-4ad2-11e9-9859-0242ac110002",
     "previous": "98c536fe-4ad2-11e9-9859-0242ac110002"
    },
    "run_through_control": {
     "frozen": true
    }
   },
   "outputs": [],
   "source": [
    "# unit_group.cleanup()"
   ]
  },
  {
   "cell_type": "markdown",
   "metadata": {
    "hidden": true,
    "lc_cell_meme": {
     "current": "98c53794-4ad2-11e9-9859-0242ac110002",
     "next": "98c537da-4ad2-11e9-9859-0242ac110002",
     "previous": "98c53744-4ad2-11e9-9859-0242ac110002"
    }
   },
   "source": [
    "設定ファイル`vcp_config.yml`の記述に誤りがありVCノードの起動に失敗した場合は以下のようなメッセージが表示されます。\n",
    "\n",
    "```\n",
    "2018-09-XX XX:XX:XX,XXX - ERROR - add unit failed: http_status(403)\n",
    "NoneType\n",
    "2018-09-XX XX:XX:XX,XXX - ERROR - 2018/09/XX XX:XX:XX UTC: VCPVaultReadException: xxxxxxxx-x:cubbyhole/XXX/XXX vault read is failed: ROR - 2018/09/XX XX:XX:XX UTC: VCPVaultReadException: xxxxxxxx-x:cubbyhole/XXX/XXX vault read is failed:\n",
    "```\n",
    "\n",
    "この場合は、次のセルのコメントを外して設定ファイル`vcp_config.yml`の復元と VCの削除を行って、\n",
    "[認証情報をVaultサーバから取得するように設定する](#認証情報をVaultサーバから取得するように設定する)の手順から再度実行してください。"
   ]
  },
  {
   "cell_type": "code",
   "execution_count": 36,
   "metadata": {
    "deletable": false,
    "editable": false,
    "hidden": true,
    "lc_cell_meme": {
     "current": "98c537da-4ad2-11e9-9859-0242ac110002",
     "next": "98c53820-4ad2-11e9-9859-0242ac110002",
     "previous": "98c53794-4ad2-11e9-9859-0242ac110002"
    },
    "run_through_control": {
     "frozen": true
    }
   },
   "outputs": [],
   "source": [
    "#!cp {work_dir}/vcp_config.yml /notebooks/notebook/vcpsdk/config/ \n",
    "# unit_group.cleanup()"
   ]
  },
  {
   "cell_type": "markdown",
   "metadata": {
    "hidden": true,
    "lc_cell_meme": {
     "current": "98c53820-4ad2-11e9-9859-0242ac110002",
     "next": "98c53870-4ad2-11e9-9859-0242ac110002",
     "previous": "98c537da-4ad2-11e9-9859-0242ac110002"
    }
   },
   "source": [
    "VCノードの起動に成功した場合は、Unit, VCノードの一覧を表示させてみます。"
   ]
  },
  {
   "cell_type": "code",
   "execution_count": 37,
   "metadata": {
    "deletable": false,
    "editable": false,
    "hidden": true,
    "lc_cell_meme": {
     "current": "98c53870-4ad2-11e9-9859-0242ac110002",
     "next": "98c538b6-4ad2-11e9-9859-0242ac110002",
     "previous": "98c53820-4ad2-11e9-9859-0242ac110002"
    },
    "run_through_control": {
     "frozen": true
    },
    "scrolled": true
   },
   "outputs": [
    {
     "data": {
      "text/html": [
       "<div>\n",
       "<style scoped>\n",
       "    .dataframe tbody tr th:only-of-type {\n",
       "        vertical-align: middle;\n",
       "    }\n",
       "\n",
       "    .dataframe tbody tr th {\n",
       "        vertical-align: top;\n",
       "    }\n",
       "\n",
       "    .dataframe thead th {\n",
       "        text-align: right;\n",
       "    }\n",
       "</style>\n",
       "<table border=\"1\" class=\"dataframe\">\n",
       "  <thead>\n",
       "    <tr style=\"text-align: right;\">\n",
       "      <th></th>\n",
       "      <th>vctype</th>\n",
       "      <th>vcno</th>\n",
       "      <th>vcname</th>\n",
       "      <th>vc_state</th>\n",
       "      <th>vcid</th>\n",
       "      <th>cdate</th>\n",
       "      <th>unit_name</th>\n",
       "      <th>unit_state</th>\n",
       "    </tr>\n",
       "  </thead>\n",
       "  <tbody>\n",
       "    <tr>\n",
       "      <th>0</th>\n",
       "      <td>compute</td>\n",
       "      <td>34</td>\n",
       "      <td>handson102</td>\n",
       "      <td>RUNNING</td>\n",
       "      <td>3700dda0...</td>\n",
       "      <td>2019/03/20 05:39:27 UTC</td>\n",
       "      <td>aws-server</td>\n",
       "      <td>RUNNING</td>\n",
       "    </tr>\n",
       "  </tbody>\n",
       "</table>\n",
       "</div>"
      ],
      "text/plain": [
       "    vctype  vcno      vcname vc_state         vcid                    cdate  \\\n",
       "0  compute    34  handson102  RUNNING  3700dda0...  2019/03/20 05:39:27 UTC   \n",
       "\n",
       "    unit_name unit_state  \n",
       "0  aws-server    RUNNING  "
      ]
     },
     "metadata": {},
     "output_type": "display_data"
    },
    {
     "data": {
      "text/html": [
       "<style  type=\"text/css\" >\n",
       "    #T_c8234a8a_4ad2_11e9_9f6a_0242ac110002row0_col3 {\n",
       "            background-color:  #dfd;\n",
       "        }    #T_c8234a8a_4ad2_11e9_9f6a_0242ac110002row0_col6 {\n",
       "            background-color:  #dfd;\n",
       "        }</style>  \n",
       "<table id=\"T_c8234a8a_4ad2_11e9_9f6a_0242ac110002\" > \n",
       "<thead>    <tr> \n",
       "        <th class=\"blank level0\" ></th> \n",
       "        <th class=\"col_heading level0 col0\" >vcno</th> \n",
       "        <th class=\"col_heading level0 col1\" >vcname</th> \n",
       "        <th class=\"col_heading level0 col2\" >unit_name</th> \n",
       "        <th class=\"col_heading level0 col3\" >unit_state</th> \n",
       "        <th class=\"col_heading level0 col4\" >node_no</th> \n",
       "        <th class=\"col_heading level0 col5\" >node_id</th> \n",
       "        <th class=\"col_heading level0 col6\" >node_state</th> \n",
       "        <th class=\"col_heading level0 col7\" >cloud_instance_address</th> \n",
       "        <th class=\"col_heading level0 col8\" >cloud_instance_id</th> \n",
       "        <th class=\"col_heading level0 col9\" >cloud_instance_name</th> \n",
       "        <th class=\"col_heading level0 col10\" >volumes</th> \n",
       "    </tr></thead> \n",
       "<tbody>    <tr> \n",
       "        <th id=\"T_c8234a8a_4ad2_11e9_9f6a_0242ac110002level0_row0\" class=\"row_heading level0 row0\" >0</th> \n",
       "        <td id=\"T_c8234a8a_4ad2_11e9_9f6a_0242ac110002row0_col0\" class=\"data row0 col0\" >34</td> \n",
       "        <td id=\"T_c8234a8a_4ad2_11e9_9f6a_0242ac110002row0_col1\" class=\"data row0 col1\" >handson102</td> \n",
       "        <td id=\"T_c8234a8a_4ad2_11e9_9f6a_0242ac110002row0_col2\" class=\"data row0 col2\" >aws-server</td> \n",
       "        <td id=\"T_c8234a8a_4ad2_11e9_9f6a_0242ac110002row0_col3\" class=\"data row0 col3\" >RUNNING</td> \n",
       "        <td id=\"T_c8234a8a_4ad2_11e9_9f6a_0242ac110002row0_col4\" class=\"data row0 col4\" >1</td> \n",
       "        <td id=\"T_c8234a8a_4ad2_11e9_9f6a_0242ac110002row0_col5\" class=\"data row0 col5\" >7cfdd5fd...</td> \n",
       "        <td id=\"T_c8234a8a_4ad2_11e9_9f6a_0242ac110002row0_col6\" class=\"data row0 col6\" >RUNNING</td> \n",
       "        <td id=\"T_c8234a8a_4ad2_11e9_9f6a_0242ac110002row0_col7\" class=\"data row0 col7\" >172.30.2.147</td> \n",
       "        <td id=\"T_c8234a8a_4ad2_11e9_9f6a_0242ac110002row0_col8\" class=\"data row0 col8\" >i-0e539bd0eaaf7716f</td> \n",
       "        <td id=\"T_c8234a8a_4ad2_11e9_9f6a_0242ac110002row0_col9\" class=\"data row0 col9\" >VCP-e84fbb63-3700dda0</td> \n",
       "        <td id=\"T_c8234a8a_4ad2_11e9_9f6a_0242ac110002row0_col10\" class=\"data row0 col10\" >none</td> \n",
       "    </tr></tbody> \n",
       "</table> "
      ],
      "text/plain": [
       "<pandas.io.formats.style.Styler at 0x7f435dc633c8>"
      ]
     },
     "metadata": {},
     "output_type": "display_data"
    }
   ],
   "source": [
    "# Unitの一覧を DataFrame で表示する\n",
    "display(unit_group.df_units())\n",
    "\n",
    "# Nodeの一覧を DataFrame で表示する\n",
    "display(unit_group.df_nodes())"
   ]
  },
  {
   "cell_type": "markdown",
   "metadata": {
    "hidden": true,
    "lc_cell_meme": {
     "current": "98c538b6-4ad2-11e9-9859-0242ac110002",
     "next": "98c538fc-4ad2-11e9-9859-0242ac110002",
     "previous": "98c53870-4ad2-11e9-9859-0242ac110002"
    }
   },
   "source": [
    "~/.ssh/known_hosts にVCノードのホストキーを登録します。"
   ]
  },
  {
   "cell_type": "code",
   "execution_count": 38,
   "metadata": {
    "deletable": false,
    "editable": false,
    "hidden": true,
    "lc_cell_meme": {
     "current": "98c538fc-4ad2-11e9-9859-0242ac110002",
     "next": "98c53942-4ad2-11e9-9859-0242ac110002",
     "previous": "98c538b6-4ad2-11e9-9859-0242ac110002"
    },
    "run_through_control": {
     "frozen": true
    }
   },
   "outputs": [
    {
     "name": "stdout",
     "output_type": "stream",
     "text": [
      "/home/bit_kun/.ssh/known_hosts updated.\n",
      "Original contents retained as /home/bit_kun/.ssh/known_hosts.old\n",
      "# 172.30.2.147 SSH-2.0-OpenSSH_7.4\n",
      "# 172.30.2.147 SSH-2.0-OpenSSH_7.4\n",
      "# 172.30.2.147 SSH-2.0-OpenSSH_7.4\n"
     ]
    }
   ],
   "source": [
    "for address in unit_group.find_ip_addresses():\n",
    "    !touch ~/.ssh/known_hosts\n",
    "    # ~/.ssh/known_hosts から古いホストキーを削除する\n",
    "    !ssh-keygen -R {address}\n",
    "    # ホストキーの登録\n",
    "    !ssh-keyscan -H {address} >> ~/.ssh/known_hosts"
   ]
  },
  {
   "cell_type": "markdown",
   "metadata": {
    "lc_cell_meme": {
     "current": "98c53942-4ad2-11e9-9859-0242ac110002",
     "next": "98c53988-4ad2-11e9-9859-0242ac110002",
     "previous": "98c538fc-4ad2-11e9-9859-0242ac110002"
    }
   },
   "source": [
    "### ssh でログインして操作する"
   ]
  },
  {
   "cell_type": "markdown",
   "metadata": {
    "lc_cell_meme": {
     "current": "98c53988-4ad2-11e9-9859-0242ac110002",
     "next": "98c539ce-4ad2-11e9-9859-0242ac110002",
     "previous": "98c53942-4ad2-11e9-9859-0242ac110002"
    }
   },
   "source": [
    "起動したVCノードに対して `uname -a`, `dh -h`, `free` などのコマンドを実行してみます。"
   ]
  },
  {
   "cell_type": "code",
   "execution_count": 39,
   "metadata": {
    "deletable": false,
    "editable": false,
    "lc_cell_meme": {
     "current": "98c539ce-4ad2-11e9-9859-0242ac110002",
     "next": "98c53a14-4ad2-11e9-9859-0242ac110002",
     "previous": "98c53988-4ad2-11e9-9859-0242ac110002"
    },
    "run_through_control": {
     "frozen": true
    }
   },
   "outputs": [
    {
     "name": "stdout",
     "output_type": "stream",
     "text": [
      "172.30.2.147\n",
      "----------------------------------------\n",
      "Linux ip-172-30-2-147 4.4.0-67-generic #88-Ubuntu SMP Wed Mar 8 16:34:45 UTC 2017 x86_64 Linux\n",
      "----------------------------------------\n",
      "Filesystem                Size      Used Available Use% Mounted on\n",
      "none                      7.7G      1.8G      5.5G  25% /\n",
      "tmpfs                     3.9G         0      3.9G   0% /sys/fs/cgroup\n",
      "udev                      3.9G         0      3.9G   0% /dev\n",
      "tmpfs                    64.0M         0     64.0M   0% /dev/shm\n",
      "/dev/xvda1                7.7G      1.8G      5.5G  25% /etc/resolv.conf\n",
      "/dev/xvda1                7.7G      1.8G      5.5G  25% /etc/hostname\n",
      "/dev/xvda1                7.7G      1.8G      5.5G  25% /etc/hosts\n",
      "shm                      64.0M         0     64.0M   0% /dev/shm\n",
      "/dev/xvda1                7.7G      1.8G      5.5G  25% /var/lib/docker\n",
      "none                      3.9G         0      3.9G   0% /tmp\n",
      "/dev/xvda1                7.7G      1.8G      5.5G  25% /var/lib/docker/aufs\n",
      "----------------------------------------\n",
      "             total       used       free     shared    buffers     cached\n",
      "Mem:       8173656     748208    7425448      12600      22548     502100\n",
      "-/+ buffers/cache:     223560    7950096\n",
      "Swap:            0          0          0\n"
     ]
    }
   ],
   "source": [
    "# VCノードのIPアドレスの取得\n",
    "ip_address = unit_group.find_ip_addresses().pop()\n",
    "print(ip_address)\n",
    "\n",
    "# sshに指定するオプションの設定\n",
    "ssh_opts = f'-i {ssh_private_key} -l root'\n",
    "\n",
    "print('-' * 40)\n",
    "\n",
    "# uname -a の実行\n",
    "!ssh {ssh_opts} {ip_address} uname -a\n",
    "\n",
    "print('-' * 40)\n",
    "\n",
    "# df -h の実行\n",
    "!ssh {ssh_opts} {ip_address} df -h\n",
    "\n",
    "print('-' * 40)\n",
    "\n",
    "# free の実行\n",
    "!ssh {ssh_opts} {ip_address} free"
   ]
  },
  {
   "cell_type": "markdown",
   "metadata": {
    "lc_cell_meme": {
     "current": "98c53a14-4ad2-11e9-9859-0242ac110002",
     "next": "98c53a5a-4ad2-11e9-9859-0242ac110002",
     "previous": "98c539ce-4ad2-11e9-9859-0242ac110002"
    }
   },
   "source": [
    "VCP SDKの設定ファイルに直接AWSの認証情報を書き込むことをせずにVCノードが起動できることを確認できました。"
   ]
  },
  {
   "cell_type": "markdown",
   "metadata": {
    "heading_collapsed": true,
    "lc_cell_meme": {
     "current": "98c53a5a-4ad2-11e9-9859-0242ac110002",
     "next": "98c53aa0-4ad2-11e9-9859-0242ac110002",
     "previous": "98c53a14-4ad2-11e9-9859-0242ac110002"
    }
   },
   "source": [
    "### 後始末"
   ]
  },
  {
   "cell_type": "markdown",
   "metadata": {
    "hidden": true,
    "lc_cell_meme": {
     "current": "98c53aa0-4ad2-11e9-9859-0242ac110002",
     "next": "98c53af0-4ad2-11e9-9859-0242ac110002",
     "previous": "98c53a5a-4ad2-11e9-9859-0242ac110002"
    }
   },
   "source": [
    "起動したVCノードを全て削除します。"
   ]
  },
  {
   "cell_type": "code",
   "execution_count": 40,
   "metadata": {
    "deletable": false,
    "editable": false,
    "hidden": true,
    "lc_cell_meme": {
     "current": "98c53af0-4ad2-11e9-9859-0242ac110002",
     "next": "98c53b36-4ad2-11e9-9859-0242ac110002",
     "previous": "98c53aa0-4ad2-11e9-9859-0242ac110002"
    },
    "run_through_control": {
     "frozen": true
    }
   },
   "outputs": [
    {
     "name": "stdout",
     "output_type": "stream",
     "text": [
      "2019-03-20 14:41:19,968 - INFO - aws-server is DELETING ... 0 sec\n",
      "2019-03-20 14:41:25,172 - INFO - aws-server is DELETING ... 5 sec\n",
      "2019-03-20 14:41:30,368 - INFO - aws-server is DELETING ... 10 sec\n",
      "2019-03-20 14:41:35,571 - INFO - aws-server is DELETING ... 15 sec\n",
      "2019-03-20 14:41:40,779 - INFO - aws-server is DELETING ... 20 sec\n",
      "2019-03-20 14:41:45,979 - INFO - aws-server is DELETING ... 25 sec\n",
      "2019-03-20 14:41:51,174 - INFO - aws-server is DELETING ... 30 sec\n",
      "2019-03-20 14:41:56,376 - INFO - aws-server is DELETING ... 35 sec\n",
      "2019-03-20 14:42:01,590 - INFO - aws-server is DELETING ... 40 sec\n",
      "2019-03-20 14:42:06,789 - INFO - aws-server is DELETING ... 45 sec\n",
      "2019-03-20 14:42:11,816 - INFO - cleanup completed. vc  is cleanup(no unit)\n"
     ]
    }
   ],
   "source": [
    "unit_group.cleanup()"
   ]
  },
  {
   "cell_type": "markdown",
   "metadata": {
    "hidden": true,
    "lc_cell_meme": {
     "current": "98c53b36-4ad2-11e9-9859-0242ac110002",
     "next": "98c53b7c-4ad2-11e9-9859-0242ac110002",
     "previous": "98c53af0-4ad2-11e9-9859-0242ac110002"
    }
   },
   "source": [
    "編集前の設定ファイル`vcp_config.yml`を退避してある作業ディレクトリを削除します。"
   ]
  },
  {
   "cell_type": "code",
   "execution_count": 41,
   "metadata": {
    "deletable": false,
    "editable": false,
    "hidden": true,
    "lc_cell_meme": {
     "current": "98c53b7c-4ad2-11e9-9859-0242ac110002",
     "next": null,
     "previous": "98c53b36-4ad2-11e9-9859-0242ac110002"
    },
    "run_through_control": {
     "frozen": true
    }
   },
   "outputs": [],
   "source": [
    "!rm -rf {work_dir}"
   ]
  }
 ],
 "metadata": {
  "kernelspec": {
   "display_name": "Python 3",
   "language": "python",
   "name": "python3"
  },
  "language_info": {
   "codemirror_mode": {
    "name": "ipython",
    "version": 3
   },
   "file_extension": ".py",
   "mimetype": "text/x-python",
   "name": "python",
   "nbconvert_exporter": "python",
   "pygments_lexer": "ipython3",
   "version": "3.6.6"
  },
  "lc_notebook_meme": {
   "current": "98c5150c-4ad2-11e9-9859-0242ac110002",
   "lc_server_signature": {
    "current": {
     "notebook_dir": "/notebooks/notebook",
     "notebook_path": "/handson/vcp-tutorial",
     "server_url": "https://ocs1046.vcp-handson.org:8443/handson/",
     "signature_id": "d0c53b60-f9f3-11e8-ad2a-0242ac110002"
    },
    "history": []
   }
  },
  "toc": {
   "base_numbering": 1,
   "nav_menu": {},
   "number_sections": true,
   "sideBar": true,
   "skip_h1_title": false,
   "title_cell": "Table of Contents",
   "title_sidebar": "Contents",
   "toc_cell": false,
   "toc_position": {
    "height": "752px",
    "left": "0px",
    "right": "1147.42px",
    "top": "111px",
    "width": "212px"
   },
   "toc_section_display": "block",
   "toc_window_display": true
  }
 },
 "nbformat": 4,
 "nbformat_minor": 2
}
