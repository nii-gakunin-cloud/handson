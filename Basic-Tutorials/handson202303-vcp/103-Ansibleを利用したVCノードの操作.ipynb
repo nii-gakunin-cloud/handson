{
 "cells": [
  {
   "cell_type": "markdown",
   "metadata": {
    "lc_cell_meme": {
     "current": "6ee5e4e4-4ad4-11e9-9859-0242ac110002",
     "next": "6ee5e552-4ad4-11e9-9859-0242ac110002",
     "previous": null
    }
   },
   "source": [
    "# Ansibleを利用したVCノードの操作\n",
    "\n",
    "このNotebookではAnsible による VCノードの操作を行ってみます。"
   ]
  },
  {
   "cell_type": "markdown",
   "metadata": {
    "lc_cell_meme": {
     "current": "6ee5e552-4ad4-11e9-9859-0242ac110002",
     "next": "6ee5e5a2-4ad4-11e9-9859-0242ac110002",
     "previous": "6ee5e4e4-4ad4-11e9-9859-0242ac110002"
    }
   },
   "source": [
    "## Ansibleについて"
   ]
  },
  {
   "cell_type": "markdown",
   "metadata": {
    "lc_cell_meme": {
     "current": "6ee5e5a2-4ad4-11e9-9859-0242ac110002",
     "next": "6ee5e5fc-4ad4-11e9-9859-0242ac110002",
     "previous": "6ee5e552-4ad4-11e9-9859-0242ac110002"
    }
   },
   "source": [
    "[Ansible](https://www.ansible.com/)は構成管理ツールとよばれるもののひとつです。次のような特徴をもっています。\n",
    "\n",
    "* エージェントレス\n",
    " - 管理対象となるホストに専用のエージェントをインストールする必要がない\n",
    " - Python が使用可能なこと、sshで接続可能であればよい\n",
    "* 冪等性\n",
    " - 何度操作しても同じ状態になることを保証している\n",
    " - ただし、シェルコマンドを実行するモジュールなどの冪等性を保証しないものもある\n",
    "* モジュール\n",
    " - ansibleの特定の機能を行う単位\n",
    " - コマンドを実行するモジュールやファイルを操作するモジュールなどがある\n",
    " - モジュールのリストは「[All modules](https://docs.ansible.com/ansible/latest/modules/list_of_all_modules.html)」で確認できる"
   ]
  },
  {
   "cell_type": "markdown",
   "metadata": {
    "lc_cell_meme": {
     "current": "6ee5e5fc-4ad4-11e9-9859-0242ac110002",
     "next": "6ee5e642-4ad4-11e9-9859-0242ac110002",
     "previous": "6ee5e5a2-4ad4-11e9-9859-0242ac110002"
    }
   },
   "source": [
    "複数のホストに対する操作が容易になるなどの利点があるので、VCPのアプリケーションテンプレートではVCノードを操作するために ansible を利用しています。"
   ]
  },
  {
   "cell_type": "markdown",
   "metadata": {
    "lc_cell_meme": {
     "current": "6ee5e642-4ad4-11e9-9859-0242ac110002",
     "next": "6ee5e69c-4ad4-11e9-9859-0242ac110002",
     "previous": "6ee5e5fc-4ad4-11e9-9859-0242ac110002"
    }
   },
   "source": [
    "## 操作手順"
   ]
  },
  {
   "cell_type": "markdown",
   "metadata": {
    "lc_cell_meme": {
     "current": "6ee5e69c-4ad4-11e9-9859-0242ac110002",
     "next": "6ee5e6e2-4ad4-11e9-9859-0242ac110002",
     "previous": "6ee5e642-4ad4-11e9-9859-0242ac110002"
    }
   },
   "source": [
    "この Notebook では大まかな操作手順は以下のようになります。\n",
    "\n",
    "1. Ansibleの操作対象となるVCノードを起動する\n",
    "1. VCノードをAnsibleのインベントリに登録する\n",
    "1. Ansibleを利用して VCノード でコマンドを実行する\n",
    "1. Ansibleを利用して VCノード のファイルをローカル環境に取得する\n",
    "1. Ansibleを利用して VCノード でパッケージをインストールする\n",
    "1. Ansibleを利用してローカル環境のファイルをVCノードに配置する"
   ]
  },
  {
   "cell_type": "markdown",
   "metadata": {
    "lc_cell_meme": {
     "current": "6ee5e6e2-4ad4-11e9-9859-0242ac110002",
     "next": "6ee5e732-4ad4-11e9-9859-0242ac110002",
     "previous": "6ee5e69c-4ad4-11e9-9859-0242ac110002"
    }
   },
   "source": [
    "# VCノードを起動する\n",
    "\n",
    "Ansible の操作対象とする VCノード を起動します。"
   ]
  },
  {
   "cell_type": "markdown",
   "metadata": {
    "lc_cell_meme": {
     "current": "6ee5e732-4ad4-11e9-9859-0242ac110002",
     "next": "6ee5e782-4ad4-11e9-9859-0242ac110002",
     "previous": "6ee5e6e2-4ad4-11e9-9859-0242ac110002"
    }
   },
   "source": [
    "## 構成"
   ]
  },
  {
   "cell_type": "markdown",
   "metadata": {
    "lc_cell_meme": {
     "current": "6ee5e782-4ad4-11e9-9859-0242ac110002",
     "next": "6ee5e7c8-4ad4-11e9-9859-0242ac110002",
     "previous": "6ee5e732-4ad4-11e9-9859-0242ac110002"
    }
   },
   "source": [
    "２つの VCノードを起動します。Unit, VCノードの構成を次の図に示します。"
   ]
  },
  {
   "cell_type": "markdown",
   "metadata": {
    "lc_cell_meme": {
     "current": "6ee5e7c8-4ad4-11e9-9859-0242ac110002",
     "next": "6ee5e818-4ad4-11e9-9859-0242ac110002",
     "previous": "6ee5e782-4ad4-11e9-9859-0242ac110002"
    }
   },
   "source": [
    "![構成](images/103-001.png)\n",
    "\n",
    "* UnitGroup: handson103\n",
    "  - Unit: server\n",
    "    + サーバ用のVCノード\n",
    "    + 固定のIPアドレスを設定する\n",
    "    + flavor: small\n",
    "  - Unit: client\n",
    "    + クライアント用のVCノード\n",
    "    + flavor: small\n"
   ]
  },
  {
   "cell_type": "markdown",
   "metadata": {
    "lc_cell_meme": {
     "current": "6ee5e818-4ad4-11e9-9859-0242ac110002",
     "next": "6ee5e85e-4ad4-11e9-9859-0242ac110002",
     "previous": "6ee5e7c8-4ad4-11e9-9859-0242ac110002"
    }
   },
   "source": [
    "## アクセストークンの入力"
   ]
  },
  {
   "cell_type": "markdown",
   "metadata": {
    "lc_cell_meme": {
     "current": "6ee5e85e-4ad4-11e9-9859-0242ac110002",
     "next": "6ee5e8ae-4ad4-11e9-9859-0242ac110002",
     "previous": "6ee5e818-4ad4-11e9-9859-0242ac110002"
    }
   },
   "source": [
    "VCP SDKを利用するにはVC Controllerのアクセストークンが必要となります。次のセルを実行すると入力枠が表示されるのでアクセストークンの値を入力してください。"
   ]
  },
  {
   "cell_type": "code",
   "execution_count": 1,
   "metadata": {
    "deletable": false,
    "editable": false,
    "lc_cell_meme": {
     "current": "6ee5e8ae-4ad4-11e9-9859-0242ac110002",
     "next": "6ee5e8f4-4ad4-11e9-9859-0242ac110002",
     "previous": "6ee5e85e-4ad4-11e9-9859-0242ac110002"
    },
    "run_through_control": {
     "frozen": true
    }
   },
   "outputs": [
    {
     "name": "stdout",
     "output_type": "stream",
     "text": [
      "········\n"
     ]
    }
   ],
   "source": [
    "from getpass import getpass\n",
    "vcc_access_token = getpass()"
   ]
  },
  {
   "cell_type": "markdown",
   "metadata": {
    "lc_cell_meme": {
     "current": "6ee5e8f4-4ad4-11e9-9859-0242ac110002",
     "next": "6ee5e944-4ad4-11e9-9859-0242ac110002",
     "previous": "6ee5e8ae-4ad4-11e9-9859-0242ac110002"
    }
   },
   "source": [
    "## VCP SDKの初期化\n",
    "\n",
    "VCP SDKの初期化を行います。"
   ]
  },
  {
   "cell_type": "code",
   "execution_count": 2,
   "metadata": {
    "deletable": false,
    "editable": false,
    "lc_cell_meme": {
     "current": "6ee5e944-4ad4-11e9-9859-0242ac110002",
     "next": "6ee5e994-4ad4-11e9-9859-0242ac110002",
     "previous": "6ee5e8f4-4ad4-11e9-9859-0242ac110002"
    },
    "run_through_control": {
     "frozen": true
    }
   },
   "outputs": [],
   "source": [
    "from common import logsetting\n",
    "from vcpsdk.vcpsdk import VcpSDK\n",
    "\n",
    "\n",
    "# VCP SDKの初期化\n",
    "vcp = VcpSDK(\n",
    "    vcc_access_token,  # VCCのアクセストークン\n",
    ")"
   ]
  },
  {
   "cell_type": "markdown",
   "metadata": {
    "lc_cell_meme": {
     "current": "6ee5e994-4ad4-11e9-9859-0242ac110002",
     "next": "6ee5e9da-4ad4-11e9-9859-0242ac110002",
     "previous": "6ee5e944-4ad4-11e9-9859-0242ac110002"
    }
   },
   "source": [
    "上のセルの実行結果がエラーとなり以下のようなメッセージが表示されている場合は、入力されたアクセストークンに誤りがあります。\n",
    "\n",
    "```\n",
    "2018-09-XX XX:XX:XX,XXX - ERROR - config vc failed: http_status(403)\n",
    "2018-09-XX XX:XX:XX,XXX - ERROR - 2018/XX/XX XX:XX:XX UTC: VCPAuthException: xxxxxxx:token lookup is failed: permission denied\n",
    "```\n",
    "\n",
    "この場合はアクセストークンの入力からやり直してください。"
   ]
  },
  {
   "cell_type": "markdown",
   "metadata": {
    "lc_cell_meme": {
     "current": "6ee5e9da-4ad4-11e9-9859-0242ac110002",
     "next": "6ee5ea2a-4ad4-11e9-9859-0242ac110002",
     "previous": "6ee5e994-4ad4-11e9-9859-0242ac110002"
    }
   },
   "source": [
    "## SSH公開鍵認証の設定\n",
    "\n",
    "VCノードにSSHでログインするために公開鍵認証の設定が必要となります。ここではSSHの公開鍵と秘密鍵のパスを設定します。"
   ]
  },
  {
   "cell_type": "markdown",
   "metadata": {
    "lc_cell_meme": {
     "current": "6ee5ea2a-4ad4-11e9-9859-0242ac110002",
     "next": "6ee5ea70-4ad4-11e9-9859-0242ac110002",
     "previous": "6ee5e9da-4ad4-11e9-9859-0242ac110002"
    }
   },
   "source": [
    "VCノードに登録するSSHの**公開鍵**のパスを次のセルで設定してください。"
   ]
  },
  {
   "cell_type": "code",
   "execution_count": 3,
   "metadata": {
    "deletable": false,
    "editable": false,
    "lc_cell_meme": {
     "current": "6ee5ea70-4ad4-11e9-9859-0242ac110002",
     "next": "6ee5eab6-4ad4-11e9-9859-0242ac110002",
     "previous": "6ee5ea2a-4ad4-11e9-9859-0242ac110002"
    },
    "run_through_control": {
     "frozen": true
    }
   },
   "outputs": [],
   "source": [
    "import os\n",
    "ssh_public_key = os.path.expanduser('~/.ssh/id_rsa.pub')"
   ]
  },
  {
   "cell_type": "markdown",
   "metadata": {
    "lc_cell_meme": {
     "current": "6ee5eab6-4ad4-11e9-9859-0242ac110002",
     "next": "6ee5eb06-4ad4-11e9-9859-0242ac110002",
     "previous": "6ee5ea70-4ad4-11e9-9859-0242ac110002"
    }
   },
   "source": [
    "公開鍵とペアになる秘密鍵のパスを次のセルで設定してください。"
   ]
  },
  {
   "cell_type": "code",
   "execution_count": 4,
   "metadata": {
    "deletable": false,
    "editable": false,
    "lc_cell_meme": {
     "current": "6ee5eb06-4ad4-11e9-9859-0242ac110002",
     "next": "6ee5eb4c-4ad4-11e9-9859-0242ac110002",
     "previous": "6ee5eab6-4ad4-11e9-9859-0242ac110002"
    },
    "run_through_control": {
     "frozen": true
    }
   },
   "outputs": [],
   "source": [
    "ssh_private_key = os.path.expanduser('~/.ssh/id_rsa')"
   ]
  },
  {
   "cell_type": "markdown",
   "metadata": {
    "lc_cell_meme": {
     "current": "6ee5eb4c-4ad4-11e9-9859-0242ac110002",
     "next": "6ee5eb9c-4ad4-11e9-9859-0242ac110002",
     "previous": "6ee5eb06-4ad4-11e9-9859-0242ac110002"
    }
   },
   "source": [
    "公開鍵と秘密鍵が正しいペアであることをチェックします。次のセルを実行してエラーにならないことを確認してください。"
   ]
  },
  {
   "cell_type": "code",
   "execution_count": 5,
   "metadata": {
    "deletable": false,
    "editable": false,
    "lc_cell_meme": {
     "current": "6ee5eb9c-4ad4-11e9-9859-0242ac110002",
     "next": "6ee5ebe2-4ad4-11e9-9859-0242ac110002",
     "previous": "6ee5eb4c-4ad4-11e9-9859-0242ac110002"
    },
    "run_through_control": {
     "frozen": true
    }
   },
   "outputs": [],
   "source": [
    "!grep -q \"$(ssh-keygen -y -f {ssh_private_key})\" {ssh_public_key}"
   ]
  },
  {
   "cell_type": "markdown",
   "metadata": {
    "lc_cell_meme": {
     "current": "6ee5ebe2-4ad4-11e9-9859-0242ac110002",
     "next": "6ee5ec32-4ad4-11e9-9859-0242ac110002",
     "previous": "6ee5eb9c-4ad4-11e9-9859-0242ac110002"
    }
   },
   "source": [
    "## サーバ用IPアドレスの設定"
   ]
  },
  {
   "cell_type": "markdown",
   "metadata": {
    "lc_cell_meme": {
     "current": "6ee5ec32-4ad4-11e9-9859-0242ac110002",
     "next": "6ee5ec82-4ad4-11e9-9859-0242ac110002",
     "previous": "6ee5ebe2-4ad4-11e9-9859-0242ac110002"
    }
   },
   "source": [
    "サーバ用のVCノードに割り当てるIPアドレスを設定します。\n",
    "\n",
    "> 割り当て可能な IP アドレスの範囲は[VCP Manager Web UI](https://vcpdev.ecloud.nii.ac.jp/vcp/v1/ui/occmgr/menu/occtrs) から取得することができます。\n",
    "\n",
    "> 172.30.2.1, 172.30.2.200 は他の用途で割り当て済なので、次のセルで指定しないでください。"
   ]
  },
  {
   "cell_type": "code",
   "execution_count": 6,
   "metadata": {
    "deletable": false,
    "editable": false,
    "lc_cell_meme": {
     "current": "6ee5ec82-4ad4-11e9-9859-0242ac110002",
     "next": "6ee5ecd2-4ad4-11e9-9859-0242ac110002",
     "previous": "6ee5ec32-4ad4-11e9-9859-0242ac110002"
    },
    "run_through_control": {
     "frozen": true
    }
   },
   "outputs": [],
   "source": [
    "server_ip_address = '172.30.2.20'"
   ]
  },
  {
   "cell_type": "markdown",
   "metadata": {
    "heading_collapsed": true,
    "lc_cell_meme": {
     "current": "6ee5ecd2-4ad4-11e9-9859-0242ac110002",
     "next": "6ee5ed22-4ad4-11e9-9859-0242ac110002",
     "previous": "6ee5ec82-4ad4-11e9-9859-0242ac110002"
    }
   },
   "source": [
    "## VCノードの起動"
   ]
  },
  {
   "cell_type": "markdown",
   "metadata": {
    "hidden": true,
    "lc_cell_meme": {
     "current": "6ee5ed22-4ad4-11e9-9859-0242ac110002",
     "next": "6ee5ed68-4ad4-11e9-9859-0242ac110002",
     "previous": "6ee5ecd2-4ad4-11e9-9859-0242ac110002"
    }
   },
   "source": [
    "### VCノードのspecを指定する"
   ]
  },
  {
   "cell_type": "markdown",
   "metadata": {
    "hidden": true,
    "lc_cell_meme": {
     "current": "6ee5ed68-4ad4-11e9-9859-0242ac110002",
     "next": "6ee5edb8-4ad4-11e9-9859-0242ac110002",
     "previous": "6ee5ed22-4ad4-11e9-9859-0242ac110002"
    }
   },
   "source": [
    "このNotebookではサーバ用VCノードのUnitとクライアント用VCノードのUnitを作成します。それぞれのUnitに対応する `spec`を指定します。"
   ]
  },
  {
   "cell_type": "markdown",
   "metadata": {
    "hidden": true,
    "lc_cell_meme": {
     "current": "6ee5edb8-4ad4-11e9-9859-0242ac110002",
     "next": "6ee5ee08-4ad4-11e9-9859-0242ac110002",
     "previous": "6ee5ed68-4ad4-11e9-9859-0242ac110002"
    }
   },
   "source": [
    "#### サーバ用 specの指定\n",
    "\n",
    "サーバ用VCノードのUnitに対応する spec オブジェクト `spec_server` の設定を行います。"
   ]
  },
  {
   "cell_type": "code",
   "execution_count": 7,
   "metadata": {
    "deletable": false,
    "editable": false,
    "hidden": true,
    "lc_cell_meme": {
     "current": "6ee5ee08-4ad4-11e9-9859-0242ac110002",
     "next": "6ee5ee4e-4ad4-11e9-9859-0242ac110002",
     "previous": "6ee5edb8-4ad4-11e9-9859-0242ac110002"
    },
    "run_through_control": {
     "frozen": true
    }
   },
   "outputs": [
    {
     "name": "stdout",
     "output_type": "stream",
     "text": [
      "\n",
      "========================\n",
      "aws\n",
      "------------------------\n",
      "\n",
      "    cci_version: \"1.0\"\n",
      "    name: \n",
      "    description: \n",
      "    private_network: default\n",
      "    num_nodes: 1\n",
      "    image: vcp/base:1.4.2\n",
      "    recovery_mode: none\n",
      "    params:\n",
      "        {'v': [], 'e': ['AUTHORIZED_KEYS=c3NoLXJzYSBBQUFBQjNOemFDMXljMkVBQUFBREFRQUJBQUFCQVFDcW5XY3Y2TlB6SVRld3pKdEMzbTdPb040MGhHUkJQSDdRR2pjUk5FQXY5T0tMcFl6TEJha01rN2VLL3krRzZZRTQ3VUJCdWFGT21hREtOdVJsdHRjLytZZWRTbEI3eGdtMXpyUXl4SExpa2FxSys3azBxclRkSHNPcm5pNEJOWDNEWS9IK2pINldGZ3RZSUtxUk1qWmRXM05PRWJabHMwZkNBVFovR3R6RkhnblMrKzhXN3BSUXYzc1R4NDBHR2h0L2dWU2hOcGEyRmtKREFYeFFscDZXK1AvdkNBaDJxV3E5M1ZRQ1FzQWxpNjVCTGNMZ0hPVy9UbGFlZ2pTTXk4dkszNzUrL0NuSTZja1BTeU1pWHlvMi91clRneXg5QlNZQWYvVUovNXpnb3hjSUsxUlFqR1FPcUs2MVZUTVo2QnhzWXc0bkRDaWdwaFI5L1BXMnNIUDMgYml0X2t1bkA5M2EzNGM3NmQwNDIK']}\n",
      "    instance_type: m4.large\n",
      "    volume_size: 8\n",
      "    volume_type: gp2\n",
      "    volume_id: []\n",
      "    cloud_image: default\n",
      "    tags: {}\n",
      "========================\n"
     ]
    }
   ],
   "source": [
    "# specの取得\n",
    "spec_server = vcp.get_spec('aws', 'small')\n",
    "\n",
    "# # SSHの公開鍵を spec に設定する\n",
    "spec_server.set_ssh_pubkey(ssh_public_key)\n",
    "\n",
    "# IPアドレスの設定\n",
    "spec_server.ip_addresses = [server_ip_address]\n",
    "\n",
    "# 設定内容の表示\n",
    "print(spec_server)"
   ]
  },
  {
   "cell_type": "markdown",
   "metadata": {
    "hidden": true,
    "lc_cell_meme": {
     "current": "6ee5ee4e-4ad4-11e9-9859-0242ac110002",
     "next": "6ee5ee9e-4ad4-11e9-9859-0242ac110002",
     "previous": "6ee5ee08-4ad4-11e9-9859-0242ac110002"
    }
   },
   "source": [
    "#### クライアント用 specオブジェクトの設定\n",
    "\n",
    "クライアント用VCノードのUnitに対応する spec オブジェクト `spec_client` の設定を行います。"
   ]
  },
  {
   "cell_type": "code",
   "execution_count": 8,
   "metadata": {
    "deletable": false,
    "editable": false,
    "hidden": true,
    "lc_cell_meme": {
     "current": "6ee5ee9e-4ad4-11e9-9859-0242ac110002",
     "next": "6ee5eeee-4ad4-11e9-9859-0242ac110002",
     "previous": "6ee5ee4e-4ad4-11e9-9859-0242ac110002"
    },
    "run_through_control": {
     "frozen": true
    }
   },
   "outputs": [
    {
     "name": "stdout",
     "output_type": "stream",
     "text": [
      "\n",
      "========================\n",
      "aws\n",
      "------------------------\n",
      "\n",
      "    cci_version: \"1.0\"\n",
      "    name: \n",
      "    description: \n",
      "    private_network: default\n",
      "    num_nodes: 1\n",
      "    image: vcp/base:1.4.2\n",
      "    recovery_mode: none\n",
      "    params:\n",
      "        {'v': [], 'e': ['AUTHORIZED_KEYS=c3NoLXJzYSBBQUFBQjNOemFDMXljMkVBQUFBREFRQUJBQUFCQVFDcW5XY3Y2TlB6SVRld3pKdEMzbTdPb040MGhHUkJQSDdRR2pjUk5FQXY5T0tMcFl6TEJha01rN2VLL3krRzZZRTQ3VUJCdWFGT21hREtOdVJsdHRjLytZZWRTbEI3eGdtMXpyUXl4SExpa2FxSys3azBxclRkSHNPcm5pNEJOWDNEWS9IK2pINldGZ3RZSUtxUk1qWmRXM05PRWJabHMwZkNBVFovR3R6RkhnblMrKzhXN3BSUXYzc1R4NDBHR2h0L2dWU2hOcGEyRmtKREFYeFFscDZXK1AvdkNBaDJxV3E5M1ZRQ1FzQWxpNjVCTGNMZ0hPVy9UbGFlZ2pTTXk4dkszNzUrL0NuSTZja1BTeU1pWHlvMi91clRneXg5QlNZQWYvVUovNXpnb3hjSUsxUlFqR1FPcUs2MVZUTVo2QnhzWXc0bkRDaWdwaFI5L1BXMnNIUDMgYml0X2t1bkA5M2EzNGM3NmQwNDIK']}\n",
      "    instance_type: m4.large\n",
      "    volume_size: 8\n",
      "    volume_type: gp2\n",
      "    volume_id: []\n",
      "    cloud_image: default\n",
      "    tags: {}\n",
      "========================\n"
     ]
    }
   ],
   "source": [
    "# specの取得\n",
    "spec_client = vcp.get_spec('aws', 'small')\n",
    "\n",
    "# SSHの鍵ファイルの設定はサーバと同じものを設定する\n",
    "spec_client.set_ssh_pubkey(ssh_public_key)\n",
    "\n",
    "# 設定内容の表示\n",
    "print(spec_client)"
   ]
  },
  {
   "cell_type": "markdown",
   "metadata": {
    "hidden": true,
    "lc_cell_meme": {
     "current": "6ee5eeee-4ad4-11e9-9859-0242ac110002",
     "next": "6ee5ef34-4ad4-11e9-9859-0242ac110002",
     "previous": "6ee5ee9e-4ad4-11e9-9859-0242ac110002"
    }
   },
   "source": [
    "### UnitGroup, Unitの作成とVCノードの起動\n",
    "\n",
    "UnitGroup, Unitを作成し、VCノードの起動を行います。"
   ]
  },
  {
   "cell_type": "markdown",
   "metadata": {
    "hidden": true,
    "lc_cell_meme": {
     "current": "6ee5ef34-4ad4-11e9-9859-0242ac110002",
     "next": "6ee5ef84-4ad4-11e9-9859-0242ac110002",
     "previous": "6ee5eeee-4ad4-11e9-9859-0242ac110002"
    }
   },
   "source": [
    "まずUnitGroupを作成します。"
   ]
  },
  {
   "cell_type": "code",
   "execution_count": 9,
   "metadata": {
    "deletable": false,
    "editable": false,
    "hidden": true,
    "lc_cell_meme": {
     "current": "6ee5ef84-4ad4-11e9-9859-0242ac110002",
     "next": "6ee5efd4-4ad4-11e9-9859-0242ac110002",
     "previous": "6ee5ef34-4ad4-11e9-9859-0242ac110002"
    },
    "run_through_control": {
     "frozen": true
    }
   },
   "outputs": [],
   "source": [
    "unit_group = vcp.create_ugroup(\n",
    "    'handson103'                 # UnitGroupの名前\n",
    ")"
   ]
  },
  {
   "cell_type": "markdown",
   "metadata": {
    "hidden": true,
    "lc_cell_meme": {
     "current": "6ee5efd4-4ad4-11e9-9859-0242ac110002",
     "next": "6ee5f01a-4ad4-11e9-9859-0242ac110002",
     "previous": "6ee5ef84-4ad4-11e9-9859-0242ac110002"
    }
   },
   "source": [
    "VCノード起動前のUnit, VCノードの状態を確認しておきます。"
   ]
  },
  {
   "cell_type": "code",
   "execution_count": 10,
   "metadata": {
    "deletable": false,
    "editable": false,
    "hidden": true,
    "lc_cell_meme": {
     "current": "6ee5f01a-4ad4-11e9-9859-0242ac110002",
     "next": "6ee5f06a-4ad4-11e9-9859-0242ac110002",
     "previous": "6ee5efd4-4ad4-11e9-9859-0242ac110002"
    },
    "run_through_control": {
     "frozen": true
    }
   },
   "outputs": [
    {
     "data": {
      "text/html": [
       "<div>\n",
       "<style scoped>\n",
       "    .dataframe tbody tr th:only-of-type {\n",
       "        vertical-align: middle;\n",
       "    }\n",
       "\n",
       "    .dataframe tbody tr th {\n",
       "        vertical-align: top;\n",
       "    }\n",
       "\n",
       "    .dataframe thead th {\n",
       "        text-align: right;\n",
       "    }\n",
       "</style>\n",
       "<table border=\"1\" class=\"dataframe\">\n",
       "  <thead>\n",
       "    <tr style=\"text-align: right;\">\n",
       "      <th></th>\n",
       "      <th>vctype</th>\n",
       "      <th>vcno</th>\n",
       "      <th>vcname</th>\n",
       "      <th>vc_state</th>\n",
       "      <th>vcid</th>\n",
       "      <th>cdate</th>\n",
       "      <th>unit_name</th>\n",
       "      <th>unit_state</th>\n",
       "    </tr>\n",
       "  </thead>\n",
       "  <tbody>\n",
       "  </tbody>\n",
       "</table>\n",
       "</div>"
      ],
      "text/plain": [
       "Empty DataFrame\n",
       "Columns: [vctype, vcno, vcname, vc_state, vcid, cdate, unit_name, unit_state]\n",
       "Index: []"
      ]
     },
     "metadata": {},
     "output_type": "display_data"
    },
    {
     "data": {
      "text/plain": [
       "[]"
      ]
     },
     "metadata": {},
     "output_type": "display_data"
    }
   ],
   "source": [
    "from IPython.display import display\n",
    "\n",
    "# Unitの一覧を DataFrame で表示する\n",
    "display(unit_group.df_units())\n",
    "\n",
    "# Nodeの一覧を DataFrame で表示する\n",
    "display(unit_group.df_nodes())"
   ]
  },
  {
   "cell_type": "markdown",
   "metadata": {
    "hidden": true,
    "lc_cell_meme": {
     "current": "6ee5f06a-4ad4-11e9-9859-0242ac110002",
     "next": "6ee5f0b0-4ad4-11e9-9859-0242ac110002",
     "previous": "6ee5f01a-4ad4-11e9-9859-0242ac110002"
    }
   },
   "source": [
    "Unitを作成します。Unitを作成すると同時に VCノード（Amazon EC2インスタンス）が起動します。\n",
    "\n",
    "> 処理が完了するまで3分半～4分程度かかります。"
   ]
  },
  {
   "cell_type": "code",
   "execution_count": 11,
   "metadata": {
    "deletable": false,
    "editable": false,
    "hidden": true,
    "lc_cell_meme": {
     "current": "6ee5f0b0-4ad4-11e9-9859-0242ac110002",
     "next": "6ee5f0f6-4ad4-11e9-9859-0242ac110002",
     "previous": "6ee5f06a-4ad4-11e9-9859-0242ac110002"
    },
    "run_through_control": {
     "frozen": true
    },
    "scrolled": true
   },
   "outputs": [
    {
     "name": "stdout",
     "output_type": "stream",
     "text": [
      "2019-03-20 14:51:25,336 - INFO - BOOTING ... 0 sec\n",
      "2019-03-20 14:51:30,538 - INFO - BOOTING ... 5 sec\n",
      "2019-03-20 14:51:35,728 - INFO - BOOTING ... 10 sec\n",
      "2019-03-20 14:51:40,928 - INFO - BOOTING ... 15 sec\n",
      "2019-03-20 14:51:46,135 - INFO - BOOTING ... 20 sec\n",
      "2019-03-20 14:51:51,334 - INFO - BOOTING ... 25 sec\n",
      "2019-03-20 14:51:56,537 - INFO - BOOTING ... 30 sec\n",
      "2019-03-20 14:52:01,739 - INFO - BOOTING ... 35 sec\n",
      "2019-03-20 14:52:06,949 - INFO - BOOTING ... 40 sec\n",
      "2019-03-20 14:52:12,155 - INFO - BOOTING ... 45 sec\n",
      "2019-03-20 14:52:17,380 - INFO - BOOTING ... 50 sec\n",
      "2019-03-20 14:52:22,580 - INFO - BOOTING ... 55 sec\n",
      "2019-03-20 14:52:27,798 - INFO - BOOTING ... 60 sec\n",
      "2019-03-20 14:52:33,004 - INFO - BOOTING ... 65 sec\n",
      "2019-03-20 14:52:38,209 - INFO - BOOTING ... 70 sec\n",
      "2019-03-20 14:52:49,417 - INFO - unit server is RUNNING\n",
      "2019-03-20 14:52:51,030 - INFO - BOOTING ... 0 sec\n",
      "2019-03-20 14:52:56,271 - INFO - BOOTING ... 5 sec\n",
      "2019-03-20 14:53:01,507 - INFO - BOOTING ... 10 sec\n",
      "2019-03-20 14:53:06,736 - INFO - BOOTING ... 15 sec\n",
      "2019-03-20 14:53:11,970 - INFO - BOOTING ... 20 sec\n",
      "2019-03-20 14:53:17,200 - INFO - BOOTING ... 25 sec\n",
      "2019-03-20 14:53:22,431 - INFO - BOOTING ... 30 sec\n",
      "2019-03-20 14:53:27,670 - INFO - BOOTING ... 35 sec\n",
      "2019-03-20 14:53:32,904 - INFO - BOOTING ... 40 sec\n",
      "2019-03-20 14:53:38,157 - INFO - BOOTING ... 45 sec\n",
      "2019-03-20 14:53:43,403 - INFO - BOOTING ... 50 sec\n",
      "2019-03-20 14:53:48,634 - INFO - BOOTING ... 55 sec\n",
      "2019-03-20 14:53:53,891 - INFO - BOOTING ... 60 sec\n",
      "2019-03-20 14:53:59,125 - INFO - BOOTING ... 65 sec\n",
      "2019-03-20 14:54:10,379 - INFO - unit client is RUNNING\n"
     ]
    },
    {
     "data": {
      "text/plain": [
       "<vcpsdk.vcpsdk.VcpUnitClass at 0x7fd6e3ffe9e8>"
      ]
     },
     "execution_count": 11,
     "metadata": {},
     "output_type": "execute_result"
    }
   ],
   "source": [
    "# サーバ用Unitの作成\n",
    "unit_group.create_unit('server', spec_server)\n",
    "\n",
    "# クライアント用Unitの作成\n",
    "unit_group.create_unit('client', spec_client)"
   ]
  },
  {
   "cell_type": "markdown",
   "metadata": {
    "hidden": true,
    "lc_cell_meme": {
     "current": "6ee5f0f6-4ad4-11e9-9859-0242ac110002",
     "next": "6ee5f146-4ad4-11e9-9859-0242ac110002",
     "previous": "6ee5f0b0-4ad4-11e9-9859-0242ac110002"
    }
   },
   "source": [
    "起動したUnit, VCノードの一覧を表示します。"
   ]
  },
  {
   "cell_type": "code",
   "execution_count": 12,
   "metadata": {
    "deletable": false,
    "editable": false,
    "hidden": true,
    "lc_cell_meme": {
     "current": "6ee5f146-4ad4-11e9-9859-0242ac110002",
     "next": "6ee5f18c-4ad4-11e9-9859-0242ac110002",
     "previous": "6ee5f0f6-4ad4-11e9-9859-0242ac110002"
    },
    "run_through_control": {
     "frozen": true
    }
   },
   "outputs": [
    {
     "data": {
      "text/html": [
       "<div>\n",
       "<style scoped>\n",
       "    .dataframe tbody tr th:only-of-type {\n",
       "        vertical-align: middle;\n",
       "    }\n",
       "\n",
       "    .dataframe tbody tr th {\n",
       "        vertical-align: top;\n",
       "    }\n",
       "\n",
       "    .dataframe thead th {\n",
       "        text-align: right;\n",
       "    }\n",
       "</style>\n",
       "<table border=\"1\" class=\"dataframe\">\n",
       "  <thead>\n",
       "    <tr style=\"text-align: right;\">\n",
       "      <th></th>\n",
       "      <th>vctype</th>\n",
       "      <th>vcno</th>\n",
       "      <th>vcname</th>\n",
       "      <th>vc_state</th>\n",
       "      <th>vcid</th>\n",
       "      <th>cdate</th>\n",
       "      <th>unit_name</th>\n",
       "      <th>unit_state</th>\n",
       "    </tr>\n",
       "  </thead>\n",
       "  <tbody>\n",
       "    <tr>\n",
       "      <th>0</th>\n",
       "      <td>compute</td>\n",
       "      <td>35</td>\n",
       "      <td>handson103</td>\n",
       "      <td>RUNNING</td>\n",
       "      <td>123ae755...</td>\n",
       "      <td>2019/03/20 05:50:55 UTC</td>\n",
       "      <td>server</td>\n",
       "      <td>RUNNING</td>\n",
       "    </tr>\n",
       "    <tr>\n",
       "      <th>1</th>\n",
       "      <td>compute</td>\n",
       "      <td>35</td>\n",
       "      <td>handson103</td>\n",
       "      <td>RUNNING</td>\n",
       "      <td>123ae755...</td>\n",
       "      <td>2019/03/20 05:50:55 UTC</td>\n",
       "      <td>client</td>\n",
       "      <td>RUNNING</td>\n",
       "    </tr>\n",
       "  </tbody>\n",
       "</table>\n",
       "</div>"
      ],
      "text/plain": [
       "    vctype  vcno      vcname vc_state         vcid                    cdate  \\\n",
       "0  compute    35  handson103  RUNNING  123ae755...  2019/03/20 05:50:55 UTC   \n",
       "1  compute    35  handson103  RUNNING  123ae755...  2019/03/20 05:50:55 UTC   \n",
       "\n",
       "  unit_name unit_state  \n",
       "0    server    RUNNING  \n",
       "1    client    RUNNING  "
      ]
     },
     "metadata": {},
     "output_type": "display_data"
    },
    {
     "data": {
      "text/html": [
       "<style  type=\"text/css\" >\n",
       "    #T_958986c8_4ad4_11e9_87e1_0242ac110002row0_col3 {\n",
       "            background-color:  #dfd;\n",
       "        }    #T_958986c8_4ad4_11e9_87e1_0242ac110002row0_col6 {\n",
       "            background-color:  #dfd;\n",
       "        }    #T_958986c8_4ad4_11e9_87e1_0242ac110002row1_col3 {\n",
       "            background-color:  #dfd;\n",
       "        }    #T_958986c8_4ad4_11e9_87e1_0242ac110002row1_col6 {\n",
       "            background-color:  #dfd;\n",
       "        }</style>  \n",
       "<table id=\"T_958986c8_4ad4_11e9_87e1_0242ac110002\" > \n",
       "<thead>    <tr> \n",
       "        <th class=\"blank level0\" ></th> \n",
       "        <th class=\"col_heading level0 col0\" >vcno</th> \n",
       "        <th class=\"col_heading level0 col1\" >vcname</th> \n",
       "        <th class=\"col_heading level0 col2\" >unit_name</th> \n",
       "        <th class=\"col_heading level0 col3\" >unit_state</th> \n",
       "        <th class=\"col_heading level0 col4\" >node_no</th> \n",
       "        <th class=\"col_heading level0 col5\" >node_id</th> \n",
       "        <th class=\"col_heading level0 col6\" >node_state</th> \n",
       "        <th class=\"col_heading level0 col7\" >cloud_instance_address</th> \n",
       "        <th class=\"col_heading level0 col8\" >cloud_instance_id</th> \n",
       "        <th class=\"col_heading level0 col9\" >cloud_instance_name</th> \n",
       "        <th class=\"col_heading level0 col10\" >volumes</th> \n",
       "    </tr></thead> \n",
       "<tbody>    <tr> \n",
       "        <th id=\"T_958986c8_4ad4_11e9_87e1_0242ac110002level0_row0\" class=\"row_heading level0 row0\" >0</th> \n",
       "        <td id=\"T_958986c8_4ad4_11e9_87e1_0242ac110002row0_col0\" class=\"data row0 col0\" >35</td> \n",
       "        <td id=\"T_958986c8_4ad4_11e9_87e1_0242ac110002row0_col1\" class=\"data row0 col1\" >handson103</td> \n",
       "        <td id=\"T_958986c8_4ad4_11e9_87e1_0242ac110002row0_col2\" class=\"data row0 col2\" >server</td> \n",
       "        <td id=\"T_958986c8_4ad4_11e9_87e1_0242ac110002row0_col3\" class=\"data row0 col3\" >RUNNING</td> \n",
       "        <td id=\"T_958986c8_4ad4_11e9_87e1_0242ac110002row0_col4\" class=\"data row0 col4\" >1</td> \n",
       "        <td id=\"T_958986c8_4ad4_11e9_87e1_0242ac110002row0_col5\" class=\"data row0 col5\" >96d75218...</td> \n",
       "        <td id=\"T_958986c8_4ad4_11e9_87e1_0242ac110002row0_col6\" class=\"data row0 col6\" >RUNNING</td> \n",
       "        <td id=\"T_958986c8_4ad4_11e9_87e1_0242ac110002row0_col7\" class=\"data row0 col7\" >172.30.2.20</td> \n",
       "        <td id=\"T_958986c8_4ad4_11e9_87e1_0242ac110002row0_col8\" class=\"data row0 col8\" >i-099af5d7df34d13bb</td> \n",
       "        <td id=\"T_958986c8_4ad4_11e9_87e1_0242ac110002row0_col9\" class=\"data row0 col9\" >VCP-e84fbb63-123ae755</td> \n",
       "        <td id=\"T_958986c8_4ad4_11e9_87e1_0242ac110002row0_col10\" class=\"data row0 col10\" >none</td> \n",
       "    </tr>    <tr> \n",
       "        <th id=\"T_958986c8_4ad4_11e9_87e1_0242ac110002level0_row1\" class=\"row_heading level0 row1\" >1</th> \n",
       "        <td id=\"T_958986c8_4ad4_11e9_87e1_0242ac110002row1_col0\" class=\"data row1 col0\" >35</td> \n",
       "        <td id=\"T_958986c8_4ad4_11e9_87e1_0242ac110002row1_col1\" class=\"data row1 col1\" >handson103</td> \n",
       "        <td id=\"T_958986c8_4ad4_11e9_87e1_0242ac110002row1_col2\" class=\"data row1 col2\" >client</td> \n",
       "        <td id=\"T_958986c8_4ad4_11e9_87e1_0242ac110002row1_col3\" class=\"data row1 col3\" >RUNNING</td> \n",
       "        <td id=\"T_958986c8_4ad4_11e9_87e1_0242ac110002row1_col4\" class=\"data row1 col4\" >1</td> \n",
       "        <td id=\"T_958986c8_4ad4_11e9_87e1_0242ac110002row1_col5\" class=\"data row1 col5\" >20c0981a...</td> \n",
       "        <td id=\"T_958986c8_4ad4_11e9_87e1_0242ac110002row1_col6\" class=\"data row1 col6\" >RUNNING</td> \n",
       "        <td id=\"T_958986c8_4ad4_11e9_87e1_0242ac110002row1_col7\" class=\"data row1 col7\" >172.30.2.93</td> \n",
       "        <td id=\"T_958986c8_4ad4_11e9_87e1_0242ac110002row1_col8\" class=\"data row1 col8\" >i-0ffaae6d18f68cd5e</td> \n",
       "        <td id=\"T_958986c8_4ad4_11e9_87e1_0242ac110002row1_col9\" class=\"data row1 col9\" >VCP-e84fbb63-123ae755</td> \n",
       "        <td id=\"T_958986c8_4ad4_11e9_87e1_0242ac110002row1_col10\" class=\"data row1 col10\" >none</td> \n",
       "    </tr></tbody> \n",
       "</table> "
      ],
      "text/plain": [
       "<pandas.io.formats.style.Styler at 0x7fd6e776b9b0>"
      ]
     },
     "metadata": {},
     "output_type": "display_data"
    }
   ],
   "source": [
    "# Unitの一覧を DataFrame で表示する\n",
    "display(unit_group.df_units())\n",
    "\n",
    "# Nodeの一覧を DataFrame で表示する\n",
    "display(unit_group.df_nodes())"
   ]
  },
  {
   "cell_type": "markdown",
   "metadata": {
    "hidden": true,
    "lc_cell_meme": {
     "current": "6ee5f18c-4ad4-11e9-9859-0242ac110002",
     "next": "6ee5f1d2-4ad4-11e9-9859-0242ac110002",
     "previous": "6ee5f146-4ad4-11e9-9859-0242ac110002"
    }
   },
   "source": [
    "VCノードのホストキーを ~/.ssh/known_hosts に登録します。"
   ]
  },
  {
   "cell_type": "code",
   "execution_count": 13,
   "metadata": {
    "deletable": false,
    "editable": false,
    "hidden": true,
    "lc_cell_meme": {
     "current": "6ee5f1d2-4ad4-11e9-9859-0242ac110002",
     "next": "6ee5f222-4ad4-11e9-9859-0242ac110002",
     "previous": "6ee5f18c-4ad4-11e9-9859-0242ac110002"
    },
    "run_through_control": {
     "frozen": true
    }
   },
   "outputs": [
    {
     "name": "stdout",
     "output_type": "stream",
     "text": [
      "/home/bit_kun/.ssh/known_hosts updated.\n",
      "Original contents retained as /home/bit_kun/.ssh/known_hosts.old\n",
      "# 172.30.2.20 SSH-2.0-OpenSSH_7.4\n",
      "# 172.30.2.20 SSH-2.0-OpenSSH_7.4\n",
      "# 172.30.2.20 SSH-2.0-OpenSSH_7.4\n",
      "/home/bit_kun/.ssh/known_hosts updated.\n",
      "Original contents retained as /home/bit_kun/.ssh/known_hosts.old\n",
      "# 172.30.2.93 SSH-2.0-OpenSSH_7.4\n",
      "# 172.30.2.93 SSH-2.0-OpenSSH_7.4\n",
      "# 172.30.2.93 SSH-2.0-OpenSSH_7.4\n"
     ]
    }
   ],
   "source": [
    "for address in unit_group.find_ip_addresses():\n",
    "    !touch ~/.ssh/known_hosts\n",
    "    # ~/.ssh/known_hosts から古いホストキーを削除する\n",
    "    !ssh-keygen -R {address}\n",
    "    # ホストキーの登録\n",
    "    !ssh-keyscan -H {address} >> ~/.ssh/known_hosts"
   ]
  },
  {
   "cell_type": "markdown",
   "metadata": {
    "lc_cell_meme": {
     "current": "6ee5f222-4ad4-11e9-9859-0242ac110002",
     "next": "6ee5f268-4ad4-11e9-9859-0242ac110002",
     "previous": "6ee5f1d2-4ad4-11e9-9859-0242ac110002"
    }
   },
   "source": [
    "# sshで VCノードを操作する\n",
    "\n",
    "まずは Ansible を使わずに sshコマンドで VCノード の操作を行ってみます。"
   ]
  },
  {
   "cell_type": "markdown",
   "metadata": {
    "lc_cell_meme": {
     "current": "6ee5f268-4ad4-11e9-9859-0242ac110002",
     "next": "6ee5f2c2-4ad4-11e9-9859-0242ac110002",
     "previous": "6ee5f222-4ad4-11e9-9859-0242ac110002"
    }
   },
   "source": [
    "次の操作を行います。\n",
    "\n",
    "* VCノードでコマンドを実行する\n",
    "  - uname -a\n",
    "  - df -h\n",
    "* VCノードのファイルをローカル環境に取得する\n",
    "\n",
    "![ssh](images/103-002.png)"
   ]
  },
  {
   "cell_type": "markdown",
   "metadata": {
    "lc_cell_meme": {
     "current": "6ee5f2c2-4ad4-11e9-9859-0242ac110002",
     "next": "6ee5f308-4ad4-11e9-9859-0242ac110002",
     "previous": "6ee5f268-4ad4-11e9-9859-0242ac110002"
    }
   },
   "source": [
    "まずUnitGroupの全てのVCノードのIPアドレスを取得して変数 `ip_address`に格納します。"
   ]
  },
  {
   "cell_type": "code",
   "execution_count": 14,
   "metadata": {
    "deletable": false,
    "editable": false,
    "lc_cell_meme": {
     "current": "6ee5f308-4ad4-11e9-9859-0242ac110002",
     "next": "6ee5f358-4ad4-11e9-9859-0242ac110002",
     "previous": "6ee5f2c2-4ad4-11e9-9859-0242ac110002"
    },
    "run_through_control": {
     "frozen": true
    }
   },
   "outputs": [
    {
     "name": "stdout",
     "output_type": "stream",
     "text": [
      "['172.30.2.20', '172.30.2.93']\n"
     ]
    }
   ],
   "source": [
    "ip_address = unit_group.find_ip_addresses()\n",
    "\n",
    "# 取得したIPアドレスを表示する\n",
    "print(ip_address)"
   ]
  },
  {
   "cell_type": "markdown",
   "metadata": {
    "lc_cell_meme": {
     "current": "6ee5f358-4ad4-11e9-9859-0242ac110002",
     "next": "6ee5f39e-4ad4-11e9-9859-0242ac110002",
     "previous": "6ee5f308-4ad4-11e9-9859-0242ac110002"
    }
   },
   "source": [
    "sshを実行するときに指定するオプションを変数に設定しておきます。\n",
    "\n",
    "> 指定しているオプションの意味については「[101-VCノードの起動、削除.ipynb](101-VCノードの起動、削除.ipynb#VCノードに-ssh-でログインして操作する)」を参照してください。"
   ]
  },
  {
   "cell_type": "code",
   "execution_count": 15,
   "metadata": {
    "deletable": false,
    "editable": false,
    "lc_cell_meme": {
     "current": "6ee5f39e-4ad4-11e9-9859-0242ac110002",
     "next": "6ee5f3e4-4ad4-11e9-9859-0242ac110002",
     "previous": "6ee5f358-4ad4-11e9-9859-0242ac110002"
    },
    "run_through_control": {
     "frozen": true
    }
   },
   "outputs": [],
   "source": [
    "ssh_opts = f'-i {ssh_private_key} -l root'"
   ]
  },
  {
   "cell_type": "markdown",
   "metadata": {
    "lc_cell_meme": {
     "current": "6ee5f3e4-4ad4-11e9-9859-0242ac110002",
     "next": "6ee5f434-4ad4-11e9-9859-0242ac110002",
     "previous": "6ee5f39e-4ad4-11e9-9859-0242ac110002"
    }
   },
   "source": [
    "`uname -a`, `df -h` をVCノードで実行してみます。"
   ]
  },
  {
   "cell_type": "code",
   "execution_count": 16,
   "metadata": {
    "deletable": false,
    "editable": false,
    "lc_cell_meme": {
     "current": "6ee5f434-4ad4-11e9-9859-0242ac110002",
     "next": "6ee5f47a-4ad4-11e9-9859-0242ac110002",
     "previous": "6ee5f3e4-4ad4-11e9-9859-0242ac110002"
    },
    "run_through_control": {
     "frozen": true
    }
   },
   "outputs": [
    {
     "name": "stdout",
     "output_type": "stream",
     "text": [
      "172.30.2.20:\n",
      "Linux ip-172-30-2-20 4.4.0-67-generic #88-Ubuntu SMP Wed Mar 8 16:34:45 UTC 2017 x86_64 Linux\n",
      "\n",
      "172.30.2.93:\n",
      "Linux ip-172-30-2-93 4.4.0-67-generic #88-Ubuntu SMP Wed Mar 8 16:34:45 UTC 2017 x86_64 Linux\n",
      "\n"
     ]
    }
   ],
   "source": [
    "for address in ip_address:\n",
    "    print(address + ':')\n",
    "    !ssh {ssh_opts} {address} uname -a\n",
    "    print()"
   ]
  },
  {
   "cell_type": "code",
   "execution_count": 17,
   "metadata": {
    "deletable": false,
    "editable": false,
    "lc_cell_meme": {
     "current": "6ee5f47a-4ad4-11e9-9859-0242ac110002",
     "next": "6ee5f4c0-4ad4-11e9-9859-0242ac110002",
     "previous": "6ee5f434-4ad4-11e9-9859-0242ac110002"
    },
    "run_through_control": {
     "frozen": true
    }
   },
   "outputs": [
    {
     "name": "stdout",
     "output_type": "stream",
     "text": [
      "172.30.2.20:\n",
      "----------------------------------------\n",
      "Filesystem                Size      Used Available Use% Mounted on\n",
      "none                      7.7G      1.8G      5.5G  25% /\n",
      "tmpfs                     3.9G         0      3.9G   0% /sys/fs/cgroup\n",
      "udev                      3.9G         0      3.9G   0% /dev\n",
      "tmpfs                    64.0M         0     64.0M   0% /dev/shm\n",
      "/dev/xvda1                7.7G      1.8G      5.5G  25% /etc/resolv.conf\n",
      "/dev/xvda1                7.7G      1.8G      5.5G  25% /etc/hostname\n",
      "/dev/xvda1                7.7G      1.8G      5.5G  25% /etc/hosts\n",
      "shm                      64.0M         0     64.0M   0% /dev/shm\n",
      "/dev/xvda1                7.7G      1.8G      5.5G  25% /var/lib/docker\n",
      "none                      3.9G         0      3.9G   0% /tmp\n",
      "/dev/xvda1                7.7G      1.8G      5.5G  25% /var/lib/docker/aufs\n",
      "\n",
      "172.30.2.93:\n",
      "----------------------------------------\n",
      "Filesystem                Size      Used Available Use% Mounted on\n",
      "none                      7.7G      1.8G      5.5G  25% /\n",
      "tmpfs                     3.9G         0      3.9G   0% /sys/fs/cgroup\n",
      "udev                      3.9G         0      3.9G   0% /dev\n",
      "tmpfs                    64.0M         0     64.0M   0% /dev/shm\n",
      "/dev/xvda1                7.7G      1.8G      5.5G  25% /etc/resolv.conf\n",
      "/dev/xvda1                7.7G      1.8G      5.5G  25% /etc/hostname\n",
      "/dev/xvda1                7.7G      1.8G      5.5G  25% /etc/hosts\n",
      "shm                      64.0M         0     64.0M   0% /dev/shm\n",
      "/dev/xvda1                7.7G      1.8G      5.5G  25% /var/lib/docker\n",
      "none                      3.9G         0      3.9G   0% /tmp\n",
      "/dev/xvda1                7.7G      1.8G      5.5G  25% /var/lib/docker/aufs\n",
      "\n"
     ]
    }
   ],
   "source": [
    "for address in ip_address:\n",
    "    print(address + ':')\n",
    "    print('-' * 40)\n",
    "    !ssh {ssh_opts} {address} df -h\n",
    "    print()"
   ]
  },
  {
   "cell_type": "markdown",
   "metadata": {
    "lc_cell_meme": {
     "current": "6ee5f4c0-4ad4-11e9-9859-0242ac110002",
     "next": "6ee5f510-4ad4-11e9-9859-0242ac110002",
     "previous": "6ee5f47a-4ad4-11e9-9859-0242ac110002"
    }
   },
   "source": [
    "scp コマンドでVCノードのファイル`/etc/os-release`をローカル環境に取得して、内容を表示させてみます。"
   ]
  },
  {
   "cell_type": "code",
   "execution_count": 18,
   "metadata": {
    "deletable": false,
    "editable": false,
    "lc_cell_meme": {
     "current": "6ee5f510-4ad4-11e9-9859-0242ac110002",
     "next": "6ee5f556-4ad4-11e9-9859-0242ac110002",
     "previous": "6ee5f4c0-4ad4-11e9-9859-0242ac110002"
    },
    "run_through_control": {
     "frozen": true
    }
   },
   "outputs": [
    {
     "name": "stdout",
     "output_type": "stream",
     "text": [
      "os-release                                    100%  158     0.2KB/s   00:00    \n",
      "os-release                                    100%  158     0.2KB/s   00:00    \n",
      "/tmp/tmp23hljdvd\n",
      "├── 172.30.2.20\n",
      "│   └── os-release\n",
      "└── 172.30.2.93\n",
      "    └── os-release\n",
      "\n",
      "2 directories, 2 files\n",
      "172.30.2.20:\n",
      "----------------------------------------\n",
      "NAME=\"Alpine Linux\"\n",
      "ID=alpine\n",
      "VERSION_ID=3.5.2\n",
      "PRETTY_NAME=\"Alpine Linux v3.5\"\n",
      "HOME_URL=\"http://alpinelinux.org\"\n",
      "BUG_REPORT_URL=\"http://bugs.alpinelinux.org\"\n",
      "\n",
      "172.30.2.93:\n",
      "----------------------------------------\n",
      "NAME=\"Alpine Linux\"\n",
      "ID=alpine\n",
      "VERSION_ID=3.5.2\n",
      "PRETTY_NAME=\"Alpine Linux v3.5\"\n",
      "HOME_URL=\"http://alpinelinux.org\"\n",
      "BUG_REPORT_URL=\"http://bugs.alpinelinux.org\"\n",
      "\n"
     ]
    }
   ],
   "source": [
    "import tempfile\n",
    "import os\n",
    "\n",
    "# 作業ディレクトリを作成\n",
    "work_dir = tempfile.mkdtemp()\n",
    "\n",
    "# VCノードのファイルをローカル環境にコピー\n",
    "for address in ip_address:\n",
    "    !mkdir -p {work_dir}/{address}\n",
    "    !scp -i {ssh_private_key} root@{server_ip_address}:/etc/os-release {work_dir}/{address}\n",
    "\n",
    "# 取得したファイルを配置したディレクトリ構成を表示する\n",
    "!tree {work_dir}\n",
    "        \n",
    "# 取得したファイルの内容を表示する\n",
    "for address in ip_address:\n",
    "    print(address + ':')\n",
    "    print('-' * 40)\n",
    "    !cat {os.path.join(work_dir, address, 'os-release')}\n",
    "    print()\n",
    "\n",
    "# 作業ディレクトリを削除\n",
    "!rm -rf {work_dir}"
   ]
  },
  {
   "cell_type": "markdown",
   "metadata": {
    "lc_cell_meme": {
     "current": "6ee5f556-4ad4-11e9-9859-0242ac110002",
     "next": "6ee5f5a6-4ad4-11e9-9859-0242ac110002",
     "previous": "6ee5f510-4ad4-11e9-9859-0242ac110002"
    }
   },
   "source": [
    "# Ansibleを利用した VCノードの操作\n",
    "\n",
    "前節で行った操作と同じことを Ansibleを用いて実行してみます。"
   ]
  },
  {
   "cell_type": "markdown",
   "metadata": {
    "lc_cell_meme": {
     "current": "6ee5f5a6-4ad4-11e9-9859-0242ac110002",
     "next": "6ee5f5ec-4ad4-11e9-9859-0242ac110002",
     "previous": "6ee5f556-4ad4-11e9-9859-0242ac110002"
    }
   },
   "source": [
    "## インベントリにVCノードを登録する"
   ]
  },
  {
   "cell_type": "markdown",
   "metadata": {
    "lc_cell_meme": {
     "current": "6ee5f5ec-4ad4-11e9-9859-0242ac110002",
     "next": "6ee5f63c-4ad4-11e9-9859-0242ac110002",
     "previous": "6ee5f5a6-4ad4-11e9-9859-0242ac110002"
    }
   },
   "source": [
    "Ansibleを用いてホストの操作を行うためには、事前にそのホスト（IPアドレス）をAnsibleのインベントリに登録する必要があります。インベントリにホスト登録する方法はいくつかありますが、ここではINI形式のファイルに登録する方法を用います。INI形式のインベントリファイルは次のようなフォーマットになっています。\n",
    "\n",
    "```\n",
    "[group1]\n",
    "host0\n",
    "\n",
    "[group2]\n",
    "host0\n",
    "host1\n",
    "host2\n",
    "```\n",
    "\n",
    "角括弧内の見出しはグループ名で、ホストの利用目的などで分類するために使用できます。`host0`のように一つのホストを複数のグループに所属させることもできます。\n",
    "\n",
    "> インベントリの設定方法の詳細については[Ansibleのドキュメント - Working with Inventory](https://docs.ansible.com/ansible/latest/user_guide/intro_inventory.html)などを参照してください。"
   ]
  },
  {
   "cell_type": "markdown",
   "metadata": {
    "lc_cell_meme": {
     "current": "6ee5f63c-4ad4-11e9-9859-0242ac110002",
     "next": "6ee5f68c-4ad4-11e9-9859-0242ac110002",
     "previous": "6ee5f5ec-4ad4-11e9-9859-0242ac110002"
    }
   },
   "source": [
    "では、実際にインベントリファイルへの VCノード の登録を行います。ここでは、全てのVCノードを一つのグループに所属させるインベントリファイルを作成してみます。インベントリのグループ名は `handson103` とします。\n",
    "\n",
    "次のセルを実行すると、カレントディレクトリにインベントリファイル`hosts`が作成されます。"
   ]
  },
  {
   "cell_type": "code",
   "execution_count": 19,
   "metadata": {
    "deletable": false,
    "editable": false,
    "lc_cell_meme": {
     "current": "6ee5f68c-4ad4-11e9-9859-0242ac110002",
     "next": "6ee5f6d2-4ad4-11e9-9859-0242ac110002",
     "previous": "6ee5f63c-4ad4-11e9-9859-0242ac110002"
    },
    "run_through_control": {
     "frozen": true
    }
   },
   "outputs": [
    {
     "name": "stdout",
     "output_type": "stream",
     "text": [
      "[handson103]\r\n",
      "172.30.2.20\r\n",
      "172.30.2.93\r\n"
     ]
    }
   ],
   "source": [
    "# 次のようなファイルを作成する\n",
    "# \n",
    "# [handson103]\n",
    "# 172.30.2.20\n",
    "# 172.30.2.xxx\n",
    "\n",
    "with open('hosts', 'w') as f:\n",
    "    f.write(\"[{}]\\n\".format(unit_group.name))   # グループ名を書き込む\n",
    "    for addr in ip_address:                     # 取得済の VCノードのIPアドレスのリストで forループする\n",
    "        f.write(\"{}\\n\".format(addr))            #  VCノードのIPアドレスを書き込む\n",
    "\n",
    "# 作成したインベントリファイルの内容を表示する\n",
    "!cat hosts"
   ]
  },
  {
   "cell_type": "markdown",
   "metadata": {
    "lc_cell_meme": {
     "current": "6ee5f6d2-4ad4-11e9-9859-0242ac110002",
     "next": "6ee5f722-4ad4-11e9-9859-0242ac110002",
     "previous": "6ee5f68c-4ad4-11e9-9859-0242ac110002"
    }
   },
   "source": [
    "登録した VCノード をAnsible が操作対象と認識していることを確認するために `ansible` コマンドでホストの一覧を表示してみます。次のセルを実行すると`handson103`グループのホストを表示します。"
   ]
  },
  {
   "cell_type": "code",
   "execution_count": 20,
   "metadata": {
    "deletable": false,
    "editable": false,
    "lc_cell_meme": {
     "current": "6ee5f722-4ad4-11e9-9859-0242ac110002",
     "next": "6ee5f768-4ad4-11e9-9859-0242ac110002",
     "previous": "6ee5f6d2-4ad4-11e9-9859-0242ac110002"
    },
    "run_through_control": {
     "frozen": true
    }
   },
   "outputs": [
    {
     "name": "stdout",
     "output_type": "stream",
     "text": [
      "  hosts (2):\r\n",
      "    172.30.2.20\r\n",
      "    172.30.2.93\r\n"
     ]
    }
   ],
   "source": [
    "!ansible handson103 --list-hosts -i ./hosts"
   ]
  },
  {
   "cell_type": "markdown",
   "metadata": {
    "lc_cell_meme": {
     "current": "6ee5f768-4ad4-11e9-9859-0242ac110002",
     "next": "6ee5f7ae-4ad4-11e9-9859-0242ac110002",
     "previous": "6ee5f722-4ad4-11e9-9859-0242ac110002"
    }
   },
   "source": [
    "`ansible` コマンドの実行方法と、上のセルで用いたオプションの簡単な説明を以下に記します。\n",
    "\n",
    "```\n",
    "ansible <ホストパターン> [オプション]\n",
    "\n",
    "--list-hosts \n",
    "    ホストパターンにマッチするホストの一覧を表示する\n",
    "\n",
    "-i INVENTORY\n",
    "    インベントリのパスを指定する（デフォルト: /etc/ansible/hosts）\n",
    "```\n",
    "\n",
    "ホストパターンにはグループ名 `handson103` を指定したので、グループに属するホストが表示されます。"
   ]
  },
  {
   "cell_type": "markdown",
   "metadata": {
    "lc_cell_meme": {
     "current": "6ee5f7ae-4ad4-11e9-9859-0242ac110002",
     "next": "6ee5f7fe-4ad4-11e9-9859-0242ac110002",
     "previous": "6ee5f768-4ad4-11e9-9859-0242ac110002"
    }
   },
   "source": [
    "インベントリファイルのパスを毎回`-i`オプションで指定するのは煩雑なので、Ansible の設定ファイル`ansible.cfg`をカレントディレクトリに作成してインベントリのパスを設定します。\n",
    "\n",
    "> Ansible の設定ファイルの記述方法については [Ansibleのドキュメント - The configuration file](https://docs.ansible.com/ansible/latest/reference_appendices/config.html)などを参照してください。"
   ]
  },
  {
   "cell_type": "code",
   "execution_count": 21,
   "metadata": {
    "deletable": false,
    "editable": false,
    "lc_cell_meme": {
     "current": "6ee5f7fe-4ad4-11e9-9859-0242ac110002",
     "next": "6ee5f844-4ad4-11e9-9859-0242ac110002",
     "previous": "6ee5f7ae-4ad4-11e9-9859-0242ac110002"
    },
    "run_through_control": {
     "frozen": true
    }
   },
   "outputs": [
    {
     "name": "stdout",
     "output_type": "stream",
     "text": [
      "[defaults]\r\n",
      "inventory = /notebooks/notebook/handson/vcp-tutorial/hosts\r\n"
     ]
    }
   ],
   "source": [
    "!chmod o-w .    # world-writable に設定されていると、カレントディレクトリの ansible.cfg を読み込まないので\n",
    "\n",
    "if not os.path.exists('ansible.cfg'):\n",
    "    # ansible.cfgが存在しない場合のみ作成する\n",
    "    with open('ansible.cfg', 'w') as f:\n",
    "        f.write('''[defaults]\n",
    "inventory = {}\n",
    "'''.format(os.path.abspath('./hosts')))\n",
    "\n",
    "# 設定ファイルの内容を表示する\n",
    "!cat ansible.cfg"
   ]
  },
  {
   "cell_type": "markdown",
   "metadata": {
    "lc_cell_meme": {
     "current": "6ee5f844-4ad4-11e9-9859-0242ac110002",
     "next": "6ee5f894-4ad4-11e9-9859-0242ac110002",
     "previous": "6ee5f7fe-4ad4-11e9-9859-0242ac110002"
    }
   },
   "source": [
    "先程と同じ`ansible`コマンドを`-i`オプション指定なしで実行して、インベントリファイルのパスの指定が不要になったことを確認してみます。"
   ]
  },
  {
   "cell_type": "code",
   "execution_count": 22,
   "metadata": {
    "deletable": false,
    "editable": false,
    "lc_cell_meme": {
     "current": "6ee5f894-4ad4-11e9-9859-0242ac110002",
     "next": "6ee5f8da-4ad4-11e9-9859-0242ac110002",
     "previous": "6ee5f844-4ad4-11e9-9859-0242ac110002"
    },
    "run_through_control": {
     "frozen": true
    }
   },
   "outputs": [
    {
     "name": "stdout",
     "output_type": "stream",
     "text": [
      "  hosts (2):\r\n",
      "    172.30.2.20\r\n",
      "    172.30.2.93\r\n"
     ]
    }
   ],
   "source": [
    "!ansible handson103 --list-hosts"
   ]
  },
  {
   "cell_type": "markdown",
   "metadata": {
    "lc_cell_meme": {
     "current": "6ee5f8da-4ad4-11e9-9859-0242ac110002",
     "next": "6ee5f92a-4ad4-11e9-9859-0242ac110002",
     "previous": "6ee5f894-4ad4-11e9-9859-0242ac110002"
    }
   },
   "source": [
    "Ansibleがリモートホストを操作する場合、通常 ssh でリモートホストに接続を行います。そのためsshで接続するためのパラメータ（ユーザ名、Identityファイルのパス、...）などを指定する必要があります。次に示すAnsibleの変数を設定することで、これらのsshの設定が行われます。\n",
    "\n",
    "* ansible_user\n",
    "  - リモートホストにsshで接続するためのユーザ名\n",
    "* ansible_ssh_private_key_file\n",
    "  - sshの秘密鍵ファイル\n",
    "  \n",
    "> 他の設定可能な変数については[Ansibleのドキュメント - List of Behavioral Inventory Parameters](https://docs.ansible.com/ansible/latest/user_guide/intro_inventory.html#list-of-behavioral-inventory-parameters)を参照してください。"
   ]
  },
  {
   "cell_type": "markdown",
   "metadata": {
    "lc_cell_meme": {
     "current": "6ee5f92a-4ad4-11e9-9859-0242ac110002",
     "next": "6ee5f970-4ad4-11e9-9859-0242ac110002",
     "previous": "6ee5f8da-4ad4-11e9-9859-0242ac110002"
    }
   },
   "source": [
    "Ansibleの変数を設定する方法はコマンドラインのオプション、インベントリファイルなど色々とありますが、ここでは変数用の YAML ファイルを作成してそこに値を格納します。変数のYAMLファイルはインベントリファイルのあるディレクトリからの相対パスで\n",
    "```\n",
    "group_vars/{グループ名}.yml\n",
    "```\n",
    "に配置します。\n",
    "\n",
    "インベントリファイルはカレントディレクトリに置いてあるので`handson103`グループの変数ファイルは `./group_vars/handson103.yml`に配置します。次のセルを実行するとsshのパラメータを設定するための変数ファイルを作成します。"
   ]
  },
  {
   "cell_type": "code",
   "execution_count": 23,
   "metadata": {
    "deletable": false,
    "editable": false,
    "lc_cell_meme": {
     "current": "6ee5f970-4ad4-11e9-9859-0242ac110002",
     "next": "6ee5f9c0-4ad4-11e9-9859-0242ac110002",
     "previous": "6ee5f92a-4ad4-11e9-9859-0242ac110002"
    },
    "run_through_control": {
     "frozen": true
    }
   },
   "outputs": [
    {
     "name": "stdout",
     "output_type": "stream",
     "text": [
      "/notebooks/notebook/handson/vcp-tutorial/group_vars/handson103.yml\n",
      "ansible_ssh_private_key_file: /home/bit_kun/.ssh/id_rsa\n",
      "ansible_user: root\n"
     ]
    }
   ],
   "source": [
    "import yaml\n",
    "\n",
    "# sshコマンドを実行したときと同等のパラメータを設定する\n",
    "ansible_params = {\n",
    "    'ansible_user': 'root',\n",
    "    'ansible_ssh_private_key_file': os.path.abspath(ssh_private_key),\n",
    "}\n",
    "\n",
    "!mkdir -p group_vars\n",
    "vc_group_vars_path = os.path.abspath('group_vars/{}.yml'.format(unit_group.name))\n",
    "# 変数ファイルのパスを表示する\n",
    "print(vc_group_vars_path)\n",
    "\n",
    "with open(vc_group_vars_path, 'w') as f:\n",
    "    yaml.dump(ansible_params, stream=f, default_flow_style=False)   # YAML形式でファイルに ansiable_params を書き込む\n",
    "\n",
    "# 変数ファイルの内容を表示する\n",
    "!cat {vc_group_vars_path}"
   ]
  },
  {
   "cell_type": "markdown",
   "metadata": {
    "lc_cell_meme": {
     "current": "6ee5f9c0-4ad4-11e9-9859-0242ac110002",
     "next": "6ee5fa06-4ad4-11e9-9859-0242ac110002",
     "previous": "6ee5f970-4ad4-11e9-9859-0242ac110002"
    }
   },
   "source": [
    "## 疎通確認\n",
    "\n",
    "VCノードに Ansible で接続できるかを確認します。"
   ]
  },
  {
   "cell_type": "markdown",
   "metadata": {
    "lc_cell_meme": {
     "current": "6ee5fa06-4ad4-11e9-9859-0242ac110002",
     "next": "6ee5fa60-4ad4-11e9-9859-0242ac110002",
     "previous": "6ee5f9c0-4ad4-11e9-9859-0242ac110002"
    }
   },
   "source": [
    "次のセルを実行してください。Ansibleでの接続に成功すると以下のような出力が表示されます。\n",
    "\n",
    "```\n",
    "172.30.2.XXX | SUCCESS => {\n",
    "    \"changed\": false, \n",
    "    \"ping\": \"pong\"\n",
    "}\n",
    "```"
   ]
  },
  {
   "cell_type": "code",
   "execution_count": 24,
   "metadata": {
    "deletable": false,
    "editable": false,
    "lc_cell_meme": {
     "current": "6ee5fa60-4ad4-11e9-9859-0242ac110002",
     "next": "6ee5faa6-4ad4-11e9-9859-0242ac110002",
     "previous": "6ee5fa06-4ad4-11e9-9859-0242ac110002"
    },
    "run_through_control": {
     "frozen": true
    }
   },
   "outputs": [
    {
     "name": "stdout",
     "output_type": "stream",
     "text": [
      "\u001b[0;32m172.30.2.93 | SUCCESS => {\u001b[0m\r\n",
      "\u001b[0;32m    \"changed\": false, \u001b[0m\r\n",
      "\u001b[0;32m    \"ping\": \"pong\"\u001b[0m\r\n",
      "\u001b[0;32m}\u001b[0m\r\n",
      "\u001b[0;32m172.30.2.20 | SUCCESS => {\u001b[0m\r\n",
      "\u001b[0;32m    \"changed\": false, \u001b[0m\r\n",
      "\u001b[0;32m    \"ping\": \"pong\"\u001b[0m\r\n",
      "\u001b[0;32m}\u001b[0m\r\n"
     ]
    }
   ],
   "source": [
    "# グループ名をホストパターンに指定した場合\n",
    "!ansible handson103 -m ping"
   ]
  },
  {
   "cell_type": "markdown",
   "metadata": {
    "lc_cell_meme": {
     "current": "6ee5faa6-4ad4-11e9-9859-0242ac110002",
     "next": "6ee5fb3c-4ad4-11e9-9859-0242ac110002",
     "previous": "6ee5fa60-4ad4-11e9-9859-0242ac110002"
    }
   },
   "source": [
    "上のセルで用いた`ansible`コマンドのオプションの簡単な説明を以下に記します。\n",
    "\n",
    "```\n",
    "ansible <ホストパターン> -m <モジュール名> [オプション]\n",
    "\n",
    "-m MODULE_NAME\n",
    "    実行するモジュールを指定する（デフォルト: command）\n",
    "```\n",
    "\n",
    "[ping モジュール](https://docs.ansible.com/ansible/latest/modules/ping_module.html)は、ホストパターンで指定したホストに Ansible が接続できるかをテストするモジュールです。\n",
    "\n",
    "> IPの `ping`を行うのではなく、Ansibleに設定でリモートホストにsshで接続できるかをテストしています。"
   ]
  },
  {
   "cell_type": "markdown",
   "metadata": {
    "lc_cell_meme": {
     "current": "6ee5fb3c-4ad4-11e9-9859-0242ac110002",
     "next": "6ee5fb8c-4ad4-11e9-9859-0242ac110002",
     "previous": "6ee5faa6-4ad4-11e9-9859-0242ac110002"
    }
   },
   "source": [
    "ホストパターンにはグループ名だけでなくインベントリに登録しているホスト名（IPアドレス）を指定することもできます。"
   ]
  },
  {
   "cell_type": "code",
   "execution_count": 25,
   "metadata": {
    "deletable": false,
    "editable": false,
    "lc_cell_meme": {
     "current": "6ee5fb8c-4ad4-11e9-9859-0242ac110002",
     "next": "6ee5fbd2-4ad4-11e9-9859-0242ac110002",
     "previous": "6ee5fb3c-4ad4-11e9-9859-0242ac110002"
    },
    "run_through_control": {
     "frozen": true
    }
   },
   "outputs": [
    {
     "name": "stdout",
     "output_type": "stream",
     "text": [
      "\u001b[0;32m172.30.2.20 | SUCCESS => {\u001b[0m\r\n",
      "\u001b[0;32m    \"changed\": false, \u001b[0m\r\n",
      "\u001b[0;32m    \"ping\": \"pong\"\u001b[0m\r\n",
      "\u001b[0;32m}\u001b[0m\r\n"
     ]
    }
   ],
   "source": [
    "# IPアドレスをホストパターンに指定した場合\n",
    "!ansible 172.30.2.20 -m ping"
   ]
  },
  {
   "cell_type": "markdown",
   "metadata": {
    "lc_cell_meme": {
     "current": "6ee5fbd2-4ad4-11e9-9859-0242ac110002",
     "next": "6ee5fc18-4ad4-11e9-9859-0242ac110002",
     "previous": "6ee5fb8c-4ad4-11e9-9859-0242ac110002"
    }
   },
   "source": [
    "また、インベントリに登録されている全てのホストが所属している特別なグループ `all` を指定することもできます。"
   ]
  },
  {
   "cell_type": "code",
   "execution_count": 26,
   "metadata": {
    "deletable": false,
    "editable": false,
    "lc_cell_meme": {
     "current": "6ee5fc18-4ad4-11e9-9859-0242ac110002",
     "next": "6ee5fc68-4ad4-11e9-9859-0242ac110002",
     "previous": "6ee5fbd2-4ad4-11e9-9859-0242ac110002"
    },
    "run_through_control": {
     "frozen": true
    }
   },
   "outputs": [
    {
     "name": "stdout",
     "output_type": "stream",
     "text": [
      "\u001b[0;32m172.30.2.20 | SUCCESS => {\u001b[0m\r\n",
      "\u001b[0;32m    \"changed\": false, \u001b[0m\r\n",
      "\u001b[0;32m    \"ping\": \"pong\"\u001b[0m\r\n",
      "\u001b[0;32m}\u001b[0m\r\n",
      "\u001b[0;32m172.30.2.93 | SUCCESS => {\u001b[0m\r\n",
      "\u001b[0;32m    \"changed\": false, \u001b[0m\r\n",
      "\u001b[0;32m    \"ping\": \"pong\"\u001b[0m\r\n",
      "\u001b[0;32m}\u001b[0m\r\n"
     ]
    }
   ],
   "source": [
    "!ansible all -m ping"
   ]
  },
  {
   "cell_type": "markdown",
   "metadata": {
    "lc_cell_meme": {
     "current": "6ee5fc68-4ad4-11e9-9859-0242ac110002",
     "next": "6ee5fcae-4ad4-11e9-9859-0242ac110002",
     "previous": "6ee5fc18-4ad4-11e9-9859-0242ac110002"
    }
   },
   "source": [
    "インベントリに登録していないホスト名を指定すると、以下のような警告メッセージが表示されます。マッチするホストがインベントリにないのでAnsibleによる操作が実行されません。\n",
    "```\n",
    " [WARNING]: Could not match supplied host pattern, ignoring: 172.30.2.***\n",
    "\n",
    " [WARNING]: No hosts matched, nothing to do\n",
    "```\n",
    "\n"
   ]
  },
  {
   "cell_type": "code",
   "execution_count": 27,
   "metadata": {
    "deletable": false,
    "editable": false,
    "lc_cell_meme": {
     "current": "6ee5fcae-4ad4-11e9-9859-0242ac110002",
     "next": "6ee5fcf4-4ad4-11e9-9859-0242ac110002",
     "previous": "6ee5fc68-4ad4-11e9-9859-0242ac110002"
    },
    "run_through_control": {
     "frozen": true
    }
   },
   "outputs": [
    {
     "name": "stdout",
     "output_type": "stream",
     "text": [
      "\u001b[1;35m [WARNING]: Could not match supplied host pattern, ignoring: 172.30.2.200\u001b[0m\r\n",
      "\u001b[1;35m\u001b[0m\r\n",
      "\u001b[1;35m [WARNING]: No hosts matched, nothing to do\u001b[0m\r\n",
      "\u001b[1;35m\u001b[0m\r\n"
     ]
    }
   ],
   "source": [
    "# インベントリに登録していないホストを指定した場合\n",
    "!ansible 172.30.2.200 -m ping"
   ]
  },
  {
   "cell_type": "markdown",
   "metadata": {
    "lc_cell_meme": {
     "current": "6ee5fcf4-4ad4-11e9-9859-0242ac110002",
     "next": "6ee5fd44-4ad4-11e9-9859-0242ac110002",
     "previous": "6ee5fcae-4ad4-11e9-9859-0242ac110002"
    }
   },
   "source": [
    "## コマンドの実行"
   ]
  },
  {
   "cell_type": "markdown",
   "metadata": {
    "lc_cell_meme": {
     "current": "6ee5fd44-4ad4-11e9-9859-0242ac110002",
     "next": "6ee5fd8a-4ad4-11e9-9859-0242ac110002",
     "previous": "6ee5fcf4-4ad4-11e9-9859-0242ac110002"
    }
   },
   "source": [
    "Ansibleを利用する準備ができたので、sshコマンドで行ったのと同様の操作を VCノードに対して実行してみます。"
   ]
  },
  {
   "cell_type": "markdown",
   "metadata": {
    "lc_cell_meme": {
     "current": "6ee5fd8a-4ad4-11e9-9859-0242ac110002",
     "next": "6ee5fdda-4ad4-11e9-9859-0242ac110002",
     "previous": "6ee5fd44-4ad4-11e9-9859-0242ac110002"
    }
   },
   "source": [
    "![1group](images/103-003.png)"
   ]
  },
  {
   "cell_type": "markdown",
   "metadata": {
    "lc_cell_meme": {
     "current": "6ee5fdda-4ad4-11e9-9859-0242ac110002",
     "next": "6ee5fe2a-4ad4-11e9-9859-0242ac110002",
     "previous": "6ee5fd8a-4ad4-11e9-9859-0242ac110002"
    }
   },
   "source": [
    "`ansible`を用いてリモート環境のコマンドを実行するには[command モジュール](https://docs.ansible.com/ansible/latest/modules/command_module.html)を利用します。簡単な使用方法を以下に示します。\n",
    "\n",
    "```\n",
    "ansible <ホストパターン> [-m command] -a <リモート環境で実行するコマンド>\n",
    "```\n",
    "\n",
    "`-m`オプションのデフォルト値は `command` なので `-m command`を省略することができます。"
   ]
  },
  {
   "cell_type": "markdown",
   "metadata": {
    "lc_cell_meme": {
     "current": "6ee5fe2a-4ad4-11e9-9859-0242ac110002",
     "next": "6ee5fe7a-4ad4-11e9-9859-0242ac110002",
     "previous": "6ee5fdda-4ad4-11e9-9859-0242ac110002"
    }
   },
   "source": [
    "では実際に、VCノードに対して`uname -a`, `df -h` を実行してみます。"
   ]
  },
  {
   "cell_type": "code",
   "execution_count": 28,
   "metadata": {
    "deletable": false,
    "editable": false,
    "lc_cell_meme": {
     "current": "6ee5fe7a-4ad4-11e9-9859-0242ac110002",
     "next": "6ee5fec0-4ad4-11e9-9859-0242ac110002",
     "previous": "6ee5fe2a-4ad4-11e9-9859-0242ac110002"
    },
    "run_through_control": {
     "frozen": true
    },
    "scrolled": true
   },
   "outputs": [
    {
     "name": "stdout",
     "output_type": "stream",
     "text": [
      "\u001b[0;32m172.30.2.93 | SUCCESS | rc=0 >>\u001b[0m\n",
      "\u001b[0;32mLinux ip-172-30-2-93 4.4.0-67-generic #88-Ubuntu SMP Wed Mar 8 16:34:45 UTC 2017 x86_64 Linux\u001b[0m\n",
      "\u001b[0;32m\u001b[0m\n",
      "\u001b[0;32m172.30.2.20 | SUCCESS | rc=0 >>\u001b[0m\n",
      "\u001b[0;32mLinux ip-172-30-2-20 4.4.0-67-generic #88-Ubuntu SMP Wed Mar 8 16:34:45 UTC 2017 x86_64 Linux\u001b[0m\n",
      "\u001b[0;32m\u001b[0m\n",
      "\u001b[0;32m172.30.2.93 | SUCCESS | rc=0 >>\u001b[0m\n",
      "\u001b[0;32mFilesystem                Size      Used Available Use% Mounted on\u001b[0m\n",
      "\u001b[0;32mnone                      7.7G      1.8G      5.5G  25% /\u001b[0m\n",
      "\u001b[0;32mtmpfs                     3.9G         0      3.9G   0% /sys/fs/cgroup\u001b[0m\n",
      "\u001b[0;32mudev                      3.9G         0      3.9G   0% /dev\u001b[0m\n",
      "\u001b[0;32mtmpfs                    64.0M         0     64.0M   0% /dev/shm\u001b[0m\n",
      "\u001b[0;32m/dev/xvda1                7.7G      1.8G      5.5G  25% /etc/resolv.conf\u001b[0m\n",
      "\u001b[0;32m/dev/xvda1                7.7G      1.8G      5.5G  25% /etc/hostname\u001b[0m\n",
      "\u001b[0;32m/dev/xvda1                7.7G      1.8G      5.5G  25% /etc/hosts\u001b[0m\n",
      "\u001b[0;32mshm                      64.0M         0     64.0M   0% /dev/shm\u001b[0m\n",
      "\u001b[0;32m/dev/xvda1                7.7G      1.8G      5.5G  25% /var/lib/docker\u001b[0m\n",
      "\u001b[0;32mnone                      3.9G     60.0K      3.9G   0% /tmp\u001b[0m\n",
      "\u001b[0;32m/dev/xvda1                7.7G      1.8G      5.5G  25% /var/lib/docker/aufs\u001b[0m\n",
      "\u001b[0;32m\u001b[0m\n",
      "\u001b[0;32m172.30.2.20 | SUCCESS | rc=0 >>\u001b[0m\n",
      "\u001b[0;32mFilesystem                Size      Used Available Use% Mounted on\u001b[0m\n",
      "\u001b[0;32mnone                      7.7G      1.8G      5.5G  25% /\u001b[0m\n",
      "\u001b[0;32mtmpfs                     3.9G         0      3.9G   0% /sys/fs/cgroup\u001b[0m\n",
      "\u001b[0;32mudev                      3.9G         0      3.9G   0% /dev\u001b[0m\n",
      "\u001b[0;32mtmpfs                    64.0M         0     64.0M   0% /dev/shm\u001b[0m\n",
      "\u001b[0;32m/dev/xvda1                7.7G      1.8G      5.5G  25% /etc/resolv.conf\u001b[0m\n",
      "\u001b[0;32m/dev/xvda1                7.7G      1.8G      5.5G  25% /etc/hostname\u001b[0m\n",
      "\u001b[0;32m/dev/xvda1                7.7G      1.8G      5.5G  25% /etc/hosts\u001b[0m\n",
      "\u001b[0;32mshm                      64.0M         0     64.0M   0% /dev/shm\u001b[0m\n",
      "\u001b[0;32m/dev/xvda1                7.7G      1.8G      5.5G  25% /var/lib/docker\u001b[0m\n",
      "\u001b[0;32mnone                      3.9G     60.0K      3.9G   0% /tmp\u001b[0m\n",
      "\u001b[0;32m/dev/xvda1                7.7G      1.8G      5.5G  25% /var/lib/docker/aufs\u001b[0m\n",
      "\u001b[0;32m\u001b[0m\n"
     ]
    }
   ],
   "source": [
    "!ansible handson103 -a 'uname -a'\n",
    "!ansible handson103 -a 'df -h'"
   ]
  },
  {
   "cell_type": "markdown",
   "metadata": {
    "lc_cell_meme": {
     "current": "6ee5fec0-4ad4-11e9-9859-0242ac110002",
     "next": "6ee5ff06-4ad4-11e9-9859-0242ac110002",
     "previous": "6ee5fe7a-4ad4-11e9-9859-0242ac110002"
    }
   },
   "source": [
    "sshコマンドで複数のVCノードを操作する場合はforループ処理を記述する必要がありましたが、Ansibleではその必要がありません。Ansibleでは操作対象の指定にグループ名が利用できるので、具体的なIPアドレスが変わった場合でもコマンドラインのパラメータを変更する必要がありません。\n",
    "\n",
    "比較のために sshコマンド、Ansibleのそれぞれで `uname -a`を実行するためのコードを以下に示します。\n",
    "\n",
    "sshコマンド:\n",
    "```\n",
    "ssh_opts = f'-i {ssh_private_key} -l root'\n",
    "for address in ip_address:\n",
    "    print(address + ':')\n",
    "    !ssh {ssh_opts} root@{address} uname -a\n",
    "    print()\n",
    "```\n",
    "\n",
    "Ansible:\n",
    "```\n",
    "!ansible handson103 -a 'uname -a'\n",
    "```\n",
    "\n",
    "Ansibleの場合、操作対象となるホストの情報はインベントリファイルに、sshのパラメータはAnsibleの変数ファイルに外出しされているので、簡潔な記述となります。"
   ]
  },
  {
   "cell_type": "markdown",
   "metadata": {
    "lc_cell_meme": {
     "current": "6ee5ff06-4ad4-11e9-9859-0242ac110002",
     "next": "6ee5ff60-4ad4-11e9-9859-0242ac110002",
     "previous": "6ee5fec0-4ad4-11e9-9859-0242ac110002"
    }
   },
   "source": [
    "command モジュールはシェルによるコマンド実行ではないのでシェル変数やパイプ、リダイレクトなどは利用できません。パイプ、リダイレクトを利用したい場合は、[shellモジュール](https://docs.ansible.com/ansible/latest/modules/shell_module.html)を利用する必要があります。"
   ]
  },
  {
   "cell_type": "code",
   "execution_count": 29,
   "metadata": {
    "deletable": false,
    "editable": false,
    "lc_cell_meme": {
     "current": "6ee5ff60-4ad4-11e9-9859-0242ac110002",
     "next": "6ee5ffa6-4ad4-11e9-9859-0242ac110002",
     "previous": "6ee5ff06-4ad4-11e9-9859-0242ac110002"
    },
    "run_through_control": {
     "frozen": true
    }
   },
   "outputs": [
    {
     "name": "stdout",
     "output_type": "stream",
     "text": [
      "\u001b[0;32m172.30.2.20 | SUCCESS | rc=0 >>\u001b[0m\r\n",
      "\u001b[0;32mmodel name\t: Intel(R) Xeon(R) CPU E5-2686 v4 @ 2.30GHz\u001b[0m\r\n",
      "\u001b[0;32m\u001b[0m\r\n",
      "\u001b[0;32m172.30.2.93 | SUCCESS | rc=0 >>\u001b[0m\r\n",
      "\u001b[0;32mmodel name\t: Intel(R) Xeon(R) CPU E5-2686 v4 @ 2.30GHz\u001b[0m\r\n",
      "\u001b[0;32m\u001b[0m\r\n"
     ]
    }
   ],
   "source": [
    "!ansible handson103 -m shell -a \"cat /proc/cpuinfo | grep 'model name' | uniq\""
   ]
  },
  {
   "cell_type": "markdown",
   "metadata": {
    "lc_cell_meme": {
     "current": "6ee5ffa6-4ad4-11e9-9859-0242ac110002",
     "next": "6ee5ffec-4ad4-11e9-9859-0242ac110002",
     "previous": "6ee5ff60-4ad4-11e9-9859-0242ac110002"
    }
   },
   "source": [
    "## ファイルの取得\n",
    "\n",
    "Ansibleを利用してVCノードのファイルをローカル環境に取得してみます。"
   ]
  },
  {
   "cell_type": "markdown",
   "metadata": {
    "lc_cell_meme": {
     "current": "6ee5ffec-4ad4-11e9-9859-0242ac110002",
     "next": "6ee6003c-4ad4-11e9-9859-0242ac110002",
     "previous": "6ee5ffa6-4ad4-11e9-9859-0242ac110002"
    }
   },
   "source": [
    "リモート環境にあるファイルをローカル環境に取得するには[fetch モジュール](https://docs.ansible.com/ansible/latest/modules/fetch_module.html)を利用します。簡単な使用方法を以下に示します。\n",
    "\n",
    "```\n",
    "ansible <ホストパターン> -m fetch -a 'src=<取得元ファイルのパス> dest=<取得先となるディレクトリ>'\n",
    "\n",
    "fetchモジュールのパラメータ(-a)について:\n",
    "src\n",
    "      取得元のリモート環境にあるファイルのパス\n",
    "dest\n",
    "      取得先となるローカル環境のディレクトリ\n",
    "```"
   ]
  },
  {
   "cell_type": "markdown",
   "metadata": {
    "lc_cell_meme": {
     "current": "6ee6003c-4ad4-11e9-9859-0242ac110002",
     "next": "6ee60082-4ad4-11e9-9859-0242ac110002",
     "previous": "6ee5ffec-4ad4-11e9-9859-0242ac110002"
    }
   },
   "source": [
    "では、実際にリモート環境の `/etc/os-release` をローカル環境に取得してみます。"
   ]
  },
  {
   "cell_type": "code",
   "execution_count": 30,
   "metadata": {
    "deletable": false,
    "editable": false,
    "lc_cell_meme": {
     "current": "6ee60082-4ad4-11e9-9859-0242ac110002",
     "next": "6ee600c8-4ad4-11e9-9859-0242ac110002",
     "previous": "6ee6003c-4ad4-11e9-9859-0242ac110002"
    },
    "run_through_control": {
     "frozen": true
    },
    "scrolled": false
   },
   "outputs": [
    {
     "name": "stdout",
     "output_type": "stream",
     "text": [
      "\u001b[0;33m172.30.2.93 | SUCCESS => {\u001b[0m\n",
      "\u001b[0;33m    \"changed\": true, \u001b[0m\n",
      "\u001b[0;33m    \"checksum\": \"c6e0619046b498270ac737b51f1f869321e710f5\", \u001b[0m\n",
      "\u001b[0;33m    \"dest\": \"/tmp/tmpsbf9r2cr/172.30.2.93/etc/os-release\", \u001b[0m\n",
      "\u001b[0;33m    \"md5sum\": \"34b13b43513cad92a85bb8547f6fc5cb\", \u001b[0m\n",
      "\u001b[0;33m    \"remote_checksum\": \"c6e0619046b498270ac737b51f1f869321e710f5\", \u001b[0m\n",
      "\u001b[0;33m    \"remote_md5sum\": null\u001b[0m\n",
      "\u001b[0;33m}\u001b[0m\n",
      "\u001b[0;33m172.30.2.20 | SUCCESS => {\u001b[0m\n",
      "\u001b[0;33m    \"changed\": true, \u001b[0m\n",
      "\u001b[0;33m    \"checksum\": \"c6e0619046b498270ac737b51f1f869321e710f5\", \u001b[0m\n",
      "\u001b[0;33m    \"dest\": \"/tmp/tmpsbf9r2cr/172.30.2.20/etc/os-release\", \u001b[0m\n",
      "\u001b[0;33m    \"md5sum\": \"34b13b43513cad92a85bb8547f6fc5cb\", \u001b[0m\n",
      "\u001b[0;33m    \"remote_checksum\": \"c6e0619046b498270ac737b51f1f869321e710f5\", \u001b[0m\n",
      "\u001b[0;33m    \"remote_md5sum\": null\u001b[0m\n",
      "\u001b[0;33m}\u001b[0m\n",
      "/tmp/tmpsbf9r2cr\n",
      "├── 172.30.2.20\n",
      "│   └── etc\n",
      "│       └── os-release\n",
      "└── 172.30.2.93\n",
      "    └── etc\n",
      "        └── os-release\n",
      "\n",
      "4 directories, 2 files\n",
      "172.30.2.20:\n",
      "----------------------------------------\n",
      "NAME=\"Alpine Linux\"\n",
      "ID=alpine\n",
      "VERSION_ID=3.5.2\n",
      "PRETTY_NAME=\"Alpine Linux v3.5\"\n",
      "HOME_URL=\"http://alpinelinux.org\"\n",
      "BUG_REPORT_URL=\"http://bugs.alpinelinux.org\"\n",
      "172.30.2.93:\n",
      "----------------------------------------\n",
      "NAME=\"Alpine Linux\"\n",
      "ID=alpine\n",
      "VERSION_ID=3.5.2\n",
      "PRETTY_NAME=\"Alpine Linux v3.5\"\n",
      "HOME_URL=\"http://alpinelinux.org\"\n",
      "BUG_REPORT_URL=\"http://bugs.alpinelinux.org\"\n"
     ]
    }
   ],
   "source": [
    "import tempfile\n",
    "\n",
    "# 作業ディレクトリを作成\n",
    "work_dir = tempfile.mkdtemp()\n",
    "\n",
    "# Ansibleを利用してVCノードのファイルをローカル環境に取得する\n",
    "!ansible handson103 -m fetch -a 'src=/etc/os-release dest={work_dir}'\n",
    "\n",
    "# 取得したファイルを配置したディレクトリ構成を表示する\n",
    "!tree {work_dir}\n",
    "        \n",
    "# 取得したファイルの内容を表示する\n",
    "for address in ip_address:\n",
    "    print(address + ':')\n",
    "    print('-' * 40)\n",
    "    !cat {os.path.join(work_dir, address, 'etc/os-release')}\n",
    "\n",
    "# 作業ディレクトリを削除\n",
    "!rm -rf {work_dir}"
   ]
  },
  {
   "cell_type": "markdown",
   "metadata": {
    "lc_cell_meme": {
     "current": "6ee600c8-4ad4-11e9-9859-0242ac110002",
     "next": "6ee6010e-4ad4-11e9-9859-0242ac110002",
     "previous": "6ee60082-4ad4-11e9-9859-0242ac110002"
    }
   },
   "source": [
    "比較のために scpコマンド、Ansibleのそれぞれでリモート環境のファイルをローカル環境に取得するためのコードを以下に示します。\n",
    "\n",
    "sshコマンド:\n",
    "```\n",
    "for address in ip_address:\n",
    "    !mkdir -p {work_dir}/{address}\n",
    "    !scp -i {ssh_private_key} root@{server_ip_address}:/etc/os-release {work_dir}/{address}\n",
    "```\n",
    "\n",
    "Ansible:\n",
    "```\n",
    "!ansible handson103 -m fetch -a 'src=/etc/os-release dest={work_dir}'\n",
    "```"
   ]
  },
  {
   "cell_type": "markdown",
   "metadata": {
    "lc_cell_meme": {
     "current": "6ee6010e-4ad4-11e9-9859-0242ac110002",
     "next": "6ee6015e-4ad4-11e9-9859-0242ac110002",
     "previous": "6ee600c8-4ad4-11e9-9859-0242ac110002"
    }
   },
   "source": [
    "# Ansibleを利用した VCノードの操作（続き）"
   ]
  },
  {
   "cell_type": "markdown",
   "metadata": {
    "lc_cell_meme": {
     "current": "6ee6015e-4ad4-11e9-9859-0242ac110002",
     "next": "6ee601a4-4ad4-11e9-9859-0242ac110002",
     "previous": "6ee6010e-4ad4-11e9-9859-0242ac110002"
    }
   },
   "source": [
    "前節では以下のモジュールの利用例を示しました。\n",
    "\n",
    "* [ping モジュール](https://docs.ansible.com/ansible/latest/modules/ping_module.html)\n",
    "* [command モジュール](https://docs.ansible.com/ansible/latest/modules/command_module.html)\n",
    "* [shellモジュール](https://docs.ansible.com/ansible/latest/modules/shell_module.html)\n",
    "* [fetch モジュール](https://docs.ansible.com/ansible/latest/modules/fetch_module.html)"
   ]
  },
  {
   "cell_type": "markdown",
   "metadata": {
    "lc_cell_meme": {
     "current": "6ee601a4-4ad4-11e9-9859-0242ac110002",
     "next": "6ee601f4-4ad4-11e9-9859-0242ac110002",
     "previous": "6ee6015e-4ad4-11e9-9859-0242ac110002"
    }
   },
   "source": [
    "今節では、次のモジュールの利用例を示します。\n",
    "\n",
    "* [packageモジュール](https://docs.ansible.com/ansible/latest/modules/package_module.html)\n",
    "  - 汎用的なパッケージ操作を行う\n",
    "* [copyモジュール](https://docs.ansible.com/ansible/latest/modules/copy_module.html)\n",
    "  - ローカル環境のファイルをリモート環境に配置する\n",
    "* [synchronizeモジュール](https://docs.ansible.com/ansible/latest/modules/synchronize_module.html)\n",
    "  - rsyncのラッパーモジュール。リモート環境への再帰的なファイル配置を行う場合は copy モジュールよりも適している。"
   ]
  },
  {
   "cell_type": "markdown",
   "metadata": {
    "lc_cell_meme": {
     "current": "6ee601f4-4ad4-11e9-9859-0242ac110002",
     "next": "6ee6023a-4ad4-11e9-9859-0242ac110002",
     "previous": "6ee601a4-4ad4-11e9-9859-0242ac110002"
    }
   },
   "source": [
    "また、インベントリにグループの階層（グループのグループ）を作成する方法についてもふれます。"
   ]
  },
  {
   "cell_type": "markdown",
   "metadata": {
    "lc_cell_meme": {
     "current": "6ee6023a-4ad4-11e9-9859-0242ac110002",
     "next": "6ee60280-4ad4-11e9-9859-0242ac110002",
     "previous": "6ee601f4-4ad4-11e9-9859-0242ac110002"
    }
   },
   "source": [
    "## パッケージのインストール"
   ]
  },
  {
   "cell_type": "markdown",
   "metadata": {
    "lc_cell_meme": {
     "current": "6ee60280-4ad4-11e9-9859-0242ac110002",
     "next": "6ee602c6-4ad4-11e9-9859-0242ac110002",
     "previous": "6ee6023a-4ad4-11e9-9859-0242ac110002"
    }
   },
   "source": [
    "VCノードでCPUに関する情報を表示する`lscpu` コマンドを実行してみます。"
   ]
  },
  {
   "cell_type": "code",
   "execution_count": 31,
   "metadata": {
    "lc_cell_meme": {
     "current": "6ee602c6-4ad4-11e9-9859-0242ac110002",
     "next": "6ee60316-4ad4-11e9-9859-0242ac110002",
     "previous": "6ee60280-4ad4-11e9-9859-0242ac110002"
    },
    "scrolled": false
   },
   "outputs": [
    {
     "name": "stdout",
     "output_type": "stream",
     "text": [
      "\u001b[0;31m172.30.2.20 | FAILED | rc=2 >>\u001b[0m\r\n",
      "\u001b[0;31m[Errno 2] No such file or directory\u001b[0m\r\n",
      "\u001b[0;31m\u001b[0m\r\n",
      "\u001b[0;31m172.30.2.93 | FAILED | rc=2 >>\u001b[0m\r\n",
      "\u001b[0;31m[Errno 2] No such file or directory\u001b[0m\r\n",
      "\u001b[0;31m\u001b[0m\r\n"
     ]
    },
    {
     "ename": "RuntimeError",
     "evalue": "Unexpected exit code: 2",
     "output_type": "error",
     "traceback": [
      "\u001b[0;31m---------------------------------------------------------------------------\u001b[0m",
      "\u001b[0;31mRuntimeError\u001b[0m                              Traceback (most recent call last)",
      "\u001b[0;32m<ipython-input-31-260984185b9f>\u001b[0m in \u001b[0;36m<module>\u001b[0;34m()\u001b[0m\n\u001b[0;32m----> 1\u001b[0;31m \u001b[0mget_ipython\u001b[0m\u001b[0;34m(\u001b[0m\u001b[0;34m)\u001b[0m\u001b[0;34m.\u001b[0m\u001b[0msystem\u001b[0m\u001b[0;34m(\u001b[0m\u001b[0;34m\"ansible handson103 -a 'lscpu'\"\u001b[0m\u001b[0;34m)\u001b[0m\u001b[0;34m\u001b[0m\u001b[0m\n\u001b[0m",
      "\u001b[0;32m~/.ipython/profile_default/startup/10-custom-get_ipython_system.py\u001b[0m in \u001b[0;36m<lambda>\u001b[0;34m(x)\u001b[0m\n\u001b[1;32m      5\u001b[0m \u001b[0;34m\u001b[0m\u001b[0m\n\u001b[1;32m      6\u001b[0m \u001b[0msave_get_ipython_system\u001b[0m \u001b[0;34m=\u001b[0m \u001b[0mget_ipython\u001b[0m\u001b[0;34m(\u001b[0m\u001b[0;34m)\u001b[0m\u001b[0;34m.\u001b[0m\u001b[0msystem\u001b[0m\u001b[0;34m\u001b[0m\u001b[0m\n\u001b[0;32m----> 7\u001b[0;31m \u001b[0mget_ipython\u001b[0m\u001b[0;34m(\u001b[0m\u001b[0;34m)\u001b[0m\u001b[0;34m.\u001b[0m\u001b[0msystem\u001b[0m \u001b[0;34m=\u001b[0m \u001b[0;32mlambda\u001b[0m \u001b[0mx\u001b[0m\u001b[0;34m:\u001b[0m \u001b[0mget_ipython_system\u001b[0m\u001b[0;34m(\u001b[0m\u001b[0mx\u001b[0m\u001b[0;34m)\u001b[0m\u001b[0;34m\u001b[0m\u001b[0m\n\u001b[0m\u001b[1;32m      8\u001b[0m \u001b[0;34m\u001b[0m\u001b[0m\n\u001b[1;32m      9\u001b[0m \u001b[0;31m# interactiveshell.py's system_piped() function comment saids:\u001b[0m\u001b[0;34m\u001b[0m\u001b[0;34m\u001b[0m\u001b[0m\n",
      "\u001b[0;32m~/.ipython/profile_default/startup/10-custom-get_ipython_system.py\u001b[0m in \u001b[0;36mget_ipython_system\u001b[0;34m(_cmd)\u001b[0m\n\u001b[1;32m     13\u001b[0m     \u001b[0msave_get_ipython_system\u001b[0m\u001b[0;34m(\u001b[0m\u001b[0m_cmd\u001b[0m\u001b[0;34m)\u001b[0m\u001b[0;34m\u001b[0m\u001b[0m\n\u001b[1;32m     14\u001b[0m     \u001b[0;32mif\u001b[0m \u001b[0mget_ipython\u001b[0m\u001b[0;34m(\u001b[0m\u001b[0;34m)\u001b[0m\u001b[0;34m.\u001b[0m\u001b[0muser_ns\u001b[0m\u001b[0;34m[\u001b[0m\u001b[0;34m'_exit_code'\u001b[0m\u001b[0;34m]\u001b[0m \u001b[0;34m!=\u001b[0m \u001b[0;36m0\u001b[0m\u001b[0;34m:\u001b[0m\u001b[0;34m\u001b[0m\u001b[0m\n\u001b[0;32m---> 15\u001b[0;31m         \u001b[0;32mraise\u001b[0m \u001b[0mRuntimeError\u001b[0m\u001b[0;34m(\u001b[0m\u001b[0;34m'Unexpected exit code: %d'\u001b[0m \u001b[0;34m%\u001b[0m \u001b[0mget_ipython\u001b[0m\u001b[0;34m(\u001b[0m\u001b[0;34m)\u001b[0m\u001b[0;34m.\u001b[0m\u001b[0muser_ns\u001b[0m\u001b[0;34m[\u001b[0m\u001b[0;34m'_exit_code'\u001b[0m\u001b[0;34m]\u001b[0m\u001b[0;34m)\u001b[0m\u001b[0;34m\u001b[0m\u001b[0m\n\u001b[0m",
      "\u001b[0;31mRuntimeError\u001b[0m: Unexpected exit code: 2"
     ]
    }
   ],
   "source": [
    "!ansible handson103 -a 'lscpu'"
   ]
  },
  {
   "cell_type": "markdown",
   "metadata": {
    "lc_cell_meme": {
     "current": "6ee60316-4ad4-11e9-9859-0242ac110002",
     "next": "6ee6035c-4ad4-11e9-9859-0242ac110002",
     "previous": "6ee602c6-4ad4-11e9-9859-0242ac110002"
    }
   },
   "source": [
    "VCノードに `lscpu`コマンドがインストールされていないのでエラーになります。そこで Ansible を利用して `lscpu`コマンドのインストールを行います。\n",
    "\n",
    "今回起動している VCノードは Alpine Linux 環境です。Alpine Linux では `lscpu`コマンドが `util-linux`というパッケージに[含まれています](https://pkgs.alpinelinux.org/contents?file=lscpu&path=&name=util-linux&branch=v3.5&repo=main&arch=x86)。そこで Ansible で `util-linux` パッケージのインストールを行います。"
   ]
  },
  {
   "cell_type": "markdown",
   "metadata": {
    "lc_cell_meme": {
     "current": "6ee6035c-4ad4-11e9-9859-0242ac110002",
     "next": "6ee603ac-4ad4-11e9-9859-0242ac110002",
     "previous": "6ee60316-4ad4-11e9-9859-0242ac110002"
    }
   },
   "source": [
    "Ansible の[パッケージに関するモジュール](https://docs.ansible.com/ansible/latest/modules/list_of_packaging_modules.html)は色々とありますが、今回は汎用的なパッケージ操作を行う[packageモジュール](https://docs.ansible.com/ansible/latest/modules/package_module.html)を利用します。簡単な使用方法を以下に記します。\n",
    "\n",
    "```\n",
    "ansible <ホストパターン> -b -m package -a 'name=<パッケージ名>'\n",
    "\n",
    "-b\n",
    "    管理者権限で操作を実行する\n",
    "    \n",
    "packageモジュールのパラメータ(-a)について:\n",
    "name\n",
    "      操作対象のパッケージ名\n",
    "      複数指定する場合はカンマ(,)で区切る\n",
    "```"
   ]
  },
  {
   "cell_type": "code",
   "execution_count": 32,
   "metadata": {
    "deletable": false,
    "editable": false,
    "lc_cell_meme": {
     "current": "6ee603ac-4ad4-11e9-9859-0242ac110002",
     "next": "6ee603f2-4ad4-11e9-9859-0242ac110002",
     "previous": "6ee6035c-4ad4-11e9-9859-0242ac110002"
    },
    "run_through_control": {
     "frozen": true
    },
    "scrolled": true
   },
   "outputs": [
    {
     "name": "stdout",
     "output_type": "stream",
     "text": [
      "\u001b[0;33m172.30.2.20 | SUCCESS => {\u001b[0m\n",
      "\u001b[0;33m    \"changed\": true, \u001b[0m\n",
      "\u001b[0;33m    \"msg\": \"installed util-linux package(s)\", \u001b[0m\n",
      "\u001b[0;33m    \"packages\": [\u001b[0m\n",
      "\u001b[0;33m        \"libsmartcols\", \u001b[0m\n",
      "\u001b[0;33m        \"findmnt\", \u001b[0m\n",
      "\u001b[0;33m        \"libfdisk\", \u001b[0m\n",
      "\u001b[0;33m        \"util-linux\"\u001b[0m\n",
      "\u001b[0;33m    ], \u001b[0m\n",
      "\u001b[0;33m    \"stderr\": \"\", \u001b[0m\n",
      "\u001b[0;33m    \"stderr_lines\": [], \u001b[0m\n",
      "\u001b[0;33m    \"stdout\": \"(1/4) Installing libsmartcols (2.28.2-r1)\\n(2/4) Installing findmnt (2.28.2-r1)\\n(3/4) Installing libfdisk (2.28.2-r1)\\n(4/4) Installing util-linux (2.28.2-r1)\\nExecuting busybox-1.25.1-r0.trigger\\nOK: 144 MiB in 101 packages\\n\", \u001b[0m\n",
      "\u001b[0;33m    \"stdout_lines\": [\u001b[0m\n",
      "\u001b[0;33m        \"(1/4) Installing libsmartcols (2.28.2-r1)\", \u001b[0m\n",
      "\u001b[0;33m        \"(2/4) Installing findmnt (2.28.2-r1)\", \u001b[0m\n",
      "\u001b[0;33m        \"(3/4) Installing libfdisk (2.28.2-r1)\", \u001b[0m\n",
      "\u001b[0;33m        \"(4/4) Installing util-linux (2.28.2-r1)\", \u001b[0m\n",
      "\u001b[0;33m        \"Executing busybox-1.25.1-r0.trigger\", \u001b[0m\n",
      "\u001b[0;33m        \"OK: 144 MiB in 101 packages\"\u001b[0m\n",
      "\u001b[0;33m    ]\u001b[0m\n",
      "\u001b[0;33m}\u001b[0m\n",
      "\u001b[0;33m172.30.2.93 | SUCCESS => {\u001b[0m\n",
      "\u001b[0;33m    \"changed\": true, \u001b[0m\n",
      "\u001b[0;33m    \"msg\": \"installed util-linux package(s)\", \u001b[0m\n",
      "\u001b[0;33m    \"packages\": [\u001b[0m\n",
      "\u001b[0;33m        \"libsmartcols\", \u001b[0m\n",
      "\u001b[0;33m        \"findmnt\", \u001b[0m\n",
      "\u001b[0;33m        \"libfdisk\", \u001b[0m\n",
      "\u001b[0;33m        \"util-linux\"\u001b[0m\n",
      "\u001b[0;33m    ], \u001b[0m\n",
      "\u001b[0;33m    \"stderr\": \"\", \u001b[0m\n",
      "\u001b[0;33m    \"stderr_lines\": [], \u001b[0m\n",
      "\u001b[0;33m    \"stdout\": \"(1/4) Installing libsmartcols (2.28.2-r1)\\n(2/4) Installing findmnt (2.28.2-r1)\\n(3/4) Installing libfdisk (2.28.2-r1)\\n(4/4) Installing util-linux (2.28.2-r1)\\nExecuting busybox-1.25.1-r0.trigger\\nOK: 144 MiB in 101 packages\\n\", \u001b[0m\n",
      "\u001b[0;33m    \"stdout_lines\": [\u001b[0m\n",
      "\u001b[0;33m        \"(1/4) Installing libsmartcols (2.28.2-r1)\", \u001b[0m\n",
      "\u001b[0;33m        \"(2/4) Installing findmnt (2.28.2-r1)\", \u001b[0m\n",
      "\u001b[0;33m        \"(3/4) Installing libfdisk (2.28.2-r1)\", \u001b[0m\n",
      "\u001b[0;33m        \"(4/4) Installing util-linux (2.28.2-r1)\", \u001b[0m\n",
      "\u001b[0;33m        \"Executing busybox-1.25.1-r0.trigger\", \u001b[0m\n",
      "\u001b[0;33m        \"OK: 144 MiB in 101 packages\"\u001b[0m\n",
      "\u001b[0;33m    ]\u001b[0m\n",
      "\u001b[0;33m}\u001b[0m\n"
     ]
    }
   ],
   "source": [
    "!ansible handson103 -b -m package -a 'name=util-linux'"
   ]
  },
  {
   "cell_type": "markdown",
   "metadata": {
    "lc_cell_meme": {
     "current": "6ee603f2-4ad4-11e9-9859-0242ac110002",
     "next": "6ee60442-4ad4-11e9-9859-0242ac110002",
     "previous": "6ee603ac-4ad4-11e9-9859-0242ac110002"
    }
   },
   "source": [
    "`lscpu` を実行してみます。今度は `lscpu` が実行できるはずです。"
   ]
  },
  {
   "cell_type": "code",
   "execution_count": 33,
   "metadata": {
    "deletable": false,
    "editable": false,
    "lc_cell_meme": {
     "current": "6ee60442-4ad4-11e9-9859-0242ac110002",
     "next": "6ee6049c-4ad4-11e9-9859-0242ac110002",
     "previous": "6ee603f2-4ad4-11e9-9859-0242ac110002"
    },
    "run_through_control": {
     "frozen": true
    },
    "scrolled": true
   },
   "outputs": [
    {
     "name": "stdout",
     "output_type": "stream",
     "text": [
      "\u001b[0;32m172.30.2.93 | SUCCESS | rc=0 >>\u001b[0m\n",
      "\u001b[0;32mArchitecture:          x86_64\u001b[0m\n",
      "\u001b[0;32mCPU op-mode(s):        32-bit, 64-bit\u001b[0m\n",
      "\u001b[0;32mByte Order:            Little Endian\u001b[0m\n",
      "\u001b[0;32mCPU(s):                2\u001b[0m\n",
      "\u001b[0;32mOn-line CPU(s) list:   0,1\u001b[0m\n",
      "\u001b[0;32mThread(s) per core:    2\u001b[0m\n",
      "\u001b[0;32mCore(s) per socket:    1\u001b[0m\n",
      "\u001b[0;32mSocket(s):             1\u001b[0m\n",
      "\u001b[0;32mNUMA node(s):          1\u001b[0m\n",
      "\u001b[0;32mVendor ID:             GenuineIntel\u001b[0m\n",
      "\u001b[0;32mCPU family:            6\u001b[0m\n",
      "\u001b[0;32mModel:                 79\u001b[0m\n",
      "\u001b[0;32mModel name:            Intel(R) Xeon(R) CPU E5-2686 v4 @ 2.30GHz\u001b[0m\n",
      "\u001b[0;32mStepping:              1\u001b[0m\n",
      "\u001b[0;32mCPU MHz:               2300.090\u001b[0m\n",
      "\u001b[0;32mBogoMIPS:              4600.18\u001b[0m\n",
      "\u001b[0;32mHypervisor vendor:     Xen\u001b[0m\n",
      "\u001b[0;32mVirtualization type:   full\u001b[0m\n",
      "\u001b[0;32mL1d cache:             32K\u001b[0m\n",
      "\u001b[0;32mL1i cache:             32K\u001b[0m\n",
      "\u001b[0;32mL2 cache:              256K\u001b[0m\n",
      "\u001b[0;32mL3 cache:              46080K\u001b[0m\n",
      "\u001b[0;32mNUMA node0 CPU(s):     0,1\u001b[0m\n",
      "\u001b[0;32mFlags:                 fpu vme de pse tsc msr pae mce cx8 apic sep mtrr pge mca cmov pat pse36 clflush mmx fxsr sse sse2 ht syscall nx pdpe1gb rdtscp lm constant_tsc rep_good nopl xtopology eagerfpu pni pclmulqdq ssse3 fma cx16 pcid sse4_1 sse4_2 x2apic movbe popcnt tsc_deadline_timer aes xsave avx f16c rdrand hypervisor lahf_lm abm fsgsbase bmi1 avx2 smep bmi2 erms invpcid xsaveopt\u001b[0m\n",
      "\u001b[0;32m\u001b[0m\n",
      "\u001b[0;32m172.30.2.20 | SUCCESS | rc=0 >>\u001b[0m\n",
      "\u001b[0;32mArchitecture:          x86_64\u001b[0m\n",
      "\u001b[0;32mCPU op-mode(s):        32-bit, 64-bit\u001b[0m\n",
      "\u001b[0;32mByte Order:            Little Endian\u001b[0m\n",
      "\u001b[0;32mCPU(s):                2\u001b[0m\n",
      "\u001b[0;32mOn-line CPU(s) list:   0,1\u001b[0m\n",
      "\u001b[0;32mThread(s) per core:    2\u001b[0m\n",
      "\u001b[0;32mCore(s) per socket:    1\u001b[0m\n",
      "\u001b[0;32mSocket(s):             1\u001b[0m\n",
      "\u001b[0;32mNUMA node(s):          1\u001b[0m\n",
      "\u001b[0;32mVendor ID:             GenuineIntel\u001b[0m\n",
      "\u001b[0;32mCPU family:            6\u001b[0m\n",
      "\u001b[0;32mModel:                 79\u001b[0m\n",
      "\u001b[0;32mModel name:            Intel(R) Xeon(R) CPU E5-2686 v4 @ 2.30GHz\u001b[0m\n",
      "\u001b[0;32mStepping:              1\u001b[0m\n",
      "\u001b[0;32mCPU MHz:               2300.018\u001b[0m\n",
      "\u001b[0;32mBogoMIPS:              4600.03\u001b[0m\n",
      "\u001b[0;32mHypervisor vendor:     Xen\u001b[0m\n",
      "\u001b[0;32mVirtualization type:   full\u001b[0m\n",
      "\u001b[0;32mL1d cache:             32K\u001b[0m\n",
      "\u001b[0;32mL1i cache:             32K\u001b[0m\n",
      "\u001b[0;32mL2 cache:              256K\u001b[0m\n",
      "\u001b[0;32mL3 cache:              46080K\u001b[0m\n",
      "\u001b[0;32mNUMA node0 CPU(s):     0,1\u001b[0m\n",
      "\u001b[0;32mFlags:                 fpu vme de pse tsc msr pae mce cx8 apic sep mtrr pge mca cmov pat pse36 clflush mmx fxsr sse sse2 ht syscall nx pdpe1gb rdtscp lm constant_tsc rep_good nopl xtopology eagerfpu pni pclmulqdq ssse3 fma cx16 pcid sse4_1 sse4_2 x2apic movbe popcnt tsc_deadline_timer aes xsave avx f16c rdrand hypervisor lahf_lm abm fsgsbase bmi1 avx2 smep bmi2 erms invpcid xsaveopt\u001b[0m\n",
      "\u001b[0;32m\u001b[0m\n"
     ]
    }
   ],
   "source": [
    "!ansible handson103 -a 'lscpu'"
   ]
  },
  {
   "cell_type": "markdown",
   "metadata": {
    "lc_cell_meme": {
     "current": "6ee6049c-4ad4-11e9-9859-0242ac110002",
     "next": "6ee604e2-4ad4-11e9-9859-0242ac110002",
     "previous": "6ee60442-4ad4-11e9-9859-0242ac110002"
    }
   },
   "source": [
    "複数のパッケージをインストールする場合はカンマで区切ってパッケージ名を列挙します。"
   ]
  },
  {
   "cell_type": "code",
   "execution_count": 38,
   "metadata": {
    "deletable": false,
    "editable": false,
    "lc_cell_meme": {
     "current": "6ee604e2-4ad4-11e9-9859-0242ac110002",
     "next": "6ee60532-4ad4-11e9-9859-0242ac110002",
     "previous": "6ee6049c-4ad4-11e9-9859-0242ac110002"
    },
    "run_through_control": {
     "frozen": true
    },
    "scrolled": true
   },
   "outputs": [
    {
     "name": "stdout",
     "output_type": "stream",
     "text": [
      "\u001b[0;33m172.30.2.20 | SUCCESS => {\u001b[0m\n",
      "\u001b[0;33m    \"changed\": true, \u001b[0m\n",
      "\u001b[0;33m    \"msg\": \"installed tree netcat-openbsd package(s)\", \u001b[0m\n",
      "\u001b[0;33m    \"packages\": [\u001b[0m\n",
      "\u001b[0;33m        \"libintl\", \u001b[0m\n",
      "\u001b[0;33m        \"pcre\", \u001b[0m\n",
      "\u001b[0;33m        \"glib\", \u001b[0m\n",
      "\u001b[0;33m        \"netcat-openbsd\", \u001b[0m\n",
      "\u001b[0;33m        \"tree\"\u001b[0m\n",
      "\u001b[0;33m    ], \u001b[0m\n",
      "\u001b[0;33m    \"stderr\": \"\", \u001b[0m\n",
      "\u001b[0;33m    \"stderr_lines\": [], \u001b[0m\n",
      "\u001b[0;33m    \"stdout\": \"(1/5) Installing libintl (0.19.8.1-r0)\\n(2/5) Installing pcre (8.39-r0)\\n(3/5) Installing glib (2.50.2-r0)\\n(4/5) Installing netcat-openbsd (1.89-r2)\\n(5/5) Installing tree (1.7.0-r0)\\nExecuting busybox-1.25.1-r0.trigger\\nExecuting glib-2.50.2-r0.trigger\\nOK: 148 MiB in 110 packages\\n\", \u001b[0m\n",
      "\u001b[0;33m    \"stdout_lines\": [\u001b[0m\n",
      "\u001b[0;33m        \"(1/5) Installing libintl (0.19.8.1-r0)\", \u001b[0m\n",
      "\u001b[0;33m        \"(2/5) Installing pcre (8.39-r0)\", \u001b[0m\n",
      "\u001b[0;33m        \"(3/5) Installing glib (2.50.2-r0)\", \u001b[0m\n",
      "\u001b[0;33m        \"(4/5) Installing netcat-openbsd (1.89-r2)\", \u001b[0m\n",
      "\u001b[0;33m        \"(5/5) Installing tree (1.7.0-r0)\", \u001b[0m\n",
      "\u001b[0;33m        \"Executing busybox-1.25.1-r0.trigger\", \u001b[0m\n",
      "\u001b[0;33m        \"Executing glib-2.50.2-r0.trigger\", \u001b[0m\n",
      "\u001b[0;33m        \"OK: 148 MiB in 110 packages\"\u001b[0m\n",
      "\u001b[0;33m    ]\u001b[0m\n",
      "\u001b[0;33m}\u001b[0m\n",
      "\u001b[0;33m172.30.2.93 | SUCCESS => {\u001b[0m\n",
      "\u001b[0;33m    \"changed\": true, \u001b[0m\n",
      "\u001b[0;33m    \"msg\": \"installed tree netcat-openbsd package(s)\", \u001b[0m\n",
      "\u001b[0;33m    \"packages\": [\u001b[0m\n",
      "\u001b[0;33m        \"libintl\", \u001b[0m\n",
      "\u001b[0;33m        \"pcre\", \u001b[0m\n",
      "\u001b[0;33m        \"glib\", \u001b[0m\n",
      "\u001b[0;33m        \"netcat-openbsd\", \u001b[0m\n",
      "\u001b[0;33m        \"tree\"\u001b[0m\n",
      "\u001b[0;33m    ], \u001b[0m\n",
      "\u001b[0;33m    \"stderr\": \"\", \u001b[0m\n",
      "\u001b[0;33m    \"stderr_lines\": [], \u001b[0m\n",
      "\u001b[0;33m    \"stdout\": \"(1/5) Installing libintl (0.19.8.1-r0)\\n(2/5) Installing pcre (8.39-r0)\\n(3/5) Installing glib (2.50.2-r0)\\n(4/5) Installing netcat-openbsd (1.89-r2)\\n(5/5) Installing tree (1.7.0-r0)\\nExecuting busybox-1.25.1-r0.trigger\\nExecuting glib-2.50.2-r0.trigger\\nOK: 148 MiB in 110 packages\\n\", \u001b[0m\n",
      "\u001b[0;33m    \"stdout_lines\": [\u001b[0m\n",
      "\u001b[0;33m        \"(1/5) Installing libintl (0.19.8.1-r0)\", \u001b[0m\n",
      "\u001b[0;33m        \"(2/5) Installing pcre (8.39-r0)\", \u001b[0m\n",
      "\u001b[0;33m        \"(3/5) Installing glib (2.50.2-r0)\", \u001b[0m\n",
      "\u001b[0;33m        \"(4/5) Installing netcat-openbsd (1.89-r2)\", \u001b[0m\n",
      "\u001b[0;33m        \"(5/5) Installing tree (1.7.0-r0)\", \u001b[0m\n",
      "\u001b[0;33m        \"Executing busybox-1.25.1-r0.trigger\", \u001b[0m\n",
      "\u001b[0;33m        \"Executing glib-2.50.2-r0.trigger\", \u001b[0m\n",
      "\u001b[0;33m        \"OK: 148 MiB in 110 packages\"\u001b[0m\n",
      "\u001b[0;33m    ]\u001b[0m\n",
      "\u001b[0;33m}\u001b[0m\n"
     ]
    }
   ],
   "source": [
    "!ansible handson103 -b -m package -a 'name=rsync,tree,netcat-openbsd update_cache=yes'"
   ]
  },
  {
   "cell_type": "markdown",
   "metadata": {
    "lc_cell_meme": {
     "current": "6ee60532-4ad4-11e9-9859-0242ac110002",
     "next": "6ee60578-4ad4-11e9-9859-0242ac110002",
     "previous": "6ee604e2-4ad4-11e9-9859-0242ac110002"
    }
   },
   "source": [
    "## グループの階層"
   ]
  },
  {
   "cell_type": "markdown",
   "metadata": {
    "lc_cell_meme": {
     "current": "6ee60578-4ad4-11e9-9859-0242ac110002",
     "next": "6ee605c8-4ad4-11e9-9859-0242ac110002",
     "previous": "6ee60532-4ad4-11e9-9859-0242ac110002"
    }
   },
   "source": [
    "Ansibleのグループは階層構造をもつことができます。\n",
    "\n",
    "現在のインベントリでは`handson103`というVCに対応するグループのみ定義しています。これを変更してUnit:`server`, Unit:`client`に対応するグループを定義して、さらにその親グループとして`handson103`を定義し直します。\n",
    "\n",
    "![inventory](images/103-004.png)\n",
    "\n",
    "こうすることでVCP SDKの UnitGroup, Unit と同じ構造をAnsibleのグループとして定義することができます。"
   ]
  },
  {
   "cell_type": "markdown",
   "metadata": {
    "lc_cell_meme": {
     "current": "6ee605c8-4ad4-11e9-9859-0242ac110002",
     "next": "6ee6060e-4ad4-11e9-9859-0242ac110002",
     "previous": "6ee60578-4ad4-11e9-9859-0242ac110002"
    }
   },
   "source": [
    "### インベントリの更新"
   ]
  },
  {
   "cell_type": "markdown",
   "metadata": {
    "lc_cell_meme": {
     "current": "6ee6060e-4ad4-11e9-9859-0242ac110002",
     "next": "6ee60654-4ad4-11e9-9859-0242ac110002",
     "previous": "6ee605c8-4ad4-11e9-9859-0242ac110002"
    }
   },
   "source": [
    "グループの階層（グループのグループ）を定義するには、インベントリに角括弧内の見出しのサフィックスに`:children`を付けます。\n",
    "\n",
    "```\n",
    "[group1:children]\n",
    "group2\n",
    "group3\n",
    "```\n",
    "\n",
    "上の例では group2, group3 が group1の子グループになります。\n",
    "\n",
    "> 詳細については[Ansibleのドキュメント - Groups of Groups, and Group Variables](https://docs.ansible.com/ansible/latest/user_guide/intro_inventory.html#groups-of-groups-and-group-variables)などを参照してください。"
   ]
  },
  {
   "cell_type": "markdown",
   "metadata": {
    "lc_cell_meme": {
     "current": "6ee60654-4ad4-11e9-9859-0242ac110002",
     "next": "6ee606a4-4ad4-11e9-9859-0242ac110002",
     "previous": "6ee6060e-4ad4-11e9-9859-0242ac110002"
    }
   },
   "source": [
    "次のセルを実行するとカレントディレクトリのインベントリファイルを更新します。"
   ]
  },
  {
   "cell_type": "code",
   "execution_count": 39,
   "metadata": {
    "deletable": false,
    "editable": false,
    "lc_cell_meme": {
     "current": "6ee606a4-4ad4-11e9-9859-0242ac110002",
     "next": "6ee606ea-4ad4-11e9-9859-0242ac110002",
     "previous": "6ee60654-4ad4-11e9-9859-0242ac110002"
    },
    "run_through_control": {
     "frozen": true
    },
    "scrolled": true
   },
   "outputs": [
    {
     "name": "stdout",
     "output_type": "stream",
     "text": [
      "[server]\r\n",
      "172.30.2.20\r\n",
      "\r\n",
      "[client]\r\n",
      "172.30.2.93\r\n",
      "\r\n",
      "[handson103:children]\r\n",
      "server\r\n",
      "client\r\n"
     ]
    }
   ],
   "source": [
    "with open('hosts', 'w') as f:\n",
    "    for unit in unit_group.find_units():\n",
    "        f.write(\"[{}]\\n\".format(unit.name))                      # Unit名をグループ名にする\n",
    "        for addr in unit.find_ip_addresses():                    # Unitに属しているVCノードのリストを取得する\n",
    "            f.write(\"{}\\n\".format(addr))                         # VCノードのIPアドレスをインベントリ書き込む\n",
    "        f.write(\"\\n\")\n",
    "    f.write(\"[{}:children]\\n\".format(unit_group.name))           # グループのグループ定義。名前は VC名にする\n",
    "    for unit in unit_group.find_units():\n",
    "        f.write(\"{}\\n\".format(unit.name))                        # 所属するグループ名を書き込む\n",
    "\n",
    "# インベントリの内容を表示する\n",
    "!cat hosts"
   ]
  },
  {
   "cell_type": "markdown",
   "metadata": {
    "lc_cell_meme": {
     "current": "6ee606ea-4ad4-11e9-9859-0242ac110002",
     "next": "6ee6073a-4ad4-11e9-9859-0242ac110002",
     "previous": "6ee606a4-4ad4-11e9-9859-0242ac110002"
    }
   },
   "source": [
    "### Ansibleコマンドの実行"
   ]
  },
  {
   "cell_type": "markdown",
   "metadata": {
    "lc_cell_meme": {
     "current": "6ee6073a-4ad4-11e9-9859-0242ac110002",
     "next": "6ee60780-4ad4-11e9-9859-0242ac110002",
     "previous": "6ee606ea-4ad4-11e9-9859-0242ac110002"
    }
   },
   "source": [
    "新たに定義したグループ`server`, `client` をホストパターンに指定できることを確認します。\n",
    "\n",
    "![group](images/103-005.png)"
   ]
  },
  {
   "cell_type": "code",
   "execution_count": 40,
   "metadata": {
    "deletable": false,
    "editable": false,
    "lc_cell_meme": {
     "current": "6ee60780-4ad4-11e9-9859-0242ac110002",
     "next": "6ee607c6-4ad4-11e9-9859-0242ac110002",
     "previous": "6ee6073a-4ad4-11e9-9859-0242ac110002"
    },
    "run_through_control": {
     "frozen": true
    }
   },
   "outputs": [
    {
     "name": "stdout",
     "output_type": "stream",
     "text": [
      "\u001b[0;32m172.30.2.20 | SUCCESS => {\u001b[0m\r\n",
      "\u001b[0;32m    \"changed\": false, \u001b[0m\r\n",
      "\u001b[0;32m    \"ping\": \"pong\"\u001b[0m\r\n",
      "\u001b[0;32m}\u001b[0m\r\n"
     ]
    }
   ],
   "source": [
    "!ansible server -m ping"
   ]
  },
  {
   "cell_type": "code",
   "execution_count": 41,
   "metadata": {
    "deletable": false,
    "editable": false,
    "lc_cell_meme": {
     "current": "6ee607c6-4ad4-11e9-9859-0242ac110002",
     "next": "6ee60816-4ad4-11e9-9859-0242ac110002",
     "previous": "6ee60780-4ad4-11e9-9859-0242ac110002"
    },
    "run_through_control": {
     "frozen": true
    },
    "scrolled": true
   },
   "outputs": [
    {
     "name": "stdout",
     "output_type": "stream",
     "text": [
      "\u001b[0;32m172.30.2.93 | SUCCESS => {\u001b[0m\r\n",
      "\u001b[0;32m    \"changed\": false, \u001b[0m\r\n",
      "\u001b[0;32m    \"ping\": \"pong\"\u001b[0m\r\n",
      "\u001b[0;32m}\u001b[0m\r\n"
     ]
    }
   ],
   "source": [
    "!ansible client -m ping"
   ]
  },
  {
   "cell_type": "markdown",
   "metadata": {
    "lc_cell_meme": {
     "current": "6ee60816-4ad4-11e9-9859-0242ac110002",
     "next": "6ee6085c-4ad4-11e9-9859-0242ac110002",
     "previous": "6ee607c6-4ad4-11e9-9859-0242ac110002"
    }
   },
   "source": [
    "グループのグループ`handson103`を指定すると `server`, `client` の両方のVCノードに対して操作できることを確認します。"
   ]
  },
  {
   "cell_type": "code",
   "execution_count": 42,
   "metadata": {
    "deletable": false,
    "editable": false,
    "lc_cell_meme": {
     "current": "6ee6085c-4ad4-11e9-9859-0242ac110002",
     "next": "6ee608ac-4ad4-11e9-9859-0242ac110002",
     "previous": "6ee60816-4ad4-11e9-9859-0242ac110002"
    },
    "run_through_control": {
     "frozen": true
    }
   },
   "outputs": [
    {
     "name": "stdout",
     "output_type": "stream",
     "text": [
      "\u001b[0;32m172.30.2.20 | SUCCESS => {\u001b[0m\r\n",
      "\u001b[0;32m    \"changed\": false, \u001b[0m\r\n",
      "\u001b[0;32m    \"ping\": \"pong\"\u001b[0m\r\n",
      "\u001b[0;32m}\u001b[0m\r\n",
      "\u001b[0;32m172.30.2.93 | SUCCESS => {\u001b[0m\r\n",
      "\u001b[0;32m    \"changed\": false, \u001b[0m\r\n",
      "\u001b[0;32m    \"ping\": \"pong\"\u001b[0m\r\n",
      "\u001b[0;32m}\u001b[0m\r\n"
     ]
    }
   ],
   "source": [
    "!ansible handson103 -m ping"
   ]
  },
  {
   "cell_type": "markdown",
   "metadata": {
    "lc_cell_meme": {
     "current": "6ee608ac-4ad4-11e9-9859-0242ac110002",
     "next": "6ee608f2-4ad4-11e9-9859-0242ac110002",
     "previous": "6ee6085c-4ad4-11e9-9859-0242ac110002"
    }
   },
   "source": [
    "## VCノードへのファイルの配置"
   ]
  },
  {
   "cell_type": "markdown",
   "metadata": {
    "lc_cell_meme": {
     "current": "6ee608f2-4ad4-11e9-9859-0242ac110002",
     "next": "6ee60942-4ad4-11e9-9859-0242ac110002",
     "previous": "6ee608ac-4ad4-11e9-9859-0242ac110002"
    }
   },
   "source": [
    "### copyモジュール"
   ]
  },
  {
   "cell_type": "markdown",
   "metadata": {
    "lc_cell_meme": {
     "current": "6ee60942-4ad4-11e9-9859-0242ac110002",
     "next": "6ee60988-4ad4-11e9-9859-0242ac110002",
     "previous": "6ee608f2-4ad4-11e9-9859-0242ac110002"
    }
   },
   "source": [
    "ローカル環境のファイルをリモート環境に配置するには[copyモジュール](https://docs.ansible.com/ansible/latest/modules/copy_module.html)を利用します。簡単な使用方法を以下に示します。\n",
    "\n",
    "```\n",
    "ansible <ホストパターン> [-b] -m copy -a 'src=<元ファイル> dest=<配置先>'\n",
    "\n",
    "-b\n",
    "    管理者権限で操作を実行する\n",
    "    \n",
    "copyモジュールのパラメータ(-a)について:\n",
    "src\n",
    "      配置元となるローカル環境のファイル\n",
    "dest\n",
    "      配置先となるリモート環境のパス\n",
    "```"
   ]
  },
  {
   "cell_type": "markdown",
   "metadata": {
    "lc_cell_meme": {
     "current": "6ee60988-4ad4-11e9-9859-0242ac110002",
     "next": "6ee609ce-4ad4-11e9-9859-0242ac110002",
     "previous": "6ee60942-4ad4-11e9-9859-0242ac110002"
    }
   },
   "source": [
    "実際に[copyモジュール](https://docs.ansible.com/ansible/latest/modules/copy_module.html)を利用して、ローカル環境にあるVCPSDK API仕様書のhtmlファイルを server UnitのVCノードに配置してみます。"
   ]
  },
  {
   "cell_type": "code",
   "execution_count": 43,
   "metadata": {
    "deletable": false,
    "editable": false,
    "lc_cell_meme": {
     "current": "6ee609ce-4ad4-11e9-9859-0242ac110002",
     "next": "6ee60a14-4ad4-11e9-9859-0242ac110002",
     "previous": "6ee60988-4ad4-11e9-9859-0242ac110002"
    },
    "run_through_control": {
     "frozen": true
    },
    "scrolled": true
   },
   "outputs": [
    {
     "name": "stdout",
     "output_type": "stream",
     "text": [
      "\u001b[0;32m172.30.2.20 | SUCCESS | rc=0 >>\u001b[0m\n",
      "\u001b[0;32m\u001b[0m\n",
      "\u001b[0;32m\u001b[0m\n",
      "\u001b[0;32m172.30.2.20 | SUCCESS => {\u001b[0m\n",
      "\u001b[0;32m    \"changed\": false, \u001b[0m\n",
      "\u001b[0;32m    \"checksum\": \"c8a8d42020d92c014483e3011e166c5e8cd1a9ad\", \u001b[0m\n",
      "\u001b[0;32m    \"dest\": \"/opt/doc/index.html\", \u001b[0m\n",
      "\u001b[0;32m    \"gid\": 100, \u001b[0m\n",
      "\u001b[0;32m    \"group\": \"users\", \u001b[0m\n",
      "\u001b[0;32m    \"mode\": \"0644\", \u001b[0m\n",
      "\u001b[0;32m    \"owner\": \"1014\", \u001b[0m\n",
      "\u001b[0;32m    \"path\": \"/opt/doc/index.html\", \u001b[0m\n",
      "\u001b[0;32m    \"size\": 176815, \u001b[0m\n",
      "\u001b[0;32m    \"state\": \"file\", \u001b[0m\n",
      "\u001b[0;32m    \"uid\": 1014\u001b[0m\n",
      "\u001b[0;32m}\u001b[0m\n"
     ]
    }
   ],
   "source": [
    "# !ansible server -b -m file -a 'path=/opt/doc/ state=directory'   #　次の文と同じ操作となる\n",
    "!ansible server -b -a 'warn=False mkdir -p /opt/doc/'\n",
    "\n",
    "# ファイルの配置を行う\n",
    "!ansible server -b -m copy -a 'src=/notebooks/notebook/doc/index.html dest=/opt/doc/'"
   ]
  },
  {
   "cell_type": "markdown",
   "metadata": {
    "lc_cell_meme": {
     "current": "6ee60a14-4ad4-11e9-9859-0242ac110002",
     "next": "6ee60a64-4ad4-11e9-9859-0242ac110002",
     "previous": "6ee609ce-4ad4-11e9-9859-0242ac110002"
    }
   },
   "source": [
    "VCノードにファイルが配置されたことを確認します。"
   ]
  },
  {
   "cell_type": "code",
   "execution_count": 44,
   "metadata": {
    "deletable": false,
    "editable": false,
    "lc_cell_meme": {
     "current": "6ee60a64-4ad4-11e9-9859-0242ac110002",
     "next": "6ee60ab4-4ad4-11e9-9859-0242ac110002",
     "previous": "6ee60a14-4ad4-11e9-9859-0242ac110002"
    },
    "run_through_control": {
     "frozen": true
    },
    "scrolled": true
   },
   "outputs": [
    {
     "name": "stdout",
     "output_type": "stream",
     "text": [
      "\u001b[0;32m172.30.2.20 | SUCCESS | rc=0 >>\u001b[0m\r\n",
      "\u001b[0;32m/opt/doc\u001b[0m\r\n",
      "\u001b[0;32m├── _images\u001b[0m\r\n",
      "\u001b[0;32m│   ├── df_flavor.png\u001b[0m\r\n",
      "\u001b[0;32m│   ├── df_nodes.png\u001b[0m\r\n",
      "\u001b[0;32m│   ├── df_units.png\u001b[0m\r\n",
      "\u001b[0;32m│   ├── node_state.png\u001b[0m\r\n",
      "\u001b[0;32m│   ├── vc_state.png\u001b[0m\r\n",
      "\u001b[0;32m│   └── vcp_structure.png\u001b[0m\r\n",
      "\u001b[0;32m├── _static\u001b[0m\r\n",
      "\u001b[0;32m│   ├── ajax-loader.gif\u001b[0m\r\n",
      "\u001b[0;32m│   ├── basic.css\u001b[0m\r\n",
      "\u001b[0;32m│   ├── comment-bright.png\u001b[0m\r\n",
      "\u001b[0;32m│   ├── comment-close.png\u001b[0m\r\n",
      "\u001b[0;32m│   ├── comment.png\u001b[0m\r\n",
      "\u001b[0;32m│   ├── css\u001b[0m\r\n",
      "\u001b[0;32m│   │   ├── badge_only.css\u001b[0m\r\n",
      "\u001b[0;32m│   │   └── theme.css\u001b[0m\r\n",
      "\u001b[0;32m│   ├── doctools.js\u001b[0m\r\n",
      "\u001b[0;32m│   ├── down-pressed.png\u001b[0m\r\n",
      "\u001b[0;32m│   ├── down.png\u001b[0m\r\n",
      "\u001b[0;32m│   ├── file.png\u001b[0m\r\n",
      "\u001b[0;32m│   ├── fonts\u001b[0m\r\n",
      "\u001b[0;32m│   │   ├── Inconsolata-Bold.ttf\u001b[0m\r\n",
      "\u001b[0;32m│   │   ├── Inconsolata-Regular.ttf\u001b[0m\r\n",
      "\u001b[0;32m│   │   ├── Lato\u001b[0m\r\n",
      "\u001b[0;32m│   │   │   ├── lato-bold.eot\u001b[0m\r\n",
      "\u001b[0;32m│   │   │   ├── lato-bold.ttf\u001b[0m\r\n",
      "\u001b[0;32m│   │   │   ├── lato-bold.woff\u001b[0m\r\n",
      "\u001b[0;32m│   │   │   ├── lato-bold.woff2\u001b[0m\r\n",
      "\u001b[0;32m│   │   │   ├── lato-bolditalic.eot\u001b[0m\r\n",
      "\u001b[0;32m│   │   │   ├── lato-bolditalic.ttf\u001b[0m\r\n",
      "\u001b[0;32m│   │   │   ├── lato-bolditalic.woff\u001b[0m\r\n",
      "\u001b[0;32m│   │   │   ├── lato-bolditalic.woff2\u001b[0m\r\n",
      "\u001b[0;32m│   │   │   ├── lato-italic.eot\u001b[0m\r\n",
      "\u001b[0;32m│   │   │   ├── lato-italic.ttf\u001b[0m\r\n",
      "\u001b[0;32m│   │   │   ├── lato-italic.woff\u001b[0m\r\n",
      "\u001b[0;32m│   │   │   ├── lato-italic.woff2\u001b[0m\r\n",
      "\u001b[0;32m│   │   │   ├── lato-regular.eot\u001b[0m\r\n",
      "\u001b[0;32m│   │   │   ├── lato-regular.ttf\u001b[0m\r\n",
      "\u001b[0;32m│   │   │   ├── lato-regular.woff\u001b[0m\r\n",
      "\u001b[0;32m│   │   │   └── lato-regular.woff2\u001b[0m\r\n",
      "\u001b[0;32m│   │   ├── Lato-Bold.ttf\u001b[0m\r\n",
      "\u001b[0;32m│   │   ├── Lato-Regular.ttf\u001b[0m\r\n",
      "\u001b[0;32m│   │   ├── RobotoSlab\u001b[0m\r\n",
      "\u001b[0;32m│   │   │   ├── roboto-slab-v7-bold.eot\u001b[0m\r\n",
      "\u001b[0;32m│   │   │   ├── roboto-slab-v7-bold.ttf\u001b[0m\r\n",
      "\u001b[0;32m│   │   │   ├── roboto-slab-v7-bold.woff\u001b[0m\r\n",
      "\u001b[0;32m│   │   │   ├── roboto-slab-v7-bold.woff2\u001b[0m\r\n",
      "\u001b[0;32m│   │   │   ├── roboto-slab-v7-regular.eot\u001b[0m\r\n",
      "\u001b[0;32m│   │   │   ├── roboto-slab-v7-regular.ttf\u001b[0m\r\n",
      "\u001b[0;32m│   │   │   ├── roboto-slab-v7-regular.woff\u001b[0m\r\n",
      "\u001b[0;32m│   │   │   └── roboto-slab-v7-regular.woff2\u001b[0m\r\n",
      "\u001b[0;32m│   │   ├── RobotoSlab-Bold.ttf\u001b[0m\r\n",
      "\u001b[0;32m│   │   ├── RobotoSlab-Regular.ttf\u001b[0m\r\n",
      "\u001b[0;32m│   │   ├── fontawesome-webfont.eot\u001b[0m\r\n",
      "\u001b[0;32m│   │   ├── fontawesome-webfont.svg\u001b[0m\r\n",
      "\u001b[0;32m│   │   ├── fontawesome-webfont.ttf\u001b[0m\r\n",
      "\u001b[0;32m│   │   ├── fontawesome-webfont.woff\u001b[0m\r\n",
      "\u001b[0;32m│   │   └── fontawesome-webfont.woff2\u001b[0m\r\n",
      "\u001b[0;32m│   ├── jquery.js\u001b[0m\r\n",
      "\u001b[0;32m│   ├── js\u001b[0m\r\n",
      "\u001b[0;32m│   │   ├── modernizr.min.js\u001b[0m\r\n",
      "\u001b[0;32m│   │   └── theme.js\u001b[0m\r\n",
      "\u001b[0;32m│   ├── media\u001b[0m\r\n",
      "\u001b[0;32m│   │   ├── node_state.png\u001b[0m\r\n",
      "\u001b[0;32m│   │   ├── vc_state.png\u001b[0m\r\n",
      "\u001b[0;32m│   │   └── vcp_structure.png\u001b[0m\r\n",
      "\u001b[0;32m│   ├── minus.png\u001b[0m\r\n",
      "\u001b[0;32m│   ├── plus.png\u001b[0m\r\n",
      "\u001b[0;32m│   ├── print.css\u001b[0m\r\n",
      "\u001b[0;32m│   ├── pygments.css\u001b[0m\r\n",
      "\u001b[0;32m│   ├── searchtools.js\u001b[0m\r\n",
      "\u001b[0;32m│   ├── translations.js\u001b[0m\r\n",
      "\u001b[0;32m│   ├── underscore.js\u001b[0m\r\n",
      "\u001b[0;32m│   ├── up-pressed.png\u001b[0m\r\n",
      "\u001b[0;32m│   ├── up.png\u001b[0m\r\n",
      "\u001b[0;32m│   └── websupport.js\u001b[0m\r\n",
      "\u001b[0;32m├── index.html\u001b[0m\r\n",
      "\u001b[0;32m└── objects.inv\u001b[0m\r\n",
      "\u001b[0;32m\u001b[0m\r\n",
      "\u001b[0;32m8 directories, 70 files\u001b[0m\r\n",
      "\u001b[0;32m\u001b[0m\r\n"
     ]
    }
   ],
   "source": [
    "!ansible server -a 'tree /opt/doc'"
   ]
  },
  {
   "cell_type": "markdown",
   "metadata": {
    "lc_cell_meme": {
     "current": "6ee60ab4-4ad4-11e9-9859-0242ac110002",
     "next": "6ee60afa-4ad4-11e9-9859-0242ac110002",
     "previous": "6ee60a64-4ad4-11e9-9859-0242ac110002"
    }
   },
   "source": [
    "### synchronizeモジュール"
   ]
  },
  {
   "cell_type": "markdown",
   "metadata": {
    "lc_cell_meme": {
     "current": "6ee60afa-4ad4-11e9-9859-0242ac110002",
     "next": "6ee60b40-4ad4-11e9-9859-0242ac110002",
     "previous": "6ee60ab4-4ad4-11e9-9859-0242ac110002"
    }
   },
   "source": [
    "copyモジュールではHTMLファイルのみをVCノードに配置しました。次に、画像ファイルやスタイルシートなど含めたソースツリー全体をリモート環境に配置してみます。\n",
    "\n",
    "ローカル環境にあるディレクトリ階層をリモート環境に配置する場合は [synchronizeモジュール](https://docs.ansible.com/ansible/latest/modules/synchronize_module.html)を利用します。"
   ]
  },
  {
   "cell_type": "code",
   "execution_count": 45,
   "metadata": {
    "deletable": false,
    "editable": false,
    "lc_cell_meme": {
     "current": "6ee60b40-4ad4-11e9-9859-0242ac110002",
     "next": "6ee60b90-4ad4-11e9-9859-0242ac110002",
     "previous": "6ee60afa-4ad4-11e9-9859-0242ac110002"
    },
    "run_through_control": {
     "frozen": true
    }
   },
   "outputs": [
    {
     "name": "stdout",
     "output_type": "stream",
     "text": [
      "\u001b[0;33m172.30.2.20 | SUCCESS => {\u001b[0m\r\n",
      "\u001b[0;33m    \"changed\": true, \u001b[0m\r\n",
      "\u001b[0;33m    \"cmd\": \"/usr/bin/rsync --delay-updates -F --compress --archive --rsh=/usr/bin/ssh -S none -i /home/bit_kun/.ssh/id_rsa -o StrictHostKeyChecking=no -o UserKnownHostsFile=/dev/null --out-format=<<CHANGED>>%i %n%L /notebooks/notebook/doc/ root@172.30.2.20:/opt/doc/\", \u001b[0m\r\n",
      "\u001b[0;33m    \"msg\": \".d..t.og... ./\\n<f..t.og... index.html\\n<f+++++++++ objects.inv\\ncd+++++++++ _images/\\n<f+++++++++ _images/df_flavor.png\\n<f+++++++++ _images/df_nodes.png\\n<f+++++++++ _images/df_units.png\\n<f+++++++++ _images/node_state.png\\n<f+++++++++ _images/vc_state.png\\n<f+++++++++ _images/vcp_structure.png\\ncd+++++++++ _static/\\n<f+++++++++ _static/ajax-loader.gif\\n<f+++++++++ _static/basic.css\\n<f+++++++++ _static/comment-bright.png\\n<f+++++++++ _static/comment-close.png\\n<f+++++++++ _static/comment.png\\n<f+++++++++ _static/doctools.js\\n<f+++++++++ _static/down-pressed.png\\n<f+++++++++ _static/down.png\\n<f+++++++++ _static/file.png\\n<f+++++++++ _static/jquery.js\\n<f+++++++++ _static/minus.png\\n<f+++++++++ _static/plus.png\\n<f+++++++++ _static/print.css\\n<f+++++++++ _static/pygments.css\\n<f+++++++++ _static/searchtools.js\\n<f+++++++++ _static/translations.js\\n<f+++++++++ _static/underscore.js\\n<f+++++++++ _static/up-pressed.png\\n<f+++++++++ _static/up.png\\n<f+++++++++ _static/websupport.js\\ncd+++++++++ _static/css/\\n<f+++++++++ _static/css/badge_only.css\\n<f+++++++++ _static/css/theme.css\\ncd+++++++++ _static/fonts/\\n<f+++++++++ _static/fonts/Inconsolata-Bold.ttf\\n<f+++++++++ _static/fonts/Inconsolata-Regular.ttf\\n<f+++++++++ _static/fonts/Lato-Bold.ttf\\n<f+++++++++ _static/fonts/Lato-Regular.ttf\\n<f+++++++++ _static/fonts/RobotoSlab-Bold.ttf\\n<f+++++++++ _static/fonts/RobotoSlab-Regular.ttf\\n<f+++++++++ _static/fonts/fontawesome-webfont.eot\\n<f+++++++++ _static/fonts/fontawesome-webfont.svg\\n<f+++++++++ _static/fonts/fontawesome-webfont.ttf\\n<f+++++++++ _static/fonts/fontawesome-webfont.woff\\n<f+++++++++ _static/fonts/fontawesome-webfont.woff2\\ncd+++++++++ _static/fonts/Lato/\\n<f+++++++++ _static/fonts/Lato/lato-bold.eot\\n<f+++++++++ _static/fonts/Lato/lato-bold.ttf\\n<f+++++++++ _static/fonts/Lato/lato-bold.woff\\n<f+++++++++ _static/fonts/Lato/lato-bold.woff2\\n<f+++++++++ _static/fonts/Lato/lato-bolditalic.eot\\n<f+++++++++ _static/fonts/Lato/lato-bolditalic.ttf\\n<f+++++++++ _static/fonts/Lato/lato-bolditalic.woff\\n<f+++++++++ _static/fonts/Lato/lato-bolditalic.woff2\\n<f+++++++++ _static/fonts/Lato/lato-italic.eot\\n<f+++++++++ _static/fonts/Lato/lato-italic.ttf\\n<f+++++++++ _static/fonts/Lato/lato-italic.woff\\n<f+++++++++ _static/fonts/Lato/lato-italic.woff2\\n<f+++++++++ _static/fonts/Lato/lato-regular.eot\\n<f+++++++++ _static/fonts/Lato/lato-regular.ttf\\n<f+++++++++ _static/fonts/Lato/lato-regular.woff\\n<f+++++++++ _static/fonts/Lato/lato-regular.woff2\\ncd+++++++++ _static/fonts/RobotoSlab/\\n<f+++++++++ _static/fonts/RobotoSlab/roboto-slab-v7-bold.eot\\n<f+++++++++ _static/fonts/RobotoSlab/roboto-slab-v7-bold.ttf\\n<f+++++++++ _static/fonts/RobotoSlab/roboto-slab-v7-bold.woff\\n<f+++++++++ _static/fonts/RobotoSlab/roboto-slab-v7-bold.woff2\\n<f+++++++++ _static/fonts/RobotoSlab/roboto-slab-v7-regular.eot\\n<f+++++++++ _static/fonts/RobotoSlab/roboto-slab-v7-regular.ttf\\n<f+++++++++ _static/fonts/RobotoSlab/roboto-slab-v7-regular.woff\\n<f+++++++++ _static/fonts/RobotoSlab/roboto-slab-v7-regular.woff2\\ncd+++++++++ _static/js/\\n<f+++++++++ _static/js/modernizr.min.js\\n<f+++++++++ _static/js/theme.js\\ncd+++++++++ _static/media/\\n<f+++++++++ _static/media/node_state.png\\n<f+++++++++ _static/media/vc_state.png\\n<f+++++++++ _static/media/vcp_structure.png\\n\", \u001b[0m\r\n",
      "\u001b[0;33m    \"rc\": 0, \u001b[0m\r\n",
      "\u001b[0;33m    \"stdout_lines\": [\u001b[0m\r\n",
      "\u001b[0;33m        \".d..t.og... ./\", \u001b[0m\r\n",
      "\u001b[0;33m        \"<f..t.og... index.html\", \u001b[0m\r\n",
      "\u001b[0;33m        \"<f+++++++++ objects.inv\", \u001b[0m\r\n",
      "\u001b[0;33m        \"cd+++++++++ _images/\", \u001b[0m\r\n",
      "\u001b[0;33m        \"<f+++++++++ _images/df_flavor.png\", \u001b[0m\r\n",
      "\u001b[0;33m        \"<f+++++++++ _images/df_nodes.png\", \u001b[0m\r\n",
      "\u001b[0;33m        \"<f+++++++++ _images/df_units.png\", \u001b[0m\r\n",
      "\u001b[0;33m        \"<f+++++++++ _images/node_state.png\", \u001b[0m\r\n",
      "\u001b[0;33m        \"<f+++++++++ _images/vc_state.png\", \u001b[0m\r\n",
      "\u001b[0;33m        \"<f+++++++++ _images/vcp_structure.png\", \u001b[0m\r\n",
      "\u001b[0;33m        \"cd+++++++++ _static/\", \u001b[0m\r\n",
      "\u001b[0;33m        \"<f+++++++++ _static/ajax-loader.gif\", \u001b[0m\r\n",
      "\u001b[0;33m        \"<f+++++++++ _static/basic.css\", \u001b[0m\r\n",
      "\u001b[0;33m        \"<f+++++++++ _static/comment-bright.png\", \u001b[0m\r\n",
      "\u001b[0;33m        \"<f+++++++++ _static/comment-close.png\", \u001b[0m\r\n",
      "\u001b[0;33m        \"<f+++++++++ _static/comment.png\", \u001b[0m\r\n",
      "\u001b[0;33m        \"<f+++++++++ _static/doctools.js\", \u001b[0m\r\n",
      "\u001b[0;33m        \"<f+++++++++ _static/down-pressed.png\", \u001b[0m\r\n",
      "\u001b[0;33m        \"<f+++++++++ _static/down.png\", \u001b[0m\r\n",
      "\u001b[0;33m        \"<f+++++++++ _static/file.png\", \u001b[0m\r\n",
      "\u001b[0;33m        \"<f+++++++++ _static/jquery.js\", \u001b[0m\r\n",
      "\u001b[0;33m        \"<f+++++++++ _static/minus.png\", \u001b[0m\r\n",
      "\u001b[0;33m        \"<f+++++++++ _static/plus.png\", \u001b[0m\r\n",
      "\u001b[0;33m        \"<f+++++++++ _static/print.css\", \u001b[0m\r\n",
      "\u001b[0;33m        \"<f+++++++++ _static/pygments.css\", \u001b[0m\r\n",
      "\u001b[0;33m        \"<f+++++++++ _static/searchtools.js\", \u001b[0m\r\n",
      "\u001b[0;33m        \"<f+++++++++ _static/translations.js\", \u001b[0m\r\n",
      "\u001b[0;33m        \"<f+++++++++ _static/underscore.js\", \u001b[0m\r\n",
      "\u001b[0;33m        \"<f+++++++++ _static/up-pressed.png\", \u001b[0m\r\n",
      "\u001b[0;33m        \"<f+++++++++ _static/up.png\", \u001b[0m\r\n",
      "\u001b[0;33m        \"<f+++++++++ _static/websupport.js\", \u001b[0m\r\n",
      "\u001b[0;33m        \"cd+++++++++ _static/css/\", \u001b[0m\r\n",
      "\u001b[0;33m        \"<f+++++++++ _static/css/badge_only.css\", \u001b[0m\r\n",
      "\u001b[0;33m        \"<f+++++++++ _static/css/theme.css\", \u001b[0m\r\n",
      "\u001b[0;33m        \"cd+++++++++ _static/fonts/\", \u001b[0m\r\n",
      "\u001b[0;33m        \"<f+++++++++ _static/fonts/Inconsolata-Bold.ttf\", \u001b[0m\r\n",
      "\u001b[0;33m        \"<f+++++++++ _static/fonts/Inconsolata-Regular.ttf\", \u001b[0m\r\n",
      "\u001b[0;33m        \"<f+++++++++ _static/fonts/Lato-Bold.ttf\", \u001b[0m\r\n",
      "\u001b[0;33m        \"<f+++++++++ _static/fonts/Lato-Regular.ttf\", \u001b[0m\r\n",
      "\u001b[0;33m        \"<f+++++++++ _static/fonts/RobotoSlab-Bold.ttf\", \u001b[0m\r\n",
      "\u001b[0;33m        \"<f+++++++++ _static/fonts/RobotoSlab-Regular.ttf\", \u001b[0m\r\n",
      "\u001b[0;33m        \"<f+++++++++ _static/fonts/fontawesome-webfont.eot\", \u001b[0m\r\n",
      "\u001b[0;33m        \"<f+++++++++ _static/fonts/fontawesome-webfont.svg\", \u001b[0m\r\n",
      "\u001b[0;33m        \"<f+++++++++ _static/fonts/fontawesome-webfont.ttf\", \u001b[0m\r\n",
      "\u001b[0;33m        \"<f+++++++++ _static/fonts/fontawesome-webfont.woff\", \u001b[0m\r\n",
      "\u001b[0;33m        \"<f+++++++++ _static/fonts/fontawesome-webfont.woff2\", \u001b[0m\r\n",
      "\u001b[0;33m        \"cd+++++++++ _static/fonts/Lato/\", \u001b[0m\r\n",
      "\u001b[0;33m        \"<f+++++++++ _static/fonts/Lato/lato-bold.eot\", \u001b[0m\r\n",
      "\u001b[0;33m        \"<f+++++++++ _static/fonts/Lato/lato-bold.ttf\", \u001b[0m\r\n",
      "\u001b[0;33m        \"<f+++++++++ _static/fonts/Lato/lato-bold.woff\", \u001b[0m\r\n",
      "\u001b[0;33m        \"<f+++++++++ _static/fonts/Lato/lato-bold.woff2\", \u001b[0m\r\n",
      "\u001b[0;33m        \"<f+++++++++ _static/fonts/Lato/lato-bolditalic.eot\", \u001b[0m\r\n",
      "\u001b[0;33m        \"<f+++++++++ _static/fonts/Lato/lato-bolditalic.ttf\", \u001b[0m\r\n",
      "\u001b[0;33m        \"<f+++++++++ _static/fonts/Lato/lato-bolditalic.woff\", \u001b[0m\r\n",
      "\u001b[0;33m        \"<f+++++++++ _static/fonts/Lato/lato-bolditalic.woff2\", \u001b[0m\r\n",
      "\u001b[0;33m        \"<f+++++++++ _static/fonts/Lato/lato-italic.eot\", \u001b[0m\r\n",
      "\u001b[0;33m        \"<f+++++++++ _static/fonts/Lato/lato-italic.ttf\", \u001b[0m\r\n",
      "\u001b[0;33m        \"<f+++++++++ _static/fonts/Lato/lato-italic.woff\", \u001b[0m\r\n",
      "\u001b[0;33m        \"<f+++++++++ _static/fonts/Lato/lato-italic.woff2\", \u001b[0m\r\n",
      "\u001b[0;33m        \"<f+++++++++ _static/fonts/Lato/lato-regular.eot\", \u001b[0m\r\n",
      "\u001b[0;33m        \"<f+++++++++ _static/fonts/Lato/lato-regular.ttf\", \u001b[0m\r\n",
      "\u001b[0;33m        \"<f+++++++++ _static/fonts/Lato/lato-regular.woff\", \u001b[0m\r\n",
      "\u001b[0;33m        \"<f+++++++++ _static/fonts/Lato/lato-regular.woff2\", \u001b[0m\r\n",
      "\u001b[0;33m        \"cd+++++++++ _static/fonts/RobotoSlab/\", \u001b[0m\r\n",
      "\u001b[0;33m        \"<f+++++++++ _static/fonts/RobotoSlab/roboto-slab-v7-bold.eot\", \u001b[0m\r\n",
      "\u001b[0;33m        \"<f+++++++++ _static/fonts/RobotoSlab/roboto-slab-v7-bold.ttf\", \u001b[0m\r\n",
      "\u001b[0;33m        \"<f+++++++++ _static/fonts/RobotoSlab/roboto-slab-v7-bold.woff\", \u001b[0m\r\n",
      "\u001b[0;33m        \"<f+++++++++ _static/fonts/RobotoSlab/roboto-slab-v7-bold.woff2\", \u001b[0m\r\n",
      "\u001b[0;33m        \"<f+++++++++ _static/fonts/RobotoSlab/roboto-slab-v7-regular.eot\", \u001b[0m\r\n",
      "\u001b[0;33m        \"<f+++++++++ _static/fonts/RobotoSlab/roboto-slab-v7-regular.ttf\", \u001b[0m\r\n",
      "\u001b[0;33m        \"<f+++++++++ _static/fonts/RobotoSlab/roboto-slab-v7-regular.woff\", \u001b[0m\r\n",
      "\u001b[0;33m        \"<f+++++++++ _static/fonts/RobotoSlab/roboto-slab-v7-regular.woff2\", \u001b[0m\r\n",
      "\u001b[0;33m        \"cd+++++++++ _static/js/\", \u001b[0m\r\n",
      "\u001b[0;33m        \"<f+++++++++ _static/js/modernizr.min.js\", \u001b[0m\r\n",
      "\u001b[0;33m        \"<f+++++++++ _static/js/theme.js\", \u001b[0m\r\n",
      "\u001b[0;33m        \"cd+++++++++ _static/media/\", \u001b[0m\r\n",
      "\u001b[0;33m        \"<f+++++++++ _static/media/node_state.png\", \u001b[0m\r\n",
      "\u001b[0;33m        \"<f+++++++++ _static/media/vc_state.png\", \u001b[0m\r\n",
      "\u001b[0;33m        \"<f+++++++++ _static/media/vcp_structure.png\"\u001b[0m\r\n",
      "\u001b[0;33m    ]\u001b[0m\r\n",
      "\u001b[0;33m}\u001b[0m\r\n"
     ]
    }
   ],
   "source": [
    "!ansible server -m synchronize -a 'src=/notebooks/notebook/doc/ dest=/opt/doc/'"
   ]
  },
  {
   "cell_type": "markdown",
   "metadata": {
    "lc_cell_meme": {
     "current": "6ee60b90-4ad4-11e9-9859-0242ac110002",
     "next": "6ee60bd6-4ad4-11e9-9859-0242ac110002",
     "previous": "6ee60b40-4ad4-11e9-9859-0242ac110002"
    }
   },
   "source": [
    "VCノードにファイルが配置されたことを確認します。"
   ]
  },
  {
   "cell_type": "code",
   "execution_count": 46,
   "metadata": {
    "deletable": false,
    "editable": false,
    "lc_cell_meme": {
     "current": "6ee60bd6-4ad4-11e9-9859-0242ac110002",
     "next": "6ee60c1c-4ad4-11e9-9859-0242ac110002",
     "previous": "6ee60b90-4ad4-11e9-9859-0242ac110002"
    },
    "run_through_control": {
     "frozen": true
    },
    "scrolled": true
   },
   "outputs": [
    {
     "name": "stdout",
     "output_type": "stream",
     "text": [
      "\u001b[0;32m172.30.2.20 | SUCCESS | rc=0 >>\u001b[0m\r\n",
      "\u001b[0;32m/opt/doc\u001b[0m\r\n",
      "\u001b[0;32m├── _images\u001b[0m\r\n",
      "\u001b[0;32m│   ├── df_flavor.png\u001b[0m\r\n",
      "\u001b[0;32m│   ├── df_nodes.png\u001b[0m\r\n",
      "\u001b[0;32m│   ├── df_units.png\u001b[0m\r\n",
      "\u001b[0;32m│   ├── node_state.png\u001b[0m\r\n",
      "\u001b[0;32m│   ├── vc_state.png\u001b[0m\r\n",
      "\u001b[0;32m│   └── vcp_structure.png\u001b[0m\r\n",
      "\u001b[0;32m├── _static\u001b[0m\r\n",
      "\u001b[0;32m│   ├── ajax-loader.gif\u001b[0m\r\n",
      "\u001b[0;32m│   ├── basic.css\u001b[0m\r\n",
      "\u001b[0;32m│   ├── comment-bright.png\u001b[0m\r\n",
      "\u001b[0;32m│   ├── comment-close.png\u001b[0m\r\n",
      "\u001b[0;32m│   ├── comment.png\u001b[0m\r\n",
      "\u001b[0;32m│   ├── css\u001b[0m\r\n",
      "\u001b[0;32m│   │   ├── badge_only.css\u001b[0m\r\n",
      "\u001b[0;32m│   │   └── theme.css\u001b[0m\r\n",
      "\u001b[0;32m│   ├── doctools.js\u001b[0m\r\n",
      "\u001b[0;32m│   ├── down-pressed.png\u001b[0m\r\n",
      "\u001b[0;32m│   ├── down.png\u001b[0m\r\n",
      "\u001b[0;32m│   ├── file.png\u001b[0m\r\n",
      "\u001b[0;32m│   ├── fonts\u001b[0m\r\n",
      "\u001b[0;32m│   │   ├── Inconsolata-Bold.ttf\u001b[0m\r\n",
      "\u001b[0;32m│   │   ├── Inconsolata-Regular.ttf\u001b[0m\r\n",
      "\u001b[0;32m│   │   ├── Lato\u001b[0m\r\n",
      "\u001b[0;32m│   │   │   ├── lato-bold.eot\u001b[0m\r\n",
      "\u001b[0;32m│   │   │   ├── lato-bold.ttf\u001b[0m\r\n",
      "\u001b[0;32m│   │   │   ├── lato-bold.woff\u001b[0m\r\n",
      "\u001b[0;32m│   │   │   ├── lato-bold.woff2\u001b[0m\r\n",
      "\u001b[0;32m│   │   │   ├── lato-bolditalic.eot\u001b[0m\r\n",
      "\u001b[0;32m│   │   │   ├── lato-bolditalic.ttf\u001b[0m\r\n",
      "\u001b[0;32m│   │   │   ├── lato-bolditalic.woff\u001b[0m\r\n",
      "\u001b[0;32m│   │   │   ├── lato-bolditalic.woff2\u001b[0m\r\n",
      "\u001b[0;32m│   │   │   ├── lato-italic.eot\u001b[0m\r\n",
      "\u001b[0;32m│   │   │   ├── lato-italic.ttf\u001b[0m\r\n",
      "\u001b[0;32m│   │   │   ├── lato-italic.woff\u001b[0m\r\n",
      "\u001b[0;32m│   │   │   ├── lato-italic.woff2\u001b[0m\r\n",
      "\u001b[0;32m│   │   │   ├── lato-regular.eot\u001b[0m\r\n",
      "\u001b[0;32m│   │   │   ├── lato-regular.ttf\u001b[0m\r\n",
      "\u001b[0;32m│   │   │   ├── lato-regular.woff\u001b[0m\r\n",
      "\u001b[0;32m│   │   │   └── lato-regular.woff2\u001b[0m\r\n",
      "\u001b[0;32m│   │   ├── Lato-Bold.ttf\u001b[0m\r\n",
      "\u001b[0;32m│   │   ├── Lato-Regular.ttf\u001b[0m\r\n",
      "\u001b[0;32m│   │   ├── RobotoSlab\u001b[0m\r\n",
      "\u001b[0;32m│   │   │   ├── roboto-slab-v7-bold.eot\u001b[0m\r\n",
      "\u001b[0;32m│   │   │   ├── roboto-slab-v7-bold.ttf\u001b[0m\r\n",
      "\u001b[0;32m│   │   │   ├── roboto-slab-v7-bold.woff\u001b[0m\r\n",
      "\u001b[0;32m│   │   │   ├── roboto-slab-v7-bold.woff2\u001b[0m\r\n",
      "\u001b[0;32m│   │   │   ├── roboto-slab-v7-regular.eot\u001b[0m\r\n",
      "\u001b[0;32m│   │   │   ├── roboto-slab-v7-regular.ttf\u001b[0m\r\n",
      "\u001b[0;32m│   │   │   ├── roboto-slab-v7-regular.woff\u001b[0m\r\n",
      "\u001b[0;32m│   │   │   └── roboto-slab-v7-regular.woff2\u001b[0m\r\n",
      "\u001b[0;32m│   │   ├── RobotoSlab-Bold.ttf\u001b[0m\r\n",
      "\u001b[0;32m│   │   ├── RobotoSlab-Regular.ttf\u001b[0m\r\n",
      "\u001b[0;32m│   │   ├── fontawesome-webfont.eot\u001b[0m\r\n",
      "\u001b[0;32m│   │   ├── fontawesome-webfont.svg\u001b[0m\r\n",
      "\u001b[0;32m│   │   ├── fontawesome-webfont.ttf\u001b[0m\r\n",
      "\u001b[0;32m│   │   ├── fontawesome-webfont.woff\u001b[0m\r\n",
      "\u001b[0;32m│   │   └── fontawesome-webfont.woff2\u001b[0m\r\n",
      "\u001b[0;32m│   ├── jquery.js\u001b[0m\r\n",
      "\u001b[0;32m│   ├── js\u001b[0m\r\n",
      "\u001b[0;32m│   │   ├── modernizr.min.js\u001b[0m\r\n",
      "\u001b[0;32m│   │   └── theme.js\u001b[0m\r\n",
      "\u001b[0;32m│   ├── media\u001b[0m\r\n",
      "\u001b[0;32m│   │   ├── node_state.png\u001b[0m\r\n",
      "\u001b[0;32m│   │   ├── vc_state.png\u001b[0m\r\n",
      "\u001b[0;32m│   │   └── vcp_structure.png\u001b[0m\r\n",
      "\u001b[0;32m│   ├── minus.png\u001b[0m\r\n",
      "\u001b[0;32m│   ├── plus.png\u001b[0m\r\n",
      "\u001b[0;32m│   ├── print.css\u001b[0m\r\n",
      "\u001b[0;32m│   ├── pygments.css\u001b[0m\r\n",
      "\u001b[0;32m│   ├── searchtools.js\u001b[0m\r\n",
      "\u001b[0;32m│   ├── translations.js\u001b[0m\r\n",
      "\u001b[0;32m│   ├── underscore.js\u001b[0m\r\n",
      "\u001b[0;32m│   ├── up-pressed.png\u001b[0m\r\n",
      "\u001b[0;32m│   ├── up.png\u001b[0m\r\n",
      "\u001b[0;32m│   └── websupport.js\u001b[0m\r\n",
      "\u001b[0;32m├── index.html\u001b[0m\r\n",
      "\u001b[0;32m└── objects.inv\u001b[0m\r\n",
      "\u001b[0;32m\u001b[0m\r\n",
      "\u001b[0;32m8 directories, 70 files\u001b[0m\r\n",
      "\u001b[0;32m\u001b[0m\r\n"
     ]
    }
   ],
   "source": [
    "!ansible server -a 'tree /opt/doc'"
   ]
  },
  {
   "cell_type": "markdown",
   "metadata": {
    "lc_cell_meme": {
     "current": "6ee60c1c-4ad4-11e9-9859-0242ac110002",
     "next": "6ee60c76-4ad4-11e9-9859-0242ac110002",
     "previous": "6ee60bd6-4ad4-11e9-9859-0242ac110002"
    }
   },
   "source": [
    "# 後始末"
   ]
  },
  {
   "cell_type": "markdown",
   "metadata": {
    "lc_cell_meme": {
     "current": "6ee60c76-4ad4-11e9-9859-0242ac110002",
     "next": "6ee60cc6-4ad4-11e9-9859-0242ac110002",
     "previous": "6ee60c1c-4ad4-11e9-9859-0242ac110002"
    }
   },
   "source": [
    "不要になった UnitGroup を削除します。\n",
    "\n",
    "> 処理が完了するまで2分半～3分程度かかります。"
   ]
  },
  {
   "cell_type": "code",
   "execution_count": 49,
   "metadata": {
    "deletable": false,
    "editable": false,
    "lc_cell_meme": {
     "current": "6ee60cc6-4ad4-11e9-9859-0242ac110002",
     "next": "6ee60d0c-4ad4-11e9-9859-0242ac110002",
     "previous": "6ee60c76-4ad4-11e9-9859-0242ac110002"
    },
    "run_through_control": {
     "frozen": true
    },
    "scrolled": true
   },
   "outputs": [
    {
     "name": "stdout",
     "output_type": "stream",
     "text": [
      "2019-03-20 14:59:12,456 - INFO - server is DELETING\n",
      "client is DELETING ... 0 sec\n",
      "2019-03-20 14:59:17,690 - INFO - server is DELETING\n",
      "client is DELETING ... 5 sec\n",
      "2019-03-20 14:59:22,926 - INFO - server is DELETING\n",
      "client is DELETING ... 10 sec\n",
      "2019-03-20 14:59:28,176 - INFO - server is DELETING\n",
      "client is DELETING ... 15 sec\n",
      "2019-03-20 14:59:33,416 - INFO - server is DELETING\n",
      "client is DELETING ... 20 sec\n",
      "2019-03-20 14:59:38,654 - INFO - server is DELETING\n",
      "client is DELETING ... 25 sec\n",
      "2019-03-20 14:59:43,887 - INFO - server is DELETING\n",
      "client is DELETING ... 30 sec\n",
      "2019-03-20 14:59:49,128 - INFO - server is DELETING\n",
      "client is DELETING ... 35 sec\n",
      "2019-03-20 14:59:54,370 - INFO - server is DELETING\n",
      "client is DELETING ... 40 sec\n",
      "2019-03-20 14:59:59,615 - INFO - server is DELETING\n",
      "client is DELETING ... 45 sec\n",
      "2019-03-20 15:00:04,814 - INFO - client is DELETING ... 50 sec\n",
      "2019-03-20 15:00:10,027 - INFO - client is DELETING ... 55 sec\n",
      "2019-03-20 15:00:15,227 - INFO - client is DELETING ... 60 sec\n",
      "2019-03-20 15:00:20,435 - INFO - client is DELETING ... 65 sec\n",
      "2019-03-20 15:00:25,636 - INFO - client is DELETING ... 70 sec\n",
      "2019-03-20 15:00:30,836 - INFO - client is DELETING ... 75 sec\n",
      "2019-03-20 15:00:36,039 - INFO - client is DELETING ... 80 sec\n",
      "2019-03-20 15:00:41,240 - INFO - client is DELETING ... 85 sec\n",
      "2019-03-20 15:00:46,442 - INFO - client is DELETING ... 90 sec\n",
      "2019-03-20 15:00:51,642 - INFO - client is DELETING ... 95 sec\n",
      "2019-03-20 15:00:56,675 - INFO - cleanup completed. vc  is cleanup(no unit)\n"
     ]
    }
   ],
   "source": [
    "unit_group.cleanup()"
   ]
  },
  {
   "cell_type": "markdown",
   "metadata": {
    "lc_cell_meme": {
     "current": "6ee60d0c-4ad4-11e9-9859-0242ac110002",
     "next": "6ee60d5c-4ad4-11e9-9859-0242ac110002",
     "previous": "6ee60cc6-4ad4-11e9-9859-0242ac110002"
    }
   },
   "source": [
    "不要になったインベントリファイルを削除します。"
   ]
  },
  {
   "cell_type": "code",
   "execution_count": 50,
   "metadata": {
    "deletable": false,
    "editable": false,
    "lc_cell_meme": {
     "current": "6ee60d5c-4ad4-11e9-9859-0242ac110002",
     "next": null,
     "previous": "6ee60d0c-4ad4-11e9-9859-0242ac110002"
    },
    "run_through_control": {
     "frozen": true
    }
   },
   "outputs": [],
   "source": [
    "!rm hosts"
   ]
  }
 ],
 "metadata": {
  "kernelspec": {
   "display_name": "Python 3",
   "language": "python",
   "name": "python3"
  },
  "language_info": {
   "codemirror_mode": {
    "name": "ipython",
    "version": 3
   },
   "file_extension": ".py",
   "mimetype": "text/x-python",
   "name": "python",
   "nbconvert_exporter": "python",
   "pygments_lexer": "ipython3",
   "version": "3.6.6"
  },
  "lc_notebook_meme": {
   "current": "6ee5e34a-4ad4-11e9-9859-0242ac110002",
   "lc_server_signature": {
    "current": {
     "notebook_dir": "/notebooks/notebook",
     "notebook_path": "/handson/vcp-tutorial",
     "server_url": "https://ocs1046.vcp-handson.org:8443/handson/",
     "signature_id": "d0c53b60-f9f3-11e8-ad2a-0242ac110002"
    },
    "history": []
   }
  },
  "toc": {
   "base_numbering": 1,
   "nav_menu": {},
   "number_sections": true,
   "sideBar": true,
   "skip_h1_title": false,
   "title_cell": "Table of Contents",
   "title_sidebar": "Contents",
   "toc_cell": false,
   "toc_position": {
    "height": "826px",
    "left": "0px",
    "right": "1239px",
    "top": "111px",
    "width": "212px"
   },
   "toc_section_display": "block",
   "toc_window_display": true
  }
 },
 "nbformat": 4,
 "nbformat_minor": 2
}
