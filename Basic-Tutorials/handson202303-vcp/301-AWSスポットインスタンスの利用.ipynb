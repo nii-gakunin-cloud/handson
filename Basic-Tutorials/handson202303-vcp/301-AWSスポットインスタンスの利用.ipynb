{
 "cells": [
  {
   "cell_type": "markdown",
   "metadata": {
    "lc_cell_meme": {
     "current": "436f1206-aea5-11e9-ac14-02420a0100a1-3-f5b6-0e14-50f9",
     "next": "436f140e-aea5-11e9-ac14-02420a0100a1-3-6fbd-d40c-f08b",
     "previous": null
    }
   },
   "source": [
    "Amazon EC2 スポットインスタンスを利用してVCノードを起動します。\n",
    "\n",
    "**スポットインスタンスとは？**\n",
    "- 通常のオンデマンドインスタンスと比較して低コスト\n",
    "  * AWSの余剰リソースが使われ、最大90%割引\n",
    "- 変動する価格に対して入札方式によりインスタンス利用料金が決まる\n",
    "  * スポット価格 <= 入札価格 ... 指定したインスタンスが起動\n",
    "  * 入札価格 < スポット価格  ... インスタンスが終了される\n",
    "\n",
    "**本Notebookは、[101-VCノードの起動、削除](./101-VCノードの起動、削除.ipynb) にスポットインスタンス向けの設定内容を追記したものです。**\n",
    "- スポットインスタンス向けの設定箇所は、セクションのタイトル末尾に★マークを付けています。\n",
    "  * 2.5.1 flavor★\n",
    "  * 2.5.2 specオブジェクトを作成する★\n",
    "  * 2.5.3 AWSスポットインスタンス専用のspec設定★"
   ]
  },
  {
   "cell_type": "markdown",
   "metadata": {
    "lc_cell_meme": {
     "current": "436f140e-aea5-11e9-ac14-02420a0100a1-3-6fbd-d40c-f08b",
     "next": "436f1594-aea5-11e9-ac14-02420a0100a1-3-d403-5f2e-1063",
     "previous": "436f1206-aea5-11e9-ac14-02420a0100a1-3-f5b6-0e14-50f9"
    }
   },
   "source": [
    "# VCノードの起動、削除\n",
    "\n",
    "このNotebookではVCP SDKを利用してVCノードを起動、削除する手順を記しています。"
   ]
  },
  {
   "cell_type": "markdown",
   "metadata": {
    "lc_cell_meme": {
     "current": "436f1594-aea5-11e9-ac14-02420a0100a1-3-d403-5f2e-1063",
     "next": "436f16c0-aea5-11e9-ac14-02420a0100a1-3-7deb-aa64-673f",
     "previous": "436f140e-aea5-11e9-ac14-02420a0100a1-3-6fbd-d40c-f08b"
    }
   },
   "source": [
    "## 概要"
   ]
  },
  {
   "cell_type": "markdown",
   "metadata": {
    "lc_cell_meme": {
     "current": "436f16c0-aea5-11e9-ac14-02420a0100a1-3-7deb-aa64-673f",
     "next": "436f17a6-aea5-11e9-ac14-02420a0100a1-3-0e47-c474-a54b",
     "previous": "436f1594-aea5-11e9-ac14-02420a0100a1-3-d403-5f2e-1063"
    }
   },
   "source": [
    "![構成](images/101-001.png)"
   ]
  },
  {
   "cell_type": "markdown",
   "metadata": {
    "heading_collapsed": true,
    "lc_cell_meme": {
     "current": "436f17a6-aea5-11e9-ac14-02420a0100a1-3-0e47-c474-a54b",
     "next": "436f185a-aea5-11e9-ac14-02420a0100a1-3-d1cb-4f5c-86d6",
     "previous": "436f16c0-aea5-11e9-ac14-02420a0100a1-3-7deb-aa64-673f"
    }
   },
   "source": [
    "### 用語説明"
   ]
  },
  {
   "cell_type": "markdown",
   "metadata": {
    "hidden": true,
    "lc_cell_meme": {
     "current": "436f185a-aea5-11e9-ac14-02420a0100a1-3-d1cb-4f5c-86d6",
     "next": "436f190e-aea5-11e9-ac14-02420a0100a1-3-7790-948c-3597",
     "previous": "436f17a6-aea5-11e9-ac14-02420a0100a1-3-0e47-c474-a54b"
    }
   },
   "source": [
    "上の図、またはこれ以降に示す図に記されている構成要素についての簡単な説明を以下に記します。\n",
    "\n",
    "* [VPC](https://aws.amazon.com/jp/vpc/)\n",
    "  - Amazon が提供している AWS 内の仮想プライベートネットワーク環境\n",
    "* [Amazon EC2](https://aws.amazon.com/jp/ec2/)\n",
    "  - Amazon が提供している仮想コンピューティング環境\n",
    "* [Azure Virtual Network](https://azure.microsoft.com/ja-jp/services/virtual-network/)\n",
    "  - Microsoft が提供しているクラウド内の仮想プライベートネットワーク環境\n",
    "* [Azure Virtual Machine](https://azure.microsoft.com/ja-jp/services/virtual-machines/)\n",
    "  - Microsoft が提供している仮想コンピューティング環境\n",
    "* VC Controller\n",
    "  - VCPがユーザに対して提供しているサービス群\n",
    "* VC Controller Core\n",
    "  - ユーザからのAPI呼び出しを受けとりUnitGroupの作成、削除などを行う\n",
    "* Grafana\n",
    "  - 可視化ツール、ダッシュボードツール\n",
    "  - VCP では VCノード のモニタリング状況を表示するのに利用している\n",
    "* VCP SDK\n",
    "  - VCPの機能を呼び出して VM/BM の作成、削除などを行うPython3のライブラリ\n",
    "* VCノード\n",
    "  - Amazon EC2, Azure Virtual Machine などの計算資源を抽象化したVCPのノード\n",
    "* Unit\n",
    "  - 同質（同じ計算資源(cpu, memory, ...)、同じクラウド、同じ用途、...）であるVCノードをまとめて扱うためのもの\n",
    "* UnitGroup\n",
    "  - 複数のUnitをまとめて扱うためのものです"
   ]
  },
  {
   "cell_type": "markdown",
   "metadata": {
    "lc_cell_meme": {
     "current": "436f190e-aea5-11e9-ac14-02420a0100a1-3-7790-948c-3597",
     "next": "436f1a26-aea5-11e9-ac14-02420a0100a1-3-5043-a5f2-ca10",
     "previous": "436f185a-aea5-11e9-ac14-02420a0100a1-3-d1cb-4f5c-86d6"
    }
   },
   "source": [
    "## 操作手順"
   ]
  },
  {
   "cell_type": "markdown",
   "metadata": {
    "lc_cell_meme": {
     "current": "436f1a26-aea5-11e9-ac14-02420a0100a1-3-5043-a5f2-ca10",
     "next": "436f1b48-aea5-11e9-ac14-02420a0100a1-3-1e17-2fd1-56d1",
     "previous": "436f190e-aea5-11e9-ac14-02420a0100a1-3-7790-948c-3597"
    }
   },
   "source": [
    "大まかな操作手順は以下のようになります。\n",
    "\n",
    "1. VCP SDKを用いてVCノード(Amazon EC2 インスタンス)を起動する\n",
    "1. 起動したVCノードに ssh でログインして操作する\n",
    "1. GrafanaでVCノードの利用状況を確認する\n",
    "1. Unit内のVCノードをスケールアウト、スケールインする\n",
    "1. 別のパブリッククラウド(Microsoft Azure)のVCノードを起動する\n",
    "1. 起動したVCノードをすべて削除する"
   ]
  },
  {
   "cell_type": "markdown",
   "metadata": {
    "lc_cell_meme": {
     "current": "436f1b48-aea5-11e9-ac14-02420a0100a1-3-1e17-2fd1-56d1",
     "next": "436f1c7e-aea5-11e9-ac14-02420a0100a1-3-bd71-fc0d-0018",
     "previous": "436f1a26-aea5-11e9-ac14-02420a0100a1-3-5043-a5f2-ca10"
    }
   },
   "source": [
    "# VCノード(Amazon EC2インスタンス)の起動\n",
    "\n",
    "VCP SDKを用いてVCノード(Amazon EC2インスタンス)を起動します。また、起動したVCノードに対してsshでログインして操作を行います。"
   ]
  },
  {
   "cell_type": "markdown",
   "metadata": {
    "lc_cell_meme": {
     "current": "436f1c7e-aea5-11e9-ac14-02420a0100a1-3-bd71-fc0d-0018",
     "next": "436f1d5a-aea5-11e9-ac14-02420a0100a1-3-61ba-cf4c-c4d6",
     "previous": "436f1b48-aea5-11e9-ac14-02420a0100a1-3-1e17-2fd1-56d1"
    }
   },
   "source": [
    "![EC2の起動](images/101-003.png)"
   ]
  },
  {
   "cell_type": "markdown",
   "metadata": {
    "lc_cell_meme": {
     "current": "436f1d5a-aea5-11e9-ac14-02420a0100a1-3-61ba-cf4c-c4d6",
     "next": "436f1e0e-aea5-11e9-ac14-02420a0100a1-3-d1b7-37f5-a569",
     "previous": "436f1c7e-aea5-11e9-ac14-02420a0100a1-3-bd71-fc0d-0018"
    }
   },
   "source": [
    "## アクセストークンの入力"
   ]
  },
  {
   "cell_type": "markdown",
   "metadata": {
    "lc_cell_meme": {
     "current": "436f1e0e-aea5-11e9-ac14-02420a0100a1-3-d1b7-37f5-a569",
     "next": "436f1ec2-aea5-11e9-ac14-02420a0100a1-3-6455-104e-72c0",
     "previous": "436f1d5a-aea5-11e9-ac14-02420a0100a1-3-61ba-cf4c-c4d6"
    }
   },
   "source": [
    "VCP SDKを利用するにはVC Controllerのアクセストークンが必要となります。次のセルを実行すると入力枠が表示されるのでアクセストークンの値を入力してください。\n",
    "\n",
    "> アクセストークン入力後に Enter キーを押すことで入力が完了します。"
   ]
  },
  {
   "cell_type": "code",
   "execution_count": null,
   "metadata": {
    "lc_cell_meme": {
     "current": "436f1ec2-aea5-11e9-ac14-02420a0100a1-3-6455-104e-72c0",
     "next": "436f1f6c-aea5-11e9-ac14-02420a0100a1-3-1f90-3bf2-ed8e",
     "previous": "436f1e0e-aea5-11e9-ac14-02420a0100a1-3-d1b7-37f5-a569"
    },
    "lc_wrapper": {}
   },
   "outputs": [],
   "source": [
    "from getpass import getpass\n",
    "vcc_access_token = getpass()"
   ]
  },
  {
   "cell_type": "markdown",
   "metadata": {
    "lc_cell_meme": {
     "current": "436f1f6c-aea5-11e9-ac14-02420a0100a1-3-1f90-3bf2-ed8e",
     "next": "436f21b0-aea5-11e9-ac14-02420a0100a1-3-e596-e349-2e75",
     "previous": "436f1ec2-aea5-11e9-ac14-02420a0100a1-3-6455-104e-72c0"
    }
   },
   "source": [
    "## VCP SDKの初期化\n",
    "\n",
    "VCP SDKの初期化を行います。"
   ]
  },
  {
   "cell_type": "code",
   "execution_count": null,
   "metadata": {
    "lc_cell_meme": {
     "current": "436f21b0-aea5-11e9-ac14-02420a0100a1-3-e596-e349-2e75",
     "next": "436f2278-aea5-11e9-ac14-02420a0100a1-3-a8fb-d270-7a19",
     "previous": "436f1f6c-aea5-11e9-ac14-02420a0100a1-3-1f90-3bf2-ed8e"
    },
    "lc_wrapper": {},
    "scrolled": true
   },
   "outputs": [],
   "source": [
    "from common import logsetting\n",
    "from vcpsdk.vcpsdk import VcpSDK\n",
    "\n",
    "# VCP SDKの初期化\n",
    "vcp = VcpSDK(\n",
    "    vcc_access_token,  # VCCのアクセストークン\n",
    ")"
   ]
  },
  {
   "cell_type": "markdown",
   "metadata": {
    "lc_cell_meme": {
     "current": "436f2278-aea5-11e9-ac14-02420a0100a1-3-a8fb-d270-7a19",
     "next": "436f23a4-aea5-11e9-ac14-02420a0100a1-3-0aef-4cca-4927",
     "previous": "436f21b0-aea5-11e9-ac14-02420a0100a1-3-e596-e349-2e75"
    }
   },
   "source": [
    "上のセルの実行結果がエラーとなり以下のようなメッセージが表示されている場合は、入力されたアクセストークンに誤りがあります。\n",
    "\n",
    "```\n",
    "2019-XX-XX XX:XX:XX,XXX - ERROR - config vc failed: http_status(403)\n",
    "2019-XX-XX XX:XX:XX,XXX - ERROR - 2019/XX/XX XX:XX:XX UTC: VCPAuthException: xxxxxxx:token lookup is failed: permission denied\n",
    "```\n",
    "\n",
    "この場合はアクセストークンの入力からやり直してください。"
   ]
  },
  {
   "cell_type": "markdown",
   "metadata": {
    "lc_cell_meme": {
     "current": "436f23a4-aea5-11e9-ac14-02420a0100a1-3-0aef-4cca-4927",
     "next": "436f248a-aea5-11e9-ac14-02420a0100a1-3-eacc-cf63-f36e",
     "previous": "436f2278-aea5-11e9-ac14-02420a0100a1-3-a8fb-d270-7a19"
    }
   },
   "source": [
    "`vcp`からは UnitGroup の管理（作成、情報取得）や VCP SDK自体に関する情報取得を行うことができます。例えば、次のセルを実行するとUnitGroupの一覧が表示されます。\n",
    "\n",
    "> まだUnitGroupを作成していないので、ヘッダー以外はなにも表示されないはずです。"
   ]
  },
  {
   "cell_type": "code",
   "execution_count": null,
   "metadata": {
    "lc_cell_meme": {
     "current": "436f248a-aea5-11e9-ac14-02420a0100a1-3-eacc-cf63-f36e",
     "next": "436f25ac-aea5-11e9-ac14-02420a0100a1-3-4922-a701-a7fd",
     "previous": "436f23a4-aea5-11e9-ac14-02420a0100a1-3-0aef-4cca-4927"
    },
    "lc_wrapper": {},
    "scrolled": true
   },
   "outputs": [],
   "source": [
    "# UnitGroupの一覧を DataFrame で表示する\n",
    "vcp.df_ugroups()"
   ]
  },
  {
   "cell_type": "markdown",
   "metadata": {
    "lc_cell_meme": {
     "current": "436f25ac-aea5-11e9-ac14-02420a0100a1-3-4922-a701-a7fd",
     "next": "436f267e-aea5-11e9-ac14-02420a0100a1-3-05ca-701e-e100",
     "previous": "436f248a-aea5-11e9-ac14-02420a0100a1-3-eacc-cf63-f36e"
    }
   },
   "source": [
    "次のセルを実行すると VCP SDK と VC Controller のバージョンが表示されます。"
   ]
  },
  {
   "cell_type": "code",
   "execution_count": null,
   "metadata": {
    "lc_cell_meme": {
     "current": "436f267e-aea5-11e9-ac14-02420a0100a1-3-05ca-701e-e100",
     "next": "436f2728-aea5-11e9-ac14-02420a0100a1-3-a2f4-459d-90f7",
     "previous": "436f25ac-aea5-11e9-ac14-02420a0100a1-3-4922-a701-a7fd"
    },
    "lc_wrapper": {},
    "scrolled": true
   },
   "outputs": [],
   "source": [
    "vcp.version()"
   ]
  },
  {
   "cell_type": "markdown",
   "metadata": {
    "lc_cell_meme": {
     "current": "436f2728-aea5-11e9-ac14-02420a0100a1-3-a2f4-459d-90f7",
     "next": "436f27d2-aea5-11e9-ac14-02420a0100a1-3-f6a2-9b31-2514",
     "previous": "436f267e-aea5-11e9-ac14-02420a0100a1-3-05ca-701e-e100"
    }
   },
   "source": [
    "## UnitGroupの作成"
   ]
  },
  {
   "cell_type": "markdown",
   "metadata": {
    "lc_cell_meme": {
     "current": "436f27d2-aea5-11e9-ac14-02420a0100a1-3-f6a2-9b31-2514",
     "next": "436f28d6-aea5-11e9-ac14-02420a0100a1-3-2741-d0a5-cad5",
     "previous": "436f2728-aea5-11e9-ac14-02420a0100a1-3-a2f4-459d-90f7"
    }
   },
   "source": [
    "`handson101`という名前の UnitGroup を作成します。"
   ]
  },
  {
   "cell_type": "code",
   "execution_count": null,
   "metadata": {
    "lc_cell_meme": {
     "current": "436f28d6-aea5-11e9-ac14-02420a0100a1-3-2741-d0a5-cad5",
     "next": "436f2a0c-aea5-11e9-ac14-02420a0100a1-3-c1c0-9a30-69fa",
     "previous": "436f27d2-aea5-11e9-ac14-02420a0100a1-3-f6a2-9b31-2514"
    },
    "lc_wrapper": {}
   },
   "outputs": [],
   "source": [
    "# UnitGroupの作成\n",
    "unit_group = vcp.create_ugroup(\n",
    "    'handson101'                   # UnitGroupの名前\n",
    ")"
   ]
  },
  {
   "cell_type": "markdown",
   "metadata": {
    "lc_cell_meme": {
     "current": "436f2a0c-aea5-11e9-ac14-02420a0100a1-3-c1c0-9a30-69fa",
     "next": "436f2b42-aea5-11e9-ac14-02420a0100a1-3-5166-0136-c099",
     "previous": "436f28d6-aea5-11e9-ac14-02420a0100a1-3-2741-d0a5-cad5"
    }
   },
   "source": [
    "作成したUnitGroupの状態を表示してみます。\n",
    "\n",
    "> UnitGroup の名前が `handson101` であることと、その状態が `RUNNING` であることなどが確認できるはずです。"
   ]
  },
  {
   "cell_type": "code",
   "execution_count": null,
   "metadata": {
    "lc_cell_meme": {
     "current": "436f2b42-aea5-11e9-ac14-02420a0100a1-3-5166-0136-c099",
     "next": "436f2c14-aea5-11e9-ac14-02420a0100a1-3-ba03-55fb-ad11",
     "previous": "436f2a0c-aea5-11e9-ac14-02420a0100a1-3-c1c0-9a30-69fa"
    },
    "lc_wrapper": {},
    "scrolled": true
   },
   "outputs": [],
   "source": [
    "print(unit_group)"
   ]
  },
  {
   "cell_type": "markdown",
   "metadata": {
    "lc_cell_meme": {
     "current": "436f2c14-aea5-11e9-ac14-02420a0100a1-3-ba03-55fb-ad11",
     "next": "436f2cbe-aea5-11e9-ac14-02420a0100a1-3-10fe-2386-5a2b",
     "previous": "436f2b42-aea5-11e9-ac14-02420a0100a1-3-5166-0136-c099"
    }
   },
   "source": [
    "UnitGroupの一覧を表示してみます。"
   ]
  },
  {
   "cell_type": "code",
   "execution_count": null,
   "metadata": {
    "lc_cell_meme": {
     "current": "436f2cbe-aea5-11e9-ac14-02420a0100a1-3-10fe-2386-5a2b",
     "next": "436f2d68-aea5-11e9-ac14-02420a0100a1-3-ab12-4e1f-ec65",
     "previous": "436f2c14-aea5-11e9-ac14-02420a0100a1-3-ba03-55fb-ad11"
    },
    "lc_wrapper": {}
   },
   "outputs": [],
   "source": [
    "# UnitGroupの一覧を DataFrame で表示する\n",
    "vcp.df_ugroups()"
   ]
  },
  {
   "cell_type": "markdown",
   "metadata": {
    "lc_cell_meme": {
     "current": "436f2d68-aea5-11e9-ac14-02420a0100a1-3-ab12-4e1f-ec65",
     "next": "436f2e1c-aea5-11e9-ac14-02420a0100a1-3-599d-3f86-bbc1",
     "previous": "436f2cbe-aea5-11e9-ac14-02420a0100a1-3-10fe-2386-5a2b"
    }
   },
   "source": [
    "## UnitGroupの状態を確認する"
   ]
  },
  {
   "cell_type": "markdown",
   "metadata": {
    "lc_cell_meme": {
     "current": "436f2e1c-aea5-11e9-ac14-02420a0100a1-3-599d-3f86-bbc1",
     "next": "436f2ec6-aea5-11e9-ac14-02420a0100a1-3-5b3e-409b-2a00",
     "previous": "436f2d68-aea5-11e9-ac14-02420a0100a1-3-ab12-4e1f-ec65"
    }
   },
   "source": [
    "UnitGroupに属している Unit の一覧を表示します。\n",
    "\n",
    "> まだ、このUnitGroupでは Unit を作成していないのでヘッダー以外は何も表示されません。"
   ]
  },
  {
   "cell_type": "code",
   "execution_count": null,
   "metadata": {
    "lc_cell_meme": {
     "current": "436f2ec6-aea5-11e9-ac14-02420a0100a1-3-5b3e-409b-2a00",
     "next": "436f2fca-aea5-11e9-ac14-02420a0100a1-3-36c2-ace7-af64",
     "previous": "436f2e1c-aea5-11e9-ac14-02420a0100a1-3-599d-3f86-bbc1"
    },
    "lc_wrapper": {}
   },
   "outputs": [],
   "source": [
    "# Unitの一覧を DataFrame で表示する\n",
    "unit_group.df_units()"
   ]
  },
  {
   "cell_type": "markdown",
   "metadata": {
    "lc_cell_meme": {
     "current": "436f2fca-aea5-11e9-ac14-02420a0100a1-3-36c2-ace7-af64",
     "next": "436f3100-aea5-11e9-ac14-02420a0100a1-3-fa3f-52f3-0cb8",
     "previous": "436f2ec6-aea5-11e9-ac14-02420a0100a1-3-5b3e-409b-2a00"
    }
   },
   "source": [
    "UnitGroupに属しているVCノードの一覧を表示します。\n",
    "\n",
    "> まだVCノードが存在していないので何も表示されません。"
   ]
  },
  {
   "cell_type": "code",
   "execution_count": null,
   "metadata": {
    "lc_cell_meme": {
     "current": "436f3100-aea5-11e9-ac14-02420a0100a1-3-fa3f-52f3-0cb8",
     "next": "436f31dc-aea5-11e9-ac14-02420a0100a1-3-0e5a-97ad-c8ef",
     "previous": "436f2fca-aea5-11e9-ac14-02420a0100a1-3-36c2-ace7-af64"
    },
    "lc_wrapper": {}
   },
   "outputs": [],
   "source": [
    "unit_group.df_nodes()"
   ]
  },
  {
   "cell_type": "markdown",
   "metadata": {
    "lc_cell_meme": {
     "current": "436f31dc-aea5-11e9-ac14-02420a0100a1-3-0e5a-97ad-c8ef",
     "next": "436f3290-aea5-11e9-ac14-02420a0100a1-3-d654-2d47-8c42",
     "previous": "436f3100-aea5-11e9-ac14-02420a0100a1-3-fa3f-52f3-0cb8"
    }
   },
   "source": [
    "## VCノードのspecを指定する"
   ]
  },
  {
   "cell_type": "markdown",
   "metadata": {
    "lc_cell_meme": {
     "current": "436f3290-aea5-11e9-ac14-02420a0100a1-3-d654-2d47-8c42",
     "next": "436f333a-aea5-11e9-ac14-02420a0100a1-3-86fb-9324-106a",
     "previous": "436f31dc-aea5-11e9-ac14-02420a0100a1-3-0e5a-97ad-c8ef"
    }
   },
   "source": [
    "Unitを構成するVCノードがどのような設定であるかを指定するためのオブジェクトとしてVCP SDKでは`spec`オブジェクトを用意しています。VCP SDKの利用者は`spec`オブジェクトのプロパティを設定することで Unitに起動するVCノードの設定内容を定義することができます。\n",
    "\n",
    "`spec`オブジェクトの設定項目の例を以下に示します。\n",
    "\n",
    "* 仮想マシンのインスタンスタイプ\n",
    "  - m5.large, c5.large, ...\n",
    "* 仮想マシンのルートボリュームサイズ(GiB)\n",
    "* 仮想マシンに割り当てるプライベートIPアドレス\n",
    "* Unit内に作成するVCノードの数\n",
    "\n",
    "設定できる項目はクラウドプロバイダ(aws, azure, ...)毎に異なります。"
   ]
  },
  {
   "cell_type": "markdown",
   "metadata": {
    "lc_cell_meme": {
     "current": "436f333a-aea5-11e9-ac14-02420a0100a1-3-86fb-9324-106a",
     "next": "436f33e4-aea5-11e9-ac14-02420a0100a1-3-1cc0-7f6f-8e5d",
     "previous": "436f3290-aea5-11e9-ac14-02420a0100a1-3-d654-2d47-8c42"
    }
   },
   "source": [
    "### flavor ★"
   ]
  },
  {
   "cell_type": "markdown",
   "metadata": {
    "lc_cell_meme": {
     "current": "436f33e4-aea5-11e9-ac14-02420a0100a1-3-1cc0-7f6f-8e5d",
     "next": "436f34e8-aea5-11e9-ac14-02420a0100a1-3-70d2-5caf-cf63",
     "previous": "436f333a-aea5-11e9-ac14-02420a0100a1-3-86fb-9324-106a"
    }
   },
   "source": [
    "`spec`オブジェクトの全てのパラメータを毎回設定するのは煩雑になるので典型的な構成のパラメータセットを事前に定義しています。事前に定義した`spec`パラメータセットのことを VCP SDKでは `flavor`と呼んでいます。`spec`に設定できるパラメータはクラウドプロバイダ毎に異なるので `flavor`の定義もクラウドプロバイダ毎に行っています。\n",
    "\n",
    "次のセルを実行すると aws用に定義している `flavor` の一覧が表示されます。"
   ]
  },
  {
   "cell_type": "code",
   "execution_count": null,
   "metadata": {
    "lc_cell_meme": {
     "current": "436f34e8-aea5-11e9-ac14-02420a0100a1-3-70d2-5caf-cf63",
     "next": "436f35ce-aea5-11e9-ac14-02420a0100a1-3-411c-ec1b-9163",
     "previous": "436f33e4-aea5-11e9-ac14-02420a0100a1-3-1cc0-7f6f-8e5d"
    },
    "lc_wrapper": {}
   },
   "outputs": [],
   "source": [
    "# スポットインスタンスを利用するためには、aws を aws_spot に変更\n",
    "vcp.df_flavors('aws')"
   ]
  },
  {
   "cell_type": "markdown",
   "metadata": {
    "lc_cell_meme": {
     "current": "436f35ce-aea5-11e9-ac14-02420a0100a1-3-411c-ec1b-9163",
     "next": "436f36d2-aea5-11e9-ac14-02420a0100a1-3-506b-5cdd-cb36",
     "previous": "436f34e8-aea5-11e9-ac14-02420a0100a1-3-70d2-5caf-cf63"
    }
   },
   "source": [
    "### spec オブジェクトを作成する ★"
   ]
  },
  {
   "cell_type": "markdown",
   "metadata": {
    "lc_cell_meme": {
     "current": "436f36d2-aea5-11e9-ac14-02420a0100a1-3-506b-5cdd-cb36",
     "next": "436f37b8-aea5-11e9-ac14-02420a0100a1-3-b5cc-fae1-af29",
     "previous": "436f35ce-aea5-11e9-ac14-02420a0100a1-3-411c-ec1b-9163"
    }
   },
   "source": [
    "specオブジェクトを作成します。specオブジェクトを作成するにはプロバイダと`flavor`を指定します。ここでは以下の値を指定します。\n",
    "\n",
    "* プロバイダ: `aws_spot`\n",
    "* flavor: `small`"
   ]
  },
  {
   "cell_type": "code",
   "execution_count": null,
   "metadata": {
    "lc_cell_meme": {
     "current": "436f37b8-aea5-11e9-ac14-02420a0100a1-3-b5cc-fae1-af29",
     "next": "436f3862-aea5-11e9-ac14-02420a0100a1-3-eacc-0101-443b",
     "previous": "436f36d2-aea5-11e9-ac14-02420a0100a1-3-506b-5cdd-cb36"
    },
    "lc_wrapper": {}
   },
   "outputs": [],
   "source": [
    "# スポットインスタンスを利用するためには、aws を aws_spot に変更\n",
    "spec = vcp.get_spec('aws', 'small')"
   ]
  },
  {
   "cell_type": "markdown",
   "metadata": {
    "lc_cell_meme": {
     "current": "436f3862-aea5-11e9-ac14-02420a0100a1-3-eacc-0101-443b",
     "next": "436f3984-aea5-11e9-ac14-02420a0100a1-3-ea17-5669-30c5",
     "previous": "436f37b8-aea5-11e9-ac14-02420a0100a1-3-b5cc-fae1-af29"
    }
   },
   "source": [
    "作成した`spec`の設定内容を確認してみます。\n",
    "\n",
    "> `instance_type`パラメータに `flavor` の指定と対応するEC2インスタンスタイプ`m4.large`が設定されていることが確認できるはずです。\n",
    "> `volume_size`, `volume_type`についてもそれぞれ`flavor`と対応する値が設定されます。"
   ]
  },
  {
   "cell_type": "code",
   "execution_count": null,
   "metadata": {
    "lc_cell_meme": {
     "current": "436f3984-aea5-11e9-ac14-02420a0100a1-3-ea17-5669-30c5",
     "next": "436f3a4c-aea5-11e9-ac14-02420a0100a1-3-af68-cd17-aa94",
     "previous": "436f3862-aea5-11e9-ac14-02420a0100a1-3-eacc-0101-443b"
    },
    "lc_wrapper": {}
   },
   "outputs": [],
   "source": [
    "print(spec)"
   ]
  },
  {
   "cell_type": "markdown",
   "metadata": {
    "lc_cell_meme": {
     "current": "436f3a4c-aea5-11e9-ac14-02420a0100a1-3-af68-cd17-aa94",
     "next": "436f3b00-aea5-11e9-ac14-02420a0100a1-3-561b-fe8b-e748",
     "previous": "436f3984-aea5-11e9-ac14-02420a0100a1-3-ea17-5669-30c5"
    }
   },
   "source": [
    "`spec`に対しては `flavor`で指定するだけではなく個々のパラメータを直接指定することもできます。例えば、以下のようなものが指定できます。\n",
    "\n",
    "* num_nodes\n",
    "  - Unit内に作成するVCノードの数: デフォルト=1\n",
    "* ip_addresses\n",
    "  - VCノードに割り当てるプライベートIPアドレスのリスト\n",
    "  - このパラメータを指定しない場合は利用可能なアドレスが自動的に割り当てられる\n",
    "* instance_type\n",
    "  - Amazon EC2のインスタンスタイプ\n",
    "  - flavorで設定されているもの以外を利用したい場合に指定する\n",
    "* volume_size\n",
    "  - Amazon EC2インスタンスのルートボリュームに割り当てるサイズ(GiB)\n",
    "  - flavorで設定されているもの以外を利用したい場合に指定する\n",
    "* volume_type\n",
    "  - Amazon EC2インスタンスのルートボリュームのEBSタイプ\n",
    "  - flavorで設定されているもの以外を利用したい場合に指定する"
   ]
  },
  {
   "cell_type": "markdown",
   "metadata": {
    "lc_cell_meme": {
     "current": "436f3b00-aea5-11e9-ac14-02420a0100a1-3-561b-fe8b-e748",
     "next": "436f3c36-aea5-11e9-ac14-02420a0100a1-3-7620-3c5d-d0c6",
     "previous": "436f3a4c-aea5-11e9-ac14-02420a0100a1-3-af68-cd17-aa94"
    }
   },
   "source": [
    "試しに `volume_size`を指定してみます。"
   ]
  },
  {
   "cell_type": "code",
   "execution_count": null,
   "metadata": {
    "lc_cell_meme": {
     "current": "436f3c36-aea5-11e9-ac14-02420a0100a1-3-7620-3c5d-d0c6",
     "next": "436f3d58-aea5-11e9-ac14-02420a0100a1-3-44ff-9cad-cdbd",
     "previous": "436f3b00-aea5-11e9-ac14-02420a0100a1-3-561b-fe8b-e748"
    },
    "lc_wrapper": {}
   },
   "outputs": [],
   "source": [
    "spec.volume_size = 15"
   ]
  },
  {
   "cell_type": "markdown",
   "metadata": {
    "lc_cell_meme": {
     "current": "436f3d58-aea5-11e9-ac14-02420a0100a1-3-44ff-9cad-cdbd",
     "next": "436f3e8e-aea5-11e9-ac14-02420a0100a1-3-4394-eb44-c644",
     "previous": "436f3c36-aea5-11e9-ac14-02420a0100a1-3-7620-3c5d-d0c6"
    },
    "lc_wrapper": {}
   },
   "source": [
    "### AWSスポットインスタンス専用のspec設定 ★\n",
    "\n",
    "AWSスポットインスタンスに対して、以下のパラメータを指定することができます。\n",
    "\n",
    "- インスタンス1時間当たりの上限価格(=入札価格)\n",
    "  * 米ドル単位で指定。指定無しの場合はオンデマンドインスタンスの価格が上限価格として指定される。\n",
    "  > *小さすぎる価格では起動できない可能性がある*\n",
    "- インスタンスの継続時間\n",
    "  * 1〜6時間の範囲で 60, 120, 180, 240, 300, 360 のように分単位で指定可能\n",
    "  > *長過ぎる継続時間では起動できない可能性がある*"
   ]
  },
  {
   "cell_type": "code",
   "execution_count": null,
   "metadata": {
    "lc_cell_meme": {
     "current": "436f3e8e-aea5-11e9-ac14-02420a0100a1-3-4394-eb44-c644",
     "next": "436f4000-aea5-11e9-ac14-02420a0100a1-3-73e4-6136-ea59",
     "previous": "436f3d58-aea5-11e9-ac14-02420a0100a1-3-44ff-9cad-cdbd"
    }
   },
   "outputs": [],
   "source": [
    "# スポットインスタンスの1時間当たりの上限価格 (単位: USD)\n",
    "spec.spot_price = '0.15'\n",
    "\n",
    "# スポットインスタンスの継続時間 (単位: 分、60の倍数)\n",
    "# spec.block_duration_minutes = 300\n",
    "\n",
    "# インスタンスタイプ (0.15 USD 以内の例: m4.large, c4.large, t2.large, t2.medium)\n",
    "# spec.instance_type = 'm4.large'"
   ]
  },
  {
   "cell_type": "markdown",
   "metadata": {
    "lc_cell_meme": {
     "current": "436f4000-aea5-11e9-ac14-02420a0100a1-3-73e4-6136-ea59",
     "next": "436f40dc-aea5-11e9-ac14-02420a0100a1-3-6e06-ea3e-2205",
     "previous": "436f3e8e-aea5-11e9-ac14-02420a0100a1-3-4394-eb44-c644"
    }
   },
   "source": [
    "指定した値が`spec`の設定に反映されていることを確認してみます。"
   ]
  },
  {
   "cell_type": "code",
   "execution_count": null,
   "metadata": {
    "lc_cell_meme": {
     "current": "436f40dc-aea5-11e9-ac14-02420a0100a1-3-6e06-ea3e-2205",
     "next": "436f41e0-aea5-11e9-ac14-02420a0100a1-3-c84c-b6b4-61af",
     "previous": "436f4000-aea5-11e9-ac14-02420a0100a1-3-73e4-6136-ea59"
    },
    "lc_wrapper": {}
   },
   "outputs": [],
   "source": [
    "print(spec)"
   ]
  },
  {
   "cell_type": "markdown",
   "metadata": {
    "lc_cell_meme": {
     "current": "436f41e0-aea5-11e9-ac14-02420a0100a1-3-c84c-b6b4-61af",
     "next": "436f42c6-aea5-11e9-ac14-02420a0100a1-3-d6fa-0dfb-00d3",
     "previous": "436f40dc-aea5-11e9-ac14-02420a0100a1-3-6e06-ea3e-2205"
    }
   },
   "source": [
    "`volume_size`の値が指定した値に変更されています。"
   ]
  },
  {
   "cell_type": "markdown",
   "metadata": {
    "lc_cell_meme": {
     "current": "436f42c6-aea5-11e9-ac14-02420a0100a1-3-d6fa-0dfb-00d3",
     "next": "436f43ca-aea5-11e9-ac14-02420a0100a1-3-fa00-f0b5-75f1",
     "previous": "436f41e0-aea5-11e9-ac14-02420a0100a1-3-c84c-b6b4-61af"
    }
   },
   "source": [
    "### sshの鍵ファイルを設定する\n",
    "\n",
    "VCノードにsshでログインするためには事前に公開鍵認証の鍵を登録する必要があります。そのための設定をここで行います。"
   ]
  },
  {
   "cell_type": "markdown",
   "metadata": {
    "lc_cell_meme": {
     "current": "436f43ca-aea5-11e9-ac14-02420a0100a1-3-fa00-f0b5-75f1",
     "next": "436f44a6-aea5-11e9-ac14-02420a0100a1-3-6bc5-1856-cfa4",
     "previous": "436f42c6-aea5-11e9-ac14-02420a0100a1-3-d6fa-0dfb-00d3"
    }
   },
   "source": [
    "VCノードに登録する公開鍵認証の**公開鍵**のパスを次のセルで指定してください。"
   ]
  },
  {
   "cell_type": "code",
   "execution_count": null,
   "metadata": {
    "lc_cell_meme": {
     "current": "436f44a6-aea5-11e9-ac14-02420a0100a1-3-6bc5-1856-cfa4",
     "next": "436f4550-aea5-11e9-ac14-02420a0100a1-3-5b9e-d35b-9273",
     "previous": "436f43ca-aea5-11e9-ac14-02420a0100a1-3-fa00-f0b5-75f1"
    },
    "lc_wrapper": {}
   },
   "outputs": [],
   "source": [
    "import os\n",
    "ssh_public_key = os.path.expanduser('~/.ssh/id_rsa.pub')"
   ]
  },
  {
   "cell_type": "markdown",
   "metadata": {
    "lc_cell_meme": {
     "current": "436f4550-aea5-11e9-ac14-02420a0100a1-3-5b9e-d35b-9273",
     "next": "436f45fa-aea5-11e9-ac14-02420a0100a1-3-4a73-c2de-9c75",
     "previous": "436f44a6-aea5-11e9-ac14-02420a0100a1-3-6bc5-1856-cfa4"
    }
   },
   "source": [
    "指定した公開鍵を `spec` に設定します。"
   ]
  },
  {
   "cell_type": "code",
   "execution_count": null,
   "metadata": {
    "lc_cell_meme": {
     "current": "436f45fa-aea5-11e9-ac14-02420a0100a1-3-4a73-c2de-9c75",
     "next": "436f47a8-aea5-11e9-ac14-02420a0100a1-3-d246-620f-1b87",
     "previous": "436f4550-aea5-11e9-ac14-02420a0100a1-3-5b9e-d35b-9273"
    },
    "lc_wrapper": {}
   },
   "outputs": [],
   "source": [
    "spec.set_ssh_pubkey(ssh_public_key)"
   ]
  },
  {
   "cell_type": "markdown",
   "metadata": {
    "lc_cell_meme": {
     "current": "436f47a8-aea5-11e9-ac14-02420a0100a1-3-d246-620f-1b87",
     "next": "436f492e-aea5-11e9-ac14-02420a0100a1-3-ff3d-415d-d9da",
     "previous": "436f45fa-aea5-11e9-ac14-02420a0100a1-3-4a73-c2de-9c75"
    }
   },
   "source": [
    "sshの公開鍵に関する設定が`spec`に反映されたことを確認してみます。次のセルを実行すると`params`の`e`の`AUTHORIZED_KEYS`に値が設定されていることが確認できます。"
   ]
  },
  {
   "cell_type": "code",
   "execution_count": null,
   "metadata": {
    "lc_cell_meme": {
     "current": "436f492e-aea5-11e9-ac14-02420a0100a1-3-ff3d-415d-d9da",
     "next": "436f4a14-aea5-11e9-ac14-02420a0100a1-3-c505-d802-5d39",
     "previous": "436f47a8-aea5-11e9-ac14-02420a0100a1-3-d246-620f-1b87"
    },
    "lc_wrapper": {}
   },
   "outputs": [],
   "source": [
    "print(spec)"
   ]
  },
  {
   "cell_type": "markdown",
   "metadata": {
    "lc_cell_meme": {
     "current": "436f4a14-aea5-11e9-ac14-02420a0100a1-3-c505-d802-5d39",
     "next": "436f4b22-aea5-11e9-ac14-02420a0100a1-3-a74b-dc37-2947",
     "previous": "436f492e-aea5-11e9-ac14-02420a0100a1-3-ff3d-415d-d9da"
    }
   },
   "source": [
    "後でVCノードにログインする際にsshの秘密鍵も必要になるので、ここで設定しておきます。次のセルで**秘密鍵**のパスを指定してください。"
   ]
  },
  {
   "cell_type": "code",
   "execution_count": null,
   "metadata": {
    "lc_cell_meme": {
     "current": "436f4b22-aea5-11e9-ac14-02420a0100a1-3-a74b-dc37-2947",
     "next": "436f4bfe-aea5-11e9-ac14-02420a0100a1-3-3c29-f1b4-47f3",
     "previous": "436f4a14-aea5-11e9-ac14-02420a0100a1-3-c505-d802-5d39"
    },
    "lc_wrapper": {}
   },
   "outputs": [],
   "source": [
    "ssh_private_key = os.path.expanduser('~/.ssh/id_rsa')"
   ]
  },
  {
   "cell_type": "markdown",
   "metadata": {
    "lc_cell_meme": {
     "current": "436f4bfe-aea5-11e9-ac14-02420a0100a1-3-3c29-f1b4-47f3",
     "next": "436f4cb2-aea5-11e9-ac14-02420a0100a1-3-78c1-95ca-73b2",
     "previous": "436f4b22-aea5-11e9-ac14-02420a0100a1-3-a74b-dc37-2947"
    }
   },
   "source": [
    "公開鍵と秘密鍵が正しいペアであることをチェックします。次のセルを実行してエラーにならないことを確認してください。"
   ]
  },
  {
   "cell_type": "code",
   "execution_count": null,
   "metadata": {
    "lc_cell_meme": {
     "current": "436f4cb2-aea5-11e9-ac14-02420a0100a1-3-78c1-95ca-73b2",
     "next": "436f4d5c-aea5-11e9-ac14-02420a0100a1-3-9e43-0ea0-73f4",
     "previous": "436f4bfe-aea5-11e9-ac14-02420a0100a1-3-3c29-f1b4-47f3"
    },
    "lc_wrapper": {}
   },
   "outputs": [],
   "source": [
    "!grep -q \"$(ssh-keygen -y -f {ssh_private_key})\" {ssh_public_key}"
   ]
  },
  {
   "cell_type": "markdown",
   "metadata": {
    "lc_cell_meme": {
     "current": "436f4d5c-aea5-11e9-ac14-02420a0100a1-3-9e43-0ea0-73f4",
     "next": "436f4e60-aea5-11e9-ac14-02420a0100a1-3-cec0-a0b7-f66c",
     "previous": "436f4cb2-aea5-11e9-ac14-02420a0100a1-3-78c1-95ca-73b2"
    },
    "vcp_tutorial": {
     "url": "files/DOC/index.html#module-vcpsdk.plugins.spec"
    }
   },
   "source": [
    "<!---\n",
    "他にどのようなパラメータが設定できるのかについては\n",
    "「[VCPSDK APIドキュメント](/handson/files/DOC/index.html#module-vcpsdk.plugins.spec)」を参照してください。\n",
    "--->"
   ]
  },
  {
   "cell_type": "markdown",
   "metadata": {
    "lc_cell_meme": {
     "current": "436f4e60-aea5-11e9-ac14-02420a0100a1-3-cec0-a0b7-f66c",
     "next": "436f4f3c-aea5-11e9-ac14-02420a0100a1-3-10df-3064-8ccc",
     "previous": "436f4d5c-aea5-11e9-ac14-02420a0100a1-3-9e43-0ea0-73f4"
    }
   },
   "source": [
    "## Unitの作成とVCノードの起動"
   ]
  },
  {
   "cell_type": "markdown",
   "metadata": {
    "lc_cell_meme": {
     "current": "436f4f3c-aea5-11e9-ac14-02420a0100a1-3-10df-3064-8ccc",
     "next": "436f4ff0-aea5-11e9-ac14-02420a0100a1-3-4440-fdcb-db27",
     "previous": "436f4e60-aea5-11e9-ac14-02420a0100a1-3-cec0-a0b7-f66c"
    }
   },
   "source": [
    "Unitを作成します。Unitを作成すると同時に VCノード（ここでは Amazon EC2インスタンス）が起動します。\n",
    "\n",
    "> 処理が完了するまで1分半～2分程度かかります。"
   ]
  },
  {
   "cell_type": "code",
   "execution_count": null,
   "metadata": {
    "lc_cell_meme": {
     "current": "436f4ff0-aea5-11e9-ac14-02420a0100a1-3-4440-fdcb-db27",
     "next": "436f50f4-aea5-11e9-ac14-02420a0100a1-3-759d-3dc0-39bf",
     "previous": "436f4f3c-aea5-11e9-ac14-02420a0100a1-3-10df-3064-8ccc"
    },
    "lc_wrapper": {},
    "scrolled": true
   },
   "outputs": [],
   "source": [
    "# Unitの作成（同時に VCノードが作成される）\n",
    "unit = unit_group.create_unit(\n",
    "    'aws-server',               # Unit名の指定\n",
    "    spec\n",
    ")"
   ]
  },
  {
   "cell_type": "markdown",
   "metadata": {
    "lc_cell_meme": {
     "current": "436f50f4-aea5-11e9-ac14-02420a0100a1-3-759d-3dc0-39bf",
     "next": "436f51da-aea5-11e9-ac14-02420a0100a1-3-8a8d-7361-ca19",
     "previous": "436f4ff0-aea5-11e9-ac14-02420a0100a1-3-4440-fdcb-db27"
    }
   },
   "source": [
    "UnitGroupに属しているUnitの一覧表示を行い、Unitが作成されていることを確認します。"
   ]
  },
  {
   "cell_type": "code",
   "execution_count": null,
   "metadata": {
    "lc_cell_meme": {
     "current": "436f51da-aea5-11e9-ac14-02420a0100a1-3-8a8d-7361-ca19",
     "next": "436f5284-aea5-11e9-ac14-02420a0100a1-3-d4b3-0eae-2c05",
     "previous": "436f50f4-aea5-11e9-ac14-02420a0100a1-3-759d-3dc0-39bf"
    },
    "lc_wrapper": {}
   },
   "outputs": [],
   "source": [
    "# Unitの一覧を DataFrame で表示する\n",
    "unit_group.df_units()"
   ]
  },
  {
   "cell_type": "markdown",
   "metadata": {
    "lc_cell_meme": {
     "current": "436f5284-aea5-11e9-ac14-02420a0100a1-3-d4b3-0eae-2c05",
     "next": "436f5338-aea5-11e9-ac14-02420a0100a1-3-a3be-e257-c6d9",
     "previous": "436f51da-aea5-11e9-ac14-02420a0100a1-3-8a8d-7361-ca19"
    }
   },
   "source": [
    "UnitGroupに属しているVCノードの一覧表示を行い、VCノードが起動していることを確認します。VCノードが正常に起動していることは `node_state` の表示が `RUNNING`になっていることで確認できます。"
   ]
  },
  {
   "cell_type": "code",
   "execution_count": null,
   "metadata": {
    "lc_cell_meme": {
     "current": "436f5338-aea5-11e9-ac14-02420a0100a1-3-a3be-e257-c6d9",
     "next": "436f53e2-aea5-11e9-ac14-02420a0100a1-3-74b8-0ed5-d9a4",
     "previous": "436f5284-aea5-11e9-ac14-02420a0100a1-3-d4b3-0eae-2c05"
    },
    "lc_wrapper": {},
    "scrolled": true
   },
   "outputs": [],
   "source": [
    "# VCノードの一覧を DataFrame で表示する\n",
    "unit_group.df_nodes()"
   ]
  },
  {
   "cell_type": "markdown",
   "metadata": {
    "lc_cell_meme": {
     "current": "436f53e2-aea5-11e9-ac14-02420a0100a1-3-74b8-0ed5-d9a4",
     "next": "436f548c-aea5-11e9-ac14-02420a0100a1-3-f5a5-e50d-b77f",
     "previous": "436f5338-aea5-11e9-ac14-02420a0100a1-3-a3be-e257-c6d9"
    }
   },
   "source": [
    "ここでは VCノードの起動が完了するまで待ち合わせるモードでUnitの作成を行いましたが、非同期処理でUnit, VCノードの作成を行うこともできます。`create_unit()`の`wait_for`パラメータに`False`を指定すると非同期モードでのUnit, VCノードの作成が行えます。\n",
    "\n",
    "```\n",
    "unit = unit_group.create_unit('aws-server', spec, wait_for=False)\n",
    "```\n",
    "\n",
    "非同期モードでUnitを作成した場合にUnitやVCノードが起動したことを確認するには、以下に示す方法で状態取得を行ってください。\n",
    "\n",
    "1. `unit_group.df_units()`\n",
    "  * Unitの一覧表示の`unit_state`の項目で Unitの状態を確認できます\n",
    "  * 起動中は `BOOTING`、起動が完了して実行中になると `RUNNING` と表示されます\n",
    " \n",
    "1. `unit.df_nodes()`, `unit_group.df_nodes()`\n",
    "  * VCノードの一覧表示の`node_state`の項目で VCノードの状態を確認できます\n",
    "  * 起動中は `BOOTING`、起動が完了して実行中になると `RUNNING` と表示されます\n",
    "\n",
    "非同期モードでUnit作成を行った場合でも、以下のメソッドを利用することで後からVCノード起動の待ち合わせを行うことができます。\n",
    "* `unit_group.wait_unit_applied(unit_name)`\n",
    "  - unit_nameで指定されたUnitの状態が `RUNNING` または `ERROR`になるのを待ちます"
   ]
  },
  {
   "cell_type": "markdown",
   "metadata": {
    "lc_cell_meme": {
     "current": "436f548c-aea5-11e9-ac14-02420a0100a1-3-f5a5-e50d-b77f",
     "next": "436f5536-aea5-11e9-ac14-02420a0100a1-3-5a20-60c6-031c",
     "previous": "436f53e2-aea5-11e9-ac14-02420a0100a1-3-74b8-0ed5-d9a4"
    }
   },
   "source": [
    "## 疎通確認\n",
    "\n",
    "起動した VCノードに対して`ping`を行ってみます。"
   ]
  },
  {
   "cell_type": "markdown",
   "metadata": {
    "lc_cell_meme": {
     "current": "436f5536-aea5-11e9-ac14-02420a0100a1-3-5a20-60c6-031c",
     "next": "436f563a-aea5-11e9-ac14-02420a0100a1-3-5fff-687f-be3f",
     "previous": "436f548c-aea5-11e9-ac14-02420a0100a1-3-f5a5-e50d-b77f"
    }
   },
   "source": [
    "まずUnitGroup内で起動しているVCノードに割り当てられているプライベートIPアドレスの値を取得して変数 `ip_address`に格納します。"
   ]
  },
  {
   "cell_type": "code",
   "execution_count": null,
   "metadata": {
    "lc_cell_meme": {
     "current": "436f563a-aea5-11e9-ac14-02420a0100a1-3-5fff-687f-be3f",
     "next": "436f5770-aea5-11e9-ac14-02420a0100a1-3-ed25-e756-3c3b",
     "previous": "436f5536-aea5-11e9-ac14-02420a0100a1-3-5a20-60c6-031c"
    },
    "lc_wrapper": {}
   },
   "outputs": [],
   "source": [
    "# unit_group.find_ip_addresses() は UnitGroup内の全VCノードのIPアドレスのリストを返します\n",
    "ip_address = unit_group.find_ip_addresses(node_state='RUNNING')[0] # 今は１つのVCノードのみ起動しているので [0] で最初の要素を取り出す\n",
    "\n",
    "print(ip_address)"
   ]
  },
  {
   "cell_type": "markdown",
   "metadata": {
    "lc_cell_meme": {
     "current": "436f5770-aea5-11e9-ac14-02420a0100a1-3-ed25-e756-3c3b",
     "next": "436f5838-aea5-11e9-ac14-02420a0100a1-3-d1d0-276b-c54a",
     "previous": "436f563a-aea5-11e9-ac14-02420a0100a1-3-5fff-687f-be3f"
    }
   },
   "source": [
    "実際に `ping` を行ってみます。\n",
    "\n",
    "> Codeセルで先頭に `!` をつけるとシェルコマンドが実行できます。また `{}`で囲むことで Python の変数参照やコードの実行に置き換えることができます。詳しくは「[IPython Documentation](https://ipython.readthedocs.io/en/stable/interactive/tutorial.html#system-shell-commands)」などを参照してください。"
   ]
  },
  {
   "cell_type": "code",
   "execution_count": null,
   "metadata": {
    "lc_cell_meme": {
     "current": "436f5838-aea5-11e9-ac14-02420a0100a1-3-d1d0-276b-c54a",
     "next": "436f58ec-aea5-11e9-ac14-02420a0100a1-3-18ef-dcfb-672c",
     "previous": "436f5770-aea5-11e9-ac14-02420a0100a1-3-ed25-e756-3c3b"
    },
    "lc_wrapper": {}
   },
   "outputs": [],
   "source": [
    "# NIIのハンズオン環境ではネットワーク構成の事情により本NotebookからVCノードへのping実行はできません。\n",
    "# !ping -c 5 {ip_address}"
   ]
  },
  {
   "cell_type": "markdown",
   "metadata": {
    "lc_cell_meme": {
     "current": "436f58ec-aea5-11e9-ac14-02420a0100a1-3-18ef-dcfb-672c",
     "next": "436f59f0-aea5-11e9-ac14-02420a0100a1-3-b64b-922d-88bf",
     "previous": "436f5838-aea5-11e9-ac14-02420a0100a1-3-d1d0-276b-c54a"
    }
   },
   "source": [
    "# VCノードに ssh でログインして操作する"
   ]
  },
  {
   "cell_type": "markdown",
   "metadata": {
    "lc_cell_meme": {
     "current": "436f59f0-aea5-11e9-ac14-02420a0100a1-3-b64b-922d-88bf",
     "next": "436f5acc-aea5-11e9-ac14-02420a0100a1-3-c8ad-73c0-2e80",
     "previous": "436f58ec-aea5-11e9-ac14-02420a0100a1-3-18ef-dcfb-672c"
    }
   },
   "source": [
    "起動したVCノードに ssh でログインして操作を行います。"
   ]
  },
  {
   "cell_type": "markdown",
   "metadata": {
    "lc_cell_meme": {
     "current": "436f5acc-aea5-11e9-ac14-02420a0100a1-3-c8ad-73c0-2e80",
     "next": "436f5b80-aea5-11e9-ac14-02420a0100a1-3-4872-ce7e-2186",
     "previous": "436f59f0-aea5-11e9-ac14-02420a0100a1-3-b64b-922d-88bf"
    }
   },
   "source": [
    "まず、ログインする前に ~/.ssh/known_hosts のホストキーを更新します。"
   ]
  },
  {
   "cell_type": "code",
   "execution_count": null,
   "metadata": {
    "lc_cell_meme": {
     "current": "436f5b80-aea5-11e9-ac14-02420a0100a1-3-4872-ce7e-2186",
     "next": "436f5c84-aea5-11e9-ac14-02420a0100a1-3-2960-a64a-e3be",
     "previous": "436f5acc-aea5-11e9-ac14-02420a0100a1-3-c8ad-73c0-2e80"
    },
    "lc_wrapper": {}
   },
   "outputs": [],
   "source": [
    "!touch ~/.ssh/known_hosts\n",
    "# ~/.ssh/known_hosts から古いホストキーを削除する\n",
    "!ssh-keygen -R {ip_address}\n",
    "\n",
    "# ホストキーの登録\n",
    "!ssh-keyscan -H {ip_address} >> ~/.ssh/known_hosts"
   ]
  },
  {
   "cell_type": "markdown",
   "metadata": {
    "lc_cell_meme": {
     "current": "436f5c84-aea5-11e9-ac14-02420a0100a1-3-2960-a64a-e3be",
     "next": "436f5d6a-aea5-11e9-ac14-02420a0100a1-3-04c1-ad46-63ab",
     "previous": "436f5b80-aea5-11e9-ac14-02420a0100a1-3-4872-ce7e-2186"
    }
   },
   "source": [
    "`ls -la` を実行してみます。"
   ]
  },
  {
   "cell_type": "code",
   "execution_count": null,
   "metadata": {
    "lc_cell_meme": {
     "current": "436f5d6a-aea5-11e9-ac14-02420a0100a1-3-04c1-ad46-63ab",
     "next": "436f5e14-aea5-11e9-ac14-02420a0100a1-3-3fca-a35a-ee8f",
     "previous": "436f5c84-aea5-11e9-ac14-02420a0100a1-3-2960-a64a-e3be"
    },
    "lc_wrapper": {},
    "scrolled": true
   },
   "outputs": [],
   "source": [
    "!ssh -i {ssh_private_key} -l root {ip_address} /bin/ls -la"
   ]
  },
  {
   "cell_type": "markdown",
   "metadata": {
    "lc_cell_meme": {
     "current": "436f5e14-aea5-11e9-ac14-02420a0100a1-3-3fca-a35a-ee8f",
     "next": "436f5ebe-aea5-11e9-ac14-02420a0100a1-3-8d8e-297c-feba",
     "previous": "436f5d6a-aea5-11e9-ac14-02420a0100a1-3-04c1-ad46-63ab"
    }
   },
   "source": [
    "VCノードにsshでログインするにはsshの引数に以下の指定が必要となります。\n",
    "\n",
    "* sshの identity ファイル(-i)\n",
    "  - `spec`オブジェクトに設定した公開鍵に対応する秘密鍵\n",
    "* ユーザ名(-l)\n",
    "  - `root`\n",
    "* ログイン先のIPアドレス"
   ]
  },
  {
   "cell_type": "markdown",
   "metadata": {
    "lc_cell_meme": {
     "current": "436f5ebe-aea5-11e9-ac14-02420a0100a1-3-8d8e-297c-feba",
     "next": "436f5f68-aea5-11e9-ac14-02420a0100a1-3-3cd8-2611-93b7",
     "previous": "436f5e14-aea5-11e9-ac14-02420a0100a1-3-3fca-a35a-ee8f"
    }
   },
   "source": [
    "sshのオプションを毎回指定するのも煩雑なので変数に設定しておきます。"
   ]
  },
  {
   "cell_type": "code",
   "execution_count": null,
   "metadata": {
    "lc_cell_meme": {
     "current": "436f5f68-aea5-11e9-ac14-02420a0100a1-3-3cd8-2611-93b7",
     "next": "436f601c-aea5-11e9-ac14-02420a0100a1-3-3e9b-a61d-6e94",
     "previous": "436f5ebe-aea5-11e9-ac14-02420a0100a1-3-8d8e-297c-feba"
    },
    "lc_wrapper": {}
   },
   "outputs": [],
   "source": [
    "ssh_opts = f\"-i {ssh_private_key} -l root\""
   ]
  },
  {
   "cell_type": "markdown",
   "metadata": {
    "lc_cell_meme": {
     "current": "436f601c-aea5-11e9-ac14-02420a0100a1-3-3e9b-a61d-6e94",
     "next": "436f60c6-aea5-11e9-ac14-02420a0100a1-3-8520-d991-005d",
     "previous": "436f5f68-aea5-11e9-ac14-02420a0100a1-3-3cd8-2611-93b7"
    }
   },
   "source": [
    "VCノードに対して`uname -a`, `df -h` などを実行してみます。"
   ]
  },
  {
   "cell_type": "code",
   "execution_count": null,
   "metadata": {
    "lc_cell_meme": {
     "current": "436f60c6-aea5-11e9-ac14-02420a0100a1-3-8520-d991-005d",
     "next": "436f61ca-aea5-11e9-ac14-02420a0100a1-3-847f-a925-66e4",
     "previous": "436f601c-aea5-11e9-ac14-02420a0100a1-3-3e9b-a61d-6e94"
    },
    "lc_wrapper": {}
   },
   "outputs": [],
   "source": [
    "!ssh {ssh_opts} {ip_address} uname -a"
   ]
  },
  {
   "cell_type": "code",
   "execution_count": null,
   "metadata": {
    "lc_cell_meme": {
     "current": "436f61ca-aea5-11e9-ac14-02420a0100a1-3-847f-a925-66e4",
     "next": "436f6314-aea5-11e9-ac14-02420a0100a1-3-fa83-4716-821a",
     "previous": "436f60c6-aea5-11e9-ac14-02420a0100a1-3-8520-d991-005d"
    },
    "lc_wrapper": {}
   },
   "outputs": [],
   "source": [
    "!ssh {ssh_opts} {ip_address} df -h"
   ]
  },
  {
   "cell_type": "markdown",
   "metadata": {
    "lc_cell_meme": {
     "current": "436f6314-aea5-11e9-ac14-02420a0100a1-3-fa83-4716-821a",
     "next": "436f63e6-aea5-11e9-ac14-02420a0100a1-3-ef56-2d6b-838e",
     "previous": "436f61ca-aea5-11e9-ac14-02420a0100a1-3-847f-a925-66e4"
    }
   },
   "source": [
    "# GrafanaでVCノードの利用状況を確認する"
   ]
  },
  {
   "cell_type": "markdown",
   "metadata": {
    "lc_cell_meme": {
     "current": "436f63e6-aea5-11e9-ac14-02420a0100a1-3-ef56-2d6b-838e",
     "next": "436f64f4-aea5-11e9-ac14-02420a0100a1-3-3038-147d-048f",
     "previous": "436f6314-aea5-11e9-ac14-02420a0100a1-3-fa83-4716-821a"
    }
   },
   "source": [
    "VCPではVCノードの利用状況(CPU負荷、メモリ使用量、ネットワーク）を確認するためGrafanaのダッシュボードを提供しています。"
   ]
  },
  {
   "cell_type": "markdown",
   "metadata": {
    "lc_cell_meme": {
     "current": "436f64f4-aea5-11e9-ac14-02420a0100a1-3-3038-147d-048f",
     "next": "436f65d0-aea5-11e9-ac14-02420a0100a1-3-1430-11af-6921",
     "previous": "436f63e6-aea5-11e9-ac14-02420a0100a1-3-ef56-2d6b-838e"
    }
   },
   "source": [
    "## Grafanaへのログイン"
   ]
  },
  {
   "cell_type": "markdown",
   "metadata": {
    "lc_cell_meme": {
     "current": "436f65d0-aea5-11e9-ac14-02420a0100a1-3-1430-11af-6921",
     "next": "830a2cbc-981d-11eb-b87f-02420a0100de-1-8440",
     "previous": "436f64f4-aea5-11e9-ac14-02420a0100a1-3-3038-147d-048f"
    }
   },
   "source": [
    "以下のセルを実行して Grafana ダッシュボードを開いてください。\n",
    "\n",
    "最初にログイン画面が表示されるので ユーザ名、パスワードにそれぞれ `admin`, `admin`を入力してください。 "
   ]
  },
  {
   "cell_type": "code",
   "execution_count": null,
   "metadata": {
    "lc_cell_meme": {
     "current": "830a2cbc-981d-11eb-b87f-02420a0100de-1-8440",
     "next": "436f672e-aea5-11e9-ac14-02420a0100a1-3-b9e6-94ad-2fae",
     "previous": "436f65d0-aea5-11e9-ac14-02420a0100a1-3-1430-11af-6921"
    }
   },
   "outputs": [],
   "source": [
    "vcc_ctr = vcp.vcc_info()['host']\n",
    "http_host = vcc_ctr.split(':')[0]\n",
    "grafana_url = \"https://{}/grafana/d/vcp/vcp-metrics?refresh=5s\".format(http_host)\n",
    "print(grafana_url)"
   ]
  },
  {
   "cell_type": "markdown",
   "metadata": {
    "lc_cell_meme": {
     "current": "436f672e-aea5-11e9-ac14-02420a0100a1-3-b9e6-94ad-2fae",
     "next": "436f6832-aea5-11e9-ac14-02420a0100a1-3-c78c-98bc-0d35",
     "previous": "830a2cbc-981d-11eb-b87f-02420a0100de-1-8440"
    }
   },
   "source": [
    "![Grafanaのログイン画面](./images/grafana-login.png)"
   ]
  },
  {
   "cell_type": "markdown",
   "metadata": {
    "lc_cell_meme": {
     "current": "436f6832-aea5-11e9-ac14-02420a0100a1-3-c78c-98bc-0d35",
     "next": "436f690e-aea5-11e9-ac14-02420a0100a1-3-b581-289a-9b9e",
     "previous": "436f672e-aea5-11e9-ac14-02420a0100a1-3-b9e6-94ad-2fae"
    }
   },
   "source": [
    "## 負荷状況のグラフ表示\n",
    "\n",
    "以下のように表示されます。左半分のグラフがBaseコンテナの負荷状況で、右半分がアプリケーションコンテナの負荷状況のグラフです。\n",
    "\n",
    "![負荷状況](./images/grafana-metrics.png)"
   ]
  },
  {
   "cell_type": "markdown",
   "metadata": {
    "lc_cell_meme": {
     "current": "436f690e-aea5-11e9-ac14-02420a0100a1-3-b581-289a-9b9e",
     "next": "436f69c2-aea5-11e9-ac14-02420a0100a1-3-02f0-07e6-e124",
     "previous": "436f6832-aea5-11e9-ac14-02420a0100a1-3-c78c-98bc-0d35"
    }
   },
   "source": [
    "VCノードに負荷をかけるために、アプリケーションコンテナで stress コマンドを実行します。"
   ]
  },
  {
   "cell_type": "code",
   "execution_count": null,
   "metadata": {
    "lc_cell_meme": {
     "current": "436f69c2-aea5-11e9-ac14-02420a0100a1-3-02f0-07e6-e124",
     "next": "436f6a76-aea5-11e9-ac14-02420a0100a1-3-3f29-8f95-55a5",
     "previous": "436f690e-aea5-11e9-ac14-02420a0100a1-3-b581-289a-9b9e"
    },
    "lc_wrapper": {},
    "scrolled": true
   },
   "outputs": [],
   "source": [
    "# 60秒間だけ CPU x 2 とメモリ 128 MB を消費する\n",
    "!ssh {ssh_opts} {ip_address} \\\n",
    "    /usr/local/bin/docker run -td --rm --name stress-0 polinux/stress \\\n",
    "    stress --cpu 2 --io 1 --vm 2 --vm-bytes 128M --timeout 60s --verbose"
   ]
  },
  {
   "cell_type": "markdown",
   "metadata": {
    "heading_collapsed": true,
    "lc_cell_meme": {
     "current": "436f6a76-aea5-11e9-ac14-02420a0100a1-3-3f29-8f95-55a5",
     "next": "436f6b20-aea5-11e9-ac14-02420a0100a1-3-d499-e192-4330",
     "previous": "436f69c2-aea5-11e9-ac14-02420a0100a1-3-02f0-07e6-e124"
    }
   },
   "source": [
    "# 全てのVCノードを削除する"
   ]
  },
  {
   "cell_type": "markdown",
   "metadata": {
    "hidden": true,
    "lc_cell_meme": {
     "current": "436f6b20-aea5-11e9-ac14-02420a0100a1-3-d499-e192-4330",
     "next": "436f6bd4-aea5-11e9-ac14-02420a0100a1-3-9782-c15d-08c4",
     "previous": "436f6a76-aea5-11e9-ac14-02420a0100a1-3-3f29-8f95-55a5"
    }
   },
   "source": [
    "ここまで作成した全てのリソース（UnitGroup, Unit、VCノード）を削除します。この操作を行うことで AWS EC2インスタンスやAzure VMなどのクラウドに作成したリソースが削除されます。\n",
    "\n",
    "> 全てのリソースの削除には 4～5分程度かかります。"
   ]
  },
  {
   "cell_type": "code",
   "execution_count": null,
   "metadata": {
    "hidden": true,
    "lc_cell_meme": {
     "current": "436f6bd4-aea5-11e9-ac14-02420a0100a1-3-9782-c15d-08c4",
     "next": "436f6c7e-aea5-11e9-ac14-02420a0100a1-3-f62f-b1f7-8a40",
     "previous": "436f6b20-aea5-11e9-ac14-02420a0100a1-3-d499-e192-4330"
    },
    "scrolled": true
   },
   "outputs": [],
   "source": [
    "unit_group.cleanup()"
   ]
  },
  {
   "cell_type": "markdown",
   "metadata": {
    "hidden": true,
    "lc_cell_meme": {
     "current": "436f6c7e-aea5-11e9-ac14-02420a0100a1-3-f62f-b1f7-8a40",
     "next": "436f6d28-aea5-11e9-ac14-02420a0100a1-3-0466-a9fb-0cef",
     "previous": "436f6bd4-aea5-11e9-ac14-02420a0100a1-3-9782-c15d-08c4"
    }
   },
   "source": [
    "削除後の状態を確認してみます。"
   ]
  },
  {
   "cell_type": "code",
   "execution_count": null,
   "metadata": {
    "hidden": true,
    "lc_cell_meme": {
     "current": "436f6d28-aea5-11e9-ac14-02420a0100a1-3-0466-a9fb-0cef",
     "next": null,
     "previous": "436f6c7e-aea5-11e9-ac14-02420a0100a1-3-f62f-b1f7-8a40"
    },
    "scrolled": true
   },
   "outputs": [],
   "source": [
    "# UnitGroupの一覧を DataFrame で表示する\n",
    "vcp.df_ugroups()"
   ]
  }
 ],
 "metadata": {
  "kernelspec": {
   "display_name": "Python 3",
   "language": "python",
   "name": "python3"
  },
  "language_info": {
   "file_extension": ".py",
   "mimetype": "text/x-python",
   "name": "python",
   "nbconvert_exporter": "python",
   "pygments_lexer": "ipython3",
   "version": "3.8.6"
  },
  "toc": {
   "base_numbering": 1,
   "nav_menu": {},
   "number_sections": true,
   "sideBar": true,
   "skip_h1_title": false,
   "title_cell": "Table of Contents",
   "title_sidebar": "Contents",
   "toc_cell": false,
   "toc_position": {
    "height": "826px",
    "left": "0px",
    "right": "1202px",
    "top": "111px",
    "width": "219px"
   },
   "toc_section_display": "block",
   "toc_window_display": true
  }
 },
 "nbformat": 4,
 "nbformat_minor": 2
}
