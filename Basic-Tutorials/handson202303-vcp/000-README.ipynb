{
 "cells": [
  {
   "cell_type": "markdown",
   "metadata": {
    "heading_collapsed": true,
    "lc_cell_meme": {
     "current": "07962592-e649-11ec-aa2d-02420a010016",
     "next": "07962678-e649-11ec-aa2d-02420a010016",
     "previous": null
    }
   },
   "source": [
    "# 実行環境の前提条件\n",
    "\n",
    "本ディレクトリ配下にあるノートブック実行環境の前提となるソフトウェアのバージョン情報などは以下のとおりです。"
   ]
  },
  {
   "cell_type": "markdown",
   "metadata": {
    "hidden": true,
    "lc_cell_meme": {
     "current": "07962678-e649-11ec-aa2d-02420a010016",
     "next": "07962722-e649-11ec-aa2d-02420a010016",
     "previous": "07962592-e649-11ec-aa2d-02420a010016"
    }
   },
   "source": [
    "* Notebook環境\n",
    "  - [Jupyter Notebook for Literate Computing for Reproducible Infrastructure](https://github.com/NII-cloud-operation/Jupyter-LC_docker)\n",
    "* VCP SDK\n",
    "  - バージョン: 21.04.0\n",
    "* Python\n",
    "  - 3.7\n",
    "* クラウドプロバイダ\n",
    "  - AWS\n",
    "  - Microsoft Azure"
   ]
  },
  {
   "cell_type": "markdown",
   "metadata": {
    "heading_collapsed": true,
    "lc_cell_meme": {
     "current": "07962722-e649-11ec-aa2d-02420a010016",
     "next": "d1850d76-e6cd-11ec-b487-02420a01007e",
     "previous": "07962678-e649-11ec-aa2d-02420a010016"
    }
   },
   "source": [
    "# VCP SDK の利用にあたって\n",
    "\n",
    "VCP SDK を使ったチュートリアル用ノートブックを利用するために知っておいたほうがよい概念や仕組みについて説明します。"
   ]
  },
  {
   "cell_type": "markdown",
   "metadata": {
    "hidden": true,
    "lc_cell_meme": {
     "current": "d1850d76-e6cd-11ec-b487-02420a01007e",
     "next": "079627cc-e649-11ec-aa2d-02420a010016",
     "previous": "07962722-e649-11ec-aa2d-02420a010016"
    }
   },
   "source": [
    "## オンデマンド構築サービスと VCP  (Virtual Cloud Provider) \n",
    "\n",
    "オンデマンド構築サービスでは、マルチクラウドを対象とした計算資源などを楽に管理するために VCP (Virtual Cloud Provider) というソフトウェアを開発し、使用しています。\n",
    "\n",
    "この VCP といくつかの関連ソフトウェアを組み合わせた構成で、仮想クラウドコントローラ (VCコントローラ) を提供しています。\n",
    "\n",
    "- 構築・管理ソフトウェア VCP \n",
    "  * クラウドプロバイダごとの API を抽象化し、制御・管理を容易にするソフトウェア\n",
    "\n",
    "- オンデマンド構築機能\n",
    "  * VCP と関連ソフトウェアを組み合わせた「 Virtual Cloud (VC) コントローラ」を提供\n",
    "\n",
    "- VCコントローラの主な役割\n",
    "  * クラウドAPI操作\n",
    "  * クラウド(間)ネットワーク接続（仮想ルータ）\n",
    "  * Dockerコンテナでのアプリケーション配備\n",
    "  * アプリケーション実行環境のモニタリング\n",
    "\n",
    "![](../vcp-expert/media/ocs-figure_01.png)"
   ]
  },
  {
   "cell_type": "markdown",
   "metadata": {
    "hidden": true,
    "lc_cell_meme": {
     "current": "079627cc-e649-11ec-aa2d-02420a010016",
     "next": "0796286c-e649-11ec-aa2d-02420a010016",
     "previous": "d1850d76-e6cd-11ec-b487-02420a01007e"
    }
   },
   "source": [
    "## VCP のサービスインターフェース\n",
    "\n",
    "VCPは2種類のサービスインターフェースを提供しています。\n",
    "\n",
    "- VCP REST API\n",
    "  * 詳細な構築・管理が可能な REST インタフェース\n",
    "  * YAML形式でクラウド構成情報を記述してPOST\n",
    "\n",
    "- VCP SDK\n",
    "  * Python3 ベースの開発キット\n",
    "  * upyter Notebook 環境からの利用も可能"
   ]
  },
  {
   "cell_type": "markdown",
   "metadata": {
    "hidden": true,
    "lc_cell_meme": {
     "current": "0796286c-e649-11ec-aa2d-02420a010016",
     "next": "0796290c-e649-11ec-aa2d-02420a010016",
     "previous": "079627cc-e649-11ec-aa2d-02420a010016"
    }
   },
   "source": [
    "## VCP SDK\n",
    "\n",
    "  ![VCP SDK](images/000-003.png)\n",
    "\n",
    "* VCPを操作するための Python3 ライブラリ\n",
    "* VCコントローラの REST API に対するラッパーライブラリ(vcplib)を呼び出している\n",
    "* クラウドごとの制御APIの差異を吸収\n",
    "* 仮想マシン(Amazon EC2インスタンス, Microsoft Azure VM, ...)などの計算資源と、Amazon EBS, Microsoft Azure Managed Disksなどの記録媒体を作成、削除することができる"
   ]
  },
  {
   "cell_type": "markdown",
   "metadata": {
    "hidden": true,
    "lc_cell_meme": {
     "current": "0796290c-e649-11ec-aa2d-02420a010016",
     "next": "079629b6-e649-11ec-aa2d-02420a010016",
     "previous": "0796286c-e649-11ec-aa2d-02420a010016"
    },
    "vcp_tutorial": {
     "url": "view/DOC/index.html"
    }
   },
   "source": [
    "<!---\n",
    "VCP SDK の詳細については「[VCPSDK APIドキュメント](/handson/view/DOC/index.html)」から確認できます。\n",
    "--->"
   ]
  },
  {
   "cell_type": "markdown",
   "metadata": {
    "hidden": true,
    "lc_cell_meme": {
     "current": "079629b6-e649-11ec-aa2d-02420a010016",
     "next": "07962a4c-e649-11ec-aa2d-02420a010016",
     "previous": "0796290c-e649-11ec-aa2d-02420a010016"
    }
   },
   "source": [
    "## 基本的な構成要素\n",
    "\n",
    "VCP SDK が扱う構成要素を以下に記します。\n",
    "\n",
    "* VC (Virtual Cloud)\n",
    "  - 複数のクラウドにまたがって構築されたひとつの仮想システム環境\n",
    "* UnitGroup\n",
    "  - 複数のUnitをまとめて扱うためのものです\n",
    "  - サーバ、クライアントなどの相互に関係をもつ異質なNode群をグループとしてまとめます\n",
    "  - `compute` と `storage` の2つのタイプがあります\n",
    "    + `compute` は仮想マシンなどの計算資源で構成されています\n",
    "    + `storage` はブロックデバイスなどの記録媒体で構成されています\n",
    "* Unit\n",
    "  - 同質（同じ計算資源(cpu, memory, ...)、同じクラウド、同じ用途、...）であるNodeをまとめて扱うためのものです\n",
    "  - Unitに属するNodeをスケールアウト、スケールインすることができます\n",
    "* Node\n",
    "  - UnitGroupを構成する個々のノード\n",
    "  - UnitGroupのタイプが `compute`の場合\n",
    "    - [Amazon EC2インスタンス](https://aws.amazon.com/jp/ec2/), [Microsoft Azure VM](https://azure.microsoft.com/ja-jp/services/virtual-machines/) など\n",
    "    - VCP SDKではこのNodeをVCノードと呼びます\n",
    "  - UnitGroupのタイプが `storage`の場合\n",
    "    - [Amazon EBS](https://aws.amazon.com/jp/ebs/), [Microsoft Azure Managed Disks](https://azure.microsoft.com/ja-jp/services/storage/disks/) など\n",
    "    - VCP SDKではこのNodeをVCディスクと呼びます\n",
    "\n",
    "VC, UnitGroup, Unit の例を以下の図に示します。\n",
    "\n",
    "![VCP](images/000-001.png)"
   ]
  },
  {
   "cell_type": "markdown",
   "metadata": {
    "hidden": true,
    "lc_cell_meme": {
     "current": "07962a4c-e649-11ec-aa2d-02420a010016",
     "next": "07962ae2-e649-11ec-aa2d-02420a010016",
     "previous": "079629b6-e649-11ec-aa2d-02420a010016"
    }
   },
   "source": [
    "* UnitGroup1: ３つの Unit から構成されている `compute` タイプのUnitGroup\n",
    "  - Unit1A\n",
    "    * Amazon EC2 m5.large インスタンスで構成されている Unit\n",
    "  - Unit1B\n",
    "    * Amazon EC2 c5.large インスタンスで構成されている Unit\n",
    "  - Unit1C\n",
    "    * Microsoft Azure VM NV6 で構成されている Unit\n",
    "* UnitGroup2: ３つの Unit から構成されている compute タイプのUnitGroup\n",
    "  - Unit2A\n",
    "    * Amazon EC2 m5.large で構成されている Unit\n",
    "  - Unit2B\n",
    "    * Amazon EC2 m5.large で構成されている Unit\n",
    "  - Unit2C\n",
    "    * Microsoft Azure VM D2 v3 で構成されている Unit\n",
    "* UnitGroup3: １つの Unit から構成されている storage タイプのUnitGroup\n",
    "  - Unit3\n",
    "    * Amazon EBS から構成されている Unit"
   ]
  },
  {
   "cell_type": "markdown",
   "metadata": {
    "hidden": true,
    "lc_cell_meme": {
     "current": "07962ae2-e649-11ec-aa2d-02420a010016",
     "next": "07962d4e-e649-11ec-aa2d-02420a010016",
     "previous": "07962a4c-e649-11ec-aa2d-02420a010016"
    }
   },
   "source": [
    "## VCノードについて\n",
    "\n",
    "VCPの計算資源として利用できる環境はパブリッククラウドの仮想マシン(Amazon EC2, Microsoft Azure VM, ...)やベアメタル(BM)など多岐にわたっています。VCPではそのいずれに対しても同一の環境を提供できるようにするために[Docker コンテナ](https://www.docker.com/)を利用しています。\n",
    "\n",
    "クラウド上のVM/BMをVCノードとして組み入れる際にVCPが各VM/BMに共通環境となるコンテナを起動します。VCPではこのコンテナのことを **Baseコンテナ** と呼んでいます。またBaseコンテナはVCノードのモニタリングなどのVCPの共通機能を提供するための役割も担っています。\n",
    "\n",
    "![BC](images/000-002.png)\n",
    "\n",
    "標準のBaseコンテナは以下のような特徴を有しています。\n",
    "\n",
    "* [Alpine Linux コンテナ](https://hub.docker.com/_/alpine/)\n",
    "* sshでログイン可能\n",
    "* docker 実行環境(Docker in Docker)\n",
    "\n",
    "標準のBaseコンテナは Alpine Linuxベースですが、他に Ubuntuベース、CentOSベースのものも用意しています。\n",
    "また汎用的なBaseコンテナ以外にNFSサーバやGPU利用などの特定目的をもったBaseコンテナを用意しています。"
   ]
  },
  {
   "cell_type": "markdown",
   "metadata": {
    "heading_collapsed": true,
    "lc_cell_meme": {
     "current": "07962d4e-e649-11ec-aa2d-02420a010016",
     "next": "07962df8-e649-11ec-aa2d-02420a010016",
     "previous": "07962ae2-e649-11ec-aa2d-02420a010016"
    }
   },
   "source": [
    "# ハンズオン環境へのアクセス\n",
    "\n",
    "ハンズオン環境のポータルサイトは、[JupyterHub](https://jupyter.org/hub) に講義演習のためのモジュール群を追加した形で NII のクラウド運用チームにより開発された [CoursewareHub](https://github.com/NII-cloud-operation/CoursewareHub-LC_platform) を使用して構築されています。"
   ]
  },
  {
   "cell_type": "markdown",
   "metadata": {
    "hidden": true,
    "lc_cell_meme": {
     "current": "07962df8-e649-11ec-aa2d-02420a010016",
     "next": "6120d6a6-e6d6-11ec-b487-02420a01007e",
     "previous": "07962d4e-e649-11ec-aa2d-02420a010016"
    }
   },
   "source": [
    "## システム構成\n",
    "\n",
    "ハンズオンのNotebook環境はNIIのCoursewareHub上にあり、VCコントローラやVCノードにはAWSのパブリックサブネットに配置したNATインスタンスのリバースプロキシ(Nginx)を経由してアクセスできるように設定されています。\n",
    "\n",
    "VCP SDKによって起動されるVCノードはプライベートサブネットに配置されます。\n",
    "\n",
    "![ハンズオン環境](images/000-004-handson.png)"
   ]
  },
  {
   "attachments": {},
   "cell_type": "markdown",
   "metadata": {
    "hidden": true,
    "lc_cell_meme": {
     "current": "6120d6a6-e6d6-11ec-b487-02420a01007e",
     "next": "07962f2e-e649-11ec-aa2d-02420a010016",
     "previous": "07962df8-e649-11ec-aa2d-02420a010016"
    }
   },
   "source": [
    "## VCコントローラ利用者の認証\n",
    "\n",
    "VCP SDK を使ってVCコントローラにアクセスする際、アクセストークンで各利用者を認証します。\n",
    "\n",
    "- オンデマンド構築サービスにおいては、VCコントローラの管理者用Web UIから利用者用のアクセストークンを払い出すことができます。\n",
    "  - 管理者用Web UIの認証には、[学認 (GakuNin)](https://www.gakunin.jp/) を利用\n",
    "\n",
    "----\n",
    "- **ハンズオン環境では、事前に発行済のトークンを使用します。** ⇒ハンズオン用トークンファイルはこちら [token.txt](../../../files/token.txt)"
   ]
  },
  {
   "cell_type": "markdown",
   "metadata": {
    "heading_collapsed": true,
    "lc_cell_meme": {
     "current": "07962f2e-e649-11ec-aa2d-02420a010016",
     "next": "07962fd8-e649-11ec-aa2d-02420a010016",
     "previous": "6120d6a6-e6d6-11ec-b487-02420a01007e"
    }
   },
   "source": [
    "# 準備\n",
    "\n",
    "この後に実行するNotebookで必要となる準備作業を行います。"
   ]
  },
  {
   "cell_type": "markdown",
   "metadata": {
    "hidden": true,
    "lc_cell_meme": {
     "current": "07962fd8-e649-11ec-aa2d-02420a010016",
     "next": "0796306e-e649-11ec-aa2d-02420a010016",
     "previous": "07962f2e-e649-11ec-aa2d-02420a010016"
    }
   },
   "source": [
    "## SSH公開鍵認証のための鍵ファイル作成\n",
    "\n",
    "作成したSSHの鍵ファイルはこのNotebook環境からVCノードにログインする際に利用します。\n",
    "\n",
    "次のセルを実行してください。"
   ]
  },
  {
   "cell_type": "code",
   "execution_count": null,
   "metadata": {
    "hidden": true,
    "lc_cell_meme": {
     "current": "0796306e-e649-11ec-aa2d-02420a010016",
     "next": "07963104-e649-11ec-aa2d-02420a010016",
     "previous": "07962fd8-e649-11ec-aa2d-02420a010016"
    },
    "lc_wrapper": {}
   },
   "outputs": [],
   "source": [
    "!mkdir -p -m 700 ~/.ssh\n",
    "!touch ~/.ssh/known_hosts && chmod 600 ~/.ssh/known_hosts\n",
    "!test -f ~/.ssh/id_rsa || ssh-keygen -t rsa -f ~/.ssh/id_rsa -N \"\"\n",
    "!ls -la ~/.ssh"
   ]
  },
  {
   "cell_type": "markdown",
   "metadata": {
    "hidden": true,
    "lc_cell_meme": {
     "current": "07963104-e649-11ec-aa2d-02420a010016",
     "next": "079631a4-e649-11ec-aa2d-02420a010016",
     "previous": "0796306e-e649-11ec-aa2d-02420a010016"
    }
   },
   "source": [
    "## 利用するクラウドのクレデンシャル設定\n",
    "\n",
    "次に、クラウドプロバイダのクレデンシャル情報を秘密情報管理サーバ (Vaultサーバ) に書き込みます。設定したクレデンシャル情報は、これから実行するNotebookでのクラウドプロバイダ操作に使用されます。\n",
    "\n",
    "JupyterNotebook の Terminal 上で、以下のコマンドを **コピー＆ペースト** して実行します。\n",
    "\n",
    "```\n",
    "sh vault.sh $(cat token.txt)\n",
    "```\n",
    "\n",
    "- `vault.sh` スクリプトは、VCP の認証に必要なトークンに関連付けてクレデンシャル情報を Vault サーバに保存します。\n",
    "- ハンズオン用トークンファイルはこちらにあります→ [token.txt](../../../files/token.txt)\n",
    "\n",
    "以下のセルを実行すると、JupyterNotebook の Terminal を開くためにリンクが作成されます。"
   ]
  },
  {
   "cell_type": "code",
   "execution_count": null,
   "metadata": {
    "hidden": true,
    "lc_cell_meme": {
     "current": "079631a4-e649-11ec-aa2d-02420a010016",
     "next": "07963244-e649-11ec-aa2d-02420a010016",
     "previous": "07963104-e649-11ec-aa2d-02420a010016"
    },
    "lc_wrapper": {}
   },
   "outputs": [],
   "source": [
    "user = !whoami\n",
    "\n",
    "from IPython.display import HTML\n",
    "HTML('<a target=\"_blank\" href=\"/user/{}/terminals/1\">Open Terminal</a>'.format(user[0]))"
   ]
  },
  {
   "cell_type": "markdown",
   "metadata": {
    "heading_collapsed": true,
    "lc_cell_meme": {
     "current": "07963244-e649-11ec-aa2d-02420a010016",
     "next": "0796337a-e649-11ec-aa2d-02420a010016",
     "previous": "079631a4-e649-11ec-aa2d-02420a010016"
    }
   },
   "source": [
    "# Notebook一覧\n",
    "\n",
    "次のセルを実行するとNotebookの一覧が表示されます。\n",
    "\n",
    "<!---\n",
    "生成するには\n",
    "```\n",
    "from IPython.display import SVG\n",
    "%run scripts/generate-diagram.py\n",
    "SVG(filename=generate_svg_diag(diag='images/notebooks.diag', nb_dir='.', verbose=False))\n",
    "```\n",
    "--->"
   ]
  },
  {
   "cell_type": "code",
   "execution_count": null,
   "metadata": {
    "hidden": true,
    "lc_cell_meme": {
     "current": "0796337a-e649-11ec-aa2d-02420a010016",
     "next": null,
     "previous": "07963244-e649-11ec-aa2d-02420a010016"
    },
    "lc_wrapper": {}
   },
   "outputs": [],
   "source": [
    "from IPython.core.display import SVG\n",
    "SVG(filename='images/notebooks.svg')"
   ]
  }
 ],
 "metadata": {
  "kernelspec": {
   "display_name": "Python 3",
   "language": "python",
   "name": "python3"
  },
  "language_info": {
   "file_extension": ".py",
   "mimetype": "text/x-python",
   "name": "python",
   "nbconvert_exporter": "python",
   "pygments_lexer": "ipython3",
   "version": "3.7.6"
  },
  "toc": {
   "base_numbering": 1,
   "nav_menu": {},
   "number_sections": true,
   "sideBar": true,
   "skip_h1_title": false,
   "title_cell": "Table of Contents",
   "title_sidebar": "Contents",
   "toc_cell": false,
   "toc_position": {},
   "toc_section_display": "block",
   "toc_window_display": true
  }
 },
 "nbformat": 4,
 "nbformat_minor": 2
}
