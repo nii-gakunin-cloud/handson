{
 "cells": [
  {
   "cell_type": "markdown",
   "metadata": {
    "lc_cell_meme": {
     "current": "7ed14e68-e647-11ec-b295-02420a010016-5-2476-ea56-1a93-568d-7f1f",
     "next": "7ed14f62-e647-11ec-b295-02420a010016-5-2774-aa92-e498-2fd6-8caf",
     "previous": null
    }
   },
   "source": [
    "# The Littlest JupyterHub による軽量Python実習環境の構築\n",
    "\n",
    "[JupyterHub](https://jupyter.org/hub) は、Webブラウザからアクセス可能なマルチユーザ対応の認証機能付きJupyterNotebookサーバです。\n",
    "\n",
    "JupyterHubを利用して管理者が用意したNotebookをユーザがブラウザからすぐに実行可能な環境を提供できるため、Pythonによるプログラミング研修やワークショップを開催したり、講義演習環境として活用したりするのに適しています。\n",
    "\n",
    "このハンズオンでは、JupyterHubを小規模なグループで手軽に利用することを想定し、単一のサーバで実行するために開発された「[The Littlest JupyterHub](https://tljh.jupyter.org/)」（以下 “TLJH” と略）をVCPを用いて構築します。  \n",
    "\n",
    "構築したTLJH環境の操作はWebブラウザ経由で行うことになります。構築するVCノードにブラウザからアクセスできるように事前にネットワークを設定する必要がありますが、ハンズオン環境では事前に設定済みです。\n",
    "\n",
    "![](images/403-overview.png)"
   ]
  },
  {
   "cell_type": "markdown",
   "metadata": {
    "heading_collapsed": true,
    "lc_cell_meme": {
     "current": "7ed14f62-e647-11ec-b295-02420a010016-5-2774-aa92-e498-2fd6-8caf",
     "next": "7ed1500c-e647-11ec-b295-02420a010016-5-7e22-fdfa-aeb4-a962-4345",
     "previous": "7ed14e68-e647-11ec-b295-02420a010016-5-2476-ea56-1a93-568d-7f1f"
    }
   },
   "source": [
    "## 構築環境情報の入力\n",
    "TLJH環境の構築情報を入力します。必要に応じ、下記の情報を修正してください。\n",
    "\n",
    "**★ハンズオンでは以下のパラメータを変更しないでください★**"
   ]
  },
  {
   "cell_type": "code",
   "execution_count": null,
   "metadata": {
    "hidden": true,
    "lc_cell_meme": {
     "current": "7ed1500c-e647-11ec-b295-02420a010016-5-7e22-fdfa-aeb4-a962-4345",
     "next": "1efb67f6-f485-11ed-a3d2-02420a010062-2-ed9f-c24f",
     "previous": "7ed14f62-e647-11ec-b295-02420a010016-5-2774-aa92-e498-2fd6-8caf"
    },
    "lc_wrapper": {}
   },
   "outputs": [],
   "source": [
    "# UnitGroup名\n",
    "ugroup_name = 'TLJH_template'\n",
    "\n",
    "# プロバイダ\n",
    "vc_provider = 'aws'\n",
    "\n",
    "# フレーバー\n",
    "vcnode_flavor = 'small'\n",
    "\n",
    "# VCノードに付与する固定IPアドレス\n",
    "fixed_ipaddress = '172.30.2.201'\n",
    "\n",
    "# VCノードのディスクサイズ (単位: GB)\n",
    "volume_size = 32\n",
    "\n",
    "# TLJH管理者ユーザ名とパスワードの指定\n",
    "admin_user = 'admin-user01'\n",
    "admin_password = 'admin-user01'"
   ]
  },
  {
   "cell_type": "markdown",
   "metadata": {
    "hidden": true,
    "lc_cell_meme": {
     "current": "1efb67f6-f485-11ed-a3d2-02420a010062-2-ed9f-c24f",
     "next": "7ed1500c-e647-11ec-b295-02420a010016-6-7e22-fdfa-aeb4-792c-76df-5d07",
     "previous": "7ed1500c-e647-11ec-b295-02420a010016-5-7e22-fdfa-aeb4-a962-4345"
    }
   },
   "source": [
    "GPUを搭載したVCノードを確保するために、以下のspec設定を追加します\n",
    "\n",
    "> (参考) [OCSユーザマニュアル > GPU利用について](https://nii-gakunin-cloud.github.io/ocs-docs/usermanual/201_manual.html)"
   ]
  },
  {
   "cell_type": "code",
   "execution_count": null,
   "metadata": {
    "hidden": true,
    "lc_cell_meme": {
     "current": "7ed1500c-e647-11ec-b295-02420a010016-6-7e22-fdfa-aeb4-792c-76df-5d07",
     "next": "7ed150a2-e647-11ec-b295-02420a010016-5-8bb5-4e0b-e337-dd21-06e6",
     "previous": "1efb67f6-f485-11ed-a3d2-02420a010062-2-ed9f-c24f"
    },
    "lc_wrapper": {}
   },
   "outputs": [],
   "source": [
    "# GPU利用可能なインスタンスタイプを指定\n",
    "vcnode_instance_type = 'g3s.xlarge'\n",
    "\n",
    "# GPU利用可能なクラウドのマシンイメージを指定\n",
    "vcnode_cloud_image = 'niivcp-22.04.0-x86_64-ubuntu20.04-gpu-a-r3.3'\n",
    "\n",
    "# BaseコンテナとしてGPU利用可能かつTLJHインストール済みのイメージを指定\n",
    "vcnode_image = 'public.ecr.aws/niivcp/vcp/tljh:gpu-20230506'\n",
    "vcnode_params_v = ['/sys/fs/cgroup:/sys/fs/cgroup:ro'] "
   ]
  },
  {
   "cell_type": "markdown",
   "metadata": {
    "heading_collapsed": true,
    "lc_cell_meme": {
     "current": "7ed150a2-e647-11ec-b295-02420a010016-5-8bb5-4e0b-e337-dd21-06e6",
     "next": "7ed15142-e647-11ec-b295-02420a010016-5-409f-1db4-8551-cd84-e45a",
     "previous": "7ed1500c-e647-11ec-b295-02420a010016-6-7e22-fdfa-aeb4-792c-76df-5d07"
    }
   },
   "source": [
    "## VCノードの作成\n",
    "\n",
    "はじめに、アプリケーションVCP を利用するために必要なアクセストークンを入力し、VCP SDK を初期化します。"
   ]
  },
  {
   "cell_type": "markdown",
   "metadata": {
    "hidden": true,
    "lc_cell_meme": {
     "current": "7ed15142-e647-11ec-b295-02420a010016-5-409f-1db4-8551-cd84-e45a",
     "next": "7ed151ec-e647-11ec-b295-02420a010016-5-4299-af5b-3184-e158-f01b",
     "previous": "7ed150a2-e647-11ec-b295-02420a010016-5-8bb5-4e0b-e337-dd21-06e6"
    }
   },
   "source": [
    "### アクセストークンの入力\n",
    "\n",
    "OCSハンズオン用トークンはこちら→ [token.txt](../../../files/token.txt)"
   ]
  },
  {
   "cell_type": "code",
   "execution_count": null,
   "metadata": {
    "hidden": true,
    "lc_cell_meme": {
     "current": "7ed151ec-e647-11ec-b295-02420a010016-5-4299-af5b-3184-e158-f01b",
     "next": "7ed15278-e647-11ec-b295-02420a010016-5-c63e-4440-c1c3-5291-c9fd",
     "previous": "7ed15142-e647-11ec-b295-02420a010016-5-409f-1db4-8551-cd84-e45a"
    },
    "lc_wrapper": {}
   },
   "outputs": [],
   "source": [
    "from getpass import getpass\n",
    "vcc_access_token = getpass()"
   ]
  },
  {
   "cell_type": "markdown",
   "metadata": {
    "hidden": true,
    "lc_cell_meme": {
     "current": "7ed15278-e647-11ec-b295-02420a010016-5-c63e-4440-c1c3-5291-c9fd",
     "next": "7ed1530e-e647-11ec-b295-02420a010016-5-05bf-eefa-d41e-4f2b-7041",
     "previous": "7ed151ec-e647-11ec-b295-02420a010016-5-4299-af5b-3184-e158-f01b"
    }
   },
   "source": [
    "### VCP の初期化\n",
    "VCP を初期化します。エラーになった場合、この章のセルを `unfreeze` してから、もう一度アクセストークンを入力してください。"
   ]
  },
  {
   "cell_type": "code",
   "execution_count": null,
   "metadata": {
    "hidden": true,
    "lc_cell_meme": {
     "current": "7ed1530e-e647-11ec-b295-02420a010016-5-05bf-eefa-d41e-4f2b-7041",
     "next": "7ed153ae-e647-11ec-b295-02420a010016-5-8baa-0f66-d05d-573d-c7a4",
     "previous": "7ed15278-e647-11ec-b295-02420a010016-5-c63e-4440-c1c3-5291-c9fd"
    },
    "lc_wrapper": {}
   },
   "outputs": [],
   "source": [
    "from common import logsetting\n",
    "from vcpsdk.vcpsdk import VcpSDK\n",
    "\n",
    "# VCP SDKの初期化\n",
    "vcp = VcpSDK(vcc_access_token)"
   ]
  },
  {
   "cell_type": "markdown",
   "metadata": {
    "hidden": true,
    "lc_cell_meme": {
     "current": "7ed153ae-e647-11ec-b295-02420a010016-5-8baa-0f66-d05d-573d-c7a4",
     "next": "7ed15444-e647-11ec-b295-02420a010016-5-65ae-bd04-44d5-065d-f562",
     "previous": "7ed1530e-e647-11ec-b295-02420a010016-5-05bf-eefa-d41e-4f2b-7041"
    }
   },
   "source": [
    "### TLJH を実行するVCノードの作成\n",
    "\n",
    "クラウド上のインスタンスをVCノードとして作成します。"
   ]
  },
  {
   "cell_type": "markdown",
   "metadata": {
    "hidden": true,
    "lc_cell_meme": {
     "current": "7ed15444-e647-11ec-b295-02420a010016-5-65ae-bd04-44d5-065d-f562",
     "next": "7ed154e4-e647-11ec-b295-02420a010016-5-8285-efb1-9821-803e-c842",
     "previous": "7ed153ae-e647-11ec-b295-02420a010016-5-8baa-0f66-d05d-573d-c7a4"
    }
   },
   "source": [
    " ### VCノードのspecを指定する\n",
    " \n",
    "TLJH を利用するのに十分な性能・容量のノードspecを指定します。  "
   ]
  },
  {
   "cell_type": "code",
   "execution_count": null,
   "metadata": {
    "hidden": true,
    "lc_cell_meme": {
     "current": "7ed154e4-e647-11ec-b295-02420a010016-5-8285-efb1-9821-803e-c842",
     "next": "7ed15570-e647-11ec-b295-02420a010016-5-eaf5-de88-b546-6659-46d6",
     "previous": "7ed15444-e647-11ec-b295-02420a010016-5-65ae-bd04-44d5-065d-f562"
    },
    "lc_wrapper": {}
   },
   "outputs": [],
   "source": [
    "# UnitGroup の作成\n",
    "unit_group = vcp.create_ugroup(ugroup_name)\n",
    "\n",
    "# VCノード spec\n",
    "spec = vcp.get_spec(vc_provider, vcnode_flavor)\n",
    "\n",
    "# spec オプション (ディスクサイズ 単位:GB)\n",
    "spec.volume_size = volume_size\n",
    "\n",
    "# spec オプション (固定割当IPアドレス)\n",
    "spec.ip_addresses = [fixed_ipaddress]\n",
    "\n",
    "# ssh keyfiles\n",
    "import os\n",
    "ssh_public_key = os.path.expanduser('~/.ssh/id_rsa.pub')\n",
    "spec.set_ssh_pubkey(ssh_public_key)\n",
    "\n",
    "# インスタンスタイプ\n",
    "spec.instance_type = vcnode_instance_type\n",
    "\n",
    "# マシンイメージ\n",
    "spec.cloud_image = vcnode_cloud_image\n",
    "\n",
    "# Baseコンテナ\n",
    "spec.image = vcnode_image\n",
    "spec.params_v = vcnode_params_v"
   ]
  },
  {
   "cell_type": "markdown",
   "metadata": {
    "hidden": true,
    "lc_cell_meme": {
     "current": "7ed15570-e647-11ec-b295-02420a010016-5-eaf5-de88-b546-6659-46d6",
     "next": "7ed15610-e647-11ec-b295-02420a010016-5-5282-a1a3-d54b-f62e-049e",
     "previous": "7ed154e4-e647-11ec-b295-02420a010016-5-8285-efb1-9821-803e-c842"
    }
   },
   "source": [
    "### Unitの作成とVCノードの起動\n",
    "Unitを作成します。Unitを作成すると同時に VCノード（ここでは Amazon EC2インスタンス）が起動します。処理が完了するまで10分程度かかります。"
   ]
  },
  {
   "cell_type": "code",
   "execution_count": null,
   "metadata": {
    "hidden": true,
    "lc_cell_meme": {
     "current": "7ed15610-e647-11ec-b295-02420a010016-5-5282-a1a3-d54b-f62e-049e",
     "next": "7ed156b0-e647-11ec-b295-02420a010016-5-7920-77c6-9324-db40-dae6",
     "previous": "7ed15570-e647-11ec-b295-02420a010016-5-eaf5-de88-b546-6659-46d6"
    },
    "lc_wrapper": {}
   },
   "outputs": [],
   "source": [
    "# Unitの作成（同時に VCノードが作成される）\n",
    "unit = unit_group.create_unit('tljh-node', spec)"
   ]
  },
  {
   "cell_type": "markdown",
   "metadata": {
    "hidden": true,
    "lc_cell_meme": {
     "current": "7ed156b0-e647-11ec-b295-02420a010016-5-7920-77c6-9324-db40-dae6",
     "next": "7ed1573c-e647-11ec-b295-02420a010016-5-f3ca-74fb-31f8-77f0-cf0f",
     "previous": "7ed15610-e647-11ec-b295-02420a010016-5-5282-a1a3-d54b-f62e-049e"
    }
   },
   "source": [
    "### 疎通確認\n",
    "\n",
    "まず、ssh の `known_hosts` の設定を行います。\n",
    "\n",
    "その後、VCノードに対して`uname -a`を実行し、`ubuntu x86_64 Linux` が起動していることを確認します。起動していない場合は、`spec.image` に誤りがあります。本Notebook下部にある「環境の削除」を実行、 `spec.image` を修正、全てのセルを `unfreeze` してから、最初から再実行してください。"
   ]
  },
  {
   "cell_type": "code",
   "execution_count": null,
   "metadata": {
    "hidden": true,
    "lc_cell_meme": {
     "current": "7ed1573c-e647-11ec-b295-02420a010016-5-f3ca-74fb-31f8-77f0-cf0f",
     "next": "7ed157dc-e647-11ec-b295-02420a010016-5-2a66-b56b-c5a6-258b-7d9b",
     "previous": "7ed156b0-e647-11ec-b295-02420a010016-5-7920-77c6-9324-db40-dae6"
    },
    "lc_wrapper": {}
   },
   "outputs": [],
   "source": [
    "# unit_group.find_ip_addresses() は UnitGroup内の全VCノードのIPアドレスのリストを返します\n",
    "ip_address = unit_group.find_ip_addresses(node_state='RUNNING')[0] # 今は１つのVCノードのみ起動しているので [0] で最初の要素を取り出す\n",
    "print(ip_address)\n",
    "\n",
    "# ssh 設定\n",
    "!touch ~/.ssh/known_hosts\n",
    "!ssh-keygen -R {ip_address}    # ~/.ssh/known_hosts から古いホストキーを削除する\n",
    "!ssh-keyscan -H {ip_address} >> ~/.ssh/known_hosts    # ホストキーの登録\n",
    "# システムの確認\n",
    "!ssh -l vcp {ip_address} uname -a"
   ]
  },
  {
   "cell_type": "markdown",
   "metadata": {
    "heading_collapsed": true,
    "lc_cell_meme": {
     "current": "7ed157dc-e647-11ec-b295-02420a010016-5-2a66-b56b-c5a6-258b-7d9b",
     "next": "7ed159a8-e647-11ec-b295-02420a010016-5-475e-76c3-ac0e-8f03-c91e",
     "previous": "7ed1573c-e647-11ec-b295-02420a010016-5-f3ca-74fb-31f8-77f0-cf0f"
    }
   },
   "source": [
    "## TLJH (The Littlest JupyterHub) 環境の構築"
   ]
  },
  {
   "cell_type": "markdown",
   "metadata": {
    "hidden": true,
    "lc_cell_meme": {
     "current": "7ed159a8-e647-11ec-b295-02420a010016-5-475e-76c3-ac0e-8f03-c91e",
     "next": "55f0db3c-cb32-11ed-892b-0242ac110003-4-0e92-728b-14df-14ab",
     "previous": "7ed157dc-e647-11ec-b295-02420a010016-5-2a66-b56b-c5a6-258b-7d9b"
    }
   },
   "source": [
    "### TLJHの起動"
   ]
  },
  {
   "cell_type": "markdown",
   "metadata": {
    "hidden": true,
    "lc_cell_meme": {
     "current": "55f0db3c-cb32-11ed-892b-0242ac110003-4-0e92-728b-14df-14ab",
     "next": "7ed15a3e-e647-11ec-b295-02420a010016-5-91f1-c919-40a7-ac42-19ce",
     "previous": "7ed159a8-e647-11ec-b295-02420a010016-5-475e-76c3-ac0e-8f03-c91e"
    }
   },
   "source": [
    "管理者ユーザ名とパスワードを指定して起動します。以下のセルを実行します。(起動まで4分程度かかります)\n",
    "\n",
    "- TLJHコンテナ上で `tljh-config` コマンドを実行することでユーザ追加だけでなく他の様々な設定を行うことができます。\n",
    "- cf. <https://tljh.jupyter.org/en/latest/topic/tljh-config.html>"
   ]
  },
  {
   "cell_type": "code",
   "execution_count": null,
   "metadata": {
    "hidden": true,
    "lc_cell_meme": {
     "current": "7ed15a3e-e647-11ec-b295-02420a010016-5-91f1-c919-40a7-ac42-19ce",
     "next": "7ed15d40-e647-11ec-b295-02420a010016-5-47f9-935c-5291-3d72-a1c5",
     "previous": "55f0db3c-cb32-11ed-892b-0242ac110003-4-0e92-728b-14df-14ab"
    },
    "lc_wrapper": {}
   },
   "outputs": [],
   "source": [
    "!ssh -l vcp {ip_address} sudo /opt/tljh/hub/bin/python3 \\\n",
    "  /opt/tljh/src/bootstrap/bootstrap.py --admin {admin_user}:{admin_password}"
   ]
  },
  {
   "cell_type": "markdown",
   "metadata": {
    "hidden": true,
    "lc_cell_meme": {
     "current": "7ed15d40-e647-11ec-b295-02420a010016-5-47f9-935c-5291-3d72-a1c5",
     "next": "92672c5e-cb93-11ed-892b-0242ac110003-4-80b7-3b07-75b2-2605",
     "previous": "7ed15a3e-e647-11ec-b295-02420a010016-5-91f1-c919-40a7-ac42-19ce"
    }
   },
   "source": [
    "### TLJH の 起動確認\n",
    "`jupyterhub.service`が`active` になっていることを確認します。\n",
    "以下のセルを実行します。"
   ]
  },
  {
   "cell_type": "code",
   "execution_count": null,
   "metadata": {
    "hidden": true,
    "lc_cell_meme": {
     "current": "92672c5e-cb93-11ed-892b-0242ac110003-4-80b7-3b07-75b2-2605",
     "next": "7ed15d40-e647-11ec-b295-02420a010016-6-47f9-c82c-966e-e58a-afae-4fdc",
     "previous": "7ed15d40-e647-11ec-b295-02420a010016-5-47f9-935c-5291-3d72-a1c5"
    },
    "lc_wrapper": {}
   },
   "outputs": [],
   "source": [
    "!ssh -l vcp {ip_address} sudo systemctl status jupyterhub"
   ]
  },
  {
   "cell_type": "markdown",
   "metadata": {
    "hidden": true,
    "lc_cell_meme": {
     "current": "7ed15d40-e647-11ec-b295-02420a010016-6-47f9-c82c-966e-e58a-afae-4fdc",
     "next": "7ed15dcc-e647-11ec-b295-02420a010016-5-7473-9800-a429-aaed-3329",
     "previous": "92672c5e-cb93-11ed-892b-0242ac110003-4-80b7-3b07-75b2-2605"
    }
   },
   "source": [
    "### TLJH の Web インターフェースのカスタマイズ\n",
    "\n",
    "今、このノートブックを実行しているJupyterNotebook環境と、構築したTLJHのJupyterHubのWebインターフェースを識別しやすくするために、TLJH側にカスタマイズしたCSSファイルを設定します。\n",
    "\n",
    "以下のセルを実行します。"
   ]
  },
  {
   "cell_type": "code",
   "execution_count": null,
   "metadata": {
    "hidden": true,
    "lc_cell_meme": {
     "current": "7ed15dcc-e647-11ec-b295-02420a010016-5-7473-9800-a429-aaed-3329",
     "next": "7ed15e58-e647-11ec-b295-02420a010016-5-a0bc-a6a1-2450-7728-2e25",
     "previous": "7ed15d40-e647-11ec-b295-02420a010016-6-47f9-c82c-966e-e58a-afae-4fdc"
    },
    "lc_wrapper": {}
   },
   "outputs": [],
   "source": [
    "!scp ./403/custom.css  vcp@{ip_address}:/tmp/\n",
    "!ssh -l vcp {ip_address} sudo mkdir -p /etc/skel/.jupyter/custom\n",
    "!ssh -l vcp {ip_address} sudo cp /tmp/custom.css /etc/skel/.jupyter/custom/custom.css"
   ]
  },
  {
   "cell_type": "markdown",
   "metadata": {
    "lc_cell_meme": {
     "current": "7ed15e58-e647-11ec-b295-02420a010016-5-a0bc-a6a1-2450-7728-2e25",
     "next": "7ed15ee4-e647-11ec-b295-02420a010016-5-1e3c-33f3-a79b-60ae-dbec",
     "previous": "7ed15dcc-e647-11ec-b295-02420a010016-5-7473-9800-a429-aaed-3329"
    }
   },
   "source": [
    "## TLJH の管理と利用\n",
    "\n",
    "VCノード上に起動したTLJHにブラウザからアクセスし、講義演習環境として必要な作業を行います。"
   ]
  },
  {
   "cell_type": "markdown",
   "metadata": {
    "heading_collapsed": true,
    "lc_cell_meme": {
     "current": "7ed15ee4-e647-11ec-b295-02420a010016-5-1e3c-33f3-a79b-60ae-dbec",
     "next": "f8293a06-f09a-11ed-a3d2-02420a010062-2-0274-449e",
     "previous": "7ed15e58-e647-11ec-b295-02420a010016-5-a0bc-a6a1-2450-7728-2e25"
    }
   },
   "source": [
    "### 管理者ユーザとしてブラウザからログイン\n",
    "\n",
    "次のセルとを実行するとログイン先URLを作成します。\n",
    "直接VCノードのIPアドレスでアクセスできない場合は、環境に合わせて変更してください。"
   ]
  },
  {
   "cell_type": "code",
   "execution_count": null,
   "metadata": {
    "hidden": true,
    "lc_cell_meme": {
     "current": "f8293a06-f09a-11ed-a3d2-02420a010062-2-0274-449e",
     "next": "7ed1601a-e647-11ec-b295-02420a010016-5-d886-88e6-cb47-ef3e-e3ea",
     "previous": "7ed15ee4-e647-11ec-b295-02420a010016-5-1e3c-33f3-a79b-60ae-dbec"
    },
    "lc_wrapper": {}
   },
   "outputs": [],
   "source": [
    "vcc_ctr = vcp.vcc_info()['host']\n",
    "print(\"https://{}/\".format(vcc_ctr.split(':')[0]))\n",
    "\n",
    "print(f'Username: {admin_user}\\nPassword: {admin_password}')"
   ]
  },
  {
   "cell_type": "markdown",
   "metadata": {
    "hidden": true,
    "lc_cell_meme": {
     "current": "7ed1601a-e647-11ec-b295-02420a010016-5-d886-88e6-cb47-ef3e-e3ea",
     "next": "7ed160b0-e647-11ec-b295-02420a010016-5-2fa2-3d23-cf64-7e54-c6c8",
     "previous": "f8293a06-f09a-11ed-a3d2-02420a010062-2-0274-449e"
    }
   },
   "source": [
    "#### ログイン\n",
    "\n",
    "指定した管理者名とパスワードを入力しログインしてください。\n",
    "管理者名とパスワードは冒頭のTLJH環境の構築情報として設定しています。\n",
    "![](images/403-tljh-login.png)"
   ]
  },
  {
   "cell_type": "markdown",
   "metadata": {
    "hidden": true,
    "lc_cell_meme": {
     "current": "7ed160b0-e647-11ec-b295-02420a010016-5-2fa2-3d23-cf64-7e54-c6c8",
     "next": "7ed16164-e647-11ec-b295-02420a010016-5-efc2-2991-dd55-41c3-5b07",
     "previous": "7ed1601a-e647-11ec-b295-02420a010016-5-d886-88e6-cb47-ef3e-e3ea"
    }
   },
   "source": [
    "#### 初期画面\n",
    "\n",
    "ログイン後の初期画面は、ファイルやディレクトリが1つもない状態となっています。\n",
    "\n",
    "![](images/403-tljh-filebrowser.png)"
   ]
  },
  {
   "cell_type": "markdown",
   "metadata": {
    "heading_collapsed": true,
    "lc_cell_meme": {
     "current": "7ed16164-e647-11ec-b295-02420a010016-5-efc2-2991-dd55-41c3-5b07",
     "next": "7ed16204-e647-11ec-b295-02420a010016-5-5a7d-5c88-985b-9a62-2064",
     "previous": "7ed160b0-e647-11ec-b295-02420a010016-5-2fa2-3d23-cf64-7e54-c6c8"
    }
   },
   "source": [
    "### 一般ユーザ (student) アカウントの追加\n",
    "\n",
    "管理者用コントロールパネルの機能を利用し、管理者以外のユーザを追加します。"
   ]
  },
  {
   "cell_type": "markdown",
   "metadata": {
    "hidden": true,
    "lc_cell_meme": {
     "current": "7ed16204-e647-11ec-b295-02420a010016-5-5a7d-5c88-985b-9a62-2064",
     "next": "7ed16290-e647-11ec-b295-02420a010016-5-c11c-52d3-1780-d5e4-b0fa",
     "previous": "7ed16164-e647-11ec-b295-02420a010016-5-efc2-2991-dd55-41c3-5b07"
    }
   },
   "source": [
    "#### 画面右上の **Control Panel** ボタンを押す\n",
    "\n",
    "![](images/403-tljh-control_1.png)"
   ]
  },
  {
   "cell_type": "markdown",
   "metadata": {
    "hidden": true,
    "lc_cell_meme": {
     "current": "7ed16290-e647-11ec-b295-02420a010016-5-c11c-52d3-1780-d5e4-b0fa",
     "next": "7ed16326-e647-11ec-b295-02420a010016-5-a90a-c39c-6330-4150-b473",
     "previous": "7ed16204-e647-11ec-b295-02420a010016-5-5a7d-5c88-985b-9a62-2064"
    }
   },
   "source": [
    "#### **Admin** メニューを選択する\n",
    "\n",
    "![](images/403-tljh-control_2.png)"
   ]
  },
  {
   "cell_type": "markdown",
   "metadata": {
    "hidden": true,
    "lc_cell_meme": {
     "current": "7ed16326-e647-11ec-b295-02420a010016-5-a90a-c39c-6330-4150-b473",
     "next": "7ed163c6-e647-11ec-b295-02420a010016-5-725d-0c0c-ea7b-53dd-3de5",
     "previous": "7ed16290-e647-11ec-b295-02420a010016-5-c11c-52d3-1780-d5e4-b0fa"
    }
   },
   "source": [
    "#### **Add Users** ボタンを押す\n",
    "\n",
    "![](images/403-tljh-control_3.png)"
   ]
  },
  {
   "cell_type": "markdown",
   "metadata": {
    "hidden": true,
    "lc_cell_meme": {
     "current": "7ed163c6-e647-11ec-b295-02420a010016-5-725d-0c0c-ea7b-53dd-3de5",
     "next": "7ed1645c-e647-11ec-b295-02420a010016-5-f670-cfdb-d61c-1d91-d6ec",
     "previous": "7ed16326-e647-11ec-b295-02420a010016-5-a90a-c39c-6330-4150-b473"
    }
   },
   "source": [
    "#### アカウント名を入力して **Add Users** ボタンを押す\n",
    "\n",
    "- アカウント名は改行して複数入力することが可能\n",
    "\n",
    "![](images/403-tljh-addusers.png)"
   ]
  },
  {
   "cell_type": "markdown",
   "metadata": {
    "heading_collapsed": true,
    "lc_cell_meme": {
     "current": "7ed1645c-e647-11ec-b295-02420a010016-5-f670-cfdb-d61c-1d91-d6ec",
     "next": "7ed164fc-e647-11ec-b295-02420a010016-5-17ab-482a-c3fc-80df-bd98",
     "previous": "7ed163c6-e647-11ec-b295-02420a010016-5-725d-0c0c-ea7b-53dd-3de5"
    }
   },
   "source": [
    "### Python パッケージの追加\n",
    "\n",
    "Pythonによる機械学習の演習環境として利用するために、ライブラリ・パッケージの追加を試します。\n",
    "\n",
    "- cf. <https://tljh.jupyter.org/en/latest/howto/env/user-environment.html#installing-pip-packages>\n",
    "\n",
    "<p>\n",
    "    \n",
    "ここでは以下の [pip](https://pypi.org/project/pip/) パッケージをインストールします。\n",
    "\n",
    "- [numpy](https://numpy.org/)\n",
    "- [matplotlib](https://matplotlib.org/)\n",
    "- [PyTorch](https://pytorch.org/)"
   ]
  },
  {
   "cell_type": "markdown",
   "metadata": {
    "hidden": true,
    "lc_cell_meme": {
     "current": "7ed164fc-e647-11ec-b295-02420a010016-5-17ab-482a-c3fc-80df-bd98",
     "execution_end_time": "2022-06-05T06:56:32.908717Z",
     "next": "7ed16592-e647-11ec-b295-02420a010016-5-1a3c-e03d-f0c2-9929-f2c9",
     "previous": "7ed1645c-e647-11ec-b295-02420a010016-5-f670-cfdb-d61c-1d91-d6ec"
    },
    "lc_wrapper": {}
   },
   "source": [
    "#### 管理者ユーザとしてログインしてTerminalを開く\n",
    "\n",
    "![](images/403-tljh-terminal.png)"
   ]
  },
  {
   "cell_type": "markdown",
   "metadata": {
    "hidden": true,
    "lc_cell_meme": {
     "current": "7ed16592-e647-11ec-b295-02420a010016-5-1a3c-e03d-f0c2-9929-f2c9",
     "next": "7ed16632-e647-11ec-b295-02420a010016-5-d762-be02-244f-4b77-f440",
     "previous": "7ed164fc-e647-11ec-b295-02420a010016-5-17ab-482a-c3fc-80df-bd98"
    }
   },
   "source": [
    "#### Terminalで以下のコマンドを実行する\n",
    "\n",
    "```\n",
    "sudo -E pip --no-cache-dir install numpy matplotlib torch torchvision\n",
    "```\n",
    "\n",
    "Terminal を使用せずに、以下のセルでも同じコマンド操作が可能です。"
   ]
  },
  {
   "cell_type": "code",
   "execution_count": null,
   "metadata": {
    "hidden": true,
    "lc_cell_meme": {
     "current": "7ed16632-e647-11ec-b295-02420a010016-5-d762-be02-244f-4b77-f440",
     "next": "7ed166d2-e647-11ec-b295-02420a010016-5-2cc9-5cfb-1460-6330-6e14",
     "previous": "7ed16592-e647-11ec-b295-02420a010016-5-1a3c-e03d-f0c2-9929-f2c9"
    },
    "lc_wrapper": {},
    "scrolled": true
   },
   "outputs": [],
   "source": [
    "!ssh -l vcp {ip_address} \\\n",
    "  sudo -E /opt/tljh/user/bin/pip --no-cache-dir install numpy matplotlib torch torchvision"
   ]
  },
  {
   "cell_type": "markdown",
   "metadata": {
    "hidden": true,
    "lc_cell_meme": {
     "current": "7ed166d2-e647-11ec-b295-02420a010016-5-2cc9-5cfb-1460-6330-6e14",
     "next": "7ed16772-e647-11ec-b295-02420a010016-5-c3c8-cae0-ebaa-c230-4e70",
     "previous": "7ed16632-e647-11ec-b295-02420a010016-5-d762-be02-244f-4b77-f440"
    }
   },
   "source": [
    "#### インストールできたことを確認する\n",
    "\n",
    "```\n",
    "sudo -E pip --no-cache-dir list | grep -e numpy -e matplotlib -e torch\n",
    "```\n",
    "\n",
    "  - 正常にインストールできていれば、以下のようにバージョン情報が出力される。\n",
    "\n",
    "    ```\n",
    "    matplotlib               3.7.1\n",
    "    matplotlib-inline        0.1.6\n",
    "    numpy                    1.24.3\n",
    "    torch                    2.0.1\n",
    "    torchvision              0.15.2\n",
    "\n",
    "    ```\n",
    "\n",
    "Terminal を使用せずに、以下のセルでも同じコマンド操作が可能です。"
   ]
  },
  {
   "cell_type": "code",
   "execution_count": null,
   "metadata": {
    "hidden": true,
    "lc_cell_meme": {
     "current": "7ed16772-e647-11ec-b295-02420a010016-5-c3c8-cae0-ebaa-c230-4e70",
     "next": "7ed16808-e647-11ec-b295-02420a010016-5-ccd0-ee99-2371-b76f-2450",
     "previous": "7ed166d2-e647-11ec-b295-02420a010016-5-2cc9-5cfb-1460-6330-6e14"
    },
    "lc_wrapper": {}
   },
   "outputs": [],
   "source": [
    "!ssh -l vcp {ip_address} \\\n",
    "  sudo -E /opt/tljh/user/bin/pip --no-cache-dir list | \\\n",
    "  grep -e numpy -e matplotlib -e torch"
   ]
  },
  {
   "cell_type": "markdown",
   "metadata": {
    "heading_collapsed": true,
    "lc_cell_meme": {
     "current": "7ed16808-e647-11ec-b295-02420a010016-5-ccd0-ee99-2371-b76f-2450",
     "next": "7ed1689e-e647-11ec-b295-02420a010016-5-015f-06a2-22da-e4cc-cc5c",
     "previous": "7ed16772-e647-11ec-b295-02420a010016-5-c3c8-cae0-ebaa-c230-4e70"
    }
   },
   "source": [
    "### 教材Notebookの配布（ファイル共有）\n",
    "\n",
    "実習用に用意された教材がある場合、TLJH環境の各ユーザから読み込み専用の共有フォルダにアクセスさせることで教材配布が行えるようにします。\n",
    "\n",
    "- cf. <https://tljh.jupyter.org/en/latest/howto/content/share-data.html#option-2-create-a-read-only-shared-folder-for-data>"
   ]
  },
  {
   "cell_type": "markdown",
   "metadata": {
    "hidden": true,
    "lc_cell_meme": {
     "current": "7ed1689e-e647-11ec-b295-02420a010016-5-015f-06a2-22da-e4cc-cc5c",
     "next": "7ed16948-e647-11ec-b295-02420a010016-5-0739-efb9-20f8-1683-2eae",
     "previous": "7ed16808-e647-11ec-b295-02420a010016-5-ccd0-ee99-2371-b76f-2450"
    }
   },
   "source": [
    "#### 管理者ユーザのTerminalで共有フォルダを作成する\n",
    "\n",
    "- 管理者ユーザとしてログインし、Terminal からコマンドを実行して共有フォルダを作成します。\n",
    "- 共有フォルダは `/srv/data/` 以下であれば任意のフォルダ名が使用できます。\n",
    "\n",
    "```\n",
    "sudo mkdir -p /srv/data/shared\n",
    "```\n",
    "\n",
    "Terminal を使用せずに、以下のセルでも同じコマンド操作が可能です。"
   ]
  },
  {
   "cell_type": "code",
   "execution_count": null,
   "metadata": {
    "hidden": true,
    "lc_cell_meme": {
     "current": "7ed16948-e647-11ec-b295-02420a010016-5-0739-efb9-20f8-1683-2eae",
     "next": "7ed169de-e647-11ec-b295-02420a010016-5-ea30-abc2-470e-d4f2-040e",
     "previous": "7ed1689e-e647-11ec-b295-02420a010016-5-015f-06a2-22da-e4cc-cc5c"
    },
    "lc_wrapper": {}
   },
   "outputs": [],
   "source": [
    "!ssh -l vcp {ip_address} sudo mkdir -p /srv/data/shared"
   ]
  },
  {
   "cell_type": "markdown",
   "metadata": {
    "hidden": true,
    "lc_cell_meme": {
     "current": "7ed169de-e647-11ec-b295-02420a010016-5-ea30-abc2-470e-d4f2-040e",
     "next": "7ed16a74-e647-11ec-b295-02420a010016-5-dea2-a14e-9c26-e30a-ff90",
     "previous": "7ed16948-e647-11ec-b295-02420a010016-5-0739-efb9-20f8-1683-2eae"
    }
   },
   "source": [
    "#### ユーザのホームディレクトリに共有フォルダへのリンクを作成する\n",
    "\n",
    "- `/etc/skel/` ディレクトリに共有フォルダへのシンボリックリンクを作成します。  \n",
    "  これにより、新規に追加したユーザのホームディレクトリに共有フォルダが表示されます。\n",
    "  * ユーザ追加後、一度もログインしたことがないユーザは初回ログイン時に共有フォルダが表示されます。\n",
    "- 管理者ユーザとしてログインし、 Terminalから以下のコマンドを実行します。\n",
    "\n",
    "```\n",
    "sudo ln -s /srv/data/shared /etc/skel/\n",
    "```\n",
    "\n",
    "Terminal を使用せずに、以下のセルでも同じコマンド操作が可能です。"
   ]
  },
  {
   "cell_type": "code",
   "execution_count": null,
   "metadata": {
    "hidden": true,
    "lc_cell_meme": {
     "current": "7ed16a74-e647-11ec-b295-02420a010016-5-dea2-a14e-9c26-e30a-ff90",
     "next": "ae401a24-f90d-11ed-b948-02420a010017",
     "previous": "7ed169de-e647-11ec-b295-02420a010016-5-ea30-abc2-470e-d4f2-040e"
    },
    "lc_wrapper": {}
   },
   "outputs": [],
   "source": [
    "!ssh -l vcp {ip_address} sudo ln -sf /srv/data/shared /etc/skel/"
   ]
  },
  {
   "cell_type": "markdown",
   "metadata": {
    "hidden": true,
    "lc_cell_meme": {
     "current": "ae401a24-f90d-11ed-b948-02420a010017",
     "next": "f63138fe-f90d-11ed-b948-02420a010017",
     "previous": "7ed16a74-e647-11ec-b295-02420a010016-5-dea2-a14e-9c26-e30a-ff90"
    }
   },
   "source": [
    "既存の管理者ユーザ `admin-user01` についても、共有フォルダへのリンクを作成しておきます。  \n",
    "（初回ログインの後に共有フォルダが作成された場合、反映されないため）"
   ]
  },
  {
   "cell_type": "code",
   "execution_count": null,
   "metadata": {
    "hidden": true,
    "lc_cell_meme": {
     "current": "f63138fe-f90d-11ed-b948-02420a010017",
     "next": "7ed16b1e-e647-11ec-b295-02420a010016-5-593d-74a9-5cdf-9e68-df93",
     "previous": "ae401a24-f90d-11ed-b948-02420a010017"
    },
    "lc_wrapper": {}
   },
   "outputs": [],
   "source": [
    "!ssh -l vcp {ip_address} sudo ln -sf /srv/data/shared /home/jupyter-{admin_user}/"
   ]
  },
  {
   "cell_type": "markdown",
   "metadata": {
    "hidden": true,
    "lc_cell_meme": {
     "current": "7ed16b1e-e647-11ec-b295-02420a010016-5-593d-74a9-5cdf-9e68-df93",
     "next": "7ed16baa-e647-11ec-b295-02420a010016-5-efde-e5a9-fd00-27f9-899b",
     "previous": "f63138fe-f90d-11ed-b948-02420a010017"
    }
   },
   "source": [
    "#### TLJH環境の共有フォルダにファイルを配置する\n",
    "\n",
    "サンプルのNotebookファイル [sample-notebook.ipynb](./files/sample-notebook.ipynb) を用意したので、これをJupyterHubにコピーします。\n",
    "\n",
    "以下のセルを実行することで、ここからVCノードを経由してTLJHコンテナ上の共有フォルダにコピーを行います。"
   ]
  },
  {
   "cell_type": "code",
   "execution_count": null,
   "metadata": {
    "hidden": true,
    "lc_cell_meme": {
     "current": "7ed16baa-e647-11ec-b295-02420a010016-5-efde-e5a9-fd00-27f9-899b",
     "next": "549db93c-f920-11ed-b948-02420a010017",
     "previous": "7ed16b1e-e647-11ec-b295-02420a010016-5-593d-74a9-5cdf-9e68-df93"
    },
    "lc_wrapper": {}
   },
   "outputs": [],
   "source": [
    "filename = 'sample-notebook.ipynb'\n",
    "\n",
    "# このNotebookからVCノードのtmpへのコピー\n",
    "!scp ./403/{filename} vcp@{ip_address}:/tmp/{filename}\n",
    "\n",
    "# VCノード上のtmpから共有フォルダへのコピー\n",
    "!ssh -l vcp {ip_address} sudo cp /tmp/{filename} /srv/data/shared/{filename}"
   ]
  },
  {
   "cell_type": "markdown",
   "metadata": {
    "hidden": true,
    "lc_cell_meme": {
     "current": "549db93c-f920-11ed-b948-02420a010017",
     "next": "549dbb4e-f920-11ed-b948-02420a010017",
     "previous": "7ed16baa-e647-11ec-b295-02420a010016-5-efde-e5a9-fd00-27f9-899b"
    }
   },
   "source": [
    "#### 一般ユーザとして docker コマンドを実行可能にする"
   ]
  },
  {
   "cell_type": "code",
   "execution_count": null,
   "metadata": {
    "hidden": true,
    "lc_cell_meme": {
     "current": "549dbb4e-f920-11ed-b948-02420a010017",
     "next": "7ed16c36-e647-11ec-b295-02420a010016-5-9d9b-79cc-769f-bc86-cb4a",
     "previous": "549db93c-f920-11ed-b948-02420a010017"
    },
    "lc_wrapper": {}
   },
   "outputs": [],
   "source": [
    "!echo \"%jupyterhub-users ALL=(ALL) NOPASSWD: /usr/local/bin/docker\" > /tmp/jupyterhub-users\n",
    "!scp /tmp/jupyterhub-users vcp@{ip_address}:/tmp/\n",
    "!ssh -l vcp {ip_address} sudo cp /tmp/jupyterhub-users /etc/sudoers.d/"
   ]
  },
  {
   "cell_type": "markdown",
   "metadata": {
    "heading_collapsed": true,
    "lc_cell_meme": {
     "current": "7ed16c36-e647-11ec-b295-02420a010016-5-9d9b-79cc-769f-bc86-cb4a",
     "next": "ef8b0fa6-f927-11ed-b948-02420a010017",
     "previous": "549dbb4e-f920-11ed-b948-02420a010017"
    }
   },
   "source": [
    "### 一般ユーザとしてログインし、共有フォルダを開く\n",
    "\n",
    "一般ユーザとしてTLJHにログインすると、ホームディレクトリに共有フォルダが表示されます。\n",
    "\n",
    "> 管理者ユーザとしてログイン中の場合、一度ログアウトする必要があります。"
   ]
  },
  {
   "cell_type": "code",
   "execution_count": null,
   "metadata": {
    "hidden": true,
    "lc_cell_meme": {
     "current": "ef8b0fa6-f927-11ed-b948-02420a010017",
     "next": "7ed16d6c-e647-11ec-b295-02420a010016-5-416f-f0eb-46d2-be78-6221",
     "previous": "7ed16c36-e647-11ec-b295-02420a010016-5-9d9b-79cc-769f-bc86-cb4a"
    },
    "lc_wrapper": {}
   },
   "outputs": [],
   "source": [
    "# ログイン先URL生成用\n",
    "vcc_ctr = vcp.vcc_info()['host']\n",
    "print(\"https://{}/\".format(vcc_ctr.split(':')[0]))"
   ]
  },
  {
   "cell_type": "markdown",
   "metadata": {
    "lc_cell_meme": {
     "current": "7ed16d6c-e647-11ec-b295-02420a010016-5-416f-f0eb-46d2-be78-6221",
     "next": "7ed16e02-e647-11ec-b295-02420a010016-5-6395-181d-1b38-10f8-6a38",
     "previous": "ef8b0fa6-f927-11ed-b948-02420a010017"
    }
   },
   "source": [
    "## (参考) 応用編\n",
    "\n",
    "ここでは、TLJH の運用環境をさらにカスタマイズするためのいくつかの方法を紹介します。"
   ]
  },
  {
   "cell_type": "markdown",
   "metadata": {
    "heading_collapsed": true,
    "lc_cell_meme": {
     "current": "7ed16e02-e647-11ec-b295-02420a010016-5-6395-181d-1b38-10f8-6a38",
     "next": "7ed16e98-e647-11ec-b295-02420a010016-5-0ef5-a9cb-1d1e-ba08-7c5f",
     "previous": "7ed16d6c-e647-11ec-b295-02420a010016-5-416f-f0eb-46d2-be78-6221"
    }
   },
   "source": [
    "### Jupyter Notebook 拡張機能の導入\n",
    "\n",
    "そのままでも十分使いやすいJupyter Notebookですが、 `jupyter_contrib_nbextensions` というライブラリを導入することで様々な拡張機能が使えるようになり、より便利になります。\n",
    "\n",
    "- cf. <https://tljh.jupyter.org/en/latest/howto/admin/enable-extensions.html>"
   ]
  },
  {
   "cell_type": "markdown",
   "metadata": {
    "hidden": true,
    "lc_cell_meme": {
     "current": "7ed16e98-e647-11ec-b295-02420a010016-5-0ef5-a9cb-1d1e-ba08-7c5f",
     "next": "7ed16f38-e647-11ec-b295-02420a010016-5-c1d7-a2f6-d608-9876-ab89",
     "previous": "7ed16e02-e647-11ec-b295-02420a010016-5-6395-181d-1b38-10f8-6a38"
    }
   },
   "source": [
    "#### 管理者ユーザのTerminalでコマンド実行\n",
    "\n",
    "管理者ユーザとしてログインし、Terminal から以下のコマンドを実行します。\n",
    "\n",
    "1.  pip パッケージをインストールする\n",
    "\n",
    "```\n",
    "sudo -E pip --no-cache-dir install jupyter_contrib_nbextensions==0.5.1\n",
    "```\n",
    "\n",
    "2. 拡張機能のスタイルファイルをJupyter環境に追加する\n",
    "\n",
    "```\n",
    "sudo -E jupyter contrib nbextension install --sys-prefix\n",
    "```\n",
    "\n",
    "3. [Table of Contents (2)](https://jupyter-contrib-nbextensions.readthedocs.io/en/latest/nbextensions/toc2/README.html) （目次表示） の拡張機能を有効化する\n",
    "\n",
    "```\n",
    "sudo -E jupyter nbextension enable toc2/main --sys-prefix\n",
    "```\n",
    "\n",
    "4. 現在有効な拡張機能を確認する\n",
    "\n",
    "```\n",
    "jupyter nbextension list\n",
    "```\n",
    "\n",
    "Terminal を使用せずに、以下のセルでも同じコマンド操作が可能です。"
   ]
  },
  {
   "cell_type": "code",
   "execution_count": null,
   "metadata": {
    "hidden": true,
    "lc_cell_meme": {
     "current": "7ed16f38-e647-11ec-b295-02420a010016-5-c1d7-a2f6-d608-9876-ab89",
     "next": "7ed16fc4-e647-11ec-b295-02420a010016-5-a03d-ca30-d400-1989-7e17",
     "previous": "7ed16e98-e647-11ec-b295-02420a010016-5-0ef5-a9cb-1d1e-ba08-7c5f"
    },
    "lc_wrapper": {}
   },
   "outputs": [],
   "source": [
    "# パッケージのインストール\n",
    "!ssh -l vcp {ip_address} sudo -E /opt/tljh/user/bin/pip --no-cache-dir install jupyter_contrib_nbextensions==0.5.1\n",
    "\n",
    "# 拡張機能の追加\n",
    "!ssh -l vcp {ip_address} sudo -E /opt/tljh/user/bin/jupyter contrib nbextension install --sys-prefix\n",
    "\n",
    "# 拡張機能の有効化\n",
    "!ssh -l vcp {ip_address} sudo -E /opt/tljh/user/bin/jupyter nbextension enable toc2/main --sys-prefix\n",
    "\n",
    "# 現在有効な拡張機能の確認\n",
    "!ssh -l vcp {ip_address} /opt/tljh/user/bin/jupyter nbextension list"
   ]
  },
  {
   "cell_type": "markdown",
   "metadata": {
    "heading_collapsed": true,
    "lc_cell_meme": {
     "current": "7ed16fc4-e647-11ec-b295-02420a010016-5-a03d-ca30-d400-1989-7e17",
     "next": "7ed17050-e647-11ec-b295-02420a010016-5-e310-0be7-2c7d-ea8b-8381",
     "previous": "7ed16f38-e647-11ec-b295-02420a010016-5-c1d7-a2f6-d608-9876-ab89"
    }
   },
   "source": [
    "### 各ユーザのNotebookサーバのリソース制限\n",
    "\n",
    "各ユーザが使用できる最大メモリ量やCPUを管理者が `tljh-config` コマンドで設定して制限することができます。\n",
    "\n",
    "- cf. <https://tljh.jupyter.org/en/latest/topic/tljh-config.html#user-server-limits>"
   ]
  },
  {
   "cell_type": "markdown",
   "metadata": {
    "hidden": true,
    "lc_cell_meme": {
     "current": "7ed17050-e647-11ec-b295-02420a010016-5-e310-0be7-2c7d-ea8b-8381",
     "next": "7ed170fa-e647-11ec-b295-02420a010016-5-e012-2184-6aad-d112-339c",
     "previous": "7ed16fc4-e647-11ec-b295-02420a010016-5-a03d-ca30-d400-1989-7e17"
    }
   },
   "source": [
    "#### メモリ制限\n",
    "\n",
    "個々のユーザが使用可能な最大メモリ量を指定します。  \n",
    "管理者ユーザとしてログインし、Terminal から以下のコマンドを実行します。\n",
    "\n",
    "```\n",
    "sudo tljh-config set limits.memory 1G\n",
    "```\n",
    "\n",
    "- `None` を指定すると、メモリ制限は無効化される。"
   ]
  },
  {
   "cell_type": "markdown",
   "metadata": {
    "hidden": true,
    "lc_cell_meme": {
     "current": "7ed170fa-e647-11ec-b295-02420a010016-5-e012-2184-6aad-d112-339c",
     "next": "7ed17190-e647-11ec-b295-02420a010016-5-e6bc-9815-9b02-ce26-7d9e",
     "previous": "7ed17050-e647-11ec-b295-02420a010016-5-e310-0be7-2c7d-ea8b-8381"
    }
   },
   "source": [
    "#### CPU制限\n",
    "\n",
    "各ユーザが使用可能なCPUコアの合計を指定します。  \n",
    "管理者ユーザとしてログインし、Terminal から以下のコマンドを実行します。\n",
    "\n",
    "```\n",
    "sudo tljh-config set limits.cpu 2\n",
    "```\n",
    "\n",
    "- `2` の場合、2個のCPUをフルに使用できることを表す。 `0.5` は、1個のCPUの半分を表す。"
   ]
  },
  {
   "cell_type": "markdown",
   "metadata": {
    "hidden": true,
    "lc_cell_meme": {
     "current": "7ed17190-e647-11ec-b295-02420a010016-5-e6bc-9815-9b02-ce26-7d9e",
     "next": "7ed17348-e647-11ec-b295-02420a010016-5-cf3f-ade9-8ca8-2f49-0b71",
     "previous": "7ed170fa-e647-11ec-b295-02420a010016-5-e012-2184-6aad-d112-339c"
    }
   },
   "source": [
    "#### リソース制限設定の適用\n",
    "\n",
    "実行中のTLJH環境に設定を反映させるためには、管理者ユーザのTerminalから以下のコマンドを実行します。\n",
    "\n",
    "1. 確認\n",
    "\n",
    "```\n",
    "sudo tljh-config show\n",
    "```\n",
    "\n",
    "2. 適用\n",
    "\n",
    "```\n",
    "sudo tljh-config reload\n",
    "```"
   ]
  },
  {
   "cell_type": "markdown",
   "metadata": {
    "heading_collapsed": true,
    "lc_cell_meme": {
     "current": "7ed17348-e647-11ec-b295-02420a010016-5-cf3f-ade9-8ca8-2f49-0b71",
     "next": "7ed173d4-e647-11ec-b295-02420a010016-5-75c4-b815-31e0-2ada-e249",
     "previous": "7ed17190-e647-11ec-b295-02420a010016-5-e6bc-9815-9b02-ce26-7d9e"
    }
   },
   "source": [
    "## 環境の削除\n",
    "\n",
    "ここまで作成した全てのリソース（UnitGroup, Unit、VCノード）を削除します。  \n",
    "この操作を行うことで AWS EC2インスタンスやAzure VMなどのクラウドに作成したリソースが削除されます。"
   ]
  },
  {
   "cell_type": "code",
   "execution_count": null,
   "metadata": {
    "hidden": true,
    "lc_cell_meme": {
     "current": "7ed173d4-e647-11ec-b295-02420a010016-5-75c4-b815-31e0-2ada-e249",
     "next": "7ed17460-e647-11ec-b295-02420a010016-5-3686-78ee-680d-1bcc-8b6f",
     "previous": "7ed17348-e647-11ec-b295-02420a010016-5-cf3f-ade9-8ca8-2f49-0b71"
    },
    "lc_wrapper": {}
   },
   "outputs": [],
   "source": [
    "unit_group.cleanup()"
   ]
  },
  {
   "cell_type": "markdown",
   "metadata": {
    "hidden": true,
    "lc_cell_meme": {
     "current": "7ed17460-e647-11ec-b295-02420a010016-5-3686-78ee-680d-1bcc-8b6f",
     "next": "7ed174ec-e647-11ec-b295-02420a010016-5-dfda-f8e3-cbe4-f135-a88a",
     "previous": "7ed173d4-e647-11ec-b295-02420a010016-5-75c4-b815-31e0-2ada-e249"
    }
   },
   "source": [
    "削除後の状態を確認します。"
   ]
  },
  {
   "cell_type": "code",
   "execution_count": null,
   "metadata": {
    "hidden": true,
    "lc_cell_meme": {
     "current": "7ed174ec-e647-11ec-b295-02420a010016-5-dfda-f8e3-cbe4-f135-a88a",
     "next": "7ed17578-e647-11ec-b295-02420a010016-5-1c50-4916-849c-957d-b37c",
     "previous": "7ed17460-e647-11ec-b295-02420a010016-5-3686-78ee-680d-1bcc-8b6f"
    },
    "lc_wrapper": {}
   },
   "outputs": [],
   "source": [
    "# UnitGroupの一覧を DataFrame で表示する\n",
    "vcp.df_ugroups()"
   ]
  },
  {
   "cell_type": "code",
   "execution_count": null,
   "metadata": {
    "hidden": true,
    "lc_cell_meme": {
     "current": "7ed17578-e647-11ec-b295-02420a010016-5-1c50-4916-849c-957d-b37c",
     "next": null,
     "previous": "7ed174ec-e647-11ec-b295-02420a010016-5-dfda-f8e3-cbe4-f135-a88a"
    },
    "lc_wrapper": {}
   },
   "outputs": [],
   "source": [
    "# UnitGroup強制削除\n",
    "# UnitGroup作成後、エラーが発生するなど強制的に削除する必要が生じた場合のみ、コメントを外して利用します。\n",
    "# ugroup = vcp.get_ugroup('TLJH_template')\n",
    "# ugroup.cleanup()"
   ]
  }
 ],
 "metadata": {
  "kernelspec": {
   "display_name": "Python 3",
   "language": "python",
   "name": "python3"
  },
  "language_info": {
   "file_extension": ".py",
   "mimetype": "text/x-python",
   "name": "python",
   "nbconvert_exporter": "python",
   "pygments_lexer": "ipython3",
   "version": "3.7.6"
  },
  "toc": {
   "base_numbering": 1,
   "nav_menu": {},
   "number_sections": true,
   "sideBar": true,
   "skip_h1_title": true,
   "title_cell": "Table of Contents",
   "title_sidebar": "Contents",
   "toc_cell": false,
   "toc_position": {
    "height": "calc(100% - 180px)",
    "left": "10px",
    "top": "150px",
    "width": "357px"
   },
   "toc_section_display": true,
   "toc_window_display": true
  }
 },
 "nbformat": 4,
 "nbformat_minor": 4
}
