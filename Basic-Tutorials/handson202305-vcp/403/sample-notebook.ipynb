{
 "cells": [
  {
   "cell_type": "markdown",
   "metadata": {
    "lc_cell_meme": {
     "current": "3631a9d8-f3ab-11ed-ba41-02420a01000c-1-558c",
     "next": "3631ab72-f3ab-11ed-ba41-02420a01000c-1-4c32",
     "previous": "bd570668-f862-11ed-b948-02420a010017"
    }
   },
   "source": [
    "**★（注意）共有フォルダにあるNotebookは読み込み専用です★**\n",
    "\n",
    "このNotebookをホームディレクトリにコピーして利用するには、以下のセルを実行してください。"
   ]
  },
  {
   "cell_type": "code",
   "execution_count": null,
   "metadata": {
    "lc_cell_meme": {
     "current": "3631ab72-f3ab-11ed-ba41-02420a01000c-1-4c32",
     "next": "3631acd0-f3ab-11ed-ba41-02420a01000c-1-229b",
     "previous": "3631a9d8-f3ab-11ed-ba41-02420a01000c-1-558c"
    }
   },
   "outputs": [],
   "source": [
    "!cp ~/shared/sample-notebook.ipynb ~/sample-notebook-Copy1.ipynb"
   ]
  },
  {
   "cell_type": "markdown",
   "metadata": {
    "lc_cell_meme": {
     "current": "3631acd0-f3ab-11ed-ba41-02420a01000c-1-229b",
     "next": "3631af5a-f3ab-11ed-ba41-02420a01000c-1-039a",
     "previous": "3631ab72-f3ab-11ed-ba41-02420a01000c-1-4c32"
    }
   },
   "source": [
    "ホームディレクトリにコピーしたNotebookを開く ⇒ [sample-notebook-Copy1](../sample-notebook-Copy1.ipynb)"
   ]
  },
  {
   "cell_type": "markdown",
   "metadata": {
    "lc_cell_meme": {
     "current": "bd570668-f862-11ed-b948-02420a010017",
     "next": "3631a9d8-f3ab-11ed-ba41-02420a01000c-1-558c",
     "previous": "75d040c0-f862-11ed-b948-02420a010017-1-804f"
    }
   },
   "source": [
    "# 簡単なPythonコードの実行例\n",
    "\n",
    "以下は、[Google Colaboratory](https://colab.research.google.com/) の紹介ページにあるサンプルコードのコピーです。"
   ]
  },
  {
   "cell_type": "markdown",
   "metadata": {
    "lc_cell_meme": {
     "current": "3631af5a-f3ab-11ed-ba41-02420a01000c-1-039a",
     "next": "3631b07c-f3ab-11ed-ba41-02420a01000c-1-a0d7",
     "previous": "3631acd0-f3ab-11ed-ba41-02420a01000c-1-229b"
    }
   },
   "source": [
    "### サンプルコード (1)\n",
    "\n",
    "値を計算して変数に保存し、結果を出力する短いPythonスクリプトの例です。"
   ]
  },
  {
   "cell_type": "code",
   "execution_count": null,
   "metadata": {},
   "outputs": [],
   "source": [
    "seconds_in_a_day = 24 * 60 * 60\n",
    "seconds_in_a_day"
   ]
  },
  {
   "cell_type": "code",
   "execution_count": null,
   "metadata": {},
   "outputs": [],
   "source": [
    "seconds_in_a_week = 7 * seconds_in_a_day\n",
    "seconds_in_a_week"
   ]
  },
  {
   "cell_type": "markdown",
   "metadata": {
    "lc_cell_meme": {
     "current": "3631b270-f3ab-11ed-ba41-02420a01000c-1-bf3c",
     "next": "3631b36a-f3ab-11ed-ba41-02420a01000c-1-a67c",
     "previous": "3631b176-f3ab-11ed-ba41-02420a01000c-1-8040"
    }
   },
   "source": [
    "### サンプルコード (2)\n",
    "\n",
    "numpy を使用してランダムデータを生成し、matplotlib を使用して可視化するPythonスクリプトの例です。"
   ]
  },
  {
   "cell_type": "code",
   "execution_count": null,
   "metadata": {},
   "outputs": [],
   "source": [
    "import numpy as np\n",
    "from matplotlib import pyplot as plt\n",
    "\n",
    "ys = 200 + np.random.randn(100)\n",
    "x = [x for x in range(len(ys))]\n",
    "\n",
    "plt.plot(x, ys, '-')\n",
    "plt.fill_between(x, ys, 195, where=(ys > 195), facecolor='g', alpha=0.6)\n",
    "\n",
    "plt.title(\"Sample Visualization\")\n",
    "plt.show()"
   ]
  },
  {
   "cell_type": "markdown",
   "metadata": {
    "lc_cell_meme": {
     "current": "868a4c62-f83f-11ed-b948-02420a010017",
     "next": "1a9da8a8-f85f-11ed-b948-02420a010017",
     "previous": null
    }
   },
   "source": [
    "# GPUを活用する演習教材の例\n",
    "\n",
    "このNotebookでは、OCSで構築したJupyterHub環境においてGPUを活用した演習が実現可能なことを例示します。\n",
    "\n",
    "1. [OpenPose](https://github.com/CMU-Perceptual-Computing-Lab/openpose) のDockerコンテナ実行\n",
    "2. [PyTorch公式チュートリアル](https://pytorch.org/tutorials/) のNotebook実行\n",
    "    > (参考) 日本語訳版 <https://yutaroogawa.github.io/pytorch_tutorials_jp/>\n"
   ]
  },
  {
   "cell_type": "markdown",
   "metadata": {
    "lc_cell_meme": {
     "current": "1a9da8a8-f85f-11ed-b948-02420a010017",
     "next": "a9afd638-f85f-11ed-b948-02420a010017-1-51ac",
     "previous": "868a4c62-f83f-11ed-b948-02420a010017"
    }
   },
   "source": [
    "## OpenPose のコンテナ利用\n",
    "\n",
    "構築したGPU環境を利用して [OpenPose](https://github.com/CMU-Perceptual-Computing-Lab/openpose) を実行してみます。  \n",
    "OpenPoseは画像、動画から人の体、手、顔、および足のキーポイントを検出するシステムです。\n",
    "\n",
    "ここでは、すでにあるOpenPoseのDockerイメージを使用し、アプリケーションコンテナとして実行します。"
   ]
  },
  {
   "cell_type": "markdown",
   "metadata": {
    "lc_cell_meme": {
     "current": "a9afd638-f85f-11ed-b948-02420a010017-1-51ac",
     "next": "f137fb84-f85f-11ed-b948-02420a010017",
     "previous": "1a9da8a8-f85f-11ed-b948-02420a010017"
    }
   },
   "source": [
    "### OpenPoseコンテナの取得と起動\n",
    "\n",
    "OpenPoseをアプリケーションコンテナとして実行します。\n",
    "\n",
    "> Dockerイメージの取得には2〜3分程度を要します。"
   ]
  },
  {
   "cell_type": "code",
   "execution_count": null,
   "metadata": {
    "lc_cell_meme": {
     "current": "f137fb84-f85f-11ed-b948-02420a010017",
     "next": "38d108b4-f860-11ed-b948-02420a010017",
     "previous": "a9afd638-f85f-11ed-b948-02420a010017-1-51ac"
    }
   },
   "outputs": [],
   "source": [
    "!sudo docker run -td --gpus all --name openpose \\\n",
    "  -v $HOME/result:/root/result harbor.vcloud.nii.ac.jp/vcp/openpose:handson_20.11"
   ]
  },
  {
   "cell_type": "markdown",
   "metadata": {
    "lc_cell_meme": {
     "current": "38d108b4-f860-11ed-b948-02420a010017",
     "next": "8044028c-f860-11ed-b948-02420a010017",
     "previous": "f137fb84-f85f-11ed-b948-02420a010017"
    }
   },
   "source": [
    "コンテナが起動されたことを確認します。次のセルを実行して `STATUS` が `Up` と表示されていればコンテナの起動に成功しています。"
   ]
  },
  {
   "cell_type": "code",
   "execution_count": null,
   "metadata": {
    "lc_cell_meme": {
     "current": "8044028c-f860-11ed-b948-02420a010017",
     "next": "38d10a76-f860-11ed-b948-02420a010017",
     "previous": "38d108b4-f860-11ed-b948-02420a010017"
    }
   },
   "outputs": [],
   "source": [
    "!sudo docker ps"
   ]
  },
  {
   "cell_type": "markdown",
   "metadata": {
    "lc_cell_meme": {
     "current": "38d10a76-f860-11ed-b948-02420a010017",
     "next": "80440458-f860-11ed-b948-02420a010017",
     "previous": "8044028c-f860-11ed-b948-02420a010017"
    }
   },
   "source": [
    "### OpenPoseの利用 (1) - 画像ファイルの一括処理\n",
    "\n",
    "OpenPoseのサンプル画像を処理してみます。\n",
    "\n",
    "まず初めに、処理前の画像ファイルをコンテナ内からコピーします。"
   ]
  },
  {
   "cell_type": "code",
   "execution_count": null,
   "metadata": {
    "lc_cell_meme": {
     "current": "80440458-f860-11ed-b948-02420a010017",
     "next": "c7d4e760-f860-11ed-b948-02420a010017-1-3869",
     "previous": "38d10a76-f860-11ed-b948-02420a010017"
    }
   },
   "outputs": [],
   "source": [
    "!sudo docker cp openpose:/root/openpose/examples/media $HOME/"
   ]
  },
  {
   "cell_type": "markdown",
   "metadata": {
    "lc_cell_meme": {
     "current": "c7d4e760-f860-11ed-b948-02420a010017-1-3869",
     "next": "c7d4e90e-f860-11ed-b948-02420a010017",
     "previous": "80440458-f860-11ed-b948-02420a010017"
    }
   },
   "source": [
    "OpenPoseで複数の画像ファイルを一括処理します。"
   ]
  },
  {
   "cell_type": "code",
   "execution_count": null,
   "metadata": {
    "lc_cell_meme": {
     "current": "c7d4e90e-f860-11ed-b948-02420a010017",
     "next": "5733ba26-f861-11ed-b948-02420a010017",
     "previous": "c7d4e760-f860-11ed-b948-02420a010017-1-3869"
    }
   },
   "outputs": [],
   "source": [
    "!sudo docker exec -t openpose \\\n",
    "  build/examples/openpose/openpose.bin --display 0 \\\n",
    "  --image_dir examples/media \\\n",
    "  --write_images /root/result --write_images_format jpg"
   ]
  },
  {
   "cell_type": "markdown",
   "metadata": {},
   "source": [
    "- [ホームディレクトリ](/)\n",
    "  - 処理前の画像一覧: `media/*.jpg`\n",
    "  - 処理結果の画像一覧: `result/*.jpg`"
   ]
  },
  {
   "cell_type": "markdown",
   "metadata": {
    "lc_cell_meme": {
     "current": "5733ba26-f861-11ed-b948-02420a010017",
     "next": "5733bbf2-f861-11ed-b948-02420a010017",
     "previous": "c7d4e90e-f860-11ed-b948-02420a010017"
    }
   },
   "source": [
    "### OpenPoseの利用 (2) - 動画の処理\n",
    "\n",
    "続けて、OpenPoseのサンプル動画を処理してみます。"
   ]
  },
  {
   "cell_type": "code",
   "execution_count": null,
   "metadata": {
    "lc_cell_meme": {
     "current": "5733bbf2-f861-11ed-b948-02420a010017",
     "next": "9ea9641e-f861-11ed-b948-02420a010017",
     "previous": "5733ba26-f861-11ed-b948-02420a010017"
    }
   },
   "outputs": [],
   "source": [
    "!sudo docker exec -t openpose \\\n",
    "  build/examples/openpose/openpose.bin --display 0 \\\n",
    "  --video /root/openpose/examples/media/video.avi \\\n",
    "  --write_video /root/result/result.avi"
   ]
  },
  {
   "cell_type": "markdown",
   "metadata": {},
   "source": [
    "処理結果の動画ファイル `result/result.avi`\n",
    "> ダウンロードして、ローカルPC上の動画再生アプリ等で確認できます。"
   ]
  },
  {
   "cell_type": "markdown",
   "metadata": {
    "lc_cell_meme": {
     "current": "9ea9641e-f861-11ed-b948-02420a010017",
     "next": "75d040c0-f862-11ed-b948-02420a010017-1-804f",
     "previous": "5733bbf2-f861-11ed-b948-02420a010017"
    }
   },
   "source": [
    "### GrafanaでVCノードのGPU利用状況を確認する\n",
    "\n",
    "[Grafana](/grafana/d/vcp/vcp-metrics)で、VCノードに搭載されたGPUの利用状況を各メトリクスのグラフ表示から確認することができます。\n",
    "\n",
    "- GPU Usage per Node\n",
    "- GPU Memory Usage per Node"
   ]
  },
  {
   "cell_type": "markdown",
   "metadata": {
    "lc_cell_meme": {
     "current": "75d040c0-f862-11ed-b948-02420a010017-1-804f",
     "execution_end_time": "2023-05-22T05:36:07.284962Z",
     "next": "bd570668-f862-11ed-b948-02420a010017",
     "previous": "9ea9641e-f861-11ed-b948-02420a010017"
    },
    "lc_wrapper": {}
   },
   "source": [
    "## PyTorch公式チュートリアル\n",
    "\n",
    "PyTorch公式チュートリアルの中から、「画像データセット CIFAR-10 を使ったクラス分類モデルの訓練」を実行してみます。\n",
    "\n",
    "> (注) 学習データセットの訓練処理に GPU を使わせるためには、コード追加（後述）が必要です。"
   ]
  },
  {
   "cell_type": "markdown",
   "metadata": {},
   "source": [
    "### PyTorch60分講座 - クラス分類モデルの訓練\n",
    "\n",
    "[Tutorials](https://pytorch.org/tutorials/index.html) > [Deep Learning with PyTorch: A 60 Minute Blitz](https://pytorch.org/tutorials/beginner/deep_learning_60min_blitz.html) > [Training a Classifier](https://pytorch.org/tutorials/beginner/blitz/cifar10_tutorial.html)\n",
    "\n",
    "以下のセルを実行して `cifar10_tutorial.ipynb` をJupyterHubの [ホームディレクトリ](/) にダウンロードします。"
   ]
  },
  {
   "cell_type": "code",
   "execution_count": null,
   "metadata": {},
   "outputs": [],
   "source": [
    "!curl -L https://pytorch.org/tutorials/_downloads/4e865243430a47a00d551ca0579a6f6c/cifar10_tutorial.ipynb \\\n",
    "    -o $HOME/cifar10_tutorial.ipynb"
   ]
  },
  {
   "cell_type": "markdown",
   "metadata": {},
   "source": [
    "または、以下の手順で ipynb ファイルをダウンロードして利用します。\n",
    "\n",
    "1. [Training a Classifier](https://pytorch.org/tutorials/beginner/blitz/cifar10_tutorial.html) ページ冒頭にある **Download Notebook** のリンクから、ローカルPC上に ipynb ファイルをダウンロードします。\n",
    "2. ダウンロードした ipynb ファイルをJupyterHubの [ホームディレクトリ](/) にアップロードします。"
   ]
  },
  {
   "cell_type": "markdown",
   "metadata": {},
   "source": [
    "#### GPUを利用するには …\n",
    "\n",
    "学習データセットの訓練処理に GPU を使わせるためには、終盤にある **Training on GPU** セクションの説明に従ったコード修正が必要です。\n",
    "ただし、今回はネットワークのサイズが小さいため、CPUで実行した場合と比較して大幅な高速化にはなりません。\n",
    "\n",
    "**Training on GPU** セクションの冒頭部分にコードを追加します。\n",
    "\n",
    "新規にセルを追加し、以下の内容をコピー＆ペーストして実行してください。\n",
    "\n",
    "<div class=\"alert alert-info\">\n",
    "\n",
    "```\n",
    "# GPUデバイスを指定\n",
    "device = torch.device(\"cuda:0\" if torch.cuda.is_available() else \"cpu\")\n",
    "print(device)\n",
    "\n",
    "# ネットワーク内の全モジュールのパラメータとバッファをCUDAテンソルに変換\n",
    "net.to(device)\n",
    "\n",
    "# 4. Train the network のループ内で、入力データと正解ラベルもGPUに送るようにする\n",
    "for epoch in range(2):  # loop over the dataset multiple times\n",
    "\n",
    "    running_loss = 0.0\n",
    "    for i, data in enumerate(trainloader, 0):\n",
    "        # get the inputs; data is a list of [inputs, labels]\n",
    "        # inputs, labels = data  <<<< これを書き換える\n",
    "        inputs, labels = data[0].to(device), data[1].to(device)\n",
    "\n",
    "        # zero the parameter gradients\n",
    "        optimizer.zero_grad()\n",
    "\n",
    "        # forward + backward + optimize\n",
    "        outputs = net(inputs)\n",
    "        loss = criterion(outputs, labels)\n",
    "        loss.backward()\n",
    "        optimizer.step()\n",
    "\n",
    "        # print statistics\n",
    "        running_loss += loss.item()\n",
    "        if i % 2000 == 1999:    # print every 2000 mini-batches\n",
    "            print(f'[{epoch + 1}, {i + 1:5d}] loss: {running_loss / 2000:.3f}')\n",
    "            running_loss = 0.0\n",
    "\n",
    "print('Finished Training')\n",
    "```\n",
    "</div>"
   ]
  }
 ],
 "metadata": {
  "kernelspec": {
   "display_name": "Python 3 (ipykernel)",
   "language": "python",
   "name": "python3"
  },
  "language_info": {
   "codemirror_mode": {
    "name": "ipython",
    "version": 3
   },
   "file_extension": ".py",
   "mimetype": "text/x-python",
   "name": "python",
   "nbconvert_exporter": "python",
   "pygments_lexer": "ipython3",
   "version": "3.9.7"
  },
  "toc": {
   "base_numbering": 1,
   "nav_menu": {},
   "number_sections": true,
   "sideBar": true,
   "skip_h1_title": true,
   "title_cell": "Table of Contents",
   "title_sidebar": "Contents",
   "toc_cell": false,
   "toc_position": {},
   "toc_section_display": true,
   "toc_window_display": true
  }
 },
 "nbformat": 4,
 "nbformat_minor": 4
}
