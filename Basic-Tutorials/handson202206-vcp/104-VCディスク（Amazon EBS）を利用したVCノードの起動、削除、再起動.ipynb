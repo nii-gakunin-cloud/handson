{
 "cells": [
  {
   "cell_type": "markdown",
   "metadata": {
    "lc_cell_meme": {
     "current": "9fdf0d4a-4ad5-11e9-9859-0242ac110002",
     "next": "9fdf0db8-4ad5-11e9-9859-0242ac110002",
     "previous": null
    }
   },
   "source": [
    "# VCディスク(Amazon EBS)を利用したVCノードの起動、削除、再起動"
   ]
  },
  {
   "cell_type": "markdown",
   "metadata": {
    "lc_cell_meme": {
     "current": "9fdf0db8-4ad5-11e9-9859-0242ac110002",
     "next": "9fdf0e08-4ad5-11e9-9859-0242ac110002",
     "previous": "9fdf0d4a-4ad5-11e9-9859-0242ac110002"
    }
   },
   "source": [
    "## VCディスクについて"
   ]
  },
  {
   "cell_type": "markdown",
   "metadata": {
    "lc_cell_meme": {
     "current": "9fdf0e08-4ad5-11e9-9859-0242ac110002",
     "next": "9fdf0e58-4ad5-11e9-9859-0242ac110002",
     "previous": "9fdf0db8-4ad5-11e9-9859-0242ac110002"
    }
   },
   "source": [
    "VCPでは計算資源の操作だけではなく、外付けディスク（[Amazon EBS](https://aws.amazon.com/jp/ebs/), [Microsoft Azure Managed Disks](https://azure.microsoft.com/ja-jp/services/storage/disks/), ...）を生成、削除する機能があります。VCPによって、生成されたディスクをVCディスクと呼んでいます。\n",
    "\n",
    "通常、外付けディスクのライフサイクルは計算資源（VCノード）とは異なるので、VCディスクとVCノードは別々のUnitGroupとして扱います。"
   ]
  },
  {
   "cell_type": "markdown",
   "metadata": {
    "heading_collapsed": true,
    "lc_cell_meme": {
     "current": "9fdf0e58-4ad5-11e9-9859-0242ac110002",
     "next": "9fdf0e9e-4ad5-11e9-9859-0242ac110002",
     "previous": "9fdf0e08-4ad5-11e9-9859-0242ac110002"
    }
   },
   "source": [
    "## 構成\n",
    "\n",
    "このNotebookで構築するVCノード, VCディスクの構成を以下の図に示します。\n",
    "\n",
    "![構成](images/104-001.png)"
   ]
  },
  {
   "cell_type": "markdown",
   "metadata": {
    "hidden": true,
    "lc_cell_meme": {
     "current": "9fdf0e9e-4ad5-11e9-9859-0242ac110002",
     "next": "9fdf0ee4-4ad5-11e9-9859-0242ac110002",
     "previous": "9fdf0e58-4ad5-11e9-9859-0242ac110002"
    }
   },
   "source": [
    "* UnitGroup: handson104\n",
    "  * VCノード(Amazon EC2インスタンス)で構成されるUnitGroup\n",
    "  * ２つのUnit(nfsServer, nfsClient)で構成されている\n",
    "    * Unit: nfsServer\n",
    "      - NFSサーバとなる VCノードで構成されているUnit\n",
    "      - VC:handson104-disk の VCディスク がアタッチされる\n",
    "      - 事前に設定したIPアドレスが割り当てられる\n",
    "      - NFSサーバ用のBaseコンテナイメージを利用する\n",
    "    * Unit: nfsClient\n",
    "      - NFSクライアントとなる VCノードで構成されているUnit\n",
    "* UnitGroup: handson104-disk\n",
    "  * VCディスク(Amazon EBS)で構成されるUnitGroup\n",
    "  * １つのUnit(data)で構成されている\n",
    "    * Unit: data\n",
    "      - NFS公開用ディスクとなる VCディスクで構成されているUnit\n",
    "      - Unit:nfsServer の VCノードにアタッチされる"
   ]
  },
  {
   "cell_type": "markdown",
   "metadata": {
    "lc_cell_meme": {
     "current": "9fdf0ee4-4ad5-11e9-9859-0242ac110002",
     "next": "9fdf0f34-4ad5-11e9-9859-0242ac110002",
     "previous": "9fdf0e9e-4ad5-11e9-9859-0242ac110002"
    }
   },
   "source": [
    "## 操作手順"
   ]
  },
  {
   "cell_type": "markdown",
   "metadata": {
    "lc_cell_meme": {
     "current": "9fdf0f34-4ad5-11e9-9859-0242ac110002",
     "next": "9fdf0f7a-4ad5-11e9-9859-0242ac110002",
     "previous": "9fdf0ee4-4ad5-11e9-9859-0242ac110002"
    }
   },
   "source": [
    "この Notebook での大まかな操作手順は以下のようになります。\n",
    "\n",
    "1. VCP SDKを用いてVCディスク(Amazon EBS)を作成する\n",
    "1. 作成したVCディスクをアタッチしたVCノード(Amazon EC2インスタンス)を起動する\n",
    "1. VCディスクにファイルシステムを作成しNFSサーバで公開する\n",
    "1. NFSで公開されているディレクトリを他のVCノードからNFSマウントして、ファイルの読み書きを行う\n",
    "1. VCノードを全て削除する\n",
    "1. VCディスクをアタッチしたVCノードを新たに起動して、先ほど書き込んだファイルにアクセスできることを確認する"
   ]
  },
  {
   "cell_type": "markdown",
   "metadata": {
    "lc_cell_meme": {
     "current": "9fdf0f7a-4ad5-11e9-9859-0242ac110002",
     "next": "9fdf0fc0-4ad5-11e9-9859-0242ac110002",
     "previous": "9fdf0f34-4ad5-11e9-9859-0242ac110002"
    }
   },
   "source": [
    "# ディスクの作成\n",
    "\n",
    "VCP SDKでVCディスク(Amazon EBS)を作成します。\n",
    "\n",
    "この節を実行すると次図の状態になります。\n",
    "![step1](images/104-002.png)"
   ]
  },
  {
   "cell_type": "markdown",
   "metadata": {
    "lc_cell_meme": {
     "current": "9fdf0fc0-4ad5-11e9-9859-0242ac110002",
     "next": "9fdf1010-4ad5-11e9-9859-0242ac110002",
     "previous": "9fdf0f7a-4ad5-11e9-9859-0242ac110002"
    }
   },
   "source": [
    "VCディスクの作成手順は基本的に VCノードの作成手順と同じですが、以下の点が異なります。\n",
    "\n",
    "* UnitGroupを作成するときに`ugroup_type`パラメータを`storage`と指定します\n",
    "* flavor の定義に用いるプロバイダ名はサフィックスに `_disk`を付ける命名規則になっています。例えば\n",
    "  - `aws` の 場合は、`aws_disk`\n",
    "  - `azure` の場合は `azure_disk`"
   ]
  },
  {
   "cell_type": "markdown",
   "metadata": {
    "lc_cell_meme": {
     "current": "9fdf1010-4ad5-11e9-9859-0242ac110002",
     "next": "9fdf1056-4ad5-11e9-9859-0242ac110002",
     "previous": "9fdf0fc0-4ad5-11e9-9859-0242ac110002"
    }
   },
   "source": [
    "## アクセストークンの入力\n",
    "\n",
    "VCP SDKを利用するにはVC Controllerのアクセストークンが必要となります。"
   ]
  },
  {
   "cell_type": "markdown",
   "metadata": {
    "lc_cell_meme": {
     "current": "9fdf1056-4ad5-11e9-9859-0242ac110002",
     "next": "9fdf109c-4ad5-11e9-9859-0242ac110002",
     "previous": "9fdf1010-4ad5-11e9-9859-0242ac110002"
    }
   },
   "source": [
    "次のセルを実行すると表示される入力枠にVC Controllerのアクセストークンの値を入力してください。"
   ]
  },
  {
   "cell_type": "code",
   "execution_count": 1,
   "metadata": {
    "deletable": false,
    "editable": false,
    "lc_cell_meme": {
     "current": "9fdf109c-4ad5-11e9-9859-0242ac110002",
     "next": "9fdf10ec-4ad5-11e9-9859-0242ac110002",
     "previous": "9fdf1056-4ad5-11e9-9859-0242ac110002"
    },
    "run_through_control": {
     "frozen": true
    }
   },
   "outputs": [
    {
     "name": "stdout",
     "output_type": "stream",
     "text": [
      "········\n"
     ]
    }
   ],
   "source": [
    "from getpass import getpass\n",
    "vcc_access_token = getpass()"
   ]
  },
  {
   "cell_type": "markdown",
   "metadata": {
    "lc_cell_meme": {
     "current": "9fdf10ec-4ad5-11e9-9859-0242ac110002",
     "next": "9fdf1132-4ad5-11e9-9859-0242ac110002",
     "previous": "9fdf109c-4ad5-11e9-9859-0242ac110002"
    }
   },
   "source": [
    "## VCP SDKの初期化\n",
    "\n",
    "VCP SDKの初期化を行います。"
   ]
  },
  {
   "cell_type": "code",
   "execution_count": 2,
   "metadata": {
    "deletable": false,
    "editable": false,
    "lc_cell_meme": {
     "current": "9fdf1132-4ad5-11e9-9859-0242ac110002",
     "next": "9fdf1182-4ad5-11e9-9859-0242ac110002",
     "previous": "9fdf10ec-4ad5-11e9-9859-0242ac110002"
    },
    "run_through_control": {
     "frozen": true
    }
   },
   "outputs": [],
   "source": [
    "from common import logsetting\n",
    "from vcpsdk.vcpsdk import VcpSDK\n",
    "\n",
    "# 管理オブジェクトの作成\n",
    "vcp = VcpSDK(\n",
    "    vcc_access_token,    # VCCのアクセストークン\n",
    ")"
   ]
  },
  {
   "cell_type": "markdown",
   "metadata": {
    "lc_cell_meme": {
     "current": "9fdf1182-4ad5-11e9-9859-0242ac110002",
     "next": "9fdf11c8-4ad5-11e9-9859-0242ac110002",
     "previous": "9fdf1132-4ad5-11e9-9859-0242ac110002"
    }
   },
   "source": [
    "上のセルの実行結果がエラーとなり以下のようなメッセージが表示されている場合は、入力されたアクセストークンに誤りがあります。\n",
    "\n",
    "```\n",
    "2018-09-XX XX:XX:XX,XXX - ERROR - config vc failed: http_status(403)\n",
    "2018-09-XX XX:XX:XX,XXX - ERROR - 2018/XX/XX XX:XX:XX UTC: VCPAuthException: xxxxxxx:token lookup is failed: permission denied\n",
    "```\n",
    "\n",
    "この場合はアクセストークンの入力からやり直してください。"
   ]
  },
  {
   "cell_type": "markdown",
   "metadata": {
    "heading_collapsed": true,
    "lc_cell_meme": {
     "current": "9fdf11c8-4ad5-11e9-9859-0242ac110002",
     "next": "9fdf120e-4ad5-11e9-9859-0242ac110002",
     "previous": "9fdf1182-4ad5-11e9-9859-0242ac110002"
    }
   },
   "source": [
    "## UnitGroupの作成\n",
    "\n",
    "VCディスクのための UnitGroupを作成します。"
   ]
  },
  {
   "cell_type": "markdown",
   "metadata": {
    "hidden": true,
    "lc_cell_meme": {
     "current": "9fdf120e-4ad5-11e9-9859-0242ac110002",
     "next": "9fdf125e-4ad5-11e9-9859-0242ac110002",
     "previous": "9fdf11c8-4ad5-11e9-9859-0242ac110002"
    }
   },
   "source": [
    "VCノード用のUnitGroupと異なり、`ugroup_type`パラメータに `storage` を指定する必要があります。"
   ]
  },
  {
   "cell_type": "code",
   "execution_count": 3,
   "metadata": {
    "deletable": false,
    "editable": false,
    "hidden": true,
    "lc_cell_meme": {
     "current": "9fdf125e-4ad5-11e9-9859-0242ac110002",
     "next": "9fdf12a4-4ad5-11e9-9859-0242ac110002",
     "previous": "9fdf120e-4ad5-11e9-9859-0242ac110002"
    },
    "run_through_control": {
     "frozen": true
    }
   },
   "outputs": [],
   "source": [
    "ugroup_disk = vcp.create_ugroup(\n",
    "    'handson104-disk',       # UnitGroupの名前\n",
    "    ugroup_type='storage'    # UnitGroupの種別を指定する\n",
    ")"
   ]
  },
  {
   "cell_type": "markdown",
   "metadata": {
    "hidden": true,
    "lc_cell_meme": {
     "current": "9fdf12a4-4ad5-11e9-9859-0242ac110002",
     "next": "9fdf12ea-4ad5-11e9-9859-0242ac110002",
     "previous": "9fdf125e-4ad5-11e9-9859-0242ac110002"
    }
   },
   "source": [
    "UnitGroupの一覧を表示してみます。\n",
    "\n",
    "> UnitGroup`handson104-disk` のタイプが `storage` であることが確認できます。"
   ]
  },
  {
   "cell_type": "code",
   "execution_count": 4,
   "metadata": {
    "deletable": false,
    "editable": false,
    "hidden": true,
    "lc_cell_meme": {
     "current": "9fdf12ea-4ad5-11e9-9859-0242ac110002",
     "next": "9fdf1330-4ad5-11e9-9859-0242ac110002",
     "previous": "9fdf12a4-4ad5-11e9-9859-0242ac110002"
    },
    "run_through_control": {
     "frozen": true
    }
   },
   "outputs": [
    {
     "data": {
      "text/html": [
       "<style  type=\"text/css\" >\n",
       "    #T_d20f9b26_4af4_11e9_b773_0242ac110002row0_col3 {\n",
       "            background-color:  #dfd;\n",
       "        }</style>  \n",
       "<table id=\"T_d20f9b26_4af4_11e9_b773_0242ac110002\" > \n",
       "<thead>    <tr> \n",
       "        <th class=\"blank level0\" ></th> \n",
       "        <th class=\"col_heading level0 col0\" >vcno</th> \n",
       "        <th class=\"col_heading level0 col1\" >vctype</th> \n",
       "        <th class=\"col_heading level0 col2\" >vcname</th> \n",
       "        <th class=\"col_heading level0 col3\" >state</th> \n",
       "        <th class=\"col_heading level0 col4\" >vcid</th> \n",
       "        <th class=\"col_heading level0 col5\" >cdate</th> \n",
       "    </tr></thead> \n",
       "<tbody>    <tr> \n",
       "        <th id=\"T_d20f9b26_4af4_11e9_b773_0242ac110002level0_row0\" class=\"row_heading level0 row0\" >0</th> \n",
       "        <td id=\"T_d20f9b26_4af4_11e9_b773_0242ac110002row0_col0\" class=\"data row0 col0\" >43</td> \n",
       "        <td id=\"T_d20f9b26_4af4_11e9_b773_0242ac110002row0_col1\" class=\"data row0 col1\" >storage</td> \n",
       "        <td id=\"T_d20f9b26_4af4_11e9_b773_0242ac110002row0_col2\" class=\"data row0 col2\" >handson104-disk</td> \n",
       "        <td id=\"T_d20f9b26_4af4_11e9_b773_0242ac110002row0_col3\" class=\"data row0 col3\" >RUNNING</td> \n",
       "        <td id=\"T_d20f9b26_4af4_11e9_b773_0242ac110002row0_col4\" class=\"data row0 col4\" >7a228c33...</td> \n",
       "        <td id=\"T_d20f9b26_4af4_11e9_b773_0242ac110002row0_col5\" class=\"data row0 col5\" >2019/03/20 09:44:28 UTC</td> \n",
       "    </tr></tbody> \n",
       "</table> "
      ],
      "text/plain": [
       "<pandas.io.formats.style.Styler at 0x7f06c4705a90>"
      ]
     },
     "execution_count": 4,
     "metadata": {},
     "output_type": "execute_result"
    }
   ],
   "source": [
    "# UnitGroupの一覧を DataFrame で表示する\n",
    "vcp.df_ugroups()"
   ]
  },
  {
   "cell_type": "markdown",
   "metadata": {
    "heading_collapsed": true,
    "lc_cell_meme": {
     "current": "9fdf1330-4ad5-11e9-9859-0242ac110002",
     "next": "9fdf1380-4ad5-11e9-9859-0242ac110002",
     "previous": "9fdf12ea-4ad5-11e9-9859-0242ac110002"
    }
   },
   "source": [
    "## UnitGroupの状態を確認する"
   ]
  },
  {
   "cell_type": "markdown",
   "metadata": {
    "hidden": true,
    "lc_cell_meme": {
     "current": "9fdf1380-4ad5-11e9-9859-0242ac110002",
     "next": "9fdf13c6-4ad5-11e9-9859-0242ac110002",
     "previous": "9fdf1330-4ad5-11e9-9859-0242ac110002"
    }
   },
   "source": [
    "UnitGroup `handson104-disk` にまだ Unit, VCディスク が作成されていないことを確認します。"
   ]
  },
  {
   "cell_type": "code",
   "execution_count": 5,
   "metadata": {
    "deletable": false,
    "editable": false,
    "hidden": true,
    "lc_cell_meme": {
     "current": "9fdf13c6-4ad5-11e9-9859-0242ac110002",
     "next": "9fdf140c-4ad5-11e9-9859-0242ac110002",
     "previous": "9fdf1380-4ad5-11e9-9859-0242ac110002"
    },
    "run_through_control": {
     "frozen": true
    }
   },
   "outputs": [
    {
     "data": {
      "text/html": [
       "<div>\n",
       "<style scoped>\n",
       "    .dataframe tbody tr th:only-of-type {\n",
       "        vertical-align: middle;\n",
       "    }\n",
       "\n",
       "    .dataframe tbody tr th {\n",
       "        vertical-align: top;\n",
       "    }\n",
       "\n",
       "    .dataframe thead th {\n",
       "        text-align: right;\n",
       "    }\n",
       "</style>\n",
       "<table border=\"1\" class=\"dataframe\">\n",
       "  <thead>\n",
       "    <tr style=\"text-align: right;\">\n",
       "      <th></th>\n",
       "      <th>vctype</th>\n",
       "      <th>vcno</th>\n",
       "      <th>vcname</th>\n",
       "      <th>vc_state</th>\n",
       "      <th>vcid</th>\n",
       "      <th>cdate</th>\n",
       "      <th>unit_name</th>\n",
       "      <th>unit_state</th>\n",
       "    </tr>\n",
       "  </thead>\n",
       "  <tbody>\n",
       "  </tbody>\n",
       "</table>\n",
       "</div>"
      ],
      "text/plain": [
       "Empty DataFrame\n",
       "Columns: [vctype, vcno, vcname, vc_state, vcid, cdate, unit_name, unit_state]\n",
       "Index: []"
      ]
     },
     "metadata": {},
     "output_type": "display_data"
    },
    {
     "data": {
      "text/plain": [
       "[]"
      ]
     },
     "metadata": {},
     "output_type": "display_data"
    }
   ],
   "source": [
    "from IPython.display import display\n",
    "\n",
    "# Unitの一覧を DataFrame で表示する\n",
    "display(ugroup_disk.df_units())\n",
    "\n",
    "# VCディスクの一覧を DataFrame で表示する\n",
    "display(ugroup_disk.df_nodes())"
   ]
  },
  {
   "cell_type": "markdown",
   "metadata": {
    "heading_collapsed": true,
    "lc_cell_meme": {
     "current": "9fdf140c-4ad5-11e9-9859-0242ac110002",
     "next": "9fdf145c-4ad5-11e9-9859-0242ac110002",
     "previous": "9fdf13c6-4ad5-11e9-9859-0242ac110002"
    }
   },
   "source": [
    "## VCディスクのspecを指定する"
   ]
  },
  {
   "cell_type": "markdown",
   "metadata": {
    "hidden": true,
    "lc_cell_meme": {
     "current": "9fdf145c-4ad5-11e9-9859-0242ac110002",
     "next": "9fdf14ac-4ad5-11e9-9859-0242ac110002",
     "previous": "9fdf140c-4ad5-11e9-9859-0242ac110002"
    }
   },
   "source": [
    "### flavor"
   ]
  },
  {
   "cell_type": "markdown",
   "metadata": {
    "hidden": true,
    "lc_cell_meme": {
     "current": "9fdf14ac-4ad5-11e9-9859-0242ac110002",
     "next": "9fdf14f2-4ad5-11e9-9859-0242ac110002",
     "previous": "9fdf145c-4ad5-11e9-9859-0242ac110002"
    }
   },
   "source": [
    "VCノードの場合と同様、VCディスクについても典型的な構成のパラメータセットを flavor として定義しています。\n",
    "\n",
    "aws用に定義しているVCディスクの flavor 定義の一覧を表示してみます。"
   ]
  },
  {
   "cell_type": "code",
   "execution_count": 6,
   "metadata": {
    "deletable": false,
    "editable": false,
    "hidden": true,
    "lc_cell_meme": {
     "current": "9fdf14f2-4ad5-11e9-9859-0242ac110002",
     "next": "9fdf1538-4ad5-11e9-9859-0242ac110002",
     "previous": "9fdf14ac-4ad5-11e9-9859-0242ac110002"
    },
    "run_through_control": {
     "frozen": true
    }
   },
   "outputs": [
    {
     "data": {
      "text/html": [
       "<div>\n",
       "<style scoped>\n",
       "    .dataframe tbody tr th:only-of-type {\n",
       "        vertical-align: middle;\n",
       "    }\n",
       "\n",
       "    .dataframe tbody tr th {\n",
       "        vertical-align: top;\n",
       "    }\n",
       "\n",
       "    .dataframe thead th {\n",
       "        text-align: right;\n",
       "    }\n",
       "</style>\n",
       "<table border=\"1\" class=\"dataframe\">\n",
       "  <thead>\n",
       "    <tr style=\"text-align: right;\">\n",
       "      <th></th>\n",
       "      <th>flavor</th>\n",
       "      <th>size</th>\n",
       "      <th>type</th>\n",
       "    </tr>\n",
       "  </thead>\n",
       "  <tbody>\n",
       "    <tr>\n",
       "      <th>0</th>\n",
       "      <td>small</td>\n",
       "      <td>8</td>\n",
       "      <td>standard</td>\n",
       "    </tr>\n",
       "    <tr>\n",
       "      <th>1</th>\n",
       "      <td>medium</td>\n",
       "      <td>32</td>\n",
       "      <td>standard</td>\n",
       "    </tr>\n",
       "    <tr>\n",
       "      <th>2</th>\n",
       "      <td>large</td>\n",
       "      <td>128</td>\n",
       "      <td>standard</td>\n",
       "    </tr>\n",
       "  </tbody>\n",
       "</table>\n",
       "</div>"
      ],
      "text/plain": [
       "   flavor  size      type\n",
       "0   small     8  standard\n",
       "1  medium    32  standard\n",
       "2   large   128  standard"
      ]
     },
     "execution_count": 6,
     "metadata": {},
     "output_type": "execute_result"
    }
   ],
   "source": [
    "vcp.df_flavors('aws_disk')"
   ]
  },
  {
   "cell_type": "markdown",
   "metadata": {
    "hidden": true,
    "lc_cell_meme": {
     "current": "9fdf1538-4ad5-11e9-9859-0242ac110002",
     "next": "9fdf157e-4ad5-11e9-9859-0242ac110002",
     "previous": "9fdf14f2-4ad5-11e9-9859-0242ac110002"
    }
   },
   "source": [
    "### spec オブジェクトを作成する\n",
    "\n",
    "specオブジェクトを作成します。"
   ]
  },
  {
   "cell_type": "markdown",
   "metadata": {
    "hidden": true,
    "lc_cell_meme": {
     "current": "9fdf157e-4ad5-11e9-9859-0242ac110002",
     "next": "9fdf15c4-4ad5-11e9-9859-0242ac110002",
     "previous": "9fdf1538-4ad5-11e9-9859-0242ac110002"
    }
   },
   "source": [
    "specオブジェクトを作成するにはプロバイダと`flavor`を指定します。ここでは以下の値を指定します。\n",
    "\n",
    "* プロバイダ: `aws_disk`\n",
    "* flavor: `small`\n",
    "\n",
    "\n",
    "> VCディスクのプロバイダ名にはサフィックスに `_disk`を付ける命名規則になっています。"
   ]
  },
  {
   "cell_type": "code",
   "execution_count": 7,
   "metadata": {
    "deletable": false,
    "editable": false,
    "hidden": true,
    "lc_cell_meme": {
     "current": "9fdf15c4-4ad5-11e9-9859-0242ac110002",
     "next": "9fdf1614-4ad5-11e9-9859-0242ac110002",
     "previous": "9fdf157e-4ad5-11e9-9859-0242ac110002"
    },
    "run_through_control": {
     "frozen": true
    }
   },
   "outputs": [],
   "source": [
    "spec_disk = vcp.get_spec('aws_disk', 'small')"
   ]
  },
  {
   "cell_type": "markdown",
   "metadata": {
    "hidden": true,
    "lc_cell_meme": {
     "current": "9fdf1614-4ad5-11e9-9859-0242ac110002",
     "next": "9fdf165a-4ad5-11e9-9859-0242ac110002",
     "previous": "9fdf15c4-4ad5-11e9-9859-0242ac110002"
    }
   },
   "source": [
    "### specの設定内容の確認\n",
    "\n",
    "`spec` オブジェクトの設定内容を確認してみます。"
   ]
  },
  {
   "cell_type": "markdown",
   "metadata": {
    "hidden": true,
    "lc_cell_meme": {
     "current": "9fdf165a-4ad5-11e9-9859-0242ac110002",
     "next": "9fdf16a0-4ad5-11e9-9859-0242ac110002",
     "previous": "9fdf1614-4ad5-11e9-9859-0242ac110002"
    }
   },
   "source": [
    "> `flavor` の指定に対応する値が `size`, `type`に 設定されていることが確認できます。"
   ]
  },
  {
   "cell_type": "code",
   "execution_count": 8,
   "metadata": {
    "deletable": false,
    "editable": false,
    "hidden": true,
    "lc_cell_meme": {
     "current": "9fdf16a0-4ad5-11e9-9859-0242ac110002",
     "next": "9fdf16e6-4ad5-11e9-9859-0242ac110002",
     "previous": "9fdf165a-4ad5-11e9-9859-0242ac110002"
    },
    "run_through_control": {
     "frozen": true
    }
   },
   "outputs": [
    {
     "name": "stdout",
     "output_type": "stream",
     "text": [
      "\n",
      "========================\n",
      "aws_disk\n",
      "------------------------\n",
      "\n",
      "    cci_version: \"1.0\"\n",
      "    name: \n",
      "    description: \n",
      "    private_network: default\n",
      "    num_disks: 1\n",
      "    size: 8\n",
      "    type: standard\n",
      "    cloud_image: default\n",
      "    tags: {}\n",
      "========================\n"
     ]
    }
   ],
   "source": [
    "print(spec_disk)"
   ]
  },
  {
   "cell_type": "markdown",
   "metadata": {
    "hidden": true,
    "lc_cell_meme": {
     "current": "9fdf16e6-4ad5-11e9-9859-0242ac110002",
     "next": "9fdf172c-4ad5-11e9-9859-0242ac110002",
     "previous": "9fdf16a0-4ad5-11e9-9859-0242ac110002"
    }
   },
   "source": [
    "`spec`オブジェクトに対しては、以下のようなパラメータを指定することもできます。\n",
    "\n",
    "* num_disks\n",
    "  - Unit内に作成するVCディスクの数: デフォルト=1\n",
    "* type\n",
    "  - Amazon EBSのタイプ\n",
    "  - flavorで設定されているもの以外を利用したい場合に指定する\n",
    "* size\n",
    "  - Amazon EBSのサイズ(GiB)\n",
    "  - flavorで設定されているもの以外を利用したい場合に指定する"
   ]
  },
  {
   "cell_type": "markdown",
   "metadata": {
    "heading_collapsed": true,
    "lc_cell_meme": {
     "current": "9fdf172c-4ad5-11e9-9859-0242ac110002",
     "next": "9fdf177c-4ad5-11e9-9859-0242ac110002",
     "previous": "9fdf16e6-4ad5-11e9-9859-0242ac110002"
    }
   },
   "source": [
    "## Unitの作成とVCディスクの作成"
   ]
  },
  {
   "cell_type": "markdown",
   "metadata": {
    "hidden": true,
    "lc_cell_meme": {
     "current": "9fdf177c-4ad5-11e9-9859-0242ac110002",
     "next": "9fdf17c2-4ad5-11e9-9859-0242ac110002",
     "previous": "9fdf172c-4ad5-11e9-9859-0242ac110002"
    }
   },
   "source": [
    "Unitを作成します。同時に VCディスク（ここでは Amazon EBS）が作成されます。\n",
    "\n",
    "> 処理が完了するまで20～30秒程度かかります。"
   ]
  },
  {
   "cell_type": "code",
   "execution_count": 9,
   "metadata": {
    "deletable": false,
    "editable": false,
    "hidden": true,
    "lc_cell_meme": {
     "current": "9fdf17c2-4ad5-11e9-9859-0242ac110002",
     "next": "9fdf1808-4ad5-11e9-9859-0242ac110002",
     "previous": "9fdf177c-4ad5-11e9-9859-0242ac110002"
    },
    "run_through_control": {
     "frozen": true
    }
   },
   "outputs": [
    {
     "name": "stdout",
     "output_type": "stream",
     "text": [
      "2019-03-20 18:45:09,209 - INFO - BOOTING ... 0 sec\n",
      "2019-03-20 18:45:14,377 - INFO - BOOTING ... 5 sec\n",
      "2019-03-20 18:45:19,538 - INFO - BOOTING ... 10 sec\n",
      "2019-03-20 18:45:24,700 - INFO - BOOTING ... 15 sec\n",
      "2019-03-20 18:45:35,876 - INFO - unit data is RUNNING\n"
     ]
    },
    {
     "data": {
      "text/plain": [
       "<vcpsdk.vcpsdk.VcpUnitClass at 0x7f06f7b4c2b0>"
      ]
     },
     "execution_count": 9,
     "metadata": {},
     "output_type": "execute_result"
    }
   ],
   "source": [
    "# Unitの作成（同時に VCディスクが作成される）\n",
    "ugroup_disk.create_unit('data', spec_disk)"
   ]
  },
  {
   "cell_type": "markdown",
   "metadata": {
    "hidden": true,
    "lc_cell_meme": {
     "current": "9fdf1808-4ad5-11e9-9859-0242ac110002",
     "next": "9fdf184e-4ad5-11e9-9859-0242ac110002",
     "previous": "9fdf17c2-4ad5-11e9-9859-0242ac110002"
    }
   },
   "source": [
    "現在の Unit, VCディスク の一覧を表示します。"
   ]
  },
  {
   "cell_type": "code",
   "execution_count": 10,
   "metadata": {
    "deletable": false,
    "editable": false,
    "hidden": true,
    "lc_cell_meme": {
     "current": "9fdf184e-4ad5-11e9-9859-0242ac110002",
     "next": "9fdf1894-4ad5-11e9-9859-0242ac110002",
     "previous": "9fdf1808-4ad5-11e9-9859-0242ac110002"
    },
    "run_through_control": {
     "frozen": true
    }
   },
   "outputs": [
    {
     "data": {
      "text/html": [
       "<div>\n",
       "<style scoped>\n",
       "    .dataframe tbody tr th:only-of-type {\n",
       "        vertical-align: middle;\n",
       "    }\n",
       "\n",
       "    .dataframe tbody tr th {\n",
       "        vertical-align: top;\n",
       "    }\n",
       "\n",
       "    .dataframe thead th {\n",
       "        text-align: right;\n",
       "    }\n",
       "</style>\n",
       "<table border=\"1\" class=\"dataframe\">\n",
       "  <thead>\n",
       "    <tr style=\"text-align: right;\">\n",
       "      <th></th>\n",
       "      <th>vctype</th>\n",
       "      <th>vcno</th>\n",
       "      <th>vcname</th>\n",
       "      <th>vc_state</th>\n",
       "      <th>vcid</th>\n",
       "      <th>cdate</th>\n",
       "      <th>unit_name</th>\n",
       "      <th>unit_state</th>\n",
       "    </tr>\n",
       "  </thead>\n",
       "  <tbody>\n",
       "    <tr>\n",
       "      <th>0</th>\n",
       "      <td>storage</td>\n",
       "      <td>43</td>\n",
       "      <td>handson104-disk</td>\n",
       "      <td>RUNNING</td>\n",
       "      <td>7a228c33...</td>\n",
       "      <td>2019/03/20 09:44:28 UTC</td>\n",
       "      <td>data</td>\n",
       "      <td>RUNNING</td>\n",
       "    </tr>\n",
       "  </tbody>\n",
       "</table>\n",
       "</div>"
      ],
      "text/plain": [
       "    vctype  vcno           vcname vc_state         vcid  \\\n",
       "0  storage    43  handson104-disk  RUNNING  7a228c33...   \n",
       "\n",
       "                     cdate unit_name unit_state  \n",
       "0  2019/03/20 09:44:28 UTC      data    RUNNING  "
      ]
     },
     "metadata": {},
     "output_type": "display_data"
    },
    {
     "data": {
      "text/html": [
       "<style  type=\"text/css\" >\n",
       "    #T_e9a6ee56_4af4_11e9_b773_0242ac110002row0_col3 {\n",
       "            background-color:  #dfd;\n",
       "        }    #T_e9a6ee56_4af4_11e9_b773_0242ac110002row0_col6 {\n",
       "            background-color:  #dfd;\n",
       "        }</style>  \n",
       "<table id=\"T_e9a6ee56_4af4_11e9_b773_0242ac110002\" > \n",
       "<thead>    <tr> \n",
       "        <th class=\"blank level0\" ></th> \n",
       "        <th class=\"col_heading level0 col0\" >vcno</th> \n",
       "        <th class=\"col_heading level0 col1\" >vcname</th> \n",
       "        <th class=\"col_heading level0 col2\" >unit_name</th> \n",
       "        <th class=\"col_heading level0 col3\" >unit_state</th> \n",
       "        <th class=\"col_heading level0 col4\" >disk_no</th> \n",
       "        <th class=\"col_heading level0 col5\" >disk_id</th> \n",
       "        <th class=\"col_heading level0 col6\" >node_state</th> \n",
       "        <th class=\"col_heading level0 col7\" >cloud_disk_id</th> \n",
       "        <th class=\"col_heading level0 col8\" >cloud_disk_size</th> \n",
       "    </tr></thead> \n",
       "<tbody>    <tr> \n",
       "        <th id=\"T_e9a6ee56_4af4_11e9_b773_0242ac110002level0_row0\" class=\"row_heading level0 row0\" >0</th> \n",
       "        <td id=\"T_e9a6ee56_4af4_11e9_b773_0242ac110002row0_col0\" class=\"data row0 col0\" >43</td> \n",
       "        <td id=\"T_e9a6ee56_4af4_11e9_b773_0242ac110002row0_col1\" class=\"data row0 col1\" >handson104-disk</td> \n",
       "        <td id=\"T_e9a6ee56_4af4_11e9_b773_0242ac110002row0_col2\" class=\"data row0 col2\" >data</td> \n",
       "        <td id=\"T_e9a6ee56_4af4_11e9_b773_0242ac110002row0_col3\" class=\"data row0 col3\" >RUNNING</td> \n",
       "        <td id=\"T_e9a6ee56_4af4_11e9_b773_0242ac110002row0_col4\" class=\"data row0 col4\" >1</td> \n",
       "        <td id=\"T_e9a6ee56_4af4_11e9_b773_0242ac110002row0_col5\" class=\"data row0 col5\" >61dbbf45...</td> \n",
       "        <td id=\"T_e9a6ee56_4af4_11e9_b773_0242ac110002row0_col6\" class=\"data row0 col6\" >RUNNING</td> \n",
       "        <td id=\"T_e9a6ee56_4af4_11e9_b773_0242ac110002row0_col7\" class=\"data row0 col7\" >vol-07628e27cfeaf8e8a</td> \n",
       "        <td id=\"T_e9a6ee56_4af4_11e9_b773_0242ac110002row0_col8\" class=\"data row0 col8\" >8</td> \n",
       "    </tr></tbody> \n",
       "</table> "
      ],
      "text/plain": [
       "<pandas.io.formats.style.Styler at 0x7f06fbe00208>"
      ]
     },
     "metadata": {},
     "output_type": "display_data"
    }
   ],
   "source": [
    "# Unitの一覧を DataFrame で表示する\n",
    "display(ugroup_disk.df_units())\n",
    "\n",
    "# VCディスクの一覧を DataFrame で表示する\n",
    "display(ugroup_disk.df_nodes())"
   ]
  },
  {
   "cell_type": "markdown",
   "metadata": {
    "heading_collapsed": true,
    "lc_cell_meme": {
     "current": "9fdf1894-4ad5-11e9-9859-0242ac110002",
     "next": "9fdf18da-4ad5-11e9-9859-0242ac110002",
     "previous": "9fdf184e-4ad5-11e9-9859-0242ac110002"
    }
   },
   "source": [
    "# NFSサーバ用VCノードの起動\n",
    "\n",
    "NFSサーバ用のVCノードを起動します。\n",
    "\n",
    "この節を実行すると次図の状態になります。\n",
    "![step2](images/104-003.png)"
   ]
  },
  {
   "cell_type": "markdown",
   "metadata": {
    "hidden": true,
    "lc_cell_meme": {
     "current": "9fdf18da-4ad5-11e9-9859-0242ac110002",
     "next": "9fdf192a-4ad5-11e9-9859-0242ac110002",
     "previous": "9fdf1894-4ad5-11e9-9859-0242ac110002"
    }
   },
   "source": [
    "## UnitGroupの作成\n",
    "\n",
    "VCノードのためのUnitGroupを作成します。"
   ]
  },
  {
   "cell_type": "code",
   "execution_count": 11,
   "metadata": {
    "deletable": false,
    "editable": false,
    "hidden": true,
    "lc_cell_meme": {
     "current": "9fdf192a-4ad5-11e9-9859-0242ac110002",
     "next": "9fdf1970-4ad5-11e9-9859-0242ac110002",
     "previous": "9fdf18da-4ad5-11e9-9859-0242ac110002"
    },
    "run_through_control": {
     "frozen": true
    }
   },
   "outputs": [],
   "source": [
    "unit_group = vcp.create_ugroup(\n",
    "    'handson104'       # UnitGroupの名前\n",
    ")"
   ]
  },
  {
   "cell_type": "markdown",
   "metadata": {
    "hidden": true,
    "lc_cell_meme": {
     "current": "9fdf1970-4ad5-11e9-9859-0242ac110002",
     "next": "9fdf19b6-4ad5-11e9-9859-0242ac110002",
     "previous": "9fdf192a-4ad5-11e9-9859-0242ac110002"
    }
   },
   "source": [
    "UnitGroupの一覧を表示してみます。"
   ]
  },
  {
   "cell_type": "code",
   "execution_count": 12,
   "metadata": {
    "deletable": false,
    "editable": false,
    "hidden": true,
    "lc_cell_meme": {
     "current": "9fdf19b6-4ad5-11e9-9859-0242ac110002",
     "next": "9fdf19fc-4ad5-11e9-9859-0242ac110002",
     "previous": "9fdf1970-4ad5-11e9-9859-0242ac110002"
    },
    "run_through_control": {
     "frozen": true
    }
   },
   "outputs": [
    {
     "data": {
      "text/html": [
       "<style  type=\"text/css\" >\n",
       "    #T_fa14ed74_4af4_11e9_b773_0242ac110002row0_col3 {\n",
       "            background-color:  #dfd;\n",
       "        }    #T_fa14ed74_4af4_11e9_b773_0242ac110002row1_col3 {\n",
       "            background-color:  #dfd;\n",
       "        }</style>  \n",
       "<table id=\"T_fa14ed74_4af4_11e9_b773_0242ac110002\" > \n",
       "<thead>    <tr> \n",
       "        <th class=\"blank level0\" ></th> \n",
       "        <th class=\"col_heading level0 col0\" >vcno</th> \n",
       "        <th class=\"col_heading level0 col1\" >vctype</th> \n",
       "        <th class=\"col_heading level0 col2\" >vcname</th> \n",
       "        <th class=\"col_heading level0 col3\" >state</th> \n",
       "        <th class=\"col_heading level0 col4\" >vcid</th> \n",
       "        <th class=\"col_heading level0 col5\" >cdate</th> \n",
       "    </tr></thead> \n",
       "<tbody>    <tr> \n",
       "        <th id=\"T_fa14ed74_4af4_11e9_b773_0242ac110002level0_row0\" class=\"row_heading level0 row0\" >0</th> \n",
       "        <td id=\"T_fa14ed74_4af4_11e9_b773_0242ac110002row0_col0\" class=\"data row0 col0\" >43</td> \n",
       "        <td id=\"T_fa14ed74_4af4_11e9_b773_0242ac110002row0_col1\" class=\"data row0 col1\" >storage</td> \n",
       "        <td id=\"T_fa14ed74_4af4_11e9_b773_0242ac110002row0_col2\" class=\"data row0 col2\" >handson104-disk</td> \n",
       "        <td id=\"T_fa14ed74_4af4_11e9_b773_0242ac110002row0_col3\" class=\"data row0 col3\" >RUNNING</td> \n",
       "        <td id=\"T_fa14ed74_4af4_11e9_b773_0242ac110002row0_col4\" class=\"data row0 col4\" >7a228c33...</td> \n",
       "        <td id=\"T_fa14ed74_4af4_11e9_b773_0242ac110002row0_col5\" class=\"data row0 col5\" >2019/03/20 09:44:28 UTC</td> \n",
       "    </tr>    <tr> \n",
       "        <th id=\"T_fa14ed74_4af4_11e9_b773_0242ac110002level0_row1\" class=\"row_heading level0 row1\" >1</th> \n",
       "        <td id=\"T_fa14ed74_4af4_11e9_b773_0242ac110002row1_col0\" class=\"data row1 col0\" >44</td> \n",
       "        <td id=\"T_fa14ed74_4af4_11e9_b773_0242ac110002row1_col1\" class=\"data row1 col1\" >compute</td> \n",
       "        <td id=\"T_fa14ed74_4af4_11e9_b773_0242ac110002row1_col2\" class=\"data row1 col2\" >handson104</td> \n",
       "        <td id=\"T_fa14ed74_4af4_11e9_b773_0242ac110002row1_col3\" class=\"data row1 col3\" >RUNNING</td> \n",
       "        <td id=\"T_fa14ed74_4af4_11e9_b773_0242ac110002row1_col4\" class=\"data row1 col4\" >5df8c1a7...</td> \n",
       "        <td id=\"T_fa14ed74_4af4_11e9_b773_0242ac110002row1_col5\" class=\"data row1 col5\" >2019/03/20 09:45:35 UTC</td> \n",
       "    </tr></tbody> \n",
       "</table> "
      ],
      "text/plain": [
       "<pandas.io.formats.style.Styler at 0x7f06bf7b1320>"
      ]
     },
     "execution_count": 12,
     "metadata": {},
     "output_type": "execute_result"
    }
   ],
   "source": [
    "vcp.df_ugroups()"
   ]
  },
  {
   "cell_type": "markdown",
   "metadata": {
    "hidden": true,
    "lc_cell_meme": {
     "current": "9fdf19fc-4ad5-11e9-9859-0242ac110002",
     "next": "9fdf1a42-4ad5-11e9-9859-0242ac110002",
     "previous": "9fdf19b6-4ad5-11e9-9859-0242ac110002"
    }
   },
   "source": [
    "Unit Group `handson104` にまだ Unit, VCノードが作成されていないことを確認します。"
   ]
  },
  {
   "cell_type": "code",
   "execution_count": 13,
   "metadata": {
    "deletable": false,
    "editable": false,
    "hidden": true,
    "lc_cell_meme": {
     "current": "9fdf1a42-4ad5-11e9-9859-0242ac110002",
     "next": "9fdf1a9c-4ad5-11e9-9859-0242ac110002",
     "previous": "9fdf19fc-4ad5-11e9-9859-0242ac110002"
    },
    "run_through_control": {
     "frozen": true
    }
   },
   "outputs": [
    {
     "data": {
      "text/html": [
       "<div>\n",
       "<style scoped>\n",
       "    .dataframe tbody tr th:only-of-type {\n",
       "        vertical-align: middle;\n",
       "    }\n",
       "\n",
       "    .dataframe tbody tr th {\n",
       "        vertical-align: top;\n",
       "    }\n",
       "\n",
       "    .dataframe thead th {\n",
       "        text-align: right;\n",
       "    }\n",
       "</style>\n",
       "<table border=\"1\" class=\"dataframe\">\n",
       "  <thead>\n",
       "    <tr style=\"text-align: right;\">\n",
       "      <th></th>\n",
       "      <th>vctype</th>\n",
       "      <th>vcno</th>\n",
       "      <th>vcname</th>\n",
       "      <th>vc_state</th>\n",
       "      <th>vcid</th>\n",
       "      <th>cdate</th>\n",
       "      <th>unit_name</th>\n",
       "      <th>unit_state</th>\n",
       "    </tr>\n",
       "  </thead>\n",
       "  <tbody>\n",
       "  </tbody>\n",
       "</table>\n",
       "</div>"
      ],
      "text/plain": [
       "Empty DataFrame\n",
       "Columns: [vctype, vcno, vcname, vc_state, vcid, cdate, unit_name, unit_state]\n",
       "Index: []"
      ]
     },
     "metadata": {},
     "output_type": "display_data"
    },
    {
     "data": {
      "text/plain": [
       "[]"
      ]
     },
     "metadata": {},
     "output_type": "display_data"
    }
   ],
   "source": [
    "# Unitの一覧を DataFrame で表示する\n",
    "display(unit_group.df_units())\n",
    "\n",
    "# VCノードの一覧を DataFrame で表示する\n",
    "display(unit_group.df_nodes())"
   ]
  },
  {
   "cell_type": "markdown",
   "metadata": {
    "hidden": true,
    "lc_cell_meme": {
     "current": "9fdf1a9c-4ad5-11e9-9859-0242ac110002",
     "next": "9fdf1ae2-4ad5-11e9-9859-0242ac110002",
     "previous": "9fdf1a42-4ad5-11e9-9859-0242ac110002"
    }
   },
   "source": [
    "## VCノードのspecを指定する\n",
    "\n",
    "NFSサーバ用の`spec`を指定します。"
   ]
  },
  {
   "cell_type": "markdown",
   "metadata": {
    "hidden": true,
    "lc_cell_meme": {
     "current": "9fdf1ae2-4ad5-11e9-9859-0242ac110002",
     "next": "9fdf1b28-4ad5-11e9-9859-0242ac110002",
     "previous": "9fdf1a9c-4ad5-11e9-9859-0242ac110002"
    }
   },
   "source": [
    "NFSサーバ用の`spec`ではSSHの公開鍵認証の設定に加えて、以下の設定を行います。\n",
    "\n",
    "* 事前に定めたIPアドレスを割り当てる\n",
    "* `handson104-disk` の VCディスクをアタッチする\n",
    "* NFSサーバ用のBaseコンテナに関する設定を行う"
   ]
  },
  {
   "cell_type": "markdown",
   "metadata": {
    "hidden": true,
    "lc_cell_meme": {
     "current": "9fdf1b28-4ad5-11e9-9859-0242ac110002",
     "next": "9fdf1b6e-4ad5-11e9-9859-0242ac110002",
     "previous": "9fdf1ae2-4ad5-11e9-9859-0242ac110002"
    }
   },
   "source": [
    "### spec オブジェクトを作成する"
   ]
  },
  {
   "cell_type": "markdown",
   "metadata": {
    "hidden": true,
    "lc_cell_meme": {
     "current": "9fdf1b6e-4ad5-11e9-9859-0242ac110002",
     "next": "9fdf1bb4-4ad5-11e9-9859-0242ac110002",
     "previous": "9fdf1b28-4ad5-11e9-9859-0242ac110002"
    }
   },
   "source": [
    "specオブジェクトを作成します。ここでは以下の値を指定します。\n",
    "\n",
    "* プロバイダ: `aws`\n",
    "* flavor: `small`。"
   ]
  },
  {
   "cell_type": "code",
   "execution_count": 14,
   "metadata": {
    "deletable": false,
    "editable": false,
    "hidden": true,
    "lc_cell_meme": {
     "current": "9fdf1bb4-4ad5-11e9-9859-0242ac110002",
     "next": "9fdf1bfa-4ad5-11e9-9859-0242ac110002",
     "previous": "9fdf1b6e-4ad5-11e9-9859-0242ac110002"
    },
    "run_through_control": {
     "frozen": true
    }
   },
   "outputs": [],
   "source": [
    "spec_server = vcp.get_spec('aws', 'small')"
   ]
  },
  {
   "cell_type": "markdown",
   "metadata": {
    "hidden": true,
    "lc_cell_meme": {
     "current": "9fdf1bfa-4ad5-11e9-9859-0242ac110002",
     "next": "9fdf1c4a-4ad5-11e9-9859-0242ac110002",
     "previous": "9fdf1bb4-4ad5-11e9-9859-0242ac110002"
    }
   },
   "source": [
    "### sshの鍵ファイルを設定する"
   ]
  },
  {
   "cell_type": "markdown",
   "metadata": {
    "hidden": true,
    "lc_cell_meme": {
     "current": "9fdf1c4a-4ad5-11e9-9859-0242ac110002",
     "next": "9fdf1c90-4ad5-11e9-9859-0242ac110002",
     "previous": "9fdf1bfa-4ad5-11e9-9859-0242ac110002"
    }
   },
   "source": [
    "VCノードにsshでログインするための公開鍵のパスを設定します。"
   ]
  },
  {
   "cell_type": "code",
   "execution_count": 15,
   "metadata": {
    "deletable": false,
    "editable": false,
    "hidden": true,
    "lc_cell_meme": {
     "current": "9fdf1c90-4ad5-11e9-9859-0242ac110002",
     "next": "9fdf1cd6-4ad5-11e9-9859-0242ac110002",
     "previous": "9fdf1c4a-4ad5-11e9-9859-0242ac110002"
    },
    "run_through_control": {
     "frozen": true
    }
   },
   "outputs": [],
   "source": [
    "import os\n",
    "ssh_public_key = os.path.expanduser('~/.ssh/id_rsa.pub')"
   ]
  },
  {
   "cell_type": "markdown",
   "metadata": {
    "hidden": true,
    "lc_cell_meme": {
     "current": "9fdf1cd6-4ad5-11e9-9859-0242ac110002",
     "next": "9fdf1d26-4ad5-11e9-9859-0242ac110002",
     "previous": "9fdf1c90-4ad5-11e9-9859-0242ac110002"
    }
   },
   "source": [
    "指定された公開鍵を`spec`に設定します。"
   ]
  },
  {
   "cell_type": "code",
   "execution_count": 16,
   "metadata": {
    "deletable": false,
    "editable": false,
    "hidden": true,
    "lc_cell_meme": {
     "current": "9fdf1d26-4ad5-11e9-9859-0242ac110002",
     "next": "9fdf1d6c-4ad5-11e9-9859-0242ac110002",
     "previous": "9fdf1cd6-4ad5-11e9-9859-0242ac110002"
    },
    "run_through_control": {
     "frozen": true
    }
   },
   "outputs": [],
   "source": [
    "spec_server.set_ssh_pubkey(ssh_public_key)"
   ]
  },
  {
   "cell_type": "markdown",
   "metadata": {
    "hidden": true,
    "lc_cell_meme": {
     "current": "9fdf1d6c-4ad5-11e9-9859-0242ac110002",
     "next": "9fdf1db2-4ad5-11e9-9859-0242ac110002",
     "previous": "9fdf1d26-4ad5-11e9-9859-0242ac110002"
    }
   },
   "source": [
    "後でVCノードにログインする際に秘密鍵が必要になるので、次のセルで秘密鍵のパスを設定してください。"
   ]
  },
  {
   "cell_type": "code",
   "execution_count": 17,
   "metadata": {
    "deletable": false,
    "editable": false,
    "hidden": true,
    "lc_cell_meme": {
     "current": "9fdf1db2-4ad5-11e9-9859-0242ac110002",
     "next": "9fdf1e02-4ad5-11e9-9859-0242ac110002",
     "previous": "9fdf1d6c-4ad5-11e9-9859-0242ac110002"
    },
    "run_through_control": {
     "frozen": true
    }
   },
   "outputs": [],
   "source": [
    "ssh_private_key = os.path.expanduser('~/.ssh/id_rsa')"
   ]
  },
  {
   "cell_type": "markdown",
   "metadata": {
    "hidden": true,
    "lc_cell_meme": {
     "current": "9fdf1e02-4ad5-11e9-9859-0242ac110002",
     "next": "9fdf1e48-4ad5-11e9-9859-0242ac110002",
     "previous": "9fdf1db2-4ad5-11e9-9859-0242ac110002"
    }
   },
   "source": [
    "公開鍵と秘密鍵が正しいペアであることをチェックします。次のセルを実行してエラーにならないことを確認してください。"
   ]
  },
  {
   "cell_type": "code",
   "execution_count": 18,
   "metadata": {
    "deletable": false,
    "editable": false,
    "hidden": true,
    "lc_cell_meme": {
     "current": "9fdf1e48-4ad5-11e9-9859-0242ac110002",
     "next": "9fdf1e98-4ad5-11e9-9859-0242ac110002",
     "previous": "9fdf1e02-4ad5-11e9-9859-0242ac110002"
    },
    "run_through_control": {
     "frozen": true
    }
   },
   "outputs": [],
   "source": [
    "!grep -q \"$(ssh-keygen -y -f {ssh_private_key})\" {ssh_public_key}"
   ]
  },
  {
   "cell_type": "markdown",
   "metadata": {
    "hidden": true,
    "lc_cell_meme": {
     "current": "9fdf1e98-4ad5-11e9-9859-0242ac110002",
     "next": "9fdf1ede-4ad5-11e9-9859-0242ac110002",
     "previous": "9fdf1e48-4ad5-11e9-9859-0242ac110002"
    }
   },
   "source": [
    "### VCノードのIPアドレスを設定する"
   ]
  },
  {
   "cell_type": "markdown",
   "metadata": {
    "hidden": true,
    "lc_cell_meme": {
     "current": "9fdf1ede-4ad5-11e9-9859-0242ac110002",
     "next": "9fdf1f24-4ad5-11e9-9859-0242ac110002",
     "previous": "9fdf1e98-4ad5-11e9-9859-0242ac110002"
    }
   },
   "source": [
    "NFSサーバに固定のIPアドレスを割り当てるための設定を `spec` に行います。次のセルの `server_ip_address`にNFSサーバに割り当てる IPアドレスを指定してください。\n",
    "\n",
    "> 割り当て可能な IP アドレスの範囲は[VCP Manager Web UI](https://tokyo01.vcloud.nii.ac.jp/vcp/v1/ui/occmgr/menu/occtrs) から取得することができます。"
   ]
  },
  {
   "cell_type": "code",
   "execution_count": 19,
   "metadata": {
    "deletable": false,
    "editable": false,
    "hidden": true,
    "lc_cell_meme": {
     "current": "9fdf1f24-4ad5-11e9-9859-0242ac110002",
     "next": "9fdf1f6a-4ad5-11e9-9859-0242ac110002",
     "previous": "9fdf1ede-4ad5-11e9-9859-0242ac110002"
    },
    "run_through_control": {
     "frozen": true
    }
   },
   "outputs": [],
   "source": [
    "# NFSサーバのIPアドレス\n",
    "server_ip_address = '172.30.2.10'\n",
    "\n",
    "# spec_server にIPアドレスを設定する\n",
    "spec_server.ip_addresses = [server_ip_address]"
   ]
  },
  {
   "cell_type": "markdown",
   "metadata": {
    "hidden": true,
    "lc_cell_meme": {
     "current": "9fdf1f6a-4ad5-11e9-9859-0242ac110002",
     "next": "9fdf1fba-4ad5-11e9-9859-0242ac110002",
     "previous": "9fdf1f24-4ad5-11e9-9859-0242ac110002"
    }
   },
   "source": [
    "### VCディスクをアタッチする"
   ]
  },
  {
   "cell_type": "markdown",
   "metadata": {
    "hidden": true,
    "lc_cell_meme": {
     "current": "9fdf1fba-4ad5-11e9-9859-0242ac110002",
     "next": "9fdf2000-4ad5-11e9-9859-0242ac110002",
     "previous": "9fdf1f6a-4ad5-11e9-9859-0242ac110002"
    }
   },
   "source": [
    "VCノードの`spec`にアタッチするVCディスクのリストを設定します。"
   ]
  },
  {
   "cell_type": "code",
   "execution_count": 20,
   "metadata": {
    "deletable": false,
    "editable": false,
    "hidden": true,
    "lc_cell_meme": {
     "current": "9fdf2000-4ad5-11e9-9859-0242ac110002",
     "next": "9fdf2046-4ad5-11e9-9859-0242ac110002",
     "previous": "9fdf1fba-4ad5-11e9-9859-0242ac110002"
    },
    "run_through_control": {
     "frozen": true
    }
   },
   "outputs": [
    {
     "name": "stdout",
     "output_type": "stream",
     "text": [
      "[<vcplib.occtr.VcNode object at 0x7f06bf728978>]\n",
      "\n",
      "========================\n",
      "aws\n",
      "------------------------\n",
      "\n",
      "    cci_version: \"1.0\"\n",
      "    name: \n",
      "    description: \n",
      "    private_network: default\n",
      "    num_nodes: 1\n",
      "    image: vcp/base:1.4.2\n",
      "    recovery_mode: none\n",
      "    params:\n",
      "        {'v': [], 'e': ['AUTHORIZED_KEYS=c3NoLXJzYSBBQUFBQjNOemFDMXljMkVBQUFBREFRQUJBQUFCQVFDcW5XY3Y2TlB6SVRld3pKdEMzbTdPb040MGhHUkJQSDdRR2pjUk5FQXY5T0tMcFl6TEJha01rN2VLL3krRzZZRTQ3VUJCdWFGT21hREtOdVJsdHRjLytZZWRTbEI3eGdtMXpyUXl4SExpa2FxSys3azBxclRkSHNPcm5pNEJOWDNEWS9IK2pINldGZ3RZSUtxUk1qWmRXM05PRWJabHMwZkNBVFovR3R6RkhnblMrKzhXN3BSUXYzc1R4NDBHR2h0L2dWU2hOcGEyRmtKREFYeFFscDZXK1AvdkNBaDJxV3E5M1ZRQ1FzQWxpNjVCTGNMZ0hPVy9UbGFlZ2pTTXk4dkszNzUrL0NuSTZja1BTeU1pWHlvMi91clRneXg5QlNZQWYvVUovNXpnb3hjSUsxUlFqR1FPcUs2MVZUTVo2QnhzWXc0bkRDaWdwaFI5L1BXMnNIUDMgYml0X2t1bkA5M2EzNGM3NmQwNDIK']}\n",
      "    instance_type: m4.large\n",
      "    volume_size: 8\n",
      "    volume_type: gp2\n",
      "    volume_id: ['vcp:7a228c3347ef40ac95b5d6dd6dde61c2:data:61dbbf45220c4330b4c9745602c4e3aa']\n",
      "    cloud_image: default\n",
      "    tags: {}\n",
      "========================\n"
     ]
    }
   ],
   "source": [
    "# 現在の全てのVCディスクのリストを取得する\n",
    "disk_list = ugroup_disk.find_nodes()\n",
    "print(disk_list)\n",
    "\n",
    "# VCディスクのリストを spec に設定する\n",
    "spec_server.disks = disk_list\n",
    "\n",
    "# specに設定されたことを確認する(VCディスクはspecのvolume_idに設定される)\n",
    "print(spec_server)"
   ]
  },
  {
   "cell_type": "markdown",
   "metadata": {
    "hidden": true,
    "lc_cell_meme": {
     "current": "9fdf2046-4ad5-11e9-9859-0242ac110002",
     "next": "9fdf208c-4ad5-11e9-9859-0242ac110002",
     "previous": "9fdf2000-4ad5-11e9-9859-0242ac110002"
    }
   },
   "source": [
    "リストに複数のVCディスクを指定した場合は、全てのVCディスクが一つのVCノードにアタッチされます。\n",
    "\n",
    "> VCノードにVCディスクをアタッチするように設定した場合は Unit に複数の VCノードを作成することが出来なくなります。"
   ]
  },
  {
   "cell_type": "markdown",
   "metadata": {
    "hidden": true,
    "lc_cell_meme": {
     "current": "9fdf208c-4ad5-11e9-9859-0242ac110002",
     "next": "9fdf20d2-4ad5-11e9-9859-0242ac110002",
     "previous": "9fdf2046-4ad5-11e9-9859-0242ac110002"
    }
   },
   "source": [
    "### NFSサーバ用のBaseコンテナに関する設定を行う"
   ]
  },
  {
   "cell_type": "markdown",
   "metadata": {
    "hidden": true,
    "lc_cell_meme": {
     "current": "9fdf20d2-4ad5-11e9-9859-0242ac110002",
     "next": "9fdf2122-4ad5-11e9-9859-0242ac110002",
     "previous": "9fdf208c-4ad5-11e9-9859-0242ac110002"
    }
   },
   "source": [
    "これまでの例ではBaseコンテナには標準のコンテナイメージを利用していました。今回起動するVCノードではNFSサーバ用のBaseコンテナイメージを利用します。まず`spec`オブジェクトにNFSサーバ用のコンテナイメージの指定を行います。"
   ]
  },
  {
   "cell_type": "code",
   "execution_count": 21,
   "metadata": {
    "deletable": false,
    "editable": false,
    "hidden": true,
    "lc_cell_meme": {
     "current": "9fdf2122-4ad5-11e9-9859-0242ac110002",
     "next": "9fdf2168-4ad5-11e9-9859-0242ac110002",
     "previous": "9fdf20d2-4ad5-11e9-9859-0242ac110002"
    },
    "run_through_control": {
     "frozen": true
    }
   },
   "outputs": [],
   "source": [
    "# NFSサーバ用のコンテナイメージを設定する\n",
    "spec_server.image = 'vcp/nfsd'"
   ]
  },
  {
   "cell_type": "markdown",
   "metadata": {
    "hidden": true,
    "lc_cell_meme": {
     "current": "9fdf2168-4ad5-11e9-9859-0242ac110002",
     "next": "9fdf21ae-4ad5-11e9-9859-0242ac110002",
     "previous": "9fdf2122-4ad5-11e9-9859-0242ac110002"
    }
   },
   "source": [
    "Baseコンテナには `spec.params_e` に設定した値を環境変数として受け渡すことができます。これを利用してBaseコンテナの動作や設定値を変更することができます。パラメータの役割を担う環境変数はいくつかありますが、最もよく用いるのはVCノードにsshの公開鍵を登録するための`AUTHORIZED_KEYS`です。\n",
    "\n",
    "どのような環境変数がパラメータの役割を担うのかはコンテナイメージ毎に異なります。NFSサーバ用のコンテナイメージで指定可能なパラメータを以下に記します。\n",
    "\n",
    "* NFS_DOMAIN\n",
    "  - 指定された値をNFSドメインとして設定ファイル(/etc/idmapd.conf)に反映する\n",
    "* ETC_EXPORTS\n",
    "  - 指定された値を/etc/exportsに反映する。ただしbase64エンコードした値を指定する必要がある\n",
    "* ETC_FSTAB\n",
    "  - 指定された値を/etc/fstabに反映する。ただしbase64エンコードした値を指定する必要がある\n",
    "* MKDIR_LIST\n",
    "  - 指定されたディレクトリを起動時に作成する\n",
    "  - 複数のディレクトリを指定する場合は `:` で区切る\n",
    "  - 事前に作成することが必要となるマウントポイントなどのディレクトリを指定する\n",
    "  \n",
    "ここでは NFSドメインの設定のみ行います。"
   ]
  },
  {
   "cell_type": "code",
   "execution_count": 22,
   "metadata": {
    "deletable": false,
    "editable": false,
    "hidden": true,
    "lc_cell_meme": {
     "current": "9fdf21ae-4ad5-11e9-9859-0242ac110002",
     "next": "9fdf21fe-4ad5-11e9-9859-0242ac110002",
     "previous": "9fdf2168-4ad5-11e9-9859-0242ac110002"
    },
    "run_through_control": {
     "frozen": true
    }
   },
   "outputs": [],
   "source": [
    "# NFSドメインの設定\n",
    "nfs_domain = 'vcp-handson.org'\n",
    "\n",
    "spec_server.params_e.append('NFS_DOMAIN={}'.format(nfs_domain))"
   ]
  },
  {
   "cell_type": "markdown",
   "metadata": {
    "hidden": true,
    "lc_cell_meme": {
     "current": "9fdf21fe-4ad5-11e9-9859-0242ac110002",
     "next": "9fdf224e-4ad5-11e9-9859-0242ac110002",
     "previous": "9fdf21ae-4ad5-11e9-9859-0242ac110002"
    }
   },
   "source": [
    "### specの設定内容の確認\n",
    "\n",
    "ここまで `spec` オブジェクトに設定した内容を確認してみます。"
   ]
  },
  {
   "cell_type": "code",
   "execution_count": 23,
   "metadata": {
    "deletable": false,
    "editable": false,
    "hidden": true,
    "lc_cell_meme": {
     "current": "9fdf224e-4ad5-11e9-9859-0242ac110002",
     "next": "9fdf2294-4ad5-11e9-9859-0242ac110002",
     "previous": "9fdf21fe-4ad5-11e9-9859-0242ac110002"
    },
    "run_through_control": {
     "frozen": true
    },
    "scrolled": false
   },
   "outputs": [
    {
     "name": "stdout",
     "output_type": "stream",
     "text": [
      "\n",
      "========================\n",
      "aws\n",
      "------------------------\n",
      "\n",
      "    cci_version: \"1.0\"\n",
      "    name: \n",
      "    description: \n",
      "    private_network: default\n",
      "    num_nodes: 1\n",
      "    image: vcp/nfsd\n",
      "    recovery_mode: none\n",
      "    params:\n",
      "        {'v': [], 'e': ['AUTHORIZED_KEYS=c3NoLXJzYSBBQUFBQjNOemFDMXljMkVBQUFBREFRQUJBQUFCQVFDcW5XY3Y2TlB6SVRld3pKdEMzbTdPb040MGhHUkJQSDdRR2pjUk5FQXY5T0tMcFl6TEJha01rN2VLL3krRzZZRTQ3VUJCdWFGT21hREtOdVJsdHRjLytZZWRTbEI3eGdtMXpyUXl4SExpa2FxSys3azBxclRkSHNPcm5pNEJOWDNEWS9IK2pINldGZ3RZSUtxUk1qWmRXM05PRWJabHMwZkNBVFovR3R6RkhnblMrKzhXN3BSUXYzc1R4NDBHR2h0L2dWU2hOcGEyRmtKREFYeFFscDZXK1AvdkNBaDJxV3E5M1ZRQ1FzQWxpNjVCTGNMZ0hPVy9UbGFlZ2pTTXk4dkszNzUrL0NuSTZja1BTeU1pWHlvMi91clRneXg5QlNZQWYvVUovNXpnb3hjSUsxUlFqR1FPcUs2MVZUTVo2QnhzWXc0bkRDaWdwaFI5L1BXMnNIUDMgYml0X2t1bkA5M2EzNGM3NmQwNDIK', 'NFS_DOMAIN=vcp-handson.org']}\n",
      "    instance_type: m4.large\n",
      "    volume_size: 8\n",
      "    volume_type: gp2\n",
      "    volume_id: ['vcp:7a228c3347ef40ac95b5d6dd6dde61c2:data:61dbbf45220c4330b4c9745602c4e3aa']\n",
      "    cloud_image: default\n",
      "    tags: {}\n",
      "========================\n"
     ]
    }
   ],
   "source": [
    "print(spec_server)"
   ]
  },
  {
   "cell_type": "markdown",
   "metadata": {
    "hidden": true,
    "lc_cell_meme": {
     "current": "9fdf2294-4ad5-11e9-9859-0242ac110002",
     "next": "9fdf22da-4ad5-11e9-9859-0242ac110002",
     "previous": "9fdf224e-4ad5-11e9-9859-0242ac110002"
    }
   },
   "source": [
    "## Unitの作成とVCノードの起動"
   ]
  },
  {
   "cell_type": "markdown",
   "metadata": {
    "hidden": true,
    "lc_cell_meme": {
     "current": "9fdf22da-4ad5-11e9-9859-0242ac110002",
     "next": "9fdf2320-4ad5-11e9-9859-0242ac110002",
     "previous": "9fdf2294-4ad5-11e9-9859-0242ac110002"
    }
   },
   "source": [
    "起動前のUnit, VCノードの状態を確認しておきます。"
   ]
  },
  {
   "cell_type": "code",
   "execution_count": 24,
   "metadata": {
    "deletable": false,
    "editable": false,
    "hidden": true,
    "lc_cell_meme": {
     "current": "9fdf2320-4ad5-11e9-9859-0242ac110002",
     "next": "9fdf2366-4ad5-11e9-9859-0242ac110002",
     "previous": "9fdf22da-4ad5-11e9-9859-0242ac110002"
    },
    "run_through_control": {
     "frozen": true
    }
   },
   "outputs": [
    {
     "data": {
      "text/html": [
       "<div>\n",
       "<style scoped>\n",
       "    .dataframe tbody tr th:only-of-type {\n",
       "        vertical-align: middle;\n",
       "    }\n",
       "\n",
       "    .dataframe tbody tr th {\n",
       "        vertical-align: top;\n",
       "    }\n",
       "\n",
       "    .dataframe thead th {\n",
       "        text-align: right;\n",
       "    }\n",
       "</style>\n",
       "<table border=\"1\" class=\"dataframe\">\n",
       "  <thead>\n",
       "    <tr style=\"text-align: right;\">\n",
       "      <th></th>\n",
       "      <th>vctype</th>\n",
       "      <th>vcno</th>\n",
       "      <th>vcname</th>\n",
       "      <th>vc_state</th>\n",
       "      <th>vcid</th>\n",
       "      <th>cdate</th>\n",
       "      <th>unit_name</th>\n",
       "      <th>unit_state</th>\n",
       "    </tr>\n",
       "  </thead>\n",
       "  <tbody>\n",
       "  </tbody>\n",
       "</table>\n",
       "</div>"
      ],
      "text/plain": [
       "Empty DataFrame\n",
       "Columns: [vctype, vcno, vcname, vc_state, vcid, cdate, unit_name, unit_state]\n",
       "Index: []"
      ]
     },
     "metadata": {},
     "output_type": "display_data"
    },
    {
     "data": {
      "text/plain": [
       "[]"
      ]
     },
     "metadata": {},
     "output_type": "display_data"
    }
   ],
   "source": [
    "from IPython.display import display\n",
    "\n",
    "# Unitの一覧を DataFrame で表示する\n",
    "display(unit_group.df_units())\n",
    "\n",
    "# Nodeの一覧を DataFrame で表示する\n",
    "display(unit_group.df_nodes())"
   ]
  },
  {
   "cell_type": "markdown",
   "metadata": {
    "hidden": true,
    "lc_cell_meme": {
     "current": "9fdf2366-4ad5-11e9-9859-0242ac110002",
     "history": [
      {
       "current": "9fdf2366-4ad5-11e9-9859-0242ac110002",
       "next": "9fdf23ac-4ad5-11e9-9859-0242ac110002",
       "previous": "9fdf2320-4ad5-11e9-9859-0242ac110002"
      },
      {
       "current": "9fdf2366-4ad5-11e9-9859-0242ac110002",
       "next": "fb96bf68-4ad8-11e9-9859-0242ac110002",
       "previous": "9fdf2320-4ad5-11e9-9859-0242ac110002"
      }
     ],
     "next": "9fdf23ac-4ad5-11e9-9859-0242ac110002",
     "previous": "9fdf2320-4ad5-11e9-9859-0242ac110002"
    }
   },
   "source": [
    "Unitの作成とVCノードの起動を行います。\n",
    "\n",
    "> 処理が完了するまで1分半～2分程度かかります。"
   ]
  },
  {
   "cell_type": "code",
   "execution_count": 25,
   "metadata": {
    "deletable": false,
    "editable": false,
    "hidden": true,
    "lc_cell_meme": {
     "current": "9fdf23ac-4ad5-11e9-9859-0242ac110002",
     "history": [
      {
       "current": "9fdf23ac-4ad5-11e9-9859-0242ac110002",
       "next": "9fdf23f2-4ad5-11e9-9859-0242ac110002",
       "previous": "9fdf2366-4ad5-11e9-9859-0242ac110002"
      },
      {
       "current": "9fdf23ac-4ad5-11e9-9859-0242ac110002",
       "next": "9fdf23f2-4ad5-11e9-9859-0242ac110002",
       "previous": "fb96bf68-4ad8-11e9-9859-0242ac110002"
      }
     ],
     "next": "9fdf23f2-4ad5-11e9-9859-0242ac110002",
     "previous": "9fdf2366-4ad5-11e9-9859-0242ac110002"
    },
    "run_through_control": {
     "frozen": true
    }
   },
   "outputs": [
    {
     "name": "stdout",
     "output_type": "stream",
     "text": [
      "2019-03-20 18:46:06,627 - INFO - BOOTING ... 0 sec\n",
      "2019-03-20 18:46:11,825 - INFO - BOOTING ... 5 sec\n",
      "2019-03-20 18:46:17,027 - INFO - BOOTING ... 10 sec\n",
      "2019-03-20 18:46:22,235 - INFO - BOOTING ... 15 sec\n",
      "2019-03-20 18:46:27,434 - INFO - BOOTING ... 20 sec\n",
      "2019-03-20 18:46:32,641 - INFO - BOOTING ... 25 sec\n",
      "2019-03-20 18:46:37,853 - INFO - BOOTING ... 30 sec\n",
      "2019-03-20 18:46:43,051 - INFO - BOOTING ... 35 sec\n",
      "2019-03-20 18:46:48,252 - INFO - BOOTING ... 40 sec\n",
      "2019-03-20 18:46:53,453 - INFO - BOOTING ... 45 sec\n",
      "2019-03-20 18:46:58,653 - INFO - BOOTING ... 50 sec\n",
      "2019-03-20 18:47:03,851 - INFO - BOOTING ... 55 sec\n",
      "2019-03-20 18:47:09,055 - INFO - BOOTING ... 60 sec\n",
      "2019-03-20 18:47:14,258 - INFO - BOOTING ... 65 sec\n",
      "2019-03-20 18:47:19,455 - INFO - BOOTING ... 70 sec\n",
      "2019-03-20 18:47:24,660 - INFO - BOOTING ... 75 sec\n",
      "2019-03-20 18:47:35,882 - INFO - unit nfsServer is RUNNING\n"
     ]
    }
   ],
   "source": [
    "# Unitの作成（同時に VCノードが作成される）\n",
    "unit_server = unit_group.create_unit('nfsServer', spec_server)"
   ]
  },
  {
   "cell_type": "markdown",
   "metadata": {
    "hidden": true,
    "lc_cell_meme": {
     "current": "9fdf23f2-4ad5-11e9-9859-0242ac110002",
     "next": "9fdf2438-4ad5-11e9-9859-0242ac110002",
     "previous": "9fdf23ac-4ad5-11e9-9859-0242ac110002"
    }
   },
   "source": [
    "起動したUnit, VCノードの一覧を表示します。"
   ]
  },
  {
   "cell_type": "code",
   "execution_count": 26,
   "metadata": {
    "deletable": false,
    "editable": false,
    "hidden": true,
    "lc_cell_meme": {
     "current": "9fdf2438-4ad5-11e9-9859-0242ac110002",
     "history": [
      {
       "current": "9fdf2438-4ad5-11e9-9859-0242ac110002",
       "next": "9fdf247e-4ad5-11e9-9859-0242ac110002",
       "previous": "9fdf23f2-4ad5-11e9-9859-0242ac110002"
      },
      {
       "current": "9fdf2438-4ad5-11e9-9859-0242ac110002",
       "next": "d2df6484-4ad9-11e9-9859-0242ac110002",
       "previous": "9fdf23f2-4ad5-11e9-9859-0242ac110002"
      },
      {
       "current": "9fdf2438-4ad5-11e9-9859-0242ac110002",
       "next": "9fdf247e-4ad5-11e9-9859-0242ac110002",
       "previous": "9fdf23f2-4ad5-11e9-9859-0242ac110002"
      },
      {
       "current": "9fdf2438-4ad5-11e9-9859-0242ac110002",
       "next": "c797dd70-4adb-11e9-9859-0242ac110002",
       "previous": "9fdf23f2-4ad5-11e9-9859-0242ac110002"
      }
     ],
     "next": "9fdf247e-4ad5-11e9-9859-0242ac110002",
     "previous": "9fdf23f2-4ad5-11e9-9859-0242ac110002"
    },
    "run_through_control": {
     "frozen": true
    },
    "scrolled": false
   },
   "outputs": [
    {
     "data": {
      "text/html": [
       "<div>\n",
       "<style scoped>\n",
       "    .dataframe tbody tr th:only-of-type {\n",
       "        vertical-align: middle;\n",
       "    }\n",
       "\n",
       "    .dataframe tbody tr th {\n",
       "        vertical-align: top;\n",
       "    }\n",
       "\n",
       "    .dataframe thead th {\n",
       "        text-align: right;\n",
       "    }\n",
       "</style>\n",
       "<table border=\"1\" class=\"dataframe\">\n",
       "  <thead>\n",
       "    <tr style=\"text-align: right;\">\n",
       "      <th></th>\n",
       "      <th>vctype</th>\n",
       "      <th>vcno</th>\n",
       "      <th>vcname</th>\n",
       "      <th>vc_state</th>\n",
       "      <th>vcid</th>\n",
       "      <th>cdate</th>\n",
       "      <th>unit_name</th>\n",
       "      <th>unit_state</th>\n",
       "    </tr>\n",
       "  </thead>\n",
       "  <tbody>\n",
       "    <tr>\n",
       "      <th>0</th>\n",
       "      <td>compute</td>\n",
       "      <td>44</td>\n",
       "      <td>handson104</td>\n",
       "      <td>RUNNING</td>\n",
       "      <td>5df8c1a7...</td>\n",
       "      <td>2019/03/20 09:45:35 UTC</td>\n",
       "      <td>nfsServer</td>\n",
       "      <td>RUNNING</td>\n",
       "    </tr>\n",
       "  </tbody>\n",
       "</table>\n",
       "</div>"
      ],
      "text/plain": [
       "    vctype  vcno      vcname vc_state         vcid                    cdate  \\\n",
       "0  compute    44  handson104  RUNNING  5df8c1a7...  2019/03/20 09:45:35 UTC   \n",
       "\n",
       "   unit_name unit_state  \n",
       "0  nfsServer    RUNNING  "
      ]
     },
     "metadata": {},
     "output_type": "display_data"
    },
    {
     "data": {
      "text/html": [
       "<style  type=\"text/css\" >\n",
       "    #T_3144a24e_4af5_11e9_b773_0242ac110002row0_col3 {\n",
       "            background-color:  #dfd;\n",
       "        }    #T_3144a24e_4af5_11e9_b773_0242ac110002row0_col6 {\n",
       "            background-color:  #dfd;\n",
       "        }</style>  \n",
       "<table id=\"T_3144a24e_4af5_11e9_b773_0242ac110002\" > \n",
       "<thead>    <tr> \n",
       "        <th class=\"blank level0\" ></th> \n",
       "        <th class=\"col_heading level0 col0\" >vcno</th> \n",
       "        <th class=\"col_heading level0 col1\" >vcname</th> \n",
       "        <th class=\"col_heading level0 col2\" >unit_name</th> \n",
       "        <th class=\"col_heading level0 col3\" >unit_state</th> \n",
       "        <th class=\"col_heading level0 col4\" >node_no</th> \n",
       "        <th class=\"col_heading level0 col5\" >node_id</th> \n",
       "        <th class=\"col_heading level0 col6\" >node_state</th> \n",
       "        <th class=\"col_heading level0 col7\" >cloud_instance_address</th> \n",
       "        <th class=\"col_heading level0 col8\" >cloud_instance_id</th> \n",
       "        <th class=\"col_heading level0 col9\" >cloud_instance_name</th> \n",
       "        <th class=\"col_heading level0 col10\" >volumes</th> \n",
       "    </tr></thead> \n",
       "<tbody>    <tr> \n",
       "        <th id=\"T_3144a24e_4af5_11e9_b773_0242ac110002level0_row0\" class=\"row_heading level0 row0\" >0</th> \n",
       "        <td id=\"T_3144a24e_4af5_11e9_b773_0242ac110002row0_col0\" class=\"data row0 col0\" >44</td> \n",
       "        <td id=\"T_3144a24e_4af5_11e9_b773_0242ac110002row0_col1\" class=\"data row0 col1\" >handson104</td> \n",
       "        <td id=\"T_3144a24e_4af5_11e9_b773_0242ac110002row0_col2\" class=\"data row0 col2\" >nfsServer</td> \n",
       "        <td id=\"T_3144a24e_4af5_11e9_b773_0242ac110002row0_col3\" class=\"data row0 col3\" >RUNNING</td> \n",
       "        <td id=\"T_3144a24e_4af5_11e9_b773_0242ac110002row0_col4\" class=\"data row0 col4\" >1</td> \n",
       "        <td id=\"T_3144a24e_4af5_11e9_b773_0242ac110002row0_col5\" class=\"data row0 col5\" >2d02e284...</td> \n",
       "        <td id=\"T_3144a24e_4af5_11e9_b773_0242ac110002row0_col6\" class=\"data row0 col6\" >RUNNING</td> \n",
       "        <td id=\"T_3144a24e_4af5_11e9_b773_0242ac110002row0_col7\" class=\"data row0 col7\" >172.30.2.10</td> \n",
       "        <td id=\"T_3144a24e_4af5_11e9_b773_0242ac110002row0_col8\" class=\"data row0 col8\" >i-055f321cd3d3ef8c5</td> \n",
       "        <td id=\"T_3144a24e_4af5_11e9_b773_0242ac110002row0_col9\" class=\"data row0 col9\" >VCP-e84fbb63-5df8c1a7</td> \n",
       "        <td id=\"T_3144a24e_4af5_11e9_b773_0242ac110002row0_col10\" class=\"data row0 col10\" >exists</td> \n",
       "    </tr></tbody> \n",
       "</table> "
      ],
      "text/plain": [
       "<pandas.io.formats.style.Styler at 0x7f06bf755518>"
      ]
     },
     "metadata": {},
     "output_type": "display_data"
    }
   ],
   "source": [
    "# Unitの一覧を DataFrame で表示する\n",
    "display(unit_group.df_units())\n",
    "\n",
    "# Nodeの一覧を DataFrame で表示する\n",
    "display(unit_group.df_nodes())"
   ]
  },
  {
   "cell_type": "markdown",
   "metadata": {
    "hidden": true,
    "lc_cell_meme": {
     "current": "9fdf247e-4ad5-11e9-9859-0242ac110002",
     "history": [
      {
       "current": "9fdf247e-4ad5-11e9-9859-0242ac110002",
       "next": "9fdf24c4-4ad5-11e9-9859-0242ac110002",
       "previous": "9fdf2438-4ad5-11e9-9859-0242ac110002"
      },
      {
       "current": "9fdf247e-4ad5-11e9-9859-0242ac110002",
       "next": "9fdf24c4-4ad5-11e9-9859-0242ac110002",
       "previous": "d2df65ce-4ad9-11e9-9859-0242ac110002"
      },
      {
       "current": "9fdf247e-4ad5-11e9-9859-0242ac110002",
       "next": "9fdf24c4-4ad5-11e9-9859-0242ac110002",
       "previous": "9fdf2438-4ad5-11e9-9859-0242ac110002"
      },
      {
       "current": "9fdf247e-4ad5-11e9-9859-0242ac110002",
       "next": "9fdf24c4-4ad5-11e9-9859-0242ac110002",
       "previous": "c797df14-4adb-11e9-9859-0242ac110002"
      },
      {
       "current": "9fdf247e-4ad5-11e9-9859-0242ac110002",
       "next": "9fdf24c4-4ad5-11e9-9859-0242ac110002",
       "previous": "c797dd70-4adb-11e9-9859-0242ac110002"
      }
     ],
     "next": "9fdf24c4-4ad5-11e9-9859-0242ac110002",
     "previous": "9fdf2438-4ad5-11e9-9859-0242ac110002"
    }
   },
   "source": [
    "起動したVCノード に対して `ping` を行ってみます。"
   ]
  },
  {
   "cell_type": "code",
   "execution_count": 27,
   "metadata": {
    "deletable": false,
    "editable": false,
    "hidden": true,
    "lc_cell_meme": {
     "current": "9fdf24c4-4ad5-11e9-9859-0242ac110002",
     "next": "9fdf250a-4ad5-11e9-9859-0242ac110002",
     "previous": "9fdf247e-4ad5-11e9-9859-0242ac110002"
    },
    "run_through_control": {
     "frozen": true
    }
   },
   "outputs": [
    {
     "name": "stdout",
     "output_type": "stream",
     "text": [
      "PING 172.30.2.10 (172.30.2.10) 56(84) bytes of data.\n",
      "64 bytes from 172.30.2.10: icmp_seq=3 ttl=63 time=0.417 ms\n",
      "64 bytes from 172.30.2.10: icmp_seq=4 ttl=63 time=0.435 ms\n",
      "64 bytes from 172.30.2.10: icmp_seq=5 ttl=63 time=0.381 ms\n",
      "\n",
      "--- 172.30.2.10 ping statistics ---\n",
      "5 packets transmitted, 3 received, 40% packet loss, time 4013ms\n",
      "rtt min/avg/max/mdev = 0.381/0.411/0.435/0.022 ms\n"
     ]
    }
   ],
   "source": [
    "!ping -c 5 {server_ip_address}"
   ]
  },
  {
   "cell_type": "markdown",
   "metadata": {
    "hidden": true,
    "lc_cell_meme": {
     "current": "9fdf250a-4ad5-11e9-9859-0242ac110002",
     "next": "9fdf2550-4ad5-11e9-9859-0242ac110002",
     "previous": "9fdf24c4-4ad5-11e9-9859-0242ac110002"
    }
   },
   "source": [
    "VCノードのホストキーを ~/.ssh/known_hosts に登録します。"
   ]
  },
  {
   "cell_type": "code",
   "execution_count": 28,
   "metadata": {
    "deletable": false,
    "editable": false,
    "hidden": true,
    "lc_cell_meme": {
     "current": "9fdf2550-4ad5-11e9-9859-0242ac110002",
     "next": "9fdf25a0-4ad5-11e9-9859-0242ac110002",
     "previous": "9fdf250a-4ad5-11e9-9859-0242ac110002"
    },
    "run_through_control": {
     "frozen": true
    }
   },
   "outputs": [
    {
     "name": "stdout",
     "output_type": "stream",
     "text": [
      "/home/bit_kun/.ssh/known_hosts updated.\n",
      "Original contents retained as /home/bit_kun/.ssh/known_hosts.old\n",
      "# 172.30.2.10 SSH-2.0-OpenSSH_7.4\n",
      "# 172.30.2.10 SSH-2.0-OpenSSH_7.4\n",
      "# 172.30.2.10 SSH-2.0-OpenSSH_7.4\n"
     ]
    }
   ],
   "source": [
    "for address in unit_server.find_ip_addresses():\n",
    "    !touch ~/.ssh/known_hosts\n",
    "    # ~/.ssh/known_hosts から古いホストキーを削除する\n",
    "    !ssh-keygen -R {address}\n",
    "    # ホストキーの登録\n",
    "    !ssh-keyscan -H {address} >> ~/.ssh/known_hosts"
   ]
  },
  {
   "cell_type": "markdown",
   "metadata": {
    "hidden": true,
    "lc_cell_meme": {
     "current": "9fdf25a0-4ad5-11e9-9859-0242ac110002",
     "next": "9fdf25e6-4ad5-11e9-9859-0242ac110002",
     "previous": "9fdf2550-4ad5-11e9-9859-0242ac110002"
    }
   },
   "source": [
    "## Ansible の設定"
   ]
  },
  {
   "cell_type": "markdown",
   "metadata": {
    "hidden": true,
    "lc_cell_meme": {
     "current": "9fdf25e6-4ad5-11e9-9859-0242ac110002",
     "next": "9fdf262c-4ad5-11e9-9859-0242ac110002",
     "previous": "9fdf25a0-4ad5-11e9-9859-0242ac110002"
    }
   },
   "source": [
    "VCノードの操作には [Ansible](https://www.ansible.com/) を用いるので、その設定を行います。\n",
    "\n",
    "まず、起動したVCノードのIPアドレスをインベントリに登録します。グループ名は Unit名に合わせて `nfsServer`とします。"
   ]
  },
  {
   "cell_type": "code",
   "execution_count": 29,
   "metadata": {
    "deletable": false,
    "editable": false,
    "hidden": true,
    "lc_cell_meme": {
     "current": "9fdf262c-4ad5-11e9-9859-0242ac110002",
     "next": "9fdf267c-4ad5-11e9-9859-0242ac110002",
     "previous": "9fdf25e6-4ad5-11e9-9859-0242ac110002"
    },
    "run_through_control": {
     "frozen": true
    }
   },
   "outputs": [
    {
     "name": "stdout",
     "output_type": "stream",
     "text": [
      "[nfsServer]\r\n",
      "172.30.2.10\r\n"
     ]
    }
   ],
   "source": [
    "# ./hosts に追記する\n",
    "with open('hosts', 'a') as f:\n",
    "    f.write(\"[{}]\\n\".format(unit_server.name))\n",
    "    for addr in unit_server.find_ip_addresses():\n",
    "        f.write(\"{}\\n\".format(addr))\n",
    "\n",
    "# ./hosts の内容を表示する\n",
    "!cat hosts"
   ]
  },
  {
   "cell_type": "markdown",
   "metadata": {
    "hidden": true,
    "lc_cell_meme": {
     "current": "9fdf267c-4ad5-11e9-9859-0242ac110002",
     "next": "9fdf26c2-4ad5-11e9-9859-0242ac110002",
     "previous": "9fdf262c-4ad5-11e9-9859-0242ac110002"
    }
   },
   "source": [
    "インベントリは次のセルを実行すると表示されるリンクからも編集することができます。"
   ]
  },
  {
   "cell_type": "code",
   "execution_count": 30,
   "metadata": {
    "deletable": false,
    "editable": false,
    "hidden": true,
    "lc_cell_meme": {
     "current": "9fdf26c2-4ad5-11e9-9859-0242ac110002",
     "next": "9fdf2708-4ad5-11e9-9859-0242ac110002",
     "previous": "9fdf267c-4ad5-11e9-9859-0242ac110002"
    },
    "run_through_control": {
     "frozen": true
    }
   },
   "outputs": [
    {
     "data": {
      "text/html": [
       "<a href=\"/handson/edit/handson/vcp-tutorial/hosts\" target=\"_blank\">インベントリ</a>"
      ],
      "text/plain": [
       "<IPython.core.display.HTML object>"
      ]
     },
     "execution_count": 30,
     "metadata": {},
     "output_type": "execute_result"
    }
   ],
   "source": [
    "%run scripts/nbutils.py\n",
    "nb_html_link(os.path.abspath('hosts'), 'インベントリ')"
   ]
  },
  {
   "cell_type": "markdown",
   "metadata": {
    "hidden": true,
    "lc_cell_meme": {
     "current": "9fdf2708-4ad5-11e9-9859-0242ac110002",
     "next": "9fdf2758-4ad5-11e9-9859-0242ac110002",
     "previous": "9fdf26c2-4ad5-11e9-9859-0242ac110002"
    }
   },
   "source": [
    "カレントディレクトリの `hosts`ファイルをインベントリとして Ansible が認識するようにする設定を `ansible.cfg`に書き込みます。"
   ]
  },
  {
   "cell_type": "code",
   "execution_count": 31,
   "metadata": {
    "deletable": false,
    "editable": false,
    "hidden": true,
    "lc_cell_meme": {
     "current": "9fdf2758-4ad5-11e9-9859-0242ac110002",
     "next": "9fdf279e-4ad5-11e9-9859-0242ac110002",
     "previous": "9fdf2708-4ad5-11e9-9859-0242ac110002"
    },
    "run_through_control": {
     "frozen": true
    }
   },
   "outputs": [
    {
     "name": "stdout",
     "output_type": "stream",
     "text": [
      "[defaults]\r\n",
      "inventory = /notebooks/notebook/handson/vcp-tutorial/hosts\r\n"
     ]
    }
   ],
   "source": [
    "if not os.path.exists('ansible.cfg'):\n",
    "    # ansible.cfgが存在しない場合のみ作成する\n",
    "    with open('ansible.cfg', 'w') as f:\n",
    "        f.write('''[defaults]\n",
    "inventory = {}\n",
    "'''.format(os.path.abspath('./hosts')))\n",
    "    \n",
    "!cat ansible.cfg"
   ]
  },
  {
   "cell_type": "markdown",
   "metadata": {
    "hidden": true,
    "lc_cell_meme": {
     "current": "9fdf279e-4ad5-11e9-9859-0242ac110002",
     "next": "9fdf27e4-4ad5-11e9-9859-0242ac110002",
     "previous": "9fdf2758-4ad5-11e9-9859-0242ac110002"
    }
   },
   "source": [
    "VCノードに接続する際のsshの設定を Ansible の変数ファイルに格納しておきます。"
   ]
  },
  {
   "cell_type": "code",
   "execution_count": 32,
   "metadata": {
    "deletable": false,
    "editable": false,
    "hidden": true,
    "lc_cell_meme": {
     "current": "9fdf27e4-4ad5-11e9-9859-0242ac110002",
     "next": "9fdf2834-4ad5-11e9-9859-0242ac110002",
     "previous": "9fdf279e-4ad5-11e9-9859-0242ac110002"
    },
    "run_through_control": {
     "frozen": true
    }
   },
   "outputs": [
    {
     "name": "stdout",
     "output_type": "stream",
     "text": [
      "ansible_ssh_private_key_file: /home/bit_kun/.ssh/id_rsa\r\n",
      "ansible_user: root\r\n"
     ]
    }
   ],
   "source": [
    "import yaml\n",
    "\n",
    "# ansibleでVCノードに接続する際の設定\n",
    "ansible_params = {\n",
    "    'ansible_user': 'root',\n",
    "    'ansible_ssh_private_key_file': os.path.abspath(ssh_private_key),\n",
    "}\n",
    "\n",
    "# group_vars への書き込み\n",
    "!mkdir -p group_vars\n",
    "vc_group_vars = os.path.abspath('group_vars/{}.yml'.format(unit_server.name))\n",
    "with open(vc_group_vars, 'w') as f:\n",
    "    yaml.dump(ansible_params, stream=f, default_flow_style=False)\n",
    "\n",
    "!cat {vc_group_vars}"
   ]
  },
  {
   "cell_type": "markdown",
   "metadata": {
    "hidden": true,
    "lc_cell_meme": {
     "current": "9fdf2834-4ad5-11e9-9859-0242ac110002",
     "next": "9fdf287a-4ad5-11e9-9859-0242ac110002",
     "previous": "9fdf27e4-4ad5-11e9-9859-0242ac110002"
    }
   },
   "source": [
    "Ansible で VCノードに接続できるか確認します。"
   ]
  },
  {
   "cell_type": "code",
   "execution_count": 33,
   "metadata": {
    "deletable": false,
    "editable": false,
    "hidden": true,
    "lc_cell_meme": {
     "current": "9fdf287a-4ad5-11e9-9859-0242ac110002",
     "next": "9fdf28c0-4ad5-11e9-9859-0242ac110002",
     "previous": "9fdf2834-4ad5-11e9-9859-0242ac110002"
    },
    "run_through_control": {
     "frozen": true
    },
    "scrolled": true
   },
   "outputs": [
    {
     "name": "stdout",
     "output_type": "stream",
     "text": [
      "\u001b[0;32m172.30.2.10 | SUCCESS => {\u001b[0m\r\n",
      "\u001b[0;32m    \"changed\": false, \u001b[0m\r\n",
      "\u001b[0;32m    \"ping\": \"pong\"\u001b[0m\r\n",
      "\u001b[0;32m}\u001b[0m\r\n"
     ]
    }
   ],
   "source": [
    "!ansible {unit_server.name} -m ping"
   ]
  },
  {
   "cell_type": "markdown",
   "metadata": {
    "heading_collapsed": true,
    "lc_cell_meme": {
     "current": "9fdf28c0-4ad5-11e9-9859-0242ac110002",
     "next": "9fdf2906-4ad5-11e9-9859-0242ac110002",
     "previous": "9fdf287a-4ad5-11e9-9859-0242ac110002"
    }
   },
   "source": [
    "# NFSクライアント用VCノードの起動\n",
    "\n",
    "NFSクライアント用のVCノードを起動します。\n",
    "\n",
    "この節を実行すると次図の状態になります。\n",
    "![step3](images/104-004.png)"
   ]
  },
  {
   "cell_type": "markdown",
   "metadata": {
    "hidden": true,
    "lc_cell_meme": {
     "current": "9fdf2906-4ad5-11e9-9859-0242ac110002",
     "next": "9fdf294c-4ad5-11e9-9859-0242ac110002",
     "previous": "9fdf28c0-4ad5-11e9-9859-0242ac110002"
    }
   },
   "source": [
    "## VCノードのspecを指定する\n",
    "\n",
    "NFSクライアント用の`spec`を指定します。"
   ]
  },
  {
   "cell_type": "markdown",
   "metadata": {
    "hidden": true,
    "lc_cell_meme": {
     "current": "9fdf294c-4ad5-11e9-9859-0242ac110002",
     "next": "9fdf2992-4ad5-11e9-9859-0242ac110002",
     "previous": "9fdf2906-4ad5-11e9-9859-0242ac110002"
    }
   },
   "source": [
    "VCディスクをアタッチしない、NFSサーバの設定を行わない等、NFSサーバ用のVCノードとは設定が異なるので新たなUnitを作成します。このUnitではsshの公開鍵認証の設定のみ行います。"
   ]
  },
  {
   "cell_type": "markdown",
   "metadata": {
    "hidden": true,
    "lc_cell_meme": {
     "current": "9fdf2992-4ad5-11e9-9859-0242ac110002",
     "next": "9fdf29e2-4ad5-11e9-9859-0242ac110002",
     "previous": "9fdf294c-4ad5-11e9-9859-0242ac110002"
    }
   },
   "source": [
    "### spec オブジェクトを作成する"
   ]
  },
  {
   "cell_type": "markdown",
   "metadata": {
    "hidden": true,
    "lc_cell_meme": {
     "current": "9fdf29e2-4ad5-11e9-9859-0242ac110002",
     "next": "9fdf2a28-4ad5-11e9-9859-0242ac110002",
     "previous": "9fdf2992-4ad5-11e9-9859-0242ac110002"
    }
   },
   "source": [
    "NFSクライアント用のspecオブジェクトを作成します。ここでは以下の値を指定します。\n",
    "\n",
    "* プロバイダ: `aws`\n",
    "* flavor: `small`"
   ]
  },
  {
   "cell_type": "code",
   "execution_count": 34,
   "metadata": {
    "deletable": false,
    "editable": false,
    "hidden": true,
    "lc_cell_meme": {
     "current": "9fdf2a28-4ad5-11e9-9859-0242ac110002",
     "next": "9fdf2a6e-4ad5-11e9-9859-0242ac110002",
     "previous": "9fdf29e2-4ad5-11e9-9859-0242ac110002"
    },
    "run_through_control": {
     "frozen": true
    }
   },
   "outputs": [],
   "source": [
    "spec_client = vcp.get_spec('aws', 'small')"
   ]
  },
  {
   "cell_type": "markdown",
   "metadata": {
    "hidden": true,
    "lc_cell_meme": {
     "current": "9fdf2a6e-4ad5-11e9-9859-0242ac110002",
     "next": "9fdf2abe-4ad5-11e9-9859-0242ac110002",
     "previous": "9fdf2a28-4ad5-11e9-9859-0242ac110002"
    }
   },
   "source": [
    "### sshの鍵ファイルを設定する"
   ]
  },
  {
   "cell_type": "markdown",
   "metadata": {
    "hidden": true,
    "lc_cell_meme": {
     "current": "9fdf2abe-4ad5-11e9-9859-0242ac110002",
     "next": "9fdf2b04-4ad5-11e9-9859-0242ac110002",
     "previous": "9fdf2a6e-4ad5-11e9-9859-0242ac110002"
    }
   },
   "source": [
    "VCノードに登録するsshの公開鍵を `spec`オブジェクトに設定します。先ほどNFSサーバ用Unitで設定したのと同じ値を指定しています。"
   ]
  },
  {
   "cell_type": "code",
   "execution_count": 35,
   "metadata": {
    "deletable": false,
    "editable": false,
    "hidden": true,
    "lc_cell_meme": {
     "current": "9fdf2b04-4ad5-11e9-9859-0242ac110002",
     "next": "9fdf2b4a-4ad5-11e9-9859-0242ac110002",
     "previous": "9fdf2abe-4ad5-11e9-9859-0242ac110002"
    },
    "run_through_control": {
     "frozen": true
    }
   },
   "outputs": [],
   "source": [
    "spec_client.set_ssh_pubkey(ssh_public_key)"
   ]
  },
  {
   "cell_type": "markdown",
   "metadata": {
    "hidden": true,
    "lc_cell_meme": {
     "current": "9fdf2b4a-4ad5-11e9-9859-0242ac110002",
     "next": "9fdf2b9a-4ad5-11e9-9859-0242ac110002",
     "previous": "9fdf2b04-4ad5-11e9-9859-0242ac110002"
    }
   },
   "source": [
    "### specの設定内容の確認\n",
    "\n",
    "`spec` オブジェクトの設定内容を確認してみます。"
   ]
  },
  {
   "cell_type": "code",
   "execution_count": 36,
   "metadata": {
    "deletable": false,
    "editable": false,
    "hidden": true,
    "lc_cell_meme": {
     "current": "9fdf2b9a-4ad5-11e9-9859-0242ac110002",
     "next": "9fdf2bea-4ad5-11e9-9859-0242ac110002",
     "previous": "9fdf2b4a-4ad5-11e9-9859-0242ac110002"
    },
    "run_through_control": {
     "frozen": true
    }
   },
   "outputs": [
    {
     "name": "stdout",
     "output_type": "stream",
     "text": [
      "\n",
      "========================\n",
      "aws\n",
      "------------------------\n",
      "\n",
      "    cci_version: \"1.0\"\n",
      "    name: \n",
      "    description: \n",
      "    private_network: default\n",
      "    num_nodes: 1\n",
      "    image: vcp/base:1.4.2\n",
      "    recovery_mode: none\n",
      "    params:\n",
      "        {'v': [], 'e': ['AUTHORIZED_KEYS=c3NoLXJzYSBBQUFBQjNOemFDMXljMkVBQUFBREFRQUJBQUFCQVFDcW5XY3Y2TlB6SVRld3pKdEMzbTdPb040MGhHUkJQSDdRR2pjUk5FQXY5T0tMcFl6TEJha01rN2VLL3krRzZZRTQ3VUJCdWFGT21hREtOdVJsdHRjLytZZWRTbEI3eGdtMXpyUXl4SExpa2FxSys3azBxclRkSHNPcm5pNEJOWDNEWS9IK2pINldGZ3RZSUtxUk1qWmRXM05PRWJabHMwZkNBVFovR3R6RkhnblMrKzhXN3BSUXYzc1R4NDBHR2h0L2dWU2hOcGEyRmtKREFYeFFscDZXK1AvdkNBaDJxV3E5M1ZRQ1FzQWxpNjVCTGNMZ0hPVy9UbGFlZ2pTTXk4dkszNzUrL0NuSTZja1BTeU1pWHlvMi91clRneXg5QlNZQWYvVUovNXpnb3hjSUsxUlFqR1FPcUs2MVZUTVo2QnhzWXc0bkRDaWdwaFI5L1BXMnNIUDMgYml0X2t1bkA5M2EzNGM3NmQwNDIK']}\n",
      "    instance_type: m4.large\n",
      "    volume_size: 8\n",
      "    volume_type: gp2\n",
      "    volume_id: []\n",
      "    cloud_image: default\n",
      "    tags: {}\n",
      "========================\n"
     ]
    }
   ],
   "source": [
    "print(spec_client)"
   ]
  },
  {
   "cell_type": "markdown",
   "metadata": {
    "hidden": true,
    "lc_cell_meme": {
     "current": "9fdf2bea-4ad5-11e9-9859-0242ac110002",
     "next": "9fdf2c30-4ad5-11e9-9859-0242ac110002",
     "previous": "9fdf2b9a-4ad5-11e9-9859-0242ac110002"
    }
   },
   "source": [
    "## Unitの作成とVCノードの起動"
   ]
  },
  {
   "cell_type": "markdown",
   "metadata": {
    "hidden": true,
    "lc_cell_meme": {
     "current": "9fdf2c30-4ad5-11e9-9859-0242ac110002",
     "next": "9fdf2c76-4ad5-11e9-9859-0242ac110002",
     "previous": "9fdf2bea-4ad5-11e9-9859-0242ac110002"
    }
   },
   "source": [
    "起動前のUnit, Nodeの状態を確認しておきます。"
   ]
  },
  {
   "cell_type": "code",
   "execution_count": 37,
   "metadata": {
    "deletable": false,
    "editable": false,
    "hidden": true,
    "lc_cell_meme": {
     "current": "9fdf2c76-4ad5-11e9-9859-0242ac110002",
     "next": "9fdf2cc6-4ad5-11e9-9859-0242ac110002",
     "previous": "9fdf2c30-4ad5-11e9-9859-0242ac110002"
    },
    "run_through_control": {
     "frozen": true
    }
   },
   "outputs": [
    {
     "data": {
      "text/html": [
       "<div>\n",
       "<style scoped>\n",
       "    .dataframe tbody tr th:only-of-type {\n",
       "        vertical-align: middle;\n",
       "    }\n",
       "\n",
       "    .dataframe tbody tr th {\n",
       "        vertical-align: top;\n",
       "    }\n",
       "\n",
       "    .dataframe thead th {\n",
       "        text-align: right;\n",
       "    }\n",
       "</style>\n",
       "<table border=\"1\" class=\"dataframe\">\n",
       "  <thead>\n",
       "    <tr style=\"text-align: right;\">\n",
       "      <th></th>\n",
       "      <th>vctype</th>\n",
       "      <th>vcno</th>\n",
       "      <th>vcname</th>\n",
       "      <th>vc_state</th>\n",
       "      <th>vcid</th>\n",
       "      <th>cdate</th>\n",
       "      <th>unit_name</th>\n",
       "      <th>unit_state</th>\n",
       "    </tr>\n",
       "  </thead>\n",
       "  <tbody>\n",
       "    <tr>\n",
       "      <th>0</th>\n",
       "      <td>compute</td>\n",
       "      <td>44</td>\n",
       "      <td>handson104</td>\n",
       "      <td>RUNNING</td>\n",
       "      <td>5df8c1a7...</td>\n",
       "      <td>2019/03/20 09:45:35 UTC</td>\n",
       "      <td>nfsServer</td>\n",
       "      <td>RUNNING</td>\n",
       "    </tr>\n",
       "  </tbody>\n",
       "</table>\n",
       "</div>"
      ],
      "text/plain": [
       "    vctype  vcno      vcname vc_state         vcid                    cdate  \\\n",
       "0  compute    44  handson104  RUNNING  5df8c1a7...  2019/03/20 09:45:35 UTC   \n",
       "\n",
       "   unit_name unit_state  \n",
       "0  nfsServer    RUNNING  "
      ]
     },
     "metadata": {},
     "output_type": "display_data"
    },
    {
     "data": {
      "text/html": [
       "<style  type=\"text/css\" >\n",
       "    #T_37e2b438_4af5_11e9_b773_0242ac110002row0_col3 {\n",
       "            background-color:  #dfd;\n",
       "        }    #T_37e2b438_4af5_11e9_b773_0242ac110002row0_col6 {\n",
       "            background-color:  #dfd;\n",
       "        }</style>  \n",
       "<table id=\"T_37e2b438_4af5_11e9_b773_0242ac110002\" > \n",
       "<thead>    <tr> \n",
       "        <th class=\"blank level0\" ></th> \n",
       "        <th class=\"col_heading level0 col0\" >vcno</th> \n",
       "        <th class=\"col_heading level0 col1\" >vcname</th> \n",
       "        <th class=\"col_heading level0 col2\" >unit_name</th> \n",
       "        <th class=\"col_heading level0 col3\" >unit_state</th> \n",
       "        <th class=\"col_heading level0 col4\" >node_no</th> \n",
       "        <th class=\"col_heading level0 col5\" >node_id</th> \n",
       "        <th class=\"col_heading level0 col6\" >node_state</th> \n",
       "        <th class=\"col_heading level0 col7\" >cloud_instance_address</th> \n",
       "        <th class=\"col_heading level0 col8\" >cloud_instance_id</th> \n",
       "        <th class=\"col_heading level0 col9\" >cloud_instance_name</th> \n",
       "        <th class=\"col_heading level0 col10\" >volumes</th> \n",
       "    </tr></thead> \n",
       "<tbody>    <tr> \n",
       "        <th id=\"T_37e2b438_4af5_11e9_b773_0242ac110002level0_row0\" class=\"row_heading level0 row0\" >0</th> \n",
       "        <td id=\"T_37e2b438_4af5_11e9_b773_0242ac110002row0_col0\" class=\"data row0 col0\" >44</td> \n",
       "        <td id=\"T_37e2b438_4af5_11e9_b773_0242ac110002row0_col1\" class=\"data row0 col1\" >handson104</td> \n",
       "        <td id=\"T_37e2b438_4af5_11e9_b773_0242ac110002row0_col2\" class=\"data row0 col2\" >nfsServer</td> \n",
       "        <td id=\"T_37e2b438_4af5_11e9_b773_0242ac110002row0_col3\" class=\"data row0 col3\" >RUNNING</td> \n",
       "        <td id=\"T_37e2b438_4af5_11e9_b773_0242ac110002row0_col4\" class=\"data row0 col4\" >1</td> \n",
       "        <td id=\"T_37e2b438_4af5_11e9_b773_0242ac110002row0_col5\" class=\"data row0 col5\" >2d02e284...</td> \n",
       "        <td id=\"T_37e2b438_4af5_11e9_b773_0242ac110002row0_col6\" class=\"data row0 col6\" >RUNNING</td> \n",
       "        <td id=\"T_37e2b438_4af5_11e9_b773_0242ac110002row0_col7\" class=\"data row0 col7\" >172.30.2.10</td> \n",
       "        <td id=\"T_37e2b438_4af5_11e9_b773_0242ac110002row0_col8\" class=\"data row0 col8\" >i-055f321cd3d3ef8c5</td> \n",
       "        <td id=\"T_37e2b438_4af5_11e9_b773_0242ac110002row0_col9\" class=\"data row0 col9\" >VCP-e84fbb63-5df8c1a7</td> \n",
       "        <td id=\"T_37e2b438_4af5_11e9_b773_0242ac110002row0_col10\" class=\"data row0 col10\" >exists</td> \n",
       "    </tr></tbody> \n",
       "</table> "
      ],
      "text/plain": [
       "<pandas.io.formats.style.Styler at 0x7f06be9ea978>"
      ]
     },
     "metadata": {},
     "output_type": "display_data"
    }
   ],
   "source": [
    "# Unitの一覧を DataFrame で表示する\n",
    "display(unit_group.df_units())\n",
    "\n",
    "# Nodeの一覧を DataFrame で表示する\n",
    "display(unit_group.df_nodes())"
   ]
  },
  {
   "cell_type": "markdown",
   "metadata": {
    "hidden": true,
    "lc_cell_meme": {
     "current": "9fdf2cc6-4ad5-11e9-9859-0242ac110002",
     "next": "9fdf2d0c-4ad5-11e9-9859-0242ac110002",
     "previous": "9fdf2c76-4ad5-11e9-9859-0242ac110002"
    }
   },
   "source": [
    "Unitの作成とVCノードの起動を行います。\n",
    "\n",
    "> 処理が完了するまで1分半～2分程度かかります。"
   ]
  },
  {
   "cell_type": "code",
   "execution_count": 38,
   "metadata": {
    "deletable": false,
    "editable": false,
    "hidden": true,
    "lc_cell_meme": {
     "current": "9fdf2d0c-4ad5-11e9-9859-0242ac110002",
     "next": "9fdf2d5c-4ad5-11e9-9859-0242ac110002",
     "previous": "9fdf2cc6-4ad5-11e9-9859-0242ac110002"
    },
    "run_through_control": {
     "frozen": true
    }
   },
   "outputs": [
    {
     "name": "stdout",
     "output_type": "stream",
     "text": [
      "2019-03-20 18:47:49,083 - INFO - BOOTING ... 0 sec\n",
      "2019-03-20 18:47:54,327 - INFO - BOOTING ... 5 sec\n",
      "2019-03-20 18:47:59,565 - INFO - BOOTING ... 10 sec\n",
      "2019-03-20 18:48:04,814 - INFO - BOOTING ... 15 sec\n",
      "2019-03-20 18:48:10,052 - INFO - BOOTING ... 20 sec\n",
      "2019-03-20 18:48:15,290 - INFO - BOOTING ... 25 sec\n",
      "2019-03-20 18:48:20,530 - INFO - BOOTING ... 30 sec\n",
      "2019-03-20 18:48:25,776 - INFO - BOOTING ... 35 sec\n",
      "2019-03-20 18:48:31,011 - INFO - BOOTING ... 40 sec\n",
      "2019-03-20 18:48:36,262 - INFO - BOOTING ... 45 sec\n",
      "2019-03-20 18:48:41,500 - INFO - BOOTING ... 50 sec\n",
      "2019-03-20 18:48:46,731 - INFO - BOOTING ... 55 sec\n",
      "2019-03-20 18:48:51,968 - INFO - BOOTING ... 60 sec\n",
      "2019-03-20 18:48:57,205 - INFO - BOOTING ... 65 sec\n",
      "2019-03-20 18:49:02,454 - INFO - BOOTING ... 70 sec\n",
      "2019-03-20 18:49:13,705 - INFO - unit nfsClient is RUNNING\n"
     ]
    }
   ],
   "source": [
    "# Unitの作成（同時に VCノードが作成される）\n",
    "unit_client = unit_group.create_unit('nfsClient', spec_client)"
   ]
  },
  {
   "cell_type": "markdown",
   "metadata": {
    "hidden": true,
    "lc_cell_meme": {
     "current": "9fdf2d5c-4ad5-11e9-9859-0242ac110002",
     "next": "9fdf2da2-4ad5-11e9-9859-0242ac110002",
     "previous": "9fdf2d0c-4ad5-11e9-9859-0242ac110002"
    }
   },
   "source": [
    "起動したUnit, VCノードの一覧を表示します。"
   ]
  },
  {
   "cell_type": "code",
   "execution_count": 39,
   "metadata": {
    "deletable": false,
    "editable": false,
    "hidden": true,
    "lc_cell_meme": {
     "current": "9fdf2da2-4ad5-11e9-9859-0242ac110002",
     "next": "9fdf2de8-4ad5-11e9-9859-0242ac110002",
     "previous": "9fdf2d5c-4ad5-11e9-9859-0242ac110002"
    },
    "run_through_control": {
     "frozen": true
    }
   },
   "outputs": [
    {
     "data": {
      "text/html": [
       "<div>\n",
       "<style scoped>\n",
       "    .dataframe tbody tr th:only-of-type {\n",
       "        vertical-align: middle;\n",
       "    }\n",
       "\n",
       "    .dataframe tbody tr th {\n",
       "        vertical-align: top;\n",
       "    }\n",
       "\n",
       "    .dataframe thead th {\n",
       "        text-align: right;\n",
       "    }\n",
       "</style>\n",
       "<table border=\"1\" class=\"dataframe\">\n",
       "  <thead>\n",
       "    <tr style=\"text-align: right;\">\n",
       "      <th></th>\n",
       "      <th>vctype</th>\n",
       "      <th>vcno</th>\n",
       "      <th>vcname</th>\n",
       "      <th>vc_state</th>\n",
       "      <th>vcid</th>\n",
       "      <th>cdate</th>\n",
       "      <th>unit_name</th>\n",
       "      <th>unit_state</th>\n",
       "    </tr>\n",
       "  </thead>\n",
       "  <tbody>\n",
       "    <tr>\n",
       "      <th>0</th>\n",
       "      <td>compute</td>\n",
       "      <td>44</td>\n",
       "      <td>handson104</td>\n",
       "      <td>RUNNING</td>\n",
       "      <td>5df8c1a7...</td>\n",
       "      <td>2019/03/20 09:45:35 UTC</td>\n",
       "      <td>nfsServer</td>\n",
       "      <td>RUNNING</td>\n",
       "    </tr>\n",
       "    <tr>\n",
       "      <th>1</th>\n",
       "      <td>compute</td>\n",
       "      <td>44</td>\n",
       "      <td>handson104</td>\n",
       "      <td>RUNNING</td>\n",
       "      <td>5df8c1a7...</td>\n",
       "      <td>2019/03/20 09:45:35 UTC</td>\n",
       "      <td>nfsClient</td>\n",
       "      <td>RUNNING</td>\n",
       "    </tr>\n",
       "  </tbody>\n",
       "</table>\n",
       "</div>"
      ],
      "text/plain": [
       "    vctype  vcno      vcname vc_state         vcid                    cdate  \\\n",
       "0  compute    44  handson104  RUNNING  5df8c1a7...  2019/03/20 09:45:35 UTC   \n",
       "1  compute    44  handson104  RUNNING  5df8c1a7...  2019/03/20 09:45:35 UTC   \n",
       "\n",
       "   unit_name unit_state  \n",
       "0  nfsServer    RUNNING  \n",
       "1  nfsClient    RUNNING  "
      ]
     },
     "metadata": {},
     "output_type": "display_data"
    },
    {
     "data": {
      "text/html": [
       "<style  type=\"text/css\" >\n",
       "    #T_6b9fe368_4af5_11e9_b773_0242ac110002row0_col3 {\n",
       "            background-color:  #dfd;\n",
       "        }    #T_6b9fe368_4af5_11e9_b773_0242ac110002row0_col6 {\n",
       "            background-color:  #dfd;\n",
       "        }    #T_6b9fe368_4af5_11e9_b773_0242ac110002row1_col3 {\n",
       "            background-color:  #dfd;\n",
       "        }    #T_6b9fe368_4af5_11e9_b773_0242ac110002row1_col6 {\n",
       "            background-color:  #dfd;\n",
       "        }</style>  \n",
       "<table id=\"T_6b9fe368_4af5_11e9_b773_0242ac110002\" > \n",
       "<thead>    <tr> \n",
       "        <th class=\"blank level0\" ></th> \n",
       "        <th class=\"col_heading level0 col0\" >vcno</th> \n",
       "        <th class=\"col_heading level0 col1\" >vcname</th> \n",
       "        <th class=\"col_heading level0 col2\" >unit_name</th> \n",
       "        <th class=\"col_heading level0 col3\" >unit_state</th> \n",
       "        <th class=\"col_heading level0 col4\" >node_no</th> \n",
       "        <th class=\"col_heading level0 col5\" >node_id</th> \n",
       "        <th class=\"col_heading level0 col6\" >node_state</th> \n",
       "        <th class=\"col_heading level0 col7\" >cloud_instance_address</th> \n",
       "        <th class=\"col_heading level0 col8\" >cloud_instance_id</th> \n",
       "        <th class=\"col_heading level0 col9\" >cloud_instance_name</th> \n",
       "        <th class=\"col_heading level0 col10\" >volumes</th> \n",
       "    </tr></thead> \n",
       "<tbody>    <tr> \n",
       "        <th id=\"T_6b9fe368_4af5_11e9_b773_0242ac110002level0_row0\" class=\"row_heading level0 row0\" >0</th> \n",
       "        <td id=\"T_6b9fe368_4af5_11e9_b773_0242ac110002row0_col0\" class=\"data row0 col0\" >44</td> \n",
       "        <td id=\"T_6b9fe368_4af5_11e9_b773_0242ac110002row0_col1\" class=\"data row0 col1\" >handson104</td> \n",
       "        <td id=\"T_6b9fe368_4af5_11e9_b773_0242ac110002row0_col2\" class=\"data row0 col2\" >nfsServer</td> \n",
       "        <td id=\"T_6b9fe368_4af5_11e9_b773_0242ac110002row0_col3\" class=\"data row0 col3\" >RUNNING</td> \n",
       "        <td id=\"T_6b9fe368_4af5_11e9_b773_0242ac110002row0_col4\" class=\"data row0 col4\" >1</td> \n",
       "        <td id=\"T_6b9fe368_4af5_11e9_b773_0242ac110002row0_col5\" class=\"data row0 col5\" >2d02e284...</td> \n",
       "        <td id=\"T_6b9fe368_4af5_11e9_b773_0242ac110002row0_col6\" class=\"data row0 col6\" >RUNNING</td> \n",
       "        <td id=\"T_6b9fe368_4af5_11e9_b773_0242ac110002row0_col7\" class=\"data row0 col7\" >172.30.2.10</td> \n",
       "        <td id=\"T_6b9fe368_4af5_11e9_b773_0242ac110002row0_col8\" class=\"data row0 col8\" >i-055f321cd3d3ef8c5</td> \n",
       "        <td id=\"T_6b9fe368_4af5_11e9_b773_0242ac110002row0_col9\" class=\"data row0 col9\" >VCP-e84fbb63-5df8c1a7</td> \n",
       "        <td id=\"T_6b9fe368_4af5_11e9_b773_0242ac110002row0_col10\" class=\"data row0 col10\" >exists</td> \n",
       "    </tr>    <tr> \n",
       "        <th id=\"T_6b9fe368_4af5_11e9_b773_0242ac110002level0_row1\" class=\"row_heading level0 row1\" >1</th> \n",
       "        <td id=\"T_6b9fe368_4af5_11e9_b773_0242ac110002row1_col0\" class=\"data row1 col0\" >44</td> \n",
       "        <td id=\"T_6b9fe368_4af5_11e9_b773_0242ac110002row1_col1\" class=\"data row1 col1\" >handson104</td> \n",
       "        <td id=\"T_6b9fe368_4af5_11e9_b773_0242ac110002row1_col2\" class=\"data row1 col2\" >nfsClient</td> \n",
       "        <td id=\"T_6b9fe368_4af5_11e9_b773_0242ac110002row1_col3\" class=\"data row1 col3\" >RUNNING</td> \n",
       "        <td id=\"T_6b9fe368_4af5_11e9_b773_0242ac110002row1_col4\" class=\"data row1 col4\" >1</td> \n",
       "        <td id=\"T_6b9fe368_4af5_11e9_b773_0242ac110002row1_col5\" class=\"data row1 col5\" >f928277a...</td> \n",
       "        <td id=\"T_6b9fe368_4af5_11e9_b773_0242ac110002row1_col6\" class=\"data row1 col6\" >RUNNING</td> \n",
       "        <td id=\"T_6b9fe368_4af5_11e9_b773_0242ac110002row1_col7\" class=\"data row1 col7\" >172.30.2.158</td> \n",
       "        <td id=\"T_6b9fe368_4af5_11e9_b773_0242ac110002row1_col8\" class=\"data row1 col8\" >i-03e07c5c9a83eea4c</td> \n",
       "        <td id=\"T_6b9fe368_4af5_11e9_b773_0242ac110002row1_col9\" class=\"data row1 col9\" >VCP-e84fbb63-5df8c1a7</td> \n",
       "        <td id=\"T_6b9fe368_4af5_11e9_b773_0242ac110002row1_col10\" class=\"data row1 col10\" >none</td> \n",
       "    </tr></tbody> \n",
       "</table> "
      ],
      "text/plain": [
       "<pandas.io.formats.style.Styler at 0x7f06be997940>"
      ]
     },
     "metadata": {},
     "output_type": "display_data"
    }
   ],
   "source": [
    "# Unitの一覧を DataFrame で表示する\n",
    "display(unit_group.df_units())\n",
    "\n",
    "# Nodeの一覧を DataFrame で表示する\n",
    "display(unit_group.df_nodes())"
   ]
  },
  {
   "cell_type": "markdown",
   "metadata": {
    "hidden": true,
    "lc_cell_meme": {
     "current": "9fdf2de8-4ad5-11e9-9859-0242ac110002",
     "next": "9fdf2e2e-4ad5-11e9-9859-0242ac110002",
     "previous": "9fdf2da2-4ad5-11e9-9859-0242ac110002"
    }
   },
   "source": [
    "VCノードのホストキーを ~/.ssh/known_hosts に登録します。"
   ]
  },
  {
   "cell_type": "code",
   "execution_count": 40,
   "metadata": {
    "deletable": false,
    "editable": false,
    "hidden": true,
    "lc_cell_meme": {
     "current": "9fdf2e2e-4ad5-11e9-9859-0242ac110002",
     "next": "9fdf2e74-4ad5-11e9-9859-0242ac110002",
     "previous": "9fdf2de8-4ad5-11e9-9859-0242ac110002"
    },
    "run_through_control": {
     "frozen": true
    }
   },
   "outputs": [
    {
     "name": "stdout",
     "output_type": "stream",
     "text": [
      "/home/bit_kun/.ssh/known_hosts updated.\n",
      "Original contents retained as /home/bit_kun/.ssh/known_hosts.old\n",
      "# 172.30.2.158 SSH-2.0-OpenSSH_7.4\n",
      "# 172.30.2.158 SSH-2.0-OpenSSH_7.4\n",
      "# 172.30.2.158 SSH-2.0-OpenSSH_7.4\n"
     ]
    }
   ],
   "source": [
    "for address in unit_client.find_ip_addresses():\n",
    "    # ~/.ssh/known_hosts から古いホストキーを削除する\n",
    "    !ssh-keygen -R {address}\n",
    "    # ホストキーの登録\n",
    "    !ssh-keyscan -H {address} >> ~/.ssh/known_hosts"
   ]
  },
  {
   "cell_type": "markdown",
   "metadata": {
    "hidden": true,
    "lc_cell_meme": {
     "current": "9fdf2e74-4ad5-11e9-9859-0242ac110002",
     "next": "9fdf2eba-4ad5-11e9-9859-0242ac110002",
     "previous": "9fdf2e2e-4ad5-11e9-9859-0242ac110002"
    }
   },
   "source": [
    "## Ansible の設定"
   ]
  },
  {
   "cell_type": "markdown",
   "metadata": {
    "hidden": true,
    "lc_cell_meme": {
     "current": "9fdf2eba-4ad5-11e9-9859-0242ac110002",
     "next": "9fdf2f0a-4ad5-11e9-9859-0242ac110002",
     "previous": "9fdf2e74-4ad5-11e9-9859-0242ac110002"
    }
   },
   "source": [
    "起動したVCノードのIPアドレスをインベントリに登録します。グループ名は Unit名に合わせて `nfsClient`とします。"
   ]
  },
  {
   "cell_type": "code",
   "execution_count": 41,
   "metadata": {
    "deletable": false,
    "editable": false,
    "hidden": true,
    "lc_cell_meme": {
     "current": "9fdf2f0a-4ad5-11e9-9859-0242ac110002",
     "next": "9fdf2f50-4ad5-11e9-9859-0242ac110002",
     "previous": "9fdf2eba-4ad5-11e9-9859-0242ac110002"
    },
    "run_through_control": {
     "frozen": true
    }
   },
   "outputs": [
    {
     "name": "stdout",
     "output_type": "stream",
     "text": [
      "[nfsServer]\r\n",
      "172.30.2.10\r\n",
      "[nfsClient]\r\n",
      "172.30.2.158\r\n"
     ]
    }
   ],
   "source": [
    "# ./hosts に追記する\n",
    "with open('hosts', 'a') as f:\n",
    "    f.write(\"[{}]\\n\".format(unit_client.name))\n",
    "    for addr in unit_client.find_ip_addresses():\n",
    "        f.write(\"{}\\n\".format(addr))\n",
    "\n",
    "# ./hosts の内容を表示する\n",
    "!cat hosts"
   ]
  },
  {
   "cell_type": "markdown",
   "metadata": {
    "hidden": true,
    "lc_cell_meme": {
     "current": "9fdf2f50-4ad5-11e9-9859-0242ac110002",
     "next": "9fdf2f96-4ad5-11e9-9859-0242ac110002",
     "previous": "9fdf2f0a-4ad5-11e9-9859-0242ac110002"
    }
   },
   "source": [
    "インベントリは次のセルを実行すると表示されるリンクからも編集することができます。"
   ]
  },
  {
   "cell_type": "code",
   "execution_count": 42,
   "metadata": {
    "deletable": false,
    "editable": false,
    "hidden": true,
    "lc_cell_meme": {
     "current": "9fdf2f96-4ad5-11e9-9859-0242ac110002",
     "next": "9fdf2fdc-4ad5-11e9-9859-0242ac110002",
     "previous": "9fdf2f50-4ad5-11e9-9859-0242ac110002"
    },
    "run_through_control": {
     "frozen": true
    },
    "scrolled": true
   },
   "outputs": [
    {
     "data": {
      "text/html": [
       "<a href=\"/handson/edit/handson/vcp-tutorial/hosts\" target=\"_blank\">インベントリ</a>"
      ],
      "text/plain": [
       "<IPython.core.display.HTML object>"
      ]
     },
     "execution_count": 42,
     "metadata": {},
     "output_type": "execute_result"
    }
   ],
   "source": [
    "%run scripts/nbutils.py\n",
    "nb_html_link(os.path.abspath('hosts'), 'インベントリ')"
   ]
  },
  {
   "cell_type": "markdown",
   "metadata": {
    "hidden": true,
    "lc_cell_meme": {
     "current": "9fdf2fdc-4ad5-11e9-9859-0242ac110002",
     "next": "9fdf3022-4ad5-11e9-9859-0242ac110002",
     "previous": "9fdf2f96-4ad5-11e9-9859-0242ac110002"
    }
   },
   "source": [
    "VCノードに接続する際のsshの設定を Ansible の変数ファイルに格納しておきます。"
   ]
  },
  {
   "cell_type": "code",
   "execution_count": 43,
   "metadata": {
    "deletable": false,
    "editable": false,
    "hidden": true,
    "lc_cell_meme": {
     "current": "9fdf3022-4ad5-11e9-9859-0242ac110002",
     "next": "9fdf309a-4ad5-11e9-9859-0242ac110002",
     "previous": "9fdf2fdc-4ad5-11e9-9859-0242ac110002"
    },
    "run_through_control": {
     "frozen": true
    }
   },
   "outputs": [
    {
     "name": "stdout",
     "output_type": "stream",
     "text": [
      "ansible_ssh_private_key_file: /home/bit_kun/.ssh/id_rsa\r\n",
      "ansible_user: root\r\n"
     ]
    }
   ],
   "source": [
    "import yaml\n",
    "\n",
    "# ansibleでVCノードに接続する際の設定\n",
    "ansible_params = {\n",
    "    'ansible_user': 'root',\n",
    "    'ansible_ssh_private_key_file': os.path.abspath(ssh_private_key),\n",
    "}\n",
    "\n",
    "# group_vars への書き込み\n",
    "!mkdir -p group_vars\n",
    "vc_group_vars = os.path.abspath('group_vars/{}.yml'.format(unit_client.name))\n",
    "with open(vc_group_vars, 'w') as f:\n",
    "    yaml.dump(ansible_params, stream=f, default_flow_style=False)\n",
    "\n",
    "!cat {vc_group_vars}"
   ]
  },
  {
   "cell_type": "markdown",
   "metadata": {
    "hidden": true,
    "lc_cell_meme": {
     "current": "9fdf309a-4ad5-11e9-9859-0242ac110002",
     "next": "9fdf30ea-4ad5-11e9-9859-0242ac110002",
     "previous": "9fdf3022-4ad5-11e9-9859-0242ac110002"
    }
   },
   "source": [
    "Ansible で VCノードに接続できるか確認します。"
   ]
  },
  {
   "cell_type": "code",
   "execution_count": 44,
   "metadata": {
    "deletable": false,
    "editable": false,
    "hidden": true,
    "lc_cell_meme": {
     "current": "9fdf30ea-4ad5-11e9-9859-0242ac110002",
     "next": "9fdf3130-4ad5-11e9-9859-0242ac110002",
     "previous": "9fdf309a-4ad5-11e9-9859-0242ac110002"
    },
    "run_through_control": {
     "frozen": true
    }
   },
   "outputs": [
    {
     "name": "stdout",
     "output_type": "stream",
     "text": [
      "\u001b[0;32m172.30.2.158 | SUCCESS => {\u001b[0m\r\n",
      "\u001b[0;32m    \"changed\": false, \u001b[0m\r\n",
      "\u001b[0;32m    \"ping\": \"pong\"\u001b[0m\r\n",
      "\u001b[0;32m}\u001b[0m\r\n"
     ]
    }
   ],
   "source": [
    "!ansible {unit_client.name} -m ping"
   ]
  },
  {
   "cell_type": "markdown",
   "metadata": {
    "lc_cell_meme": {
     "current": "9fdf3130-4ad5-11e9-9859-0242ac110002",
     "next": "9fdf3180-4ad5-11e9-9859-0242ac110002",
     "previous": "9fdf30ea-4ad5-11e9-9859-0242ac110002"
    }
   },
   "source": [
    "# NFSサーバの設定\n",
    "\n",
    "VCディスクをNFSサーバで公開するための設定を行います。\n",
    "\n",
    "この節を実行すると次図の状態になります。\n",
    "![step4](images/104-005.png)"
   ]
  },
  {
   "cell_type": "markdown",
   "metadata": {
    "lc_cell_meme": {
     "current": "9fdf3180-4ad5-11e9-9859-0242ac110002",
     "next": "9fdf31c6-4ad5-11e9-9859-0242ac110002",
     "previous": "9fdf3130-4ad5-11e9-9859-0242ac110002"
    }
   },
   "source": [
    "主な手順は以下のようになります。\n",
    "\n",
    "1. VCディスクにファイルシステム(xfs)を作成する\n",
    "1. VCディスクをマウントする\n",
    "1. マウントしたディレクトリをNFSサーバの公開ディレクトリに設定する"
   ]
  },
  {
   "cell_type": "markdown",
   "metadata": {
    "lc_cell_meme": {
     "current": "9fdf31c6-4ad5-11e9-9859-0242ac110002",
     "next": "9fdf320c-4ad5-11e9-9859-0242ac110002",
     "previous": "9fdf3180-4ad5-11e9-9859-0242ac110002"
    }
   },
   "source": [
    "## ファイルシステムの作成とマウント"
   ]
  },
  {
   "cell_type": "markdown",
   "metadata": {
    "lc_cell_meme": {
     "current": "9fdf320c-4ad5-11e9-9859-0242ac110002",
     "next": "9fdf3252-4ad5-11e9-9859-0242ac110002",
     "previous": "9fdf31c6-4ad5-11e9-9859-0242ac110002"
    }
   },
   "source": [
    "VCノードにアタッチされたVCディスクのデバイス名を確認します。アタッチしているVCディスクは１つだけなので、次のセルを実行して表示されるブロックデバイスのうちルートファイルシステムで利用しているもの(xvda)以外になります。"
   ]
  },
  {
   "cell_type": "code",
   "execution_count": 45,
   "metadata": {
    "deletable": false,
    "editable": false,
    "lc_cell_meme": {
     "current": "9fdf3252-4ad5-11e9-9859-0242ac110002",
     "next": "9fdf3298-4ad5-11e9-9859-0242ac110002",
     "previous": "9fdf320c-4ad5-11e9-9859-0242ac110002"
    },
    "run_through_control": {
     "frozen": true
    },
    "scrolled": true
   },
   "outputs": [
    {
     "name": "stdout",
     "output_type": "stream",
     "text": [
      "\u001b[0;32m172.30.2.10 | SUCCESS | rc=0 >>\u001b[0m\r\n",
      "\u001b[0;32mNAME    MAJ:MIN RM SIZE RO TYPE MOUNTPOINT\u001b[0m\r\n",
      "\u001b[0;32mxvda    202:0    0   8G  0 disk \u001b[0m\r\n",
      "\u001b[0;32m└─xvda1 202:1    0   8G  0 part /var/lib/docker/aufs\u001b[0m\r\n",
      "\u001b[0;32mxvdf    202:80   0   8G  0 disk \u001b[0m\r\n",
      "\u001b[0;32m\u001b[0m\r\n"
     ]
    }
   ],
   "source": [
    "!ansible {unit_server.name} -a 'lsblk'"
   ]
  },
  {
   "cell_type": "markdown",
   "metadata": {
    "lc_cell_meme": {
     "current": "9fdf3298-4ad5-11e9-9859-0242ac110002",
     "next": "9fdf32de-4ad5-11e9-9859-0242ac110002",
     "previous": "9fdf3252-4ad5-11e9-9859-0242ac110002"
    }
   },
   "source": [
    "ファイルシステム(xfs)を作成します。`lsblk`で確認したVCディスクのデバイス名を次のセルの変数 `device` に設定してからセルを実行してください。\n",
    "\n",
    "ファイルシステムにはラベルを付けています。マウントなどの操作を行う際はデバイス名ではなくラベル名を指定して操作します。"
   ]
  },
  {
   "cell_type": "code",
   "execution_count": 46,
   "metadata": {
    "deletable": false,
    "editable": false,
    "lc_cell_meme": {
     "current": "9fdf32de-4ad5-11e9-9859-0242ac110002",
     "next": "9fdf3324-4ad5-11e9-9859-0242ac110002",
     "previous": "9fdf3298-4ad5-11e9-9859-0242ac110002"
    },
    "run_through_control": {
     "frozen": true
    }
   },
   "outputs": [
    {
     "name": "stdout",
     "output_type": "stream",
     "text": [
      "\u001b[0;32m172.30.2.10 | SUCCESS | rc=0 >>\u001b[0m\r\n",
      "\u001b[0;32mmeta-data=/dev/xvdf              isize=512    agcount=4, agsize=524288 blks\u001b[0m\r\n",
      "\u001b[0;32m         =                       sectsz=512   attr=2, projid32bit=1\u001b[0m\r\n",
      "\u001b[0;32m         =                       crc=1        finobt=1, sparse=0\u001b[0m\r\n",
      "\u001b[0;32mdata     =                       bsize=4096   blocks=2097152, imaxpct=25\u001b[0m\r\n",
      "\u001b[0;32m         =                       sunit=0      swidth=0 blks\u001b[0m\r\n",
      "\u001b[0;32mnaming   =version 2              bsize=4096   ascii-ci=0 ftype=1\u001b[0m\r\n",
      "\u001b[0;32mlog      =internal log           bsize=4096   blocks=2560, version=2\u001b[0m\r\n",
      "\u001b[0;32m         =                       sectsz=512   sunit=0 blks, lazy-count=1\u001b[0m\r\n",
      "\u001b[0;32mrealtime =none                   extsz=4096   blocks=0, rtextents=0\u001b[0m\r\n",
      "\u001b[0;32m\u001b[0m\r\n"
     ]
    }
   ],
   "source": [
    "# デバイス名\n",
    "device = '/dev/xvdf'\n",
    "\n",
    "# ファイルシステムのラベル\n",
    "fs_label = 'nfs-data'\n",
    "\n",
    "!ansible {unit_server.name} -b -a 'mkfs.xfs -L {fs_label} {device}'"
   ]
  },
  {
   "cell_type": "markdown",
   "metadata": {
    "lc_cell_meme": {
     "current": "9fdf3324-4ad5-11e9-9859-0242ac110002",
     "next": "9fdf336a-4ad5-11e9-9859-0242ac110002",
     "previous": "9fdf32de-4ad5-11e9-9859-0242ac110002"
    }
   },
   "source": [
    "Ansibleの[mountモジュール](https://docs.ansible.com/ansible/2.6/modules/mount_module.html)を利用してVCディスクを `/data` にマウントします。mountモジュールの簡単な使用方法を以下に記します。詳細についてはリンク先の[公式ドキュメント](https://docs.ansible.com/ansible/2.6/modules/mount_module.html)を参照してください。\n",
    "\n",
    "```\n",
    "ansible <ホストパターン> -m mount -a 'path=<mount point> src=<device> state=<state> fstype=<fstype>'\n",
    "\n",
    "mountモジュールのパラメータ(-a)について:\n",
    "path\n",
    "      マウントポイントのパス\n",
    "src\n",
    "      マウントされるブロックデバイス名など（ここではラベル名を指定している）\n",
    "state\n",
    "      absent, mounted, present, unmounted の何れかを指定する\n",
    "      mounted:\n",
    "          マウントをされている状態にして、/etc/fstab にエントリを追加する\n",
    "      unmounted:\n",
    "          アンマウント状態にする。/etc/fstab は更新しない\n",
    "fstype\n",
    "      マウントする際のファイルシステムの指定\n",
    "```"
   ]
  },
  {
   "cell_type": "code",
   "execution_count": 47,
   "metadata": {
    "deletable": false,
    "editable": false,
    "lc_cell_meme": {
     "current": "9fdf336a-4ad5-11e9-9859-0242ac110002",
     "next": "9fdf33b0-4ad5-11e9-9859-0242ac110002",
     "previous": "9fdf3324-4ad5-11e9-9859-0242ac110002"
    },
    "run_through_control": {
     "frozen": true
    },
    "scrolled": true
   },
   "outputs": [
    {
     "name": "stdout",
     "output_type": "stream",
     "text": [
      "\u001b[0;33m172.30.2.10 | SUCCESS => {\u001b[0m\r\n",
      "\u001b[0;33m    \"changed\": true, \u001b[0m\r\n",
      "\u001b[0;33m    \"dump\": \"0\", \u001b[0m\r\n",
      "\u001b[0;33m    \"fstab\": \"/etc/fstab\", \u001b[0m\r\n",
      "\u001b[0;33m    \"fstype\": \"xfs\", \u001b[0m\r\n",
      "\u001b[0;33m    \"name\": \"/data\", \u001b[0m\r\n",
      "\u001b[0;33m    \"opts\": \"defaults\", \u001b[0m\r\n",
      "\u001b[0;33m    \"passno\": \"0\", \u001b[0m\r\n",
      "\u001b[0;33m    \"src\": \"LABEL=nfs-data\"\u001b[0m\r\n",
      "\u001b[0;33m}\u001b[0m\r\n"
     ]
    }
   ],
   "source": [
    "!ansible {unit_server.name} -b -m mount \\\n",
    "    -a 'path=/data src=LABEL=nfs-data state=mounted fstype=xfs'"
   ]
  },
  {
   "cell_type": "markdown",
   "metadata": {
    "lc_cell_meme": {
     "current": "9fdf33b0-4ad5-11e9-9859-0242ac110002",
     "next": "9fdf33f6-4ad5-11e9-9859-0242ac110002",
     "previous": "9fdf336a-4ad5-11e9-9859-0242ac110002"
    }
   },
   "source": [
    "`/data` にマウントされていることを確認します。"
   ]
  },
  {
   "cell_type": "code",
   "execution_count": 48,
   "metadata": {
    "deletable": false,
    "editable": false,
    "lc_cell_meme": {
     "current": "9fdf33f6-4ad5-11e9-9859-0242ac110002",
     "next": "9fdf3446-4ad5-11e9-9859-0242ac110002",
     "previous": "9fdf33b0-4ad5-11e9-9859-0242ac110002"
    },
    "run_through_control": {
     "frozen": true
    }
   },
   "outputs": [
    {
     "name": "stdout",
     "output_type": "stream",
     "text": [
      "\u001b[1;35m [WARNING]: Consider using the mount module rather than running mount.  If you\u001b[0m\n",
      "\u001b[1;35mneed to use command because mount is insufficient you can add warn=False to\u001b[0m\n",
      "\u001b[1;35mthis command task or set command_warnings=False in ansible.cfg to get rid of\u001b[0m\n",
      "\u001b[1;35mthis message.\u001b[0m\n",
      "\u001b[1;35m\u001b[0m\n",
      "\u001b[0;32m172.30.2.10 | SUCCESS | rc=0 >>\u001b[0m\n",
      "\u001b[0;32m/dev/xvdf on /data type xfs (rw,relatime,attr2,inode64,noquota)\u001b[0m\n",
      "\u001b[0;32m\u001b[0m\n",
      "\u001b[0;32m172.30.2.10 | SUCCESS | rc=0 >>\u001b[0m\n",
      "\u001b[0;32mFilesystem                Size      Used Available Use% Mounted on\u001b[0m\n",
      "\u001b[0;32m/dev/xvdf                 8.0G     32.2M      8.0G   0% /data\u001b[0m\n",
      "\u001b[0;32m\u001b[0m\n"
     ]
    }
   ],
   "source": [
    "!ansible {unit_server.name} -m shell -a 'mount | grep /data'\n",
    "!ansible {unit_server.name} -a 'df -h /data'"
   ]
  },
  {
   "cell_type": "markdown",
   "metadata": {
    "lc_cell_meme": {
     "current": "9fdf3446-4ad5-11e9-9859-0242ac110002",
     "next": "9fdf348c-4ad5-11e9-9859-0242ac110002",
     "previous": "9fdf33f6-4ad5-11e9-9859-0242ac110002"
    }
   },
   "source": [
    "Ansibleの[mountモジュール](https://docs.ansible.com/ansible/2.6/modules/mount_module.html)でstateに`mounted`を指定しているのでマウントをするだけでなく/etc/fstabの更新も行います。/etc/fstabの内容を確認してみます。"
   ]
  },
  {
   "cell_type": "code",
   "execution_count": 49,
   "metadata": {
    "deletable": false,
    "editable": false,
    "lc_cell_meme": {
     "current": "9fdf348c-4ad5-11e9-9859-0242ac110002",
     "next": "9fdf34d2-4ad5-11e9-9859-0242ac110002",
     "previous": "9fdf3446-4ad5-11e9-9859-0242ac110002"
    },
    "run_through_control": {
     "frozen": true
    },
    "scrolled": true
   },
   "outputs": [
    {
     "name": "stdout",
     "output_type": "stream",
     "text": [
      "\u001b[0;32m172.30.2.10 | SUCCESS | rc=0 >>\u001b[0m\r\n",
      "\u001b[0;32m/dev/cdrom\t/media/cdrom\tiso9660\tnoauto,ro 0 0\u001b[0m\r\n",
      "\u001b[0;32m/dev/usbdisk\t/media/usb\tvfat\tnoauto,ro 0 0\u001b[0m\r\n",
      "\u001b[0;32mLABEL=nfs-data /data xfs defaults 0 0\u001b[0m\r\n",
      "\u001b[0;32m\u001b[0m\r\n"
     ]
    }
   ],
   "source": [
    "!ansible {unit_server.name} -a 'cat /etc/fstab'"
   ]
  },
  {
   "cell_type": "markdown",
   "metadata": {
    "lc_cell_meme": {
     "current": "9fdf34d2-4ad5-11e9-9859-0242ac110002",
     "next": "9fdf3518-4ad5-11e9-9859-0242ac110002",
     "previous": "9fdf348c-4ad5-11e9-9859-0242ac110002"
    }
   },
   "source": [
    "最後にVCディスクをマウントした`/data`のパーミッションを変更します。今回はテスト用に誰でも書き込めるように設定します。"
   ]
  },
  {
   "cell_type": "code",
   "execution_count": 50,
   "metadata": {
    "deletable": false,
    "editable": false,
    "lc_cell_meme": {
     "current": "9fdf3518-4ad5-11e9-9859-0242ac110002",
     "next": "9fdf355e-4ad5-11e9-9859-0242ac110002",
     "previous": "9fdf34d2-4ad5-11e9-9859-0242ac110002"
    },
    "run_through_control": {
     "frozen": true
    }
   },
   "outputs": [
    {
     "name": "stdout",
     "output_type": "stream",
     "text": [
      "\u001b[1;35m [WARNING]: Consider using the file module with mode rather than running chmod.\u001b[0m\r\n",
      "\u001b[1;35mIf you need to use command because file is insufficient you can add warn=False\u001b[0m\r\n",
      "\u001b[1;35mto this command task or set command_warnings=False in ansible.cfg to get rid of\u001b[0m\r\n",
      "\u001b[1;35mthis message.\u001b[0m\r\n",
      "\u001b[1;35m\u001b[0m\r\n",
      "\u001b[0;32m172.30.2.10 | SUCCESS | rc=0 >>\u001b[0m\r\n",
      "\u001b[0;32m\u001b[0m\r\n",
      "\u001b[0;32m\u001b[0m\r\n"
     ]
    }
   ],
   "source": [
    "!ansible {unit_server.name} -b -a 'chmod 01777 /data'"
   ]
  },
  {
   "cell_type": "markdown",
   "metadata": {
    "lc_cell_meme": {
     "current": "9fdf355e-4ad5-11e9-9859-0242ac110002",
     "next": "9fdf35a4-4ad5-11e9-9859-0242ac110002",
     "previous": "9fdf3518-4ad5-11e9-9859-0242ac110002"
    }
   },
   "source": [
    "パーミッションが変更されたことを確認します。"
   ]
  },
  {
   "cell_type": "code",
   "execution_count": 51,
   "metadata": {
    "deletable": false,
    "editable": false,
    "lc_cell_meme": {
     "current": "9fdf35a4-4ad5-11e9-9859-0242ac110002",
     "next": "9fdf35ea-4ad5-11e9-9859-0242ac110002",
     "previous": "9fdf355e-4ad5-11e9-9859-0242ac110002"
    },
    "run_through_control": {
     "frozen": true
    },
    "scrolled": true
   },
   "outputs": [
    {
     "name": "stdout",
     "output_type": "stream",
     "text": [
      "\u001b[0;32m172.30.2.10 | SUCCESS | rc=0 >>\u001b[0m\r\n",
      "\u001b[0;32mtotal 4\u001b[0m\r\n",
      "\u001b[0;32mdrwxrwxrwt    2 root     root             6 Mar 20 09:49 .\u001b[0m\r\n",
      "\u001b[0;32mdrwxr-xr-x   69 root     root          4096 Mar 20 09:49 ..\u001b[0m\r\n",
      "\u001b[0;32m\u001b[0m\r\n"
     ]
    }
   ],
   "source": [
    "!ansible {unit_server.name} -a 'ls -la /data'"
   ]
  },
  {
   "cell_type": "markdown",
   "metadata": {
    "lc_cell_meme": {
     "current": "9fdf35ea-4ad5-11e9-9859-0242ac110002",
     "next": "9fdf3630-4ad5-11e9-9859-0242ac110002",
     "previous": "9fdf35a4-4ad5-11e9-9859-0242ac110002"
    }
   },
   "source": [
    "## NFS エクスポートの設定\n",
    "\n",
    "NFSエクスポートの設定を行います。ここでは以下の内容の設定を追加します。\n",
    "\n",
    "* 対象ディレクトリ:\n",
    "   - /data\n",
    "* 対象となるホスト:\n",
    "   - 172.30.2.0/24\n",
    "* オプション:\n",
    "   - rw,fsid=0,no_subtree_check"
   ]
  },
  {
   "cell_type": "markdown",
   "metadata": {
    "lc_cell_meme": {
     "current": "9fdf3630-4ad5-11e9-9859-0242ac110002",
     "next": "9fdf3680-4ad5-11e9-9859-0242ac110002",
     "previous": "9fdf35ea-4ad5-11e9-9859-0242ac110002"
    }
   },
   "source": [
    "/etc/exportsの内容を変数に設定します。"
   ]
  },
  {
   "cell_type": "code",
   "execution_count": 52,
   "metadata": {
    "deletable": false,
    "editable": false,
    "lc_cell_meme": {
     "current": "9fdf3680-4ad5-11e9-9859-0242ac110002",
     "next": "9fdf36c6-4ad5-11e9-9859-0242ac110002",
     "previous": "9fdf3630-4ad5-11e9-9859-0242ac110002"
    },
    "run_through_control": {
     "frozen": true
    }
   },
   "outputs": [],
   "source": [
    "exports = '/data 172.30.2.0/24(rw,fsid=0,no_subtree_check)'"
   ]
  },
  {
   "cell_type": "markdown",
   "metadata": {
    "lc_cell_meme": {
     "current": "9fdf36c6-4ad5-11e9-9859-0242ac110002",
     "next": "9fdf370c-4ad5-11e9-9859-0242ac110002",
     "previous": "9fdf3680-4ad5-11e9-9859-0242ac110002"
    }
   },
   "source": [
    "VCノードの/etc/exportsに上記の設定内容を反映します。"
   ]
  },
  {
   "cell_type": "code",
   "execution_count": 53,
   "metadata": {
    "deletable": false,
    "editable": false,
    "lc_cell_meme": {
     "current": "9fdf370c-4ad5-11e9-9859-0242ac110002",
     "next": "9fdf3752-4ad5-11e9-9859-0242ac110002",
     "previous": "9fdf36c6-4ad5-11e9-9859-0242ac110002"
    },
    "run_through_control": {
     "frozen": true
    }
   },
   "outputs": [
    {
     "name": "stdout",
     "output_type": "stream",
     "text": [
      "\u001b[0;32m172.30.2.10 | SUCCESS | rc=0 >>\u001b[0m\r\n",
      "\u001b[0;32m\u001b[0m\r\n",
      "\u001b[0;32m\u001b[0m\r\n"
     ]
    }
   ],
   "source": [
    "!ansible {unit_server.name} -b -m shell \\\n",
    "    -a 'echo \"{exports}\" > /etc/exports'"
   ]
  },
  {
   "cell_type": "markdown",
   "metadata": {
    "lc_cell_meme": {
     "current": "9fdf3752-4ad5-11e9-9859-0242ac110002",
     "next": "9fdf37a2-4ad5-11e9-9859-0242ac110002",
     "previous": "9fdf370c-4ad5-11e9-9859-0242ac110002"
    }
   },
   "source": [
    "/etc/exportsが書き換わったことを確認します。"
   ]
  },
  {
   "cell_type": "code",
   "execution_count": 54,
   "metadata": {
    "deletable": false,
    "editable": false,
    "lc_cell_meme": {
     "current": "9fdf37a2-4ad5-11e9-9859-0242ac110002",
     "next": "9fdf37e8-4ad5-11e9-9859-0242ac110002",
     "previous": "9fdf3752-4ad5-11e9-9859-0242ac110002"
    },
    "run_through_control": {
     "frozen": true
    },
    "scrolled": true
   },
   "outputs": [
    {
     "name": "stdout",
     "output_type": "stream",
     "text": [
      "\u001b[0;32m172.30.2.10 | SUCCESS | rc=0 >>\u001b[0m\r\n",
      "\u001b[0;32m/data 172.30.2.0/24(rw,fsid=0,no_subtree_check)\u001b[0m\r\n",
      "\u001b[0;32m\u001b[0m\r\n"
     ]
    }
   ],
   "source": [
    "!ansible {unit_server.name} -a 'cat /etc/exports'"
   ]
  },
  {
   "cell_type": "markdown",
   "metadata": {
    "lc_cell_meme": {
     "current": "9fdf37e8-4ad5-11e9-9859-0242ac110002",
     "next": "9fdf382e-4ad5-11e9-9859-0242ac110002",
     "previous": "9fdf37a2-4ad5-11e9-9859-0242ac110002"
    }
   },
   "source": [
    "現在のエクスポートの状態を確認します。"
   ]
  },
  {
   "cell_type": "code",
   "execution_count": 55,
   "metadata": {
    "deletable": false,
    "editable": false,
    "lc_cell_meme": {
     "current": "9fdf382e-4ad5-11e9-9859-0242ac110002",
     "next": "9fdf3874-4ad5-11e9-9859-0242ac110002",
     "previous": "9fdf37e8-4ad5-11e9-9859-0242ac110002"
    },
    "run_through_control": {
     "frozen": true
    }
   },
   "outputs": [
    {
     "name": "stdout",
     "output_type": "stream",
     "text": [
      "\u001b[0;32m172.30.2.10 | SUCCESS | rc=0 >>\u001b[0m\r\n",
      "\u001b[0;32m\u001b[0m\r\n",
      "\u001b[0;32m\u001b[0m\r\n"
     ]
    }
   ],
   "source": [
    "!ansible {unit_server.name} -b -a 'exportfs -v'"
   ]
  },
  {
   "cell_type": "markdown",
   "metadata": {
    "lc_cell_meme": {
     "current": "9fdf3874-4ad5-11e9-9859-0242ac110002",
     "next": "9fdf38ba-4ad5-11e9-9859-0242ac110002",
     "previous": "9fdf382e-4ad5-11e9-9859-0242ac110002"
    }
   },
   "source": [
    "/etc/exportsを読み込みなおします。"
   ]
  },
  {
   "cell_type": "code",
   "execution_count": 56,
   "metadata": {
    "deletable": false,
    "editable": false,
    "lc_cell_meme": {
     "current": "9fdf38ba-4ad5-11e9-9859-0242ac110002",
     "next": "9fdf3900-4ad5-11e9-9859-0242ac110002",
     "previous": "9fdf3874-4ad5-11e9-9859-0242ac110002"
    },
    "run_through_control": {
     "frozen": true
    },
    "scrolled": true
   },
   "outputs": [
    {
     "name": "stdout",
     "output_type": "stream",
     "text": [
      "\u001b[0;32m172.30.2.10 | SUCCESS | rc=0 >>\u001b[0m\r\n",
      "\u001b[0;32m\u001b[0m\r\n",
      "\u001b[0;32m\u001b[0m\r\n"
     ]
    }
   ],
   "source": [
    "!ansible {unit_server.name} -b -a 'exportfs -ra'"
   ]
  },
  {
   "cell_type": "markdown",
   "metadata": {
    "lc_cell_meme": {
     "current": "9fdf3900-4ad5-11e9-9859-0242ac110002",
     "next": "9fdf3946-4ad5-11e9-9859-0242ac110002",
     "previous": "9fdf38ba-4ad5-11e9-9859-0242ac110002"
    }
   },
   "source": [
    "現在のエクスポートの状態を確認します。"
   ]
  },
  {
   "cell_type": "code",
   "execution_count": 57,
   "metadata": {
    "deletable": false,
    "editable": false,
    "lc_cell_meme": {
     "current": "9fdf3946-4ad5-11e9-9859-0242ac110002",
     "next": "9fdf398c-4ad5-11e9-9859-0242ac110002",
     "previous": "9fdf3900-4ad5-11e9-9859-0242ac110002"
    },
    "run_through_control": {
     "frozen": true
    }
   },
   "outputs": [
    {
     "name": "stdout",
     "output_type": "stream",
     "text": [
      "\u001b[0;32m172.30.2.10 | SUCCESS | rc=0 >>\u001b[0m\r\n",
      "\u001b[0;32m/data         \t172.30.2.0/24(rw,wdelay,root_squash,no_subtree_check,fsid=0,sec=sys,rw,secure,root_squash,no_all_squash)\u001b[0m\r\n",
      "\u001b[0;32m\u001b[0m\r\n"
     ]
    }
   ],
   "source": [
    "!ansible {unit_server.name} -b -a 'exportfs -v'"
   ]
  },
  {
   "cell_type": "markdown",
   "metadata": {
    "lc_cell_meme": {
     "current": "9fdf398c-4ad5-11e9-9859-0242ac110002",
     "next": "9fdf39dc-4ad5-11e9-9859-0242ac110002",
     "previous": "9fdf3946-4ad5-11e9-9859-0242ac110002"
    }
   },
   "source": [
    "# NFSクライアントの設定\n",
    "\n",
    "この節を実行すると次図の状態になります。\n",
    "![step5](images/104-006.png)"
   ]
  },
  {
   "cell_type": "markdown",
   "metadata": {
    "heading_collapsed": true,
    "lc_cell_meme": {
     "current": "9fdf39dc-4ad5-11e9-9859-0242ac110002",
     "next": "9fdf3a22-4ad5-11e9-9859-0242ac110002",
     "previous": "9fdf398c-4ad5-11e9-9859-0242ac110002"
    }
   },
   "source": [
    "## 初期設定\n",
    "\n",
    "NFSクライアント用のVCノードは標準のBaseコンテナイメージを用いているのでNFS関連の設定が行われていません。必要となる初期設定をここで行います。"
   ]
  },
  {
   "cell_type": "markdown",
   "metadata": {
    "hidden": true,
    "lc_cell_meme": {
     "current": "9fdf3a22-4ad5-11e9-9859-0242ac110002",
     "next": "9fdf3a68-4ad5-11e9-9859-0242ac110002",
     "previous": "9fdf39dc-4ad5-11e9-9859-0242ac110002"
    }
   },
   "source": [
    "まずNFSドメインの設定を/etc/idmapd.confに行います。NFSドメインの値は NFSサーバを設定したときの変数`nfs_domain`に格納されている値をそのまま用います。"
   ]
  },
  {
   "cell_type": "code",
   "execution_count": 58,
   "metadata": {
    "deletable": false,
    "editable": false,
    "hidden": true,
    "lc_cell_meme": {
     "current": "9fdf3a68-4ad5-11e9-9859-0242ac110002",
     "next": "9fdf3ab8-4ad5-11e9-9859-0242ac110002",
     "previous": "9fdf3a22-4ad5-11e9-9859-0242ac110002"
    },
    "run_through_control": {
     "frozen": true
    }
   },
   "outputs": [
    {
     "name": "stdout",
     "output_type": "stream",
     "text": [
      "\u001b[1;35m [WARNING]: Consider using the replace, lineinfile or template module rather\u001b[0m\r\n",
      "\u001b[1;35mthan running sed.  If you need to use command because replace, lineinfile or\u001b[0m\r\n",
      "\u001b[1;35mtemplate is insufficient you can add warn=False to this command task or set\u001b[0m\r\n",
      "\u001b[1;35mcommand_warnings=False in ansible.cfg to get rid of this message.\u001b[0m\r\n",
      "\u001b[1;35m\u001b[0m\r\n",
      "\u001b[0;32m172.30.2.158 | SUCCESS | rc=0 >>\u001b[0m\r\n",
      "\u001b[0;32m\u001b[0m\r\n",
      "\u001b[0;32m\u001b[0m\r\n"
     ]
    }
   ],
   "source": [
    "!ansible {unit_client.name} -b \\\n",
    "    -a 'sed -ri \"s/^#?\\s*Domain\\s*=.*/Domain = {nfs_domain}/\" /etc/idmapd.conf'"
   ]
  },
  {
   "cell_type": "markdown",
   "metadata": {
    "hidden": true,
    "lc_cell_meme": {
     "current": "9fdf3ab8-4ad5-11e9-9859-0242ac110002",
     "next": "9fdf3afe-4ad5-11e9-9859-0242ac110002",
     "previous": "9fdf3a68-4ad5-11e9-9859-0242ac110002"
    }
   },
   "source": [
    "/etc/idmapd.conf のドメイン設定が更新されていることを確認します。"
   ]
  },
  {
   "cell_type": "code",
   "execution_count": 59,
   "metadata": {
    "deletable": false,
    "editable": false,
    "hidden": true,
    "lc_cell_meme": {
     "current": "9fdf3afe-4ad5-11e9-9859-0242ac110002",
     "next": "9fdf3b44-4ad5-11e9-9859-0242ac110002",
     "previous": "9fdf3ab8-4ad5-11e9-9859-0242ac110002"
    },
    "run_through_control": {
     "frozen": true
    }
   },
   "outputs": [
    {
     "name": "stdout",
     "output_type": "stream",
     "text": [
      "\u001b[0;32m172.30.2.158 | SUCCESS | rc=0 >>\u001b[0m\r\n",
      "\u001b[0;32mDomain = vcp-handson.org\u001b[0m\r\n",
      "\u001b[0;32m\u001b[0m\r\n"
     ]
    }
   ],
   "source": [
    "!ansible {unit_client.name} -b \\\n",
    "    -a 'egrep -e \"^#?\\s*Domain\\s*=\" /etc/idmapd.conf'"
   ]
  },
  {
   "cell_type": "markdown",
   "metadata": {
    "hidden": true,
    "lc_cell_meme": {
     "current": "9fdf3b44-4ad5-11e9-9859-0242ac110002",
     "next": "9fdf3b8a-4ad5-11e9-9859-0242ac110002",
     "previous": "9fdf3afe-4ad5-11e9-9859-0242ac110002"
    }
   },
   "source": [
    "rpc_pipefs を /var/lib/nfs/rpc_pipefsにマウントします。"
   ]
  },
  {
   "cell_type": "code",
   "execution_count": 60,
   "metadata": {
    "deletable": false,
    "editable": false,
    "hidden": true,
    "lc_cell_meme": {
     "current": "9fdf3b8a-4ad5-11e9-9859-0242ac110002",
     "next": "9fdf3bd0-4ad5-11e9-9859-0242ac110002",
     "previous": "9fdf3b44-4ad5-11e9-9859-0242ac110002"
    },
    "run_through_control": {
     "frozen": true
    }
   },
   "outputs": [
    {
     "name": "stdout",
     "output_type": "stream",
     "text": [
      "\u001b[0;33m172.30.2.158 | SUCCESS => {\u001b[0m\r\n",
      "\u001b[0;33m    \"changed\": true, \u001b[0m\r\n",
      "\u001b[0;33m    \"dump\": \"0\", \u001b[0m\r\n",
      "\u001b[0;33m    \"fstab\": \"/etc/fstab\", \u001b[0m\r\n",
      "\u001b[0;33m    \"fstype\": \"rpc_pipefs\", \u001b[0m\r\n",
      "\u001b[0;33m    \"name\": \"/var/lib/nfs/rpc_pipefs\", \u001b[0m\r\n",
      "\u001b[0;33m    \"opts\": \"defaults\", \u001b[0m\r\n",
      "\u001b[0;33m    \"passno\": \"0\", \u001b[0m\r\n",
      "\u001b[0;33m    \"src\": \"none\"\u001b[0m\r\n",
      "\u001b[0;33m}\u001b[0m\r\n"
     ]
    }
   ],
   "source": [
    "!ansible {unit_client.name} -b -m mount \\\n",
    "    -a 'path=/var/lib/nfs/rpc_pipefs fstype=rpc_pipefs state=mounted src=none'"
   ]
  },
  {
   "cell_type": "markdown",
   "metadata": {
    "lc_cell_meme": {
     "current": "9fdf3bd0-4ad5-11e9-9859-0242ac110002",
     "next": "9fdf3c16-4ad5-11e9-9859-0242ac110002",
     "previous": "9fdf3b8a-4ad5-11e9-9859-0242ac110002"
    }
   },
   "source": [
    "## NFSマウント"
   ]
  },
  {
   "cell_type": "markdown",
   "metadata": {
    "lc_cell_meme": {
     "current": "9fdf3c16-4ad5-11e9-9859-0242ac110002",
     "next": "9fdf3c5c-4ad5-11e9-9859-0242ac110002",
     "previous": "9fdf3bd0-4ad5-11e9-9859-0242ac110002"
    }
   },
   "source": [
    "`/data` にNFSマウントします。"
   ]
  },
  {
   "cell_type": "code",
   "execution_count": 61,
   "metadata": {
    "deletable": false,
    "editable": false,
    "lc_cell_meme": {
     "current": "9fdf3c5c-4ad5-11e9-9859-0242ac110002",
     "next": "9fdf3cac-4ad5-11e9-9859-0242ac110002",
     "previous": "9fdf3c16-4ad5-11e9-9859-0242ac110002"
    },
    "run_through_control": {
     "frozen": true
    },
    "scrolled": true
   },
   "outputs": [
    {
     "name": "stdout",
     "output_type": "stream",
     "text": [
      "\u001b[0;33m172.30.2.158 | SUCCESS => {\u001b[0m\r\n",
      "\u001b[0;33m    \"changed\": true, \u001b[0m\r\n",
      "\u001b[0;33m    \"dump\": \"0\", \u001b[0m\r\n",
      "\u001b[0;33m    \"fstab\": \"/etc/fstab\", \u001b[0m\r\n",
      "\u001b[0;33m    \"fstype\": \"nfs\", \u001b[0m\r\n",
      "\u001b[0;33m    \"name\": \"/data\", \u001b[0m\r\n",
      "\u001b[0;33m    \"opts\": \"nfsvers=4\", \u001b[0m\r\n",
      "\u001b[0;33m    \"passno\": \"0\", \u001b[0m\r\n",
      "\u001b[0;33m    \"src\": \"172.30.2.10:/\"\u001b[0m\r\n",
      "\u001b[0;33m}\u001b[0m\r\n"
     ]
    }
   ],
   "source": [
    "!ansible {unit_client.name} -b -m mount \\\n",
    "    -a 'path=/data src=172.30.2.10:/ state=mounted fstype=nfs opts=nfsvers=4'"
   ]
  },
  {
   "cell_type": "markdown",
   "metadata": {
    "lc_cell_meme": {
     "current": "9fdf3cac-4ad5-11e9-9859-0242ac110002",
     "next": "9fdf3cf2-4ad5-11e9-9859-0242ac110002",
     "previous": "9fdf3c5c-4ad5-11e9-9859-0242ac110002"
    }
   },
   "source": [
    "マウントされたことを確認します。"
   ]
  },
  {
   "cell_type": "code",
   "execution_count": 62,
   "metadata": {
    "deletable": false,
    "editable": false,
    "lc_cell_meme": {
     "current": "9fdf3cf2-4ad5-11e9-9859-0242ac110002",
     "next": "9fdf3d38-4ad5-11e9-9859-0242ac110002",
     "previous": "9fdf3cac-4ad5-11e9-9859-0242ac110002"
    },
    "run_through_control": {
     "frozen": true
    }
   },
   "outputs": [
    {
     "name": "stdout",
     "output_type": "stream",
     "text": [
      "\u001b[1;35m [WARNING]: Consider using the mount module rather than running mount.  If you\u001b[0m\r\n",
      "\u001b[1;35mneed to use command because mount is insufficient you can add warn=False to\u001b[0m\r\n",
      "\u001b[1;35mthis command task or set command_warnings=False in ansible.cfg to get rid of\u001b[0m\r\n",
      "\u001b[1;35mthis message.\u001b[0m\r\n",
      "\u001b[1;35m\u001b[0m\r\n",
      "\u001b[0;32m172.30.2.158 | SUCCESS | rc=0 >>\u001b[0m\r\n",
      "\u001b[0;32m172.30.2.10:/ on /data type nfs4 (rw,relatime,vers=4.0,rsize=1048576,wsize=1048576,namlen=255,hard,proto=tcp,timeo=600,retrans=2,sec=sys,clientaddr=172.30.2.158,local_lock=none,addr=172.30.2.10)\u001b[0m\r\n",
      "\u001b[0;32m\u001b[0m\r\n"
     ]
    }
   ],
   "source": [
    "!ansible {unit_client.name} -m shell -a 'mount | grep /data'"
   ]
  },
  {
   "cell_type": "markdown",
   "metadata": {
    "lc_cell_meme": {
     "current": "9fdf3d38-4ad5-11e9-9859-0242ac110002",
     "next": "9fdf3d7e-4ad5-11e9-9859-0242ac110002",
     "previous": "9fdf3cf2-4ad5-11e9-9859-0242ac110002"
    }
   },
   "source": [
    "## ファイルの作成"
   ]
  },
  {
   "cell_type": "markdown",
   "metadata": {
    "lc_cell_meme": {
     "current": "9fdf3d7e-4ad5-11e9-9859-0242ac110002",
     "next": "9fdf3dce-4ad5-11e9-9859-0242ac110002",
     "previous": "9fdf3d38-4ad5-11e9-9859-0242ac110002"
    }
   },
   "source": [
    "NFSマウントした `/data` （NFSクライアント側）でファイルを作成してみます。"
   ]
  },
  {
   "cell_type": "markdown",
   "metadata": {
    "heading_collapsed": true,
    "lc_cell_meme": {
     "current": "9fdf3dce-4ad5-11e9-9859-0242ac110002",
     "next": "9fdf3e14-4ad5-11e9-9859-0242ac110002",
     "previous": "9fdf3d7e-4ad5-11e9-9859-0242ac110002"
    }
   },
   "source": [
    "### ユーザの作成\n",
    "\n",
    "NFSの場合 `root` 権限でファイルの書き込みを行うと squash の機能により所有者が `nobody` になってしまい扱いづらいので、一般ユーザ`vcp`を作成します。"
   ]
  },
  {
   "cell_type": "markdown",
   "metadata": {
    "hidden": true,
    "lc_cell_meme": {
     "current": "9fdf3e14-4ad5-11e9-9859-0242ac110002",
     "next": "9fdf3e5a-4ad5-11e9-9859-0242ac110002",
     "previous": "9fdf3dce-4ad5-11e9-9859-0242ac110002"
    }
   },
   "source": [
    "NFSサーバ、NFSクライアントそれぞれで `vcp` という名前のユーザを作成します。"
   ]
  },
  {
   "cell_type": "code",
   "execution_count": 63,
   "metadata": {
    "deletable": false,
    "editable": false,
    "hidden": true,
    "lc_cell_meme": {
     "current": "9fdf3e5a-4ad5-11e9-9859-0242ac110002",
     "next": "9fdf3ea0-4ad5-11e9-9859-0242ac110002",
     "previous": "9fdf3e14-4ad5-11e9-9859-0242ac110002"
    },
    "run_through_control": {
     "frozen": true
    }
   },
   "outputs": [
    {
     "name": "stdout",
     "output_type": "stream",
     "text": [
      "\u001b[0;32m172.30.2.158 | SUCCESS | rc=0 >>\u001b[0m\n",
      "\u001b[0;32m\u001b[0m\n",
      "\u001b[0;32m\u001b[0m\n",
      "\u001b[0;32m172.30.2.10 | SUCCESS | rc=0 >>\u001b[0m\n",
      "\u001b[0;32m\u001b[0m\n",
      "\u001b[0;32m\u001b[0m\n"
     ]
    }
   ],
   "source": [
    "!ansible {unit_client.name} -b -a 'adduser -D vcp'\n",
    "!ansible {unit_server.name} -b -a 'adduser -D vcp'"
   ]
  },
  {
   "cell_type": "markdown",
   "metadata": {
    "hidden": true,
    "lc_cell_meme": {
     "current": "9fdf3ea0-4ad5-11e9-9859-0242ac110002",
     "next": "9fdf3ef0-4ad5-11e9-9859-0242ac110002",
     "previous": "9fdf3e5a-4ad5-11e9-9859-0242ac110002"
    }
   },
   "source": [
    "作成したユーザ権限でコマンドが実行できることを確認するために `id`コマンドを実行してみます。\n",
    "\n",
    "> ansibleで別のユーザ権限でコマンドを実行するには --become-user にユーザ名を指定します。"
   ]
  },
  {
   "cell_type": "code",
   "execution_count": 64,
   "metadata": {
    "deletable": false,
    "editable": false,
    "hidden": true,
    "lc_cell_meme": {
     "current": "9fdf3ef0-4ad5-11e9-9859-0242ac110002",
     "next": "9fdf3f36-4ad5-11e9-9859-0242ac110002",
     "previous": "9fdf3ea0-4ad5-11e9-9859-0242ac110002"
    },
    "run_through_control": {
     "frozen": true
    }
   },
   "outputs": [
    {
     "name": "stdout",
     "output_type": "stream",
     "text": [
      "\u001b[1;35m [WARNING]: Module remote_tmp /home/vcp/.ansible/tmp did not exist and was\u001b[0m\n",
      "\u001b[1;35mcreated with a mode of 0700, this may cause issues when running as another\u001b[0m\n",
      "\u001b[1;35muser. To avoid this, create the remote_tmp dir with the correct permissions\u001b[0m\n",
      "\u001b[1;35mmanually\u001b[0m\n",
      "\u001b[1;35m\u001b[0m\n",
      "\u001b[0;32m172.30.2.158 | SUCCESS | rc=0 >>\u001b[0m\n",
      "\u001b[0;32muid=1000(vcp) gid=1000(vcp) groups=1000(vcp)\u001b[0m\n",
      "\u001b[0;32m\u001b[0m\n",
      "\u001b[1;35m [WARNING]: Module remote_tmp /home/vcp/.ansible/tmp did not exist and was\u001b[0m\n",
      "\u001b[1;35mcreated with a mode of 0700, this may cause issues when running as another\u001b[0m\n",
      "\u001b[1;35muser. To avoid this, create the remote_tmp dir with the correct permissions\u001b[0m\n",
      "\u001b[1;35mmanually\u001b[0m\n",
      "\u001b[1;35m\u001b[0m\n",
      "\u001b[0;32m172.30.2.10 | SUCCESS | rc=0 >>\u001b[0m\n",
      "\u001b[0;32muid=1000(vcp) gid=1000(vcp) groups=1000(vcp)\u001b[0m\n",
      "\u001b[0;32m\u001b[0m\n"
     ]
    }
   ],
   "source": [
    "# 別のユーザ権限に変更するためのオプションを変数に設定しておく\n",
    "become_opts = '-b --become-user=vcp --become-method=su'\n",
    "\n",
    "# id コマンドを実行して一般ユーザ(vcp)権限でコマンドが実行できることを確認する\n",
    "!ansible {unit_client.name} {become_opts} -a 'id'\n",
    "!ansible {unit_server.name} {become_opts} -a 'id'"
   ]
  },
  {
   "cell_type": "markdown",
   "metadata": {
    "lc_cell_meme": {
     "current": "9fdf3f36-4ad5-11e9-9859-0242ac110002",
     "next": "9fdf3f7c-4ad5-11e9-9859-0242ac110002",
     "previous": "9fdf3ef0-4ad5-11e9-9859-0242ac110002"
    }
   },
   "source": [
    "### ファイルの作成"
   ]
  },
  {
   "cell_type": "markdown",
   "metadata": {
    "lc_cell_meme": {
     "current": "9fdf3f7c-4ad5-11e9-9859-0242ac110002",
     "next": "9fdf3fb8-4ad5-11e9-9859-0242ac110002",
     "previous": "9fdf3f36-4ad5-11e9-9859-0242ac110002"
    }
   },
   "source": [
    "ファイルに書き込む内容を変数に設定します。"
   ]
  },
  {
   "cell_type": "code",
   "execution_count": 65,
   "metadata": {
    "deletable": false,
    "editable": false,
    "lc_cell_meme": {
     "current": "9fdf3fb8-4ad5-11e9-9859-0242ac110002",
     "next": "9fdf4008-4ad5-11e9-9859-0242ac110002",
     "previous": "9fdf3f7c-4ad5-11e9-9859-0242ac110002"
    },
    "run_through_control": {
     "frozen": true
    }
   },
   "outputs": [],
   "source": [
    "text = '''\n",
    "この Notebook では以下の操作を行います。\n",
    "\n",
    "1. VCP SDKを用いてVCディスク(Amazon EBS)を作成する\n",
    "2. 作成したVCディスクをアタッチしたVCノード(Amazon EC2)を起動する\n",
    "3. VCディスクにファイルシステムを作成しNFSサーバで公開する\n",
    "4. NFSで公開されているディレクトリを他のVCノードからNFSマウントして、ファイルの読み書きを行う\n",
    "5. VCノードを全て削除する\n",
    "6. VCディスクをアタッチしたVCノードを新たに起動して、先ほど書き込んだファイルにアクセスできることを確認する\n",
    "'''"
   ]
  },
  {
   "cell_type": "markdown",
   "metadata": {
    "lc_cell_meme": {
     "current": "9fdf4008-4ad5-11e9-9859-0242ac110002",
     "next": "9fdf4080-4ad5-11e9-9859-0242ac110002",
     "previous": "9fdf3fb8-4ad5-11e9-9859-0242ac110002"
    }
   },
   "source": [
    "NFSクライアント側で `/data/text` というファイルに先ほどの内容を書き込みます。書き込む際のユーザ権限は先ほど設定した `become_opts` の指定で一般ユーザ `vcp` に変更します。ファイルの書き込みには、リモート環境にあるファイルの内容を書き換えることができる Ansible の [blockinfile モジュール](https://docs.ansible.com/ansible/latest/modules/blockinfile_module.html)を利用します。\n",
    "blockinfileモジュールの簡単な使用方法を以下に記します。詳細についてはリンク先の[公式ドキュメント](https://docs.ansible.com/ansible/latest/modules/blockinfile_module.html)を参照してください。\n",
    "\n",
    "\n",
    "```\n",
    "ansible <ホストパターン> -m blockinfile -a 'path=<path> owner=<owner> create=<no|yes> block=<content>'\n",
    "\n",
    "blockinfileモジュールのパラメータ(-a)について:\n",
    "path\n",
    "      更新対象となるリモート環境のファイル\n",
    "owner\n",
    "      更新対象のファイルのオーナー\n",
    "create\n",
    "      ファイルが存在しない場合、作成するか否か\n",
    "      yes を設定するとファイルが存在しない場合でもファイルを作成して内容の変更を行う\n",
    "      no を設定するとファイルが存在しない場合は何もしない(デフォルト)\n",
    "block\n",
    "      ファイルに書き込む内容\n",
    "```"
   ]
  },
  {
   "cell_type": "code",
   "execution_count": 66,
   "metadata": {
    "deletable": false,
    "editable": false,
    "lc_cell_meme": {
     "current": "9fdf4080-4ad5-11e9-9859-0242ac110002",
     "next": "9fdf40d0-4ad5-11e9-9859-0242ac110002",
     "previous": "9fdf4008-4ad5-11e9-9859-0242ac110002"
    },
    "run_through_control": {
     "frozen": true
    }
   },
   "outputs": [
    {
     "name": "stdout",
     "output_type": "stream",
     "text": [
      "\u001b[0;33m172.30.2.158 | SUCCESS => {\u001b[0m\r\n",
      "\u001b[0;33m    \"changed\": true, \u001b[0m\r\n",
      "\u001b[0;33m    \"msg\": \"File created\"\u001b[0m\r\n",
      "\u001b[0;33m}\u001b[0m\r\n"
     ]
    }
   ],
   "source": [
    "!ansible {unit_client.name} {become_opts} -m blockinfile \\\n",
    "    -a 'path=/data/text owner=vcp create=yes block=\"{text}\"'"
   ]
  },
  {
   "cell_type": "markdown",
   "metadata": {
    "lc_cell_meme": {
     "current": "9fdf40d0-4ad5-11e9-9859-0242ac110002",
     "next": "9fdf4120-4ad5-11e9-9859-0242ac110002",
     "previous": "9fdf4080-4ad5-11e9-9859-0242ac110002"
    }
   },
   "source": [
    "ファイルが作成されたことを確認するためにNFSクライアント側で `ls -l /data`, `cat /data/text` を実行してみます。"
   ]
  },
  {
   "cell_type": "code",
   "execution_count": 67,
   "metadata": {
    "deletable": false,
    "editable": false,
    "lc_cell_meme": {
     "current": "9fdf4120-4ad5-11e9-9859-0242ac110002",
     "next": "9fdf4166-4ad5-11e9-9859-0242ac110002",
     "previous": "9fdf40d0-4ad5-11e9-9859-0242ac110002"
    },
    "run_through_control": {
     "frozen": true
    },
    "scrolled": true
   },
   "outputs": [
    {
     "name": "stdout",
     "output_type": "stream",
     "text": [
      "\u001b[0;32m172.30.2.158 | SUCCESS | rc=0 >>\u001b[0m\r\n",
      "\u001b[0;32mtotal 8\u001b[0m\r\n",
      "\u001b[0;32mdrwxrwxrwt    2 root     root            18 Mar 20 09:50 .\u001b[0m\r\n",
      "\u001b[0;32mdrwxr-xr-x   62 root     root          4096 Mar 20 09:49 ..\u001b[0m\r\n",
      "\u001b[0;32m-rw-r--r--    1 vcp      vcp            682 Mar 20 09:50 text\u001b[0m\r\n",
      "\u001b[0;32m\u001b[0m\r\n"
     ]
    }
   ],
   "source": [
    "!ansible {unit_client.name} -a 'ls -la /data'"
   ]
  },
  {
   "cell_type": "code",
   "execution_count": 68,
   "metadata": {
    "deletable": false,
    "editable": false,
    "lc_cell_meme": {
     "current": "9fdf4166-4ad5-11e9-9859-0242ac110002",
     "next": "9fdf41ac-4ad5-11e9-9859-0242ac110002",
     "previous": "9fdf4120-4ad5-11e9-9859-0242ac110002"
    },
    "run_through_control": {
     "frozen": true
    }
   },
   "outputs": [
    {
     "name": "stdout",
     "output_type": "stream",
     "text": [
      "\u001b[0;32m172.30.2.158 | SUCCESS | rc=0 >>\u001b[0m\r\n",
      "\u001b[0;32m# BEGIN ANSIBLE MANAGED BLOCK\u001b[0m\r\n",
      "\u001b[0;32m\u001b[0m\r\n",
      "\u001b[0;32mこの Notebook では以下の操作を行います。\u001b[0m\r\n",
      "\u001b[0;32m\u001b[0m\r\n",
      "\u001b[0;32m1. VCP SDKを用いてVCディスク(Amazon EBS)を作成する\u001b[0m\r\n",
      "\u001b[0;32m2. 作成したVCディスクをアタッチしたVCノード(Amazon EC2)を起動する\u001b[0m\r\n",
      "\u001b[0;32m3. VCディスクにファイルシステムを作成しNFSサーバで公開する\u001b[0m\r\n",
      "\u001b[0;32m4. NFSで公開されているディレクトリを他のVCノードからNFSマウントして、ファイルの読み書きを行う\u001b[0m\r\n",
      "\u001b[0;32m5. VCノードを全て削除する\u001b[0m\r\n",
      "\u001b[0;32m6. VCディスクをアタッチしたVCノードを新たに起動して、先ほど書き込んだファイルにアクセスできることを確認する\u001b[0m\r\n",
      "\u001b[0;32m# END ANSIBLE MANAGED BLOCK\u001b[0m\r\n",
      "\u001b[0;32m\u001b[0m\r\n"
     ]
    }
   ],
   "source": [
    "!ansible {unit_client.name} -a 'cat /data/text'"
   ]
  },
  {
   "cell_type": "markdown",
   "metadata": {
    "lc_cell_meme": {
     "current": "9fdf41ac-4ad5-11e9-9859-0242ac110002",
     "next": "9fdf41f2-4ad5-11e9-9859-0242ac110002",
     "previous": "9fdf4166-4ad5-11e9-9859-0242ac110002"
    }
   },
   "source": [
    "NFSサーバ側でも同様の確認を行ってみます。"
   ]
  },
  {
   "cell_type": "code",
   "execution_count": 69,
   "metadata": {
    "deletable": false,
    "editable": false,
    "lc_cell_meme": {
     "current": "9fdf41f2-4ad5-11e9-9859-0242ac110002",
     "next": "9fdf4238-4ad5-11e9-9859-0242ac110002",
     "previous": "9fdf41ac-4ad5-11e9-9859-0242ac110002"
    },
    "run_through_control": {
     "frozen": true
    }
   },
   "outputs": [
    {
     "name": "stdout",
     "output_type": "stream",
     "text": [
      "\u001b[0;32m172.30.2.10 | SUCCESS | rc=0 >>\u001b[0m\r\n",
      "\u001b[0;32mtotal 8\u001b[0m\r\n",
      "\u001b[0;32mdrwxrwxrwt    2 root     root            18 Mar 20 09:50 .\u001b[0m\r\n",
      "\u001b[0;32mdrwxr-xr-x   70 root     root          4096 Mar 20 09:49 ..\u001b[0m\r\n",
      "\u001b[0;32m-rw-r--r--    1 vcp      vcp            682 Mar 20 09:50 text\u001b[0m\r\n",
      "\u001b[0;32m\u001b[0m\r\n"
     ]
    }
   ],
   "source": [
    "!ansible {unit_server.name} -a 'ls -la /data'"
   ]
  },
  {
   "cell_type": "code",
   "execution_count": 70,
   "metadata": {
    "deletable": false,
    "editable": false,
    "lc_cell_meme": {
     "current": "9fdf4238-4ad5-11e9-9859-0242ac110002",
     "next": "9fdf427e-4ad5-11e9-9859-0242ac110002",
     "previous": "9fdf41f2-4ad5-11e9-9859-0242ac110002"
    },
    "run_through_control": {
     "frozen": true
    },
    "scrolled": true
   },
   "outputs": [
    {
     "name": "stdout",
     "output_type": "stream",
     "text": [
      "\u001b[0;32m172.30.2.10 | SUCCESS | rc=0 >>\u001b[0m\r\n",
      "\u001b[0;32m# BEGIN ANSIBLE MANAGED BLOCK\u001b[0m\r\n",
      "\u001b[0;32m\u001b[0m\r\n",
      "\u001b[0;32mこの Notebook では以下の操作を行います。\u001b[0m\r\n",
      "\u001b[0;32m\u001b[0m\r\n",
      "\u001b[0;32m1. VCP SDKを用いてVCディスク(Amazon EBS)を作成する\u001b[0m\r\n",
      "\u001b[0;32m2. 作成したVCディスクをアタッチしたVCノード(Amazon EC2)を起動する\u001b[0m\r\n",
      "\u001b[0;32m3. VCディスクにファイルシステムを作成しNFSサーバで公開する\u001b[0m\r\n",
      "\u001b[0;32m4. NFSで公開されているディレクトリを他のVCノードからNFSマウントして、ファイルの読み書きを行う\u001b[0m\r\n",
      "\u001b[0;32m5. VCノードを全て削除する\u001b[0m\r\n",
      "\u001b[0;32m6. VCディスクをアタッチしたVCノードを新たに起動して、先ほど書き込んだファイルにアクセスできることを確認する\u001b[0m\r\n",
      "\u001b[0;32m# END ANSIBLE MANAGED BLOCK\u001b[0m\r\n",
      "\u001b[0;32m\u001b[0m\r\n"
     ]
    }
   ],
   "source": [
    "!ansible {unit_server.name} -a 'cat /data/text'"
   ]
  },
  {
   "cell_type": "markdown",
   "metadata": {
    "lc_cell_meme": {
     "current": "9fdf427e-4ad5-11e9-9859-0242ac110002",
     "next": "9fdf42c4-4ad5-11e9-9859-0242ac110002",
     "previous": "9fdf4238-4ad5-11e9-9859-0242ac110002"
    }
   },
   "source": [
    "# VCノードの削除\n",
    "\n",
    "作成したVCノードをいったん全て削除します。\n",
    "\n",
    "この節を実行すると次図の状態になります。\n",
    "![step6](images/104-007.png)"
   ]
  },
  {
   "cell_type": "markdown",
   "metadata": {
    "lc_cell_meme": {
     "current": "9fdf42c4-4ad5-11e9-9859-0242ac110002",
     "next": "9fdf430a-4ad5-11e9-9859-0242ac110002",
     "previous": "9fdf427e-4ad5-11e9-9859-0242ac110002"
    }
   },
   "source": [
    "VCノードを削除するまえにNFSのアンマウントを行います。"
   ]
  },
  {
   "cell_type": "code",
   "execution_count": 71,
   "metadata": {
    "deletable": false,
    "editable": false,
    "lc_cell_meme": {
     "current": "9fdf430a-4ad5-11e9-9859-0242ac110002",
     "next": "9fdf435a-4ad5-11e9-9859-0242ac110002",
     "previous": "9fdf42c4-4ad5-11e9-9859-0242ac110002"
    },
    "run_through_control": {
     "frozen": true
    },
    "scrolled": true
   },
   "outputs": [
    {
     "name": "stdout",
     "output_type": "stream",
     "text": [
      "\u001b[0;33m172.30.2.158 | SUCCESS => {\u001b[0m\r\n",
      "\u001b[0;33m    \"changed\": true, \u001b[0m\r\n",
      "\u001b[0;33m    \"dump\": \"0\", \u001b[0m\r\n",
      "\u001b[0;33m    \"fstab\": \"/etc/fstab\", \u001b[0m\r\n",
      "\u001b[0;33m    \"fstype\": \"nfs\", \u001b[0m\r\n",
      "\u001b[0;33m    \"name\": \"/data\", \u001b[0m\r\n",
      "\u001b[0;33m    \"opts\": \"nfsvers=4\", \u001b[0m\r\n",
      "\u001b[0;33m    \"passno\": \"0\", \u001b[0m\r\n",
      "\u001b[0;33m    \"src\": \"172.30.2.10:/\"\u001b[0m\r\n",
      "\u001b[0;33m}\u001b[0m\r\n"
     ]
    }
   ],
   "source": [
    "!ansible {unit_client.name} -b -m mount \\\n",
    "    -a 'path=/data src=172.30.2.10:/ state=unmounted fstype=nfs opts=nfsvers=4'"
   ]
  },
  {
   "cell_type": "markdown",
   "metadata": {
    "lc_cell_meme": {
     "current": "9fdf435a-4ad5-11e9-9859-0242ac110002",
     "next": "9fdf43a0-4ad5-11e9-9859-0242ac110002",
     "previous": "9fdf430a-4ad5-11e9-9859-0242ac110002"
    }
   },
   "source": [
    "NFSサーバのVCノードではVCディスクのアンマウントを行います。"
   ]
  },
  {
   "cell_type": "code",
   "execution_count": 72,
   "metadata": {
    "deletable": false,
    "editable": false,
    "lc_cell_meme": {
     "current": "9fdf43a0-4ad5-11e9-9859-0242ac110002",
     "next": "9fdf43e6-4ad5-11e9-9859-0242ac110002",
     "previous": "9fdf435a-4ad5-11e9-9859-0242ac110002"
    },
    "run_through_control": {
     "frozen": true
    }
   },
   "outputs": [
    {
     "name": "stdout",
     "output_type": "stream",
     "text": [
      "\u001b[0;32m172.30.2.10 | SUCCESS | rc=0 >>\u001b[0m\n",
      "\u001b[0;32m\u001b[0m\n",
      "\u001b[0;32m\u001b[0m\n",
      "\u001b[0;33m172.30.2.10 | SUCCESS => {\u001b[0m\n",
      "\u001b[0;33m    \"changed\": true, \u001b[0m\n",
      "\u001b[0;33m    \"dump\": \"0\", \u001b[0m\n",
      "\u001b[0;33m    \"fstab\": \"/etc/fstab\", \u001b[0m\n",
      "\u001b[0;33m    \"fstype\": \"xfs\", \u001b[0m\n",
      "\u001b[0;33m    \"name\": \"/data\", \u001b[0m\n",
      "\u001b[0;33m    \"opts\": \"defaults\", \u001b[0m\n",
      "\u001b[0;33m    \"passno\": \"0\", \u001b[0m\n",
      "\u001b[0;33m    \"src\": \"LABEL=nfs-data\"\u001b[0m\n",
      "\u001b[0;33m}\u001b[0m\n"
     ]
    }
   ],
   "source": [
    "# 全てのディレクトリをアンエクスポートする\n",
    "!ansible {unit_server.name} -b -a 'exportfs -ua'\n",
    "\n",
    "# アンマウントを行う\n",
    "!ansible {unit_server.name} -b -m mount \\\n",
    "    -a 'path=/data src=LABEL=nfs-data state=unmounted fstype=xfs'"
   ]
  },
  {
   "cell_type": "markdown",
   "metadata": {
    "lc_cell_meme": {
     "current": "9fdf43e6-4ad5-11e9-9859-0242ac110002",
     "next": "9fdf442c-4ad5-11e9-9859-0242ac110002",
     "previous": "9fdf43a0-4ad5-11e9-9859-0242ac110002"
    }
   },
   "source": [
    "`handson104` に属している全てのVCノードを削除します。\n",
    "\n",
    "> 処理が完了するまで1分半～2分程度かかります。"
   ]
  },
  {
   "cell_type": "code",
   "execution_count": 73,
   "metadata": {
    "deletable": false,
    "editable": false,
    "lc_cell_meme": {
     "current": "9fdf442c-4ad5-11e9-9859-0242ac110002",
     "next": "9fdf4472-4ad5-11e9-9859-0242ac110002",
     "previous": "9fdf43e6-4ad5-11e9-9859-0242ac110002"
    },
    "run_through_control": {
     "frozen": true
    },
    "scrolled": true
   },
   "outputs": [
    {
     "name": "stdout",
     "output_type": "stream",
     "text": [
      "2019-03-20 18:50:18,587 - INFO - nfsServer is DELETING\n",
      "nfsClient is DELETING ... 0 sec\n",
      "2019-03-20 18:50:23,822 - INFO - nfsServer is DELETING\n",
      "nfsClient is DELETING ... 5 sec\n",
      "2019-03-20 18:50:29,065 - INFO - nfsServer is DELETING\n",
      "nfsClient is DELETING ... 10 sec\n",
      "2019-03-20 18:50:34,296 - INFO - nfsServer is DELETING\n",
      "nfsClient is DELETING ... 15 sec\n",
      "2019-03-20 18:50:39,544 - INFO - nfsServer is DELETING\n",
      "nfsClient is DELETING ... 20 sec\n",
      "2019-03-20 18:50:44,790 - INFO - nfsServer is DELETING\n",
      "nfsClient is DELETING ... 25 sec\n",
      "2019-03-20 18:50:50,031 - INFO - nfsServer is DELETING\n",
      "nfsClient is DELETING ... 30 sec\n",
      "2019-03-20 18:50:55,265 - INFO - nfsServer is DELETING\n",
      "nfsClient is DELETING ... 35 sec\n",
      "2019-03-20 18:51:00,507 - INFO - nfsServer is DELETING\n",
      "nfsClient is DELETING ... 40 sec\n",
      "2019-03-20 18:51:05,703 - INFO - nfsClient is DELETING ... 45 sec\n",
      "2019-03-20 18:51:10,900 - INFO - nfsClient is DELETING ... 50 sec\n",
      "2019-03-20 18:51:16,117 - INFO - nfsClient is DELETING ... 55 sec\n",
      "2019-03-20 18:51:21,326 - INFO - nfsClient is DELETING ... 60 sec\n",
      "2019-03-20 18:51:26,536 - INFO - nfsClient is DELETING ... 65 sec\n",
      "2019-03-20 18:51:31,741 - INFO - nfsClient is DELETING ... 70 sec\n",
      "2019-03-20 18:51:36,944 - INFO - nfsClient is DELETING ... 75 sec\n",
      "2019-03-20 18:51:42,171 - INFO - nfsClient is DELETING ... 80 sec\n",
      "2019-03-20 18:51:47,371 - INFO - nfsClient is DELETING ... 85 sec\n",
      "2019-03-20 18:51:52,580 - INFO - nfsClient is DELETING ... 90 sec\n",
      "2019-03-20 18:51:57,611 - INFO - cleanup completed. vc  is cleanup(no unit)\n"
     ]
    }
   ],
   "source": [
    "unit_group.cleanup()"
   ]
  },
  {
   "cell_type": "markdown",
   "metadata": {
    "lc_cell_meme": {
     "current": "9fdf4472-4ad5-11e9-9859-0242ac110002",
     "next": "9fdf44b8-4ad5-11e9-9859-0242ac110002",
     "previous": "9fdf442c-4ad5-11e9-9859-0242ac110002"
    }
   },
   "source": [
    "削除後の状態を確認してみます。"
   ]
  },
  {
   "cell_type": "code",
   "execution_count": 74,
   "metadata": {
    "deletable": false,
    "editable": false,
    "lc_cell_meme": {
     "current": "9fdf44b8-4ad5-11e9-9859-0242ac110002",
     "next": "9fdf44fe-4ad5-11e9-9859-0242ac110002",
     "previous": "9fdf4472-4ad5-11e9-9859-0242ac110002"
    },
    "run_through_control": {
     "frozen": true
    }
   },
   "outputs": [
    {
     "data": {
      "text/html": [
       "<style  type=\"text/css\" >\n",
       "    #T_cd031544_4af5_11e9_b773_0242ac110002row0_col3 {\n",
       "            background-color:  #dfd;\n",
       "        }</style>  \n",
       "<table id=\"T_cd031544_4af5_11e9_b773_0242ac110002\" > \n",
       "<thead>    <tr> \n",
       "        <th class=\"blank level0\" ></th> \n",
       "        <th class=\"col_heading level0 col0\" >vcno</th> \n",
       "        <th class=\"col_heading level0 col1\" >vctype</th> \n",
       "        <th class=\"col_heading level0 col2\" >vcname</th> \n",
       "        <th class=\"col_heading level0 col3\" >state</th> \n",
       "        <th class=\"col_heading level0 col4\" >vcid</th> \n",
       "        <th class=\"col_heading level0 col5\" >cdate</th> \n",
       "    </tr></thead> \n",
       "<tbody>    <tr> \n",
       "        <th id=\"T_cd031544_4af5_11e9_b773_0242ac110002level0_row0\" class=\"row_heading level0 row0\" >0</th> \n",
       "        <td id=\"T_cd031544_4af5_11e9_b773_0242ac110002row0_col0\" class=\"data row0 col0\" >43</td> \n",
       "        <td id=\"T_cd031544_4af5_11e9_b773_0242ac110002row0_col1\" class=\"data row0 col1\" >storage</td> \n",
       "        <td id=\"T_cd031544_4af5_11e9_b773_0242ac110002row0_col2\" class=\"data row0 col2\" >handson104-disk</td> \n",
       "        <td id=\"T_cd031544_4af5_11e9_b773_0242ac110002row0_col3\" class=\"data row0 col3\" >RUNNING</td> \n",
       "        <td id=\"T_cd031544_4af5_11e9_b773_0242ac110002row0_col4\" class=\"data row0 col4\" >7a228c33...</td> \n",
       "        <td id=\"T_cd031544_4af5_11e9_b773_0242ac110002row0_col5\" class=\"data row0 col5\" >2019/03/20 09:44:28 UTC</td> \n",
       "    </tr></tbody> \n",
       "</table> "
      ],
      "text/plain": [
       "<pandas.io.formats.style.Styler at 0x7f06be9bfda0>"
      ]
     },
     "execution_count": 74,
     "metadata": {},
     "output_type": "execute_result"
    }
   ],
   "source": [
    "vcp.df_ugroups()"
   ]
  },
  {
   "cell_type": "markdown",
   "metadata": {
    "lc_cell_meme": {
     "current": "9fdf44fe-4ad5-11e9-9859-0242ac110002",
     "next": "9fdf4544-4ad5-11e9-9859-0242ac110002",
     "previous": "9fdf44b8-4ad5-11e9-9859-0242ac110002"
    }
   },
   "source": [
    "# 新たなVCノードにVCディスクを再びアタッチする\n",
    "\n",
    "この節を実行すると次の図の状態になります。\n",
    "![step7](images/104-008.png)"
   ]
  },
  {
   "cell_type": "markdown",
   "metadata": {
    "heading_collapsed": true,
    "lc_cell_meme": {
     "current": "9fdf4544-4ad5-11e9-9859-0242ac110002",
     "next": "9fdf458a-4ad5-11e9-9859-0242ac110002",
     "previous": "9fdf44fe-4ad5-11e9-9859-0242ac110002"
    }
   },
   "source": [
    "## VCノードの起動"
   ]
  },
  {
   "cell_type": "markdown",
   "metadata": {
    "hidden": true,
    "lc_cell_meme": {
     "current": "9fdf458a-4ad5-11e9-9859-0242ac110002",
     "next": "9fdf45da-4ad5-11e9-9859-0242ac110002",
     "previous": "9fdf4544-4ad5-11e9-9859-0242ac110002"
    }
   },
   "source": [
    "### UnitGroupの作成\n",
    "\n",
    "VCノード用のUnitGroupを新たに作成します。"
   ]
  },
  {
   "cell_type": "code",
   "execution_count": 75,
   "metadata": {
    "deletable": false,
    "editable": false,
    "hidden": true,
    "lc_cell_meme": {
     "current": "9fdf45da-4ad5-11e9-9859-0242ac110002",
     "next": "9fdf4616-4ad5-11e9-9859-0242ac110002",
     "previous": "9fdf458a-4ad5-11e9-9859-0242ac110002"
    },
    "run_through_control": {
     "frozen": true
    }
   },
   "outputs": [],
   "source": [
    "unit_group2 = vcp.create_ugroup('handson104B')"
   ]
  },
  {
   "cell_type": "markdown",
   "metadata": {
    "hidden": true,
    "lc_cell_meme": {
     "current": "9fdf4616-4ad5-11e9-9859-0242ac110002",
     "next": "9fdf465c-4ad5-11e9-9859-0242ac110002",
     "previous": "9fdf45da-4ad5-11e9-9859-0242ac110002"
    }
   },
   "source": [
    "### VCノードのspecを指定する\n",
    "\n",
    "VCディスクをアタッチするVCノードのUnitを構成します。基本的にはNFSサーバ用のUnitと同じ設定を `spec`オブジェクトに対して行います。"
   ]
  },
  {
   "cell_type": "markdown",
   "metadata": {
    "hidden": true,
    "lc_cell_meme": {
     "current": "9fdf465c-4ad5-11e9-9859-0242ac110002",
     "next": "9fdf46ac-4ad5-11e9-9859-0242ac110002",
     "previous": "9fdf4616-4ad5-11e9-9859-0242ac110002"
    }
   },
   "source": [
    "#### spec オブジェクトを作成する"
   ]
  },
  {
   "cell_type": "markdown",
   "metadata": {
    "hidden": true,
    "lc_cell_meme": {
     "current": "9fdf46ac-4ad5-11e9-9859-0242ac110002",
     "next": "9fdf46f2-4ad5-11e9-9859-0242ac110002",
     "previous": "9fdf465c-4ad5-11e9-9859-0242ac110002"
    }
   },
   "source": [
    "Unitに対応する specオブジェクトを作成します。ここでは以下の値を指定します。\n",
    "\n",
    "* プロバイダ: `aws`\n",
    "* flavor: `small`"
   ]
  },
  {
   "cell_type": "code",
   "execution_count": 76,
   "metadata": {
    "deletable": false,
    "editable": false,
    "hidden": true,
    "lc_cell_meme": {
     "current": "9fdf46f2-4ad5-11e9-9859-0242ac110002",
     "next": "9fdf4738-4ad5-11e9-9859-0242ac110002",
     "previous": "9fdf46ac-4ad5-11e9-9859-0242ac110002"
    },
    "run_through_control": {
     "frozen": true
    }
   },
   "outputs": [],
   "source": [
    "spec_server2 = vcp.get_spec('aws', 'small')"
   ]
  },
  {
   "cell_type": "markdown",
   "metadata": {
    "hidden": true,
    "lc_cell_meme": {
     "current": "9fdf4738-4ad5-11e9-9859-0242ac110002",
     "next": "9fdf477e-4ad5-11e9-9859-0242ac110002",
     "previous": "9fdf46f2-4ad5-11e9-9859-0242ac110002"
    }
   },
   "source": [
    "#### sshの鍵ファイルを設定する"
   ]
  },
  {
   "cell_type": "markdown",
   "metadata": {
    "hidden": true,
    "lc_cell_meme": {
     "current": "9fdf477e-4ad5-11e9-9859-0242ac110002",
     "next": "9fdf47c4-4ad5-11e9-9859-0242ac110002",
     "previous": "9fdf4738-4ad5-11e9-9859-0242ac110002"
    }
   },
   "source": [
    "VCノードに登録するsshの公開鍵を `spec`オブジェクトに設定します。先ほどNFSサーバ用Unitで設定したのと同じ値を指定しています。"
   ]
  },
  {
   "cell_type": "code",
   "execution_count": 77,
   "metadata": {
    "deletable": false,
    "editable": false,
    "hidden": true,
    "lc_cell_meme": {
     "current": "9fdf47c4-4ad5-11e9-9859-0242ac110002",
     "next": "9fdf480a-4ad5-11e9-9859-0242ac110002",
     "previous": "9fdf477e-4ad5-11e9-9859-0242ac110002"
    },
    "run_through_control": {
     "frozen": true
    }
   },
   "outputs": [],
   "source": [
    "spec_server2.set_ssh_pubkey(ssh_public_key)"
   ]
  },
  {
   "cell_type": "markdown",
   "metadata": {
    "hidden": true,
    "lc_cell_meme": {
     "current": "9fdf480a-4ad5-11e9-9859-0242ac110002",
     "next": "9fdf4850-4ad5-11e9-9859-0242ac110002",
     "previous": "9fdf47c4-4ad5-11e9-9859-0242ac110002"
    }
   },
   "source": [
    "#### VCノードのIPアドレスを設定する"
   ]
  },
  {
   "cell_type": "markdown",
   "metadata": {
    "hidden": true,
    "lc_cell_meme": {
     "current": "9fdf4850-4ad5-11e9-9859-0242ac110002",
     "next": "9fdf4896-4ad5-11e9-9859-0242ac110002",
     "previous": "9fdf480a-4ad5-11e9-9859-0242ac110002"
    }
   },
   "source": [
    "先ほどNFSサーバ用Unitで設定したのと同じIPアドレスを`spec`オブジェクトに指定します。"
   ]
  },
  {
   "cell_type": "code",
   "execution_count": 78,
   "metadata": {
    "deletable": false,
    "editable": false,
    "hidden": true,
    "lc_cell_meme": {
     "current": "9fdf4896-4ad5-11e9-9859-0242ac110002",
     "next": "9fdf48dc-4ad5-11e9-9859-0242ac110002",
     "previous": "9fdf4850-4ad5-11e9-9859-0242ac110002"
    },
    "run_through_control": {
     "frozen": true
    }
   },
   "outputs": [],
   "source": [
    "spec_server2.ip_addresses = [server_ip_address]"
   ]
  },
  {
   "cell_type": "markdown",
   "metadata": {
    "hidden": true,
    "lc_cell_meme": {
     "current": "9fdf48dc-4ad5-11e9-9859-0242ac110002",
     "next": "9fdf492c-4ad5-11e9-9859-0242ac110002",
     "previous": "9fdf4896-4ad5-11e9-9859-0242ac110002"
    }
   },
   "source": [
    "#### VCディスクをアタッチする"
   ]
  },
  {
   "cell_type": "markdown",
   "metadata": {
    "hidden": true,
    "lc_cell_meme": {
     "current": "9fdf492c-4ad5-11e9-9859-0242ac110002",
     "next": "9fdf4972-4ad5-11e9-9859-0242ac110002",
     "previous": "9fdf48dc-4ad5-11e9-9859-0242ac110002"
    }
   },
   "source": [
    "先ほどNFSサーバ用Unitで設定したのと同じボリュームIDを`spec`オブジェクトに指定します。"
   ]
  },
  {
   "cell_type": "code",
   "execution_count": 79,
   "metadata": {
    "deletable": false,
    "editable": false,
    "hidden": true,
    "lc_cell_meme": {
     "current": "9fdf4972-4ad5-11e9-9859-0242ac110002",
     "next": "9fdf49b8-4ad5-11e9-9859-0242ac110002",
     "previous": "9fdf492c-4ad5-11e9-9859-0242ac110002"
    },
    "run_through_control": {
     "frozen": true
    }
   },
   "outputs": [],
   "source": [
    "spec_server2.disks = ugroup_disk.find_nodes()"
   ]
  },
  {
   "cell_type": "markdown",
   "metadata": {
    "hidden": true,
    "lc_cell_meme": {
     "current": "9fdf49b8-4ad5-11e9-9859-0242ac110002",
     "next": "9fdf49fe-4ad5-11e9-9859-0242ac110002",
     "previous": "9fdf4972-4ad5-11e9-9859-0242ac110002"
    }
   },
   "source": [
    "#### NFSサーバ用のBaseコンテナに関する設定を行う"
   ]
  },
  {
   "cell_type": "markdown",
   "metadata": {
    "hidden": true,
    "lc_cell_meme": {
     "current": "9fdf49fe-4ad5-11e9-9859-0242ac110002",
     "next": "9fdf4a44-4ad5-11e9-9859-0242ac110002",
     "previous": "9fdf49b8-4ad5-11e9-9859-0242ac110002"
    }
   },
   "source": [
    "先ほどNFSサーバ用Unitで設定したのと同じBaseコンテナイメージを`spec`オブジェクトに指定します。"
   ]
  },
  {
   "cell_type": "code",
   "execution_count": 80,
   "metadata": {
    "deletable": false,
    "editable": false,
    "hidden": true,
    "lc_cell_meme": {
     "current": "9fdf4a44-4ad5-11e9-9859-0242ac110002",
     "next": "9fdf4a8a-4ad5-11e9-9859-0242ac110002",
     "previous": "9fdf49fe-4ad5-11e9-9859-0242ac110002"
    },
    "run_through_control": {
     "frozen": true
    }
   },
   "outputs": [],
   "source": [
    "# NFSサーバ用のコンテナイメージを設定する\n",
    "spec_server2.image = 'vcp/nfsd'"
   ]
  },
  {
   "cell_type": "markdown",
   "metadata": {
    "hidden": true,
    "lc_cell_meme": {
     "current": "9fdf4a8a-4ad5-11e9-9859-0242ac110002",
     "next": "9fdf4ad0-4ad5-11e9-9859-0242ac110002",
     "previous": "9fdf4a44-4ad5-11e9-9859-0242ac110002"
    }
   },
   "source": [
    "先ほどNFSサーバ用Unitで設定したのとNFSドメインの値を`spec`オブジェクトに指定します。"
   ]
  },
  {
   "cell_type": "code",
   "execution_count": 81,
   "metadata": {
    "deletable": false,
    "editable": false,
    "hidden": true,
    "lc_cell_meme": {
     "current": "9fdf4ad0-4ad5-11e9-9859-0242ac110002",
     "next": "9fdf4b20-4ad5-11e9-9859-0242ac110002",
     "previous": "9fdf4a8a-4ad5-11e9-9859-0242ac110002"
    },
    "run_through_control": {
     "frozen": true
    }
   },
   "outputs": [],
   "source": [
    "spec_server2.params_e.append('NFS_DOMAIN={}'.format(nfs_domain))"
   ]
  },
  {
   "cell_type": "markdown",
   "metadata": {
    "hidden": true,
    "lc_cell_meme": {
     "current": "9fdf4b20-4ad5-11e9-9859-0242ac110002",
     "next": "9fdf4b66-4ad5-11e9-9859-0242ac110002",
     "previous": "9fdf4ad0-4ad5-11e9-9859-0242ac110002"
    }
   },
   "source": [
    "NFSサーバの /etc/fstab, /etc/exports は VCノード を削除したときに同時に削除されています。先程と同等の /etc/fstab, /etc/exports を復元するには Baseコンテナの環境変数として与える必要があります。"
   ]
  },
  {
   "cell_type": "markdown",
   "metadata": {
    "hidden": true,
    "lc_cell_meme": {
     "current": "9fdf4b66-4ad5-11e9-9859-0242ac110002",
     "next": "9fdf4bac-4ad5-11e9-9859-0242ac110002",
     "previous": "9fdf4b20-4ad5-11e9-9859-0242ac110002"
    }
   },
   "source": [
    "まず NFSサーバの /etc/fstab に関する設定を行います。/etc/fstabに関するBaseコンテナの環境変数の設定方法は以下のようになっています。\n",
    "\n",
    "* ETC_FSTAB\n",
    "  - 指定された値を/etc/fstabに反映する。ただしbase64エンコードした値を指定する必要がある\n",
    "  \n",
    "設定する /etc/fstab の内容を変数に設定します。\n",
    "\n",
    "> /etc/fstab の設定内容は先ほどNFSサーバを設定した箇所の実行記録で確認できます。"
   ]
  },
  {
   "cell_type": "code",
   "execution_count": 82,
   "metadata": {
    "deletable": false,
    "editable": false,
    "hidden": true,
    "lc_cell_meme": {
     "current": "9fdf4bac-4ad5-11e9-9859-0242ac110002",
     "next": "9fdf4bf2-4ad5-11e9-9859-0242ac110002",
     "previous": "9fdf4b66-4ad5-11e9-9859-0242ac110002"
    },
    "run_through_control": {
     "frozen": true
    }
   },
   "outputs": [],
   "source": [
    "fstab = 'LABEL=nfs-data /data xfs defaults 0 0'"
   ]
  },
  {
   "cell_type": "markdown",
   "metadata": {
    "hidden": true,
    "lc_cell_meme": {
     "current": "9fdf4bf2-4ad5-11e9-9859-0242ac110002",
     "next": "9fdf4c38-4ad5-11e9-9859-0242ac110002",
     "previous": "9fdf4bac-4ad5-11e9-9859-0242ac110002"
    }
   },
   "source": [
    "`fstab`の内容を base64エンコードして `ETC_FSTAB` に設定します。"
   ]
  },
  {
   "cell_type": "code",
   "execution_count": 83,
   "metadata": {
    "deletable": false,
    "editable": false,
    "hidden": true,
    "lc_cell_meme": {
     "current": "9fdf4c38-4ad5-11e9-9859-0242ac110002",
     "next": "9fdf4c88-4ad5-11e9-9859-0242ac110002",
     "previous": "9fdf4bf2-4ad5-11e9-9859-0242ac110002"
    },
    "run_through_control": {
     "frozen": true
    }
   },
   "outputs": [],
   "source": [
    "import base64\n",
    "spec_server2.params_e.append('ETC_FSTAB={}'.format(\n",
    "    base64.b64encode(fstab.encode('UTF-8')).decode('UTF-8')))"
   ]
  },
  {
   "cell_type": "markdown",
   "metadata": {
    "hidden": true,
    "lc_cell_meme": {
     "current": "9fdf4c88-4ad5-11e9-9859-0242ac110002",
     "next": "9fdf4cce-4ad5-11e9-9859-0242ac110002",
     "previous": "9fdf4c38-4ad5-11e9-9859-0242ac110002"
    }
   },
   "source": [
    "次に /etc/exports に関する設定を行います。/etc/exportsに関するBaseコンテナの環境変数の設定方法は以下のようになっています。\n",
    "\n",
    "* ETC_EXPORTS\n",
    "  - 指定された値を/etc/exportsに反映する。ただしbase64エンコードした値を指定する必要がある\n",
    "  \n",
    "/etc/exports の記述内容は、先ほどNFSサーバを設定した際に変数 `exports` に格納してあるので、その内容を確認してみます。"
   ]
  },
  {
   "cell_type": "code",
   "execution_count": 84,
   "metadata": {
    "deletable": false,
    "editable": false,
    "hidden": true,
    "lc_cell_meme": {
     "current": "9fdf4cce-4ad5-11e9-9859-0242ac110002",
     "next": "9fdf4d14-4ad5-11e9-9859-0242ac110002",
     "previous": "9fdf4c88-4ad5-11e9-9859-0242ac110002"
    },
    "run_through_control": {
     "frozen": true
    }
   },
   "outputs": [
    {
     "data": {
      "text/plain": [
       "'/data 172.30.2.0/24(rw,fsid=0,no_subtree_check)'"
      ]
     },
     "execution_count": 84,
     "metadata": {},
     "output_type": "execute_result"
    }
   ],
   "source": [
    "exports"
   ]
  },
  {
   "cell_type": "markdown",
   "metadata": {
    "hidden": true,
    "lc_cell_meme": {
     "current": "9fdf4d14-4ad5-11e9-9859-0242ac110002",
     "next": "9fdf4d5a-4ad5-11e9-9859-0242ac110002",
     "previous": "9fdf4cce-4ad5-11e9-9859-0242ac110002"
    }
   },
   "source": [
    "`exports`の内容を base64エンコードして `ETC_EXPORTS` に設定します。"
   ]
  },
  {
   "cell_type": "code",
   "execution_count": 85,
   "metadata": {
    "deletable": false,
    "editable": false,
    "hidden": true,
    "lc_cell_meme": {
     "current": "9fdf4d5a-4ad5-11e9-9859-0242ac110002",
     "next": "9fdf4da0-4ad5-11e9-9859-0242ac110002",
     "previous": "9fdf4d14-4ad5-11e9-9859-0242ac110002"
    },
    "run_through_control": {
     "frozen": true
    }
   },
   "outputs": [],
   "source": [
    "spec_server2.params_e.append('ETC_EXPORTS={}'.format(\n",
    "    base64.b64encode(exports.encode('UTF-8')).decode('UTF-8')))"
   ]
  },
  {
   "cell_type": "markdown",
   "metadata": {
    "hidden": true,
    "lc_cell_meme": {
     "current": "9fdf4da0-4ad5-11e9-9859-0242ac110002",
     "next": "9fdf4de6-4ad5-11e9-9859-0242ac110002",
     "previous": "9fdf4d5a-4ad5-11e9-9859-0242ac110002"
    }
   },
   "source": [
    "最後にマウントポイントになるディレクトリ `/data` を事前に作成するために環境変数 `MKDIR_LIST` の設定を行います。\n",
    "\n",
    "* MKDIR_LIST\n",
    "  - 指定されたディレクトリを起動時に作成する\n",
    "  - 複数のディレクトリを指定する場合は `:` で区切る\n",
    "  - マウントポイントなど事前にディレクトリが存在する必要がある場合に指定する"
   ]
  },
  {
   "cell_type": "code",
   "execution_count": 86,
   "metadata": {
    "deletable": false,
    "editable": false,
    "hidden": true,
    "lc_cell_meme": {
     "current": "9fdf4de6-4ad5-11e9-9859-0242ac110002",
     "next": "9fdf4e36-4ad5-11e9-9859-0242ac110002",
     "previous": "9fdf4da0-4ad5-11e9-9859-0242ac110002"
    },
    "run_through_control": {
     "frozen": true
    }
   },
   "outputs": [],
   "source": [
    "spec_server2.params_e.append('MKDIR_LIST=/data')"
   ]
  },
  {
   "cell_type": "markdown",
   "metadata": {
    "hidden": true,
    "lc_cell_meme": {
     "current": "9fdf4e36-4ad5-11e9-9859-0242ac110002",
     "next": "9fdf4e72-4ad5-11e9-9859-0242ac110002",
     "previous": "9fdf4de6-4ad5-11e9-9859-0242ac110002"
    }
   },
   "source": [
    "#### specの設定内容の確認\n",
    "\n",
    "ここまで `spec` オブジェクトに設定した内容を確認してみます。"
   ]
  },
  {
   "cell_type": "code",
   "execution_count": 87,
   "metadata": {
    "deletable": false,
    "editable": false,
    "hidden": true,
    "lc_cell_meme": {
     "current": "9fdf4e72-4ad5-11e9-9859-0242ac110002",
     "next": "9fdf4eb8-4ad5-11e9-9859-0242ac110002",
     "previous": "9fdf4e36-4ad5-11e9-9859-0242ac110002"
    },
    "run_through_control": {
     "frozen": true
    }
   },
   "outputs": [
    {
     "name": "stdout",
     "output_type": "stream",
     "text": [
      "\n",
      "========================\n",
      "aws\n",
      "------------------------\n",
      "\n",
      "    cci_version: \"1.0\"\n",
      "    name: \n",
      "    description: \n",
      "    private_network: default\n",
      "    num_nodes: 1\n",
      "    image: vcp/nfsd\n",
      "    recovery_mode: none\n",
      "    params:\n",
      "        {'v': [], 'e': ['AUTHORIZED_KEYS=c3NoLXJzYSBBQUFBQjNOemFDMXljMkVBQUFBREFRQUJBQUFCQVFDcW5XY3Y2TlB6SVRld3pKdEMzbTdPb040MGhHUkJQSDdRR2pjUk5FQXY5T0tMcFl6TEJha01rN2VLL3krRzZZRTQ3VUJCdWFGT21hREtOdVJsdHRjLytZZWRTbEI3eGdtMXpyUXl4SExpa2FxSys3azBxclRkSHNPcm5pNEJOWDNEWS9IK2pINldGZ3RZSUtxUk1qWmRXM05PRWJabHMwZkNBVFovR3R6RkhnblMrKzhXN3BSUXYzc1R4NDBHR2h0L2dWU2hOcGEyRmtKREFYeFFscDZXK1AvdkNBaDJxV3E5M1ZRQ1FzQWxpNjVCTGNMZ0hPVy9UbGFlZ2pTTXk4dkszNzUrL0NuSTZja1BTeU1pWHlvMi91clRneXg5QlNZQWYvVUovNXpnb3hjSUsxUlFqR1FPcUs2MVZUTVo2QnhzWXc0bkRDaWdwaFI5L1BXMnNIUDMgYml0X2t1bkA5M2EzNGM3NmQwNDIK', 'NFS_DOMAIN=vcp-handson.org', 'ETC_FSTAB=TEFCRUw9bmZzLWRhdGEgL2RhdGEgeGZzIGRlZmF1bHRzIDAgMA==', 'ETC_EXPORTS=L2RhdGEgMTcyLjMwLjIuMC8yNChydyxmc2lkPTAsbm9fc3VidHJlZV9jaGVjayk=', 'MKDIR_LIST=/data']}\n",
      "    instance_type: m4.large\n",
      "    volume_size: 8\n",
      "    volume_type: gp2\n",
      "    volume_id: ['vcp:7a228c3347ef40ac95b5d6dd6dde61c2:data:61dbbf45220c4330b4c9745602c4e3aa']\n",
      "    cloud_image: default\n",
      "    tags: {}\n",
      "========================\n"
     ]
    }
   ],
   "source": [
    "print(spec_server2)"
   ]
  },
  {
   "cell_type": "markdown",
   "metadata": {
    "hidden": true,
    "lc_cell_meme": {
     "current": "9fdf4eb8-4ad5-11e9-9859-0242ac110002",
     "next": "9fdf4efe-4ad5-11e9-9859-0242ac110002",
     "previous": "9fdf4e72-4ad5-11e9-9859-0242ac110002"
    }
   },
   "source": [
    "### Unitの作成とVCノードの起動"
   ]
  },
  {
   "cell_type": "markdown",
   "metadata": {
    "hidden": true,
    "lc_cell_meme": {
     "current": "9fdf4efe-4ad5-11e9-9859-0242ac110002",
     "next": "9fdf4f44-4ad5-11e9-9859-0242ac110002",
     "previous": "9fdf4eb8-4ad5-11e9-9859-0242ac110002"
    }
   },
   "source": [
    "起動前のUnit, Nodeの状態を確認しておきます。"
   ]
  },
  {
   "cell_type": "code",
   "execution_count": 88,
   "metadata": {
    "deletable": false,
    "editable": false,
    "hidden": true,
    "lc_cell_meme": {
     "current": "9fdf4f44-4ad5-11e9-9859-0242ac110002",
     "next": "9fdf4f8a-4ad5-11e9-9859-0242ac110002",
     "previous": "9fdf4efe-4ad5-11e9-9859-0242ac110002"
    },
    "run_through_control": {
     "frozen": true
    }
   },
   "outputs": [
    {
     "data": {
      "text/html": [
       "<div>\n",
       "<style scoped>\n",
       "    .dataframe tbody tr th:only-of-type {\n",
       "        vertical-align: middle;\n",
       "    }\n",
       "\n",
       "    .dataframe tbody tr th {\n",
       "        vertical-align: top;\n",
       "    }\n",
       "\n",
       "    .dataframe thead th {\n",
       "        text-align: right;\n",
       "    }\n",
       "</style>\n",
       "<table border=\"1\" class=\"dataframe\">\n",
       "  <thead>\n",
       "    <tr style=\"text-align: right;\">\n",
       "      <th></th>\n",
       "      <th>vctype</th>\n",
       "      <th>vcno</th>\n",
       "      <th>vcname</th>\n",
       "      <th>vc_state</th>\n",
       "      <th>vcid</th>\n",
       "      <th>cdate</th>\n",
       "      <th>unit_name</th>\n",
       "      <th>unit_state</th>\n",
       "    </tr>\n",
       "  </thead>\n",
       "  <tbody>\n",
       "  </tbody>\n",
       "</table>\n",
       "</div>"
      ],
      "text/plain": [
       "Empty DataFrame\n",
       "Columns: [vctype, vcno, vcname, vc_state, vcid, cdate, unit_name, unit_state]\n",
       "Index: []"
      ]
     },
     "metadata": {},
     "output_type": "display_data"
    },
    {
     "data": {
      "text/plain": [
       "[]"
      ]
     },
     "metadata": {},
     "output_type": "display_data"
    }
   ],
   "source": [
    "# Unitの一覧を DataFrame で表示する\n",
    "display(unit_group2.df_units())\n",
    "\n",
    "# Nodeの一覧を DataFrame で表示する\n",
    "display(unit_group2.df_nodes())"
   ]
  },
  {
   "cell_type": "markdown",
   "metadata": {
    "hidden": true,
    "lc_cell_meme": {
     "current": "9fdf4f8a-4ad5-11e9-9859-0242ac110002",
     "next": "9fdf4fd0-4ad5-11e9-9859-0242ac110002",
     "previous": "9fdf4f44-4ad5-11e9-9859-0242ac110002"
    }
   },
   "source": [
    "Unitの作成とVCノードの起動を行います。\n",
    "\n",
    "> 処理が完了するまで1分半～2分程度かかります。"
   ]
  },
  {
   "cell_type": "code",
   "execution_count": 89,
   "metadata": {
    "deletable": false,
    "editable": false,
    "hidden": true,
    "lc_cell_meme": {
     "current": "9fdf4fd0-4ad5-11e9-9859-0242ac110002",
     "next": "9fdf5016-4ad5-11e9-9859-0242ac110002",
     "previous": "9fdf4f8a-4ad5-11e9-9859-0242ac110002"
    },
    "run_through_control": {
     "frozen": true
    }
   },
   "outputs": [
    {
     "name": "stdout",
     "output_type": "stream",
     "text": [
      "2019-03-20 18:52:00,617 - INFO - BOOTING ... 0 sec\n",
      "2019-03-20 18:52:05,819 - INFO - BOOTING ... 5 sec\n",
      "2019-03-20 18:52:11,015 - INFO - BOOTING ... 10 sec\n",
      "2019-03-20 18:52:16,209 - INFO - BOOTING ... 15 sec\n",
      "2019-03-20 18:52:21,412 - INFO - BOOTING ... 20 sec\n",
      "2019-03-20 18:52:26,616 - INFO - BOOTING ... 25 sec\n",
      "2019-03-20 18:52:31,819 - INFO - BOOTING ... 30 sec\n",
      "2019-03-20 18:52:37,015 - INFO - BOOTING ... 35 sec\n",
      "2019-03-20 18:52:42,223 - INFO - BOOTING ... 40 sec\n",
      "2019-03-20 18:52:47,429 - INFO - BOOTING ... 45 sec\n",
      "2019-03-20 18:52:52,637 - INFO - BOOTING ... 50 sec\n",
      "2019-03-20 18:52:57,882 - INFO - BOOTING ... 55 sec\n",
      "2019-03-20 18:53:03,086 - INFO - BOOTING ... 60 sec\n",
      "2019-03-20 18:53:08,290 - INFO - BOOTING ... 65 sec\n",
      "2019-03-20 18:53:13,491 - INFO - BOOTING ... 70 sec\n",
      "2019-03-20 18:53:18,694 - INFO - BOOTING ... 75 sec\n",
      "2019-03-20 18:53:23,905 - INFO - BOOTING ... 80 sec\n",
      "2019-03-20 18:53:35,127 - INFO - unit nfsServer is RUNNING\n"
     ]
    }
   ],
   "source": [
    "# Unitの作成（同時に VCノードが作成される）\n",
    "unit_server = unit_group2.create_unit('nfsServer', spec_server2)"
   ]
  },
  {
   "cell_type": "markdown",
   "metadata": {
    "hidden": true,
    "lc_cell_meme": {
     "current": "9fdf5016-4ad5-11e9-9859-0242ac110002",
     "next": "9fdf505c-4ad5-11e9-9859-0242ac110002",
     "previous": "9fdf4fd0-4ad5-11e9-9859-0242ac110002"
    }
   },
   "source": [
    "起動したUnit, VCノードの一覧を表示します。"
   ]
  },
  {
   "cell_type": "code",
   "execution_count": 90,
   "metadata": {
    "deletable": false,
    "editable": false,
    "hidden": true,
    "lc_cell_meme": {
     "current": "9fdf505c-4ad5-11e9-9859-0242ac110002",
     "next": "9fdf50a2-4ad5-11e9-9859-0242ac110002",
     "previous": "9fdf5016-4ad5-11e9-9859-0242ac110002"
    },
    "run_through_control": {
     "frozen": true
    }
   },
   "outputs": [
    {
     "data": {
      "text/html": [
       "<div>\n",
       "<style scoped>\n",
       "    .dataframe tbody tr th:only-of-type {\n",
       "        vertical-align: middle;\n",
       "    }\n",
       "\n",
       "    .dataframe tbody tr th {\n",
       "        vertical-align: top;\n",
       "    }\n",
       "\n",
       "    .dataframe thead th {\n",
       "        text-align: right;\n",
       "    }\n",
       "</style>\n",
       "<table border=\"1\" class=\"dataframe\">\n",
       "  <thead>\n",
       "    <tr style=\"text-align: right;\">\n",
       "      <th></th>\n",
       "      <th>vctype</th>\n",
       "      <th>vcno</th>\n",
       "      <th>vcname</th>\n",
       "      <th>vc_state</th>\n",
       "      <th>vcid</th>\n",
       "      <th>cdate</th>\n",
       "      <th>unit_name</th>\n",
       "      <th>unit_state</th>\n",
       "    </tr>\n",
       "  </thead>\n",
       "  <tbody>\n",
       "    <tr>\n",
       "      <th>0</th>\n",
       "      <td>compute</td>\n",
       "      <td>45</td>\n",
       "      <td>handson104B</td>\n",
       "      <td>RUNNING</td>\n",
       "      <td>05266d6f...</td>\n",
       "      <td>2019/03/20 09:51:30 UTC</td>\n",
       "      <td>nfsServer</td>\n",
       "      <td>RUNNING</td>\n",
       "    </tr>\n",
       "  </tbody>\n",
       "</table>\n",
       "</div>"
      ],
      "text/plain": [
       "    vctype  vcno       vcname vc_state         vcid                    cdate  \\\n",
       "0  compute    45  handson104B  RUNNING  05266d6f...  2019/03/20 09:51:30 UTC   \n",
       "\n",
       "   unit_name unit_state  \n",
       "0  nfsServer    RUNNING  "
      ]
     },
     "metadata": {},
     "output_type": "display_data"
    },
    {
     "data": {
      "text/html": [
       "<style  type=\"text/css\" >\n",
       "    #T_0762eb4c_4af6_11e9_b773_0242ac110002row0_col3 {\n",
       "            background-color:  #dfd;\n",
       "        }    #T_0762eb4c_4af6_11e9_b773_0242ac110002row0_col6 {\n",
       "            background-color:  #dfd;\n",
       "        }</style>  \n",
       "<table id=\"T_0762eb4c_4af6_11e9_b773_0242ac110002\" > \n",
       "<thead>    <tr> \n",
       "        <th class=\"blank level0\" ></th> \n",
       "        <th class=\"col_heading level0 col0\" >vcno</th> \n",
       "        <th class=\"col_heading level0 col1\" >vcname</th> \n",
       "        <th class=\"col_heading level0 col2\" >unit_name</th> \n",
       "        <th class=\"col_heading level0 col3\" >unit_state</th> \n",
       "        <th class=\"col_heading level0 col4\" >node_no</th> \n",
       "        <th class=\"col_heading level0 col5\" >node_id</th> \n",
       "        <th class=\"col_heading level0 col6\" >node_state</th> \n",
       "        <th class=\"col_heading level0 col7\" >cloud_instance_address</th> \n",
       "        <th class=\"col_heading level0 col8\" >cloud_instance_id</th> \n",
       "        <th class=\"col_heading level0 col9\" >cloud_instance_name</th> \n",
       "        <th class=\"col_heading level0 col10\" >volumes</th> \n",
       "    </tr></thead> \n",
       "<tbody>    <tr> \n",
       "        <th id=\"T_0762eb4c_4af6_11e9_b773_0242ac110002level0_row0\" class=\"row_heading level0 row0\" >0</th> \n",
       "        <td id=\"T_0762eb4c_4af6_11e9_b773_0242ac110002row0_col0\" class=\"data row0 col0\" >45</td> \n",
       "        <td id=\"T_0762eb4c_4af6_11e9_b773_0242ac110002row0_col1\" class=\"data row0 col1\" >handson104B</td> \n",
       "        <td id=\"T_0762eb4c_4af6_11e9_b773_0242ac110002row0_col2\" class=\"data row0 col2\" >nfsServer</td> \n",
       "        <td id=\"T_0762eb4c_4af6_11e9_b773_0242ac110002row0_col3\" class=\"data row0 col3\" >RUNNING</td> \n",
       "        <td id=\"T_0762eb4c_4af6_11e9_b773_0242ac110002row0_col4\" class=\"data row0 col4\" >1</td> \n",
       "        <td id=\"T_0762eb4c_4af6_11e9_b773_0242ac110002row0_col5\" class=\"data row0 col5\" >e6f69437...</td> \n",
       "        <td id=\"T_0762eb4c_4af6_11e9_b773_0242ac110002row0_col6\" class=\"data row0 col6\" >RUNNING</td> \n",
       "        <td id=\"T_0762eb4c_4af6_11e9_b773_0242ac110002row0_col7\" class=\"data row0 col7\" >172.30.2.10</td> \n",
       "        <td id=\"T_0762eb4c_4af6_11e9_b773_0242ac110002row0_col8\" class=\"data row0 col8\" >i-046380c1e5910a81b</td> \n",
       "        <td id=\"T_0762eb4c_4af6_11e9_b773_0242ac110002row0_col9\" class=\"data row0 col9\" >VCP-e84fbb63-05266d6f</td> \n",
       "        <td id=\"T_0762eb4c_4af6_11e9_b773_0242ac110002row0_col10\" class=\"data row0 col10\" >exists</td> \n",
       "    </tr></tbody> \n",
       "</table> "
      ],
      "text/plain": [
       "<pandas.io.formats.style.Styler at 0x7f06be9444a8>"
      ]
     },
     "metadata": {},
     "output_type": "display_data"
    }
   ],
   "source": [
    "# Unitの一覧を DataFrame で表示する\n",
    "display(unit_group2.df_units())\n",
    "\n",
    "# Nodeの一覧を DataFrame で表示する\n",
    "display(unit_group2.df_nodes())"
   ]
  },
  {
   "cell_type": "markdown",
   "metadata": {
    "hidden": true,
    "lc_cell_meme": {
     "current": "9fdf50a2-4ad5-11e9-9859-0242ac110002",
     "next": "9fdf50e8-4ad5-11e9-9859-0242ac110002",
     "previous": "9fdf505c-4ad5-11e9-9859-0242ac110002"
    }
   },
   "source": [
    "VCノードのホストキーを ~/.ssh/known_hosts に登録します。"
   ]
  },
  {
   "cell_type": "code",
   "execution_count": 91,
   "metadata": {
    "deletable": false,
    "editable": false,
    "hidden": true,
    "lc_cell_meme": {
     "current": "9fdf50e8-4ad5-11e9-9859-0242ac110002",
     "next": "9fdf512e-4ad5-11e9-9859-0242ac110002",
     "previous": "9fdf50a2-4ad5-11e9-9859-0242ac110002"
    },
    "run_through_control": {
     "frozen": true
    }
   },
   "outputs": [
    {
     "name": "stdout",
     "output_type": "stream",
     "text": [
      "# Host 172.30.2.10 found: line 25 type RSA\n",
      "# Host 172.30.2.10 found: line 26 type ECDSA\n",
      "# Host 172.30.2.10 found: line 27 type ED25519\n",
      "/home/bit_kun/.ssh/known_hosts updated.\n",
      "Original contents retained as /home/bit_kun/.ssh/known_hosts.old\n",
      "# 172.30.2.10 SSH-2.0-OpenSSH_7.4\n",
      "# 172.30.2.10 SSH-2.0-OpenSSH_7.4\n",
      "# 172.30.2.10 SSH-2.0-OpenSSH_7.4\n"
     ]
    }
   ],
   "source": [
    "from time import sleep\n",
    "for address in unit_server.find_ip_addresses():\n",
    "    out = !ssh-keyscan {address} 2> /dev/null | wc -l\n",
    "    while int(out[0]) == 0:\n",
    "        sleep(1)\n",
    "        out = !ssh-keyscan {address} 2> /dev/null | wc -l\n",
    "    # ~/.ssh/known_hosts から古いホストキーを削除する\n",
    "    !ssh-keygen -R {address}\n",
    "    # ホストキーの登録\n",
    "    !ssh-keyscan {address} >> ~/.ssh/known_hosts    "
   ]
  },
  {
   "cell_type": "markdown",
   "metadata": {
    "lc_cell_meme": {
     "current": "9fdf512e-4ad5-11e9-9859-0242ac110002",
     "next": "9fdf5174-4ad5-11e9-9859-0242ac110002",
     "previous": "9fdf50e8-4ad5-11e9-9859-0242ac110002"
    }
   },
   "source": [
    "## VCディスクの内容を確認する"
   ]
  },
  {
   "cell_type": "markdown",
   "metadata": {
    "lc_cell_meme": {
     "current": "9fdf5174-4ad5-11e9-9859-0242ac110002",
     "next": "9fdf51ba-4ad5-11e9-9859-0242ac110002",
     "previous": "9fdf512e-4ad5-11e9-9859-0242ac110002"
    }
   },
   "source": [
    "先程NFSクライアントで作成したファイルにアクセスできるか確認してみます。"
   ]
  },
  {
   "cell_type": "code",
   "execution_count": 92,
   "metadata": {
    "deletable": false,
    "editable": false,
    "lc_cell_meme": {
     "current": "9fdf51ba-4ad5-11e9-9859-0242ac110002",
     "next": "9fdf5200-4ad5-11e9-9859-0242ac110002",
     "previous": "9fdf5174-4ad5-11e9-9859-0242ac110002"
    },
    "run_through_control": {
     "frozen": true
    }
   },
   "outputs": [
    {
     "name": "stdout",
     "output_type": "stream",
     "text": [
      "\u001b[0;32m172.30.2.10 | SUCCESS | rc=0 >>\u001b[0m\r\n",
      "\u001b[0;32mtotal 8\u001b[0m\r\n",
      "\u001b[0;32mdrwxrwxrwt    2 root     root            18 Mar 20 09:50 .\u001b[0m\r\n",
      "\u001b[0;32mdrwxr-xr-x   69 root     root          4096 Mar 20 09:53 ..\u001b[0m\r\n",
      "\u001b[0;32m-rw-r--r--    1 1000     1000           682 Mar 20 09:50 text\u001b[0m\r\n",
      "\u001b[0;32m\u001b[0m\r\n"
     ]
    }
   ],
   "source": [
    "!ansible {unit_server.name} -a 'ls -la /data'"
   ]
  },
  {
   "cell_type": "code",
   "execution_count": 93,
   "metadata": {
    "deletable": false,
    "editable": false,
    "lc_cell_meme": {
     "current": "9fdf5200-4ad5-11e9-9859-0242ac110002",
     "next": "9fdf5250-4ad5-11e9-9859-0242ac110002",
     "previous": "9fdf51ba-4ad5-11e9-9859-0242ac110002"
    },
    "run_through_control": {
     "frozen": true
    }
   },
   "outputs": [
    {
     "name": "stdout",
     "output_type": "stream",
     "text": [
      "\u001b[0;32m172.30.2.10 | SUCCESS | rc=0 >>\u001b[0m\r\n",
      "\u001b[0;32m# BEGIN ANSIBLE MANAGED BLOCK\u001b[0m\r\n",
      "\u001b[0;32m\u001b[0m\r\n",
      "\u001b[0;32mこの Notebook では以下の操作を行います。\u001b[0m\r\n",
      "\u001b[0;32m\u001b[0m\r\n",
      "\u001b[0;32m1. VCP SDKを用いてVCディスク(Amazon EBS)を作成する\u001b[0m\r\n",
      "\u001b[0;32m2. 作成したVCディスクをアタッチしたVCノード(Amazon EC2)を起動する\u001b[0m\r\n",
      "\u001b[0;32m3. VCディスクにファイルシステムを作成しNFSサーバで公開する\u001b[0m\r\n",
      "\u001b[0;32m4. NFSで公開されているディレクトリを他のVCノードからNFSマウントして、ファイルの読み書きを行う\u001b[0m\r\n",
      "\u001b[0;32m5. VCノードを全て削除する\u001b[0m\r\n",
      "\u001b[0;32m6. VCディスクをアタッチしたVCノードを新たに起動して、先ほど書き込んだファイルにアクセスできることを確認する\u001b[0m\r\n",
      "\u001b[0;32m# END ANSIBLE MANAGED BLOCK\u001b[0m\r\n",
      "\u001b[0;32m\u001b[0m\r\n"
     ]
    }
   ],
   "source": [
    "!ansible {unit_server.name} -a 'cat /data/text'"
   ]
  },
  {
   "cell_type": "markdown",
   "metadata": {
    "lc_cell_meme": {
     "current": "9fdf5250-4ad5-11e9-9859-0242ac110002",
     "next": "9fdf5296-4ad5-11e9-9859-0242ac110002",
     "previous": "9fdf5200-4ad5-11e9-9859-0242ac110002"
    }
   },
   "source": [
    "> ユーザ`vcp`に関する情報が削除されているので、所有者に関する情報がユーザ名ではなく UID:GID になっています。ユーザ情報などは外部の（あるいは別UnitGroupに構築した）LDAPサーバなどに格納することが望ましいです。"
   ]
  },
  {
   "cell_type": "markdown",
   "metadata": {
    "lc_cell_meme": {
     "current": "9fdf5296-4ad5-11e9-9859-0242ac110002",
     "next": "9fdf52dc-4ad5-11e9-9859-0242ac110002",
     "previous": "9fdf5250-4ad5-11e9-9859-0242ac110002"
    }
   },
   "source": [
    "# 後始末"
   ]
  },
  {
   "cell_type": "markdown",
   "metadata": {
    "lc_cell_meme": {
     "current": "9fdf52dc-4ad5-11e9-9859-0242ac110002",
     "next": "9fdf5322-4ad5-11e9-9859-0242ac110002",
     "previous": "9fdf5296-4ad5-11e9-9859-0242ac110002"
    }
   },
   "source": [
    "これまでに作成した全てのリソースを削除します。\n",
    "\n",
    "> 処理が完了するまで1分～2分程度かかります。"
   ]
  },
  {
   "cell_type": "code",
   "execution_count": 94,
   "metadata": {
    "deletable": false,
    "editable": false,
    "lc_cell_meme": {
     "current": "9fdf5322-4ad5-11e9-9859-0242ac110002",
     "next": "9fdf5368-4ad5-11e9-9859-0242ac110002",
     "previous": "9fdf52dc-4ad5-11e9-9859-0242ac110002"
    },
    "run_through_control": {
     "frozen": true
    }
   },
   "outputs": [
    {
     "name": "stdout",
     "output_type": "stream",
     "text": [
      "2019-03-20 18:53:47,781 - INFO - nfsServer is DELETING ... 0 sec\n",
      "2019-03-20 18:53:52,988 - INFO - nfsServer is DELETING ... 5 sec\n",
      "2019-03-20 18:53:58,194 - INFO - nfsServer is DELETING ... 10 sec\n",
      "2019-03-20 18:54:03,397 - INFO - nfsServer is DELETING ... 15 sec\n",
      "2019-03-20 18:54:08,612 - INFO - nfsServer is DELETING ... 20 sec\n",
      "2019-03-20 18:54:13,817 - INFO - nfsServer is DELETING ... 25 sec\n",
      "2019-03-20 18:54:19,022 - INFO - nfsServer is DELETING ... 30 sec\n",
      "2019-03-20 18:54:24,229 - INFO - nfsServer is DELETING ... 35 sec\n",
      "2019-03-20 18:54:29,436 - INFO - nfsServer is DELETING ... 40 sec\n",
      "2019-03-20 18:54:34,468 - INFO - cleanup completed. vc  is cleanup(no unit)\n",
      "2019-03-20 18:54:34,797 - INFO - data is DELETING ... 0 sec\n",
      "2019-03-20 18:54:39,961 - INFO - data is DELETING ... 5 sec\n",
      "2019-03-20 18:54:45,119 - INFO - data is DELETING ... 10 sec\n",
      "2019-03-20 18:54:50,149 - INFO - cleanup completed. vc  is cleanup(no unit)\n"
     ]
    }
   ],
   "source": [
    "# VCノードの削除\n",
    "unit_group2.cleanup()\n",
    "\n",
    "# VCディスクの削除\n",
    "ugroup_disk.cleanup()"
   ]
  },
  {
   "cell_type": "markdown",
   "metadata": {
    "lc_cell_meme": {
     "current": "9fdf5368-4ad5-11e9-9859-0242ac110002",
     "next": "9fdf53ae-4ad5-11e9-9859-0242ac110002",
     "previous": "9fdf5322-4ad5-11e9-9859-0242ac110002"
    }
   },
   "source": [
    "削除後の状態を確認します。"
   ]
  },
  {
   "cell_type": "code",
   "execution_count": 95,
   "metadata": {
    "deletable": false,
    "editable": false,
    "lc_cell_meme": {
     "current": "9fdf53ae-4ad5-11e9-9859-0242ac110002",
     "next": "9fdf53f4-4ad5-11e9-9859-0242ac110002",
     "previous": "9fdf5368-4ad5-11e9-9859-0242ac110002"
    },
    "run_through_control": {
     "frozen": true
    }
   },
   "outputs": [
    {
     "data": {
      "text/html": [
       "<style  type=\"text/css\" >\n",
       "</style>  \n",
       "<table id=\"T_33d590b2_4af6_11e9_b773_0242ac110002\" > \n",
       "<thead>    <tr> \n",
       "        <th class=\"blank level0\" ></th> \n",
       "        <th class=\"col_heading level0 col0\" >vcno</th> \n",
       "        <th class=\"col_heading level0 col1\" >vctype</th> \n",
       "        <th class=\"col_heading level0 col2\" >vcname</th> \n",
       "        <th class=\"col_heading level0 col3\" >state</th> \n",
       "        <th class=\"col_heading level0 col4\" >vcid</th> \n",
       "        <th class=\"col_heading level0 col5\" >cdate</th> \n",
       "    </tr></thead> \n",
       "<tbody></tbody> \n",
       "</table> "
      ],
      "text/plain": [
       "<pandas.io.formats.style.Styler at 0x7f06be989080>"
      ]
     },
     "execution_count": 95,
     "metadata": {},
     "output_type": "execute_result"
    }
   ],
   "source": [
    "# UnitGroupの一覧を DataFrame で表示する\n",
    "vcp.df_ugroups()"
   ]
  },
  {
   "cell_type": "markdown",
   "metadata": {
    "lc_cell_meme": {
     "current": "9fdf53f4-4ad5-11e9-9859-0242ac110002",
     "next": "9fdf543a-4ad5-11e9-9859-0242ac110002",
     "previous": "9fdf53ae-4ad5-11e9-9859-0242ac110002"
    }
   },
   "source": [
    "不要になったインベントリファイルを削除します。"
   ]
  },
  {
   "cell_type": "code",
   "execution_count": 96,
   "metadata": {
    "deletable": false,
    "editable": false,
    "lc_cell_meme": {
     "current": "9fdf543a-4ad5-11e9-9859-0242ac110002",
     "next": null,
     "previous": "9fdf53f4-4ad5-11e9-9859-0242ac110002"
    },
    "run_through_control": {
     "frozen": true
    }
   },
   "outputs": [],
   "source": [
    "!rm hosts"
   ]
  }
 ],
 "metadata": {
  "kernelspec": {
   "display_name": "Python 3",
   "language": "python",
   "name": "python3"
  },
  "language_info": {
   "codemirror_mode": {
    "name": "ipython",
    "version": 3
   },
   "file_extension": ".py",
   "mimetype": "text/x-python",
   "name": "python",
   "nbconvert_exporter": "python",
   "pygments_lexer": "ipython3",
   "version": "3.6.6"
  },
  "lc_notebook_meme": {
   "current": "9fdf0bce-4ad5-11e9-9859-0242ac110002",
   "lc_server_signature": {
    "current": {
     "notebook_dir": "/notebooks/notebook",
     "notebook_path": "/handson/vcp-tutorial",
     "server_url": "https://ocs1046.vcp-handson.org:8443/handson/",
     "signature_id": "d0c53b60-f9f3-11e8-ad2a-0242ac110002"
    },
    "history": []
   }
  },
  "toc": {
   "base_numbering": 1,
   "nav_menu": {},
   "number_sections": true,
   "sideBar": true,
   "skip_h1_title": false,
   "title_cell": "Table of Contents",
   "title_sidebar": "Contents",
   "toc_cell": false,
   "toc_position": {
    "height": "826px",
    "left": "0px",
    "right": "1239px",
    "top": "111px",
    "width": "212px"
   },
   "toc_section_display": "block",
   "toc_window_display": true
  }
 },
 "nbformat": 4,
 "nbformat_minor": 2
}
