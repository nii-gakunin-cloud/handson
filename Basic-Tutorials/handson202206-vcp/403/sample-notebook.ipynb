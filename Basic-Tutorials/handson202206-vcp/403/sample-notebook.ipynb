{
 "cells": [
  {
   "cell_type": "markdown",
   "metadata": {
    "lc_cell_meme": {
     "current": "04a8b534-e649-11ec-a879-02420a010016",
     "next": "04a8b624-e649-11ec-a879-02420a010016",
     "previous": null
    }
   },
   "source": [
    "**★（注意）共有フォルダにあるNotebookは読み込み専用です★**\n",
    "\n",
    "このNotebookをホームディレクトリにコピーして利用するには、以下のセルを実行してください。"
   ]
  },
  {
   "cell_type": "code",
   "execution_count": null,
   "metadata": {
    "lc_cell_meme": {
     "current": "04a8b624-e649-11ec-a879-02420a010016",
     "next": "04a8b6d8-e649-11ec-a879-02420a010016",
     "previous": "04a8b534-e649-11ec-a879-02420a010016"
    }
   },
   "outputs": [],
   "source": [
    "!cp ~/shared/sample-notebook.ipynb ~/sample-notebook-Copy1.ipynb"
   ]
  },
  {
   "cell_type": "markdown",
   "metadata": {
    "lc_cell_meme": {
     "current": "04a8b6d8-e649-11ec-a879-02420a010016",
     "next": "04a8b778-e649-11ec-a879-02420a010016",
     "previous": "04a8b624-e649-11ec-a879-02420a010016"
    }
   },
   "source": [
    "ホームディレクトリにコピーしたNotebookを開く ⇒ [sample-notebook-Copy1](../sample-notebook-Copy1.ipynb)"
   ]
  },
  {
   "cell_type": "markdown",
   "metadata": {
    "lc_cell_meme": {
     "current": "04a8b778-e649-11ec-a879-02420a010016",
     "next": "e504a846-e6d9-11ec-b487-02420a01007e",
     "previous": "04a8b6d8-e649-11ec-a879-02420a010016"
    }
   },
   "source": [
    "----\n",
    "\n",
    "*このNotebookは、[Google Colaboratory](https://colab.research.google.com/) の紹介ページにあるサンプルコードのコピーです。*\n",
    "\n",
    "----"
   ]
  },
  {
   "cell_type": "markdown",
   "metadata": {
    "lc_cell_meme": {
     "current": "e504a846-e6d9-11ec-b487-02420a01007e",
     "next": "04a8b822-e649-11ec-a879-02420a010016",
     "previous": "04a8b778-e649-11ec-a879-02420a010016"
    }
   },
   "source": [
    "# サンプルコード (1)\n",
    "\n",
    "値を計算して変数に保存し、結果を出力する短いPythonスクリプトの例です。"
   ]
  },
  {
   "cell_type": "code",
   "execution_count": null,
   "metadata": {
    "lc_cell_meme": {
     "current": "04a8b822-e649-11ec-a879-02420a010016",
     "next": "04a8b8ae-e649-11ec-a879-02420a010016",
     "previous": "e504a846-e6d9-11ec-b487-02420a01007e"
    },
    "lc_wrapper": {}
   },
   "outputs": [],
   "source": [
    "seconds_in_a_day = 24 * 60 * 60\n",
    "seconds_in_a_day"
   ]
  },
  {
   "cell_type": "code",
   "execution_count": null,
   "metadata": {
    "lc_cell_meme": {
     "current": "04a8b8ae-e649-11ec-a879-02420a010016",
     "next": "04a8b93a-e649-11ec-a879-02420a010016",
     "previous": "04a8b822-e649-11ec-a879-02420a010016"
    },
    "lc_wrapper": {}
   },
   "outputs": [],
   "source": [
    "seconds_in_a_week = 7 * seconds_in_a_day\n",
    "seconds_in_a_week"
   ]
  },
  {
   "cell_type": "markdown",
   "metadata": {
    "lc_cell_meme": {
     "current": "04a8b93a-e649-11ec-a879-02420a010016",
     "next": "04a8b9d0-e649-11ec-a879-02420a010016",
     "previous": "04a8b8ae-e649-11ec-a879-02420a010016"
    }
   },
   "source": [
    "# サンプルコード (2)\n",
    "\n",
    "numpy を使用してランダムデータを生成し、matplotlib を使用して可視化するPythonスクリプトの例です。"
   ]
  },
  {
   "cell_type": "code",
   "execution_count": null,
   "metadata": {
    "lc_cell_meme": {
     "current": "04a8b9d0-e649-11ec-a879-02420a010016",
     "next": null,
     "previous": "04a8b93a-e649-11ec-a879-02420a010016"
    }
   },
   "outputs": [],
   "source": [
    "import numpy as np\n",
    "from matplotlib import pyplot as plt\n",
    "\n",
    "ys = 200 + np.random.randn(100)\n",
    "x = [x for x in range(len(ys))]\n",
    "\n",
    "plt.plot(x, ys, '-')\n",
    "plt.fill_between(x, ys, 195, where=(ys > 195), facecolor='g', alpha=0.6)\n",
    "\n",
    "plt.title(\"Sample Visualization\")\n",
    "plt.show()"
   ]
  }
 ],
 "metadata": {
  "kernelspec": {
   "display_name": "Python 3",
   "language": "python",
   "name": "python3"
  },
  "language_info": {
   "file_extension": ".py",
   "mimetype": "text/x-python",
   "name": "python",
   "nbconvert_exporter": "python",
   "pygments_lexer": "ipython3",
   "version": "3.7.6"
  },
  "toc": {
   "base_numbering": 1,
   "nav_menu": {},
   "number_sections": true,
   "sideBar": true,
   "skip_h1_title": false,
   "title_cell": "Table of Contents",
   "title_sidebar": "Contents",
   "toc_cell": false,
   "toc_position": {},
   "toc_section_display": true,
   "toc_window_display": false
  }
 },
 "nbformat": 4,
 "nbformat_minor": 4
}
