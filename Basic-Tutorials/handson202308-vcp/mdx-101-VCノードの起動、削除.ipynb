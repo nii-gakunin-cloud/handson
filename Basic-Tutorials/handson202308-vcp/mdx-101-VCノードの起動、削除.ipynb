{
 "cells": [
  {
   "cell_type": "markdown",
   "metadata": {
    "heading_collapsed": true,
    "lc_cell_meme": {
     "current": "b13a609e-e54b-11ec-8d3a-02420a010016-2-4764-f3c9",
     "next": "b13a61a2-e54b-11ec-8d3a-02420a010016-2-8ca4-5d43",
     "previous": null
    }
   },
   "source": [
    "# はじめに\n",
    "\n",
    "このNotebookではVCP SDKを利用してVCノードを起動、削除する手順を記しています。"
   ]
  },
  {
   "cell_type": "markdown",
   "metadata": {
    "heading_collapsed": true,
    "hidden": true,
    "lc_cell_meme": {
     "current": "b13a61a2-e54b-11ec-8d3a-02420a010016-2-8ca4-5d43",
     "next": "b13a624c-e54b-11ec-8d3a-02420a010016-2-a181-48f4",
     "previous": "b13a609e-e54b-11ec-8d3a-02420a010016-2-4764-f3c9"
    }
   },
   "source": [
    "## 概要\n",
    "![構成](images/101-001_mdx.png)"
   ]
  },
  {
   "cell_type": "markdown",
   "metadata": {
    "hidden": true,
    "lc_cell_meme": {
     "current": "b13a624c-e54b-11ec-8d3a-02420a010016-2-a181-48f4",
     "next": "b13a62f6-e54b-11ec-8d3a-02420a010016-2-c409-69ea",
     "previous": "b13a61a2-e54b-11ec-8d3a-02420a010016-2-8ca4-5d43"
    }
   },
   "source": [
    "### 用語説明"
   ]
  },
  {
   "cell_type": "markdown",
   "metadata": {
    "hidden": true,
    "lc_cell_meme": {
     "current": "b13a62f6-e54b-11ec-8d3a-02420a010016-2-c409-69ea",
     "next": "b13a63a0-e54b-11ec-8d3a-02420a010016-2-ebcf-df65",
     "previous": "b13a624c-e54b-11ec-8d3a-02420a010016-2-a181-48f4"
    }
   },
   "source": [
    "上の図、またはこれ以降に示す図に記されている構成要素についての簡単な説明を以下に記します。\n",
    "\n",
    "* [VPC](https://aws.amazon.com/jp/vpc/)\n",
    "  - Amazon が提供している AWS 内の仮想プライベートネットワーク環境\n",
    "* [Amazon EC2](https://aws.amazon.com/jp/ec2/)\n",
    "  - Amazon が提供している仮想コンピューティング環境\n",
    "* [Azure Virtual Network](https://azure.microsoft.com/ja-jp/services/virtual-network/)\n",
    "  - Microsoft が提供しているクラウド内の仮想プライベートネットワーク環境\n",
    "* [Azure Virtual Machine](https://azure.microsoft.com/ja-jp/services/virtual-machines/)\n",
    "  - Microsoft が提供している仮想コンピューティング環境\n",
    "* VC Controller\n",
    "  - VCPがユーザに対して提供しているサービス群\n",
    "* VC Controller Core\n",
    "  - ユーザからのAPI呼び出しを受けとりUnitGroupの作成、削除などを行う\n",
    "* Grafana\n",
    "  - 可視化ツール、ダッシュボードツール\n",
    "  - VCP では VCノード のモニタリング状況を表示するのに利用している\n",
    "* VCP SDK\n",
    "  - VCPの機能を呼び出して VM/BM の作成、削除などを行うPython3のライブラリ\n",
    "* VCノード\n",
    "  - Amazon EC2, Azure Virtual Machine などの計算資源を抽象化したVCPのノード\n",
    "* Unit\n",
    "  - 同質（同じ計算資源(cpu, memory, ...)、同じクラウド、同じ用途、...）であるVCノードをまとめて扱うためのもの\n",
    "* UnitGroup\n",
    "  - 複数のUnitをまとめて扱うためのものです"
   ]
  },
  {
   "cell_type": "markdown",
   "metadata": {
    "hidden": true,
    "lc_cell_meme": {
     "current": "b13a63a0-e54b-11ec-8d3a-02420a010016-2-ebcf-df65",
     "next": "b13a6440-e54b-11ec-8d3a-02420a010016-2-c76d-931d",
     "previous": "b13a62f6-e54b-11ec-8d3a-02420a010016-2-c409-69ea"
    }
   },
   "source": [
    "## 手順"
   ]
  },
  {
   "cell_type": "markdown",
   "metadata": {
    "hidden": true,
    "lc_cell_meme": {
     "current": "b13a6440-e54b-11ec-8d3a-02420a010016-2-c76d-931d",
     "next": "b13a64e0-e54b-11ec-8d3a-02420a010016-2-ee7d-baba",
     "previous": "b13a63a0-e54b-11ec-8d3a-02420a010016-2-ebcf-df65"
    }
   },
   "source": [
    "大まかな手順は以下のようになります。\n",
    "\n",
    "1. VCノードの起動\n",
    "1. VCノードに ssh でログインして操作する\n",
    "1. GrafanaでVCノードの利用状況を確認する\n",
    "1. VCノードのスケールアウト、スケールイン\n",
    "1. 別のクラウドでVCノードを起動する\n",
    "1. 全てのVCノードを削除する"
   ]
  },
  {
   "cell_type": "markdown",
   "metadata": {
    "hidden": true,
    "lc_cell_meme": {
     "current": "b13a64e0-e54b-11ec-8d3a-02420a010016-2-ee7d-baba",
     "next": "b13a6580-e54b-11ec-8d3a-02420a010016-2-80f3-ebfe",
     "previous": "b13a6440-e54b-11ec-8d3a-02420a010016-2-c76d-931d"
    }
   },
   "source": [
    "## アクセストークンの入力"
   ]
  },
  {
   "cell_type": "markdown",
   "metadata": {
    "hidden": true,
    "lc_cell_meme": {
     "current": "b13a6580-e54b-11ec-8d3a-02420a010016-2-80f3-ebfe",
     "next": "b13a6616-e54b-11ec-8d3a-02420a010016-2-5966-33be",
     "previous": "b13a64e0-e54b-11ec-8d3a-02420a010016-2-ee7d-baba"
    }
   },
   "source": [
    "VCP SDKを利用するにはVC Controllerのアクセストークンが必要となります。次のセルを実行すると入力枠が表示されるのでアクセストークンの値を入力してください。\n",
    "\n",
    "> アクセストークン入力後に Enter キーを押すことで入力が完了します。\n",
    "\n",
    "OCSハンズオン用トークンはこちら→ [token.txt](/jupyter/files/token.txt)"
   ]
  },
  {
   "cell_type": "code",
   "execution_count": null,
   "metadata": {
    "hidden": true,
    "lc_cell_meme": {
     "current": "b13a6616-e54b-11ec-8d3a-02420a010016-2-5966-33be",
     "next": "b13a66c0-e54b-11ec-8d3a-02420a010016-2-4057-1c33",
     "previous": "b13a6580-e54b-11ec-8d3a-02420a010016-2-80f3-ebfe"
    },
    "lc_wrapper": {}
   },
   "outputs": [],
   "source": [
    "from getpass import getpass\n",
    "vcc_access_token = getpass()"
   ]
  },
  {
   "cell_type": "markdown",
   "metadata": {
    "heading_collapsed": true,
    "lc_cell_meme": {
     "current": "b13a66c0-e54b-11ec-8d3a-02420a010016-2-4057-1c33",
     "next": "b13a6760-e54b-11ec-8d3a-02420a010016-2-d2be-4ec6",
     "previous": "b13a6616-e54b-11ec-8d3a-02420a010016-2-5966-33be"
    }
   },
   "source": [
    "# VCノードの起動\n",
    "\n",
    "VCP SDKを用いてVCノード(Amazon EC2インスタンス)を起動します。また、起動したVCノードに対してsshでログインして操作を行います。\n",
    "![EC2の起動](images/101-003_mdx.png)"
   ]
  },
  {
   "cell_type": "markdown",
   "metadata": {
    "hidden": true,
    "lc_cell_meme": {
     "current": "b13a6760-e54b-11ec-8d3a-02420a010016-2-d2be-4ec6",
     "next": "b13a6800-e54b-11ec-8d3a-02420a010016-2-bfed-2c97",
     "previous": "b13a66c0-e54b-11ec-8d3a-02420a010016-2-4057-1c33"
    }
   },
   "source": [
    "## VCP SDKの初期化\n",
    "\n",
    "VCP SDKの初期化を行います。"
   ]
  },
  {
   "cell_type": "code",
   "execution_count": null,
   "metadata": {
    "hidden": true,
    "lc_cell_meme": {
     "current": "b13a6800-e54b-11ec-8d3a-02420a010016-2-bfed-2c97",
     "next": "b13a68a0-e54b-11ec-8d3a-02420a010016-2-5a5f-49d7",
     "previous": "b13a6760-e54b-11ec-8d3a-02420a010016-2-d2be-4ec6"
    },
    "lc_wrapper": {},
    "scrolled": true
   },
   "outputs": [],
   "source": [
    "from common import logsetting\n",
    "from vcpsdk.vcpsdk import VcpSDK\n",
    "\n",
    "# VCP SDKの初期化\n",
    "vcp = VcpSDK(\n",
    "    vcc_access_token,  # VCCのアクセストークン\n",
    ")"
   ]
  },
  {
   "cell_type": "markdown",
   "metadata": {
    "hidden": true,
    "lc_cell_meme": {
     "current": "b13a68a0-e54b-11ec-8d3a-02420a010016-2-5a5f-49d7",
     "next": "b13a6940-e54b-11ec-8d3a-02420a010016-2-9fb0-53a5",
     "previous": "b13a6800-e54b-11ec-8d3a-02420a010016-2-bfed-2c97"
    }
   },
   "source": [
    "上のセルの実行結果がエラーとなり以下のようなメッセージが表示されている場合は、入力されたアクセストークンに誤りがあります。\n",
    "\n",
    "```\n",
    "2019-XX-XX XX:XX:XX,XXX - ERROR - config vc failed: http_status(403)\n",
    "2019-XX-XX XX:XX:XX,XXX - ERROR - 2019/XX/XX XX:XX:XX UTC: VCPAuthException: xxxxxxx:token lookup is failed: permission denied\n",
    "```\n",
    "\n",
    "この場合はアクセストークンの入力からやり直してください。"
   ]
  },
  {
   "cell_type": "markdown",
   "metadata": {
    "hidden": true,
    "lc_cell_meme": {
     "current": "b13a6940-e54b-11ec-8d3a-02420a010016-2-9fb0-53a5",
     "next": "b13a69e0-e54b-11ec-8d3a-02420a010016-2-5994-1655",
     "previous": "b13a68a0-e54b-11ec-8d3a-02420a010016-2-5a5f-49d7"
    }
   },
   "source": [
    "`vcp`からは UnitGroup の管理（作成、情報取得）や VCP SDK自体に関する情報取得を行うことができます。例えば、次のセルを実行するとUnitGroupの一覧が表示されます。\n",
    "\n",
    "> まだUnitGroupを作成していないので、ヘッダー以外はなにも表示されないはずです。"
   ]
  },
  {
   "cell_type": "code",
   "execution_count": null,
   "metadata": {
    "hidden": true,
    "lc_cell_meme": {
     "current": "b13a69e0-e54b-11ec-8d3a-02420a010016-2-5994-1655",
     "next": "b13a6a76-e54b-11ec-8d3a-02420a010016-2-93f5-a017",
     "previous": "b13a6940-e54b-11ec-8d3a-02420a010016-2-9fb0-53a5"
    },
    "lc_wrapper": {},
    "scrolled": true
   },
   "outputs": [],
   "source": [
    "# UnitGroupの一覧を DataFrame で表示する\n",
    "vcp.df_ugroups()"
   ]
  },
  {
   "cell_type": "markdown",
   "metadata": {
    "hidden": true,
    "lc_cell_meme": {
     "current": "b13a6a76-e54b-11ec-8d3a-02420a010016-2-93f5-a017",
     "next": "b13a6b16-e54b-11ec-8d3a-02420a010016-2-ecaf-294b",
     "previous": "b13a69e0-e54b-11ec-8d3a-02420a010016-2-5994-1655"
    }
   },
   "source": [
    "次のセルを実行すると VCP SDK と VC Controller のバージョンが表示されます。"
   ]
  },
  {
   "cell_type": "code",
   "execution_count": null,
   "metadata": {
    "hidden": true,
    "lc_cell_meme": {
     "current": "b13a6b16-e54b-11ec-8d3a-02420a010016-2-ecaf-294b",
     "next": "b13a6bac-e54b-11ec-8d3a-02420a010016-2-0512-75be",
     "previous": "b13a6a76-e54b-11ec-8d3a-02420a010016-2-93f5-a017"
    },
    "lc_wrapper": {},
    "scrolled": true
   },
   "outputs": [],
   "source": [
    "vcp.version()"
   ]
  },
  {
   "cell_type": "markdown",
   "metadata": {
    "hidden": true,
    "lc_cell_meme": {
     "current": "b13a6bac-e54b-11ec-8d3a-02420a010016-2-0512-75be",
     "next": "b13a6c4c-e54b-11ec-8d3a-02420a010016-2-55f5-4aaa",
     "previous": "b13a6b16-e54b-11ec-8d3a-02420a010016-2-ecaf-294b"
    }
   },
   "source": [
    "## UnitGroupの作成"
   ]
  },
  {
   "cell_type": "markdown",
   "metadata": {
    "hidden": true,
    "lc_cell_meme": {
     "current": "b13a6c4c-e54b-11ec-8d3a-02420a010016-2-55f5-4aaa",
     "next": "b13a6ce2-e54b-11ec-8d3a-02420a010016-2-5cfa-91bb",
     "previous": "b13a6bac-e54b-11ec-8d3a-02420a010016-2-0512-75be"
    }
   },
   "source": [
    "`handson101`という名前の UnitGroup を作成します。"
   ]
  },
  {
   "cell_type": "code",
   "execution_count": null,
   "metadata": {
    "hidden": true,
    "lc_cell_meme": {
     "current": "b13a6ce2-e54b-11ec-8d3a-02420a010016-2-5cfa-91bb",
     "next": "b13a6d82-e54b-11ec-8d3a-02420a010016-2-3bb2-c7db",
     "previous": "b13a6c4c-e54b-11ec-8d3a-02420a010016-2-55f5-4aaa"
    },
    "lc_wrapper": {}
   },
   "outputs": [],
   "source": [
    "# UnitGroupの作成\n",
    "unit_group = vcp.create_ugroup(\n",
    "    'handson101'                   # UnitGroupの名前\n",
    ")"
   ]
  },
  {
   "cell_type": "markdown",
   "metadata": {
    "hidden": true,
    "lc_cell_meme": {
     "current": "b13a6d82-e54b-11ec-8d3a-02420a010016-2-3bb2-c7db",
     "next": "b13a6e22-e54b-11ec-8d3a-02420a010016-2-cac9-b387",
     "previous": "b13a6ce2-e54b-11ec-8d3a-02420a010016-2-5cfa-91bb"
    }
   },
   "source": [
    "作成したUnitGroupの状態を表示してみます。\n",
    "\n",
    "> UnitGroup の名前が `handson101` であることと、その状態が `RUNNING` であることなどが確認できるはずです。"
   ]
  },
  {
   "cell_type": "code",
   "execution_count": null,
   "metadata": {
    "hidden": true,
    "lc_cell_meme": {
     "current": "b13a6e22-e54b-11ec-8d3a-02420a010016-2-cac9-b387",
     "next": "b13a6eb8-e54b-11ec-8d3a-02420a010016-2-5e3f-a7b6",
     "previous": "b13a6d82-e54b-11ec-8d3a-02420a010016-2-3bb2-c7db"
    },
    "lc_wrapper": {},
    "scrolled": true
   },
   "outputs": [],
   "source": [
    "print(unit_group)"
   ]
  },
  {
   "cell_type": "markdown",
   "metadata": {
    "hidden": true,
    "lc_cell_meme": {
     "current": "b13a6eb8-e54b-11ec-8d3a-02420a010016-2-5e3f-a7b6",
     "next": "b13a6f44-e54b-11ec-8d3a-02420a010016-2-d6f3-51f3",
     "previous": "b13a6e22-e54b-11ec-8d3a-02420a010016-2-cac9-b387"
    }
   },
   "source": [
    "UnitGroupの一覧を表示してみます。"
   ]
  },
  {
   "cell_type": "code",
   "execution_count": null,
   "metadata": {
    "hidden": true,
    "lc_cell_meme": {
     "current": "b13a6f44-e54b-11ec-8d3a-02420a010016-2-d6f3-51f3",
     "next": "b13a6fee-e54b-11ec-8d3a-02420a010016-2-c529-1f69",
     "previous": "b13a6eb8-e54b-11ec-8d3a-02420a010016-2-5e3f-a7b6"
    },
    "lc_wrapper": {},
    "pinned_outputs": []
   },
   "outputs": [],
   "source": [
    "# UnitGroupの一覧を DataFrame で表示する\n",
    "vcp.df_ugroups()"
   ]
  },
  {
   "cell_type": "markdown",
   "metadata": {
    "hidden": true,
    "lc_cell_meme": {
     "current": "b13a6fee-e54b-11ec-8d3a-02420a010016-2-c529-1f69",
     "next": "b13a7084-e54b-11ec-8d3a-02420a010016-2-701a-1fcb",
     "previous": "b13a6f44-e54b-11ec-8d3a-02420a010016-2-d6f3-51f3"
    }
   },
   "source": [
    "## UnitGroupの状態を確認する"
   ]
  },
  {
   "cell_type": "markdown",
   "metadata": {
    "hidden": true,
    "lc_cell_meme": {
     "current": "b13a7084-e54b-11ec-8d3a-02420a010016-2-701a-1fcb",
     "next": "b13a711a-e54b-11ec-8d3a-02420a010016-2-71eb-c185",
     "previous": "b13a6fee-e54b-11ec-8d3a-02420a010016-2-c529-1f69"
    }
   },
   "source": [
    "UnitGroupに属している Unit の一覧を表示します。\n",
    "\n",
    "> まだ、このUnitGroupでは Unit を作成していないのでヘッダー以外は何も表示されません。"
   ]
  },
  {
   "cell_type": "code",
   "execution_count": null,
   "metadata": {
    "hidden": true,
    "lc_cell_meme": {
     "current": "b13a711a-e54b-11ec-8d3a-02420a010016-2-71eb-c185",
     "next": "b13a71ba-e54b-11ec-8d3a-02420a010016-2-9259-5f9f",
     "previous": "b13a7084-e54b-11ec-8d3a-02420a010016-2-701a-1fcb"
    },
    "lc_wrapper": {}
   },
   "outputs": [],
   "source": [
    "# Unitの一覧を DataFrame で表示する\n",
    "unit_group.df_units()"
   ]
  },
  {
   "cell_type": "markdown",
   "metadata": {
    "hidden": true,
    "lc_cell_meme": {
     "current": "b13a71ba-e54b-11ec-8d3a-02420a010016-2-9259-5f9f",
     "next": "b13a7250-e54b-11ec-8d3a-02420a010016-2-e72d-195f",
     "previous": "b13a711a-e54b-11ec-8d3a-02420a010016-2-71eb-c185"
    }
   },
   "source": [
    "UnitGroupに属しているVCノードの一覧を表示します。\n",
    "\n",
    "> まだVCノードが存在していないので何も表示されません。"
   ]
  },
  {
   "cell_type": "code",
   "execution_count": null,
   "metadata": {
    "hidden": true,
    "lc_cell_meme": {
     "current": "b13a7250-e54b-11ec-8d3a-02420a010016-2-e72d-195f",
     "next": "b13a72e6-e54b-11ec-8d3a-02420a010016-2-e2ee-8f9a",
     "previous": "b13a71ba-e54b-11ec-8d3a-02420a010016-2-9259-5f9f"
    },
    "lc_wrapper": {}
   },
   "outputs": [],
   "source": [
    "unit_group.df_nodes()"
   ]
  },
  {
   "cell_type": "markdown",
   "metadata": {
    "hidden": true,
    "lc_cell_meme": {
     "current": "b13a72e6-e54b-11ec-8d3a-02420a010016-2-e2ee-8f9a",
     "next": "b13a737c-e54b-11ec-8d3a-02420a010016-2-fbe0-bf36",
     "previous": "b13a7250-e54b-11ec-8d3a-02420a010016-2-e72d-195f"
    }
   },
   "source": [
    "## VCノードのspecを指定する"
   ]
  },
  {
   "cell_type": "markdown",
   "metadata": {
    "hidden": true,
    "lc_cell_meme": {
     "current": "b13a737c-e54b-11ec-8d3a-02420a010016-2-fbe0-bf36",
     "next": "b13a7426-e54b-11ec-8d3a-02420a010016-2-fb7f-e770",
     "previous": "b13a72e6-e54b-11ec-8d3a-02420a010016-2-e2ee-8f9a"
    }
   },
   "source": [
    "Unitを構成するVCノードがどのような設定であるかを指定するためのオブジェクトとしてVCP SDKでは`spec`オブジェクトを用意しています。VCP SDKの利用者は`spec`オブジェクトのプロパティを設定することで Unitに起動するVCノードの設定内容を定義することができます。\n",
    "\n",
    "`spec`オブジェクトの設定項目の例を以下に示します。\n",
    "\n",
    "* 仮想マシンのインスタンスタイプ\n",
    "  - m5.large, c5.large, ...\n",
    "* 仮想マシンのルートボリュームサイズ(GiB)\n",
    "* 仮想マシンに割り当てるプライベートIPアドレス\n",
    "* Unit内に作成するVCノードの数\n",
    "\n",
    "設定できる項目はクラウドプロバイダ(aws, azure, ...)毎に異なります。\n",
    "\n",
    "<br/>\n",
    "\n",
    "**★ mdx 利用時は、事前にVCP既存サーバ (SSH) モードのセットアップ済みVMのハードウェア仕様となります。★**"
   ]
  },
  {
   "cell_type": "markdown",
   "metadata": {
    "heading_collapsed": true,
    "hidden": true,
    "lc_cell_meme": {
     "current": "b13a7426-e54b-11ec-8d3a-02420a010016-2-fb7f-e770",
     "next": "b13a74bc-e54b-11ec-8d3a-02420a010016-2-d001-f941",
     "previous": "b13a737c-e54b-11ec-8d3a-02420a010016-2-fbe0-bf36"
    }
   },
   "source": [
    "### flavor の内容を確認する"
   ]
  },
  {
   "cell_type": "markdown",
   "metadata": {
    "hidden": true,
    "lc_cell_meme": {
     "current": "b13a74bc-e54b-11ec-8d3a-02420a010016-2-d001-f941",
     "next": "b13a755c-e54b-11ec-8d3a-02420a010016-2-ee6f-804e",
     "previous": "b13a7426-e54b-11ec-8d3a-02420a010016-2-fb7f-e770"
    }
   },
   "source": [
    "`spec`オブジェクトの全てのパラメータを毎回設定するのは煩雑になるので典型的な構成のパラメータセットを事前に定義しています。事前に定義した`spec`パラメータセットのことを VCP SDKでは `flavor`と呼んでいます。`spec`に設定できるパラメータはクラウドプロバイダ毎に異なるので `flavor`の定義もクラウドプロバイダ毎に行っています。\n",
    "\n",
    "次のセルを実行すると aws用に定義している `flavor` の一覧が表示されます。"
   ]
  },
  {
   "cell_type": "code",
   "execution_count": null,
   "metadata": {
    "hidden": true,
    "lc_cell_meme": {
     "current": "b13a755c-e54b-11ec-8d3a-02420a010016-2-ee6f-804e",
     "next": "b13a75f2-e54b-11ec-8d3a-02420a010016-2-7b2f-845c",
     "previous": "b13a74bc-e54b-11ec-8d3a-02420a010016-2-d001-f941"
    },
    "lc_wrapper": {}
   },
   "outputs": [],
   "source": [
    "# vcp.df_flavors('aws')"
   ]
  },
  {
   "cell_type": "markdown",
   "metadata": {
    "heading_collapsed": true,
    "hidden": true,
    "lc_cell_meme": {
     "current": "b13a75f2-e54b-11ec-8d3a-02420a010016-2-7b2f-845c",
     "next": "b13a7688-e54b-11ec-8d3a-02420a010016-2-dc76-2771",
     "previous": "b13a755c-e54b-11ec-8d3a-02420a010016-2-ee6f-804e"
    }
   },
   "source": [
    "### spec オブジェクトを作成する"
   ]
  },
  {
   "cell_type": "markdown",
   "metadata": {
    "hidden": true,
    "lc_cell_meme": {
     "current": "b13a7688-e54b-11ec-8d3a-02420a010016-2-dc76-2771",
     "next": "b13a7728-e54b-11ec-8d3a-02420a010016-2-64e9-7994",
     "previous": "b13a75f2-e54b-11ec-8d3a-02420a010016-2-7b2f-845c"
    }
   },
   "source": [
    "specオブジェクトを作成します。specオブジェクトを作成するにはプロバイダと`flavor`を指定します。ここでは以下の値を指定します。\n",
    "\n",
    "* プロバイダ: `aws`\n",
    "* flavor: `small`"
   ]
  },
  {
   "cell_type": "code",
   "execution_count": null,
   "metadata": {
    "hidden": true,
    "lc_cell_meme": {
     "current": "b13a7728-e54b-11ec-8d3a-02420a010016-2-64e9-7994",
     "next": "b13a77d2-e54b-11ec-8d3a-02420a010016-2-b2af-42f7",
     "previous": "b13a7688-e54b-11ec-8d3a-02420a010016-2-dc76-2771"
    },
    "lc_wrapper": {}
   },
   "outputs": [],
   "source": [
    "# spec = vcp.get_spec('aws', 'small')"
   ]
  },
  {
   "cell_type": "markdown",
   "metadata": {
    "hidden": true,
    "lc_cell_meme": {
     "current": "b13a77d2-e54b-11ec-8d3a-02420a010016-2-b2af-42f7",
     "next": "b13a7868-e54b-11ec-8d3a-02420a010016-2-fcde-e08d",
     "previous": "b13a7728-e54b-11ec-8d3a-02420a010016-2-64e9-7994"
    }
   },
   "source": [
    "作成した`spec`の設定内容を確認してみます。\n",
    "\n",
    "> `instance_type`パラメータに `flavor` の指定と対応するEC2インスタンスタイプ`m4.large`が設定されていることが確認できるはずです。\n",
    "> `volume_size`, `volume_type`についてもそれぞれ`flavor`と対応する値が設定されます。"
   ]
  },
  {
   "cell_type": "code",
   "execution_count": null,
   "metadata": {
    "hidden": true,
    "lc_cell_meme": {
     "current": "b13a7868-e54b-11ec-8d3a-02420a010016-2-fcde-e08d",
     "next": "b13a7926-e54b-11ec-8d3a-02420a010016-2-5716-8f8b",
     "previous": "b13a77d2-e54b-11ec-8d3a-02420a010016-2-b2af-42f7"
    },
    "lc_wrapper": {}
   },
   "outputs": [],
   "source": [
    "# print(spec)"
   ]
  },
  {
   "cell_type": "markdown",
   "metadata": {
    "hidden": true,
    "lc_cell_meme": {
     "current": "b13a7926-e54b-11ec-8d3a-02420a010016-2-5716-8f8b",
     "next": "b13a79c6-e54b-11ec-8d3a-02420a010016-2-35c3-7e8e",
     "previous": "b13a7868-e54b-11ec-8d3a-02420a010016-2-fcde-e08d"
    }
   },
   "source": [
    "`spec`に対しては `flavor`で指定するだけではなく個々のパラメータを直接指定することもできます。例えば、以下のようなものが指定できます。\n",
    "\n",
    "* num_nodes\n",
    "  - Unit内に作成するVCノードの数: デフォルト=1\n",
    "* ip_addresses\n",
    "  - VCノードに割り当てるプライベートIPアドレスのリスト\n",
    "  - このパラメータを指定しない場合は利用可能なアドレスが自動的に割り当てられる\n",
    "* instance_type\n",
    "  - Amazon EC2のインスタンスタイプ\n",
    "  - flavorで設定されているもの以外を利用したい場合に指定する\n",
    "* volume_size\n",
    "  - Amazon EC2インスタンスのルートボリュームに割り当てるサイズ(GiB)\n",
    "  - flavorで設定されているもの以外を利用したい場合に指定する\n",
    "* volume_type\n",
    "  - Amazon EC2インスタンスのルートボリュームのEBSタイプ\n",
    "  - flavorで設定されているもの以外を利用したい場合に指定する"
   ]
  },
  {
   "cell_type": "markdown",
   "metadata": {
    "hidden": true,
    "lc_cell_meme": {
     "current": "b13a79c6-e54b-11ec-8d3a-02420a010016-2-35c3-7e8e",
     "next": "b13a7a66-e54b-11ec-8d3a-02420a010016-2-8f88-1888",
     "previous": "b13a7926-e54b-11ec-8d3a-02420a010016-2-5716-8f8b"
    }
   },
   "source": [
    "試しに `volume_size`を指定してみます。"
   ]
  },
  {
   "cell_type": "code",
   "execution_count": null,
   "metadata": {
    "hidden": true,
    "lc_cell_meme": {
     "current": "b13a7a66-e54b-11ec-8d3a-02420a010016-2-8f88-1888",
     "next": "b13a7afc-e54b-11ec-8d3a-02420a010016-2-9b89-0b79",
     "previous": "b13a79c6-e54b-11ec-8d3a-02420a010016-2-35c3-7e8e"
    },
    "lc_wrapper": {}
   },
   "outputs": [],
   "source": [
    "# spec.volume_size = 15"
   ]
  },
  {
   "cell_type": "markdown",
   "metadata": {
    "hidden": true,
    "lc_cell_meme": {
     "current": "b13a7afc-e54b-11ec-8d3a-02420a010016-2-9b89-0b79",
     "next": "b13a7ba6-e54b-11ec-8d3a-02420a010016-2-6135-546b",
     "previous": "b13a7a66-e54b-11ec-8d3a-02420a010016-2-8f88-1888"
    }
   },
   "source": [
    "指定した値が`spec`の設定に反映されていることを確認してみます。"
   ]
  },
  {
   "cell_type": "code",
   "execution_count": null,
   "metadata": {
    "hidden": true,
    "lc_cell_meme": {
     "current": "b13a7ba6-e54b-11ec-8d3a-02420a010016-2-6135-546b",
     "next": "b13a7c32-e54b-11ec-8d3a-02420a010016-2-70f3-1380",
     "previous": "b13a7afc-e54b-11ec-8d3a-02420a010016-2-9b89-0b79"
    },
    "lc_wrapper": {}
   },
   "outputs": [],
   "source": [
    "# print(spec)"
   ]
  },
  {
   "cell_type": "markdown",
   "metadata": {
    "hidden": true,
    "lc_cell_meme": {
     "current": "b13a7c32-e54b-11ec-8d3a-02420a010016-2-70f3-1380",
     "next": "8e1bdcf6-1c59-11ed-aae3-005056b02e0f-1-c564",
     "previous": "b13a7ba6-e54b-11ec-8d3a-02420a010016-2-6135-546b"
    }
   },
   "source": [
    "`volume_size`の値が指定した値に変更されています。"
   ]
  },
  {
   "cell_type": "markdown",
   "metadata": {
    "hidden": true,
    "lc_cell_meme": {
     "current": "8e1bdcf6-1c59-11ed-aae3-005056b02e0f-1-c564",
     "next": "64b19f58-1c5a-11ed-aae3-005056b02e0f",
     "previous": "b13a7c32-e54b-11ec-8d3a-02420a010016-2-70f3-1380"
    }
   },
   "source": [
    "### ★ mdx 向けのspecを設定する ★\n",
    "\n",
    "mdx VMをVCノードとして使用するための「VCP既存サーバ (SSH) モード用」に対応した以下のspecを設定する。\n",
    "\n",
    "* クラウドプロバイダ名は `\"onpremises\"` を指定\n",
    "* `ip_addresses`: mdx VMホストのIPアドレス\n",
    "* `user_name`: mdx VMホスト上のsudo可能なアカウント名 (mdx VMテンプレート毎に既定）"
   ]
  },
  {
   "cell_type": "code",
   "execution_count": null,
   "metadata": {
    "hidden": true,
    "lc_cell_meme": {
     "current": "64b19f58-1c5a-11ed-aae3-005056b02e0f",
     "next": "64b1a494-1c5a-11ed-aae3-005056b02e0f",
     "previous": "8e1bdcf6-1c59-11ed-aae3-005056b02e0f-1-c564"
    }
   },
   "outputs": [],
   "source": [
    "host_ip_address =          # !! mdx VM のプライベート IPv4 アドレスを指定する !!\n",
    "ssh_user_name = \"mdxuser\""
   ]
  },
  {
   "cell_type": "code",
   "execution_count": null,
   "metadata": {
    "hidden": true,
    "lc_cell_meme": {
     "current": "64b1a494-1c5a-11ed-aae3-005056b02e0f",
     "next": "b13a7cc8-e54b-11ec-8d3a-02420a010016-2-33e2-a2c3",
     "previous": "64b19f58-1c5a-11ed-aae3-005056b02e0f"
    }
   },
   "outputs": [],
   "source": [
    "spec = vcp.get_spec(\"onpremises\", \"default\")\n",
    "spec.ip_addresses = [host_ip_address]\n",
    "spec.user_name = ssh_user_name"
   ]
  },
  {
   "cell_type": "markdown",
   "metadata": {
    "hidden": true,
    "lc_cell_meme": {
     "current": "b13a7cc8-e54b-11ec-8d3a-02420a010016-2-33e2-a2c3",
     "next": "b13a7d68-e54b-11ec-8d3a-02420a010016-2-c04d-a000",
     "previous": "64b1a494-1c5a-11ed-aae3-005056b02e0f"
    }
   },
   "source": [
    "### sshの鍵ファイルを設定する\n",
    "\n",
    "VCノードにsshでログインするためには事前に公開鍵認証の鍵を登録する必要があります。そのための設定をここで行います。"
   ]
  },
  {
   "cell_type": "markdown",
   "metadata": {
    "hidden": true,
    "lc_cell_meme": {
     "current": "b13a7d68-e54b-11ec-8d3a-02420a010016-2-c04d-a000",
     "next": "b13a7e08-e54b-11ec-8d3a-02420a010016-2-a863-8555",
     "previous": "b13a7cc8-e54b-11ec-8d3a-02420a010016-2-33e2-a2c3"
    }
   },
   "source": [
    "VCノードに登録する公開鍵認証の**公開鍵**のパスを次のセルで指定してください。"
   ]
  },
  {
   "cell_type": "code",
   "execution_count": null,
   "metadata": {
    "hidden": true,
    "lc_cell_meme": {
     "current": "b13a7e08-e54b-11ec-8d3a-02420a010016-2-a863-8555",
     "next": "b13a7ea8-e54b-11ec-8d3a-02420a010016-2-038e-b317",
     "previous": "b13a7d68-e54b-11ec-8d3a-02420a010016-2-c04d-a000"
    },
    "lc_wrapper": {}
   },
   "outputs": [],
   "source": [
    "import os\n",
    "ssh_public_key = os.path.expanduser('~/.ssh/id_rsa.pub')"
   ]
  },
  {
   "cell_type": "markdown",
   "metadata": {
    "hidden": true,
    "lc_cell_meme": {
     "current": "b13a7ea8-e54b-11ec-8d3a-02420a010016-2-038e-b317",
     "next": "b13a7f3e-e54b-11ec-8d3a-02420a010016-2-b17b-058a",
     "previous": "b13a7e08-e54b-11ec-8d3a-02420a010016-2-a863-8555"
    }
   },
   "source": [
    "指定した公開鍵を `spec` に設定します。"
   ]
  },
  {
   "cell_type": "code",
   "execution_count": null,
   "metadata": {
    "hidden": true,
    "lc_cell_meme": {
     "current": "b13a7f3e-e54b-11ec-8d3a-02420a010016-2-b17b-058a",
     "next": "b13a7fd4-e54b-11ec-8d3a-02420a010016-2-6bcc-99d8",
     "previous": "b13a7ea8-e54b-11ec-8d3a-02420a010016-2-038e-b317"
    },
    "lc_wrapper": {}
   },
   "outputs": [],
   "source": [
    "spec.set_ssh_pubkey(ssh_public_key)"
   ]
  },
  {
   "cell_type": "markdown",
   "metadata": {
    "hidden": true,
    "lc_cell_meme": {
     "current": "b13a7fd4-e54b-11ec-8d3a-02420a010016-2-6bcc-99d8",
     "next": "b13a8074-e54b-11ec-8d3a-02420a010016-2-c3c5-84ce",
     "previous": "b13a7f3e-e54b-11ec-8d3a-02420a010016-2-b17b-058a"
    }
   },
   "source": [
    "sshの公開鍵に関する設定が`spec`に反映されたことを確認してみます。次のセルを実行すると`params`の`e`の`AUTHORIZED_KEYS`に値が設定されていることが確認できます。"
   ]
  },
  {
   "cell_type": "code",
   "execution_count": null,
   "metadata": {
    "hidden": true,
    "lc_cell_meme": {
     "current": "b13a8074-e54b-11ec-8d3a-02420a010016-2-c3c5-84ce",
     "next": "b13a810a-e54b-11ec-8d3a-02420a010016-2-d4b7-4e89",
     "previous": "b13a7fd4-e54b-11ec-8d3a-02420a010016-2-6bcc-99d8"
    },
    "lc_wrapper": {}
   },
   "outputs": [],
   "source": [
    "print(spec)"
   ]
  },
  {
   "cell_type": "markdown",
   "metadata": {
    "hidden": true,
    "lc_cell_meme": {
     "current": "b13a810a-e54b-11ec-8d3a-02420a010016-2-d4b7-4e89",
     "next": "b13a81a0-e54b-11ec-8d3a-02420a010016-2-b9f5-ef75",
     "previous": "b13a8074-e54b-11ec-8d3a-02420a010016-2-c3c5-84ce"
    }
   },
   "source": [
    "後でVCノードにログインする際にsshの秘密鍵も必要になるので、ここで設定しておきます。次のセルで**秘密鍵**のパスを指定してください。"
   ]
  },
  {
   "cell_type": "code",
   "execution_count": null,
   "metadata": {
    "hidden": true,
    "lc_cell_meme": {
     "current": "b13a81a0-e54b-11ec-8d3a-02420a010016-2-b9f5-ef75",
     "next": "b13a8240-e54b-11ec-8d3a-02420a010016-2-d7c9-a7fd",
     "previous": "b13a810a-e54b-11ec-8d3a-02420a010016-2-d4b7-4e89"
    },
    "lc_wrapper": {}
   },
   "outputs": [],
   "source": [
    "ssh_private_key = os.path.expanduser('~/.ssh/id_rsa')"
   ]
  },
  {
   "cell_type": "markdown",
   "metadata": {
    "hidden": true,
    "lc_cell_meme": {
     "current": "b13a8240-e54b-11ec-8d3a-02420a010016-2-d7c9-a7fd",
     "next": "b13a82ea-e54b-11ec-8d3a-02420a010016-2-9b9f-ca5a",
     "previous": "b13a81a0-e54b-11ec-8d3a-02420a010016-2-b9f5-ef75"
    }
   },
   "source": [
    "公開鍵と秘密鍵が正しいペアであることをチェックします。次のセルを実行してエラーにならないことを確認してください。"
   ]
  },
  {
   "cell_type": "code",
   "execution_count": null,
   "metadata": {
    "hidden": true,
    "lc_cell_meme": {
     "current": "b13a82ea-e54b-11ec-8d3a-02420a010016-2-9b9f-ca5a",
     "next": "b13a8376-e54b-11ec-8d3a-02420a010016-2-4178-2a1f",
     "previous": "b13a8240-e54b-11ec-8d3a-02420a010016-2-d7c9-a7fd"
    },
    "lc_wrapper": {}
   },
   "outputs": [],
   "source": [
    "!grep -q \"$(ssh-keygen -y -f {ssh_private_key})\" {ssh_public_key}"
   ]
  },
  {
   "cell_type": "markdown",
   "metadata": {
    "hidden": true,
    "lc_cell_meme": {
     "current": "b13a8376-e54b-11ec-8d3a-02420a010016-2-4178-2a1f",
     "next": "b13a840c-e54b-11ec-8d3a-02420a010016-2-0afb-db11",
     "previous": "b13a82ea-e54b-11ec-8d3a-02420a010016-2-9b9f-ca5a"
    },
    "vcp_tutorial": {
     "url": "files/DOC/index.html#module-vcpsdk.plugins.spec"
    }
   },
   "source": [
    "<!---\n",
    "他にどのようなパラメータが設定できるのかについては\n",
    "「[VCPSDK APIドキュメント](/handson/files/DOC/index.html#module-vcpsdk.plugins.spec)」を参照してください。\n",
    "--->"
   ]
  },
  {
   "cell_type": "markdown",
   "metadata": {
    "hidden": true,
    "lc_cell_meme": {
     "current": "b13a840c-e54b-11ec-8d3a-02420a010016-2-0afb-db11",
     "next": "b13a84b6-e54b-11ec-8d3a-02420a010016-2-aed5-8018",
     "previous": "b13a8376-e54b-11ec-8d3a-02420a010016-2-4178-2a1f"
    }
   },
   "source": [
    "## Unitの作成とVCノードの起動"
   ]
  },
  {
   "cell_type": "markdown",
   "metadata": {
    "hidden": true,
    "lc_cell_meme": {
     "current": "b13a84b6-e54b-11ec-8d3a-02420a010016-2-aed5-8018",
     "next": "b13a854c-e54b-11ec-8d3a-02420a010016-2-d0bb-cd6c",
     "previous": "b13a840c-e54b-11ec-8d3a-02420a010016-2-0afb-db11"
    }
   },
   "source": [
    "Unitを作成します。Unitを作成すると同時に VCノード（ここではmdx VMホスト上のBaseコンテナ）が起動します。\n",
    "\n",
    "> 処理が完了するまで1分半～2分程度かかります。"
   ]
  },
  {
   "cell_type": "code",
   "execution_count": null,
   "metadata": {
    "hidden": true,
    "lc_cell_meme": {
     "current": "b13a854c-e54b-11ec-8d3a-02420a010016-2-d0bb-cd6c",
     "next": "b13a85d8-e54b-11ec-8d3a-02420a010016-2-b462-429e",
     "previous": "b13a84b6-e54b-11ec-8d3a-02420a010016-2-aed5-8018"
    },
    "lc_wrapper": {},
    "scrolled": true
   },
   "outputs": [],
   "source": [
    "# Unitの作成（同時に VCノードが作成される）\n",
    "unit = unit_group.create_unit(\n",
    "    'mdx-server',               # Unit名の指定\n",
    "    spec\n",
    ")"
   ]
  },
  {
   "cell_type": "markdown",
   "metadata": {
    "hidden": true,
    "lc_cell_meme": {
     "current": "b13a85d8-e54b-11ec-8d3a-02420a010016-2-b462-429e",
     "next": "b13a8678-e54b-11ec-8d3a-02420a010016-2-6295-fcc1",
     "previous": "b13a854c-e54b-11ec-8d3a-02420a010016-2-d0bb-cd6c"
    }
   },
   "source": [
    "UnitGroupに属しているUnitの一覧表示を行い、Unitが作成されていることを確認します。"
   ]
  },
  {
   "cell_type": "code",
   "execution_count": null,
   "metadata": {
    "hidden": true,
    "lc_cell_meme": {
     "current": "b13a8678-e54b-11ec-8d3a-02420a010016-2-6295-fcc1",
     "next": "b13a8718-e54b-11ec-8d3a-02420a010016-2-d396-4e8c",
     "previous": "b13a85d8-e54b-11ec-8d3a-02420a010016-2-b462-429e"
    },
    "lc_wrapper": {},
    "pinned_outputs": []
   },
   "outputs": [],
   "source": [
    "# Unitの一覧を DataFrame で表示する\n",
    "unit_group.df_units()"
   ]
  },
  {
   "cell_type": "markdown",
   "metadata": {
    "hidden": true,
    "lc_cell_meme": {
     "current": "b13a8718-e54b-11ec-8d3a-02420a010016-2-d396-4e8c",
     "next": "b13a87a4-e54b-11ec-8d3a-02420a010016-2-9033-5619",
     "previous": "b13a8678-e54b-11ec-8d3a-02420a010016-2-6295-fcc1"
    }
   },
   "source": [
    "UnitGroupに属しているVCノードの一覧表示を行い、VCノードが起動していることを確認します。VCノードが正常に起動していることは `node_state` の表示が `RUNNING`になっていることで確認できます。"
   ]
  },
  {
   "cell_type": "code",
   "execution_count": null,
   "metadata": {
    "hidden": true,
    "lc_cell_meme": {
     "current": "b13a87a4-e54b-11ec-8d3a-02420a010016-2-9033-5619",
     "next": "b13a8844-e54b-11ec-8d3a-02420a010016-2-6f97-160c",
     "previous": "b13a8718-e54b-11ec-8d3a-02420a010016-2-d396-4e8c"
    },
    "lc_wrapper": {},
    "scrolled": true
   },
   "outputs": [],
   "source": [
    "# VCノードの一覧を DataFrame で表示する\n",
    "unit_group.df_nodes()"
   ]
  },
  {
   "cell_type": "markdown",
   "metadata": {
    "hidden": true,
    "lc_cell_meme": {
     "current": "b13a8844-e54b-11ec-8d3a-02420a010016-2-6f97-160c",
     "next": "b13a88e4-e54b-11ec-8d3a-02420a010016-2-567c-7ce8",
     "previous": "b13a87a4-e54b-11ec-8d3a-02420a010016-2-9033-5619"
    }
   },
   "source": [
    "ここでは VCノードの起動が完了するまで待ち合わせるモードでUnitの作成を行いましたが、非同期処理でUnit, VCノードの作成を行うこともできます。`create_unit()`の`wait_for`パラメータに`False`を指定すると非同期モードでのUnit, VCノードの作成が行えます。\n",
    "\n",
    "```\n",
    "unit = unit_group.create_unit('mdx-server', spec, wait_for=False)\n",
    "```\n",
    "\n",
    "非同期モードでUnitを作成した場合にUnitやVCノードが起動したことを確認するには、以下に示す方法で状態取得を行ってください。\n",
    "\n",
    "1. `unit_group.df_units()`\n",
    "  * Unitの一覧表示の`unit_state`の項目で Unitの状態を確認できます\n",
    "  * 起動中は `BOOTING`、起動が完了して実行中になると `RUNNING` と表示されます\n",
    " \n",
    "1. `unit.df_nodes()`, `unit_group.df_nodes()`\n",
    "  * VCノードの一覧表示の`node_state`の項目で VCノードの状態を確認できます\n",
    "  * 起動中は `BOOTING`、起動が完了して実行中になると `RUNNING` と表示されます\n",
    "\n",
    "非同期モードでUnit作成を行った場合でも、以下のメソッドを利用することで後からVCノード起動の待ち合わせを行うことができます。\n",
    "* `unit_group.wait_unit_applied(unit_name)`\n",
    "  - unit_nameで指定されたUnitの状態が `RUNNING` または `ERROR`になるのを待ちます"
   ]
  },
  {
   "cell_type": "markdown",
   "metadata": {
    "hidden": true,
    "lc_cell_meme": {
     "current": "b13a88e4-e54b-11ec-8d3a-02420a010016-2-567c-7ce8",
     "next": "b13a8984-e54b-11ec-8d3a-02420a010016-2-b5c3-dbb9",
     "previous": "b13a8844-e54b-11ec-8d3a-02420a010016-2-6f97-160c"
    }
   },
   "source": [
    "## 疎通確認\n",
    "\n",
    "起動した VCノードに対して`ping`を行ってみます。"
   ]
  },
  {
   "cell_type": "markdown",
   "metadata": {
    "hidden": true,
    "lc_cell_meme": {
     "current": "b13a8984-e54b-11ec-8d3a-02420a010016-2-b5c3-dbb9",
     "next": "b13a8a1a-e54b-11ec-8d3a-02420a010016-2-6eb7-e109",
     "previous": "b13a88e4-e54b-11ec-8d3a-02420a010016-2-567c-7ce8"
    }
   },
   "source": [
    "まずUnitGroup内で起動しているVCノードに割り当てられているプライベートIPアドレスの値を取得して変数 `ip_address`に格納します。"
   ]
  },
  {
   "cell_type": "code",
   "execution_count": null,
   "metadata": {
    "hidden": true,
    "lc_cell_meme": {
     "current": "b13a8a1a-e54b-11ec-8d3a-02420a010016-2-6eb7-e109",
     "next": "b13a8ab0-e54b-11ec-8d3a-02420a010016-2-c001-237b",
     "previous": "b13a8984-e54b-11ec-8d3a-02420a010016-2-b5c3-dbb9"
    },
    "lc_wrapper": {}
   },
   "outputs": [],
   "source": [
    "# unit_group.find_ip_addresses() は UnitGroup内の全VCノードのIPアドレスのリストを返します\n",
    "ip_address = unit_group.find_ip_addresses(node_state='RUNNING')[0] # 今は１つのVCノードのみ起動しているので [0] で最初の要素を取り出す\n",
    "\n",
    "print(ip_address)"
   ]
  },
  {
   "cell_type": "markdown",
   "metadata": {
    "hidden": true,
    "lc_cell_meme": {
     "current": "b13a8ab0-e54b-11ec-8d3a-02420a010016-2-c001-237b",
     "next": "b13a8b46-e54b-11ec-8d3a-02420a010016-2-726d-d8f5",
     "previous": "b13a8a1a-e54b-11ec-8d3a-02420a010016-2-6eb7-e109"
    }
   },
   "source": [
    "実際に `ping` を行ってみます。\n",
    "\n",
    "> Codeセルで先頭に `!` をつけるとシェルコマンドが実行できます。また `{}`で囲むことで Python の変数参照やコードの実行に置き換えることができます。詳しくは「[IPython Documentation](https://ipython.readthedocs.io/en/stable/interactive/tutorial.html#system-shell-commands)」などを参照してください。"
   ]
  },
  {
   "cell_type": "code",
   "execution_count": null,
   "metadata": {
    "hidden": true,
    "lc_cell_meme": {
     "current": "b13a8b46-e54b-11ec-8d3a-02420a010016-2-726d-d8f5",
     "next": "b13a8be6-e54b-11ec-8d3a-02420a010016-2-e747-ff09",
     "previous": "b13a8ab0-e54b-11ec-8d3a-02420a010016-2-c001-237b"
    },
    "lc_wrapper": {}
   },
   "outputs": [],
   "source": [
    "!ping -c 5 {ip_address}"
   ]
  },
  {
   "cell_type": "markdown",
   "metadata": {
    "heading_collapsed": true,
    "lc_cell_meme": {
     "current": "b13a8be6-e54b-11ec-8d3a-02420a010016-2-e747-ff09",
     "next": "b13a8c86-e54b-11ec-8d3a-02420a010016-2-d554-b00c",
     "previous": "b13a8b46-e54b-11ec-8d3a-02420a010016-2-726d-d8f5"
    }
   },
   "source": [
    "# VCノードに ssh でログインして操作する\n",
    "\n",
    "起動したVCノードに ssh でログインして操作を行います。\n",
    "\n",
    "![](./images/101-006_mdx.png)"
   ]
  },
  {
   "cell_type": "markdown",
   "metadata": {
    "hidden": true,
    "lc_cell_meme": {
     "current": "b13a8c86-e54b-11ec-8d3a-02420a010016-2-d554-b00c",
     "next": "b13a8d12-e54b-11ec-8d3a-02420a010016-2-4714-ad95",
     "previous": "b13a8be6-e54b-11ec-8d3a-02420a010016-2-e747-ff09"
    }
   },
   "source": [
    "まず、ログインする前に ~/.ssh/known_hosts のホストキーを更新します。"
   ]
  },
  {
   "cell_type": "code",
   "execution_count": null,
   "metadata": {
    "hidden": true,
    "lc_cell_meme": {
     "current": "b13a8d12-e54b-11ec-8d3a-02420a010016-2-4714-ad95",
     "next": "b13a8db2-e54b-11ec-8d3a-02420a010016-2-71c9-8b6f",
     "previous": "b13a8c86-e54b-11ec-8d3a-02420a010016-2-d554-b00c"
    },
    "lc_wrapper": {}
   },
   "outputs": [],
   "source": [
    "!touch ~/.ssh/known_hosts\n",
    "# ~/.ssh/known_hosts から古いホストキーを削除する\n",
    "!ssh-keygen -R {ip_address}\n",
    "\n",
    "# ホストキーの登録\n",
    "!ssh-keyscan -H {ip_address} >> ~/.ssh/known_hosts"
   ]
  },
  {
   "cell_type": "markdown",
   "metadata": {
    "hidden": true,
    "lc_cell_meme": {
     "current": "b13a8db2-e54b-11ec-8d3a-02420a010016-2-71c9-8b6f",
     "next": "b13a8e52-e54b-11ec-8d3a-02420a010016-2-5fdc-011d",
     "previous": "b13a8d12-e54b-11ec-8d3a-02420a010016-2-4714-ad95"
    }
   },
   "source": [
    "`ls -la` を実行してみます。"
   ]
  },
  {
   "cell_type": "code",
   "execution_count": null,
   "metadata": {
    "hidden": true,
    "lc_cell_meme": {
     "current": "b13a8e52-e54b-11ec-8d3a-02420a010016-2-5fdc-011d",
     "next": "b13a8ee8-e54b-11ec-8d3a-02420a010016-2-7350-aefd",
     "previous": "b13a8db2-e54b-11ec-8d3a-02420a010016-2-71c9-8b6f"
    },
    "lc_wrapper": {},
    "scrolled": true
   },
   "outputs": [],
   "source": [
    "!ssh -i {ssh_private_key} -l root {ip_address} /bin/ls -la"
   ]
  },
  {
   "cell_type": "markdown",
   "metadata": {
    "hidden": true,
    "lc_cell_meme": {
     "current": "b13a8ee8-e54b-11ec-8d3a-02420a010016-2-7350-aefd",
     "next": "b13a8fc4-e54b-11ec-8d3a-02420a010016-2-1e1e-d0e0",
     "previous": "b13a8e52-e54b-11ec-8d3a-02420a010016-2-5fdc-011d"
    }
   },
   "source": [
    "VCノードにsshでログインするにはsshの引数に以下の指定が必要となります。\n",
    "\n",
    "* sshの identity ファイル(-i)\n",
    "  - `spec`オブジェクトに設定した公開鍵に対応する秘密鍵\n",
    "* ユーザ名(-l)\n",
    "  - `root`\n",
    "* ログイン先のIPアドレス"
   ]
  },
  {
   "cell_type": "markdown",
   "metadata": {
    "hidden": true,
    "lc_cell_meme": {
     "current": "b13a8fc4-e54b-11ec-8d3a-02420a010016-2-1e1e-d0e0",
     "next": "b13a906e-e54b-11ec-8d3a-02420a010016-2-882a-a46d",
     "previous": "b13a8ee8-e54b-11ec-8d3a-02420a010016-2-7350-aefd"
    }
   },
   "source": [
    "sshのオプションを毎回指定するのも煩雑なので変数に設定しておきます。"
   ]
  },
  {
   "cell_type": "code",
   "execution_count": null,
   "metadata": {
    "hidden": true,
    "lc_cell_meme": {
     "current": "b13a906e-e54b-11ec-8d3a-02420a010016-2-882a-a46d",
     "next": "b13a9104-e54b-11ec-8d3a-02420a010016-2-750d-5489",
     "previous": "b13a8fc4-e54b-11ec-8d3a-02420a010016-2-1e1e-d0e0"
    },
    "lc_wrapper": {}
   },
   "outputs": [],
   "source": [
    "ssh_opts = f\"-i {ssh_private_key} -l root\""
   ]
  },
  {
   "cell_type": "markdown",
   "metadata": {
    "hidden": true,
    "lc_cell_meme": {
     "current": "b13a9104-e54b-11ec-8d3a-02420a010016-2-750d-5489",
     "next": "b13a9190-e54b-11ec-8d3a-02420a010016-2-c7c5-a19c",
     "previous": "b13a906e-e54b-11ec-8d3a-02420a010016-2-882a-a46d"
    }
   },
   "source": [
    "VCノードに対して`uname -a`, `df -h` などを実行してみます。"
   ]
  },
  {
   "cell_type": "code",
   "execution_count": null,
   "metadata": {
    "hidden": true,
    "lc_cell_meme": {
     "current": "b13a9190-e54b-11ec-8d3a-02420a010016-2-c7c5-a19c",
     "next": "b13a9244-e54b-11ec-8d3a-02420a010016-2-8bba-8bf0",
     "previous": "b13a9104-e54b-11ec-8d3a-02420a010016-2-750d-5489"
    },
    "lc_wrapper": {}
   },
   "outputs": [],
   "source": [
    "!ssh {ssh_opts} {ip_address} uname -a"
   ]
  },
  {
   "cell_type": "code",
   "execution_count": null,
   "metadata": {
    "hidden": true,
    "lc_cell_meme": {
     "current": "b13a9244-e54b-11ec-8d3a-02420a010016-2-8bba-8bf0",
     "next": "b13a9398-e54b-11ec-8d3a-02420a010016-2-0e3c-01cf",
     "previous": "b13a9190-e54b-11ec-8d3a-02420a010016-2-c7c5-a19c"
    },
    "lc_wrapper": {}
   },
   "outputs": [],
   "source": [
    "!ssh {ssh_opts} {ip_address} df -h"
   ]
  },
  {
   "cell_type": "markdown",
   "metadata": {
    "heading_collapsed": true,
    "lc_cell_meme": {
     "current": "b13a9398-e54b-11ec-8d3a-02420a010016-2-0e3c-01cf",
     "next": "b13a946a-e54b-11ec-8d3a-02420a010016-2-8fb5-b03d",
     "previous": "b13a9244-e54b-11ec-8d3a-02420a010016-2-8bba-8bf0"
    }
   },
   "source": [
    "# GrafanaでVCノードの利用状況を確認する"
   ]
  },
  {
   "cell_type": "markdown",
   "metadata": {
    "hidden": true,
    "lc_cell_meme": {
     "current": "b13a946a-e54b-11ec-8d3a-02420a010016-2-8fb5-b03d",
     "next": "b13a950a-e54b-11ec-8d3a-02420a010016-2-b174-6f31",
     "previous": "b13a9398-e54b-11ec-8d3a-02420a010016-2-0e3c-01cf"
    }
   },
   "source": [
    "VCPではVCノードの利用状況(CPU負荷、メモリ使用量、ネットワーク）を確認するためGrafanaのダッシュボードを提供しています。"
   ]
  },
  {
   "cell_type": "markdown",
   "metadata": {
    "hidden": true,
    "lc_cell_meme": {
     "current": "b13a950a-e54b-11ec-8d3a-02420a010016-2-b174-6f31",
     "next": "b13a95a0-e54b-11ec-8d3a-02420a010016-2-f40c-f467",
     "previous": "b13a946a-e54b-11ec-8d3a-02420a010016-2-8fb5-b03d"
    }
   },
   "source": [
    "## Grafanaへのログイン"
   ]
  },
  {
   "cell_type": "markdown",
   "metadata": {
    "hidden": true,
    "lc_cell_meme": {
     "current": "b13a95a0-e54b-11ec-8d3a-02420a010016-2-f40c-f467",
     "next": "b13a9640-e54b-11ec-8d3a-02420a010016-2-8206-1bf0",
     "previous": "b13a950a-e54b-11ec-8d3a-02420a010016-2-b174-6f31"
    }
   },
   "source": [
    "以下のセルを実行して Grafana ダッシュボードを開いてください。\n",
    "\n",
    "最初にログイン画面が表示されるので ユーザ名、パスワードにそれぞれ `admin`, `admin`を入力してください。 "
   ]
  },
  {
   "cell_type": "code",
   "execution_count": null,
   "metadata": {
    "hidden": true,
    "lc_cell_meme": {
     "current": "b13a9640-e54b-11ec-8d3a-02420a010016-2-8206-1bf0",
     "next": "b13a96e0-e54b-11ec-8d3a-02420a010016-2-b945-c0f0",
     "previous": "b13a95a0-e54b-11ec-8d3a-02420a010016-2-f40c-f467"
    },
    "lc_wrapper": {}
   },
   "outputs": [],
   "source": [
    "#vcc_ctr = vcp.vcc_info()['host']\n",
    "#http_host = vcc_ctr.split(':')[0]\n",
    "#grafana_url = \"https://{}/grafana/d/vcp/vcp-metrics?refresh=5s\".format(http_host)\n",
    "\n",
    "# VCPポータブル版ではVCコントローラ(+Grafana) と同一ホストでJupyterNotebookが稼働している。\n",
    "# mdxのDNATで設定した「転送元グローバルIP」に相当するアドレスをこの方法で取得する。\n",
    "myip = !curl -s -4 ifconfig.me\n",
    "grafana_url = \"http://{}/grafana/d/vcp/vcp-metrics?refresh=5s\".format(myip[0])\n",
    "print(grafana_url)"
   ]
  },
  {
   "cell_type": "markdown",
   "metadata": {
    "hidden": true,
    "lc_cell_meme": {
     "current": "b13a96e0-e54b-11ec-8d3a-02420a010016-2-b945-c0f0",
     "next": "b13a9780-e54b-11ec-8d3a-02420a010016-2-3529-dd50",
     "previous": "b13a9640-e54b-11ec-8d3a-02420a010016-2-8206-1bf0"
    }
   },
   "source": [
    "![Grafanaのログイン画面](./images/grafana-login.png)"
   ]
  },
  {
   "cell_type": "markdown",
   "metadata": {
    "hidden": true,
    "lc_cell_meme": {
     "current": "b13a9780-e54b-11ec-8d3a-02420a010016-2-3529-dd50",
     "next": "b13a9816-e54b-11ec-8d3a-02420a010016-2-fad1-419d",
     "previous": "b13a96e0-e54b-11ec-8d3a-02420a010016-2-b945-c0f0"
    }
   },
   "source": [
    "## 負荷状況のグラフ表示\n",
    "\n",
    "以下のように表示されます。左半分のグラフがBaseコンテナの負荷状況で、右半分がアプリケーションコンテナの負荷状況のグラフです。\n",
    "\n",
    "![負荷状況](./images/grafana-metrics.png)"
   ]
  },
  {
   "cell_type": "markdown",
   "metadata": {
    "hidden": true,
    "lc_cell_meme": {
     "current": "b13a9816-e54b-11ec-8d3a-02420a010016-2-fad1-419d",
     "next": "b13a98b6-e54b-11ec-8d3a-02420a010016-2-bee1-e8ae",
     "previous": "b13a9780-e54b-11ec-8d3a-02420a010016-2-3529-dd50"
    }
   },
   "source": [
    "VCノードに負荷をかけるために、アプリケーションコンテナで stress コマンドを実行します。"
   ]
  },
  {
   "cell_type": "code",
   "execution_count": null,
   "metadata": {
    "hidden": true,
    "lc_cell_meme": {
     "current": "b13a98b6-e54b-11ec-8d3a-02420a010016-2-bee1-e8ae",
     "next": "b13a994c-e54b-11ec-8d3a-02420a010016-2-a0bd-cdcf",
     "previous": "b13a9816-e54b-11ec-8d3a-02420a010016-2-fad1-419d"
    },
    "lc_wrapper": {},
    "scrolled": true
   },
   "outputs": [],
   "source": [
    "# 60秒間だけ CPU x 2 とメモリ 128 MB を消費する\n",
    "!ssh {ssh_opts} {ip_address} \\\n",
    "    /usr/local/bin/docker run -td --rm --name stress-0 polinux/stress \\\n",
    "    stress --cpu 2 --io 1 --vm 2 --vm-bytes 128M --timeout 60s --verbose"
   ]
  },
  {
   "cell_type": "code",
   "execution_count": null,
   "metadata": {
    "hidden": true,
    "lc_cell_meme": {
     "current": "b13a994c-e54b-11ec-8d3a-02420a010016-2-a0bd-cdcf",
     "next": "b13a99ec-e54b-11ec-8d3a-02420a010016-2-5488-1d60",
     "previous": "b13a98b6-e54b-11ec-8d3a-02420a010016-2-bee1-e8ae"
    },
    "lc_wrapper": {}
   },
   "outputs": [],
   "source": [
    "# 60秒間だけ CPU x 2 とメモリ 128 MB を消費する (2回目)\n",
    "!ssh {ssh_opts} {ip_address} \\\n",
    "    /usr/local/bin/docker run -td --rm --name stress-1 polinux/stress \\\n",
    "    stress --cpu 2 --io 1 --vm 2 --vm-bytes 128M --timeout 60s --verbose"
   ]
  },
  {
   "cell_type": "markdown",
   "metadata": {
    "heading_collapsed": true,
    "lc_cell_meme": {
     "current": "b13a99ec-e54b-11ec-8d3a-02420a010016-2-5488-1d60",
     "next": "b13a9af0-e54b-11ec-8d3a-02420a010016-2-b68f-d455",
     "previous": "b13a994c-e54b-11ec-8d3a-02420a010016-2-a0bd-cdcf"
    }
   },
   "source": [
    "# VCノードのスケールアウト、スケールイン\n",
    "\n",
    "![スケールアウト、スケールイン](images/101-004.png)"
   ]
  },
  {
   "cell_type": "markdown",
   "metadata": {
    "hidden": true,
    "lc_cell_meme": {
     "current": "b13a9af0-e54b-11ec-8d3a-02420a010016-2-b68f-d455",
     "next": "b13a9b7c-e54b-11ec-8d3a-02420a010016-2-63ab-51e7",
     "previous": "b13a99ec-e54b-11ec-8d3a-02420a010016-2-5488-1d60"
    }
   },
   "source": [
    "## VCノードのスケールアウト"
   ]
  },
  {
   "cell_type": "markdown",
   "metadata": {
    "hidden": true,
    "lc_cell_meme": {
     "current": "b13a9b7c-e54b-11ec-8d3a-02420a010016-2-63ab-51e7",
     "next": "b13a9c1c-e54b-11ec-8d3a-02420a010016-2-7647-df26",
     "previous": "b13a9af0-e54b-11ec-8d3a-02420a010016-2-b68f-d455"
    }
   },
   "source": [
    "Unitには `spec`オブジェクトに指定されている設定と同一の VCノードを作成する機能があります。その機能を利用して Unit にVCノードを追加してみます。"
   ]
  },
  {
   "cell_type": "markdown",
   "metadata": {
    "hidden": true,
    "lc_cell_meme": {
     "current": "b13a9c1c-e54b-11ec-8d3a-02420a010016-2-7647-df26",
     "next": "b13a9cbc-e54b-11ec-8d3a-02420a010016-2-9a7c-bc40",
     "previous": "b13a9b7c-e54b-11ec-8d3a-02420a010016-2-63ab-51e7"
    }
   },
   "source": [
    "まず、現在のVCノードの状況を確認しておきます。"
   ]
  },
  {
   "cell_type": "code",
   "execution_count": null,
   "metadata": {
    "hidden": true,
    "lc_cell_meme": {
     "current": "b13a9cbc-e54b-11ec-8d3a-02420a010016-2-9a7c-bc40",
     "next": "b13a9d48-e54b-11ec-8d3a-02420a010016-2-1ea3-e7ee",
     "previous": "b13a9c1c-e54b-11ec-8d3a-02420a010016-2-7647-df26"
    },
    "lc_wrapper": {}
   },
   "outputs": [],
   "source": [
    "# VCノードの一覧を DataFrame で表示する\n",
    "unit.df_nodes()"
   ]
  },
  {
   "cell_type": "markdown",
   "metadata": {
    "hidden": true,
    "lc_cell_meme": {
     "current": "b13a9d48-e54b-11ec-8d3a-02420a010016-2-1ea3-e7ee",
     "next": "b13a9de8-e54b-11ec-8d3a-02420a010016-2-7472-1e34",
     "previous": "b13a9cbc-e54b-11ec-8d3a-02420a010016-2-9a7c-bc40"
    }
   },
   "source": [
    "Unit に VCノードを追加するには`unit`オブジェクトに対して `add_nodes()` を呼び出します。次のセルを実行するとUnitに VCノード が追加されます。\n",
    "\n",
    "> VCノード の起動には 1分半～2分程度かかります。"
   ]
  },
  {
   "cell_type": "code",
   "execution_count": null,
   "metadata": {
    "hidden": true,
    "lc_cell_meme": {
     "current": "b13a9de8-e54b-11ec-8d3a-02420a010016-2-7472-1e34",
     "next": "b13a9e88-e54b-11ec-8d3a-02420a010016-2-73c1-6724",
     "previous": "b13a9d48-e54b-11ec-8d3a-02420a010016-2-1ea3-e7ee"
    },
    "lc_wrapper": {},
    "scrolled": true
   },
   "outputs": [],
   "source": [
    "unit.add_nodes()"
   ]
  },
  {
   "cell_type": "markdown",
   "metadata": {
    "hidden": true,
    "lc_cell_meme": {
     "current": "b13a9e88-e54b-11ec-8d3a-02420a010016-2-73c1-6724",
     "next": "b13a9f28-e54b-11ec-8d3a-02420a010016-2-9180-d364",
     "previous": "b13a9de8-e54b-11ec-8d3a-02420a010016-2-7472-1e34"
    }
   },
   "source": [
    "`add_node()`を呼び出すことで追加されるVCノードの数はデフォルトでは１ですが、パラメータ`num_add_nodes`を設定することで追加するVCノード数を変更することが出来ます。例えば３ノードを追加するには以下のような指定を行います。\n",
    "\n",
    "```\n",
    "unit.add_nodes(num_add_nodes=3)\n",
    "```\n",
    "また、追加するVCノードのIPアドレスを指定する場合は、以下のような指定を行います。\n",
    "```\n",
    "unit.add_nodes(ip_address='172.30.2.30')\n",
    "```\n",
    "他にどんなパラメータを指定することが出来るかについては次のセルのように Codeセルの先頭で `?` を指定することで確認できます。"
   ]
  },
  {
   "cell_type": "code",
   "execution_count": null,
   "metadata": {
    "hidden": true,
    "lc_cell_meme": {
     "current": "b13a9f28-e54b-11ec-8d3a-02420a010016-2-9180-d364",
     "next": "b13a9fbe-e54b-11ec-8d3a-02420a010016-2-2140-056c",
     "previous": "b13a9e88-e54b-11ec-8d3a-02420a010016-2-73c1-6724"
    },
    "lc_wrapper": {}
   },
   "outputs": [],
   "source": [
    "?unit.add_nodes"
   ]
  },
  {
   "cell_type": "markdown",
   "metadata": {
    "hidden": true,
    "lc_cell_meme": {
     "current": "b13a9fbe-e54b-11ec-8d3a-02420a010016-2-2140-056c",
     "next": "b13aa04a-e54b-11ec-8d3a-02420a010016-2-ec65-5fe0",
     "previous": "b13a9f28-e54b-11ec-8d3a-02420a010016-2-9180-d364"
    }
   },
   "source": [
    "追加したVCノードの状態を確認するために、VCノードの一覧表示をおこなってみます。"
   ]
  },
  {
   "cell_type": "code",
   "execution_count": null,
   "metadata": {
    "hidden": true,
    "lc_cell_meme": {
     "current": "b13aa04a-e54b-11ec-8d3a-02420a010016-2-ec65-5fe0",
     "next": "b13aa0ea-e54b-11ec-8d3a-02420a010016-2-7a0e-459e",
     "previous": "b13a9fbe-e54b-11ec-8d3a-02420a010016-2-2140-056c"
    },
    "lc_wrapper": {},
    "scrolled": true
   },
   "outputs": [],
   "source": [
    "unit.df_nodes()"
   ]
  },
  {
   "cell_type": "markdown",
   "metadata": {
    "hidden": true,
    "lc_cell_meme": {
     "current": "b13aa0ea-e54b-11ec-8d3a-02420a010016-2-7a0e-459e",
     "next": "b13aa194-e54b-11ec-8d3a-02420a010016-2-acf7-36c3",
     "previous": "b13aa04a-e54b-11ec-8d3a-02420a010016-2-ec65-5fe0"
    }
   },
   "source": [
    "起動している全てのVCノードに対して `ping` を行ってみます。"
   ]
  },
  {
   "cell_type": "code",
   "execution_count": null,
   "metadata": {
    "hidden": true,
    "lc_cell_meme": {
     "current": "b13aa194-e54b-11ec-8d3a-02420a010016-2-acf7-36c3",
     "next": "b13aa22a-e54b-11ec-8d3a-02420a010016-2-8713-42d0",
     "previous": "b13aa0ea-e54b-11ec-8d3a-02420a010016-2-7a0e-459e"
    },
    "lc_wrapper": {},
    "scrolled": true
   },
   "outputs": [],
   "source": [
    "# Unit内のVCノードのIPアドレスのリストを取得する\n",
    "ip_address = unit.find_ip_addresses(node_state='RUNNING')\n",
    "print(ip_address)\n",
    "\n",
    "# それぞれのIPアドレスに対して pingコマンドを実行する\n",
    "for address in ip_address:\n",
    "    !ping -c 5 {address}\n",
    "    print()"
   ]
  },
  {
   "cell_type": "markdown",
   "metadata": {
    "hidden": true,
    "lc_cell_meme": {
     "current": "b13aa22a-e54b-11ec-8d3a-02420a010016-2-8713-42d0",
     "next": "b13aa2c0-e54b-11ec-8d3a-02420a010016-2-9057-b61c",
     "previous": "b13aa194-e54b-11ec-8d3a-02420a010016-2-acf7-36c3"
    }
   },
   "source": [
    "VCノードを追加したので ~/.ssh/known_hosts を更新します。"
   ]
  },
  {
   "cell_type": "code",
   "execution_count": null,
   "metadata": {
    "hidden": true,
    "lc_cell_meme": {
     "current": "b13aa2c0-e54b-11ec-8d3a-02420a010016-2-9057-b61c",
     "next": "b13aa360-e54b-11ec-8d3a-02420a010016-2-5603-ed4b",
     "previous": "b13aa22a-e54b-11ec-8d3a-02420a010016-2-8713-42d0"
    },
    "lc_wrapper": {}
   },
   "outputs": [],
   "source": [
    "for address in ip_address:\n",
    "    # ~/.ssh/known_hosts から古いホストキーを削除する\n",
    "    !ssh-keygen -R {address}\n",
    "    # ホストキーの登録\n",
    "    !ssh-keyscan -H {address} >> ~/.ssh/known_hosts"
   ]
  },
  {
   "cell_type": "markdown",
   "metadata": {
    "hidden": true,
    "lc_cell_meme": {
     "current": "b13aa360-e54b-11ec-8d3a-02420a010016-2-5603-ed4b",
     "next": "b13aa3f6-e54b-11ec-8d3a-02420a010016-2-0acd-add1",
     "previous": "b13aa2c0-e54b-11ec-8d3a-02420a010016-2-9057-b61c"
    }
   },
   "source": [
    "追加で起動した VCノード は同じ Unit に属しているため同じ構成(cpu, memory, disk)になっています。そのことを確認するために、sshでログインして以下のコマンドを実行してみます。\n",
    "\n",
    "* カーネルバージョン\n",
    "  - uname -a\n",
    "* CPU\n",
    "  - cat /proc/cpuinfo\n",
    "* メモリ量\n",
    "  - free\n",
    "* ディスク容量\n",
    "  - df -h\n",
    "  \n",
    "> ただし aws では同じインスタンスタイプに複数種類の CPU が混在していることがあり CPU が微妙に異なることがあります。"
   ]
  },
  {
   "cell_type": "code",
   "execution_count": null,
   "metadata": {
    "hidden": true,
    "lc_cell_meme": {
     "current": "b13aa3f6-e54b-11ec-8d3a-02420a010016-2-0acd-add1",
     "next": "b13aa48c-e54b-11ec-8d3a-02420a010016-2-0a1d-213e",
     "previous": "b13aa360-e54b-11ec-8d3a-02420a010016-2-5603-ed4b"
    },
    "lc_wrapper": {},
    "scrolled": true
   },
   "outputs": [],
   "source": [
    "for address in ip_address:\n",
    "    print(address + ':')\n",
    "    !ssh {ssh_opts} {address} uname -a\n",
    "    print()"
   ]
  },
  {
   "cell_type": "code",
   "execution_count": null,
   "metadata": {
    "hidden": true,
    "lc_cell_meme": {
     "current": "b13aa48c-e54b-11ec-8d3a-02420a010016-2-0a1d-213e",
     "next": "b13aa52c-e54b-11ec-8d3a-02420a010016-2-0023-f028",
     "previous": "b13aa3f6-e54b-11ec-8d3a-02420a010016-2-0acd-add1"
    },
    "lc_wrapper": {}
   },
   "outputs": [],
   "source": [
    "for address in ip_address:\n",
    "    print(address + ':')\n",
    "    !ssh {ssh_opts} {address} cat /proc/cpuinfo | grep 'model name'\n",
    "    print()"
   ]
  },
  {
   "cell_type": "code",
   "execution_count": null,
   "metadata": {
    "hidden": true,
    "lc_cell_meme": {
     "current": "b13aa52c-e54b-11ec-8d3a-02420a010016-2-0023-f028",
     "next": "b13aa5cc-e54b-11ec-8d3a-02420a010016-2-95b1-82a4",
     "previous": "b13aa48c-e54b-11ec-8d3a-02420a010016-2-0a1d-213e"
    },
    "lc_wrapper": {}
   },
   "outputs": [],
   "source": [
    "for address in ip_address:\n",
    "    print(address + ':')\n",
    "    !ssh {ssh_opts} {address} free\n",
    "    print()"
   ]
  },
  {
   "cell_type": "code",
   "execution_count": null,
   "metadata": {
    "hidden": true,
    "lc_cell_meme": {
     "current": "b13aa5cc-e54b-11ec-8d3a-02420a010016-2-95b1-82a4",
     "next": "b13aa658-e54b-11ec-8d3a-02420a010016-2-a800-136f",
     "previous": "b13aa52c-e54b-11ec-8d3a-02420a010016-2-0023-f028"
    },
    "lc_wrapper": {}
   },
   "outputs": [],
   "source": [
    "for address in ip_address:\n",
    "    print(address + ':')\n",
    "    !ssh {ssh_opts} {address} df -h\n",
    "    print()"
   ]
  },
  {
   "cell_type": "markdown",
   "metadata": {
    "hidden": true,
    "lc_cell_meme": {
     "current": "b13aa658-e54b-11ec-8d3a-02420a010016-2-a800-136f",
     "next": "b13aa6f8-e54b-11ec-8d3a-02420a010016-2-5de9-58a5",
     "previous": "b13aa5cc-e54b-11ec-8d3a-02420a010016-2-95b1-82a4"
    }
   },
   "source": [
    "先程と同様に、負荷をかけるためにそれぞれのVCノードでアプリケーションコンテナによる stress コマンドの実行を行います。"
   ]
  },
  {
   "cell_type": "code",
   "execution_count": null,
   "metadata": {
    "hidden": true,
    "lc_cell_meme": {
     "current": "b13aa6f8-e54b-11ec-8d3a-02420a010016-2-5de9-58a5",
     "next": "b13aa798-e54b-11ec-8d3a-02420a010016-2-d21e-c00d",
     "previous": "b13aa658-e54b-11ec-8d3a-02420a010016-2-a800-136f"
    },
    "lc_wrapper": {}
   },
   "outputs": [],
   "source": [
    "for idx, address in enumerate(ip_address):\n",
    "    # 60秒間だけ CPU x 2 とメモリ 128 MB を消費する\n",
    "    !ssh {ssh_opts} {address} \\\n",
    "        /usr/local/bin/docker run -td --rm --name stress-{idx} polinux/stress \\\n",
    "        stress --cpu 2 --io 1 --vm 2 --vm-bytes 128M --timeout 60s --verbose"
   ]
  },
  {
   "cell_type": "markdown",
   "metadata": {
    "hidden": true,
    "lc_cell_meme": {
     "current": "b13aa798-e54b-11ec-8d3a-02420a010016-2-d21e-c00d",
     "next": "b13aa82e-e54b-11ec-8d3a-02420a010016-2-71f5-a629",
     "previous": "b13aa6f8-e54b-11ec-8d3a-02420a010016-2-5de9-58a5"
    }
   },
   "source": [
    "[Grafana](/grafana/d/vcp/vcp-metrics?refresh=5s) で利用状況を確認してみます。"
   ]
  },
  {
   "cell_type": "markdown",
   "metadata": {
    "hidden": true,
    "lc_cell_meme": {
     "current": "b13aa82e-e54b-11ec-8d3a-02420a010016-2-71f5-a629",
     "next": "b13aa8ce-e54b-11ec-8d3a-02420a010016-2-271d-87ce",
     "previous": "b13aa798-e54b-11ec-8d3a-02420a010016-2-d21e-c00d"
    }
   },
   "source": [
    "## VCノードのスケールイン\n",
    "\n",
    "現在Unitには２つのVCノードがありますが、そのうちの一つを削除してみます。"
   ]
  },
  {
   "cell_type": "markdown",
   "metadata": {
    "hidden": true,
    "lc_cell_meme": {
     "current": "b13aa8ce-e54b-11ec-8d3a-02420a010016-2-271d-87ce",
     "next": "b13aa96e-e54b-11ec-8d3a-02420a010016-2-16d2-e25e",
     "previous": "b13aa82e-e54b-11ec-8d3a-02420a010016-2-71f5-a629"
    }
   },
   "source": [
    "まず、現在のVCノードの状況を確認しておきます。"
   ]
  },
  {
   "cell_type": "code",
   "execution_count": null,
   "metadata": {
    "hidden": true,
    "lc_cell_meme": {
     "current": "b13aa96e-e54b-11ec-8d3a-02420a010016-2-16d2-e25e",
     "next": "b13aaa0e-e54b-11ec-8d3a-02420a010016-2-af3d-98c4",
     "previous": "b13aa8ce-e54b-11ec-8d3a-02420a010016-2-271d-87ce"
    },
    "lc_wrapper": {},
    "scrolled": true
   },
   "outputs": [],
   "source": [
    "# VCノードの一覧を DataFrame で表示する\n",
    "unit.df_nodes()"
   ]
  },
  {
   "cell_type": "markdown",
   "metadata": {
    "hidden": true,
    "lc_cell_meme": {
     "current": "b13aaa0e-e54b-11ec-8d3a-02420a010016-2-af3d-98c4",
     "next": "b13aaaa4-e54b-11ec-8d3a-02420a010016-2-f0b7-c54f",
     "previous": "b13aa96e-e54b-11ec-8d3a-02420a010016-2-16d2-e25e"
    }
   },
   "source": [
    "Unit から VCノードを削除するにはオブジェクト`unit`に対して `delete_nodes()` を呼び出します。\n",
    "\n",
    "複数の VCノード のうちどのVCノード を削除するかを引数で指定することができます。ここでは`ip_address`パラメータを指定してVCノードに割り当てられている IPアドレスで VCノードを特定します。\n",
    "\n",
    "> VCノードを特定するパラメータが指定されなかった場合は削除対象となる VCノードは VCP SDK によって自動的に選択されます。\n",
    "\n",
    "VCノードを特定するための他のパラメータに指定方法については次のセルを実行すると表示される情報で確認してください。"
   ]
  },
  {
   "cell_type": "code",
   "execution_count": null,
   "metadata": {
    "hidden": true,
    "lc_cell_meme": {
     "current": "b13aaaa4-e54b-11ec-8d3a-02420a010016-2-f0b7-c54f",
     "next": "b13aab44-e54b-11ec-8d3a-02420a010016-2-eca1-64a4",
     "previous": "b13aaa0e-e54b-11ec-8d3a-02420a010016-2-af3d-98c4"
    },
    "lc_wrapper": {}
   },
   "outputs": [],
   "source": [
    "?unit.delete_nodes"
   ]
  },
  {
   "cell_type": "markdown",
   "metadata": {
    "hidden": true,
    "lc_cell_meme": {
     "current": "b13aab44-e54b-11ec-8d3a-02420a010016-2-eca1-64a4",
     "next": "b13aabe4-e54b-11ec-8d3a-02420a010016-2-d374-b90a",
     "previous": "b13aaaa4-e54b-11ec-8d3a-02420a010016-2-f0b7-c54f"
    }
   },
   "source": [
    "では実際にVCノードを削除します。まず削除対象とするVCノードのIPアドレスを確認します。スケールアウトの節で追加したVCノードのIPアドレスを指定することにします。"
   ]
  },
  {
   "cell_type": "code",
   "execution_count": null,
   "metadata": {
    "hidden": true,
    "lc_cell_meme": {
     "current": "b13aabe4-e54b-11ec-8d3a-02420a010016-2-d374-b90a",
     "next": "b13aac7a-e54b-11ec-8d3a-02420a010016-2-509a-4873",
     "previous": "b13aab44-e54b-11ec-8d3a-02420a010016-2-eca1-64a4"
    },
    "lc_wrapper": {}
   },
   "outputs": [],
   "source": [
    "# 削除対象とするVCノードの IPアドレスを表示 \n",
    "print(ip_address[-1])                         # 後から追加した VCノード を削除対象とする"
   ]
  },
  {
   "cell_type": "markdown",
   "metadata": {
    "hidden": true,
    "lc_cell_meme": {
     "current": "b13aac7a-e54b-11ec-8d3a-02420a010016-2-509a-4873",
     "next": "b13aad1a-e54b-11ec-8d3a-02420a010016-2-c662-44a7",
     "previous": "b13aabe4-e54b-11ec-8d3a-02420a010016-2-d374-b90a"
    }
   },
   "source": [
    "次のセルを実行するとUnit からVCノードが削除され、対応するAWS EC2インスタンスも削除されます。\n",
    "\n",
    "> VCノード の削除には 1分～2分程度かかります。"
   ]
  },
  {
   "cell_type": "code",
   "execution_count": null,
   "metadata": {
    "hidden": true,
    "lc_cell_meme": {
     "current": "b13aad1a-e54b-11ec-8d3a-02420a010016-2-c662-44a7",
     "next": "b13aadc4-e54b-11ec-8d3a-02420a010016-2-46ea-262b",
     "previous": "b13aac7a-e54b-11ec-8d3a-02420a010016-2-509a-4873"
    },
    "lc_wrapper": {},
    "scrolled": true
   },
   "outputs": [],
   "source": [
    "# VCノードの削除\n",
    "unit.delete_nodes(\n",
    "    ip_address=ip_address[-1]     # IPアドレスで削除対象を指定する\n",
    ")"
   ]
  },
  {
   "cell_type": "markdown",
   "metadata": {
    "hidden": true,
    "lc_cell_meme": {
     "current": "b13aadc4-e54b-11ec-8d3a-02420a010016-2-46ea-262b",
     "next": "b13aae64-e54b-11ec-8d3a-02420a010016-2-923b-67f9",
     "previous": "b13aad1a-e54b-11ec-8d3a-02420a010016-2-c662-44a7"
    }
   },
   "source": [
    "Unit内のVCノードの一覧を確認してみます。VCノードが減っていることが確認できるはずです。"
   ]
  },
  {
   "cell_type": "code",
   "execution_count": null,
   "metadata": {
    "hidden": true,
    "lc_cell_meme": {
     "current": "b13aae64-e54b-11ec-8d3a-02420a010016-2-923b-67f9",
     "next": "b13aaf04-e54b-11ec-8d3a-02420a010016-2-81fb-fe4b",
     "previous": "b13aadc4-e54b-11ec-8d3a-02420a010016-2-46ea-262b"
    },
    "lc_wrapper": {},
    "scrolled": false
   },
   "outputs": [],
   "source": [
    "unit.df_nodes()"
   ]
  },
  {
   "cell_type": "markdown",
   "metadata": {
    "hidden": true,
    "lc_cell_meme": {
     "current": "b13aaf04-e54b-11ec-8d3a-02420a010016-2-81fb-fe4b",
     "next": "b13aaf90-e54b-11ec-8d3a-02420a010016-2-5a75-4c57",
     "previous": "b13aae64-e54b-11ec-8d3a-02420a010016-2-923b-67f9"
    }
   },
   "source": [
    "先ほど取得した２つのVCノードのIPアドレスに対して `ping` を行ってみます。\n",
    "削除されている VCノード に対する `ping` が失敗するので、次のセルは必ずエラーになるはずです。"
   ]
  },
  {
   "cell_type": "code",
   "execution_count": null,
   "metadata": {
    "hidden": true,
    "lc_cell_meme": {
     "current": "b13aaf90-e54b-11ec-8d3a-02420a010016-2-5a75-4c57",
     "next": "b13ab03a-e54b-11ec-8d3a-02420a010016-2-b46b-2a66",
     "previous": "b13aaf04-e54b-11ec-8d3a-02420a010016-2-81fb-fe4b"
    },
    "lc_wrapper": {}
   },
   "outputs": [],
   "source": [
    "for address in ip_address:\n",
    "    !ping -c 5 {address}"
   ]
  },
  {
   "cell_type": "markdown",
   "metadata": {
    "heading_collapsed": true,
    "lc_cell_meme": {
     "current": "b13ab03a-e54b-11ec-8d3a-02420a010016-2-b46b-2a66",
     "next": "b13ab0c6-e54b-11ec-8d3a-02420a010016-2-6adb-343d",
     "previous": "b13aaf90-e54b-11ec-8d3a-02420a010016-2-5a75-4c57"
    }
   },
   "source": [
    "# 別のクラウドでVCノードを起動する\n",
    "\n",
    "![azure](images/101-005.png)"
   ]
  },
  {
   "cell_type": "markdown",
   "metadata": {
    "hidden": true,
    "lc_cell_meme": {
     "current": "b13ab0c6-e54b-11ec-8d3a-02420a010016-2-6adb-343d",
     "next": "b13ab15c-e54b-11ec-8d3a-02420a010016-2-21ad-4242",
     "previous": "b13ab03a-e54b-11ec-8d3a-02420a010016-2-b46b-2a66"
    }
   },
   "source": [
    "## Unit の追加"
   ]
  },
  {
   "cell_type": "markdown",
   "metadata": {
    "hidden": true,
    "lc_cell_meme": {
     "current": "b13ab15c-e54b-11ec-8d3a-02420a010016-2-21ad-4242",
     "next": "b13ab1f2-e54b-11ec-8d3a-02420a010016-2-8f27-857b",
     "previous": "b13ab0c6-e54b-11ec-8d3a-02420a010016-2-6adb-343d"
    }
   },
   "source": [
    "先程とは異なる構成のVCノードを追加するので、新たな Unit を作成します。"
   ]
  },
  {
   "cell_type": "markdown",
   "metadata": {
    "hidden": true,
    "lc_cell_meme": {
     "current": "b13ab1f2-e54b-11ec-8d3a-02420a010016-2-8f27-857b",
     "next": "b13ab29c-e54b-11ec-8d3a-02420a010016-2-1e54-722f",
     "previous": "b13ab15c-e54b-11ec-8d3a-02420a010016-2-21ad-4242"
    }
   },
   "source": [
    "### VCノードのspecを指定する"
   ]
  },
  {
   "cell_type": "markdown",
   "metadata": {
    "hidden": true,
    "lc_cell_meme": {
     "current": "b13ab29c-e54b-11ec-8d3a-02420a010016-2-1e54-722f",
     "next": "b13ab332-e54b-11ec-8d3a-02420a010016-2-5aa2-f197",
     "previous": "b13ab1f2-e54b-11ec-8d3a-02420a010016-2-8f27-857b"
    }
   },
   "source": [
    "AWSの場合と同様 `spec` オブジェクトを作成します。\n",
    "\n",
    "AWSの場合からの変更点は、specの作成等で指定するプロバイダ名を、使用するプロバイダのものに変更するだけです。\n",
    "ここでの具体的な変更箇所は次の2つのAPIの引数になります。\n",
    "\n",
    "- `VCPSDK::df_flavors()`\n",
    "- `VCPSDK::get_spec()`\n",
    "\n",
    "VCP SDKで現在使用可能なクラウドプロバイダと、それを使用する際の引数に指定するプロバイダ名の値は以下のとおりです。\n",
    "\n",
    "|  クラウドプロバイダ  |  プロバイダ名  |\n",
    "| :---- | :---- |\n",
    "|  Amazon EC2  |  `aws`  |\n",
    "|  Microsoft Azure  |  `azure`  |\n",
    "|  Oracle Cloud Infrastructure  |  `oracle`  |\n",
    "|  さくらのクラウド  |  `sakura` |\n",
    "|  VMware vSphere  |  `vmware`  |\n",
    "\n",
    "ここでは、Microsoft Azure でVCノードを作成します。\n",
    "下記の `'azure'` を指定した箇所を変更することで、他のプロバイダでも同様の操作をすることができます。"
   ]
  },
  {
   "cell_type": "markdown",
   "metadata": {
    "hidden": true,
    "lc_cell_meme": {
     "current": "b13ab332-e54b-11ec-8d3a-02420a010016-2-5aa2-f197",
     "next": "b13ab3d2-e54b-11ec-8d3a-02420a010016-2-cefc-4bfa",
     "previous": "b13ab29c-e54b-11ec-8d3a-02420a010016-2-1e54-722f"
    }
   },
   "source": [
    "まず最初に、Microsoft Azure 用に定義している `flavor` の内容を確認します。"
   ]
  },
  {
   "cell_type": "code",
   "execution_count": null,
   "metadata": {
    "hidden": true,
    "lc_cell_meme": {
     "current": "b13ab3d2-e54b-11ec-8d3a-02420a010016-2-cefc-4bfa",
     "next": "b13ab472-e54b-11ec-8d3a-02420a010016-2-f4c2-06fe",
     "previous": "b13ab332-e54b-11ec-8d3a-02420a010016-2-5aa2-f197"
    },
    "lc_wrapper": {}
   },
   "outputs": [],
   "source": [
    "vcp.df_flavors('azure')"
   ]
  },
  {
   "cell_type": "markdown",
   "metadata": {
    "hidden": true,
    "lc_cell_meme": {
     "current": "b13ab472-e54b-11ec-8d3a-02420a010016-2-f4c2-06fe",
     "next": "b13ab4fe-e54b-11ec-8d3a-02420a010016-2-f0e2-5aff",
     "previous": "b13ab3d2-e54b-11ec-8d3a-02420a010016-2-cefc-4bfa"
    }
   },
   "source": [
    "続いて、以下のパラメータを指定して `spec`オブジェクトを作成します。\n",
    "* プロバイダ: `azure`\n",
    "* flavor: `medium`"
   ]
  },
  {
   "cell_type": "code",
   "execution_count": null,
   "metadata": {
    "hidden": true,
    "lc_cell_meme": {
     "current": "b13ab4fe-e54b-11ec-8d3a-02420a010016-2-f0e2-5aff",
     "next": "b13ab59e-e54b-11ec-8d3a-02420a010016-2-704a-d976",
     "previous": "b13ab472-e54b-11ec-8d3a-02420a010016-2-f4c2-06fe"
    },
    "lc_wrapper": {}
   },
   "outputs": [],
   "source": [
    "spec_azure = vcp.get_spec('azure', 'medium')"
   ]
  },
  {
   "cell_type": "markdown",
   "metadata": {
    "hidden": true,
    "lc_cell_meme": {
     "current": "b13ab59e-e54b-11ec-8d3a-02420a010016-2-704a-d976",
     "next": "b13ab634-e54b-11ec-8d3a-02420a010016-2-1bf6-59ec",
     "previous": "b13ab4fe-e54b-11ec-8d3a-02420a010016-2-f0e2-5aff"
    }
   },
   "source": [
    "作成した`spec_azure`の設定内容を確認してみます。"
   ]
  },
  {
   "cell_type": "code",
   "execution_count": null,
   "metadata": {
    "hidden": true,
    "lc_cell_meme": {
     "current": "b13ab634-e54b-11ec-8d3a-02420a010016-2-1bf6-59ec",
     "next": "b13ab6ca-e54b-11ec-8d3a-02420a010016-2-2d1c-7373",
     "previous": "b13ab59e-e54b-11ec-8d3a-02420a010016-2-704a-d976"
    },
    "lc_wrapper": {},
    "scrolled": false
   },
   "outputs": [],
   "source": [
    "print(spec_azure)"
   ]
  },
  {
   "cell_type": "markdown",
   "metadata": {
    "hidden": true,
    "lc_cell_meme": {
     "current": "b13ab6ca-e54b-11ec-8d3a-02420a010016-2-2d1c-7373",
     "next": "b13ab76a-e54b-11ec-8d3a-02420a010016-2-d5fb-d1d0",
     "previous": "b13ab634-e54b-11ec-8d3a-02420a010016-2-1bf6-59ec"
    }
   },
   "source": [
    "指定した `flavor`に対応する `vm_size`, `disk_size_gb` などが設定されていることが確認できます。"
   ]
  },
  {
   "cell_type": "markdown",
   "metadata": {
    "hidden": true,
    "lc_cell_meme": {
     "current": "b13ab76a-e54b-11ec-8d3a-02420a010016-2-d5fb-d1d0",
     "next": "b13ab7f6-e54b-11ec-8d3a-02420a010016-2-3a7d-7d42",
     "previous": "b13ab6ca-e54b-11ec-8d3a-02420a010016-2-2d1c-7373"
    }
   },
   "source": [
    "### sshの公開鍵設定"
   ]
  },
  {
   "cell_type": "markdown",
   "metadata": {
    "hidden": true,
    "lc_cell_meme": {
     "current": "b13ab7f6-e54b-11ec-8d3a-02420a010016-2-3a7d-7d42",
     "next": "b13ab882-e54b-11ec-8d3a-02420a010016-2-d75f-83d6",
     "previous": "b13ab76a-e54b-11ec-8d3a-02420a010016-2-d5fb-d1d0"
    }
   },
   "source": [
    "VCノードに登録するsshの公開鍵を `spec_azure`に設定します。先ほど aws 向けの`spec`に設定したのと同じ値を指定しています。"
   ]
  },
  {
   "cell_type": "code",
   "execution_count": null,
   "metadata": {
    "hidden": true,
    "lc_cell_meme": {
     "current": "b13ab882-e54b-11ec-8d3a-02420a010016-2-d75f-83d6",
     "next": "b13ab92c-e54b-11ec-8d3a-02420a010016-2-64cd-f8a8",
     "previous": "b13ab7f6-e54b-11ec-8d3a-02420a010016-2-3a7d-7d42"
    },
    "lc_wrapper": {}
   },
   "outputs": [],
   "source": [
    "spec_azure.set_ssh_pubkey(ssh_public_key)"
   ]
  },
  {
   "cell_type": "markdown",
   "metadata": {
    "hidden": true,
    "lc_cell_meme": {
     "current": "b13ab92c-e54b-11ec-8d3a-02420a010016-2-64cd-f8a8",
     "next": "b13ab9cc-e54b-11ec-8d3a-02420a010016-2-270a-9af6",
     "previous": "b13ab882-e54b-11ec-8d3a-02420a010016-2-d75f-83d6"
    }
   },
   "source": [
    "### specの設定内容を確認する\n",
    "\n",
    "`spec_azure`の設定内容を確認してみます。"
   ]
  },
  {
   "cell_type": "code",
   "execution_count": null,
   "metadata": {
    "hidden": true,
    "lc_cell_meme": {
     "current": "b13ab9cc-e54b-11ec-8d3a-02420a010016-2-270a-9af6",
     "next": "b13aba58-e54b-11ec-8d3a-02420a010016-2-c486-a654",
     "previous": "b13ab92c-e54b-11ec-8d3a-02420a010016-2-64cd-f8a8"
    },
    "lc_wrapper": {},
    "scrolled": false
   },
   "outputs": [],
   "source": [
    "print(spec_azure)"
   ]
  },
  {
   "cell_type": "markdown",
   "metadata": {
    "hidden": true,
    "lc_cell_meme": {
     "current": "b13aba58-e54b-11ec-8d3a-02420a010016-2-c486-a654",
     "next": "b13abaee-e54b-11ec-8d3a-02420a010016-2-22a7-b865",
     "previous": "b13ab9cc-e54b-11ec-8d3a-02420a010016-2-270a-9af6"
    }
   },
   "source": [
    "aws向けに最初に作成した `spec`オブジェクトと`spec_azure`との差分を確認してみます。\n",
    "\n",
    "> `spec`オブジェクトの内部では aws は `instance_type`、azure は`vm_size` などそれぞれのクラウドプロバイダに応じたパラメータが設定されていることが確認できます。"
   ]
  },
  {
   "cell_type": "code",
   "execution_count": null,
   "metadata": {
    "hidden": true,
    "lc_cell_meme": {
     "current": "b13abaee-e54b-11ec-8d3a-02420a010016-2-22a7-b865",
     "next": "b13abb84-e54b-11ec-8d3a-02420a010016-2-6bb3-241f",
     "previous": "b13aba58-e54b-11ec-8d3a-02420a010016-2-c486-a654"
    },
    "lc_wrapper": {},
    "scrolled": true
   },
   "outputs": [],
   "source": [
    "from difflib import unified_diff\n",
    "import sys\n",
    "\n",
    "sys.stdout.writelines(unified_diff(\n",
    "    str(spec).splitlines(True),\n",
    "    str(spec_azure).splitlines(True),\n",
    "    fromfile='aws',\n",
    "    tofile='azure',\n",
    "))"
   ]
  },
  {
   "cell_type": "markdown",
   "metadata": {
    "hidden": true,
    "lc_cell_meme": {
     "current": "b13abb84-e54b-11ec-8d3a-02420a010016-2-6bb3-241f",
     "next": "b13abc1a-e54b-11ec-8d3a-02420a010016-2-e634-b1f3",
     "previous": "b13abaee-e54b-11ec-8d3a-02420a010016-2-22a7-b865"
    }
   },
   "source": [
    "### Unitの作成とVCノードの起動"
   ]
  },
  {
   "cell_type": "markdown",
   "metadata": {
    "hidden": true,
    "lc_cell_meme": {
     "current": "b13abc1a-e54b-11ec-8d3a-02420a010016-2-e634-b1f3",
     "next": "b13abcb0-e54b-11ec-8d3a-02420a010016-2-a7bc-8864",
     "previous": "b13abb84-e54b-11ec-8d3a-02420a010016-2-6bb3-241f"
    }
   },
   "source": [
    "まず作成前のUnitGroup状態を確認しておきます。"
   ]
  },
  {
   "cell_type": "code",
   "execution_count": null,
   "metadata": {
    "hidden": true,
    "lc_cell_meme": {
     "current": "b13abcb0-e54b-11ec-8d3a-02420a010016-2-a7bc-8864",
     "next": "b13abd5a-e54b-11ec-8d3a-02420a010016-2-e4fb-c13b",
     "previous": "b13abc1a-e54b-11ec-8d3a-02420a010016-2-e634-b1f3"
    },
    "lc_wrapper": {}
   },
   "outputs": [],
   "source": [
    "from IPython.display import display\n",
    "\n",
    "# Unitの一覧を DataFrame で表示する\n",
    "display(unit_group.df_units())\n",
    "\n",
    "# VCノードの一覧を DataFrame で表示する\n",
    "display(unit_group.df_nodes())"
   ]
  },
  {
   "cell_type": "markdown",
   "metadata": {
    "hidden": true,
    "lc_cell_meme": {
     "current": "b13abd5a-e54b-11ec-8d3a-02420a010016-2-e4fb-c13b",
     "next": "b13abde6-e54b-11ec-8d3a-02420a010016-2-ea34-f0d3",
     "previous": "b13abcb0-e54b-11ec-8d3a-02420a010016-2-a7bc-8864"
    }
   },
   "source": [
    "Unitを作成します。\n",
    "\n",
    "> 処理が完了するまでには 2～5分程度かかります。"
   ]
  },
  {
   "cell_type": "code",
   "execution_count": null,
   "metadata": {
    "hidden": true,
    "lc_cell_meme": {
     "current": "b13abde6-e54b-11ec-8d3a-02420a010016-2-ea34-f0d3",
     "next": "b13abe72-e54b-11ec-8d3a-02420a010016-2-1a14-ddf9",
     "previous": "b13abd5a-e54b-11ec-8d3a-02420a010016-2-e4fb-c13b"
    },
    "lc_wrapper": {},
    "scrolled": true
   },
   "outputs": [],
   "source": [
    "# Unitの作成（同時に VCノードが作成される）\n",
    "unit2 = unit_group.create_unit(\n",
    "            'azure-server',    # Unit 名\n",
    "            spec_azure         # spec オブジェクト\n",
    "        )"
   ]
  },
  {
   "cell_type": "markdown",
   "metadata": {
    "hidden": true,
    "lc_cell_meme": {
     "current": "b13abe72-e54b-11ec-8d3a-02420a010016-2-1a14-ddf9",
     "next": "b13abf1c-e54b-11ec-8d3a-02420a010016-2-4f88-a708",
     "previous": "b13abde6-e54b-11ec-8d3a-02420a010016-2-ea34-f0d3"
    }
   },
   "source": [
    "Unit作成後の状態を確認します。Unit とVCノードがそれぞれ２つあることが確認できるはずです。VCノード一覧ではそれぞれのVCノードの unit_name が異なることが確認できるはずです。またawsとazureのVCノードには**異なるサブネット**のIPアドレスが割り当てられていることが確認できます。"
   ]
  },
  {
   "cell_type": "code",
   "execution_count": null,
   "metadata": {
    "hidden": true,
    "lc_cell_meme": {
     "current": "b13abf1c-e54b-11ec-8d3a-02420a010016-2-4f88-a708",
     "next": "b13abfb2-e54b-11ec-8d3a-02420a010016-2-dc81-bb3f",
     "previous": "b13abe72-e54b-11ec-8d3a-02420a010016-2-1a14-ddf9"
    },
    "lc_wrapper": {}
   },
   "outputs": [],
   "source": [
    "# Unitの一覧を DataFrame で表示する\n",
    "display(unit_group.df_units())\n",
    "\n",
    "# VCノードの一覧を DataFrame で表示する\n",
    "display(unit_group.df_nodes())"
   ]
  },
  {
   "cell_type": "markdown",
   "metadata": {
    "hidden": true,
    "lc_cell_meme": {
     "current": "b13abfb2-e54b-11ec-8d3a-02420a010016-2-dc81-bb3f",
     "next": "b13ac048-e54b-11ec-8d3a-02420a010016-2-69b5-8860",
     "previous": "b13abf1c-e54b-11ec-8d3a-02420a010016-2-4f88-a708"
    }
   },
   "source": [
    "VCノードを追加したので ~/.ssh/known_hosts を更新します。"
   ]
  },
  {
   "cell_type": "code",
   "execution_count": null,
   "metadata": {
    "hidden": true,
    "lc_cell_meme": {
     "current": "b13ac048-e54b-11ec-8d3a-02420a010016-2-69b5-8860",
     "next": "b13ac0e8-e54b-11ec-8d3a-02420a010016-2-59de-03c1",
     "previous": "b13abfb2-e54b-11ec-8d3a-02420a010016-2-dc81-bb3f"
    },
    "lc_wrapper": {}
   },
   "outputs": [],
   "source": [
    "for addr in unit_group.find_ip_addresses(node_state='RUNNING'):\n",
    "    !ssh-keygen -R {addr}\n",
    "    !ssh-keyscan -H {addr} >> ~/.ssh/known_hosts"
   ]
  },
  {
   "cell_type": "markdown",
   "metadata": {
    "hidden": true,
    "lc_cell_meme": {
     "current": "b13ac0e8-e54b-11ec-8d3a-02420a010016-2-59de-03c1",
     "next": "b13ac192-e54b-11ec-8d3a-02420a010016-2-3f2e-660b",
     "previous": "b13ac048-e54b-11ec-8d3a-02420a010016-2-69b5-8860"
    }
   },
   "source": [
    "### 疎通確認\n",
    "\n",
    "VCノードに対して`ping` を実行してみます。\n",
    "\n",
    "![](./images/101-007.png)"
   ]
  },
  {
   "cell_type": "code",
   "execution_count": null,
   "metadata": {
    "hidden": true,
    "lc_cell_meme": {
     "current": "b13ac192-e54b-11ec-8d3a-02420a010016-2-3f2e-660b",
     "next": "b13ac228-e54b-11ec-8d3a-02420a010016-2-9b5d-82d2",
     "previous": "b13ac0e8-e54b-11ec-8d3a-02420a010016-2-59de-03c1"
    },
    "lc_wrapper": {}
   },
   "outputs": [],
   "source": [
    "# UnitGroup内にあるVCノードのIPアドレスリストを取得する\n",
    "ip_address = unit_group.find_ip_addresses(node_state='RUNNING')\n",
    "\n",
    "# それぞれのVCノードに対してpingを実行する\n",
    "# NIIのハンズオン環境ではネットワーク構成の事情により本NotebookからVCノードへのping実行はできません。\n",
    "# for address in ip_address:\n",
    "#     !ping -c 5 {address}\n",
    "#     print()"
   ]
  },
  {
   "cell_type": "markdown",
   "metadata": {
    "hidden": true,
    "lc_cell_meme": {
     "current": "b13ac228-e54b-11ec-8d3a-02420a010016-2-9b5d-82d2",
     "execution_end_time": "2021-04-08T03:43:58.664297Z",
     "next": "b13ac2be-e54b-11ec-8d3a-02420a010016-2-7757-7041",
     "previous": "b13ac192-e54b-11ec-8d3a-02420a010016-2-3f2e-660b"
    },
    "lc_wrapper": {}
   },
   "source": [
    "VCPでは複数の異なるクラウドを仮想的に一つの計算基盤（仮想クラウド）のように扱える機能を提供しています。そのため異なるクラウド(aws, azure)で起動したVCノードであっても、追加の設定なしに互いに通信することができます。そのことを確認するために、作成した２つの VCノード の一方から他方に対して `ping` を行ってみます。"
   ]
  },
  {
   "cell_type": "code",
   "execution_count": null,
   "metadata": {
    "hidden": true,
    "lc_cell_meme": {
     "current": "b13ac2be-e54b-11ec-8d3a-02420a010016-2-7757-7041",
     "next": "b13ac368-e54b-11ec-8d3a-02420a010016-2-0f73-3d81",
     "previous": "b13ac228-e54b-11ec-8d3a-02420a010016-2-9b5d-82d2"
    },
    "lc_wrapper": {}
   },
   "outputs": [],
   "source": [
    "# pingを実行するVCノードのIPアドレスを表示する\n",
    "print(ip_address[0])\n",
    "print()\n",
    "\n",
    "!ssh {ssh_opts} {ip_address[0]} \\\n",
    "    ping -c 10 {ip_address[1]}"
   ]
  },
  {
   "cell_type": "markdown",
   "metadata": {
    "hidden": true,
    "lc_cell_meme": {
     "current": "b13ac368-e54b-11ec-8d3a-02420a010016-2-0f73-3d81",
     "next": "b13ac3fe-e54b-11ec-8d3a-02420a010016-2-dd10-a70f",
     "previous": "b13ac2be-e54b-11ec-8d3a-02420a010016-2-7757-7041"
    }
   },
   "source": [
    "逆方向で同様のことを行ってみます。"
   ]
  },
  {
   "cell_type": "code",
   "execution_count": null,
   "metadata": {
    "hidden": true,
    "lc_cell_meme": {
     "current": "b13ac3fe-e54b-11ec-8d3a-02420a010016-2-dd10-a70f",
     "next": "b13ac49e-e54b-11ec-8d3a-02420a010016-2-f3be-7f31",
     "previous": "b13ac368-e54b-11ec-8d3a-02420a010016-2-0f73-3d81"
    },
    "lc_wrapper": {}
   },
   "outputs": [],
   "source": [
    "# pingを実行するVCノードのIPアドレスを表示する\n",
    "print(ip_address[1])\n",
    "print()\n",
    "\n",
    "!ssh {ssh_opts} {ip_address[1]} \\\n",
    "    ping -c 10 {ip_address[0]}"
   ]
  },
  {
   "cell_type": "markdown",
   "metadata": {
    "hidden": true,
    "lc_cell_meme": {
     "current": "b13ac49e-e54b-11ec-8d3a-02420a010016-2-f3be-7f31",
     "next": "b13ac53e-e54b-11ec-8d3a-02420a010016-2-cb43-2a81",
     "previous": "b13ac3fe-e54b-11ec-8d3a-02420a010016-2-dd10-a70f"
    }
   },
   "source": [
    "## VCノードに ssh でログインして操作する\n",
    "\n",
    "![](./images/101-008.png)"
   ]
  },
  {
   "cell_type": "markdown",
   "metadata": {
    "hidden": true,
    "lc_cell_meme": {
     "current": "b13ac53e-e54b-11ec-8d3a-02420a010016-2-cb43-2a81",
     "next": "b13ac5d4-e54b-11ec-8d3a-02420a010016-2-3bec-44fe",
     "previous": "b13ac49e-e54b-11ec-8d3a-02420a010016-2-f3be-7f31"
    }
   },
   "source": [
    "Azureに追加で起動した VCノード は aws とは異なる構成(cpu, memory, disk)になってるはずです。そのことを確認するために、sshでログインして以下のコマンドを実行してみます。\n",
    "\n",
    "* カーネルバージョン\n",
    "  - uname -a\n",
    "* CPU\n",
    "  - cat /proc/cpuinfo\n",
    "* メモリ量\n",
    "  - free\n",
    "* ディスク容量\n",
    "  - df -h"
   ]
  },
  {
   "cell_type": "code",
   "execution_count": null,
   "metadata": {
    "hidden": true,
    "lc_cell_meme": {
     "current": "b13ac5d4-e54b-11ec-8d3a-02420a010016-2-3bec-44fe",
     "next": "b13ac67e-e54b-11ec-8d3a-02420a010016-2-5ba2-5c82",
     "previous": "b13ac53e-e54b-11ec-8d3a-02420a010016-2-cb43-2a81"
    },
    "lc_wrapper": {}
   },
   "outputs": [],
   "source": [
    "for address in ip_address:\n",
    "    print(address + ':')\n",
    "    !ssh {ssh_opts} {address} uname -a\n",
    "    print()"
   ]
  },
  {
   "cell_type": "code",
   "execution_count": null,
   "metadata": {
    "hidden": true,
    "lc_cell_meme": {
     "current": "b13ac67e-e54b-11ec-8d3a-02420a010016-2-5ba2-5c82",
     "next": "b13ac73c-e54b-11ec-8d3a-02420a010016-2-322f-ad5c",
     "previous": "b13ac5d4-e54b-11ec-8d3a-02420a010016-2-3bec-44fe"
    },
    "lc_wrapper": {}
   },
   "outputs": [],
   "source": [
    "for address in ip_address:\n",
    "    print(address + ':')\n",
    "    !ssh {ssh_opts} {address} cat /proc/cpuinfo | grep 'model name'\n",
    "    print()"
   ]
  },
  {
   "cell_type": "code",
   "execution_count": null,
   "metadata": {
    "hidden": true,
    "lc_cell_meme": {
     "current": "b13ac73c-e54b-11ec-8d3a-02420a010016-2-322f-ad5c",
     "next": "b13ac7dc-e54b-11ec-8d3a-02420a010016-2-42a6-8729",
     "previous": "b13ac67e-e54b-11ec-8d3a-02420a010016-2-5ba2-5c82"
    },
    "lc_wrapper": {}
   },
   "outputs": [],
   "source": [
    "for address in ip_address:\n",
    "    print(address + ':')\n",
    "    !ssh {ssh_opts} {address} free\n",
    "    print()"
   ]
  },
  {
   "cell_type": "code",
   "execution_count": null,
   "metadata": {
    "hidden": true,
    "lc_cell_meme": {
     "current": "b13ac7dc-e54b-11ec-8d3a-02420a010016-2-42a6-8729",
     "next": "b13ac872-e54b-11ec-8d3a-02420a010016-2-f87d-4976",
     "previous": "b13ac73c-e54b-11ec-8d3a-02420a010016-2-322f-ad5c"
    },
    "lc_wrapper": {},
    "scrolled": true
   },
   "outputs": [],
   "source": [
    "for address in ip_address:\n",
    "    print(address + ':')\n",
    "    !ssh {ssh_opts} {address} df -h\n",
    "    print()"
   ]
  },
  {
   "cell_type": "markdown",
   "metadata": {
    "hidden": true,
    "lc_cell_meme": {
     "current": "b13ac872-e54b-11ec-8d3a-02420a010016-2-f87d-4976",
     "next": "b13ac8fe-e54b-11ec-8d3a-02420a010016-2-7a0c-3fd7",
     "previous": "b13ac7dc-e54b-11ec-8d3a-02420a010016-2-42a6-8729"
    }
   },
   "source": [
    "最後に先程と同様に、負荷をかけるためにそれぞれのVCノードで stress コマンドを実行します。これまで同様 stressコマンドはアプリケーションコンテナとして実行します。"
   ]
  },
  {
   "cell_type": "code",
   "execution_count": null,
   "metadata": {
    "hidden": true,
    "lc_cell_meme": {
     "current": "b13ac8fe-e54b-11ec-8d3a-02420a010016-2-7a0c-3fd7",
     "next": "b13ac99e-e54b-11ec-8d3a-02420a010016-2-a697-fae4",
     "previous": "b13ac872-e54b-11ec-8d3a-02420a010016-2-f87d-4976"
    },
    "lc_wrapper": {},
    "scrolled": true
   },
   "outputs": [],
   "source": [
    "for unit in unit_group.find_units():\n",
    "    address = unit.find_ip_addresses(node_state='RUNNING')\n",
    "    # 60秒間だけ CPU x 2 とメモリ 128 MB を消費する\n",
    "    !ssh {ssh_opts} {address[0]} \\\n",
    "        /usr/local/bin/docker run -td --rm --name stress-{unit.name} polinux/stress \\\n",
    "        stress --cpu 2 --io 1 --vm 2 --vm-bytes 128M --timeout 60s --verbose"
   ]
  },
  {
   "cell_type": "markdown",
   "metadata": {
    "hidden": true,
    "lc_cell_meme": {
     "current": "b13ac99e-e54b-11ec-8d3a-02420a010016-2-a697-fae4",
     "next": "b13aca52-e54b-11ec-8d3a-02420a010016-2-da1d-f9e6",
     "previous": "b13ac8fe-e54b-11ec-8d3a-02420a010016-2-7a0c-3fd7"
    }
   },
   "source": [
    "Grafanaで利用状況を確認してみます。"
   ]
  },
  {
   "cell_type": "code",
   "execution_count": null,
   "metadata": {
    "hidden": true,
    "lc_cell_meme": {
     "current": "b13aca52-e54b-11ec-8d3a-02420a010016-2-da1d-f9e6",
     "next": "b13acbba-e54b-11ec-8d3a-02420a010016-2-1ba9-b7df",
     "previous": "b13ac99e-e54b-11ec-8d3a-02420a010016-2-a697-fae4"
    },
    "lc_wrapper": {}
   },
   "outputs": [],
   "source": [
    "print(grafana_url)"
   ]
  },
  {
   "cell_type": "markdown",
   "metadata": {
    "heading_collapsed": true,
    "lc_cell_meme": {
     "current": "b13acbba-e54b-11ec-8d3a-02420a010016-2-1ba9-b7df",
     "next": "b13acc5a-e54b-11ec-8d3a-02420a010016-2-e1de-f35e",
     "previous": "b13aca52-e54b-11ec-8d3a-02420a010016-2-da1d-f9e6"
    }
   },
   "source": [
    "# 全てのVCノードを削除する"
   ]
  },
  {
   "cell_type": "markdown",
   "metadata": {
    "hidden": true,
    "lc_cell_meme": {
     "current": "b13acc5a-e54b-11ec-8d3a-02420a010016-2-e1de-f35e",
     "next": "b13acd04-e54b-11ec-8d3a-02420a010016-2-ebf8-81a3",
     "previous": "b13acbba-e54b-11ec-8d3a-02420a010016-2-1ba9-b7df"
    }
   },
   "source": [
    "ここまで作成した全てのリソース（UnitGroup, Unit、VCノード）を削除します。この操作を行うことで AWS EC2インスタンスやAzure VMなどのクラウドに作成したリソースが削除されます。\n",
    "\n",
    "> 全てのリソースの削除には 4～5分程度かかります。"
   ]
  },
  {
   "cell_type": "code",
   "execution_count": null,
   "metadata": {
    "hidden": true,
    "lc_cell_meme": {
     "current": "b13acd04-e54b-11ec-8d3a-02420a010016-2-ebf8-81a3",
     "next": "b13acd90-e54b-11ec-8d3a-02420a010016-2-4264-fa90",
     "previous": "b13acc5a-e54b-11ec-8d3a-02420a010016-2-e1de-f35e"
    },
    "lc_wrapper": {},
    "scrolled": true
   },
   "outputs": [],
   "source": [
    "unit_group.cleanup()"
   ]
  },
  {
   "cell_type": "markdown",
   "metadata": {
    "hidden": true,
    "lc_cell_meme": {
     "current": "b13acd90-e54b-11ec-8d3a-02420a010016-2-4264-fa90",
     "next": "b13ace26-e54b-11ec-8d3a-02420a010016-2-6b40-06b5",
     "previous": "b13acd04-e54b-11ec-8d3a-02420a010016-2-ebf8-81a3"
    }
   },
   "source": [
    "削除後の状態を確認してみます。"
   ]
  },
  {
   "cell_type": "code",
   "execution_count": null,
   "metadata": {
    "hidden": true,
    "lc_cell_meme": {
     "current": "b13ace26-e54b-11ec-8d3a-02420a010016-2-6b40-06b5",
     "next": null,
     "previous": "b13acd90-e54b-11ec-8d3a-02420a010016-2-4264-fa90"
    },
    "lc_wrapper": {},
    "scrolled": true
   },
   "outputs": [],
   "source": [
    "# UnitGroupの一覧を DataFrame で表示する\n",
    "vcp.df_ugroups()"
   ]
  }
 ],
 "metadata": {
  "kernelspec": {
   "display_name": "Python 3",
   "language": "python",
   "name": "python3"
  },
  "language_info": {
   "file_extension": ".py",
   "mimetype": "text/x-python",
   "name": "python",
   "nbconvert_exporter": "python",
   "pygments_lexer": "ipython3",
   "version": "3.8.6"
  },
  "toc": {
   "base_numbering": 1,
   "nav_menu": {},
   "number_sections": true,
   "sideBar": true,
   "skip_h1_title": false,
   "title_cell": "Table of Contents",
   "title_sidebar": "Contents",
   "toc_cell": false,
   "toc_position": {
    "height": "826px",
    "left": "0px",
    "right": "1202px",
    "top": "111px",
    "width": "310px"
   },
   "toc_section_display": "block",
   "toc_window_display": true
  }
 },
 "nbformat": 4,
 "nbformat_minor": 2
}
