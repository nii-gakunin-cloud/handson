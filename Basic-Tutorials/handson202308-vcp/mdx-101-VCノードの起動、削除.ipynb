{
 "cells": [
  {
   "cell_type": "markdown",
   "metadata": {},
   "source": [
    "# はじめに\n",
    "\n",
    "このNotebookではVCP SDKを利用してVCノードを起動、削除する手順を記しています。"
   ]
  },
  {
   "cell_type": "code",
   "execution_count": null,
   "metadata": {},
   "outputs": [],
   "source": [
    "# !!初めに必ず実行してください!! (ハンズオン進捗管理用)\n",
    "user = !ls /notebooks/notebook/[au]??.txt\n",
    "!~/nb_notify.sh {user[0][-7:-4]} 'mdx-101-VCノードの起動、削除'"
   ]
  },
  {
   "cell_type": "markdown",
   "metadata": {
    "heading_collapsed": true
   },
   "source": [
    "## 概要\n",
    "![構成](images/101-001_mdx.png)"
   ]
  },
  {
   "cell_type": "markdown",
   "metadata": {
    "hidden": true
   },
   "source": [
    "### 用語説明"
   ]
  },
  {
   "cell_type": "markdown",
   "metadata": {
    "hidden": true
   },
   "source": [
    "上の図、またはこれ以降に示す図に記されている構成要素についての簡単な説明を以下に記します。\n",
    "\n",
    "* [VPC](https://aws.amazon.com/jp/vpc/)\n",
    "  - Amazon が提供している AWS 内の仮想プライベートネットワーク環境\n",
    "* [Amazon EC2](https://aws.amazon.com/jp/ec2/)\n",
    "  - Amazon が提供している仮想コンピューティング環境\n",
    "* [Azure Virtual Network](https://azure.microsoft.com/ja-jp/services/virtual-network/)\n",
    "  - Microsoft が提供しているクラウド内の仮想プライベートネットワーク環境\n",
    "* [Azure Virtual Machine](https://azure.microsoft.com/ja-jp/services/virtual-machines/)\n",
    "  - Microsoft が提供している仮想コンピューティング環境\n",
    "* VC Controller\n",
    "  - VCPがユーザに対して提供しているサービス群\n",
    "* VC Controller Core\n",
    "  - ユーザからのAPI呼び出しを受けとりUnitGroupの作成、削除などを行う\n",
    "* Grafana\n",
    "  - 可視化ツール、ダッシュボードツール\n",
    "  - VCP では VCノード のモニタリング状況を表示するのに利用している\n",
    "* VCP SDK\n",
    "  - VCPの機能を呼び出して VM/BM の作成、削除などを行うPython3のライブラリ\n",
    "* VCノード\n",
    "  - Amazon EC2, Azure Virtual Machine などの計算資源を抽象化したVCPのノード\n",
    "* Unit\n",
    "  - 同質（同じ計算資源(cpu, memory, ...)、同じクラウド、同じ用途、...）であるVCノードをまとめて扱うためのもの\n",
    "* UnitGroup\n",
    "  - 複数のUnitをまとめて扱うためのものです"
   ]
  },
  {
   "cell_type": "markdown",
   "metadata": {},
   "source": [
    "## 手順"
   ]
  },
  {
   "cell_type": "markdown",
   "metadata": {},
   "source": [
    "大まかな手順は以下のようになります。\n",
    "\n",
    "1. VCノードの起動\n",
    "1. VCノードに ssh でログインして操作する\n",
    "1. GrafanaでVCノードの利用状況を確認する\n",
    "1. VCノードのスケールアウト、スケールイン\n",
    "1. 別のクラウドでVCノードを起動する\n",
    "1. 全てのVCノードを削除する"
   ]
  },
  {
   "cell_type": "markdown",
   "metadata": {},
   "source": [
    "## アクセストークンの入力"
   ]
  },
  {
   "cell_type": "markdown",
   "metadata": {},
   "source": [
    "VCP SDKを利用するにはVC Controllerのアクセストークンが必要となります。次のセルを実行すると入力枠が表示されるのでアクセストークンの値を入力してください。\n",
    "\n",
    "> アクセストークン入力後に Enter キーを押すことで入力が完了します。\n",
    "\n",
    "OCSハンズオン用トークンはこちら→ [token.txt](/jupyter/files/token.txt)"
   ]
  },
  {
   "cell_type": "code",
   "execution_count": null,
   "metadata": {
    "lc_wrapper": {}
   },
   "outputs": [],
   "source": [
    "from getpass import getpass\n",
    "vcc_access_token = getpass()"
   ]
  },
  {
   "cell_type": "markdown",
   "metadata": {
    "heading_collapsed": true
   },
   "source": [
    "# VCノードの起動\n",
    "\n",
    "VCP SDKを用いてVCノード(Amazon EC2インスタンス)を起動します。また、起動したVCノードに対してsshでログインして操作を行います。\n",
    "![EC2の起動](images/101-003_mdx.png)"
   ]
  },
  {
   "cell_type": "markdown",
   "metadata": {
    "hidden": true
   },
   "source": [
    "## VCP SDKの初期化\n",
    "\n",
    "VCP SDKの初期化を行います。"
   ]
  },
  {
   "cell_type": "code",
   "execution_count": null,
   "metadata": {
    "hidden": true,
    "lc_wrapper": {},
    "scrolled": true
   },
   "outputs": [],
   "source": [
    "from common import logsetting\n",
    "from vcpsdk.vcpsdk import VcpSDK\n",
    "\n",
    "# VCP SDKの初期化\n",
    "vcp = VcpSDK(\n",
    "    vcc_access_token,  # VCCのアクセストークン\n",
    ")"
   ]
  },
  {
   "cell_type": "markdown",
   "metadata": {
    "hidden": true
   },
   "source": [
    "上のセルの実行結果がエラーとなり以下のようなメッセージが表示されている場合は、入力されたアクセストークンに誤りがあります。\n",
    "\n",
    "```\n",
    "2019-XX-XX XX:XX:XX,XXX - ERROR - config vc failed: http_status(403)\n",
    "2019-XX-XX XX:XX:XX,XXX - ERROR - 2019/XX/XX XX:XX:XX UTC: VCPAuthException: xxxxxxx:token lookup is failed: permission denied\n",
    "```\n",
    "\n",
    "この場合はアクセストークンの入力からやり直してください。"
   ]
  },
  {
   "cell_type": "markdown",
   "metadata": {
    "hidden": true
   },
   "source": [
    "`vcp`からは UnitGroup の管理（作成、情報取得）や VCP SDK自体に関する情報取得を行うことができます。例えば、次のセルを実行するとUnitGroupの一覧が表示されます。\n",
    "\n",
    "> まだUnitGroupを作成していないので、ヘッダー以外はなにも表示されないはずです。"
   ]
  },
  {
   "cell_type": "code",
   "execution_count": null,
   "metadata": {
    "hidden": true,
    "lc_wrapper": {},
    "scrolled": true
   },
   "outputs": [],
   "source": [
    "# UnitGroupの一覧を DataFrame で表示する\n",
    "vcp.df_ugroups()"
   ]
  },
  {
   "cell_type": "markdown",
   "metadata": {
    "hidden": true
   },
   "source": [
    "次のセルを実行すると VCP SDK と VC Controller のバージョンが表示されます。"
   ]
  },
  {
   "cell_type": "code",
   "execution_count": null,
   "metadata": {
    "hidden": true,
    "lc_wrapper": {},
    "scrolled": true
   },
   "outputs": [],
   "source": [
    "vcp.version()"
   ]
  },
  {
   "cell_type": "markdown",
   "metadata": {
    "hidden": true
   },
   "source": [
    "## UnitGroupの作成"
   ]
  },
  {
   "cell_type": "markdown",
   "metadata": {
    "hidden": true
   },
   "source": [
    "`handson101`という名前の UnitGroup を作成します。"
   ]
  },
  {
   "cell_type": "code",
   "execution_count": null,
   "metadata": {
    "hidden": true,
    "lc_wrapper": {}
   },
   "outputs": [],
   "source": [
    "# UnitGroupの作成\n",
    "unit_group = vcp.create_ugroup(\n",
    "    'handson101'                   # UnitGroupの名前\n",
    ")"
   ]
  },
  {
   "cell_type": "markdown",
   "metadata": {
    "hidden": true
   },
   "source": [
    "作成したUnitGroupの状態を表示してみます。\n",
    "\n",
    "> UnitGroup の名前が `handson101` であることと、その状態が `RUNNING` であることなどが確認できるはずです。"
   ]
  },
  {
   "cell_type": "code",
   "execution_count": null,
   "metadata": {
    "hidden": true,
    "lc_wrapper": {},
    "scrolled": true
   },
   "outputs": [],
   "source": [
    "print(unit_group)"
   ]
  },
  {
   "cell_type": "markdown",
   "metadata": {
    "hidden": true
   },
   "source": [
    "UnitGroupの一覧を表示してみます。"
   ]
  },
  {
   "cell_type": "code",
   "execution_count": null,
   "metadata": {
    "hidden": true,
    "lc_wrapper": {},
    "pinned_outputs": []
   },
   "outputs": [],
   "source": [
    "# UnitGroupの一覧を DataFrame で表示する\n",
    "vcp.df_ugroups()"
   ]
  },
  {
   "cell_type": "markdown",
   "metadata": {
    "hidden": true
   },
   "source": [
    "## UnitGroupの状態を確認する"
   ]
  },
  {
   "cell_type": "markdown",
   "metadata": {
    "hidden": true
   },
   "source": [
    "UnitGroupに属している Unit の一覧を表示します。\n",
    "\n",
    "> まだ、このUnitGroupでは Unit を作成していないのでヘッダー以外は何も表示されません。"
   ]
  },
  {
   "cell_type": "code",
   "execution_count": null,
   "metadata": {
    "hidden": true,
    "lc_wrapper": {}
   },
   "outputs": [],
   "source": [
    "# Unitの一覧を DataFrame で表示する\n",
    "unit_group.df_units()"
   ]
  },
  {
   "cell_type": "markdown",
   "metadata": {
    "hidden": true
   },
   "source": [
    "UnitGroupに属しているVCノードの一覧を表示します。\n",
    "\n",
    "> まだVCノードが存在していないので何も表示されません。"
   ]
  },
  {
   "cell_type": "code",
   "execution_count": null,
   "metadata": {
    "hidden": true,
    "lc_wrapper": {}
   },
   "outputs": [],
   "source": [
    "unit_group.df_nodes()"
   ]
  },
  {
   "cell_type": "markdown",
   "metadata": {
    "hidden": true
   },
   "source": [
    "## VCノードのspecを指定する"
   ]
  },
  {
   "cell_type": "markdown",
   "metadata": {
    "hidden": true
   },
   "source": [
    "Unitを構成するVCノードがどのような設定であるかを指定するためのオブジェクトとしてVCP SDKでは`spec`オブジェクトを用意しています。VCP SDKの利用者は`spec`オブジェクトのプロパティを設定することで Unitに起動するVCノードの設定内容を定義することができます。\n",
    "\n",
    "`spec`オブジェクトの設定項目の例を以下に示します。\n",
    "\n",
    "* 仮想マシンのインスタンスタイプ\n",
    "  - m5.large, c5.large, ...\n",
    "* 仮想マシンのルートボリュームサイズ(GiB)\n",
    "* 仮想マシンに割り当てるプライベートIPアドレス\n",
    "* Unit内に作成するVCノードの数\n",
    "\n",
    "設定できる項目はクラウドプロバイダ(aws, azure, ...)毎に異なります。\n",
    "\n",
    "<br/>\n",
    "\n",
    "**★ mdx 利用時は、事前にVCP既存サーバ (SSH) モードのセットアップ済みVMのハードウェア仕様となります。★**"
   ]
  },
  {
   "cell_type": "markdown",
   "metadata": {
    "heading_collapsed": true,
    "hidden": true
   },
   "source": [
    "### flavor の内容を確認する"
   ]
  },
  {
   "cell_type": "markdown",
   "metadata": {
    "hidden": true
   },
   "source": [
    "`spec`オブジェクトの全てのパラメータを毎回設定するのは煩雑になるので典型的な構成のパラメータセットを事前に定義しています。事前に定義した`spec`パラメータセットのことを VCP SDKでは `flavor`と呼んでいます。`spec`に設定できるパラメータはクラウドプロバイダ毎に異なるので `flavor`の定義もクラウドプロバイダ毎に行っています。\n",
    "\n",
    "次のセルを実行すると aws用に定義している `flavor` の一覧が表示されます。"
   ]
  },
  {
   "cell_type": "code",
   "execution_count": null,
   "metadata": {
    "hidden": true,
    "lc_wrapper": {}
   },
   "outputs": [],
   "source": [
    "# vcp.df_flavors('aws')"
   ]
  },
  {
   "cell_type": "markdown",
   "metadata": {
    "heading_collapsed": true,
    "hidden": true
   },
   "source": [
    "### spec オブジェクトを作成する"
   ]
  },
  {
   "cell_type": "markdown",
   "metadata": {
    "hidden": true
   },
   "source": [
    "specオブジェクトを作成します。specオブジェクトを作成するにはプロバイダと`flavor`を指定します。ここでは以下の値を指定します。\n",
    "\n",
    "* プロバイダ: `aws`\n",
    "* flavor: `small`"
   ]
  },
  {
   "cell_type": "code",
   "execution_count": null,
   "metadata": {
    "hidden": true,
    "lc_wrapper": {}
   },
   "outputs": [],
   "source": [
    "# spec = vcp.get_spec('aws', 'small')"
   ]
  },
  {
   "cell_type": "markdown",
   "metadata": {
    "hidden": true
   },
   "source": [
    "作成した`spec`の設定内容を確認してみます。\n",
    "\n",
    "> `instance_type`パラメータに `flavor` の指定と対応するEC2インスタンスタイプ`m4.large`が設定されていることが確認できるはずです。\n",
    "> `volume_size`, `volume_type`についてもそれぞれ`flavor`と対応する値が設定されます。"
   ]
  },
  {
   "cell_type": "code",
   "execution_count": null,
   "metadata": {
    "hidden": true,
    "lc_wrapper": {}
   },
   "outputs": [],
   "source": [
    "# print(spec)"
   ]
  },
  {
   "cell_type": "markdown",
   "metadata": {
    "hidden": true
   },
   "source": [
    "`spec`に対しては `flavor`で指定するだけではなく個々のパラメータを直接指定することもできます。例えば、以下のようなものが指定できます。\n",
    "\n",
    "* num_nodes\n",
    "  - Unit内に作成するVCノードの数: デフォルト=1\n",
    "* ip_addresses\n",
    "  - VCノードに割り当てるプライベートIPアドレスのリスト\n",
    "  - このパラメータを指定しない場合は利用可能なアドレスが自動的に割り当てられる\n",
    "* instance_type\n",
    "  - Amazon EC2のインスタンスタイプ\n",
    "  - flavorで設定されているもの以外を利用したい場合に指定する\n",
    "* volume_size\n",
    "  - Amazon EC2インスタンスのルートボリュームに割り当てるサイズ(GiB)\n",
    "  - flavorで設定されているもの以外を利用したい場合に指定する\n",
    "* volume_type\n",
    "  - Amazon EC2インスタンスのルートボリュームのEBSタイプ\n",
    "  - flavorで設定されているもの以外を利用したい場合に指定する"
   ]
  },
  {
   "cell_type": "markdown",
   "metadata": {
    "hidden": true
   },
   "source": [
    "試しに `volume_size`を指定してみます。"
   ]
  },
  {
   "cell_type": "code",
   "execution_count": null,
   "metadata": {
    "hidden": true,
    "lc_wrapper": {}
   },
   "outputs": [],
   "source": [
    "# spec.volume_size = 15"
   ]
  },
  {
   "cell_type": "markdown",
   "metadata": {
    "hidden": true
   },
   "source": [
    "指定した値が`spec`の設定に反映されていることを確認してみます。"
   ]
  },
  {
   "cell_type": "code",
   "execution_count": null,
   "metadata": {
    "hidden": true,
    "lc_wrapper": {}
   },
   "outputs": [],
   "source": [
    "# print(spec)"
   ]
  },
  {
   "cell_type": "markdown",
   "metadata": {
    "hidden": true
   },
   "source": [
    "`volume_size`の値が指定した値に変更されています。"
   ]
  },
  {
   "cell_type": "markdown",
   "metadata": {
    "hidden": true
   },
   "source": [
    "### ★ mdx 向けのspecを設定する ★\n",
    "\n",
    "mdx VMをVCノードとして使用するための「VCP既存サーバ (SSH) モード用」に対応した以下のspecを設定する。\n",
    "\n",
    "* クラウドプロバイダ名は `\"onpremises\"` を指定\n",
    "* `ip_addresses`: mdx VMホストのIPアドレス\n",
    "* `user_name`: mdx VMホスト上のsudo可能なアカウント名 (mdx VMテンプレート毎に既定）"
   ]
  },
  {
   "cell_type": "code",
   "execution_count": null,
   "metadata": {
    "hidden": true
   },
   "outputs": [],
   "source": [
    "host_ip_address =          # !! mdx VM のプライベート IPv4 アドレスを指定する !!\n",
    "ssh_user_name = \"mdxuser\""
   ]
  },
  {
   "cell_type": "code",
   "execution_count": null,
   "metadata": {
    "hidden": true
   },
   "outputs": [],
   "source": [
    "spec = vcp.get_spec(\"onpremises\", \"default\")\n",
    "spec.ip_addresses = [host_ip_address]\n",
    "spec.user_name = ssh_user_name"
   ]
  },
  {
   "cell_type": "markdown",
   "metadata": {
    "hidden": true
   },
   "source": [
    "### sshの鍵ファイルを設定する\n",
    "\n",
    "VCノードにsshでログインするためには事前に公開鍵認証の鍵を登録する必要があります。そのための設定をここで行います。"
   ]
  },
  {
   "cell_type": "markdown",
   "metadata": {
    "hidden": true
   },
   "source": [
    "VCノードに登録する公開鍵認証の**公開鍵**のパスを次のセルで指定してください。"
   ]
  },
  {
   "cell_type": "code",
   "execution_count": null,
   "metadata": {
    "hidden": true,
    "lc_wrapper": {}
   },
   "outputs": [],
   "source": [
    "import os\n",
    "ssh_public_key = os.path.expanduser('~/.ssh/id_rsa.pub')"
   ]
  },
  {
   "cell_type": "markdown",
   "metadata": {
    "hidden": true
   },
   "source": [
    "指定した公開鍵を `spec` に設定します。"
   ]
  },
  {
   "cell_type": "code",
   "execution_count": null,
   "metadata": {
    "hidden": true,
    "lc_wrapper": {}
   },
   "outputs": [],
   "source": [
    "spec.set_ssh_pubkey(ssh_public_key)"
   ]
  },
  {
   "cell_type": "markdown",
   "metadata": {
    "hidden": true
   },
   "source": [
    "sshの公開鍵に関する設定が`spec`に反映されたことを確認してみます。次のセルを実行すると`params`の`e`の`AUTHORIZED_KEYS`に値が設定されていることが確認できます。"
   ]
  },
  {
   "cell_type": "code",
   "execution_count": null,
   "metadata": {
    "hidden": true,
    "lc_wrapper": {}
   },
   "outputs": [],
   "source": [
    "print(spec)"
   ]
  },
  {
   "cell_type": "markdown",
   "metadata": {
    "hidden": true
   },
   "source": [
    "後でVCノードにログインする際にsshの秘密鍵も必要になるので、ここで設定しておきます。次のセルで**秘密鍵**のパスを指定してください。"
   ]
  },
  {
   "cell_type": "code",
   "execution_count": null,
   "metadata": {
    "hidden": true,
    "lc_wrapper": {}
   },
   "outputs": [],
   "source": [
    "ssh_private_key = os.path.expanduser('~/.ssh/id_rsa')"
   ]
  },
  {
   "cell_type": "markdown",
   "metadata": {
    "hidden": true
   },
   "source": [
    "公開鍵と秘密鍵が正しいペアであることをチェックします。次のセルを実行してエラーにならないことを確認してください。"
   ]
  },
  {
   "cell_type": "code",
   "execution_count": null,
   "metadata": {
    "hidden": true,
    "lc_wrapper": {}
   },
   "outputs": [],
   "source": [
    "!grep -q \"$(ssh-keygen -y -f {ssh_private_key})\" {ssh_public_key}"
   ]
  },
  {
   "cell_type": "markdown",
   "metadata": {
    "hidden": true,
    "vcp_tutorial": {
     "url": "files/DOC/index.html#module-vcpsdk.plugins.spec"
    }
   },
   "source": [
    "<!---\n",
    "他にどのようなパラメータが設定できるのかについては\n",
    "「[VCPSDK APIドキュメント](/handson/files/DOC/index.html#module-vcpsdk.plugins.spec)」を参照してください。\n",
    "--->"
   ]
  },
  {
   "cell_type": "markdown",
   "metadata": {
    "hidden": true
   },
   "source": [
    "## Unitの作成とVCノードの起動"
   ]
  },
  {
   "cell_type": "markdown",
   "metadata": {
    "hidden": true
   },
   "source": [
    "Unitを作成します。Unitを作成すると同時に VCノード（ここではmdx VMホスト上のBaseコンテナ）が起動します。\n",
    "\n",
    "> 処理が完了するまで1分半～2分程度かかります。"
   ]
  },
  {
   "cell_type": "code",
   "execution_count": null,
   "metadata": {
    "hidden": true,
    "lc_wrapper": {},
    "scrolled": true
   },
   "outputs": [],
   "source": [
    "# Unitの作成（同時に VCノードが作成される）\n",
    "unit = unit_group.create_unit(\n",
    "    'mdx-server',               # Unit名の指定\n",
    "    spec\n",
    ")"
   ]
  },
  {
   "cell_type": "markdown",
   "metadata": {
    "hidden": true
   },
   "source": [
    "UnitGroupに属しているUnitの一覧表示を行い、Unitが作成されていることを確認します。"
   ]
  },
  {
   "cell_type": "code",
   "execution_count": null,
   "metadata": {
    "hidden": true,
    "lc_wrapper": {},
    "pinned_outputs": []
   },
   "outputs": [],
   "source": [
    "# Unitの一覧を DataFrame で表示する\n",
    "unit_group.df_units()"
   ]
  },
  {
   "cell_type": "markdown",
   "metadata": {
    "hidden": true
   },
   "source": [
    "UnitGroupに属しているVCノードの一覧表示を行い、VCノードが起動していることを確認します。VCノードが正常に起動していることは `node_state` の表示が `RUNNING`になっていることで確認できます。"
   ]
  },
  {
   "cell_type": "code",
   "execution_count": null,
   "metadata": {
    "hidden": true,
    "lc_wrapper": {},
    "scrolled": true
   },
   "outputs": [],
   "source": [
    "# VCノードの一覧を DataFrame で表示する\n",
    "unit_group.df_nodes()"
   ]
  },
  {
   "cell_type": "markdown",
   "metadata": {
    "hidden": true
   },
   "source": [
    "ここでは VCノードの起動が完了するまで待ち合わせるモードでUnitの作成を行いましたが、非同期処理でUnit, VCノードの作成を行うこともできます。`create_unit()`の`wait_for`パラメータに`False`を指定すると非同期モードでのUnit, VCノードの作成が行えます。\n",
    "\n",
    "```\n",
    "unit = unit_group.create_unit('mdx-server', spec, wait_for=False)\n",
    "```\n",
    "\n",
    "非同期モードでUnitを作成した場合にUnitやVCノードが起動したことを確認するには、以下に示す方法で状態取得を行ってください。\n",
    "\n",
    "1. `unit_group.df_units()`\n",
    "  * Unitの一覧表示の`unit_state`の項目で Unitの状態を確認できます\n",
    "  * 起動中は `BOOTING`、起動が完了して実行中になると `RUNNING` と表示されます\n",
    " \n",
    "1. `unit.df_nodes()`, `unit_group.df_nodes()`\n",
    "  * VCノードの一覧表示の`node_state`の項目で VCノードの状態を確認できます\n",
    "  * 起動中は `BOOTING`、起動が完了して実行中になると `RUNNING` と表示されます\n",
    "\n",
    "非同期モードでUnit作成を行った場合でも、以下のメソッドを利用することで後からVCノード起動の待ち合わせを行うことができます。\n",
    "* `unit_group.wait_unit_applied(unit_name)`\n",
    "  - unit_nameで指定されたUnitの状態が `RUNNING` または `ERROR`になるのを待ちます"
   ]
  },
  {
   "cell_type": "markdown",
   "metadata": {
    "hidden": true
   },
   "source": [
    "## 疎通確認\n",
    "\n",
    "起動した VCノードに対して`ping`を行ってみます。"
   ]
  },
  {
   "cell_type": "markdown",
   "metadata": {
    "hidden": true
   },
   "source": [
    "まずUnitGroup内で起動しているVCノードに割り当てられているプライベートIPアドレスの値を取得して変数 `ip_address`に格納します。"
   ]
  },
  {
   "cell_type": "code",
   "execution_count": null,
   "metadata": {
    "hidden": true,
    "lc_wrapper": {}
   },
   "outputs": [],
   "source": [
    "# unit_group.find_ip_addresses() は UnitGroup内の全VCノードのIPアドレスのリストを返します\n",
    "ip_address = unit_group.find_ip_addresses(node_state='RUNNING')[0] # 今は１つのVCノードのみ起動しているので [0] で最初の要素を取り出す\n",
    "\n",
    "print(ip_address)"
   ]
  },
  {
   "cell_type": "markdown",
   "metadata": {
    "hidden": true
   },
   "source": [
    "実際に `ping` を行ってみます。\n",
    "\n",
    "> Codeセルで先頭に `!` をつけるとシェルコマンドが実行できます。また `{}`で囲むことで Python の変数参照やコードの実行に置き換えることができます。詳しくは「[IPython Documentation](https://ipython.readthedocs.io/en/stable/interactive/tutorial.html#system-shell-commands)」などを参照してください。"
   ]
  },
  {
   "cell_type": "code",
   "execution_count": null,
   "metadata": {
    "hidden": true,
    "lc_wrapper": {}
   },
   "outputs": [],
   "source": [
    "!ping -c 5 {ip_address}"
   ]
  },
  {
   "cell_type": "markdown",
   "metadata": {
    "heading_collapsed": true
   },
   "source": [
    "# VCノードに ssh でログインして操作する\n",
    "\n",
    "起動したVCノードに ssh でログインして操作を行います。\n",
    "\n",
    "![](./images/101-006_mdx.png)"
   ]
  },
  {
   "cell_type": "markdown",
   "metadata": {
    "hidden": true
   },
   "source": [
    "まず、ログインする前に ~/.ssh/known_hosts のホストキーを更新します。"
   ]
  },
  {
   "cell_type": "code",
   "execution_count": null,
   "metadata": {
    "hidden": true,
    "lc_wrapper": {}
   },
   "outputs": [],
   "source": [
    "!touch ~/.ssh/known_hosts\n",
    "# ~/.ssh/known_hosts から古いホストキーを削除する\n",
    "!ssh-keygen -R {ip_address}\n",
    "\n",
    "# ホストキーの登録\n",
    "!ssh-keyscan -H {ip_address} >> ~/.ssh/known_hosts"
   ]
  },
  {
   "cell_type": "markdown",
   "metadata": {
    "hidden": true
   },
   "source": [
    "`ls -la` を実行してみます。"
   ]
  },
  {
   "cell_type": "code",
   "execution_count": null,
   "metadata": {
    "hidden": true,
    "lc_wrapper": {},
    "scrolled": true
   },
   "outputs": [],
   "source": [
    "!ssh -i {ssh_private_key} -l root {ip_address} /bin/ls -la"
   ]
  },
  {
   "cell_type": "markdown",
   "metadata": {
    "hidden": true
   },
   "source": [
    "VCノードにsshでログインするにはsshの引数に以下の指定が必要となります。\n",
    "\n",
    "* sshの identity ファイル(-i)\n",
    "  - `spec`オブジェクトに設定した公開鍵に対応する秘密鍵\n",
    "* ユーザ名(-l)\n",
    "  - `root`\n",
    "* ログイン先のIPアドレス"
   ]
  },
  {
   "cell_type": "markdown",
   "metadata": {
    "hidden": true
   },
   "source": [
    "sshのオプションを毎回指定するのも煩雑なので変数に設定しておきます。"
   ]
  },
  {
   "cell_type": "code",
   "execution_count": null,
   "metadata": {
    "hidden": true,
    "lc_wrapper": {}
   },
   "outputs": [],
   "source": [
    "ssh_opts = f\"-i {ssh_private_key} -l root\""
   ]
  },
  {
   "cell_type": "markdown",
   "metadata": {
    "hidden": true
   },
   "source": [
    "VCノードに対して`uname -a`, `df -h` などを実行してみます。"
   ]
  },
  {
   "cell_type": "code",
   "execution_count": null,
   "metadata": {
    "hidden": true,
    "lc_wrapper": {}
   },
   "outputs": [],
   "source": [
    "!ssh {ssh_opts} {ip_address} uname -a"
   ]
  },
  {
   "cell_type": "code",
   "execution_count": null,
   "metadata": {
    "hidden": true,
    "lc_wrapper": {}
   },
   "outputs": [],
   "source": [
    "!ssh {ssh_opts} {ip_address} df -h"
   ]
  },
  {
   "cell_type": "markdown",
   "metadata": {
    "heading_collapsed": true
   },
   "source": [
    "# GrafanaでVCノードの利用状況を確認する"
   ]
  },
  {
   "cell_type": "markdown",
   "metadata": {
    "hidden": true
   },
   "source": [
    "VCPではVCノードの利用状況(CPU負荷、メモリ使用量、ネットワーク）を確認するためGrafanaのダッシュボードを提供しています。"
   ]
  },
  {
   "cell_type": "markdown",
   "metadata": {
    "hidden": true
   },
   "source": [
    "## Grafanaへのログイン"
   ]
  },
  {
   "cell_type": "markdown",
   "metadata": {
    "hidden": true
   },
   "source": [
    "以下のセルを実行して Grafana ダッシュボードを開いてください。\n",
    "\n",
    "最初にログイン画面が表示されるので ユーザ名、パスワードにそれぞれ `admin`, `admin`を入力してください。 "
   ]
  },
  {
   "cell_type": "code",
   "execution_count": null,
   "metadata": {
    "hidden": true,
    "lc_wrapper": {}
   },
   "outputs": [],
   "source": [
    "#vcc_ctr = vcp.vcc_info()['host']\n",
    "#http_host = vcc_ctr.split(':')[0]\n",
    "#grafana_url = \"https://{}/grafana/d/vcp/vcp-metrics?refresh=5s\".format(http_host)\n",
    "\n",
    "# VCPポータブル版ではVCコントローラ(+Grafana) と同一ホストでJupyterNotebookが稼働している。\n",
    "# mdxのDNATで設定した「転送元グローバルIP」に相当するアドレスをこの方法で取得する。\n",
    "myip = !curl -s -4 ifconfig.me\n",
    "grafana_url = \"http://{}/grafana/d/vcp/vcp-metrics?refresh=5s\".format(myip[0])\n",
    "print(grafana_url)"
   ]
  },
  {
   "cell_type": "markdown",
   "metadata": {
    "hidden": true
   },
   "source": [
    "![Grafanaのログイン画面](./images/grafana-login.png)"
   ]
  },
  {
   "cell_type": "markdown",
   "metadata": {
    "hidden": true
   },
   "source": [
    "## 負荷状況のグラフ表示\n",
    "\n",
    "以下のように表示されます。左半分のグラフがBaseコンテナの負荷状況で、右半分がアプリケーションコンテナの負荷状況のグラフです。\n",
    "\n",
    "![負荷状況](./images/grafana-metrics.png)"
   ]
  },
  {
   "cell_type": "markdown",
   "metadata": {
    "hidden": true
   },
   "source": [
    "VCノードに負荷をかけるために、アプリケーションコンテナで stress コマンドを実行します。"
   ]
  },
  {
   "cell_type": "code",
   "execution_count": null,
   "metadata": {
    "hidden": true,
    "lc_wrapper": {},
    "scrolled": true
   },
   "outputs": [],
   "source": [
    "# 60秒間だけ CPU x 2 とメモリ 128 MB を消費する\n",
    "!ssh {ssh_opts} {ip_address} \\\n",
    "    /usr/local/bin/docker run -td --rm --name stress-0 polinux/stress \\\n",
    "    stress --cpu 2 --io 1 --vm 2 --vm-bytes 128M --timeout 60s --verbose"
   ]
  },
  {
   "cell_type": "code",
   "execution_count": null,
   "metadata": {
    "hidden": true,
    "lc_wrapper": {}
   },
   "outputs": [],
   "source": [
    "# 60秒間だけ CPU x 2 とメモリ 128 MB を消費する (2回目)\n",
    "!ssh {ssh_opts} {ip_address} \\\n",
    "    /usr/local/bin/docker run -td --rm --name stress-1 polinux/stress \\\n",
    "    stress --cpu 2 --io 1 --vm 2 --vm-bytes 128M --timeout 60s --verbose"
   ]
  },
  {
   "cell_type": "markdown",
   "metadata": {
    "heading_collapsed": true
   },
   "source": [
    "# VCノードのスケールアウト、スケールイン\n",
    "\n",
    "![スケールアウト、スケールイン](images/101-004.png)"
   ]
  },
  {
   "cell_type": "markdown",
   "metadata": {
    "hidden": true
   },
   "source": [
    "## VCノードのスケールアウト"
   ]
  },
  {
   "cell_type": "markdown",
   "metadata": {
    "hidden": true
   },
   "source": [
    "Unitには `spec`オブジェクトに指定されている設定と同一の VCノードを作成する機能があります。その機能を利用して Unit にVCノードを追加してみます。"
   ]
  },
  {
   "cell_type": "markdown",
   "metadata": {
    "hidden": true
   },
   "source": [
    "まず、現在のVCノードの状況を確認しておきます。"
   ]
  },
  {
   "cell_type": "code",
   "execution_count": null,
   "metadata": {
    "hidden": true,
    "lc_wrapper": {}
   },
   "outputs": [],
   "source": [
    "# VCノードの一覧を DataFrame で表示する\n",
    "unit.df_nodes()"
   ]
  },
  {
   "cell_type": "markdown",
   "metadata": {
    "hidden": true
   },
   "source": [
    "Unit に VCノードを追加するには`unit`オブジェクトに対して `add_nodes()` を呼び出します。次のセルを実行するとUnitに VCノード が追加されます。\n",
    "\n",
    "> VCノード の起動には 1分半～2分程度かかります。"
   ]
  },
  {
   "cell_type": "code",
   "execution_count": null,
   "metadata": {
    "hidden": true,
    "lc_wrapper": {},
    "scrolled": true
   },
   "outputs": [],
   "source": [
    "unit.add_nodes()"
   ]
  },
  {
   "cell_type": "markdown",
   "metadata": {
    "hidden": true
   },
   "source": [
    "`add_node()`を呼び出すことで追加されるVCノードの数はデフォルトでは１ですが、パラメータ`num_add_nodes`を設定することで追加するVCノード数を変更することが出来ます。例えば３ノードを追加するには以下のような指定を行います。\n",
    "\n",
    "```\n",
    "unit.add_nodes(num_add_nodes=3)\n",
    "```\n",
    "また、追加するVCノードのIPアドレスを指定する場合は、以下のような指定を行います。\n",
    "```\n",
    "unit.add_nodes(ip_address='172.30.2.30')\n",
    "```\n",
    "他にどんなパラメータを指定することが出来るかについては次のセルのように Codeセルの先頭で `?` を指定することで確認できます。"
   ]
  },
  {
   "cell_type": "code",
   "execution_count": null,
   "metadata": {
    "hidden": true,
    "lc_wrapper": {}
   },
   "outputs": [],
   "source": [
    "?unit.add_nodes"
   ]
  },
  {
   "cell_type": "markdown",
   "metadata": {
    "hidden": true
   },
   "source": [
    "追加したVCノードの状態を確認するために、VCノードの一覧表示をおこなってみます。"
   ]
  },
  {
   "cell_type": "code",
   "execution_count": null,
   "metadata": {
    "hidden": true,
    "lc_wrapper": {},
    "scrolled": true
   },
   "outputs": [],
   "source": [
    "unit.df_nodes()"
   ]
  },
  {
   "cell_type": "markdown",
   "metadata": {
    "hidden": true
   },
   "source": [
    "起動している全てのVCノードに対して `ping` を行ってみます。"
   ]
  },
  {
   "cell_type": "code",
   "execution_count": null,
   "metadata": {
    "hidden": true,
    "lc_wrapper": {},
    "scrolled": true
   },
   "outputs": [],
   "source": [
    "# Unit内のVCノードのIPアドレスのリストを取得する\n",
    "ip_address = unit.find_ip_addresses(node_state='RUNNING')\n",
    "print(ip_address)\n",
    "\n",
    "# それぞれのIPアドレスに対して pingコマンドを実行する\n",
    "for address in ip_address:\n",
    "    !ping -c 5 {address}\n",
    "    print()"
   ]
  },
  {
   "cell_type": "markdown",
   "metadata": {
    "hidden": true
   },
   "source": [
    "VCノードを追加したので ~/.ssh/known_hosts を更新します。"
   ]
  },
  {
   "cell_type": "code",
   "execution_count": null,
   "metadata": {
    "hidden": true,
    "lc_wrapper": {}
   },
   "outputs": [],
   "source": [
    "for address in ip_address:\n",
    "    # ~/.ssh/known_hosts から古いホストキーを削除する\n",
    "    !ssh-keygen -R {address}\n",
    "    # ホストキーの登録\n",
    "    !ssh-keyscan -H {address} >> ~/.ssh/known_hosts"
   ]
  },
  {
   "cell_type": "markdown",
   "metadata": {
    "hidden": true
   },
   "source": [
    "追加で起動した VCノード は同じ Unit に属しているため同じ構成(cpu, memory, disk)になっています。そのことを確認するために、sshでログインして以下のコマンドを実行してみます。\n",
    "\n",
    "* カーネルバージョン\n",
    "  - uname -a\n",
    "* CPU\n",
    "  - cat /proc/cpuinfo\n",
    "* メモリ量\n",
    "  - free\n",
    "* ディスク容量\n",
    "  - df -h\n",
    "  \n",
    "> ただし aws では同じインスタンスタイプに複数種類の CPU が混在していることがあり CPU が微妙に異なることがあります。"
   ]
  },
  {
   "cell_type": "code",
   "execution_count": null,
   "metadata": {
    "hidden": true,
    "lc_wrapper": {},
    "scrolled": true
   },
   "outputs": [],
   "source": [
    "for address in ip_address:\n",
    "    print(address + ':')\n",
    "    !ssh {ssh_opts} {address} uname -a\n",
    "    print()"
   ]
  },
  {
   "cell_type": "code",
   "execution_count": null,
   "metadata": {
    "hidden": true,
    "lc_wrapper": {}
   },
   "outputs": [],
   "source": [
    "for address in ip_address:\n",
    "    print(address + ':')\n",
    "    !ssh {ssh_opts} {address} cat /proc/cpuinfo | grep 'model name'\n",
    "    print()"
   ]
  },
  {
   "cell_type": "code",
   "execution_count": null,
   "metadata": {
    "hidden": true,
    "lc_wrapper": {}
   },
   "outputs": [],
   "source": [
    "for address in ip_address:\n",
    "    print(address + ':')\n",
    "    !ssh {ssh_opts} {address} free\n",
    "    print()"
   ]
  },
  {
   "cell_type": "code",
   "execution_count": null,
   "metadata": {
    "hidden": true,
    "lc_wrapper": {}
   },
   "outputs": [],
   "source": [
    "for address in ip_address:\n",
    "    print(address + ':')\n",
    "    !ssh {ssh_opts} {address} df -h\n",
    "    print()"
   ]
  },
  {
   "cell_type": "markdown",
   "metadata": {
    "hidden": true
   },
   "source": [
    "先程と同様に、負荷をかけるためにそれぞれのVCノードでアプリケーションコンテナによる stress コマンドの実行を行います。"
   ]
  },
  {
   "cell_type": "code",
   "execution_count": null,
   "metadata": {
    "hidden": true,
    "lc_wrapper": {}
   },
   "outputs": [],
   "source": [
    "for idx, address in enumerate(ip_address):\n",
    "    # 60秒間だけ CPU x 2 とメモリ 128 MB を消費する\n",
    "    !ssh {ssh_opts} {address} \\\n",
    "        /usr/local/bin/docker run -td --rm --name stress-{idx} polinux/stress \\\n",
    "        stress --cpu 2 --io 1 --vm 2 --vm-bytes 128M --timeout 60s --verbose"
   ]
  },
  {
   "cell_type": "markdown",
   "metadata": {
    "hidden": true
   },
   "source": [
    "[Grafana](/grafana/d/vcp/vcp-metrics?refresh=5s) で利用状況を確認してみます。"
   ]
  },
  {
   "cell_type": "markdown",
   "metadata": {
    "hidden": true
   },
   "source": [
    "## VCノードのスケールイン\n",
    "\n",
    "現在Unitには２つのVCノードがありますが、そのうちの一つを削除してみます。"
   ]
  },
  {
   "cell_type": "markdown",
   "metadata": {
    "hidden": true
   },
   "source": [
    "まず、現在のVCノードの状況を確認しておきます。"
   ]
  },
  {
   "cell_type": "code",
   "execution_count": null,
   "metadata": {
    "hidden": true,
    "lc_wrapper": {},
    "scrolled": true
   },
   "outputs": [],
   "source": [
    "# VCノードの一覧を DataFrame で表示する\n",
    "unit.df_nodes()"
   ]
  },
  {
   "cell_type": "markdown",
   "metadata": {
    "hidden": true
   },
   "source": [
    "Unit から VCノードを削除するにはオブジェクト`unit`に対して `delete_nodes()` を呼び出します。\n",
    "\n",
    "複数の VCノード のうちどのVCノード を削除するかを引数で指定することができます。ここでは`ip_address`パラメータを指定してVCノードに割り当てられている IPアドレスで VCノードを特定します。\n",
    "\n",
    "> VCノードを特定するパラメータが指定されなかった場合は削除対象となる VCノードは VCP SDK によって自動的に選択されます。\n",
    "\n",
    "VCノードを特定するための他のパラメータに指定方法については次のセルを実行すると表示される情報で確認してください。"
   ]
  },
  {
   "cell_type": "code",
   "execution_count": null,
   "metadata": {
    "hidden": true,
    "lc_wrapper": {}
   },
   "outputs": [],
   "source": [
    "?unit.delete_nodes"
   ]
  },
  {
   "cell_type": "markdown",
   "metadata": {
    "hidden": true
   },
   "source": [
    "では実際にVCノードを削除します。まず削除対象とするVCノードのIPアドレスを確認します。スケールアウトの節で追加したVCノードのIPアドレスを指定することにします。"
   ]
  },
  {
   "cell_type": "code",
   "execution_count": null,
   "metadata": {
    "hidden": true,
    "lc_wrapper": {}
   },
   "outputs": [],
   "source": [
    "# 削除対象とするVCノードの IPアドレスを表示 \n",
    "print(ip_address[-1])                         # 後から追加した VCノード を削除対象とする"
   ]
  },
  {
   "cell_type": "markdown",
   "metadata": {
    "hidden": true
   },
   "source": [
    "次のセルを実行するとUnit からVCノードが削除され、対応するAWS EC2インスタンスも削除されます。\n",
    "\n",
    "> VCノード の削除には 1分～2分程度かかります。"
   ]
  },
  {
   "cell_type": "code",
   "execution_count": null,
   "metadata": {
    "hidden": true,
    "lc_wrapper": {},
    "scrolled": true
   },
   "outputs": [],
   "source": [
    "# VCノードの削除\n",
    "unit.delete_nodes(\n",
    "    ip_address=ip_address[-1]     # IPアドレスで削除対象を指定する\n",
    ")"
   ]
  },
  {
   "cell_type": "markdown",
   "metadata": {
    "hidden": true
   },
   "source": [
    "Unit内のVCノードの一覧を確認してみます。VCノードが減っていることが確認できるはずです。"
   ]
  },
  {
   "cell_type": "code",
   "execution_count": null,
   "metadata": {
    "hidden": true,
    "lc_wrapper": {},
    "scrolled": false
   },
   "outputs": [],
   "source": [
    "unit.df_nodes()"
   ]
  },
  {
   "cell_type": "markdown",
   "metadata": {
    "hidden": true
   },
   "source": [
    "先ほど取得した２つのVCノードのIPアドレスに対して `ping` を行ってみます。\n",
    "削除されている VCノード に対する `ping` が失敗するので、次のセルは必ずエラーになるはずです。"
   ]
  },
  {
   "cell_type": "code",
   "execution_count": null,
   "metadata": {
    "hidden": true,
    "lc_wrapper": {}
   },
   "outputs": [],
   "source": [
    "for address in ip_address:\n",
    "    !ping -c 5 {address}"
   ]
  },
  {
   "cell_type": "markdown",
   "metadata": {
    "heading_collapsed": true
   },
   "source": [
    "# 別のクラウドでVCノードを起動する\n",
    "\n",
    "![azure](images/101-005.png)"
   ]
  },
  {
   "cell_type": "markdown",
   "metadata": {
    "hidden": true
   },
   "source": [
    "## Unit の追加"
   ]
  },
  {
   "cell_type": "markdown",
   "metadata": {
    "hidden": true
   },
   "source": [
    "先程とは異なる構成のVCノードを追加するので、新たな Unit を作成します。"
   ]
  },
  {
   "cell_type": "markdown",
   "metadata": {
    "hidden": true
   },
   "source": [
    "### VCノードのspecを指定する"
   ]
  },
  {
   "cell_type": "markdown",
   "metadata": {
    "hidden": true
   },
   "source": [
    "AWSの場合と同様 `spec` オブジェクトを作成します。\n",
    "\n",
    "AWSの場合からの変更点は、specの作成等で指定するプロバイダ名を、使用するプロバイダのものに変更するだけです。\n",
    "ここでの具体的な変更箇所は次の2つのAPIの引数になります。\n",
    "\n",
    "- `VCPSDK::df_flavors()`\n",
    "- `VCPSDK::get_spec()`\n",
    "\n",
    "VCP SDKで現在使用可能なクラウドプロバイダと、それを使用する際の引数に指定するプロバイダ名の値は以下のとおりです。\n",
    "\n",
    "|  クラウドプロバイダ  |  プロバイダ名  |\n",
    "| :---- | :---- |\n",
    "|  Amazon EC2  |  `aws`  |\n",
    "|  Microsoft Azure  |  `azure`  |\n",
    "|  Oracle Cloud Infrastructure  |  `oracle`  |\n",
    "|  さくらのクラウド  |  `sakura` |\n",
    "|  VMware vSphere  |  `vmware`  |\n",
    "\n",
    "ここでは、Microsoft Azure でVCノードを作成します。\n",
    "下記の `'azure'` を指定した箇所を変更することで、他のプロバイダでも同様の操作をすることができます。"
   ]
  },
  {
   "cell_type": "markdown",
   "metadata": {
    "hidden": true
   },
   "source": [
    "まず最初に、Microsoft Azure 用に定義している `flavor` の内容を確認します。"
   ]
  },
  {
   "cell_type": "code",
   "execution_count": null,
   "metadata": {
    "hidden": true,
    "lc_wrapper": {}
   },
   "outputs": [],
   "source": [
    "vcp.df_flavors('azure')"
   ]
  },
  {
   "cell_type": "markdown",
   "metadata": {
    "hidden": true
   },
   "source": [
    "続いて、以下のパラメータを指定して `spec`オブジェクトを作成します。\n",
    "* プロバイダ: `azure`\n",
    "* flavor: `medium`"
   ]
  },
  {
   "cell_type": "code",
   "execution_count": null,
   "metadata": {
    "hidden": true,
    "lc_wrapper": {}
   },
   "outputs": [],
   "source": [
    "spec_azure = vcp.get_spec('azure', 'medium')"
   ]
  },
  {
   "cell_type": "markdown",
   "metadata": {
    "hidden": true
   },
   "source": [
    "作成した`spec_azure`の設定内容を確認してみます。"
   ]
  },
  {
   "cell_type": "code",
   "execution_count": null,
   "metadata": {
    "hidden": true,
    "lc_wrapper": {},
    "scrolled": false
   },
   "outputs": [],
   "source": [
    "print(spec_azure)"
   ]
  },
  {
   "cell_type": "markdown",
   "metadata": {
    "hidden": true
   },
   "source": [
    "指定した `flavor`に対応する `vm_size`, `disk_size_gb` などが設定されていることが確認できます。"
   ]
  },
  {
   "cell_type": "markdown",
   "metadata": {
    "hidden": true
   },
   "source": [
    "### sshの公開鍵設定"
   ]
  },
  {
   "cell_type": "markdown",
   "metadata": {
    "hidden": true
   },
   "source": [
    "VCノードに登録するsshの公開鍵を `spec_azure`に設定します。先ほど aws 向けの`spec`に設定したのと同じ値を指定しています。"
   ]
  },
  {
   "cell_type": "code",
   "execution_count": null,
   "metadata": {
    "hidden": true,
    "lc_wrapper": {}
   },
   "outputs": [],
   "source": [
    "spec_azure.set_ssh_pubkey(ssh_public_key)"
   ]
  },
  {
   "cell_type": "markdown",
   "metadata": {
    "hidden": true
   },
   "source": [
    "### specの設定内容を確認する\n",
    "\n",
    "`spec_azure`の設定内容を確認してみます。"
   ]
  },
  {
   "cell_type": "code",
   "execution_count": null,
   "metadata": {
    "hidden": true,
    "lc_wrapper": {},
    "scrolled": false
   },
   "outputs": [],
   "source": [
    "print(spec_azure)"
   ]
  },
  {
   "cell_type": "markdown",
   "metadata": {
    "hidden": true
   },
   "source": [
    "aws向けに最初に作成した `spec`オブジェクトと`spec_azure`との差分を確認してみます。\n",
    "\n",
    "> `spec`オブジェクトの内部では aws は `instance_type`、azure は`vm_size` などそれぞれのクラウドプロバイダに応じたパラメータが設定されていることが確認できます。"
   ]
  },
  {
   "cell_type": "code",
   "execution_count": null,
   "metadata": {
    "hidden": true,
    "lc_wrapper": {},
    "scrolled": true
   },
   "outputs": [],
   "source": [
    "from difflib import unified_diff\n",
    "import sys\n",
    "\n",
    "sys.stdout.writelines(unified_diff(\n",
    "    str(spec).splitlines(True),\n",
    "    str(spec_azure).splitlines(True),\n",
    "    fromfile='aws',\n",
    "    tofile='azure',\n",
    "))"
   ]
  },
  {
   "cell_type": "markdown",
   "metadata": {
    "hidden": true
   },
   "source": [
    "### Unitの作成とVCノードの起動"
   ]
  },
  {
   "cell_type": "markdown",
   "metadata": {
    "hidden": true
   },
   "source": [
    "まず作成前のUnitGroup状態を確認しておきます。"
   ]
  },
  {
   "cell_type": "code",
   "execution_count": null,
   "metadata": {
    "hidden": true,
    "lc_wrapper": {}
   },
   "outputs": [],
   "source": [
    "from IPython.display import display\n",
    "\n",
    "# Unitの一覧を DataFrame で表示する\n",
    "display(unit_group.df_units())\n",
    "\n",
    "# VCノードの一覧を DataFrame で表示する\n",
    "display(unit_group.df_nodes())"
   ]
  },
  {
   "cell_type": "markdown",
   "metadata": {
    "hidden": true
   },
   "source": [
    "Unitを作成します。\n",
    "\n",
    "> 処理が完了するまでには 2～5分程度かかります。"
   ]
  },
  {
   "cell_type": "code",
   "execution_count": null,
   "metadata": {
    "hidden": true,
    "lc_wrapper": {},
    "scrolled": true
   },
   "outputs": [],
   "source": [
    "# Unitの作成（同時に VCノードが作成される）\n",
    "unit2 = unit_group.create_unit(\n",
    "            'azure-server',    # Unit 名\n",
    "            spec_azure         # spec オブジェクト\n",
    "        )"
   ]
  },
  {
   "cell_type": "markdown",
   "metadata": {
    "hidden": true
   },
   "source": [
    "Unit作成後の状態を確認します。Unit とVCノードがそれぞれ２つあることが確認できるはずです。VCノード一覧ではそれぞれのVCノードの unit_name が異なることが確認できるはずです。またawsとazureのVCノードには**異なるサブネット**のIPアドレスが割り当てられていることが確認できます。"
   ]
  },
  {
   "cell_type": "code",
   "execution_count": null,
   "metadata": {
    "hidden": true,
    "lc_wrapper": {}
   },
   "outputs": [],
   "source": [
    "# Unitの一覧を DataFrame で表示する\n",
    "display(unit_group.df_units())\n",
    "\n",
    "# VCノードの一覧を DataFrame で表示する\n",
    "display(unit_group.df_nodes())"
   ]
  },
  {
   "cell_type": "markdown",
   "metadata": {
    "hidden": true
   },
   "source": [
    "VCノードを追加したので ~/.ssh/known_hosts を更新します。"
   ]
  },
  {
   "cell_type": "code",
   "execution_count": null,
   "metadata": {
    "hidden": true,
    "lc_wrapper": {}
   },
   "outputs": [],
   "source": [
    "for addr in unit_group.find_ip_addresses(node_state='RUNNING'):\n",
    "    !ssh-keygen -R {addr}\n",
    "    !ssh-keyscan -H {addr} >> ~/.ssh/known_hosts"
   ]
  },
  {
   "cell_type": "markdown",
   "metadata": {
    "hidden": true
   },
   "source": [
    "### 疎通確認\n",
    "\n",
    "VCノードに対して`ping` を実行してみます。\n",
    "\n",
    "![](./images/101-007.png)"
   ]
  },
  {
   "cell_type": "code",
   "execution_count": null,
   "metadata": {
    "hidden": true,
    "lc_wrapper": {}
   },
   "outputs": [],
   "source": [
    "# UnitGroup内にあるVCノードのIPアドレスリストを取得する\n",
    "ip_address = unit_group.find_ip_addresses(node_state='RUNNING')\n",
    "\n",
    "# それぞれのVCノードに対してpingを実行する\n",
    "# NIIのハンズオン環境ではネットワーク構成の事情により本NotebookからVCノードへのping実行はできません。\n",
    "# for address in ip_address:\n",
    "#     !ping -c 5 {address}\n",
    "#     print()"
   ]
  },
  {
   "cell_type": "markdown",
   "metadata": {
    "hidden": true,
    "lc_wrapper": {}
   },
   "source": [
    "VCPでは複数の異なるクラウドを仮想的に一つの計算基盤（仮想クラウド）のように扱える機能を提供しています。そのため異なるクラウド(aws, azure)で起動したVCノードであっても、追加の設定なしに互いに通信することができます。そのことを確認するために、作成した２つの VCノード の一方から他方に対して `ping` を行ってみます。"
   ]
  },
  {
   "cell_type": "code",
   "execution_count": null,
   "metadata": {
    "hidden": true,
    "lc_wrapper": {}
   },
   "outputs": [],
   "source": [
    "# pingを実行するVCノードのIPアドレスを表示する\n",
    "print(ip_address[0])\n",
    "print()\n",
    "\n",
    "!ssh {ssh_opts} {ip_address[0]} \\\n",
    "    ping -c 10 {ip_address[1]}"
   ]
  },
  {
   "cell_type": "markdown",
   "metadata": {
    "hidden": true
   },
   "source": [
    "逆方向で同様のことを行ってみます。"
   ]
  },
  {
   "cell_type": "code",
   "execution_count": null,
   "metadata": {
    "hidden": true,
    "lc_wrapper": {}
   },
   "outputs": [],
   "source": [
    "# pingを実行するVCノードのIPアドレスを表示する\n",
    "print(ip_address[1])\n",
    "print()\n",
    "\n",
    "!ssh {ssh_opts} {ip_address[1]} \\\n",
    "    ping -c 10 {ip_address[0]}"
   ]
  },
  {
   "cell_type": "markdown",
   "metadata": {
    "hidden": true
   },
   "source": [
    "## VCノードに ssh でログインして操作する\n",
    "\n",
    "![](./images/101-008.png)"
   ]
  },
  {
   "cell_type": "markdown",
   "metadata": {
    "hidden": true
   },
   "source": [
    "Azureに追加で起動した VCノード は aws とは異なる構成(cpu, memory, disk)になってるはずです。そのことを確認するために、sshでログインして以下のコマンドを実行してみます。\n",
    "\n",
    "* カーネルバージョン\n",
    "  - uname -a\n",
    "* CPU\n",
    "  - cat /proc/cpuinfo\n",
    "* メモリ量\n",
    "  - free\n",
    "* ディスク容量\n",
    "  - df -h"
   ]
  },
  {
   "cell_type": "code",
   "execution_count": null,
   "metadata": {
    "hidden": true,
    "lc_wrapper": {}
   },
   "outputs": [],
   "source": [
    "for address in ip_address:\n",
    "    print(address + ':')\n",
    "    !ssh {ssh_opts} {address} uname -a\n",
    "    print()"
   ]
  },
  {
   "cell_type": "code",
   "execution_count": null,
   "metadata": {
    "hidden": true,
    "lc_wrapper": {}
   },
   "outputs": [],
   "source": [
    "for address in ip_address:\n",
    "    print(address + ':')\n",
    "    !ssh {ssh_opts} {address} cat /proc/cpuinfo | grep 'model name'\n",
    "    print()"
   ]
  },
  {
   "cell_type": "code",
   "execution_count": null,
   "metadata": {
    "hidden": true,
    "lc_wrapper": {}
   },
   "outputs": [],
   "source": [
    "for address in ip_address:\n",
    "    print(address + ':')\n",
    "    !ssh {ssh_opts} {address} free\n",
    "    print()"
   ]
  },
  {
   "cell_type": "code",
   "execution_count": null,
   "metadata": {
    "hidden": true,
    "lc_wrapper": {},
    "scrolled": true
   },
   "outputs": [],
   "source": [
    "for address in ip_address:\n",
    "    print(address + ':')\n",
    "    !ssh {ssh_opts} {address} df -h\n",
    "    print()"
   ]
  },
  {
   "cell_type": "markdown",
   "metadata": {
    "hidden": true
   },
   "source": [
    "最後に先程と同様に、負荷をかけるためにそれぞれのVCノードで stress コマンドを実行します。これまで同様 stressコマンドはアプリケーションコンテナとして実行します。"
   ]
  },
  {
   "cell_type": "code",
   "execution_count": null,
   "metadata": {
    "hidden": true,
    "lc_wrapper": {},
    "scrolled": true
   },
   "outputs": [],
   "source": [
    "for unit in unit_group.find_units():\n",
    "    address = unit.find_ip_addresses(node_state='RUNNING')\n",
    "    # 60秒間だけ CPU x 2 とメモリ 128 MB を消費する\n",
    "    !ssh {ssh_opts} {address[0]} \\\n",
    "        /usr/local/bin/docker run -td --rm --name stress-{unit.name} polinux/stress \\\n",
    "        stress --cpu 2 --io 1 --vm 2 --vm-bytes 128M --timeout 60s --verbose"
   ]
  },
  {
   "cell_type": "markdown",
   "metadata": {
    "hidden": true
   },
   "source": [
    "Grafanaで利用状況を確認してみます。"
   ]
  },
  {
   "cell_type": "code",
   "execution_count": null,
   "metadata": {
    "hidden": true,
    "lc_wrapper": {}
   },
   "outputs": [],
   "source": [
    "print(grafana_url)"
   ]
  },
  {
   "cell_type": "markdown",
   "metadata": {
    "heading_collapsed": true
   },
   "source": [
    "# 全てのVCノードを削除する"
   ]
  },
  {
   "cell_type": "markdown",
   "metadata": {
    "hidden": true
   },
   "source": [
    "ここまで作成した全てのリソース（UnitGroup, Unit、VCノード）を削除します。この操作を行うことで AWS EC2インスタンスやAzure VMなどのクラウドに作成したリソースが削除されます。\n",
    "\n",
    "> 全てのリソースの削除には 4～5分程度かかります。"
   ]
  },
  {
   "cell_type": "code",
   "execution_count": null,
   "metadata": {
    "hidden": true,
    "lc_wrapper": {},
    "scrolled": true
   },
   "outputs": [],
   "source": [
    "unit_group.cleanup()"
   ]
  },
  {
   "cell_type": "markdown",
   "metadata": {
    "hidden": true
   },
   "source": [
    "削除後の状態を確認してみます。"
   ]
  },
  {
   "cell_type": "code",
   "execution_count": null,
   "metadata": {
    "hidden": true,
    "lc_wrapper": {},
    "scrolled": true
   },
   "outputs": [],
   "source": [
    "# UnitGroupの一覧を DataFrame で表示する\n",
    "vcp.df_ugroups()"
   ]
  }
 ],
 "metadata": {
  "kernelspec": {
   "display_name": "Python 3",
   "language": "python",
   "name": "python3"
  },
  "language_info": {
   "file_extension": ".py",
   "mimetype": "text/x-python",
   "name": "python",
   "nbconvert_exporter": "python",
   "pygments_lexer": "ipython3",
   "version": "3.8.6"
  },
  "toc": {
   "base_numbering": 1,
   "nav_menu": {},
   "number_sections": true,
   "sideBar": true,
   "skip_h1_title": false,
   "title_cell": "Table of Contents",
   "title_sidebar": "Contents",
   "toc_cell": false,
   "toc_position": {
    "height": "826px",
    "left": "0px",
    "right": "1202px",
    "top": "111px",
    "width": "310px"
   },
   "toc_section_display": "block",
   "toc_window_display": true
  }
 },
 "nbformat": 4,
 "nbformat_minor": 2
}
