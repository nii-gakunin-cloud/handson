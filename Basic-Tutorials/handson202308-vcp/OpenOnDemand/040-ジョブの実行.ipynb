{
 "cells": [
  {
   "cell_type": "markdown",
   "metadata": {},
   "source": [
    "# Open OnDemandでのジョブ実行"
   ]
  },
  {
   "cell_type": "markdown",
   "metadata": {},
   "source": [
    "ここでは、逐次ジョブとMPIジョブの実行を例に、Open OnDemandでのジョブ実行について説明します。"
   ]
  },
  {
   "cell_type": "markdown",
   "metadata": {},
   "source": [
    "## Job Composer起動"
   ]
  },
  {
   "cell_type": "markdown",
   "metadata": {},
   "source": [
    "Open OnDemandのWebインターフェースからジョブを生成するために使用する、Job Composerの起動について説明します。"
   ]
  },
  {
   "cell_type": "markdown",
   "metadata": {},
   "source": [
    "Job Composerは、Open OnDemandトップページのメニューバーの、\"Jobs > Job Composer\"として起動します。\n",
    "\n",
    "![](./images/jobcomp-sel.png)"
   ]
  },
  {
   "cell_type": "markdown",
   "metadata": {},
   "source": [
    "Job Composerの初回起動では、各ボタンと操作方法についてのガイドが表示されるので、説明を読んでNextをクリックしていきます。\n",
    "\n",
    "![](./images/jobcomp-init.png)"
   ]
  },
  {
   "cell_type": "markdown",
   "metadata": {},
   "source": [
    "## 逐次ジョブの実行"
   ]
  },
  {
   "cell_type": "markdown",
   "metadata": {},
   "source": [
    "最もシンプルな例として、Job Composerからの逐次ジョブ実行方法について説明します。"
   ]
  },
  {
   "cell_type": "markdown",
   "metadata": {},
   "source": [
    "Job Composerから、\"New job > From Default Template\"を選択します。\n",
    "\n",
    "![](./images/jobcomp-fromtmpl.png)"
   ]
  },
  {
   "cell_type": "markdown",
   "metadata": {},
   "source": [
    "テンプレートからジョブが追加されるので、\"Job Option\"をクリックしてジョブの設定を行います。\n",
    "\n",
    "![](./images/jobcomp-seq-preopt.png)"
   ]
  },
  {
   "cell_type": "markdown",
   "metadata": {},
   "source": [
    "ジョブの設定画面が表示されるので、Nameを適切なジョブ名に設定します。また、\"Copy environment\"のチェックを有効化して\"Save\"をクリックします。\n",
    "\n",
    "\"Copy environment\"を有効化すると、`sbatch`実行時の環境変数がジョブスクリプト実行プロセスに設定されます。OpenHPC環境では、ユーザのシェルの環境変数の設定により環境整備を行っているため、`sbatch`実行時の環境変数を引き継ぐ状態でジョブを実行する必要があります。詳細については、[030-ジョブ実行環境の設定](./030-ジョブ実行環境の設定.ipynb)も参照してください。\n",
    "\n",
    "![](./images/jobcomp-seq-jobopt.png)"
   ]
  },
  {
   "cell_type": "markdown",
   "metadata": {},
   "source": [
    "前の画面に戻るので、\"Submit\"ボタンをクリックしてジョブを投入します。\"Status\"欄が\"Queued\"あるいは\"Running\"となります。\n",
    "\n",
    "数秒待って画面をリロードすると、\"Status\"欄が\"Completed\"となります。\n",
    "\n",
    "![](./images/jobcomp-seq-comp.png)"
   ]
  },
  {
   "cell_type": "markdown",
   "metadata": {},
   "source": [
    "結果のファイルは、画面下部の\"Folder Contents\"に、`slurm-*.out`として出力されます。\n",
    "\n",
    "![](./images/jobcomp-seq-result.png)\n",
    "\n",
    "ファイルをクリックすると、エディタが開いてファイルの内容を表示することができます。"
   ]
  },
  {
   "cell_type": "markdown",
   "metadata": {},
   "source": [
    "## MPIジョブの実行"
   ]
  },
  {
   "cell_type": "markdown",
   "metadata": {},
   "source": [
    "次に、MPIジョブの実行方法について説明します。実行するMPIプログラムはサンプルのものを使用します。"
   ]
  },
  {
   "cell_type": "markdown",
   "metadata": {},
   "source": [
    "まず、逐次ジョブの場合と同様に、Job Composerから\"New Job > From Default Template\"としてテンプレートからジョブを追加します。\n",
    "\n",
    "ジョブが追加されたら、\"Job Options\"をクリックしてジョブの設定を行います。Nameを適切に設定し、\"Copy environment\"のチェックを有効化して\"Save\"をクリックします。MPIジョブの場合は、\"Copy environment\"を有効化しないとMPIで起動されるプログラムにOpenHPCで必要な環境変数が伝達されないため、プログラムを正しく実行することができません。\n",
    "\n",
    "![](./images/jobcomp-mpi-jobopt.png)"
   ]
  },
  {
   "cell_type": "markdown",
   "metadata": {},
   "source": [
    "MPIのサンプルプログラムをビルドします。\"Open Terminal\"をクリックして、ターミナルを開きます。\n",
    "\n",
    "![](./images/jobcomp-mpi-openterm.png)"
   ]
  },
  {
   "cell_type": "markdown",
   "metadata": {},
   "source": [
    "ターミナル上で以下のおうにコマンドを実行してサンプルプログラムをビルドします。\n",
    "\n",
    "```sh\n",
    "mpicc -O3 -o hello /opt/ohpc/pub/examples/mpi/hello.c \n",
    "```\n",
    "\n",
    "ビルドが終わったらシェルを終了して、ターミナルのブラウザ画面を閉じます。\n",
    "\n",
    "![](./images/jobcomp-mpi-term.png)"
   ]
  },
  {
   "cell_type": "markdown",
   "metadata": {},
   "source": [
    "MPIプログラム実行に合わせてジョブスクリプトを変更します。画面下部(レイアウトによっては右下)にある\"Submit Script\"の欄にある、\"Open Editor\"をクリックします。\n",
    "\n",
    "![](./images/jobcomp-mpi-openedit.png)"
   ]
  },
  {
   "cell_type": "markdown",
   "metadata": {},
   "source": [
    "エディタが開くので、ジョブスクリプトが以下の内容となるよう編集します。編集が終わったら\"Save\"をクリックした後、エディタ画面を閉じます。\n",
    "\n",
    "```sh\n",
    "#!/bin/bash\n",
    "#SBATCH -N (計算ノード数)\n",
    "#SBATCH -n (計算ノード数)\n",
    "\n",
    "prun ./hello\n",
    "```\n",
    "\n",
    "![](./images/jobcomp-mpi-edit.png)"
   ]
  },
  {
   "cell_type": "markdown",
   "metadata": {},
   "source": [
    "Job Composerの画面で\"Submit\"をクリックしてジョブを投入します。逐次ジョブの場合と同様に、数秒してリロードするとジョブの状態が\"Completed\"となります。結果ファイルは\"Folder Contents\"の欄から確認できます。"
   ]
  }
 ],
 "metadata": {
  "kernelspec": {
   "display_name": "Bash",
   "language": "bash",
   "name": "bash"
  },
  "language_info": {
   "name": "bash"
  },
  "toc": {
   "base_numbering": 1,
   "nav_menu": {},
   "number_sections": true,
   "sideBar": true,
   "skip_h1_title": true,
   "title_cell": "Table of Contents",
   "title_sidebar": "Contents",
   "toc_cell": false,
   "toc_position": {},
   "toc_section_display": true,
   "toc_window_display": false
  }
 },
 "nbformat": 4,
 "nbformat_minor": 4
}
