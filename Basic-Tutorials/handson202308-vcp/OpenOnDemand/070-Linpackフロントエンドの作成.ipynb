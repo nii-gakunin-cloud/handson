{
 "cells": [
  {
   "cell_type": "markdown",
   "metadata": {},
   "source": [
    "# Linpackフロントエンドの作成"
   ]
  },
  {
   "cell_type": "markdown",
   "metadata": {},
   "source": [
    "## 前提\n",
    "\n",
    "このnotebookでは、OpenHPC環境においてLinpackベンチマークの実行環境を整備し、Open OnDemandをフロントエンドとしてLinpackを実行する手順を示します。このnotebookの実行にあたっては、以下を前提とします。"
   ]
  },
  {
   "cell_type": "markdown",
   "metadata": {},
   "source": [
    "* 030-ジョブ実行環境の設定のnotebookによりOpen OnDemandの設定を完了し、Open OnDemandからジョブ実行が可能になっていること。"
   ]
  },
  {
   "cell_type": "markdown",
   "metadata": {},
   "source": [
    "## 準備"
   ]
  },
  {
   "cell_type": "markdown",
   "metadata": {},
   "source": [
    "### group_varsの読み込み"
   ]
  },
  {
   "cell_type": "markdown",
   "metadata": {},
   "source": [
    "group_varsの読み込みに先立ち、ユニットグループ名をチェックします。"
   ]
  },
  {
   "cell_type": "code",
   "execution_count": null,
   "metadata": {},
   "outputs": [],
   "source": [
    "!ls -1 group_vars/*.yml | sed -e 's/^group_vars\\///' -e 's/\\.yml//' | sort"
   ]
  },
  {
   "cell_type": "markdown",
   "metadata": {},
   "source": [
    "`ugroup_name`にユニットグループ名を設定します。"
   ]
  },
  {
   "cell_type": "code",
   "execution_count": null,
   "metadata": {},
   "outputs": [],
   "source": [
    "ugroup_name = "
   ]
  },
  {
   "cell_type": "markdown",
   "metadata": {},
   "source": [
    "group_varsを読み込みます。"
   ]
  },
  {
   "cell_type": "code",
   "execution_count": null,
   "metadata": {},
   "outputs": [],
   "source": [
    "%run scripts/group.py\n",
    "gvars = load_group_vars(ugroup_name)"
   ]
  },
  {
   "cell_type": "markdown",
   "metadata": {},
   "source": [
    "###  ansibleの動作確認"
   ]
  },
  {
   "cell_type": "markdown",
   "metadata": {},
   "source": [
    "ansibleでSlurmクラスタにアクセスできることを確認します。"
   ]
  },
  {
   "cell_type": "code",
   "execution_count": null,
   "metadata": {},
   "outputs": [],
   "source": [
    "!ansible -m ping {ugroup_name}"
   ]
  },
  {
   "cell_type": "markdown",
   "metadata": {},
   "source": [
    "ansibleで指定するノード集合を設定します。"
   ]
  },
  {
   "cell_type": "code",
   "execution_count": null,
   "metadata": {},
   "outputs": [],
   "source": [
    "target_master = f'{ugroup_name}_master'\n",
    "target_compute = f'{ugroup_name}_compute'"
   ]
  },
  {
   "cell_type": "markdown",
   "metadata": {},
   "source": [
    "## Slurmの設定変更\n",
    "\n",
    "ベンチマークにあたり、計算ノードのCPU資源を全て使用できるよう、slurm.confにノードあたりのCPU数の記述を追加します。既に記述済みの場合や、ノードあたり1MPIプロセスの実行で十分な場合にはこの節の設定は不要です。\n",
    "ここでは、SlurmクラスタはVM上に構築されており、ハードウェア上のCPUトポロジがVM上のCPUトポロジに反映されているとは限らないため、CPUトポロジは考慮に入れず、単にCPU数のみを設定することとします。"
   ]
  },
  {
   "cell_type": "markdown",
   "metadata": {},
   "source": [
    "まず、計算ノードのCPUコア数を取得します。"
   ]
  },
  {
   "cell_type": "code",
   "execution_count": null,
   "metadata": {},
   "outputs": [],
   "source": [
    "out=!ansible '{target_compute}[0]' -a 'hwloc-calc --number-of core machine:0'\n",
    "print(out[1])"
   ]
  },
  {
   "cell_type": "markdown",
   "metadata": {},
   "source": [
    "OCS templatesの`OpenHPC-v2/notebooks/031-設定ファイルの編集-slurm_conf`に従った方法で`slurm.conf`を編集します。\n",
    "\n",
    "以下のセルを実行すると、マスターノードから`slurm.conf`を取得し、`slurm.conf`の編集のためのリンクが表示されます。NodeNameの行が以下のように設定されている場合:  \n",
    "```\n",
    "NodeName=c[0-3] State=UNKNOWN\n",
    "```\n",
    "ノードあたりのCPU数が3であれば、以下のように編集します:\n",
    "```\n",
    "NodeName=c[0-3] CPUs=3 State=UNKNOWN\n",
    "```"
   ]
  },
  {
   "cell_type": "code",
   "execution_count": null,
   "metadata": {},
   "outputs": [],
   "source": [
    "slurm_conf_path='/etc/slurm/slurm.conf'\n",
    "\n",
    "%run scripts/edit_conf.py\n",
    "fetch_conf(slurm_conf_path, ugroup_name, 'master')"
   ]
  },
  {
   "cell_type": "markdown",
   "metadata": {},
   "source": [
    "以下のセルを実行して、変更した内容を確認します。"
   ]
  },
  {
   "cell_type": "code",
   "execution_count": null,
   "metadata": {},
   "outputs": [],
   "source": [
    "%run scripts/edit_conf.py\n",
    "show_local_conf_diff(slurm_conf_path, ugroup_name, 'master')"
   ]
  },
  {
   "cell_type": "markdown",
   "metadata": {},
   "source": [
    "編集内容が正しいことを確認したら、以下のセルを実行してファイルをマスターノードにアップロードします。"
   ]
  },
  {
   "cell_type": "code",
   "execution_count": null,
   "metadata": {},
   "outputs": [],
   "source": [
    "%run scripts/edit_conf.py\n",
    "upload_conf(slurm_conf_path, ugroup_name)"
   ]
  },
  {
   "cell_type": "markdown",
   "metadata": {},
   "source": [
    "Slurmの各デーモンに設定のリロードを指示します。"
   ]
  },
  {
   "cell_type": "code",
   "execution_count": null,
   "metadata": {},
   "outputs": [],
   "source": [
    "!ansible {target_master} -b -a 'systemctl restart slurmctld'\n",
    "!ansible {target_compute} -b -a 'systemctl reload slurmd'"
   ]
  },
  {
   "cell_type": "markdown",
   "metadata": {},
   "source": [
    "CPU数の設定が反映されていることを確認します。"
   ]
  },
  {
   "cell_type": "code",
   "execution_count": null,
   "metadata": {},
   "outputs": [],
   "source": [
    "!ansible {target_master} -a 'sinfo -o \"%P %.5a %.10l %.6D %.3c %.6t %N\"'"
   ]
  },
  {
   "cell_type": "markdown",
   "metadata": {},
   "source": [
    "## HPL (High-Performance Linpack)のビルド\n",
    "\n",
    "ここでは、OCS templatesの`OpenHPC-v2/notebooks/121-Linpackベンチマーク-HPL`に従った方法で、HPLをビルドします。"
   ]
  },
  {
   "cell_type": "markdown",
   "metadata": {},
   "source": [
    "Open OnDemandから使用する前提であるため、Open OnDemandで使用するユーザでHPLをビルドします。以下の`ooduser`にそのユーザ名を設定します(セットアップ時に変更していなければユーザ名は`ooduser`です)。"
   ]
  },
  {
   "cell_type": "code",
   "execution_count": null,
   "metadata": {},
   "outputs": [],
   "source": [
    "ooduser = "
   ]
  },
  {
   "cell_type": "markdown",
   "metadata": {},
   "source": [
    "HPL環境を構築するディレクトリを指定します。"
   ]
  },
  {
   "cell_type": "code",
   "execution_count": null,
   "metadata": {},
   "outputs": [],
   "source": [
    "hpl_dir = f'/home/{ooduser}'"
   ]
  },
  {
   "cell_type": "markdown",
   "metadata": {},
   "source": [
    "以下のセルにより、上記のディレクトリが存在していなければ作成します。"
   ]
  },
  {
   "cell_type": "code",
   "execution_count": null,
   "metadata": {},
   "outputs": [],
   "source": [
    "!ansible {target_master} -m file -a \\\n",
    "    'path={hpl_dir} owner={ooduser} group={ooduser} state=directory'"
   ]
  },
  {
   "cell_type": "markdown",
   "metadata": {},
   "source": [
    "HPLのソースアーカイブをダウンロードします。"
   ]
  },
  {
   "cell_type": "code",
   "execution_count": null,
   "metadata": {},
   "outputs": [],
   "source": [
    "hpl_version = '2.3'\n",
    "hpl_url = f'https://www.netlib.org/benchmark/hpl/hpl-{hpl_version}.tar.gz'\n",
    "ansible_opt = f'-b --become-user={ooduser}'\n",
    "\n",
    "!ansible {target_master} -m get_url {ansible_opt} -a \\\n",
    "    'url={hpl_url} dest={hpl_dir}'"
   ]
  },
  {
   "cell_type": "markdown",
   "metadata": {},
   "source": [
    "ソースアーカイブを展開します。展開してできたディレクトリを後で参照しやすいようシンボリックリンクを作成します。"
   ]
  },
  {
   "cell_type": "code",
   "execution_count": null,
   "metadata": {},
   "outputs": [],
   "source": [
    "!ansible {target_master} {ansible_opt} -a \\\n",
    "    'chdir={hpl_dir} tar xf hpl-{hpl_version}.tar.gz'\n",
    "!ansible {target_master} {ansible_opt} -a \\\n",
    "    'chdir={hpl_dir} ln -sf hpl-{hpl_version} hpl'"
   ]
  },
  {
   "cell_type": "markdown",
   "metadata": {},
   "source": [
    "HPLをビルドするときのarch名を指定します。ここで指定した名前を使って後でMake.{arch}ファイルを作成します。"
   ]
  },
  {
   "cell_type": "code",
   "execution_count": null,
   "metadata": {},
   "outputs": [],
   "source": [
    "hpl_arch = 'Linux_OPENBLAS'"
   ]
  },
  {
   "cell_type": "markdown",
   "metadata": {},
   "source": [
    "`Make.{arch}`ファイルを作成します。必要に応じて`HPL_OPTS`に追加・変更します。"
   ]
  },
  {
   "cell_type": "code",
   "execution_count": null,
   "metadata": {},
   "outputs": [],
   "source": [
    "!ansible {target_master} {ansible_opt} -m copy -a \\\n",
    "    'remote_src=true src={hpl_dir}/hpl/setup/Make.UNKNOWN.in \\\n",
    "    dest={hpl_dir}/hpl/Make.{hpl_arch}'\n",
    "!ansible {target_master} {ansible_opt} -m replace -a \\\n",
    "    'dest={hpl_dir}/hpl/Make.{hpl_arch} \\\n",
    "    regexp=@ARCH@ replace={hpl_arch}'\n",
    "!ansible {target_master} {ansible_opt} -m replace -a \\\n",
    "    'dest={hpl_dir}/hpl/Make.{hpl_arch} \\\n",
    "    regexp=@LADIR@ replace=$(OPENBLAS_DIR)'\n",
    "!ansible {target_master} {ansible_opt} -m replace -a \\\n",
    "    'dest={hpl_dir}/hpl/Make.{hpl_arch} \\\n",
    "    regexp=@LAINC@ replace=-I$(OPENBLAS_INC)'\n",
    "!ansible {target_master} {ansible_opt} -m replace -a \\\n",
    "    'dest={hpl_dir}/hpl/Make.{hpl_arch} \\\n",
    "    regexp=@LALIB@ replace=\"-Wl,-rpath,$(OPENBLAS_LIB) -L$(OPENBLAS_LIB) -lopenblas\"'\n",
    "!ansible {target_master} {ansible_opt} -m replace -a \\\n",
    "    'dest={hpl_dir}/hpl/Make.{hpl_arch} \\\n",
    "    regexp=@SHELL@ replace=/bin/sh'\n",
    "!ansible {target_master} {ansible_opt} -m replace -a \\\n",
    "    'dest={hpl_dir}/hpl/Make.{hpl_arch} \\\n",
    "    regexp=@CD@ replace=cd'\n",
    "!ansible {target_master} {ansible_opt} -m replace -a \\\n",
    "    'dest={hpl_dir}/hpl/Make.{hpl_arch} \\\n",
    "    regexp=@CP@ replace=cp'\n",
    "!ansible {target_master} {ansible_opt} -m replace -a \\\n",
    "    'dest={hpl_dir}/hpl/Make.{hpl_arch} \\\n",
    "    regexp=@LN_S@ replace=\"ln -s\"'\n",
    "!ansible {target_master} {ansible_opt} -m replace -a \\\n",
    "    'dest={hpl_dir}/hpl/Make.{hpl_arch} \\\n",
    "    regexp=@MKDIR@ replace=mkdir'\n",
    "!ansible {target_master} {ansible_opt} -m replace -a \\\n",
    "    'dest={hpl_dir}/hpl/Make.{hpl_arch} \\\n",
    "    regexp=@RM@ replace=\"/bin/rm -f\"'\n",
    "!ansible {target_master} {ansible_opt} -m replace -a \\\n",
    "    'dest={hpl_dir}/hpl/Make.{hpl_arch} \\\n",
    "    regexp=@TOUCH@ replace=touch'\n",
    "!ansible {target_master} {ansible_opt} -m replace -a \\\n",
    "    'dest={hpl_dir}/hpl/Make.{hpl_arch} \\\n",
    "    regexp=@CC@ replace=mpicc'\n",
    "!ansible {target_master} {ansible_opt} -m replace -a \\\n",
    "    'dest={hpl_dir}/hpl/Make.{hpl_arch} \\\n",
    "    regexp=@CCNOOPT@ replace=\"\"'\n",
    "!ansible {target_master} {ansible_opt} -m replace -a \\\n",
    "    'dest={hpl_dir}/hpl/Make.{hpl_arch} \\\n",
    "    regexp=@CCFLAGS@ replace=\"-fomit-frame-pointer -O3 -funroll-loops -W -Wall\"'\n",
    "!ansible {target_master} {ansible_opt} -m replace -a \\\n",
    "    'dest={hpl_dir}/hpl/Make.{hpl_arch} \\\n",
    "    regexp=@LINKER@ replace=mpif77'\n",
    "!ansible {target_master} {ansible_opt} -m replace -a \\\n",
    "    'dest={hpl_dir}/hpl/Make.{hpl_arch} \\\n",
    "    regexp=@LINKFLAGS@ replace=$(CCFLAGS)'\n",
    "!ansible {target_master} {ansible_opt} -m replace -a \\\n",
    "    'dest={hpl_dir}/hpl/Make.{hpl_arch} \\\n",
    "    regexp=@ARCHIVER@ replace=ar'\n",
    "!ansible {target_master} {ansible_opt} -m replace -a \\\n",
    "    'dest={hpl_dir}/hpl/Make.{hpl_arch} \\\n",
    "    regexp=@ARFLAGS@ replace=r'\n",
    "!ansible {target_master} {ansible_opt} -m replace -a \\\n",
    "    'dest={hpl_dir}/hpl/Make.{hpl_arch} \\\n",
    "    regexp=@RANLIB@ replace=echo'\n",
    "!ansible {target_master} {ansible_opt} -m replace -a \\\n",
    "    'dest={hpl_dir}/hpl/Make.{hpl_arch} \\\n",
    "    regexp=@MPDIR@ replace=\"\"'\n",
    "!ansible {target_master} {ansible_opt} -m replace -a \\\n",
    "    'dest={hpl_dir}/hpl/Make.{hpl_arch} \\\n",
    "    regexp=@MPINC@ replace=\"\"'\n",
    "!ansible {target_master} {ansible_opt} -m replace -a \\\n",
    "    'dest={hpl_dir}/hpl/Make.{hpl_arch} \\\n",
    "    regexp=@MPLIB@ replace=\"\"'\n",
    "!ansible {target_master} {ansible_opt} -m replace -a \\\n",
    "    'dest={hpl_dir}/hpl/Make.{hpl_arch} \\\n",
    "    regexp=@F2CDEFS@ replace=\"\"'\n",
    "!ansible {target_master} {ansible_opt} -m replace -a \\\n",
    "    'dest={hpl_dir}/hpl/Make.{hpl_arch} \\\n",
    "    regexp=\"^HPL_OPTS.*\" replace=\"HPL_OPTS = -DHPL_CALL_CBLAS\"'"
   ]
  },
  {
   "cell_type": "markdown",
   "metadata": {},
   "source": [
    "作成した`Make.{arch}`の内容を確認します。"
   ]
  },
  {
   "cell_type": "code",
   "execution_count": null,
   "metadata": {},
   "outputs": [],
   "source": [
    "!ansible {target_master} {ansible_opt} -a \\\n",
    "    'cat {hpl_dir}/hpl/Make.{hpl_arch}'"
   ]
  },
  {
   "cell_type": "markdown",
   "metadata": {},
   "source": [
    "HPLをビルドします。"
   ]
  },
  {
   "cell_type": "code",
   "execution_count": null,
   "metadata": {},
   "outputs": [],
   "source": [
    "!ansible {target_master} {ansible_opt} -m shell -a \\\n",
    "    'chdir={hpl_dir}/hpl \\\n",
    "    source ~/.bashrc && module load openblas && make arch={hpl_arch}'"
   ]
  },
  {
   "cell_type": "markdown",
   "metadata": {},
   "source": [
    "`xhpl`コマンドがビルドできたことを確認します。"
   ]
  },
  {
   "cell_type": "code",
   "execution_count": null,
   "metadata": {},
   "outputs": [],
   "source": [
    "!ansible {target_master} {ansible_opt} -a \\\n",
    "    'ls -l {hpl_dir}/hpl/bin/{hpl_arch}/xhpl'"
   ]
  },
  {
   "cell_type": "markdown",
   "metadata": {},
   "source": [
    "## Open OnDemandフロントエンドの配置"
   ]
  },
  {
   "cell_type": "markdown",
   "metadata": {},
   "source": [
    "HPLをSlurmのジョブとして実行するための、Open OnDemandのフロントエンドを配置します。ここでは、Open OnDemandからHPLの実行に必要な代表的なパラメータを設定可能とし、設定された値から`HPL.dat`を生成した上でHPLのジョブを実行するフロントエンドを配置します。\n",
    "\n",
    "設定可能とするパラメータは以下とします。\n",
    "* ノード数\n",
    "* MPIプロセス数\n",
    "* HPL.datのN値 (問題のサイズ)\n",
    "* HPL.datのNB値 (ブロックサイズ)\n",
    "* HPL.datのP値\n",
    "* HPL.datのQ値"
   ]
  },
  {
   "cell_type": "markdown",
   "metadata": {},
   "source": [
    "まず、HPL用のフロントエンドを配置するディレクトリを作成します。"
   ]
  },
  {
   "cell_type": "code",
   "execution_count": null,
   "metadata": {},
   "outputs": [],
   "source": [
    "!ansible {target_master} -b -m file -a \\\n",
    "    'path=/var/www/ood/apps/sys/hpl mode=0755 state=directory'"
   ]
  },
  {
   "cell_type": "markdown",
   "metadata": {},
   "source": [
    "HPLのフロントエンドに必要なファイルを、作成したディレクトリに配置します。"
   ]
  },
  {
   "cell_type": "code",
   "execution_count": null,
   "metadata": {},
   "outputs": [],
   "source": [
    "!ansible {target_master} -b -m copy -a \\\n",
    "    'src=hplfiles/ dest=/var/www/ood/apps/sys/hpl mode=preserve'"
   ]
  }
 ],
 "metadata": {
  "kernelspec": {
   "display_name": "Python 3",
   "language": "python",
   "name": "python3"
  },
  "language_info": {
   "file_extension": ".py",
   "mimetype": "text/x-python",
   "name": "python",
   "nbconvert_exporter": "python",
   "pygments_lexer": "ipython3",
   "version": "3.8.6"
  },
  "toc": {
   "base_numbering": 1,
   "nav_menu": {},
   "number_sections": true,
   "sideBar": true,
   "skip_h1_title": true,
   "title_cell": "Table of Contents",
   "title_sidebar": "Contents",
   "toc_cell": false,
   "toc_position": {},
   "toc_section_display": true,
   "toc_window_display": true
  }
 },
 "nbformat": 4,
 "nbformat_minor": 4
}
