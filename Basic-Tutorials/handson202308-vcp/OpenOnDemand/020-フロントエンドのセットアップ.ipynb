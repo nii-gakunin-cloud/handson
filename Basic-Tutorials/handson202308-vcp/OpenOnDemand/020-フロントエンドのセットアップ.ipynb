{
 "cells": [
  {
   "cell_type": "markdown",
   "metadata": {},
   "source": [
    "# フロントエンドのセットアップ"
   ]
  },
  {
   "cell_type": "markdown",
   "metadata": {},
   "source": [
    "## 前提"
   ]
  },
  {
   "cell_type": "markdown",
   "metadata": {},
   "source": [
    "このnotebookでは、Open OnDemandのフロントエンド部分の設定を行います。Slurmとの結合のための設定については、notebookを分けて説明します。\n",
    "* [010-インストール](010-インストール.ipynb)のnotebookに従ってインストールが完了していること。\n",
    "* mdxのDNAT設定で割り当てられるグローバルIPアドレスに空きがあること。"
   ]
  },
  {
   "cell_type": "markdown",
   "metadata": {},
   "source": [
    "## 準備"
   ]
  },
  {
   "cell_type": "markdown",
   "metadata": {},
   "source": [
    "### group_varsの読み込み"
   ]
  },
  {
   "cell_type": "markdown",
   "metadata": {},
   "source": [
    "group_varsの読み込みに先立ち、ユニットグループ名をチェックします。"
   ]
  },
  {
   "cell_type": "code",
   "execution_count": null,
   "metadata": {},
   "outputs": [],
   "source": [
    "!ls -1 group_vars/*.yml | sed -e 's/^group_vars\\///' -e 's/\\.yml//' | sort"
   ]
  },
  {
   "cell_type": "markdown",
   "metadata": {},
   "source": [
    "`ugroup_name`にユニットグループ名を指定します。"
   ]
  },
  {
   "cell_type": "code",
   "execution_count": null,
   "metadata": {},
   "outputs": [],
   "source": [
    "ugroup_name = "
   ]
  },
  {
   "cell_type": "markdown",
   "metadata": {},
   "source": [
    "group_varsを読み込みます。"
   ]
  },
  {
   "cell_type": "code",
   "execution_count": null,
   "metadata": {},
   "outputs": [],
   "source": [
    "%run scripts/group.py\n",
    "gvars = load_group_vars(ugroup_name)"
   ]
  },
  {
   "cell_type": "markdown",
   "metadata": {},
   "source": [
    "### ansibleの設定確認"
   ]
  },
  {
   "cell_type": "markdown",
   "metadata": {},
   "source": [
    "ansibleでSlurmクラスタにアクセスできることを確認します。"
   ]
  },
  {
   "cell_type": "code",
   "execution_count": null,
   "metadata": {},
   "outputs": [],
   "source": [
    "!ansible -m ping {ugroup_name}"
   ]
  },
  {
   "cell_type": "markdown",
   "metadata": {},
   "source": [
    "ansibleで指定するノード集合を設定します。"
   ]
  },
  {
   "cell_type": "code",
   "execution_count": null,
   "metadata": {},
   "outputs": [],
   "source": [
    "target_master = f'{ugroup_name}_master'\n",
    "target_compute = f'{ugroup_name}_compute'"
   ]
  },
  {
   "cell_type": "markdown",
   "metadata": {},
   "source": [
    "## DNATエントリの追加"
   ]
  },
  {
   "cell_type": "markdown",
   "metadata": {},
   "source": [
    "mdxのユーザポータル上で、マスターノードへのDNATエントリを追加して外部からアクセスできるようにします。この作業はnotebook上からは実行できないので、別途Webブラウザからmdxのユーザポータル上で作業してください。"
   ]
  },
  {
   "cell_type": "markdown",
   "metadata": {},
   "source": [
    "## ユーザの追加\n",
    "\n",
    "Open OnDemandでジョブを実行するユーザを各ノードに追加します。"
   ]
  },
  {
   "cell_type": "markdown",
   "metadata": {},
   "source": [
    "追加するユーザ名を、ooduser変数に設定します。"
   ]
  },
  {
   "cell_type": "code",
   "execution_count": null,
   "metadata": {},
   "outputs": [],
   "source": [
    "ooduser = 'ooduser'"
   ]
  },
  {
   "cell_type": "markdown",
   "metadata": {},
   "source": [
    "Open OnDemandからジョブを実行するユーザをSlurmクラスタ全体に追加します。  \n",
    "OpenHPC v2テンプレートで作成したSlurm環境では、/homeはNFSで共有されているので、計算ノードではユーザの作成のみでホームディレクトリを作成しないようにします。"
   ]
  },
  {
   "cell_type": "code",
   "execution_count": null,
   "metadata": {},
   "outputs": [],
   "source": [
    "!ansible {target_master} -b -m user -a 'name={ooduser}'\n",
    "!ansible {target_compute} -b -m user -a 'name={ooduser} create_home=false'"
   ]
  },
  {
   "cell_type": "markdown",
   "metadata": {},
   "source": [
    "Open OnDemandからのシェルアクセス有効化のため、作成したユーザのSSH鍵の作成と`authorized_keys`を配置します。"
   ]
  },
  {
   "cell_type": "code",
   "execution_count": null,
   "metadata": {},
   "outputs": [],
   "source": [
    "!ansible {target_master} -b -a \\\n",
    "    \"su {ooduser} -c 'ssh-keygen -t rsa -b 2048 -N \\\"\\\" -f ~/.ssh/id_rsa'\""
   ]
  },
  {
   "cell_type": "code",
   "execution_count": null,
   "metadata": {},
   "outputs": [],
   "source": [
    "!ansible {target_master} -b -m copy -a \\\n",
    "    'src=/home/{ooduser}/.ssh/id_rsa.pub \\\n",
    "    dest=/home/{ooduser}/.ssh/authorized_keys \\\n",
    "    owner={ooduser} group={ooduser} \\\n",
    "    remote_src=true'"
   ]
  },
  {
   "cell_type": "markdown",
   "metadata": {},
   "source": [
    "テストのために、`ooduser`で指定したユーザでジョブが実行できることを確認します。"
   ]
  },
  {
   "cell_type": "markdown",
   "metadata": {},
   "source": [
    "まず、Slurmクラスタの状態を確認します。`STATE`が`idle`となっている必要があります。"
   ]
  },
  {
   "cell_type": "code",
   "execution_count": null,
   "metadata": {},
   "outputs": [],
   "source": [
    "!ansible {target_master} -a 'sinfo'"
   ]
  },
  {
   "cell_type": "markdown",
   "metadata": {},
   "source": [
    "ジョブを実行します。"
   ]
  },
  {
   "cell_type": "code",
   "execution_count": null,
   "metadata": {},
   "outputs": [],
   "source": [
    "!ansible {target_master} -b -a \\\n",
    "    'su - {ooduser} -c \"srun -N {gvars['compute_nodes']} id\"'"
   ]
  },
  {
   "cell_type": "markdown",
   "metadata": {},
   "source": [
    "この設定では、Open OnDemandへのログインにbasic認証を使用します。`ooduser`に設定したユーザ名に対応する、basic認証のパスワードを入力します。ここで入力したパスワードは、Open OnDemandでのログインに使用しますので、覚えておいてください。"
   ]
  },
  {
   "cell_type": "code",
   "execution_count": null,
   "metadata": {},
   "outputs": [],
   "source": [
    "from getpass import getpass\n",
    "oodhtpasswd = getpass(f'password for {ooduser} basic auth:')"
   ]
  },
  {
   "cell_type": "markdown",
   "metadata": {},
   "source": [
    "htpasswdファイルを作成します。"
   ]
  },
  {
   "cell_type": "code",
   "execution_count": null,
   "metadata": {},
   "outputs": [],
   "source": [
    "htpasswd_file = '/etc/ood/config/htpasswd'\n",
    "!ansible {target_master} -b -m file -a \\\n",
    "    'path={htpasswd_file} mode=0640 owner=apache group=apache state=touch'"
   ]
  },
  {
   "cell_type": "markdown",
   "metadata": {},
   "source": [
    "`ooduser`のためのエントリを作成します。"
   ]
  },
  {
   "cell_type": "code",
   "execution_count": null,
   "metadata": {},
   "outputs": [],
   "source": [
    "!ansible {target_master} -b -a 'htpasswd -b5 {htpasswd_file} {ooduser} {oodhtpasswd}'"
   ]
  },
  {
   "cell_type": "markdown",
   "metadata": {},
   "source": [
    "## Open OnDemandサービス起動"
   ]
  },
  {
   "cell_type": "markdown",
   "metadata": {},
   "source": [
    "### ユーザ認証関連の設定"
   ]
  },
  {
   "cell_type": "markdown",
   "metadata": {},
   "source": [
    "Open OnDemand設定の、認証のためのセクションを記述します。"
   ]
  },
  {
   "cell_type": "code",
   "execution_count": null,
   "metadata": {},
   "outputs": [],
   "source": [
    "import os\n",
    "import yaml\n",
    "\n",
    "ood_portal_file = 'ood_portal.yml'\n",
    "oodauth = {\n",
    "    'auth': [\n",
    "        'AuthType basic',\n",
    "        'AuthName \"Open OnDemand\"',\n",
    "        'Require valid-user',\n",
    "        'AuthUserFile \"/etc/ood/config/htpasswd\"',\n",
    "    ]\n",
    "}\n",
    "\n",
    "if os.path.exists(ood_portal_file):\n",
    "    with open(ood_portal_file) as f:\n",
    "        ood_portal_conf = yaml.safe_load(f)\n",
    "else:\n",
    "    ood_portal_conf = {}\n",
    "\n",
    "ood_portal_conf.update(oodauth)\n",
    "ood_portal_conf"
   ]
  },
  {
   "cell_type": "markdown",
   "metadata": {},
   "source": [
    "YAML形式のファイルに出力します。"
   ]
  },
  {
   "cell_type": "code",
   "execution_count": null,
   "metadata": {},
   "outputs": [],
   "source": [
    "with open(ood_portal_file, 'w') as f:\n",
    "    f.write('# /etc/ood/config/ood_portal.yml\\n---\\n')\n",
    "    yaml.safe_dump(ood_portal_conf, f)"
   ]
  },
  {
   "cell_type": "markdown",
   "metadata": {},
   "source": [
    "ファイルの内容を確認します。"
   ]
  },
  {
   "cell_type": "code",
   "execution_count": null,
   "metadata": {},
   "outputs": [],
   "source": [
    "!cat {ood_portal_file}"
   ]
  },
  {
   "cell_type": "markdown",
   "metadata": {},
   "source": [
    "### SSL (HTTPS)の設定\n",
    "\n",
    "Open OnDemandにHTTPSでアクセスするための設定をします。HTTPでもアクセスできるため、必須ではありませんが、HTTPSでの使用を強くおすすめします。\n",
    "\n",
    "HTTPの場合、Open OnDemandが使用しているRuby on RailsでのCSRF (Cross-Site Request Forgery) チェックが期待通りに動作しない(正当なアクセスをCSRFと判定する)ことにより、動作に支障をきたすコンポーネントがあるためです。"
   ]
  },
  {
   "cell_type": "markdown",
   "metadata": {},
   "source": [
    "マスターノードに割り当てられたDNATの外部アドレスを別途DNS登録します。そのDNS上のホスト名を、以下の`ood_server_name`に設定します。"
   ]
  },
  {
   "cell_type": "code",
   "execution_count": null,
   "metadata": {},
   "outputs": [],
   "source": [
    "ood_server_name = "
   ]
  },
  {
   "cell_type": "markdown",
   "metadata": {},
   "source": [
    "`ood_server_name`に設定したホストのSSL関連のファイルを、別途マスターノードに配置します。ここでは、以下のように配置するものとして設定します。\n",
    "\n",
    "* 証明書: `/etc/pki/tls/certs/{ood_server_name}.crt`\n",
    "* 秘密鍵: `/etc/pki/tls/private/{ood_server_name}.key`\n",
    "* 中間証明書: `/etc/pki/tls/certs/{ood_server_name}-interm.crt`"
   ]
  },
  {
   "cell_type": "markdown",
   "metadata": {},
   "source": [
    "これらのファイルがマスターノードに配置されていることを、以下のセルにより確認します。"
   ]
  },
  {
   "cell_type": "code",
   "execution_count": null,
   "metadata": {},
   "outputs": [],
   "source": [
    "!ansible {target_master} -m file -b -a \"path=/etc/pki/tls/certs/{ood_server_name}.crt state=file\"\n",
    "!ansible {target_master} -m file -b -a \"path=/etc/pki/tls/private/{ood_server_name}.key state=file\"\n",
    "!ansible {target_master} -m file -b -a \"path=/etc/pki/tls/certs/{ood_server_name}-interm.crt state=file\""
   ]
  },
  {
   "cell_type": "markdown",
   "metadata": {},
   "source": [
    "`ood_portal.yml`の認証に関する部分の設定を生成します。"
   ]
  },
  {
   "cell_type": "code",
   "execution_count": null,
   "metadata": {},
   "outputs": [],
   "source": [
    "if os.path.exists(ood_portal_file):\n",
    "    with open(ood_portal_file) as f:\n",
    "        ood_portal_conf = yaml.safe_load(f)\n",
    "\n",
    "ood_portal_conf['ssl'] = [\n",
    "    'SSLCertificateFile \"/etc/pki/tls/certs/{}.crt\"'.format(ood_server_name),\n",
    "    'SSLCertificateKeyFile \"/etc/pki/tls/private/{}.key\"'.format(ood_server_name),\n",
    "    'SSLCertificateChainFile \"/etc/pki/tls/certs/{}-interm.crt\"'.format(ood_server_name)\n",
    "]\n",
    "\n",
    "ood_portal_conf['servername'] = ood_server_name\n",
    "\n",
    "ood_portal_conf"
   ]
  },
  {
   "cell_type": "markdown",
   "metadata": {},
   "source": [
    "YAML形式のファイルに出力します。"
   ]
  },
  {
   "cell_type": "code",
   "execution_count": null,
   "metadata": {},
   "outputs": [],
   "source": [
    "with open(ood_portal_file, 'w') as f:\n",
    "    f.write('# /etc/ood/config/ood_portal.yml\\n---\\n')\n",
    "    yaml.safe_dump(ood_portal_conf, f)"
   ]
  },
  {
   "cell_type": "markdown",
   "metadata": {},
   "source": [
    "ファイルの内容を確認します。"
   ]
  },
  {
   "cell_type": "code",
   "execution_count": null,
   "metadata": {},
   "outputs": [],
   "source": [
    "!cat {ood_portal_file}"
   ]
  },
  {
   "cell_type": "markdown",
   "metadata": {},
   "source": [
    "### 設定ファイルの配置"
   ]
  },
  {
   "cell_type": "markdown",
   "metadata": {},
   "source": [
    "作成したファイルをマスターノードに配置します。"
   ]
  },
  {
   "cell_type": "code",
   "execution_count": null,
   "metadata": {},
   "outputs": [],
   "source": [
    "!ansible {target_master} -b -m copy -a \\\n",
    "    'src={ood_portal_file} dest=/etc/ood/config/{ood_portal_file} \\\n",
    "    backup=true'"
   ]
  },
  {
   "cell_type": "markdown",
   "metadata": {},
   "source": [
    "配置した`ood_portal.yml`からApache httpdの設定ファイルを生成します。"
   ]
  },
  {
   "cell_type": "code",
   "execution_count": null,
   "metadata": {},
   "outputs": [],
   "source": [
    "!ansible {target_master} -b -a \\\n",
    "    '/opt/ood/ood-portal-generator/sbin/update_ood_portal'"
   ]
  },
  {
   "cell_type": "markdown",
   "metadata": {},
   "source": [
    "Open OnDemandのサービス(Apache httpd)を起動します。"
   ]
  },
  {
   "cell_type": "code",
   "execution_count": null,
   "metadata": {},
   "outputs": [],
   "source": [
    "!ansible {target_master} -b -m systemd -a 'name=httpd state=started enabled=true'"
   ]
  },
  {
   "cell_type": "markdown",
   "metadata": {},
   "source": [
    "Webブラウザから、`https://(ood_server_nameで指定したホスト名)/`にアクセスします。認証が求められるので、[ユーザの追加](#ユーザの追加)の節で追加したユーザ名と、basic認証のパスワードを入力します。\n",
    "\n",
    "正しく設定できていれば、Open Ondemandのトップページが表示されます。ただし、ここまでの設定では、Slurmとの関連付けがなされていないので、まだジョブを投入することはできません。\n",
    "\n",
    "Open OnDemandとSlurmとの関連付けの設定は、notebookを分けて説明します。"
   ]
  }
 ],
 "metadata": {
  "kernelspec": {
   "display_name": "Python 3",
   "language": "python",
   "name": "python3"
  },
  "language_info": {
   "file_extension": ".py",
   "mimetype": "text/x-python",
   "name": "python",
   "nbconvert_exporter": "python",
   "pygments_lexer": "ipython3",
   "version": "3.8.6"
  },
  "toc": {
   "base_numbering": 1,
   "nav_menu": {},
   "number_sections": true,
   "sideBar": true,
   "skip_h1_title": true,
   "title_cell": "Table of Contents",
   "title_sidebar": "Contents",
   "toc_cell": false,
   "toc_position": {},
   "toc_section_display": true,
   "toc_window_display": false
  }
 },
 "nbformat": 4,
 "nbformat_minor": 4
}
