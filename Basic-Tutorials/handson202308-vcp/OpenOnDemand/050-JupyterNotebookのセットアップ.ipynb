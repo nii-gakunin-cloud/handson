{
 "cells": [
  {
   "cell_type": "markdown",
   "metadata": {},
   "source": [
    "# Jupyter Notebookのセットアップ"
   ]
  },
  {
   "cell_type": "markdown",
   "metadata": {},
   "source": [
    "## 前提\n",
    "\n",
    "このnotebookでは、Open OnDemandからJupyter Notebookのサーバをジョブとして起動し、それに対して接続する設定を行います。設定にあたっては、以下を前提とします。"
   ]
  },
  {
   "cell_type": "markdown",
   "metadata": {},
   "source": [
    "* [030-ジョブ実行環境の設定](./030-ジョブ実行環境の設定.ipynb)のnotebookによりOpen OnDemandの設定を完了し、Open OnDemandからジョブ実行が可能になっていること。\n",
    "* このnotebookで使用するJupyter Notebookサーバは、[NII-cloud-operation/Jupyter-LC_docker](https://github.com/NII-cloud-operation/Jupyter-LC_docker/)のDockerイメージをベースとし、Open OnDemandから使用可能になるよう変更したものとする。Open OnDemandから使用する際には、DockerイメージをSingularityコンテナとして実行する。"
   ]
  },
  {
   "cell_type": "markdown",
   "metadata": {},
   "source": [
    "## 準備"
   ]
  },
  {
   "cell_type": "markdown",
   "metadata": {},
   "source": [
    "### group_varsの読み込み"
   ]
  },
  {
   "cell_type": "markdown",
   "metadata": {},
   "source": [
    "group_varsの読み込みに先立ち、ユニットグループ名をチェックします。"
   ]
  },
  {
   "cell_type": "code",
   "execution_count": null,
   "metadata": {},
   "outputs": [],
   "source": [
    "!ls -1 group_vars/*.yml | sed -e 's/^group_vars\\///' -e 's/\\.yml//' | sort"
   ]
  },
  {
   "cell_type": "markdown",
   "metadata": {},
   "source": [
    "`ugroup_name`にユニットグループ名を設定します。"
   ]
  },
  {
   "cell_type": "code",
   "execution_count": null,
   "metadata": {},
   "outputs": [],
   "source": [
    "ugroup_name = "
   ]
  },
  {
   "cell_type": "markdown",
   "metadata": {},
   "source": [
    "group_varsを読み込みます。"
   ]
  },
  {
   "cell_type": "code",
   "execution_count": null,
   "metadata": {},
   "outputs": [],
   "source": [
    "%run scripts/group.py\n",
    "gvars = load_group_vars(ugroup_name)"
   ]
  },
  {
   "cell_type": "markdown",
   "metadata": {},
   "source": [
    "### ansibleの動作確認"
   ]
  },
  {
   "cell_type": "markdown",
   "metadata": {},
   "source": [
    "ansibleでSlurmクラスタにアクセスできることを確認します。"
   ]
  },
  {
   "cell_type": "code",
   "execution_count": null,
   "metadata": {},
   "outputs": [],
   "source": [
    "!ansible -m ping {ugroup_name}"
   ]
  },
  {
   "cell_type": "markdown",
   "metadata": {},
   "source": [
    "ansibleで指定するノード集合を設定します。"
   ]
  },
  {
   "cell_type": "code",
   "execution_count": null,
   "metadata": {},
   "outputs": [],
   "source": [
    "target_master = f'{ugroup_name}_master'\n",
    "target_compute = f'{ugroup_name}_compute'"
   ]
  },
  {
   "cell_type": "markdown",
   "metadata": {},
   "source": [
    "## 必要パッケージのインストール"
   ]
  },
  {
   "cell_type": "markdown",
   "metadata": {},
   "source": [
    "空きポートの検索やNotebookサーバの起動確認のために`nc`コマンドが使われるため、nmap-ncatパッケージをインストールします。"
   ]
  },
  {
   "cell_type": "code",
   "execution_count": null,
   "metadata": {},
   "outputs": [],
   "source": [
    "!ansible {target_master} -m dnf -b -a \\\n",
    "    \"name=nmap-ncat state=present\""
   ]
  },
  {
   "cell_type": "markdown",
   "metadata": {},
   "source": [
    "## Notebookサーバイメージの配置\n",
    "\n",
    "[NII-cloud-operation/Jupyter-LC_docker](https://github.com/NII-cloud-operation/Jupyter-LC_docker/)のDockerイメージをベースとしてSingularityイメージを作成します。"
   ]
  },
  {
   "cell_type": "markdown",
   "metadata": {},
   "source": [
    "Singularityイメージは、`/opt/ohpc/pub/apps/jupyter/notebook.sif`として配置します。"
   ]
  },
  {
   "cell_type": "code",
   "execution_count": null,
   "metadata": {},
   "outputs": [],
   "source": [
    "nb_image_dir = '/opt/ohpc/pub/apps/jupyter'\n",
    "nb_image = 'notebook.sif'"
   ]
  },
  {
   "cell_type": "markdown",
   "metadata": {},
   "source": [
    "イメージを配置するディレクトリを作成します。"
   ]
  },
  {
   "cell_type": "code",
   "execution_count": null,
   "metadata": {},
   "outputs": [],
   "source": [
    "!ansible {target_master} -m file -b -a \\\n",
    "    \"path={nb_image_dir} state=directory\""
   ]
  },
  {
   "cell_type": "markdown",
   "metadata": {},
   "source": [
    "OpenHPCではSingularityがインストール済みであるため、Singuiarityイメージは、マスターノードで作成します。そのため、まずSingularityイメージ作成に必要なファイルをマスターノードに転送します。"
   ]
  },
  {
   "cell_type": "code",
   "execution_count": null,
   "metadata": {},
   "outputs": [],
   "source": [
    "!ansible {target_master} -m copy -b -a \\\n",
    "    \"src=./singularity/jupyter dest={nb_image_dir}\""
   ]
  },
  {
   "cell_type": "markdown",
   "metadata": {},
   "source": [
    "Singularityイメージをビルドします。ビルドには数分程度かかります。"
   ]
  },
  {
   "cell_type": "code",
   "execution_count": null,
   "metadata": {},
   "outputs": [],
   "source": [
    "!ansible {target_master} -m shell -b -a \\\n",
    "    'bash -c \"source ~/.bashrc && \\\n",
    "    rm -f {nb_image_dir}/{nb_image} && \\\n",
    "    module load singularity && \\\n",
    "    cd {nb_image_dir}/jupyter && \\\n",
    "    singularity build ../notebook.sif notebook.def\"'"
   ]
  },
  {
   "cell_type": "markdown",
   "metadata": {},
   "source": [
    "イメージをビルドするために転送したファイルを削除します。"
   ]
  },
  {
   "cell_type": "code",
   "execution_count": null,
   "metadata": {},
   "outputs": [],
   "source": [
    "!ansible {target_master} -m file -b -a \\\n",
    "    \"path={nb_image_dir}/jupyter state=absent\""
   ]
  },
  {
   "cell_type": "markdown",
   "metadata": {},
   "source": [
    "## Web UI関連ファイルの配置\n",
    "\n",
    "Open OnDemandのWeb UIを経由したJupyter Notebookジョブの投入に必要となるファイルを配置します。この節で配置しているファイルは、 https://github.com/OSC/bc_example_jupyter のものをベースとして変更を加えているか、変更せずそのまま用いています。変更不要のものについては、直接マスターノードからダウンロードして配置しています。ベースとしている各ファイルのライセンスについては、[LICENSE.txt](https://github.com/OSC/bc_example_jupyter/blob/master/LICENSE.txt)にある通りです。"
   ]
  },
  {
   "cell_type": "markdown",
   "metadata": {},
   "source": [
    "### Appディレクトリの作成"
   ]
  },
  {
   "cell_type": "markdown",
   "metadata": {},
   "source": [
    "Open OnDemandにWeb UIで統合されるアプリケーションは、マスターノードの`/var/www/ood/apps/sys`以下のディレクトリに配置します。\n",
    "\n",
    "Jupyter Notebook向けのディレクトリを作成します。"
   ]
  },
  {
   "cell_type": "code",
   "execution_count": null,
   "metadata": {},
   "outputs": [],
   "source": [
    "nb_app_dir = '/var/www/ood/apps/sys/jupyter'"
   ]
  },
  {
   "cell_type": "code",
   "execution_count": null,
   "metadata": {},
   "outputs": [],
   "source": [
    "!ansible {target_master} -m file -b -a \\\n",
    "    \"path={nb_app_dir} state=directory mode=0755\""
   ]
  },
  {
   "cell_type": "markdown",
   "metadata": {},
   "source": [
    "### `form.yml`\n",
    "\n",
    "`form.yml`は、主に、Notebookサーバをジョブとして実行する際のパラメータなどをWebフォームから設定可能とするためのファイルです。ここでは、`form.yml`を生成するのに必要な設定を行い、生成したファイルをマスターノードに配置します。"
   ]
  },
  {
   "cell_type": "markdown",
   "metadata": {},
   "source": [
    "ジョブを投入するクラスタ名を、`ood_nb_clst`に設定します。[030-ジョブ実行環境の設定](./030-ジョブ実行環境の設定.ipynb)のnotebook通りに設定した場合には、以下の設定をそのまま使用できます。変更した場合は、それに合わせて以下のセルを変更してください。"
   ]
  },
  {
   "cell_type": "code",
   "execution_count": null,
   "metadata": {},
   "outputs": [],
   "source": [
    "ood_nb_clst = f'{ugroup_name}_cluster'"
   ]
  },
  {
   "cell_type": "markdown",
   "metadata": {},
   "source": [
    "クラスタ定義ファイルの存在を確認することで、上の設定が正しいことを確認します。セルの実行結果がエラーとなる場合は、上の設定が誤っている(対応するクラスタ定義ファイルが存在しない)ので修正が必要です。"
   ]
  },
  {
   "cell_type": "code",
   "execution_count": null,
   "metadata": {},
   "outputs": [],
   "source": [
    "!ansible {target_master} -m file -b -a \\\n",
    "    \"path=/etc/ood/config/clusters.d/{ood_nb_clst}.yml state=file\""
   ]
  },
  {
   "cell_type": "markdown",
   "metadata": {},
   "source": [
    "`form.yml`のベースとなるデータ構造を作成します。`attributes.modules`に`singularity`を指定することで、ジョブスクリプトでSingularityを実行可能とします。また、`form`には、Web UIからユーザが設定可能なパラメータを指定します。詳細については、[Open OnDemandの対応するページ](https://osc.github.io/ood-documentation/latest/app-development/tutorials-interactive-apps/add-jupyter/customize-attributes.html)や[GitHubのform.yml](https://github.com/OSC/bc_example_jupyter/blob/master/form.yml)のコメントを参照してください。"
   ]
  },
  {
   "cell_type": "code",
   "execution_count": null,
   "metadata": {},
   "outputs": [],
   "source": [
    "form_yml_data = {\n",
    "    'cluster': ood_nb_clst,\n",
    "    'attributes': {\n",
    "        'modules': 'singularity'\n",
    "    },\n",
    "    'form': [\n",
    "        'modules',\n",
    "        'bc_queue',\n",
    "        'bc_num_hours',\n",
    "        'bc_num_slots'\n",
    "    ]\n",
    "}"
   ]
  },
  {
   "cell_type": "markdown",
   "metadata": {},
   "source": [
    "`form_yml_data`をYAML形式に変換します。"
   ]
  },
  {
   "cell_type": "code",
   "execution_count": null,
   "metadata": {},
   "outputs": [],
   "source": [
    "import yaml\n",
    "\n",
    "form_yml = yaml.safe_dump(form_yml_data, default_flow_style=False)"
   ]
  },
  {
   "cell_type": "markdown",
   "metadata": {},
   "source": [
    "`form.yml`を配置します。"
   ]
  },
  {
   "cell_type": "code",
   "execution_count": null,
   "metadata": {},
   "outputs": [],
   "source": [
    "!ansible {target_master} -m copy -b -a \\\n",
    "    \"content='{form_yml}' dest={nb_app_dir}/form.yml mode=0644\""
   ]
  },
  {
   "cell_type": "markdown",
   "metadata": {},
   "source": [
    "### `submit.yml.erb`\n",
    "\n",
    "`submit.yml.erb`は、ジョブ投入の際のパラメータを設定するためのファイルです。"
   ]
  },
  {
   "cell_type": "markdown",
   "metadata": {},
   "source": [
    "ジョブに割り当てるスロット数を、Webフォームで設定した後となるよう、`script.native`に設定します(`sbatch`に与えるパラメータ)。"
   ]
  },
  {
   "cell_type": "code",
   "execution_count": null,
   "metadata": {},
   "outputs": [],
   "source": [
    "submit_yml_data = {\n",
    "    'script': {\n",
    "        'native': [\n",
    "            '-N',\n",
    "            '<%= bc_num_slots.blank? ? 1 : bc_num_slots.to_i %>'\n",
    "        ]\n",
    "    }\n",
    "}"
   ]
  },
  {
   "cell_type": "markdown",
   "metadata": {},
   "source": [
    "OpenHPC環境においてOpen OnDemandからのジョブ投入が正しく動作するよう、ジョブ投入時の環境変数を引き継ぐ指定をします(`script.copy_environment`に`True`を指定)。"
   ]
  },
  {
   "cell_type": "code",
   "execution_count": null,
   "metadata": {},
   "outputs": [],
   "source": [
    "submit_yml_data['script'].update(\n",
    "    {\n",
    "        'copy_environment': True\n",
    "    }\n",
    ")"
   ]
  },
  {
   "cell_type": "markdown",
   "metadata": {},
   "source": [
    "batch connect(WebアプリケーションをOpen OnDemandからジョブとして実行するためのフレームワーク)のテンプレートを設定します。"
   ]
  },
  {
   "cell_type": "code",
   "execution_count": null,
   "metadata": {},
   "outputs": [],
   "source": [
    "submit_yml_data['batch_connect'] = {\n",
    "    'template': 'basic'\n",
    "}"
   ]
  },
  {
   "cell_type": "markdown",
   "metadata": {},
   "source": [
    "`submit.yml.erb`を配置します。"
   ]
  },
  {
   "cell_type": "code",
   "execution_count": null,
   "metadata": {},
   "outputs": [],
   "source": [
    "with open('./submit.yml.erb', 'w') as f:\n",
    "    yaml.safe_dump(submit_yml_data, f, default_flow_style=False)\n",
    "\n",
    "!ansible {target_master} -m copy -b -a \\\n",
    "    \"src=./submit.yml.erb dest={nb_app_dir}/submit.yml.erb mode=0644\"\n",
    "!rm -f ./submit.yml.erb"
   ]
  },
  {
   "cell_type": "markdown",
   "metadata": {},
   "source": [
    "### ジョブスクリプトテンプレート\n",
    "\n",
    "Jupyter NotebookをSingularityコンテナとして実行するよう変更したジョブスクリプトテンプレートを配置します。"
   ]
  },
  {
   "cell_type": "code",
   "execution_count": null,
   "metadata": {},
   "outputs": [],
   "source": [
    "!ansible {target_master} -m file -b -a \\\n",
    "    \"path={nb_app_dir}/template state=directory mode=0755\"\n",
    "\n",
    "tmpl_files = [\n",
    "    'before.sh.erb',\n",
    "    'script.sh.erb'\n",
    "]\n",
    "for f in tmpl_files:\n",
    "    !ansible {target_master} -m copy -b -a \\\n",
    "        \"src=ood-template/{f} dest={nb_app_dir}/template/{f} mode=0755\""
   ]
  },
  {
   "cell_type": "markdown",
   "metadata": {},
   "source": [
    "`script.sh.erb`でNotebookサーバイメージを実行しているため、[Notebookサーバイメージの配置](#Notebookサーバイメージの配置)でイメージの配置場所を変更した場合には、`script.sh.erb`の内容の変更が必要です。"
   ]
  },
  {
   "cell_type": "markdown",
   "metadata": {},
   "source": [
    "### その他\n",
    "\n",
    "カスタマイズせず使用できるファイルを、 https://github.com/OSC/bc_example_jupyter/ からダウンロードして配置します。"
   ]
  },
  {
   "cell_type": "code",
   "execution_count": null,
   "metadata": {},
   "outputs": [],
   "source": [
    "unmod_files = [\n",
    "    'icon.png',\n",
    "    'manifest.yml',\n",
    "    'view.html.erb',\n",
    "    'template/after.sh'\n",
    "]\n",
    "\n",
    "baseurl = 'https://github.com/OSC/bc_example_jupyter/raw/master'\n",
    "for f in unmod_files:\n",
    "    !ansible {target_master} -m shell -b -a \\\n",
    "        \"curl -L {baseurl}/{f} > {nb_app_dir}/{f}\"\n",
    "\n",
    "!ansible {target_master} -b -a \\\n",
    "    \"chmod +x {nb_app_dir}/template/after.sh\""
   ]
  },
  {
   "cell_type": "markdown",
   "metadata": {},
   "source": [
    "## リバースプロキシの設定\n",
    "\n",
    "Open OnDemandでは、計算ノードでジョブとして実行されるWebアプリケーションを、Apache httpdのリバースプロキシ機能を用いて外部接続可能とします。このため、`/etc/ood/config/ood_portal.yml`を更新します。"
   ]
  },
  {
   "cell_type": "markdown",
   "metadata": {},
   "source": [
    "`ood_portal.yml`を編集するため、現状のファイルをマスターノードから取得します。"
   ]
  },
  {
   "cell_type": "code",
   "execution_count": null,
   "metadata": {},
   "outputs": [],
   "source": [
    "!ansible {target_master} -m fetch -b -a \\\n",
    "    \"src=/etc/ood/config/ood_portal.yml \\\n",
    "    dest=./ flat=true\""
   ]
  },
  {
   "cell_type": "markdown",
   "metadata": {},
   "source": [
    "`ood_portal.yml`を読み込みます。"
   ]
  },
  {
   "cell_type": "code",
   "execution_count": null,
   "metadata": {},
   "outputs": [],
   "source": [
    "import yaml\n",
    "\n",
    "with open('ood_portal.yml') as f:\n",
    "    ood_portal = yaml.safe_load(f)"
   ]
  },
  {
   "cell_type": "markdown",
   "metadata": {},
   "source": [
    "`ood_portal.yml`の`node_uri`に、アクセスされたURIをリバースプロキシにより転送するためのプレフィックスを`/node`と指定します。これにより、`/node/<host>/<port>/...`に対するリクエストが、`<host>:<port>`に転送されます(転送時には、URIの`/node/<host>/<port>`部分はそのまま転送されます)。"
   ]
  },
  {
   "cell_type": "code",
   "execution_count": null,
   "metadata": {},
   "outputs": [],
   "source": [
    "ood_portal['node_uri'] = '/node'"
   ]
  },
  {
   "cell_type": "markdown",
   "metadata": {},
   "source": [
    "`host_regex`に、リクエスト転送先のホストを限定するための正規表現を設定します。"
   ]
  },
  {
   "cell_type": "markdown",
   "metadata": {},
   "source": [
    "`host_regex`設定のため、計算ノードのホスト名のプレフィックスを推定します。"
   ]
  },
  {
   "cell_type": "code",
   "execution_count": null,
   "metadata": {},
   "outputs": [],
   "source": [
    "cn_present = gvars['compute_etc_hosts']\n",
    "cn_max = max(cn_present.values(), key=len)\n",
    "for i in range(len(cn_max) - 2):\n",
    "    c_hostname_prefix = cn_max[0:-(i+1)]\n",
    "    for n in list(cn_present.values()):\n",
    "        matched = n.startswith(c_hostname_prefix)\n",
    "        if not matched:\n",
    "            break\n",
    "    if matched:\n",
    "        break\n",
    "\n",
    "c_hostname_prefix"
   ]
  },
  {
   "cell_type": "markdown",
   "metadata": {},
   "source": [
    "表示されたプレフィックスが正しくない場合は、以下のセルのコメントを外して、c_hostname_prefixに正しいプレフィックスを設定してください。"
   ]
  },
  {
   "cell_type": "code",
   "execution_count": null,
   "metadata": {},
   "outputs": [],
   "source": [
    "# c_hostname_prefix = ''"
   ]
  },
  {
   "cell_type": "markdown",
   "metadata": {},
   "source": [
    "計算ノードのホスト名のプレフィックスに基づき、`host_regex`を設定します。"
   ]
  },
  {
   "cell_type": "code",
   "execution_count": null,
   "metadata": {},
   "outputs": [],
   "source": [
    "ood_portal['host_regex'] = f'{c_hostname_prefix}\\d+'"
   ]
  },
  {
   "cell_type": "markdown",
   "metadata": {},
   "source": [
    "ローカルの`ood_portal.yml`を更新します。"
   ]
  },
  {
   "cell_type": "code",
   "execution_count": null,
   "metadata": {},
   "outputs": [],
   "source": [
    "with open('ood_portal.yml', 'w') as f:\n",
    "    yaml.safe_dump(ood_portal, f, default_flow_style=False)"
   ]
  },
  {
   "cell_type": "markdown",
   "metadata": {},
   "source": [
    "更新後の内容を確認します。"
   ]
  },
  {
   "cell_type": "code",
   "execution_count": null,
   "metadata": {},
   "outputs": [],
   "source": [
    "!cat ood_portal.yml"
   ]
  },
  {
   "cell_type": "markdown",
   "metadata": {},
   "source": [
    "内容が正しいことを確認したら、マスターノードに転送します。"
   ]
  },
  {
   "cell_type": "code",
   "execution_count": null,
   "metadata": {},
   "outputs": [],
   "source": [
    "!ansible {target_master} -m copy -b -a \\\n",
    "    \"src=ood_portal.yml dest=/etc/ood/config/ood_portal.yml\""
   ]
  },
  {
   "cell_type": "markdown",
   "metadata": {},
   "source": [
    "`ood_portal.yml`の更新を、httpdの設定ファイルなどに反映させるため、`update-ood-portal`を実行します。"
   ]
  },
  {
   "cell_type": "code",
   "execution_count": null,
   "metadata": {},
   "outputs": [],
   "source": [
    "!ansible {target_master} -b -a \\\n",
    "    \"/opt/ood/ood-portal-generator/sbin/update_ood_portal\""
   ]
  },
  {
   "cell_type": "markdown",
   "metadata": {},
   "source": [
    "`httpd.service`, `htcacheclean.service`をrestartします。"
   ]
  },
  {
   "cell_type": "code",
   "execution_count": null,
   "metadata": {},
   "outputs": [],
   "source": [
    "!ansible {target_master} -m systemd -b -a \\\n",
    "    \"name=httpd.service state=restarted\"\n",
    "!ansible {target_master} -m systemd -b -a \\\n",
    "    \"name=htcacheclean.service state=restarted\""
   ]
  },
  {
   "cell_type": "markdown",
   "metadata": {},
   "source": [
    "以上でOpen OnDemandからJupyter Notebookサーバをジョブとして実行し、Open OnDemandのWeb UIからサーバに接続できるようになります。"
   ]
  }
 ],
 "metadata": {
  "kernelspec": {
   "display_name": "Python 3",
   "language": "python",
   "name": "python3"
  },
  "language_info": {
   "file_extension": ".py",
   "mimetype": "text/x-python",
   "name": "python",
   "nbconvert_exporter": "python",
   "pygments_lexer": "ipython3",
   "version": "3.8.6"
  },
  "toc": {
   "base_numbering": 1,
   "nav_menu": {},
   "number_sections": true,
   "sideBar": true,
   "skip_h1_title": true,
   "title_cell": "Table of Contents",
   "title_sidebar": "Contents",
   "toc_cell": false,
   "toc_position": {},
   "toc_section_display": true,
   "toc_window_display": true
  }
 },
 "nbformat": 4,
 "nbformat_minor": 4
}
