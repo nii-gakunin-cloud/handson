{
 "cells": [
  {
   "cell_type": "markdown",
   "metadata": {},
   "source": [
    "# 設定ファイルの編集--GPU(GRES)の登録\n",
    "\n",
    "---\n",
    "\n",
    "OpenHPC環境の設定ファイルの内容を変更します。"
   ]
  },
  {
   "cell_type": "markdown",
   "metadata": {},
   "source": [
    "## 概要\n",
    "\n",
    "このNotebookでは、GPUなどをSlurmの[Generic Resource(GRES)](https://slurm.schedmd.com/gres.html)として追加する手順を示します。"
   ]
  },
  {
   "cell_type": "markdown",
   "metadata": {},
   "source": [
    "GRESは Graphics Processing Units (GPUs), CUDA Multi-Process Service (MPS), and Intel® Many Integrated Core (MIC) processors を Slurm で扱うためのプラグインです。デフォルト構成のSlurmでは\n",
    "GRESが利用できないので、このNobookで設定ファイルの変更を行いGRESを利用できるようにします。"
   ]
  },
  {
   "cell_type": "markdown",
   "metadata": {},
   "source": [
    "編集対象とするのは以下の２つの設定ファイルです。\n",
    "\n",
    "* /etc/slurm/slurm.conf\n",
    "* /etc/slurm/gres.conf"
   ]
  },
  {
   "cell_type": "markdown",
   "metadata": {},
   "source": [
    "![処理の流れ](images/ohpc-010.png)\n",
    "\n",
    "このNotebookの主な手順は以下のようになります。\n",
    "\n",
    "1. マスターノードの設定ファイルをNotebook環境に取得する\n",
    "2. 取得したファイルのバックアップを作成する\n",
    "3. Notebookの編集機能を利用して設定ファイルの変更をおこなう\n",
    "4. 変更した設定ファイルを各VCノードに配置する\n",
    "5. 各VCノードのSLURMデーモンに設定ファイルの再読み込みを指示する"
   ]
  },
  {
   "cell_type": "markdown",
   "metadata": {},
   "source": [
    "## 前提条件\n",
    "\n",
    "このNotebookを実行するための前提条件を満たしていることを確認します。"
   ]
  },
  {
   "cell_type": "markdown",
   "metadata": {},
   "source": [
    "以下のことを前提条件とします。\n",
    "* 構築済のOpenHPC環境がある\n",
    "* 各VCノードに対してAnsibleで操作できるように設定されている\n",
    "* 各VCノードに対して管理者権限で操作が行える"
   ]
  },
  {
   "cell_type": "markdown",
   "metadata": {},
   "source": [
    "VCノードを作成時に指定した値を確認するために `group_vars` ファイル名の一覧を表示します。"
   ]
  },
  {
   "cell_type": "code",
   "execution_count": null,
   "metadata": {},
   "outputs": [],
   "source": [
    "!ls -1 group_vars/*.yml | sed -e 's/^group_vars\\///' -e 's/\\.yml//' | sort"
   ]
  },
  {
   "cell_type": "markdown",
   "metadata": {},
   "source": [
    "操作対象となる UnitGroup 名を指定してください。"
   ]
  },
  {
   "cell_type": "code",
   "execution_count": null,
   "metadata": {
    "tags": [
     "vcp:skip",
     "vcp:parameters"
    ]
   },
   "outputs": [],
   "source": [
    "# (例)\n",
    "# ugroup_name = 'OpenHPC'\n",
    "\n",
    "ugroup_name = "
   ]
  },
  {
   "cell_type": "markdown",
   "metadata": {},
   "source": [
    "疎通確認を行います。"
   ]
  },
  {
   "cell_type": "code",
   "execution_count": null,
   "metadata": {},
   "outputs": [],
   "source": [
    "!ansible {ugroup_name} -m ping "
   ]
  },
  {
   "cell_type": "markdown",
   "metadata": {},
   "source": [
    "管理者権限でコマンドが実行できることを確認します。"
   ]
  },
  {
   "cell_type": "code",
   "execution_count": null,
   "metadata": {},
   "outputs": [],
   "source": [
    "!ansible {ugroup_name} -b -a 'whoami'"
   ]
  },
  {
   "cell_type": "markdown",
   "metadata": {},
   "source": [
    "## 設定ファイルの編集\n",
    "\n",
    "OpenHPC環境の設定ファイルを取得して、Jupyter Notebookの編集機能を用いて設定ファイルを編集します。"
   ]
  },
  {
   "cell_type": "markdown",
   "metadata": {},
   "source": [
    "### slurm.conf\n",
    "\n",
    "Slurmの設定ファイル`slurm.conf`を編集します。\n",
    "\n",
    "> 設定ファイルの記述方法の詳細については [slurm.conf(5)](https://slurm.schedmd.com/slurm.conf.html)を参照してください。"
   ]
  },
  {
   "cell_type": "markdown",
   "metadata": {},
   "source": [
    "次のセルを実行すると、以下の手順が実行されます。\n",
    "\n",
    "1. マスターノードの設定ファイル(`slurm.conf`)をローカル環境に取得する\n",
    "2. 取得した設定ファイルのバックアップを作成する\n",
    "3. Jupyter Notebookの編集機能を利用して設定ファイルを編集するためのリンクを表示する\n",
    "\n",
    "ローカル環境に取得したファイルは、以下のパスに格納されています。\n",
    "\n",
    "`./edit/{ugroup_name}/{YYYYMMDDHHmmssffffff}/slurm.conf`\n",
    "\n",
    "`{ugroup_name}` には UnitGroup名が、`{YYYYMMDDHHmmssfffff}` にはファイルを取得したタイムスタンプが入ります。\n",
    "\n",
    "また、バックアップファイルは以下のパスに格納されます。\n",
    "\n",
    "`./edit/{ugroup_name}/{YYYYMMDDHHmmssffffff}/slurm.conf.orig`"
   ]
  },
  {
   "cell_type": "code",
   "execution_count": null,
   "metadata": {
    "tags": [
     "vcp:callback:fetch_conf"
    ]
   },
   "outputs": [],
   "source": [
    "%run scripts/edit_conf.py\n",
    "slurm_conf_path = '/etc/slurm/slurm.conf'\n",
    "fetch_conf(slurm_conf_path, ugroup_name, 'master')"
   ]
  },
  {
   "cell_type": "markdown",
   "metadata": {},
   "source": [
    "上のセルに表示されているリンクをクリックするとファイルの編集画面が開きます。必要な箇所の編集を行い、その結果をファイルに保存してください。ファイルの保存を行うにはメニューの File -- Save を選択するか、キーボードで Ctrl-S をタイプしてください。"
   ]
  },
  {
   "cell_type": "markdown",
   "metadata": {},
   "source": [
    "GPUをGRESとして登録するには [`GresTypes`の設定](https://slurm.schedmd.com/slurm.conf.html#OPT_GresTypes)と、[ノード設定](https://slurm.schedmd.com/slurm.conf.html#SECTION_NODE-CONFIGURATION)に `Gres` を追加する必要があります。例えばc1-c4に一つのGPUをGRESとして設定するには以下のような記述を追加します。\n",
    "\n",
    "```\n",
    "NodeName=c[1-4] Gres=gpu:1 CPUs=4 Boards=1 SocketsPerBoard=1 CoresPerSocket=2 ThreadsPerCore=2 RealMemory=15751 State=UNKNOWN\n",
    "GresTypes=gpu\n",
    "```"
   ]
  },
  {
   "cell_type": "markdown",
   "metadata": {},
   "source": [
    "次のセルを実行すると、計算ノードの実際のリソース量を確認することができます。`slurm.conf`を編集する際の参考にしてください。"
   ]
  },
  {
   "cell_type": "code",
   "execution_count": null,
   "metadata": {
    "tags": [
     "vcp:callback:slurmd_C"
    ]
   },
   "outputs": [],
   "source": [
    "!ansible {ugroup_name}_compute -a '/usr/sbin/slurmd -C'"
   ]
  },
  {
   "cell_type": "markdown",
   "metadata": {},
   "source": [
    "`slurm.conf`の`Gres`を記述する際の参考のために、計算ノードのGPUのリストを表示します。"
   ]
  },
  {
   "cell_type": "code",
   "execution_count": null,
   "metadata": {
    "tags": [
     "vcp:callback:nvidia_smi"
    ]
   },
   "outputs": [],
   "source": [
    "!ansible {ugroup_name}_compute -a 'nvidia-smi -L'"
   ]
  },
  {
   "cell_type": "markdown",
   "metadata": {},
   "source": [
    "設定ファイルの編集後に次のセルを実行すると、編集の前後での差分を確認することができます。"
   ]
  },
  {
   "cell_type": "code",
   "execution_count": null,
   "metadata": {},
   "outputs": [],
   "source": [
    "%run scripts/edit_conf.py\n",
    "show_local_conf_diff(slurm_conf_path, ugroup_name, 'master')"
   ]
  },
  {
   "cell_type": "markdown",
   "metadata": {},
   "source": [
    "### gres.conf\n",
    "\n",
    "`/dev/nvidia0`などのデバイスファイルとの関連付けを行うために `gres.conf` を編集します。"
   ]
  },
  {
   "cell_type": "markdown",
   "metadata": {},
   "source": [
    "次のセルを実行すると`gres.conf`を編集するリンクが表示されます。"
   ]
  },
  {
   "cell_type": "code",
   "execution_count": null,
   "metadata": {
    "tags": [
     "vcp:callback:fetch_conf_gres"
    ]
   },
   "outputs": [],
   "source": [
    "%run scripts/edit_conf.py\n",
    "gres_conf_path = '/etc/slurm/gres.conf'\n",
    "!ansible {ugroup_name}_master -m file -b \\\n",
    "    -a 'path={gres_conf_path} state=touch'\n",
    "fetch_conf(gres_conf_path, ugroup_name, 'master')"
   ]
  },
  {
   "cell_type": "markdown",
   "metadata": {},
   "source": [
    "`/dev/nvidia0` を関連付けるには以下のような記述を追加します。\n",
    "\n",
    "```\n",
    "Name=gpu File=/dev/nvidia0\n",
    "```\n",
    "\n",
    "`gres.conf`の設定内容の詳細については [gres.conf(5)](https://slurm.schedmd.com/gres.conf.html) を参照してください。"
   ]
  },
  {
   "cell_type": "markdown",
   "metadata": {},
   "source": [
    "設定ファイルの編集後に次のセルを実行すると、編集の前後での差分を確認することができます。"
   ]
  },
  {
   "cell_type": "code",
   "execution_count": null,
   "metadata": {},
   "outputs": [],
   "source": [
    "%run scripts/edit_conf.py\n",
    "show_local_conf_diff(gres_conf_path, ugroup_name, 'master')"
   ]
  },
  {
   "cell_type": "markdown",
   "metadata": {},
   "source": [
    "## 編集した設定ファイルの反映\n",
    "\n",
    "編集したファイルをVCノードに配置して、設定ファイルの変更内容をコンテナに反映させます。"
   ]
  },
  {
   "cell_type": "markdown",
   "metadata": {},
   "source": [
    "まず、変更前のノードの状態を確認しておきます。"
   ]
  },
  {
   "cell_type": "code",
   "execution_count": null,
   "metadata": {
    "scrolled": false
   },
   "outputs": [],
   "source": [
    "!ansible {ugroup_name}_master -a 'scontrol show node'"
   ]
  },
  {
   "cell_type": "markdown",
   "metadata": {},
   "source": [
    "では、実際に設定ファイルの変更を行います。\n",
    "\n",
    "次のセルを実行すると、`slurm.conf`, `gres.conf` のそれぞれの設定ファイルについて以下の手順が実行されます。\n",
    "\n",
    "1. 編集前と編集後の設定ファイルの差分を表示する\n",
    "2. 編集した設定ファイルを各VCノードに配置する"
   ]
  },
  {
   "cell_type": "code",
   "execution_count": null,
   "metadata": {},
   "outputs": [],
   "source": [
    "%run scripts/edit_conf.py\n",
    "upload_conf(slurm_conf_path, ugroup_name)\n",
    "upload_conf(gres_conf_path, ugroup_name)"
   ]
  },
  {
   "cell_type": "markdown",
   "metadata": {},
   "source": [
    "変更後の設定を反映させるためにマスターノード、計算ノードの SLURMデーモンを再起動します。"
   ]
  },
  {
   "cell_type": "code",
   "execution_count": null,
   "metadata": {},
   "outputs": [],
   "source": [
    "!ansible {ugroup_name}_master -b -a 'systemctl restart slurmctld'"
   ]
  },
  {
   "cell_type": "code",
   "execution_count": null,
   "metadata": {},
   "outputs": [],
   "source": [
    "!ansible {ugroup_name}_compute -b -a 'systemctl restart slurmd'"
   ]
  },
  {
   "cell_type": "markdown",
   "metadata": {},
   "source": [
    "ノードの状態を確認します。"
   ]
  },
  {
   "cell_type": "code",
   "execution_count": null,
   "metadata": {
    "tags": [
     "vcp:callback:sinfo"
    ]
   },
   "outputs": [],
   "source": [
    "!ansible {ugroup_name}_master -a sinfo"
   ]
  },
  {
   "cell_type": "markdown",
   "metadata": {},
   "source": [
    "`STATE` が `drain` となっている場合はノード状態の更新が必要となります。次のセルのコメント(先頭の `#`)を外して実行してください。"
   ]
  },
  {
   "cell_type": "code",
   "execution_count": null,
   "metadata": {
    "tags": [
     "vcp:rewrite:scontrol_update"
    ]
   },
   "outputs": [],
   "source": [
    "# %run scripts/group.py\n",
    "# gvars = load_group_vars(ugroup_name)\n",
    "# for x in gvars['compute_etc_hosts'].values():\n",
    "#     !ansible {ugroup_name}_master -b -a 'scontrol update nodename={x} state=resume' || true"
   ]
  },
  {
   "cell_type": "markdown",
   "metadata": {},
   "source": [
    "更新後の状態を再度確認します。"
   ]
  },
  {
   "cell_type": "code",
   "execution_count": null,
   "metadata": {},
   "outputs": [],
   "source": [
    "!ansible {ugroup_name}_master -a sinfo"
   ]
  },
  {
   "cell_type": "markdown",
   "metadata": {},
   "source": [
    "各ノードのGRESの状況を表示してみます。"
   ]
  },
  {
   "cell_type": "code",
   "execution_count": null,
   "metadata": {
    "tags": [
     "vcp:callback:sinfo_gres"
    ]
   },
   "outputs": [],
   "source": [
    "!ansible {ugroup_name}_master -a 'sinfo --Node --Format=NodeHost,Gres,GresUsed'"
   ]
  },
  {
   "cell_type": "markdown",
   "metadata": {},
   "source": [
    "ただしく設定変更が行われていると`GRES`の欄にGPUが表示されます。`c1`から`c4`の各ノードに１つのGPUがある場合の表示例を以下に示します。`GRES`の列に GPU が表示されていることを確認してください。\n",
    "```\n",
    "HOSTNAMES           GRES             GRES_USED           \n",
    "c1                  gpu:1            gpu:0\n",
    "c2                  gpu:1            gpu:0\n",
    "c3                  gpu:1            gpu:0\n",
    "c4                  gpu:1            gpu:0\n",
    "```"
   ]
  },
  {
   "cell_type": "markdown",
   "metadata": {},
   "source": [
    "ノード状態の詳細を表示してみます。"
   ]
  },
  {
   "cell_type": "code",
   "execution_count": null,
   "metadata": {
    "scrolled": true
   },
   "outputs": [],
   "source": [
    "!ansible {ugroup_name}_master -a 'scontrol show node'"
   ]
  },
  {
   "cell_type": "markdown",
   "metadata": {},
   "source": [
    "表示されたノードの状態が正しくない場合は「4. 設定ファイルの編集」以降のセルを unfreeze してから再度設定ファイルの変更を行ってください。"
   ]
  }
 ],
 "metadata": {
  "kernelspec": {
   "display_name": "Python 3",
   "language": "python",
   "name": "python3"
  },
  "language_info": {
   "file_extension": ".py",
   "mimetype": "text/x-python",
   "name": "python",
   "nbconvert_exporter": "python",
   "pygments_lexer": "ipython3",
   "version": "3.10.4"
  },
  "toc": {
   "base_numbering": 1,
   "nav_menu": {},
   "number_sections": true,
   "sideBar": true,
   "skip_h1_title": true,
   "title_cell": "Table of Contents",
   "title_sidebar": "Contents",
   "toc_cell": false,
   "toc_position": {},
   "toc_section_display": true,
   "toc_window_display": true
  }
 },
 "nbformat": 4,
 "nbformat_minor": 2
}