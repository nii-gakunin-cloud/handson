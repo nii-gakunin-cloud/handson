{
 "cells": [
  {
   "cell_type": "markdown",
   "metadata": {},
   "source": [
    "# 計算ノードの削除"
   ]
  },
  {
   "cell_type": "markdown",
   "metadata": {},
   "source": [
    "このnotebookでは、OCS OpenHPC-v2テンプレートで作成されたSlurmクラスタから計算ノードを削除する手順について説明します。"
   ]
  },
  {
   "cell_type": "markdown",
   "metadata": {},
   "source": [
    "## 前提"
   ]
  },
  {
   "cell_type": "markdown",
   "metadata": {},
   "source": [
    "* このnotebookで動作確認しているのは、mdx VM上に構築されたOpenHPC環境のみです。他のクラウドプロバイダ上に構築された環境に適用する場合には変更が必要かもしれません。\n",
    "* 正常にジョブ実行ができる状態となっている状態を前提とします。構築途中であったり不具合のある状態の環境は対象としません。\n",
    "* クラスタの管理を単純化するため、削除対象の計算ノードは、計算ノードのIPアドレスを符号なし32ビット整数として見た場合の最大のものから順に選択します。例えば、計算ノードが6ノードあり、IPアドレスがそれぞれ192.168.1.11-192.168.1.16である状態から2ノードを削除する場合、削除対象のノードは、192.168.1.16, 192.168.1.15のIPアドレスのノードとなります。"
   ]
  },
  {
   "cell_type": "markdown",
   "metadata": {},
   "source": [
    "## 準備"
   ]
  },
  {
   "cell_type": "markdown",
   "metadata": {},
   "source": [
    "### UnitGroup名の指定\n",
    "\n",
    "構築環境の UnitGroup名を指定します。"
   ]
  },
  {
   "cell_type": "markdown",
   "metadata": {},
   "source": [
    "VCノードを作成時に指定した値を確認するために group_vars ファイル名の一覧を表示します。"
   ]
  },
  {
   "cell_type": "code",
   "execution_count": null,
   "metadata": {},
   "outputs": [],
   "source": [
    "!ls -1 group_vars/*.yml | sed -e 's/^group_vars\\///' -e 's/\\.yml//' | sort"
   ]
  },
  {
   "cell_type": "markdown",
   "metadata": {},
   "source": [
    "UnitGroup名を次のセルに指定してください。"
   ]
  },
  {
   "cell_type": "code",
   "execution_count": null,
   "metadata": {},
   "outputs": [],
   "source": [
    "# (例)\n",
    "# ugroup_name = 'OpenHPC'\n",
    "\n",
    "ugroup_name = "
   ]
  },
  {
   "cell_type": "markdown",
   "metadata": {},
   "source": [
    "### VCCアクセストークンの入力"
   ]
  },
  {
   "cell_type": "markdown",
   "metadata": {},
   "source": [
    "VCノードを起動するにはVC Controller(VCC)にアクセスして、操作を行う必要があります。VCCにアクセスするために必要となるアクセストークンをここで入力します。"
   ]
  },
  {
   "cell_type": "code",
   "execution_count": null,
   "metadata": {},
   "outputs": [],
   "source": [
    "from getpass import getpass\n",
    "vcc_access_token = getpass()"
   ]
  },
  {
   "cell_type": "markdown",
   "metadata": {},
   "source": [
    "入力されたアクセストークンが正しいことを、実際にVCCにアクセスして確認します。"
   ]
  },
  {
   "cell_type": "code",
   "execution_count": null,
   "metadata": {},
   "outputs": [],
   "source": [
    "from common import logsetting\n",
    "from vcpsdk.vcpsdk import VcpSDK\n",
    "vcp = VcpSDK(vcc_access_token)"
   ]
  },
  {
   "cell_type": "markdown",
   "metadata": {},
   "source": [
    "上のセルの実行結果がエラーとなり以下のようなメッセージが表示されている場合は、入力されたアクセストークンに誤りがあります。\n",
    "\n",
    "```\n",
    "config vc failed: http_status(403)\n",
    "2021/XX/XX XX:XX:XX UTC: VCPAuthException: xxxxxxx:token lookup is failed: permission denied\n",
    "```\n",
    "\n",
    "エラーになった場合はこの節のセルを全て `unfreeze` してから、もう一度アクセストークンの入力を行ってください。\n",
    "\n",
    "> `unfreeze`するにはNotebookのツールバーにある`unfreeze below in section`ボタンなどを利用してください。"
   ]
  },
  {
   "cell_type": "markdown",
   "metadata": {},
   "source": [
    "### group_varsの読み込み"
   ]
  },
  {
   "cell_type": "markdown",
   "metadata": {},
   "source": [
    "次のセルを実行すると「010-パラメータの設定.ipynb」で指定したパラメータを読み込みます。読み込むパラメータの値は、UnitGroup名に指定した 値に対応するものになります。UnitGroup名の指定が誤っていると意図したパラメータが読み込めないので注意してください。"
   ]
  },
  {
   "cell_type": "code",
   "execution_count": null,
   "metadata": {},
   "outputs": [],
   "source": [
    "%run scripts/group.py\n",
    "\n",
    "gvars = load_group_vars(ugroup_name)"
   ]
  },
  {
   "cell_type": "markdown",
   "metadata": {},
   "source": [
    "group_varsの内容を確認しておきます。"
   ]
  },
  {
   "cell_type": "code",
   "execution_count": null,
   "metadata": {},
   "outputs": [],
   "source": [
    "!cat group_vars/{ugroup_name}.yml"
   ]
  },
  {
   "cell_type": "markdown",
   "metadata": {},
   "source": [
    "## 削除対象のノード抽出"
   ]
  },
  {
   "cell_type": "markdown",
   "metadata": {},
   "source": [
    "削除するノード数を、`numnodes_remove`に設定します。この値は、group_varsのcompute_nodesより小さい値である必要があります。"
   ]
  },
  {
   "cell_type": "code",
   "execution_count": null,
   "metadata": {},
   "outputs": [],
   "source": [
    "numnodes_remove = 1\n",
    "if numnodes_remove >= gvars['compute_nodes']:\n",
    "    raise RuntimeError('Error: numnodes_remove too large.')"
   ]
  },
  {
   "cell_type": "markdown",
   "metadata": {},
   "source": [
    "削除する計算ノードを抽出します。[前提](#前提)の節に書いたように、IPアドレスの値の大きなものから順に選択します。"
   ]
  },
  {
   "cell_type": "code",
   "execution_count": null,
   "metadata": {},
   "outputs": [],
   "source": [
    "import ipaddress\n",
    "\n",
    "addrs_to_remove = sorted([ipaddress.ip_address(a)\n",
    "                          for a in gvars['compute_etc_hosts'].keys()],\n",
    "                         reverse=True)[0:numnodes_remove]\n",
    "hosts_to_remove = [gvars['compute_etc_hosts'][str(a)]\n",
    "                   for a in addrs_to_remove]\n",
    "print(hosts_to_remove)"
   ]
  },
  {
   "cell_type": "markdown",
   "metadata": {},
   "source": [
    "## ジョブスケジューリングの抑止\n",
    "\n",
    "削除対象のノードにジョブがスケジュールされない状態に遷移させ、ジョブが割り当てられていない状態になるまで待ち合わせます。"
   ]
  },
  {
   "cell_type": "markdown",
   "metadata": {},
   "source": [
    "削除対象の計算ノードをDRAIN状態に遷移させ、これ以上ジョブがスケジュールされないようにします。"
   ]
  },
  {
   "cell_type": "code",
   "execution_count": null,
   "metadata": {},
   "outputs": [],
   "source": [
    "!ansible {ugroup_name}_master -b -a \\\n",
    "    \"scontrol update NodeName={','.join(hosts_to_remove)} \\\n",
    "        State=DRAIN Reason='Node remboval'\""
   ]
  },
  {
   "cell_type": "markdown",
   "metadata": {},
   "source": [
    "計算ノードの状態がDRAINEDになり、ジョブがスケジュールされない状態になるのを待ち合わせます。"
   ]
  },
  {
   "cell_type": "code",
   "execution_count": null,
   "metadata": {},
   "outputs": [],
   "source": [
    "from time import sleep\n",
    "\n",
    "for i in range(60):\n",
    "    out = !ansible {ugroup_name}_master -b -a \\\n",
    "            \"sinfo --noheader -o %T -N -n {','.join(hosts_to_remove)}\" \\\n",
    "                | tail -n +2 | grep -v drained | wc -l\n",
    "    if int(out[0]) == 0:\n",
    "        break\n",
    "    sleep(10)\n",
    "else:\n",
    "    raise RuntimeError('Error: timeout waiting for nodes drained.')"
   ]
  },
  {
   "cell_type": "markdown",
   "metadata": {},
   "source": [
    "## Slurmクラスタの再構成\n",
    "\n",
    "`slurm.conf`を削除対象のノードを除外した設定にし、Slurmクラスタの再構成を実施します。"
   ]
  },
  {
   "cell_type": "markdown",
   "metadata": {},
   "source": [
    "`slurm.conf`の更新に先立って、計算ノードのホスト名のプレフィックス部分を推定します。以下のセルを実行することで、`c_hostname_prefix`にプレフィックス部分を設定します。設定内容が表示されます。"
   ]
  },
  {
   "cell_type": "code",
   "execution_count": null,
   "metadata": {},
   "outputs": [],
   "source": [
    "cn_present = gvars['compute_etc_hosts']\n",
    "cn_max = max(cn_present.values(), key=len)\n",
    "for i in range(len(cn_max) - 2):\n",
    "    c_hostname_prefix = cn_max[0:-(i+1)]\n",
    "    for n in list(cn_present.values()):\n",
    "        matched = n.startswith(c_hostname_prefix)\n",
    "        if not matched:\n",
    "            break\n",
    "    if matched:\n",
    "        break\n",
    "\n",
    "c_hostname_prefix"
   ]
  },
  {
   "cell_type": "markdown",
   "metadata": {},
   "source": [
    "表示されたプレフィックスが正しくない場合は、以下のセルのコメントを外して、c_hostname_prefixに正しいプレフィックスを設定してください。"
   ]
  },
  {
   "cell_type": "code",
   "execution_count": null,
   "metadata": {},
   "outputs": [],
   "source": [
    "# c_hostname_prefix = ''"
   ]
  },
  {
   "cell_type": "markdown",
   "metadata": {},
   "source": [
    "`/ec/slurm/slurm.conf`更新に先立ち、現状の`slurm.conf`のベースとなっているgroup_varsの設定を確認します。"
   ]
  },
  {
   "cell_type": "code",
   "execution_count": null,
   "metadata": {},
   "outputs": [],
   "source": [
    "import json\n",
    "print(json.dumps(gvars['slurm_conf'], indent=2))"
   ]
  },
  {
   "cell_type": "markdown",
   "metadata": {},
   "source": [
    "`NodeName`に、削除ノードを外すように更新します。以下の処理では正しく更新できない場合には、別途セルを編集の上設定してください。"
   ]
  },
  {
   "cell_type": "code",
   "execution_count": null,
   "metadata": {},
   "outputs": [],
   "source": [
    "from copy import deepcopy\n",
    "\n",
    "compute_nodes_new = gvars['compute_nodes'] - numnodes_remove\n",
    "gvars_new = deepcopy(gvars)\n",
    "gvars_new['slurm_conf'].update(\n",
    "    {'NodeName': f'{c_hostname_prefix}[1-{compute_nodes_new}]'}\n",
    ")\n",
    "\n",
    "print(json.dumps(gvars_new['slurm_conf'], indent=2))"
   ]
  },
  {
   "cell_type": "markdown",
   "metadata": {},
   "source": [
    "各ノードの`slurm.conf`を更新します。更新に先立って必要なスクリプトを各ノードにコピーしています。"
   ]
  },
  {
   "cell_type": "code",
   "execution_count": null,
   "metadata": {},
   "outputs": [],
   "source": [
    "# slurmfuncs.shを配布\n",
    "!ansible {ugroup_name} -m copy -b -a \\\n",
    "    'src=scripts/slurmfuncs.sh dest=/etc/vcp/'\n",
    "\n",
    "# 配布したスクリプトを使用してslurm.confを更新\n",
    "%run scripts/utils.py\n",
    "for addr in addrs_to_remove:\n",
    "    del gvars_new['compute_etc_hosts'][str(addr)]\n",
    "slurm_params = spec_env_slurm_conf(gvars_new)\n",
    "!ansible {ugroup_name} -m file -b -a \\\n",
    "    'path=/var/lib/vcp/.20-slurm state=absent'\n",
    "!ansible {ugroup_name} -m shell -b -a \\\n",
    "    \". /etc/vcp/slurmfuncs.sh; \\\n",
    "    SLURM_NODE_PARAMS={slurm_params} setup_slurm_conf && \\\n",
    "    MASTER_HOSTNAME={gvars_new['master_hostname']} setup_control_machine\""
   ]
  },
  {
   "cell_type": "markdown",
   "metadata": {},
   "source": [
    "`slurmctld`を再起動します。"
   ]
  },
  {
   "cell_type": "code",
   "execution_count": null,
   "metadata": {},
   "outputs": [],
   "source": [
    "!ansible {ugroup_name}_master -m systemd -b -a \\\n",
    "    'name=slurmctld state=restarted'"
   ]
  },
  {
   "cell_type": "markdown",
   "metadata": {},
   "source": [
    "Slurmクラスタの再構成を指示します。"
   ]
  },
  {
   "cell_type": "code",
   "execution_count": null,
   "metadata": {},
   "outputs": [],
   "source": [
    "!ansible {ugroup_name}_master -b -a \\\n",
    "    'scontrol reconfigure'"
   ]
  },
  {
   "cell_type": "markdown",
   "metadata": {},
   "source": [
    "Slurmクラスタから削除対象のノードが削除されていることを確認します。"
   ]
  },
  {
   "cell_type": "code",
   "execution_count": null,
   "metadata": {},
   "outputs": [],
   "source": [
    "!ansible {ugroup_name}_master -b -a \\\n",
    "    'sinfo'"
   ]
  },
  {
   "cell_type": "markdown",
   "metadata": {},
   "source": [
    "## 削除対象のノードの終了処理"
   ]
  },
  {
   "cell_type": "markdown",
   "metadata": {},
   "source": [
    "### VCノードの削除\n",
    "\n",
    "計算ノードのUnitから、削除対象のVCノードを削除します。"
   ]
  },
  {
   "cell_type": "markdown",
   "metadata": {},
   "source": [
    "計算ノードのUnitを取得します。"
   ]
  },
  {
   "cell_type": "code",
   "execution_count": null,
   "metadata": {},
   "outputs": [],
   "source": [
    "ug = vcp.get_ugroup(gvars['ugroup_name'])\n",
    "unit = ug.get_unit('compute')"
   ]
  },
  {
   "cell_type": "markdown",
   "metadata": {},
   "source": [
    "現状のUnitの状態を確認します。"
   ]
  },
  {
   "cell_type": "code",
   "execution_count": null,
   "metadata": {},
   "outputs": [],
   "source": [
    "unit.df_nodes()"
   ]
  },
  {
   "cell_type": "markdown",
   "metadata": {},
   "source": [
    "対象のVCノードを削除します。"
   ]
  },
  {
   "cell_type": "code",
   "execution_count": null,
   "metadata": {},
   "outputs": [],
   "source": [
    "unit.delete_nodes(\n",
    "    ip_addresses=[str(a) for a in addrs_to_remove]\n",
    ")"
   ]
  },
  {
   "cell_type": "markdown",
   "metadata": {},
   "source": [
    "削除後のUnitの状態を表示し、削除対象のノードが削除されていることを確認します。"
   ]
  },
  {
   "cell_type": "code",
   "execution_count": null,
   "metadata": {},
   "outputs": [],
   "source": [
    "unit.df_nodes()"
   ]
  },
  {
   "cell_type": "markdown",
   "metadata": {},
   "source": [
    "### mdx VMの削除"
   ]
  },
  {
   "cell_type": "markdown",
   "metadata": {},
   "source": [
    "mdxの操作のため、mdx REST API認証トークンを入力します。"
   ]
  },
  {
   "cell_type": "code",
   "execution_count": null,
   "metadata": {},
   "outputs": [],
   "source": [
    "from getpass import getpass\n",
    "mdx_token = getpass(\"mdx API token\")"
   ]
  },
  {
   "cell_type": "markdown",
   "metadata": {},
   "source": [
    "mdx REST APIエンドポイントにIPv6で接続しようとすると到達不可となる場合があるため、以下のセルを実行してIPv4での接続を強制します。"
   ]
  },
  {
   "cell_type": "code",
   "execution_count": null,
   "metadata": {},
   "outputs": [],
   "source": [
    "def use_ipv4_only():\n",
    "    import socket\n",
    "    old_getaddrinfo = socket.getaddrinfo\n",
    "    def new_getaddrinfo(*args, **kwargs):\n",
    "        responses = old_getaddrinfo(*args, **kwargs)\n",
    "        return [response\n",
    "                for response in responses\n",
    "                if response[0] == socket.AF_INET]\n",
    "    socket.getaddrinfo = new_getaddrinfo\n",
    "\n",
    "use_ipv4_only()"
   ]
  },
  {
   "cell_type": "markdown",
   "metadata": {},
   "source": [
    "VCP SDK mdx用プラグインモジュールを読み込みます。"
   ]
  },
  {
   "cell_type": "code",
   "execution_count": null,
   "metadata": {},
   "outputs": [],
   "source": [
    "from common import logsetting\n",
    "from vcpsdk.plugins.mdx_ext import MdxResourceExt\n",
    "mdx = MdxResourceExt(mdx_token)\n",
    "mdx.set_current_project_by_name(gvars['mdx_project_name'])"
   ]
  },
  {
   "cell_type": "markdown",
   "metadata": {},
   "source": [
    "mdx VMを削除するためにはまず停止状態にする必要があるため、VMを強制停止します。削除するVMは後で使うことはなく、また、停止にかかる時間が短い方が望ましいため、OSのシャットダウンを経由せず強制停止します。"
   ]
  },
  {
   "cell_type": "code",
   "execution_count": null,
   "metadata": {},
   "outputs": [],
   "source": [
    "from vcpsdk.plugins.mdx_ext import SLEEP_COUNT\n",
    "from vcpsdk.plugins.mdx_ext import SLEEP_TIME_SEC\n",
    "from time import sleep\n",
    "\n",
    "for vm in hosts_to_remove:\n",
    "    mdx.power_off_vm(vm, wait_for=False)\n",
    "for vm in hosts_to_remove:\n",
    "    for i in range(SLEEP_COUNT):\n",
    "        info = mdx.get_vm_info(vm)\n",
    "        if info['status'] == 'PowerOFF':\n",
    "            break\n",
    "        sleep(SLEEP_TIME_SEC)\n",
    "    else:\n",
    "        raise RuntimeError(f'Error: VM {vm} not powered off.')"
   ]
  },
  {
   "cell_type": "markdown",
   "metadata": {},
   "source": [
    "VMを削除します。"
   ]
  },
  {
   "cell_type": "code",
   "execution_count": null,
   "metadata": {},
   "outputs": [],
   "source": [
    "for vm in hosts_to_remove:\n",
    "    mdx.destroy_vm(vm, wait_for=False)\n",
    "for vm in hosts_to_remove:\n",
    "    for i in range(SLEEP_COUNT):\n",
    "        info = mdx.get_vm_info(vm)\n",
    "        if info is None:\n",
    "            break\n",
    "        sleep(SLEEP_TIME_SEC)\n",
    "    else:\n",
    "        raise RuntimeError(f'Error: VM {vm} not destroyed off.')"
   ]
  },
  {
   "cell_type": "markdown",
   "metadata": {},
   "source": [
    "## notebook環境側のデータ更新"
   ]
  },
  {
   "cell_type": "markdown",
   "metadata": {},
   "source": [
    "### ansibleの設定更新\n",
    "\n",
    "削除したVCノードをansibleでの操作対象から外すため、ansibleの設定を更新します。"
   ]
  },
  {
   "cell_type": "markdown",
   "metadata": {},
   "source": [
    "SSHのknown_hostsファイルから、削除したノードのエントリを削除します。"
   ]
  },
  {
   "cell_type": "code",
   "execution_count": null,
   "metadata": {},
   "outputs": [],
   "source": [
    "for addr in addrs_to_remove:\n",
    "    !ssh-keygen -R {addr}"
   ]
  },
  {
   "cell_type": "markdown",
   "metadata": {},
   "source": [
    "ansibleの`inventory.yml`を更新します。"
   ]
  },
  {
   "cell_type": "code",
   "execution_count": null,
   "metadata": {},
   "outputs": [],
   "source": [
    "import yaml\n",
    "\n",
    "inventory = {\n",
    "    'all': {\n",
    "        'children': {\n",
    "            ug.name: {\n",
    "                'children': dict([\n",
    "                    (\n",
    "                        f'{ug.name}_{unit.name}',\n",
    "                        {\n",
    "                            'hosts': dict([\n",
    "                                (ip, {})\n",
    "                                for ip in unit.find_ip_addresses()\n",
    "                            ])\n",
    "                        }\n",
    "                    )\n",
    "                    for unit in ug.find_units()]),\n",
    "                'vars': {\n",
    "                    'ansible_user': 'vcp',\n",
    "                    'ansible_ssh_private_key_file': gvars['ssh_private_key_path'],\n",
    "                }\n",
    "            }\n",
    "        }\n",
    "    }\n",
    "}\n",
    "\n",
    "with open('inventory.yml', 'w') as f:\n",
    "    yaml.safe_dump(inventory, f, default_flow_style=False)\n",
    "    \n",
    "!cat inventory.yml"
   ]
  },
  {
   "cell_type": "markdown",
   "metadata": {},
   "source": [
    "### group_varsの更新"
   ]
  },
  {
   "cell_type": "markdown",
   "metadata": {},
   "source": [
    "ノードを削除した際に更新する必要がある、以下のパラメータを更新します。\n",
    "* `slurm_conf`\n",
    "* `compute_nodes`\n",
    "* `compute_etc_hosts`"
   ]
  },
  {
   "cell_type": "code",
   "execution_count": null,
   "metadata": {},
   "outputs": [],
   "source": [
    "%run scripts/group.py\n",
    "\n",
    "update_group_vars(\n",
    "    ugroup_name,\n",
    "    slurm_conf=gvars_new['slurm_conf'],\n",
    "    compute_nodes=compute_nodes_new,\n",
    "    compute_etc_hosts=gvars_new['compute_etc_hosts']\n",
    ")"
   ]
  },
  {
   "cell_type": "markdown",
   "metadata": {},
   "source": [
    "group_varsの内容を確認します。"
   ]
  },
  {
   "cell_type": "code",
   "execution_count": null,
   "metadata": {},
   "outputs": [],
   "source": [
    "!cat group_vars/{ugroup_name}.yml"
   ]
  },
  {
   "cell_type": "markdown",
   "metadata": {},
   "source": [
    "## `/etc/hosts`の更新\n",
    "\n",
    "計算ノードの削除にあたっては必須の作業ではありませんが、Slurmクラスタのノードの`/etc/hosts`から、削除した計算ノードのエントリを削除します。"
   ]
  },
  {
   "cell_type": "code",
   "execution_count": null,
   "metadata": {},
   "outputs": [],
   "source": [
    "for addr in addrs_to_remove:\n",
    "    host = gvars['compute_etc_hosts'][str(addr)]\n",
    "    !ansible {ugroup_name} -m lineinfile -b -a \\\n",
    "        \"path=/etc/hosts line='{addr}\\t{host}' \\\n",
    "        state=absent unsafe_writes=true\""
   ]
  }
 ],
 "metadata": {
  "kernelspec": {
   "display_name": "Python 3",
   "language": "python",
   "name": "python3"
  },
  "language_info": {
   "file_extension": ".py",
   "mimetype": "text/x-python",
   "name": "python",
   "nbconvert_exporter": "python",
   "pygments_lexer": "ipython3",
   "version": "3.8.6"
  },
  "toc": {
   "base_numbering": 1,
   "nav_menu": {},
   "number_sections": true,
   "sideBar": true,
   "skip_h1_title": true,
   "title_cell": "Table of Contents",
   "title_sidebar": "Contents",
   "toc_cell": false,
   "toc_position": {
    "height": "calc(100% - 180px)",
    "left": "10px",
    "top": "150px",
    "width": "184.317px"
   },
   "toc_section_display": true,
   "toc_window_display": false
  }
 },
 "nbformat": 4,
 "nbformat_minor": 4
}
