{
 "cells": [
  {
   "cell_type": "markdown",
   "metadata": {
    "lc_cell_meme": {
     "current": "14d34282-ac0e-11ec-a2a8-005056b02367-9-c993-a671-de75-43e3-764b-414a-9d00-a952-a864",
     "next": "06937386-ac18-11ec-a2a8-005056b02367-9-8b51-1f1e-7a16-7ec4-e34e-0350-e9bd-ddf4-450a",
     "previous": null
    }
   },
   "source": [
    "# mdx VMのデプロイとVCP既存サーバ (SSH) モード セットアップ\n",
    "\n",
    "この Notebook では、mdx VM のデプロイと、その mdx VM をVCP既存サーバ(SSH) モードで利用できるようにするまでのセットアップを行います。\n",
    "\n",
    "VCPで利用可能なクラウド環境にはAWSのようなパブリッククラウドや、学術機関のクラウド、オンプレミスシステム向けなど複数あります。  \n",
    "mdx VM (仮想マシン) もこれらと同様にVCPで扱う計算資源に対応した背景や方式については以下の資料を参照してください。\n",
    "\n",
    "* NIIオープンフォーラム2022 / クラウドトラック2 / 学認クラウドオンデマンド構築サービス・SINETStream  \n",
    "  [VCP (Virtual Cloud Provider) の mdx サポートに向けた実装と活用例 (pdf)](https://www.nii.ac.jp/openforum/upload/20220601PM_Cloud2_02.pdf)"
   ]
  },
  {
   "cell_type": "markdown",
   "metadata": {
    "lc_cell_meme": {
     "current": "06937386-ac18-11ec-a2a8-005056b02367-9-8b51-1f1e-7a16-7ec4-e34e-0350-e9bd-ddf4-450a",
     "next": "32e9d710-adc9-11ec-9d19-005056b02673-8-2b18-16c9-d9d2-9cf3-f6f2-6725-3521-155a",
     "previous": "14d34282-ac0e-11ec-a2a8-005056b02367-9-c993-a671-de75-43e3-764b-414a-9d00-a952-a864"
    }
   },
   "source": [
    "## 前提条件\n",
    "\n",
    "1. VCコントローラが動作していること\n",
    "    * このNotebookを実行しているJupyterNotebookサーバと同一ホスト上で稼働するVCPポータブル版のVCコントローラを使用\n",
    "2. `vcp_config/vcp_config.yml` ファイルにおいてVCコントローラの設定が完了していること"
   ]
  },
  {
   "cell_type": "markdown",
   "metadata": {
    "heading_collapsed": true,
    "lc_cell_meme": {
     "current": "32e9d710-adc9-11ec-9d19-005056b02673-8-2b18-16c9-d9d2-9cf3-f6f2-6725-3521-155a",
     "next": "c1f75fb8-adc9-11ec-9d19-005056b02673-8-c117-9bd5-8e37-4c62-2e80-e398-f6a1-9872",
     "previous": "06937386-ac18-11ec-a2a8-005056b02367-9-8b51-1f1e-7a16-7ec4-e34e-0350-e9bd-ddf4-450a"
    }
   },
   "source": [
    "## 準備\n",
    "\n",
    "1. mdx REST API 認証トークン設定\n",
    "2. mdx VM にSSHログインするためのキーペア作成\n",
    "3. mdx の REST API エンドポイントに接続できることの確認"
   ]
  },
  {
   "cell_type": "markdown",
   "metadata": {
    "hidden": true,
    "lc_cell_meme": {
     "current": "c1f75fb8-adc9-11ec-9d19-005056b02673-8-c117-9bd5-8e37-4c62-2e80-e398-f6a1-9872",
     "next": "c1f76346-adc9-11ec-9d19-005056b02673-8-fca5-8be0-de31-fbd6-a70f-642b-cb7b-6102",
     "previous": "32e9d710-adc9-11ec-9d19-005056b02673-8-2b18-16c9-d9d2-9cf3-f6f2-6725-3521-155a"
    }
   },
   "source": [
    "### mdx REST API 認証トークン設定\n",
    "\n",
    "- mdx REST API 認証トークンは、[mdxユーザポータル](https://oprpl.mdx.jp/) の「トークン発行」により取得する。\n",
    "  * 「トークン発行」は、ユーザポータル画面右上にあるユーザ名をクリックすると表示される。\n",
    "  \n",
    "![](./images/001-mdx-token.png)"
   ]
  },
  {
   "cell_type": "code",
   "execution_count": null,
   "metadata": {
    "hidden": true,
    "lc_cell_meme": {
     "current": "c1f76346-adc9-11ec-9d19-005056b02673-8-fca5-8be0-de31-fbd6-a70f-642b-cb7b-6102",
     "next": "0a10b70e-adca-11ec-9d19-005056b02673-8-549c-8614-2a36-3f14-62aa-566a-0c9d-640b",
     "previous": "c1f75fb8-adc9-11ec-9d19-005056b02673-8-c117-9bd5-8e37-4c62-2e80-e398-f6a1-9872"
    },
    "lc_wrapper": {}
   },
   "outputs": [],
   "source": [
    "# mdx REST API 認証トークン設定\n",
    "from getpass import getpass\n",
    "mdx_token = getpass(\"mdx API token\")"
   ]
  },
  {
   "cell_type": "markdown",
   "metadata": {
    "hidden": true,
    "lc_cell_meme": {
     "current": "0a10b70e-adca-11ec-9d19-005056b02673-8-549c-8614-2a36-3f14-62aa-566a-0c9d-640b",
     "next": "c1f76652-adc9-11ec-9d19-005056b02673-8-a957-0f31-3363-ac33-61ed-e21f-f479-7c4f",
     "previous": "c1f76346-adc9-11ec-9d19-005056b02673-8-fca5-8be0-de31-fbd6-a70f-642b-cb7b-6102"
    }
   },
   "source": [
    "### mdx VM への SSH ログイン用キーペア作成\n",
    "\n",
    "- mdx VM デプロイ時の設定項目に含まれる公開鍵を用意する。"
   ]
  },
  {
   "cell_type": "code",
   "execution_count": null,
   "metadata": {
    "hidden": true,
    "lc_cell_meme": {
     "current": "c1f76652-adc9-11ec-9d19-005056b02673-8-a957-0f31-3363-ac33-61ed-e21f-f479-7c4f",
     "next": "0a10ba6a-adca-11ec-9d19-005056b02673-8-fa5b-298c-3c58-f740-c07f-75ab-d0db-0808",
     "previous": "0a10b70e-adca-11ec-9d19-005056b02673-8-549c-8614-2a36-3f14-62aa-566a-0c9d-640b"
    },
    "lc_wrapper": {}
   },
   "outputs": [],
   "source": [
    "!test -f ~/.ssh/id_rsa || ssh-keygen -t rsa -f ~/.ssh/id_rsa -N \"\"\n",
    "!ls -l ~/.ssh"
   ]
  },
  {
   "cell_type": "markdown",
   "metadata": {
    "hidden": true,
    "lc_cell_meme": {
     "current": "0a10ba6a-adca-11ec-9d19-005056b02673-8-fa5b-298c-3c58-f740-c07f-75ab-d0db-0808",
     "next": "0a10bc18-adca-11ec-9d19-005056b02673-8-7034-a79d-1323-c88e-6899-0ef8-e34e-783c",
     "previous": "c1f76652-adc9-11ec-9d19-005056b02673-8-a957-0f31-3363-ac33-61ed-e21f-f479-7c4f"
    }
   },
   "source": [
    "### mdx REST API エンドポイント接続確認\n",
    "\n",
    "- HTTPステータスコード 200 が返ることを確認する。"
   ]
  },
  {
   "cell_type": "code",
   "execution_count": null,
   "metadata": {
    "hidden": true,
    "lc_cell_meme": {
     "current": "0a10bc18-adca-11ec-9d19-005056b02673-8-7034-a79d-1323-c88e-6899-0ef8-e34e-783c",
     "next": "0a10bd80-adca-11ec-9d19-005056b02673-8-1434-2299-75aa-da47-7922-65e0-0de8-627a",
     "previous": "0a10ba6a-adca-11ec-9d19-005056b02673-8-fa5b-298c-3c58-f740-c07f-75ab-d0db-0808"
    },
    "lc_wrapper": {}
   },
   "outputs": [],
   "source": [
    "# デフォルトのresolverがIPv6のアドレスを返すことにより以降のAPIで接続不可の場合があるため、以下のコードを実行しておく。\n",
    "def use_ipv4_only():\n",
    "    import socket\n",
    "    old_getaddrinfo = socket.getaddrinfo\n",
    "    def new_getaddrinfo(*args, **kwargs):\n",
    "        responses = old_getaddrinfo(*args, **kwargs)\n",
    "        return [response\n",
    "                for response in responses\n",
    "                if response[0] == socket.AF_INET]\n",
    "    socket.getaddrinfo = new_getaddrinfo\n",
    "\n",
    "use_ipv4_only()"
   ]
  },
  {
   "cell_type": "code",
   "execution_count": null,
   "metadata": {
    "hidden": true,
    "lc_cell_meme": {
     "current": "0a10bd80-adca-11ec-9d19-005056b02673-8-1434-2299-75aa-da47-7922-65e0-0de8-627a",
     "next": "3f20c942-1c48-11ed-aae3-005056b02e0f-4-93b6-704a-2983-a32d",
     "previous": "0a10bc18-adca-11ec-9d19-005056b02673-8-7034-a79d-1323-c88e-6899-0ef8-e34e-783c"
    },
    "lc_wrapper": {}
   },
   "outputs": [],
   "source": [
    "!curl https://oprpl.mdx.jp -w '%{http_code}\\n' -o /dev/null -s"
   ]
  },
  {
   "cell_type": "markdown",
   "metadata": {
    "hidden": true,
    "lc_cell_meme": {
     "current": "3f20c942-1c48-11ed-aae3-005056b02e0f-4-93b6-704a-2983-a32d",
     "next": "3f20ccee-1c48-11ed-aae3-005056b02e0f-4-6fa0-d57f-d68d-637e",
     "previous": "0a10bd80-adca-11ec-9d19-005056b02673-8-1434-2299-75aa-da47-7922-65e0-0de8-627a"
    }
   },
   "source": [
    "### （必要に応じて）Pythonパッケージ追加\n",
    "\n",
    "- mdx VMのデプロイなど時間がかかる処理において、セル実行中の経過時間を表示するライブラリをインストールする。\n",
    "  - <https://pypi.org/project/jupyter-autotime/>"
   ]
  },
  {
   "cell_type": "code",
   "execution_count": null,
   "metadata": {
    "hidden": true,
    "lc_cell_meme": {
     "current": "3f20ccee-1c48-11ed-aae3-005056b02e0f-4-6fa0-d57f-d68d-637e",
     "next": "0a10bede-adca-11ec-9d19-005056b02673-8-2a44-5331-e3ac-ac68-9283-5b9d-be7e-709d",
     "previous": "3f20c942-1c48-11ed-aae3-005056b02e0f-4-93b6-704a-2983-a32d"
    }
   },
   "outputs": [],
   "source": [
    "!pip install jupyter-autotime"
   ]
  },
  {
   "cell_type": "markdown",
   "metadata": {
    "heading_collapsed": true,
    "lc_cell_meme": {
     "current": "0a10bede-adca-11ec-9d19-005056b02673-8-2a44-5331-e3ac-ac68-9283-5b9d-be7e-709d",
     "next": "52021760-adca-11ec-9d19-005056b02673-8-7907-3cc5-c34e-180a-7027-25b9-a75c-cba4",
     "previous": "3f20ccee-1c48-11ed-aae3-005056b02e0f-4-6fa0-d57f-d68d-637e"
    }
   },
   "source": [
    "## mdx VM 作成\n",
    "\n",
    "1. VCP SDK mdx用プラグインモジュールの読み込み\n",
    "2. mdx VM作成に必要なパラメータ設定\n",
    "3. mdx VMデプロイ実行"
   ]
  },
  {
   "cell_type": "markdown",
   "metadata": {
    "hidden": true,
    "lc_cell_meme": {
     "current": "52021760-adca-11ec-9d19-005056b02673-8-7907-3cc5-c34e-180a-7027-25b9-a75c-cba4",
     "next": "52021940-adca-11ec-9d19-005056b02673-8-887d-d4a0-3298-bb59-2f1b-4813-4fe8-53ef",
     "previous": "0a10bede-adca-11ec-9d19-005056b02673-8-2a44-5331-e3ac-ac68-9283-5b9d-be7e-709d"
    }
   },
   "source": [
    "### VCP SDK mdx用プラグインモジュールの読み込み"
   ]
  },
  {
   "cell_type": "code",
   "execution_count": null,
   "metadata": {
    "hidden": true,
    "lc_cell_meme": {
     "current": "52021940-adca-11ec-9d19-005056b02673-8-887d-d4a0-3298-bb59-2f1b-4813-4fe8-53ef",
     "next": "52021b52-adca-11ec-9d19-005056b02673-8-863b-18db-4ee9-57e3-aaaf-7110-3488-8d0a",
     "previous": "52021760-adca-11ec-9d19-005056b02673-8-7907-3cc5-c34e-180a-7027-25b9-a75c-cba4"
    },
    "lc_wrapper": {}
   },
   "outputs": [],
   "source": [
    "from common import logsetting\n",
    "from vcpsdk.plugins.mdx_ext import MdxResourceExt\n",
    "mdx = MdxResourceExt(mdx_token)"
   ]
  },
  {
   "cell_type": "markdown",
   "metadata": {
    "hidden": true,
    "lc_cell_meme": {
     "current": "52021b52-adca-11ec-9d19-005056b02673-8-863b-18db-4ee9-57e3-aaaf-7110-3488-8d0a",
     "next": "86a73580-1c48-11ed-aae3-005056b02e0f-4-73de-f312-ce19-a332",
     "previous": "52021940-adca-11ec-9d19-005056b02673-8-887d-d4a0-3298-bb59-2f1b-4813-4fe8-53ef"
    }
   },
   "source": [
    "### mdx VM作成に必要なパラメータ設定\n",
    "\n",
    "- プロジェクトID\n",
    "- ネットワークセグメントID\n",
    "- sshログインのための公開鍵"
   ]
  },
  {
   "cell_type": "markdown",
   "metadata": {
    "hidden": true,
    "lc_cell_meme": {
     "current": "86a73580-1c48-11ed-aae3-005056b02e0f-4-73de-f312-ce19-a332",
     "next": "52021bca-adca-11ec-9d19-005056b02673-8-957e-8355-f43c-1991-6517-ace7-ed47-6d89",
     "previous": "52021b52-adca-11ec-9d19-005056b02673-8-863b-18db-4ee9-57e3-aaaf-7110-3488-8d0a"
    }
   },
   "source": [
    "自身が所属している（利用可能な）mdxのプロジェクト情報を確認する。"
   ]
  },
  {
   "cell_type": "code",
   "execution_count": null,
   "metadata": {
    "hidden": true,
    "lc_cell_meme": {
     "current": "52021bca-adca-11ec-9d19-005056b02673-8-957e-8355-f43c-1991-6517-ace7-ed47-6d89",
     "next": "86a73986-1c48-11ed-aae3-005056b02e0f-4-7046-b569-56d4-5b4a",
     "previous": "86a73580-1c48-11ed-aae3-005056b02e0f-4-73de-f312-ce19-a332"
    },
    "lc_wrapper": {}
   },
   "outputs": [],
   "source": [
    "import json\n",
    "projects = mdx.get_assigned_projects()\n",
    "print(json.dumps(projects[0][\"projects\"], indent=2))"
   ]
  },
  {
   "cell_type": "markdown",
   "metadata": {
    "hidden": true,
    "lc_cell_meme": {
     "current": "86a73986-1c48-11ed-aae3-005056b02e0f-4-7046-b569-56d4-5b4a",
     "next": "998b7aa4-adca-11ec-9d19-005056b02673-8-9f16-d6c4-fc01-2924-6abb-e049-e41e-ee80",
     "previous": "52021bca-adca-11ec-9d19-005056b02673-8-957e-8355-f43c-1991-6517-ace7-ed47-6d89"
    }
   },
   "source": [
    "以降のmdx操作対象とする「プロジェクト名」 (`name`) を設定する。"
   ]
  },
  {
   "cell_type": "code",
   "execution_count": null,
   "metadata": {
    "hidden": true,
    "lc_cell_meme": {
     "current": "998b7aa4-adca-11ec-9d19-005056b02673-8-9f16-d6c4-fc01-2924-6abb-e049-e41e-ee80",
     "next": "ce2d9b88-1c48-11ed-aae3-005056b02e0f-4-9c35-3d08-a98b-7696",
     "previous": "86a73986-1c48-11ed-aae3-005056b02e0f-4-7046-b569-56d4-5b4a"
    },
    "lc_wrapper": {}
   },
   "outputs": [],
   "source": [
    "project_name = ''\n",
    "mdx.set_current_project_by_name(project_name)"
   ]
  },
  {
   "cell_type": "markdown",
   "metadata": {
    "hidden": true,
    "lc_cell_meme": {
     "current": "ce2d9b88-1c48-11ed-aae3-005056b02e0f-4-9c35-3d08-a98b-7696",
     "next": "998b7e14-adca-11ec-9d19-005056b02673-8-01b5-a545-2549-220e-f81e-cf9b-95b6-6584",
     "previous": "998b7aa4-adca-11ec-9d19-005056b02673-8-9f16-d6c4-fc01-2924-6abb-e049-e41e-ee80"
    }
   },
   "source": [
    "操作対象として設定したプロジェクト情報を確認する。"
   ]
  },
  {
   "cell_type": "code",
   "execution_count": null,
   "metadata": {
    "hidden": true,
    "lc_cell_meme": {
     "current": "998b7e14-adca-11ec-9d19-005056b02673-8-01b5-a545-2549-220e-f81e-cf9b-95b6-6584",
     "next": "ce2d9f0c-1c48-11ed-aae3-005056b02e0f-4-4f60-c283-b327-539c",
     "previous": "ce2d9b88-1c48-11ed-aae3-005056b02e0f-4-9c35-3d08-a98b-7696"
    },
    "lc_wrapper": {}
   },
   "outputs": [],
   "source": [
    "print(json.dumps(mdx.get_current_project(), indent=2))"
   ]
  },
  {
   "cell_type": "markdown",
   "metadata": {
    "hidden": true,
    "lc_cell_meme": {
     "current": "ce2d9f0c-1c48-11ed-aae3-005056b02e0f-4-4f60-c283-b327-539c",
     "next": "998b812a-adca-11ec-9d19-005056b02673-8-3e8b-24ef-7ab5-f235-ab53-170b-eab7-84ee",
     "previous": "998b7e14-adca-11ec-9d19-005056b02673-8-01b5-a545-2549-220e-f81e-cf9b-95b6-6584"
    }
   },
   "source": [
    "プロジェクトで利用可能なットワークセグメントのリストを取得し、先頭のIDを設定する。"
   ]
  },
  {
   "cell_type": "code",
   "execution_count": null,
   "metadata": {
    "hidden": true,
    "lc_cell_meme": {
     "current": "998b812a-adca-11ec-9d19-005056b02673-8-3e8b-24ef-7ab5-f235-ab53-170b-eab7-84ee",
     "next": "ce2da0d8-1c48-11ed-aae3-005056b02e0f-4-388e-ce20-23a4-ab7a",
     "previous": "ce2d9f0c-1c48-11ed-aae3-005056b02e0f-4-4f60-c283-b327-539c"
    },
    "lc_wrapper": {}
   },
   "outputs": [],
   "source": [
    "segments = mdx.get_segments()\n",
    "print(json.dumps(segments, indent=2))\n",
    "\n",
    "segment_id = mdx.get_segments()[0][\"uuid\"]\n",
    "print(segment_id)"
   ]
  },
  {
   "cell_type": "markdown",
   "metadata": {
    "hidden": true,
    "lc_cell_meme": {
     "current": "ce2da0d8-1c48-11ed-aae3-005056b02e0f-4-388e-ce20-23a4-ab7a",
     "next": "998b7fc2-adca-11ec-9d19-005056b02673-8-6288-5054-c1db-ae7f-5a6c-98cd-dce3-edf4",
     "previous": "998b812a-adca-11ec-9d19-005056b02673-8-3e8b-24ef-7ab5-f235-ab53-170b-eab7-84ee"
    }
   },
   "source": [
    "sshログインのための公開鍵ファイルの内容を設定する"
   ]
  },
  {
   "cell_type": "code",
   "execution_count": null,
   "metadata": {
    "hidden": true,
    "lc_cell_meme": {
     "current": "998b7fc2-adca-11ec-9d19-005056b02673-8-6288-5054-c1db-ae7f-5a6c-98cd-dce3-edf4",
     "next": "998b827e-adca-11ec-9d19-005056b02673-8-8505-8402-e1a7-0ea7-094c-d44f-dad1-783c",
     "previous": "ce2da0d8-1c48-11ed-aae3-005056b02e0f-4-388e-ce20-23a4-ab7a"
    },
    "lc_wrapper": {}
   },
   "outputs": [],
   "source": [
    "import os\n",
    "with open(os.path.expanduser('~/.ssh/id_rsa.pub')) as f:\n",
    "    ssh_shared_key = f.read()\n",
    "print(ssh_shared_key)"
   ]
  },
  {
   "cell_type": "markdown",
   "metadata": {
    "hidden": true,
    "lc_cell_meme": {
     "current": "998b827e-adca-11ec-9d19-005056b02673-8-8505-8402-e1a7-0ea7-094c-d44f-dad1-783c",
     "next": "15b3edea-1c49-11ed-aae3-005056b02e0f-5-b2b5-27c5-9ea3-083e-1968",
     "previous": "998b7fc2-adca-11ec-9d19-005056b02673-8-6288-5054-c1db-ae7f-5a6c-98cd-dce3-edf4"
    }
   },
   "source": [
    "### mdx VMデプロイ\n",
    "\n",
    "- ここでは、仮想マシンテンプレートとして「推奨版、東京大学制作、20220412-2043版」を使用する。\n",
    "  * 利用可能な仮想マシンテンプレートの一覧は、 `get_vm_catalogs()` により確認できる。\n",
    "- [ハードウェアのカスタマイズ項目](https://docs.mdx.jp/ja/main/create_vm.html#deploy-settings)は、以下の内容で設定する。\n",
    "  * 仮想マシン名: `\"handson-001\"` **（プロジェクト内で重複しないこと）**\n",
    "  * パックタイプ: `\"cpu\"`\n",
    "  * パック数: `3`\n",
    "  * 仮想ディスク(GB): `40`\n",
    "  * ストレージネットワーク: `\"portgroup\"`"
   ]
  },
  {
   "cell_type": "markdown",
   "metadata": {
    "hidden": true,
    "lc_cell_meme": {
     "current": "15b3edea-1c49-11ed-aae3-005056b02e0f-5-b2b5-27c5-9ea3-083e-1968",
     "execution_end_time": "2022-08-15T03:19:31.697647Z",
     "next": "5d3b58b0-1c49-11ed-aae3-005056b02e0f-4-9918-a03e-8858-6ed3",
     "previous": "998b827e-adca-11ec-9d19-005056b02673-8-8505-8402-e1a7-0ea7-094c-d44f-dad1-783c"
    },
    "lc_wrapper": {}
   },
   "source": [
    "mdxVMにIPv4アドレスが付与されるまで5分程度かかるため、実行中のセルの経過時間を表示するライブラリ `jupyter-autotime` 機能を有効化しておく。"
   ]
  },
  {
   "cell_type": "code",
   "execution_count": null,
   "metadata": {
    "hidden": true,
    "lc_cell_meme": {
     "current": "5d3b58b0-1c49-11ed-aae3-005056b02e0f-4-9918-a03e-8858-6ed3",
     "next": "5d3b5d10-1c49-11ed-aae3-005056b02e0f-4-04bf-b389-8832-52b0",
     "previous": "15b3edea-1c49-11ed-aae3-005056b02e0f-5-b2b5-27c5-9ea3-083e-1968"
    }
   },
   "outputs": [],
   "source": [
    "%load_ext autotime"
   ]
  },
  {
   "cell_type": "markdown",
   "metadata": {
    "hidden": true,
    "lc_cell_meme": {
     "current": "5d3b5d10-1c49-11ed-aae3-005056b02e0f-4-04bf-b389-8832-52b0",
     "next": "c96a27a6-a69b-11ec-8db3-005056b02367-10-a794-ee5b-948a-3208-40ea-4b7a-c93f-9ddf-9aed-4b00",
     "previous": "5d3b58b0-1c49-11ed-aae3-005056b02e0f-4-9918-a03e-8858-6ed3"
    }
   },
   "source": [
    "VMのデプロイを実行する。デプロイ完了後、VM情報を出力する。"
   ]
  },
  {
   "cell_type": "code",
   "execution_count": null,
   "metadata": {
    "hidden": true,
    "lc_cell_meme": {
     "current": "c96a27a6-a69b-11ec-8db3-005056b02367-10-a794-ee5b-948a-3208-40ea-4b7a-c93f-9ddf-9aed-4b00",
     "next": "5d3b5edc-1c49-11ed-aae3-005056b02e0f-4-13d7-d92b-19b5-e4cf",
     "previous": "5d3b5d10-1c49-11ed-aae3-005056b02e0f-4-04bf-b389-8832-52b0"
    },
    "lc_wrapper": {}
   },
   "outputs": [],
   "source": [
    "DEFAULT_CATALOG = \"16a41081-a1cf-428e-90d0-a147b3aa6fc2\"\n",
    "DEFAULT_TEMPLATE_NAME = \"UT-20220412-2043-ubuntu-2004-server\"\n",
    "\n",
    "vm_name = \"handson_001\"\n",
    "\n",
    "mdx_spec = dict(\n",
    "    catalog=DEFAULT_CATALOG,\n",
    "    template_name=DEFAULT_TEMPLATE_NAME,\n",
    "    pack_num=3,\n",
    "    pack_type=\"cpu\",\n",
    "    disk_size=40,\n",
    "    gpu=\"0\",\n",
    "    network_adapters=[\n",
    "        dict(\n",
    "            adapter_number=1,\n",
    "            segment=segment_id\n",
    "        )\n",
    "    ],\n",
    "    shared_key=ssh_shared_key,\n",
    "    storage_network=\"portgroup\",\n",
    ")\n",
    "\n",
    "info = mdx.deploy_vm(vm_name, mdx_spec)\n",
    "\n",
    "print(json.dumps(info, indent=2))"
   ]
  },
  {
   "cell_type": "code",
   "execution_count": null,
   "metadata": {
    "hidden": true,
    "lc_cell_meme": {
     "current": "5d3b5edc-1c49-11ed-aae3-005056b02e0f-4-13d7-d92b-19b5-e4cf",
     "next": "5d3b604e-1c49-11ed-aae3-005056b02e0f-4-545a-0cc8-f470-6abf",
     "previous": "c96a27a6-a69b-11ec-8db3-005056b02367-10-a794-ee5b-948a-3208-40ea-4b7a-c93f-9ddf-9aed-4b00"
    }
   },
   "outputs": [],
   "source": [
    "# jupyter-autotime を無効化\n",
    "%unload_ext autotime"
   ]
  },
  {
   "cell_type": "markdown",
   "metadata": {
    "hidden": true,
    "lc_cell_meme": {
     "current": "5d3b604e-1c49-11ed-aae3-005056b02e0f-4-545a-0cc8-f470-6abf",
     "next": "b687cc5e-abc5-11ec-a2a8-005056b02367-10-6a69-bb3c-21cd-a9c5-a49d-632d-e5b4-11ed-0e47-371a",
     "previous": "5d3b5edc-1c49-11ed-aae3-005056b02e0f-4-13d7-d92b-19b5-e4cf"
    }
   },
   "source": [
    "VMに付与されたプライベートIPv4アドレス (先頭のアドレス) を取得する。"
   ]
  },
  {
   "cell_type": "code",
   "execution_count": null,
   "metadata": {
    "hidden": true,
    "lc_cell_meme": {
     "current": "b687cc5e-abc5-11ec-a2a8-005056b02367-10-6a69-bb3c-21cd-a9c5-a49d-632d-e5b4-11ed-0e47-371a",
     "next": "8ef116da-abc7-11ec-a2a8-005056b02367-10-dd9a-4b31-fc58-3627-8587-a907-0f4f-8267-3087-d68f",
     "previous": "5d3b604e-1c49-11ed-aae3-005056b02e0f-4-545a-0cc8-f470-6abf"
    },
    "lc_wrapper": {}
   },
   "outputs": [],
   "source": [
    "host_ip_address = info[\"service_networks\"][0][\"ipv4_address\"][0]\n",
    "host_ip_address"
   ]
  },
  {
   "cell_type": "markdown",
   "metadata": {
    "heading_collapsed": true,
    "lc_cell_meme": {
     "current": "8ef116da-abc7-11ec-a2a8-005056b02367-10-dd9a-4b31-fc58-3627-8587-a907-0f4f-8267-3087-d68f",
     "next": "704c6e86-adcb-11ec-9d19-005056b02673-8-f468-c889-fef1-8814-9120-ba35-fe49-e878",
     "previous": "b687cc5e-abc5-11ec-a2a8-005056b02367-10-6a69-bb3c-21cd-a9c5-a49d-632d-e5b4-11ed-0e47-371a"
    }
   },
   "source": [
    "## VCP既存サーバ (SSH) モード セットアップ\n",
    "\n",
    "1. mdx VMへの疎通確認\n",
    "2. VM初期パスワード設定\n",
    "3. 既存サーバ(SSH) モード セットアップスクリプトをmdx VMへのコピー\n",
    "4. 既存サーバ(SSH) モード セットアップ実行\n",
    "5. Docker のインストール確認"
   ]
  },
  {
   "cell_type": "markdown",
   "metadata": {
    "hidden": true,
    "lc_cell_meme": {
     "current": "704c6e86-adcb-11ec-9d19-005056b02673-8-f468-c889-fef1-8814-9120-ba35-fe49-e878",
     "next": "109ccc2a-abcc-11ec-a2a8-005056b02367-10-7dd5-353c-4022-8cec-6487-be2c-2f2f-e51f-c1c7-15a7",
     "previous": "8ef116da-abc7-11ec-a2a8-005056b02367-10-dd9a-4b31-fc58-3627-8587-a907-0f4f-8267-3087-d68f"
    }
   },
   "source": [
    "### mdx VMへの疎通確認"
   ]
  },
  {
   "cell_type": "code",
   "execution_count": null,
   "metadata": {
    "hidden": true,
    "lc_cell_meme": {
     "current": "109ccc2a-abcc-11ec-a2a8-005056b02367-10-7dd5-353c-4022-8cec-6487-be2c-2f2f-e51f-c1c7-15a7",
     "next": "704c720a-adcb-11ec-9d19-005056b02673-8-d952-2943-e353-6590-f514-39f3-2c0f-7d72",
     "previous": "704c6e86-adcb-11ec-9d19-005056b02673-8-f468-c889-fef1-8814-9120-ba35-fe49-e878"
    },
    "lc_wrapper": {},
    "scrolled": false
   },
   "outputs": [],
   "source": [
    "!ping -c 3 {host_ip_address}"
   ]
  },
  {
   "cell_type": "markdown",
   "metadata": {
    "hidden": true,
    "lc_cell_meme": {
     "current": "704c720a-adcb-11ec-9d19-005056b02673-8-d952-2943-e353-6590-f514-39f3-2c0f-7d72",
     "next": "f6de0c84-1c57-11ed-aae3-005056b02e0f-3-1d63-35f0-5c43",
     "previous": "109ccc2a-abcc-11ec-a2a8-005056b02367-10-7dd5-353c-4022-8cec-6487-be2c-2f2f-e51f-c1c7-15a7"
    }
   },
   "source": [
    "### VM初期パスワード設定\n",
    "\n",
    "* 仮想マシンテンプレート「推奨版、東京大学制作、20220412-2043版」では、初回ログイン時にはOSのパスワード設定が求められる\n",
    "* ログインユーザ名は `mdxuser`"
   ]
  },
  {
   "cell_type": "markdown",
   "metadata": {
    "hidden": true,
    "lc_cell_meme": {
     "current": "f6de0c84-1c57-11ed-aae3-005056b02e0f-3-1d63-35f0-5c43",
     "next": "204926d6-1c57-11ed-aae3-005056b02e0f-3-f73c-44d4-3da1",
     "previous": "704c720a-adcb-11ec-9d19-005056b02673-8-d952-2943-e353-6590-f514-39f3-2c0f-7d72"
    }
   },
   "source": [
    "VMの初期パスワードをSSH経由で設定するために必要なパラメータを設定する。"
   ]
  },
  {
   "cell_type": "code",
   "execution_count": null,
   "metadata": {
    "hidden": true,
    "lc_cell_meme": {
     "current": "204926d6-1c57-11ed-aae3-005056b02e0f-3-f73c-44d4-3da1",
     "next": "3e65b908-1c58-11ed-aae3-005056b02e0f-3-8c4d-3146-32ff",
     "previous": "f6de0c84-1c57-11ed-aae3-005056b02e0f-3-1d63-35f0-5c43"
    },
    "lc_wrapper": {}
   },
   "outputs": [],
   "source": [
    "ssh_user_name = \"mdxuser\"\n",
    "ssh_private_key_path = os.path.expanduser(\"~/.ssh/id_rsa\")\n",
    "mdx_user_password = \"handson2209_mdx_vm_initial_password\""
   ]
  },
  {
   "cell_type": "markdown",
   "metadata": {
    "hidden": true,
    "lc_cell_meme": {
     "current": "3e65b908-1c58-11ed-aae3-005056b02e0f-3-8c4d-3146-32ff",
     "next": "8ef11aea-abc7-11ec-a2a8-005056b02367-10-f0bc-6b5e-ca4f-4dc6-2f3b-d921-d7fb-90ae-1e78-2634",
     "previous": "204926d6-1c57-11ed-aae3-005056b02e0f-3-f73c-44d4-3da1"
    }
   },
   "source": [
    "expectスクリプトを用いてVMの初期パスワード設定を実行する。"
   ]
  },
  {
   "cell_type": "code",
   "execution_count": null,
   "metadata": {
    "hidden": true,
    "lc_cell_meme": {
     "current": "8ef11aea-abc7-11ec-a2a8-005056b02367-10-f0bc-6b5e-ca4f-4dc6-2f3b-d921-d7fb-90ae-1e78-2634",
     "next": "b7d48e8c-adcb-11ec-9d19-005056b02673-8-0a01-87fe-ce1b-e7cc-64e8-75c1-6c3f-689f",
     "previous": "3e65b908-1c58-11ed-aae3-005056b02e0f-3-8c4d-3146-32ff"
    },
    "lc_wrapper": {},
    "scrolled": false
   },
   "outputs": [],
   "source": [
    "!./scripts/init_mdx_passwd.exp {ssh_user_name} {host_ip_address} {ssh_private_key_path} {mdx_user_password}"
   ]
  },
  {
   "cell_type": "markdown",
   "metadata": {
    "hidden": true,
    "lc_cell_meme": {
     "current": "b7d48e8c-adcb-11ec-9d19-005056b02673-8-0a01-87fe-ce1b-e7cc-64e8-75c1-6c3f-689f",
     "next": "c748b6bc-ac05-11ec-a2a8-005056b02367-10-4845-9479-e450-3471-c702-a59c-aa45-d8de-3de8-ddad",
     "previous": "8ef11aea-abc7-11ec-a2a8-005056b02367-10-f0bc-6b5e-ca4f-4dc6-2f3b-d921-d7fb-90ae-1e78-2634"
    }
   },
   "source": [
    "### 既存サーバ(SSH) モード セットアップスクリプトをmdx VMへのコピー"
   ]
  },
  {
   "cell_type": "code",
   "execution_count": null,
   "metadata": {
    "hidden": true,
    "lc_cell_meme": {
     "current": "c748b6bc-ac05-11ec-a2a8-005056b02367-10-4845-9479-e450-3471-c702-a59c-aa45-d8de-3de8-ddad",
     "next": "408d5876-ac05-11ec-a2a8-005056b02367-10-ff94-c6ca-1092-25b4-a09e-f2c9-88b1-4f4e-c25d-0db3",
     "previous": "b7d48e8c-adcb-11ec-9d19-005056b02673-8-0a01-87fe-ce1b-e7cc-64e8-75c1-6c3f-689f"
    },
    "lc_wrapper": {}
   },
   "outputs": [],
   "source": [
    "# notebookからmdx VMへのsshコマンドオプション\n",
    "ssh_opts = f\" -i {ssh_private_key_path} -o StrictHostKeyChecking=no -o UserKnownHostsFile=/dev/null\""
   ]
  },
  {
   "cell_type": "code",
   "execution_count": null,
   "metadata": {
    "hidden": true,
    "lc_cell_meme": {
     "current": "408d5876-ac05-11ec-a2a8-005056b02367-10-ff94-c6ca-1092-25b4-a09e-f2c9-88b1-4f4e-c25d-0db3",
     "next": "b7d49206-adcb-11ec-9d19-005056b02673-8-8fe4-2486-75b9-3ae7-2f6c-e50d-0e71-1779",
     "previous": "c748b6bc-ac05-11ec-a2a8-005056b02367-10-4845-9479-e450-3471-c702-a59c-aa45-d8de-3de8-ddad"
    },
    "lc_wrapper": {},
    "scrolled": true
   },
   "outputs": [],
   "source": [
    "!scp -i tmp/id_rsa -o StrictHostKeyChecking=no -o UserKnownHostsFile=/dev/null scripts/init_mdx_node.sh {ssh_user_name}@{host_ip_address}:"
   ]
  },
  {
   "cell_type": "markdown",
   "metadata": {
    "hidden": true,
    "lc_cell_meme": {
     "current": "b7d49206-adcb-11ec-9d19-005056b02673-8-8fe4-2486-75b9-3ae7-2f6c-e50d-0e71-1779",
     "next": "4ee67ce2-abcc-11ec-a2a8-005056b02367-10-68be-d01b-c181-e41d-46c2-5fa8-dad4-d7b7-991b-b5b4",
     "previous": "408d5876-ac05-11ec-a2a8-005056b02367-10-ff94-c6ca-1092-25b4-a09e-f2c9-88b1-4f4e-c25d-0db3"
    }
   },
   "source": [
    "### 既存サーバ(SSH) モード セットアップ実行\n",
    "\n",
    "- docker-ce インストール\n",
    "- sshd_config 設定変更: Port 20022 "
   ]
  },
  {
   "cell_type": "code",
   "execution_count": null,
   "metadata": {
    "hidden": true,
    "lc_cell_meme": {
     "current": "4ee67ce2-abcc-11ec-a2a8-005056b02367-10-68be-d01b-c181-e41d-46c2-5fa8-dad4-d7b7-991b-b5b4",
     "next": "46e9d884-adcc-11ec-9d19-005056b02673-8-59ac-89f4-2953-a86a-70cc-c842-882b-ed99",
     "previous": "b7d49206-adcb-11ec-9d19-005056b02673-8-8fe4-2486-75b9-3ae7-2f6c-e50d-0e71-1779"
    },
    "lc_wrapper": {},
    "scrolled": true
   },
   "outputs": [],
   "source": [
    "!ssh {ssh_opts} {ssh_user_name}@{host_ip_address} ./init_mdx_node.sh"
   ]
  },
  {
   "cell_type": "markdown",
   "metadata": {
    "hidden": true,
    "lc_cell_meme": {
     "current": "46e9d884-adcc-11ec-9d19-005056b02673-8-59ac-89f4-2953-a86a-70cc-c842-882b-ed99",
     "next": "51c24eca-ac06-11ec-a2a8-005056b02367-10-9e06-e96a-617e-7f01-1dfc-4508-7636-a76d-d4cf-4fa6",
     "previous": "4ee67ce2-abcc-11ec-a2a8-005056b02367-10-68be-d01b-c181-e41d-46c2-5fa8-dad4-d7b7-991b-b5b4"
    }
   },
   "source": [
    "### Docker のインストール確認"
   ]
  },
  {
   "cell_type": "code",
   "execution_count": null,
   "metadata": {
    "hidden": true,
    "lc_cell_meme": {
     "current": "51c24eca-ac06-11ec-a2a8-005056b02367-10-9e06-e96a-617e-7f01-1dfc-4508-7636-a76d-d4cf-4fa6",
     "next": "ac822a2e-adcd-11ec-9d19-005056b02673-8-e405-f311-581e-182d-1887-5369-3915-c5b3",
     "previous": "46e9d884-adcc-11ec-9d19-005056b02673-8-59ac-89f4-2953-a86a-70cc-c842-882b-ed99"
    },
    "lc_wrapper": {},
    "scrolled": true
   },
   "outputs": [],
   "source": [
    "!ssh {ssh_opts} -p 20022 {ssh_user_name}@{host_ip_address} sudo docker ps"
   ]
  },
  {
   "cell_type": "markdown",
   "metadata": {
    "heading_collapsed": true,
    "lc_cell_meme": {
     "current": "ac822a2e-adcd-11ec-9d19-005056b02673-8-e405-f311-581e-182d-1887-5369-3915-c5b3",
     "next": "ac82251a-adcd-11ec-9d19-005056b02673-8-b739-c273-1122-6b9c-f829-0495-e593-360c",
     "previous": "51c24eca-ac06-11ec-a2a8-005056b02367-10-9e06-e96a-617e-7f01-1dfc-4508-7636-a76d-d4cf-4fa6"
    }
   },
   "source": [
    "## VCコントローラ公開鍵設定\n",
    "\n",
    "VCコントローラがmdx VMを既存サーバ(SSH) モードで制御するにはSSH接続を使用する。そのため、VCコントローラのSSH公開鍵をmdx VMに登録しておく必要がある。\n",
    "\n",
    "1. VCP SDKの初期化\n",
    "2. VCコントローラ公開鍵設定"
   ]
  },
  {
   "cell_type": "markdown",
   "metadata": {
    "hidden": true,
    "lc_cell_meme": {
     "current": "ac82251a-adcd-11ec-9d19-005056b02673-8-b739-c273-1122-6b9c-f829-0495-e593-360c",
     "next": "a1b40750-adcf-11ec-9d19-005056b02673-8-655d-c912-0a90-0438-bbe2-c5b0-b174-46a5",
     "previous": "ac822a2e-adcd-11ec-9d19-005056b02673-8-e405-f311-581e-182d-1887-5369-3915-c5b3"
    }
   },
   "source": [
    "### VCP SDKの初期化\n",
    "\n",
    "VCP SDKを利用するにはVCコントローラのアクセストークンが必要となります。次のセルを実行すると入力枠が表示されるのでアクセストークンの値を入力してください。\n",
    "\n",
    "> アクセストークン入力後に Enter キーを押すことで入力が完了します。\n",
    "\n",
    "OCSハンズオン用トークンはこちら→ [token.txt](/jupyter/files/token.txt)"
   ]
  },
  {
   "cell_type": "code",
   "execution_count": null,
   "metadata": {
    "hidden": true,
    "lc_cell_meme": {
     "current": "a1b40750-adcf-11ec-9d19-005056b02673-8-655d-c912-0a90-0438-bbe2-c5b0-b174-46a5",
     "next": "99ffd5de-ac0d-11ec-a2a8-005056b02367-9-ba01-175d-ee95-736b-4951-9b15-1d57-07f0-78df",
     "previous": "ac82251a-adcd-11ec-9d19-005056b02673-8-b739-c273-1122-6b9c-f829-0495-e593-360c"
    },
    "lc_wrapper": {}
   },
   "outputs": [],
   "source": [
    "# VCP REST API アクセストークンの入力\n",
    "from getpass import getpass\n",
    "vcc_access_token = getpass()"
   ]
  },
  {
   "cell_type": "code",
   "execution_count": null,
   "metadata": {
    "hidden": true,
    "lc_cell_meme": {
     "current": "99ffd5de-ac0d-11ec-a2a8-005056b02367-9-ba01-175d-ee95-736b-4951-9b15-1d57-07f0-78df",
     "next": "9b6f41b0-2b5c-11ed-a17e-005056b02f8e-1-9bbc",
     "previous": "a1b40750-adcf-11ec-9d19-005056b02673-8-655d-c912-0a90-0438-bbe2-c5b0-b174-46a5"
    },
    "lc_wrapper": {},
    "scrolled": true
   },
   "outputs": [],
   "source": [
    "# VCP SDK 初期化\n",
    "from vcpsdk.vcpsdk import VcpSDK\n",
    "sdk = VcpSDK(vcc_access_token)"
   ]
  },
  {
   "cell_type": "markdown",
   "metadata": {
    "hidden": true,
    "lc_cell_meme": {
     "current": "9b6f41b0-2b5c-11ed-a17e-005056b02f8e-1-9bbc",
     "next": "91c13c2c-ac13-11ec-a2a8-005056b02367-9-065c-0f95-d14a-9fad-9d5c-abc3-d588-5c65-e1b1",
     "previous": "99ffd5de-ac0d-11ec-a2a8-005056b02367-9-ba01-175d-ee95-736b-4951-9b15-1d57-07f0-78df"
    }
   },
   "source": [
    "### VCコントローラ公開鍵取得設定\n",
    "\n",
    "VCP SDK の「VCコントローラ公開鍵取得」APIを使って公開鍵を取得し、それをmdx VMにコピーする。"
   ]
  },
  {
   "cell_type": "code",
   "execution_count": null,
   "metadata": {
    "hidden": true,
    "lc_cell_meme": {
     "current": "91c13c2c-ac13-11ec-a2a8-005056b02367-9-065c-0f95-d14a-9fad-9d5c-abc3-d588-5c65-e1b1",
     "next": "071ccfa4-ac14-11ec-a2a8-005056b02367-9-488f-cbd0-54c5-aa6a-fa34-1b42-9ca8-215c-ba3b",
     "previous": "9b6f41b0-2b5c-11ed-a17e-005056b02f8e-1-9bbc"
    },
    "lc_wrapper": {}
   },
   "outputs": [],
   "source": [
    "# VCコントローラが既存サーバを操作するときに使うssh公開鍵を取得する\n",
    "vcc_ssh_pubkey = sdk.get_publickey()"
   ]
  },
  {
   "cell_type": "code",
   "execution_count": null,
   "metadata": {
    "hidden": true,
    "lc_cell_meme": {
     "current": "071ccfa4-ac14-11ec-a2a8-005056b02367-9-488f-cbd0-54c5-aa6a-fa34-1b42-9ca8-215c-ba3b",
     "next": "849cce5e-ac0d-11ec-a2a8-005056b02367-10-9119-a7c1-4e7c-85ce-1669-6d2d-008a-a6a3-b64f-c759",
     "previous": "91c13c2c-ac13-11ec-a2a8-005056b02367-9-065c-0f95-d14a-9fad-9d5c-abc3-d588-5c65-e1b1"
    },
    "lc_wrapper": {}
   },
   "outputs": [],
   "source": [
    "# 公開鍵をmdx VMにコピーする\n",
    "!echo \"{vcc_ssh_pubkey}\" | (ssh {ssh_opts} -p20022 {ssh_user_name}@{host_ip_address} \"cat >> ~/.ssh/authorized_keys\")"
   ]
  },
  {
   "cell_type": "markdown",
   "metadata": {
    "heading_collapsed": true,
    "lc_cell_meme": {
     "current": "849cce5e-ac0d-11ec-a2a8-005056b02367-10-9119-a7c1-4e7c-85ce-1669-6d2d-008a-a6a3-b64f-c759",
     "next": "3b9566d6-adce-11ec-9d19-005056b02673-8-a29b-6f13-97d5-0249-c670-64d0-86f3-22e1",
     "previous": "071ccfa4-ac14-11ec-a2a8-005056b02367-9-488f-cbd0-54c5-aa6a-fa34-1b42-9ca8-215c-ba3b"
    }
   },
   "source": [
    "## VCP SDKによるVCノード起動確認\n",
    "\n",
    "1. VCノード起動パラメータ設定\n",
    "2. VCノード起動\n",
    "3. Applicationコンテナの起動確認"
   ]
  },
  {
   "cell_type": "markdown",
   "metadata": {
    "hidden": true,
    "lc_cell_meme": {
     "current": "3b9566d6-adce-11ec-9d19-005056b02673-8-a29b-6f13-97d5-0249-c670-64d0-86f3-22e1",
     "next": "b79d7be4-ac14-11ec-a2a8-005056b02367-9-8293-f24d-154a-2f45-4500-154d-87db-2204-adb0",
     "previous": "849cce5e-ac0d-11ec-a2a8-005056b02367-10-9119-a7c1-4e7c-85ce-1669-6d2d-008a-a6a3-b64f-c759"
    }
   },
   "source": [
    "### VCノード起動パラメータ設定\n",
    "\n",
    "* クラウドプロバイダ名は `\"onpremises\"` を指定\n",
    "* `ip_addresses`: Baseコンテナを起動するホストのIPアドレス\n",
    "* `user_name`: Baseコンテナを起動するホスト上のsudo可能なアカウント名 (mdx VMテンプレート毎に既定）\n",
    "* `set_ssh_pubkey`: BaseコンテナへのSSHログイン用公開鍵ファイルのパス"
   ]
  },
  {
   "cell_type": "code",
   "execution_count": null,
   "metadata": {
    "hidden": true,
    "lc_cell_meme": {
     "current": "b79d7be4-ac14-11ec-a2a8-005056b02367-9-8293-f24d-154a-2f45-4500-154d-87db-2204-adb0",
     "next": "c5641878-ac14-11ec-a2a8-005056b02367-9-2ae1-cd9f-7cfb-65ba-09a8-281a-e6b2-3cb6-86e3",
     "previous": "3b9566d6-adce-11ec-9d19-005056b02673-8-a29b-6f13-97d5-0249-c670-64d0-86f3-22e1"
    },
    "lc_wrapper": {},
    "scrolled": true
   },
   "outputs": [],
   "source": [
    "my_ugroup_name = \"mdx\"\n",
    "ugroup = sdk.create_ugroup(my_ugroup_name)"
   ]
  },
  {
   "cell_type": "code",
   "execution_count": null,
   "metadata": {
    "hidden": true,
    "lc_cell_meme": {
     "current": "c5641878-ac14-11ec-a2a8-005056b02367-9-2ae1-cd9f-7cfb-65ba-09a8-281a-e6b2-3cb6-86e3",
     "next": "7afcfad4-ac14-11ec-a2a8-005056b02367-9-3fd0-7b67-6651-c10d-2db7-29e2-c109-7a27-003d",
     "previous": "b79d7be4-ac14-11ec-a2a8-005056b02367-9-8293-f24d-154a-2f45-4500-154d-87db-2204-adb0"
    },
    "lc_wrapper": {}
   },
   "outputs": [],
   "source": [
    "print(ugroup)"
   ]
  },
  {
   "cell_type": "code",
   "execution_count": null,
   "metadata": {
    "hidden": true,
    "lc_cell_meme": {
     "current": "7afcfad4-ac14-11ec-a2a8-005056b02367-9-3fd0-7b67-6651-c10d-2db7-29e2-c109-7a27-003d",
     "next": "83156074-adce-11ec-9d19-005056b02673-8-d545-0fbd-28b4-7cf9-2244-c380-21b4-fa63",
     "previous": "c5641878-ac14-11ec-a2a8-005056b02367-9-2ae1-cd9f-7cfb-65ba-09a8-281a-e6b2-3cb6-86e3"
    },
    "lc_wrapper": {}
   },
   "outputs": [],
   "source": [
    "spec = sdk.get_spec(\"onpremises\", \"default\")\n",
    "spec.ip_addresses = [host_ip_address]\n",
    "spec.user_name = ssh_user_name\n",
    "spec.set_ssh_pubkey(os.path.expanduser(\"~/.ssh/id_rsa.pub\"))"
   ]
  },
  {
   "cell_type": "markdown",
   "metadata": {
    "hidden": true,
    "lc_cell_meme": {
     "current": "83156074-adce-11ec-9d19-005056b02673-8-d545-0fbd-28b4-7cf9-2244-c380-21b4-fa63",
     "next": "4ea35e60-ac14-11ec-a2a8-005056b02367-9-0451-f48c-28b5-46f8-c74b-1fdd-4e08-4dc1-21e4",
     "previous": "7afcfad4-ac14-11ec-a2a8-005056b02367-9-3fd0-7b67-6651-c10d-2db7-29e2-c109-7a27-003d"
    }
   },
   "source": [
    "### VCノード起動"
   ]
  },
  {
   "cell_type": "code",
   "execution_count": null,
   "metadata": {
    "hidden": true,
    "lc_cell_meme": {
     "current": "4ea35e60-ac14-11ec-a2a8-005056b02367-9-0451-f48c-28b5-46f8-c74b-1fdd-4e08-4dc1-21e4",
     "next": "b79d7ebe-ac14-11ec-a2a8-005056b02367-9-39d2-b746-841d-2f77-3555-36fd-02b2-4874-dfe7",
     "previous": "83156074-adce-11ec-9d19-005056b02673-8-d545-0fbd-28b4-7cf9-2244-c380-21b4-fa63"
    },
    "lc_wrapper": {}
   },
   "outputs": [],
   "source": [
    "unit_name = \"mdx_server\"\n",
    "unit = ugroup.create_unit(unit_name, spec, wait_for=True, verbose=0)"
   ]
  },
  {
   "cell_type": "code",
   "execution_count": null,
   "metadata": {
    "hidden": true,
    "lc_cell_meme": {
     "current": "b79d7ebe-ac14-11ec-a2a8-005056b02367-9-39d2-b746-841d-2f77-3555-36fd-02b2-4874-dfe7",
     "next": "d5ee54ce-adcc-11ec-9d19-005056b02673-8-54e5-2577-cb64-0d59-8055-3798-31c5-0483",
     "previous": "4ea35e60-ac14-11ec-a2a8-005056b02367-9-0451-f48c-28b5-46f8-c74b-1fdd-4e08-4dc1-21e4"
    },
    "lc_wrapper": {},
    "scrolled": true
   },
   "outputs": [],
   "source": [
    "ugroup.df_nodes()"
   ]
  },
  {
   "cell_type": "markdown",
   "metadata": {
    "hidden": true,
    "lc_cell_meme": {
     "current": "d5ee54ce-adcc-11ec-9d19-005056b02673-8-54e5-2577-cb64-0d59-8055-3798-31c5-0483",
     "next": "8450f11a-ac16-11ec-a2a8-005056b02367-9-b7e7-6335-0a3b-b2c3-9fd0-feb9-ebca-6859-f0d8",
     "previous": "b79d7ebe-ac14-11ec-a2a8-005056b02367-9-39d2-b746-841d-2f77-3555-36fd-02b2-4874-dfe7"
    }
   },
   "source": [
    "### Applicationコンテナの起動確認\n",
    "\n",
    "`hello-world` コンテナを実行する。"
   ]
  },
  {
   "cell_type": "code",
   "execution_count": null,
   "metadata": {
    "hidden": true,
    "lc_cell_meme": {
     "current": "8450f11a-ac16-11ec-a2a8-005056b02367-9-b7e7-6335-0a3b-b2c3-9fd0-feb9-ebca-6859-f0d8",
     "next": "075e14e6-add1-11ec-9d19-005056b02673-8-9f9a-194b-3ef0-d157-587b-b689-dfba-9999",
     "previous": "d5ee54ce-adcc-11ec-9d19-005056b02673-8-54e5-2577-cb64-0d59-8055-3798-31c5-0483"
    },
    "lc_wrapper": {}
   },
   "outputs": [],
   "source": [
    "!ssh {ssh_opts} root@{host_ip_address} /usr/local/bin/docker run hello-world"
   ]
  },
  {
   "cell_type": "markdown",
   "metadata": {
    "heading_collapsed": true,
    "lc_cell_meme": {
     "current": "075e14e6-add1-11ec-9d19-005056b02673-8-9f9a-194b-3ef0-d157-587b-b689-dfba-9999",
     "next": "2536c0fc-ac15-11ec-a2a8-005056b02367-9-fa6e-a81c-8373-27b4-6f7f-ad21-1025-bc9d-7c00",
     "previous": "8450f11a-ac16-11ec-a2a8-005056b02367-9-b7e7-6335-0a3b-b2c3-9fd0-feb9-ebca-6859-f0d8"
    }
   },
   "source": [
    "## VCノード削除\n",
    "\n",
    "ここでは VC ノードとしての動作確認を行った Unit Group の cleanup を実行するが、\n",
    "VCP既存サーバ(SSH) モードをセットアップ済みの mdx VM は VC ノードとして再利用可能である。"
   ]
  },
  {
   "cell_type": "code",
   "execution_count": null,
   "metadata": {
    "hidden": true,
    "lc_cell_meme": {
     "current": "2536c0fc-ac15-11ec-a2a8-005056b02367-9-fa6e-a81c-8373-27b4-6f7f-ad21-1025-bc9d-7c00",
     "next": "e93a8eaa-adcf-11ec-9d19-005056b02673-8-6ab0-5679-b44b-0209-3b06-b02f-7aa0-470c",
     "previous": "075e14e6-add1-11ec-9d19-005056b02673-8-9f9a-194b-3ef0-d157-587b-b689-dfba-9999"
    },
    "lc_wrapper": {},
    "scrolled": true
   },
   "outputs": [],
   "source": [
    "ugroup.cleanup()"
   ]
  },
  {
   "cell_type": "code",
   "execution_count": null,
   "metadata": {
    "hidden": true,
    "lc_cell_meme": {
     "current": "e93a8eaa-adcf-11ec-9d19-005056b02673-8-6ab0-5679-b44b-0209-3b06-b02f-7aa0-470c",
     "next": null,
     "previous": "2536c0fc-ac15-11ec-a2a8-005056b02367-9-fa6e-a81c-8373-27b4-6f7f-ad21-1025-bc9d-7c00"
    },
    "lc_wrapper": {}
   },
   "outputs": [],
   "source": [
    "sdk.df_ugroups()"
   ]
  }
 ],
 "metadata": {
  "kernelspec": {
   "display_name": "Python 3",
   "language": "python",
   "name": "python3"
  },
  "language_info": {
   "file_extension": ".py",
   "mimetype": "text/x-python",
   "name": "python",
   "nbconvert_exporter": "python",
   "pygments_lexer": "ipython3",
   "version": "3.9.7"
  },
  "toc": {
   "base_numbering": 1,
   "nav_menu": {},
   "number_sections": true,
   "sideBar": true,
   "skip_h1_title": true,
   "title_cell": "Table of Contents",
   "title_sidebar": "Contents",
   "toc_cell": false,
   "toc_position": {},
   "toc_section_display": true,
   "toc_window_display": true
  }
 },
 "nbformat": 4,
 "nbformat_minor": 4
}
