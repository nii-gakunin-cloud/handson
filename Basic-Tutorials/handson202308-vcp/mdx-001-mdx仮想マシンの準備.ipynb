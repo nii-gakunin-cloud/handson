{
 "cells": [
  {
   "cell_type": "markdown",
   "metadata": {
    "lc_cell_meme": {
     "current": "14d34282-ac0e-11ec-a2a8-005056b02367-10-c993-a671-de75-43e3-764b-414a-9d00-a952-a864-5f53",
     "next": "06937386-ac18-11ec-a2a8-005056b02367-10-8b51-1f1e-7a16-7ec4-e34e-0350-e9bd-ddf4-450a-5048",
     "previous": null
    }
   },
   "source": [
    "# mdx VMのデプロイとVCP既存サーバ (SSH) モード セットアップ\n",
    "\n",
    "この Notebook では、mdx VM のデプロイと、その mdx VM をVCP既存サーバ(SSH) モードで利用できるようにするまでのセットアップを行います。\n",
    "\n",
    "VCPで利用可能なクラウド環境にはAWSのようなパブリッククラウドや、学術機関のクラウド、オンプレミスシステム向けなど複数あります。  \n",
    "mdx VM (仮想マシン) もこれらと同様にVCPで扱う計算資源に対応した背景や方式については以下の資料を参照してください。\n",
    "\n",
    "* NIIオープンフォーラム2022 / クラウドトラック2 / 学認クラウドオンデマンド構築サービス・SINETStream  \n",
    "  [VCP (Virtual Cloud Provider) の mdx サポートに向けた実装と活用例 (pdf)](https://www.nii.ac.jp/openforum/upload/20220601PM_Cloud2_02.pdf)"
   ]
  },
  {
   "cell_type": "markdown",
   "metadata": {
    "lc_cell_meme": {
     "current": "06937386-ac18-11ec-a2a8-005056b02367-10-8b51-1f1e-7a16-7ec4-e34e-0350-e9bd-ddf4-450a-5048",
     "next": "32e9d710-adc9-11ec-9d19-005056b02673-9-2b18-16c9-d9d2-9cf3-f6f2-6725-3521-155a-ca67",
     "previous": "14d34282-ac0e-11ec-a2a8-005056b02367-10-c993-a671-de75-43e3-764b-414a-9d00-a952-a864-5f53"
    }
   },
   "source": [
    "## 前提条件\n",
    "\n",
    "1. VCコントローラが動作していること\n",
    "    * このNotebookを実行しているJupyterNotebookサーバと同一ホスト上で稼働するVCPポータブル版のVCコントローラを使用\n",
    "2. `vcp_config/vcp_config.yml` ファイルにおいてVCコントローラの設定が完了していること"
   ]
  },
  {
   "cell_type": "markdown",
   "metadata": {
    "heading_collapsed": true,
    "lc_cell_meme": {
     "current": "32e9d710-adc9-11ec-9d19-005056b02673-9-2b18-16c9-d9d2-9cf3-f6f2-6725-3521-155a-ca67",
     "next": "c1f75fb8-adc9-11ec-9d19-005056b02673-9-c117-9bd5-8e37-4c62-2e80-e398-f6a1-9872-a8d0",
     "previous": "06937386-ac18-11ec-a2a8-005056b02367-10-8b51-1f1e-7a16-7ec4-e34e-0350-e9bd-ddf4-450a-5048"
    }
   },
   "source": [
    "## 準備\n",
    "\n",
    "1. mdx REST API 認証トークン設定\n",
    "2. mdx VM にSSHログインするためのキーペア作成\n",
    "3. mdx の REST API エンドポイントに接続できることの確認"
   ]
  },
  {
   "cell_type": "markdown",
   "metadata": {
    "hidden": true,
    "lc_cell_meme": {
     "current": "c1f75fb8-adc9-11ec-9d19-005056b02673-9-c117-9bd5-8e37-4c62-2e80-e398-f6a1-9872-a8d0",
     "next": "c1f76346-adc9-11ec-9d19-005056b02673-9-fca5-8be0-de31-fbd6-a70f-642b-cb7b-6102-0c8d",
     "previous": "32e9d710-adc9-11ec-9d19-005056b02673-9-2b18-16c9-d9d2-9cf3-f6f2-6725-3521-155a-ca67"
    }
   },
   "source": [
    "### mdx REST API 認証トークン設定\n",
    "\n",
    "mdx REST API 認証トークンは、[mdxユーザポータル](https://oprpl.mdx.jp/) の「トークン発行」により取得します。\n",
    "> 「トークン発行」は、ユーザポータル画面右上にあるユーザ名をクリックすると表示できます。\n",
    "  \n",
    "![](./images/001-mdx-token.png)\n",
    "\n",
    "以下のセルを実行してmdx REST API認証トークンを入力します。"
   ]
  },
  {
   "cell_type": "code",
   "execution_count": null,
   "metadata": {
    "hidden": true,
    "lc_cell_meme": {
     "current": "c1f76346-adc9-11ec-9d19-005056b02673-9-fca5-8be0-de31-fbd6-a70f-642b-cb7b-6102-0c8d",
     "next": "0a10b70e-adca-11ec-9d19-005056b02673-9-549c-8614-2a36-3f14-62aa-566a-0c9d-640b-eb76",
     "previous": "c1f75fb8-adc9-11ec-9d19-005056b02673-9-c117-9bd5-8e37-4c62-2e80-e398-f6a1-9872-a8d0"
    },
    "lc_wrapper": {}
   },
   "outputs": [],
   "source": [
    "from getpass import getpass\n",
    "mdx_token = getpass(\"mdx API token\")"
   ]
  },
  {
   "cell_type": "markdown",
   "metadata": {
    "hidden": true,
    "lc_cell_meme": {
     "current": "0a10b70e-adca-11ec-9d19-005056b02673-9-549c-8614-2a36-3f14-62aa-566a-0c9d-640b-eb76",
     "next": "c1f76652-adc9-11ec-9d19-005056b02673-9-a957-0f31-3363-ac33-61ed-e21f-f479-7c4f-31f5",
     "previous": "c1f76346-adc9-11ec-9d19-005056b02673-9-fca5-8be0-de31-fbd6-a70f-642b-cb7b-6102-0c8d"
    }
   },
   "source": [
    "### mdx VM への SSH ログイン用キーペア作成\n",
    "\n",
    "mdx VM デプロイ時の設定項目に含まれる公開鍵を用意します。"
   ]
  },
  {
   "cell_type": "code",
   "execution_count": null,
   "metadata": {
    "hidden": true,
    "lc_cell_meme": {
     "current": "c1f76652-adc9-11ec-9d19-005056b02673-9-a957-0f31-3363-ac33-61ed-e21f-f479-7c4f-31f5",
     "next": "0a10ba6a-adca-11ec-9d19-005056b02673-9-fa5b-298c-3c58-f740-c07f-75ab-d0db-0808-c189",
     "previous": "0a10b70e-adca-11ec-9d19-005056b02673-9-549c-8614-2a36-3f14-62aa-566a-0c9d-640b-eb76"
    },
    "lc_wrapper": {}
   },
   "outputs": [],
   "source": [
    "!test -f ~/.ssh/id_rsa || ssh-keygen -t rsa -f ~/.ssh/id_rsa -N \"\"\n",
    "!ls -l ~/.ssh"
   ]
  },
  {
   "cell_type": "markdown",
   "metadata": {
    "hidden": true,
    "lc_cell_meme": {
     "current": "0a10ba6a-adca-11ec-9d19-005056b02673-9-fa5b-298c-3c58-f740-c07f-75ab-d0db-0808-c189",
     "next": "0a10bc18-adca-11ec-9d19-005056b02673-9-7034-a79d-1323-c88e-6899-0ef8-e34e-783c-35bf",
     "previous": "c1f76652-adc9-11ec-9d19-005056b02673-9-a957-0f31-3363-ac33-61ed-e21f-f479-7c4f-31f5"
    }
   },
   "source": [
    "### mdx REST API エンドポイント接続確認\n",
    "\n",
    "mdx REST APIエンドポイントにIPv6で接続しようとすると到達不可となる場合があるため、以下のセルを実行してIPv4での接続を強制します。"
   ]
  },
  {
   "cell_type": "code",
   "execution_count": null,
   "metadata": {
    "hidden": true,
    "lc_cell_meme": {
     "current": "0a10bc18-adca-11ec-9d19-005056b02673-9-7034-a79d-1323-c88e-6899-0ef8-e34e-783c-35bf",
     "next": "277d0980-3813-11ee-8ec7-005056b00a9f",
     "previous": "0a10ba6a-adca-11ec-9d19-005056b02673-9-fa5b-298c-3c58-f740-c07f-75ab-d0db-0808-c189"
    },
    "lc_wrapper": {}
   },
   "outputs": [],
   "source": [
    "# デフォルトのresolverがIPv6のアドレスを返すことにより以降のAPIで接続不可の場合があるため、以下のコードを実行しておく。\n",
    "def use_ipv4_only():\n",
    "    import socket\n",
    "    old_getaddrinfo = socket.getaddrinfo\n",
    "    def new_getaddrinfo(*args, **kwargs):\n",
    "        responses = old_getaddrinfo(*args, **kwargs)\n",
    "        return [response\n",
    "                for response in responses\n",
    "                if response[0] == socket.AF_INET]\n",
    "    socket.getaddrinfo = new_getaddrinfo\n",
    "\n",
    "use_ipv4_only()"
   ]
  },
  {
   "cell_type": "markdown",
   "metadata": {
    "hidden": true,
    "lc_cell_meme": {
     "current": "277d0980-3813-11ee-8ec7-005056b00a9f",
     "next": "0a10bd80-adca-11ec-9d19-005056b02673-9-1434-2299-75aa-da47-7922-65e0-0de8-627a-abfe",
     "previous": "0a10bc18-adca-11ec-9d19-005056b02673-9-7034-a79d-1323-c88e-6899-0ef8-e34e-783c-35bf"
    }
   },
   "source": [
    "以下のセルを実行し、HTTPステータスコード 200 が返ることを確認します。"
   ]
  },
  {
   "cell_type": "code",
   "execution_count": null,
   "metadata": {
    "hidden": true,
    "lc_cell_meme": {
     "current": "0a10bd80-adca-11ec-9d19-005056b02673-9-1434-2299-75aa-da47-7922-65e0-0de8-627a-abfe",
     "next": "0a10bede-adca-11ec-9d19-005056b02673-9-2a44-5331-e3ac-ac68-9283-5b9d-be7e-709d-3cdb",
     "previous": "277d0980-3813-11ee-8ec7-005056b00a9f"
    },
    "lc_wrapper": {}
   },
   "outputs": [],
   "source": [
    "!curl https://oprpl.mdx.jp -w '%{http_code}\\n' -o /dev/null -s"
   ]
  },
  {
   "cell_type": "markdown",
   "metadata": {
    "heading_collapsed": true,
    "lc_cell_meme": {
     "current": "0a10bede-adca-11ec-9d19-005056b02673-9-2a44-5331-e3ac-ac68-9283-5b9d-be7e-709d-3cdb",
     "next": "52021760-adca-11ec-9d19-005056b02673-9-7907-3cc5-c34e-180a-7027-25b9-a75c-cba4-ff58",
     "previous": "0a10bd80-adca-11ec-9d19-005056b02673-9-1434-2299-75aa-da47-7922-65e0-0de8-627a-abfe"
    }
   },
   "source": [
    "## mdx VM 作成\n",
    "\n",
    "1. VCP SDK mdx用プラグインモジュールの読み込み\n",
    "2. mdx VM作成に必要なパラメータ設定\n",
    "3. mdx VMデプロイ実行"
   ]
  },
  {
   "cell_type": "markdown",
   "metadata": {
    "hidden": true,
    "lc_cell_meme": {
     "current": "52021760-adca-11ec-9d19-005056b02673-9-7907-3cc5-c34e-180a-7027-25b9-a75c-cba4-ff58",
     "next": "52021940-adca-11ec-9d19-005056b02673-9-887d-d4a0-3298-bb59-2f1b-4813-4fe8-53ef-71a2",
     "previous": "0a10bede-adca-11ec-9d19-005056b02673-9-2a44-5331-e3ac-ac68-9283-5b9d-be7e-709d-3cdb"
    }
   },
   "source": [
    "### VCP SDK mdx用プラグインモジュールの読み込み"
   ]
  },
  {
   "cell_type": "code",
   "execution_count": null,
   "metadata": {
    "hidden": true,
    "lc_cell_meme": {
     "current": "52021940-adca-11ec-9d19-005056b02673-9-887d-d4a0-3298-bb59-2f1b-4813-4fe8-53ef-71a2",
     "next": "52021b52-adca-11ec-9d19-005056b02673-9-863b-18db-4ee9-57e3-aaaf-7110-3488-8d0a-7887",
     "previous": "52021760-adca-11ec-9d19-005056b02673-9-7907-3cc5-c34e-180a-7027-25b9-a75c-cba4-ff58"
    },
    "lc_wrapper": {}
   },
   "outputs": [],
   "source": [
    "from common import logsetting\n",
    "from vcpsdk.plugins.mdx_ext import MdxResourceExt\n",
    "mdx = MdxResourceExt(mdx_token)"
   ]
  },
  {
   "cell_type": "markdown",
   "metadata": {
    "hidden": true,
    "lc_cell_meme": {
     "current": "52021b52-adca-11ec-9d19-005056b02673-9-863b-18db-4ee9-57e3-aaaf-7110-3488-8d0a-7887",
     "next": "86a73580-1c48-11ed-aae3-005056b02e0f-5-73de-f312-ce19-a332-c2a4",
     "previous": "52021940-adca-11ec-9d19-005056b02673-9-887d-d4a0-3298-bb59-2f1b-4813-4fe8-53ef-71a2"
    }
   },
   "source": [
    "### mdx VM作成に必要なパラメータ設定\n",
    "\n",
    "- プロジェクトID\n",
    "- ネットワークセグメントID\n",
    "- sshログインのための公開鍵"
   ]
  },
  {
   "cell_type": "markdown",
   "metadata": {
    "hidden": true,
    "lc_cell_meme": {
     "current": "86a73580-1c48-11ed-aae3-005056b02e0f-5-73de-f312-ce19-a332-c2a4",
     "next": "52021bca-adca-11ec-9d19-005056b02673-9-957e-8355-f43c-1991-6517-ace7-ed47-6d89-4225",
     "previous": "52021b52-adca-11ec-9d19-005056b02673-9-863b-18db-4ee9-57e3-aaaf-7110-3488-8d0a-7887"
    }
   },
   "source": [
    "自身が所属している（利用可能な）mdxのプロジェクト情報を確認します。"
   ]
  },
  {
   "cell_type": "code",
   "execution_count": null,
   "metadata": {
    "hidden": true,
    "lc_cell_meme": {
     "current": "52021bca-adca-11ec-9d19-005056b02673-9-957e-8355-f43c-1991-6517-ace7-ed47-6d89-4225",
     "next": "86a73986-1c48-11ed-aae3-005056b02e0f-5-7046-b569-56d4-5b4a-ae53",
     "previous": "86a73580-1c48-11ed-aae3-005056b02e0f-5-73de-f312-ce19-a332-c2a4"
    },
    "lc_wrapper": {}
   },
   "outputs": [],
   "source": [
    "import json\n",
    "projects = mdx.get_assigned_projects()\n",
    "print(json.dumps(projects[0][\"projects\"], indent=2))"
   ]
  },
  {
   "cell_type": "markdown",
   "metadata": {
    "hidden": true,
    "lc_cell_meme": {
     "current": "86a73986-1c48-11ed-aae3-005056b02e0f-5-7046-b569-56d4-5b4a-ae53",
     "next": "998b7aa4-adca-11ec-9d19-005056b02673-9-9f16-d6c4-fc01-2924-6abb-e049-e41e-ee80-2249",
     "previous": "52021bca-adca-11ec-9d19-005056b02673-9-957e-8355-f43c-1991-6517-ace7-ed47-6d89-4225"
    }
   },
   "source": [
    "以降のmdx操作対象とする「プロジェクト名」 (`name`) を設定します。"
   ]
  },
  {
   "cell_type": "code",
   "execution_count": null,
   "metadata": {
    "hidden": true,
    "lc_cell_meme": {
     "current": "998b7aa4-adca-11ec-9d19-005056b02673-9-9f16-d6c4-fc01-2924-6abb-e049-e41e-ee80-2249",
     "next": "ce2d9b88-1c48-11ed-aae3-005056b02e0f-5-9c35-3d08-a98b-7696-34e0",
     "previous": "86a73986-1c48-11ed-aae3-005056b02e0f-5-7046-b569-56d4-5b4a-ae53"
    },
    "lc_wrapper": {}
   },
   "outputs": [],
   "source": [
    "project_name = ''\n",
    "mdx.set_current_project_by_name(project_name)"
   ]
  },
  {
   "cell_type": "markdown",
   "metadata": {
    "hidden": true,
    "lc_cell_meme": {
     "current": "ce2d9b88-1c48-11ed-aae3-005056b02e0f-5-9c35-3d08-a98b-7696-34e0",
     "next": "998b7e14-adca-11ec-9d19-005056b02673-9-01b5-a545-2549-220e-f81e-cf9b-95b6-6584-c8d7",
     "previous": "998b7aa4-adca-11ec-9d19-005056b02673-9-9f16-d6c4-fc01-2924-6abb-e049-e41e-ee80-2249"
    }
   },
   "source": [
    "操作対象として設定したプロジェクト情報を確認します。"
   ]
  },
  {
   "cell_type": "code",
   "execution_count": null,
   "metadata": {
    "hidden": true,
    "lc_cell_meme": {
     "current": "998b7e14-adca-11ec-9d19-005056b02673-9-01b5-a545-2549-220e-f81e-cf9b-95b6-6584-c8d7",
     "next": "ce2d9f0c-1c48-11ed-aae3-005056b02e0f-5-4f60-c283-b327-539c-f0ba",
     "previous": "ce2d9b88-1c48-11ed-aae3-005056b02e0f-5-9c35-3d08-a98b-7696-34e0"
    },
    "lc_wrapper": {}
   },
   "outputs": [],
   "source": [
    "print(json.dumps(mdx.get_current_project(), indent=2))"
   ]
  },
  {
   "cell_type": "markdown",
   "metadata": {
    "hidden": true,
    "lc_cell_meme": {
     "current": "ce2d9f0c-1c48-11ed-aae3-005056b02e0f-5-4f60-c283-b327-539c-f0ba",
     "next": "998b812a-adca-11ec-9d19-005056b02673-9-3e8b-24ef-7ab5-f235-ab53-170b-eab7-84ee-83b9",
     "previous": "998b7e14-adca-11ec-9d19-005056b02673-9-01b5-a545-2549-220e-f81e-cf9b-95b6-6584-c8d7"
    }
   },
   "source": [
    "プロジェクトで利用可能なットワークセグメントのリストを取得し、先頭のIDを設定します。"
   ]
  },
  {
   "cell_type": "code",
   "execution_count": null,
   "metadata": {
    "hidden": true,
    "lc_cell_meme": {
     "current": "998b812a-adca-11ec-9d19-005056b02673-9-3e8b-24ef-7ab5-f235-ab53-170b-eab7-84ee-83b9",
     "next": "ce2da0d8-1c48-11ed-aae3-005056b02e0f-5-388e-ce20-23a4-ab7a-f4df",
     "previous": "ce2d9f0c-1c48-11ed-aae3-005056b02e0f-5-4f60-c283-b327-539c-f0ba"
    },
    "lc_wrapper": {}
   },
   "outputs": [],
   "source": [
    "segments = mdx.get_segments()\n",
    "print(json.dumps(segments, indent=2))\n",
    "\n",
    "segment_id = mdx.get_segments()[0][\"uuid\"]\n",
    "print(segment_id)"
   ]
  },
  {
   "cell_type": "markdown",
   "metadata": {
    "hidden": true,
    "lc_cell_meme": {
     "current": "ce2da0d8-1c48-11ed-aae3-005056b02e0f-5-388e-ce20-23a4-ab7a-f4df",
     "next": "998b7fc2-adca-11ec-9d19-005056b02673-9-6288-5054-c1db-ae7f-5a6c-98cd-dce3-edf4-9e0a",
     "previous": "998b812a-adca-11ec-9d19-005056b02673-9-3e8b-24ef-7ab5-f235-ab53-170b-eab7-84ee-83b9"
    }
   },
   "source": [
    "sshログインのための公開鍵ファイルの内容を設定します。"
   ]
  },
  {
   "cell_type": "code",
   "execution_count": null,
   "metadata": {
    "hidden": true,
    "lc_cell_meme": {
     "current": "998b7fc2-adca-11ec-9d19-005056b02673-9-6288-5054-c1db-ae7f-5a6c-98cd-dce3-edf4-9e0a",
     "next": "998b827e-adca-11ec-9d19-005056b02673-9-8505-8402-e1a7-0ea7-094c-d44f-dad1-783c-7fc5",
     "previous": "ce2da0d8-1c48-11ed-aae3-005056b02e0f-5-388e-ce20-23a4-ab7a-f4df"
    },
    "lc_wrapper": {}
   },
   "outputs": [],
   "source": [
    "import os\n",
    "with open(os.path.expanduser('~/.ssh/id_rsa.pub')) as f:\n",
    "    ssh_shared_key = f.read()\n",
    "print(ssh_shared_key)"
   ]
  },
  {
   "cell_type": "markdown",
   "metadata": {
    "hidden": true,
    "lc_cell_meme": {
     "current": "998b827e-adca-11ec-9d19-005056b02673-9-8505-8402-e1a7-0ea7-094c-d44f-dad1-783c-7fc5",
     "next": "15b3edea-1c49-11ed-aae3-005056b02e0f-6-b2b5-27c5-9ea3-083e-1968-fae4",
     "previous": "998b7fc2-adca-11ec-9d19-005056b02673-9-6288-5054-c1db-ae7f-5a6c-98cd-dce3-edf4-9e0a"
    }
   },
   "source": [
    "### mdx VMデプロイ\n",
    "\n",
    "ここでは、仮想マシンテンプレートとして「推奨版、東京大学制作、20220412-2043版」を使用します。\n",
    "> 利用可能な仮想マシンテンプレートの一覧は、 `get_vm_catalogs()` により取得可能\n",
    "\n",
    "[ハードウェアのカスタマイズ項目](https://docs.mdx.jp/ja/main/create_vm.html#deploy-settings)は、以下の内容で設定します。\n",
    "  * 仮想マシン名: `\"handson-001\"` **（プロジェクト内で重複しないこと）**\n",
    "  * パックタイプ: `\"cpu\"`\n",
    "  * パック数: `3`\n",
    "  * 仮想ディスク(GB): `40`\n",
    "  * ストレージネットワーク: `\"portgroup\"`\n",
    "  * サービスレベル: `\"spot\"`"
   ]
  },
  {
   "cell_type": "markdown",
   "metadata": {
    "hidden": true,
    "lc_cell_meme": {
     "current": "15b3edea-1c49-11ed-aae3-005056b02e0f-6-b2b5-27c5-9ea3-083e-1968-fae4",
     "execution_end_time": "2022-08-15T03:19:31.697647Z",
     "next": "5d3b58b0-1c49-11ed-aae3-005056b02e0f-5-9918-a03e-8858-6ed3-877f",
     "previous": "998b827e-adca-11ec-9d19-005056b02673-9-8505-8402-e1a7-0ea7-094c-d44f-dad1-783c-7fc5"
    },
    "lc_wrapper": {}
   },
   "source": [
    "mdx VMにIPアドレスが設定されるまで5分程度要するため、実行中のセルの経過時間を表示するライブラリ [jupyter-autotime](https://pypi.org/project/jupyter-autotime/) 機能を有効化します。"
   ]
  },
  {
   "cell_type": "code",
   "execution_count": null,
   "metadata": {
    "hidden": true,
    "lc_cell_meme": {
     "current": "5d3b58b0-1c49-11ed-aae3-005056b02e0f-5-9918-a03e-8858-6ed3-877f",
     "next": "d4a857f8-3814-11ee-8ec7-005056b00a9f",
     "previous": "15b3edea-1c49-11ed-aae3-005056b02e0f-6-b2b5-27c5-9ea3-083e-1968-fae4"
    }
   },
   "outputs": [],
   "source": [
    "!pip install jupyter-autotime\n",
    "%load_ext autotime"
   ]
  },
  {
   "cell_type": "markdown",
   "metadata": {
    "hidden": true,
    "lc_cell_meme": {
     "current": "d4a857f8-3814-11ee-8ec7-005056b00a9f",
     "next": "c96a27a6-a69b-11ec-8db3-005056b02367-11-ee5b-948a-3208-40ea-4b7a-c93f-9ddf-9aed-4b00-71c7",
     "previous": "5d3b58b0-1c49-11ed-aae3-005056b02e0f-5-9918-a03e-8858-6ed3-877f"
    }
   },
   "source": [
    "VMのパラメータを設定します。"
   ]
  },
  {
   "cell_type": "code",
   "execution_count": null,
   "metadata": {
    "hidden": true,
    "lc_cell_meme": {
     "current": "c96a27a6-a69b-11ec-8db3-005056b02367-11-ee5b-948a-3208-40ea-4b7a-c93f-9ddf-9aed-4b00-71c7",
     "next": "d4a85c58-3814-11ee-8ec7-005056b00a9f",
     "previous": "d4a857f8-3814-11ee-8ec7-005056b00a9f"
    },
    "lc_wrapper": {}
   },
   "outputs": [],
   "source": [
    "DEFAULT_CATALOG = \"16a41081-a1cf-428e-90d0-a147b3aa6fc2\"\n",
    "DEFAULT_TEMPLATE_NAME = \"UT-20220412-2043-ubuntu-2004-server\"\n",
    "\n",
    "vm_name = \"handson_001\"\n",
    "\n",
    "mdx_spec = dict(\n",
    "    catalog=DEFAULT_CATALOG,\n",
    "    template_name=DEFAULT_TEMPLATE_NAME,\n",
    "    pack_num=3,\n",
    "    pack_type=\"cpu\",\n",
    "    disk_size=40,\n",
    "    gpu=\"0\",\n",
    "    network_adapters=[\n",
    "        dict(\n",
    "            adapter_number=1,\n",
    "            segment=segment_id\n",
    "        )\n",
    "    ],\n",
    "    shared_key=ssh_shared_key,\n",
    "    storage_network=\"portgroup\",\n",
    ")"
   ]
  },
  {
   "cell_type": "markdown",
   "metadata": {
    "hidden": true,
    "lc_cell_meme": {
     "current": "d4a85c58-3814-11ee-8ec7-005056b00a9f",
     "next": "1c2e8c82-3815-11ee-8ec7-005056b00a9f",
     "previous": "c96a27a6-a69b-11ec-8db3-005056b02367-11-ee5b-948a-3208-40ea-4b7a-c93f-9ddf-9aed-4b00-71c7"
    }
   },
   "source": [
    "2023-01-31のmdx REST APIの仕様変更により、VMのspecに `service_level` の指定が必須となりました。このため、 `service_level` を `spot` に指定して、明示的にスポットVMとしてデプロイするよう指定します。"
   ]
  },
  {
   "cell_type": "code",
   "execution_count": null,
   "metadata": {
    "hidden": true,
    "lc_cell_meme": {
     "current": "1c2e8c82-3815-11ee-8ec7-005056b00a9f",
     "next": "5d3b5d10-1c49-11ed-aae3-005056b02e0f-5-04bf-b389-8832-52b0-723c",
     "previous": "d4a85c58-3814-11ee-8ec7-005056b00a9f"
    }
   },
   "outputs": [],
   "source": [
    "from vcpsdk.plugins.mdx_ext import MDX_VM_SPEC_SCHEMA\n",
    "\n",
    "if not 'service_level' in MDX_VM_SPEC_SCHEMA['properties']:\n",
    "    MDX_VM_SPEC_SCHEMA['properties'].update(\n",
    "        {'service_level': {'type': 'string'}}\n",
    "    )\n",
    "\n",
    "mdx_spec.update({'service_level': 'spot'})"
   ]
  },
  {
   "cell_type": "markdown",
   "metadata": {
    "hidden": true,
    "lc_cell_meme": {
     "current": "5d3b5d10-1c49-11ed-aae3-005056b02e0f-5-04bf-b389-8832-52b0-723c",
     "next": "8d20a00c-3814-11ee-8ec7-005056b00a9f",
     "previous": "1c2e8c82-3815-11ee-8ec7-005056b00a9f"
    }
   },
   "source": [
    "VMのデプロイを実行します。デプロイ完了後、VM情報を出力します。"
   ]
  },
  {
   "cell_type": "code",
   "execution_count": null,
   "metadata": {
    "hidden": true,
    "lc_cell_meme": {
     "current": "8d20a00c-3814-11ee-8ec7-005056b00a9f",
     "next": "5d3b5edc-1c49-11ed-aae3-005056b02e0f-5-13d7-d92b-19b5-e4cf-dadf",
     "previous": "5d3b5d10-1c49-11ed-aae3-005056b02e0f-5-04bf-b389-8832-52b0-723c"
    }
   },
   "outputs": [],
   "source": [
    "info = mdx.deploy_vm(vm_name, mdx_spec)\n",
    "print(json.dumps(info, indent=2))"
   ]
  },
  {
   "cell_type": "code",
   "execution_count": null,
   "metadata": {
    "hidden": true,
    "lc_cell_meme": {
     "current": "5d3b5edc-1c49-11ed-aae3-005056b02e0f-5-13d7-d92b-19b5-e4cf-dadf",
     "next": "5d3b604e-1c49-11ed-aae3-005056b02e0f-5-545a-0cc8-f470-6abf-bc0a",
     "previous": "8d20a00c-3814-11ee-8ec7-005056b00a9f"
    }
   },
   "outputs": [],
   "source": [
    "# jupyter-autotime を無効化\n",
    "%unload_ext autotime"
   ]
  },
  {
   "cell_type": "markdown",
   "metadata": {
    "hidden": true,
    "lc_cell_meme": {
     "current": "5d3b604e-1c49-11ed-aae3-005056b02e0f-5-545a-0cc8-f470-6abf-bc0a",
     "next": "b687cc5e-abc5-11ec-a2a8-005056b02367-11-bb3c-21cd-a9c5-a49d-632d-e5b4-11ed-0e47-371a-d28e",
     "previous": "5d3b5edc-1c49-11ed-aae3-005056b02e0f-5-13d7-d92b-19b5-e4cf-dadf"
    }
   },
   "source": [
    "VMに付与されたプライベートIPv4アドレス (先頭のアドレス) を取得します。"
   ]
  },
  {
   "cell_type": "code",
   "execution_count": null,
   "metadata": {
    "hidden": true,
    "lc_cell_meme": {
     "current": "b687cc5e-abc5-11ec-a2a8-005056b02367-11-bb3c-21cd-a9c5-a49d-632d-e5b4-11ed-0e47-371a-d28e",
     "next": "8ef116da-abc7-11ec-a2a8-005056b02367-11-4b31-fc58-3627-8587-a907-0f4f-8267-3087-d68f-5e53",
     "previous": "5d3b604e-1c49-11ed-aae3-005056b02e0f-5-545a-0cc8-f470-6abf-bc0a"
    },
    "lc_wrapper": {}
   },
   "outputs": [],
   "source": [
    "host_ip_address = info[\"service_networks\"][0][\"ipv4_address\"][0]\n",
    "host_ip_address"
   ]
  },
  {
   "cell_type": "markdown",
   "metadata": {
    "heading_collapsed": true,
    "lc_cell_meme": {
     "current": "8ef116da-abc7-11ec-a2a8-005056b02367-11-4b31-fc58-3627-8587-a907-0f4f-8267-3087-d68f-5e53",
     "next": "704c6e86-adcb-11ec-9d19-005056b02673-9-f468-c889-fef1-8814-9120-ba35-fe49-e878-d16a",
     "previous": "b687cc5e-abc5-11ec-a2a8-005056b02367-11-bb3c-21cd-a9c5-a49d-632d-e5b4-11ed-0e47-371a-d28e"
    }
   },
   "source": [
    "## VCP既存サーバ (SSH) モード セットアップ\n",
    "\n",
    "1. mdx VMへの疎通確認\n",
    "2. VM初期パスワード設定\n",
    "3. 既存サーバ(SSH) モード セットアップスクリプトをmdx VMへのコピー\n",
    "4. 既存サーバ(SSH) モード セットアップ実行\n",
    "5. Docker のインストール確認"
   ]
  },
  {
   "cell_type": "markdown",
   "metadata": {
    "hidden": true,
    "lc_cell_meme": {
     "current": "704c6e86-adcb-11ec-9d19-005056b02673-9-f468-c889-fef1-8814-9120-ba35-fe49-e878-d16a",
     "next": "109ccc2a-abcc-11ec-a2a8-005056b02367-11-353c-4022-8cec-6487-be2c-2f2f-e51f-c1c7-15a7-0fd2",
     "previous": "8ef116da-abc7-11ec-a2a8-005056b02367-11-4b31-fc58-3627-8587-a907-0f4f-8267-3087-d68f-5e53"
    }
   },
   "source": [
    "### mdx VMへの疎通確認"
   ]
  },
  {
   "cell_type": "code",
   "execution_count": null,
   "metadata": {
    "hidden": true,
    "lc_cell_meme": {
     "current": "109ccc2a-abcc-11ec-a2a8-005056b02367-11-353c-4022-8cec-6487-be2c-2f2f-e51f-c1c7-15a7-0fd2",
     "next": "704c720a-adcb-11ec-9d19-005056b02673-9-d952-2943-e353-6590-f514-39f3-2c0f-7d72-f085",
     "previous": "704c6e86-adcb-11ec-9d19-005056b02673-9-f468-c889-fef1-8814-9120-ba35-fe49-e878-d16a"
    },
    "lc_wrapper": {},
    "scrolled": false
   },
   "outputs": [],
   "source": [
    "!ping -c 3 {host_ip_address}"
   ]
  },
  {
   "cell_type": "markdown",
   "metadata": {
    "hidden": true,
    "lc_cell_meme": {
     "current": "704c720a-adcb-11ec-9d19-005056b02673-9-d952-2943-e353-6590-f514-39f3-2c0f-7d72-f085",
     "next": "f6de0c84-1c57-11ed-aae3-005056b02e0f-4-1d63-35f0-5c43-a85a",
     "previous": "109ccc2a-abcc-11ec-a2a8-005056b02367-11-353c-4022-8cec-6487-be2c-2f2f-e51f-c1c7-15a7-0fd2"
    }
   },
   "source": [
    "### VM初期パスワード設定\n",
    "\n",
    "* 仮想マシンテンプレート「推奨版、東京大学制作、20220412-2043版」では、初回ログイン時にはOSのパスワード設定が求められる\n",
    "* ログインユーザ名は `mdxuser`"
   ]
  },
  {
   "cell_type": "markdown",
   "metadata": {
    "hidden": true,
    "lc_cell_meme": {
     "current": "f6de0c84-1c57-11ed-aae3-005056b02e0f-4-1d63-35f0-5c43-a85a",
     "next": "204926d6-1c57-11ed-aae3-005056b02e0f-4-f73c-44d4-3da1-d598",
     "previous": "704c720a-adcb-11ec-9d19-005056b02673-9-d952-2943-e353-6590-f514-39f3-2c0f-7d72-f085"
    }
   },
   "source": [
    "VMの初期パスワードをSSH経由で設定するために必要なパラメータを設定します。"
   ]
  },
  {
   "cell_type": "code",
   "execution_count": null,
   "metadata": {
    "hidden": true,
    "lc_cell_meme": {
     "current": "204926d6-1c57-11ed-aae3-005056b02e0f-4-f73c-44d4-3da1-d598",
     "next": "3e65b908-1c58-11ed-aae3-005056b02e0f-4-8c4d-3146-32ff-17c8",
     "previous": "f6de0c84-1c57-11ed-aae3-005056b02e0f-4-1d63-35f0-5c43-a85a"
    },
    "lc_wrapper": {}
   },
   "outputs": [],
   "source": [
    "ssh_user_name = \"mdxuser\"\n",
    "ssh_private_key_path = os.path.expanduser(\"~/.ssh/id_rsa\")\n",
    "mdx_user_password = \"handson2209_mdx_vm_initial_password\""
   ]
  },
  {
   "cell_type": "markdown",
   "metadata": {
    "hidden": true,
    "lc_cell_meme": {
     "current": "3e65b908-1c58-11ed-aae3-005056b02e0f-4-8c4d-3146-32ff-17c8",
     "next": "8ef11aea-abc7-11ec-a2a8-005056b02367-11-6b5e-ca4f-4dc6-2f3b-d921-d7fb-90ae-1e78-2634-725f",
     "previous": "204926d6-1c57-11ed-aae3-005056b02e0f-4-f73c-44d4-3da1-d598"
    }
   },
   "source": [
    "expectスクリプトを用いてVMの初期パスワード設定を実行します。"
   ]
  },
  {
   "cell_type": "code",
   "execution_count": null,
   "metadata": {
    "hidden": true,
    "lc_cell_meme": {
     "current": "8ef11aea-abc7-11ec-a2a8-005056b02367-11-6b5e-ca4f-4dc6-2f3b-d921-d7fb-90ae-1e78-2634-725f",
     "next": "b7d48e8c-adcb-11ec-9d19-005056b02673-9-0a01-87fe-ce1b-e7cc-64e8-75c1-6c3f-689f-4819",
     "previous": "3e65b908-1c58-11ed-aae3-005056b02e0f-4-8c4d-3146-32ff-17c8"
    },
    "lc_wrapper": {},
    "scrolled": false
   },
   "outputs": [],
   "source": [
    "!./scripts/init_mdx_passwd.exp {ssh_user_name} {host_ip_address} {ssh_private_key_path} {mdx_user_password}"
   ]
  },
  {
   "cell_type": "markdown",
   "metadata": {
    "hidden": true,
    "lc_cell_meme": {
     "current": "b7d48e8c-adcb-11ec-9d19-005056b02673-9-0a01-87fe-ce1b-e7cc-64e8-75c1-6c3f-689f-4819",
     "next": "c748b6bc-ac05-11ec-a2a8-005056b02367-11-9479-e450-3471-c702-a59c-aa45-d8de-3de8-ddad-ef97",
     "previous": "8ef11aea-abc7-11ec-a2a8-005056b02367-11-6b5e-ca4f-4dc6-2f3b-d921-d7fb-90ae-1e78-2634-725f"
    }
   },
   "source": [
    "### 既存サーバ(SSH) モード セットアップスクリプトをmdx VMへのコピー"
   ]
  },
  {
   "cell_type": "code",
   "execution_count": null,
   "metadata": {
    "hidden": true,
    "lc_cell_meme": {
     "current": "c748b6bc-ac05-11ec-a2a8-005056b02367-11-9479-e450-3471-c702-a59c-aa45-d8de-3de8-ddad-ef97",
     "next": "408d5876-ac05-11ec-a2a8-005056b02367-11-c6ca-1092-25b4-a09e-f2c9-88b1-4f4e-c25d-0db3-5ed8",
     "previous": "b7d48e8c-adcb-11ec-9d19-005056b02673-9-0a01-87fe-ce1b-e7cc-64e8-75c1-6c3f-689f-4819"
    },
    "lc_wrapper": {}
   },
   "outputs": [],
   "source": [
    "# notebookからmdx VMへのsshコマンドオプション\n",
    "ssh_opts = f\" -i {ssh_private_key_path} -o StrictHostKeyChecking=no -o UserKnownHostsFile=/dev/null\""
   ]
  },
  {
   "cell_type": "code",
   "execution_count": null,
   "metadata": {
    "hidden": true,
    "lc_cell_meme": {
     "current": "408d5876-ac05-11ec-a2a8-005056b02367-11-c6ca-1092-25b4-a09e-f2c9-88b1-4f4e-c25d-0db3-5ed8",
     "next": "b7d49206-adcb-11ec-9d19-005056b02673-9-8fe4-2486-75b9-3ae7-2f6c-e50d-0e71-1779-205e",
     "previous": "c748b6bc-ac05-11ec-a2a8-005056b02367-11-9479-e450-3471-c702-a59c-aa45-d8de-3de8-ddad-ef97"
    },
    "lc_wrapper": {},
    "scrolled": true
   },
   "outputs": [],
   "source": [
    "!scp -i tmp/id_rsa -o StrictHostKeyChecking=no -o UserKnownHostsFile=/dev/null scripts/init_mdx_node.sh {ssh_user_name}@{host_ip_address}:"
   ]
  },
  {
   "cell_type": "markdown",
   "metadata": {
    "hidden": true,
    "lc_cell_meme": {
     "current": "b7d49206-adcb-11ec-9d19-005056b02673-9-8fe4-2486-75b9-3ae7-2f6c-e50d-0e71-1779-205e",
     "next": "4ee67ce2-abcc-11ec-a2a8-005056b02367-11-d01b-c181-e41d-46c2-5fa8-dad4-d7b7-991b-b5b4-7c79",
     "previous": "408d5876-ac05-11ec-a2a8-005056b02367-11-c6ca-1092-25b4-a09e-f2c9-88b1-4f4e-c25d-0db3-5ed8"
    }
   },
   "source": [
    "### 既存サーバ(SSH) モード セットアップ実行\n",
    "\n",
    "- docker-ce インストール\n",
    "- sshd_config 設定変更: Port 20022 "
   ]
  },
  {
   "cell_type": "code",
   "execution_count": null,
   "metadata": {
    "hidden": true,
    "lc_cell_meme": {
     "current": "4ee67ce2-abcc-11ec-a2a8-005056b02367-11-d01b-c181-e41d-46c2-5fa8-dad4-d7b7-991b-b5b4-7c79",
     "next": "46e9d884-adcc-11ec-9d19-005056b02673-9-59ac-89f4-2953-a86a-70cc-c842-882b-ed99-c44f",
     "previous": "b7d49206-adcb-11ec-9d19-005056b02673-9-8fe4-2486-75b9-3ae7-2f6c-e50d-0e71-1779-205e"
    },
    "lc_wrapper": {},
    "scrolled": true
   },
   "outputs": [],
   "source": [
    "!ssh {ssh_opts} {ssh_user_name}@{host_ip_address} ./init_mdx_node.sh"
   ]
  },
  {
   "cell_type": "markdown",
   "metadata": {
    "hidden": true,
    "lc_cell_meme": {
     "current": "46e9d884-adcc-11ec-9d19-005056b02673-9-59ac-89f4-2953-a86a-70cc-c842-882b-ed99-c44f",
     "next": "51c24eca-ac06-11ec-a2a8-005056b02367-11-e96a-617e-7f01-1dfc-4508-7636-a76d-d4cf-4fa6-49dc",
     "previous": "4ee67ce2-abcc-11ec-a2a8-005056b02367-11-d01b-c181-e41d-46c2-5fa8-dad4-d7b7-991b-b5b4-7c79"
    }
   },
   "source": [
    "### Docker のインストール確認"
   ]
  },
  {
   "cell_type": "code",
   "execution_count": null,
   "metadata": {
    "hidden": true,
    "lc_cell_meme": {
     "current": "51c24eca-ac06-11ec-a2a8-005056b02367-11-e96a-617e-7f01-1dfc-4508-7636-a76d-d4cf-4fa6-49dc",
     "next": "ac822a2e-adcd-11ec-9d19-005056b02673-9-e405-f311-581e-182d-1887-5369-3915-c5b3-315c",
     "previous": "46e9d884-adcc-11ec-9d19-005056b02673-9-59ac-89f4-2953-a86a-70cc-c842-882b-ed99-c44f"
    },
    "lc_wrapper": {},
    "scrolled": true
   },
   "outputs": [],
   "source": [
    "!ssh {ssh_opts} -p 20022 {ssh_user_name}@{host_ip_address} sudo docker ps"
   ]
  },
  {
   "cell_type": "markdown",
   "metadata": {
    "heading_collapsed": true,
    "lc_cell_meme": {
     "current": "ac822a2e-adcd-11ec-9d19-005056b02673-9-e405-f311-581e-182d-1887-5369-3915-c5b3-315c",
     "next": "ac82251a-adcd-11ec-9d19-005056b02673-9-b739-c273-1122-6b9c-f829-0495-e593-360c-ad5e",
     "previous": "51c24eca-ac06-11ec-a2a8-005056b02367-11-e96a-617e-7f01-1dfc-4508-7636-a76d-d4cf-4fa6-49dc"
    }
   },
   "source": [
    "## VCコントローラ公開鍵設定\n",
    "\n",
    "VCコントローラがmdx VMを既存サーバ(SSH) モードで制御するにはSSH接続を使用します。そのため、VCコントローラのSSH公開鍵をmdx VMに登録しておく必要があります。\n",
    "\n",
    "1. VCP SDKの初期化\n",
    "2. VCコントローラ公開鍵設定"
   ]
  },
  {
   "cell_type": "markdown",
   "metadata": {
    "hidden": true,
    "lc_cell_meme": {
     "current": "ac82251a-adcd-11ec-9d19-005056b02673-9-b739-c273-1122-6b9c-f829-0495-e593-360c-ad5e",
     "next": "a1b40750-adcf-11ec-9d19-005056b02673-9-655d-c912-0a90-0438-bbe2-c5b0-b174-46a5-37d7",
     "previous": "ac822a2e-adcd-11ec-9d19-005056b02673-9-e405-f311-581e-182d-1887-5369-3915-c5b3-315c"
    }
   },
   "source": [
    "### VCP SDKの初期化\n",
    "\n",
    "VCP SDKを利用するにはVCコントローラのアクセストークンが必要となります。次のセルを実行すると入力枠が表示されるのでアクセストークンの値を入力してください。\n",
    "\n",
    "> アクセストークン入力後に Enter キーを押すことで入力が完了します。\n",
    "\n",
    "OCSハンズオン用トークンはこちら→ [token.txt](/jupyter/files/token.txt)"
   ]
  },
  {
   "cell_type": "code",
   "execution_count": null,
   "metadata": {
    "hidden": true,
    "lc_cell_meme": {
     "current": "a1b40750-adcf-11ec-9d19-005056b02673-9-655d-c912-0a90-0438-bbe2-c5b0-b174-46a5-37d7",
     "next": "99ffd5de-ac0d-11ec-a2a8-005056b02367-10-ba01-175d-ee95-736b-4951-9b15-1d57-07f0-78df-3a6c",
     "previous": "ac82251a-adcd-11ec-9d19-005056b02673-9-b739-c273-1122-6b9c-f829-0495-e593-360c-ad5e"
    },
    "lc_wrapper": {}
   },
   "outputs": [],
   "source": [
    "# VCP REST API アクセストークンの入力\n",
    "from getpass import getpass\n",
    "vcc_access_token = getpass()"
   ]
  },
  {
   "cell_type": "code",
   "execution_count": null,
   "metadata": {
    "hidden": true,
    "lc_cell_meme": {
     "current": "99ffd5de-ac0d-11ec-a2a8-005056b02367-10-ba01-175d-ee95-736b-4951-9b15-1d57-07f0-78df-3a6c",
     "next": "9b6f41b0-2b5c-11ed-a17e-005056b02f8e-2-9bbc-c99a",
     "previous": "a1b40750-adcf-11ec-9d19-005056b02673-9-655d-c912-0a90-0438-bbe2-c5b0-b174-46a5-37d7"
    },
    "lc_wrapper": {},
    "scrolled": true
   },
   "outputs": [],
   "source": [
    "# VCP SDK 初期化\n",
    "from vcpsdk.vcpsdk import VcpSDK\n",
    "sdk = VcpSDK(vcc_access_token)"
   ]
  },
  {
   "cell_type": "markdown",
   "metadata": {
    "hidden": true,
    "lc_cell_meme": {
     "current": "9b6f41b0-2b5c-11ed-a17e-005056b02f8e-2-9bbc-c99a",
     "next": "91c13c2c-ac13-11ec-a2a8-005056b02367-10-065c-0f95-d14a-9fad-9d5c-abc3-d588-5c65-e1b1-5aad",
     "previous": "99ffd5de-ac0d-11ec-a2a8-005056b02367-10-ba01-175d-ee95-736b-4951-9b15-1d57-07f0-78df-3a6c"
    }
   },
   "source": [
    "### VCコントローラ公開鍵取得設定\n",
    "\n",
    "VCP SDK の「VCコントローラ公開鍵取得」APIを使って公開鍵を取得し、それをmdx VMにコピーします。"
   ]
  },
  {
   "cell_type": "code",
   "execution_count": null,
   "metadata": {
    "hidden": true,
    "lc_cell_meme": {
     "current": "91c13c2c-ac13-11ec-a2a8-005056b02367-10-065c-0f95-d14a-9fad-9d5c-abc3-d588-5c65-e1b1-5aad",
     "next": "071ccfa4-ac14-11ec-a2a8-005056b02367-10-488f-cbd0-54c5-aa6a-fa34-1b42-9ca8-215c-ba3b-5349",
     "previous": "9b6f41b0-2b5c-11ed-a17e-005056b02f8e-2-9bbc-c99a"
    },
    "lc_wrapper": {}
   },
   "outputs": [],
   "source": [
    "# VCコントローラが既存サーバを操作するときに使うssh公開鍵を取得する\n",
    "vcc_ssh_pubkey = sdk.get_publickey()"
   ]
  },
  {
   "cell_type": "code",
   "execution_count": null,
   "metadata": {
    "hidden": true,
    "lc_cell_meme": {
     "current": "071ccfa4-ac14-11ec-a2a8-005056b02367-10-488f-cbd0-54c5-aa6a-fa34-1b42-9ca8-215c-ba3b-5349",
     "next": "849cce5e-ac0d-11ec-a2a8-005056b02367-11-a7c1-4e7c-85ce-1669-6d2d-008a-a6a3-b64f-c759-230a",
     "previous": "91c13c2c-ac13-11ec-a2a8-005056b02367-10-065c-0f95-d14a-9fad-9d5c-abc3-d588-5c65-e1b1-5aad"
    },
    "lc_wrapper": {}
   },
   "outputs": [],
   "source": [
    "# 公開鍵をmdx VMにコピーする\n",
    "!echo \"{vcc_ssh_pubkey}\" | (ssh {ssh_opts} -p20022 {ssh_user_name}@{host_ip_address} \"cat >> ~/.ssh/authorized_keys\")"
   ]
  },
  {
   "cell_type": "markdown",
   "metadata": {
    "heading_collapsed": true,
    "lc_cell_meme": {
     "current": "849cce5e-ac0d-11ec-a2a8-005056b02367-11-a7c1-4e7c-85ce-1669-6d2d-008a-a6a3-b64f-c759-230a",
     "next": "3b9566d6-adce-11ec-9d19-005056b02673-9-a29b-6f13-97d5-0249-c670-64d0-86f3-22e1-854f",
     "previous": "071ccfa4-ac14-11ec-a2a8-005056b02367-10-488f-cbd0-54c5-aa6a-fa34-1b42-9ca8-215c-ba3b-5349"
    }
   },
   "source": [
    "## VCP SDKによるVCノード起動確認\n",
    "\n",
    "1. VCノード起動パラメータ設定\n",
    "2. VCノード起動\n",
    "3. Applicationコンテナの起動確認\n",
    "4. VCノード削除"
   ]
  },
  {
   "cell_type": "markdown",
   "metadata": {
    "hidden": true,
    "lc_cell_meme": {
     "current": "3b9566d6-adce-11ec-9d19-005056b02673-9-a29b-6f13-97d5-0249-c670-64d0-86f3-22e1-854f",
     "next": "b79d7be4-ac14-11ec-a2a8-005056b02367-10-8293-f24d-154a-2f45-4500-154d-87db-2204-adb0-2c04",
     "previous": "849cce5e-ac0d-11ec-a2a8-005056b02367-11-a7c1-4e7c-85ce-1669-6d2d-008a-a6a3-b64f-c759-230a"
    }
   },
   "source": [
    "### VCノード起動パラメータ設定\n",
    "\n",
    "* クラウドプロバイダ名は `\"onpremises\"` を指定\n",
    "* `ip_addresses`: Baseコンテナを起動するホストのIPアドレス\n",
    "* `user_name`: Baseコンテナを起動するホスト上のsudo可能なアカウント名 (mdx VMテンプレート毎に既定）\n",
    "* `set_ssh_pubkey`: BaseコンテナへのSSHログイン用公開鍵ファイルのパス"
   ]
  },
  {
   "cell_type": "code",
   "execution_count": null,
   "metadata": {
    "hidden": true,
    "lc_cell_meme": {
     "current": "b79d7be4-ac14-11ec-a2a8-005056b02367-10-8293-f24d-154a-2f45-4500-154d-87db-2204-adb0-2c04",
     "next": "c5641878-ac14-11ec-a2a8-005056b02367-10-2ae1-cd9f-7cfb-65ba-09a8-281a-e6b2-3cb6-86e3-62ea",
     "previous": "3b9566d6-adce-11ec-9d19-005056b02673-9-a29b-6f13-97d5-0249-c670-64d0-86f3-22e1-854f"
    },
    "lc_wrapper": {},
    "scrolled": true
   },
   "outputs": [],
   "source": [
    "my_ugroup_name = \"mdx\"\n",
    "ugroup = sdk.create_ugroup(my_ugroup_name)"
   ]
  },
  {
   "cell_type": "code",
   "execution_count": null,
   "metadata": {
    "hidden": true,
    "lc_cell_meme": {
     "current": "c5641878-ac14-11ec-a2a8-005056b02367-10-2ae1-cd9f-7cfb-65ba-09a8-281a-e6b2-3cb6-86e3-62ea",
     "next": "7afcfad4-ac14-11ec-a2a8-005056b02367-10-3fd0-7b67-6651-c10d-2db7-29e2-c109-7a27-003d-bc15",
     "previous": "b79d7be4-ac14-11ec-a2a8-005056b02367-10-8293-f24d-154a-2f45-4500-154d-87db-2204-adb0-2c04"
    },
    "lc_wrapper": {}
   },
   "outputs": [],
   "source": [
    "print(ugroup)"
   ]
  },
  {
   "cell_type": "code",
   "execution_count": null,
   "metadata": {
    "hidden": true,
    "lc_cell_meme": {
     "current": "7afcfad4-ac14-11ec-a2a8-005056b02367-10-3fd0-7b67-6651-c10d-2db7-29e2-c109-7a27-003d-bc15",
     "next": "83156074-adce-11ec-9d19-005056b02673-9-d545-0fbd-28b4-7cf9-2244-c380-21b4-fa63-3ec3",
     "previous": "c5641878-ac14-11ec-a2a8-005056b02367-10-2ae1-cd9f-7cfb-65ba-09a8-281a-e6b2-3cb6-86e3-62ea"
    },
    "lc_wrapper": {}
   },
   "outputs": [],
   "source": [
    "spec = sdk.get_spec(\"onpremises\", \"default\")\n",
    "spec.ip_addresses = [host_ip_address]\n",
    "spec.user_name = ssh_user_name\n",
    "spec.set_ssh_pubkey(os.path.expanduser(\"~/.ssh/id_rsa.pub\"))"
   ]
  },
  {
   "cell_type": "markdown",
   "metadata": {
    "hidden": true,
    "lc_cell_meme": {
     "current": "83156074-adce-11ec-9d19-005056b02673-9-d545-0fbd-28b4-7cf9-2244-c380-21b4-fa63-3ec3",
     "next": "4ea35e60-ac14-11ec-a2a8-005056b02367-10-0451-f48c-28b5-46f8-c74b-1fdd-4e08-4dc1-21e4-bcfd",
     "previous": "7afcfad4-ac14-11ec-a2a8-005056b02367-10-3fd0-7b67-6651-c10d-2db7-29e2-c109-7a27-003d-bc15"
    }
   },
   "source": [
    "### VCノード起動"
   ]
  },
  {
   "cell_type": "code",
   "execution_count": null,
   "metadata": {
    "hidden": true,
    "lc_cell_meme": {
     "current": "4ea35e60-ac14-11ec-a2a8-005056b02367-10-0451-f48c-28b5-46f8-c74b-1fdd-4e08-4dc1-21e4-bcfd",
     "next": "b79d7ebe-ac14-11ec-a2a8-005056b02367-10-39d2-b746-841d-2f77-3555-36fd-02b2-4874-dfe7-919c",
     "previous": "83156074-adce-11ec-9d19-005056b02673-9-d545-0fbd-28b4-7cf9-2244-c380-21b4-fa63-3ec3"
    },
    "lc_wrapper": {}
   },
   "outputs": [],
   "source": [
    "unit_name = \"mdx_server\"\n",
    "unit = ugroup.create_unit(unit_name, spec, wait_for=True, verbose=0)"
   ]
  },
  {
   "cell_type": "code",
   "execution_count": null,
   "metadata": {
    "hidden": true,
    "lc_cell_meme": {
     "current": "b79d7ebe-ac14-11ec-a2a8-005056b02367-10-39d2-b746-841d-2f77-3555-36fd-02b2-4874-dfe7-919c",
     "next": "d5ee54ce-adcc-11ec-9d19-005056b02673-9-54e5-2577-cb64-0d59-8055-3798-31c5-0483-860f",
     "previous": "4ea35e60-ac14-11ec-a2a8-005056b02367-10-0451-f48c-28b5-46f8-c74b-1fdd-4e08-4dc1-21e4-bcfd"
    },
    "lc_wrapper": {},
    "scrolled": true
   },
   "outputs": [],
   "source": [
    "ugroup.df_nodes()"
   ]
  },
  {
   "cell_type": "markdown",
   "metadata": {
    "hidden": true,
    "lc_cell_meme": {
     "current": "d5ee54ce-adcc-11ec-9d19-005056b02673-9-54e5-2577-cb64-0d59-8055-3798-31c5-0483-860f",
     "next": "8450f11a-ac16-11ec-a2a8-005056b02367-10-b7e7-6335-0a3b-b2c3-9fd0-feb9-ebca-6859-f0d8-76b8",
     "previous": "b79d7ebe-ac14-11ec-a2a8-005056b02367-10-39d2-b746-841d-2f77-3555-36fd-02b2-4874-dfe7-919c"
    }
   },
   "source": [
    "### Applicationコンテナの起動確認\n",
    "\n",
    "`hello-world` コンテナを実行します。"
   ]
  },
  {
   "cell_type": "code",
   "execution_count": null,
   "metadata": {
    "hidden": true,
    "lc_cell_meme": {
     "current": "8450f11a-ac16-11ec-a2a8-005056b02367-10-b7e7-6335-0a3b-b2c3-9fd0-feb9-ebca-6859-f0d8-76b8",
     "next": "075e14e6-add1-11ec-9d19-005056b02673-9-9f9a-194b-3ef0-d157-587b-b689-dfba-9999-6edd",
     "previous": "d5ee54ce-adcc-11ec-9d19-005056b02673-9-54e5-2577-cb64-0d59-8055-3798-31c5-0483-860f"
    },
    "lc_wrapper": {}
   },
   "outputs": [],
   "source": [
    "!ssh {ssh_opts} root@{host_ip_address} /usr/local/bin/docker run hello-world"
   ]
  },
  {
   "cell_type": "markdown",
   "metadata": {
    "hidden": true,
    "lc_cell_meme": {
     "current": "075e14e6-add1-11ec-9d19-005056b02673-9-9f9a-194b-3ef0-d157-587b-b689-dfba-9999-6edd",
     "next": "2536c0fc-ac15-11ec-a2a8-005056b02367-10-fa6e-a81c-8373-27b4-6f7f-ad21-1025-bc9d-7c00-4487",
     "previous": "8450f11a-ac16-11ec-a2a8-005056b02367-10-b7e7-6335-0a3b-b2c3-9fd0-feb9-ebca-6859-f0d8-76b8"
    }
   },
   "source": [
    "### VCノード削除\n",
    "\n",
    "ここでは VC ノードとしての動作確認を行った Unit Group の cleanup を実行しますが、\n",
    "VCP既存サーバ(SSH) モードをセットアップ済みの mdx VM は VM 自体を削除しない限り VC ノードとして再利用可能です。"
   ]
  },
  {
   "cell_type": "code",
   "execution_count": null,
   "metadata": {
    "hidden": true,
    "lc_cell_meme": {
     "current": "2536c0fc-ac15-11ec-a2a8-005056b02367-10-fa6e-a81c-8373-27b4-6f7f-ad21-1025-bc9d-7c00-4487",
     "next": "e93a8eaa-adcf-11ec-9d19-005056b02673-9-6ab0-5679-b44b-0209-3b06-b02f-7aa0-470c-05ef",
     "previous": "075e14e6-add1-11ec-9d19-005056b02673-9-9f9a-194b-3ef0-d157-587b-b689-dfba-9999-6edd"
    },
    "lc_wrapper": {},
    "scrolled": true
   },
   "outputs": [],
   "source": [
    "ugroup.cleanup()"
   ]
  },
  {
   "cell_type": "code",
   "execution_count": null,
   "metadata": {
    "hidden": true,
    "lc_cell_meme": {
     "current": "e93a8eaa-adcf-11ec-9d19-005056b02673-9-6ab0-5679-b44b-0209-3b06-b02f-7aa0-470c-05ef",
     "next": null,
     "previous": "2536c0fc-ac15-11ec-a2a8-005056b02367-10-fa6e-a81c-8373-27b4-6f7f-ad21-1025-bc9d-7c00-4487"
    },
    "lc_wrapper": {}
   },
   "outputs": [],
   "source": [
    "sdk.df_ugroups()"
   ]
  }
 ],
 "metadata": {
  "kernelspec": {
   "display_name": "Python 3",
   "language": "python",
   "name": "python3"
  },
  "language_info": {
   "file_extension": ".py",
   "mimetype": "text/x-python",
   "name": "python",
   "nbconvert_exporter": "python",
   "pygments_lexer": "ipython3",
   "version": "3.8.6"
  },
  "toc": {
   "base_numbering": 1,
   "nav_menu": {},
   "number_sections": true,
   "sideBar": true,
   "skip_h1_title": true,
   "title_cell": "Table of Contents",
   "title_sidebar": "Contents",
   "toc_cell": false,
   "toc_position": {},
   "toc_section_display": true,
   "toc_window_display": true
  }
 },
 "nbformat": 4,
 "nbformat_minor": 4
}
