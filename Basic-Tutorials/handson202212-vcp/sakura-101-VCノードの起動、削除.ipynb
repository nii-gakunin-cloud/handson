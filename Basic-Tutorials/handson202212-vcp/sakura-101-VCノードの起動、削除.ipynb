{
 "cells": [
  {
   "cell_type": "markdown",
   "metadata": {
    "heading_collapsed": true,
    "lc_cell_meme": {
     "current": "b13a609e-e54b-11ec-8d3a-02420a010016-3-4764-f3c9-9c41",
     "next": "b13a61a2-e54b-11ec-8d3a-02420a010016-3-8ca4-5d43-e77e",
     "previous": null
    }
   },
   "source": [
    "# はじめに\n",
    "\n",
    "このNotebookではVCP SDKを利用してVCノードを起動、削除する手順を記しています。"
   ]
  },
  {
   "cell_type": "markdown",
   "metadata": {
    "heading_collapsed": true,
    "hidden": true,
    "lc_cell_meme": {
     "current": "b13a61a2-e54b-11ec-8d3a-02420a010016-3-8ca4-5d43-e77e",
     "next": "b13a624c-e54b-11ec-8d3a-02420a010016-3-a181-48f4-819e",
     "previous": "b13a609e-e54b-11ec-8d3a-02420a010016-3-4764-f3c9-9c41"
    }
   },
   "source": [
    "## 概要\n",
    "![構成](images/101-001_sakura.png)"
   ]
  },
  {
   "cell_type": "markdown",
   "metadata": {
    "hidden": true,
    "lc_cell_meme": {
     "current": "b13a624c-e54b-11ec-8d3a-02420a010016-3-a181-48f4-819e",
     "next": "b13a62f6-e54b-11ec-8d3a-02420a010016-3-c409-69ea-7260",
     "previous": "b13a61a2-e54b-11ec-8d3a-02420a010016-3-8ca4-5d43-e77e"
    }
   },
   "source": [
    "### 用語説明"
   ]
  },
  {
   "cell_type": "markdown",
   "metadata": {
    "hidden": true,
    "lc_cell_meme": {
     "current": "b13a62f6-e54b-11ec-8d3a-02420a010016-3-c409-69ea-7260",
     "next": "b13a63a0-e54b-11ec-8d3a-02420a010016-3-ebcf-df65-796c",
     "previous": "b13a624c-e54b-11ec-8d3a-02420a010016-3-a181-48f4-819e"
    }
   },
   "source": [
    "上の図、またはこれ以降に示す図に記されている構成要素についての簡単な説明を以下に記します。\n",
    "\n",
    "* [VPC](https://aws.amazon.com/jp/vpc/)\n",
    "  - Amazon が提供している AWS 内の仮想プライベートネットワーク環境\n",
    "* [Amazon EC2](https://aws.amazon.com/jp/ec2/)\n",
    "  - Amazon が提供している仮想コンピューティング環境\n",
    "* [Azure Virtual Network](https://azure.microsoft.com/ja-jp/services/virtual-network/)\n",
    "  - Microsoft が提供しているクラウド内の仮想プライベートネットワーク環境\n",
    "* [Azure Virtual Machine](https://azure.microsoft.com/ja-jp/services/virtual-machines/)\n",
    "  - Microsoft が提供している仮想コンピューティング環境\n",
    "* VC Controller\n",
    "  - VCPがユーザに対して提供しているサービス群\n",
    "* VC Controller Core\n",
    "  - ユーザからのAPI呼び出しを受けとりUnitGroupの作成、削除などを行う\n",
    "* Grafana\n",
    "  - 可視化ツール、ダッシュボードツール\n",
    "  - VCP では VCノード のモニタリング状況を表示するのに利用している\n",
    "* VCP SDK\n",
    "  - VCPの機能を呼び出して VM/BM の作成、削除などを行うPython3のライブラリ\n",
    "* VCノード\n",
    "  - Amazon EC2, Azure Virtual Machine などの計算資源を抽象化したVCPのノード\n",
    "* Unit\n",
    "  - 同質（同じ計算資源(cpu, memory, ...)、同じクラウド、同じ用途、...）であるVCノードをまとめて扱うためのもの\n",
    "* UnitGroup\n",
    "  - 複数のUnitをまとめて扱うためのものです"
   ]
  },
  {
   "cell_type": "markdown",
   "metadata": {
    "hidden": true,
    "lc_cell_meme": {
     "current": "b13a63a0-e54b-11ec-8d3a-02420a010016-3-ebcf-df65-796c",
     "next": "b13a6440-e54b-11ec-8d3a-02420a010016-3-c76d-931d-1515",
     "previous": "b13a62f6-e54b-11ec-8d3a-02420a010016-3-c409-69ea-7260"
    }
   },
   "source": [
    "## 手順"
   ]
  },
  {
   "cell_type": "markdown",
   "metadata": {
    "hidden": true,
    "lc_cell_meme": {
     "current": "b13a6440-e54b-11ec-8d3a-02420a010016-3-c76d-931d-1515",
     "next": "4fd7c2dc-61a7-11ed-9ad3-9ca3ba290491",
     "previous": "b13a63a0-e54b-11ec-8d3a-02420a010016-3-ebcf-df65-796c"
    }
   },
   "source": [
    "大まかな手順は以下のようになります。\n",
    "\n",
    "1. VCノードの起動\n",
    "1. VCノードに ssh でログインして操作する\n",
    "1. GrafanaでVCノードの利用状況を確認する\n",
    "1. VCノードのスケールアウト、スケールイン\n",
    "1. 別のクラウドでVCノードを起動する\n",
    "1. 全てのVCノードを削除する"
   ]
  },
  {
   "cell_type": "markdown",
   "metadata": {
    "hidden": true,
    "lc_cell_meme": {
     "current": "4fd7c2dc-61a7-11ed-9ad3-9ca3ba290491",
     "next": "4fd7c3ea-61a7-11ed-9ad3-9ca3ba290491",
     "previous": "b13a6440-e54b-11ec-8d3a-02420a010016-3-c76d-931d-1515"
    }
   },
   "source": [
    "## VCノードへの SSH ログイン用キーペア作成"
   ]
  },
  {
   "cell_type": "code",
   "execution_count": null,
   "metadata": {
    "hidden": true,
    "lc_cell_meme": {
     "current": "4fd7c3ea-61a7-11ed-9ad3-9ca3ba290491",
     "next": "b13a64e0-e54b-11ec-8d3a-02420a010016-3-ee7d-baba-ee10",
     "previous": "4fd7c2dc-61a7-11ed-9ad3-9ca3ba290491"
    }
   },
   "outputs": [],
   "source": [
    "!test -f ~/.ssh/id_rsa || ssh-keygen -t rsa -f ~/.ssh/id_rsa -N \"\"\n",
    "!ls -l ~/.ssh"
   ]
  },
  {
   "cell_type": "markdown",
   "metadata": {
    "hidden": true,
    "lc_cell_meme": {
     "current": "b13a64e0-e54b-11ec-8d3a-02420a010016-3-ee7d-baba-ee10",
     "next": "b13a6580-e54b-11ec-8d3a-02420a010016-3-80f3-ebfe-3f1d",
     "previous": "4fd7c3ea-61a7-11ed-9ad3-9ca3ba290491"
    }
   },
   "source": [
    "## アクセストークンの入力"
   ]
  },
  {
   "cell_type": "markdown",
   "metadata": {
    "hidden": true,
    "lc_cell_meme": {
     "current": "b13a6580-e54b-11ec-8d3a-02420a010016-3-80f3-ebfe-3f1d",
     "next": "b13a6616-e54b-11ec-8d3a-02420a010016-3-5966-33be-d07a",
     "previous": "b13a64e0-e54b-11ec-8d3a-02420a010016-3-ee7d-baba-ee10"
    }
   },
   "source": [
    "VCP SDKを利用するにはVC Controllerのアクセストークンが必要となります。次のセルを実行すると入力枠が表示されるのでアクセストークンの値を入力してください。\n",
    "\n",
    "> アクセストークン入力後に Enter キーを押すことで入力が完了します。\n",
    "\n",
    "OCSハンズオン用トークンはこちら→ [token.txt](/jupyter/files/token.txt)"
   ]
  },
  {
   "cell_type": "code",
   "execution_count": null,
   "metadata": {
    "hidden": true,
    "lc_cell_meme": {
     "current": "b13a6616-e54b-11ec-8d3a-02420a010016-3-5966-33be-d07a",
     "next": "b13a66c0-e54b-11ec-8d3a-02420a010016-3-4057-1c33-c35b",
     "previous": "b13a6580-e54b-11ec-8d3a-02420a010016-3-80f3-ebfe-3f1d"
    },
    "lc_wrapper": {}
   },
   "outputs": [],
   "source": [
    "from getpass import getpass\n",
    "vcc_access_token = getpass()"
   ]
  },
  {
   "cell_type": "markdown",
   "metadata": {
    "heading_collapsed": true,
    "lc_cell_meme": {
     "current": "b13a66c0-e54b-11ec-8d3a-02420a010016-3-4057-1c33-c35b",
     "next": "b13a6760-e54b-11ec-8d3a-02420a010016-3-d2be-4ec6-7a4f",
     "previous": "b13a6616-e54b-11ec-8d3a-02420a010016-3-5966-33be-d07a"
    }
   },
   "source": [
    "# VCノードの起動\n",
    "\n",
    "VCP SDKを用いてVCノード(Amazon EC2インスタンス)を起動します。また、起動したVCノードに対してsshでログインして操作を行います。\n",
    "![EC2の起動](images/101-003_sakura.png)"
   ]
  },
  {
   "cell_type": "markdown",
   "metadata": {
    "hidden": true,
    "lc_cell_meme": {
     "current": "b13a6760-e54b-11ec-8d3a-02420a010016-3-d2be-4ec6-7a4f",
     "next": "b13a6800-e54b-11ec-8d3a-02420a010016-3-bfed-2c97-4aa5",
     "previous": "b13a66c0-e54b-11ec-8d3a-02420a010016-3-4057-1c33-c35b"
    }
   },
   "source": [
    "## VCP SDKの初期化\n",
    "\n",
    "VCP SDKの初期化を行います。"
   ]
  },
  {
   "cell_type": "code",
   "execution_count": null,
   "metadata": {
    "hidden": true,
    "lc_cell_meme": {
     "current": "b13a6800-e54b-11ec-8d3a-02420a010016-3-bfed-2c97-4aa5",
     "next": "b13a68a0-e54b-11ec-8d3a-02420a010016-3-5a5f-49d7-d6ad",
     "previous": "b13a6760-e54b-11ec-8d3a-02420a010016-3-d2be-4ec6-7a4f"
    },
    "lc_wrapper": {},
    "scrolled": true
   },
   "outputs": [],
   "source": [
    "from common import logsetting\n",
    "from vcpsdk.vcpsdk import VcpSDK\n",
    "\n",
    "# VCP SDKの初期化\n",
    "vcp = VcpSDK(\n",
    "    vcc_access_token,  # VCCのアクセストークン\n",
    ")"
   ]
  },
  {
   "cell_type": "markdown",
   "metadata": {
    "hidden": true,
    "lc_cell_meme": {
     "current": "b13a68a0-e54b-11ec-8d3a-02420a010016-3-5a5f-49d7-d6ad",
     "next": "b13a6940-e54b-11ec-8d3a-02420a010016-3-9fb0-53a5-3816",
     "previous": "b13a6800-e54b-11ec-8d3a-02420a010016-3-bfed-2c97-4aa5"
    }
   },
   "source": [
    "上のセルの実行結果がエラーとなり以下のようなメッセージが表示されている場合は、入力されたアクセストークンに誤りがあります。\n",
    "\n",
    "```\n",
    "2019-XX-XX XX:XX:XX,XXX - ERROR - config vc failed: http_status(403)\n",
    "2019-XX-XX XX:XX:XX,XXX - ERROR - 2019/XX/XX XX:XX:XX UTC: VCPAuthException: xxxxxxx:token lookup is failed: permission denied\n",
    "```\n",
    "\n",
    "この場合はアクセストークンの入力からやり直してください。"
   ]
  },
  {
   "cell_type": "markdown",
   "metadata": {
    "hidden": true,
    "lc_cell_meme": {
     "current": "b13a6940-e54b-11ec-8d3a-02420a010016-3-9fb0-53a5-3816",
     "next": "b13a69e0-e54b-11ec-8d3a-02420a010016-3-5994-1655-25fe",
     "previous": "b13a68a0-e54b-11ec-8d3a-02420a010016-3-5a5f-49d7-d6ad"
    }
   },
   "source": [
    "`vcp`からは UnitGroup の管理（作成、情報取得）や VCP SDK自体に関する情報取得を行うことができます。例えば、次のセルを実行するとUnitGroupの一覧が表示されます。\n",
    "\n",
    "> まだUnitGroupを作成していないので、ヘッダー以外はなにも表示されないはずです。"
   ]
  },
  {
   "cell_type": "code",
   "execution_count": null,
   "metadata": {
    "hidden": true,
    "lc_cell_meme": {
     "current": "b13a69e0-e54b-11ec-8d3a-02420a010016-3-5994-1655-25fe",
     "next": "b13a6a76-e54b-11ec-8d3a-02420a010016-3-93f5-a017-21e7",
     "previous": "b13a6940-e54b-11ec-8d3a-02420a010016-3-9fb0-53a5-3816"
    },
    "lc_wrapper": {},
    "scrolled": true
   },
   "outputs": [],
   "source": [
    "# UnitGroupの一覧を DataFrame で表示する\n",
    "vcp.df_ugroups()"
   ]
  },
  {
   "cell_type": "markdown",
   "metadata": {
    "hidden": true,
    "lc_cell_meme": {
     "current": "b13a6a76-e54b-11ec-8d3a-02420a010016-3-93f5-a017-21e7",
     "next": "b13a6b16-e54b-11ec-8d3a-02420a010016-3-ecaf-294b-64bb",
     "previous": "b13a69e0-e54b-11ec-8d3a-02420a010016-3-5994-1655-25fe"
    }
   },
   "source": [
    "次のセルを実行すると VCP SDK と VC Controller のバージョンが表示されます。"
   ]
  },
  {
   "cell_type": "code",
   "execution_count": null,
   "metadata": {
    "hidden": true,
    "lc_cell_meme": {
     "current": "b13a6b16-e54b-11ec-8d3a-02420a010016-3-ecaf-294b-64bb",
     "next": "b13a6bac-e54b-11ec-8d3a-02420a010016-3-0512-75be-dfd8",
     "previous": "b13a6a76-e54b-11ec-8d3a-02420a010016-3-93f5-a017-21e7"
    },
    "lc_wrapper": {},
    "scrolled": true
   },
   "outputs": [],
   "source": [
    "vcp.version()"
   ]
  },
  {
   "cell_type": "markdown",
   "metadata": {
    "hidden": true,
    "lc_cell_meme": {
     "current": "b13a6bac-e54b-11ec-8d3a-02420a010016-3-0512-75be-dfd8",
     "next": "b13a6c4c-e54b-11ec-8d3a-02420a010016-3-55f5-4aaa-95b3",
     "previous": "b13a6b16-e54b-11ec-8d3a-02420a010016-3-ecaf-294b-64bb"
    }
   },
   "source": [
    "## UnitGroupの作成"
   ]
  },
  {
   "cell_type": "markdown",
   "metadata": {
    "hidden": true,
    "lc_cell_meme": {
     "current": "b13a6c4c-e54b-11ec-8d3a-02420a010016-3-55f5-4aaa-95b3",
     "next": "b13a6ce2-e54b-11ec-8d3a-02420a010016-3-5cfa-91bb-20d0",
     "previous": "b13a6bac-e54b-11ec-8d3a-02420a010016-3-0512-75be-dfd8"
    }
   },
   "source": [
    "`handson101`という名前の UnitGroup を作成します。"
   ]
  },
  {
   "cell_type": "code",
   "execution_count": null,
   "metadata": {
    "hidden": true,
    "lc_cell_meme": {
     "current": "b13a6ce2-e54b-11ec-8d3a-02420a010016-3-5cfa-91bb-20d0",
     "next": "b13a6d82-e54b-11ec-8d3a-02420a010016-3-3bb2-c7db-229f",
     "previous": "b13a6c4c-e54b-11ec-8d3a-02420a010016-3-55f5-4aaa-95b3"
    },
    "lc_wrapper": {}
   },
   "outputs": [],
   "source": [
    "# UnitGroupの作成\n",
    "unit_group = vcp.create_ugroup(\n",
    "    'handson101'                   # UnitGroupの名前\n",
    ")"
   ]
  },
  {
   "cell_type": "markdown",
   "metadata": {
    "hidden": true,
    "lc_cell_meme": {
     "current": "b13a6d82-e54b-11ec-8d3a-02420a010016-3-3bb2-c7db-229f",
     "next": "b13a6e22-e54b-11ec-8d3a-02420a010016-3-cac9-b387-84b9",
     "previous": "b13a6ce2-e54b-11ec-8d3a-02420a010016-3-5cfa-91bb-20d0"
    }
   },
   "source": [
    "作成したUnitGroupの状態を表示してみます。\n",
    "\n",
    "> UnitGroup の名前が `handson101` であることと、その状態が `RUNNING` であることなどが確認できるはずです。"
   ]
  },
  {
   "cell_type": "code",
   "execution_count": null,
   "metadata": {
    "hidden": true,
    "lc_cell_meme": {
     "current": "b13a6e22-e54b-11ec-8d3a-02420a010016-3-cac9-b387-84b9",
     "next": "b13a6eb8-e54b-11ec-8d3a-02420a010016-3-5e3f-a7b6-6bbd",
     "previous": "b13a6d82-e54b-11ec-8d3a-02420a010016-3-3bb2-c7db-229f"
    },
    "lc_wrapper": {},
    "scrolled": true
   },
   "outputs": [],
   "source": [
    "print(unit_group)"
   ]
  },
  {
   "cell_type": "markdown",
   "metadata": {
    "hidden": true,
    "lc_cell_meme": {
     "current": "b13a6eb8-e54b-11ec-8d3a-02420a010016-3-5e3f-a7b6-6bbd",
     "next": "b13a6f44-e54b-11ec-8d3a-02420a010016-3-d6f3-51f3-9b93",
     "previous": "b13a6e22-e54b-11ec-8d3a-02420a010016-3-cac9-b387-84b9"
    }
   },
   "source": [
    "UnitGroupの一覧を表示してみます。"
   ]
  },
  {
   "cell_type": "code",
   "execution_count": null,
   "metadata": {
    "hidden": true,
    "lc_cell_meme": {
     "current": "b13a6f44-e54b-11ec-8d3a-02420a010016-3-d6f3-51f3-9b93",
     "next": "b13a6fee-e54b-11ec-8d3a-02420a010016-3-c529-1f69-b88b",
     "previous": "b13a6eb8-e54b-11ec-8d3a-02420a010016-3-5e3f-a7b6-6bbd"
    },
    "lc_wrapper": {}
   },
   "outputs": [],
   "source": [
    "# UnitGroupの一覧を DataFrame で表示する\n",
    "vcp.df_ugroups()"
   ]
  },
  {
   "cell_type": "markdown",
   "metadata": {
    "hidden": true,
    "lc_cell_meme": {
     "current": "b13a6fee-e54b-11ec-8d3a-02420a010016-3-c529-1f69-b88b",
     "next": "b13a7084-e54b-11ec-8d3a-02420a010016-3-701a-1fcb-d63a",
     "previous": "b13a6f44-e54b-11ec-8d3a-02420a010016-3-d6f3-51f3-9b93"
    }
   },
   "source": [
    "## UnitGroupの状態を確認する"
   ]
  },
  {
   "cell_type": "markdown",
   "metadata": {
    "hidden": true,
    "lc_cell_meme": {
     "current": "b13a7084-e54b-11ec-8d3a-02420a010016-3-701a-1fcb-d63a",
     "next": "b13a711a-e54b-11ec-8d3a-02420a010016-3-71eb-c185-be9e",
     "previous": "b13a6fee-e54b-11ec-8d3a-02420a010016-3-c529-1f69-b88b"
    }
   },
   "source": [
    "UnitGroupに属している Unit の一覧を表示します。\n",
    "\n",
    "> まだ、このUnitGroupでは Unit を作成していないのでヘッダー以外は何も表示されません。"
   ]
  },
  {
   "cell_type": "code",
   "execution_count": null,
   "metadata": {
    "hidden": true,
    "lc_cell_meme": {
     "current": "b13a711a-e54b-11ec-8d3a-02420a010016-3-71eb-c185-be9e",
     "next": "b13a71ba-e54b-11ec-8d3a-02420a010016-3-9259-5f9f-0c2e",
     "previous": "b13a7084-e54b-11ec-8d3a-02420a010016-3-701a-1fcb-d63a"
    },
    "lc_wrapper": {}
   },
   "outputs": [],
   "source": [
    "# Unitの一覧を DataFrame で表示する\n",
    "unit_group.df_units()"
   ]
  },
  {
   "cell_type": "markdown",
   "metadata": {
    "hidden": true,
    "lc_cell_meme": {
     "current": "b13a71ba-e54b-11ec-8d3a-02420a010016-3-9259-5f9f-0c2e",
     "next": "b13a7250-e54b-11ec-8d3a-02420a010016-3-e72d-195f-77e7",
     "previous": "b13a711a-e54b-11ec-8d3a-02420a010016-3-71eb-c185-be9e"
    }
   },
   "source": [
    "UnitGroupに属しているVCノードの一覧を表示します。\n",
    "\n",
    "> まだVCノードが存在していないので何も表示されません。"
   ]
  },
  {
   "cell_type": "code",
   "execution_count": null,
   "metadata": {
    "hidden": true,
    "lc_cell_meme": {
     "current": "b13a7250-e54b-11ec-8d3a-02420a010016-3-e72d-195f-77e7",
     "next": "b13a72e6-e54b-11ec-8d3a-02420a010016-3-e2ee-8f9a-94c2",
     "previous": "b13a71ba-e54b-11ec-8d3a-02420a010016-3-9259-5f9f-0c2e"
    },
    "lc_wrapper": {}
   },
   "outputs": [],
   "source": [
    "unit_group.df_nodes()"
   ]
  },
  {
   "cell_type": "markdown",
   "metadata": {
    "hidden": true,
    "lc_cell_meme": {
     "current": "b13a72e6-e54b-11ec-8d3a-02420a010016-3-e2ee-8f9a-94c2",
     "next": "b13a737c-e54b-11ec-8d3a-02420a010016-3-fbe0-bf36-7fe9",
     "previous": "b13a7250-e54b-11ec-8d3a-02420a010016-3-e72d-195f-77e7"
    }
   },
   "source": [
    "## VCノードのspecを指定する"
   ]
  },
  {
   "cell_type": "markdown",
   "metadata": {
    "hidden": true,
    "lc_cell_meme": {
     "current": "b13a737c-e54b-11ec-8d3a-02420a010016-3-fbe0-bf36-7fe9",
     "next": "b13a7426-e54b-11ec-8d3a-02420a010016-3-fb7f-e770-184a",
     "previous": "b13a72e6-e54b-11ec-8d3a-02420a010016-3-e2ee-8f9a-94c2"
    }
   },
   "source": [
    "Unitを構成するVCノードがどのような設定であるかを指定するためのオブジェクトとしてVCP SDKでは`spec`オブジェクトを用意しています。VCP SDKの利用者は`spec`オブジェクトのプロパティを設定することで Unitに起動するVCノードの設定内容を定義することができます。\n",
    "\n",
    "`spec`オブジェクトの設定項目の例を以下に示します。\n",
    "\n",
    "* 仮想マシンのインスタンスタイプ\n",
    "  - m5.large, c5.large, ...\n",
    "* 仮想マシンのルートボリュームサイズ(GiB)\n",
    "* 仮想マシンに割り当てるプライベートIPアドレス\n",
    "* Unit内に作成するVCノードの数\n",
    "\n",
    "設定できる項目はクラウドプロバイダ(aws, azure, ...)毎に異なります。"
   ]
  },
  {
   "cell_type": "markdown",
   "metadata": {
    "hidden": true,
    "lc_cell_meme": {
     "current": "b13a7426-e54b-11ec-8d3a-02420a010016-3-fb7f-e770-184a",
     "next": "b13a74bc-e54b-11ec-8d3a-02420a010016-3-d001-f941-2c0c",
     "previous": "b13a737c-e54b-11ec-8d3a-02420a010016-3-fbe0-bf36-7fe9"
    }
   },
   "source": [
    "### flavor の内容を確認する"
   ]
  },
  {
   "cell_type": "markdown",
   "metadata": {
    "hidden": true,
    "lc_cell_meme": {
     "current": "b13a74bc-e54b-11ec-8d3a-02420a010016-3-d001-f941-2c0c",
     "next": "b13a755c-e54b-11ec-8d3a-02420a010016-3-ee6f-804e-b789",
     "previous": "b13a7426-e54b-11ec-8d3a-02420a010016-3-fb7f-e770-184a"
    }
   },
   "source": [
    "`spec`オブジェクトの全てのパラメータを毎回設定するのは煩雑になるので典型的な構成のパラメータセットを事前に定義しています。事前に定義した`spec`パラメータセットのことを VCP SDKでは `flavor`と呼んでいます。`spec`に設定できるパラメータはクラウドプロバイダ毎に異なるので `flavor`の定義もクラウドプロバイダ毎に行っています。\n",
    "\n",
    "次のセルを実行すると aws用に定義している `flavor` の一覧が表示されます。"
   ]
  },
  {
   "cell_type": "code",
   "execution_count": null,
   "metadata": {
    "hidden": true,
    "lc_cell_meme": {
     "current": "b13a755c-e54b-11ec-8d3a-02420a010016-3-ee6f-804e-b789",
     "next": "b13a75f2-e54b-11ec-8d3a-02420a010016-3-7b2f-845c-bc41",
     "previous": "b13a74bc-e54b-11ec-8d3a-02420a010016-3-d001-f941-2c0c"
    },
    "lc_wrapper": {}
   },
   "outputs": [],
   "source": [
    "vcp.df_flavors('sakura')"
   ]
  },
  {
   "cell_type": "markdown",
   "metadata": {
    "hidden": true,
    "lc_cell_meme": {
     "current": "b13a75f2-e54b-11ec-8d3a-02420a010016-3-7b2f-845c-bc41",
     "next": "b13a7688-e54b-11ec-8d3a-02420a010016-3-dc76-2771-7dd7",
     "previous": "b13a755c-e54b-11ec-8d3a-02420a010016-3-ee6f-804e-b789"
    }
   },
   "source": [
    "### spec オブジェクトを作成する"
   ]
  },
  {
   "cell_type": "markdown",
   "metadata": {
    "hidden": true,
    "lc_cell_meme": {
     "current": "b13a7688-e54b-11ec-8d3a-02420a010016-3-dc76-2771-7dd7",
     "next": "b13a7728-e54b-11ec-8d3a-02420a010016-3-64e9-7994-bef2",
     "previous": "b13a75f2-e54b-11ec-8d3a-02420a010016-3-7b2f-845c-bc41"
    }
   },
   "source": [
    "specオブジェクトを作成します。specオブジェクトを作成するにはプロバイダと`flavor`を指定します。ここでは以下の値を指定します。\n",
    "\n",
    "* プロバイダ: `sakura`\n",
    "* flavor: `small`"
   ]
  },
  {
   "cell_type": "code",
   "execution_count": null,
   "metadata": {
    "hidden": true,
    "lc_cell_meme": {
     "current": "b13a7728-e54b-11ec-8d3a-02420a010016-3-64e9-7994-bef2",
     "next": "b13a77d2-e54b-11ec-8d3a-02420a010016-3-b2af-42f7-2596",
     "previous": "b13a7688-e54b-11ec-8d3a-02420a010016-3-dc76-2771-7dd7"
    },
    "lc_wrapper": {}
   },
   "outputs": [],
   "source": [
    "spec = vcp.get_spec('sakura', 'small')"
   ]
  },
  {
   "cell_type": "markdown",
   "metadata": {
    "hidden": true,
    "lc_cell_meme": {
     "current": "b13a77d2-e54b-11ec-8d3a-02420a010016-3-b2af-42f7-2596",
     "next": "b13a7868-e54b-11ec-8d3a-02420a010016-3-fcde-e08d-a2d8",
     "previous": "b13a7728-e54b-11ec-8d3a-02420a010016-3-64e9-7994-bef2"
    }
   },
   "source": [
    "作成した`spec`の設定内容を確認してみます。\n",
    "\n",
    "> `instance_type`パラメータに `flavor` の指定と対応するEC2インスタンスタイプ`m4.large`が設定されていることが確認できるはずです。\n",
    "> `volume_size`, `volume_type`についてもそれぞれ`flavor`と対応する値が設定されます。"
   ]
  },
  {
   "cell_type": "code",
   "execution_count": null,
   "metadata": {
    "hidden": true,
    "lc_cell_meme": {
     "current": "b13a7868-e54b-11ec-8d3a-02420a010016-3-fcde-e08d-a2d8",
     "next": "b13a7926-e54b-11ec-8d3a-02420a010016-3-5716-8f8b-624f",
     "previous": "b13a77d2-e54b-11ec-8d3a-02420a010016-3-b2af-42f7-2596"
    },
    "lc_wrapper": {}
   },
   "outputs": [],
   "source": [
    "print(spec)"
   ]
  },
  {
   "cell_type": "markdown",
   "metadata": {
    "hidden": true,
    "lc_cell_meme": {
     "current": "b13a7926-e54b-11ec-8d3a-02420a010016-3-5716-8f8b-624f",
     "next": "b13a79c6-e54b-11ec-8d3a-02420a010016-3-35c3-7e8e-9a25",
     "previous": "b13a7868-e54b-11ec-8d3a-02420a010016-3-fcde-e08d-a2d8"
    }
   },
   "source": [
    "`spec`に対しては `flavor`で指定するだけではなく個々のパラメータを直接指定することもできます。例えば、以下のようなものが指定できます。\n",
    "\n",
    "* num_nodes\n",
    "  - Unit内に作成するVCノードの数: デフォルト=1\n",
    "* ip_addresses\n",
    "  - VCノードに割り当てるプライベートIPアドレスのリスト\n",
    "  - このパラメータを指定しない場合は利用可能なアドレスが自動的に割り当てられる\n",
    "* instance_type\n",
    "  - Amazon EC2のインスタンスタイプ\n",
    "  - flavorで設定されているもの以外を利用したい場合に指定する\n",
    "* volume_size\n",
    "  - Amazon EC2インスタンスのルートボリュームに割り当てるサイズ(GiB)\n",
    "  - flavorで設定されているもの以外を利用したい場合に指定する\n",
    "* volume_type\n",
    "  - Amazon EC2インスタンスのルートボリュームのEBSタイプ\n",
    "  - flavorで設定されているもの以外を利用したい場合に指定する"
   ]
  },
  {
   "cell_type": "markdown",
   "metadata": {
    "hidden": true,
    "lc_cell_meme": {
     "current": "b13a79c6-e54b-11ec-8d3a-02420a010016-3-35c3-7e8e-9a25",
     "next": "b13a7a66-e54b-11ec-8d3a-02420a010016-3-8f88-1888-31d3",
     "previous": "b13a7926-e54b-11ec-8d3a-02420a010016-3-5716-8f8b-624f"
    }
   },
   "source": [
    "試しに `ip_addresses`を指定してみます。"
   ]
  },
  {
   "cell_type": "code",
   "execution_count": null,
   "metadata": {
    "hidden": true,
    "lc_cell_meme": {
     "current": "b13a7a66-e54b-11ec-8d3a-02420a010016-3-8f88-1888-31d3",
     "next": "b13a7afc-e54b-11ec-8d3a-02420a010016-3-9b89-0b79-2bb3",
     "previous": "b13a79c6-e54b-11ec-8d3a-02420a010016-3-35c3-7e8e-9a25"
    },
    "lc_wrapper": {}
   },
   "outputs": [],
   "source": [
    "# spec.volume_size = 15\n",
    "spec.ip_addresses = ['192.168.1.12']"
   ]
  },
  {
   "cell_type": "markdown",
   "metadata": {
    "hidden": true,
    "lc_cell_meme": {
     "current": "b13a7afc-e54b-11ec-8d3a-02420a010016-3-9b89-0b79-2bb3",
     "next": "b13a7ba6-e54b-11ec-8d3a-02420a010016-3-6135-546b-f57a",
     "previous": "b13a7a66-e54b-11ec-8d3a-02420a010016-3-8f88-1888-31d3"
    }
   },
   "source": [
    "指定した値が`spec`の設定に反映されていることを確認してみます。"
   ]
  },
  {
   "cell_type": "code",
   "execution_count": null,
   "metadata": {
    "hidden": true,
    "lc_cell_meme": {
     "current": "b13a7ba6-e54b-11ec-8d3a-02420a010016-3-6135-546b-f57a",
     "next": "b13a7c32-e54b-11ec-8d3a-02420a010016-3-70f3-1380-52a4",
     "previous": "b13a7afc-e54b-11ec-8d3a-02420a010016-3-9b89-0b79-2bb3"
    },
    "lc_wrapper": {}
   },
   "outputs": [],
   "source": [
    "print(spec)"
   ]
  },
  {
   "cell_type": "markdown",
   "metadata": {
    "hidden": true,
    "lc_cell_meme": {
     "current": "b13a7c32-e54b-11ec-8d3a-02420a010016-3-70f3-1380-52a4",
     "next": "b13a7cc8-e54b-11ec-8d3a-02420a010016-3-33e2-a2c3-57f2",
     "previous": "b13a7ba6-e54b-11ec-8d3a-02420a010016-3-6135-546b-f57a"
    }
   },
   "source": [
    "`ip_address_list`の値が指定した値に変更されています。"
   ]
  },
  {
   "cell_type": "markdown",
   "metadata": {
    "hidden": true,
    "lc_cell_meme": {
     "current": "b13a7cc8-e54b-11ec-8d3a-02420a010016-3-33e2-a2c3-57f2",
     "next": "b13a7d68-e54b-11ec-8d3a-02420a010016-3-c04d-a000-d9e5",
     "previous": "b13a7c32-e54b-11ec-8d3a-02420a010016-3-70f3-1380-52a4"
    }
   },
   "source": [
    "### sshの鍵ファイルを設定する\n",
    "\n",
    "VCノードにsshでログインするためには事前に公開鍵認証の鍵を登録する必要があります。そのための設定をここで行います。"
   ]
  },
  {
   "cell_type": "markdown",
   "metadata": {
    "hidden": true,
    "lc_cell_meme": {
     "current": "b13a7d68-e54b-11ec-8d3a-02420a010016-3-c04d-a000-d9e5",
     "next": "b13a7e08-e54b-11ec-8d3a-02420a010016-3-a863-8555-0ab9",
     "previous": "b13a7cc8-e54b-11ec-8d3a-02420a010016-3-33e2-a2c3-57f2"
    }
   },
   "source": [
    "VCノードに登録する公開鍵認証の**公開鍵**のパスを次のセルで指定してください。"
   ]
  },
  {
   "cell_type": "code",
   "execution_count": null,
   "metadata": {
    "hidden": true,
    "lc_cell_meme": {
     "current": "b13a7e08-e54b-11ec-8d3a-02420a010016-3-a863-8555-0ab9",
     "next": "b13a7ea8-e54b-11ec-8d3a-02420a010016-3-038e-b317-0d67",
     "previous": "b13a7d68-e54b-11ec-8d3a-02420a010016-3-c04d-a000-d9e5"
    },
    "lc_wrapper": {}
   },
   "outputs": [],
   "source": [
    "import os\n",
    "ssh_public_key = os.path.expanduser('~/.ssh/id_rsa.pub')"
   ]
  },
  {
   "cell_type": "markdown",
   "metadata": {
    "hidden": true,
    "lc_cell_meme": {
     "current": "b13a7ea8-e54b-11ec-8d3a-02420a010016-3-038e-b317-0d67",
     "next": "b13a7f3e-e54b-11ec-8d3a-02420a010016-3-b17b-058a-21a3",
     "previous": "b13a7e08-e54b-11ec-8d3a-02420a010016-3-a863-8555-0ab9"
    }
   },
   "source": [
    "指定した公開鍵を `spec` に設定します。"
   ]
  },
  {
   "cell_type": "code",
   "execution_count": null,
   "metadata": {
    "hidden": true,
    "lc_cell_meme": {
     "current": "b13a7f3e-e54b-11ec-8d3a-02420a010016-3-b17b-058a-21a3",
     "next": "b13a7fd4-e54b-11ec-8d3a-02420a010016-3-6bcc-99d8-d0c7",
     "previous": "b13a7ea8-e54b-11ec-8d3a-02420a010016-3-038e-b317-0d67"
    },
    "lc_wrapper": {}
   },
   "outputs": [],
   "source": [
    "spec.set_ssh_pubkey(ssh_public_key)"
   ]
  },
  {
   "cell_type": "markdown",
   "metadata": {
    "hidden": true,
    "lc_cell_meme": {
     "current": "b13a7fd4-e54b-11ec-8d3a-02420a010016-3-6bcc-99d8-d0c7",
     "next": "b13a8074-e54b-11ec-8d3a-02420a010016-3-c3c5-84ce-974f",
     "previous": "b13a7f3e-e54b-11ec-8d3a-02420a010016-3-b17b-058a-21a3"
    }
   },
   "source": [
    "sshの公開鍵に関する設定が`spec`に反映されたことを確認してみます。次のセルを実行すると`params`の`e`の`AUTHORIZED_KEYS`に値が設定されていることが確認できます。"
   ]
  },
  {
   "cell_type": "code",
   "execution_count": null,
   "metadata": {
    "hidden": true,
    "lc_cell_meme": {
     "current": "b13a8074-e54b-11ec-8d3a-02420a010016-3-c3c5-84ce-974f",
     "next": "b13a810a-e54b-11ec-8d3a-02420a010016-3-d4b7-4e89-f916",
     "previous": "b13a7fd4-e54b-11ec-8d3a-02420a010016-3-6bcc-99d8-d0c7"
    },
    "lc_wrapper": {}
   },
   "outputs": [],
   "source": [
    "print(spec)"
   ]
  },
  {
   "cell_type": "markdown",
   "metadata": {
    "hidden": true,
    "lc_cell_meme": {
     "current": "b13a810a-e54b-11ec-8d3a-02420a010016-3-d4b7-4e89-f916",
     "next": "b13a81a0-e54b-11ec-8d3a-02420a010016-3-b9f5-ef75-5e4b",
     "previous": "b13a8074-e54b-11ec-8d3a-02420a010016-3-c3c5-84ce-974f"
    }
   },
   "source": [
    "後でVCノードにログインする際にsshの秘密鍵も必要になるので、ここで設定しておきます。次のセルで**秘密鍵**のパスを指定してください。"
   ]
  },
  {
   "cell_type": "code",
   "execution_count": null,
   "metadata": {
    "hidden": true,
    "lc_cell_meme": {
     "current": "b13a81a0-e54b-11ec-8d3a-02420a010016-3-b9f5-ef75-5e4b",
     "next": "b13a8240-e54b-11ec-8d3a-02420a010016-3-d7c9-a7fd-acbf",
     "previous": "b13a810a-e54b-11ec-8d3a-02420a010016-3-d4b7-4e89-f916"
    },
    "lc_wrapper": {}
   },
   "outputs": [],
   "source": [
    "ssh_private_key = os.path.expanduser('~/.ssh/id_rsa')"
   ]
  },
  {
   "cell_type": "markdown",
   "metadata": {
    "hidden": true,
    "lc_cell_meme": {
     "current": "b13a8240-e54b-11ec-8d3a-02420a010016-3-d7c9-a7fd-acbf",
     "next": "b13a82ea-e54b-11ec-8d3a-02420a010016-3-9b9f-ca5a-4db4",
     "previous": "b13a81a0-e54b-11ec-8d3a-02420a010016-3-b9f5-ef75-5e4b"
    }
   },
   "source": [
    "公開鍵と秘密鍵が正しいペアであることをチェックします。次のセルを実行してエラーにならないことを確認してください。"
   ]
  },
  {
   "cell_type": "code",
   "execution_count": null,
   "metadata": {
    "hidden": true,
    "lc_cell_meme": {
     "current": "b13a82ea-e54b-11ec-8d3a-02420a010016-3-9b9f-ca5a-4db4",
     "next": "b13a8376-e54b-11ec-8d3a-02420a010016-3-4178-2a1f-f519",
     "previous": "b13a8240-e54b-11ec-8d3a-02420a010016-3-d7c9-a7fd-acbf"
    },
    "lc_wrapper": {}
   },
   "outputs": [],
   "source": [
    "!grep -q \"$(ssh-keygen -y -f {ssh_private_key})\" {ssh_public_key}"
   ]
  },
  {
   "cell_type": "markdown",
   "metadata": {
    "hidden": true,
    "lc_cell_meme": {
     "current": "b13a8376-e54b-11ec-8d3a-02420a010016-3-4178-2a1f-f519",
     "next": "b13a840c-e54b-11ec-8d3a-02420a010016-3-0afb-db11-1441",
     "previous": "b13a82ea-e54b-11ec-8d3a-02420a010016-3-9b9f-ca5a-4db4"
    },
    "vcp_tutorial": {
     "url": "files/DOC/index.html#module-vcpsdk.plugins.spec"
    }
   },
   "source": [
    "<!---\n",
    "他にどのようなパラメータが設定できるのかについては\n",
    "「[VCPSDK APIドキュメント](/handson/files/DOC/index.html#module-vcpsdk.plugins.spec)」を参照してください。\n",
    "--->"
   ]
  },
  {
   "cell_type": "markdown",
   "metadata": {
    "hidden": true,
    "lc_cell_meme": {
     "current": "b13a840c-e54b-11ec-8d3a-02420a010016-3-0afb-db11-1441",
     "next": "b13a84b6-e54b-11ec-8d3a-02420a010016-3-aed5-8018-fd8c",
     "previous": "b13a8376-e54b-11ec-8d3a-02420a010016-3-4178-2a1f-f519"
    }
   },
   "source": [
    "## Unitの作成とVCノードの起動"
   ]
  },
  {
   "cell_type": "markdown",
   "metadata": {
    "hidden": true,
    "lc_cell_meme": {
     "current": "b13a84b6-e54b-11ec-8d3a-02420a010016-3-aed5-8018-fd8c",
     "next": "b13a854c-e54b-11ec-8d3a-02420a010016-3-d0bb-cd6c-e66a",
     "previous": "b13a840c-e54b-11ec-8d3a-02420a010016-3-0afb-db11-1441"
    }
   },
   "source": [
    "Unitを作成します。Unitを作成すると同時に VCノード（ここではクラウドのサーバ上のBaseコンテナ）が起動します。\n",
    "\n",
    "> 処理が完了するまで1分半～2分程度かかります。"
   ]
  },
  {
   "cell_type": "code",
   "execution_count": null,
   "metadata": {
    "hidden": true,
    "lc_cell_meme": {
     "current": "b13a854c-e54b-11ec-8d3a-02420a010016-3-d0bb-cd6c-e66a",
     "next": "b13a85d8-e54b-11ec-8d3a-02420a010016-3-b462-429e-640a",
     "previous": "b13a84b6-e54b-11ec-8d3a-02420a010016-3-aed5-8018-fd8c"
    },
    "lc_wrapper": {},
    "scrolled": true
   },
   "outputs": [],
   "source": [
    "# Unitの作成（同時に VCノードが作成される）\n",
    "unit = unit_group.create_unit(\n",
    "    'sakura-server',               # Unit名の指定\n",
    "    spec\n",
    ")"
   ]
  },
  {
   "cell_type": "markdown",
   "metadata": {
    "hidden": true,
    "lc_cell_meme": {
     "current": "b13a85d8-e54b-11ec-8d3a-02420a010016-3-b462-429e-640a",
     "next": "b13a8678-e54b-11ec-8d3a-02420a010016-3-6295-fcc1-1d61",
     "previous": "b13a854c-e54b-11ec-8d3a-02420a010016-3-d0bb-cd6c-e66a"
    }
   },
   "source": [
    "UnitGroupに属しているUnitの一覧表示を行い、Unitが作成されていることを確認します。"
   ]
  },
  {
   "cell_type": "code",
   "execution_count": null,
   "metadata": {
    "hidden": true,
    "lc_cell_meme": {
     "current": "b13a8678-e54b-11ec-8d3a-02420a010016-3-6295-fcc1-1d61",
     "next": "b13a8718-e54b-11ec-8d3a-02420a010016-3-d396-4e8c-74db",
     "previous": "b13a85d8-e54b-11ec-8d3a-02420a010016-3-b462-429e-640a"
    },
    "lc_wrapper": {}
   },
   "outputs": [],
   "source": [
    "# Unitの一覧を DataFrame で表示する\n",
    "unit_group.df_units()"
   ]
  },
  {
   "cell_type": "markdown",
   "metadata": {
    "hidden": true,
    "lc_cell_meme": {
     "current": "b13a8718-e54b-11ec-8d3a-02420a010016-3-d396-4e8c-74db",
     "next": "b13a87a4-e54b-11ec-8d3a-02420a010016-3-9033-5619-8e7e",
     "previous": "b13a8678-e54b-11ec-8d3a-02420a010016-3-6295-fcc1-1d61"
    }
   },
   "source": [
    "UnitGroupに属しているVCノードの一覧表示を行い、VCノードが起動していることを確認します。VCノードが正常に起動していることは `node_state` の表示が `RUNNING`になっていることで確認できます。"
   ]
  },
  {
   "cell_type": "code",
   "execution_count": null,
   "metadata": {
    "hidden": true,
    "lc_cell_meme": {
     "current": "b13a87a4-e54b-11ec-8d3a-02420a010016-3-9033-5619-8e7e",
     "next": "b13a8844-e54b-11ec-8d3a-02420a010016-3-6f97-160c-ca3f",
     "previous": "b13a8718-e54b-11ec-8d3a-02420a010016-3-d396-4e8c-74db"
    },
    "lc_wrapper": {},
    "scrolled": true
   },
   "outputs": [],
   "source": [
    "# VCノードの一覧を DataFrame で表示する\n",
    "unit_group.df_nodes()"
   ]
  },
  {
   "cell_type": "markdown",
   "metadata": {
    "hidden": true,
    "lc_cell_meme": {
     "current": "b13a8844-e54b-11ec-8d3a-02420a010016-3-6f97-160c-ca3f",
     "next": "b13a88e4-e54b-11ec-8d3a-02420a010016-3-567c-7ce8-5926",
     "previous": "b13a87a4-e54b-11ec-8d3a-02420a010016-3-9033-5619-8e7e"
    }
   },
   "source": [
    "ここでは VCノードの起動が完了するまで待ち合わせるモードでUnitの作成を行いましたが、非同期処理でUnit, VCノードの作成を行うこともできます。`create_unit()`の`wait_for`パラメータに`False`を指定すると非同期モードでのUnit, VCノードの作成が行えます。\n",
    "\n",
    "```\n",
    "unit = unit_group.create_unit('sakura-server', spec, wait_for=False)\n",
    "```\n",
    "\n",
    "非同期モードでUnitを作成した場合にUnitやVCノードが起動したことを確認するには、以下に示す方法で状態取得を行ってください。\n",
    "\n",
    "1. `unit_group.df_units()`\n",
    "  * Unitの一覧表示の`unit_state`の項目で Unitの状態を確認できます\n",
    "  * 起動中は `BOOTING`、起動が完了して実行中になると `RUNNING` と表示されます\n",
    " \n",
    "1. `unit.df_nodes()`, `unit_group.df_nodes()`\n",
    "  * VCノードの一覧表示の`node_state`の項目で VCノードの状態を確認できます\n",
    "  * 起動中は `BOOTING`、起動が完了して実行中になると `RUNNING` と表示されます\n",
    "\n",
    "非同期モードでUnit作成を行った場合でも、以下のメソッドを利用することで後からVCノード起動の待ち合わせを行うことができます。\n",
    "* `unit_group.wait_unit_applied(unit_name)`\n",
    "  - unit_nameで指定されたUnitの状態が `RUNNING` または `ERROR`になるのを待ちます"
   ]
  },
  {
   "cell_type": "markdown",
   "metadata": {
    "hidden": true,
    "lc_cell_meme": {
     "current": "b13a88e4-e54b-11ec-8d3a-02420a010016-3-567c-7ce8-5926",
     "next": "b13a8984-e54b-11ec-8d3a-02420a010016-3-b5c3-dbb9-b24c",
     "previous": "b13a8844-e54b-11ec-8d3a-02420a010016-3-6f97-160c-ca3f"
    }
   },
   "source": [
    "## 疎通確認\n",
    "\n",
    "起動した VCノードに対して`ping`を行ってみます。"
   ]
  },
  {
   "cell_type": "markdown",
   "metadata": {
    "hidden": true,
    "lc_cell_meme": {
     "current": "b13a8984-e54b-11ec-8d3a-02420a010016-3-b5c3-dbb9-b24c",
     "next": "b13a8a1a-e54b-11ec-8d3a-02420a010016-3-6eb7-e109-b612",
     "previous": "b13a88e4-e54b-11ec-8d3a-02420a010016-3-567c-7ce8-5926"
    }
   },
   "source": [
    "まずUnitGroup内で起動しているVCノードに割り当てられているプライベートIPアドレスの値を取得して変数 `ip_address`に格納します。"
   ]
  },
  {
   "cell_type": "code",
   "execution_count": null,
   "metadata": {
    "hidden": true,
    "lc_cell_meme": {
     "current": "b13a8a1a-e54b-11ec-8d3a-02420a010016-3-6eb7-e109-b612",
     "next": "b13a8ab0-e54b-11ec-8d3a-02420a010016-3-c001-237b-da69",
     "previous": "b13a8984-e54b-11ec-8d3a-02420a010016-3-b5c3-dbb9-b24c"
    },
    "lc_wrapper": {}
   },
   "outputs": [],
   "source": [
    "# unit_group.find_ip_addresses() は UnitGroup内の全VCノードのIPアドレスのリストを返します\n",
    "ip_address = unit_group.find_ip_addresses(node_state='RUNNING')[0] # 今は１つのVCノードのみ起動しているので [0] で最初の要素を取り出す\n",
    "\n",
    "print(ip_address)"
   ]
  },
  {
   "cell_type": "markdown",
   "metadata": {
    "hidden": true,
    "lc_cell_meme": {
     "current": "b13a8ab0-e54b-11ec-8d3a-02420a010016-3-c001-237b-da69",
     "next": "b13a8b46-e54b-11ec-8d3a-02420a010016-3-726d-d8f5-4d0d",
     "previous": "b13a8a1a-e54b-11ec-8d3a-02420a010016-3-6eb7-e109-b612"
    }
   },
   "source": [
    "実際に `ping` を行ってみます。\n",
    "\n",
    "> Codeセルで先頭に `!` をつけるとシェルコマンドが実行できます。また `{}`で囲むことで Python の変数参照やコードの実行に置き換えることができます。詳しくは「[IPython Documentation](https://ipython.readthedocs.io/en/stable/interactive/tutorial.html#system-shell-commands)」などを参照してください。"
   ]
  },
  {
   "cell_type": "code",
   "execution_count": null,
   "metadata": {
    "hidden": true,
    "lc_cell_meme": {
     "current": "b13a8b46-e54b-11ec-8d3a-02420a010016-3-726d-d8f5-4d0d",
     "next": "b13a8be6-e54b-11ec-8d3a-02420a010016-3-e747-ff09-808f",
     "previous": "b13a8ab0-e54b-11ec-8d3a-02420a010016-3-c001-237b-da69"
    },
    "lc_wrapper": {}
   },
   "outputs": [],
   "source": [
    "!ping -c 5 {ip_address}"
   ]
  },
  {
   "cell_type": "markdown",
   "metadata": {
    "heading_collapsed": true,
    "lc_cell_meme": {
     "current": "b13a8be6-e54b-11ec-8d3a-02420a010016-3-e747-ff09-808f",
     "next": "b13a8c86-e54b-11ec-8d3a-02420a010016-3-d554-b00c-a07d",
     "previous": "b13a8b46-e54b-11ec-8d3a-02420a010016-3-726d-d8f5-4d0d"
    }
   },
   "source": [
    "# VCノードに ssh でログインして操作する\n",
    "\n",
    "起動したVCノードに ssh でログインして操作を行います。\n",
    "\n",
    "![](./images/101-006_sakura.png)"
   ]
  },
  {
   "cell_type": "markdown",
   "metadata": {
    "hidden": true,
    "lc_cell_meme": {
     "current": "b13a8c86-e54b-11ec-8d3a-02420a010016-3-d554-b00c-a07d",
     "next": "b13a8d12-e54b-11ec-8d3a-02420a010016-3-4714-ad95-a96a",
     "previous": "b13a8be6-e54b-11ec-8d3a-02420a010016-3-e747-ff09-808f"
    }
   },
   "source": [
    "まず、ログインする前に ~/.ssh/known_hosts のホストキーを更新します。"
   ]
  },
  {
   "cell_type": "code",
   "execution_count": null,
   "metadata": {
    "hidden": true,
    "lc_cell_meme": {
     "current": "b13a8d12-e54b-11ec-8d3a-02420a010016-3-4714-ad95-a96a",
     "next": "b13a8db2-e54b-11ec-8d3a-02420a010016-3-71c9-8b6f-1376",
     "previous": "b13a8c86-e54b-11ec-8d3a-02420a010016-3-d554-b00c-a07d"
    },
    "lc_wrapper": {}
   },
   "outputs": [],
   "source": [
    "!touch ~/.ssh/known_hosts\n",
    "# ~/.ssh/known_hosts から古いホストキーを削除する\n",
    "!ssh-keygen -R {ip_address}\n",
    "\n",
    "# ホストキーの登録\n",
    "!ssh-keyscan -H {ip_address} >> ~/.ssh/known_hosts"
   ]
  },
  {
   "cell_type": "markdown",
   "metadata": {
    "hidden": true,
    "lc_cell_meme": {
     "current": "b13a8db2-e54b-11ec-8d3a-02420a010016-3-71c9-8b6f-1376",
     "next": "b13a8e52-e54b-11ec-8d3a-02420a010016-3-5fdc-011d-c2a7",
     "previous": "b13a8d12-e54b-11ec-8d3a-02420a010016-3-4714-ad95-a96a"
    }
   },
   "source": [
    "`ls -la` を実行してみます。"
   ]
  },
  {
   "cell_type": "code",
   "execution_count": null,
   "metadata": {
    "hidden": true,
    "lc_cell_meme": {
     "current": "b13a8e52-e54b-11ec-8d3a-02420a010016-3-5fdc-011d-c2a7",
     "next": "b13a8ee8-e54b-11ec-8d3a-02420a010016-3-7350-aefd-d461",
     "previous": "b13a8db2-e54b-11ec-8d3a-02420a010016-3-71c9-8b6f-1376"
    },
    "lc_wrapper": {},
    "scrolled": true
   },
   "outputs": [],
   "source": [
    "!ssh -i {ssh_private_key} -l root {ip_address} /bin/ls -la"
   ]
  },
  {
   "cell_type": "markdown",
   "metadata": {
    "hidden": true,
    "lc_cell_meme": {
     "current": "b13a8ee8-e54b-11ec-8d3a-02420a010016-3-7350-aefd-d461",
     "next": "b13a8fc4-e54b-11ec-8d3a-02420a010016-3-1e1e-d0e0-7968",
     "previous": "b13a8e52-e54b-11ec-8d3a-02420a010016-3-5fdc-011d-c2a7"
    }
   },
   "source": [
    "VCノードにsshでログインするにはsshの引数に以下の指定が必要となります。\n",
    "\n",
    "* sshの identity ファイル(-i)\n",
    "  - `spec`オブジェクトに設定した公開鍵に対応する秘密鍵\n",
    "* ユーザ名(-l)\n",
    "  - `root`\n",
    "* ログイン先のIPアドレス"
   ]
  },
  {
   "cell_type": "markdown",
   "metadata": {
    "hidden": true,
    "lc_cell_meme": {
     "current": "b13a8fc4-e54b-11ec-8d3a-02420a010016-3-1e1e-d0e0-7968",
     "next": "b13a906e-e54b-11ec-8d3a-02420a010016-3-882a-a46d-304a",
     "previous": "b13a8ee8-e54b-11ec-8d3a-02420a010016-3-7350-aefd-d461"
    }
   },
   "source": [
    "sshのオプションを毎回指定するのも煩雑なので変数に設定しておきます。"
   ]
  },
  {
   "cell_type": "code",
   "execution_count": null,
   "metadata": {
    "hidden": true,
    "lc_cell_meme": {
     "current": "b13a906e-e54b-11ec-8d3a-02420a010016-3-882a-a46d-304a",
     "next": "b13a9104-e54b-11ec-8d3a-02420a010016-3-750d-5489-73a1",
     "previous": "b13a8fc4-e54b-11ec-8d3a-02420a010016-3-1e1e-d0e0-7968"
    },
    "lc_wrapper": {}
   },
   "outputs": [],
   "source": [
    "ssh_opts = f\"-i {ssh_private_key} -l root\""
   ]
  },
  {
   "cell_type": "markdown",
   "metadata": {
    "hidden": true,
    "lc_cell_meme": {
     "current": "b13a9104-e54b-11ec-8d3a-02420a010016-3-750d-5489-73a1",
     "next": "b13a9190-e54b-11ec-8d3a-02420a010016-3-c7c5-a19c-69dc",
     "previous": "b13a906e-e54b-11ec-8d3a-02420a010016-3-882a-a46d-304a"
    }
   },
   "source": [
    "VCノードに対して`uname -a`, `df -h` などを実行してみます。"
   ]
  },
  {
   "cell_type": "code",
   "execution_count": null,
   "metadata": {
    "hidden": true,
    "lc_cell_meme": {
     "current": "b13a9190-e54b-11ec-8d3a-02420a010016-3-c7c5-a19c-69dc",
     "next": "b13a9244-e54b-11ec-8d3a-02420a010016-3-8bba-8bf0-143d",
     "previous": "b13a9104-e54b-11ec-8d3a-02420a010016-3-750d-5489-73a1"
    },
    "lc_wrapper": {}
   },
   "outputs": [],
   "source": [
    "!ssh {ssh_opts} {ip_address} uname -a"
   ]
  },
  {
   "cell_type": "code",
   "execution_count": null,
   "metadata": {
    "hidden": true,
    "lc_cell_meme": {
     "current": "b13a9244-e54b-11ec-8d3a-02420a010016-3-8bba-8bf0-143d",
     "next": "b13a9398-e54b-11ec-8d3a-02420a010016-3-0e3c-01cf-3d9c",
     "previous": "b13a9190-e54b-11ec-8d3a-02420a010016-3-c7c5-a19c-69dc"
    },
    "lc_wrapper": {}
   },
   "outputs": [],
   "source": [
    "!ssh {ssh_opts} {ip_address} df -h"
   ]
  },
  {
   "cell_type": "markdown",
   "metadata": {
    "heading_collapsed": true,
    "lc_cell_meme": {
     "current": "b13a9398-e54b-11ec-8d3a-02420a010016-3-0e3c-01cf-3d9c",
     "next": "b13a946a-e54b-11ec-8d3a-02420a010016-3-8fb5-b03d-8737",
     "previous": "b13a9244-e54b-11ec-8d3a-02420a010016-3-8bba-8bf0-143d"
    }
   },
   "source": [
    "# GrafanaでVCノードの利用状況を確認する"
   ]
  },
  {
   "cell_type": "markdown",
   "metadata": {
    "hidden": true,
    "lc_cell_meme": {
     "current": "b13a946a-e54b-11ec-8d3a-02420a010016-3-8fb5-b03d-8737",
     "next": "b13a950a-e54b-11ec-8d3a-02420a010016-3-b174-6f31-05c1",
     "previous": "b13a9398-e54b-11ec-8d3a-02420a010016-3-0e3c-01cf-3d9c"
    }
   },
   "source": [
    "VCPではVCノードの利用状況(CPU負荷、メモリ使用量、ネットワーク）を確認するためGrafanaのダッシュボードを提供しています。"
   ]
  },
  {
   "cell_type": "markdown",
   "metadata": {
    "hidden": true,
    "lc_cell_meme": {
     "current": "b13a950a-e54b-11ec-8d3a-02420a010016-3-b174-6f31-05c1",
     "next": "b13a95a0-e54b-11ec-8d3a-02420a010016-3-f40c-f467-9904",
     "previous": "b13a946a-e54b-11ec-8d3a-02420a010016-3-8fb5-b03d-8737"
    }
   },
   "source": [
    "## Grafanaへのログイン"
   ]
  },
  {
   "cell_type": "markdown",
   "metadata": {
    "hidden": true,
    "lc_cell_meme": {
     "current": "b13a95a0-e54b-11ec-8d3a-02420a010016-3-f40c-f467-9904",
     "next": "b13a9640-e54b-11ec-8d3a-02420a010016-3-8206-1bf0-0e69",
     "previous": "b13a950a-e54b-11ec-8d3a-02420a010016-3-b174-6f31-05c1"
    }
   },
   "source": [
    "以下のセルを実行して Grafana ダッシュボードを開いてください。\n",
    "\n",
    "最初にログイン画面が表示されるので ユーザ名、パスワードにそれぞれ `admin`, `admin`を入力してください。 "
   ]
  },
  {
   "cell_type": "code",
   "execution_count": null,
   "metadata": {
    "hidden": true,
    "lc_cell_meme": {
     "current": "b13a9640-e54b-11ec-8d3a-02420a010016-3-8206-1bf0-0e69",
     "next": "b13a96e0-e54b-11ec-8d3a-02420a010016-3-b945-c0f0-6796",
     "previous": "b13a95a0-e54b-11ec-8d3a-02420a010016-3-f40c-f467-9904"
    },
    "lc_wrapper": {}
   },
   "outputs": [],
   "source": [
    "#vcc_ctr = vcp.vcc_info()['host']\n",
    "#http_host = vcc_ctr.split(':')[0]\n",
    "#grafana_url = \"https://{}/grafana/d/vcp/vcp-metrics?refresh=5s\".format(http_host)\n",
    "\n",
    "# VCPポータブル版ではVCコントローラ(+Grafana) と同一ホストでJupyterNotebookが稼働している。\n",
    "# そのホストのグローバルIPアドレスをこの方法で取得する。\n",
    "myip = !curl -s -4 ifconfig.me\n",
    "grafana_url = \"http://{}/grafana/d/vcp/vcp-metrics?refresh=5s\".format(myip[0])\n",
    "print(grafana_url)"
   ]
  },
  {
   "cell_type": "markdown",
   "metadata": {
    "hidden": true,
    "lc_cell_meme": {
     "current": "b13a96e0-e54b-11ec-8d3a-02420a010016-3-b945-c0f0-6796",
     "next": "b13a9780-e54b-11ec-8d3a-02420a010016-3-3529-dd50-8b40",
     "previous": "b13a9640-e54b-11ec-8d3a-02420a010016-3-8206-1bf0-0e69"
    }
   },
   "source": [
    "![Grafanaのログイン画面](./images/grafana-login.png)"
   ]
  },
  {
   "cell_type": "markdown",
   "metadata": {
    "hidden": true,
    "lc_cell_meme": {
     "current": "b13a9780-e54b-11ec-8d3a-02420a010016-3-3529-dd50-8b40",
     "next": "b13a9816-e54b-11ec-8d3a-02420a010016-3-fad1-419d-278a",
     "previous": "b13a96e0-e54b-11ec-8d3a-02420a010016-3-b945-c0f0-6796"
    }
   },
   "source": [
    "## 負荷状況のグラフ表示\n",
    "\n",
    "以下のように表示されます。左半分のグラフがBaseコンテナの負荷状況で、右半分がアプリケーションコンテナの負荷状況のグラフです。\n",
    "\n",
    "![負荷状況](./images/grafana-metrics.png)"
   ]
  },
  {
   "cell_type": "markdown",
   "metadata": {
    "hidden": true,
    "lc_cell_meme": {
     "current": "b13a9816-e54b-11ec-8d3a-02420a010016-3-fad1-419d-278a",
     "next": "b13a98b6-e54b-11ec-8d3a-02420a010016-3-bee1-e8ae-bb1a",
     "previous": "b13a9780-e54b-11ec-8d3a-02420a010016-3-3529-dd50-8b40"
    }
   },
   "source": [
    "VCノードに負荷をかけるために、アプリケーションコンテナで stress コマンドを実行します。"
   ]
  },
  {
   "cell_type": "code",
   "execution_count": null,
   "metadata": {
    "hidden": true,
    "lc_cell_meme": {
     "current": "b13a98b6-e54b-11ec-8d3a-02420a010016-3-bee1-e8ae-bb1a",
     "next": "b13a994c-e54b-11ec-8d3a-02420a010016-3-a0bd-cdcf-9b75",
     "previous": "b13a9816-e54b-11ec-8d3a-02420a010016-3-fad1-419d-278a"
    },
    "lc_wrapper": {},
    "scrolled": true
   },
   "outputs": [],
   "source": [
    "# 60秒間だけ CPU x 2 とメモリ 128 MB を消費する\n",
    "!ssh {ssh_opts} {ip_address} \\\n",
    "    /usr/local/bin/docker run -td --rm --name stress-0 polinux/stress \\\n",
    "    stress --cpu 2 --io 1 --vm 2 --vm-bytes 128M --timeout 60s --verbose"
   ]
  },
  {
   "cell_type": "code",
   "execution_count": null,
   "metadata": {
    "hidden": true,
    "lc_cell_meme": {
     "current": "b13a994c-e54b-11ec-8d3a-02420a010016-3-a0bd-cdcf-9b75",
     "next": "b13a99ec-e54b-11ec-8d3a-02420a010016-3-5488-1d60-5152",
     "previous": "b13a98b6-e54b-11ec-8d3a-02420a010016-3-bee1-e8ae-bb1a"
    },
    "lc_wrapper": {}
   },
   "outputs": [],
   "source": [
    "# 60秒間だけ CPU x 2 とメモリ 128 MB を消費する (2回目)\n",
    "!ssh {ssh_opts} {ip_address} \\\n",
    "    /usr/local/bin/docker run -td --rm --name stress-1 polinux/stress \\\n",
    "    stress --cpu 2 --io 1 --vm 2 --vm-bytes 128M --timeout 60s --verbose"
   ]
  },
  {
   "cell_type": "markdown",
   "metadata": {
    "heading_collapsed": true,
    "lc_cell_meme": {
     "current": "b13a99ec-e54b-11ec-8d3a-02420a010016-3-5488-1d60-5152",
     "next": "b13a9af0-e54b-11ec-8d3a-02420a010016-3-b68f-d455-2679",
     "previous": "b13a994c-e54b-11ec-8d3a-02420a010016-3-a0bd-cdcf-9b75"
    }
   },
   "source": [
    "# VCノードのスケールアウト、スケールイン\n",
    "\n",
    "![スケールアウト、スケールイン](images/101-004_sakura.png)"
   ]
  },
  {
   "cell_type": "markdown",
   "metadata": {
    "hidden": true,
    "lc_cell_meme": {
     "current": "b13a9af0-e54b-11ec-8d3a-02420a010016-3-b68f-d455-2679",
     "next": "b13a9b7c-e54b-11ec-8d3a-02420a010016-3-63ab-51e7-8b62",
     "previous": "b13a99ec-e54b-11ec-8d3a-02420a010016-3-5488-1d60-5152"
    }
   },
   "source": [
    "## VCノードのスケールアウト"
   ]
  },
  {
   "cell_type": "markdown",
   "metadata": {
    "hidden": true,
    "lc_cell_meme": {
     "current": "b13a9b7c-e54b-11ec-8d3a-02420a010016-3-63ab-51e7-8b62",
     "next": "b13a9c1c-e54b-11ec-8d3a-02420a010016-3-7647-df26-9ca1",
     "previous": "b13a9af0-e54b-11ec-8d3a-02420a010016-3-b68f-d455-2679"
    }
   },
   "source": [
    "Unitには `spec`オブジェクトに指定されている設定と同一の VCノードを作成する機能があります。その機能を利用して Unit にVCノードを追加してみます。"
   ]
  },
  {
   "cell_type": "markdown",
   "metadata": {
    "hidden": true,
    "lc_cell_meme": {
     "current": "b13a9c1c-e54b-11ec-8d3a-02420a010016-3-7647-df26-9ca1",
     "next": "b13a9cbc-e54b-11ec-8d3a-02420a010016-3-9a7c-bc40-a422",
     "previous": "b13a9b7c-e54b-11ec-8d3a-02420a010016-3-63ab-51e7-8b62"
    }
   },
   "source": [
    "まず、現在のVCノードの状況を確認しておきます。"
   ]
  },
  {
   "cell_type": "code",
   "execution_count": null,
   "metadata": {
    "hidden": true,
    "lc_cell_meme": {
     "current": "b13a9cbc-e54b-11ec-8d3a-02420a010016-3-9a7c-bc40-a422",
     "next": "b13a9d48-e54b-11ec-8d3a-02420a010016-3-1ea3-e7ee-be72",
     "previous": "b13a9c1c-e54b-11ec-8d3a-02420a010016-3-7647-df26-9ca1"
    },
    "lc_wrapper": {}
   },
   "outputs": [],
   "source": [
    "# VCノードの一覧を DataFrame で表示する\n",
    "unit.df_nodes()"
   ]
  },
  {
   "cell_type": "markdown",
   "metadata": {
    "hidden": true,
    "lc_cell_meme": {
     "current": "b13a9d48-e54b-11ec-8d3a-02420a010016-3-1ea3-e7ee-be72",
     "next": "b13a9de8-e54b-11ec-8d3a-02420a010016-3-7472-1e34-fe9f",
     "previous": "b13a9cbc-e54b-11ec-8d3a-02420a010016-3-9a7c-bc40-a422"
    }
   },
   "source": [
    "Unit に VCノードを追加するには`unit`オブジェクトに対して `add_nodes()` を呼び出します。次のセルを実行するとUnitに VCノード が追加されます。\n",
    "\n",
    "> VCノード の起動には 1分半～2分程度かかります。"
   ]
  },
  {
   "cell_type": "code",
   "execution_count": null,
   "metadata": {
    "hidden": true,
    "lc_cell_meme": {
     "current": "b13a9de8-e54b-11ec-8d3a-02420a010016-3-7472-1e34-fe9f",
     "next": "b13a9e88-e54b-11ec-8d3a-02420a010016-3-73c1-6724-f74f",
     "previous": "b13a9d48-e54b-11ec-8d3a-02420a010016-3-1ea3-e7ee-be72"
    },
    "lc_wrapper": {},
    "scrolled": true
   },
   "outputs": [],
   "source": [
    "unit.add_nodes(ip_address='192.168.1.13')"
   ]
  },
  {
   "cell_type": "markdown",
   "metadata": {
    "hidden": true,
    "lc_cell_meme": {
     "current": "b13a9e88-e54b-11ec-8d3a-02420a010016-3-73c1-6724-f74f",
     "next": "b13a9f28-e54b-11ec-8d3a-02420a010016-3-9180-d364-94f4",
     "previous": "b13a9de8-e54b-11ec-8d3a-02420a010016-3-7472-1e34-fe9f"
    }
   },
   "source": [
    "`add_node()`を呼び出すことで追加されるVCノードの数はデフォルトでは１ですが、パラメータ`num_add_nodes`を設定することで追加するVCノード数を変更することが出来ます。例えば３ノードを追加するには以下のような指定を行います。\n",
    "\n",
    "```\n",
    "unit.add_nodes(num_add_nodes=3)\n",
    "```\n",
    "また、追加するVCノードのIPアドレスを指定する場合は、以下のような指定を行います。\n",
    "```\n",
    "unit.add_nodes(ip_address='172.30.2.30')\n",
    "```\n",
    "他にどんなパラメータを指定することが出来るかについては次のセルのように Codeセルの先頭で `?` を指定することで確認できます。"
   ]
  },
  {
   "cell_type": "code",
   "execution_count": null,
   "metadata": {
    "hidden": true,
    "lc_cell_meme": {
     "current": "b13a9f28-e54b-11ec-8d3a-02420a010016-3-9180-d364-94f4",
     "next": "b13a9fbe-e54b-11ec-8d3a-02420a010016-3-2140-056c-fc49",
     "previous": "b13a9e88-e54b-11ec-8d3a-02420a010016-3-73c1-6724-f74f"
    },
    "lc_wrapper": {}
   },
   "outputs": [],
   "source": [
    "?unit.add_nodes"
   ]
  },
  {
   "cell_type": "markdown",
   "metadata": {
    "hidden": true,
    "lc_cell_meme": {
     "current": "b13a9fbe-e54b-11ec-8d3a-02420a010016-3-2140-056c-fc49",
     "next": "b13aa04a-e54b-11ec-8d3a-02420a010016-3-ec65-5fe0-6a6a",
     "previous": "b13a9f28-e54b-11ec-8d3a-02420a010016-3-9180-d364-94f4"
    }
   },
   "source": [
    "追加したVCノードの状態を確認するために、VCノードの一覧表示をおこなってみます。"
   ]
  },
  {
   "cell_type": "code",
   "execution_count": null,
   "metadata": {
    "hidden": true,
    "lc_cell_meme": {
     "current": "b13aa04a-e54b-11ec-8d3a-02420a010016-3-ec65-5fe0-6a6a",
     "next": "b13aa0ea-e54b-11ec-8d3a-02420a010016-3-7a0e-459e-4848",
     "previous": "b13a9fbe-e54b-11ec-8d3a-02420a010016-3-2140-056c-fc49"
    },
    "lc_wrapper": {},
    "scrolled": true
   },
   "outputs": [],
   "source": [
    "unit.df_nodes()"
   ]
  },
  {
   "cell_type": "markdown",
   "metadata": {
    "hidden": true,
    "lc_cell_meme": {
     "current": "b13aa0ea-e54b-11ec-8d3a-02420a010016-3-7a0e-459e-4848",
     "next": "b13aa194-e54b-11ec-8d3a-02420a010016-3-acf7-36c3-c17d",
     "previous": "b13aa04a-e54b-11ec-8d3a-02420a010016-3-ec65-5fe0-6a6a"
    }
   },
   "source": [
    "起動している全てのVCノードに対して `ping` を行ってみます。"
   ]
  },
  {
   "cell_type": "code",
   "execution_count": null,
   "metadata": {
    "hidden": true,
    "lc_cell_meme": {
     "current": "b13aa194-e54b-11ec-8d3a-02420a010016-3-acf7-36c3-c17d",
     "next": "b13aa22a-e54b-11ec-8d3a-02420a010016-3-8713-42d0-67dc",
     "previous": "b13aa0ea-e54b-11ec-8d3a-02420a010016-3-7a0e-459e-4848"
    },
    "lc_wrapper": {},
    "scrolled": true
   },
   "outputs": [],
   "source": [
    "# Unit内のVCノードのIPアドレスのリストを取得する\n",
    "ip_address = unit.find_ip_addresses(node_state='RUNNING')\n",
    "print(ip_address)\n",
    "\n",
    "# それぞれのIPアドレスに対して pingコマンドを実行する\n",
    "for address in ip_address:\n",
    "    !ping -c 5 {address}\n",
    "    print()"
   ]
  },
  {
   "cell_type": "markdown",
   "metadata": {
    "hidden": true,
    "lc_cell_meme": {
     "current": "b13aa22a-e54b-11ec-8d3a-02420a010016-3-8713-42d0-67dc",
     "next": "b13aa2c0-e54b-11ec-8d3a-02420a010016-3-9057-b61c-c2aa",
     "previous": "b13aa194-e54b-11ec-8d3a-02420a010016-3-acf7-36c3-c17d"
    }
   },
   "source": [
    "VCノードを追加したので ~/.ssh/known_hosts を更新します。"
   ]
  },
  {
   "cell_type": "code",
   "execution_count": null,
   "metadata": {
    "hidden": true,
    "lc_cell_meme": {
     "current": "b13aa2c0-e54b-11ec-8d3a-02420a010016-3-9057-b61c-c2aa",
     "next": "b13aa360-e54b-11ec-8d3a-02420a010016-3-5603-ed4b-bcb6",
     "previous": "b13aa22a-e54b-11ec-8d3a-02420a010016-3-8713-42d0-67dc"
    },
    "lc_wrapper": {}
   },
   "outputs": [],
   "source": [
    "for address in ip_address:\n",
    "    # ~/.ssh/known_hosts から古いホストキーを削除する\n",
    "    !ssh-keygen -R {address}\n",
    "    # ホストキーの登録\n",
    "    !ssh-keyscan -H {address} >> ~/.ssh/known_hosts"
   ]
  },
  {
   "cell_type": "markdown",
   "metadata": {
    "hidden": true,
    "lc_cell_meme": {
     "current": "b13aa360-e54b-11ec-8d3a-02420a010016-3-5603-ed4b-bcb6",
     "next": "b13aa3f6-e54b-11ec-8d3a-02420a010016-3-0acd-add1-a2cd",
     "previous": "b13aa2c0-e54b-11ec-8d3a-02420a010016-3-9057-b61c-c2aa"
    }
   },
   "source": [
    "追加で起動した VCノード は同じ Unit に属しているため同じ構成(cpu, memory, disk)になっています。そのことを確認するために、sshでログインして以下のコマンドを実行してみます。\n",
    "\n",
    "* カーネルバージョン\n",
    "  - uname -a\n",
    "* CPU\n",
    "  - cat /proc/cpuinfo\n",
    "* メモリ量\n",
    "  - free\n",
    "* ディスク容量\n",
    "  - df -h\n",
    "  \n",
    "> ただし aws では同じインスタンスタイプに複数種類の CPU が混在していることがあり CPU が微妙に異なることがあります。"
   ]
  },
  {
   "cell_type": "code",
   "execution_count": null,
   "metadata": {
    "hidden": true,
    "lc_cell_meme": {
     "current": "b13aa3f6-e54b-11ec-8d3a-02420a010016-3-0acd-add1-a2cd",
     "next": "b13aa48c-e54b-11ec-8d3a-02420a010016-3-0a1d-213e-874c",
     "previous": "b13aa360-e54b-11ec-8d3a-02420a010016-3-5603-ed4b-bcb6"
    },
    "lc_wrapper": {},
    "scrolled": true
   },
   "outputs": [],
   "source": [
    "for address in ip_address:\n",
    "    print(address + ':')\n",
    "    !ssh {ssh_opts} {address} uname -a\n",
    "    print()"
   ]
  },
  {
   "cell_type": "code",
   "execution_count": null,
   "metadata": {
    "hidden": true,
    "lc_cell_meme": {
     "current": "b13aa48c-e54b-11ec-8d3a-02420a010016-3-0a1d-213e-874c",
     "next": "b13aa52c-e54b-11ec-8d3a-02420a010016-3-0023-f028-422d",
     "previous": "b13aa3f6-e54b-11ec-8d3a-02420a010016-3-0acd-add1-a2cd"
    },
    "lc_wrapper": {}
   },
   "outputs": [],
   "source": [
    "for address in ip_address:\n",
    "    print(address + ':')\n",
    "    !ssh {ssh_opts} {address} cat /proc/cpuinfo | grep 'model name'\n",
    "    print()"
   ]
  },
  {
   "cell_type": "code",
   "execution_count": null,
   "metadata": {
    "hidden": true,
    "lc_cell_meme": {
     "current": "b13aa52c-e54b-11ec-8d3a-02420a010016-3-0023-f028-422d",
     "next": "b13aa5cc-e54b-11ec-8d3a-02420a010016-3-95b1-82a4-94e6",
     "previous": "b13aa48c-e54b-11ec-8d3a-02420a010016-3-0a1d-213e-874c"
    },
    "lc_wrapper": {}
   },
   "outputs": [],
   "source": [
    "for address in ip_address:\n",
    "    print(address + ':')\n",
    "    !ssh {ssh_opts} {address} free\n",
    "    print()"
   ]
  },
  {
   "cell_type": "code",
   "execution_count": null,
   "metadata": {
    "hidden": true,
    "lc_cell_meme": {
     "current": "b13aa5cc-e54b-11ec-8d3a-02420a010016-3-95b1-82a4-94e6",
     "next": "b13aa658-e54b-11ec-8d3a-02420a010016-3-a800-136f-b7d1",
     "previous": "b13aa52c-e54b-11ec-8d3a-02420a010016-3-0023-f028-422d"
    },
    "lc_wrapper": {}
   },
   "outputs": [],
   "source": [
    "for address in ip_address:\n",
    "    print(address + ':')\n",
    "    !ssh {ssh_opts} {address} df -h\n",
    "    print()"
   ]
  },
  {
   "cell_type": "markdown",
   "metadata": {
    "hidden": true,
    "lc_cell_meme": {
     "current": "b13aa658-e54b-11ec-8d3a-02420a010016-3-a800-136f-b7d1",
     "next": "b13aa6f8-e54b-11ec-8d3a-02420a010016-3-5de9-58a5-fa00",
     "previous": "b13aa5cc-e54b-11ec-8d3a-02420a010016-3-95b1-82a4-94e6"
    }
   },
   "source": [
    "先程と同様に、負荷をかけるためにそれぞれのVCノードでアプリケーションコンテナによる stress コマンドの実行を行います。"
   ]
  },
  {
   "cell_type": "code",
   "execution_count": null,
   "metadata": {
    "hidden": true,
    "lc_cell_meme": {
     "current": "b13aa6f8-e54b-11ec-8d3a-02420a010016-3-5de9-58a5-fa00",
     "next": "b13aa798-e54b-11ec-8d3a-02420a010016-3-d21e-c00d-8b60",
     "previous": "b13aa658-e54b-11ec-8d3a-02420a010016-3-a800-136f-b7d1"
    },
    "lc_wrapper": {}
   },
   "outputs": [],
   "source": [
    "for idx, address in enumerate(ip_address):\n",
    "    # 60秒間だけ CPU x 2 とメモリ 128 MB を消費する\n",
    "    !ssh {ssh_opts} {address} \\\n",
    "        /usr/local/bin/docker run -td --rm --name stress-{idx} polinux/stress \\\n",
    "        stress --cpu 2 --io 1 --vm 2 --vm-bytes 128M --timeout 60s --verbose"
   ]
  },
  {
   "cell_type": "markdown",
   "metadata": {
    "hidden": true,
    "lc_cell_meme": {
     "current": "b13aa798-e54b-11ec-8d3a-02420a010016-3-d21e-c00d-8b60",
     "next": "b13aa82e-e54b-11ec-8d3a-02420a010016-3-71f5-a629-498e",
     "previous": "b13aa6f8-e54b-11ec-8d3a-02420a010016-3-5de9-58a5-fa00"
    }
   },
   "source": [
    "[Grafana](/grafana/d/vcp/vcp-metrics?refresh=5s) で利用状況を確認してみます。"
   ]
  },
  {
   "cell_type": "markdown",
   "metadata": {
    "hidden": true,
    "lc_cell_meme": {
     "current": "b13aa82e-e54b-11ec-8d3a-02420a010016-3-71f5-a629-498e",
     "next": "b13aa8ce-e54b-11ec-8d3a-02420a010016-3-271d-87ce-300b",
     "previous": "b13aa798-e54b-11ec-8d3a-02420a010016-3-d21e-c00d-8b60"
    }
   },
   "source": [
    "## VCノードのスケールイン\n",
    "\n",
    "現在Unitには２つのVCノードがありますが、そのうちの一つを削除してみます。"
   ]
  },
  {
   "cell_type": "markdown",
   "metadata": {
    "hidden": true,
    "lc_cell_meme": {
     "current": "b13aa8ce-e54b-11ec-8d3a-02420a010016-3-271d-87ce-300b",
     "next": "b13aa96e-e54b-11ec-8d3a-02420a010016-3-16d2-e25e-3dbd",
     "previous": "b13aa82e-e54b-11ec-8d3a-02420a010016-3-71f5-a629-498e"
    }
   },
   "source": [
    "まず、現在のVCノードの状況を確認しておきます。"
   ]
  },
  {
   "cell_type": "code",
   "execution_count": null,
   "metadata": {
    "hidden": true,
    "lc_cell_meme": {
     "current": "b13aa96e-e54b-11ec-8d3a-02420a010016-3-16d2-e25e-3dbd",
     "next": "b13aaa0e-e54b-11ec-8d3a-02420a010016-3-af3d-98c4-a9b7",
     "previous": "b13aa8ce-e54b-11ec-8d3a-02420a010016-3-271d-87ce-300b"
    },
    "lc_wrapper": {},
    "scrolled": true
   },
   "outputs": [],
   "source": [
    "# VCノードの一覧を DataFrame で表示する\n",
    "unit.df_nodes()"
   ]
  },
  {
   "cell_type": "markdown",
   "metadata": {
    "hidden": true,
    "lc_cell_meme": {
     "current": "b13aaa0e-e54b-11ec-8d3a-02420a010016-3-af3d-98c4-a9b7",
     "next": "b13aaaa4-e54b-11ec-8d3a-02420a010016-3-f0b7-c54f-177b",
     "previous": "b13aa96e-e54b-11ec-8d3a-02420a010016-3-16d2-e25e-3dbd"
    }
   },
   "source": [
    "Unit から VCノードを削除するにはオブジェクト`unit`に対して `delete_nodes()` を呼び出します。\n",
    "\n",
    "複数の VCノード のうちどのVCノード を削除するかを引数で指定することができます。ここでは`ip_address`パラメータを指定してVCノードに割り当てられている IPアドレスで VCノードを特定します。\n",
    "\n",
    "> VCノードを特定するパラメータが指定されなかった場合は削除対象となる VCノードは VCP SDK によって自動的に選択されます。\n",
    "\n",
    "VCノードを特定するための他のパラメータに指定方法については次のセルを実行すると表示される情報で確認してください。"
   ]
  },
  {
   "cell_type": "code",
   "execution_count": null,
   "metadata": {
    "hidden": true,
    "lc_cell_meme": {
     "current": "b13aaaa4-e54b-11ec-8d3a-02420a010016-3-f0b7-c54f-177b",
     "next": "b13aab44-e54b-11ec-8d3a-02420a010016-3-eca1-64a4-6f19",
     "previous": "b13aaa0e-e54b-11ec-8d3a-02420a010016-3-af3d-98c4-a9b7"
    },
    "lc_wrapper": {}
   },
   "outputs": [],
   "source": [
    "?unit.delete_nodes"
   ]
  },
  {
   "cell_type": "markdown",
   "metadata": {
    "hidden": true,
    "lc_cell_meme": {
     "current": "b13aab44-e54b-11ec-8d3a-02420a010016-3-eca1-64a4-6f19",
     "next": "b13aabe4-e54b-11ec-8d3a-02420a010016-3-d374-b90a-b6da",
     "previous": "b13aaaa4-e54b-11ec-8d3a-02420a010016-3-f0b7-c54f-177b"
    }
   },
   "source": [
    "では実際にVCノードを削除します。まず削除対象とするVCノードのIPアドレスを確認します。スケールアウトの節で追加したVCノードのIPアドレスを指定することにします。"
   ]
  },
  {
   "cell_type": "code",
   "execution_count": null,
   "metadata": {
    "hidden": true,
    "lc_cell_meme": {
     "current": "b13aabe4-e54b-11ec-8d3a-02420a010016-3-d374-b90a-b6da",
     "next": "b13aac7a-e54b-11ec-8d3a-02420a010016-3-509a-4873-d9f9",
     "previous": "b13aab44-e54b-11ec-8d3a-02420a010016-3-eca1-64a4-6f19"
    },
    "lc_wrapper": {}
   },
   "outputs": [],
   "source": [
    "# 削除対象とするVCノードの IPアドレスを表示 \n",
    "print(ip_address[-1])                         # 後から追加した VCノード を削除対象とする"
   ]
  },
  {
   "cell_type": "markdown",
   "metadata": {
    "hidden": true,
    "lc_cell_meme": {
     "current": "b13aac7a-e54b-11ec-8d3a-02420a010016-3-509a-4873-d9f9",
     "next": "b13aad1a-e54b-11ec-8d3a-02420a010016-3-c662-44a7-9abe",
     "previous": "b13aabe4-e54b-11ec-8d3a-02420a010016-3-d374-b90a-b6da"
    }
   },
   "source": [
    "次のセルを実行するとUnit からVCノードが削除され、対応するAWS EC2インスタンスも削除されます。\n",
    "\n",
    "> VCノード の削除には 1分～2分程度かかります。"
   ]
  },
  {
   "cell_type": "code",
   "execution_count": null,
   "metadata": {
    "hidden": true,
    "lc_cell_meme": {
     "current": "b13aad1a-e54b-11ec-8d3a-02420a010016-3-c662-44a7-9abe",
     "next": "b13aadc4-e54b-11ec-8d3a-02420a010016-3-46ea-262b-af5b",
     "previous": "b13aac7a-e54b-11ec-8d3a-02420a010016-3-509a-4873-d9f9"
    },
    "lc_wrapper": {},
    "scrolled": true
   },
   "outputs": [],
   "source": [
    "# VCノードの削除\n",
    "unit.delete_nodes(\n",
    "    ip_address=ip_address[-1]     # IPアドレスで削除対象を指定する\n",
    ")"
   ]
  },
  {
   "cell_type": "markdown",
   "metadata": {
    "hidden": true,
    "lc_cell_meme": {
     "current": "b13aadc4-e54b-11ec-8d3a-02420a010016-3-46ea-262b-af5b",
     "next": "b13aae64-e54b-11ec-8d3a-02420a010016-3-923b-67f9-73d6",
     "previous": "b13aad1a-e54b-11ec-8d3a-02420a010016-3-c662-44a7-9abe"
    }
   },
   "source": [
    "Unit内のVCノードの一覧を確認してみます。VCノードが減っていることが確認できるはずです。"
   ]
  },
  {
   "cell_type": "code",
   "execution_count": null,
   "metadata": {
    "hidden": true,
    "lc_cell_meme": {
     "current": "b13aae64-e54b-11ec-8d3a-02420a010016-3-923b-67f9-73d6",
     "next": "b13aaf04-e54b-11ec-8d3a-02420a010016-3-81fb-fe4b-8f90",
     "previous": "b13aadc4-e54b-11ec-8d3a-02420a010016-3-46ea-262b-af5b"
    },
    "lc_wrapper": {},
    "scrolled": false
   },
   "outputs": [],
   "source": [
    "unit.df_nodes()"
   ]
  },
  {
   "cell_type": "markdown",
   "metadata": {
    "hidden": true,
    "lc_cell_meme": {
     "current": "b13aaf04-e54b-11ec-8d3a-02420a010016-3-81fb-fe4b-8f90",
     "next": "b13aaf90-e54b-11ec-8d3a-02420a010016-3-5a75-4c57-ac44",
     "previous": "b13aae64-e54b-11ec-8d3a-02420a010016-3-923b-67f9-73d6"
    }
   },
   "source": [
    "先ほど取得した２つのVCノードのIPアドレスに対して `ping` を行ってみます。\n",
    "削除されている VCノード に対する `ping` が失敗するので、次のセルは必ずエラーになるはずです。"
   ]
  },
  {
   "cell_type": "code",
   "execution_count": null,
   "metadata": {
    "hidden": true,
    "lc_cell_meme": {
     "current": "b13aaf90-e54b-11ec-8d3a-02420a010016-3-5a75-4c57-ac44",
     "next": "b13ab03a-e54b-11ec-8d3a-02420a010016-3-b46b-2a66-4df9",
     "previous": "b13aaf04-e54b-11ec-8d3a-02420a010016-3-81fb-fe4b-8f90"
    },
    "lc_wrapper": {}
   },
   "outputs": [],
   "source": [
    "for address in ip_address:\n",
    "    !ping -c 5 {address}"
   ]
  },
  {
   "cell_type": "markdown",
   "metadata": {
    "heading_collapsed": true,
    "lc_cell_meme": {
     "current": "b13ab03a-e54b-11ec-8d3a-02420a010016-3-b46b-2a66-4df9",
     "next": "b13ab0c6-e54b-11ec-8d3a-02420a010016-3-6adb-343d-dfa4",
     "previous": "b13aaf90-e54b-11ec-8d3a-02420a010016-3-5a75-4c57-ac44"
    }
   },
   "source": [
    "# 別のクラウドでVCノードを起動する\n",
    "\n",
    "![azure](images/101-005.png)"
   ]
  },
  {
   "cell_type": "markdown",
   "metadata": {
    "hidden": true,
    "lc_cell_meme": {
     "current": "b13ab0c6-e54b-11ec-8d3a-02420a010016-3-6adb-343d-dfa4",
     "next": "b13ab15c-e54b-11ec-8d3a-02420a010016-3-21ad-4242-91a4",
     "previous": "b13ab03a-e54b-11ec-8d3a-02420a010016-3-b46b-2a66-4df9"
    }
   },
   "source": [
    "## Unit の追加"
   ]
  },
  {
   "cell_type": "markdown",
   "metadata": {
    "hidden": true,
    "lc_cell_meme": {
     "current": "b13ab15c-e54b-11ec-8d3a-02420a010016-3-21ad-4242-91a4",
     "next": "b13ab1f2-e54b-11ec-8d3a-02420a010016-3-8f27-857b-cad0",
     "previous": "b13ab0c6-e54b-11ec-8d3a-02420a010016-3-6adb-343d-dfa4"
    }
   },
   "source": [
    "先程とは異なる構成のVCノードを追加するので、新たな Unit を作成します。"
   ]
  },
  {
   "cell_type": "markdown",
   "metadata": {
    "hidden": true,
    "lc_cell_meme": {
     "current": "b13ab1f2-e54b-11ec-8d3a-02420a010016-3-8f27-857b-cad0",
     "next": "b13ab29c-e54b-11ec-8d3a-02420a010016-3-1e54-722f-62c0",
     "previous": "b13ab15c-e54b-11ec-8d3a-02420a010016-3-21ad-4242-91a4"
    }
   },
   "source": [
    "### VCノードのspecを指定する"
   ]
  },
  {
   "cell_type": "markdown",
   "metadata": {
    "hidden": true,
    "lc_cell_meme": {
     "current": "b13ab29c-e54b-11ec-8d3a-02420a010016-3-1e54-722f-62c0",
     "next": "b13ab332-e54b-11ec-8d3a-02420a010016-3-5aa2-f197-6ad9",
     "previous": "b13ab1f2-e54b-11ec-8d3a-02420a010016-3-8f27-857b-cad0"
    }
   },
   "source": [
    "AWSの場合と同様 `spec` オブジェクトを作成します。\n",
    "\n",
    "AWSの場合からの変更点は、specの作成等で指定するプロバイダ名を、使用するプロバイダのものに変更するだけです。\n",
    "ここでの具体的な変更箇所は次の2つのAPIの引数になります。\n",
    "\n",
    "- `VCPSDK::df_flavors()`\n",
    "- `VCPSDK::get_spec()`\n",
    "\n",
    "VCP SDKで現在使用可能なクラウドプロバイダと、それを使用する際の引数に指定するプロバイダ名の値は以下のとおりです。\n",
    "\n",
    "|  クラウドプロバイダ  |  プロバイダ名  |\n",
    "| :---- | :---- |\n",
    "|  Amazon EC2  |  `aws`  |\n",
    "|  Microsoft Azure  |  `azure`  |\n",
    "|  Oracle Cloud Infrastructure  |  `oracle`  |\n",
    "|  さくらのクラウド  |  `sakura` |\n",
    "|  VMware vSphere  |  `vmware`  |\n",
    "\n",
    "ここでは、Microsoft Azure でVCノードを作成します。\n",
    "下記の `'azure'` を指定した箇所を変更することで、他のプロバイダでも同様の操作をすることができます。"
   ]
  },
  {
   "cell_type": "markdown",
   "metadata": {
    "hidden": true,
    "lc_cell_meme": {
     "current": "b13ab332-e54b-11ec-8d3a-02420a010016-3-5aa2-f197-6ad9",
     "next": "b13ab3d2-e54b-11ec-8d3a-02420a010016-3-cefc-4bfa-3c92",
     "previous": "b13ab29c-e54b-11ec-8d3a-02420a010016-3-1e54-722f-62c0"
    }
   },
   "source": [
    "まず最初に、Microsoft Azure 用に定義している `flavor` の内容を確認します。"
   ]
  },
  {
   "cell_type": "code",
   "execution_count": null,
   "metadata": {
    "hidden": true,
    "lc_cell_meme": {
     "current": "b13ab3d2-e54b-11ec-8d3a-02420a010016-3-cefc-4bfa-3c92",
     "next": "b13ab472-e54b-11ec-8d3a-02420a010016-3-f4c2-06fe-c7ce",
     "previous": "b13ab332-e54b-11ec-8d3a-02420a010016-3-5aa2-f197-6ad9"
    },
    "lc_wrapper": {}
   },
   "outputs": [],
   "source": [
    "vcp.df_flavors('azure')"
   ]
  },
  {
   "cell_type": "markdown",
   "metadata": {
    "hidden": true,
    "lc_cell_meme": {
     "current": "b13ab472-e54b-11ec-8d3a-02420a010016-3-f4c2-06fe-c7ce",
     "next": "b13ab4fe-e54b-11ec-8d3a-02420a010016-3-f0e2-5aff-397e",
     "previous": "b13ab3d2-e54b-11ec-8d3a-02420a010016-3-cefc-4bfa-3c92"
    }
   },
   "source": [
    "続いて、以下のパラメータを指定して `spec`オブジェクトを作成します。\n",
    "* プロバイダ: `azure`\n",
    "* flavor: `medium`"
   ]
  },
  {
   "cell_type": "code",
   "execution_count": null,
   "metadata": {
    "hidden": true,
    "lc_cell_meme": {
     "current": "b13ab4fe-e54b-11ec-8d3a-02420a010016-3-f0e2-5aff-397e",
     "next": "b13ab59e-e54b-11ec-8d3a-02420a010016-3-704a-d976-ff40",
     "previous": "b13ab472-e54b-11ec-8d3a-02420a010016-3-f4c2-06fe-c7ce"
    },
    "lc_wrapper": {}
   },
   "outputs": [],
   "source": [
    "spec_azure = vcp.get_spec('azure', 'medium')"
   ]
  },
  {
   "cell_type": "markdown",
   "metadata": {
    "hidden": true,
    "lc_cell_meme": {
     "current": "b13ab59e-e54b-11ec-8d3a-02420a010016-3-704a-d976-ff40",
     "next": "b13ab634-e54b-11ec-8d3a-02420a010016-3-1bf6-59ec-df6b",
     "previous": "b13ab4fe-e54b-11ec-8d3a-02420a010016-3-f0e2-5aff-397e"
    }
   },
   "source": [
    "作成した`spec_azure`の設定内容を確認してみます。"
   ]
  },
  {
   "cell_type": "code",
   "execution_count": null,
   "metadata": {
    "hidden": true,
    "lc_cell_meme": {
     "current": "b13ab634-e54b-11ec-8d3a-02420a010016-3-1bf6-59ec-df6b",
     "next": "b13ab6ca-e54b-11ec-8d3a-02420a010016-3-2d1c-7373-a409",
     "previous": "b13ab59e-e54b-11ec-8d3a-02420a010016-3-704a-d976-ff40"
    },
    "lc_wrapper": {},
    "scrolled": false
   },
   "outputs": [],
   "source": [
    "print(spec_azure)"
   ]
  },
  {
   "cell_type": "markdown",
   "metadata": {
    "hidden": true,
    "lc_cell_meme": {
     "current": "b13ab6ca-e54b-11ec-8d3a-02420a010016-3-2d1c-7373-a409",
     "next": "b13ab76a-e54b-11ec-8d3a-02420a010016-3-d5fb-d1d0-0554",
     "previous": "b13ab634-e54b-11ec-8d3a-02420a010016-3-1bf6-59ec-df6b"
    }
   },
   "source": [
    "指定した `flavor`に対応する `vm_size`, `disk_size_gb` などが設定されていることが確認できます。"
   ]
  },
  {
   "cell_type": "markdown",
   "metadata": {
    "hidden": true,
    "lc_cell_meme": {
     "current": "b13ab76a-e54b-11ec-8d3a-02420a010016-3-d5fb-d1d0-0554",
     "next": "b13ab7f6-e54b-11ec-8d3a-02420a010016-3-3a7d-7d42-7de7",
     "previous": "b13ab6ca-e54b-11ec-8d3a-02420a010016-3-2d1c-7373-a409"
    }
   },
   "source": [
    "### sshの公開鍵設定"
   ]
  },
  {
   "cell_type": "markdown",
   "metadata": {
    "hidden": true,
    "lc_cell_meme": {
     "current": "b13ab7f6-e54b-11ec-8d3a-02420a010016-3-3a7d-7d42-7de7",
     "next": "b13ab882-e54b-11ec-8d3a-02420a010016-3-d75f-83d6-b417",
     "previous": "b13ab76a-e54b-11ec-8d3a-02420a010016-3-d5fb-d1d0-0554"
    }
   },
   "source": [
    "VCノードに登録するsshの公開鍵を `spec_azure`に設定します。先ほど aws 向けの`spec`に設定したのと同じ値を指定しています。"
   ]
  },
  {
   "cell_type": "code",
   "execution_count": null,
   "metadata": {
    "hidden": true,
    "lc_cell_meme": {
     "current": "b13ab882-e54b-11ec-8d3a-02420a010016-3-d75f-83d6-b417",
     "next": "b13ab92c-e54b-11ec-8d3a-02420a010016-3-64cd-f8a8-eadf",
     "previous": "b13ab7f6-e54b-11ec-8d3a-02420a010016-3-3a7d-7d42-7de7"
    },
    "lc_wrapper": {}
   },
   "outputs": [],
   "source": [
    "spec_azure.set_ssh_pubkey(ssh_public_key)"
   ]
  },
  {
   "cell_type": "markdown",
   "metadata": {
    "hidden": true,
    "lc_cell_meme": {
     "current": "b13ab92c-e54b-11ec-8d3a-02420a010016-3-64cd-f8a8-eadf",
     "next": "b13ab9cc-e54b-11ec-8d3a-02420a010016-3-270a-9af6-28b4",
     "previous": "b13ab882-e54b-11ec-8d3a-02420a010016-3-d75f-83d6-b417"
    }
   },
   "source": [
    "### specの設定内容を確認する\n",
    "\n",
    "`spec_azure`の設定内容を確認してみます。"
   ]
  },
  {
   "cell_type": "code",
   "execution_count": null,
   "metadata": {
    "hidden": true,
    "lc_cell_meme": {
     "current": "b13ab9cc-e54b-11ec-8d3a-02420a010016-3-270a-9af6-28b4",
     "next": "b13aba58-e54b-11ec-8d3a-02420a010016-3-c486-a654-2e69",
     "previous": "b13ab92c-e54b-11ec-8d3a-02420a010016-3-64cd-f8a8-eadf"
    },
    "lc_wrapper": {},
    "scrolled": false
   },
   "outputs": [],
   "source": [
    "print(spec_azure)"
   ]
  },
  {
   "cell_type": "markdown",
   "metadata": {
    "hidden": true,
    "lc_cell_meme": {
     "current": "b13aba58-e54b-11ec-8d3a-02420a010016-3-c486-a654-2e69",
     "next": "b13abaee-e54b-11ec-8d3a-02420a010016-3-22a7-b865-af51",
     "previous": "b13ab9cc-e54b-11ec-8d3a-02420a010016-3-270a-9af6-28b4"
    }
   },
   "source": [
    "aws向けに最初に作成した `spec`オブジェクトと`spec_azure`との差分を確認してみます。\n",
    "\n",
    "> `spec`オブジェクトの内部では aws は `instance_type`、azure は`vm_size` などそれぞれのクラウドプロバイダに応じたパラメータが設定されていることが確認できます。"
   ]
  },
  {
   "cell_type": "code",
   "execution_count": null,
   "metadata": {
    "hidden": true,
    "lc_cell_meme": {
     "current": "b13abaee-e54b-11ec-8d3a-02420a010016-3-22a7-b865-af51",
     "next": "b13abb84-e54b-11ec-8d3a-02420a010016-3-6bb3-241f-5255",
     "previous": "b13aba58-e54b-11ec-8d3a-02420a010016-3-c486-a654-2e69"
    },
    "lc_wrapper": {},
    "scrolled": true
   },
   "outputs": [],
   "source": [
    "from difflib import unified_diff\n",
    "import sys\n",
    "\n",
    "sys.stdout.writelines(unified_diff(\n",
    "    str(spec).splitlines(True),\n",
    "    str(spec_azure).splitlines(True),\n",
    "    fromfile='aws',\n",
    "    tofile='azure',\n",
    "))"
   ]
  },
  {
   "cell_type": "markdown",
   "metadata": {
    "hidden": true,
    "lc_cell_meme": {
     "current": "b13abb84-e54b-11ec-8d3a-02420a010016-3-6bb3-241f-5255",
     "next": "b13abc1a-e54b-11ec-8d3a-02420a010016-3-e634-b1f3-267e",
     "previous": "b13abaee-e54b-11ec-8d3a-02420a010016-3-22a7-b865-af51"
    }
   },
   "source": [
    "### Unitの作成とVCノードの起動"
   ]
  },
  {
   "cell_type": "markdown",
   "metadata": {
    "hidden": true,
    "lc_cell_meme": {
     "current": "b13abc1a-e54b-11ec-8d3a-02420a010016-3-e634-b1f3-267e",
     "next": "b13abcb0-e54b-11ec-8d3a-02420a010016-3-a7bc-8864-3559",
     "previous": "b13abb84-e54b-11ec-8d3a-02420a010016-3-6bb3-241f-5255"
    }
   },
   "source": [
    "まず作成前のUnitGroup状態を確認しておきます。"
   ]
  },
  {
   "cell_type": "code",
   "execution_count": null,
   "metadata": {
    "hidden": true,
    "lc_cell_meme": {
     "current": "b13abcb0-e54b-11ec-8d3a-02420a010016-3-a7bc-8864-3559",
     "next": "b13abd5a-e54b-11ec-8d3a-02420a010016-3-e4fb-c13b-90d0",
     "previous": "b13abc1a-e54b-11ec-8d3a-02420a010016-3-e634-b1f3-267e"
    },
    "lc_wrapper": {}
   },
   "outputs": [],
   "source": [
    "from IPython.display import display\n",
    "\n",
    "# Unitの一覧を DataFrame で表示する\n",
    "display(unit_group.df_units())\n",
    "\n",
    "# VCノードの一覧を DataFrame で表示する\n",
    "display(unit_group.df_nodes())"
   ]
  },
  {
   "cell_type": "markdown",
   "metadata": {
    "hidden": true,
    "lc_cell_meme": {
     "current": "b13abd5a-e54b-11ec-8d3a-02420a010016-3-e4fb-c13b-90d0",
     "next": "b13abde6-e54b-11ec-8d3a-02420a010016-3-ea34-f0d3-d1d5",
     "previous": "b13abcb0-e54b-11ec-8d3a-02420a010016-3-a7bc-8864-3559"
    }
   },
   "source": [
    "Unitを作成します。\n",
    "\n",
    "> 処理が完了するまでには 2～5分程度かかります。"
   ]
  },
  {
   "cell_type": "code",
   "execution_count": null,
   "metadata": {
    "hidden": true,
    "lc_cell_meme": {
     "current": "b13abde6-e54b-11ec-8d3a-02420a010016-3-ea34-f0d3-d1d5",
     "next": "b13abe72-e54b-11ec-8d3a-02420a010016-3-1a14-ddf9-a52d",
     "previous": "b13abd5a-e54b-11ec-8d3a-02420a010016-3-e4fb-c13b-90d0"
    },
    "lc_wrapper": {},
    "scrolled": true
   },
   "outputs": [],
   "source": [
    "# Unitの作成（同時に VCノードが作成される）\n",
    "unit2 = unit_group.create_unit(\n",
    "            'azure-server',    # Unit 名\n",
    "            spec_azure         # spec オブジェクト\n",
    "        )"
   ]
  },
  {
   "cell_type": "markdown",
   "metadata": {
    "hidden": true,
    "lc_cell_meme": {
     "current": "b13abe72-e54b-11ec-8d3a-02420a010016-3-1a14-ddf9-a52d",
     "next": "b13abf1c-e54b-11ec-8d3a-02420a010016-3-4f88-a708-434b",
     "previous": "b13abde6-e54b-11ec-8d3a-02420a010016-3-ea34-f0d3-d1d5"
    }
   },
   "source": [
    "Unit作成後の状態を確認します。Unit とVCノードがそれぞれ２つあることが確認できるはずです。VCノード一覧ではそれぞれのVCノードの unit_name が異なることが確認できるはずです。またawsとazureのVCノードには**異なるサブネット**のIPアドレスが割り当てられていることが確認できます。"
   ]
  },
  {
   "cell_type": "code",
   "execution_count": null,
   "metadata": {
    "hidden": true,
    "lc_cell_meme": {
     "current": "b13abf1c-e54b-11ec-8d3a-02420a010016-3-4f88-a708-434b",
     "next": "b13abfb2-e54b-11ec-8d3a-02420a010016-3-dc81-bb3f-a9a2",
     "previous": "b13abe72-e54b-11ec-8d3a-02420a010016-3-1a14-ddf9-a52d"
    },
    "lc_wrapper": {}
   },
   "outputs": [],
   "source": [
    "# Unitの一覧を DataFrame で表示する\n",
    "display(unit_group.df_units())\n",
    "\n",
    "# VCノードの一覧を DataFrame で表示する\n",
    "display(unit_group.df_nodes())"
   ]
  },
  {
   "cell_type": "markdown",
   "metadata": {
    "hidden": true,
    "lc_cell_meme": {
     "current": "b13abfb2-e54b-11ec-8d3a-02420a010016-3-dc81-bb3f-a9a2",
     "next": "b13ac048-e54b-11ec-8d3a-02420a010016-3-69b5-8860-94a1",
     "previous": "b13abf1c-e54b-11ec-8d3a-02420a010016-3-4f88-a708-434b"
    }
   },
   "source": [
    "VCノードを追加したので ~/.ssh/known_hosts を更新します。"
   ]
  },
  {
   "cell_type": "code",
   "execution_count": null,
   "metadata": {
    "hidden": true,
    "lc_cell_meme": {
     "current": "b13ac048-e54b-11ec-8d3a-02420a010016-3-69b5-8860-94a1",
     "next": "b13ac0e8-e54b-11ec-8d3a-02420a010016-3-59de-03c1-b18a",
     "previous": "b13abfb2-e54b-11ec-8d3a-02420a010016-3-dc81-bb3f-a9a2"
    },
    "lc_wrapper": {}
   },
   "outputs": [],
   "source": [
    "for addr in unit_group.find_ip_addresses(node_state='RUNNING'):\n",
    "    !ssh-keygen -R {addr}\n",
    "    !ssh-keyscan -H {addr} >> ~/.ssh/known_hosts"
   ]
  },
  {
   "cell_type": "markdown",
   "metadata": {
    "hidden": true,
    "lc_cell_meme": {
     "current": "b13ac0e8-e54b-11ec-8d3a-02420a010016-3-59de-03c1-b18a",
     "next": "b13ac192-e54b-11ec-8d3a-02420a010016-3-3f2e-660b-6273",
     "previous": "b13ac048-e54b-11ec-8d3a-02420a010016-3-69b5-8860-94a1"
    }
   },
   "source": [
    "### 疎通確認\n",
    "\n",
    "VCノードに対して`ping` を実行してみます。\n",
    "\n",
    "![](./images/101-007.png)"
   ]
  },
  {
   "cell_type": "code",
   "execution_count": null,
   "metadata": {
    "hidden": true,
    "lc_cell_meme": {
     "current": "b13ac192-e54b-11ec-8d3a-02420a010016-3-3f2e-660b-6273",
     "next": "b13ac228-e54b-11ec-8d3a-02420a010016-3-9b5d-82d2-167e",
     "previous": "b13ac0e8-e54b-11ec-8d3a-02420a010016-3-59de-03c1-b18a"
    },
    "lc_wrapper": {}
   },
   "outputs": [],
   "source": [
    "# UnitGroup内にあるVCノードのIPアドレスリストを取得する\n",
    "ip_address = unit_group.find_ip_addresses(node_state='RUNNING')\n",
    "\n",
    "# それぞれのVCノードに対してpingを実行する\n",
    "# NIIのハンズオン環境ではネットワーク構成の事情により本NotebookからVCノードへのping実行はできません。\n",
    "# for address in ip_address:\n",
    "#     !ping -c 5 {address}\n",
    "#     print()"
   ]
  },
  {
   "cell_type": "markdown",
   "metadata": {
    "hidden": true,
    "lc_cell_meme": {
     "current": "b13ac228-e54b-11ec-8d3a-02420a010016-3-9b5d-82d2-167e",
     "execution_end_time": "2021-04-08T03:43:58.664297Z",
     "next": "b13ac2be-e54b-11ec-8d3a-02420a010016-3-7757-7041-da9a",
     "previous": "b13ac192-e54b-11ec-8d3a-02420a010016-3-3f2e-660b-6273"
    },
    "lc_wrapper": {}
   },
   "source": [
    "VCPでは複数の異なるクラウドを仮想的に一つの計算基盤（仮想クラウド）のように扱える機能を提供しています。そのため異なるクラウド(aws, azure)で起動したVCノードであっても、追加の設定なしに互いに通信することができます。そのことを確認するために、作成した２つの VCノード の一方から他方に対して `ping` を行ってみます。"
   ]
  },
  {
   "cell_type": "code",
   "execution_count": null,
   "metadata": {
    "hidden": true,
    "lc_cell_meme": {
     "current": "b13ac2be-e54b-11ec-8d3a-02420a010016-3-7757-7041-da9a",
     "next": "b13ac368-e54b-11ec-8d3a-02420a010016-3-0f73-3d81-dc47",
     "previous": "b13ac228-e54b-11ec-8d3a-02420a010016-3-9b5d-82d2-167e"
    },
    "lc_wrapper": {}
   },
   "outputs": [],
   "source": [
    "# pingを実行するVCノードのIPアドレスを表示する\n",
    "print(ip_address[0])\n",
    "print()\n",
    "\n",
    "!ssh {ssh_opts} {ip_address[0]} \\\n",
    "    ping -c 10 {ip_address[1]}"
   ]
  },
  {
   "cell_type": "markdown",
   "metadata": {
    "hidden": true,
    "lc_cell_meme": {
     "current": "b13ac368-e54b-11ec-8d3a-02420a010016-3-0f73-3d81-dc47",
     "next": "b13ac3fe-e54b-11ec-8d3a-02420a010016-3-dd10-a70f-2b0e",
     "previous": "b13ac2be-e54b-11ec-8d3a-02420a010016-3-7757-7041-da9a"
    }
   },
   "source": [
    "逆方向で同様のことを行ってみます。"
   ]
  },
  {
   "cell_type": "code",
   "execution_count": null,
   "metadata": {
    "hidden": true,
    "lc_cell_meme": {
     "current": "b13ac3fe-e54b-11ec-8d3a-02420a010016-3-dd10-a70f-2b0e",
     "next": "b13ac49e-e54b-11ec-8d3a-02420a010016-3-f3be-7f31-0e85",
     "previous": "b13ac368-e54b-11ec-8d3a-02420a010016-3-0f73-3d81-dc47"
    },
    "lc_wrapper": {}
   },
   "outputs": [],
   "source": [
    "# pingを実行するVCノードのIPアドレスを表示する\n",
    "print(ip_address[1])\n",
    "print()\n",
    "\n",
    "!ssh {ssh_opts} {ip_address[1]} \\\n",
    "    ping -c 10 {ip_address[0]}"
   ]
  },
  {
   "cell_type": "markdown",
   "metadata": {
    "hidden": true,
    "lc_cell_meme": {
     "current": "b13ac49e-e54b-11ec-8d3a-02420a010016-3-f3be-7f31-0e85",
     "next": "b13ac53e-e54b-11ec-8d3a-02420a010016-3-cb43-2a81-7545",
     "previous": "b13ac3fe-e54b-11ec-8d3a-02420a010016-3-dd10-a70f-2b0e"
    }
   },
   "source": [
    "## VCノードに ssh でログインして操作する\n",
    "\n",
    "![](./images/101-008.png)"
   ]
  },
  {
   "cell_type": "markdown",
   "metadata": {
    "hidden": true,
    "lc_cell_meme": {
     "current": "b13ac53e-e54b-11ec-8d3a-02420a010016-3-cb43-2a81-7545",
     "next": "b13ac5d4-e54b-11ec-8d3a-02420a010016-3-3bec-44fe-c0b2",
     "previous": "b13ac49e-e54b-11ec-8d3a-02420a010016-3-f3be-7f31-0e85"
    }
   },
   "source": [
    "Azureに追加で起動した VCノード は aws とは異なる構成(cpu, memory, disk)になってるはずです。そのことを確認するために、sshでログインして以下のコマンドを実行してみます。\n",
    "\n",
    "* カーネルバージョン\n",
    "  - uname -a\n",
    "* CPU\n",
    "  - cat /proc/cpuinfo\n",
    "* メモリ量\n",
    "  - free\n",
    "* ディスク容量\n",
    "  - df -h"
   ]
  },
  {
   "cell_type": "code",
   "execution_count": null,
   "metadata": {
    "hidden": true,
    "lc_cell_meme": {
     "current": "b13ac5d4-e54b-11ec-8d3a-02420a010016-3-3bec-44fe-c0b2",
     "next": "b13ac67e-e54b-11ec-8d3a-02420a010016-3-5ba2-5c82-8808",
     "previous": "b13ac53e-e54b-11ec-8d3a-02420a010016-3-cb43-2a81-7545"
    },
    "lc_wrapper": {}
   },
   "outputs": [],
   "source": [
    "for address in ip_address:\n",
    "    print(address + ':')\n",
    "    !ssh {ssh_opts} {address} uname -a\n",
    "    print()"
   ]
  },
  {
   "cell_type": "code",
   "execution_count": null,
   "metadata": {
    "hidden": true,
    "lc_cell_meme": {
     "current": "b13ac67e-e54b-11ec-8d3a-02420a010016-3-5ba2-5c82-8808",
     "next": "b13ac73c-e54b-11ec-8d3a-02420a010016-3-322f-ad5c-252e",
     "previous": "b13ac5d4-e54b-11ec-8d3a-02420a010016-3-3bec-44fe-c0b2"
    },
    "lc_wrapper": {}
   },
   "outputs": [],
   "source": [
    "for address in ip_address:\n",
    "    print(address + ':')\n",
    "    !ssh {ssh_opts} {address} cat /proc/cpuinfo | grep 'model name'\n",
    "    print()"
   ]
  },
  {
   "cell_type": "code",
   "execution_count": null,
   "metadata": {
    "hidden": true,
    "lc_cell_meme": {
     "current": "b13ac73c-e54b-11ec-8d3a-02420a010016-3-322f-ad5c-252e",
     "next": "b13ac7dc-e54b-11ec-8d3a-02420a010016-3-42a6-8729-3aea",
     "previous": "b13ac67e-e54b-11ec-8d3a-02420a010016-3-5ba2-5c82-8808"
    },
    "lc_wrapper": {}
   },
   "outputs": [],
   "source": [
    "for address in ip_address:\n",
    "    print(address + ':')\n",
    "    !ssh {ssh_opts} {address} free\n",
    "    print()"
   ]
  },
  {
   "cell_type": "code",
   "execution_count": null,
   "metadata": {
    "hidden": true,
    "lc_cell_meme": {
     "current": "b13ac7dc-e54b-11ec-8d3a-02420a010016-3-42a6-8729-3aea",
     "next": "b13ac872-e54b-11ec-8d3a-02420a010016-3-f87d-4976-e6d4",
     "previous": "b13ac73c-e54b-11ec-8d3a-02420a010016-3-322f-ad5c-252e"
    },
    "lc_wrapper": {},
    "scrolled": true
   },
   "outputs": [],
   "source": [
    "for address in ip_address:\n",
    "    print(address + ':')\n",
    "    !ssh {ssh_opts} {address} df -h\n",
    "    print()"
   ]
  },
  {
   "cell_type": "markdown",
   "metadata": {
    "hidden": true,
    "lc_cell_meme": {
     "current": "b13ac872-e54b-11ec-8d3a-02420a010016-3-f87d-4976-e6d4",
     "next": "b13ac8fe-e54b-11ec-8d3a-02420a010016-3-7a0c-3fd7-7b11",
     "previous": "b13ac7dc-e54b-11ec-8d3a-02420a010016-3-42a6-8729-3aea"
    }
   },
   "source": [
    "最後に先程と同様に、負荷をかけるためにそれぞれのVCノードで stress コマンドを実行します。これまで同様 stressコマンドはアプリケーションコンテナとして実行します。"
   ]
  },
  {
   "cell_type": "code",
   "execution_count": null,
   "metadata": {
    "hidden": true,
    "lc_cell_meme": {
     "current": "b13ac8fe-e54b-11ec-8d3a-02420a010016-3-7a0c-3fd7-7b11",
     "next": "b13ac99e-e54b-11ec-8d3a-02420a010016-3-a697-fae4-6900",
     "previous": "b13ac872-e54b-11ec-8d3a-02420a010016-3-f87d-4976-e6d4"
    },
    "lc_wrapper": {},
    "scrolled": true
   },
   "outputs": [],
   "source": [
    "for unit in unit_group.find_units():\n",
    "    address = unit.find_ip_addresses(node_state='RUNNING')\n",
    "    # 60秒間だけ CPU x 2 とメモリ 128 MB を消費する\n",
    "    !ssh {ssh_opts} {address[0]} \\\n",
    "        /usr/local/bin/docker run -td --rm --name stress-{unit.name} polinux/stress \\\n",
    "        stress --cpu 2 --io 1 --vm 2 --vm-bytes 128M --timeout 60s --verbose"
   ]
  },
  {
   "cell_type": "markdown",
   "metadata": {
    "hidden": true,
    "lc_cell_meme": {
     "current": "b13ac99e-e54b-11ec-8d3a-02420a010016-3-a697-fae4-6900",
     "next": "b13aca52-e54b-11ec-8d3a-02420a010016-3-da1d-f9e6-8827",
     "previous": "b13ac8fe-e54b-11ec-8d3a-02420a010016-3-7a0c-3fd7-7b11"
    }
   },
   "source": [
    "Grafanaで利用状況を確認してみます。"
   ]
  },
  {
   "cell_type": "code",
   "execution_count": null,
   "metadata": {
    "hidden": true,
    "lc_cell_meme": {
     "current": "b13aca52-e54b-11ec-8d3a-02420a010016-3-da1d-f9e6-8827",
     "next": "b13acbba-e54b-11ec-8d3a-02420a010016-3-1ba9-b7df-6fcf",
     "previous": "b13ac99e-e54b-11ec-8d3a-02420a010016-3-a697-fae4-6900"
    },
    "lc_wrapper": {}
   },
   "outputs": [],
   "source": [
    "print(grafana_url)"
   ]
  },
  {
   "cell_type": "markdown",
   "metadata": {
    "heading_collapsed": true,
    "lc_cell_meme": {
     "current": "b13acbba-e54b-11ec-8d3a-02420a010016-3-1ba9-b7df-6fcf",
     "next": "b13acc5a-e54b-11ec-8d3a-02420a010016-3-e1de-f35e-0b39",
     "previous": "b13aca52-e54b-11ec-8d3a-02420a010016-3-da1d-f9e6-8827"
    }
   },
   "source": [
    "# 全てのVCノードを削除する"
   ]
  },
  {
   "cell_type": "markdown",
   "metadata": {
    "hidden": true,
    "lc_cell_meme": {
     "current": "b13acc5a-e54b-11ec-8d3a-02420a010016-3-e1de-f35e-0b39",
     "next": "b13acd04-e54b-11ec-8d3a-02420a010016-3-ebf8-81a3-f97f",
     "previous": "b13acbba-e54b-11ec-8d3a-02420a010016-3-1ba9-b7df-6fcf"
    }
   },
   "source": [
    "ここまで作成した全てのリソース（UnitGroup, Unit、VCノード）を削除します。この操作を行うことで AWS EC2インスタンスやAzure VMなどのクラウドに作成したリソースが削除されます。\n",
    "\n",
    "> 全てのリソースの削除には 4～5分程度かかります。"
   ]
  },
  {
   "cell_type": "code",
   "execution_count": null,
   "metadata": {
    "hidden": true,
    "lc_cell_meme": {
     "current": "b13acd04-e54b-11ec-8d3a-02420a010016-3-ebf8-81a3-f97f",
     "next": "b13acd90-e54b-11ec-8d3a-02420a010016-3-4264-fa90-9976",
     "previous": "b13acc5a-e54b-11ec-8d3a-02420a010016-3-e1de-f35e-0b39"
    },
    "lc_wrapper": {},
    "scrolled": true
   },
   "outputs": [],
   "source": [
    "unit_group.cleanup()"
   ]
  },
  {
   "cell_type": "markdown",
   "metadata": {
    "hidden": true,
    "lc_cell_meme": {
     "current": "b13acd90-e54b-11ec-8d3a-02420a010016-3-4264-fa90-9976",
     "next": "b13ace26-e54b-11ec-8d3a-02420a010016-3-6b40-06b5-e407",
     "previous": "b13acd04-e54b-11ec-8d3a-02420a010016-3-ebf8-81a3-f97f"
    }
   },
   "source": [
    "削除後の状態を確認してみます。"
   ]
  },
  {
   "cell_type": "code",
   "execution_count": null,
   "metadata": {
    "hidden": true,
    "lc_cell_meme": {
     "current": "b13ace26-e54b-11ec-8d3a-02420a010016-3-6b40-06b5-e407",
     "next": null,
     "previous": "b13acd90-e54b-11ec-8d3a-02420a010016-3-4264-fa90-9976"
    },
    "lc_wrapper": {},
    "scrolled": true
   },
   "outputs": [],
   "source": [
    "# UnitGroupの一覧を DataFrame で表示する\n",
    "vcp.df_ugroups()"
   ]
  }
 ],
 "metadata": {
  "kernelspec": {
   "display_name": "Python 3",
   "language": "python",
   "name": "python3"
  },
  "language_info": {
   "file_extension": ".py",
   "mimetype": "text/x-python",
   "name": "python",
   "nbconvert_exporter": "python",
   "pygments_lexer": "ipython3",
   "version": "3.10.4"
  },
  "toc": {
   "base_numbering": 1,
   "nav_menu": {},
   "number_sections": true,
   "sideBar": true,
   "skip_h1_title": false,
   "title_cell": "Table of Contents",
   "title_sidebar": "Contents",
   "toc_cell": false,
   "toc_position": {
    "height": "826px",
    "left": "0px",
    "right": "1202px",
    "top": "111px",
    "width": "310px"
   },
   "toc_section_display": "block",
   "toc_window_display": true
  }
 },
 "nbformat": 4,
 "nbformat_minor": 2
}
