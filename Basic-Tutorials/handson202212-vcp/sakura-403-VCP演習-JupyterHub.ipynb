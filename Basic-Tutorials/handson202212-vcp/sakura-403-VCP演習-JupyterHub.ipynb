{
 "cells": [
  {
   "cell_type": "markdown",
   "metadata": {
    "lc_cell_meme": {
     "current": "7ed14e68-e647-11ec-b295-02420a010016-3-919c-2cd6-3ef6",
     "next": "7ed14f62-e647-11ec-b295-02420a010016-3-8ac2-725b-a8c5",
     "previous": null
    }
   },
   "source": [
    "# The Littlest JupyterHub による軽量Python実習環境の構築\n",
    "\n",
    "[JupyterHub](https://jupyter.org/hub) は、Webブラウザからアクセス可能なマルチユーザ対応の認証機能付きJupyterNotebookサーバです。\n",
    "\n",
    "JupyterHubを利用して管理者が用意したNotebookをユーザがブラウザからすぐに実行可能な環境を提供できるため、Pythonによるプログラミング研修やワークショップを開催したり、講義演習環境として活用したりするのに適しています。\n",
    "\n",
    "本ハンズオンでは、JupyterHubを小規模なグループで手軽に利用することを想定し、単一のサーバで実行するために開発された「[The Littlest JupyterHub](https://tljh.jupyter.org/)」（以下 “TLJH” と略）をVCPを用いて構築します。  \n",
    "ハンズオンご参加の皆様には、このテンプレートでTLJHによるVCPアプリケーション環境を構築していただきます。\n",
    "\n",
    "![](images/403-overview.png)"
   ]
  },
  {
   "cell_type": "markdown",
   "metadata": {
    "heading_collapsed": true,
    "lc_cell_meme": {
     "current": "7ed14f62-e647-11ec-b295-02420a010016-3-8ac2-725b-a8c5",
     "next": "7ed1500c-e647-11ec-b295-02420a010016-3-2da8-aae4-ea4c",
     "previous": "7ed14e68-e647-11ec-b295-02420a010016-3-919c-2cd6-3ef6"
    }
   },
   "source": [
    "## 構築環境情報の入力\n",
    "TLJH環境の構築情報を入力します。"
   ]
  },
  {
   "cell_type": "code",
   "execution_count": null,
   "metadata": {
    "hidden": true,
    "lc_cell_meme": {
     "current": "7ed1500c-e647-11ec-b295-02420a010016-3-2da8-aae4-ea4c",
     "next": "7ed150a2-e647-11ec-b295-02420a010016-3-e18d-fb7c-01ad",
     "previous": "7ed14f62-e647-11ec-b295-02420a010016-3-8ac2-725b-a8c5"
    },
    "lc_wrapper": {}
   },
   "outputs": [],
   "source": [
    "####################################################\n",
    "### ハンズオンでは以下のパラメータを変更しないでください。###\n",
    "####################################################\n",
    "\n",
    "# UnitGroup名\n",
    "ugroup_name = 'handson403'\n",
    "\n",
    "# プロバイダ\n",
    "vc_provider = 'sakura'\n",
    "\n",
    "# フレーバー\n",
    "vcnode_flavor = 'small'\n",
    "\n",
    "# VCノードに付与する固定IPアドレス\n",
    "fixed_ipaddress = '192.168.1.16'"
   ]
  },
  {
   "cell_type": "markdown",
   "metadata": {
    "heading_collapsed": true,
    "lc_cell_meme": {
     "current": "7ed150a2-e647-11ec-b295-02420a010016-3-e18d-fb7c-01ad",
     "next": "7ed15142-e647-11ec-b295-02420a010016-3-b2df-05ad-eeb6",
     "previous": "7ed1500c-e647-11ec-b295-02420a010016-3-2da8-aae4-ea4c"
    }
   },
   "source": [
    "## VCノードの作成\n",
    "\n",
    "はじめに、アプリケーションVCP を利用するために必要なアクセストークンを入力し、VCP SDK を初期化します。"
   ]
  },
  {
   "cell_type": "markdown",
   "metadata": {
    "hidden": true,
    "lc_cell_meme": {
     "current": "7ed15142-e647-11ec-b295-02420a010016-3-b2df-05ad-eeb6",
     "next": "7ed151ec-e647-11ec-b295-02420a010016-3-777f-d052-498f",
     "previous": "7ed150a2-e647-11ec-b295-02420a010016-3-e18d-fb7c-01ad"
    }
   },
   "source": [
    "### アクセストークンの入力\n",
    "\n",
    "OCSハンズオン用トークンはこちら→ [token.txt](/jupyter/files/token.txt)"
   ]
  },
  {
   "cell_type": "code",
   "execution_count": null,
   "metadata": {
    "hidden": true,
    "lc_cell_meme": {
     "current": "7ed151ec-e647-11ec-b295-02420a010016-3-777f-d052-498f",
     "next": "7ed15278-e647-11ec-b295-02420a010016-3-658b-9af1-73df",
     "previous": "7ed15142-e647-11ec-b295-02420a010016-3-b2df-05ad-eeb6"
    },
    "lc_wrapper": {}
   },
   "outputs": [],
   "source": [
    "from getpass import getpass\n",
    "vcc_access_token = getpass()"
   ]
  },
  {
   "cell_type": "markdown",
   "metadata": {
    "hidden": true,
    "lc_cell_meme": {
     "current": "7ed15278-e647-11ec-b295-02420a010016-3-658b-9af1-73df",
     "next": "7ed1530e-e647-11ec-b295-02420a010016-3-a7a2-bd12-4755",
     "previous": "7ed151ec-e647-11ec-b295-02420a010016-3-777f-d052-498f"
    }
   },
   "source": [
    "### VCP の初期化\n",
    "VCP を初期化します。エラーになった場合、この章のセルを `unfreeze` してから、もう一度アクセストークンを入力してください。"
   ]
  },
  {
   "cell_type": "code",
   "execution_count": null,
   "metadata": {
    "hidden": true,
    "lc_cell_meme": {
     "current": "7ed1530e-e647-11ec-b295-02420a010016-3-a7a2-bd12-4755",
     "next": "7ed153ae-e647-11ec-b295-02420a010016-3-0703-95e8-eb52",
     "previous": "7ed15278-e647-11ec-b295-02420a010016-3-658b-9af1-73df"
    },
    "lc_wrapper": {}
   },
   "outputs": [],
   "source": [
    "from common import logsetting\n",
    "from vcpsdk.vcpsdk import VcpSDK\n",
    "\n",
    "# VCP SDKの初期化\n",
    "vcp = VcpSDK(vcc_access_token)"
   ]
  },
  {
   "cell_type": "markdown",
   "metadata": {
    "hidden": true,
    "lc_cell_meme": {
     "current": "7ed153ae-e647-11ec-b295-02420a010016-3-0703-95e8-eb52",
     "next": "7ed15444-e647-11ec-b295-02420a010016-3-87b9-6a1c-bf77",
     "previous": "7ed1530e-e647-11ec-b295-02420a010016-3-a7a2-bd12-4755"
    }
   },
   "source": [
    "### TLJH を実行するVCノードの作成\n",
    "\n",
    "クラウド上のインスタンスをVCノードとして作成します。"
   ]
  },
  {
   "cell_type": "markdown",
   "metadata": {
    "hidden": true,
    "lc_cell_meme": {
     "current": "7ed15444-e647-11ec-b295-02420a010016-3-87b9-6a1c-bf77",
     "next": "7ed154e4-e647-11ec-b295-02420a010016-3-4883-8224-9dd0",
     "previous": "7ed153ae-e647-11ec-b295-02420a010016-3-0703-95e8-eb52"
    }
   },
   "source": [
    " ### VCノードのspecを指定する\n",
    " \n",
    "TLJH を利用するのに十分な性能・容量のノードspecを指定します。  \n",
    "固定割当IPアドレスは、ハンズオン環境のNAT Proxyサーバに予め設定されているIPアドレスを使います。"
   ]
  },
  {
   "cell_type": "code",
   "execution_count": null,
   "metadata": {
    "hidden": true,
    "lc_cell_meme": {
     "current": "7ed154e4-e647-11ec-b295-02420a010016-3-4883-8224-9dd0",
     "next": "7ed15570-e647-11ec-b295-02420a010016-3-ed60-f75c-e94d",
     "previous": "7ed15444-e647-11ec-b295-02420a010016-3-87b9-6a1c-bf77"
    },
    "lc_wrapper": {}
   },
   "outputs": [],
   "source": [
    "# UnitGroup の作成\n",
    "unit_group = vcp.create_ugroup(ugroup_name)\n",
    "\n",
    "# VCノード spec\n",
    "spec = vcp.get_spec(vc_provider, vcnode_flavor)\n",
    "\n",
    "# spec オプション (固定割当IPアドレス)\n",
    "spec.ip_addresses = [fixed_ipaddress]\n",
    "\n",
    "# ssh keyfiles\n",
    "import os\n",
    "ssh_public_key = os.path.expanduser('~/.ssh/id_rsa.pub')\n",
    "spec.set_ssh_pubkey(ssh_public_key)"
   ]
  },
  {
   "cell_type": "markdown",
   "metadata": {
    "hidden": true,
    "lc_cell_meme": {
     "current": "7ed15570-e647-11ec-b295-02420a010016-3-ed60-f75c-e94d",
     "next": "7ed15610-e647-11ec-b295-02420a010016-3-3d68-09d5-c6bd",
     "previous": "7ed154e4-e647-11ec-b295-02420a010016-3-4883-8224-9dd0"
    }
   },
   "source": [
    "### Unitの作成とVCノードの起動\n",
    "Unitを作成します。Unitを作成すると同時に VCノードが起動します。処理が完了するまで1分半～2分程度かかります。"
   ]
  },
  {
   "cell_type": "code",
   "execution_count": null,
   "metadata": {
    "hidden": true,
    "lc_cell_meme": {
     "current": "7ed15610-e647-11ec-b295-02420a010016-3-3d68-09d5-c6bd",
     "next": "7ed156b0-e647-11ec-b295-02420a010016-3-23b0-93a8-25fd",
     "previous": "7ed15570-e647-11ec-b295-02420a010016-3-ed60-f75c-e94d"
    },
    "lc_wrapper": {}
   },
   "outputs": [],
   "source": [
    "# Unitの作成（同時に VCノードが作成される）\n",
    "unit = unit_group.create_unit('tljh-node', spec)"
   ]
  },
  {
   "cell_type": "markdown",
   "metadata": {
    "hidden": true,
    "lc_cell_meme": {
     "current": "7ed156b0-e647-11ec-b295-02420a010016-3-23b0-93a8-25fd",
     "next": "7ed1573c-e647-11ec-b295-02420a010016-3-b853-3fe6-b8e3",
     "previous": "7ed15610-e647-11ec-b295-02420a010016-3-3d68-09d5-c6bd"
    }
   },
   "source": [
    "### 疎通確認\n",
    "\n",
    "まず、ssh の `known_hosts` の設定を行います。\n",
    "\n",
    "その後、VCノードに対して`uname -a`を実行し、`ubuntu x86_64 Linux` が起動していることを確認します。起動していない場合は、`spec.image` に誤りがあります。本テンプレート下部にある「環境の削除」を実行、 `spec.image` を修正、全てのセルを `unfreeze` してから、最初から再実行してください。"
   ]
  },
  {
   "cell_type": "code",
   "execution_count": null,
   "metadata": {
    "hidden": true,
    "lc_cell_meme": {
     "current": "7ed1573c-e647-11ec-b295-02420a010016-3-b853-3fe6-b8e3",
     "next": "7ed157dc-e647-11ec-b295-02420a010016-3-9545-cb63-3d0d",
     "previous": "7ed156b0-e647-11ec-b295-02420a010016-3-23b0-93a8-25fd"
    },
    "lc_wrapper": {}
   },
   "outputs": [],
   "source": [
    "# unit_group.find_ip_addresses() は UnitGroup内の全VCノードのIPアドレスのリストを返します\n",
    "ip_address = unit_group.find_ip_addresses(node_state='RUNNING')[0] # 今は１つのVCノードのみ起動しているので [0] で最初の要素を取り出す\n",
    "print(ip_address)\n",
    "\n",
    "# ssh 設定\n",
    "!touch ~/.ssh/known_hosts\n",
    "!ssh-keygen -R {ip_address}    # ~/.ssh/known_hosts から古いホストキーを削除する\n",
    "!ssh-keyscan -H {ip_address} >> ~/.ssh/known_hosts    # ホストキーの登録\n",
    "\n",
    "# システムの確認\n",
    "!ssh root@{ip_address} uname -a"
   ]
  },
  {
   "cell_type": "markdown",
   "metadata": {
    "heading_collapsed": true,
    "lc_cell_meme": {
     "current": "7ed157dc-e647-11ec-b295-02420a010016-3-9545-cb63-3d0d",
     "next": "7ed15872-e647-11ec-b295-02420a010016-3-c9ea-9e56-b3c0",
     "previous": "7ed1573c-e647-11ec-b295-02420a010016-3-b853-3fe6-b8e3"
    }
   },
   "source": [
    "## TLJH (The Littlest JupyterHub) 環境の構築\n",
    "\n",
    "VCノード上に、本ハンズオン用に用意したThe Littlest JupyterHubのコンテナイメージを使用して環境を構築します。"
   ]
  },
  {
   "cell_type": "markdown",
   "metadata": {
    "hidden": true,
    "lc_cell_meme": {
     "current": "7ed15872-e647-11ec-b295-02420a010016-3-c9ea-9e56-b3c0",
     "next": "7ed15912-e647-11ec-b295-02420a010016-3-39ab-27b7-f553",
     "previous": "7ed157dc-e647-11ec-b295-02420a010016-3-9545-cb63-3d0d"
    }
   },
   "source": [
    "### TLJHコンテナイメージの取得\n",
    "\n",
    "VCノード上にコンテナイメージを取得するために `docker pull` を実行します。"
   ]
  },
  {
   "cell_type": "code",
   "execution_count": null,
   "metadata": {
    "hidden": true,
    "lc_cell_meme": {
     "current": "7ed15912-e647-11ec-b295-02420a010016-3-39ab-27b7-f553",
     "next": "7ed159a8-e647-11ec-b295-02420a010016-3-f258-c1fa-c6fb",
     "previous": "7ed15872-e647-11ec-b295-02420a010016-3-c9ea-9e56-b3c0"
    },
    "lc_wrapper": {}
   },
   "outputs": [],
   "source": [
    "docker_image = 'public.ecr.aws/niivcp/vcp/tljh:handson2206'\n",
    "\n",
    "# イメージの取得\n",
    "!ssh root@{ip_address} /usr/local/bin/docker pull {docker_image}\n",
    "\n",
    "# イメージの確認\n",
    "!ssh root@{ip_address} /usr/local/bin/docker images"
   ]
  },
  {
   "cell_type": "markdown",
   "metadata": {
    "hidden": true,
    "lc_cell_meme": {
     "current": "7ed159a8-e647-11ec-b295-02420a010016-3-f258-c1fa-c6fb",
     "next": "7ed15a3e-e647-11ec-b295-02420a010016-3-efbd-99db-c973",
     "previous": "7ed15912-e647-11ec-b295-02420a010016-3-39ab-27b7-f553"
    }
   },
   "source": [
    "### TLJHコンテナの起動\n",
    "\n",
    "pullしたイメージを使ってTLJHコンテナを起動します。"
   ]
  },
  {
   "cell_type": "code",
   "execution_count": null,
   "metadata": {
    "hidden": true,
    "lc_cell_meme": {
     "current": "7ed15a3e-e647-11ec-b295-02420a010016-3-efbd-99db-c973",
     "next": "7ed15ad4-e647-11ec-b295-02420a010016-3-cfb4-716e-1f43",
     "previous": "7ed159a8-e647-11ec-b295-02420a010016-3-f258-c1fa-c6fb"
    },
    "lc_wrapper": {}
   },
   "outputs": [],
   "source": [
    "# コンテナ実行 (docker run)\n",
    "!ssh root@{ip_address} /usr/local/bin/docker run -d --privileged --net=host --name tljh {docker_image}\n",
    "\n",
    "# 起動状態の確認 (docker ps)\n",
    "!ssh root@{ip_address} /usr/local/bin/docker ps"
   ]
  },
  {
   "cell_type": "markdown",
   "metadata": {
    "hidden": true,
    "lc_cell_meme": {
     "current": "7ed15ad4-e647-11ec-b295-02420a010016-3-cfb4-716e-1f43",
     "next": "7ed15b6a-e647-11ec-b295-02420a010016-3-fa5a-57e7-a0dd",
     "previous": "7ed15a3e-e647-11ec-b295-02420a010016-3-efbd-99db-c973"
    }
   },
   "source": [
    "### TLJH 管理者ユーザ (teacher) の作成\n",
    "\n",
    "TLJH に管理者としてログインするためにアカウントを作成します。\n",
    "\n",
    "- 本ハンズオンでは、管理者ユーザを `admin-user01` という名前で作成します。\n",
    "- TLJHコンテナ上で `tljh-config` コマンドを実行することでユーザ追加だけでなく他の様々な設定を行うことができます。\n",
    "- cf. <https://tljh.jupyter.org/en/latest/topic/tljh-config.html>"
   ]
  },
  {
   "cell_type": "code",
   "execution_count": null,
   "metadata": {
    "hidden": true,
    "lc_cell_meme": {
     "current": "7ed15b6a-e647-11ec-b295-02420a010016-3-fa5a-57e7-a0dd",
     "next": "7ed15bf6-e647-11ec-b295-02420a010016-3-0df8-857d-7d6f",
     "previous": "7ed15ad4-e647-11ec-b295-02420a010016-3-cfb4-716e-1f43"
    },
    "lc_wrapper": {}
   },
   "outputs": [],
   "source": [
    "# admin-user01 を管理者ユーザとして追加\n",
    "!ssh root@{ip_address} /usr/local/bin/docker exec tljh \\\n",
    "    tljh-config add-item users.admin admin-user01\n",
    "\n",
    "# 現在の設定内容を確認\n",
    "!ssh root@{ip_address} /usr/local/bin/docker exec tljh \\\n",
    "    tljh-config show"
   ]
  },
  {
   "cell_type": "markdown",
   "metadata": {
    "hidden": true,
    "lc_cell_meme": {
     "current": "7ed15bf6-e647-11ec-b295-02420a010016-3-0df8-857d-7d6f",
     "execution_end_time": "2022-06-05T05:16:34.496590Z",
     "next": "7ed15caa-e647-11ec-b295-02420a010016-3-4384-383f-b029",
     "previous": "7ed15b6a-e647-11ec-b295-02420a010016-3-fa5a-57e7-a0dd"
    },
    "lc_wrapper": {}
   },
   "source": [
    "実行中のTLJHに設定内容を反映するために `tljh-config reload` コマンドを実行します。"
   ]
  },
  {
   "cell_type": "code",
   "execution_count": null,
   "metadata": {
    "hidden": true,
    "lc_cell_meme": {
     "current": "7ed15caa-e647-11ec-b295-02420a010016-3-4384-383f-b029",
     "next": "7ed15d40-e647-11ec-b295-02420a010016-3-f78a-0f2b-1b2b",
     "previous": "7ed15bf6-e647-11ec-b295-02420a010016-3-0df8-857d-7d6f"
    },
    "lc_wrapper": {}
   },
   "outputs": [],
   "source": [
    "!ssh root@{ip_address} /usr/local/bin/docker exec tljh \\\n",
    "    tljh-config reload"
   ]
  },
  {
   "cell_type": "markdown",
   "metadata": {
    "hidden": true,
    "lc_cell_meme": {
     "current": "7ed15d40-e647-11ec-b295-02420a010016-3-f78a-0f2b-1b2b",
     "next": "7ed15dcc-e647-11ec-b295-02420a010016-3-99a2-8fd3-4f13",
     "previous": "7ed15caa-e647-11ec-b295-02420a010016-3-4384-383f-b029"
    }
   },
   "source": [
    "#### TLJH の Web インターフェースのカスタマイズ\n",
    "\n",
    "今、このノートブックを実行しているJupyterNotebook環境と、構築したTLJHのJupyterHubのWebインターフェースを識別しやすくするために、TLJH側にカスタマイズしたCSSファイルを設定します。\n",
    "\n",
    "以下のセルを実行します。"
   ]
  },
  {
   "cell_type": "code",
   "execution_count": null,
   "metadata": {
    "hidden": true,
    "lc_cell_meme": {
     "current": "7ed15dcc-e647-11ec-b295-02420a010016-3-99a2-8fd3-4f13",
     "next": "7ed15e58-e647-11ec-b295-02420a010016-3-8f1e-71bd-c4cf",
     "previous": "7ed15d40-e647-11ec-b295-02420a010016-3-f78a-0f2b-1b2b"
    },
    "lc_wrapper": {}
   },
   "outputs": [],
   "source": [
    "!scp ./403/custom.css  root@{ip_address}:/tmp/\n",
    "!ssh root@{ip_address} /usr/local/bin/docker exec tljh mkdir -p /etc/skel/.jupyter/custom\n",
    "!ssh root@{ip_address} /usr/local/bin/docker cp /tmp/custom.css tljh:/etc/skel/.jupyter/custom/custom.css"
   ]
  },
  {
   "cell_type": "markdown",
   "metadata": {
    "lc_cell_meme": {
     "current": "7ed15e58-e647-11ec-b295-02420a010016-3-8f1e-71bd-c4cf",
     "next": "7ed15ee4-e647-11ec-b295-02420a010016-3-3a76-715f-d910",
     "previous": "7ed15dcc-e647-11ec-b295-02420a010016-3-99a2-8fd3-4f13"
    }
   },
   "source": [
    "## TLJH の管理と利用\n",
    "\n",
    "VCノード上に起動したTLJHにブラウザからアクセスし、Python実習環境として必要な作業を行います。"
   ]
  },
  {
   "cell_type": "markdown",
   "metadata": {
    "heading_collapsed": true,
    "lc_cell_meme": {
     "current": "7ed15ee4-e647-11ec-b295-02420a010016-3-3a76-715f-d910",
     "next": "94f2026a-1ee5-11ed-8ded-005056b02e0f-2-51e8-c7a3",
     "previous": "7ed15e58-e647-11ec-b295-02420a010016-3-8f1e-71bd-c4cf"
    }
   },
   "source": [
    "### 管理者ユーザとしてブラウザからログイン\n",
    "\n",
    "以下のセルを実行し、ログイン先URLを作成します。"
   ]
  },
  {
   "cell_type": "code",
   "execution_count": null,
   "metadata": {
    "hidden": true,
    "lc_cell_meme": {
     "current": "94f2026a-1ee5-11ed-8ded-005056b02e0f-2-51e8-c7a3",
     "next": "7ed1601a-e647-11ec-b295-02420a010016-3-db49-f3d2-989b",
     "previous": "7ed15ee4-e647-11ec-b295-02420a010016-3-3a76-715f-d910"
    }
   },
   "outputs": [],
   "source": [
    "myip = !curl -s -4 ifconfig.me\n",
    "grafana_url = \"http://{}/\".format(myip[0])\n",
    "print(grafana_url)"
   ]
  },
  {
   "cell_type": "markdown",
   "metadata": {
    "hidden": true,
    "lc_cell_meme": {
     "current": "7ed1601a-e647-11ec-b295-02420a010016-3-db49-f3d2-989b",
     "next": "7ed160b0-e647-11ec-b295-02420a010016-3-592f-423e-01ea",
     "previous": "94f2026a-1ee5-11ed-8ded-005056b02e0f-2-51e8-c7a3"
    }
   },
   "source": [
    "#### ログインパスワード設定\n",
    "\n",
    "初回ログイン時に入力したパスワードが以降のログインパスワードとして設定されます。\n",
    "\n",
    "![](images/403-tljh-login.png)"
   ]
  },
  {
   "cell_type": "markdown",
   "metadata": {
    "hidden": true,
    "lc_cell_meme": {
     "current": "7ed160b0-e647-11ec-b295-02420a010016-3-592f-423e-01ea",
     "next": "7ed16164-e647-11ec-b295-02420a010016-3-13fc-fc3e-bda4",
     "previous": "7ed1601a-e647-11ec-b295-02420a010016-3-db49-f3d2-989b"
    }
   },
   "source": [
    "#### 初期画面\n",
    "\n",
    "ログイン後の初期画面は、ファイルやディレクトリが1つもない状態となっています。\n",
    "\n",
    "![](images/403-tljh-filebrowser.png)"
   ]
  },
  {
   "cell_type": "markdown",
   "metadata": {
    "heading_collapsed": true,
    "lc_cell_meme": {
     "current": "7ed16164-e647-11ec-b295-02420a010016-3-13fc-fc3e-bda4",
     "next": "7ed16204-e647-11ec-b295-02420a010016-3-ee29-2020-0848",
     "previous": "7ed160b0-e647-11ec-b295-02420a010016-3-592f-423e-01ea"
    }
   },
   "source": [
    "### 一般ユーザ (student) アカウントの追加\n",
    "\n",
    "管理者用コントロールパネルの機能を利用し、管理者以外のユーザを追加します。"
   ]
  },
  {
   "cell_type": "markdown",
   "metadata": {
    "hidden": true,
    "lc_cell_meme": {
     "current": "7ed16204-e647-11ec-b295-02420a010016-3-ee29-2020-0848",
     "next": "7ed16290-e647-11ec-b295-02420a010016-3-8adc-2ca2-a6f3",
     "previous": "7ed16164-e647-11ec-b295-02420a010016-3-13fc-fc3e-bda4"
    }
   },
   "source": [
    "#### 画面右上の **Control Panel** ボタンを押す\n",
    "\n",
    "![](images/403-tljh-control_1.png)"
   ]
  },
  {
   "cell_type": "markdown",
   "metadata": {
    "hidden": true,
    "lc_cell_meme": {
     "current": "7ed16290-e647-11ec-b295-02420a010016-3-8adc-2ca2-a6f3",
     "next": "7ed16326-e647-11ec-b295-02420a010016-3-9fcd-e88c-426b",
     "previous": "7ed16204-e647-11ec-b295-02420a010016-3-ee29-2020-0848"
    }
   },
   "source": [
    "#### **Admin** メニューを選択する\n",
    "\n",
    "![](images/403-tljh-control_2.png)"
   ]
  },
  {
   "cell_type": "markdown",
   "metadata": {
    "hidden": true,
    "lc_cell_meme": {
     "current": "7ed16326-e647-11ec-b295-02420a010016-3-9fcd-e88c-426b",
     "next": "7ed163c6-e647-11ec-b295-02420a010016-3-c3ee-6742-c502",
     "previous": "7ed16290-e647-11ec-b295-02420a010016-3-8adc-2ca2-a6f3"
    }
   },
   "source": [
    "#### **Add Users** ボタンを押す\n",
    "\n",
    "![](images/403-tljh-control_3.png)"
   ]
  },
  {
   "cell_type": "markdown",
   "metadata": {
    "hidden": true,
    "lc_cell_meme": {
     "current": "7ed163c6-e647-11ec-b295-02420a010016-3-c3ee-6742-c502",
     "next": "7ed1645c-e647-11ec-b295-02420a010016-3-a61c-be38-e25a",
     "previous": "7ed16326-e647-11ec-b295-02420a010016-3-9fcd-e88c-426b"
    }
   },
   "source": [
    "#### アカウント名を入力して **Add Users** ボタンを押す\n",
    "\n",
    "- アカウント名は改行して複数入力することが可能\n",
    "\n",
    "![](images/403-tljh-addusers.png)"
   ]
  },
  {
   "cell_type": "markdown",
   "metadata": {
    "heading_collapsed": true,
    "lc_cell_meme": {
     "current": "7ed1645c-e647-11ec-b295-02420a010016-3-a61c-be38-e25a",
     "next": "7ed164fc-e647-11ec-b295-02420a010016-3-c645-e9c6-19cd",
     "previous": "7ed163c6-e647-11ec-b295-02420a010016-3-c3ee-6742-c502"
    }
   },
   "source": [
    "### Python パッケージの追加\n",
    "\n",
    "Python実習環境として利用するために、ライブラリ・パッケージの追加を試します。\n",
    "\n",
    "- cf. <https://tljh.jupyter.org/en/latest/howto/env/user-environment.html#installing-pip-packages>\n",
    "\n",
    "<p>\n",
    "    \n",
    "ここでは以下の [pip](https://pypi.org/project/pip/) パッケージをインストールします。\n",
    "\n",
    "- [numpy](https://numpy.org/)\n",
    "- [matplotlib](https://matplotlib.org/)\n",
    "- [pandas](https://pandas.pydata.org/)\n"
   ]
  },
  {
   "cell_type": "markdown",
   "metadata": {
    "hidden": true,
    "lc_cell_meme": {
     "current": "7ed164fc-e647-11ec-b295-02420a010016-3-c645-e9c6-19cd",
     "execution_end_time": "2022-06-05T06:56:32.908717Z",
     "next": "7ed16592-e647-11ec-b295-02420a010016-3-874d-26e1-98ff",
     "previous": "7ed1645c-e647-11ec-b295-02420a010016-3-a61c-be38-e25a"
    },
    "lc_wrapper": {}
   },
   "source": [
    "#### 管理者ユーザとしてログインしてTerminalを開く\n",
    "\n",
    "![](images/403-tljh-terminal.png)"
   ]
  },
  {
   "cell_type": "markdown",
   "metadata": {
    "hidden": true,
    "lc_cell_meme": {
     "current": "7ed16592-e647-11ec-b295-02420a010016-3-874d-26e1-98ff",
     "next": "7ed16632-e647-11ec-b295-02420a010016-3-5a41-9ca7-7e7d",
     "previous": "7ed164fc-e647-11ec-b295-02420a010016-3-c645-e9c6-19cd"
    }
   },
   "source": [
    "#### Terminalで以下のコマンドを実行する\n",
    "\n",
    "```\n",
    "sudo -E pip install numpy matplotlib pandas\n",
    "```\n",
    "\n",
    "Terminal を使用せずに、以下のセルでも同じコマンド操作が可能です。"
   ]
  },
  {
   "cell_type": "code",
   "execution_count": null,
   "metadata": {
    "hidden": true,
    "lc_cell_meme": {
     "current": "7ed16632-e647-11ec-b295-02420a010016-3-5a41-9ca7-7e7d",
     "next": "7ed166d2-e647-11ec-b295-02420a010016-3-1269-7fbc-7c43",
     "previous": "7ed16592-e647-11ec-b295-02420a010016-3-874d-26e1-98ff"
    },
    "lc_wrapper": {}
   },
   "outputs": [],
   "source": [
    "!ssh root@{ip_address} /usr/local/bin/docker exec -u jupyter-admin-user01 tljh \\\n",
    "  sudo -E /opt/tljh/user/bin/pip install numpy matplotlib pandas"
   ]
  },
  {
   "cell_type": "markdown",
   "metadata": {
    "hidden": true,
    "lc_cell_meme": {
     "current": "7ed166d2-e647-11ec-b295-02420a010016-3-1269-7fbc-7c43",
     "next": "7ed16772-e647-11ec-b295-02420a010016-3-474d-3633-3d3d",
     "previous": "7ed16632-e647-11ec-b295-02420a010016-3-5a41-9ca7-7e7d"
    }
   },
   "source": [
    "#### インストールできたことを確認する\n",
    "\n",
    "```\n",
    "sudo -E pip list | grep -e numpy -e matplotlib -e pandas\n",
    "```\n",
    "\n",
    "  - 正常にインストールできていれば、以下のようにバージョン情報が出力される。\n",
    "\n",
    "    ```\n",
    "    matplotlib             3.5.2\n",
    "    matplotlib-inline      0.1.3\n",
    "    numpy                  1.22.4\n",
    "    pandas                 1.4.2\n",
    "    ```\n",
    "\n",
    "Terminal を使用せずに、以下のセルでも同じコマンド操作が可能です。"
   ]
  },
  {
   "cell_type": "code",
   "execution_count": null,
   "metadata": {
    "hidden": true,
    "lc_cell_meme": {
     "current": "7ed16772-e647-11ec-b295-02420a010016-3-474d-3633-3d3d",
     "next": "7ed16808-e647-11ec-b295-02420a010016-3-f994-ff44-993b",
     "previous": "7ed166d2-e647-11ec-b295-02420a010016-3-1269-7fbc-7c43"
    },
    "lc_wrapper": {}
   },
   "outputs": [],
   "source": [
    "!ssh root@{ip_address} /usr/local/bin/docker exec -u jupyter-admin-user01 tljh \\\n",
    "  sudo -E /opt/tljh/user/bin/pip list | grep -e numpy -e matplotlib -e pandas"
   ]
  },
  {
   "cell_type": "markdown",
   "metadata": {
    "heading_collapsed": true,
    "lc_cell_meme": {
     "current": "7ed16808-e647-11ec-b295-02420a010016-3-f994-ff44-993b",
     "next": "7ed1689e-e647-11ec-b295-02420a010016-3-dd2f-8721-acc8",
     "previous": "7ed16772-e647-11ec-b295-02420a010016-3-474d-3633-3d3d"
    }
   },
   "source": [
    "### 教材Notebookの配布（ファイル共有）\n",
    "\n",
    "実習用に用意された教材がある場合、TLJH環境の各ユーザから読み込み専用の共有フォルダにアクセスさせることで教材配布が行えるようにします。\n",
    "\n",
    "- cf. <https://tljh.jupyter.org/en/latest/howto/content/share-data.html#option-2-create-a-read-only-shared-folder-for-data>"
   ]
  },
  {
   "cell_type": "markdown",
   "metadata": {
    "hidden": true,
    "lc_cell_meme": {
     "current": "7ed1689e-e647-11ec-b295-02420a010016-3-dd2f-8721-acc8",
     "next": "7ed16948-e647-11ec-b295-02420a010016-3-8f3c-9f27-1932",
     "previous": "7ed16808-e647-11ec-b295-02420a010016-3-f994-ff44-993b"
    }
   },
   "source": [
    "#### 管理者ユーザのTerminalで共有フォルダを作成する\n",
    "\n",
    "- 管理者ユーザとしてログインし、Terminal からコマンドを実行して共有フォルダを作成します。\n",
    "- 共有フォルダは `/srv/data/` 以下であれば任意のフォルダ名が使用できます。\n",
    "\n",
    "```\n",
    "sudo mkdir -p /srv/data/shared\n",
    "```\n",
    "\n",
    "Terminal を使用せずに、以下のセルでも同じコマンド操作が可能です。"
   ]
  },
  {
   "cell_type": "code",
   "execution_count": null,
   "metadata": {
    "hidden": true,
    "lc_cell_meme": {
     "current": "7ed16948-e647-11ec-b295-02420a010016-3-8f3c-9f27-1932",
     "next": "7ed169de-e647-11ec-b295-02420a010016-3-8939-2979-0f06",
     "previous": "7ed1689e-e647-11ec-b295-02420a010016-3-dd2f-8721-acc8"
    },
    "lc_wrapper": {}
   },
   "outputs": [],
   "source": [
    "!ssh root@{ip_address} /usr/local/bin/docker exec tljh mkdir -p /srv/data/shared"
   ]
  },
  {
   "cell_type": "markdown",
   "metadata": {
    "hidden": true,
    "lc_cell_meme": {
     "current": "7ed169de-e647-11ec-b295-02420a010016-3-8939-2979-0f06",
     "next": "7ed16a74-e647-11ec-b295-02420a010016-3-e966-5874-0b03",
     "previous": "7ed16948-e647-11ec-b295-02420a010016-3-8f3c-9f27-1932"
    }
   },
   "source": [
    "#### ユーザのホームディレクトリに共有フォルダへのリンクを作成する\n",
    "\n",
    "- `/etc/skel/` ディレクトリに共有フォルダへのシンボリックリンクを作成します。  \n",
    "  これにより、新規に追加したユーザのホームディレクトリに共有フォルダが表示されます。\n",
    "  * ユーザ追加後、一度もログインしたことがないユーザは初回ログイン時に共有フォルダが表示されます。\n",
    "- 管理者ユーザとしてログインし、 Terminalから以下のコマンドを実行します。\n",
    "\n",
    "```\n",
    "sudo ln -s /srv/data/shared /etc/skel/\n",
    "```\n",
    "\n",
    "Terminal を使用せずに、以下のセルでも同じコマンド操作が可能です。"
   ]
  },
  {
   "cell_type": "code",
   "execution_count": null,
   "metadata": {
    "hidden": true,
    "lc_cell_meme": {
     "current": "7ed16a74-e647-11ec-b295-02420a010016-3-e966-5874-0b03",
     "next": "7ed16b1e-e647-11ec-b295-02420a010016-3-a1ac-b19a-813a",
     "previous": "7ed169de-e647-11ec-b295-02420a010016-3-8939-2979-0f06"
    },
    "lc_wrapper": {}
   },
   "outputs": [],
   "source": [
    "!ssh root@{ip_address} /usr/local/bin/docker exec tljh ln -sf /srv/data/shared /etc/skel/"
   ]
  },
  {
   "cell_type": "markdown",
   "metadata": {
    "hidden": true,
    "lc_cell_meme": {
     "current": "7ed16b1e-e647-11ec-b295-02420a010016-3-a1ac-b19a-813a",
     "next": "7ed16baa-e647-11ec-b295-02420a010016-3-9f7b-84d0-2004",
     "previous": "7ed16a74-e647-11ec-b295-02420a010016-3-e966-5874-0b03"
    }
   },
   "source": [
    "#### TLJH環境の共有フォルダにファイルを配置する\n",
    "\n",
    "本ハンズオン向けにサンプルのNotebookファイル [sample-notebook.ipynb](./403/sample-notebook.ipynb) を用意したので、これをJupyterHubにコピーします。\n",
    "\n",
    "以下のセルを実行することで、ここからVCノードを経由してTLJHコンテナ上の共有フォルダにコピーを行います。"
   ]
  },
  {
   "cell_type": "code",
   "execution_count": null,
   "metadata": {
    "hidden": true,
    "lc_cell_meme": {
     "current": "7ed16baa-e647-11ec-b295-02420a010016-3-9f7b-84d0-2004",
     "next": "7ed16c36-e647-11ec-b295-02420a010016-3-688d-f754-58d7",
     "previous": "7ed16b1e-e647-11ec-b295-02420a010016-3-a1ac-b19a-813a"
    },
    "lc_wrapper": {}
   },
   "outputs": [],
   "source": [
    "filename = 'sample-notebook.ipynb'\n",
    "\n",
    "# このNotebookからVCノードへのコピー\n",
    "!scp ./403/{filename}  root@{ip_address}:/tmp/{filename}\n",
    "\n",
    "# VCノードからTLJHコンテナへのコピー\n",
    "!ssh root@{ip_address} /usr/local/bin/docker cp /tmp/{filename} tljh:/srv/data/shared/{filename}"
   ]
  },
  {
   "cell_type": "markdown",
   "metadata": {
    "heading_collapsed": true,
    "lc_cell_meme": {
     "current": "7ed16c36-e647-11ec-b295-02420a010016-3-688d-f754-58d7",
     "next": "7ed16d6c-e647-11ec-b295-02420a010016-3-ad3c-5116-99ed",
     "previous": "7ed16baa-e647-11ec-b295-02420a010016-3-9f7b-84d0-2004"
    }
   },
   "source": [
    "### 一般ユーザとしてログインし、共有フォルダを開く\n",
    "\n",
    "一般ユーザとしてTLJHにログインすると、ホームディレクトリに共有フォルダが表示されます。\n",
    "\n",
    "> 管理者ユーザとしてログイン中の場合、一度ログアウトする必要があります。"
   ]
  },
  {
   "cell_type": "markdown",
   "metadata": {
    "lc_cell_meme": {
     "current": "7ed16d6c-e647-11ec-b295-02420a010016-3-ad3c-5116-99ed",
     "next": "7ed16e02-e647-11ec-b295-02420a010016-3-fb62-9337-b9ea",
     "previous": "7ed16c36-e647-11ec-b295-02420a010016-3-688d-f754-58d7"
    }
   },
   "source": [
    "## (参考) 応用編\n",
    "\n",
    "ここでは、TLJH の運用環境をさらにカスタマイズするためのいくつかの方法を紹介します。"
   ]
  },
  {
   "cell_type": "markdown",
   "metadata": {
    "heading_collapsed": true,
    "lc_cell_meme": {
     "current": "7ed16e02-e647-11ec-b295-02420a010016-3-fb62-9337-b9ea",
     "next": "7ed16e98-e647-11ec-b295-02420a010016-3-97e8-f125-d035",
     "previous": "7ed16d6c-e647-11ec-b295-02420a010016-3-ad3c-5116-99ed"
    }
   },
   "source": [
    "### Jupyter Notebook 拡張機能の導入\n",
    "\n",
    "そのままでも十分使いやすいJupyter Notebookですが、 `jupyter_contrib_nbextensions` というライブラリを導入することで様々な拡張機能が使えるようになり、より便利になります。\n",
    "\n",
    "- cf. <https://tljh.jupyter.org/en/latest/howto/admin/enable-extensions.html>"
   ]
  },
  {
   "cell_type": "markdown",
   "metadata": {
    "hidden": true,
    "lc_cell_meme": {
     "current": "7ed16e98-e647-11ec-b295-02420a010016-3-97e8-f125-d035",
     "next": "7ed16f38-e647-11ec-b295-02420a010016-3-9230-baaa-764b",
     "previous": "7ed16e02-e647-11ec-b295-02420a010016-3-fb62-9337-b9ea"
    }
   },
   "source": [
    "#### 管理者ユーザのTerminalでコマンド実行\n",
    "\n",
    "管理者ユーザとしてログインし、Terminal から以下のコマンドを実行します。\n",
    "\n",
    "1.  pip パッケージをインストールする\n",
    "\n",
    "```\n",
    "sudo -E pip install jupyter_contrib_nbextensions\n",
    "```\n",
    "\n",
    "2. 拡張機能のスタイルファイルをJupyter環境に追加する\n",
    "\n",
    "```\n",
    "sudo -E jupyter contrib nbextension install --sys-prefix\n",
    "```\n",
    "\n",
    "3. [Table of Contents (2)](https://jupyter-contrib-nbextensions.readthedocs.io/en/latest/nbextensions/toc2/README.html) （目次表示） の拡張機能を有効化する\n",
    "\n",
    "```\n",
    "sudo -E jupyter nbextension enable toc2/main --sys-prefix\n",
    "```\n",
    "\n",
    "4. 現在有効な拡張機能を確認する\n",
    "\n",
    "```\n",
    "jupyter nbextension list\n",
    "```\n",
    "\n",
    "Terminal を使用せずに、以下のセルでも同じコマンド操作が可能です。"
   ]
  },
  {
   "cell_type": "code",
   "execution_count": null,
   "metadata": {
    "hidden": true,
    "lc_cell_meme": {
     "current": "7ed16f38-e647-11ec-b295-02420a010016-3-9230-baaa-764b",
     "next": "7ed16fc4-e647-11ec-b295-02420a010016-3-50f8-1431-2356",
     "previous": "7ed16e98-e647-11ec-b295-02420a010016-3-97e8-f125-d035"
    },
    "lc_wrapper": {}
   },
   "outputs": [],
   "source": [
    "# パッケージのインストール\n",
    "!ssh root@{ip_address} /usr/local/bin/docker exec -u jupyter-admin-user01 tljh \\\n",
    "  sudo -E /opt/tljh/user/bin/pip install jupyter_contrib_nbextensions\n",
    "\n",
    "# 拡張機能の追加\n",
    "!ssh root@{ip_address} /usr/local/bin/docker exec -u jupyter-admin-user01 tljh \\\n",
    "  sudo -E /opt/tljh/user/bin/jupyter contrib nbextension install --sys-prefix\n",
    "\n",
    "# 拡張機能の有効化\n",
    "!ssh root@{ip_address} /usr/local/bin/docker exec -u jupyter-admin-user01 tljh \\\n",
    "  sudo -E /opt/tljh/user/bin/jupyter nbextension enable toc2/main --sys-prefix\n",
    "\n",
    "# 現在有効な拡張機能の確認\n",
    "!ssh root@{ip_address} /usr/local/bin/docker exec -u jupyter-admin-user01 tljh \\\n",
    "  /opt/tljh/user/bin/jupyter nbextension list"
   ]
  },
  {
   "cell_type": "markdown",
   "metadata": {
    "heading_collapsed": true,
    "lc_cell_meme": {
     "current": "7ed16fc4-e647-11ec-b295-02420a010016-3-50f8-1431-2356",
     "next": "7ed17050-e647-11ec-b295-02420a010016-3-ee23-ba9d-aa63",
     "previous": "7ed16f38-e647-11ec-b295-02420a010016-3-9230-baaa-764b"
    }
   },
   "source": [
    "### 各ユーザのNotebookサーバのリソース制限\n",
    "\n",
    "各ユーザが使用できる最大メモリ量やCPUを管理者が `tljh-config` コマンドで設定して制限することができます。\n",
    "\n",
    "- cf. <https://tljh.jupyter.org/en/latest/topic/tljh-config.html#user-server-limits>"
   ]
  },
  {
   "cell_type": "markdown",
   "metadata": {
    "hidden": true,
    "lc_cell_meme": {
     "current": "7ed17050-e647-11ec-b295-02420a010016-3-ee23-ba9d-aa63",
     "next": "7ed170fa-e647-11ec-b295-02420a010016-3-c9ea-ce18-c778",
     "previous": "7ed16fc4-e647-11ec-b295-02420a010016-3-50f8-1431-2356"
    }
   },
   "source": [
    "#### メモリ制限\n",
    "\n",
    "個々のユーザが使用可能な最大メモリ量を指定します。  \n",
    "管理者ユーザとしてログインし、Terminal から以下のコマンドを実行します。\n",
    "\n",
    "```\n",
    "sudo tljh-config set limits.memory 1G\n",
    "```\n",
    "\n",
    "- `None` を指定すると、メモリ制限は無効化される。"
   ]
  },
  {
   "cell_type": "markdown",
   "metadata": {
    "hidden": true,
    "lc_cell_meme": {
     "current": "7ed170fa-e647-11ec-b295-02420a010016-3-c9ea-ce18-c778",
     "next": "7ed17190-e647-11ec-b295-02420a010016-3-4704-cd96-a2e4",
     "previous": "7ed17050-e647-11ec-b295-02420a010016-3-ee23-ba9d-aa63"
    }
   },
   "source": [
    "#### CPU制限\n",
    "\n",
    "各ユーザが使用可能なCPUコアの合計を指定します。  \n",
    "管理者ユーザとしてログインし、Terminal から以下のコマンドを実行します。\n",
    "\n",
    "```\n",
    "sudo tljh-config set limits.cpu 2\n",
    "```\n",
    "\n",
    "- `2` の場合、2個のCPUをフルに使用できることを表す。 `0.5` は、1個のCPUの半分を表す。"
   ]
  },
  {
   "cell_type": "markdown",
   "metadata": {
    "hidden": true,
    "lc_cell_meme": {
     "current": "7ed17190-e647-11ec-b295-02420a010016-3-4704-cd96-a2e4",
     "next": "7ed17348-e647-11ec-b295-02420a010016-3-a27a-9f40-1c72",
     "previous": "7ed170fa-e647-11ec-b295-02420a010016-3-c9ea-ce18-c778"
    }
   },
   "source": [
    "#### リソース制限設定の適用\n",
    "\n",
    "実行中のTLJH環境に設定を反映させるためには、管理者ユーザのTerminalから以下のコマンドを実行します。\n",
    "\n",
    "1. 確認\n",
    "\n",
    "```\n",
    "sudo tljh-config show\n",
    "```\n",
    "\n",
    "2. 適用\n",
    "\n",
    "```\n",
    "sudo tljh-config reload\n",
    "```"
   ]
  },
  {
   "cell_type": "markdown",
   "metadata": {
    "heading_collapsed": true,
    "lc_cell_meme": {
     "current": "7ed17348-e647-11ec-b295-02420a010016-3-a27a-9f40-1c72",
     "next": "7ed173d4-e647-11ec-b295-02420a010016-3-d1f0-e3e5-9f04",
     "previous": "7ed17190-e647-11ec-b295-02420a010016-3-4704-cd96-a2e4"
    }
   },
   "source": [
    "## 環境の削除\n",
    "\n",
    "ここまで作成した全てのリソース（UnitGroup, Unit、VCノード）を削除します。  \n",
    "この操作を行うことで AWS EC2インスタンスやAzure VMなどのクラウドに作成したリソースが削除されます。"
   ]
  },
  {
   "cell_type": "code",
   "execution_count": null,
   "metadata": {
    "hidden": true,
    "lc_cell_meme": {
     "current": "7ed173d4-e647-11ec-b295-02420a010016-3-d1f0-e3e5-9f04",
     "next": "7ed17460-e647-11ec-b295-02420a010016-3-caed-ab3b-44d6",
     "previous": "7ed17348-e647-11ec-b295-02420a010016-3-a27a-9f40-1c72"
    },
    "lc_wrapper": {}
   },
   "outputs": [],
   "source": [
    "unit_group.cleanup()"
   ]
  },
  {
   "cell_type": "markdown",
   "metadata": {
    "hidden": true,
    "lc_cell_meme": {
     "current": "7ed17460-e647-11ec-b295-02420a010016-3-caed-ab3b-44d6",
     "next": "7ed174ec-e647-11ec-b295-02420a010016-3-6da3-4cc6-5c27",
     "previous": "7ed173d4-e647-11ec-b295-02420a010016-3-d1f0-e3e5-9f04"
    }
   },
   "source": [
    "削除後の状態を確認します。"
   ]
  },
  {
   "cell_type": "code",
   "execution_count": null,
   "metadata": {
    "hidden": true,
    "lc_cell_meme": {
     "current": "7ed174ec-e647-11ec-b295-02420a010016-3-6da3-4cc6-5c27",
     "next": "7ed17578-e647-11ec-b295-02420a010016-3-e9cb-25bf-7c78",
     "previous": "7ed17460-e647-11ec-b295-02420a010016-3-caed-ab3b-44d6"
    },
    "lc_wrapper": {}
   },
   "outputs": [],
   "source": [
    "# UnitGroupの一覧を DataFrame で表示する\n",
    "vcp.df_ugroups()"
   ]
  },
  {
   "cell_type": "code",
   "execution_count": null,
   "metadata": {
    "hidden": true,
    "lc_cell_meme": {
     "current": "7ed17578-e647-11ec-b295-02420a010016-3-e9cb-25bf-7c78",
     "next": null,
     "previous": "7ed174ec-e647-11ec-b295-02420a010016-3-6da3-4cc6-5c27"
    },
    "lc_wrapper": {}
   },
   "outputs": [],
   "source": [
    "# UnitGroup強制削除\n",
    "# UnitGroup作成後、エラーが発生するなど強制的に削除する必要が生じた場合のみ、コメントを外して利用します。\n",
    "# ugroup = vcp.get_ugroup('handson403')\n",
    "# ugroup.cleanup()"
   ]
  }
 ],
 "metadata": {
  "kernelspec": {
   "display_name": "Python 3",
   "language": "python",
   "name": "python3"
  },
  "language_info": {
   "file_extension": ".py",
   "mimetype": "text/x-python",
   "name": "python",
   "nbconvert_exporter": "python",
   "pygments_lexer": "ipython3",
   "version": "3.10.4"
  },
  "toc": {
   "base_numbering": 1,
   "nav_menu": {},
   "number_sections": true,
   "sideBar": true,
   "skip_h1_title": true,
   "title_cell": "Table of Contents",
   "title_sidebar": "Contents",
   "toc_cell": false,
   "toc_position": {
    "height": "calc(100% - 180px)",
    "left": "10px",
    "top": "150px",
    "width": "357px"
   },
   "toc_section_display": true,
   "toc_window_display": true
  }
 },
 "nbformat": 4,
 "nbformat_minor": 4
}
