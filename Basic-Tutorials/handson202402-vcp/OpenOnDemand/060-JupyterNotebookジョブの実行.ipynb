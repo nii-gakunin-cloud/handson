{
 "cells": [
  {
   "cell_type": "markdown",
   "metadata": {},
   "source": [
    "# Jupyter Notebookジョブの実行\n",
    "\n",
    "このnotebookでは、[050-JupyterNotebookのセットアップ](./050-JupyterNotebookのセットアップ.ipynb)まででセットアップしたJupyter Notebook Appを実行する手順について示します。"
   ]
  },
  {
   "cell_type": "markdown",
   "metadata": {},
   "source": [
    "## 実行方法"
   ]
  },
  {
   "cell_type": "markdown",
   "metadata": {},
   "source": [
    "Open OnDemandのダッシュボードのメニューから、\"Interactiva Apps > Jupyter Notebook\"を選択します。\n",
    "\n",
    "![](./images/jupyter-start.png)"
   ]
  },
  {
   "cell_type": "markdown",
   "metadata": {},
   "source": [
    "Jupyter Notebookジョブのパラメータを指定するフォームが表示されます。単にNotebookを使用する場合には変更は不要ですので、\"Launch\"ボタンをクリックします。\n",
    "\n",
    "![](./images/jupyter-launch.png)"
   ]
  },
  {
   "cell_type": "markdown",
   "metadata": {},
   "source": [
    "Jupyter Notebookサーバが計算ノードで起動するのを待機する画面に遷移します。\n",
    "\n",
    "![](./images/jupyter-queued.png)"
   ]
  },
  {
   "cell_type": "markdown",
   "metadata": {},
   "source": [
    "計算ノードでJupyter Notebookサーバが起動すると、サーバへのリンクが表示されます。\"Connect to Jupyter\"をクリックします。\n",
    "\n",
    "![](./images/jupyter-running.png)"
   ]
  },
  {
   "cell_type": "markdown",
   "metadata": {},
   "source": [
    "なお、上の画面の`Host: >_(計算ノード)`のボタンは、ジョブに割り当てられたノードにSSHログインするターミナルを開くためのものですが、ここまでのセットアップではクリックしても機能しません。一般に、ジョブ実行ユーザに対し、計算ノードへの直接SSHログインを許可するのは望ましくなく、Open OnDemandでもデフォルトでは無効化されているためです。このボタンを機能させるためには、Open OnDemandのドキュメントの[Set SSH Allowlist](https://osc.github.io/ood-documentation/latest/customization.html#set-ssh-allowlist)に従って、`/etc/ood/config/apps/shell/env`ファイルに設定を追加する必要があります。"
   ]
  },
  {
   "cell_type": "markdown",
   "metadata": {},
   "source": [
    "Jupyter Notebookのトップページが表示されます。\n",
    "\n",
    "![](./images/jupyter-homepage.png)"
   ]
  },
  {
   "cell_type": "markdown",
   "metadata": {},
   "source": [
    "## ジョブ終了方法"
   ]
  },
  {
   "cell_type": "markdown",
   "metadata": {},
   "source": [
    "Jupyter Notebookジョブは、以下の方法で終了させることができます。\n",
    "\n",
    "* Jupyter Notebookのトップページの\"Quit\"ボタンをクリック\n",
    "* Open OnDemandの\"My Interactive Sessions\"の対応するセッションにある\"Delete\"ボタンをクリック\n",
    "* Open OnDemandの\"Active Jobs\"の画面の、対応するジョブにある\"Delete\"ボタンをクリック"
   ]
  },
  {
   "cell_type": "markdown",
   "metadata": {},
   "source": [
    "## その他"
   ]
  },
  {
   "cell_type": "markdown",
   "metadata": {},
   "source": [
    "Open OnDemandの\"My Interactive Sessions\"の画面で、対応するセッションIDのリンクをクリックすると、Jupyter Notebookサーバを起動するにあたり使用されるファイルや出力されたログなどがあるディレクトリの内容が表示されます。\n",
    "\n",
    "この中にある`output.log`がログファイルです。動作に問題がある場合はこのファイルの内容を参照することで、問題の原因調査をすることができます。"
   ]
  }
 ],
 "metadata": {
  "kernelspec": {
   "display_name": "Python 3",
   "language": "python",
   "name": "python3"
  },
  "language_info": {
   "file_extension": ".py",
   "mimetype": "text/x-python",
   "name": "python",
   "nbconvert_exporter": "python",
   "pygments_lexer": "ipython3",
   "version": "3.8.6"
  },
  "toc": {
   "base_numbering": 1,
   "nav_menu": {},
   "number_sections": true,
   "sideBar": true,
   "skip_h1_title": true,
   "title_cell": "Table of Contents",
   "title_sidebar": "Contents",
   "toc_cell": false,
   "toc_position": {},
   "toc_section_display": true,
   "toc_window_display": true
  }
 },
 "nbformat": 4,
 "nbformat_minor": 4
}
