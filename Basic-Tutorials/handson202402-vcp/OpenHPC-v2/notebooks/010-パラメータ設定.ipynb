{
 "cells": [
  {
   "cell_type": "markdown",
   "metadata": {},
   "source": [
    "# パラメータ設定\n",
    "\n",
    "---\n",
    "\n",
    "OpenHPC環境を構築するのに必要となるパラメータを設定します。"
   ]
  },
  {
   "cell_type": "markdown",
   "metadata": {},
   "source": [
    "## 概要\n",
    "\n",
    "VCP SDKを用いてクラウド上に仮想サーバを作成し、OpenHPC環境の構築を行います。\n",
    "\n",
    "![構成](images/ohpc-000.png)"
   ]
  },
  {
   "cell_type": "markdown",
   "metadata": {},
   "source": [
    "このNotebookでは以下に示すパラメータを設定します。\n",
    "\n",
    "* VCP SDKに関するパラメータ\n",
    "* VCノードに共通するパラメータ\n",
    "* 割り当てリソースに関するパラメータ\n",
    "    - 計算ノード\n",
    "    - マスターノード\n",
    "    - NFS用ディスク\n",
    "* VCノードのホスト名とIPアドレス\n",
    "* Slurmに関するパラメータ"
   ]
  },
  {
   "cell_type": "markdown",
   "metadata": {},
   "source": [
    "## VCP SDK\n",
    "\n",
    "VCP SDKを利用する際に必要となるパラメータを設定します。\n"
   ]
  },
  {
   "cell_type": "markdown",
   "metadata": {},
   "source": [
    "### VCCアクセストークンの入力\n",
    "\n",
    "![VCP SDK](images/ohpc-001.png)\n",
    "\n",
    "VCノードを起動するにはVC Controller(VCC)にアクセスして、操作を行う必要があります。VCCにアクセスするために必要となるアクセストークンをここで入力します。"
   ]
  },
  {
   "cell_type": "markdown",
   "metadata": {},
   "source": [
    "次のセルを実行すると入力枠が表示されるのでアクセストークンの値を入力してください。\n",
    "\n",
    "> アクセストークン入力後に Enter キーを押すことで入力が完了します。"
   ]
  },
  {
   "cell_type": "code",
   "execution_count": null,
   "metadata": {
    "tags": [
     "vcp:skip",
     "vcp:parameters"
    ]
   },
   "outputs": [],
   "source": [
    "from getpass import getpass\n",
    "vcc_access_token = getpass()"
   ]
  },
  {
   "cell_type": "markdown",
   "metadata": {},
   "source": [
    "入力されたアクセストークンが正しいことを、実際にVCCにアクセスして確認します。"
   ]
  },
  {
   "cell_type": "code",
   "execution_count": null,
   "metadata": {
    "tags": [
     "vcp:rewrite:vcpsdk"
    ]
   },
   "outputs": [],
   "source": [
    "from vcpsdk.vcpsdk import VcpSDK\n",
    "vcp = VcpSDK(vcc_access_token)"
   ]
  },
  {
   "cell_type": "markdown",
   "metadata": {},
   "source": [
    "上のセルの実行結果がエラーとなり以下のようなメッセージが表示されている場合は、入力されたアクセストークンに誤りがあります。\n",
    "\n",
    "```\n",
    "config vc failed: http_status(403)\n",
    "2021/XX/XX XX:XX:XX UTC: VCPAuthException: xxxxxxx:token lookup is failed: permission denied\n",
    "```\n",
    "\n",
    "エラーになった場合はこの節のセルを全て `unfreeze` してから、もう一度アクセストークンの入力を行ってください。\n",
    "\n",
    "> `unfreeze`するにはNotebookのツールバーにある`unfreeze below in section`ボタンなどを利用してください。"
   ]
  },
  {
   "cell_type": "markdown",
   "metadata": {
    "heading_collapsed": true
   },
   "source": [
    "### UnitGroup名の指定\n",
    "\n",
    "このアプリケーションテンプレートで構築するOpenHPC環境に対して、名前を付けます。指定した名前はVCPのUnitGroup名となります。"
   ]
  },
  {
   "cell_type": "markdown",
   "metadata": {
    "hidden": true
   },
   "source": [
    "VCPの構成要素は以下のようになっています。\n",
    "\n",
    "* VCノード\n",
    "  - クラウドにおける計算資源(VM/BM)\n",
    "  - 例えば Amazon EC2インスタンス, Microsoft Azure VM など\n",
    "* Unit\n",
    "  - 同質のVCノードにより構成されている要素\n",
    "  - 同じUnitに属するVCノードはCPU,メモリ等の計算資源が全て同じ設定になっている\n",
    "* UnitGroup\n",
    "  - 複数のUnitにより構成されている要素\n",
    "  - 使用目的、ライフサイクルなどに合わせて、複数のUnitをまとめて扱うための要素  "
   ]
  },
  {
   "cell_type": "markdown",
   "metadata": {
    "hidden": true
   },
   "source": [
    "VCP SDKで作成した他の環境と区別するために UnitGroupに名前を付けます。UnitGroup名は既存のものと異なる値を指定する必要があります。\n",
    "既存のUnitGroupを確認するために一覧を表示します。"
   ]
  },
  {
   "cell_type": "code",
   "execution_count": null,
   "metadata": {
    "hidden": true
   },
   "outputs": [],
   "source": [
    "vcp.df_ugroups()"
   ]
  },
  {
   "cell_type": "markdown",
   "metadata": {
    "hidden": true
   },
   "source": [
    "この構築環境のUnitGroup名を次のセルで指定してください。UnitGroup名は**英数字のみ**の値を指定してください（先頭文字に数字は指定できない）。\n",
    "\n",
    "> 英数字以外の文字を指定すると、環境構築時のansibleの実行にて警告文が表示される場合があります。"
   ]
  },
  {
   "cell_type": "code",
   "execution_count": null,
   "metadata": {
    "hidden": true,
    "tags": [
     "vcp:skip",
     "vcp:parameters"
    ]
   },
   "outputs": [],
   "source": [
    "# (例)\n",
    "# ugroup_name = 'OpenHPC'\n",
    "\n",
    "ugroup_name = 'OpenHPC'"
   ]
  },
  {
   "cell_type": "markdown",
   "metadata": {
    "heading_collapsed": true
   },
   "source": [
    "### パラメータの保存\n",
    "\n",
    "この章で指定したパラメータの値をファイルに保存します。"
   ]
  },
  {
   "cell_type": "markdown",
   "metadata": {
    "hidden": true
   },
   "source": [
    "後の手順でVCノードに対する操作を、構成管理ツールの[Ansible](https://www.ansible.com/)で行います。そこで、パラメータの保存形式は `Ansible` のフォーマットに従うことにします。Ansible では `group_vars/`というディレクトリに YAML フォーマットのファイルを配置すると、そのファイルに記録されている値を変数として利用することができます。このNotebookでは `group_vars/` にあるファイルを `group_vars ファイル`と呼ぶことにします。"
   ]
  },
  {
   "cell_type": "markdown",
   "metadata": {
    "hidden": true
   },
   "source": [
    "値の保存を行う前に、入力されたパラメータに対して簡易なチェックを行います。エラーになった場合はその後に表示される指示に従ってください。"
   ]
  },
  {
   "cell_type": "code",
   "execution_count": null,
   "metadata": {
    "hidden": true
   },
   "outputs": [],
   "source": [
    "%run scripts/utils.py\n",
    "\n",
    "check_parameters(\n",
    "    _params=dict(vcp=vcp),\n",
    "    ugroup_name=ugroup_name,\n",
    ")"
   ]
  },
  {
   "cell_type": "markdown",
   "metadata": {
    "hidden": true
   },
   "source": [
    "次のセルを実行すると、この章で指定したパラメータが group_vars ファイルに保存されます。\n",
    "\n",
    "> YAMLフォーマットでファイルに値を保存するために、事前に作成した Python のスクリプト `scripts/group.py` を利用しています。"
   ]
  },
  {
   "cell_type": "code",
   "execution_count": null,
   "metadata": {
    "hidden": true
   },
   "outputs": [],
   "source": [
    "%run scripts/group.py\n",
    "from pathlib import Path\n",
    "\n",
    "update_group_vars(\n",
    "    ugroup_name,\n",
    "    ugroup_name=ugroup_name,\n",
    ")"
   ]
  },
  {
   "cell_type": "markdown",
   "metadata": {
    "hidden": true
   },
   "source": [
    "`group_vars`ファイルの内容を確認してみます。"
   ]
  },
  {
   "cell_type": "code",
   "execution_count": null,
   "metadata": {
    "hidden": true
   },
   "outputs": [],
   "source": [
    "!cat group_vars/{ugroup_name}.yml"
   ]
  },
  {
   "cell_type": "markdown",
   "metadata": {
    "heading_collapsed": true
   },
   "source": [
    "## VCノードに共通するパラメータ\n",
    "\n",
    "マスターノード、計算ノードに共通するパラメータを指定します。"
   ]
  },
  {
   "cell_type": "markdown",
   "metadata": {
    "heading_collapsed": true,
    "hidden": true
   },
   "source": [
    "### クラウドプロバイダの指定\n",
    "\n",
    "VCノードを作成するプロバイダ名を指定します。"
   ]
  },
  {
   "cell_type": "code",
   "execution_count": null,
   "metadata": {
    "hidden": true,
    "tags": [
     "vcp:skip",
     "vcp:parameters"
    ]
   },
   "outputs": [],
   "source": [
    "# (例)\n",
    "# vc_provider = 'aws'\n",
    "# vc_provider = 'azure'\n",
    "# vc_provider = 'oracle'\n",
    "# vc_provider = 'onpremises'   ### mdxの場合\n",
    "\n",
    "vc_provider = 'aws'"
   ]
  },
  {
   "cell_type": "markdown",
   "metadata": {
    "heading_collapsed": true,
    "hidden": true
   },
   "source": [
    "### SSH公開鍵認証の鍵ファイルの指定\n",
    "\n",
    "起動したVCノードにはsshでログインして操作を行います。sshでログインできるようにするために、事前に公開鍵をVCノードに登録します。"
   ]
  },
  {
   "cell_type": "markdown",
   "metadata": {
    "hidden": true
   },
   "source": [
    "> 公開鍵は事前にNotebook環境で`ssh-keygen`コマンドなどを用いて作成するか、他環境で作成した鍵ファイルをNotebook環境にアップロードしておいてください。"
   ]
  },
  {
   "cell_type": "markdown",
   "metadata": {
    "hidden": true
   },
   "source": [
    "VCノードに登録するSSHの公開鍵ファイルのパスを次のセルで指定してください。"
   ]
  },
  {
   "cell_type": "code",
   "execution_count": null,
   "metadata": {
    "hidden": true,
    "tags": [
     "vcp:skip",
     "vcp:parameters"
    ]
   },
   "outputs": [],
   "source": [
    "# (例)\n",
    "# ssh_public_key_path = '~/.ssh/id_rsa.pub'\n",
    "\n",
    "ssh_public_key_path = '~/.ssh/id_rsa.pub'"
   ]
  },
  {
   "cell_type": "markdown",
   "metadata": {
    "hidden": true
   },
   "source": [
    "公開鍵に対応する秘密鍵のパスを次のセルで指定してください。"
   ]
  },
  {
   "cell_type": "code",
   "execution_count": null,
   "metadata": {
    "hidden": true,
    "tags": [
     "vcp:skip",
     "vcp:parameters"
    ]
   },
   "outputs": [],
   "source": [
    "# (例)\n",
    "# ssh_private_key_path = '~/.ssh/id_rsa'\n",
    "\n",
    "ssh_private_key_path = '~/.ssh/id_rsa'"
   ]
  },
  {
   "cell_type": "markdown",
   "metadata": {
    "heading_collapsed": true,
    "hidden": true
   },
   "source": [
    "### パラメータの保存\n",
    "\n",
    "この章で指定したパラメータの値をファイルに保存します。"
   ]
  },
  {
   "cell_type": "markdown",
   "metadata": {
    "hidden": true
   },
   "source": [
    "値の保存を行う前に、入力されたパラメータに対して簡易なチェックを行います。エラーになった場合はその後に表示される指示に従ってください。"
   ]
  },
  {
   "cell_type": "code",
   "execution_count": null,
   "metadata": {
    "hidden": true
   },
   "outputs": [],
   "source": [
    "%run scripts/utils.py\n",
    "from pathlib import Path\n",
    "\n",
    "check_parameters(\n",
    "    _params=dict(vcp=vcp),\n",
    "    vc_provider=vc_provider,\n",
    "    ssh_public_key_path=str(Path(ssh_public_key_path).expanduser()),\n",
    "    ssh_private_key_path=str(Path(ssh_private_key_path).expanduser()),\n",
    ")"
   ]
  },
  {
   "cell_type": "markdown",
   "metadata": {
    "hidden": true
   },
   "source": [
    "この章で指定したパラメータを group_vars ファイルに保存します。"
   ]
  },
  {
   "cell_type": "code",
   "execution_count": null,
   "metadata": {
    "hidden": true
   },
   "outputs": [],
   "source": [
    "%run scripts/group.py\n",
    "from pathlib import Path\n",
    "\n",
    "update_group_vars(\n",
    "    ugroup_name,\n",
    "    vc_provider=vc_provider,\n",
    "    ssh_public_key_path=str(Path(ssh_public_key_path).expanduser()),\n",
    "    ssh_private_key_path=str(Path(ssh_private_key_path).expanduser()),\n",
    ")"
   ]
  },
  {
   "cell_type": "markdown",
   "metadata": {
    "hidden": true
   },
   "source": [
    "`group_vars`ファイルの内容を確認してみます。"
   ]
  },
  {
   "cell_type": "code",
   "execution_count": null,
   "metadata": {
    "hidden": true
   },
   "outputs": [],
   "source": [
    "!cat group_vars/{ugroup_name}.yml"
   ]
  },
  {
   "cell_type": "markdown",
   "metadata": {},
   "source": [
    "## 構築環境に割り当てるリソース\n",
    "\n",
    "各VCノード、VCディスクに割り当てるリソースを指定します。"
   ]
  },
  {
   "cell_type": "markdown",
   "metadata": {
    "heading_collapsed": true
   },
   "source": [
    "### 計算ノード\n",
    "\n",
    "計算ノードに割り当てるリソースを指定します。\n",
    "\n",
    "![計算ノード](images/ohpc-002.png)"
   ]
  },
  {
   "cell_type": "markdown",
   "metadata": {
    "hidden": true
   },
   "source": [
    "#### 計算ノードのノード数\n",
    "\n",
    "計算ノードとして作成するノード数を指定します。"
   ]
  },
  {
   "cell_type": "code",
   "execution_count": null,
   "metadata": {
    "hidden": true,
    "tags": [
     "vcp:skip",
     "vcp:parameters"
    ]
   },
   "outputs": [],
   "source": [
    "# (例)\n",
    "# compute_nodes = 4\n",
    "\n",
    "compute_nodes = 2"
   ]
  },
  {
   "cell_type": "markdown",
   "metadata": {
    "hidden": true
   },
   "source": [
    "#### 計算ノードのflavor"
   ]
  },
  {
   "cell_type": "markdown",
   "metadata": {
    "hidden": true
   },
   "source": [
    "VCノードの`spec`に対して種々のパラメータを毎回設定するのは煩雑な作業になります。そこでVCP SDKでは典型的なパラメータセットを事前に定義しています。事前に定義したパラメータセットのことをVCP SDKでは`flavor`と呼んでいます。`spec`に設定できるパラメータはクラウドプロバイダ毎に異なるので `flavor`もプロバイダ毎に定義されています。\n",
    "\n",
    "次のセルを実行すると、先ほど`vc_provider`で指定したクラウドプロバイダ名に対応する `flavor` の一覧が表示されます。"
   ]
  },
  {
   "cell_type": "code",
   "execution_count": null,
   "metadata": {
    "hidden": true
   },
   "outputs": [],
   "source": [
    "vcp.df_flavors(vc_provider)"
   ]
  },
  {
   "cell_type": "markdown",
   "metadata": {
    "hidden": true
   },
   "source": [
    "上に表示された表の `flavor` の欄の値から、計算ノードとして利用するVCノードの `flavor` を選んで次のセルで指定してください。"
   ]
  },
  {
   "cell_type": "code",
   "execution_count": null,
   "metadata": {
    "hidden": true,
    "tags": [
     "vcp:skip",
     "vcp:parameters"
    ]
   },
   "outputs": [],
   "source": [
    "# (例)\n",
    "# compute_flavor = 'medium'\n",
    "# compute_flavor = 'gpu'\n",
    "# compute_flavor = 'default'    ### mdxの場合\n",
    "\n",
    "compute_flavor = 'small'"
   ]
  },
  {
   "cell_type": "markdown",
   "metadata": {
    "hidden": true
   },
   "source": [
    "#### 計算ノードのインスタンスタイプ\n",
    "\n",
    "`flavor`で定義されている以外のインスタンスタイプを計算ノードで利用したい場合は次のセルのコメントを外してインスタンスタイプを指定してください。"
   ]
  },
  {
   "cell_type": "code",
   "execution_count": null,
   "metadata": {
    "hidden": true,
    "tags": [
     "vcp:parameters"
    ]
   },
   "outputs": [],
   "source": [
    "# (例)\n",
    "# compute_instance_type = 'g4dn.xlarge'            # AWS NVIDIA T4\n",
    "# compute_instance_type = 'Standard_NC4as_T4_v3'   # Azure NVIDIA T4\n",
    "# compute_instance_type = 'VM.GPU2.1'              # Oracle Cloud  NVIDIA P100"
   ]
  },
  {
   "cell_type": "markdown",
   "metadata": {
    "hidden": true
   },
   "source": [
    "#### 計算ノードのルートボリュームサイズ\n",
    "\n",
    "計算ノードのルートボリュームサイズを変更する必要がある場合は、次のセルのコメントを外してサイズ(GB)を指定してください。"
   ]
  },
  {
   "cell_type": "markdown",
   "metadata": {
    "hidden": true
   },
   "source": [
    "計算ノードに Docker Engine をインストールして利用することを予定している場合は十分大きなサイズを指定してください。各計算ノードの`/var/lib/docker`はルートボリュームに割り当てたディスクの領域を利用します。"
   ]
  },
  {
   "cell_type": "code",
   "execution_count": null,
   "metadata": {
    "hidden": true,
    "tags": [
     "vcp:parameters"
    ]
   },
   "outputs": [],
   "source": [
    "# (例)\n",
    "compute_root_size = 16"
   ]
  },
  {
   "cell_type": "markdown",
   "metadata": {
    "hidden": true
   },
   "source": [
    "#### 計算ノードにおけるGPUの利用\n",
    "\n",
    "計算ノードでGPUを利用するか否かについて指定してください。"
   ]
  },
  {
   "cell_type": "code",
   "execution_count": null,
   "metadata": {
    "hidden": true,
    "tags": [
     "vcp:skip",
     "vcp:parameters"
    ]
   },
   "outputs": [],
   "source": [
    "# (例)\n",
    "# compute_use_gpu = False  # GPU を利用しない\n",
    "# compute_use_gpu = True   # GPU を利用する\n",
    "\n",
    "compute_use_gpu = False"
   ]
  },
  {
   "cell_type": "markdown",
   "metadata": {
    "hidden": true
   },
   "source": [
    "`compute_use_gpu`を`True`に設定することで、計算ノードを起動する際のVMイメージ、BaseコンテナイメージとしてNVIDIAドライバがセットアップされているものが選択されます。ただし`compute_flavor`や`compute_instance_type`で指定したインスタンスタイプがGPUを利用可能なものである必要があります。"
   ]
  },
  {
   "cell_type": "markdown",
   "metadata": {
    "heading_collapsed": true
   },
   "source": [
    "### マスターノード\n",
    "\n",
    "マスターノードに割り当てるリソースを指定します。\n",
    "\n",
    "![マスターノード](images/ohpc-003.png)"
   ]
  },
  {
   "cell_type": "markdown",
   "metadata": {
    "hidden": true
   },
   "source": [
    "#### マスターノードのflavor\n",
    "\n",
    "マスターノードに割り当てるリソースに対応する `flavor` の値を指定してください。"
   ]
  },
  {
   "cell_type": "markdown",
   "metadata": {
    "hidden": true
   },
   "source": [
    "`flavor`の一覧を表示します。"
   ]
  },
  {
   "cell_type": "code",
   "execution_count": null,
   "metadata": {
    "hidden": true
   },
   "outputs": [],
   "source": [
    "vcp.df_flavors(vc_provider)"
   ]
  },
  {
   "cell_type": "markdown",
   "metadata": {
    "hidden": true
   },
   "source": [
    "上に表示された表の `flavor` の欄の値から、マスターノードとして利用するVCノードの `flavor` を選んで次のセルで指定してください。"
   ]
  },
  {
   "cell_type": "code",
   "execution_count": null,
   "metadata": {
    "hidden": true,
    "tags": [
     "vcp:skip",
     "vcp:parameters"
    ]
   },
   "outputs": [],
   "source": [
    "# (例)\n",
    "# master_flavor = 'small'\n",
    "# master_flavor = 'default'    ### mdxの場合\n",
    "\n",
    "master_flavor = 'small'"
   ]
  },
  {
   "cell_type": "markdown",
   "metadata": {
    "hidden": true
   },
   "source": [
    "#### マスターノードのインスタンスタイプ\n",
    "\n",
    "`flavor`で定義されている以外のインスタンスタイプをマスターノードで利用したい場合は次のセルのコメントを外してインスタンスタイプを指定してください。"
   ]
  },
  {
   "cell_type": "code",
   "execution_count": null,
   "metadata": {
    "hidden": true,
    "tags": [
     "vcp:parameters"
    ]
   },
   "outputs": [],
   "source": [
    "# (例)\n",
    "# master_instance_type = 'm5.xlarge'"
   ]
  },
  {
   "cell_type": "markdown",
   "metadata": {
    "hidden": true
   },
   "source": [
    "#### マスターノードのルートボリュームサイズ\n",
    "\n",
    "マスターノード用VCノードのルートボリュームサイズ(GB)を指定します。"
   ]
  },
  {
   "cell_type": "markdown",
   "metadata": {
    "hidden": true
   },
   "source": [
    "OpenHPCのマスターノードのルートボリュームサイズには20GB以上の値を指定してください。また NGC カタログのコンテナを利用する場合は Singularity でコンテナイメージを変換するための作業領域が必要となるため 60GB 以上の値を指定してください。"
   ]
  },
  {
   "cell_type": "code",
   "execution_count": null,
   "metadata": {
    "hidden": true,
    "tags": [
     "vcp:skip",
     "vcp:parameters"
    ]
   },
   "outputs": [],
   "source": [
    "# (例)\n",
    "# master_root_size = 60\n",
    "\n",
    "master_root_size = 60"
   ]
  },
  {
   "cell_type": "markdown",
   "metadata": {
    "heading_collapsed": true
   },
   "source": [
    "### NFS用ディスク\n",
    "\n",
    "NFS用ディスクに割り当てるリソースを指定します。\n",
    "\n",
    "> NFS用に仮想ディスクを作成しない構成にする場合は、この節をスキップしてください。\n",
    "\n",
    "mdx上でOpenHPC環境を構築する場合、VCディスクは非対応のためこの節をスキップしてください。\n",
    "\n",
    "![NFS](images/ohpc-004.png)"
   ]
  },
  {
   "cell_type": "markdown",
   "metadata": {
    "hidden": true
   },
   "source": [
    "ディスクサイズ(GB)を指定してください。16GB 以上の値を指定してください。"
   ]
  },
  {
   "cell_type": "code",
   "execution_count": null,
   "metadata": {
    "hidden": true,
    "tags": [
     "vcp:skip",
     "vcp:parameters"
    ]
   },
   "outputs": [],
   "source": [
    "# (例)\n",
    "# nfs_disk_size = 64\n",
    "\n",
    "nfs_disk_size = 32"
   ]
  },
  {
   "cell_type": "markdown",
   "metadata": {
    "hidden": true
   },
   "source": [
    "ディスクのデバイス名を指定してください。デバイス名はプロバイダやインスタンスタイプによって異なる値となります。\n",
    "\n",
    "> AWSの[Nitroベースのインスタンス](https://docs.aws.amazon.com/ja_jp/AWSEC2/latest/UserGuide/instance-types.html#ec2-nitro-instances)ではEBSボリュームはNVMeブロックデバイスとして公開されます。そのためデバイス名は`/dev/nvme1n1`などになります。"
   ]
  },
  {
   "cell_type": "code",
   "execution_count": null,
   "metadata": {
    "hidden": true,
    "tags": [
     "vcp:skip",
     "vcp:parameters"
    ]
   },
   "outputs": [],
   "source": [
    "# (例)\n",
    "# nfs_device = '/dev/xvdf'    # AWS\n",
    "# nfs_device = '/dev/nvme1n1' # AWS(Nitroベース)\n",
    "# nfs_device = '/dev/sdc'     # Azure\n",
    "# nfs_device = '/dev/sdb'     # Oracle Cloud\n",
    "\n",
    "nfs_device = '/dev/xvdf'"
   ]
  },
  {
   "cell_type": "markdown",
   "metadata": {
    "hidden": true
   },
   "source": [
    "NFS用に仮想ディスクを作成しない構成の場合、誤ってディスクに関するパラメータを設定してしまった場合は、次のセルのコメントを外して実行してください。"
   ]
  },
  {
   "cell_type": "code",
   "execution_count": null,
   "metadata": {
    "hidden": true
   },
   "outputs": [],
   "source": [
    "# del(nfs_disk_size)\n",
    "# del(nfs_device)"
   ]
  },
  {
   "cell_type": "markdown",
   "metadata": {
    "heading_collapsed": true
   },
   "source": [
    "### パラメータの保存\n",
    "\n",
    "この章で指定したパラメータの値をファイルに保存します。"
   ]
  },
  {
   "cell_type": "markdown",
   "metadata": {
    "hidden": true
   },
   "source": [
    "値の保存を行う前に、入力されたパラメータに対して簡易なチェックを行います。エラーになった場合はその後に表示される指示に従ってください。"
   ]
  },
  {
   "cell_type": "code",
   "execution_count": null,
   "metadata": {
    "hidden": true
   },
   "outputs": [],
   "source": [
    "%run scripts/utils.py\n",
    "from pathlib import Path\n",
    "\n",
    "if 'nfs_disk_size' in vars():\n",
    "    check_parameters(\n",
    "        _params=dict(vc_provider=vc_provider),\n",
    "        nfs_disk_size=nfs_disk_size,\n",
    "        nfs_device=nfs_device,\n",
    "    )\n",
    "\n",
    "check_parameters(\n",
    "    _params=dict(\n",
    "        vcp=vcp, \n",
    "        vc_provider=vc_provider,\n",
    "        nfs_disk_size=nfs_disk_size if 'nfs_disk_size' in vars() else 0,\n",
    "    ),\n",
    "    compute_nodes=compute_nodes,\n",
    "    compute_flavor=compute_flavor,\n",
    "    master_flavor=master_flavor,\n",
    "    master_root_size=master_root_size,\n",
    ")"
   ]
  },
  {
   "cell_type": "markdown",
   "metadata": {
    "hidden": true
   },
   "source": [
    "この章で指定したパラメータを `group_vars` ファイルに保存します。"
   ]
  },
  {
   "cell_type": "code",
   "execution_count": null,
   "metadata": {
    "hidden": true
   },
   "outputs": [],
   "source": [
    "%run scripts/group.py\n",
    "\n",
    "update_group_vars(\n",
    "    ugroup_name,\n",
    "    compute_nodes=compute_nodes,\n",
    "    compute_flavor=compute_flavor,\n",
    "    compute_use_gpu=compute_use_gpu,\n",
    "    master_flavor=master_flavor,\n",
    "    master_root_size=master_root_size,\n",
    ")\n",
    "\n",
    "if 'compute_instance_type' in vars():\n",
    "    update_group_vars(\n",
    "        ugroup_name, \n",
    "        compute_instance_type=compute_instance_type,\n",
    "    )\n",
    "\n",
    "if 'compute_root_size' in vars():\n",
    "    update_group_vars(\n",
    "        ugroup_name, \n",
    "        compute_root_size=compute_root_size,\n",
    "    )\n",
    "    \n",
    "if 'master_instance_type' in vars():\n",
    "    update_group_vars(\n",
    "        ugroup_name, \n",
    "        master_instance_type=master_instance_type,\n",
    "    )\n",
    "\n",
    "if 'nfs_disk_size' in vars():\n",
    "    update_group_vars(\n",
    "        ugroup_name,\n",
    "        nfs_disk_size=nfs_disk_size,\n",
    "        nfs_device=nfs_device,\n",
    "    )"
   ]
  },
  {
   "cell_type": "markdown",
   "metadata": {
    "hidden": true
   },
   "source": [
    "`group_vars`ファイルの内容を確認してみます。"
   ]
  },
  {
   "cell_type": "code",
   "execution_count": null,
   "metadata": {
    "hidden": true
   },
   "outputs": [],
   "source": [
    "!cat group_vars/{ugroup_name}.yml"
   ]
  },
  {
   "cell_type": "markdown",
   "metadata": {},
   "source": [
    "## IPアドレスとホスト名\n",
    "\n",
    "各ノードに設定するIPアドレスとホスト名を指定します。\n",
    "\n",
    "![etc_hosts](images/ohpc-005.png)"
   ]
  },
  {
   "cell_type": "markdown",
   "metadata": {
    "heading_collapsed": true
   },
   "source": [
    "### マスターノードのIPアドレスとホスト名\n",
    "\n",
    "マスターノードに割り当てるIPアドレスを指定します。"
   ]
  },
  {
   "cell_type": "code",
   "execution_count": null,
   "metadata": {
    "hidden": true
   },
   "outputs": [],
   "source": [
    "print(vcp.get_vpn_catalog(vc_provider).get('private_network_ipmask'))"
   ]
  },
  {
   "cell_type": "markdown",
   "metadata": {
    "hidden": true
   },
   "source": [
    "次のセルに、マスターノードに割り当てるIPアドレスを指定してください。\n",
    "\n",
    "**2024-02ハンズオン環境では、 `172.30.2.201` をマスターノードに使用してください。**"
   ]
  },
  {
   "cell_type": "code",
   "execution_count": null,
   "metadata": {
    "hidden": true,
    "tags": [
     "vcp:skip",
     "vcp:parameters"
    ]
   },
   "outputs": [],
   "source": [
    "# (例)\n",
    "# master_ipaddress = '172.30.2.1'\n",
    "\n",
    "master_ipaddress = '172.30.2.201'"
   ]
  },
  {
   "cell_type": "markdown",
   "metadata": {
    "hidden": true
   },
   "source": [
    "マスターノードに設定するホスト名を指定してください。"
   ]
  },
  {
   "cell_type": "code",
   "execution_count": null,
   "metadata": {
    "hidden": true,
    "tags": [
     "vcp:parameters"
    ]
   },
   "outputs": [],
   "source": [
    "# (例)\n",
    "# master_hostname = 'master'\n",
    "\n",
    "master_hostname = 'master'"
   ]
  },
  {
   "cell_type": "markdown",
   "metadata": {
    "heading_collapsed": true
   },
   "source": [
    "### 計算ノードのIPアドレスとホスト名\n",
    "\n",
    "計算ノードに割り当てるIPアドレスとホスト名を指定します。"
   ]
  },
  {
   "cell_type": "markdown",
   "metadata": {
    "hidden": true
   },
   "source": [
    "計算ノードの先頭のIPアドレスを指定してください。他のノードは連番のアドレスが指定されます。指定する値は、マスターノードのIPアドレスを指定するときに確認した範囲のIPアドレスを指定してください。\n",
    "\n",
    "> 計算ノードに連番ではなく任意のIPアドレスを割り当てる場合は、この節の最後にある記述を確認してください。"
   ]
  },
  {
   "cell_type": "code",
   "execution_count": null,
   "metadata": {
    "hidden": true,
    "tags": [
     "vcp:skip",
     "vcp:parameters"
    ]
   },
   "outputs": [],
   "source": [
    "# (例)\n",
    "# compute_ipaddress = '172.30.2.121'\n",
    "\n",
    "compute_ipaddress = '172.30.2.121'"
   ]
  },
  {
   "cell_type": "markdown",
   "metadata": {
    "hidden": true
   },
   "source": [
    "計算ノードのホスト名のプレフィックスを指定してください。\n",
    "\n",
    "例えば `compute_hostname_prefix` に `c` を指定した場合、計算ノードのホスト名は以下のようになります。\n",
    "\n",
    "* c1\n",
    "* c2\n",
    "* c3\n",
    "* ..."
   ]
  },
  {
   "cell_type": "code",
   "execution_count": null,
   "metadata": {
    "hidden": true,
    "tags": [
     "vcp:parameters"
    ]
   },
   "outputs": [],
   "source": [
    "# (例)\n",
    "# compute_hostname_prefix = 'c'\n",
    "\n",
    "compute_hostname_prefix = 'c'"
   ]
  },
  {
   "cell_type": "markdown",
   "metadata": {
    "hidden": true
   },
   "source": [
    "ここまでに指定したパラメータから計算ノードのIPアドレスとホスト名のdict型変数を作成します。"
   ]
  },
  {
   "cell_type": "code",
   "execution_count": null,
   "metadata": {
    "hidden": true
   },
   "outputs": [],
   "source": [
    "import ipaddress\n",
    "\n",
    "c_addr = ipaddress.ip_address(compute_ipaddress)\n",
    "compute_etc_hosts = dict([\n",
    "    (f'{c_addr + x}', f'{compute_hostname_prefix}{x + 1}')\n",
    "    for x in range(compute_nodes)   \n",
    "])\n",
    "\n",
    "import json\n",
    "print(json.dumps(compute_etc_hosts, indent=2))"
   ]
  },
  {
   "cell_type": "markdown",
   "metadata": {
    "hidden": true
   },
   "source": [
    "計算ノードのIPアドレスに連番ではなく、任意のアドレスを指定したい場合は`compute_etc_hosts`の値としてIPアドレスをキー、ホスト名を値とする dict を指定してください。\n",
    "\n",
    "```\n",
    "compute_etc_hosts = {\n",
    "    \"172.30.2.111\": \"c1\",\n",
    "    \"172.30.2.121\": \"c2\",\n",
    "    \"172.30.2.131\": \"c3\",\n",
    "    \"172.30.2.141\": \"c4\",\n",
    "}\n",
    "```"
   ]
  },
  {
   "cell_type": "markdown",
   "metadata": {
    "heading_collapsed": true
   },
   "source": [
    "### パラメータの保存\n",
    "\n",
    "この章で指定したパラメータの値をファイルに保存します。"
   ]
  },
  {
   "cell_type": "markdown",
   "metadata": {
    "hidden": true
   },
   "source": [
    "値の保存を行う前に、入力されたパラメータに対して簡易なチェックを行います。エラーになった場合はその後に表示される指示に従ってください。\n",
    "\n",
    "> IPアドレスに到達可能なものがあるかをチェックするので、ある程度時間が掛かります。"
   ]
  },
  {
   "cell_type": "code",
   "execution_count": null,
   "metadata": {
    "hidden": true
   },
   "outputs": [],
   "source": [
    "%run scripts/utils.py\n",
    "\n",
    "check_parameters(\n",
    "    _params=dict(\n",
    "        vcp=vcp,\n",
    "        vc_provider=vc_provider,\n",
    "        compute_nodes=compute_nodes,\n",
    "    ),\n",
    "    master_ipaddress=master_ipaddress,\n",
    "    master_hostname=master_hostname,\n",
    "    compute_etc_hosts=compute_etc_hosts,\n",
    ")"
   ]
  },
  {
   "cell_type": "markdown",
   "metadata": {
    "hidden": true
   },
   "source": [
    "この章で指定したパラメータを `group_vars` ファイルに保存します。"
   ]
  },
  {
   "cell_type": "code",
   "execution_count": null,
   "metadata": {
    "hidden": true
   },
   "outputs": [],
   "source": [
    "%run scripts/group.py\n",
    "\n",
    "update_group_vars(\n",
    "    ugroup_name,\n",
    "    master_ipaddress=master_ipaddress,\n",
    "    master_hostname=master_hostname,\n",
    "    compute_etc_hosts=compute_etc_hosts,\n",
    ")"
   ]
  },
  {
   "cell_type": "markdown",
   "metadata": {
    "hidden": true
   },
   "source": [
    "`group_vars`ファイルの内容を確認してみます。"
   ]
  },
  {
   "cell_type": "code",
   "execution_count": null,
   "metadata": {
    "hidden": true
   },
   "outputs": [],
   "source": [
    "!cat group_vars/{ugroup_name}.yml"
   ]
  },
  {
   "cell_type": "markdown",
   "metadata": {},
   "source": [
    "## Slurm\n",
    "\n",
    "Slurmに関連するパラメータを指定します。\n",
    "\n",
    "![etc_hosts](images/ohpc-006.png)"
   ]
  },
  {
   "cell_type": "markdown",
   "metadata": {
    "heading_collapsed": true
   },
   "source": [
    "### munge.key\n",
    "\n",
    "[MUNGE](https://dun.github.io/munge/)はHPCクラスタ環境のための認証サービスです。この節ではSLURMがコンポーネント間の認証に利用するMUNGEの鍵ファイル`munge.key`を作成します。"
   ]
  },
  {
   "cell_type": "markdown",
   "metadata": {
    "hidden": true
   },
   "source": [
    "`munge.key` に書き込む内容を乱数から生成します。"
   ]
  },
  {
   "cell_type": "code",
   "execution_count": null,
   "metadata": {
    "hidden": true,
    "tags": [
     "vcp:parameters"
    ]
   },
   "outputs": [],
   "source": [
    "import secrets\n",
    "\n",
    "munge_key = secrets.token_bytes(1024)"
   ]
  },
  {
   "cell_type": "markdown",
   "metadata": {
    "hidden": true
   },
   "source": [
    "`munge.key` の内容は秘匿情報になるので、`group_vars`ファイルではなく VC Controller の HashiCorp Vault に保存します。\n",
    "HashiCorp Vault は秘密情報を保存するための Key Valueストアです。保持する情報は暗号化されます。\n",
    "\n",
    "\n",
    "HashiCorp Valutのなかの記録場所となるパスを次のセルで指定します。"
   ]
  },
  {
   "cell_type": "code",
   "execution_count": null,
   "metadata": {
    "hidden": true
   },
   "outputs": [],
   "source": [
    "vault_path_munge_key = f'cubbyhole/OpenHPC/{ugroup_name}/munge.key'\n",
    "print(vault_path_munge_key)"
   ]
  },
  {
   "cell_type": "markdown",
   "metadata": {
    "heading_collapsed": true
   },
   "source": [
    "### slurm.conf\n",
    "\n",
    "`slurm.conf` に登録する計算ノードのホスト名を指定します。"
   ]
  },
  {
   "cell_type": "markdown",
   "metadata": {
    "hidden": true
   },
   "source": [
    "計算ノードとして利用するホスト名を `slurm.conf` に登録する必要があります。\n",
    "次のセルを実行すると「[5.2  計算ノードのIPアドレスとホスト名](#計算ノードのIPアドレスとホスト名)」で指定した値に従い、`NodeName` の値を設定します。\n",
    "\n",
    "> ただしIPアドレスに任意の値を指定した場合は、次のセルを実行するとエラーとなることがあります。その場合、指定したホスト名に合わせて設定を行ってください。"
   ]
  },
  {
   "cell_type": "code",
   "execution_count": null,
   "metadata": {
    "hidden": true,
    "tags": [
     "vcp:parameters"
    ]
   },
   "outputs": [],
   "source": [
    "slurm_conf = {\n",
    "    'NodeName': f'{compute_hostname_prefix}[1-{compute_nodes}]' if compute_nodes > 1 else f'{compute_hostname_prefix}1',\n",
    "# (例)\n",
    "#    'CPUs': 4,\n",
    "#    'Boards': 1,\n",
    "#    'SocketsPerBoard': 1,\n",
    "#    'CoresPerSocket': 2,\n",
    "#    'ThreadsPerCore': 2,\n",
    "#    'RealMemory': 16045,\n",
    "}"
   ]
  },
  {
   "cell_type": "markdown",
   "metadata": {
    "hidden": true
   },
   "source": [
    "`slurm_conf`に設定した値を確認します。"
   ]
  },
  {
   "cell_type": "code",
   "execution_count": null,
   "metadata": {
    "hidden": true
   },
   "outputs": [],
   "source": [
    "import json\n",
    "print(json.dumps(slurm_conf, indent=2))"
   ]
  },
  {
   "cell_type": "markdown",
   "metadata": {
    "hidden": true
   },
   "source": [
    "`slurm_conf`では`NodeName` に対応するノードの`CPUs`などのリソース量をあわせて指定することもできます。\n",
    "\n",
    "> リソース量についてはOpenHPC環境を構築した後に編集し直すことができます。ここではリソース量を指定せずに `NodeName` の指定だけでも問題ありません。\n",
    "\n",
    "例えば `slurm_conf` に\n",
    "```\n",
    "{\n",
    "  \"NodeName\": \"c[1-4]\",\n",
    "  \"CPUs\": 4\n",
    "  \"Boards\": 1,\n",
    "  \"SocketsPerBoard\": 1,\n",
    "  \"CoresPerSocket\": 2,\n",
    "  \"ThreadsPerCore\": 2,\n",
    "  \"RealMemory\": 16045\n",
    "}\n",
    "```\n",
    "を指定した場合、設定ファイル`slurm.conf`に以下のような行が追加されます。\n",
    "\n",
    "```\n",
    "NodeName=c[1-4] CPUs=4 Boards=1 SocketsPerBoard=1 CoresPerSocket=2 ThreadsPerCore=2 RealMemory=16045\n",
    "```\n",
    "\n",
    "`slurm.conf`の設定方法の詳細については[slurm.conf(5) - NODE CONFIGURATION](https://slurm.schedmd.com/slurm.conf.html#SECTION_NODE-CONFIGURATION)を参照してください。"
   ]
  },
  {
   "cell_type": "markdown",
   "metadata": {
    "heading_collapsed": true
   },
   "source": [
    "### パラメータの保存\n",
    "\n",
    "この章で指定したパラメータの値をファイルに保存します。`munge.key`は秘匿情報のため、暗号化され記録される HashiCorp Vaultに保存します。他のパラメータについては `group_vars`ファイルに保存します。"
   ]
  },
  {
   "cell_type": "markdown",
   "metadata": {
    "hidden": true
   },
   "source": [
    "`munge.key`の内容をVCCのHashiCorp Valutに保存します。次のセルを実行してください。\n",
    "\n",
    "> 保存に成功すると `<Response [204]>` と表示されます。"
   ]
  },
  {
   "cell_type": "code",
   "execution_count": null,
   "metadata": {
    "hidden": true
   },
   "outputs": [],
   "source": [
    "import requests\n",
    "import base64\n",
    "\n",
    "payload = {\n",
    "    'munge.key': base64.b64encode(munge_key).decode('UTF-8'),\n",
    "}\n",
    "\n",
    "vault_url = f'{vcp.vcc_info()[\"vault_url\"]}/v1/{vault_path_munge_key}'\n",
    "\n",
    "custom_headers = {\n",
    "    'X-Vault-Token': vcc_access_token,\n",
    "}\n",
    "\n",
    "r = requests.post(vault_url, headers=custom_headers, json=payload)\n",
    "r"
   ]
  },
  {
   "cell_type": "markdown",
   "metadata": {
    "hidden": true
   },
   "source": [
    "他の値を `group_vars`ファイルに保存します。"
   ]
  },
  {
   "cell_type": "code",
   "execution_count": null,
   "metadata": {
    "hidden": true
   },
   "outputs": [],
   "source": [
    "%run scripts/group.py\n",
    "\n",
    "update_group_vars(\n",
    "    ugroup_name,\n",
    "    vault_path_munge_key=vault_path_munge_key,\n",
    "    slurm_conf=slurm_conf,\n",
    ")"
   ]
  },
  {
   "cell_type": "markdown",
   "metadata": {
    "hidden": true
   },
   "source": [
    "`group_vars`ファイルの内容を確認してみます。"
   ]
  },
  {
   "cell_type": "code",
   "execution_count": null,
   "metadata": {
    "hidden": true,
    "scrolled": true
   },
   "outputs": [],
   "source": [
    "!cat group_vars/{ugroup_name}.yml"
   ]
  },
  {
   "cell_type": "markdown",
   "metadata": {
    "heading_collapsed": true
   },
   "source": [
    "## チェック\n",
    "\n",
    "設定項目漏れがないことを確認します。"
   ]
  },
  {
   "cell_type": "markdown",
   "metadata": {
    "hidden": true
   },
   "source": [
    "次のセルを実行しエラーとならないことを確認してください。エラーになった場合は、このNotebookの中に実行していないセルがないかを確認してください。"
   ]
  },
  {
   "cell_type": "code",
   "execution_count": null,
   "metadata": {
    "hidden": true
   },
   "outputs": [],
   "source": [
    "%run scripts/group.py\n",
    "gvars = load_group_vars(ugroup_name)\n",
    "require_params = [\n",
    "    'compute_etc_hosts', 'compute_flavor', 'compute_nodes',\n",
    "    'compute_use_gpu', 'master_flavor', 'master_hostname',\n",
    "    'master_ipaddress', 'master_root_size', 'slurm_conf',\n",
    "    'ugroup_name', 'ssh_private_key_path', 'ssh_public_key_path',\n",
    "    'vault_path_munge_key', 'vc_provider',\n",
    "]\n",
    "\n",
    "for x in require_params:\n",
    "    if x not in gvars:\n",
    "        raise RuntimeError(\"ERROR: not set {}\".format(x))"
   ]
  }
 ],
 "metadata": {
  "kernelspec": {
   "display_name": "Python 3",
   "language": "python",
   "name": "python3"
  },
  "language_info": {
   "file_extension": ".py",
   "mimetype": "text/x-python",
   "name": "python",
   "nbconvert_exporter": "python",
   "pygments_lexer": "ipython3",
   "version": "3.8.6"
  },
  "toc": {
   "base_numbering": 1,
   "nav_menu": {},
   "number_sections": true,
   "sideBar": true,
   "skip_h1_title": true,
   "title_cell": "Table of Contents",
   "title_sidebar": "Contents",
   "toc_cell": false,
   "toc_position": {},
   "toc_section_display": true,
   "toc_window_display": true
  }
 },
 "nbformat": 4,
 "nbformat_minor": 2
}
