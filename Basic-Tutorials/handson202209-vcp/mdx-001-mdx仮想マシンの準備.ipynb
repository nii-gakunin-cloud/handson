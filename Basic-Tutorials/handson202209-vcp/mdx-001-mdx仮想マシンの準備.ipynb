{
 "cells": [
  {
   "cell_type": "markdown",
   "metadata": {
    "lc_cell_meme": {
     "current": "14d34282-ac0e-11ec-a2a8-005056b02367-7-c993-a671-de75-43e3-764b-414a-9d00",
     "next": "06937386-ac18-11ec-a2a8-005056b02367-7-8b51-1f1e-7a16-7ec4-e34e-0350-e9bd",
     "previous": null
    }
   },
   "source": [
    "# mdx VMのデプロイとVCP既存サーバ (SSH) モード セットアップ\n",
    "\n",
    "この Notebook では、mdx VM のデプロイと、その mdx VM をVCP既存サーバ(SSH) モードで利用できるようにするまでのセットアップを行います。"
   ]
  },
  {
   "cell_type": "markdown",
   "metadata": {
    "lc_cell_meme": {
     "current": "06937386-ac18-11ec-a2a8-005056b02367-7-8b51-1f1e-7a16-7ec4-e34e-0350-e9bd",
     "next": "32e9d710-adc9-11ec-9d19-005056b02673-6-2b18-16c9-d9d2-9cf3-f6f2-6725",
     "previous": "14d34282-ac0e-11ec-a2a8-005056b02367-7-c993-a671-de75-43e3-764b-414a-9d00"
    }
   },
   "source": [
    "## 前提条件\n",
    "\n",
    "1. VCコントローラが動作していること\n",
    "    * このNotebookを実行しているJupyterNotebookサーバと同一ホスト上で稼働するVCPポータブル版のVCコントローラを使用\n",
    "2. `vcp_config/vcp_config.yml` ファイルにおいてVCコントローラの設定が完了していること"
   ]
  },
  {
   "cell_type": "markdown",
   "metadata": {
    "heading_collapsed": true,
    "lc_cell_meme": {
     "current": "32e9d710-adc9-11ec-9d19-005056b02673-6-2b18-16c9-d9d2-9cf3-f6f2-6725",
     "next": "c1f75fb8-adc9-11ec-9d19-005056b02673-6-c117-9bd5-8e37-4c62-2e80-e398",
     "previous": "06937386-ac18-11ec-a2a8-005056b02367-7-8b51-1f1e-7a16-7ec4-e34e-0350-e9bd"
    }
   },
   "source": [
    "## 準備\n",
    "\n",
    "1. mdx REST API 認証トークン設定\n",
    "2. mdx VM にSSHログインするためのキーペア作成\n",
    "3. mdx の REST API エンドポイントに接続できることの確認"
   ]
  },
  {
   "cell_type": "markdown",
   "metadata": {
    "hidden": true,
    "lc_cell_meme": {
     "current": "c1f75fb8-adc9-11ec-9d19-005056b02673-6-c117-9bd5-8e37-4c62-2e80-e398",
     "next": "c1f76346-adc9-11ec-9d19-005056b02673-6-fca5-8be0-de31-fbd6-a70f-642b",
     "previous": "32e9d710-adc9-11ec-9d19-005056b02673-6-2b18-16c9-d9d2-9cf3-f6f2-6725"
    }
   },
   "source": [
    "### mdx REST API 認証トークン設定\n",
    "\n",
    "- mdx REST API 認証トークンは、[mdxユーザポータル](https://oprpl.mdx.jp/) の「トークン発行」により取得する。\n",
    "  * 「トークン発行」は、ユーザポータル画面右上にあるユーザ名をクリックすると表示される。\n",
    "  \n",
    "![](./images/001-mdx-token.png)"
   ]
  },
  {
   "cell_type": "code",
   "execution_count": null,
   "metadata": {
    "hidden": true,
    "lc_cell_meme": {
     "current": "c1f76346-adc9-11ec-9d19-005056b02673-6-fca5-8be0-de31-fbd6-a70f-642b",
     "next": "0a10b70e-adca-11ec-9d19-005056b02673-6-549c-8614-2a36-3f14-62aa-566a",
     "previous": "c1f75fb8-adc9-11ec-9d19-005056b02673-6-c117-9bd5-8e37-4c62-2e80-e398"
    },
    "lc_wrapper": {}
   },
   "outputs": [],
   "source": [
    "# mdx REST API 認証トークン設定\n",
    "from getpass import getpass\n",
    "mdx_token = getpass(\"mdx API token\")"
   ]
  },
  {
   "cell_type": "markdown",
   "metadata": {
    "hidden": true,
    "lc_cell_meme": {
     "current": "0a10b70e-adca-11ec-9d19-005056b02673-6-549c-8614-2a36-3f14-62aa-566a",
     "next": "c1f76652-adc9-11ec-9d19-005056b02673-6-a957-0f31-3363-ac33-61ed-e21f",
     "previous": "c1f76346-adc9-11ec-9d19-005056b02673-6-fca5-8be0-de31-fbd6-a70f-642b"
    }
   },
   "source": [
    "### mdx VM への SSH ログイン用キーペア作成\n",
    "\n",
    "- mdx VM デプロイ時の設定項目に含まれる公開鍵を用意する。"
   ]
  },
  {
   "cell_type": "code",
   "execution_count": null,
   "metadata": {
    "hidden": true,
    "lc_cell_meme": {
     "current": "c1f76652-adc9-11ec-9d19-005056b02673-6-a957-0f31-3363-ac33-61ed-e21f",
     "next": "0a10ba6a-adca-11ec-9d19-005056b02673-6-fa5b-298c-3c58-f740-c07f-75ab",
     "previous": "0a10b70e-adca-11ec-9d19-005056b02673-6-549c-8614-2a36-3f14-62aa-566a"
    },
    "lc_wrapper": {}
   },
   "outputs": [],
   "source": [
    "!test -f ~/.ssh/id_rsa || ssh-keygen -t rsa -f ~/.ssh/id_rsa -N \"\"\n",
    "!ls -l ~/.ssh"
   ]
  },
  {
   "cell_type": "markdown",
   "metadata": {
    "hidden": true,
    "lc_cell_meme": {
     "current": "0a10ba6a-adca-11ec-9d19-005056b02673-6-fa5b-298c-3c58-f740-c07f-75ab",
     "next": "0a10bc18-adca-11ec-9d19-005056b02673-6-7034-a79d-1323-c88e-6899-0ef8",
     "previous": "c1f76652-adc9-11ec-9d19-005056b02673-6-a957-0f31-3363-ac33-61ed-e21f"
    }
   },
   "source": [
    "### mdx REST API エンドポイント接続確認\n",
    "\n",
    "- HTTPステータスコード 200 が返ることを確認する。"
   ]
  },
  {
   "cell_type": "code",
   "execution_count": null,
   "metadata": {
    "hidden": true,
    "lc_cell_meme": {
     "current": "0a10bc18-adca-11ec-9d19-005056b02673-6-7034-a79d-1323-c88e-6899-0ef8",
     "next": "0a10bd80-adca-11ec-9d19-005056b02673-6-1434-2299-75aa-da47-7922-65e0",
     "previous": "0a10ba6a-adca-11ec-9d19-005056b02673-6-fa5b-298c-3c58-f740-c07f-75ab"
    },
    "lc_wrapper": {}
   },
   "outputs": [],
   "source": [
    "# デフォルトのresolverがIPv6のアドレスを返すことにより以降のAPIで接続不可の場合があるため、以下のコードを実行しておく。\n",
    "def use_ipv4_only():\n",
    "    import socket\n",
    "    old_getaddrinfo = socket.getaddrinfo\n",
    "    def new_getaddrinfo(*args, **kwargs):\n",
    "        responses = old_getaddrinfo(*args, **kwargs)\n",
    "        return [response\n",
    "                for response in responses\n",
    "                if response[0] == socket.AF_INET]\n",
    "    socket.getaddrinfo = new_getaddrinfo\n",
    "\n",
    "use_ipv4_only()"
   ]
  },
  {
   "cell_type": "code",
   "execution_count": null,
   "metadata": {
    "hidden": true,
    "lc_cell_meme": {
     "current": "0a10bd80-adca-11ec-9d19-005056b02673-6-1434-2299-75aa-da47-7922-65e0",
     "next": "3f20c942-1c48-11ed-aae3-005056b02e0f-2-93b6-704a",
     "previous": "0a10bc18-adca-11ec-9d19-005056b02673-6-7034-a79d-1323-c88e-6899-0ef8"
    },
    "lc_wrapper": {}
   },
   "outputs": [],
   "source": [
    "!curl https://oprpl.mdx.jp -w '%{http_code}\\n' -o /dev/null -s"
   ]
  },
  {
   "cell_type": "markdown",
   "metadata": {
    "hidden": true,
    "lc_cell_meme": {
     "current": "3f20c942-1c48-11ed-aae3-005056b02e0f-2-93b6-704a",
     "next": "3f20ccee-1c48-11ed-aae3-005056b02e0f-2-6fa0-d57f",
     "previous": "0a10bd80-adca-11ec-9d19-005056b02673-6-1434-2299-75aa-da47-7922-65e0"
    }
   },
   "source": [
    "### （必要に応じて）Pythonパッケージ追加\n",
    "\n",
    "- mdx VMのデプロイなど時間がかかる処理において、セル実行中の経過時間を表示するライブラリをインストールする。\n",
    "  - <https://pypi.org/project/jupyter-autotime/>"
   ]
  },
  {
   "cell_type": "code",
   "execution_count": null,
   "metadata": {
    "hidden": true,
    "lc_cell_meme": {
     "current": "3f20ccee-1c48-11ed-aae3-005056b02e0f-2-6fa0-d57f",
     "next": "0a10bede-adca-11ec-9d19-005056b02673-6-2a44-5331-e3ac-ac68-9283-5b9d",
     "previous": "3f20c942-1c48-11ed-aae3-005056b02e0f-2-93b6-704a"
    }
   },
   "outputs": [],
   "source": [
    "!pip install jupyter-autotime"
   ]
  },
  {
   "cell_type": "markdown",
   "metadata": {
    "heading_collapsed": true,
    "lc_cell_meme": {
     "current": "0a10bede-adca-11ec-9d19-005056b02673-6-2a44-5331-e3ac-ac68-9283-5b9d",
     "next": "52021760-adca-11ec-9d19-005056b02673-6-7907-3cc5-c34e-180a-7027-25b9",
     "previous": "3f20ccee-1c48-11ed-aae3-005056b02e0f-2-6fa0-d57f"
    }
   },
   "source": [
    "## mdx VM 作成\n",
    "\n",
    "1. VCP SDK mdx用プラグインモジュールの読み込み\n",
    "2. mdx VM作成に必要なパラメータ設定\n",
    "3. mdx VMデプロイ実行"
   ]
  },
  {
   "cell_type": "markdown",
   "metadata": {
    "hidden": true,
    "lc_cell_meme": {
     "current": "52021760-adca-11ec-9d19-005056b02673-6-7907-3cc5-c34e-180a-7027-25b9",
     "next": "52021940-adca-11ec-9d19-005056b02673-6-887d-d4a0-3298-bb59-2f1b-4813",
     "previous": "0a10bede-adca-11ec-9d19-005056b02673-6-2a44-5331-e3ac-ac68-9283-5b9d"
    }
   },
   "source": [
    "### VCP SDK mdx用プラグインモジュールの読み込み"
   ]
  },
  {
   "cell_type": "code",
   "execution_count": null,
   "metadata": {
    "hidden": true,
    "lc_cell_meme": {
     "current": "52021940-adca-11ec-9d19-005056b02673-6-887d-d4a0-3298-bb59-2f1b-4813",
     "next": "52021b52-adca-11ec-9d19-005056b02673-6-863b-18db-4ee9-57e3-aaaf-7110",
     "previous": "52021760-adca-11ec-9d19-005056b02673-6-7907-3cc5-c34e-180a-7027-25b9"
    },
    "lc_wrapper": {}
   },
   "outputs": [],
   "source": [
    "from common import logsetting\n",
    "from vcpsdk.plugins.mdx_ext import MdxResourceExt\n",
    "mdx = MdxResourceExt(mdx_token)"
   ]
  },
  {
   "cell_type": "markdown",
   "metadata": {
    "hidden": true,
    "lc_cell_meme": {
     "current": "52021b52-adca-11ec-9d19-005056b02673-6-863b-18db-4ee9-57e3-aaaf-7110",
     "next": "86a73580-1c48-11ed-aae3-005056b02e0f-2-73de-f312",
     "previous": "52021940-adca-11ec-9d19-005056b02673-6-887d-d4a0-3298-bb59-2f1b-4813"
    }
   },
   "source": [
    "### mdx VM作成に必要なパラメータ設定\n",
    "\n",
    "- プロジェクトID\n",
    "- ネットワークセグメントID\n",
    "- sshログインのための公開鍵"
   ]
  },
  {
   "cell_type": "markdown",
   "metadata": {
    "hidden": true,
    "lc_cell_meme": {
     "current": "86a73580-1c48-11ed-aae3-005056b02e0f-2-73de-f312",
     "next": "52021bca-adca-11ec-9d19-005056b02673-6-957e-8355-f43c-1991-6517-ace7",
     "previous": "52021b52-adca-11ec-9d19-005056b02673-6-863b-18db-4ee9-57e3-aaaf-7110"
    }
   },
   "source": [
    "自身が所属している（利用可能な）mdxのプロジェクト情報を確認する。"
   ]
  },
  {
   "cell_type": "code",
   "execution_count": null,
   "metadata": {
    "hidden": true,
    "lc_cell_meme": {
     "current": "52021bca-adca-11ec-9d19-005056b02673-6-957e-8355-f43c-1991-6517-ace7",
     "next": "86a73986-1c48-11ed-aae3-005056b02e0f-2-7046-b569",
     "previous": "86a73580-1c48-11ed-aae3-005056b02e0f-2-73de-f312"
    },
    "lc_wrapper": {}
   },
   "outputs": [],
   "source": [
    "import json\n",
    "projects = mdx.get_assigned_projects()\n",
    "print(json.dumps(projects[0][\"projects\"], indent=2))"
   ]
  },
  {
   "cell_type": "markdown",
   "metadata": {
    "hidden": true,
    "lc_cell_meme": {
     "current": "86a73986-1c48-11ed-aae3-005056b02e0f-2-7046-b569",
     "next": "998b7aa4-adca-11ec-9d19-005056b02673-6-9f16-d6c4-fc01-2924-6abb-e049",
     "previous": "52021bca-adca-11ec-9d19-005056b02673-6-957e-8355-f43c-1991-6517-ace7"
    }
   },
   "source": [
    "以降のmdx操作対象とする「プロジェクト名」 (`name`) を設定する。"
   ]
  },
  {
   "cell_type": "code",
   "execution_count": null,
   "metadata": {
    "hidden": true,
    "lc_cell_meme": {
     "current": "998b7aa4-adca-11ec-9d19-005056b02673-6-9f16-d6c4-fc01-2924-6abb-e049",
     "next": "ce2d9b88-1c48-11ed-aae3-005056b02e0f-2-9c35-3d08",
     "previous": "86a73986-1c48-11ed-aae3-005056b02e0f-2-7046-b569"
    },
    "lc_wrapper": {}
   },
   "outputs": [],
   "source": [
    "project_name = ''\n",
    "mdx.set_current_project_by_name(project_name)"
   ]
  },
  {
   "cell_type": "markdown",
   "metadata": {
    "hidden": true,
    "lc_cell_meme": {
     "current": "ce2d9b88-1c48-11ed-aae3-005056b02e0f-2-9c35-3d08",
     "next": "998b7e14-adca-11ec-9d19-005056b02673-6-01b5-a545-2549-220e-f81e-cf9b",
     "previous": "998b7aa4-adca-11ec-9d19-005056b02673-6-9f16-d6c4-fc01-2924-6abb-e049"
    }
   },
   "source": [
    "操作対象として設定したプロジェクト情報を確認する。"
   ]
  },
  {
   "cell_type": "code",
   "execution_count": null,
   "metadata": {
    "hidden": true,
    "lc_cell_meme": {
     "current": "998b7e14-adca-11ec-9d19-005056b02673-6-01b5-a545-2549-220e-f81e-cf9b",
     "next": "ce2d9f0c-1c48-11ed-aae3-005056b02e0f-2-4f60-c283",
     "previous": "ce2d9b88-1c48-11ed-aae3-005056b02e0f-2-9c35-3d08"
    },
    "lc_wrapper": {}
   },
   "outputs": [],
   "source": [
    "print(json.dumps(mdx.get_current_project(), indent=2))"
   ]
  },
  {
   "cell_type": "markdown",
   "metadata": {
    "hidden": true,
    "lc_cell_meme": {
     "current": "ce2d9f0c-1c48-11ed-aae3-005056b02e0f-2-4f60-c283",
     "next": "998b812a-adca-11ec-9d19-005056b02673-6-3e8b-24ef-7ab5-f235-ab53-170b",
     "previous": "998b7e14-adca-11ec-9d19-005056b02673-6-01b5-a545-2549-220e-f81e-cf9b"
    }
   },
   "source": [
    "プロジェクトで利用可能なットワークセグメントのリストを取得し、先頭のIDを設定する。"
   ]
  },
  {
   "cell_type": "code",
   "execution_count": null,
   "metadata": {
    "hidden": true,
    "lc_cell_meme": {
     "current": "998b812a-adca-11ec-9d19-005056b02673-6-3e8b-24ef-7ab5-f235-ab53-170b",
     "next": "ce2da0d8-1c48-11ed-aae3-005056b02e0f-2-388e-ce20",
     "previous": "ce2d9f0c-1c48-11ed-aae3-005056b02e0f-2-4f60-c283"
    },
    "lc_wrapper": {}
   },
   "outputs": [],
   "source": [
    "segments = mdx.get_segments()\n",
    "print(json.dumps(segments, indent=2))\n",
    "\n",
    "segment_id = mdx.get_segments()[0][\"uuid\"]\n",
    "print(segment_id)"
   ]
  },
  {
   "cell_type": "markdown",
   "metadata": {
    "hidden": true,
    "lc_cell_meme": {
     "current": "ce2da0d8-1c48-11ed-aae3-005056b02e0f-2-388e-ce20",
     "next": "998b7fc2-adca-11ec-9d19-005056b02673-6-6288-5054-c1db-ae7f-5a6c-98cd",
     "previous": "998b812a-adca-11ec-9d19-005056b02673-6-3e8b-24ef-7ab5-f235-ab53-170b"
    }
   },
   "source": [
    "sshログインのための公開鍵ファイルの内容を設定する"
   ]
  },
  {
   "cell_type": "code",
   "execution_count": null,
   "metadata": {
    "hidden": true,
    "lc_cell_meme": {
     "current": "998b7fc2-adca-11ec-9d19-005056b02673-6-6288-5054-c1db-ae7f-5a6c-98cd",
     "next": "998b827e-adca-11ec-9d19-005056b02673-6-8505-8402-e1a7-0ea7-094c-d44f",
     "previous": "ce2da0d8-1c48-11ed-aae3-005056b02e0f-2-388e-ce20"
    },
    "lc_wrapper": {}
   },
   "outputs": [],
   "source": [
    "import os\n",
    "with open(os.path.expanduser('~/.ssh/id_rsa.pub')) as f:\n",
    "    ssh_shared_key = f.read()\n",
    "print(ssh_shared_key)"
   ]
  },
  {
   "cell_type": "markdown",
   "metadata": {
    "hidden": true,
    "lc_cell_meme": {
     "current": "998b827e-adca-11ec-9d19-005056b02673-6-8505-8402-e1a7-0ea7-094c-d44f",
     "next": "15b3edea-1c49-11ed-aae3-005056b02e0f-3-b2b5-27c5-9ea3",
     "previous": "998b7fc2-adca-11ec-9d19-005056b02673-6-6288-5054-c1db-ae7f-5a6c-98cd"
    }
   },
   "source": [
    "### mdx VMデプロイ\n",
    "\n",
    "- ここでは、仮想マシンテンプレートとして「推奨版、東京大学制作、20220412-2043版」を使用する。\n",
    "  * 利用可能な仮想マシンテンプレートの一覧は、 `get_vm_catalogs()` により確認できる。\n",
    "- [ハードウェアのカスタマイズ項目](https://docs.mdx.jp/ja/main/create_vm.html#deploy-settings)は、以下の内容で設定する。\n",
    "  * 仮想マシン名: `\"handson-001\"` **（プロジェクト内で重複しないこと）**\n",
    "  * パックタイプ: `\"cpu\"`\n",
    "  * パック数: `3`\n",
    "  * 仮想ディスク(GB): `40`\n",
    "  * ストレージネットワーク: `\"portgroup\"`"
   ]
  },
  {
   "cell_type": "markdown",
   "metadata": {
    "hidden": true,
    "lc_cell_meme": {
     "current": "15b3edea-1c49-11ed-aae3-005056b02e0f-3-b2b5-27c5-9ea3",
     "execution_end_time": "2022-08-15T03:19:31.697647Z",
     "next": "5d3b58b0-1c49-11ed-aae3-005056b02e0f-2-9918-a03e",
     "previous": "998b827e-adca-11ec-9d19-005056b02673-6-8505-8402-e1a7-0ea7-094c-d44f"
    },
    "lc_wrapper": {}
   },
   "source": [
    "mdxVMにIPv4アドレスが付与されるまで5分程度かかるため、実行中のセルの経過時間を表示するライブラリ `jupyter-autotime` 機能を有効化しておく。"
   ]
  },
  {
   "cell_type": "code",
   "execution_count": null,
   "metadata": {
    "hidden": true,
    "lc_cell_meme": {
     "current": "5d3b58b0-1c49-11ed-aae3-005056b02e0f-2-9918-a03e",
     "next": "5d3b5d10-1c49-11ed-aae3-005056b02e0f-2-04bf-b389",
     "previous": "15b3edea-1c49-11ed-aae3-005056b02e0f-3-b2b5-27c5-9ea3"
    }
   },
   "outputs": [],
   "source": [
    "%load_ext autotime"
   ]
  },
  {
   "cell_type": "markdown",
   "metadata": {
    "hidden": true,
    "lc_cell_meme": {
     "current": "5d3b5d10-1c49-11ed-aae3-005056b02e0f-2-04bf-b389",
     "next": "c96a27a6-a69b-11ec-8db3-005056b02367-8-a794-ee5b-948a-3208-40ea-4b7a-c93f-9ddf",
     "previous": "5d3b58b0-1c49-11ed-aae3-005056b02e0f-2-9918-a03e"
    }
   },
   "source": [
    "VMのデプロイを実行する。デプロイ完了後、VM情報を出力する。"
   ]
  },
  {
   "cell_type": "code",
   "execution_count": null,
   "metadata": {
    "hidden": true,
    "lc_cell_meme": {
     "current": "c96a27a6-a69b-11ec-8db3-005056b02367-8-a794-ee5b-948a-3208-40ea-4b7a-c93f-9ddf",
     "next": "5d3b5edc-1c49-11ed-aae3-005056b02e0f-2-13d7-d92b",
     "previous": "5d3b5d10-1c49-11ed-aae3-005056b02e0f-2-04bf-b389"
    },
    "lc_wrapper": {}
   },
   "outputs": [],
   "source": [
    "DEFAULT_CATALOG = \"16a41081-a1cf-428e-90d0-a147b3aa6fc2\"\n",
    "DEFAULT_TEMPLATE_NAME = \"UT-20220412-2043-ubuntu-2004-server\"\n",
    "\n",
    "vm_name = \"handson_001\"\n",
    "\n",
    "mdx_spec = dict(\n",
    "    catalog=DEFAULT_CATALOG,\n",
    "    template_name=DEFAULT_TEMPLATE_NAME,\n",
    "    pack_num=3,\n",
    "    pack_type=\"cpu\",\n",
    "    disk_size=40,\n",
    "    gpu=\"0\",\n",
    "    network_adapters=[\n",
    "        dict(\n",
    "            adapter_number=1,\n",
    "            segment=segment_id\n",
    "        )\n",
    "    ],\n",
    "    shared_key=ssh_shared_key,\n",
    "    storage_network=\"portgroup\",\n",
    ")\n",
    "\n",
    "info = mdx.deploy_vm(vm_name, mdx_spec)\n",
    "\n",
    "print(json.dumps(info, indent=2))"
   ]
  },
  {
   "cell_type": "code",
   "execution_count": null,
   "metadata": {
    "hidden": true,
    "lc_cell_meme": {
     "current": "5d3b5edc-1c49-11ed-aae3-005056b02e0f-2-13d7-d92b",
     "next": "5d3b604e-1c49-11ed-aae3-005056b02e0f-2-545a-0cc8",
     "previous": "c96a27a6-a69b-11ec-8db3-005056b02367-8-a794-ee5b-948a-3208-40ea-4b7a-c93f-9ddf"
    }
   },
   "outputs": [],
   "source": [
    "# jupyter-autotime を無効化\n",
    "%unload_ext autotime"
   ]
  },
  {
   "cell_type": "markdown",
   "metadata": {
    "hidden": true,
    "lc_cell_meme": {
     "current": "5d3b604e-1c49-11ed-aae3-005056b02e0f-2-545a-0cc8",
     "next": "b687cc5e-abc5-11ec-a2a8-005056b02367-8-6a69-bb3c-21cd-a9c5-a49d-632d-e5b4-11ed",
     "previous": "5d3b5edc-1c49-11ed-aae3-005056b02e0f-2-13d7-d92b"
    }
   },
   "source": [
    "VMに付与されたプライベートIPv4アドレス (先頭のアドレス) を取得する。"
   ]
  },
  {
   "cell_type": "code",
   "execution_count": null,
   "metadata": {
    "hidden": true,
    "lc_cell_meme": {
     "current": "b687cc5e-abc5-11ec-a2a8-005056b02367-8-6a69-bb3c-21cd-a9c5-a49d-632d-e5b4-11ed",
     "next": "8ef116da-abc7-11ec-a2a8-005056b02367-8-dd9a-4b31-fc58-3627-8587-a907-0f4f-8267",
     "previous": "5d3b604e-1c49-11ed-aae3-005056b02e0f-2-545a-0cc8"
    },
    "lc_wrapper": {}
   },
   "outputs": [],
   "source": [
    "host_ip_address = info[\"service_networks\"][0][\"ipv4_address\"][0]\n",
    "host_ip_address"
   ]
  },
  {
   "cell_type": "markdown",
   "metadata": {
    "heading_collapsed": true,
    "lc_cell_meme": {
     "current": "8ef116da-abc7-11ec-a2a8-005056b02367-8-dd9a-4b31-fc58-3627-8587-a907-0f4f-8267",
     "next": "704c6e86-adcb-11ec-9d19-005056b02673-6-f468-c889-fef1-8814-9120-ba35",
     "previous": "b687cc5e-abc5-11ec-a2a8-005056b02367-8-6a69-bb3c-21cd-a9c5-a49d-632d-e5b4-11ed"
    }
   },
   "source": [
    "## VCP既存サーバ (SSH) モード セットアップ\n",
    "\n",
    "1. mdx VMへの疎通確認\n",
    "2. VM初期パスワード設定\n",
    "3. 既存サーバ(SSH) モード セットアップスクリプトをmdx VMへのコピー\n",
    "4. 既存サーバ(SSH) モード セットアップ実行\n",
    "5. Docker のインストール確認"
   ]
  },
  {
   "cell_type": "markdown",
   "metadata": {
    "hidden": true,
    "lc_cell_meme": {
     "current": "704c6e86-adcb-11ec-9d19-005056b02673-6-f468-c889-fef1-8814-9120-ba35",
     "next": "109ccc2a-abcc-11ec-a2a8-005056b02367-8-7dd5-353c-4022-8cec-6487-be2c-2f2f-e51f",
     "previous": "8ef116da-abc7-11ec-a2a8-005056b02367-8-dd9a-4b31-fc58-3627-8587-a907-0f4f-8267"
    }
   },
   "source": [
    "### mdx VMへの疎通確認"
   ]
  },
  {
   "cell_type": "code",
   "execution_count": null,
   "metadata": {
    "hidden": true,
    "lc_cell_meme": {
     "current": "109ccc2a-abcc-11ec-a2a8-005056b02367-8-7dd5-353c-4022-8cec-6487-be2c-2f2f-e51f",
     "next": "704c720a-adcb-11ec-9d19-005056b02673-6-d952-2943-e353-6590-f514-39f3",
     "previous": "704c6e86-adcb-11ec-9d19-005056b02673-6-f468-c889-fef1-8814-9120-ba35"
    },
    "lc_wrapper": {},
    "scrolled": false
   },
   "outputs": [],
   "source": [
    "!ping -c 3 {host_ip_address}"
   ]
  },
  {
   "cell_type": "markdown",
   "metadata": {
    "hidden": true,
    "lc_cell_meme": {
     "current": "704c720a-adcb-11ec-9d19-005056b02673-6-d952-2943-e353-6590-f514-39f3",
     "next": "f6de0c84-1c57-11ed-aae3-005056b02e0f-1-1d63",
     "previous": "109ccc2a-abcc-11ec-a2a8-005056b02367-8-7dd5-353c-4022-8cec-6487-be2c-2f2f-e51f"
    }
   },
   "source": [
    "### VM初期パスワード設定\n",
    "\n",
    "* 仮想マシンテンプレート「推奨版、東京大学制作、20220412-2043版」では、初回ログイン時にはOSのパスワード設定が求められる\n",
    "* ログインユーザ名は `mdxuser`"
   ]
  },
  {
   "cell_type": "markdown",
   "metadata": {
    "hidden": true,
    "lc_cell_meme": {
     "current": "f6de0c84-1c57-11ed-aae3-005056b02e0f-1-1d63",
     "next": "204926d6-1c57-11ed-aae3-005056b02e0f-1-f73c",
     "previous": "704c720a-adcb-11ec-9d19-005056b02673-6-d952-2943-e353-6590-f514-39f3"
    }
   },
   "source": [
    "VMの初期パスワードをSSH経由で設定するために必要なパラメータを設定する。"
   ]
  },
  {
   "cell_type": "code",
   "execution_count": null,
   "metadata": {
    "hidden": true,
    "lc_cell_meme": {
     "current": "204926d6-1c57-11ed-aae3-005056b02e0f-1-f73c",
     "next": "3e65b908-1c58-11ed-aae3-005056b02e0f-1-8c4d",
     "previous": "f6de0c84-1c57-11ed-aae3-005056b02e0f-1-1d63"
    },
    "lc_wrapper": {}
   },
   "outputs": [],
   "source": [
    "ssh_user_name = \"mdxuser\"\n",
    "ssh_private_key_path = os.path.expanduser(\"~/.ssh/id_rsa\")\n",
    "mdx_user_password = \"handson2209_mdx_vm_initial_password\""
   ]
  },
  {
   "cell_type": "markdown",
   "metadata": {
    "hidden": true,
    "lc_cell_meme": {
     "current": "3e65b908-1c58-11ed-aae3-005056b02e0f-1-8c4d",
     "next": "8ef11aea-abc7-11ec-a2a8-005056b02367-8-f0bc-6b5e-ca4f-4dc6-2f3b-d921-d7fb-90ae",
     "previous": "204926d6-1c57-11ed-aae3-005056b02e0f-1-f73c"
    }
   },
   "source": [
    "expectスクリプトを用いてVMの初期パスワード設定を実行する。"
   ]
  },
  {
   "cell_type": "code",
   "execution_count": null,
   "metadata": {
    "hidden": true,
    "lc_cell_meme": {
     "current": "8ef11aea-abc7-11ec-a2a8-005056b02367-8-f0bc-6b5e-ca4f-4dc6-2f3b-d921-d7fb-90ae",
     "next": "b7d48e8c-adcb-11ec-9d19-005056b02673-6-0a01-87fe-ce1b-e7cc-64e8-75c1",
     "previous": "3e65b908-1c58-11ed-aae3-005056b02e0f-1-8c4d"
    },
    "lc_wrapper": {},
    "scrolled": false
   },
   "outputs": [],
   "source": [
    "!./scripts/init_mdx_passwd.exp {ssh_user_name} {host_ip_address} {ssh_private_key_path} {mdx_user_password}"
   ]
  },
  {
   "cell_type": "markdown",
   "metadata": {
    "hidden": true,
    "lc_cell_meme": {
     "current": "b7d48e8c-adcb-11ec-9d19-005056b02673-6-0a01-87fe-ce1b-e7cc-64e8-75c1",
     "next": "c748b6bc-ac05-11ec-a2a8-005056b02367-8-4845-9479-e450-3471-c702-a59c-aa45-d8de",
     "previous": "8ef11aea-abc7-11ec-a2a8-005056b02367-8-f0bc-6b5e-ca4f-4dc6-2f3b-d921-d7fb-90ae"
    }
   },
   "source": [
    "### 既存サーバ(SSH) モード セットアップスクリプトをmdx VMへのコピー"
   ]
  },
  {
   "cell_type": "code",
   "execution_count": null,
   "metadata": {
    "hidden": true,
    "lc_cell_meme": {
     "current": "c748b6bc-ac05-11ec-a2a8-005056b02367-8-4845-9479-e450-3471-c702-a59c-aa45-d8de",
     "next": "408d5876-ac05-11ec-a2a8-005056b02367-8-ff94-c6ca-1092-25b4-a09e-f2c9-88b1-4f4e",
     "previous": "b7d48e8c-adcb-11ec-9d19-005056b02673-6-0a01-87fe-ce1b-e7cc-64e8-75c1"
    },
    "lc_wrapper": {}
   },
   "outputs": [],
   "source": [
    "# notebookからmdx VMへのsshコマンドオプション\n",
    "ssh_opts = f\" -i {ssh_private_key_path} -o StrictHostKeyChecking=no -o UserKnownHostsFile=/dev/null\""
   ]
  },
  {
   "cell_type": "code",
   "execution_count": null,
   "metadata": {
    "hidden": true,
    "lc_cell_meme": {
     "current": "408d5876-ac05-11ec-a2a8-005056b02367-8-ff94-c6ca-1092-25b4-a09e-f2c9-88b1-4f4e",
     "next": "b7d49206-adcb-11ec-9d19-005056b02673-6-8fe4-2486-75b9-3ae7-2f6c-e50d",
     "previous": "c748b6bc-ac05-11ec-a2a8-005056b02367-8-4845-9479-e450-3471-c702-a59c-aa45-d8de"
    },
    "lc_wrapper": {},
    "scrolled": true
   },
   "outputs": [],
   "source": [
    "!scp -i tmp/id_rsa -o StrictHostKeyChecking=no -o UserKnownHostsFile=/dev/null scripts/init_mdx_node.sh {ssh_user_name}@{host_ip_address}:"
   ]
  },
  {
   "cell_type": "markdown",
   "metadata": {
    "hidden": true,
    "lc_cell_meme": {
     "current": "b7d49206-adcb-11ec-9d19-005056b02673-6-8fe4-2486-75b9-3ae7-2f6c-e50d",
     "next": "4ee67ce2-abcc-11ec-a2a8-005056b02367-8-68be-d01b-c181-e41d-46c2-5fa8-dad4-d7b7",
     "previous": "408d5876-ac05-11ec-a2a8-005056b02367-8-ff94-c6ca-1092-25b4-a09e-f2c9-88b1-4f4e"
    }
   },
   "source": [
    "### 既存サーバ(SSH) モード セットアップ実行\n",
    "\n",
    "- docker-ce インストール\n",
    "- sshd_config 設定変更: Port 20022 "
   ]
  },
  {
   "cell_type": "code",
   "execution_count": null,
   "metadata": {
    "hidden": true,
    "lc_cell_meme": {
     "current": "4ee67ce2-abcc-11ec-a2a8-005056b02367-8-68be-d01b-c181-e41d-46c2-5fa8-dad4-d7b7",
     "next": "46e9d884-adcc-11ec-9d19-005056b02673-6-59ac-89f4-2953-a86a-70cc-c842",
     "previous": "b7d49206-adcb-11ec-9d19-005056b02673-6-8fe4-2486-75b9-3ae7-2f6c-e50d"
    },
    "lc_wrapper": {},
    "scrolled": true
   },
   "outputs": [],
   "source": [
    "!ssh {ssh_opts} {ssh_user_name}@{host_ip_address} ./init_mdx_node.sh"
   ]
  },
  {
   "cell_type": "markdown",
   "metadata": {
    "hidden": true,
    "lc_cell_meme": {
     "current": "46e9d884-adcc-11ec-9d19-005056b02673-6-59ac-89f4-2953-a86a-70cc-c842",
     "next": "51c24eca-ac06-11ec-a2a8-005056b02367-8-9e06-e96a-617e-7f01-1dfc-4508-7636-a76d",
     "previous": "4ee67ce2-abcc-11ec-a2a8-005056b02367-8-68be-d01b-c181-e41d-46c2-5fa8-dad4-d7b7"
    }
   },
   "source": [
    "### Docker のインストール確認"
   ]
  },
  {
   "cell_type": "code",
   "execution_count": null,
   "metadata": {
    "hidden": true,
    "lc_cell_meme": {
     "current": "51c24eca-ac06-11ec-a2a8-005056b02367-8-9e06-e96a-617e-7f01-1dfc-4508-7636-a76d",
     "next": "849cce5e-ac0d-11ec-a2a8-005056b02367-8-9119-a7c1-4e7c-85ce-1669-6d2d-008a-a6a3",
     "previous": "46e9d884-adcc-11ec-9d19-005056b02673-6-59ac-89f4-2953-a86a-70cc-c842"
    },
    "lc_wrapper": {},
    "scrolled": true
   },
   "outputs": [],
   "source": [
    "!ssh {ssh_opts} -p 20022 {ssh_user_name}@{host_ip_address} sudo docker ps"
   ]
  },
  {
   "cell_type": "markdown",
   "metadata": {
    "heading_collapsed": true,
    "lc_cell_meme": {
     "current": "849cce5e-ac0d-11ec-a2a8-005056b02367-8-9119-a7c1-4e7c-85ce-1669-6d2d-008a-a6a3",
     "next": "ac82251a-adcd-11ec-9d19-005056b02673-6-b739-c273-1122-6b9c-f829-0495",
     "previous": "51c24eca-ac06-11ec-a2a8-005056b02367-8-9e06-e96a-617e-7f01-1dfc-4508-7636-a76d"
    }
   },
   "source": [
    "## VCP SDKによるVCノード起動確認\n",
    "\n",
    "1. VCP SDK 初期化\n",
    "2. Portable VCコントローラ公開鍵設定\n",
    "3. VCノード起動パラメータ設定\n",
    "4. VCノード起動\n",
    "5. Applicationコンテナの起動確認"
   ]
  },
  {
   "cell_type": "markdown",
   "metadata": {
    "hidden": true,
    "lc_cell_meme": {
     "current": "ac82251a-adcd-11ec-9d19-005056b02673-6-b739-c273-1122-6b9c-f829-0495",
     "next": "a1b40750-adcf-11ec-9d19-005056b02673-6-655d-c912-0a90-0438-bbe2-c5b0",
     "previous": "849cce5e-ac0d-11ec-a2a8-005056b02367-8-9119-a7c1-4e7c-85ce-1669-6d2d-008a-a6a3"
    }
   },
   "source": [
    "### VCP SDK 初期化\n",
    "\n",
    "VCP SDKを利用するにはVC Controllerのアクセストークンが必要となります。次のセルを実行すると入力枠が表示されるのでアクセストークンの値を入力してください。\n",
    "\n",
    "> アクセストークン入力後に Enter キーを押すことで入力が完了します。\n",
    "\n",
    "OCSハンズオン用トークンはこちら→ [token.txt](/jupyter/files/token.txt)"
   ]
  },
  {
   "cell_type": "code",
   "execution_count": null,
   "metadata": {
    "hidden": true,
    "lc_cell_meme": {
     "current": "a1b40750-adcf-11ec-9d19-005056b02673-6-655d-c912-0a90-0438-bbe2-c5b0",
     "next": "99ffd5de-ac0d-11ec-a2a8-005056b02367-7-ba01-175d-ee95-736b-4951-9b15-1d57",
     "previous": "ac82251a-adcd-11ec-9d19-005056b02673-6-b739-c273-1122-6b9c-f829-0495"
    },
    "lc_wrapper": {}
   },
   "outputs": [],
   "source": [
    "# VCP REST API アクセストークンの入力\n",
    "from getpass import getpass\n",
    "vcc_access_token = getpass()"
   ]
  },
  {
   "cell_type": "code",
   "execution_count": null,
   "metadata": {
    "hidden": true,
    "lc_cell_meme": {
     "current": "99ffd5de-ac0d-11ec-a2a8-005056b02367-7-ba01-175d-ee95-736b-4951-9b15-1d57",
     "next": "ac822a2e-adcd-11ec-9d19-005056b02673-6-e405-f311-581e-182d-1887-5369",
     "previous": "a1b40750-adcf-11ec-9d19-005056b02673-6-655d-c912-0a90-0438-bbe2-c5b0"
    },
    "lc_wrapper": {},
    "scrolled": true
   },
   "outputs": [],
   "source": [
    "from vcpsdk.vcpsdk import VcpSDK\n",
    "sdk = VcpSDK(vcc_access_token)\n",
    "\n",
    "# VCP SDK バージョン確認\n",
    "sdk.version()"
   ]
  },
  {
   "cell_type": "markdown",
   "metadata": {
    "hidden": true,
    "lc_cell_meme": {
     "current": "ac822a2e-adcd-11ec-9d19-005056b02673-6-e405-f311-581e-182d-1887-5369",
     "next": "91c13c2c-ac13-11ec-a2a8-005056b02367-7-065c-0f95-d14a-9fad-9d5c-abc3-d588",
     "previous": "99ffd5de-ac0d-11ec-a2a8-005056b02367-7-ba01-175d-ee95-736b-4951-9b15-1d57"
    }
   },
   "source": [
    "### VCコントローラ公開鍵設定\n",
    "\n",
    "VCコントローラがmdx VMを既存サーバ(SSH) モードで制御するための SSH 公開鍵を mdx VM に設定する。"
   ]
  },
  {
   "cell_type": "code",
   "execution_count": null,
   "metadata": {
    "hidden": true,
    "lc_cell_meme": {
     "current": "91c13c2c-ac13-11ec-a2a8-005056b02367-7-065c-0f95-d14a-9fad-9d5c-abc3-d588",
     "next": "071ccfa4-ac14-11ec-a2a8-005056b02367-7-488f-cbd0-54c5-aa6a-fa34-1b42-9ca8",
     "previous": "ac822a2e-adcd-11ec-9d19-005056b02673-6-e405-f311-581e-182d-1887-5369"
    },
    "lc_wrapper": {}
   },
   "outputs": [],
   "source": [
    "# VCコントローラが既存サーバを操作するときに使うssh公開鍵を取得する\n",
    "vcc_ssh_pubkey = sdk.get_publickey()"
   ]
  },
  {
   "cell_type": "code",
   "execution_count": null,
   "metadata": {
    "hidden": true,
    "lc_cell_meme": {
     "current": "071ccfa4-ac14-11ec-a2a8-005056b02367-7-488f-cbd0-54c5-aa6a-fa34-1b42-9ca8",
     "next": "3b9566d6-adce-11ec-9d19-005056b02673-6-a29b-6f13-97d5-0249-c670-64d0",
     "previous": "91c13c2c-ac13-11ec-a2a8-005056b02367-7-065c-0f95-d14a-9fad-9d5c-abc3-d588"
    },
    "lc_wrapper": {}
   },
   "outputs": [],
   "source": [
    "!echo \"{vcc_ssh_pubkey}\" | (ssh {ssh_opts} -p20022 {ssh_user_name}@{host_ip_address} \"cat >> ~/.ssh/authorized_keys\")"
   ]
  },
  {
   "cell_type": "markdown",
   "metadata": {
    "hidden": true,
    "lc_cell_meme": {
     "current": "3b9566d6-adce-11ec-9d19-005056b02673-6-a29b-6f13-97d5-0249-c670-64d0",
     "next": "b79d7be4-ac14-11ec-a2a8-005056b02367-7-8293-f24d-154a-2f45-4500-154d-87db",
     "previous": "071ccfa4-ac14-11ec-a2a8-005056b02367-7-488f-cbd0-54c5-aa6a-fa34-1b42-9ca8"
    }
   },
   "source": [
    "### VCノード起動パラメータ設定\n",
    "\n",
    "1. Unit Group 作成\n",
    "2. BaseコンテナへのSSHログイン用鍵ペア作成\n",
    "3. Unit の spec 指定\n",
    "  * クラウドプロバイダ名は `\"onpremises\"` を指定\n",
    "  * `ip_addresses`: Baseコンテナを起動するホストのIPアドレス\n",
    "  * `user_name`: Baseコンテナを起動するホスト上のsudo可能なアカウント名 (mdx VMテンプレート毎に既定）\n",
    "  * `set_ssh_pubkey`: BaseコンテナへのSSHログイン用公開鍵ファイルのパス"
   ]
  },
  {
   "cell_type": "code",
   "execution_count": null,
   "metadata": {
    "hidden": true,
    "lc_cell_meme": {
     "current": "b79d7be4-ac14-11ec-a2a8-005056b02367-7-8293-f24d-154a-2f45-4500-154d-87db",
     "next": "c5641878-ac14-11ec-a2a8-005056b02367-7-2ae1-cd9f-7cfb-65ba-09a8-281a-e6b2",
     "previous": "3b9566d6-adce-11ec-9d19-005056b02673-6-a29b-6f13-97d5-0249-c670-64d0"
    },
    "lc_wrapper": {},
    "scrolled": true
   },
   "outputs": [],
   "source": [
    "my_ugroup_name = \"mdx\"\n",
    "ugroup = sdk.create_ugroup(my_ugroup_name)"
   ]
  },
  {
   "cell_type": "code",
   "execution_count": null,
   "metadata": {
    "hidden": true,
    "lc_cell_meme": {
     "current": "c5641878-ac14-11ec-a2a8-005056b02367-7-2ae1-cd9f-7cfb-65ba-09a8-281a-e6b2",
     "next": "7afcfad4-ac14-11ec-a2a8-005056b02367-7-3fd0-7b67-6651-c10d-2db7-29e2-c109",
     "previous": "b79d7be4-ac14-11ec-a2a8-005056b02367-7-8293-f24d-154a-2f45-4500-154d-87db"
    },
    "lc_wrapper": {}
   },
   "outputs": [],
   "source": [
    "print(ugroup)"
   ]
  },
  {
   "cell_type": "code",
   "execution_count": null,
   "metadata": {
    "hidden": true,
    "lc_cell_meme": {
     "current": "7afcfad4-ac14-11ec-a2a8-005056b02367-7-3fd0-7b67-6651-c10d-2db7-29e2-c109",
     "next": "83156074-adce-11ec-9d19-005056b02673-6-d545-0fbd-28b4-7cf9-2244-c380",
     "previous": "c5641878-ac14-11ec-a2a8-005056b02367-7-2ae1-cd9f-7cfb-65ba-09a8-281a-e6b2"
    },
    "lc_wrapper": {}
   },
   "outputs": [],
   "source": [
    "spec = sdk.get_spec(\"onpremises\", \"default\")\n",
    "spec.ip_addresses = [host_ip_address]\n",
    "spec.user_name = ssh_user_name\n",
    "spec.set_ssh_pubkey(os.path.expanduser(\"~/.ssh/id_rsa.pub\"))"
   ]
  },
  {
   "cell_type": "markdown",
   "metadata": {
    "hidden": true,
    "lc_cell_meme": {
     "current": "83156074-adce-11ec-9d19-005056b02673-6-d545-0fbd-28b4-7cf9-2244-c380",
     "next": "4ea35e60-ac14-11ec-a2a8-005056b02367-7-0451-f48c-28b5-46f8-c74b-1fdd-4e08",
     "previous": "7afcfad4-ac14-11ec-a2a8-005056b02367-7-3fd0-7b67-6651-c10d-2db7-29e2-c109"
    }
   },
   "source": [
    "### VCノード起動"
   ]
  },
  {
   "cell_type": "code",
   "execution_count": null,
   "metadata": {
    "hidden": true,
    "lc_cell_meme": {
     "current": "4ea35e60-ac14-11ec-a2a8-005056b02367-7-0451-f48c-28b5-46f8-c74b-1fdd-4e08",
     "next": "b79d7ebe-ac14-11ec-a2a8-005056b02367-7-39d2-b746-841d-2f77-3555-36fd-02b2",
     "previous": "83156074-adce-11ec-9d19-005056b02673-6-d545-0fbd-28b4-7cf9-2244-c380"
    },
    "lc_wrapper": {}
   },
   "outputs": [],
   "source": [
    "unit_name = \"mdx_server\"\n",
    "unit = ugroup.create_unit(unit_name, spec, wait_for=True, verbose=0)"
   ]
  },
  {
   "cell_type": "code",
   "execution_count": null,
   "metadata": {
    "hidden": true,
    "lc_cell_meme": {
     "current": "b79d7ebe-ac14-11ec-a2a8-005056b02367-7-39d2-b746-841d-2f77-3555-36fd-02b2",
     "next": "d5ee54ce-adcc-11ec-9d19-005056b02673-6-54e5-2577-cb64-0d59-8055-3798",
     "previous": "4ea35e60-ac14-11ec-a2a8-005056b02367-7-0451-f48c-28b5-46f8-c74b-1fdd-4e08"
    },
    "lc_wrapper": {},
    "scrolled": true
   },
   "outputs": [],
   "source": [
    "ugroup.df_nodes()"
   ]
  },
  {
   "cell_type": "markdown",
   "metadata": {
    "hidden": true,
    "lc_cell_meme": {
     "current": "d5ee54ce-adcc-11ec-9d19-005056b02673-6-54e5-2577-cb64-0d59-8055-3798",
     "next": "8450f11a-ac16-11ec-a2a8-005056b02367-7-b7e7-6335-0a3b-b2c3-9fd0-feb9-ebca",
     "previous": "b79d7ebe-ac14-11ec-a2a8-005056b02367-7-39d2-b746-841d-2f77-3555-36fd-02b2"
    }
   },
   "source": [
    "### Applicationコンテナの起動確認\n",
    "\n",
    "`hello-world` コンテナを実行する。"
   ]
  },
  {
   "cell_type": "code",
   "execution_count": null,
   "metadata": {
    "hidden": true,
    "lc_cell_meme": {
     "current": "8450f11a-ac16-11ec-a2a8-005056b02367-7-b7e7-6335-0a3b-b2c3-9fd0-feb9-ebca",
     "next": "075e14e6-add1-11ec-9d19-005056b02673-6-9f9a-194b-3ef0-d157-587b-b689",
     "previous": "d5ee54ce-adcc-11ec-9d19-005056b02673-6-54e5-2577-cb64-0d59-8055-3798"
    },
    "lc_wrapper": {}
   },
   "outputs": [],
   "source": [
    "!ssh {ssh_opts} root@{host_ip_address} /usr/local/bin/docker run hello-world"
   ]
  },
  {
   "cell_type": "markdown",
   "metadata": {
    "heading_collapsed": true,
    "lc_cell_meme": {
     "current": "075e14e6-add1-11ec-9d19-005056b02673-6-9f9a-194b-3ef0-d157-587b-b689",
     "next": "2536c0fc-ac15-11ec-a2a8-005056b02367-7-fa6e-a81c-8373-27b4-6f7f-ad21-1025",
     "previous": "8450f11a-ac16-11ec-a2a8-005056b02367-7-b7e7-6335-0a3b-b2c3-9fd0-feb9-ebca"
    }
   },
   "source": [
    "## VCノード削除\n",
    "\n",
    "ここでは VC ノードとしての動作確認を行った Unit Group の cleanup を実行するが、\n",
    "VCP既存サーバ(SSH) モードをセットアップ済みの mdx VM は VC ノードとして再利用可能である。"
   ]
  },
  {
   "cell_type": "code",
   "execution_count": null,
   "metadata": {
    "hidden": true,
    "lc_cell_meme": {
     "current": "2536c0fc-ac15-11ec-a2a8-005056b02367-7-fa6e-a81c-8373-27b4-6f7f-ad21-1025",
     "next": "e93a8eaa-adcf-11ec-9d19-005056b02673-6-6ab0-5679-b44b-0209-3b06-b02f",
     "previous": "075e14e6-add1-11ec-9d19-005056b02673-6-9f9a-194b-3ef0-d157-587b-b689"
    },
    "lc_wrapper": {},
    "scrolled": true
   },
   "outputs": [],
   "source": [
    "ugroup.cleanup()"
   ]
  },
  {
   "cell_type": "code",
   "execution_count": null,
   "metadata": {
    "hidden": true,
    "lc_cell_meme": {
     "current": "e93a8eaa-adcf-11ec-9d19-005056b02673-6-6ab0-5679-b44b-0209-3b06-b02f",
     "next": null,
     "previous": "2536c0fc-ac15-11ec-a2a8-005056b02367-7-fa6e-a81c-8373-27b4-6f7f-ad21-1025"
    },
    "lc_wrapper": {}
   },
   "outputs": [],
   "source": [
    "sdk.df_ugroups()"
   ]
  }
 ],
 "metadata": {
  "kernelspec": {
   "display_name": "Python 3",
   "language": "python",
   "name": "python3"
  },
  "language_info": {
   "file_extension": ".py",
   "mimetype": "text/x-python",
   "name": "python",
   "nbconvert_exporter": "python",
   "pygments_lexer": "ipython3",
   "version": "3.9.7"
  },
  "toc": {
   "base_numbering": 1,
   "nav_menu": {},
   "number_sections": true,
   "sideBar": true,
   "skip_h1_title": true,
   "title_cell": "Table of Contents",
   "title_sidebar": "Contents",
   "toc_cell": false,
   "toc_position": {},
   "toc_section_display": true,
   "toc_window_display": true
  }
 },
 "nbformat": 4,
 "nbformat_minor": 4
}
