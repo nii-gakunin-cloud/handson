{
 "cells": [
  {
   "cell_type": "markdown",
   "metadata": {
    "lc_cell_meme": {
     "current": "04a8b534-e649-11ec-a879-02420a010016",
     "history": [
      {
       "current": "90427dfc-e4c6-11ec-9f5e-02420a01002a-1-7f63",
       "next": null,
       "previous": null
      },
      {
       "current": "90427dfc-e4c6-11ec-9f5e-02420a01002a-1-7f63",
       "next": "1f5344d6-e4c7-11ec-9f5e-02420a01002a",
       "previous": null
      },
      {
       "current": "90427dfc-e4c6-11ec-9f5e-02420a01002a-1-7f63",
       "next": "fc37c38a-e4cd-11ec-9f5e-02420a01002a",
       "previous": null
      },
      {
       "current": "048caa9a-e646-11ec-81ef-02420a010016",
       "next": "048cab8a-e646-11ec-81ef-02420a010016",
       "previous": null
      }
     ],
     "next": "04a8b624-e649-11ec-a879-02420a010016",
     "previous": null
    }
   },
   "source": [
    "**★（注意）共有フォルダにあるNotebookは読み込み専用です★**\n",
    "\n",
    "このNotebookをホームディレクトリにコピーして利用するには、以下のセルを実行してください。"
   ]
  },
  {
   "cell_type": "code",
   "execution_count": null,
   "metadata": {
    "lc_cell_meme": {
     "current": "04a8b624-e649-11ec-a879-02420a010016",
     "history": [
      {
       "current": "fc37c38a-e4cd-11ec-9f5e-02420a01002a",
       "next": "fc37c786-e4cd-11ec-9f5e-02420a01002a",
       "previous": "90427dfc-e4c6-11ec-9f5e-02420a01002a-1-7f63"
      },
      {
       "current": "048cab8a-e646-11ec-81ef-02420a010016",
       "next": "048cac3e-e646-11ec-81ef-02420a010016",
       "previous": "048caa9a-e646-11ec-81ef-02420a010016"
      }
     ],
     "next": "04a8b6d8-e649-11ec-a879-02420a010016",
     "previous": "04a8b534-e649-11ec-a879-02420a010016"
    }
   },
   "outputs": [],
   "source": [
    "!cp ~/shared/sample-notebook.ipynb ~/sample-notebook-Copy1.ipynb"
   ]
  },
  {
   "cell_type": "markdown",
   "metadata": {
    "lc_cell_meme": {
     "current": "04a8b6d8-e649-11ec-a879-02420a010016",
     "history": [
      {
       "current": "fc37c786-e4cd-11ec-9f5e-02420a01002a",
       "next": "1f5344d6-e4c7-11ec-9f5e-02420a01002a",
       "previous": "fc37c38a-e4cd-11ec-9f5e-02420a01002a"
      },
      {
       "current": "048cac3e-e646-11ec-81ef-02420a010016",
       "next": "048cacd4-e646-11ec-81ef-02420a010016",
       "previous": "048cab8a-e646-11ec-81ef-02420a010016"
      }
     ],
     "next": "04a8b778-e649-11ec-a879-02420a010016",
     "previous": "04a8b624-e649-11ec-a879-02420a010016"
    }
   },
   "source": [
    "ホームディレクトリにコピーしたNotebookを開く ⇒ [sample-notebook-Copy1](../sample-notebook-Copy1.ipynb)"
   ]
  },
  {
   "cell_type": "markdown",
   "metadata": {
    "lc_cell_meme": {
     "current": "04a8b778-e649-11ec-a879-02420a010016",
     "history": [
      {
       "current": "1f5344d6-e4c7-11ec-9f5e-02420a01002a",
       "next": "1f53483c-e4c7-11ec-9f5e-02420a01002a",
       "previous": "90427dfc-e4c6-11ec-9f5e-02420a01002a-1-7f63"
      },
      {
       "current": "1f5344d6-e4c7-11ec-9f5e-02420a01002a",
       "next": "1f53483c-e4c7-11ec-9f5e-02420a01002a",
       "previous": "fc37c786-e4cd-11ec-9f5e-02420a01002a"
      },
      {
       "current": "048cacd4-e646-11ec-81ef-02420a010016",
       "next": "048cad6a-e646-11ec-81ef-02420a010016",
       "previous": "048cac3e-e646-11ec-81ef-02420a010016"
      },
      {
       "current": "04a8b778-e649-11ec-a879-02420a010016",
       "next": "04a8b822-e649-11ec-a879-02420a010016",
       "previous": "04a8b6d8-e649-11ec-a879-02420a010016"
      }
     ],
     "next": "e504a846-e6d9-11ec-b487-02420a01007e",
     "previous": "04a8b6d8-e649-11ec-a879-02420a010016"
    }
   },
   "source": [
    "----\n",
    "\n",
    "*このNotebookは、[Google Colaboratory](https://colab.research.google.com/) の紹介ページにあるサンプルコードのコピーです。*\n",
    "\n",
    "----"
   ]
  },
  {
   "cell_type": "markdown",
   "metadata": {
    "lc_cell_meme": {
     "current": "e504a846-e6d9-11ec-b487-02420a01007e",
     "next": "04a8b822-e649-11ec-a879-02420a010016",
     "previous": "04a8b778-e649-11ec-a879-02420a010016"
    }
   },
   "source": [
    "# サンプルコード (1)\n",
    "\n",
    "値を計算して変数に保存し、結果を出力する短いPythonスクリプトの例です。"
   ]
  },
  {
   "cell_type": "code",
   "execution_count": null,
   "metadata": {
    "lc_cell_meme": {
     "current": "04a8b822-e649-11ec-a879-02420a010016",
     "history": [
      {
       "current": "1f53483c-e4c7-11ec-9f5e-02420a01002a",
       "next": "66d789b6-e4c7-11ec-9f5e-02420a01002a",
       "previous": "1f5344d6-e4c7-11ec-9f5e-02420a01002a"
      },
      {
       "current": "048cad6a-e646-11ec-81ef-02420a010016",
       "next": "048cadf6-e646-11ec-81ef-02420a010016",
       "previous": "048cacd4-e646-11ec-81ef-02420a010016"
      },
      {
       "current": "04a8b822-e649-11ec-a879-02420a010016",
       "next": "04a8b8ae-e649-11ec-a879-02420a010016",
       "previous": "04a8b778-e649-11ec-a879-02420a010016"
      }
     ],
     "next": "04a8b8ae-e649-11ec-a879-02420a010016",
     "previous": "e504a846-e6d9-11ec-b487-02420a01007e"
    },
    "lc_wrapper": {
     "log_history": [
      "/home/user511xe5b052/hands-on/vcp-tutorial/403/.log/20220605/20220605-210046-0148.log"
     ]
    }
   },
   "outputs": [],
   "source": [
    "seconds_in_a_day = 24 * 60 * 60\n",
    "seconds_in_a_day"
   ]
  },
  {
   "cell_type": "code",
   "execution_count": null,
   "metadata": {
    "lc_cell_meme": {
     "current": "04a8b8ae-e649-11ec-a879-02420a010016",
     "history": [
      {
       "current": "66d789b6-e4c7-11ec-9f5e-02420a01002a",
       "next": "66d78f38-e4c7-11ec-9f5e-02420a01002a",
       "previous": "1f53483c-e4c7-11ec-9f5e-02420a01002a"
      },
      {
       "current": "048cadf6-e646-11ec-81ef-02420a010016",
       "next": "048cae8c-e646-11ec-81ef-02420a010016",
       "previous": "048cad6a-e646-11ec-81ef-02420a010016"
      }
     ],
     "next": "04a8b93a-e649-11ec-a879-02420a010016",
     "previous": "04a8b822-e649-11ec-a879-02420a010016"
    },
    "lc_wrapper": {
     "log_history": [
      "/home/user511xe5b052/hands-on/vcp-tutorial/403/.log/20220605/20220605-210100-0365.log"
     ]
    }
   },
   "outputs": [],
   "source": [
    "seconds_in_a_week = 7 * seconds_in_a_day\n",
    "seconds_in_a_week"
   ]
  },
  {
   "cell_type": "markdown",
   "metadata": {
    "lc_cell_meme": {
     "current": "04a8b93a-e649-11ec-a879-02420a010016",
     "history": [
      {
       "current": "66d78f38-e4c7-11ec-9f5e-02420a01002a",
       "next": "66d791d6-e4c7-11ec-9f5e-02420a01002a",
       "previous": "66d789b6-e4c7-11ec-9f5e-02420a01002a"
      },
      {
       "current": "048cae8c-e646-11ec-81ef-02420a010016",
       "next": "048caf18-e646-11ec-81ef-02420a010016",
       "previous": "048cadf6-e646-11ec-81ef-02420a010016"
      }
     ],
     "next": "04a8b9d0-e649-11ec-a879-02420a010016",
     "previous": "04a8b8ae-e649-11ec-a879-02420a010016"
    }
   },
   "source": [
    "# サンプルコード (2)\n",
    "\n",
    "numpy を使用してランダムデータを生成し、matplotlib を使用して可視化するPythonスクリプトの例です。"
   ]
  },
  {
   "cell_type": "code",
   "execution_count": null,
   "metadata": {
    "lc_cell_meme": {
     "current": "04a8b9d0-e649-11ec-a879-02420a010016",
     "history": [
      {
       "current": "66d791d6-e4c7-11ec-9f5e-02420a01002a",
       "next": null,
       "previous": "66d78f38-e4c7-11ec-9f5e-02420a01002a"
      },
      {
       "current": "048caf18-e646-11ec-81ef-02420a010016",
       "next": null,
       "previous": "048cae8c-e646-11ec-81ef-02420a010016"
      }
     ],
     "next": null,
     "previous": "04a8b93a-e649-11ec-a879-02420a010016"
    }
   },
   "outputs": [],
   "source": [
    "import numpy as np\n",
    "from matplotlib import pyplot as plt\n",
    "\n",
    "ys = 200 + np.random.randn(100)\n",
    "x = [x for x in range(len(ys))]\n",
    "\n",
    "plt.plot(x, ys, '-')\n",
    "plt.fill_between(x, ys, 195, where=(ys > 195), facecolor='g', alpha=0.6)\n",
    "\n",
    "plt.title(\"Sample Visualization\")\n",
    "plt.show()"
   ]
  }
 ],
 "metadata": {
  "kernelspec": {
   "display_name": "Python 3",
   "language": "python",
   "name": "python3"
  },
  "language_info": {
   "file_extension": ".py",
   "mimetype": "text/x-python",
   "name": "python",
   "nbconvert_exporter": "python",
   "pygments_lexer": "ipython3",
   "version": "3.7.6"
  },
  "lc_notebook_meme": {
   "current": "04a8b1b0-e649-11ec-a879-02420a010016",
   "history": [
    "90427c26-e4c6-11ec-9f5e-02420a01002a",
    "048ca766-e646-11ec-81ef-02420a010016"
   ],
   "lc_server_signature": {
    "current": {
     "notebook_dir": "/home/user511xe5b052",
     "notebook_path": "/hands-on/vcp-tutorial/403",
     "server_url": "https://cwh1041m.vcp-handson.org/user/user511xe5b052/",
     "signature_id": "e00bb3d5-d652-11ec-917a-4d4a7366efd2"
    },
    "history": []
   },
   "root_cells": [
    "04a8b534-e649-11ec-a879-02420a010016",
    "04a8b624-e649-11ec-a879-02420a010016",
    "04a8b6d8-e649-11ec-a879-02420a010016",
    "04a8b778-e649-11ec-a879-02420a010016",
    "04a8b822-e649-11ec-a879-02420a010016",
    "04a8b8ae-e649-11ec-a879-02420a010016",
    "04a8b93a-e649-11ec-a879-02420a010016",
    "04a8b9d0-e649-11ec-a879-02420a010016"
   ],
   "root_cells_history": [
    [
     [
      "90427dfc-e4c6-11ec-9f5e-02420a01002a-1-7f63",
      "048caa9a-e646-11ec-81ef-02420a010016"
     ],
     [
      "fc37c38a-e4cd-11ec-9f5e-02420a01002a",
      "048cab8a-e646-11ec-81ef-02420a010016"
     ],
     [
      "fc37c786-e4cd-11ec-9f5e-02420a01002a",
      "048cac3e-e646-11ec-81ef-02420a010016"
     ],
     [
      "1f5344d6-e4c7-11ec-9f5e-02420a01002a",
      "048cacd4-e646-11ec-81ef-02420a010016"
     ],
     [
      "1f53483c-e4c7-11ec-9f5e-02420a01002a",
      "048cad6a-e646-11ec-81ef-02420a010016"
     ],
     [
      "66d789b6-e4c7-11ec-9f5e-02420a01002a",
      "048cadf6-e646-11ec-81ef-02420a010016"
     ],
     [
      "66d78f38-e4c7-11ec-9f5e-02420a01002a",
      "048cae8c-e646-11ec-81ef-02420a010016"
     ],
     [
      "66d791d6-e4c7-11ec-9f5e-02420a01002a",
      "048caf18-e646-11ec-81ef-02420a010016"
     ]
    ],
    [
     [
      "048caa9a-e646-11ec-81ef-02420a010016",
      "04a8b534-e649-11ec-a879-02420a010016"
     ],
     [
      "048cab8a-e646-11ec-81ef-02420a010016",
      "04a8b624-e649-11ec-a879-02420a010016"
     ],
     [
      "048cac3e-e646-11ec-81ef-02420a010016",
      "04a8b6d8-e649-11ec-a879-02420a010016"
     ],
     [
      "048cacd4-e646-11ec-81ef-02420a010016",
      "04a8b778-e649-11ec-a879-02420a010016"
     ],
     [
      "048cad6a-e646-11ec-81ef-02420a010016",
      "04a8b822-e649-11ec-a879-02420a010016"
     ],
     [
      "048cadf6-e646-11ec-81ef-02420a010016",
      "04a8b8ae-e649-11ec-a879-02420a010016"
     ],
     [
      "048cae8c-e646-11ec-81ef-02420a010016",
      "04a8b93a-e649-11ec-a879-02420a010016"
     ],
     [
      "048caf18-e646-11ec-81ef-02420a010016",
      "04a8b9d0-e649-11ec-a879-02420a010016"
     ]
    ]
   ]
  },
  "toc": {
   "base_numbering": 1,
   "nav_menu": {},
   "number_sections": true,
   "sideBar": true,
   "skip_h1_title": false,
   "title_cell": "Table of Contents",
   "title_sidebar": "Contents",
   "toc_cell": false,
   "toc_position": {},
   "toc_section_display": true,
   "toc_window_display": false
  }
 },
 "nbformat": 4,
 "nbformat_minor": 4
}
