{
 "cells": [
  {
   "cell_type": "markdown",
   "id": "ca03a7ea-4e82-45ff-8cef-e8da57e9dcb0",
   "metadata": {
    "lc_cell_meme": {
     "current": "bf310336-c10a-11ef-9ff0-02420a64004f",
     "history": [
      {
       "current": "bf2e7c10-c10a-11ef-9ff0-02420a64004f",
       "next": "bf2e7cb0-c10a-11ef-9ff0-02420a64004f",
       "previous": null
      }
     ],
     "next": "bf310390-c10a-11ef-9ff0-02420a64004f",
     "previous": null
    }
   },
   "source": [
    "# VCノードの作成\n",
    "\n",
    "---\n",
    "\n",
    "Jupyterhubを構築するためノードをVCP SDKを用いて作成します。"
   ]
  },
  {
   "cell_type": "markdown",
   "id": "a0e85f5b-f21a-4c1b-8313-5a1fde41ccb9",
   "metadata": {
    "lc_cell_meme": {
     "current": "bf310390-c10a-11ef-9ff0-02420a64004f",
     "history": [
      {
       "current": "bf2e7cb0-c10a-11ef-9ff0-02420a64004f",
       "next": "bf2e7d32-c10a-11ef-9ff0-02420a64004f",
       "previous": "bf2e7c10-c10a-11ef-9ff0-02420a64004f"
      }
     ],
     "next": "bf3103d6-c10a-11ef-9ff0-02420a64004f",
     "previous": "bf310336-c10a-11ef-9ff0-02420a64004f"
    }
   },
   "source": [
    "## はじめに\n",
    "\n",
    "このNotebookではJupyterHub環境を構築するためのノード作成を行います。managerノードにNFSサーバを配置する構成とします。  \n",
    "本ノートブックで構築する部分を以下に図示します。"
   ]
  },
  {
   "cell_type": "markdown",
   "id": "2de0351a-fd86-41e4-b2d1-10d45cbd71d9",
   "metadata": {
    "lc_cell_meme": {
     "current": "bf3103d6-c10a-11ef-9ff0-02420a64004f",
     "history": [
      {
       "current": "bf2e7d32-c10a-11ef-9ff0-02420a64004f",
       "next": "bf2e7daa-c10a-11ef-9ff0-02420a64004f",
       "previous": "bf2e7cb0-c10a-11ef-9ff0-02420a64004f"
      }
     ],
     "next": "bf310426-c10a-11ef-9ff0-02420a64004f",
     "previous": "bf310390-c10a-11ef-9ff0-02420a64004f"
    }
   },
   "source": [
    "![モジュール構成](images/011/arch-011.png)"
   ]
  },
  {
   "cell_type": "markdown",
   "id": "f2ba9430-0f31-48bd-8b32-587bda89acc5",
   "metadata": {
    "lc_cell_meme": {
     "current": "bf310426-c10a-11ef-9ff0-02420a64004f",
     "history": [
      {
       "current": "bf2e7daa-c10a-11ef-9ff0-02420a64004f",
       "next": "bf2e7e2c-c10a-11ef-9ff0-02420a64004f",
       "previous": "bf2e7d32-c10a-11ef-9ff0-02420a64004f"
      }
     ],
     "next": "bf31046c-c10a-11ef-9ff0-02420a64004f",
     "previous": "bf3103d6-c10a-11ef-9ff0-02420a64004f"
    }
   },
   "source": [
    "### ノード構成\n",
    "\n",
    "\n",
    "作成するノードはJupyterHub, PostgreSQLなどのコンテナを実行する managerノードと、single-user Jupyter notebook serverを実行する worker ノードから構成されます。"
   ]
  },
  {
   "cell_type": "markdown",
   "id": "298ba0b4-c9a8-4491-97fa-3094784affa8",
   "metadata": {
    "lc_cell_meme": {
     "current": "bf31046c-c10a-11ef-9ff0-02420a64004f",
     "history": [
      {
       "current": "bf2e7e2c-c10a-11ef-9ff0-02420a64004f",
       "next": "bf2e7e9a-c10a-11ef-9ff0-02420a64004f",
       "previous": "bf2e7daa-c10a-11ef-9ff0-02420a64004f"
      }
     ],
     "next": "bf3104b2-c10a-11ef-9ff0-02420a64004f",
     "previous": "bf310426-c10a-11ef-9ff0-02420a64004f"
    }
   },
   "source": [
    "JupyterHubではNotebookなどの資材をノード間で共有するためにNFSを利用します。このNotebookで構築するノード構成ではmanagerノードにNFSサーバの機能をもたせます。"
   ]
  },
  {
   "cell_type": "markdown",
   "id": "d49af4eb-adcc-49ff-9125-edb4aa36c67d",
   "metadata": {
    "lc_cell_meme": {
     "current": "bf3104b2-c10a-11ef-9ff0-02420a64004f",
     "history": [
      {
       "current": "bf2e7e9a-c10a-11ef-9ff0-02420a64004f",
       "next": "bf2e7f08-c10a-11ef-9ff0-02420a64004f",
       "previous": "bf2e7e2c-c10a-11ef-9ff0-02420a64004f"
      }
     ],
     "next": "bf3104f8-c10a-11ef-9ff0-02420a64004f",
     "previous": "bf31046c-c10a-11ef-9ff0-02420a64004f"
    }
   },
   "source": [
    "### 事前に用意が必要となるものについて\n",
    "\n",
    "このNotebookを実行するにあたって、あらかじめ準備が必要となるものについて以下に記します。\n",
    "\n",
    "* VCCアクセストークン\n",
    "* SSH公開鍵ペア\n",
    "* VCノードに割り当てるアドレス\n",
    "* NTPの設定"
   ]
  },
  {
   "cell_type": "markdown",
   "id": "0a446b0f-d011-4ef8-a360-016cdc0e8a5f",
   "metadata": {
    "lc_cell_meme": {
     "current": "bf3104f8-c10a-11ef-9ff0-02420a64004f",
     "history": [
      {
       "current": "bf2e7f08-c10a-11ef-9ff0-02420a64004f",
       "next": "bf2e7f76-c10a-11ef-9ff0-02420a64004f",
       "previous": "bf2e7e9a-c10a-11ef-9ff0-02420a64004f"
      }
     ],
     "next": "bf31053e-c10a-11ef-9ff0-02420a64004f",
     "previous": "bf3104b2-c10a-11ef-9ff0-02420a64004f"
    }
   },
   "source": [
    "####  VCCアクセストークン"
   ]
  },
  {
   "cell_type": "markdown",
   "id": "cb5a5389-c7b7-4a28-830e-bbe4a3b0ac26",
   "metadata": {
    "lc_cell_meme": {
     "current": "bf31053e-c10a-11ef-9ff0-02420a64004f",
     "history": [
      {
       "current": "bf2e7f76-c10a-11ef-9ff0-02420a64004f",
       "next": "bf2e7fe4-c10a-11ef-9ff0-02420a64004f",
       "previous": "bf2e7f08-c10a-11ef-9ff0-02420a64004f"
      }
     ],
     "next": "bf31057a-c10a-11ef-9ff0-02420a64004f",
     "previous": "bf3104f8-c10a-11ef-9ff0-02420a64004f"
    }
   },
   "source": [
    "このNotebookではVCP SDKを用いてVCノード(クラウドの計算資源)、VCディスク(クラウドのストレージ)を作成します。VCP SDKを用いてVC Controller(VCC)の操作を行うために VCCアクセストークンが必要となります。\n",
    "\n",
    "VCCアクセストークンがない場合はVC管理者にアクセストークンの発行を依頼してください。"
   ]
  },
  {
   "cell_type": "markdown",
   "id": "1fb9a378-d3c5-4a17-a49a-fc71d7708219",
   "metadata": {
    "lc_cell_meme": {
     "current": "bf31057a-c10a-11ef-9ff0-02420a64004f",
     "history": [
      {
       "current": "bf2e7fe4-c10a-11ef-9ff0-02420a64004f",
       "next": "bf2e8052-c10a-11ef-9ff0-02420a64004f",
       "previous": "bf2e7f76-c10a-11ef-9ff0-02420a64004f"
      }
     ],
     "next": "bf3105c0-c10a-11ef-9ff0-02420a64004f",
     "previous": "bf31053e-c10a-11ef-9ff0-02420a64004f"
    }
   },
   "source": [
    "#### SSH公開鍵ペア"
   ]
  },
  {
   "cell_type": "markdown",
   "id": "c5ecf8c8-a7a6-4252-8e69-10541246a1ef",
   "metadata": {
    "lc_cell_meme": {
     "current": "bf3105c0-c10a-11ef-9ff0-02420a64004f",
     "history": [
      {
       "current": "bf2e8052-c10a-11ef-9ff0-02420a64004f",
       "next": "bf2e80c0-c10a-11ef-9ff0-02420a64004f",
       "previous": "bf2e7fe4-c10a-11ef-9ff0-02420a64004f"
      }
     ],
     "next": "bf310606-c10a-11ef-9ff0-02420a64004f",
     "previous": "bf31057a-c10a-11ef-9ff0-02420a64004f"
    }
   },
   "source": [
    "作成するVCノードに登録するSSHの公開鍵を用意する必要があります。あらかじめ作成したものをこのNotebook環境内にアップロードするか、この環境内で公開鍵ペアの作成を行ってください。"
   ]
  },
  {
   "cell_type": "markdown",
   "id": "1d7196fb-8d87-47e6-9767-4aef87d6d144",
   "metadata": {
    "lc_cell_meme": {
     "current": "bf310606-c10a-11ef-9ff0-02420a64004f",
     "history": [
      {
       "current": "bf2e80c0-c10a-11ef-9ff0-02420a64004f",
       "next": "bf2e812e-c10a-11ef-9ff0-02420a64004f",
       "previous": "bf2e8052-c10a-11ef-9ff0-02420a64004f"
      }
     ],
     "next": "bf31064c-c10a-11ef-9ff0-02420a64004f",
     "previous": "bf3105c0-c10a-11ef-9ff0-02420a64004f"
    }
   },
   "source": [
    "#### VCノードに割り当てるアドレス"
   ]
  },
  {
   "cell_type": "markdown",
   "id": "70069b44-5c90-4a56-a93b-600a0175731b",
   "metadata": {
    "lc_cell_meme": {
     "current": "bf31064c-c10a-11ef-9ff0-02420a64004f",
     "history": [
      {
       "current": "bf2e812e-c10a-11ef-9ff0-02420a64004f",
       "next": "bf2e819c-c10a-11ef-9ff0-02420a64004f",
       "previous": "bf2e80c0-c10a-11ef-9ff0-02420a64004f"
      }
     ],
     "next": "bf310692-c10a-11ef-9ff0-02420a64004f",
     "previous": "bf310606-c10a-11ef-9ff0-02420a64004f"
    }
   },
   "source": [
    "VCノードのネットワークインターフェースに割り当てるアドレスを用意してください。VCノードにはIPアドレス、またはMACアドレスを割り当てることができます。"
   ]
  },
  {
   "cell_type": "markdown",
   "id": "95de24c7-109c-45ad-8f1e-a179d11f2aa0",
   "metadata": {
    "lc_cell_meme": {
     "current": "bf310692-c10a-11ef-9ff0-02420a64004f",
     "history": [
      {
       "current": "bf2e819c-c10a-11ef-9ff0-02420a64004f",
       "next": "bf2e820a-c10a-11ef-9ff0-02420a64004f",
       "previous": "bf2e812e-c10a-11ef-9ff0-02420a64004f"
      }
     ],
     "next": "bf3106d8-c10a-11ef-9ff0-02420a64004f",
     "previous": "bf31064c-c10a-11ef-9ff0-02420a64004f"
    }
   },
   "source": [
    "MACアドレスを割り当てる場合は、作成する全てのVCノード数に対応するMACアドレスを指定する必要があります。"
   ]
  },
  {
   "cell_type": "markdown",
   "id": "0a1adc86-3a5b-4b08-9968-f3b502f6e2d9",
   "metadata": {
    "lc_cell_meme": {
     "current": "bf3106d8-c10a-11ef-9ff0-02420a64004f",
     "history": [
      {
       "current": "bf2e820a-c10a-11ef-9ff0-02420a64004f",
       "next": "bf2e8278-c10a-11ef-9ff0-02420a64004f",
       "previous": "bf2e819c-c10a-11ef-9ff0-02420a64004f"
      }
     ],
     "next": "bf31071e-c10a-11ef-9ff0-02420a64004f",
     "previous": "bf310692-c10a-11ef-9ff0-02420a64004f"
    }
   },
   "source": [
    "#### NTPの設定\n"
   ]
  },
  {
   "cell_type": "markdown",
   "id": "da490de9-05be-4a30-b57c-0153b38da77c",
   "metadata": {
    "lc_cell_meme": {
     "current": "bf31071e-c10a-11ef-9ff0-02420a64004f",
     "history": [
      {
       "current": "bf2e8278-c10a-11ef-9ff0-02420a64004f",
       "next": "bf2e82e6-c10a-11ef-9ff0-02420a64004f",
       "previous": "bf2e820a-c10a-11ef-9ff0-02420a64004f"
      }
     ],
     "next": "bf310764-c10a-11ef-9ff0-02420a64004f",
     "previous": "bf3106d8-c10a-11ef-9ff0-02420a64004f"
    }
   },
   "source": [
    "IdPと連携して認証を行う場合は時刻が正しく設定されていないと正しく動作しないことがあります。時刻合わせを行うためにVCノードのNTPを設定するには事前にVCコントローラへの設定が必要となります。\n",
    "VCPのリリースノート「[Release/20.10.0 -- 2.機能追加](https://meatwiki.nii.ac.jp/confluence/pages/viewpage.action?pageId=32677360#id-%E3%83%AA%E3%83%AA%E3%83%BC%E3%82%B9%E3%83%8E%E3%83%BC%E3%83%88-Release/20.10.0(2020/10/30))」に記されているように、OCS運用担当者にVCコントローラへのNTP設定を依頼してください。"
   ]
  },
  {
   "cell_type": "markdown",
   "id": "927547a5-1897-4005-8f91-f46b84265404",
   "metadata": {
    "lc_cell_meme": {
     "current": "bf310764-c10a-11ef-9ff0-02420a64004f",
     "history": [
      {
       "current": "bf2e82e6-c10a-11ef-9ff0-02420a64004f",
       "next": "bf2e834a-c10a-11ef-9ff0-02420a64004f",
       "previous": "bf2e8278-c10a-11ef-9ff0-02420a64004f"
      }
     ],
     "next": "bf3107aa-c10a-11ef-9ff0-02420a64004f",
     "previous": "bf31071e-c10a-11ef-9ff0-02420a64004f"
    }
   },
   "source": [
    "## VCノードに関するパラメータ\n",
    "\n",
    "JupyterHubの構築環境となるVCノードに関するパラメータを指定します。"
   ]
  },
  {
   "cell_type": "markdown",
   "id": "afe77f91-2a8a-43c5-a981-cbadff70dae7",
   "metadata": {
    "lc_cell_meme": {
     "current": "bf3107aa-c10a-11ef-9ff0-02420a64004f",
     "history": [
      {
       "current": "bf2e834a-c10a-11ef-9ff0-02420a64004f",
       "next": "bf2e83b8-c10a-11ef-9ff0-02420a64004f",
       "previous": "bf2e82e6-c10a-11ef-9ff0-02420a64004f"
      }
     ],
     "next": "bf3107f0-c10a-11ef-9ff0-02420a64004f",
     "previous": "bf310764-c10a-11ef-9ff0-02420a64004f"
    }
   },
   "source": [
    "### VCCアクセストークンの入力"
   ]
  },
  {
   "cell_type": "markdown",
   "id": "5667e218-ab12-4421-bf1b-4209b3afe240",
   "metadata": {
    "lc_cell_meme": {
     "current": "bf3107f0-c10a-11ef-9ff0-02420a64004f",
     "history": [
      {
       "current": "bf2e83b8-c10a-11ef-9ff0-02420a64004f",
       "next": "bf2e8426-c10a-11ef-9ff0-02420a64004f",
       "previous": "bf2e834a-c10a-11ef-9ff0-02420a64004f"
      }
     ],
     "next": "bf310836-c10a-11ef-9ff0-02420a64004f",
     "previous": "bf3107aa-c10a-11ef-9ff0-02420a64004f"
    }
   },
   "source": [
    "VCノードを起動するにはVC Controller(VCC)にアクセスして、操作を行う必要があります。VCCにアクセスするために必要となるアクセストークンをここで入力します。"
   ]
  },
  {
   "cell_type": "markdown",
   "id": "6ede5526-3687-40ba-9f7c-cac557c1c79c",
   "metadata": {
    "lc_cell_meme": {
     "current": "bf310836-c10a-11ef-9ff0-02420a64004f",
     "history": [
      {
       "current": "bf2e8426-c10a-11ef-9ff0-02420a64004f",
       "next": "bf2e849e-c10a-11ef-9ff0-02420a64004f",
       "previous": "bf2e83b8-c10a-11ef-9ff0-02420a64004f"
      }
     ],
     "next": "bf31087c-c10a-11ef-9ff0-02420a64004f",
     "previous": "bf3107f0-c10a-11ef-9ff0-02420a64004f"
    }
   },
   "source": [
    "次のセルを実行すると入力枠が表示されるのでアクセストークンの値を入力してください。\n",
    "\n",
    "> アクセストークン入力後に Enter キーを押すことで入力が完了します。"
   ]
  },
  {
   "cell_type": "code",
   "execution_count": null,
   "id": "3e9ccc86-941b-4719-bf6e-852b75d52824",
   "metadata": {
    "lc_cell_meme": {
     "current": "bf31087c-c10a-11ef-9ff0-02420a64004f",
     "history": [
      {
       "current": "bf2e849e-c10a-11ef-9ff0-02420a64004f",
       "next": "bf2e8502-c10a-11ef-9ff0-02420a64004f",
       "previous": "bf2e8426-c10a-11ef-9ff0-02420a64004f"
      }
     ],
     "next": "bf3108c2-c10a-11ef-9ff0-02420a64004f",
     "previous": "bf310836-c10a-11ef-9ff0-02420a64004f"
    },
    "tags": [
     "vcp:skip",
     "vcp:parameters"
    ]
   },
   "outputs": [],
   "source": [
    "from getpass import getpass\n",
    "vcc_access_token = getpass()"
   ]
  },
  {
   "cell_type": "markdown",
   "id": "dc4d1f69-2974-4cfb-aff8-9f2b97e50349",
   "metadata": {
    "lc_cell_meme": {
     "current": "bf3108c2-c10a-11ef-9ff0-02420a64004f",
     "history": [
      {
       "current": "bf2e8502-c10a-11ef-9ff0-02420a64004f",
       "next": "bf2e8570-c10a-11ef-9ff0-02420a64004f",
       "previous": "bf2e849e-c10a-11ef-9ff0-02420a64004f"
      }
     ],
     "next": "bf3108fe-c10a-11ef-9ff0-02420a64004f",
     "previous": "bf31087c-c10a-11ef-9ff0-02420a64004f"
    }
   },
   "source": [
    "入力されたアクセストークンが正しいことを、実際にVCCにアクセスして確認します。"
   ]
  },
  {
   "cell_type": "code",
   "execution_count": null,
   "id": "1e721615-012c-4f06-9bf9-1a531bcd39a6",
   "metadata": {
    "lc_cell_meme": {
     "current": "bf3108fe-c10a-11ef-9ff0-02420a64004f",
     "history": [
      {
       "current": "bf2e8570-c10a-11ef-9ff0-02420a64004f",
       "next": "bf2e85de-c10a-11ef-9ff0-02420a64004f",
       "previous": "bf2e8502-c10a-11ef-9ff0-02420a64004f"
      }
     ],
     "next": "bf310944-c10a-11ef-9ff0-02420a64004f",
     "previous": "bf3108c2-c10a-11ef-9ff0-02420a64004f"
    },
    "tags": [
     "vcp:rewrite:vcpsdk"
    ]
   },
   "outputs": [],
   "source": [
    "from vcpsdk.vcpsdk import VcpSDK\n",
    "import os\n",
    "import sys\n",
    "\n",
    "home = os.path.expanduser(\"~\")\n",
    "vcpsdk_config_path = os.path.join(home, 'vcp_config')\n",
    "\n",
    "vcp = VcpSDK(vcc_access_token, config_dir=vcpsdk_config_path)"
   ]
  },
  {
   "cell_type": "markdown",
   "id": "08999cf9-52b8-4326-8cee-fc6ddd20d05e",
   "metadata": {
    "lc_cell_meme": {
     "current": "bf310944-c10a-11ef-9ff0-02420a64004f",
     "history": [
      {
       "current": "bf2e85de-c10a-11ef-9ff0-02420a64004f",
       "next": "bf2e864c-c10a-11ef-9ff0-02420a64004f",
       "previous": "bf2e8570-c10a-11ef-9ff0-02420a64004f"
      }
     ],
     "next": "bf31098a-c10a-11ef-9ff0-02420a64004f",
     "previous": "bf3108fe-c10a-11ef-9ff0-02420a64004f"
    }
   },
   "source": [
    "上のセルの実行結果がエラーとなり以下のようなメッセージが表示されている場合は、入力されたアクセストークンに誤りがあります。\n",
    "\n",
    "```\n",
    "ERROR - config vc failed: http_status(403)\n",
    "ERROR - 2021/XX/XX XX:XX:XX UTC: VCPAuthException: xxxxxxx:token lookup is failed: permission denied\n",
    "```\n",
    "\n",
    "エラーになった場合はこの節のセルを全て `unfreeze` してから、もう一度アクセストークンの入力を行ってください。"
   ]
  },
  {
   "cell_type": "markdown",
   "id": "c0086393-e709-4b47-a54c-e89b8ee2e5ea",
   "metadata": {
    "lc_cell_meme": {
     "current": "bf31098a-c10a-11ef-9ff0-02420a64004f",
     "history": [
      {
       "current": "bf2e864c-c10a-11ef-9ff0-02420a64004f",
       "next": "bf2e86ba-c10a-11ef-9ff0-02420a64004f",
       "previous": "bf2e85de-c10a-11ef-9ff0-02420a64004f"
      }
     ],
     "next": "bf3109d0-c10a-11ef-9ff0-02420a64004f",
     "previous": "bf310944-c10a-11ef-9ff0-02420a64004f"
    }
   },
   "source": [
    "### UnitGroup名の指定"
   ]
  },
  {
   "cell_type": "markdown",
   "id": "74b73380-89cd-4315-9a0c-aeec5d4d7aa4",
   "metadata": {
    "lc_cell_meme": {
     "current": "bf3109d0-c10a-11ef-9ff0-02420a64004f",
     "history": [
      {
       "current": "bf2e86ba-c10a-11ef-9ff0-02420a64004f",
       "next": "bf2e8728-c10a-11ef-9ff0-02420a64004f",
       "previous": "bf2e864c-c10a-11ef-9ff0-02420a64004f"
      }
     ],
     "next": "bf310a16-c10a-11ef-9ff0-02420a64004f",
     "previous": "bf31098a-c10a-11ef-9ff0-02420a64004f"
    }
   },
   "source": [
    "VCPの構成要素は以下のようになっています。\n",
    "\n",
    "* VCノード\n",
    "  - クラウドにおける計算資源(VM/BM)\n",
    "  - 例えば Amazon EC2インスタンス, Microsoft Azure VM など\n",
    "* Unit\n",
    "  - 同質のVCノードにより構成されている要素\n",
    "  - 同じUnitに属するVCノードはCPU,メモリ等の計算資源が全て同じ設定になっている\n",
    "* UnitGroup\n",
    "  - 複数のUnitにより構成されている要素\n",
    "  - 使用目的、ライフサイクルなどに合わせて、複数のUnitをまとめて扱うための要素"
   ]
  },
  {
   "cell_type": "markdown",
   "id": "fa05ccf1-6eee-4a27-8f9a-d15897e410c9",
   "metadata": {
    "lc_cell_meme": {
     "current": "bf310a16-c10a-11ef-9ff0-02420a64004f",
     "history": [
      {
       "current": "bf2e8728-c10a-11ef-9ff0-02420a64004f",
       "next": "bf2e8796-c10a-11ef-9ff0-02420a64004f",
       "previous": "bf2e86ba-c10a-11ef-9ff0-02420a64004f"
      }
     ],
     "next": "bf310a5c-c10a-11ef-9ff0-02420a64004f",
     "previous": "bf3109d0-c10a-11ef-9ff0-02420a64004f"
    }
   },
   "source": [
    "このNotebookではノードの役割に応じた2つのユニットを作成します。\n",
    "* managerユニット\n",
    "  - JupyterHub, auth-proxy, PostgreSQLコンテナを実行するノード\n",
    "  - NFSサーバを実行する\n",
    "  - Docker Swarmのmanagerノード\n",
    "* workerユニット\n",
    "  - JupyterHubのsingle-user Jupyter Notebook server コンテナを実行するノード\n",
    "  - Docker Swarm の workerノード"
   ]
  },
  {
   "cell_type": "markdown",
   "id": "56202524-9af2-48a8-91a1-bf1e3ed2d4af",
   "metadata": {
    "lc_cell_meme": {
     "current": "bf310a5c-c10a-11ef-9ff0-02420a64004f",
     "history": [
      {
       "current": "bf2e8796-c10a-11ef-9ff0-02420a64004f",
       "next": "bf2e8804-c10a-11ef-9ff0-02420a64004f",
       "previous": "bf2e8728-c10a-11ef-9ff0-02420a64004f"
      }
     ],
     "next": "bf310aa2-c10a-11ef-9ff0-02420a64004f",
     "previous": "bf310a16-c10a-11ef-9ff0-02420a64004f"
    }
   },
   "source": [
    "2つのユニットをまとめて扱うためのUnitGroupの名前を指定します。既存のUnitGroup名を確認するために現在のUnitGroup一覧を表示します。次のセルを実行し`vcname`に表示されている名前が既存のUnitGroup名となります。"
   ]
  },
  {
   "cell_type": "code",
   "execution_count": null,
   "id": "0faac04b-5cc6-4dea-ba79-08b2dfbbb935",
   "metadata": {
    "lc_cell_meme": {
     "current": "bf310aa2-c10a-11ef-9ff0-02420a64004f",
     "history": [
      {
       "current": "bf2e8804-c10a-11ef-9ff0-02420a64004f",
       "next": "bf2e8872-c10a-11ef-9ff0-02420a64004f",
       "previous": "bf2e8796-c10a-11ef-9ff0-02420a64004f"
      }
     ],
     "next": "bf310ae8-c10a-11ef-9ff0-02420a64004f",
     "previous": "bf310a5c-c10a-11ef-9ff0-02420a64004f"
    }
   },
   "outputs": [],
   "source": [
    "vcp.df_ugroups()"
   ]
  },
  {
   "cell_type": "markdown",
   "id": "8d3725b5-d8dc-4f09-a7af-4f1917dab506",
   "metadata": {
    "lc_cell_meme": {
     "current": "bf310ae8-c10a-11ef-9ff0-02420a64004f",
     "history": [
      {
       "current": "bf2e8872-c10a-11ef-9ff0-02420a64004f",
       "next": "bf2e88e0-c10a-11ef-9ff0-02420a64004f",
       "previous": "bf2e8804-c10a-11ef-9ff0-02420a64004f"
      }
     ],
     "next": "bf310b2e-c10a-11ef-9ff0-02420a64004f",
     "previous": "bf310aa2-c10a-11ef-9ff0-02420a64004f"
    }
   },
   "source": [
    "このNotebookで作成するUnitGroup名を指定してください。上記の一覧に表示されている名前との重複を避けて下さい。またJupyterHubのUnitGroup名には英数字のみの値を指定してください（先頭文字に数字は指定できない）。"
   ]
  },
  {
   "cell_type": "code",
   "execution_count": null,
   "id": "c6d1834e-86cb-47f5-b15f-be188e2d2ad4",
   "metadata": {
    "lc_cell_meme": {
     "current": "bf310b2e-c10a-11ef-9ff0-02420a64004f",
     "history": [
      {
       "current": "bf2e88e0-c10a-11ef-9ff0-02420a64004f",
       "next": "bf2e894e-c10a-11ef-9ff0-02420a64004f",
       "previous": "bf2e8872-c10a-11ef-9ff0-02420a64004f"
      }
     ],
     "next": "bf310b74-c10a-11ef-9ff0-02420a64004f",
     "previous": "bf310ae8-c10a-11ef-9ff0-02420a64004f"
    },
    "tags": [
     "vcp:parameters"
    ]
   },
   "outputs": [],
   "source": [
    "# (例)\n",
    "# ugroup_name = 'JupyterHub'\n",
    "\n",
    "ugroup_name = "
   ]
  },
  {
   "cell_type": "markdown",
   "id": "b4edf0d5-c6ce-49fe-84d4-8644aea6f13b",
   "metadata": {
    "lc_cell_meme": {
     "current": "bf310b74-c10a-11ef-9ff0-02420a64004f",
     "history": [
      {
       "current": "bf2e894e-c10a-11ef-9ff0-02420a64004f",
       "next": "bf2e89bc-c10a-11ef-9ff0-02420a64004f",
       "previous": "bf2e88e0-c10a-11ef-9ff0-02420a64004f"
      }
     ],
     "next": "bf310bba-c10a-11ef-9ff0-02420a64004f",
     "previous": "bf310b2e-c10a-11ef-9ff0-02420a64004f"
    }
   },
   "source": [
    "### クラウドプロバイダの指定\n",
    "\n",
    "VCノードを起動するプロバイダを選択します。"
   ]
  },
  {
   "cell_type": "code",
   "execution_count": null,
   "id": "ffad306c-9a03-4367-a9b6-a468d9f30b9c",
   "metadata": {
    "lc_cell_meme": {
     "current": "bf310bba-c10a-11ef-9ff0-02420a64004f",
     "history": [
      {
       "current": "bf2e89bc-c10a-11ef-9ff0-02420a64004f",
       "next": "bf2e8a2a-c10a-11ef-9ff0-02420a64004f",
       "previous": "bf2e894e-c10a-11ef-9ff0-02420a64004f"
      }
     ],
     "next": "bf310c00-c10a-11ef-9ff0-02420a64004f",
     "previous": "bf310b74-c10a-11ef-9ff0-02420a64004f"
    },
    "tags": [
     "vcp:parameters"
    ]
   },
   "outputs": [],
   "source": [
    "# (例)\n",
    "# vc_provider = 'aws'\n",
    "# vc_provider = 'azure'\n",
    "# vc_provider = 'onpremises' # オンプレミスに構築する場合\n",
    "\n",
    "vc_provider = "
   ]
  },
  {
   "cell_type": "markdown",
   "id": "491dcd33-cb3e-442b-81db-a3edda4c3aa5",
   "metadata": {
    "lc_cell_meme": {
     "current": "bf310c00-c10a-11ef-9ff0-02420a64004f",
     "history": [
      {
       "current": "bf2e8a2a-c10a-11ef-9ff0-02420a64004f",
       "next": "bf2e8a98-c10a-11ef-9ff0-02420a64004f",
       "previous": "bf2e89bc-c10a-11ef-9ff0-02420a64004f"
      }
     ],
     "next": "bf310c3c-c10a-11ef-9ff0-02420a64004f",
     "previous": "bf310bba-c10a-11ef-9ff0-02420a64004f"
    }
   },
   "source": [
    "### VCノードに割り当てるリソース量の指定\n",
    "\n",
    "VCノードに割り当てるリソース量を指定します。managerノードとworkerノードでは役割が異なるため、それぞれについて指定を行います。"
   ]
  },
  {
   "cell_type": "markdown",
   "id": "7aa907fd-cf92-4c74-b952-37c2150c5aaf",
   "metadata": {
    "lc_cell_meme": {
     "current": "bf310c3c-c10a-11ef-9ff0-02420a64004f",
     "history": [
      {
       "current": "bf2e8a98-c10a-11ef-9ff0-02420a64004f",
       "next": "bf2e8b06-c10a-11ef-9ff0-02420a64004f",
       "previous": "bf2e8a2a-c10a-11ef-9ff0-02420a64004f"
      }
     ],
     "next": "bf310c82-c10a-11ef-9ff0-02420a64004f",
     "previous": "bf310c00-c10a-11ef-9ff0-02420a64004f"
    }
   },
   "source": [
    "#### managerノード\n",
    "\n",
    "managerノードに割り当てるリソース量を指定します。managerノードではJupyterHub, auth-proxy, PostgreSQLコンテナなどを実行します。"
   ]
  },
  {
   "cell_type": "markdown",
   "id": "e64ed6a0-d993-4878-bc7e-74681696f502",
   "metadata": {
    "lc_cell_meme": {
     "current": "bf310c82-c10a-11ef-9ff0-02420a64004f",
     "history": [
      {
       "current": "bf2e8b06-c10a-11ef-9ff0-02420a64004f",
       "next": "bf2e8b6a-c10a-11ef-9ff0-02420a64004f",
       "previous": "bf2e8a98-c10a-11ef-9ff0-02420a64004f"
      }
     ],
     "next": "bf310cc8-c10a-11ef-9ff0-02420a64004f",
     "previous": "bf310c3c-c10a-11ef-9ff0-02420a64004f"
    }
   },
   "source": [
    "##### managerノードのflavor指定\n",
    "\n",
    "個々のリソース量を毎回指定するのは煩雑となるので、VCP SDKでは典型的な構成のパラメータセットを事前に定義しています。事前に定義したパラメータセットのことをVCP SDKでは`flavor`と呼んでいます。"
   ]
  },
  {
   "cell_type": "markdown",
   "id": "d575a9eb-bab4-4e9f-b384-3688b539627d",
   "metadata": {
    "lc_cell_meme": {
     "current": "bf310cc8-c10a-11ef-9ff0-02420a64004f",
     "history": [
      {
       "current": "bf2e8b6a-c10a-11ef-9ff0-02420a64004f",
       "next": "bf2e8bd8-c10a-11ef-9ff0-02420a64004f",
       "previous": "bf2e8b06-c10a-11ef-9ff0-02420a64004f"
      }
     ],
     "next": "bf310d0e-c10a-11ef-9ff0-02420a64004f",
     "previous": "bf310c82-c10a-11ef-9ff0-02420a64004f"
    }
   },
   "source": [
    "リソース量を指定するためのオブジェクト`spec`に設定できるパラメータはクラウドプロバイダ毎に異なるので `flavor`もプロバイダ毎に定義されています。次のセルを実行すると `vc_provider` に設定したプロバイダに対応する `flavor` の一覧が表示されます。"
   ]
  },
  {
   "cell_type": "code",
   "execution_count": null,
   "id": "1aed4fb1-263d-43b2-9ac8-1697a28cd914",
   "metadata": {
    "lc_cell_meme": {
     "current": "bf310d0e-c10a-11ef-9ff0-02420a64004f",
     "history": [
      {
       "current": "bf2e8bd8-c10a-11ef-9ff0-02420a64004f",
       "next": "bf2e8c46-c10a-11ef-9ff0-02420a64004f",
       "previous": "bf2e8b6a-c10a-11ef-9ff0-02420a64004f"
      }
     ],
     "next": "bf310d5e-c10a-11ef-9ff0-02420a64004f",
     "previous": "bf310cc8-c10a-11ef-9ff0-02420a64004f"
    },
    "scrolled": true
   },
   "outputs": [],
   "source": [
    "vcp.df_flavors(vc_provider)"
   ]
  },
  {
   "cell_type": "markdown",
   "id": "cf72bc84-9a43-44c3-a47a-8a9c45615554",
   "metadata": {
    "lc_cell_meme": {
     "current": "bf310d5e-c10a-11ef-9ff0-02420a64004f",
     "history": [
      {
       "current": "bf2e8c46-c10a-11ef-9ff0-02420a64004f",
       "next": "bf2e8cb4-c10a-11ef-9ff0-02420a64004f",
       "previous": "bf2e8bd8-c10a-11ef-9ff0-02420a64004f"
      }
     ],
     "next": "bf310da4-c10a-11ef-9ff0-02420a64004f",
     "previous": "bf310d0e-c10a-11ef-9ff0-02420a64004f"
    }
   },
   "source": [
    "表示された `flavor` の値から一つを選択して、次のセルに指定してください。"
   ]
  },
  {
   "cell_type": "code",
   "execution_count": null,
   "id": "1592770f-267d-41a5-8c33-87487a0d2f7e",
   "metadata": {
    "lc_cell_meme": {
     "current": "bf310da4-c10a-11ef-9ff0-02420a64004f",
     "history": [
      {
       "current": "bf2e8cb4-c10a-11ef-9ff0-02420a64004f",
       "next": "bf2e8d22-c10a-11ef-9ff0-02420a64004f",
       "previous": "bf2e8c46-c10a-11ef-9ff0-02420a64004f"
      }
     ],
     "next": "bf310dea-c10a-11ef-9ff0-02420a64004f",
     "previous": "bf310d5e-c10a-11ef-9ff0-02420a64004f"
    },
    "tags": [
     "vcp:skip",
     "vcp:parameters"
    ]
   },
   "outputs": [],
   "source": [
    "# (例)\n",
    "# manager_flavor = 'small'\n",
    "# manager_flavor = 'default' # オンプレミスに構築する場合、defaultを指定する\n",
    "\n",
    "manager_flavor = "
   ]
  },
  {
   "cell_type": "markdown",
   "id": "a2887415-7a97-4b98-b725-5ca6c552774f",
   "metadata": {
    "lc_cell_meme": {
     "current": "bf310dea-c10a-11ef-9ff0-02420a64004f",
     "history": [
      {
       "current": "bf2e8d22-c10a-11ef-9ff0-02420a64004f",
       "next": "bf2e8d90-c10a-11ef-9ff0-02420a64004f",
       "previous": "bf2e8cb4-c10a-11ef-9ff0-02420a64004f"
      }
     ],
     "next": "bf310e30-c10a-11ef-9ff0-02420a64004f",
     "previous": "bf310da4-c10a-11ef-9ff0-02420a64004f"
    }
   },
   "source": [
    "##### managerノードのルートボリュームサイズ\n",
    "\n",
    "managerノードに割り当てるディスクサイズを指定します。"
   ]
  },
  {
   "cell_type": "markdown",
   "id": "bd818d02-e3cc-44db-81fc-313fb51d6fb9",
   "metadata": {
    "lc_cell_meme": {
     "current": "bf310e30-c10a-11ef-9ff0-02420a64004f",
     "history": [
      {
       "current": "bf2e8d90-c10a-11ef-9ff0-02420a64004f",
       "next": "bf2e8dfe-c10a-11ef-9ff0-02420a64004f",
       "previous": "bf2e8d22-c10a-11ef-9ff0-02420a64004f"
      }
     ],
     "next": "bf310e76-c10a-11ef-9ff0-02420a64004f",
     "previous": "bf310dea-c10a-11ef-9ff0-02420a64004f"
    }
   },
   "source": [
    "このNotebookで構成するノード構成では manager ノードがNFSサーバの機能を兼ねることになります。`aws`, `azure`にVCノードを作成する場合は、ルートボリュームとは別にNFS用のディスクを作成しますが、他のクラウドを利用する場合はルートボリュームをNFSにも利用します。その場合はNFSのディスク使用量を考慮してルートボリュームサイズを指定してください。"
   ]
  },
  {
   "cell_type": "markdown",
   "id": "6cce7541-37bc-4a32-9fab-960a83f624f4",
   "metadata": {
    "lc_cell_meme": {
     "current": "bf310e76-c10a-11ef-9ff0-02420a64004f",
     "history": [
      {
       "current": "bf2e8dfe-c10a-11ef-9ff0-02420a64004f",
       "next": "bf2e8e6c-c10a-11ef-9ff0-02420a64004f",
       "previous": "bf2e8d90-c10a-11ef-9ff0-02420a64004f"
      }
     ],
     "next": "bf310ebc-c10a-11ef-9ff0-02420a64004f",
     "previous": "bf310e30-c10a-11ef-9ff0-02420a64004f"
    }
   },
   "source": [
    "本テンプレートで構築するJupyterHubシステムでは、コンテナイメージとして約2GB、single-user notebook serverコンテナのイメージとして約4GB利用します。また、作成する課題ファイルなども保存するため、`flavor`の指定によってはコンテナを起動する際にディスク容量が不足することがあります。ディスク容量不足にならないよう、ディスクサイズ設定を行ってください。なお、指定する単位は GB です。"
   ]
  },
  {
   "cell_type": "code",
   "execution_count": null,
   "id": "22e6e6b4-750e-4d60-9cee-ad65ea4a89d1",
   "metadata": {
    "lc_cell_meme": {
     "current": "bf310ebc-c10a-11ef-9ff0-02420a64004f",
     "history": [
      {
       "current": "bf2e8e6c-c10a-11ef-9ff0-02420a64004f",
       "next": "bf2e8eda-c10a-11ef-9ff0-02420a64004f",
       "previous": "bf2e8dfe-c10a-11ef-9ff0-02420a64004f"
      }
     ],
     "next": "bf310f02-c10a-11ef-9ff0-02420a64004f",
     "previous": "bf310e76-c10a-11ef-9ff0-02420a64004f"
    },
    "tags": [
     "vcp:skip",
     "vcp:parameters"
    ]
   },
   "outputs": [],
   "source": [
    "# (例)\n",
    "# manager_disk_size = 16\n",
    "\n",
    "manager_disk_size = "
   ]
  },
  {
   "cell_type": "markdown",
   "id": "08c2c373-bdda-4d55-aa84-76edc1914e9f",
   "metadata": {
    "lc_cell_meme": {
     "current": "bf310f02-c10a-11ef-9ff0-02420a64004f",
     "history": [
      {
       "current": "bf2e8eda-c10a-11ef-9ff0-02420a64004f",
       "next": "bf2e8f48-c10a-11ef-9ff0-02420a64004f",
       "previous": "bf2e8e6c-c10a-11ef-9ff0-02420a64004f"
      }
     ],
     "next": "bf310f3e-c10a-11ef-9ff0-02420a64004f",
     "previous": "bf310ebc-c10a-11ef-9ff0-02420a64004f"
    }
   },
   "source": [
    "#### workerノード\n",
    "\n",
    "workerノードに割り当てるリソース量を指定します。workerノードでは各ユーザの利用環境となる single-user Jupyter notebook serverコンテナを実行します。"
   ]
  },
  {
   "cell_type": "markdown",
   "id": "9adc0625-72df-4215-8d38-d8aac9e192ee",
   "metadata": {
    "lc_cell_meme": {
     "current": "bf310f3e-c10a-11ef-9ff0-02420a64004f",
     "history": [
      {
       "current": "bf2e8f48-c10a-11ef-9ff0-02420a64004f",
       "next": "bf2e8fac-c10a-11ef-9ff0-02420a64004f",
       "previous": "bf2e8eda-c10a-11ef-9ff0-02420a64004f"
      }
     ],
     "next": "bf310f84-c10a-11ef-9ff0-02420a64004f",
     "previous": "bf310f02-c10a-11ef-9ff0-02420a64004f"
    }
   },
   "source": [
    "##### workerノードのflavor指定"
   ]
  },
  {
   "cell_type": "markdown",
   "id": "310042fa-ee8c-4f4d-8e47-d6fd4e12129a",
   "metadata": {
    "lc_cell_meme": {
     "current": "bf310f84-c10a-11ef-9ff0-02420a64004f",
     "history": [
      {
       "current": "bf2e8fac-c10a-11ef-9ff0-02420a64004f",
       "next": "bf2e901a-c10a-11ef-9ff0-02420a64004f",
       "previous": "bf2e8f48-c10a-11ef-9ff0-02420a64004f"
      }
     ],
     "next": "bf310fca-c10a-11ef-9ff0-02420a64004f",
     "previous": "bf310f3e-c10a-11ef-9ff0-02420a64004f"
    }
   },
   "source": [
    "workerノードの `flavor` を次のセルに指定してください。"
   ]
  },
  {
   "cell_type": "code",
   "execution_count": null,
   "id": "7d162fb5-455d-46ec-8a12-0cb41bdd80a3",
   "metadata": {
    "lc_cell_meme": {
     "current": "bf310fca-c10a-11ef-9ff0-02420a64004f",
     "history": [
      {
       "current": "bf2e901a-c10a-11ef-9ff0-02420a64004f",
       "next": "bf2e9088-c10a-11ef-9ff0-02420a64004f",
       "previous": "bf2e8fac-c10a-11ef-9ff0-02420a64004f"
      }
     ],
     "next": "bf311010-c10a-11ef-9ff0-02420a64004f",
     "previous": "bf310f84-c10a-11ef-9ff0-02420a64004f"
    }
   },
   "outputs": [],
   "source": [
    "# (例)\n",
    "# worker_flavor = 'small'\n",
    "# worker_flavor = 'default' # オンプレミスに構築する場合、defaultを指定する\n",
    "\n",
    "worker_flavor = "
   ]
  },
  {
   "cell_type": "markdown",
   "id": "2a9deb27-1f02-4bba-9ea2-a4d746299ce8",
   "metadata": {
    "lc_cell_meme": {
     "current": "bf311010-c10a-11ef-9ff0-02420a64004f",
     "history": [
      {
       "current": "bf2e9088-c10a-11ef-9ff0-02420a64004f",
       "next": "bf2e90f6-c10a-11ef-9ff0-02420a64004f",
       "previous": "bf2e901a-c10a-11ef-9ff0-02420a64004f"
      }
     ],
     "next": "bf311056-c10a-11ef-9ff0-02420a64004f",
     "previous": "bf310fca-c10a-11ef-9ff0-02420a64004f"
    }
   },
   "source": [
    "##### workerノードのルートボリュームサイズ"
   ]
  },
  {
   "cell_type": "markdown",
   "id": "9cd2073c-522a-4a29-9820-019f2abca93d",
   "metadata": {
    "lc_cell_meme": {
     "current": "bf311056-c10a-11ef-9ff0-02420a64004f",
     "history": [
      {
       "current": "bf2e90f6-c10a-11ef-9ff0-02420a64004f",
       "next": "bf2e9164-c10a-11ef-9ff0-02420a64004f",
       "previous": "bf2e9088-c10a-11ef-9ff0-02420a64004f"
      }
     ],
     "next": "bf31109c-c10a-11ef-9ff0-02420a64004f",
     "previous": "bf311010-c10a-11ef-9ff0-02420a64004f"
    }
   },
   "source": [
    "workerノードのルートボリュームサイズの指定を行います。managerノード同様、容量不足にならないよう、ディスクサイズを設定してください。"
   ]
  },
  {
   "cell_type": "code",
   "execution_count": null,
   "id": "117e834e-b8df-4347-9ff8-a534d74b8b29",
   "metadata": {
    "lc_cell_meme": {
     "current": "bf31109c-c10a-11ef-9ff0-02420a64004f",
     "history": [
      {
       "current": "bf2e9164-c10a-11ef-9ff0-02420a64004f",
       "next": "bf2e91d2-c10a-11ef-9ff0-02420a64004f",
       "previous": "bf2e90f6-c10a-11ef-9ff0-02420a64004f"
      }
     ],
     "next": "bf3110e2-c10a-11ef-9ff0-02420a64004f",
     "previous": "bf311056-c10a-11ef-9ff0-02420a64004f"
    }
   },
   "outputs": [],
   "source": [
    "# (例)\n",
    "# worker_disk_size = 16\n",
    "\n",
    "worker_disk_size = "
   ]
  },
  {
   "cell_type": "markdown",
   "id": "653181ff-174e-45c0-bf32-eba5cb6c7aaf",
   "metadata": {
    "lc_cell_meme": {
     "current": "bf3110e2-c10a-11ef-9ff0-02420a64004f",
     "history": [
      {
       "current": "bf2e91d2-c10a-11ef-9ff0-02420a64004f",
       "next": "bf2e9240-c10a-11ef-9ff0-02420a64004f",
       "previous": "bf2e9164-c10a-11ef-9ff0-02420a64004f"
      }
     ],
     "next": "bf311128-c10a-11ef-9ff0-02420a64004f",
     "previous": "bf31109c-c10a-11ef-9ff0-02420a64004f"
    }
   },
   "source": [
    "##### ノード数の指定\n",
    "\n",
    "作成するworkerノードのノード数を指定してください。"
   ]
  },
  {
   "cell_type": "code",
   "execution_count": null,
   "id": "0a9097f0-bade-4f12-9ee2-7aa454b10ec9",
   "metadata": {
    "lc_cell_meme": {
     "current": "bf311128-c10a-11ef-9ff0-02420a64004f",
     "history": [
      {
       "current": "bf2e9240-c10a-11ef-9ff0-02420a64004f",
       "next": "bf2e92a4-c10a-11ef-9ff0-02420a64004f",
       "previous": "bf2e91d2-c10a-11ef-9ff0-02420a64004f"
      }
     ],
     "next": "bf31116e-c10a-11ef-9ff0-02420a64004f",
     "previous": "bf3110e2-c10a-11ef-9ff0-02420a64004f"
    }
   },
   "outputs": [],
   "source": [
    "# (例)\n",
    "# worker_nodes = 1\n",
    "\n",
    "worker_nodes = "
   ]
  },
  {
   "cell_type": "markdown",
   "id": "85e8c1ba-f15d-477b-bb05-9bffae1172f9",
   "metadata": {
    "lc_cell_meme": {
     "current": "bf31116e-c10a-11ef-9ff0-02420a64004f",
     "history": [
      {
       "current": "bf2e92a4-c10a-11ef-9ff0-02420a64004f",
       "next": "bf2e9312-c10a-11ef-9ff0-02420a64004f",
       "previous": "bf2e9240-c10a-11ef-9ff0-02420a64004f"
      }
     ],
     "next": "bf3111b4-c10a-11ef-9ff0-02420a64004f",
     "previous": "bf311128-c10a-11ef-9ff0-02420a64004f"
    }
   },
   "source": [
    "### アドレスの指定\n",
    "\n",
    "VCノードのネットワークインターフェースに割り当てるアドレスを指定します。"
   ]
  },
  {
   "cell_type": "markdown",
   "id": "0cc4d234-7cae-4471-9852-9a703e733126",
   "metadata": {
    "lc_cell_meme": {
     "current": "bf3111b4-c10a-11ef-9ff0-02420a64004f",
     "history": [
      {
       "current": "bf2e9312-c10a-11ef-9ff0-02420a64004f",
       "next": "bf2e9380-c10a-11ef-9ff0-02420a64004f",
       "previous": "bf2e92a4-c10a-11ef-9ff0-02420a64004f"
      }
     ],
     "next": "bf3111fa-c10a-11ef-9ff0-02420a64004f",
     "previous": "bf31116e-c10a-11ef-9ff0-02420a64004f"
    }
   },
   "source": [
    "VCノードのネットワークインタフェースに以下のアドレスを割り当てることができます。\n",
    "\n",
    "* IPアドレス\n",
    "* MACアドレス\n",
    "\n",
    "> MACアドレスの指定が可能なのは `vmware` のみ\n",
    "\n",
    "アドレスの指定が必要な場合は以下の設定を行ってください。指定しない場合は、自動的に割り当てられたアドレスを使用します。"
   ]
  },
  {
   "cell_type": "markdown",
   "id": "17c062f0-64c1-45a6-8338-9c6624a4e50e",
   "metadata": {
    "lc_cell_meme": {
     "current": "bf3111fa-c10a-11ef-9ff0-02420a64004f",
     "history": [
      {
       "current": "bf2e9380-c10a-11ef-9ff0-02420a64004f",
       "next": "bf2e93ee-c10a-11ef-9ff0-02420a64004f",
       "previous": "bf2e9312-c10a-11ef-9ff0-02420a64004f"
      }
     ],
     "next": "bf311240-c10a-11ef-9ff0-02420a64004f",
     "previous": "bf3111b4-c10a-11ef-9ff0-02420a64004f"
    }
   },
   "source": [
    "#### IPアドレスを指定する場合\n",
    "\n",
    "VCノードにIPアドレスを割り当てる場合はこの節を実行してください。"
   ]
  },
  {
   "cell_type": "markdown",
   "id": "6fa224c8-c0af-4c10-ace0-5ac73184bb39",
   "metadata": {
    "lc_cell_meme": {
     "current": "bf311240-c10a-11ef-9ff0-02420a64004f",
     "history": [
      {
       "current": "bf2e93ee-c10a-11ef-9ff0-02420a64004f",
       "next": "bf2e945c-c10a-11ef-9ff0-02420a64004f",
       "previous": "bf2e9380-c10a-11ef-9ff0-02420a64004f"
      }
     ],
     "next": "bf31127c-c10a-11ef-9ff0-02420a64004f",
     "previous": "bf3111fa-c10a-11ef-9ff0-02420a64004f"
    }
   },
   "source": [
    "この節を実行しない場合、VCノードには割り当て可能なアドレスが自動的に設定されます。また、managerノード、workerノードのどちらか一方のみを指定することもできます。ただしworkerノードにIPアドレスを指定する場合、全てのworkerノードに対してアドレス指定を行う必要があります。"
   ]
  },
  {
   "cell_type": "markdown",
   "id": "1880def2-47a7-426b-96bf-bd131f85abcf",
   "metadata": {
    "lc_cell_meme": {
     "current": "bf31127c-c10a-11ef-9ff0-02420a64004f",
     "history": [
      {
       "current": "bf2e945c-c10a-11ef-9ff0-02420a64004f",
       "next": "bf2e94c0-c10a-11ef-9ff0-02420a64004f",
       "previous": "bf2e93ee-c10a-11ef-9ff0-02420a64004f"
      }
     ],
     "next": "bf3112c2-c10a-11ef-9ff0-02420a64004f",
     "previous": "bf311240-c10a-11ef-9ff0-02420a64004f"
    }
   },
   "source": [
    "まず指定可能なIPアドレスの範囲を確認します。次のセルを実行するとVCノードに割り当て可能なIPアドレスの範囲が表示されます。"
   ]
  },
  {
   "cell_type": "code",
   "execution_count": null,
   "id": "6e6e5971-32cc-4f05-9fc2-c68663fa8863",
   "metadata": {
    "lc_cell_meme": {
     "current": "bf3112c2-c10a-11ef-9ff0-02420a64004f",
     "history": [
      {
       "current": "bf2e94c0-c10a-11ef-9ff0-02420a64004f",
       "next": "bf2e952e-c10a-11ef-9ff0-02420a64004f",
       "previous": "bf2e945c-c10a-11ef-9ff0-02420a64004f"
      }
     ],
     "next": "bf311308-c10a-11ef-9ff0-02420a64004f",
     "previous": "bf31127c-c10a-11ef-9ff0-02420a64004f"
    }
   },
   "outputs": [],
   "source": [
    "print(vcp.get_vpn_catalog(vc_provider).get('private_network_ipmask'))"
   ]
  },
  {
   "cell_type": "markdown",
   "id": "9243e69f-41ea-4e31-af4f-f36cbbedb0b1",
   "metadata": {
    "lc_cell_meme": {
     "current": "bf311308-c10a-11ef-9ff0-02420a64004f",
     "history": [
      {
       "current": "bf2e952e-c10a-11ef-9ff0-02420a64004f",
       "next": "bf2e959c-c10a-11ef-9ff0-02420a64004f",
       "previous": "bf2e94c0-c10a-11ef-9ff0-02420a64004f"
      }
     ],
     "next": "bf31134e-c10a-11ef-9ff0-02420a64004f",
     "previous": "bf3112c2-c10a-11ef-9ff0-02420a64004f"
    }
   },
   "source": [
    "次のセルで manager/worker ノードに割り当てるプライベートネットワークのIPアドレスを指定します。  \n",
    "ここでは、事前に各ユーザに割り当てられたIPアドレス情報を読み込んで設定します。"
   ]
  },
  {
   "cell_type": "code",
   "execution_count": null,
   "id": "a6e4ed13-8834-4ff8-97af-d510e501c674",
   "metadata": {
    "lc_cell_meme": {
     "current": "bf31134e-c10a-11ef-9ff0-02420a64004f",
     "history": [
      {
       "current": "bf2e959c-c10a-11ef-9ff0-02420a64004f",
       "next": "bf2e960a-c10a-11ef-9ff0-02420a64004f",
       "previous": "bf2e952e-c10a-11ef-9ff0-02420a64004f"
      }
     ],
     "next": "bf311394-c10a-11ef-9ff0-02420a64004f",
     "previous": "bf311308-c10a-11ef-9ff0-02420a64004f"
    }
   },
   "outputs": [],
   "source": [
    "import os\n",
    "\n",
    "home = os.path.expanduser(\"~\")\n",
    "with open(os.path.join(home, 'nodes.txt'), \"r\") as f:\n",
    "    lines = f.readlines()\n",
    "vc_ipaddress = lines[0].replace(\"\\n\", \"\")\n",
    "worker_ipaddresses = [\n",
    "    lines[1].replace(\"\\n\", \"\")\n",
    "]"
   ]
  },
  {
   "cell_type": "markdown",
   "id": "4e161442-43ed-42d0-b55c-5a8dcf0c9f80",
   "metadata": {
    "heading_collapsed": true,
    "lc_cell_meme": {
     "current": "bf311394-c10a-11ef-9ff0-02420a64004f",
     "history": [
      {
       "current": "bf2e960a-c10a-11ef-9ff0-02420a64004f",
       "next": "bf2e9678-c10a-11ef-9ff0-02420a64004f",
       "previous": "bf2e959c-c10a-11ef-9ff0-02420a64004f"
      }
     ],
     "next": "bf3113da-c10a-11ef-9ff0-02420a64004f",
     "previous": "bf31134e-c10a-11ef-9ff0-02420a64004f"
    }
   },
   "source": [
    "#### MACアドレスを指定する場合\n",
    "\n",
    "`vc_provider` に `vmware` を指定した場合、VCノードにMACアドレスを割り当てることができます。\n",
    "\n",
    "VCノードにMACアドレスを割り当てる場合はこの節を実行してください。\n",
    "\n",
    "VCノードにMACアドレスを割り当てない場合、この節は実行せず、飛ばしてください。"
   ]
  },
  {
   "cell_type": "markdown",
   "id": "864e0bb5-87fc-4574-8fc5-f9d118ce164a",
   "metadata": {
    "hidden": true,
    "lc_cell_meme": {
     "current": "bf3113da-c10a-11ef-9ff0-02420a64004f",
     "history": [
      {
       "current": "bf2e9678-c10a-11ef-9ff0-02420a64004f",
       "next": "bf2e96e6-c10a-11ef-9ff0-02420a64004f",
       "previous": "bf2e960a-c10a-11ef-9ff0-02420a64004f"
      }
     ],
     "next": "bf311420-c10a-11ef-9ff0-02420a64004f",
     "previous": "bf311394-c10a-11ef-9ff0-02420a64004f"
    }
   },
   "source": [
    "managerノード、workerノードのどちらか一方のみを指定することもできます。ただしworkerノードにMACアドレスを指定する場合、全てのworkerノードに対してアドレス指定を行う必要があります。"
   ]
  },
  {
   "cell_type": "markdown",
   "id": "dca50703-f1a2-462d-8252-924661541b70",
   "metadata": {
    "hidden": true,
    "lc_cell_meme": {
     "current": "bf311420-c10a-11ef-9ff0-02420a64004f",
     "history": [
      {
       "current": "bf2e96e6-c10a-11ef-9ff0-02420a64004f",
       "next": "bf2e9754-c10a-11ef-9ff0-02420a64004f",
       "previous": "bf2e9678-c10a-11ef-9ff0-02420a64004f"
      }
     ],
     "next": "bf311466-c10a-11ef-9ff0-02420a64004f",
     "previous": "bf3113da-c10a-11ef-9ff0-02420a64004f"
    }
   },
   "source": [
    "次のセルで manager ノードに割り当てるMACアドレスを指定してください。"
   ]
  },
  {
   "cell_type": "code",
   "execution_count": null,
   "id": "c1cfb4f8-004d-4e93-80d1-10ee3f862640",
   "metadata": {
    "hidden": true,
    "lc_cell_meme": {
     "current": "bf311466-c10a-11ef-9ff0-02420a64004f",
     "history": [
      {
       "current": "bf2e9754-c10a-11ef-9ff0-02420a64004f",
       "next": "bf2e97b8-c10a-11ef-9ff0-02420a64004f",
       "previous": "bf2e96e6-c10a-11ef-9ff0-02420a64004f"
      }
     ],
     "next": "bf3114a2-c10a-11ef-9ff0-02420a64004f",
     "previous": "bf311420-c10a-11ef-9ff0-02420a64004f"
    }
   },
   "outputs": [],
   "source": [
    "# (例)\n",
    "# vc_mac_address = '4a:d1:4d:ab:cf:10'\n",
    "\n",
    "vc_mac_address = "
   ]
  },
  {
   "cell_type": "markdown",
   "id": "5c2f0b3e-c0fa-4675-bac5-8cf02b87f59e",
   "metadata": {
    "hidden": true,
    "lc_cell_meme": {
     "current": "bf3114a2-c10a-11ef-9ff0-02420a64004f",
     "history": [
      {
       "current": "bf2e97b8-c10a-11ef-9ff0-02420a64004f",
       "next": "bf2e9826-c10a-11ef-9ff0-02420a64004f",
       "previous": "bf2e9754-c10a-11ef-9ff0-02420a64004f"
      }
     ],
     "next": "bf3114e8-c10a-11ef-9ff0-02420a64004f",
     "previous": "bf311466-c10a-11ef-9ff0-02420a64004f"
    }
   },
   "source": [
    "次のセルに workerノードに割り当てるMACアドレスを指定してください。指定するアドレス数は作成するworkerノードのノード数と一致している必要があります。"
   ]
  },
  {
   "cell_type": "code",
   "execution_count": null,
   "id": "769721bc-6e41-4aee-b78f-869ef84f042a",
   "metadata": {
    "hidden": true,
    "lc_cell_meme": {
     "current": "bf3114e8-c10a-11ef-9ff0-02420a64004f",
     "history": [
      {
       "current": "bf2e9826-c10a-11ef-9ff0-02420a64004f",
       "next": "bf2e9894-c10a-11ef-9ff0-02420a64004f",
       "previous": "bf2e97b8-c10a-11ef-9ff0-02420a64004f"
      }
     ],
     "next": "bf31152e-c10a-11ef-9ff0-02420a64004f",
     "previous": "bf3114a2-c10a-11ef-9ff0-02420a64004f"
    }
   },
   "outputs": [],
   "source": [
    "# (例)\n",
    "# worker_mac_addresses = [\n",
    "#     '4a:d1:4d:ab:cf:11',\n",
    "#     '4a:d1:4d:ab:cf:12',\n",
    "#     '4a:d1:4d:ab:cf:13',\n",
    "# ]\n",
    "\n",
    "worker_mac_addresses = [\n",
    "    \n",
    "]"
   ]
  },
  {
   "cell_type": "markdown",
   "id": "27b162bd-ce9b-42a8-97d1-7f9763769063",
   "metadata": {
    "lc_cell_meme": {
     "current": "bf31152e-c10a-11ef-9ff0-02420a64004f",
     "history": [
      {
       "current": "bf2e9894-c10a-11ef-9ff0-02420a64004f",
       "next": "bf2e9902-c10a-11ef-9ff0-02420a64004f",
       "previous": "bf2e9826-c10a-11ef-9ff0-02420a64004f"
      }
     ],
     "next": "bf311574-c10a-11ef-9ff0-02420a64004f",
     "previous": "bf3114e8-c10a-11ef-9ff0-02420a64004f"
    }
   },
   "source": [
    "### アドレスプールの指定\n",
    "\n",
    "VCノードで実行される Docker Engineのアドレスプールの値を指定します。"
   ]
  },
  {
   "cell_type": "markdown",
   "id": "0d95992e-5e82-40da-9f7f-5a0519930266",
   "metadata": {
    "lc_cell_meme": {
     "current": "bf311574-c10a-11ef-9ff0-02420a64004f",
     "history": [
      {
       "current": "bf2e9902-c10a-11ef-9ff0-02420a64004f",
       "next": "bf2e9970-c10a-11ef-9ff0-02420a64004f",
       "previous": "bf2e9894-c10a-11ef-9ff0-02420a64004f"
      }
     ],
     "next": "bf3115ba-c10a-11ef-9ff0-02420a64004f",
     "previous": "bf31152e-c10a-11ef-9ff0-02420a64004f"
    }
   },
   "source": [
    "本テンプレートで構築するJupyterHubでは、コンテナを実行するのにdocker swarmを利用します。docker swarmでは ingress networkなどが自動的に作成されますが、そのネットワークアドレスが既存のネットワークアドレスと重複することを避けるために docker engine のアドレスプールの値を明示的に指定します。"
   ]
  },
  {
   "cell_type": "markdown",
   "id": "f6bb7499-7da4-4e45-b3f8-80566b9af4b4",
   "metadata": {
    "lc_cell_meme": {
     "current": "bf3115ba-c10a-11ef-9ff0-02420a64004f",
     "history": [
      {
       "current": "bf2e9970-c10a-11ef-9ff0-02420a64004f",
       "next": "bf2e99d4-c10a-11ef-9ff0-02420a64004f",
       "previous": "bf2e9902-c10a-11ef-9ff0-02420a64004f"
      }
     ],
     "next": "bf311600-c10a-11ef-9ff0-02420a64004f",
     "previous": "bf311574-c10a-11ef-9ff0-02420a64004f"
    }
   },
   "source": [
    "次のセルでdocker engineに設定するアドレスプールの値を指定してください。既存のネットワークアドレスと重複する値を避けてください。"
   ]
  },
  {
   "cell_type": "code",
   "execution_count": null,
   "id": "8a1fdf5c-28a9-4a33-8da3-63180ef1f276",
   "metadata": {
    "lc_cell_meme": {
     "current": "bf311600-c10a-11ef-9ff0-02420a64004f",
     "history": [
      {
       "current": "bf2e99d4-c10a-11ef-9ff0-02420a64004f",
       "next": "bf2e9a42-c10a-11ef-9ff0-02420a64004f",
       "previous": "bf2e9970-c10a-11ef-9ff0-02420a64004f"
      }
     ],
     "next": "bf311646-c10a-11ef-9ff0-02420a64004f",
     "previous": "bf3115ba-c10a-11ef-9ff0-02420a64004f"
    }
   },
   "outputs": [],
   "source": [
    "# (例)\n",
    "# docker_address_pool = '10.10.0.0/16'\n",
    "\n",
    "docker_address_pool = '10.10.0.0/16'"
   ]
  },
  {
   "cell_type": "markdown",
   "id": "3a09628c-ae79-4605-832e-cef718650ec6",
   "metadata": {
    "lc_cell_meme": {
     "current": "bf311646-c10a-11ef-9ff0-02420a64004f",
     "history": [
      {
       "current": "bf2e9a42-c10a-11ef-9ff0-02420a64004f",
       "next": "bf2e9ab0-c10a-11ef-9ff0-02420a64004f",
       "previous": "bf2e99d4-c10a-11ef-9ff0-02420a64004f"
      }
     ],
     "next": "bf31168c-c10a-11ef-9ff0-02420a64004f",
     "previous": "bf311600-c10a-11ef-9ff0-02420a64004f"
    }
   },
   "source": [
    "### SSH公開鍵認証の鍵ファイルの指定\n",
    "\n",
    "起動したVCノードにsshでログインして操作を行うためにSSH公開鍵を登録します。"
   ]
  },
  {
   "cell_type": "markdown",
   "id": "e0ac971d-1101-4e63-9b02-b0ebca7f9601",
   "metadata": {
    "lc_cell_meme": {
     "current": "bf31168c-c10a-11ef-9ff0-02420a64004f",
     "history": [
      {
       "current": "bf2e9ab0-c10a-11ef-9ff0-02420a64004f",
       "next": "bf2e9b1e-c10a-11ef-9ff0-02420a64004f",
       "previous": "bf2e9a42-c10a-11ef-9ff0-02420a64004f"
      }
     ],
     "next": "bf3116d2-c10a-11ef-9ff0-02420a64004f",
     "previous": "bf311646-c10a-11ef-9ff0-02420a64004f"
    }
   },
   "source": [
    "VCノードに登録するSSHの公開鍵ファイルのパスを次のセルで指定してください。\n",
    "\n",
    "> 事前に作成した公開鍵をこの環境にアップロードするか、この環境内でSSH公開鍵の作成を行ってください。"
   ]
  },
  {
   "cell_type": "code",
   "execution_count": null,
   "id": "2e5cbeac-5c87-43cf-bbb9-880736d40f7e",
   "metadata": {
    "lc_cell_meme": {
     "current": "bf3116d2-c10a-11ef-9ff0-02420a64004f",
     "history": [
      {
       "current": "bf2e9b1e-c10a-11ef-9ff0-02420a64004f",
       "next": "bf2e9b8c-c10a-11ef-9ff0-02420a64004f",
       "previous": "bf2e9ab0-c10a-11ef-9ff0-02420a64004f"
      }
     ],
     "next": "bf31170e-c10a-11ef-9ff0-02420a64004f",
     "previous": "bf31168c-c10a-11ef-9ff0-02420a64004f"
    },
    "tags": [
     "vcp:parameters"
    ]
   },
   "outputs": [],
   "source": [
    "# (例)\n",
    "# ssh_public_key_path = '~/.ssh/id_rsa.pub'\n",
    "\n",
    "ssh_public_key_path = '~/.ssh/id_rsa.pub'"
   ]
  },
  {
   "cell_type": "markdown",
   "id": "236f12b4-4e35-439f-95dc-c1e4076e7193",
   "metadata": {
    "lc_cell_meme": {
     "current": "bf31170e-c10a-11ef-9ff0-02420a64004f",
     "history": [
      {
       "current": "bf2e9b8c-c10a-11ef-9ff0-02420a64004f",
       "next": "bf2e9bf0-c10a-11ef-9ff0-02420a64004f",
       "previous": "bf2e9b1e-c10a-11ef-9ff0-02420a64004f"
      }
     ],
     "next": "bf311754-c10a-11ef-9ff0-02420a64004f",
     "previous": "bf3116d2-c10a-11ef-9ff0-02420a64004f"
    }
   },
   "source": [
    "公開鍵に対応する秘密鍵のパスを次のセルで指定してください。"
   ]
  },
  {
   "cell_type": "code",
   "execution_count": null,
   "id": "9fc93959-ce0c-4252-a756-24e0b043f38a",
   "metadata": {
    "lc_cell_meme": {
     "current": "bf311754-c10a-11ef-9ff0-02420a64004f",
     "history": [
      {
       "current": "bf2e9bf0-c10a-11ef-9ff0-02420a64004f",
       "next": "bf2e9c5e-c10a-11ef-9ff0-02420a64004f",
       "previous": "bf2e9b8c-c10a-11ef-9ff0-02420a64004f"
      }
     ],
     "next": "bf31179a-c10a-11ef-9ff0-02420a64004f",
     "previous": "bf31170e-c10a-11ef-9ff0-02420a64004f"
    },
    "tags": [
     "vcp:parameters"
    ]
   },
   "outputs": [],
   "source": [
    "# (例)\n",
    "# ssh_private_key_path = '~/.ssh/id_rsa'\n",
    "\n",
    "ssh_private_key_path = '~/.ssh/id_rsa'"
   ]
  },
  {
   "cell_type": "markdown",
   "id": "71392191-5422-4546-b8f6-17cddb119c7d",
   "metadata": {
    "lc_cell_meme": {
     "current": "bf31179a-c10a-11ef-9ff0-02420a64004f",
     "history": [
      {
       "current": "bf2e9c5e-c10a-11ef-9ff0-02420a64004f",
       "next": "bf2e9ccc-c10a-11ef-9ff0-02420a64004f",
       "previous": "bf2e9bf0-c10a-11ef-9ff0-02420a64004f"
      }
     ],
     "next": "bf3117e0-c10a-11ef-9ff0-02420a64004f",
     "previous": "bf311754-c10a-11ef-9ff0-02420a64004f"
    }
   },
   "source": [
    "### オンプレミスサーバに構築する場合の追加設定\n",
    "\n",
    "オンプレミス環境（mdx含）に構築する場合、追加で設定する必要があるパラメータを指定します。  \n",
    "aws, azureに構築する場合は、以下のセルを実行する必要はありません。（実行しても何も設定されません）"
   ]
  },
  {
   "cell_type": "code",
   "execution_count": null,
   "id": "edf647cf-b492-4006-bc69-4b2e11d7755e",
   "metadata": {
    "lc_cell_meme": {
     "current": "bf3117e0-c10a-11ef-9ff0-02420a64004f",
     "history": [
      {
       "current": "bf2e9ccc-c10a-11ef-9ff0-02420a64004f",
       "next": "bf2e9d3a-c10a-11ef-9ff0-02420a64004f",
       "previous": "bf2e9c5e-c10a-11ef-9ff0-02420a64004f"
      }
     ],
     "next": "bf311826-c10a-11ef-9ff0-02420a64004f",
     "previous": "bf31179a-c10a-11ef-9ff0-02420a64004f"
    }
   },
   "outputs": [],
   "source": [
    "# VCノードを構築するVMにSSHログインする際のログインユーザ名を指定します。\n",
    "# （例）\n",
    "# ssh_user = 'mdxuser' ...mdxに構築する場合\n",
    "ssh_user = 'mdxuser'"
   ]
  },
  {
   "cell_type": "markdown",
   "id": "32f47b05-3145-4985-b568-66a6316e78aa",
   "metadata": {
    "heading_collapsed": true,
    "lc_cell_meme": {
     "current": "bf311826-c10a-11ef-9ff0-02420a64004f",
     "history": [
      {
       "current": "bf2e9d3a-c10a-11ef-9ff0-02420a64004f",
       "next": "bf2e9da8-c10a-11ef-9ff0-02420a64004f",
       "previous": "bf2e9ccc-c10a-11ef-9ff0-02420a64004f"
      }
     ],
     "next": "bf31186c-c10a-11ef-9ff0-02420a64004f",
     "previous": "bf3117e0-c10a-11ef-9ff0-02420a64004f"
    }
   },
   "source": [
    "### パラメータの保存\n",
    "\n",
    "この章で指定したパラメータの値をファイルに保存します。"
   ]
  },
  {
   "cell_type": "markdown",
   "id": "e4aa07e2-dbe3-4c8b-8ebe-203d7b95abce",
   "metadata": {
    "hidden": true,
    "lc_cell_meme": {
     "current": "bf31186c-c10a-11ef-9ff0-02420a64004f",
     "history": [
      {
       "current": "bf2e9da8-c10a-11ef-9ff0-02420a64004f",
       "next": "bf2e9e16-c10a-11ef-9ff0-02420a64004f",
       "previous": "bf2e9d3a-c10a-11ef-9ff0-02420a64004f"
      }
     ],
     "next": "bf311916-c10a-11ef-9ff0-02420a64004f",
     "previous": "bf311826-c10a-11ef-9ff0-02420a64004f"
    }
   },
   "source": [
    "後の手順でVCノードに対する操作を、構成管理ツールの[Ansible](https://www.ansible.com/)で行います。そこで、パラメータの保存形式は `Ansible` のフォーマットに従うことにします。Ansible では `group_vars/`というディレクトリに YAML フォーマットのファイルを配置すると、そのファイルに記録されている値を変数として利用することができます。このNotebookではパラメータを `group_vars/` のYAMLファイルとして保存します。"
   ]
  },
  {
   "cell_type": "markdown",
   "id": "41c3e60c-80d8-42c3-b712-ffb09686b4dd",
   "metadata": {
    "hidden": true,
    "lc_cell_meme": {
     "current": "bf311916-c10a-11ef-9ff0-02420a64004f",
     "history": [
      {
       "current": "bf2e9e16-c10a-11ef-9ff0-02420a64004f",
       "next": "bf2e9e84-c10a-11ef-9ff0-02420a64004f",
       "previous": "bf2e9da8-c10a-11ef-9ff0-02420a64004f"
      }
     ],
     "next": "bf31195c-c10a-11ef-9ff0-02420a64004f",
     "previous": "bf31186c-c10a-11ef-9ff0-02420a64004f"
    }
   },
   "source": [
    "ファイルに保存する前にパラメータに関する簡易なチェックを行います。エラーになった場合はその後に表示される指示に従ってください。"
   ]
  },
  {
   "cell_type": "code",
   "execution_count": null,
   "id": "8b04ca96-7a9c-441b-bde9-e8047df47dd0",
   "metadata": {
    "hidden": true,
    "lc_cell_meme": {
     "current": "bf31195c-c10a-11ef-9ff0-02420a64004f",
     "history": [
      {
       "current": "bf2e9e84-c10a-11ef-9ff0-02420a64004f",
       "next": "bf2e9ee8-c10a-11ef-9ff0-02420a64004f",
       "previous": "bf2e9e16-c10a-11ef-9ff0-02420a64004f"
      }
     ],
     "next": "bf3119a2-c10a-11ef-9ff0-02420a64004f",
     "previous": "bf311916-c10a-11ef-9ff0-02420a64004f"
    }
   },
   "outputs": [],
   "source": [
    "%run scripts/check_params.py\n",
    "check_parameters(\n",
    "    'ugroup_name',\n",
    "    'vc_provider',\n",
    "    'manager_flavor',\n",
    "    'manager_disk_size',\n",
    "    'worker_flavor',\n",
    "    'worker_disk_size',\n",
    "    'worker_nodes',\n",
    "    'vc_ipaddress',\n",
    "    'worker_ipaddresses',\n",
    "    'vc_mac_address',\n",
    "    'worker_mac_addresses',\n",
    "    'docker_address_pool',\n",
    "    'ssh_public_key_path',\n",
    "    'ssh_private_key_path',\n",
    "    params={\n",
    "        'vcp': vcp,\n",
    "        'opt_vars': [\n",
    "            'vc_ipaddress', 'worker_ipaddresses',\n",
    "            'vc_mac_address', 'worker_mac_addresses',\n",
    "        ],\n",
    "    },\n",
    "    nb_vars=locals(),\n",
    ")\n",
    "\n",
    "if vc_provider == 'onpremises':\n",
    "    if not ssh_user:\n",
    "        raise NotImplementedError\n",
    "        print('ssh_user is required if construct on onpremises')\n",
    "    \n",
    "    worker_flavor = 'default'\n",
    "    manager_flavor = 'default'"
   ]
  },
  {
   "cell_type": "markdown",
   "id": "b2ae3a16-fdd9-4408-b250-da8fabb72d87",
   "metadata": {
    "hidden": true,
    "lc_cell_meme": {
     "current": "bf3119a2-c10a-11ef-9ff0-02420a64004f",
     "history": [
      {
       "current": "bf2e9ee8-c10a-11ef-9ff0-02420a64004f",
       "next": "bf2e9f56-c10a-11ef-9ff0-02420a64004f",
       "previous": "bf2e9e84-c10a-11ef-9ff0-02420a64004f"
      }
     ],
     "next": "bf3119e8-c10a-11ef-9ff0-02420a64004f",
     "previous": "bf31195c-c10a-11ef-9ff0-02420a64004f"
    }
   },
   "source": [
    "次のセルを実行すると、この章で指定したパラメータが group_vars ファイルに保存されます。"
   ]
  },
  {
   "cell_type": "code",
   "execution_count": null,
   "id": "70cbe7bd-bfc9-425b-8ea6-98c23f0fa868",
   "metadata": {
    "hidden": true,
    "lc_cell_meme": {
     "current": "bf3119e8-c10a-11ef-9ff0-02420a64004f",
     "history": [
      {
       "current": "bf2e9f56-c10a-11ef-9ff0-02420a64004f",
       "next": "bf2e9fce-c10a-11ef-9ff0-02420a64004f",
       "previous": "bf2e9ee8-c10a-11ef-9ff0-02420a64004f"
      }
     ],
     "next": "bf311a2e-c10a-11ef-9ff0-02420a64004f",
     "previous": "bf3119a2-c10a-11ef-9ff0-02420a64004f"
    }
   },
   "outputs": [],
   "source": [
    "import os\n",
    "%run scripts/group.py\n",
    "update_group_vars(\n",
    "    ugroup_name,\n",
    "    ugroup_name=ugroup_name,\n",
    "    vc_provider=vc_provider,\n",
    "    manager_flavor=manager_flavor,\n",
    "    manager_disk_size=manager_disk_size,\n",
    "    worker_flavor=worker_flavor,\n",
    "    worker_disk_size=worker_disk_size,\n",
    "    worker_nodes=worker_nodes,\n",
    "    docker_address_pool=docker_address_pool,\n",
    "    ssh_public_key_path=os.path.expanduser(ssh_public_key_path),\n",
    "    ssh_private_key_path=os.path.expanduser(ssh_private_key_path),\n",
    ")\n",
    "if 'vc_ipaddress' in vars():\n",
    "    update_group_vars(ugroup_name, vc_ipaddress=vc_ipaddress)\n",
    "if 'worker_ipaddresses' in vars():\n",
    "    update_group_vars(ugroup_name, worker_ipaddresses=worker_ipaddresses)\n",
    "if 'vc_mac_address' in vars():\n",
    "    update_group_vars(ugroup_name, vc_mac_address=vc_mac_address)\n",
    "if 'worker_mac_addresses' in vars():\n",
    "    update_group_vars(ugroup_name, worker_mac_addresses=worker_mac_addresses)"
   ]
  },
  {
   "cell_type": "markdown",
   "id": "9d21ccf8-2fa5-42df-949c-e62cc92584ed",
   "metadata": {
    "hidden": true,
    "lc_cell_meme": {
     "current": "bf311a2e-c10a-11ef-9ff0-02420a64004f",
     "history": [
      {
       "current": "bf2e9fce-c10a-11ef-9ff0-02420a64004f",
       "next": "bf2ea03c-c10a-11ef-9ff0-02420a64004f",
       "previous": "bf2e9f56-c10a-11ef-9ff0-02420a64004f"
      }
     ],
     "next": "bf311ad8-c10a-11ef-9ff0-02420a64004f",
     "previous": "bf3119e8-c10a-11ef-9ff0-02420a64004f"
    }
   },
   "source": [
    "group_vars ファイルの内容を表示して保存されたパラメータを確認します。"
   ]
  },
  {
   "cell_type": "code",
   "execution_count": null,
   "id": "c64f2ac8-968a-41a2-bf2f-6231d1524ee6",
   "metadata": {
    "hidden": true,
    "lc_cell_meme": {
     "current": "bf311ad8-c10a-11ef-9ff0-02420a64004f",
     "history": [
      {
       "current": "bf2ea03c-c10a-11ef-9ff0-02420a64004f",
       "next": "bf2ea0aa-c10a-11ef-9ff0-02420a64004f",
       "previous": "bf2e9fce-c10a-11ef-9ff0-02420a64004f"
      }
     ],
     "next": "bf311b1e-c10a-11ef-9ff0-02420a64004f",
     "previous": "bf311a2e-c10a-11ef-9ff0-02420a64004f"
    }
   },
   "outputs": [],
   "source": [
    "!cat group_vars/{ugroup_name}"
   ]
  },
  {
   "cell_type": "markdown",
   "id": "2e1f3774-ed96-43d2-90fa-356e4434127e",
   "metadata": {
    "heading_collapsed": true,
    "lc_cell_meme": {
     "current": "bf311b1e-c10a-11ef-9ff0-02420a64004f",
     "history": [
      {
       "current": "bf2ea0aa-c10a-11ef-9ff0-02420a64004f",
       "next": "bf2ea10e-c10a-11ef-9ff0-02420a64004f",
       "previous": "bf2ea03c-c10a-11ef-9ff0-02420a64004f"
      }
     ],
     "next": "bf311b64-c10a-11ef-9ff0-02420a64004f",
     "previous": "bf311ad8-c10a-11ef-9ff0-02420a64004f"
    }
   },
   "source": [
    "## VCディスクに関するパラメータ\n",
    "\n",
    "JupyterHubに関するデータやNotebook、ユーザのホームディレクトリなどに利用するVCディスクに関するパラメータを指定します。"
   ]
  },
  {
   "cell_type": "markdown",
   "id": "6bcb11fd-3aad-436d-b533-d0b74ad70b30",
   "metadata": {
    "hidden": true,
    "lc_cell_meme": {
     "current": "bf311b64-c10a-11ef-9ff0-02420a64004f",
     "history": [
      {
       "current": "bf2ea10e-c10a-11ef-9ff0-02420a64004f",
       "next": "bf2ea17c-c10a-11ef-9ff0-02420a64004f",
       "previous": "bf2ea0aa-c10a-11ef-9ff0-02420a64004f"
      }
     ],
     "next": "bf311baa-c10a-11ef-9ff0-02420a64004f",
     "previous": "bf311b1e-c10a-11ef-9ff0-02420a64004f"
    }
   },
   "source": [
    "ディスクサイズ(GB)を指定してください。\n",
    "\n",
    "> VCディスクを作成しないで全てのデータをルートボリュームに配置する場合は、このセクションをスキップするか、`vc_nfs_disk_size` を `0` に設定してください。\n",
    "> またVCディスクに対応しているクラウドプロバイダ(aws, azure)以外を指定した場合は、ディスクサイズの指定は無効となります。"
   ]
  },
  {
   "cell_type": "code",
   "execution_count": null,
   "id": "0b556bf2-0349-4bd9-ae56-b059aed8f180",
   "metadata": {
    "hidden": true,
    "lc_cell_meme": {
     "current": "bf311baa-c10a-11ef-9ff0-02420a64004f",
     "history": [
      {
       "current": "bf2ea17c-c10a-11ef-9ff0-02420a64004f",
       "next": "bf2ea1ea-c10a-11ef-9ff0-02420a64004f",
       "previous": "bf2ea10e-c10a-11ef-9ff0-02420a64004f"
      }
     ],
     "next": "bf311bf0-c10a-11ef-9ff0-02420a64004f",
     "previous": "bf311b64-c10a-11ef-9ff0-02420a64004f"
    },
    "tags": [
     "vcp:skip",
     "vcp:parameters"
    ]
   },
   "outputs": [],
   "source": [
    "# (例)\n",
    "# vc_nfs_disk_size = 32\n",
    "\n",
    "vc_nfs_disk_size = 0"
   ]
  },
  {
   "cell_type": "markdown",
   "id": "ce148813-e050-48f0-9a59-86b1fa199421",
   "metadata": {
    "hidden": true,
    "lc_cell_meme": {
     "current": "bf311bf0-c10a-11ef-9ff0-02420a64004f",
     "history": [
      {
       "current": "bf2ea1ea-c10a-11ef-9ff0-02420a64004f",
       "next": "bf2ea258-c10a-11ef-9ff0-02420a64004f",
       "previous": "bf2ea17c-c10a-11ef-9ff0-02420a64004f"
      }
     ],
     "next": "bf311c36-c10a-11ef-9ff0-02420a64004f",
     "previous": "bf311baa-c10a-11ef-9ff0-02420a64004f"
    }
   },
   "source": [
    "VCディスクのためのUnitGroup名を指定してください。ここではVCノードのUnitGroup名から自動的に導き出した名前を設定します。"
   ]
  },
  {
   "cell_type": "code",
   "execution_count": null,
   "id": "ddafdadc-a09a-4821-b204-7f0db86423b8",
   "metadata": {
    "hidden": true,
    "lc_cell_meme": {
     "current": "bf311c36-c10a-11ef-9ff0-02420a64004f",
     "history": [
      {
       "current": "bf2ea258-c10a-11ef-9ff0-02420a64004f",
       "next": "bf2ea2c6-c10a-11ef-9ff0-02420a64004f",
       "previous": "bf2ea1ea-c10a-11ef-9ff0-02420a64004f"
      }
     ],
     "next": "bf311c7c-c10a-11ef-9ff0-02420a64004f",
     "previous": "bf311bf0-c10a-11ef-9ff0-02420a64004f"
    }
   },
   "outputs": [],
   "source": [
    "disk_unit_group = ugroup_name + '_disk'\n",
    "print(disk_unit_group)"
   ]
  },
  {
   "cell_type": "markdown",
   "id": "873eb72e-9d7a-4870-a8fa-aec0bd8866e1",
   "metadata": {
    "hidden": true,
    "lc_cell_meme": {
     "current": "bf311c7c-c10a-11ef-9ff0-02420a64004f",
     "history": [
      {
       "current": "bf2ea2c6-c10a-11ef-9ff0-02420a64004f",
       "next": "bf2ea334-c10a-11ef-9ff0-02420a64004f",
       "previous": "bf2ea258-c10a-11ef-9ff0-02420a64004f"
      }
     ],
     "next": "bf311cc2-c10a-11ef-9ff0-02420a64004f",
     "previous": "bf311c36-c10a-11ef-9ff0-02420a64004f"
    }
   },
   "source": [
    "この章で指定したパラメータの値をファイルに保存します。"
   ]
  },
  {
   "cell_type": "code",
   "execution_count": null,
   "id": "46ea2ae9-80be-4522-930b-08f71855043a",
   "metadata": {
    "hidden": true,
    "lc_cell_meme": {
     "current": "bf311cc2-c10a-11ef-9ff0-02420a64004f",
     "history": [
      {
       "current": "bf2ea334-c10a-11ef-9ff0-02420a64004f",
       "next": "bf2ea398-c10a-11ef-9ff0-02420a64004f",
       "previous": "bf2ea2c6-c10a-11ef-9ff0-02420a64004f"
      }
     ],
     "next": "bf311d08-c10a-11ef-9ff0-02420a64004f",
     "previous": "bf311c7c-c10a-11ef-9ff0-02420a64004f"
    }
   },
   "outputs": [],
   "source": [
    "%run scripts/group.py\n",
    "\n",
    "if 'vc_nfs_disk_size' in vars() and vc_nfs_disk_size > 0:\n",
    "    if vc_provider in ['aws', 'azure']:\n",
    "        update_group_vars(\n",
    "            ugroup_name,\n",
    "            disk_unit_group=disk_unit_group,\n",
    "            vc_nfs_disk_size=vc_nfs_disk_size,\n",
    "        )\n",
    "    else:\n",
    "        del(vc_nfs_disk_size)"
   ]
  },
  {
   "cell_type": "markdown",
   "id": "cb3ac283-b7e8-4705-a824-979610237342",
   "metadata": {
    "hidden": true,
    "lc_cell_meme": {
     "current": "bf311d08-c10a-11ef-9ff0-02420a64004f",
     "history": [
      {
       "current": "bf2ea398-c10a-11ef-9ff0-02420a64004f",
       "next": "bf2ea406-c10a-11ef-9ff0-02420a64004f",
       "previous": "bf2ea334-c10a-11ef-9ff0-02420a64004f"
      }
     ],
     "next": "bf311d4e-c10a-11ef-9ff0-02420a64004f",
     "previous": "bf311cc2-c10a-11ef-9ff0-02420a64004f"
    }
   },
   "source": [
    "group_vars ファイルの内容を表示して保存されたパラメータを確認します。"
   ]
  },
  {
   "cell_type": "code",
   "execution_count": null,
   "id": "50f680cb-ebf1-4a85-97c0-63125c35e6c8",
   "metadata": {
    "hidden": true,
    "lc_cell_meme": {
     "current": "bf311d4e-c10a-11ef-9ff0-02420a64004f",
     "history": [
      {
       "current": "bf2ea406-c10a-11ef-9ff0-02420a64004f",
       "next": "bf2ea474-c10a-11ef-9ff0-02420a64004f",
       "previous": "bf2ea398-c10a-11ef-9ff0-02420a64004f"
      }
     ],
     "next": "bf311d94-c10a-11ef-9ff0-02420a64004f",
     "previous": "bf311d08-c10a-11ef-9ff0-02420a64004f"
    }
   },
   "outputs": [],
   "source": [
    "!cat group_vars/{ugroup_name}"
   ]
  },
  {
   "cell_type": "markdown",
   "id": "1696f54b-be5e-4b1b-b7b0-909768c23094",
   "metadata": {
    "heading_collapsed": true,
    "lc_cell_meme": {
     "current": "bf311d94-c10a-11ef-9ff0-02420a64004f",
     "history": [
      {
       "current": "bf2ea474-c10a-11ef-9ff0-02420a64004f",
       "next": "bf2ea4e2-c10a-11ef-9ff0-02420a64004f",
       "previous": "bf2ea406-c10a-11ef-9ff0-02420a64004f"
      }
     ],
     "next": "bf311dda-c10a-11ef-9ff0-02420a64004f",
     "previous": "bf311d4e-c10a-11ef-9ff0-02420a64004f"
    }
   },
   "source": [
    "## VCディスクの作成\n",
    "\n",
    "NFS用のVCディスクを作成します。\n",
    "\n",
    "> 前のセクションをスキップしたか、または `vc_nfs_disk_size`の値として `0` を設定した場合は、このセクションを実行してもVCディスクは作成されません。"
   ]
  },
  {
   "cell_type": "markdown",
   "id": "e2928da4-0038-4060-9fe3-27508c7cf04f",
   "metadata": {
    "hidden": true,
    "lc_cell_meme": {
     "current": "bf311dda-c10a-11ef-9ff0-02420a64004f",
     "history": [
      {
       "current": "bf2ea4e2-c10a-11ef-9ff0-02420a64004f",
       "next": "bf2ea546-c10a-11ef-9ff0-02420a64004f",
       "previous": "bf2ea474-c10a-11ef-9ff0-02420a64004f"
      }
     ],
     "next": "bf311e20-c10a-11ef-9ff0-02420a64004f",
     "previous": "bf311d94-c10a-11ef-9ff0-02420a64004f"
    }
   },
   "source": [
    "### UnitGroupの作成\n",
    "\n",
    "VCディスクを管理するための UnitGroup を作成します。\n"
   ]
  },
  {
   "cell_type": "markdown",
   "id": "b80a50b7-ca32-4c04-b1e7-2ab30b1abf5b",
   "metadata": {
    "hidden": true,
    "lc_cell_meme": {
     "current": "bf311e20-c10a-11ef-9ff0-02420a64004f",
     "history": [
      {
       "current": "bf2ea546-c10a-11ef-9ff0-02420a64004f",
       "next": "bf2ea5be-c10a-11ef-9ff0-02420a64004f",
       "previous": "bf2ea4e2-c10a-11ef-9ff0-02420a64004f"
      }
     ],
     "next": "bf311e5c-c10a-11ef-9ff0-02420a64004f",
     "previous": "bf311dda-c10a-11ef-9ff0-02420a64004f"
    }
   },
   "source": [
    "UnitGroupを作成するまえに、現在のUnitGroupの一覧を確認します。"
   ]
  },
  {
   "cell_type": "code",
   "execution_count": null,
   "id": "f3244dc6-7070-473d-a59a-9621f52e127f",
   "metadata": {
    "hidden": true,
    "lc_cell_meme": {
     "current": "bf311e5c-c10a-11ef-9ff0-02420a64004f",
     "history": [
      {
       "current": "bf2ea5be-c10a-11ef-9ff0-02420a64004f",
       "next": "bf2ea62c-c10a-11ef-9ff0-02420a64004f",
       "previous": "bf2ea546-c10a-11ef-9ff0-02420a64004f"
      }
     ],
     "next": "bf311ea2-c10a-11ef-9ff0-02420a64004f",
     "previous": "bf311e20-c10a-11ef-9ff0-02420a64004f"
    }
   },
   "outputs": [],
   "source": [
    "vcp.df_ugroups()"
   ]
  },
  {
   "cell_type": "markdown",
   "id": "6de79fd5-324e-47ce-92ad-5891ce3ef954",
   "metadata": {
    "hidden": true,
    "lc_cell_meme": {
     "current": "bf311ea2-c10a-11ef-9ff0-02420a64004f",
     "history": [
      {
       "current": "bf2ea62c-c10a-11ef-9ff0-02420a64004f",
       "next": "bf2ea69a-c10a-11ef-9ff0-02420a64004f",
       "previous": "bf2ea5be-c10a-11ef-9ff0-02420a64004f"
      }
     ],
     "next": "bf311ee8-c10a-11ef-9ff0-02420a64004f",
     "previous": "bf311e5c-c10a-11ef-9ff0-02420a64004f"
    }
   },
   "source": [
    "UnitGroupを作成します。"
   ]
  },
  {
   "cell_type": "code",
   "execution_count": null,
   "id": "ad8e9c3c-6ed5-4fa8-95dc-0a4d5e3e4523",
   "metadata": {
    "hidden": true,
    "lc_cell_meme": {
     "current": "bf311ee8-c10a-11ef-9ff0-02420a64004f",
     "history": [
      {
       "current": "bf2ea69a-c10a-11ef-9ff0-02420a64004f",
       "next": "bf2ea6fe-c10a-11ef-9ff0-02420a64004f",
       "previous": "bf2ea62c-c10a-11ef-9ff0-02420a64004f"
      }
     ],
     "next": "bf311f2e-c10a-11ef-9ff0-02420a64004f",
     "previous": "bf311ea2-c10a-11ef-9ff0-02420a64004f"
    }
   },
   "outputs": [],
   "source": [
    "%run scripts/group.py\n",
    "gvars = load_group_vars(ugroup_name)\n",
    "\n",
    "if 'disk_unit_group' in gvars and 'vc_nfs_disk_size' in gvars and gvars['vc_nfs_disk_size'] > 0:\n",
    "    ug_disk = vcp.create_ugroup(gvars['disk_unit_group'], ugroup_type='storage')"
   ]
  },
  {
   "cell_type": "markdown",
   "id": "418f4fcd-5d99-4247-b0cb-01b4e1f525f8",
   "metadata": {
    "hidden": true,
    "lc_cell_meme": {
     "current": "bf311f2e-c10a-11ef-9ff0-02420a64004f",
     "history": [
      {
       "current": "bf2ea6fe-c10a-11ef-9ff0-02420a64004f",
       "next": "bf2ea76c-c10a-11ef-9ff0-02420a64004f",
       "previous": "bf2ea69a-c10a-11ef-9ff0-02420a64004f"
      }
     ],
     "next": "bf311f74-c10a-11ef-9ff0-02420a64004f",
     "previous": "bf311ee8-c10a-11ef-9ff0-02420a64004f"
    }
   },
   "source": [
    "UnitGroup作成後の一覧を表示させます。"
   ]
  },
  {
   "cell_type": "code",
   "execution_count": null,
   "id": "fa5c462d-3690-431e-a736-9c8d08dac96e",
   "metadata": {
    "hidden": true,
    "lc_cell_meme": {
     "current": "bf311f74-c10a-11ef-9ff0-02420a64004f",
     "history": [
      {
       "current": "bf2ea76c-c10a-11ef-9ff0-02420a64004f",
       "next": "bf2ea7da-c10a-11ef-9ff0-02420a64004f",
       "previous": "bf2ea6fe-c10a-11ef-9ff0-02420a64004f"
      }
     ],
     "next": "bf311fba-c10a-11ef-9ff0-02420a64004f",
     "previous": "bf311f2e-c10a-11ef-9ff0-02420a64004f"
    }
   },
   "outputs": [],
   "source": [
    "vcp.df_ugroups()"
   ]
  },
  {
   "cell_type": "markdown",
   "id": "b5c1dbed-a3f1-451f-82f9-0295889d3748",
   "metadata": {
    "hidden": true,
    "lc_cell_meme": {
     "current": "bf311fba-c10a-11ef-9ff0-02420a64004f",
     "history": [
      {
       "current": "bf2ea7da-c10a-11ef-9ff0-02420a64004f",
       "next": "bf2ea848-c10a-11ef-9ff0-02420a64004f",
       "previous": "bf2ea76c-c10a-11ef-9ff0-02420a64004f"
      }
     ],
     "next": "bf312000-c10a-11ef-9ff0-02420a64004f",
     "previous": "bf311f74-c10a-11ef-9ff0-02420a64004f"
    }
   },
   "source": [
    "### VCディスクの作成"
   ]
  },
  {
   "cell_type": "markdown",
   "id": "37ebdadd-fc7d-432d-bda0-40a005038a93",
   "metadata": {
    "hidden": true,
    "lc_cell_meme": {
     "current": "bf312000-c10a-11ef-9ff0-02420a64004f",
     "history": [
      {
       "current": "bf2ea848-c10a-11ef-9ff0-02420a64004f",
       "next": "bf2ea8b6-c10a-11ef-9ff0-02420a64004f",
       "previous": "bf2ea7da-c10a-11ef-9ff0-02420a64004f"
      }
     ],
     "next": "bf312046-c10a-11ef-9ff0-02420a64004f",
     "previous": "bf311fba-c10a-11ef-9ff0-02420a64004f"
    }
   },
   "source": [
    "NFS用のVCディスクを作成します。"
   ]
  },
  {
   "cell_type": "code",
   "execution_count": null,
   "id": "d5767521-302e-4903-b6e9-b1ee0e433f17",
   "metadata": {
    "hidden": true,
    "lc_cell_meme": {
     "current": "bf312046-c10a-11ef-9ff0-02420a64004f",
     "history": [
      {
       "current": "bf2ea8b6-c10a-11ef-9ff0-02420a64004f",
       "next": "bf2ea924-c10a-11ef-9ff0-02420a64004f",
       "previous": "bf2ea848-c10a-11ef-9ff0-02420a64004f"
      }
     ],
     "next": "bf31208c-c10a-11ef-9ff0-02420a64004f",
     "previous": "bf312000-c10a-11ef-9ff0-02420a64004f"
    }
   },
   "outputs": [],
   "source": [
    "if 'ug_disk' in vars() and gvars['vc_nfs_disk_size'] > 0:\n",
    "    nfs_disk_spec = vcp.get_spec(gvars['vc_provider'] + '_disk', 'small')\n",
    "    if gvars['vc_provider'] == 'azure':\n",
    "        nfs_disk_spec.disk_size_gb = gvars['vc_nfs_disk_size']\n",
    "    elif gvars['vc_provider'] == 'oracle':\n",
    "        nfs_disk_spec.size_in_gbs = gvars['vc_nfs_disk_size']\n",
    "    else:\n",
    "        nfs_disk_spec.size = gvars['vc_nfs_disk_size']\n",
    "    ug_disk.create_unit('nfs', nfs_disk_spec)"
   ]
  },
  {
   "cell_type": "markdown",
   "id": "8c26e026-a6c3-4fc5-a138-4be6932b22ce",
   "metadata": {
    "hidden": true,
    "lc_cell_meme": {
     "current": "bf31208c-c10a-11ef-9ff0-02420a64004f",
     "history": [
      {
       "current": "bf2ea924-c10a-11ef-9ff0-02420a64004f",
       "next": "bf2eaa1e-c10a-11ef-9ff0-02420a64004f",
       "previous": "bf2ea8b6-c10a-11ef-9ff0-02420a64004f"
      }
     ],
     "next": "bf3120d2-c10a-11ef-9ff0-02420a64004f",
     "previous": "bf312046-c10a-11ef-9ff0-02420a64004f"
    }
   },
   "source": [
    "作成したVCディスクの一覧を表示します。"
   ]
  },
  {
   "cell_type": "code",
   "execution_count": null,
   "id": "2af3febf-af1c-44b5-9708-f30c8c5d64b9",
   "metadata": {
    "hidden": true,
    "lc_cell_meme": {
     "current": "bf3120d2-c10a-11ef-9ff0-02420a64004f",
     "history": [
      {
       "current": "bf2eaa1e-c10a-11ef-9ff0-02420a64004f",
       "next": "bf2eaa8c-c10a-11ef-9ff0-02420a64004f",
       "previous": "bf2ea924-c10a-11ef-9ff0-02420a64004f"
      }
     ],
     "next": "bf312118-c10a-11ef-9ff0-02420a64004f",
     "previous": "bf31208c-c10a-11ef-9ff0-02420a64004f"
    }
   },
   "outputs": [],
   "source": [
    "from IPython.display import display\n",
    "if 'ug_disk' in vars():\n",
    "    display(ug_disk.df_nodes())"
   ]
  },
  {
   "cell_type": "markdown",
   "id": "7a52bb28-26e4-4f2b-9a06-d31d628430c7",
   "metadata": {
    "heading_collapsed": true,
    "lc_cell_meme": {
     "current": "bf312118-c10a-11ef-9ff0-02420a64004f",
     "history": [
      {
       "current": "bf2eaa8c-c10a-11ef-9ff0-02420a64004f",
       "next": "bf2eaafa-c10a-11ef-9ff0-02420a64004f",
       "previous": "bf2eaa1e-c10a-11ef-9ff0-02420a64004f"
      }
     ],
     "next": "bf31215e-c10a-11ef-9ff0-02420a64004f",
     "previous": "bf3120d2-c10a-11ef-9ff0-02420a64004f"
    }
   },
   "source": [
    "## VCノードの起動"
   ]
  },
  {
   "cell_type": "markdown",
   "id": "2c984d95-f3cc-4ae7-958f-713dfb527f0f",
   "metadata": {
    "hidden": true,
    "lc_cell_meme": {
     "current": "bf31215e-c10a-11ef-9ff0-02420a64004f",
     "history": [
      {
       "current": "bf2eaafa-c10a-11ef-9ff0-02420a64004f",
       "next": "bf2eab5e-c10a-11ef-9ff0-02420a64004f",
       "previous": "bf2eaa8c-c10a-11ef-9ff0-02420a64004f"
      }
     ],
     "next": "bf3121a4-c10a-11ef-9ff0-02420a64004f",
     "previous": "bf312118-c10a-11ef-9ff0-02420a64004f"
    }
   },
   "source": [
    "### managerノード"
   ]
  },
  {
   "cell_type": "markdown",
   "id": "0d14fec1-49bb-4f0e-b4b1-c91b3174d5ef",
   "metadata": {
    "hidden": true,
    "lc_cell_meme": {
     "current": "bf3121a4-c10a-11ef-9ff0-02420a64004f",
     "history": [
      {
       "current": "bf2eab5e-c10a-11ef-9ff0-02420a64004f",
       "next": "bf2eabcc-c10a-11ef-9ff0-02420a64004f",
       "previous": "bf2eaafa-c10a-11ef-9ff0-02420a64004f"
      }
     ],
     "next": "bf3121ea-c10a-11ef-9ff0-02420a64004f",
     "previous": "bf31215e-c10a-11ef-9ff0-02420a64004f"
    }
   },
   "source": [
    "#### manager用のVCノードを起動する"
   ]
  },
  {
   "cell_type": "markdown",
   "id": "23b5029b-5dd5-434f-a4f7-a5dc44523f12",
   "metadata": {
    "hidden": true,
    "lc_cell_meme": {
     "current": "bf3121ea-c10a-11ef-9ff0-02420a64004f",
     "history": [
      {
       "current": "bf2eabcc-c10a-11ef-9ff0-02420a64004f",
       "next": "bf2eac3a-c10a-11ef-9ff0-02420a64004f",
       "previous": "bf2eab5e-c10a-11ef-9ff0-02420a64004f"
      }
     ],
     "next": "bf312230-c10a-11ef-9ff0-02420a64004f",
     "previous": "bf3121a4-c10a-11ef-9ff0-02420a64004f"
    }
   },
   "source": [
    "manager用VCノードの `spec` を指定します。"
   ]
  },
  {
   "cell_type": "code",
   "execution_count": null,
   "id": "368a6cdd-0cf6-4bae-b07f-5091609095f7",
   "metadata": {
    "hidden": true,
    "lc_cell_meme": {
     "current": "bf312230-c10a-11ef-9ff0-02420a64004f",
     "history": [
      {
       "current": "bf2eac3a-c10a-11ef-9ff0-02420a64004f",
       "next": "bf2eaca8-c10a-11ef-9ff0-02420a64004f",
       "previous": "bf2eabcc-c10a-11ef-9ff0-02420a64004f"
      }
     ],
     "next": "bf312276-c10a-11ef-9ff0-02420a64004f",
     "previous": "bf3121ea-c10a-11ef-9ff0-02420a64004f"
    },
    "tags": [
     "vcp:rewrite:container_image"
    ]
   },
   "outputs": [],
   "source": [
    "import sys\n",
    "%run scripts/group.py\n",
    "gvars = load_group_vars(ugroup_name)\n",
    "spec_mgr = vcp.get_spec(gvars['vc_provider'], gvars['manager_flavor'])\n",
    "\n",
    "# Baseコンテナイメージを指定する\n",
    "spec_mgr.image = 'harbor.vcloud.nii.ac.jp/vcp/coursewarehub:base-nfsd'\n",
    "spec_mgr.params_v = [\n",
    "    '/sys/fs/cgroup:/sys/fs/cgroup:ro',\n",
    "    '/lib/modules:/lib/modules:ro',\n",
    "]\n",
    "\n",
    "if 'vc_ipaddress' in gvars:\n",
    "    # manager用VCノードに割り当てるIPアドレスを指定する\n",
    "    spec_mgr.ip_addresses = [gvars['vc_ipaddress']]\n",
    "elif 'vc_mac_addresses' in gvars:\n",
    "    # manager用VCノードに割り当てるMACアドレスを指定する\n",
    "    spec_mgr.mac_addresses = [gvars['vc_mac_address']]\n",
    "    \n",
    "# ルートボリュームサイズを指定する\n",
    "if vc_provider == 'aws':\n",
    "    spec_mgr.volume_size = gvars['manager_disk_size']\n",
    "elif vc_provider == 'azure':\n",
    "    spec_mgr.disk_size_gb = gvars['manager_disk_size']\n",
    "else:\n",
    "    print('This provider does not support the specification of the root volume size.' +\n",
    "          ' Does not set the disk size.', file=sys.stderr)\n",
    "\n",
    "# オンプレミスに構築する場合、SSHログインユーザ名を指定\n",
    "if vc_provider == 'onpremises':\n",
    "    spec_mgr.user_name = ssh_user\n",
    "\n",
    "# VCノードにsshでログインするための公開鍵を指定する\n",
    "spec_mgr.set_ssh_pubkey(gvars['ssh_public_key_path'])\n",
    "spec_mgr.params_e.append(f\"UGROUP_NAME={ugroup_name}\")\n",
    "\n",
    "if 'ug_disk' in vars():\n",
    "    spec_mgr.disks = ug_disk.find_nodes()\n",
    "    if len(spec_mgr.disks) > 0:\n",
    "        spec_mgr.params_e.append(\"NFS_MKFS=yes\")\n",
    "else:\n",
    "    spec_mgr.params_v.append('/exported:/exported')"
   ]
  },
  {
   "cell_type": "markdown",
   "id": "e6033c21-24e6-4426-8013-9dde3a674020",
   "metadata": {
    "hidden": true,
    "lc_cell_meme": {
     "current": "bf312276-c10a-11ef-9ff0-02420a64004f",
     "history": [
      {
       "current": "bf2eaca8-c10a-11ef-9ff0-02420a64004f",
       "next": "bf2ead16-c10a-11ef-9ff0-02420a64004f",
       "previous": "bf2eac3a-c10a-11ef-9ff0-02420a64004f"
      }
     ],
     "next": "bf3122bc-c10a-11ef-9ff0-02420a64004f",
     "previous": "bf312230-c10a-11ef-9ff0-02420a64004f"
    }
   },
   "source": [
    "`spec` の設定値を確認します。"
   ]
  },
  {
   "cell_type": "code",
   "execution_count": null,
   "id": "d50fe884-ecd2-4ded-a49f-81e959cbba98",
   "metadata": {
    "hidden": true,
    "lc_cell_meme": {
     "current": "bf3122bc-c10a-11ef-9ff0-02420a64004f",
     "history": [
      {
       "current": "bf2ead16-c10a-11ef-9ff0-02420a64004f",
       "next": "bf2eadb6-c10a-11ef-9ff0-02420a64004f",
       "previous": "bf2eaca8-c10a-11ef-9ff0-02420a64004f"
      }
     ],
     "next": "bf312302-c10a-11ef-9ff0-02420a64004f",
     "previous": "bf312276-c10a-11ef-9ff0-02420a64004f"
    },
    "scrolled": false
   },
   "outputs": [],
   "source": [
    "print(spec_mgr)"
   ]
  },
  {
   "cell_type": "markdown",
   "id": "2dac7e33-95ea-4a49-b931-9737432d29f8",
   "metadata": {
    "hidden": true,
    "lc_cell_meme": {
     "current": "bf312302-c10a-11ef-9ff0-02420a64004f",
     "history": [
      {
       "current": "bf2eadb6-c10a-11ef-9ff0-02420a64004f",
       "next": "bf2eae2e-c10a-11ef-9ff0-02420a64004f",
       "previous": "bf2ead16-c10a-11ef-9ff0-02420a64004f"
      }
     ],
     "next": "bf312348-c10a-11ef-9ff0-02420a64004f",
     "previous": "bf3122bc-c10a-11ef-9ff0-02420a64004f"
    }
   },
   "source": [
    "UnitGroupを作成します。"
   ]
  },
  {
   "cell_type": "code",
   "execution_count": null,
   "id": "d4166c0a-1db1-4d89-8a0b-3567930dfacf",
   "metadata": {
    "hidden": true,
    "lc_cell_meme": {
     "current": "bf312348-c10a-11ef-9ff0-02420a64004f",
     "history": [
      {
       "current": "bf2eae2e-c10a-11ef-9ff0-02420a64004f",
       "next": "bf2eae92-c10a-11ef-9ff0-02420a64004f",
       "previous": "bf2eadb6-c10a-11ef-9ff0-02420a64004f"
      }
     ],
     "next": "bf31238e-c10a-11ef-9ff0-02420a64004f",
     "previous": "bf312302-c10a-11ef-9ff0-02420a64004f"
    }
   },
   "outputs": [],
   "source": [
    "ugroup = vcp.create_ugroup(ugroup_name)"
   ]
  },
  {
   "cell_type": "markdown",
   "id": "d703a2e1-383d-4964-ab00-16091d51b9a9",
   "metadata": {
    "hidden": true,
    "lc_cell_meme": {
     "current": "bf31238e-c10a-11ef-9ff0-02420a64004f",
     "history": [
      {
       "current": "bf2eae92-c10a-11ef-9ff0-02420a64004f",
       "next": "bf2eaf00-c10a-11ef-9ff0-02420a64004f",
       "previous": "bf2eae2e-c10a-11ef-9ff0-02420a64004f"
      }
     ],
     "next": "bf3123d4-c10a-11ef-9ff0-02420a64004f",
     "previous": "bf312348-c10a-11ef-9ff0-02420a64004f"
    }
   },
   "source": [
    "manager用VCノードを起動します。"
   ]
  },
  {
   "cell_type": "code",
   "execution_count": null,
   "id": "d82f7ecd-f3df-4710-b152-ca8432af71b2",
   "metadata": {
    "hidden": true,
    "lc_cell_meme": {
     "current": "bf3123d4-c10a-11ef-9ff0-02420a64004f",
     "history": [
      {
       "current": "bf2eaf00-c10a-11ef-9ff0-02420a64004f",
       "next": "bf2eaf6e-c10a-11ef-9ff0-02420a64004f",
       "previous": "bf2eae92-c10a-11ef-9ff0-02420a64004f"
      }
     ],
     "next": "bf31241a-c10a-11ef-9ff0-02420a64004f",
     "previous": "bf31238e-c10a-11ef-9ff0-02420a64004f"
    },
    "scrolled": true
   },
   "outputs": [],
   "source": [
    "unit_mgr = ugroup.create_unit('manager', spec_mgr)"
   ]
  },
  {
   "cell_type": "markdown",
   "id": "181e90cb-2628-4aad-8640-0b97af2fee32",
   "metadata": {
    "hidden": true,
    "lc_cell_meme": {
     "current": "bf31241a-c10a-11ef-9ff0-02420a64004f",
     "history": [
      {
       "current": "bf2eaf6e-c10a-11ef-9ff0-02420a64004f",
       "next": "bf2eafdc-c10a-11ef-9ff0-02420a64004f",
       "previous": "bf2eaf00-c10a-11ef-9ff0-02420a64004f"
      }
     ],
     "next": "bf312460-c10a-11ef-9ff0-02420a64004f",
     "previous": "bf3123d4-c10a-11ef-9ff0-02420a64004f"
    }
   },
   "source": [
    "起動したVCノードの一覧を表示します。\n",
    "\n",
    "vcname:　本ノートブックで指定した、`UnitGroup`  \n",
    "unit_name:　`manager`"
   ]
  },
  {
   "cell_type": "code",
   "execution_count": null,
   "id": "16b23b9d-881a-46d5-90e5-e221a922ec49",
   "metadata": {
    "hidden": true,
    "lc_cell_meme": {
     "current": "bf312460-c10a-11ef-9ff0-02420a64004f",
     "history": [
      {
       "current": "bf2eafdc-c10a-11ef-9ff0-02420a64004f",
       "next": "bf2eb04a-c10a-11ef-9ff0-02420a64004f",
       "previous": "bf2eaf6e-c10a-11ef-9ff0-02420a64004f"
      }
     ],
     "next": "bf3124a6-c10a-11ef-9ff0-02420a64004f",
     "previous": "bf31241a-c10a-11ef-9ff0-02420a64004f"
    }
   },
   "outputs": [],
   "source": [
    "unit_mgr.df_nodes()"
   ]
  },
  {
   "cell_type": "markdown",
   "id": "5a4f4129-cdc9-430c-8203-ef668694c744",
   "metadata": {
    "hidden": true,
    "lc_cell_meme": {
     "current": "bf3124a6-c10a-11ef-9ff0-02420a64004f",
     "history": [
      {
       "current": "bf2eb04a-c10a-11ef-9ff0-02420a64004f",
       "next": "bf2eb0ae-c10a-11ef-9ff0-02420a64004f",
       "previous": "bf2eafdc-c10a-11ef-9ff0-02420a64004f"
      }
     ],
     "next": "bf3124ec-c10a-11ef-9ff0-02420a64004f",
     "previous": "bf312460-c10a-11ef-9ff0-02420a64004f"
    }
   },
   "source": [
    "VCノードのIPアドレスを変数`vc_ipaddress`に設定します。"
   ]
  },
  {
   "cell_type": "code",
   "execution_count": null,
   "id": "4003be41-bb1a-406a-8fa3-aa358abb28fb",
   "metadata": {
    "hidden": true,
    "lc_cell_meme": {
     "current": "bf3124ec-c10a-11ef-9ff0-02420a64004f",
     "history": [
      {
       "current": "bf2eb0ae-c10a-11ef-9ff0-02420a64004f",
       "next": "bf2eb11c-c10a-11ef-9ff0-02420a64004f",
       "previous": "bf2eb04a-c10a-11ef-9ff0-02420a64004f"
      }
     ],
     "next": "bf312532-c10a-11ef-9ff0-02420a64004f",
     "previous": "bf3124a6-c10a-11ef-9ff0-02420a64004f"
    }
   },
   "outputs": [],
   "source": [
    "vc_ipaddress = unit_mgr.find_ip_addresses()[0]\n",
    "print(vc_ipaddress)"
   ]
  },
  {
   "cell_type": "markdown",
   "id": "b156038e-d184-4493-ae0e-08323c1e4231",
   "metadata": {
    "hidden": true,
    "lc_cell_meme": {
     "current": "bf312532-c10a-11ef-9ff0-02420a64004f",
     "history": [
      {
       "current": "bf2eb11c-c10a-11ef-9ff0-02420a64004f",
       "next": "bf2eb18a-c10a-11ef-9ff0-02420a64004f",
       "previous": "bf2eb0ae-c10a-11ef-9ff0-02420a64004f"
      }
     ],
     "next": "bf312578-c10a-11ef-9ff0-02420a64004f",
     "previous": "bf3124ec-c10a-11ef-9ff0-02420a64004f"
    }
   },
   "source": [
    "`group_vars`ファイルにIPアドレスの値を記録します。"
   ]
  },
  {
   "cell_type": "code",
   "execution_count": null,
   "id": "8fd26b4d-7c98-4f74-b3b1-5215627faa13",
   "metadata": {
    "hidden": true,
    "lc_cell_meme": {
     "current": "bf312578-c10a-11ef-9ff0-02420a64004f",
     "history": [
      {
       "current": "bf2eb18a-c10a-11ef-9ff0-02420a64004f",
       "next": "bf2eb1f8-c10a-11ef-9ff0-02420a64004f",
       "previous": "bf2eb11c-c10a-11ef-9ff0-02420a64004f"
      }
     ],
     "next": "bf3125be-c10a-11ef-9ff0-02420a64004f",
     "previous": "bf312532-c10a-11ef-9ff0-02420a64004f"
    }
   },
   "outputs": [],
   "source": [
    "update_group_vars(ugroup_name, vc_ipaddress=vc_ipaddress)\n",
    "gvars = load_group_vars(ugroup_name)"
   ]
  },
  {
   "cell_type": "markdown",
   "id": "106d7042-5639-4176-92aa-b994f64894f2",
   "metadata": {
    "hidden": true,
    "lc_cell_meme": {
     "current": "bf3125be-c10a-11ef-9ff0-02420a64004f",
     "history": [
      {
       "current": "bf2eb1f8-c10a-11ef-9ff0-02420a64004f",
       "next": "bf2eb266-c10a-11ef-9ff0-02420a64004f",
       "previous": "bf2eb18a-c10a-11ef-9ff0-02420a64004f"
      }
     ],
     "next": "bf312604-c10a-11ef-9ff0-02420a64004f",
     "previous": "bf312578-c10a-11ef-9ff0-02420a64004f"
    }
   },
   "source": [
    "#### managerノードに対するAnsibleの設定\n",
    "\n",
    "起動したVCノードをAnsibleで操作するための設定を行います。"
   ]
  },
  {
   "cell_type": "markdown",
   "id": "373ad046-76a5-4a5b-a483-99d437b8faa1",
   "metadata": {
    "hidden": true,
    "lc_cell_meme": {
     "current": "bf312604-c10a-11ef-9ff0-02420a64004f",
     "history": [
      {
       "current": "bf2eb266-c10a-11ef-9ff0-02420a64004f",
       "next": "bf2eb2ca-c10a-11ef-9ff0-02420a64004f",
       "previous": "bf2eb1f8-c10a-11ef-9ff0-02420a64004f"
      }
     ],
     "next": "bf312640-c10a-11ef-9ff0-02420a64004f",
     "previous": "bf3125be-c10a-11ef-9ff0-02420a64004f"
    }
   },
   "source": [
    "まず、VCノードにSSHでログインできるようにするために `~/.ssh/known_hosts` の更新を行います。\n",
    "\n",
    "> 何度かVCノードの起動を行うと、異なるホストが同じIPアドレスで起動するためにSSHのホストキーのチェックでエラーになる事があります。このような状況に対応するために、起動したVCノードのIPアドレスに対応するエントリを`known_hosts`ファイルから削除します。その後、`ssh-keyscan`コマンドを利用して起動したVCノードのホストキーを取得して `known_hosts`ファイルの内容を更新します。"
   ]
  },
  {
   "cell_type": "code",
   "execution_count": null,
   "id": "ebba7801-be03-46f4-bad8-dd9b48bb9b21",
   "metadata": {
    "hidden": true,
    "lc_cell_meme": {
     "current": "bf312640-c10a-11ef-9ff0-02420a64004f",
     "history": [
      {
       "current": "bf2eb2ca-c10a-11ef-9ff0-02420a64004f",
       "next": "bf2eb338-c10a-11ef-9ff0-02420a64004f",
       "previous": "bf2eb266-c10a-11ef-9ff0-02420a64004f"
      }
     ],
     "next": "bf312686-c10a-11ef-9ff0-02420a64004f",
     "previous": "bf312604-c10a-11ef-9ff0-02420a64004f"
    }
   },
   "outputs": [],
   "source": [
    "from time import sleep\n",
    "\n",
    "def check_update_known_hosts(ipaddr):\n",
    "    # VCノード起動直後だと sshd サービスが開始されておらずに known_hosts が更新されない場合がある\n",
    "    # ssh-keyscan が値を取得できるまで何度かリトライする\n",
    "    for x in range(10):\n",
    "        out = ! echo $(ssh-keyscan {ipaddr} 2> /dev/null | wc -l)\n",
    "        update_lines = int(out[0])\n",
    "        if update_lines > 0:\n",
    "            break\n",
    "        sleep(1)\n",
    "    else:\n",
    "        raise RuntimeError(\"ERROR: timeout!\")    \n",
    "\n",
    "!mkdir -p -m 0700 ~/.ssh\n",
    "!touch ~/.ssh/known_hosts\n",
    "for addr in unit_mgr.find_ip_addresses():\n",
    "    !ssh-keygen -R {addr}\n",
    "    check_update_known_hosts(addr)\n",
    "    !ssh-keyscan -H {addr} >> ~/.ssh/known_hosts"
   ]
  },
  {
   "cell_type": "markdown",
   "id": "f53e2029-7e06-451a-861f-b7a9a395f51e",
   "metadata": {
    "hidden": true,
    "lc_cell_meme": {
     "current": "bf312686-c10a-11ef-9ff0-02420a64004f",
     "history": [
      {
       "current": "bf2eb338-c10a-11ef-9ff0-02420a64004f",
       "next": "bf2eb3a6-c10a-11ef-9ff0-02420a64004f",
       "previous": "bf2eb2ca-c10a-11ef-9ff0-02420a64004f"
      }
     ],
     "next": "bf3126cc-c10a-11ef-9ff0-02420a64004f",
     "previous": "bf312640-c10a-11ef-9ff0-02420a64004f"
    }
   },
   "source": [
    "起動したVCノードに対応するエントリを Ansible のインベントリに登録します。\n",
    "\n",
    "> Ansibleで操作を行うためには、操作対象のホスト(IPアドレス)をインベントリに登録する必要があります。"
   ]
  },
  {
   "cell_type": "code",
   "execution_count": null,
   "id": "b9b8597f-401e-4ae9-8117-3b9d81fb21e9",
   "metadata": {
    "hidden": true,
    "lc_cell_meme": {
     "current": "bf3126cc-c10a-11ef-9ff0-02420a64004f",
     "history": [
      {
       "current": "bf2eb3a6-c10a-11ef-9ff0-02420a64004f",
       "next": "bf2eb414-c10a-11ef-9ff0-02420a64004f",
       "previous": "bf2eb338-c10a-11ef-9ff0-02420a64004f"
      }
     ],
     "next": "bf312712-c10a-11ef-9ff0-02420a64004f",
     "previous": "bf312686-c10a-11ef-9ff0-02420a64004f"
    }
   },
   "outputs": [],
   "source": [
    "%run scripts/group.py\n",
    "%run scripts/edit_conf.py\n",
    "\n",
    "inventory = {'all': {'children': {\n",
    "    ugroup.name: {\n",
    "        'children': {\n",
    "            f'{ugroup.name}_{unit_mgr.name}': {\n",
    "                'hosts': dict([(x, {}) for x in unit_mgr.find_ip_addresses()]),\n",
    "            },\n",
    "        },\n",
    "        'vars': {\n",
    "            'ansible_user': 'vcp',\n",
    "            'ansible_ssh_private_key_file': gvars['ssh_private_key_path'],\n",
    "            'ansible_python_interpreter': '/usr/bin/python3',\n",
    "        },\n",
    "    },\n",
    "}}}\n",
    "\n",
    "generate_edit_link(update_inventory_yml(inventory))"
   ]
  },
  {
   "cell_type": "markdown",
   "id": "66f61d8d-fe14-412c-8d58-18bc2ebfc62a",
   "metadata": {
    "hidden": true,
    "lc_cell_meme": {
     "current": "bf312712-c10a-11ef-9ff0-02420a64004f",
     "history": [
      {
       "current": "bf2eb414-c10a-11ef-9ff0-02420a64004f",
       "next": "bf2eb482-c10a-11ef-9ff0-02420a64004f",
       "previous": "bf2eb3a6-c10a-11ef-9ff0-02420a64004f"
      }
     ],
     "next": "bf312758-c10a-11ef-9ff0-02420a64004f",
     "previous": "bf3126cc-c10a-11ef-9ff0-02420a64004f"
    }
   },
   "source": [
    "次のセルを実行すると作成したインベントリの内容を表示します。インベントリの内容を変更したい場合は、上のセルの出力結果に表示しているリンクから編集することができます。"
   ]
  },
  {
   "cell_type": "code",
   "execution_count": null,
   "id": "368bb1af-c680-4c89-a5da-260924869bf9",
   "metadata": {
    "hidden": true,
    "lc_cell_meme": {
     "current": "bf312758-c10a-11ef-9ff0-02420a64004f",
     "history": [
      {
       "current": "bf2eb482-c10a-11ef-9ff0-02420a64004f",
       "next": "bf2eb4f0-c10a-11ef-9ff0-02420a64004f",
       "previous": "bf2eb414-c10a-11ef-9ff0-02420a64004f"
      }
     ],
     "next": "bf31279e-c10a-11ef-9ff0-02420a64004f",
     "previous": "bf312712-c10a-11ef-9ff0-02420a64004f"
    }
   },
   "outputs": [],
   "source": [
    "!cat inventory.yml"
   ]
  },
  {
   "cell_type": "markdown",
   "id": "05271a17-458e-4493-9425-c46256176220",
   "metadata": {
    "hidden": true,
    "lc_cell_meme": {
     "current": "bf31279e-c10a-11ef-9ff0-02420a64004f",
     "history": [
      {
       "current": "bf2eb4f0-c10a-11ef-9ff0-02420a64004f",
       "next": "bf2eb554-c10a-11ef-9ff0-02420a64004f",
       "previous": "bf2eb482-c10a-11ef-9ff0-02420a64004f"
      }
     ],
     "next": "bf3127e4-c10a-11ef-9ff0-02420a64004f",
     "previous": "bf312758-c10a-11ef-9ff0-02420a64004f"
    }
   },
   "source": [
    " 先程VCノードを登録したファイルをインベントリとして指定するためのAnsibleのコンフィギュレーションファイルを作成します。\n",
    "> カレントディレクトリにコンフィギュレーションファイル(`ansible.cfg`)を作成すると、Ansibleを実行する際にその設定が適用されます。"
   ]
  },
  {
   "cell_type": "code",
   "execution_count": null,
   "id": "0d9f13a2-5e0c-40d0-afc3-4aa8c5e2c404",
   "metadata": {
    "hidden": true,
    "lc_cell_meme": {
     "current": "bf3127e4-c10a-11ef-9ff0-02420a64004f",
     "history": [
      {
       "current": "bf2eb554-c10a-11ef-9ff0-02420a64004f",
       "next": "bf2eb5c2-c10a-11ef-9ff0-02420a64004f",
       "previous": "bf2eb4f0-c10a-11ef-9ff0-02420a64004f"
      }
     ],
     "next": "bf31282a-c10a-11ef-9ff0-02420a64004f",
     "previous": "bf31279e-c10a-11ef-9ff0-02420a64004f"
    }
   },
   "outputs": [],
   "source": [
    "cfg = setup_ansible_cfg()\n",
    "generate_edit_link(cfg)"
   ]
  },
  {
   "cell_type": "markdown",
   "id": "56256766-4e6d-476b-8335-3552953d8c29",
   "metadata": {
    "hidden": true,
    "lc_cell_meme": {
     "current": "bf31282a-c10a-11ef-9ff0-02420a64004f",
     "history": [
      {
       "current": "bf2eb5c2-c10a-11ef-9ff0-02420a64004f",
       "next": "bf2eb630-c10a-11ef-9ff0-02420a64004f",
       "previous": "bf2eb554-c10a-11ef-9ff0-02420a64004f"
      }
     ],
     "next": "bf312870-c10a-11ef-9ff0-02420a64004f",
     "previous": "bf3127e4-c10a-11ef-9ff0-02420a64004f"
    }
   },
   "source": [
    "次のセルを実行すると作成したコンフィギュレーションファイルの内容を表示します。コンフィギュレーションファイルの内容を変更したい場合は、上のセルの出力結果に表示しているリンクから編集することができます。"
   ]
  },
  {
   "cell_type": "code",
   "execution_count": null,
   "id": "f49947d7-8491-4243-b761-8adc54f1d768",
   "metadata": {
    "hidden": true,
    "lc_cell_meme": {
     "current": "bf312870-c10a-11ef-9ff0-02420a64004f",
     "history": [
      {
       "current": "bf2eb630-c10a-11ef-9ff0-02420a64004f",
       "next": "bf2eb69e-c10a-11ef-9ff0-02420a64004f",
       "previous": "bf2eb5c2-c10a-11ef-9ff0-02420a64004f"
      }
     ],
     "next": "bf3128b6-c10a-11ef-9ff0-02420a64004f",
     "previous": "bf31282a-c10a-11ef-9ff0-02420a64004f"
    }
   },
   "outputs": [],
   "source": [
    "!cat ansible.cfg"
   ]
  },
  {
   "cell_type": "markdown",
   "id": "08ad331d-5961-4d33-a427-f137b5b93888",
   "metadata": {
    "hidden": true,
    "lc_cell_meme": {
     "current": "bf3128b6-c10a-11ef-9ff0-02420a64004f",
     "history": [
      {
       "current": "bf2eb69e-c10a-11ef-9ff0-02420a64004f",
       "next": "bf2eb702-c10a-11ef-9ff0-02420a64004f",
       "previous": "bf2eb630-c10a-11ef-9ff0-02420a64004f"
      }
     ],
     "next": "bf3128fc-c10a-11ef-9ff0-02420a64004f",
     "previous": "bf312870-c10a-11ef-9ff0-02420a64004f"
    }
   },
   "source": [
    "UnitGroupに属する全てのVCノードに対して Ansible で接続できることを確認します。\n",
    "\n",
    "> ここでは、複数のVCノードをまとめて扱うためにAnsibleのグループを指定しています。グループ名は UnitGroup名と同じ値にしてあります。"
   ]
  },
  {
   "cell_type": "code",
   "execution_count": null,
   "id": "15d6bcde-c63d-47fe-a8d7-967172ebd650",
   "metadata": {
    "hidden": true,
    "lc_cell_meme": {
     "current": "bf3128fc-c10a-11ef-9ff0-02420a64004f",
     "history": [
      {
       "current": "bf2eb702-c10a-11ef-9ff0-02420a64004f",
       "next": "bf2eb770-c10a-11ef-9ff0-02420a64004f",
       "previous": "bf2eb69e-c10a-11ef-9ff0-02420a64004f"
      }
     ],
     "next": "bf312942-c10a-11ef-9ff0-02420a64004f",
     "previous": "bf3128b6-c10a-11ef-9ff0-02420a64004f"
    }
   },
   "outputs": [],
   "source": [
    "!ansible {ugroup.name} -m ping"
   ]
  },
  {
   "cell_type": "markdown",
   "id": "b7d02c6f-0290-47a5-b357-d4cfc2c64653",
   "metadata": {
    "hidden": true,
    "lc_cell_meme": {
     "current": "bf312942-c10a-11ef-9ff0-02420a64004f",
     "history": [
      {
       "current": "bf2eb770-c10a-11ef-9ff0-02420a64004f",
       "next": "bf2eb7de-c10a-11ef-9ff0-02420a64004f",
       "previous": "bf2eb702-c10a-11ef-9ff0-02420a64004f"
      }
     ],
     "next": "bf312988-c10a-11ef-9ff0-02420a64004f",
     "previous": "bf3128fc-c10a-11ef-9ff0-02420a64004f"
    }
   },
   "source": [
    "#### NFSサーバの確認"
   ]
  },
  {
   "cell_type": "markdown",
   "id": "76fcdb3f-8408-4c73-aea1-0392d0277601",
   "metadata": {
    "hidden": true,
    "lc_cell_meme": {
     "current": "bf312988-c10a-11ef-9ff0-02420a64004f",
     "history": [
      {
       "current": "bf2eb7de-c10a-11ef-9ff0-02420a64004f",
       "next": "bf2eb84c-c10a-11ef-9ff0-02420a64004f",
       "previous": "bf2eb770-c10a-11ef-9ff0-02420a64004f"
      }
     ],
     "next": "bf3129c4-c10a-11ef-9ff0-02420a64004f",
     "previous": "bf312942-c10a-11ef-9ff0-02420a64004f"
    }
   },
   "source": [
    "managerノードのNFSサーバのサービス状態を確認します。"
   ]
  },
  {
   "cell_type": "code",
   "execution_count": null,
   "id": "d16349dd-d430-4163-b2fb-500aae3379d4",
   "metadata": {
    "hidden": true,
    "lc_cell_meme": {
     "current": "bf3129c4-c10a-11ef-9ff0-02420a64004f",
     "history": [
      {
       "current": "bf2eb84c-c10a-11ef-9ff0-02420a64004f",
       "next": "bf2eb8ba-c10a-11ef-9ff0-02420a64004f",
       "previous": "bf2eb7de-c10a-11ef-9ff0-02420a64004f"
      }
     ],
     "next": "bf312a0a-c10a-11ef-9ff0-02420a64004f",
     "previous": "bf312988-c10a-11ef-9ff0-02420a64004f"
    }
   },
   "outputs": [],
   "source": [
    "!ansible {ugroup.name}_{unit_mgr.name} -b -a 'systemctl status nfs-server'"
   ]
  },
  {
   "cell_type": "markdown",
   "id": "a5cfc42d-3bf7-41bf-b035-c551885fb1df",
   "metadata": {
    "hidden": true,
    "lc_cell_meme": {
     "current": "bf312a0a-c10a-11ef-9ff0-02420a64004f",
     "history": [
      {
       "current": "bf2eb8ba-c10a-11ef-9ff0-02420a64004f",
       "next": "bf2eb928-c10a-11ef-9ff0-02420a64004f",
       "previous": "bf2eb84c-c10a-11ef-9ff0-02420a64004f"
      }
     ],
     "next": "bf312a50-c10a-11ef-9ff0-02420a64004f",
     "previous": "bf3129c4-c10a-11ef-9ff0-02420a64004f"
    }
   },
   "source": [
    "NFSエクスポートの状態を確認します。managerノードの起動時は全てのノードに対してアクセス可能な状態に設定されています。後ほどworkerノードを起動してNFSクライアントのIPアドレスが確定した時点で`/etc/exports`の設定を更新し、アクセスできるノードの制限を行います。"
   ]
  },
  {
   "cell_type": "code",
   "execution_count": null,
   "id": "b597add9-9aa5-4d30-990e-d7888c323e6f",
   "metadata": {
    "hidden": true,
    "lc_cell_meme": {
     "current": "bf312a50-c10a-11ef-9ff0-02420a64004f",
     "history": [
      {
       "current": "bf2eb928-c10a-11ef-9ff0-02420a64004f",
       "next": "bf2eb98c-c10a-11ef-9ff0-02420a64004f",
       "previous": "bf2eb8ba-c10a-11ef-9ff0-02420a64004f"
      }
     ],
     "next": "bf312a96-c10a-11ef-9ff0-02420a64004f",
     "previous": "bf312a0a-c10a-11ef-9ff0-02420a64004f"
    }
   },
   "outputs": [],
   "source": [
    "!ansible {ugroup.name}_{unit_mgr.name} -b -a 'exportfs -v'"
   ]
  },
  {
   "cell_type": "markdown",
   "id": "494f846d-4c9a-4e9e-ba99-85452311f1ba",
   "metadata": {
    "hidden": true,
    "lc_cell_meme": {
     "current": "bf312a96-c10a-11ef-9ff0-02420a64004f",
     "history": [
      {
       "current": "bf2eb98c-c10a-11ef-9ff0-02420a64004f",
       "next": "bf2eb9fa-c10a-11ef-9ff0-02420a64004f",
       "previous": "bf2eb928-c10a-11ef-9ff0-02420a64004f"
      }
     ],
     "next": "bf312adc-c10a-11ef-9ff0-02420a64004f",
     "previous": "bf312a50-c10a-11ef-9ff0-02420a64004f"
    }
   },
   "source": [
    "ディレクトリのパーミッションを設定します。"
   ]
  },
  {
   "cell_type": "code",
   "execution_count": null,
   "id": "fd1545a2-5289-496a-8622-c7c99eed082c",
   "metadata": {
    "hidden": true,
    "lc_cell_meme": {
     "current": "bf312adc-c10a-11ef-9ff0-02420a64004f",
     "history": [
      {
       "current": "bf2eb9fa-c10a-11ef-9ff0-02420a64004f",
       "next": "bf2eba72-c10a-11ef-9ff0-02420a64004f",
       "previous": "bf2eb98c-c10a-11ef-9ff0-02420a64004f"
      }
     ],
     "next": "bf312b22-c10a-11ef-9ff0-02420a64004f",
     "previous": "bf312a96-c10a-11ef-9ff0-02420a64004f"
    },
    "scrolled": true
   },
   "outputs": [],
   "source": [
    "!ansible {ugroup.name}_{unit_mgr.name} -b -m file -a 'path=/home mode=777'\n",
    "!ansible {ugroup.name}_{unit_mgr.name} -b -m file -a 'path=/exchange mode=777'"
   ]
  },
  {
   "cell_type": "markdown",
   "id": "52044437-6b8b-48b3-85b7-c3f29ba0ac92",
   "metadata": {
    "hidden": true,
    "lc_cell_meme": {
     "current": "bf312b22-c10a-11ef-9ff0-02420a64004f",
     "history": [
      {
       "current": "bf2eba72-c10a-11ef-9ff0-02420a64004f",
       "next": "bf2ebae0-c10a-11ef-9ff0-02420a64004f",
       "previous": "bf2eb9fa-c10a-11ef-9ff0-02420a64004f"
      }
     ],
     "next": "bf312b68-c10a-11ef-9ff0-02420a64004f",
     "previous": "bf312adc-c10a-11ef-9ff0-02420a64004f"
    }
   },
   "source": [
    "### workerノード"
   ]
  },
  {
   "cell_type": "markdown",
   "id": "3997aa6b-fb24-49f4-a41b-7c628d7c3c7b",
   "metadata": {
    "hidden": true,
    "lc_cell_meme": {
     "current": "bf312b68-c10a-11ef-9ff0-02420a64004f",
     "history": [
      {
       "current": "bf2ebae0-c10a-11ef-9ff0-02420a64004f",
       "next": "bf2ebb4e-c10a-11ef-9ff0-02420a64004f",
       "previous": "bf2eba72-c10a-11ef-9ff0-02420a64004f"
      }
     ],
     "next": "bf312bae-c10a-11ef-9ff0-02420a64004f",
     "previous": "bf312b22-c10a-11ef-9ff0-02420a64004f"
    }
   },
   "source": [
    "#### worker用のVCノードを起動する"
   ]
  },
  {
   "cell_type": "markdown",
   "id": "766f8326-0ffa-4d33-967c-fcab35e9912d",
   "metadata": {
    "hidden": true,
    "lc_cell_meme": {
     "current": "bf312bae-c10a-11ef-9ff0-02420a64004f",
     "history": [
      {
       "current": "bf2ebb4e-c10a-11ef-9ff0-02420a64004f",
       "next": "bf2ebbb2-c10a-11ef-9ff0-02420a64004f",
       "previous": "bf2ebae0-c10a-11ef-9ff0-02420a64004f"
      }
     ],
     "next": "bf312bf4-c10a-11ef-9ff0-02420a64004f",
     "previous": "bf312b68-c10a-11ef-9ff0-02420a64004f"
    }
   },
   "source": [
    "worker用VCノードの `spec` を指定します。"
   ]
  },
  {
   "cell_type": "code",
   "execution_count": null,
   "id": "01d2d6db-110f-4e34-8bdd-a26fa01dc60b",
   "metadata": {
    "hidden": true,
    "lc_cell_meme": {
     "current": "bf312bf4-c10a-11ef-9ff0-02420a64004f",
     "history": [
      {
       "current": "bf2ebbb2-c10a-11ef-9ff0-02420a64004f",
       "next": "bf2ebc20-c10a-11ef-9ff0-02420a64004f",
       "previous": "bf2ebb4e-c10a-11ef-9ff0-02420a64004f"
      }
     ],
     "next": "bf312c3a-c10a-11ef-9ff0-02420a64004f",
     "previous": "bf312bae-c10a-11ef-9ff0-02420a64004f"
    },
    "tags": [
     "vcp:rewrite:container_image"
    ]
   },
   "outputs": [],
   "source": [
    "%run scripts/group.py\n",
    "gvars = load_group_vars(ugroup_name)\n",
    "spec_worker = vcp.get_spec(gvars['vc_provider'], gvars['worker_flavor'])\n",
    "\n",
    "# Baseコンテナイメージを指定する\n",
    "spec_worker.image = 'harbor.vcloud.nii.ac.jp/vcp/coursewarehub:base'\n",
    "\n",
    "spec_worker.params_v = [\n",
    "    '/sys/fs/cgroup:/sys/fs/cgroup:ro',\n",
    "    '/lib/modules:/lib/modules:ro',\n",
    "]\n",
    "\n",
    "# workerノード数を指定する\n",
    "spec_worker.num_nodes = int(gvars['worker_nodes'])\n",
    "\n",
    "if 'worker_ipaddresses' in gvars:\n",
    "    # worker用VCノードに割り当てるIPアドレスを指定する\n",
    "    spec_worker.ip_addresses = gvars['worker_ipaddresses']\n",
    "elif 'vc_mac_addresses' in gvars:\n",
    "    # worker用VCノードに割り当てるMACアドレスを指定する\n",
    "    spec_worker.mac_addresses = gvars['worker_mac_addresses']\n",
    "\n",
    "# ルートボリュームサイズを指定する\n",
    "if vc_provider == 'aws':\n",
    "    spec_worker.volume_size = gvars['worker_disk_size']\n",
    "elif vc_provider == 'azure':\n",
    "    spec_worker.disk_size_gb = gvars['worker_disk_size']\n",
    "else:\n",
    "    print('This provider does not support the specification of the root volume size.' +\n",
    "          ' Does not set the disk size.', file=sys.stderr)\n",
    "\n",
    "# オンプレミスに構築する場合、SSHログインユーザ名を指定\n",
    "if vc_provider == 'onpremises':\n",
    "    spec_worker.user_name = ssh_user\n",
    "\n",
    "# VCノードにsshでログインするための公開鍵を指定する\n",
    "spec_worker.set_ssh_pubkey(gvars['ssh_public_key_path'])\n",
    "\n",
    "# NFSサーバのIPアドレスを指定する\n",
    "spec_worker.params_e.append(\"NFS_SERVER=\" + gvars['vc_ipaddress'])"
   ]
  },
  {
   "cell_type": "markdown",
   "id": "ffdce5b0-75bc-4603-86a0-5a3981c4191c",
   "metadata": {
    "hidden": true,
    "lc_cell_meme": {
     "current": "bf312c3a-c10a-11ef-9ff0-02420a64004f",
     "history": [
      {
       "current": "bf2ebc20-c10a-11ef-9ff0-02420a64004f",
       "next": "bf2ebc8e-c10a-11ef-9ff0-02420a64004f",
       "previous": "bf2ebbb2-c10a-11ef-9ff0-02420a64004f"
      }
     ],
     "next": "bf312c80-c10a-11ef-9ff0-02420a64004f",
     "previous": "bf312bf4-c10a-11ef-9ff0-02420a64004f"
    }
   },
   "source": [
    "`spec` の設定値を確認します。"
   ]
  },
  {
   "cell_type": "code",
   "execution_count": null,
   "id": "d282cf42-1669-4776-a92b-28bee39faece",
   "metadata": {
    "hidden": true,
    "lc_cell_meme": {
     "current": "bf312c80-c10a-11ef-9ff0-02420a64004f",
     "history": [
      {
       "current": "bf2ebc8e-c10a-11ef-9ff0-02420a64004f",
       "next": "bf2ebcfc-c10a-11ef-9ff0-02420a64004f",
       "previous": "bf2ebc20-c10a-11ef-9ff0-02420a64004f"
      }
     ],
     "next": "bf312cc6-c10a-11ef-9ff0-02420a64004f",
     "previous": "bf312c3a-c10a-11ef-9ff0-02420a64004f"
    }
   },
   "outputs": [],
   "source": [
    "print(spec_worker)"
   ]
  },
  {
   "cell_type": "markdown",
   "id": "9d777a25-aa4f-49cd-a1a7-063b60ba8262",
   "metadata": {
    "hidden": true,
    "lc_cell_meme": {
     "current": "bf312cc6-c10a-11ef-9ff0-02420a64004f",
     "history": [
      {
       "current": "bf2ebcfc-c10a-11ef-9ff0-02420a64004f",
       "next": "bf2ebd6a-c10a-11ef-9ff0-02420a64004f",
       "previous": "bf2ebc8e-c10a-11ef-9ff0-02420a64004f"
      }
     ],
     "next": "bf312d0c-c10a-11ef-9ff0-02420a64004f",
     "previous": "bf312c80-c10a-11ef-9ff0-02420a64004f"
    }
   },
   "source": [
    "worker用VCノードを起動します。"
   ]
  },
  {
   "cell_type": "code",
   "execution_count": null,
   "id": "68188b4e-39a8-41df-b6de-ab57d4561528",
   "metadata": {
    "hidden": true,
    "lc_cell_meme": {
     "current": "bf312d0c-c10a-11ef-9ff0-02420a64004f",
     "history": [
      {
       "current": "bf2ebd6a-c10a-11ef-9ff0-02420a64004f",
       "next": "bf2ebdce-c10a-11ef-9ff0-02420a64004f",
       "previous": "bf2ebcfc-c10a-11ef-9ff0-02420a64004f"
      }
     ],
     "next": "bf312d52-c10a-11ef-9ff0-02420a64004f",
     "previous": "bf312cc6-c10a-11ef-9ff0-02420a64004f"
    },
    "scrolled": true
   },
   "outputs": [],
   "source": [
    "unit_worker = ugroup.create_unit('worker', spec_worker)"
   ]
  },
  {
   "cell_type": "markdown",
   "id": "48490240-f389-4044-ac02-1aa148a8756c",
   "metadata": {
    "hidden": true,
    "lc_cell_meme": {
     "current": "bf312d52-c10a-11ef-9ff0-02420a64004f",
     "history": [
      {
       "current": "bf2ebdce-c10a-11ef-9ff0-02420a64004f",
       "next": "bf2ebe3c-c10a-11ef-9ff0-02420a64004f",
       "previous": "bf2ebd6a-c10a-11ef-9ff0-02420a64004f"
      }
     ],
     "next": "bf312d98-c10a-11ef-9ff0-02420a64004f",
     "previous": "bf312d0c-c10a-11ef-9ff0-02420a64004f"
    }
   },
   "source": [
    "起動したVCノードの一覧を表示します。\n",
    "\n",
    "vcname:　本ノートブックで指定した、`UnitGroup`  \n",
    "unit_name:　`worker`"
   ]
  },
  {
   "cell_type": "code",
   "execution_count": null,
   "id": "64463fac-b8dd-4d9c-89e0-c9764a804f37",
   "metadata": {
    "hidden": true,
    "lc_cell_meme": {
     "current": "bf312d98-c10a-11ef-9ff0-02420a64004f",
     "history": [
      {
       "current": "bf2ebe3c-c10a-11ef-9ff0-02420a64004f",
       "next": "bf2ebeaa-c10a-11ef-9ff0-02420a64004f",
       "previous": "bf2ebdce-c10a-11ef-9ff0-02420a64004f"
      }
     ],
     "next": "bf312dde-c10a-11ef-9ff0-02420a64004f",
     "previous": "bf312d52-c10a-11ef-9ff0-02420a64004f"
    }
   },
   "outputs": [],
   "source": [
    "unit_worker.df_nodes()"
   ]
  },
  {
   "cell_type": "markdown",
   "id": "e223d1a3-01ff-4d3b-b6bf-52c929b9ab05",
   "metadata": {
    "hidden": true,
    "lc_cell_meme": {
     "current": "bf312dde-c10a-11ef-9ff0-02420a64004f",
     "history": [
      {
       "current": "bf2ebeaa-c10a-11ef-9ff0-02420a64004f",
       "next": "bf2ebf18-c10a-11ef-9ff0-02420a64004f",
       "previous": "bf2ebe3c-c10a-11ef-9ff0-02420a64004f"
      }
     ],
     "next": "bf312e24-c10a-11ef-9ff0-02420a64004f",
     "previous": "bf312d98-c10a-11ef-9ff0-02420a64004f"
    }
   },
   "source": [
    "#### workerノードに対するAnsibleの設定"
   ]
  },
  {
   "cell_type": "markdown",
   "id": "fd6ce015-a6f1-4c9c-8967-376599b357fc",
   "metadata": {
    "hidden": true,
    "lc_cell_meme": {
     "current": "bf312e24-c10a-11ef-9ff0-02420a64004f",
     "history": [
      {
       "current": "bf2ebf18-c10a-11ef-9ff0-02420a64004f",
       "next": "bf2ebf86-c10a-11ef-9ff0-02420a64004f",
       "previous": "bf2ebeaa-c10a-11ef-9ff0-02420a64004f"
      }
     ],
     "next": "bf312e6a-c10a-11ef-9ff0-02420a64004f",
     "previous": "bf312dde-c10a-11ef-9ff0-02420a64004f"
    }
   },
   "source": [
    "VCノードにSSHでログインできるようにするために `~/.ssh/known_hosts` の更新を行います。"
   ]
  },
  {
   "cell_type": "code",
   "execution_count": null,
   "id": "2eb1fabb-2aac-45e3-b0cb-7135f26be115",
   "metadata": {
    "hidden": true,
    "lc_cell_meme": {
     "current": "bf312e6a-c10a-11ef-9ff0-02420a64004f",
     "history": [
      {
       "current": "bf2ebf86-c10a-11ef-9ff0-02420a64004f",
       "next": "bf2ebfea-c10a-11ef-9ff0-02420a64004f",
       "previous": "bf2ebf18-c10a-11ef-9ff0-02420a64004f"
      }
     ],
     "next": "bf312eb0-c10a-11ef-9ff0-02420a64004f",
     "previous": "bf312e24-c10a-11ef-9ff0-02420a64004f"
    }
   },
   "outputs": [],
   "source": [
    "!mkdir -p -m 0700 ~/.ssh\n",
    "!touch ~/.ssh/known_hosts\n",
    "for addr in unit_worker.find_ip_addresses():\n",
    "    !ssh-keygen -R {addr}\n",
    "    check_update_known_hosts(addr)\n",
    "    !ssh-keyscan -H {addr} >> ~/.ssh/known_hosts"
   ]
  },
  {
   "cell_type": "markdown",
   "id": "3b5b7e1b-d380-4b7e-946d-7cf6739a7c16",
   "metadata": {
    "hidden": true,
    "lc_cell_meme": {
     "current": "bf312eb0-c10a-11ef-9ff0-02420a64004f",
     "history": [
      {
       "current": "bf2ebfea-c10a-11ef-9ff0-02420a64004f",
       "next": "bf2ec058-c10a-11ef-9ff0-02420a64004f",
       "previous": "bf2ebf86-c10a-11ef-9ff0-02420a64004f"
      }
     ],
     "next": "bf312ef6-c10a-11ef-9ff0-02420a64004f",
     "previous": "bf312e6a-c10a-11ef-9ff0-02420a64004f"
    }
   },
   "source": [
    "起動したVCノードに対応するエントリを Ansible のインベントリに登録します。\n",
    "\n",
    "> Ansibleで操作を行うためには、操作対象のホスト(IPアドレス)をインベントリに登録する必要があります。"
   ]
  },
  {
   "cell_type": "code",
   "execution_count": null,
   "id": "b35eb6a0-575e-4661-8e7f-1be6a079c865",
   "metadata": {
    "hidden": true,
    "lc_cell_meme": {
     "current": "bf312ef6-c10a-11ef-9ff0-02420a64004f",
     "history": [
      {
       "current": "bf2ec058-c10a-11ef-9ff0-02420a64004f",
       "next": "bf2ec0c6-c10a-11ef-9ff0-02420a64004f",
       "previous": "bf2ebfea-c10a-11ef-9ff0-02420a64004f"
      }
     ],
     "next": "bf312f3c-c10a-11ef-9ff0-02420a64004f",
     "previous": "bf312eb0-c10a-11ef-9ff0-02420a64004f"
    }
   },
   "outputs": [],
   "source": [
    "inventory = {'all': {'children': {\n",
    "    ugroup.name: {\n",
    "        'children': {\n",
    "            f'{ugroup.name}_{unit_worker.name}': {\n",
    "                'hosts': dict([(x, {}) for x in unit_worker.find_ip_addresses()]),\n",
    "            },\n",
    "        },\n",
    "    },\n",
    "}}}\n",
    "\n",
    "generate_edit_link(update_inventory_yml(inventory))"
   ]
  },
  {
   "cell_type": "markdown",
   "id": "16d6c647-7036-4d3d-90e4-b0a724f37503",
   "metadata": {
    "hidden": true,
    "lc_cell_meme": {
     "current": "bf312f3c-c10a-11ef-9ff0-02420a64004f",
     "history": [
      {
       "current": "bf2ec0c6-c10a-11ef-9ff0-02420a64004f",
       "next": "bf2ec134-c10a-11ef-9ff0-02420a64004f",
       "previous": "bf2ec058-c10a-11ef-9ff0-02420a64004f"
      }
     ],
     "next": "bf312f82-c10a-11ef-9ff0-02420a64004f",
     "previous": "bf312ef6-c10a-11ef-9ff0-02420a64004f"
    }
   },
   "source": [
    "次のセルを実行すると作成したインベントリの内容を表示します。インベントリの内容を変更したい場合は、上のセルの出力結果に表示しているリンクから編集することができます。"
   ]
  },
  {
   "cell_type": "code",
   "execution_count": null,
   "id": "589edc00-e5bd-4980-81d7-2cf118891620",
   "metadata": {
    "hidden": true,
    "lc_cell_meme": {
     "current": "bf312f82-c10a-11ef-9ff0-02420a64004f",
     "history": [
      {
       "current": "bf2ec134-c10a-11ef-9ff0-02420a64004f",
       "next": "bf2ec1a2-c10a-11ef-9ff0-02420a64004f",
       "previous": "bf2ec0c6-c10a-11ef-9ff0-02420a64004f"
      }
     ],
     "next": "bf312fc8-c10a-11ef-9ff0-02420a64004f",
     "previous": "bf312f3c-c10a-11ef-9ff0-02420a64004f"
    }
   },
   "outputs": [],
   "source": [
    "!cat inventory.yml"
   ]
  },
  {
   "cell_type": "markdown",
   "id": "84570287-67ee-49ea-8a12-a14e1dc1a589",
   "metadata": {
    "hidden": true,
    "lc_cell_meme": {
     "current": "bf312fc8-c10a-11ef-9ff0-02420a64004f",
     "history": [
      {
       "current": "bf2ec1a2-c10a-11ef-9ff0-02420a64004f",
       "next": "bf2ec206-c10a-11ef-9ff0-02420a64004f",
       "previous": "bf2ec134-c10a-11ef-9ff0-02420a64004f"
      }
     ],
     "next": "bf313004-c10a-11ef-9ff0-02420a64004f",
     "previous": "bf312f82-c10a-11ef-9ff0-02420a64004f"
    }
   },
   "source": [
    "UnitGroupに属する全てのVCノードに対して Ansible で接続できることを確認します。\n",
    "\n",
    "> ここでは、複数のVCノードをまとめて扱うためにAnsibleのグループを指定しています。グループ名は UnitGroup名と同じ値にしてあります。"
   ]
  },
  {
   "cell_type": "code",
   "execution_count": null,
   "id": "65d3224e-1518-4ee6-9b97-489cb9776847",
   "metadata": {
    "hidden": true,
    "lc_cell_meme": {
     "current": "bf313004-c10a-11ef-9ff0-02420a64004f",
     "history": [
      {
       "current": "bf2ec206-c10a-11ef-9ff0-02420a64004f",
       "next": "bf2ec274-c10a-11ef-9ff0-02420a64004f",
       "previous": "bf2ec1a2-c10a-11ef-9ff0-02420a64004f"
      }
     ],
     "next": "bf31304a-c10a-11ef-9ff0-02420a64004f",
     "previous": "bf312fc8-c10a-11ef-9ff0-02420a64004f"
    }
   },
   "outputs": [],
   "source": [
    "!ansible {ugroup.name} -m ping"
   ]
  },
  {
   "cell_type": "markdown",
   "id": "8cf861a9-7801-4dc9-9917-cc7a797827a2",
   "metadata": {
    "hidden": true,
    "lc_cell_meme": {
     "current": "bf31304a-c10a-11ef-9ff0-02420a64004f",
     "history": [
      {
       "current": "bf2ec274-c10a-11ef-9ff0-02420a64004f",
       "next": "bf2ec2e2-c10a-11ef-9ff0-02420a64004f",
       "previous": "bf2ec206-c10a-11ef-9ff0-02420a64004f"
      }
     ],
     "next": "bf313090-c10a-11ef-9ff0-02420a64004f",
     "previous": "bf313004-c10a-11ef-9ff0-02420a64004f"
    }
   },
   "source": [
    "#### NFSの設定"
   ]
  },
  {
   "cell_type": "markdown",
   "id": "b36baaa7-a6d7-4f9a-a77f-3db2e598af9d",
   "metadata": {
    "hidden": true,
    "lc_cell_meme": {
     "current": "bf313090-c10a-11ef-9ff0-02420a64004f",
     "history": [
      {
       "current": "bf2ec2e2-c10a-11ef-9ff0-02420a64004f",
       "next": "bf2ec346-c10a-11ef-9ff0-02420a64004f",
       "previous": "bf2ec274-c10a-11ef-9ff0-02420a64004f"
      }
     ],
     "next": "bf3130d6-c10a-11ef-9ff0-02420a64004f",
     "previous": "bf31304a-c10a-11ef-9ff0-02420a64004f"
    }
   },
   "source": [
    "workerノードにおけるNFSマウントの状態を確認します。`/jupyter`, `/exchange`のエントリが存在していることを確認してください。"
   ]
  },
  {
   "cell_type": "code",
   "execution_count": null,
   "id": "ce9c8380-b247-4f6a-a882-8069e3176fa6",
   "metadata": {
    "hidden": true,
    "lc_cell_meme": {
     "current": "bf3130d6-c10a-11ef-9ff0-02420a64004f",
     "history": [
      {
       "current": "bf2ec346-c10a-11ef-9ff0-02420a64004f",
       "next": "bf2ec3b4-c10a-11ef-9ff0-02420a64004f",
       "previous": "bf2ec2e2-c10a-11ef-9ff0-02420a64004f"
      }
     ],
     "next": "bf31311c-c10a-11ef-9ff0-02420a64004f",
     "previous": "bf313090-c10a-11ef-9ff0-02420a64004f"
    }
   },
   "outputs": [],
   "source": [
    "!ansible {ugroup.name}_{unit_worker.name} -a 'mount -t nfs4'"
   ]
  },
  {
   "cell_type": "markdown",
   "id": "2c370429-1481-45de-b964-d72976a95e14",
   "metadata": {
    "hidden": true,
    "lc_cell_meme": {
     "current": "bf31311c-c10a-11ef-9ff0-02420a64004f",
     "history": [
      {
       "current": "bf2ec3b4-c10a-11ef-9ff0-02420a64004f",
       "next": "bf2ec422-c10a-11ef-9ff0-02420a64004f",
       "previous": "bf2ec346-c10a-11ef-9ff0-02420a64004f"
      }
     ],
     "next": "bf313162-c10a-11ef-9ff0-02420a64004f",
     "previous": "bf3130d6-c10a-11ef-9ff0-02420a64004f"
    }
   },
   "source": [
    "NFSサーバの `/etc/exports` の設定を更新します。NFSサーバにアクセスできるNFSクライアントをworkerノードのみとなるように設定します。"
   ]
  },
  {
   "cell_type": "code",
   "execution_count": null,
   "id": "f735c5bd-5f8e-49c6-8bac-60c31740d2bd",
   "metadata": {
    "hidden": true,
    "lc_cell_meme": {
     "current": "bf313162-c10a-11ef-9ff0-02420a64004f",
     "history": [
      {
       "current": "bf2ec422-c10a-11ef-9ff0-02420a64004f",
       "next": "bf2ec490-c10a-11ef-9ff0-02420a64004f",
       "previous": "bf2ec3b4-c10a-11ef-9ff0-02420a64004f"
      }
     ],
     "next": "bf3131a8-c10a-11ef-9ff0-02420a64004f",
     "previous": "bf31311c-c10a-11ef-9ff0-02420a64004f"
    },
    "scrolled": true
   },
   "outputs": [],
   "source": [
    "from tempfile import TemporaryDirectory\n",
    "from pathlib import Path\n",
    "\n",
    "exports_opts = 'rw,fsid=0,no_root_squash,no_subtree_check,sync,crossmnt'\n",
    "with TemporaryDirectory() as workdir:\n",
    "    exports = Path(workdir) / f'{ugroup_name}.exports'\n",
    "    with exports.open(mode='w') as f:\n",
    "        for addr in unit_worker.find_ip_addresses():\n",
    "            f.write(f'/exported/{ugroup_name} {addr}({exports_opts})\\n')\n",
    "    !cat {exports}\n",
    "    !ansible {ugroup.name}_{unit_mgr.name} -b -m copy -a \\\n",
    "        'src={exports} dest=/etc/exports.d/ backup=yes'"
   ]
  },
  {
   "cell_type": "markdown",
   "id": "8171a201-37fb-4051-b9e8-97847acbde8c",
   "metadata": {
    "hidden": true,
    "lc_cell_meme": {
     "current": "bf3131a8-c10a-11ef-9ff0-02420a64004f",
     "history": [
      {
       "current": "bf2ec490-c10a-11ef-9ff0-02420a64004f",
       "next": "bf2ec4f4-c10a-11ef-9ff0-02420a64004f",
       "previous": "bf2ec422-c10a-11ef-9ff0-02420a64004f"
      }
     ],
     "next": "bf3131ee-c10a-11ef-9ff0-02420a64004f",
     "previous": "bf313162-c10a-11ef-9ff0-02420a64004f"
    }
   },
   "source": [
    "設定ファイルを読み込ませてエクスポート設定を更新します。"
   ]
  },
  {
   "cell_type": "code",
   "execution_count": null,
   "id": "d16e1242-9c0e-43ea-a89e-ad8b4d61138b",
   "metadata": {
    "hidden": true,
    "lc_cell_meme": {
     "current": "bf3131ee-c10a-11ef-9ff0-02420a64004f",
     "history": [
      {
       "current": "bf2ec4f4-c10a-11ef-9ff0-02420a64004f",
       "next": "bf2ec562-c10a-11ef-9ff0-02420a64004f",
       "previous": "bf2ec490-c10a-11ef-9ff0-02420a64004f"
      }
     ],
     "next": "bf313234-c10a-11ef-9ff0-02420a64004f",
     "previous": "bf3131a8-c10a-11ef-9ff0-02420a64004f"
    }
   },
   "outputs": [],
   "source": [
    "!ansible {ugroup.name}_{unit_mgr.name} -b -a 'exportfs -r -v'"
   ]
  },
  {
   "cell_type": "markdown",
   "id": "b0ebba5e-caa0-4dba-9ceb-e0a85041805c",
   "metadata": {
    "hidden": true,
    "lc_cell_meme": {
     "current": "bf313234-c10a-11ef-9ff0-02420a64004f",
     "history": [
      {
       "current": "bf2ec562-c10a-11ef-9ff0-02420a64004f",
       "next": "bf2ec5d0-c10a-11ef-9ff0-02420a64004f",
       "previous": "bf2ec4f4-c10a-11ef-9ff0-02420a64004f"
      }
     ],
     "next": "bf31327a-c10a-11ef-9ff0-02420a64004f",
     "previous": "bf3131ee-c10a-11ef-9ff0-02420a64004f"
    }
   },
   "source": [
    "NFSサーバ側に作成したファイルをNFSクライアント側で参照できることを確認します。"
   ]
  },
  {
   "cell_type": "code",
   "execution_count": null,
   "id": "c3b3d5f0-2876-4cc0-84ed-15d7ec0e2db4",
   "metadata": {
    "hidden": true,
    "lc_cell_meme": {
     "current": "bf31327a-c10a-11ef-9ff0-02420a64004f",
     "history": [
      {
       "current": "bf2ec5d0-c10a-11ef-9ff0-02420a64004f",
       "next": "bf2ec63e-c10a-11ef-9ff0-02420a64004f",
       "previous": "bf2ec562-c10a-11ef-9ff0-02420a64004f"
      }
     ],
     "next": "bf3132ca-c10a-11ef-9ff0-02420a64004f",
     "previous": "bf313234-c10a-11ef-9ff0-02420a64004f"
    },
    "scrolled": true
   },
   "outputs": [],
   "source": [
    "!ansible {ugroup.name}_{unit_mgr.name} -m file -a 'path=/jupyter/xxx state=touch'\n",
    "!ansible {ugroup.name}_{unit_mgr.name} -m file -a 'path=/exchange/xxx state=touch'\n",
    "!ansible {ugroup.name}_{unit_worker.name} -a 'test -f /jupyter/xxx'\n",
    "!ansible {ugroup.name}_{unit_worker.name} -a 'test -f /exchange/xxx'\n",
    "!ansible {ugroup.name} -m file -a 'path=/jupyter/xxx state=absent'\n",
    "!ansible {ugroup.name} -m file -a 'path=/exchange/xxx state=absent'"
   ]
  },
  {
   "cell_type": "markdown",
   "id": "b8bf6bc8-5cd0-4d3a-b3d1-fcb7fe244215",
   "metadata": {
    "heading_collapsed": true,
    "lc_cell_meme": {
     "current": "bf3132ca-c10a-11ef-9ff0-02420a64004f",
     "history": [
      {
       "current": "bf2ec63e-c10a-11ef-9ff0-02420a64004f",
       "next": "bf2ec6a2-c10a-11ef-9ff0-02420a64004f",
       "previous": "bf2ec5d0-c10a-11ef-9ff0-02420a64004f"
      }
     ],
     "next": "bf313310-c10a-11ef-9ff0-02420a64004f",
     "previous": "bf31327a-c10a-11ef-9ff0-02420a64004f"
    }
   },
   "source": [
    "## Docker Swarmの設定\n",
    "\n",
    "Docker Swarm の設定を行います。"
   ]
  },
  {
   "cell_type": "markdown",
   "id": "286ed8a9-043f-4515-a28c-eb8cb99254a8",
   "metadata": {
    "hidden": true,
    "lc_cell_meme": {
     "current": "bf313310-c10a-11ef-9ff0-02420a64004f",
     "history": [
      {
       "current": "bf2ec6a2-c10a-11ef-9ff0-02420a64004f",
       "next": "bf2ec710-c10a-11ef-9ff0-02420a64004f",
       "previous": "bf2ec63e-c10a-11ef-9ff0-02420a64004f"
      }
     ],
     "next": "bf313356-c10a-11ef-9ff0-02420a64004f",
     "previous": "bf3132ca-c10a-11ef-9ff0-02420a64004f"
    }
   },
   "source": [
    "Docker Swarmの設定を行う前に、各VCノードで Docker Engine が実行されていることを確認します。"
   ]
  },
  {
   "cell_type": "code",
   "execution_count": null,
   "id": "1244c57c-3105-4c77-aa7a-561a0043fa5c",
   "metadata": {
    "hidden": true,
    "lc_cell_meme": {
     "current": "bf313356-c10a-11ef-9ff0-02420a64004f",
     "history": [
      {
       "current": "bf2ec710-c10a-11ef-9ff0-02420a64004f",
       "next": "bf2ec77e-c10a-11ef-9ff0-02420a64004f",
       "previous": "bf2ec6a2-c10a-11ef-9ff0-02420a64004f"
      }
     ],
     "next": "bf31339c-c10a-11ef-9ff0-02420a64004f",
     "previous": "bf313310-c10a-11ef-9ff0-02420a64004f"
    },
    "scrolled": true
   },
   "outputs": [],
   "source": [
    "!ansible {ugroup.name} -a 'docker info'"
   ]
  },
  {
   "cell_type": "markdown",
   "id": "a358703d-b073-4c2b-ba64-069de41d03e6",
   "metadata": {
    "hidden": true,
    "lc_cell_meme": {
     "current": "bf31339c-c10a-11ef-9ff0-02420a64004f",
     "history": [
      {
       "current": "bf2ec77e-c10a-11ef-9ff0-02420a64004f",
       "next": "bf2ec7ec-c10a-11ef-9ff0-02420a64004f",
       "previous": "bf2ec710-c10a-11ef-9ff0-02420a64004f"
      }
     ],
     "next": "bf3133e2-c10a-11ef-9ff0-02420a64004f",
     "previous": "bf313356-c10a-11ef-9ff0-02420a64004f"
    }
   },
   "source": [
    "manager用VCノードで Docker Swarmの初期セットアップを行います。"
   ]
  },
  {
   "cell_type": "code",
   "execution_count": null,
   "id": "3f31e294-c204-4e51-a4d3-e5e8651e8fbc",
   "metadata": {
    "hidden": true,
    "lc_cell_meme": {
     "current": "bf3133e2-c10a-11ef-9ff0-02420a64004f",
     "history": [
      {
       "current": "bf2ec7ec-c10a-11ef-9ff0-02420a64004f",
       "next": "bf2ec85a-c10a-11ef-9ff0-02420a64004f",
       "previous": "bf2ec77e-c10a-11ef-9ff0-02420a64004f"
      }
     ],
     "next": "bf313428-c10a-11ef-9ff0-02420a64004f",
     "previous": "bf31339c-c10a-11ef-9ff0-02420a64004f"
    }
   },
   "outputs": [],
   "source": [
    "manager_ip = gvars['vc_ipaddress']\n",
    "!ansible {ugroup.name}_{unit_mgr.name} -a 'docker swarm init \\\n",
    "    --default-addr-pool={{{{docker_address_pool}}}} --advertise-addr={manager_ip}'"
   ]
  },
  {
   "cell_type": "markdown",
   "id": "8d67cd77-2d89-4e1c-94e6-455500f2b700",
   "metadata": {
    "hidden": true,
    "lc_cell_meme": {
     "current": "bf313428-c10a-11ef-9ff0-02420a64004f",
     "history": [
      {
       "current": "bf2ec85a-c10a-11ef-9ff0-02420a64004f",
       "next": "bf2ec8be-c10a-11ef-9ff0-02420a64004f",
       "previous": "bf2ec7ec-c10a-11ef-9ff0-02420a64004f"
      }
     ],
     "next": "bf31346e-c10a-11ef-9ff0-02420a64004f",
     "previous": "bf3133e2-c10a-11ef-9ff0-02420a64004f"
    }
   },
   "source": [
    "トークンの値を取得します。"
   ]
  },
  {
   "cell_type": "code",
   "execution_count": null,
   "id": "54f84b95-2cc9-4a85-971e-10af1df48c65",
   "metadata": {
    "hidden": true,
    "lc_cell_meme": {
     "current": "bf31346e-c10a-11ef-9ff0-02420a64004f",
     "history": [
      {
       "current": "bf2ec8be-c10a-11ef-9ff0-02420a64004f",
       "next": "bf2ec92c-c10a-11ef-9ff0-02420a64004f",
       "previous": "bf2ec85a-c10a-11ef-9ff0-02420a64004f"
      }
     ],
     "next": "bf3134b4-c10a-11ef-9ff0-02420a64004f",
     "previous": "bf313428-c10a-11ef-9ff0-02420a64004f"
    }
   },
   "outputs": [],
   "source": [
    "out = !ansible {ugroup.name}_{unit_mgr.name} -a 'docker swarm join-token -q worker'\n",
    "if out[0].find('CHANGED') >= 0 or out[0].find('SUCCESS') >= 0:\n",
    "    swarm_token = out[1]\n",
    "    print(swarm_token)\n",
    "else:\n",
    "    raise"
   ]
  },
  {
   "cell_type": "markdown",
   "id": "f7eeef3a-524e-48c3-8fcc-992bd5636cdd",
   "metadata": {
    "hidden": true,
    "lc_cell_meme": {
     "current": "bf3134b4-c10a-11ef-9ff0-02420a64004f",
     "history": [
      {
       "current": "bf2ec92c-c10a-11ef-9ff0-02420a64004f",
       "next": "bf2ecada-c10a-11ef-9ff0-02420a64004f",
       "previous": "bf2ec8be-c10a-11ef-9ff0-02420a64004f"
      }
     ],
     "next": "bf3134fa-c10a-11ef-9ff0-02420a64004f",
     "previous": "bf31346e-c10a-11ef-9ff0-02420a64004f"
    }
   },
   "source": [
    "workerノードを追加します。"
   ]
  },
  {
   "cell_type": "code",
   "execution_count": null,
   "id": "d140f780-d638-4c50-b9b0-ff52bdc3dd10",
   "metadata": {
    "hidden": true,
    "lc_cell_meme": {
     "current": "bf3134fa-c10a-11ef-9ff0-02420a64004f",
     "history": [
      {
       "current": "bf2ecada-c10a-11ef-9ff0-02420a64004f",
       "next": "bf2ecb52-c10a-11ef-9ff0-02420a64004f",
       "previous": "bf2ec92c-c10a-11ef-9ff0-02420a64004f"
      }
     ],
     "next": "bf313536-c10a-11ef-9ff0-02420a64004f",
     "previous": "bf3134b4-c10a-11ef-9ff0-02420a64004f"
    }
   },
   "outputs": [],
   "source": [
    "!ansible {ugroup.name}_{unit_worker.name} -a \\\n",
    "    'docker swarm join --token {swarm_token} {manager_ip}:2377'"
   ]
  },
  {
   "cell_type": "markdown",
   "id": "6bdf0b36-ef60-427b-bb77-40594d6d5fe0",
   "metadata": {
    "hidden": true,
    "lc_cell_meme": {
     "current": "bf313536-c10a-11ef-9ff0-02420a64004f",
     "history": [
      {
       "current": "bf2ecb52-c10a-11ef-9ff0-02420a64004f",
       "next": "bf2ecbc0-c10a-11ef-9ff0-02420a64004f",
       "previous": "bf2ecada-c10a-11ef-9ff0-02420a64004f"
      }
     ],
     "next": "bf31357c-c10a-11ef-9ff0-02420a64004f",
     "previous": "bf3134fa-c10a-11ef-9ff0-02420a64004f"
    }
   },
   "source": [
    "Docker Swarmのノード一覧を表示します。"
   ]
  },
  {
   "cell_type": "code",
   "execution_count": null,
   "id": "12a572d7-1525-46fb-8a3f-7cd15306d01c",
   "metadata": {
    "hidden": true,
    "lc_cell_meme": {
     "current": "bf31357c-c10a-11ef-9ff0-02420a64004f",
     "history": [
      {
       "current": "bf2ecbc0-c10a-11ef-9ff0-02420a64004f",
       "next": "bf2ecc2e-c10a-11ef-9ff0-02420a64004f",
       "previous": "bf2ecb52-c10a-11ef-9ff0-02420a64004f"
      }
     ],
     "next": "bf3135c2-c10a-11ef-9ff0-02420a64004f",
     "previous": "bf313536-c10a-11ef-9ff0-02420a64004f"
    },
    "scrolled": false
   },
   "outputs": [],
   "source": [
    "!ansible {ugroup.name}_{unit_mgr.name} -a 'docker node ls'"
   ]
  },
  {
   "cell_type": "markdown",
   "id": "95d892df-0f5f-404d-8e71-0529ff3f1e10",
   "metadata": {
    "hidden": true,
    "lc_cell_meme": {
     "current": "bf3135c2-c10a-11ef-9ff0-02420a64004f",
     "history": [
      {
       "current": "bf2ecc2e-c10a-11ef-9ff0-02420a64004f",
       "next": "bf2ecc9c-c10a-11ef-9ff0-02420a64004f",
       "previous": "bf2ecbc0-c10a-11ef-9ff0-02420a64004f"
      }
     ],
     "next": "bf313608-c10a-11ef-9ff0-02420a64004f",
     "previous": "bf31357c-c10a-11ef-9ff0-02420a64004f"
    }
   },
   "source": [
    "Docker Swarmのノード数が起動したVCノードと一致していることを確認します。"
   ]
  },
  {
   "cell_type": "code",
   "execution_count": null,
   "id": "f8b2de5d-19a0-48fa-9869-4484d33f8ff8",
   "metadata": {
    "hidden": true,
    "lc_cell_meme": {
     "current": "bf313608-c10a-11ef-9ff0-02420a64004f",
     "history": [
      {
       "current": "bf2ecc9c-c10a-11ef-9ff0-02420a64004f",
       "next": null,
       "previous": "bf2ecc2e-c10a-11ef-9ff0-02420a64004f"
      }
     ],
     "next": null,
     "previous": "bf3135c2-c10a-11ef-9ff0-02420a64004f"
    }
   },
   "outputs": [],
   "source": [
    "!ansible {ugroup.name}_{unit_mgr.name} -m shell -a \\\n",
    "    'test $(docker node ls -q | wc -l) -eq {worker_nodes + 1}'"
   ]
  }
 ],
 "metadata": {
  "kernelspec": {
   "display_name": "Python 3",
   "language": "python",
   "name": "python3"
  },
  "language_info": {
   "file_extension": ".py",
   "mimetype": "text/x-python",
   "name": "python",
   "nbconvert_exporter": "python",
   "pygments_lexer": "ipython3",
   "version": "3.10.11"
  },
  "lc_notebook_meme": {
   "current": "bf310264-c10a-11ef-9ff0-02420a64004f",
   "history": [
    "bf2e7abc-c10a-11ef-9ff0-02420a64004f"
   ],
   "root_cells": [
    "bf310336-c10a-11ef-9ff0-02420a64004f",
    "bf310390-c10a-11ef-9ff0-02420a64004f",
    "bf3103d6-c10a-11ef-9ff0-02420a64004f",
    "bf310426-c10a-11ef-9ff0-02420a64004f",
    "bf31046c-c10a-11ef-9ff0-02420a64004f",
    "bf3104b2-c10a-11ef-9ff0-02420a64004f",
    "bf3104f8-c10a-11ef-9ff0-02420a64004f",
    "bf31053e-c10a-11ef-9ff0-02420a64004f",
    "bf31057a-c10a-11ef-9ff0-02420a64004f",
    "bf3105c0-c10a-11ef-9ff0-02420a64004f",
    "bf310606-c10a-11ef-9ff0-02420a64004f",
    "bf31064c-c10a-11ef-9ff0-02420a64004f",
    "bf310692-c10a-11ef-9ff0-02420a64004f",
    "bf3106d8-c10a-11ef-9ff0-02420a64004f",
    "bf31071e-c10a-11ef-9ff0-02420a64004f",
    "bf310764-c10a-11ef-9ff0-02420a64004f",
    "bf3107aa-c10a-11ef-9ff0-02420a64004f",
    "bf3107f0-c10a-11ef-9ff0-02420a64004f",
    "bf310836-c10a-11ef-9ff0-02420a64004f",
    "bf31087c-c10a-11ef-9ff0-02420a64004f",
    "bf3108c2-c10a-11ef-9ff0-02420a64004f",
    "bf3108fe-c10a-11ef-9ff0-02420a64004f",
    "bf310944-c10a-11ef-9ff0-02420a64004f",
    "bf31098a-c10a-11ef-9ff0-02420a64004f",
    "bf3109d0-c10a-11ef-9ff0-02420a64004f",
    "bf310a16-c10a-11ef-9ff0-02420a64004f",
    "bf310a5c-c10a-11ef-9ff0-02420a64004f",
    "bf310aa2-c10a-11ef-9ff0-02420a64004f",
    "bf310ae8-c10a-11ef-9ff0-02420a64004f",
    "bf310b2e-c10a-11ef-9ff0-02420a64004f",
    "bf310b74-c10a-11ef-9ff0-02420a64004f",
    "bf310bba-c10a-11ef-9ff0-02420a64004f",
    "bf310c00-c10a-11ef-9ff0-02420a64004f",
    "bf310c3c-c10a-11ef-9ff0-02420a64004f",
    "bf310c82-c10a-11ef-9ff0-02420a64004f",
    "bf310cc8-c10a-11ef-9ff0-02420a64004f",
    "bf310d0e-c10a-11ef-9ff0-02420a64004f",
    "bf310d5e-c10a-11ef-9ff0-02420a64004f",
    "bf310da4-c10a-11ef-9ff0-02420a64004f",
    "bf310dea-c10a-11ef-9ff0-02420a64004f",
    "bf310e30-c10a-11ef-9ff0-02420a64004f",
    "bf310e76-c10a-11ef-9ff0-02420a64004f",
    "bf310ebc-c10a-11ef-9ff0-02420a64004f",
    "bf310f02-c10a-11ef-9ff0-02420a64004f",
    "bf310f3e-c10a-11ef-9ff0-02420a64004f",
    "bf310f84-c10a-11ef-9ff0-02420a64004f",
    "bf310fca-c10a-11ef-9ff0-02420a64004f",
    "bf311010-c10a-11ef-9ff0-02420a64004f",
    "bf311056-c10a-11ef-9ff0-02420a64004f",
    "bf31109c-c10a-11ef-9ff0-02420a64004f",
    "bf3110e2-c10a-11ef-9ff0-02420a64004f",
    "bf311128-c10a-11ef-9ff0-02420a64004f",
    "bf31116e-c10a-11ef-9ff0-02420a64004f",
    "bf3111b4-c10a-11ef-9ff0-02420a64004f",
    "bf3111fa-c10a-11ef-9ff0-02420a64004f",
    "bf311240-c10a-11ef-9ff0-02420a64004f",
    "bf31127c-c10a-11ef-9ff0-02420a64004f",
    "bf3112c2-c10a-11ef-9ff0-02420a64004f",
    "bf311308-c10a-11ef-9ff0-02420a64004f",
    "bf31134e-c10a-11ef-9ff0-02420a64004f",
    "bf311394-c10a-11ef-9ff0-02420a64004f",
    "bf3113da-c10a-11ef-9ff0-02420a64004f",
    "bf311420-c10a-11ef-9ff0-02420a64004f",
    "bf311466-c10a-11ef-9ff0-02420a64004f",
    "bf3114a2-c10a-11ef-9ff0-02420a64004f",
    "bf3114e8-c10a-11ef-9ff0-02420a64004f",
    "bf31152e-c10a-11ef-9ff0-02420a64004f",
    "bf311574-c10a-11ef-9ff0-02420a64004f",
    "bf3115ba-c10a-11ef-9ff0-02420a64004f",
    "bf311600-c10a-11ef-9ff0-02420a64004f",
    "bf311646-c10a-11ef-9ff0-02420a64004f",
    "bf31168c-c10a-11ef-9ff0-02420a64004f",
    "bf3116d2-c10a-11ef-9ff0-02420a64004f",
    "bf31170e-c10a-11ef-9ff0-02420a64004f",
    "bf311754-c10a-11ef-9ff0-02420a64004f",
    "bf31179a-c10a-11ef-9ff0-02420a64004f",
    "bf3117e0-c10a-11ef-9ff0-02420a64004f",
    "bf311826-c10a-11ef-9ff0-02420a64004f",
    "bf31186c-c10a-11ef-9ff0-02420a64004f",
    "bf311916-c10a-11ef-9ff0-02420a64004f",
    "bf31195c-c10a-11ef-9ff0-02420a64004f",
    "bf3119a2-c10a-11ef-9ff0-02420a64004f",
    "bf3119e8-c10a-11ef-9ff0-02420a64004f",
    "bf311a2e-c10a-11ef-9ff0-02420a64004f",
    "bf311ad8-c10a-11ef-9ff0-02420a64004f",
    "bf311b1e-c10a-11ef-9ff0-02420a64004f",
    "bf311b64-c10a-11ef-9ff0-02420a64004f",
    "bf311baa-c10a-11ef-9ff0-02420a64004f",
    "bf311bf0-c10a-11ef-9ff0-02420a64004f",
    "bf311c36-c10a-11ef-9ff0-02420a64004f",
    "bf311c7c-c10a-11ef-9ff0-02420a64004f",
    "bf311cc2-c10a-11ef-9ff0-02420a64004f",
    "bf311d08-c10a-11ef-9ff0-02420a64004f",
    "bf311d4e-c10a-11ef-9ff0-02420a64004f",
    "bf311d94-c10a-11ef-9ff0-02420a64004f",
    "bf311dda-c10a-11ef-9ff0-02420a64004f",
    "bf311e20-c10a-11ef-9ff0-02420a64004f",
    "bf311e5c-c10a-11ef-9ff0-02420a64004f",
    "bf311ea2-c10a-11ef-9ff0-02420a64004f",
    "bf311ee8-c10a-11ef-9ff0-02420a64004f",
    "bf311f2e-c10a-11ef-9ff0-02420a64004f",
    "bf311f74-c10a-11ef-9ff0-02420a64004f",
    "bf311fba-c10a-11ef-9ff0-02420a64004f",
    "bf312000-c10a-11ef-9ff0-02420a64004f",
    "bf312046-c10a-11ef-9ff0-02420a64004f",
    "bf31208c-c10a-11ef-9ff0-02420a64004f",
    "bf3120d2-c10a-11ef-9ff0-02420a64004f",
    "bf312118-c10a-11ef-9ff0-02420a64004f",
    "bf31215e-c10a-11ef-9ff0-02420a64004f",
    "bf3121a4-c10a-11ef-9ff0-02420a64004f",
    "bf3121ea-c10a-11ef-9ff0-02420a64004f",
    "bf312230-c10a-11ef-9ff0-02420a64004f",
    "bf312276-c10a-11ef-9ff0-02420a64004f",
    "bf3122bc-c10a-11ef-9ff0-02420a64004f",
    "bf312302-c10a-11ef-9ff0-02420a64004f",
    "bf312348-c10a-11ef-9ff0-02420a64004f",
    "bf31238e-c10a-11ef-9ff0-02420a64004f",
    "bf3123d4-c10a-11ef-9ff0-02420a64004f",
    "bf31241a-c10a-11ef-9ff0-02420a64004f",
    "bf312460-c10a-11ef-9ff0-02420a64004f",
    "bf3124a6-c10a-11ef-9ff0-02420a64004f",
    "bf3124ec-c10a-11ef-9ff0-02420a64004f",
    "bf312532-c10a-11ef-9ff0-02420a64004f",
    "bf312578-c10a-11ef-9ff0-02420a64004f",
    "bf3125be-c10a-11ef-9ff0-02420a64004f",
    "bf312604-c10a-11ef-9ff0-02420a64004f",
    "bf312640-c10a-11ef-9ff0-02420a64004f",
    "bf312686-c10a-11ef-9ff0-02420a64004f",
    "bf3126cc-c10a-11ef-9ff0-02420a64004f",
    "bf312712-c10a-11ef-9ff0-02420a64004f",
    "bf312758-c10a-11ef-9ff0-02420a64004f",
    "bf31279e-c10a-11ef-9ff0-02420a64004f",
    "bf3127e4-c10a-11ef-9ff0-02420a64004f",
    "bf31282a-c10a-11ef-9ff0-02420a64004f",
    "bf312870-c10a-11ef-9ff0-02420a64004f",
    "bf3128b6-c10a-11ef-9ff0-02420a64004f",
    "bf3128fc-c10a-11ef-9ff0-02420a64004f",
    "bf312942-c10a-11ef-9ff0-02420a64004f",
    "bf312988-c10a-11ef-9ff0-02420a64004f",
    "bf3129c4-c10a-11ef-9ff0-02420a64004f",
    "bf312a0a-c10a-11ef-9ff0-02420a64004f",
    "bf312a50-c10a-11ef-9ff0-02420a64004f",
    "bf312a96-c10a-11ef-9ff0-02420a64004f",
    "bf312adc-c10a-11ef-9ff0-02420a64004f",
    "bf312b22-c10a-11ef-9ff0-02420a64004f",
    "bf312b68-c10a-11ef-9ff0-02420a64004f",
    "bf312bae-c10a-11ef-9ff0-02420a64004f",
    "bf312bf4-c10a-11ef-9ff0-02420a64004f",
    "bf312c3a-c10a-11ef-9ff0-02420a64004f",
    "bf312c80-c10a-11ef-9ff0-02420a64004f",
    "bf312cc6-c10a-11ef-9ff0-02420a64004f",
    "bf312d0c-c10a-11ef-9ff0-02420a64004f",
    "bf312d52-c10a-11ef-9ff0-02420a64004f",
    "bf312d98-c10a-11ef-9ff0-02420a64004f",
    "bf312dde-c10a-11ef-9ff0-02420a64004f",
    "bf312e24-c10a-11ef-9ff0-02420a64004f",
    "bf312e6a-c10a-11ef-9ff0-02420a64004f",
    "bf312eb0-c10a-11ef-9ff0-02420a64004f",
    "bf312ef6-c10a-11ef-9ff0-02420a64004f",
    "bf312f3c-c10a-11ef-9ff0-02420a64004f",
    "bf312f82-c10a-11ef-9ff0-02420a64004f",
    "bf312fc8-c10a-11ef-9ff0-02420a64004f",
    "bf313004-c10a-11ef-9ff0-02420a64004f",
    "bf31304a-c10a-11ef-9ff0-02420a64004f",
    "bf313090-c10a-11ef-9ff0-02420a64004f",
    "bf3130d6-c10a-11ef-9ff0-02420a64004f",
    "bf31311c-c10a-11ef-9ff0-02420a64004f",
    "bf313162-c10a-11ef-9ff0-02420a64004f",
    "bf3131a8-c10a-11ef-9ff0-02420a64004f",
    "bf3131ee-c10a-11ef-9ff0-02420a64004f",
    "bf313234-c10a-11ef-9ff0-02420a64004f",
    "bf31327a-c10a-11ef-9ff0-02420a64004f",
    "bf3132ca-c10a-11ef-9ff0-02420a64004f",
    "bf313310-c10a-11ef-9ff0-02420a64004f",
    "bf313356-c10a-11ef-9ff0-02420a64004f",
    "bf31339c-c10a-11ef-9ff0-02420a64004f",
    "bf3133e2-c10a-11ef-9ff0-02420a64004f",
    "bf313428-c10a-11ef-9ff0-02420a64004f",
    "bf31346e-c10a-11ef-9ff0-02420a64004f",
    "bf3134b4-c10a-11ef-9ff0-02420a64004f",
    "bf3134fa-c10a-11ef-9ff0-02420a64004f",
    "bf313536-c10a-11ef-9ff0-02420a64004f",
    "bf31357c-c10a-11ef-9ff0-02420a64004f",
    "bf3135c2-c10a-11ef-9ff0-02420a64004f",
    "bf313608-c10a-11ef-9ff0-02420a64004f"
   ],
   "root_cells_history": [
    [
     [
      "bf2e7c10-c10a-11ef-9ff0-02420a64004f",
      "bf310336-c10a-11ef-9ff0-02420a64004f"
     ],
     [
      "bf2e7cb0-c10a-11ef-9ff0-02420a64004f",
      "bf310390-c10a-11ef-9ff0-02420a64004f"
     ],
     [
      "bf2e7d32-c10a-11ef-9ff0-02420a64004f",
      "bf3103d6-c10a-11ef-9ff0-02420a64004f"
     ],
     [
      "bf2e7daa-c10a-11ef-9ff0-02420a64004f",
      "bf310426-c10a-11ef-9ff0-02420a64004f"
     ],
     [
      "bf2e7e2c-c10a-11ef-9ff0-02420a64004f",
      "bf31046c-c10a-11ef-9ff0-02420a64004f"
     ],
     [
      "bf2e7e9a-c10a-11ef-9ff0-02420a64004f",
      "bf3104b2-c10a-11ef-9ff0-02420a64004f"
     ],
     [
      "bf2e7f08-c10a-11ef-9ff0-02420a64004f",
      "bf3104f8-c10a-11ef-9ff0-02420a64004f"
     ],
     [
      "bf2e7f76-c10a-11ef-9ff0-02420a64004f",
      "bf31053e-c10a-11ef-9ff0-02420a64004f"
     ],
     [
      "bf2e7fe4-c10a-11ef-9ff0-02420a64004f",
      "bf31057a-c10a-11ef-9ff0-02420a64004f"
     ],
     [
      "bf2e8052-c10a-11ef-9ff0-02420a64004f",
      "bf3105c0-c10a-11ef-9ff0-02420a64004f"
     ],
     [
      "bf2e80c0-c10a-11ef-9ff0-02420a64004f",
      "bf310606-c10a-11ef-9ff0-02420a64004f"
     ],
     [
      "bf2e812e-c10a-11ef-9ff0-02420a64004f",
      "bf31064c-c10a-11ef-9ff0-02420a64004f"
     ],
     [
      "bf2e819c-c10a-11ef-9ff0-02420a64004f",
      "bf310692-c10a-11ef-9ff0-02420a64004f"
     ],
     [
      "bf2e820a-c10a-11ef-9ff0-02420a64004f",
      "bf3106d8-c10a-11ef-9ff0-02420a64004f"
     ],
     [
      "bf2e8278-c10a-11ef-9ff0-02420a64004f",
      "bf31071e-c10a-11ef-9ff0-02420a64004f"
     ],
     [
      "bf2e82e6-c10a-11ef-9ff0-02420a64004f",
      "bf310764-c10a-11ef-9ff0-02420a64004f"
     ],
     [
      "bf2e834a-c10a-11ef-9ff0-02420a64004f",
      "bf3107aa-c10a-11ef-9ff0-02420a64004f"
     ],
     [
      "bf2e83b8-c10a-11ef-9ff0-02420a64004f",
      "bf3107f0-c10a-11ef-9ff0-02420a64004f"
     ],
     [
      "bf2e8426-c10a-11ef-9ff0-02420a64004f",
      "bf310836-c10a-11ef-9ff0-02420a64004f"
     ],
     [
      "bf2e849e-c10a-11ef-9ff0-02420a64004f",
      "bf31087c-c10a-11ef-9ff0-02420a64004f"
     ],
     [
      "bf2e8502-c10a-11ef-9ff0-02420a64004f",
      "bf3108c2-c10a-11ef-9ff0-02420a64004f"
     ],
     [
      "bf2e8570-c10a-11ef-9ff0-02420a64004f",
      "bf3108fe-c10a-11ef-9ff0-02420a64004f"
     ],
     [
      "bf2e85de-c10a-11ef-9ff0-02420a64004f",
      "bf310944-c10a-11ef-9ff0-02420a64004f"
     ],
     [
      "bf2e864c-c10a-11ef-9ff0-02420a64004f",
      "bf31098a-c10a-11ef-9ff0-02420a64004f"
     ],
     [
      "bf2e86ba-c10a-11ef-9ff0-02420a64004f",
      "bf3109d0-c10a-11ef-9ff0-02420a64004f"
     ],
     [
      "bf2e8728-c10a-11ef-9ff0-02420a64004f",
      "bf310a16-c10a-11ef-9ff0-02420a64004f"
     ],
     [
      "bf2e8796-c10a-11ef-9ff0-02420a64004f",
      "bf310a5c-c10a-11ef-9ff0-02420a64004f"
     ],
     [
      "bf2e8804-c10a-11ef-9ff0-02420a64004f",
      "bf310aa2-c10a-11ef-9ff0-02420a64004f"
     ],
     [
      "bf2e8872-c10a-11ef-9ff0-02420a64004f",
      "bf310ae8-c10a-11ef-9ff0-02420a64004f"
     ],
     [
      "bf2e88e0-c10a-11ef-9ff0-02420a64004f",
      "bf310b2e-c10a-11ef-9ff0-02420a64004f"
     ],
     [
      "bf2e894e-c10a-11ef-9ff0-02420a64004f",
      "bf310b74-c10a-11ef-9ff0-02420a64004f"
     ],
     [
      "bf2e89bc-c10a-11ef-9ff0-02420a64004f",
      "bf310bba-c10a-11ef-9ff0-02420a64004f"
     ],
     [
      "bf2e8a2a-c10a-11ef-9ff0-02420a64004f",
      "bf310c00-c10a-11ef-9ff0-02420a64004f"
     ],
     [
      "bf2e8a98-c10a-11ef-9ff0-02420a64004f",
      "bf310c3c-c10a-11ef-9ff0-02420a64004f"
     ],
     [
      "bf2e8b06-c10a-11ef-9ff0-02420a64004f",
      "bf310c82-c10a-11ef-9ff0-02420a64004f"
     ],
     [
      "bf2e8b6a-c10a-11ef-9ff0-02420a64004f",
      "bf310cc8-c10a-11ef-9ff0-02420a64004f"
     ],
     [
      "bf2e8bd8-c10a-11ef-9ff0-02420a64004f",
      "bf310d0e-c10a-11ef-9ff0-02420a64004f"
     ],
     [
      "bf2e8c46-c10a-11ef-9ff0-02420a64004f",
      "bf310d5e-c10a-11ef-9ff0-02420a64004f"
     ],
     [
      "bf2e8cb4-c10a-11ef-9ff0-02420a64004f",
      "bf310da4-c10a-11ef-9ff0-02420a64004f"
     ],
     [
      "bf2e8d22-c10a-11ef-9ff0-02420a64004f",
      "bf310dea-c10a-11ef-9ff0-02420a64004f"
     ],
     [
      "bf2e8d90-c10a-11ef-9ff0-02420a64004f",
      "bf310e30-c10a-11ef-9ff0-02420a64004f"
     ],
     [
      "bf2e8dfe-c10a-11ef-9ff0-02420a64004f",
      "bf310e76-c10a-11ef-9ff0-02420a64004f"
     ],
     [
      "bf2e8e6c-c10a-11ef-9ff0-02420a64004f",
      "bf310ebc-c10a-11ef-9ff0-02420a64004f"
     ],
     [
      "bf2e8eda-c10a-11ef-9ff0-02420a64004f",
      "bf310f02-c10a-11ef-9ff0-02420a64004f"
     ],
     [
      "bf2e8f48-c10a-11ef-9ff0-02420a64004f",
      "bf310f3e-c10a-11ef-9ff0-02420a64004f"
     ],
     [
      "bf2e8fac-c10a-11ef-9ff0-02420a64004f",
      "bf310f84-c10a-11ef-9ff0-02420a64004f"
     ],
     [
      "bf2e901a-c10a-11ef-9ff0-02420a64004f",
      "bf310fca-c10a-11ef-9ff0-02420a64004f"
     ],
     [
      "bf2e9088-c10a-11ef-9ff0-02420a64004f",
      "bf311010-c10a-11ef-9ff0-02420a64004f"
     ],
     [
      "bf2e90f6-c10a-11ef-9ff0-02420a64004f",
      "bf311056-c10a-11ef-9ff0-02420a64004f"
     ],
     [
      "bf2e9164-c10a-11ef-9ff0-02420a64004f",
      "bf31109c-c10a-11ef-9ff0-02420a64004f"
     ],
     [
      "bf2e91d2-c10a-11ef-9ff0-02420a64004f",
      "bf3110e2-c10a-11ef-9ff0-02420a64004f"
     ],
     [
      "bf2e9240-c10a-11ef-9ff0-02420a64004f",
      "bf311128-c10a-11ef-9ff0-02420a64004f"
     ],
     [
      "bf2e92a4-c10a-11ef-9ff0-02420a64004f",
      "bf31116e-c10a-11ef-9ff0-02420a64004f"
     ],
     [
      "bf2e9312-c10a-11ef-9ff0-02420a64004f",
      "bf3111b4-c10a-11ef-9ff0-02420a64004f"
     ],
     [
      "bf2e9380-c10a-11ef-9ff0-02420a64004f",
      "bf3111fa-c10a-11ef-9ff0-02420a64004f"
     ],
     [
      "bf2e93ee-c10a-11ef-9ff0-02420a64004f",
      "bf311240-c10a-11ef-9ff0-02420a64004f"
     ],
     [
      "bf2e945c-c10a-11ef-9ff0-02420a64004f",
      "bf31127c-c10a-11ef-9ff0-02420a64004f"
     ],
     [
      "bf2e94c0-c10a-11ef-9ff0-02420a64004f",
      "bf3112c2-c10a-11ef-9ff0-02420a64004f"
     ],
     [
      "bf2e952e-c10a-11ef-9ff0-02420a64004f",
      "bf311308-c10a-11ef-9ff0-02420a64004f"
     ],
     [
      "bf2e959c-c10a-11ef-9ff0-02420a64004f",
      "bf31134e-c10a-11ef-9ff0-02420a64004f"
     ],
     [
      "bf2e960a-c10a-11ef-9ff0-02420a64004f",
      "bf311394-c10a-11ef-9ff0-02420a64004f"
     ],
     [
      "bf2e9678-c10a-11ef-9ff0-02420a64004f",
      "bf3113da-c10a-11ef-9ff0-02420a64004f"
     ],
     [
      "bf2e96e6-c10a-11ef-9ff0-02420a64004f",
      "bf311420-c10a-11ef-9ff0-02420a64004f"
     ],
     [
      "bf2e9754-c10a-11ef-9ff0-02420a64004f",
      "bf311466-c10a-11ef-9ff0-02420a64004f"
     ],
     [
      "bf2e97b8-c10a-11ef-9ff0-02420a64004f",
      "bf3114a2-c10a-11ef-9ff0-02420a64004f"
     ],
     [
      "bf2e9826-c10a-11ef-9ff0-02420a64004f",
      "bf3114e8-c10a-11ef-9ff0-02420a64004f"
     ],
     [
      "bf2e9894-c10a-11ef-9ff0-02420a64004f",
      "bf31152e-c10a-11ef-9ff0-02420a64004f"
     ],
     [
      "bf2e9902-c10a-11ef-9ff0-02420a64004f",
      "bf311574-c10a-11ef-9ff0-02420a64004f"
     ],
     [
      "bf2e9970-c10a-11ef-9ff0-02420a64004f",
      "bf3115ba-c10a-11ef-9ff0-02420a64004f"
     ],
     [
      "bf2e99d4-c10a-11ef-9ff0-02420a64004f",
      "bf311600-c10a-11ef-9ff0-02420a64004f"
     ],
     [
      "bf2e9a42-c10a-11ef-9ff0-02420a64004f",
      "bf311646-c10a-11ef-9ff0-02420a64004f"
     ],
     [
      "bf2e9ab0-c10a-11ef-9ff0-02420a64004f",
      "bf31168c-c10a-11ef-9ff0-02420a64004f"
     ],
     [
      "bf2e9b1e-c10a-11ef-9ff0-02420a64004f",
      "bf3116d2-c10a-11ef-9ff0-02420a64004f"
     ],
     [
      "bf2e9b8c-c10a-11ef-9ff0-02420a64004f",
      "bf31170e-c10a-11ef-9ff0-02420a64004f"
     ],
     [
      "bf2e9bf0-c10a-11ef-9ff0-02420a64004f",
      "bf311754-c10a-11ef-9ff0-02420a64004f"
     ],
     [
      "bf2e9c5e-c10a-11ef-9ff0-02420a64004f",
      "bf31179a-c10a-11ef-9ff0-02420a64004f"
     ],
     [
      "bf2e9ccc-c10a-11ef-9ff0-02420a64004f",
      "bf3117e0-c10a-11ef-9ff0-02420a64004f"
     ],
     [
      "bf2e9d3a-c10a-11ef-9ff0-02420a64004f",
      "bf311826-c10a-11ef-9ff0-02420a64004f"
     ],
     [
      "bf2e9da8-c10a-11ef-9ff0-02420a64004f",
      "bf31186c-c10a-11ef-9ff0-02420a64004f"
     ],
     [
      "bf2e9e16-c10a-11ef-9ff0-02420a64004f",
      "bf311916-c10a-11ef-9ff0-02420a64004f"
     ],
     [
      "bf2e9e84-c10a-11ef-9ff0-02420a64004f",
      "bf31195c-c10a-11ef-9ff0-02420a64004f"
     ],
     [
      "bf2e9ee8-c10a-11ef-9ff0-02420a64004f",
      "bf3119a2-c10a-11ef-9ff0-02420a64004f"
     ],
     [
      "bf2e9f56-c10a-11ef-9ff0-02420a64004f",
      "bf3119e8-c10a-11ef-9ff0-02420a64004f"
     ],
     [
      "bf2e9fce-c10a-11ef-9ff0-02420a64004f",
      "bf311a2e-c10a-11ef-9ff0-02420a64004f"
     ],
     [
      "bf2ea03c-c10a-11ef-9ff0-02420a64004f",
      "bf311ad8-c10a-11ef-9ff0-02420a64004f"
     ],
     [
      "bf2ea0aa-c10a-11ef-9ff0-02420a64004f",
      "bf311b1e-c10a-11ef-9ff0-02420a64004f"
     ],
     [
      "bf2ea10e-c10a-11ef-9ff0-02420a64004f",
      "bf311b64-c10a-11ef-9ff0-02420a64004f"
     ],
     [
      "bf2ea17c-c10a-11ef-9ff0-02420a64004f",
      "bf311baa-c10a-11ef-9ff0-02420a64004f"
     ],
     [
      "bf2ea1ea-c10a-11ef-9ff0-02420a64004f",
      "bf311bf0-c10a-11ef-9ff0-02420a64004f"
     ],
     [
      "bf2ea258-c10a-11ef-9ff0-02420a64004f",
      "bf311c36-c10a-11ef-9ff0-02420a64004f"
     ],
     [
      "bf2ea2c6-c10a-11ef-9ff0-02420a64004f",
      "bf311c7c-c10a-11ef-9ff0-02420a64004f"
     ],
     [
      "bf2ea334-c10a-11ef-9ff0-02420a64004f",
      "bf311cc2-c10a-11ef-9ff0-02420a64004f"
     ],
     [
      "bf2ea398-c10a-11ef-9ff0-02420a64004f",
      "bf311d08-c10a-11ef-9ff0-02420a64004f"
     ],
     [
      "bf2ea406-c10a-11ef-9ff0-02420a64004f",
      "bf311d4e-c10a-11ef-9ff0-02420a64004f"
     ],
     [
      "bf2ea474-c10a-11ef-9ff0-02420a64004f",
      "bf311d94-c10a-11ef-9ff0-02420a64004f"
     ],
     [
      "bf2ea4e2-c10a-11ef-9ff0-02420a64004f",
      "bf311dda-c10a-11ef-9ff0-02420a64004f"
     ],
     [
      "bf2ea546-c10a-11ef-9ff0-02420a64004f",
      "bf311e20-c10a-11ef-9ff0-02420a64004f"
     ],
     [
      "bf2ea5be-c10a-11ef-9ff0-02420a64004f",
      "bf311e5c-c10a-11ef-9ff0-02420a64004f"
     ],
     [
      "bf2ea62c-c10a-11ef-9ff0-02420a64004f",
      "bf311ea2-c10a-11ef-9ff0-02420a64004f"
     ],
     [
      "bf2ea69a-c10a-11ef-9ff0-02420a64004f",
      "bf311ee8-c10a-11ef-9ff0-02420a64004f"
     ],
     [
      "bf2ea6fe-c10a-11ef-9ff0-02420a64004f",
      "bf311f2e-c10a-11ef-9ff0-02420a64004f"
     ],
     [
      "bf2ea76c-c10a-11ef-9ff0-02420a64004f",
      "bf311f74-c10a-11ef-9ff0-02420a64004f"
     ],
     [
      "bf2ea7da-c10a-11ef-9ff0-02420a64004f",
      "bf311fba-c10a-11ef-9ff0-02420a64004f"
     ],
     [
      "bf2ea848-c10a-11ef-9ff0-02420a64004f",
      "bf312000-c10a-11ef-9ff0-02420a64004f"
     ],
     [
      "bf2ea8b6-c10a-11ef-9ff0-02420a64004f",
      "bf312046-c10a-11ef-9ff0-02420a64004f"
     ],
     [
      "bf2ea924-c10a-11ef-9ff0-02420a64004f",
      "bf31208c-c10a-11ef-9ff0-02420a64004f"
     ],
     [
      "bf2eaa1e-c10a-11ef-9ff0-02420a64004f",
      "bf3120d2-c10a-11ef-9ff0-02420a64004f"
     ],
     [
      "bf2eaa8c-c10a-11ef-9ff0-02420a64004f",
      "bf312118-c10a-11ef-9ff0-02420a64004f"
     ],
     [
      "bf2eaafa-c10a-11ef-9ff0-02420a64004f",
      "bf31215e-c10a-11ef-9ff0-02420a64004f"
     ],
     [
      "bf2eab5e-c10a-11ef-9ff0-02420a64004f",
      "bf3121a4-c10a-11ef-9ff0-02420a64004f"
     ],
     [
      "bf2eabcc-c10a-11ef-9ff0-02420a64004f",
      "bf3121ea-c10a-11ef-9ff0-02420a64004f"
     ],
     [
      "bf2eac3a-c10a-11ef-9ff0-02420a64004f",
      "bf312230-c10a-11ef-9ff0-02420a64004f"
     ],
     [
      "bf2eaca8-c10a-11ef-9ff0-02420a64004f",
      "bf312276-c10a-11ef-9ff0-02420a64004f"
     ],
     [
      "bf2ead16-c10a-11ef-9ff0-02420a64004f",
      "bf3122bc-c10a-11ef-9ff0-02420a64004f"
     ],
     [
      "bf2eadb6-c10a-11ef-9ff0-02420a64004f",
      "bf312302-c10a-11ef-9ff0-02420a64004f"
     ],
     [
      "bf2eae2e-c10a-11ef-9ff0-02420a64004f",
      "bf312348-c10a-11ef-9ff0-02420a64004f"
     ],
     [
      "bf2eae92-c10a-11ef-9ff0-02420a64004f",
      "bf31238e-c10a-11ef-9ff0-02420a64004f"
     ],
     [
      "bf2eaf00-c10a-11ef-9ff0-02420a64004f",
      "bf3123d4-c10a-11ef-9ff0-02420a64004f"
     ],
     [
      "bf2eaf6e-c10a-11ef-9ff0-02420a64004f",
      "bf31241a-c10a-11ef-9ff0-02420a64004f"
     ],
     [
      "bf2eafdc-c10a-11ef-9ff0-02420a64004f",
      "bf312460-c10a-11ef-9ff0-02420a64004f"
     ],
     [
      "bf2eb04a-c10a-11ef-9ff0-02420a64004f",
      "bf3124a6-c10a-11ef-9ff0-02420a64004f"
     ],
     [
      "bf2eb0ae-c10a-11ef-9ff0-02420a64004f",
      "bf3124ec-c10a-11ef-9ff0-02420a64004f"
     ],
     [
      "bf2eb11c-c10a-11ef-9ff0-02420a64004f",
      "bf312532-c10a-11ef-9ff0-02420a64004f"
     ],
     [
      "bf2eb18a-c10a-11ef-9ff0-02420a64004f",
      "bf312578-c10a-11ef-9ff0-02420a64004f"
     ],
     [
      "bf2eb1f8-c10a-11ef-9ff0-02420a64004f",
      "bf3125be-c10a-11ef-9ff0-02420a64004f"
     ],
     [
      "bf2eb266-c10a-11ef-9ff0-02420a64004f",
      "bf312604-c10a-11ef-9ff0-02420a64004f"
     ],
     [
      "bf2eb2ca-c10a-11ef-9ff0-02420a64004f",
      "bf312640-c10a-11ef-9ff0-02420a64004f"
     ],
     [
      "bf2eb338-c10a-11ef-9ff0-02420a64004f",
      "bf312686-c10a-11ef-9ff0-02420a64004f"
     ],
     [
      "bf2eb3a6-c10a-11ef-9ff0-02420a64004f",
      "bf3126cc-c10a-11ef-9ff0-02420a64004f"
     ],
     [
      "bf2eb414-c10a-11ef-9ff0-02420a64004f",
      "bf312712-c10a-11ef-9ff0-02420a64004f"
     ],
     [
      "bf2eb482-c10a-11ef-9ff0-02420a64004f",
      "bf312758-c10a-11ef-9ff0-02420a64004f"
     ],
     [
      "bf2eb4f0-c10a-11ef-9ff0-02420a64004f",
      "bf31279e-c10a-11ef-9ff0-02420a64004f"
     ],
     [
      "bf2eb554-c10a-11ef-9ff0-02420a64004f",
      "bf3127e4-c10a-11ef-9ff0-02420a64004f"
     ],
     [
      "bf2eb5c2-c10a-11ef-9ff0-02420a64004f",
      "bf31282a-c10a-11ef-9ff0-02420a64004f"
     ],
     [
      "bf2eb630-c10a-11ef-9ff0-02420a64004f",
      "bf312870-c10a-11ef-9ff0-02420a64004f"
     ],
     [
      "bf2eb69e-c10a-11ef-9ff0-02420a64004f",
      "bf3128b6-c10a-11ef-9ff0-02420a64004f"
     ],
     [
      "bf2eb702-c10a-11ef-9ff0-02420a64004f",
      "bf3128fc-c10a-11ef-9ff0-02420a64004f"
     ],
     [
      "bf2eb770-c10a-11ef-9ff0-02420a64004f",
      "bf312942-c10a-11ef-9ff0-02420a64004f"
     ],
     [
      "bf2eb7de-c10a-11ef-9ff0-02420a64004f",
      "bf312988-c10a-11ef-9ff0-02420a64004f"
     ],
     [
      "bf2eb84c-c10a-11ef-9ff0-02420a64004f",
      "bf3129c4-c10a-11ef-9ff0-02420a64004f"
     ],
     [
      "bf2eb8ba-c10a-11ef-9ff0-02420a64004f",
      "bf312a0a-c10a-11ef-9ff0-02420a64004f"
     ],
     [
      "bf2eb928-c10a-11ef-9ff0-02420a64004f",
      "bf312a50-c10a-11ef-9ff0-02420a64004f"
     ],
     [
      "bf2eb98c-c10a-11ef-9ff0-02420a64004f",
      "bf312a96-c10a-11ef-9ff0-02420a64004f"
     ],
     [
      "bf2eb9fa-c10a-11ef-9ff0-02420a64004f",
      "bf312adc-c10a-11ef-9ff0-02420a64004f"
     ],
     [
      "bf2eba72-c10a-11ef-9ff0-02420a64004f",
      "bf312b22-c10a-11ef-9ff0-02420a64004f"
     ],
     [
      "bf2ebae0-c10a-11ef-9ff0-02420a64004f",
      "bf312b68-c10a-11ef-9ff0-02420a64004f"
     ],
     [
      "bf2ebb4e-c10a-11ef-9ff0-02420a64004f",
      "bf312bae-c10a-11ef-9ff0-02420a64004f"
     ],
     [
      "bf2ebbb2-c10a-11ef-9ff0-02420a64004f",
      "bf312bf4-c10a-11ef-9ff0-02420a64004f"
     ],
     [
      "bf2ebc20-c10a-11ef-9ff0-02420a64004f",
      "bf312c3a-c10a-11ef-9ff0-02420a64004f"
     ],
     [
      "bf2ebc8e-c10a-11ef-9ff0-02420a64004f",
      "bf312c80-c10a-11ef-9ff0-02420a64004f"
     ],
     [
      "bf2ebcfc-c10a-11ef-9ff0-02420a64004f",
      "bf312cc6-c10a-11ef-9ff0-02420a64004f"
     ],
     [
      "bf2ebd6a-c10a-11ef-9ff0-02420a64004f",
      "bf312d0c-c10a-11ef-9ff0-02420a64004f"
     ],
     [
      "bf2ebdce-c10a-11ef-9ff0-02420a64004f",
      "bf312d52-c10a-11ef-9ff0-02420a64004f"
     ],
     [
      "bf2ebe3c-c10a-11ef-9ff0-02420a64004f",
      "bf312d98-c10a-11ef-9ff0-02420a64004f"
     ],
     [
      "bf2ebeaa-c10a-11ef-9ff0-02420a64004f",
      "bf312dde-c10a-11ef-9ff0-02420a64004f"
     ],
     [
      "bf2ebf18-c10a-11ef-9ff0-02420a64004f",
      "bf312e24-c10a-11ef-9ff0-02420a64004f"
     ],
     [
      "bf2ebf86-c10a-11ef-9ff0-02420a64004f",
      "bf312e6a-c10a-11ef-9ff0-02420a64004f"
     ],
     [
      "bf2ebfea-c10a-11ef-9ff0-02420a64004f",
      "bf312eb0-c10a-11ef-9ff0-02420a64004f"
     ],
     [
      "bf2ec058-c10a-11ef-9ff0-02420a64004f",
      "bf312ef6-c10a-11ef-9ff0-02420a64004f"
     ],
     [
      "bf2ec0c6-c10a-11ef-9ff0-02420a64004f",
      "bf312f3c-c10a-11ef-9ff0-02420a64004f"
     ],
     [
      "bf2ec134-c10a-11ef-9ff0-02420a64004f",
      "bf312f82-c10a-11ef-9ff0-02420a64004f"
     ],
     [
      "bf2ec1a2-c10a-11ef-9ff0-02420a64004f",
      "bf312fc8-c10a-11ef-9ff0-02420a64004f"
     ],
     [
      "bf2ec206-c10a-11ef-9ff0-02420a64004f",
      "bf313004-c10a-11ef-9ff0-02420a64004f"
     ],
     [
      "bf2ec274-c10a-11ef-9ff0-02420a64004f",
      "bf31304a-c10a-11ef-9ff0-02420a64004f"
     ],
     [
      "bf2ec2e2-c10a-11ef-9ff0-02420a64004f",
      "bf313090-c10a-11ef-9ff0-02420a64004f"
     ],
     [
      "bf2ec346-c10a-11ef-9ff0-02420a64004f",
      "bf3130d6-c10a-11ef-9ff0-02420a64004f"
     ],
     [
      "bf2ec3b4-c10a-11ef-9ff0-02420a64004f",
      "bf31311c-c10a-11ef-9ff0-02420a64004f"
     ],
     [
      "bf2ec422-c10a-11ef-9ff0-02420a64004f",
      "bf313162-c10a-11ef-9ff0-02420a64004f"
     ],
     [
      "bf2ec490-c10a-11ef-9ff0-02420a64004f",
      "bf3131a8-c10a-11ef-9ff0-02420a64004f"
     ],
     [
      "bf2ec4f4-c10a-11ef-9ff0-02420a64004f",
      "bf3131ee-c10a-11ef-9ff0-02420a64004f"
     ],
     [
      "bf2ec562-c10a-11ef-9ff0-02420a64004f",
      "bf313234-c10a-11ef-9ff0-02420a64004f"
     ],
     [
      "bf2ec5d0-c10a-11ef-9ff0-02420a64004f",
      "bf31327a-c10a-11ef-9ff0-02420a64004f"
     ],
     [
      "bf2ec63e-c10a-11ef-9ff0-02420a64004f",
      "bf3132ca-c10a-11ef-9ff0-02420a64004f"
     ],
     [
      "bf2ec6a2-c10a-11ef-9ff0-02420a64004f",
      "bf313310-c10a-11ef-9ff0-02420a64004f"
     ],
     [
      "bf2ec710-c10a-11ef-9ff0-02420a64004f",
      "bf313356-c10a-11ef-9ff0-02420a64004f"
     ],
     [
      "bf2ec77e-c10a-11ef-9ff0-02420a64004f",
      "bf31339c-c10a-11ef-9ff0-02420a64004f"
     ],
     [
      "bf2ec7ec-c10a-11ef-9ff0-02420a64004f",
      "bf3133e2-c10a-11ef-9ff0-02420a64004f"
     ],
     [
      "bf2ec85a-c10a-11ef-9ff0-02420a64004f",
      "bf313428-c10a-11ef-9ff0-02420a64004f"
     ],
     [
      "bf2ec8be-c10a-11ef-9ff0-02420a64004f",
      "bf31346e-c10a-11ef-9ff0-02420a64004f"
     ],
     [
      "bf2ec92c-c10a-11ef-9ff0-02420a64004f",
      "bf3134b4-c10a-11ef-9ff0-02420a64004f"
     ],
     [
      "bf2ecada-c10a-11ef-9ff0-02420a64004f",
      "bf3134fa-c10a-11ef-9ff0-02420a64004f"
     ],
     [
      "bf2ecb52-c10a-11ef-9ff0-02420a64004f",
      "bf313536-c10a-11ef-9ff0-02420a64004f"
     ],
     [
      "bf2ecbc0-c10a-11ef-9ff0-02420a64004f",
      "bf31357c-c10a-11ef-9ff0-02420a64004f"
     ],
     [
      "bf2ecc2e-c10a-11ef-9ff0-02420a64004f",
      "bf3135c2-c10a-11ef-9ff0-02420a64004f"
     ],
     [
      "bf2ecc9c-c10a-11ef-9ff0-02420a64004f",
      "bf313608-c10a-11ef-9ff0-02420a64004f"
     ]
    ]
   ]
  },
  "toc": {
   "base_numbering": 1,
   "nav_menu": {},
   "number_sections": true,
   "sideBar": true,
   "skip_h1_title": true,
   "title_cell": "Table of Contents",
   "title_sidebar": "Contents",
   "toc_cell": false,
   "toc_position": {
    "height": "calc(100% - 180px)",
    "left": "10px",
    "top": "150px",
    "width": "285.3px"
   },
   "toc_section_display": true,
   "toc_window_display": true
  }
 },
 "nbformat": 4,
 "nbformat_minor": 5
}
