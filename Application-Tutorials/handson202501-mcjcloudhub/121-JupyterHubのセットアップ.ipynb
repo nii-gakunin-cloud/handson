{
 "cells": [
  {
   "cell_type": "markdown",
   "id": "b16a7ba5-74b8-421e-ad26-d1a8276ca811",
   "metadata": {
    "lc_cell_meme": {
     "current": "bfd3357a-c10a-11ef-8d33-02420a64004f",
     "history": [
      {
       "current": "bfd19ecc-c10a-11ef-8d33-02420a64004f",
       "next": "bfd19f62-c10a-11ef-8d33-02420a64004f",
       "previous": null
      }
     ],
     "next": "bfd335d4-c10a-11ef-8d33-02420a64004f",
     "previous": null
    }
   },
   "source": [
    "# JupyterHubのセットアップ\n",
    "\n",
    "---\n",
    "\n",
    "VCノードにJupyterHub環境を構築します。\n",
    "\n",
    "具体的には、Jupyterhubシステムの構成要素である、各Dockerコンテナを起動します。  \n",
    "また、single-user notebook serverコンテナイメージの取得・もしくは作成を行います。"
   ]
  },
  {
   "cell_type": "markdown",
   "id": "5ad17391-2b32-448f-b570-ff83832b9573",
   "metadata": {
    "lc_cell_meme": {
     "current": "bfd335d4-c10a-11ef-8d33-02420a64004f",
     "history": [
      {
       "current": "bfd19f62-c10a-11ef-8d33-02420a64004f",
       "next": "bfd19fe4-c10a-11ef-8d33-02420a64004f",
       "previous": "bfd19ecc-c10a-11ef-8d33-02420a64004f"
      }
     ],
     "next": "bfd33624-c10a-11ef-8d33-02420a64004f",
     "previous": "bfd3357a-c10a-11ef-8d33-02420a64004f"
    }
   },
   "source": [
    "## 概要\n",
    "\n",
    "このNotebookで構築するJupyterHubの構成要素を以下に示します。\n",
    "\n",
    "![<構成図表示エラー>](images/121/arch-121.png)"
   ]
  },
  {
   "cell_type": "markdown",
   "id": "e99c6beb-c921-4490-8ce1-e935f748bca0",
   "metadata": {
    "lc_cell_meme": {
     "current": "bfd33624-c10a-11ef-8d33-02420a64004f",
     "history": [
      {
       "current": "bfd19fe4-c10a-11ef-8d33-02420a64004f",
       "next": "bfd1a0d4-c10a-11ef-8d33-02420a64004f",
       "previous": "bfd19f62-c10a-11ef-8d33-02420a64004f"
      }
     ],
     "next": "bfd3366a-c10a-11ef-8d33-02420a64004f",
     "previous": "bfd335d4-c10a-11ef-8d33-02420a64004f"
    }
   },
   "source": [
    "> このNotebookで構築するJupyterHubではMoodleとの連携を前提としています。"
   ]
  },
  {
   "cell_type": "markdown",
   "id": "eb20ead7-6ad9-4c06-88a6-7dec57b3161c",
   "metadata": {
    "lc_cell_meme": {
     "current": "bfd3366a-c10a-11ef-8d33-02420a64004f",
     "history": [
      {
       "current": "bfd1a0d4-c10a-11ef-8d33-02420a64004f",
       "next": "bfd1a14c-c10a-11ef-8d33-02420a64004f",
       "previous": "bfd19fe4-c10a-11ef-8d33-02420a64004f"
      }
     ],
     "next": "bfd336b0-c10a-11ef-8d33-02420a64004f",
     "previous": "bfd33624-c10a-11ef-8d33-02420a64004f"
    }
   },
   "source": [
    "### 事前に準備が必要となるものについて\n",
    "\n",
    "このNotebookを実行するにあたって、あらかじめ準備が必要となるものについて以下に記します。\n",
    "\n",
    "* VCノード構築\n",
    "* JupyterHubのサーバ証明書\n",
    "    - JupyterHubではHTTPSによる公開を行うためサーバ証明書とその秘密鍵を準備する必要があります。\n",
    "* Moodleシステム\n",
    "    - 本ノートブックで構築するJupyterhubと、lti1.3を用いた認証連携が可能な外部ツール設定を完了していること。（外部ツール設定時に自動発行されるキーを本ノートブック上で指定するため）\n",
    "        - 未設定の場合は、先に設定を行ってください。\n",
    "        - 設定例として、ノートブック一覧の「021-Moodleの外部ツール設定例（lti1.3&JupyterHub）.ipynb」を参考にしてください。"
   ]
  },
  {
   "cell_type": "markdown",
   "id": "6e8fa130-718b-4cf8-95d7-85bdc8f4b915",
   "metadata": {
    "lc_cell_meme": {
     "current": "bfd336b0-c10a-11ef-8d33-02420a64004f",
     "history": [
      {
       "current": "bfd1a14c-c10a-11ef-8d33-02420a64004f",
       "next": "bfd1a1b0-c10a-11ef-8d33-02420a64004f",
       "previous": "bfd1a0d4-c10a-11ef-8d33-02420a64004f"
      }
     ],
     "next": "bfd336ec-c10a-11ef-8d33-02420a64004f",
     "previous": "bfd3366a-c10a-11ef-8d33-02420a64004f"
    }
   },
   "source": [
    "### UnitGroup名\n",
    "\n",
    "JupyterHubの構築環境となるVCPのUnitGroup名を指定します。"
   ]
  },
  {
   "cell_type": "markdown",
   "id": "b59665ca-729f-4e10-8adc-9a4919d395e1",
   "metadata": {
    "lc_cell_meme": {
     "current": "bfd336ec-c10a-11ef-8d33-02420a64004f",
     "history": [
      {
       "current": "bfd1a1b0-c10a-11ef-8d33-02420a64004f",
       "next": "bfd1a21e-c10a-11ef-8d33-02420a64004f",
       "previous": "bfd1a14c-c10a-11ef-8d33-02420a64004f"
      }
     ],
     "next": "bfd33732-c10a-11ef-8d33-02420a64004f",
     "previous": "bfd336b0-c10a-11ef-8d33-02420a64004f"
    }
   },
   "source": [
    "VCノードを作成時に指定した値を確認するために `group_vars`ファイル名の一覧を表示します。"
   ]
  },
  {
   "cell_type": "code",
   "execution_count": null,
   "id": "d3cf6697-e634-47c3-83b0-6bb1c6332f75",
   "metadata": {
    "lc_cell_meme": {
     "current": "bfd33732-c10a-11ef-8d33-02420a64004f",
     "history": [
      {
       "current": "bfd1a21e-c10a-11ef-8d33-02420a64004f",
       "next": "bfd1a28c-c10a-11ef-8d33-02420a64004f",
       "previous": "bfd1a1b0-c10a-11ef-8d33-02420a64004f"
      }
     ],
     "next": "bfd33778-c10a-11ef-8d33-02420a64004f",
     "previous": "bfd336ec-c10a-11ef-8d33-02420a64004f"
    }
   },
   "outputs": [],
   "source": [
    "!ls -1 group_vars/"
   ]
  },
  {
   "cell_type": "markdown",
   "id": "a28d7350-e6f5-48e6-b97c-483eac735016",
   "metadata": {
    "lc_cell_meme": {
     "current": "bfd33778-c10a-11ef-8d33-02420a64004f",
     "history": [
      {
       "current": "bfd1a28c-c10a-11ef-8d33-02420a64004f",
       "next": "bfd1a2fa-c10a-11ef-8d33-02420a64004f",
       "previous": "bfd1a21e-c10a-11ef-8d33-02420a64004f"
      }
     ],
     "next": "bfd337be-c10a-11ef-8d33-02420a64004f",
     "previous": "bfd33732-c10a-11ef-8d33-02420a64004f"
    }
   },
   "source": [
    "上のセルの出力結果を参考にして、UnitGroup名を次のセルに指定してください。"
   ]
  },
  {
   "cell_type": "code",
   "execution_count": null,
   "id": "336df8ea-5e51-4a29-97f5-559084e8a0c9",
   "metadata": {
    "lc_cell_meme": {
     "current": "bfd337be-c10a-11ef-8d33-02420a64004f",
     "history": [
      {
       "current": "bfd1a2fa-c10a-11ef-8d33-02420a64004f",
       "next": "bfd1a368-c10a-11ef-8d33-02420a64004f",
       "previous": "bfd1a28c-c10a-11ef-8d33-02420a64004f"
      }
     ],
     "next": "bfd33804-c10a-11ef-8d33-02420a64004f",
     "previous": "bfd33778-c10a-11ef-8d33-02420a64004f"
    },
    "tags": [
     "vcp:parameters"
    ]
   },
   "outputs": [],
   "source": [
    "# (例)\n",
    "# ugroup_name = 'JupyterHub'\n",
    "\n",
    "ugroup_name = "
   ]
  },
  {
   "cell_type": "markdown",
   "id": "7dbbacc4-bec8-4696-87f6-33c62a859274",
   "metadata": {
    "heading_collapsed": true,
    "lc_cell_meme": {
     "current": "bfd33804-c10a-11ef-8d33-02420a64004f",
     "history": [
      {
       "current": "bfd1a368-c10a-11ef-8d33-02420a64004f",
       "next": "bfd1a3d6-c10a-11ef-8d33-02420a64004f",
       "previous": "bfd1a2fa-c10a-11ef-8d33-02420a64004f"
      }
     ],
     "next": "bfd3384a-c10a-11ef-8d33-02420a64004f",
     "previous": "bfd337be-c10a-11ef-8d33-02420a64004f"
    }
   },
   "source": [
    "### チェック\n",
    "\n",
    "対象となるVCノードがAnsibleによって操作できることを確認します。"
   ]
  },
  {
   "cell_type": "markdown",
   "id": "6fc307b4-b4ab-4333-b15d-cf76d541404b",
   "metadata": {
    "hidden": true,
    "lc_cell_meme": {
     "current": "bfd3384a-c10a-11ef-8d33-02420a64004f",
     "history": [
      {
       "current": "bfd1a3d6-c10a-11ef-8d33-02420a64004f",
       "next": "bfd1a444-c10a-11ef-8d33-02420a64004f",
       "previous": "bfd1a368-c10a-11ef-8d33-02420a64004f"
      }
     ],
     "next": "bfd33890-c10a-11ef-8d33-02420a64004f",
     "previous": "bfd33804-c10a-11ef-8d33-02420a64004f"
    }
   },
   "source": [
    "Ansibleの設定ファイルの場所を環境変数に設定しておきます。"
   ]
  },
  {
   "cell_type": "code",
   "execution_count": null,
   "id": "2a663931-49f2-44e9-8ad3-2f4f926729d4",
   "metadata": {
    "hidden": true,
    "lc_cell_meme": {
     "current": "bfd33890-c10a-11ef-8d33-02420a64004f",
     "history": [
      {
       "current": "bfd1a444-c10a-11ef-8d33-02420a64004f",
       "next": "bfd1a4b2-c10a-11ef-8d33-02420a64004f",
       "previous": "bfd1a3d6-c10a-11ef-8d33-02420a64004f"
      }
     ],
     "next": "bfd338d6-c10a-11ef-8d33-02420a64004f",
     "previous": "bfd3384a-c10a-11ef-8d33-02420a64004f"
    }
   },
   "outputs": [],
   "source": [
    "from pathlib import Path\n",
    "import os\n",
    "\n",
    "cfg_ansible = Path('ansible.cfg')\n",
    "if cfg_ansible.exists():\n",
    "    os.environ['ANSIBLE_CONFIG'] = str(cfg_ansible.resolve())"
   ]
  },
  {
   "cell_type": "markdown",
   "id": "5ba33546-a68e-4ce0-80c0-76dfdc5e9e12",
   "metadata": {
    "hidden": true,
    "lc_cell_meme": {
     "current": "bfd338d6-c10a-11ef-8d33-02420a64004f",
     "history": [
      {
       "current": "bfd1a4b2-c10a-11ef-8d33-02420a64004f",
       "next": "bfd1a516-c10a-11ef-8d33-02420a64004f",
       "previous": "bfd1a444-c10a-11ef-8d33-02420a64004f"
      }
     ],
     "next": "bfd3391c-c10a-11ef-8d33-02420a64004f",
     "previous": "bfd33890-c10a-11ef-8d33-02420a64004f"
    }
   },
   "source": [
    "構築対象となる各VCノードにアクセスできることを確認します。"
   ]
  },
  {
   "cell_type": "code",
   "execution_count": null,
   "id": "944c972c-94a0-44fe-95fe-cfc26e302828",
   "metadata": {
    "hidden": true,
    "lc_cell_meme": {
     "current": "bfd3391c-c10a-11ef-8d33-02420a64004f",
     "history": [
      {
       "current": "bfd1a516-c10a-11ef-8d33-02420a64004f",
       "next": "bfd1a584-c10a-11ef-8d33-02420a64004f",
       "previous": "bfd1a4b2-c10a-11ef-8d33-02420a64004f"
      }
     ],
     "next": "bfd33962-c10a-11ef-8d33-02420a64004f",
     "previous": "bfd338d6-c10a-11ef-8d33-02420a64004f"
    },
    "pinned_outputs": []
   },
   "outputs": [],
   "source": [
    "target_hub = f'{ugroup_name}_manager'\n",
    "\n",
    "!ansible {target_hub} -m ping"
   ]
  },
  {
   "cell_type": "code",
   "execution_count": null,
   "id": "1c421dd9-2d57-414e-99ad-40e1a8d92e67",
   "metadata": {
    "hidden": true,
    "lc_cell_meme": {
     "current": "bfd33962-c10a-11ef-8d33-02420a64004f",
     "history": [
      {
       "current": "bfd1a584-c10a-11ef-8d33-02420a64004f",
       "next": "bfd1a5f2-c10a-11ef-8d33-02420a64004f",
       "previous": "bfd1a516-c10a-11ef-8d33-02420a64004f"
      }
     ],
     "next": "bfd339a8-c10a-11ef-8d33-02420a64004f",
     "previous": "bfd3391c-c10a-11ef-8d33-02420a64004f"
    },
    "pinned_outputs": []
   },
   "outputs": [],
   "source": [
    "target_nodes = f'{ugroup_name}_worker'\n",
    "\n",
    "!ansible {target_nodes} -m ping"
   ]
  },
  {
   "cell_type": "markdown",
   "id": "6b4ee699-e7bb-4c62-ac24-950bbe19ddb6",
   "metadata": {
    "hidden": true,
    "lc_cell_meme": {
     "current": "bfd339a8-c10a-11ef-8d33-02420a64004f",
     "history": [
      {
       "current": "bfd1a5f2-c10a-11ef-8d33-02420a64004f",
       "next": "bfd1a660-c10a-11ef-8d33-02420a64004f",
       "previous": "bfd1a584-c10a-11ef-8d33-02420a64004f"
      }
     ],
     "next": "bfd339ee-c10a-11ef-8d33-02420a64004f",
     "previous": "bfd33962-c10a-11ef-8d33-02420a64004f"
    }
   },
   "source": [
    "UnitGroup名に対応する group_varsファイルが存在していることを確認します。"
   ]
  },
  {
   "cell_type": "code",
   "execution_count": null,
   "id": "cba90bf8-d763-47a9-8e39-e56585ca3743",
   "metadata": {
    "hidden": true,
    "lc_cell_meme": {
     "current": "bfd339ee-c10a-11ef-8d33-02420a64004f",
     "history": [
      {
       "current": "bfd1a660-c10a-11ef-8d33-02420a64004f",
       "next": "bfd1a6c4-c10a-11ef-8d33-02420a64004f",
       "previous": "bfd1a5f2-c10a-11ef-8d33-02420a64004f"
      }
     ],
     "next": "bfd33a34-c10a-11ef-8d33-02420a64004f",
     "previous": "bfd339a8-c10a-11ef-8d33-02420a64004f"
    }
   },
   "outputs": [],
   "source": [
    "!test -f group_vars/{ugroup_name}"
   ]
  },
  {
   "cell_type": "markdown",
   "id": "15717df5-1e5e-47a8-bd7f-46e4f93257e5",
   "metadata": {
    "lc_cell_meme": {
     "current": "bfd33a34-c10a-11ef-8d33-02420a64004f",
     "history": [
      {
       "current": "bfd1a6c4-c10a-11ef-8d33-02420a64004f",
       "next": "bfd1a732-c10a-11ef-8d33-02420a64004f",
       "previous": "bfd1a660-c10a-11ef-8d33-02420a64004f"
      }
     ],
     "next": "bfd33a7a-c10a-11ef-8d33-02420a64004f",
     "previous": "bfd339ee-c10a-11ef-8d33-02420a64004f"
    }
   },
   "source": [
    "## パラメータの設定\n",
    "\n",
    "JupyterHubシステムに関する各種設定項目を指定します。\n",
    "\n",
    "ここで設定された項目はansible変数として保存され、ファイルのmanagerノードへの配置時に各ファイルに反映されます。"
   ]
  },
  {
   "cell_type": "markdown",
   "id": "971ca150-d668-44c4-9eac-14b65ed79bbf",
   "metadata": {
    "lc_cell_meme": {
     "current": "bfd33a7a-c10a-11ef-8d33-02420a64004f",
     "history": [
      {
       "current": "bfd1a732-c10a-11ef-8d33-02420a64004f",
       "next": "bfd1a7a0-c10a-11ef-8d33-02420a64004f",
       "previous": "bfd1a6c4-c10a-11ef-8d33-02420a64004f"
      }
     ],
     "next": "bfd33ac0-c10a-11ef-8d33-02420a64004f",
     "previous": "bfd33a34-c10a-11ef-8d33-02420a64004f"
    }
   },
   "source": [
    "### 必須設定項目"
   ]
  },
  {
   "cell_type": "markdown",
   "id": "5dfce9b8-e08f-4624-8bfe-5b8c1f94594a",
   "metadata": {
    "lc_cell_meme": {
     "current": "bfd33ac0-c10a-11ef-8d33-02420a64004f",
     "history": [
      {
       "current": "bfd1a7a0-c10a-11ef-8d33-02420a64004f",
       "next": "bfd1a80e-c10a-11ef-8d33-02420a64004f",
       "previous": "bfd1a732-c10a-11ef-8d33-02420a64004f"
      }
     ],
     "next": "bfd33b06-c10a-11ef-8d33-02420a64004f",
     "previous": "bfd33a7a-c10a-11ef-8d33-02420a64004f"
    }
   },
   "source": [
    "#### パラメータ類"
   ]
  },
  {
   "cell_type": "code",
   "execution_count": null,
   "id": "bf65e9bb-30d7-43a8-8102-aca95f0f988c",
   "metadata": {
    "lc_cell_meme": {
     "current": "bfd33b06-c10a-11ef-8d33-02420a64004f",
     "history": [
      {
       "current": "bfd1a80e-c10a-11ef-8d33-02420a64004f",
       "next": "bfd1a87c-c10a-11ef-8d33-02420a64004f",
       "previous": "bfd1a7a0-c10a-11ef-8d33-02420a64004f"
      }
     ],
     "next": "bfd33b4c-c10a-11ef-8d33-02420a64004f",
     "previous": "bfd33ac0-c10a-11ef-8d33-02420a64004f"
    }
   },
   "outputs": [],
   "source": [
    "# JupyterHubのホスト名(FQDN) (例) 'jupyterhubfqdn.com'\n",
    "jupyterhub_fqdn = \n",
    "\n",
    "# lti1.3認証連携情報(moodle等)\n",
    "# lms プラットフォームID (例) 'https://moodle.example.com'\n",
    "lms_platform_id = \n",
    "# lms クライアントID \n",
    "lms_cliend_id = "
   ]
  },
  {
   "cell_type": "markdown",
   "id": "29405626-f85a-4a4c-af5a-d1faae80fbdb",
   "metadata": {
    "lc_cell_meme": {
     "current": "bfd33b4c-c10a-11ef-8d33-02420a64004f",
     "history": [
      {
       "current": "bfd1a87c-c10a-11ef-8d33-02420a64004f",
       "next": "bfd1a8e0-c10a-11ef-8d33-02420a64004f",
       "previous": "bfd1a80e-c10a-11ef-8d33-02420a64004f"
      }
     ],
     "next": "bfd33b92-c10a-11ef-8d33-02420a64004f",
     "previous": "bfd33b06-c10a-11ef-8d33-02420a64004f"
    }
   },
   "source": [
    "受講生一覧取得方法を設定します。  \n",
    "Moodleのバージョンが4.0.0以上であれば、以下のセルを変更する必要はありません。  \n",
    "Moodleのバージョンが4.0.0未満で、NRPS（Names and Role Provisioning Services）を利用できない場合に、moodleのwebserviceを利用します。（https://tracker.moodle.org/browse/MDL-75279）\n",
    "その場合、`get_course_member_method`には`'moodle_api'`を指定し、Moodleで発行したトークンを`lms_api_token`に指定してください。"
   ]
  },
  {
   "cell_type": "code",
   "execution_count": null,
   "id": "c80026e5-79f4-4289-8445-87ebc9ea8da5",
   "metadata": {
    "lc_cell_meme": {
     "current": "bfd33b92-c10a-11ef-8d33-02420a64004f",
     "history": [
      {
       "current": "bfd1a8e0-c10a-11ef-8d33-02420a64004f",
       "next": "bfd1a94e-c10a-11ef-8d33-02420a64004f",
       "previous": "bfd1a87c-c10a-11ef-8d33-02420a64004f"
      }
     ],
     "next": "bfd33bd8-c10a-11ef-8d33-02420a64004f",
     "previous": "bfd33b4c-c10a-11ef-8d33-02420a64004f"
    }
   },
   "outputs": [],
   "source": [
    "# get_course_member_method = 'moodle_api'\n",
    "get_course_member_method = ''\n",
    "lms_api_token = ''"
   ]
  },
  {
   "cell_type": "markdown",
   "id": "d35f7c76-be5c-48b5-b5e1-dd9986824d19",
   "metadata": {
    "lc_cell_meme": {
     "current": "bfd33bd8-c10a-11ef-8d33-02420a64004f",
     "history": [
      {
       "current": "bfd1a94e-c10a-11ef-8d33-02420a64004f",
       "next": "bfd1a9bc-c10a-11ef-8d33-02420a64004f",
       "previous": "bfd1a8e0-c10a-11ef-8d33-02420a64004f"
      }
     ],
     "next": "bfd33c1e-c10a-11ef-8d33-02420a64004f",
     "previous": "bfd33b92-c10a-11ef-8d33-02420a64004f"
    }
   },
   "source": [
    "[configurable-http-proxy](https://github.com/jupyterhub/configurable-http-proxy)で使用するトークンを生成します。"
   ]
  },
  {
   "cell_type": "code",
   "execution_count": null,
   "id": "2061b865-26b8-4206-b59c-cda59b5c2ef9",
   "metadata": {
    "lc_cell_meme": {
     "current": "bfd33c1e-c10a-11ef-8d33-02420a64004f",
     "history": [
      {
       "current": "bfd1a9bc-c10a-11ef-8d33-02420a64004f",
       "next": "bfd1aa20-c10a-11ef-8d33-02420a64004f",
       "previous": "bfd1a94e-c10a-11ef-8d33-02420a64004f"
      }
     ],
     "next": "bfd33c64-c10a-11ef-8d33-02420a64004f",
     "previous": "bfd33bd8-c10a-11ef-8d33-02420a64004f"
    }
   },
   "outputs": [],
   "source": [
    "import random\n",
    "import string\n",
    "configproxy_auth_token = ''.join([random.choice(string.ascii_letters + string.digits) for _ in range(32)])\n",
    "configproxy_auth_token"
   ]
  },
  {
   "cell_type": "markdown",
   "id": "2586abc2-148f-444c-8309-947fb206ba8b",
   "metadata": {
    "lc_cell_meme": {
     "current": "bfd33c64-c10a-11ef-8d33-02420a64004f",
     "history": [
      {
       "current": "bfd1aa20-c10a-11ef-8d33-02420a64004f",
       "next": "bfd1aa8e-c10a-11ef-8d33-02420a64004f",
       "previous": "bfd1a9bc-c10a-11ef-8d33-02420a64004f"
      }
     ],
     "next": "bfd33ca0-c10a-11ef-8d33-02420a64004f",
     "previous": "bfd33c1e-c10a-11ef-8d33-02420a64004f"
    }
   },
   "source": [
    "### 任意設定項目"
   ]
  },
  {
   "cell_type": "markdown",
   "id": "0bc0d56c-d89a-4024-aea9-05dcbe116b23",
   "metadata": {
    "lc_cell_meme": {
     "current": "bfd33ca0-c10a-11ef-8d33-02420a64004f",
     "history": [
      {
       "current": "bfd1aa8e-c10a-11ef-8d33-02420a64004f",
       "next": "bfd1aafc-c10a-11ef-8d33-02420a64004f",
       "previous": "bfd1aa20-c10a-11ef-8d33-02420a64004f"
      }
     ],
     "next": "bfd33ce6-c10a-11ef-8d33-02420a64004f",
     "previous": "bfd33c64-c10a-11ef-8d33-02420a64004f"
    }
   },
   "source": [
    "#### 設定用ファイル配置\n",
    "\n",
    "テンプレートとして事前準備したファイルを、現在使用している構築用ワークディレクトリにコピーします。"
   ]
  },
  {
   "cell_type": "code",
   "execution_count": null,
   "id": "622cb250-aedb-4934-8bc4-cbf5a22b056a",
   "metadata": {
    "lc_cell_meme": {
     "current": "bfd33ce6-c10a-11ef-8d33-02420a64004f",
     "history": [
      {
       "current": "bfd1aafc-c10a-11ef-8d33-02420a64004f",
       "next": "bfd1ab6a-c10a-11ef-8d33-02420a64004f",
       "previous": "bfd1aa8e-c10a-11ef-8d33-02420a64004f"
      }
     ],
     "next": "bfd33d2c-c10a-11ef-8d33-02420a64004f",
     "previous": "bfd33ca0-c10a-11ef-8d33-02420a64004f"
    }
   },
   "outputs": [],
   "source": [
    "!mkdir -p edit\n",
    "!cp -n ./template/jupyterhub/jupyterhub/lms_web_service.py ./edit/\n",
    "!cp -n ./template/jupyterhub/jupyterhub/jupyterhub_config.py ./edit/\n",
    "!cp -n ./template/jupyterhub/jupyterhub/jupyterhub_params.yaml ./edit/"
   ]
  },
  {
   "cell_type": "markdown",
   "id": "90e63fbe-6003-43dd-af77-88e0ff434214",
   "metadata": {
    "lc_cell_meme": {
     "current": "bfd33d2c-c10a-11ef-8d33-02420a64004f",
     "history": [
      {
       "current": "bfd1ab6a-c10a-11ef-8d33-02420a64004f",
       "next": "bfd1abd8-c10a-11ef-8d33-02420a64004f",
       "previous": "bfd1aafc-c10a-11ef-8d33-02420a64004f"
      }
     ],
     "next": "bfd33d72-c10a-11ef-8d33-02420a64004f",
     "previous": "bfd33ce6-c10a-11ef-8d33-02420a64004f"
    }
   },
   "source": [
    "#### パラメータ類\n",
    "\n",
    "jupyterhubで使用するDB等の接続情報等を設定します。"
   ]
  },
  {
   "cell_type": "code",
   "execution_count": null,
   "id": "cffdae4b-66d7-4575-a74f-1acd69f32e98",
   "metadata": {
    "lc_cell_meme": {
     "current": "bfd33d72-c10a-11ef-8d33-02420a64004f",
     "history": [
      {
       "current": "bfd1abd8-c10a-11ef-8d33-02420a64004f",
       "next": "bfd1ac3c-c10a-11ef-8d33-02420a64004f",
       "previous": "bfd1ab6a-c10a-11ef-8d33-02420a64004f"
      }
     ],
     "next": "bfd33db8-c10a-11ef-8d33-02420a64004f",
     "previous": "bfd33d2c-c10a-11ef-8d33-02420a64004f"
    },
    "pinned_outputs": []
   },
   "outputs": [],
   "source": [
    "# メールアドレスドメイン設定\n",
    "email_domain = 'example.com'\n",
    "\n",
    "# JupyterhubDB接続情報\n",
    "db_user = 'jupyter'\n",
    "db_password = 'PassWordDesu'\n",
    "\n",
    "# Jupyterhub用LDAPサーバ（ローカルLDAP）\n",
    "ldap_admin = 'Manager'\n",
    "ldap_password = 'PassWordDesu'\n",
    "\n",
    "# Jupyterhub 初期設定\n",
    "jupyterhub_admin_users = ['admin']\n",
    "\n",
    "# single-user notebook server コンテナイメージ\n",
    "# 利用可能なイメージ一覧は、template/notebook/image 内のREADMEをご覧ください。\n",
    "singleuser_image = 'mcj-cloudhub-nb:notebook-6.5.4'\n",
    "\n",
    "# 共有ディレクトリパス\n",
    "home_directory_root = '/jupyter'\n",
    "share_directory_root = '/exchange'\n",
    "\n",
    "# dockerネットワーク\n",
    "swarm_network = 'jupyterhub-network'\n",
    "\n",
    "# ユーザを一意に識別するキー\n",
    "lti_username_key = 'sub'\n",
    "\n",
    "# ユーザのcookieの有効日数(0.25日=6時間)\n",
    "cookie_max_age_days = 0.25\n",
    "\n",
    "# Jupyterhubコンテナイメージ\n",
    "jupyterhub_image = 'mcj-cloudhub:latest'\n",
    "\n",
    "# single-user notebook server コンテナをDocker Swarmのどのノードで起動するか\n",
    "# 「011-VCノード作成」で、worker_nodes(workerノード数)に0を指定した場合、\"manager\"を指定します。\n",
    "# node_role = 'manager'\n",
    "node_role = 'worker'\n",
    "\n",
    "# デフォルトビュー\n",
    "# \"/tree\" を指定すると、デフォルトのUIがNotebookになります。\n",
    "# \"/lab\" を指定すると、デフォルトのUIがlabになります。\n",
    "default_url = \"/tree\""
   ]
  },
  {
   "cell_type": "markdown",
   "id": "f5d6acfd-5e6a-4b93-b1d3-198f4c9aec3d",
   "metadata": {
    "lc_cell_meme": {
     "current": "bfd33db8-c10a-11ef-8d33-02420a64004f",
     "history": [
      {
       "current": "bfd1ac3c-c10a-11ef-8d33-02420a64004f",
       "next": "bfd1acaa-c10a-11ef-8d33-02420a64004f",
       "previous": "bfd1abd8-c10a-11ef-8d33-02420a64004f"
      }
     ],
     "next": "bfd33dfe-c10a-11ef-8d33-02420a64004f",
     "previous": "bfd33d72-c10a-11ef-8d33-02420a64004f"
    }
   },
   "source": [
    "single-user notebook serverコンテナのリソース制限等を設定します。  \n",
    "変更する場合、以下の内容を書き換えてください。  \n",
    "\n",
    "[参考: DockerSpawner API](https://jupyterhub-dockerspawner.readthedocs.io/en/latest/api/index.html)\n",
    "\n",
    "また、idle状態のsingle-user notebook serverコンテナを定期的にシャットダウンするサービスを稼働させるため、idle状態でのタイムアウトの時間設定を変更する場合もこちらで行ってください。デフォルトでは、1分に1回、idle状態かどうかのチェックを行い、600秒＝10分間idle状態が続いているコンテナはシャットダウンするように設定しています。  \n",
    "idle状態のコンテナも起動したままにしたい場合、`cull_server_timeout`の値を0に設定してください。  \n",
    "\n",
    "[参考: jupyterhub-idle-culler](https://github.com/jupyterhub/jupyterhub-idle-culler)"
   ]
  },
  {
   "cell_type": "code",
   "execution_count": null,
   "id": "1f52846a-387c-40d9-be78-539a5d964fad",
   "metadata": {
    "lc_cell_meme": {
     "current": "bfd33dfe-c10a-11ef-8d33-02420a64004f",
     "history": [
      {
       "current": "bfd1acaa-c10a-11ef-8d33-02420a64004f",
       "next": "bfd1ad18-c10a-11ef-8d33-02420a64004f",
       "previous": "bfd1ac3c-c10a-11ef-8d33-02420a64004f"
      }
     ],
     "next": "bfd33e44-c10a-11ef-8d33-02420a64004f",
     "previous": "bfd33db8-c10a-11ef-8d33-02420a64004f"
    }
   },
   "outputs": [],
   "source": [
    "import yaml\n",
    "from pathlib import Path\n",
    "\n",
    "path = Path('edit/jupyterhub_params.yaml')\n",
    "with path.open() as f:\n",
    "    params = yaml.safe_load(f)\n",
    "\n",
    "params.update({\n",
    "    'resource': {\n",
    "        'groups': {\n",
    "            'student': {\n",
    "                'mem_limit': '1G',\n",
    "                'cpu_limit': 1.0,\n",
    "                'mem_guarantee': 0,\n",
    "                'cpu_guarantee': 0,\n",
    "            },\n",
    "            'teacher': {\n",
    "                'mem_limit': '2G',\n",
    "                'cpu_limit': 1.0,\n",
    "                'mem_guarantee': 0,\n",
    "                'cpu_guarantee': 0,\n",
    "            },\n",
    "        },\n",
    "    },\n",
    "    'cookie_max_age_days': 0.25,\n",
    "    'cull_server': {\n",
    "        'cull_server_idle_timeout': 3600,\n",
    "        'cull_server_every': 60,\n",
    "        'cull_server_max_age': 0,\n",
    "    },\n",
    "})\n",
    "\n",
    "with path.open(mode='w') as f:\n",
    "    yaml.safe_dump(params, stream=f)"
   ]
  },
  {
   "cell_type": "markdown",
   "id": "23e82a8b-4ac3-4218-b564-779312ce13f2",
   "metadata": {
    "lc_cell_meme": {
     "current": "bfd33e44-c10a-11ef-8d33-02420a64004f",
     "history": [
      {
       "current": "bfd1ad18-c10a-11ef-8d33-02420a64004f",
       "next": "bfd1ad7c-c10a-11ef-8d33-02420a64004f",
       "previous": "bfd1acaa-c10a-11ef-8d33-02420a64004f"
      }
     ],
     "next": "bfd33e8a-c10a-11ef-8d33-02420a64004f",
     "previous": "bfd33dfe-c10a-11ef-8d33-02420a64004f"
    }
   },
   "source": [
    "#### その他Jupyterhubで設定可能な項目\n",
    "\n",
    "その他、Jupyterhubで設定可能な項目は、[Jupyterhub公式ドキュメント](https://jupyterhub.readthedocs.io/en/1.4.2/reference/config-reference.html)等を参照し、`jupyterhub_config.py`を直接編集してください。\n",
    "\n",
    "以下のセルを実行すると、編集対象の`jupyterhub_config.py`の編集画面へのリンクを表示します。"
   ]
  },
  {
   "cell_type": "code",
   "execution_count": null,
   "id": "eb0262c3-3182-4c73-9e26-7782bb862bd1",
   "metadata": {
    "lc_cell_meme": {
     "current": "bfd33e8a-c10a-11ef-8d33-02420a64004f",
     "history": [
      {
       "current": "bfd1ad7c-c10a-11ef-8d33-02420a64004f",
       "next": "bfd1adea-c10a-11ef-8d33-02420a64004f",
       "previous": "bfd1ad18-c10a-11ef-8d33-02420a64004f"
      }
     ],
     "next": "bfd33ed0-c10a-11ef-8d33-02420a64004f",
     "previous": "bfd33e44-c10a-11ef-8d33-02420a64004f"
    }
   },
   "outputs": [],
   "source": [
    "%run scripts/edit_conf.py\n",
    "generate_edit_link_config()"
   ]
  },
  {
   "cell_type": "markdown",
   "id": "b7a4d50e-a3f2-434f-8db3-088c1a83992e",
   "metadata": {
    "heading_collapsed": true,
    "lc_cell_meme": {
     "current": "bfd33ed0-c10a-11ef-8d33-02420a64004f",
     "history": [
      {
       "current": "bfd1adea-c10a-11ef-8d33-02420a64004f",
       "next": "bfd1ae58-c10a-11ef-8d33-02420a64004f",
       "previous": "bfd1ad7c-c10a-11ef-8d33-02420a64004f"
      }
     ],
     "next": "bfd33f16-c10a-11ef-8d33-02420a64004f",
     "previous": "bfd33e8a-c10a-11ef-8d33-02420a64004f"
    }
   },
   "source": [
    "### オーバーレイネットワークの指定"
   ]
  },
  {
   "cell_type": "markdown",
   "id": "42cf2749-0e5a-40b7-ad5e-4d7ba9de71e9",
   "metadata": {
    "hidden": true,
    "lc_cell_meme": {
     "current": "bfd33f16-c10a-11ef-8d33-02420a64004f",
     "history": [
      {
       "current": "bfd1ae58-c10a-11ef-8d33-02420a64004f",
       "next": "bfd1aec6-c10a-11ef-8d33-02420a64004f",
       "previous": "bfd1adea-c10a-11ef-8d33-02420a64004f"
      }
     ],
     "next": "bfd33f5c-c10a-11ef-8d33-02420a64004f",
     "previous": "bfd33ed0-c10a-11ef-8d33-02420a64004f"
    }
   },
   "source": [
    "JupyterHubのコンテナはDocker Swarmのオーバーレイネットワークで実行されます。オーバーレイネットワークに割り当てるサブネットを指定します。\n",
    "\n",
    "> 基本的にはデフォルト値からの変更は不要ですが、VCノードに割り当てられているIPアドレスと範囲が重複している場合は他のサブネットに変更して下さい。"
   ]
  },
  {
   "cell_type": "code",
   "execution_count": null,
   "id": "93cefdb4-61c7-44b7-8742-229301d0d5b7",
   "metadata": {
    "hidden": true,
    "lc_cell_meme": {
     "current": "bfd33f5c-c10a-11ef-8d33-02420a64004f",
     "history": [
      {
       "current": "bfd1aec6-c10a-11ef-8d33-02420a64004f",
       "next": "bfd1af2a-c10a-11ef-8d33-02420a64004f",
       "previous": "bfd1ae58-c10a-11ef-8d33-02420a64004f"
      }
     ],
     "next": "bfd33fa2-c10a-11ef-8d33-02420a64004f",
     "previous": "bfd33f16-c10a-11ef-8d33-02420a64004f"
    }
   },
   "outputs": [],
   "source": [
    "# (例)\n",
    "# jupyterhub_backend = '10.1.0.0/20'\n",
    "\n",
    "jupyterhub_backend = '10.1.0.0/20'"
   ]
  },
  {
   "cell_type": "markdown",
   "id": "068d51f1-a22d-4337-ad25-83376fe034ba",
   "metadata": {
    "hidden": true,
    "lc_cell_meme": {
     "current": "bfd33fa2-c10a-11ef-8d33-02420a64004f",
     "history": [
      {
       "current": "bfd1af2a-c10a-11ef-8d33-02420a64004f",
       "next": "bfd1af98-c10a-11ef-8d33-02420a64004f",
       "previous": "bfd1aec6-c10a-11ef-8d33-02420a64004f"
      }
     ],
     "next": "bfd33fe8-c10a-11ef-8d33-02420a64004f",
     "previous": "bfd33f5c-c10a-11ef-8d33-02420a64004f"
    }
   },
   "source": [
    "指定されたサブネットがVCノードに割り当てられているIPアドレスと重なっていないことをチェックします。次のセルを実行してエラーとならないことを確認してください。"
   ]
  },
  {
   "cell_type": "code",
   "execution_count": null,
   "id": "e396994a-1ff2-44df-94fc-448bb326e30f",
   "metadata": {
    "hidden": true,
    "lc_cell_meme": {
     "current": "bfd33fe8-c10a-11ef-8d33-02420a64004f",
     "history": [
      {
       "current": "bfd1af98-c10a-11ef-8d33-02420a64004f",
       "next": "bfd1b006-c10a-11ef-8d33-02420a64004f",
       "previous": "bfd1af2a-c10a-11ef-8d33-02420a64004f"
      }
     ],
     "next": "bfd3402e-c10a-11ef-8d33-02420a64004f",
     "previous": "bfd33fa2-c10a-11ef-8d33-02420a64004f"
    },
    "scrolled": true
   },
   "outputs": [],
   "source": [
    "!ansible-playbook -v -e jupyterhub_backend={jupyterhub_backend} -l {ugroup_name} \\\n",
    "    playbooks/check-subnet.yml"
   ]
  },
  {
   "cell_type": "markdown",
   "id": "e6e002ec-3f3e-4daf-93b7-e54bee642e32",
   "metadata": {
    "heading_collapsed": true,
    "lc_cell_meme": {
     "current": "bfd3402e-c10a-11ef-8d33-02420a64004f",
     "history": [
      {
       "current": "bfd1b006-c10a-11ef-8d33-02420a64004f",
       "next": "bfd1b06a-c10a-11ef-8d33-02420a64004f",
       "previous": "bfd1af98-c10a-11ef-8d33-02420a64004f"
      }
     ],
     "next": "bfd3406a-c10a-11ef-8d33-02420a64004f",
     "previous": "bfd33fe8-c10a-11ef-8d33-02420a64004f"
    }
   },
   "source": [
    "### パラメータの保存\n",
    "\n",
    "ここまで指定したパラメータを ansible の変数として `group_vars`ファイルに保存します。"
   ]
  },
  {
   "cell_type": "code",
   "execution_count": null,
   "id": "b8a83162-80b4-4fc8-a836-f27439a2ad26",
   "metadata": {
    "hidden": true,
    "lc_cell_meme": {
     "current": "bfd3406a-c10a-11ef-8d33-02420a64004f",
     "history": [
      {
       "current": "bfd1b06a-c10a-11ef-8d33-02420a64004f",
       "next": "bfd1b0d8-c10a-11ef-8d33-02420a64004f",
       "previous": "bfd1b006-c10a-11ef-8d33-02420a64004f"
      }
     ],
     "next": "bfd340b0-c10a-11ef-8d33-02420a64004f",
     "previous": "bfd3402e-c10a-11ef-8d33-02420a64004f"
    }
   },
   "outputs": [],
   "source": [
    "import yaml\n",
    "from pathlib import Path\n",
    "\n",
    "gvars_path = Path(f'group_vars/{ugroup_name}')\n",
    "with gvars_path.open() as f:\n",
    "    gvars = yaml.safe_load(f)\n",
    "\n",
    "if gvars['worker_nodes'] == 0:\n",
    "    node_role = 'manager'\n",
    "\n",
    "gvars.update({\n",
    "    'swarm_network': swarm_network,\n",
    "    'jupyterhub_backend': jupyterhub_backend,\n",
    "    'jupyterhub_fqdn': jupyterhub_fqdn,\n",
    "    'db_user': db_user,\n",
    "    'db_password': db_password,\n",
    "    'email_domain': email_domain,\n",
    "    'jupyterhub_admin_users': jupyterhub_admin_users,\n",
    "    'lms_platform_id': lms_platform_id,\n",
    "    'lms_cliend_id': lms_cliend_id,\n",
    "    'lms_api_token': lms_api_token if 'lms_api_token' in locals() else '',\n",
    "    'get_course_member_method': get_course_member_method if 'get_course_member_method' in locals() else '',\n",
    "    'singleuser_image': singleuser_image.split(':')[0],\n",
    "    'singleuser_image_tag': singleuser_image.split(':')[1],\n",
    "    'ldap_password': ldap_password,\n",
    "    'ldap_admin': ldap_admin,\n",
    "    'home_directory_root': home_directory_root,\n",
    "    'share_directory_root': share_directory_root,\n",
    "    'lti_username_key': lti_username_key,\n",
    "    'cookie_max_age_days': cookie_max_age_days,\n",
    "    'configproxy_auth_token': configproxy_auth_token,\n",
    "    'jupyterhub_image': jupyterhub_image,\n",
    "    'node_role': node_role,\n",
    "    'ldap_admin': ldap_admin,\n",
    "    'default_url': default_url,\n",
    "})\n",
    "\n",
    "with gvars_path.open(mode='w') as f:\n",
    "    yaml.safe_dump(gvars, stream=f)"
   ]
  },
  {
   "cell_type": "markdown",
   "id": "7dbfc10a-7b2a-42b3-bdf1-1e6d462e9250",
   "metadata": {
    "lc_cell_meme": {
     "current": "bfd340b0-c10a-11ef-8d33-02420a64004f",
     "history": [
      {
       "current": "bfd1b0d8-c10a-11ef-8d33-02420a64004f",
       "next": "bfd1b146-c10a-11ef-8d33-02420a64004f",
       "previous": "bfd1b06a-c10a-11ef-8d33-02420a64004f"
      }
     ],
     "next": "bfd340f6-c10a-11ef-8d33-02420a64004f",
     "previous": "bfd3406a-c10a-11ef-8d33-02420a64004f"
    }
   },
   "source": [
    "## JupyterHubのセットアップ\n",
    "\n",
    "JupyterHubの構成要素となる、各コンテナのセットアップを行います。"
   ]
  },
  {
   "cell_type": "markdown",
   "id": "6368427f-e39d-4fe8-9c1c-60fda49fa0e1",
   "metadata": {
    "lc_cell_meme": {
     "current": "bfd340f6-c10a-11ef-8d33-02420a64004f",
     "history": [
      {
       "current": "bfd1b146-c10a-11ef-8d33-02420a64004f",
       "next": "bfd1b1b4-c10a-11ef-8d33-02420a64004f",
       "previous": "bfd1b0d8-c10a-11ef-8d33-02420a64004f"
      }
     ],
     "next": "bfd3413c-c10a-11ef-8d33-02420a64004f",
     "previous": "bfd340b0-c10a-11ef-8d33-02420a64004f"
    }
   },
   "source": [
    "### Nginx\n",
    "\n",
    "Managerノードに構築する、Nginx コンテナに関するセットアップを行います。"
   ]
  },
  {
   "cell_type": "markdown",
   "id": "e05884ba-be56-495d-a525-6c2592936468",
   "metadata": {
    "lc_cell_meme": {
     "current": "bfd3413c-c10a-11ef-8d33-02420a64004f",
     "history": [
      {
       "current": "bfd1b1b4-c10a-11ef-8d33-02420a64004f",
       "next": "bfd1b218-c10a-11ef-8d33-02420a64004f",
       "previous": "bfd1b146-c10a-11ef-8d33-02420a64004f"
      }
     ],
     "next": "bfd34182-c10a-11ef-8d33-02420a64004f",
     "previous": "bfd340f6-c10a-11ef-8d33-02420a64004f"
    }
   },
   "source": [
    "#### 証明書の配置\n",
    "\n",
    "Nginxコンテナで使用するサーバ証明書の配置を確認します。"
   ]
  },
  {
   "cell_type": "markdown",
   "id": "41d0427d-6bfa-4228-b848-c9fa13e5ccb6",
   "metadata": {
    "lc_cell_meme": {
     "current": "bfd34182-c10a-11ef-8d33-02420a64004f",
     "history": [
      {
       "current": "bfd1b218-c10a-11ef-8d33-02420a64004f",
       "next": "bfd1b286-c10a-11ef-8d33-02420a64004f",
       "previous": "bfd1b1b4-c10a-11ef-8d33-02420a64004f"
      }
     ],
     "next": "bfd341c8-c10a-11ef-8d33-02420a64004f",
     "previous": "bfd3413c-c10a-11ef-8d33-02420a64004f"
    }
   },
   "source": [
    "サーバ証明書を配置するディレクトリを作成します。"
   ]
  },
  {
   "cell_type": "code",
   "execution_count": null,
   "id": "cc85b888-3572-4661-9086-2839bc6fc78c",
   "metadata": {
    "lc_cell_meme": {
     "current": "bfd341c8-c10a-11ef-8d33-02420a64004f",
     "history": [
      {
       "current": "bfd1b286-c10a-11ef-8d33-02420a64004f",
       "next": "bfd1b2f4-c10a-11ef-8d33-02420a64004f",
       "previous": "bfd1b218-c10a-11ef-8d33-02420a64004f"
      }
     ],
     "next": "bfd3420e-c10a-11ef-8d33-02420a64004f",
     "previous": "bfd34182-c10a-11ef-8d33-02420a64004f"
    },
    "scrolled": true
   },
   "outputs": [],
   "source": [
    "!ansible {target_hub} -b -m file -a \\\n",
    "    'path={{{{base_dir}}}} state=directory owner={{{{ansible_user}}}}'\n",
    "!ansible {target_hub} -b -m file -a \\\n",
    "    'path={{{{base_dir}}}}/certs state=directory owner={{{{ansible_user}}}}'"
   ]
  },
  {
   "cell_type": "markdown",
   "id": "ee4038ec-9612-4045-8082-27615c231174",
   "metadata": {
    "lc_cell_meme": {
     "current": "bfd3420e-c10a-11ef-8d33-02420a64004f",
     "history": [
      {
       "current": "bfd1b2f4-c10a-11ef-8d33-02420a64004f",
       "next": "bfd1b362-c10a-11ef-8d33-02420a64004f",
       "previous": "bfd1b286-c10a-11ef-8d33-02420a64004f"
      }
     ],
     "next": "bfd34254-c10a-11ef-8d33-02420a64004f",
     "previous": "bfd341c8-c10a-11ef-8d33-02420a64004f"
    }
   },
   "source": [
    "作成したディレクトリ`/srv/jupyterhub/certs`に証明書、秘密鍵を配置します。  \n",
    "配置する証明書などのファイル名は以下のように設定します。\n",
    "\n",
    "* サーバ証明書と中間CA証明書を連結したもの\n",
    "    - `/srv/jupyterhub/certs/fullchain.pem`\n",
    "* 秘密鍵\n",
    "    - `/srv/jupyterhub/certs/privkey.pem`\n",
    "    - パスフレーズを無しにする"
   ]
  },
  {
   "cell_type": "code",
   "execution_count": null,
   "id": "a0743c37-896b-46bf-bb58-ef78666e9c04",
   "metadata": {
    "lc_cell_meme": {
     "current": "bfd34254-c10a-11ef-8d33-02420a64004f",
     "history": [
      {
       "current": "bfd1b362-c10a-11ef-8d33-02420a64004f",
       "next": "bfd1b3c6-c10a-11ef-8d33-02420a64004f",
       "previous": "bfd1b2f4-c10a-11ef-8d33-02420a64004f"
      }
     ],
     "next": "bfd3429a-c10a-11ef-8d33-02420a64004f",
     "previous": "bfd3420e-c10a-11ef-8d33-02420a64004f"
    }
   },
   "outputs": [],
   "source": [
    "!ansible {target_hub} -b -m copy -a 'src=~/textbook/certs/privkey.pem dest=/srv/jupyterhub/certs/privkey.pem'\n",
    "!ansible {target_hub} -b -m copy -a 'src=~/textbook/certs/fullchain.pem dest=/srv/jupyterhub/certs/fullchain.pem'"
   ]
  },
  {
   "cell_type": "markdown",
   "id": "f44a8305-1fbd-4722-99c5-599692245ce2",
   "metadata": {
    "heading_collapsed": true,
    "lc_cell_meme": {
     "current": "bfd3429a-c10a-11ef-8d33-02420a64004f",
     "history": [
      {
       "current": "bfd1b3c6-c10a-11ef-8d33-02420a64004f",
       "next": "bfd1b434-c10a-11ef-8d33-02420a64004f",
       "previous": "bfd1b362-c10a-11ef-8d33-02420a64004f"
      }
     ],
     "next": "bfd342e0-c10a-11ef-8d33-02420a64004f",
     "previous": "bfd34254-c10a-11ef-8d33-02420a64004f"
    }
   },
   "source": [
    "#### 証明書の配置確認\n",
    "\n",
    "証明書の配置後に以下のセルを実行し、正しく配置できていることを確認します。"
   ]
  },
  {
   "cell_type": "markdown",
   "id": "b92d7ec6-b91b-435e-b0f9-d7801812210f",
   "metadata": {
    "hidden": true,
    "lc_cell_meme": {
     "current": "bfd342e0-c10a-11ef-8d33-02420a64004f",
     "history": [
      {
       "current": "bfd1b434-c10a-11ef-8d33-02420a64004f",
       "next": "bfd1b4a2-c10a-11ef-8d33-02420a64004f",
       "previous": "bfd1b3c6-c10a-11ef-8d33-02420a64004f"
      }
     ],
     "next": "bfd34326-c10a-11ef-8d33-02420a64004f",
     "previous": "bfd3429a-c10a-11ef-8d33-02420a64004f"
    }
   },
   "source": [
    "秘密鍵の内容を表示してみます。"
   ]
  },
  {
   "cell_type": "code",
   "execution_count": null,
   "id": "277bc7bb-ef82-4f31-ac1f-00aec52e8fee",
   "metadata": {
    "hidden": true,
    "lc_cell_meme": {
     "current": "bfd34326-c10a-11ef-8d33-02420a64004f",
     "history": [
      {
       "current": "bfd1b4a2-c10a-11ef-8d33-02420a64004f",
       "next": "bfd1b506-c10a-11ef-8d33-02420a64004f",
       "previous": "bfd1b434-c10a-11ef-8d33-02420a64004f"
      }
     ],
     "next": "bfd3436c-c10a-11ef-8d33-02420a64004f",
     "previous": "bfd342e0-c10a-11ef-8d33-02420a64004f"
    },
    "scrolled": true
   },
   "outputs": [],
   "source": [
    "try:\n",
    "    !ansible {target_hub} -a \\\n",
    "        'openssl rsa -noout -text -in  {{{{certs_dir}}}}/privkey.pem'\n",
    "except Exception as e:\n",
    "    # 鍵の形式が異なる場合、正しく配置できていてもエラーになる場合があります。\n",
    "    !ansible {target_hub} -a \\\n",
    "         'openssl ec -in {{{{certs_dir}}}}/privkey.pem -text -noout'"
   ]
  },
  {
   "cell_type": "markdown",
   "id": "ddba4780-5fbc-4b7a-a3e4-2bebc21d7596",
   "metadata": {
    "hidden": true,
    "lc_cell_meme": {
     "current": "bfd3436c-c10a-11ef-8d33-02420a64004f",
     "history": [
      {
       "current": "bfd1b506-c10a-11ef-8d33-02420a64004f",
       "next": "bfd1b574-c10a-11ef-8d33-02420a64004f",
       "previous": "bfd1b4a2-c10a-11ef-8d33-02420a64004f"
      }
     ],
     "next": "bfd343a8-c10a-11ef-8d33-02420a64004f",
     "previous": "bfd34326-c10a-11ef-8d33-02420a64004f"
    }
   },
   "source": [
    "中間CA証明書を連結したサーバ証明書の内容を表示してみます。"
   ]
  },
  {
   "cell_type": "code",
   "execution_count": null,
   "id": "528de003-55cd-4dc2-8ece-0cb90f7830c1",
   "metadata": {
    "hidden": true,
    "lc_cell_meme": {
     "current": "bfd343a8-c10a-11ef-8d33-02420a64004f",
     "history": [
      {
       "current": "bfd1b574-c10a-11ef-8d33-02420a64004f",
       "next": "bfd1b5d8-c10a-11ef-8d33-02420a64004f",
       "previous": "bfd1b506-c10a-11ef-8d33-02420a64004f"
      }
     ],
     "next": "bfd343ee-c10a-11ef-8d33-02420a64004f",
     "previous": "bfd3436c-c10a-11ef-8d33-02420a64004f"
    },
    "scrolled": true
   },
   "outputs": [],
   "source": [
    "!ansible {target_hub} -a \\\n",
    "    'openssl x509 -noout -text -in {{{{certs_dir}}}}/fullchain.pem'"
   ]
  },
  {
   "cell_type": "markdown",
   "id": "36713431-144c-4a77-b88e-a88a369eee98",
   "metadata": {
    "hidden": true,
    "lc_cell_meme": {
     "current": "bfd343ee-c10a-11ef-8d33-02420a64004f",
     "history": [
      {
       "current": "bfd1b5d8-c10a-11ef-8d33-02420a64004f",
       "next": "bfd1b646-c10a-11ef-8d33-02420a64004f",
       "previous": "bfd1b574-c10a-11ef-8d33-02420a64004f"
      }
     ],
     "next": "bfd34434-c10a-11ef-8d33-02420a64004f",
     "previous": "bfd343a8-c10a-11ef-8d33-02420a64004f"
    }
   },
   "source": [
    "証明書の owner, group などの値を利用環境に合わせて以下のように設定します。\n",
    "\n",
    "* owner: 33\n",
    "* group: 33\n",
    "\n",
    "この設定はコンテナ内では以下のように設定したことに相当します。\n",
    "\n",
    "* owner: `www-data`\n",
    "* group: `www-data`"
   ]
  },
  {
   "cell_type": "code",
   "execution_count": null,
   "id": "bb430c5a-1cfe-4abf-b05e-1f5412618e2d",
   "metadata": {
    "hidden": true,
    "lc_cell_meme": {
     "current": "bfd34434-c10a-11ef-8d33-02420a64004f",
     "history": [
      {
       "current": "bfd1b646-c10a-11ef-8d33-02420a64004f",
       "next": "bfd1b6b4-c10a-11ef-8d33-02420a64004f",
       "previous": "bfd1b5d8-c10a-11ef-8d33-02420a64004f"
      }
     ],
     "next": "bfd3447a-c10a-11ef-8d33-02420a64004f",
     "previous": "bfd343ee-c10a-11ef-8d33-02420a64004f"
    },
    "scrolled": true
   },
   "outputs": [],
   "source": [
    "cert_owner = 33\n",
    "cert_group = 33\n",
    "!ansible {target_hub} -b -m file -a \\\n",
    "    'path={{{{certs_dir}}}} owner={cert_owner} \\\n",
    "    group={cert_group} state=directory'\n",
    "!ansible {target_hub} -b -m file -a \\\n",
    "    'path={{{{certs_dir}}}}/fullchain.pem \\\n",
    "    owner={cert_owner} group={cert_group}'\n",
    "!ansible {target_hub} -b -m file -a \\\n",
    "    'path={{{{certs_dir}}}}/privkey.pem \\\n",
    "    owner={cert_owner} group={cert_group} mode=0600'"
   ]
  },
  {
   "cell_type": "markdown",
   "id": "206dda4f-e5af-4b60-9516-efca02e36665",
   "metadata": {
    "heading_collapsed": true,
    "lc_cell_meme": {
     "current": "bfd3447a-c10a-11ef-8d33-02420a64004f",
     "history": [
      {
       "current": "bfd1b6b4-c10a-11ef-8d33-02420a64004f",
       "next": "bfd1b722-c10a-11ef-8d33-02420a64004f",
       "previous": "bfd1b646-c10a-11ef-8d33-02420a64004f"
      }
     ],
     "next": "bfd344c0-c10a-11ef-8d33-02420a64004f",
     "previous": "bfd34434-c10a-11ef-8d33-02420a64004f"
    }
   },
   "source": [
    "### JupyterHub\n",
    "\n",
    "JupyterHubコンテナに関するセットアップを行います。"
   ]
  },
  {
   "cell_type": "markdown",
   "id": "4d1c739e-0f32-4dc9-97c5-a79b45cd28e1",
   "metadata": {
    "hidden": true,
    "lc_cell_meme": {
     "current": "bfd344c0-c10a-11ef-8d33-02420a64004f",
     "history": [
      {
       "current": "bfd1b722-c10a-11ef-8d33-02420a64004f",
       "next": "bfd1b790-c10a-11ef-8d33-02420a64004f",
       "previous": "bfd1b6b4-c10a-11ef-8d33-02420a64004f"
      }
     ],
     "next": "bfd34506-c10a-11ef-8d33-02420a64004f",
     "previous": "bfd3447a-c10a-11ef-8d33-02420a64004f"
    }
   },
   "source": [
    "#### JupyterHubコンテナに関するファイルを準備する\n",
    "\n",
    "JupyterHubコンテナを実行するために必要となるファイルを準備する Ansible Playbook を実行します。"
   ]
  },
  {
   "cell_type": "markdown",
   "id": "b0af06df-42ae-4be7-a184-5fa19049179b",
   "metadata": {
    "hidden": true,
    "lc_cell_meme": {
     "current": "bfd34506-c10a-11ef-8d33-02420a64004f",
     "history": [
      {
       "current": "bfd1b790-c10a-11ef-8d33-02420a64004f",
       "next": "bfd1b7fe-c10a-11ef-8d33-02420a64004f",
       "previous": "bfd1b722-c10a-11ef-8d33-02420a64004f"
      }
     ],
     "next": "bfd3454c-c10a-11ef-8d33-02420a64004f",
     "previous": "bfd344c0-c10a-11ef-8d33-02420a64004f"
    }
   },
   "source": [
    "Playbook では以下の処理を行います。\n",
    "\n",
    "* コンテナイメージのビルド"
   ]
  },
  {
   "cell_type": "markdown",
   "id": "c28547b3-60d9-4047-a082-bf0d25e968c4",
   "metadata": {
    "hidden": true,
    "lc_cell_meme": {
     "current": "bfd3454c-c10a-11ef-8d33-02420a64004f",
     "history": [
      {
       "current": "bfd1b7fe-c10a-11ef-8d33-02420a64004f",
       "next": "bfd1b862-c10a-11ef-8d33-02420a64004f",
       "previous": "bfd1b790-c10a-11ef-8d33-02420a64004f"
      }
     ],
     "next": "bfd34592-c10a-11ef-8d33-02420a64004f",
     "previous": "bfd34506-c10a-11ef-8d33-02420a64004f"
    }
   },
   "source": [
    "コンテナイメージのビルドに必要なファイルを配置します。\n",
    "\n",
    "まず、ファイルを格納するディレクトリを作成"
   ]
  },
  {
   "cell_type": "code",
   "execution_count": null,
   "id": "137d2aa9-e362-4dec-94e7-6e88f3d65385",
   "metadata": {
    "hidden": true,
    "lc_cell_meme": {
     "current": "bfd34592-c10a-11ef-8d33-02420a64004f",
     "history": [
      {
       "current": "bfd1b862-c10a-11ef-8d33-02420a64004f",
       "next": "bfd1b8d0-c10a-11ef-8d33-02420a64004f",
       "previous": "bfd1b7fe-c10a-11ef-8d33-02420a64004f"
      }
     ],
     "next": "bfd345d8-c10a-11ef-8d33-02420a64004f",
     "previous": "bfd3454c-c10a-11ef-8d33-02420a64004f"
    }
   },
   "outputs": [],
   "source": [
    "# 先にディレクトリ作成\n",
    "!ansible {target_hub} -b -m file -a \\\n",
    "    'path={share_directory_root}/nbgrader state=directory owner={{{{ansible_user}}}}'\n",
    "!ansible {target_hub} -b -m file -a \\\n",
    "    'path={{{{base_dir}}}}/jupyterhub state=directory owner={{{{ansible_user}}}}'"
   ]
  },
  {
   "cell_type": "markdown",
   "id": "044d48bb-8392-4b9b-b9b5-2620439db062",
   "metadata": {
    "hidden": true,
    "lc_cell_meme": {
     "current": "bfd345d8-c10a-11ef-8d33-02420a64004f",
     "history": [
      {
       "current": "bfd1b8d0-c10a-11ef-8d33-02420a64004f",
       "next": "bfd1b93e-c10a-11ef-8d33-02420a64004f",
       "previous": "bfd1b862-c10a-11ef-8d33-02420a64004f"
      }
     ],
     "next": "bfd3461e-c10a-11ef-8d33-02420a64004f",
     "previous": "bfd34592-c10a-11ef-8d33-02420a64004f"
    }
   },
   "source": [
    "ファイルの配置をチェックモードで試行"
   ]
  },
  {
   "cell_type": "code",
   "execution_count": null,
   "id": "620014fa-a1d6-4a42-8d71-2342cc359da1",
   "metadata": {
    "hidden": true,
    "lc_cell_meme": {
     "current": "bfd3461e-c10a-11ef-8d33-02420a64004f",
     "history": [
      {
       "current": "bfd1b93e-c10a-11ef-8d33-02420a64004f",
       "next": "bfd1b9ac-c10a-11ef-8d33-02420a64004f",
       "previous": "bfd1b8d0-c10a-11ef-8d33-02420a64004f"
      }
     ],
     "next": "bfd34664-c10a-11ef-8d33-02420a64004f",
     "previous": "bfd345d8-c10a-11ef-8d33-02420a64004f"
    }
   },
   "outputs": [],
   "source": [
    "# 共有ディレクトリに必要なファイル配置\n",
    "!ansible {target_hub} -CDv -m synchronize \\\n",
    "    -a 'src=template/directories/jupytershare/nbgrader dest={share_directory_root}'\n",
    "!ansible {target_hub} -CDv -m template \\\n",
    "    -a 'src=template/directories/jupytershare/nbgrader/templates/teachers/nbgrader_config.py \\\n",
    "    dest={share_directory_root}/nbgrader/templates/teachers backup=yes'\n",
    "\n",
    "# 各コンテナ用の資材\n",
    "!ansible {target_hub} -CDv -m synchronize \\\n",
    "    -a 'src=template/directories/skelton dest={home_directory_root}'\n",
    "!ansible {target_hub} -CDv -m synchronize \\\n",
    "    -a 'src=template/jupyterhub dest={{{{base_dir}}}}'\n",
    "!ansible {target_hub} -CDv -m synchronize \\\n",
    "    -a 'src=template/jupyterhub/jupyterhub/sudoers dest={{{{share_directory_root}}}} rsync_opts=--chown=root:root,--chmod=600' --become"
   ]
  },
  {
   "cell_type": "markdown",
   "id": "2c9969bd-6f9d-408e-a592-440ead793809",
   "metadata": {
    "hidden": true,
    "lc_cell_meme": {
     "current": "bfd34664-c10a-11ef-8d33-02420a64004f",
     "history": [
      {
       "current": "bfd1b9ac-c10a-11ef-8d33-02420a64004f",
       "next": "bfd1ba10-c10a-11ef-8d33-02420a64004f",
       "previous": "bfd1b93e-c10a-11ef-8d33-02420a64004f"
      }
     ],
     "next": "bfd346aa-c10a-11ef-8d33-02420a64004f",
     "previous": "bfd3461e-c10a-11ef-8d33-02420a64004f"
    }
   },
   "source": [
    "実際にファイルを配置"
   ]
  },
  {
   "cell_type": "code",
   "execution_count": null,
   "id": "d4c5ccc1-669f-42e5-84ee-491f4923e7f4",
   "metadata": {
    "hidden": true,
    "lc_cell_meme": {
     "current": "bfd346aa-c10a-11ef-8d33-02420a64004f",
     "history": [
      {
       "current": "bfd1ba10-c10a-11ef-8d33-02420a64004f",
       "next": "bfd1ba7e-c10a-11ef-8d33-02420a64004f",
       "previous": "bfd1b9ac-c10a-11ef-8d33-02420a64004f"
      }
     ],
     "next": "bfd346f0-c10a-11ef-8d33-02420a64004f",
     "previous": "bfd34664-c10a-11ef-8d33-02420a64004f"
    }
   },
   "outputs": [],
   "source": [
    "# 共有ディレクトリに必要なファイル配置\n",
    "!ansible {target_hub} -Dv -m synchronize \\\n",
    "    -a 'src=template/directories/jupytershare/nbgrader dest={share_directory_root}'\n",
    "!ansible {target_hub} -Dv -m template \\\n",
    "    -a 'src=template/directories/jupytershare/nbgrader/templates/teachers/nbgrader_config.py \\\n",
    "    dest={share_directory_root}/nbgrader/templates/teachers backup=yes'\n",
    "\n",
    "# 各コンテナ用の資材\n",
    "!ansible {target_hub} -Dv -m synchronize \\\n",
    "    -a 'src=template/directories/skelton dest={home_directory_root}'\n",
    "!ansible {target_hub} -Dv -m synchronize \\\n",
    "    -a 'src=template/jupyterhub dest={{{{base_dir}}}}'\n",
    "!ansible {target_hub} -Dv -m synchronize \\\n",
    "    -a 'src=template/jupyterhub/jupyterhub/sudoers dest={{{{share_directory_root}}}} rsync_opts=--chown=root:root,--chmod=600' --become"
   ]
  },
  {
   "cell_type": "markdown",
   "id": "7436a19f-ddd2-47f2-80d2-38462513a121",
   "metadata": {
    "hidden": true,
    "lc_cell_meme": {
     "current": "bfd346f0-c10a-11ef-8d33-02420a64004f",
     "history": [
      {
       "current": "bfd1ba7e-c10a-11ef-8d33-02420a64004f",
       "next": "bfd1baec-c10a-11ef-8d33-02420a64004f",
       "previous": "bfd1ba10-c10a-11ef-8d33-02420a64004f"
      }
     ],
     "next": "bfd3472c-c10a-11ef-8d33-02420a64004f",
     "previous": "bfd346aa-c10a-11ef-8d33-02420a64004f"
    }
   },
   "source": [
    "#### Jupyterhubイメージのビルド"
   ]
  },
  {
   "cell_type": "markdown",
   "id": "d2db74e5-c59d-416b-b6b7-76f5dc9b0b11",
   "metadata": {
    "hidden": true,
    "lc_cell_meme": {
     "current": "bfd3472c-c10a-11ef-8d33-02420a64004f",
     "history": [
      {
       "current": "bfd1baec-c10a-11ef-8d33-02420a64004f",
       "next": "bfd1bb5a-c10a-11ef-8d33-02420a64004f",
       "previous": "bfd1ba7e-c10a-11ef-8d33-02420a64004f"
      }
     ],
     "next": "bfd34772-c10a-11ef-8d33-02420a64004f",
     "previous": "bfd346f0-c10a-11ef-8d33-02420a64004f"
    }
   },
   "source": [
    "実際にビルドする前にdryrun（チェックモード）でAnsibleを実行します。"
   ]
  },
  {
   "cell_type": "code",
   "execution_count": null,
   "id": "661325a6-b368-4d96-b883-995e9f18d228",
   "metadata": {
    "hidden": true,
    "lc_cell_meme": {
     "current": "bfd34772-c10a-11ef-8d33-02420a64004f",
     "history": [
      {
       "current": "bfd1bb5a-c10a-11ef-8d33-02420a64004f",
       "next": "bfd1bbbe-c10a-11ef-8d33-02420a64004f",
       "previous": "bfd1baec-c10a-11ef-8d33-02420a64004f"
      }
     ],
     "next": "bfd347b8-c10a-11ef-8d33-02420a64004f",
     "previous": "bfd3472c-c10a-11ef-8d33-02420a64004f"
    },
    "scrolled": true
   },
   "outputs": [],
   "source": [
    "!ansible-playbook -l {target_hub} -CDv playbooks/setup-jupyterhub.yml || true"
   ]
  },
  {
   "cell_type": "markdown",
   "id": "4f8298c2-dd9d-452a-97a3-0e845d478ad1",
   "metadata": {
    "hidden": true,
    "lc_cell_meme": {
     "current": "bfd347b8-c10a-11ef-8d33-02420a64004f",
     "history": [
      {
       "current": "bfd1bbbe-c10a-11ef-8d33-02420a64004f",
       "next": "bfd1bc2c-c10a-11ef-8d33-02420a64004f",
       "previous": "bfd1bb5a-c10a-11ef-8d33-02420a64004f"
      }
     ],
     "next": "bfd347fe-c10a-11ef-8d33-02420a64004f",
     "previous": "bfd34772-c10a-11ef-8d33-02420a64004f"
    }
   },
   "source": [
    "実際にコンテナイメージのビルドを行います。"
   ]
  },
  {
   "cell_type": "code",
   "execution_count": null,
   "id": "8136bcdf-78d6-44a7-83af-76ddec87fb36",
   "metadata": {
    "hidden": true,
    "lc_cell_meme": {
     "current": "bfd347fe-c10a-11ef-8d33-02420a64004f",
     "history": [
      {
       "current": "bfd1bc2c-c10a-11ef-8d33-02420a64004f",
       "next": "bfd1bc90-c10a-11ef-8d33-02420a64004f",
       "previous": "bfd1bbbe-c10a-11ef-8d33-02420a64004f"
      }
     ],
     "next": "bfd34844-c10a-11ef-8d33-02420a64004f",
     "previous": "bfd347b8-c10a-11ef-8d33-02420a64004f"
    },
    "scrolled": true
   },
   "outputs": [],
   "source": [
    "!ansible-playbook -l {target_hub} playbooks/setup-jupyterhub.yml -e jupyterhub_image={jupyterhub_image}"
   ]
  },
  {
   "cell_type": "markdown",
   "id": "758dcd99-e0ac-4d28-b012-9aec30182242",
   "metadata": {
    "hidden": true,
    "lc_cell_meme": {
     "current": "bfd34844-c10a-11ef-8d33-02420a64004f",
     "history": [
      {
       "current": "bfd1bc90-c10a-11ef-8d33-02420a64004f",
       "next": "bfd1bcfe-c10a-11ef-8d33-02420a64004f",
       "previous": "bfd1bc2c-c10a-11ef-8d33-02420a64004f"
      }
     ],
     "next": "bfd3488a-c10a-11ef-8d33-02420a64004f",
     "previous": "bfd347fe-c10a-11ef-8d33-02420a64004f"
    }
   },
   "source": [
    "JupyterHubのコンテナイメージが存在することを確認します。"
   ]
  },
  {
   "cell_type": "code",
   "execution_count": null,
   "id": "cf36608c-4512-48be-8ffa-ecd981ab2401",
   "metadata": {
    "hidden": true,
    "lc_cell_meme": {
     "current": "bfd3488a-c10a-11ef-8d33-02420a64004f",
     "history": [
      {
       "current": "bfd1bcfe-c10a-11ef-8d33-02420a64004f",
       "next": "bfd1bd6c-c10a-11ef-8d33-02420a64004f",
       "previous": "bfd1bc90-c10a-11ef-8d33-02420a64004f"
      }
     ],
     "next": "bfd348d0-c10a-11ef-8d33-02420a64004f",
     "previous": "bfd34844-c10a-11ef-8d33-02420a64004f"
    }
   },
   "outputs": [],
   "source": [
    "!ansible {target_hub} -a \\\n",
    "    'docker images {{{{jupyterhub_image}}}}'"
   ]
  },
  {
   "cell_type": "markdown",
   "id": "e1e8b7af-eb17-4dd9-8673-561a2cbbb2a7",
   "metadata": {
    "hidden": true,
    "lc_cell_meme": {
     "current": "bfd348d0-c10a-11ef-8d33-02420a64004f",
     "history": [
      {
       "current": "bfd1bd6c-c10a-11ef-8d33-02420a64004f",
       "next": "bfd1bdd0-c10a-11ef-8d33-02420a64004f",
       "previous": "bfd1bcfe-c10a-11ef-8d33-02420a64004f"
      }
     ],
     "next": "bfd34916-c10a-11ef-8d33-02420a64004f",
     "previous": "bfd3488a-c10a-11ef-8d33-02420a64004f"
    }
   },
   "source": [
    "JupyterHubコンテナのために配置したファイルを確認します。"
   ]
  },
  {
   "cell_type": "code",
   "execution_count": null,
   "id": "4e502ac8-b76e-49cd-9cdf-669de948f704",
   "metadata": {
    "hidden": true,
    "lc_cell_meme": {
     "current": "bfd34916-c10a-11ef-8d33-02420a64004f",
     "history": [
      {
       "current": "bfd1bdd0-c10a-11ef-8d33-02420a64004f",
       "next": "bfd1be3e-c10a-11ef-8d33-02420a64004f",
       "previous": "bfd1bd6c-c10a-11ef-8d33-02420a64004f"
      }
     ],
     "next": "bfd3495c-c10a-11ef-8d33-02420a64004f",
     "previous": "bfd348d0-c10a-11ef-8d33-02420a64004f"
    }
   },
   "outputs": [],
   "source": [
    "!ansible {target_hub} -a 'tree {{{{jupyterhub_dir}}}}'"
   ]
  },
  {
   "cell_type": "markdown",
   "id": "4ffda191-368e-4cce-8c80-1d5307634540",
   "metadata": {
    "lc_cell_meme": {
     "current": "bfd3495c-c10a-11ef-8d33-02420a64004f",
     "history": [
      {
       "current": "bfd1be3e-c10a-11ef-8d33-02420a64004f",
       "next": "bfd1beac-c10a-11ef-8d33-02420a64004f",
       "previous": "bfd1bdd0-c10a-11ef-8d33-02420a64004f"
      }
     ],
     "next": "bfd349a2-c10a-11ef-8d33-02420a64004f",
     "previous": "bfd34916-c10a-11ef-8d33-02420a64004f"
    }
   },
   "source": [
    "### single-user Jupyter Notebook server\n",
    "\n",
    "各ユーザ用に起動するDockerコンテナのイメージを各ノードに用意します。"
   ]
  },
  {
   "cell_type": "markdown",
   "id": "31a905d3-e408-45d6-b1e7-e4ba62fc1928",
   "metadata": {
    "heading_collapsed": true,
    "lc_cell_meme": {
     "current": "bfd349a2-c10a-11ef-8d33-02420a64004f",
     "history": [
      {
       "current": "bfd1beac-c10a-11ef-8d33-02420a64004f",
       "next": "bfd1bf1a-c10a-11ef-8d33-02420a64004f",
       "previous": "bfd1be3e-c10a-11ef-8d33-02420a64004f"
      }
     ],
     "next": "bfd349e8-c10a-11ef-8d33-02420a64004f",
     "previous": "bfd3495c-c10a-11ef-8d33-02420a64004f"
    }
   },
   "source": [
    "#### イメージのビルド\n",
    "\n",
    "`template/notebook` にsingle-user Jupyter Notebook serverコンテナイメージをビルドするためのファイルを格納しています。\n",
    "\n",
    "オリジナルのイメージを作成する場合は、`template/notebook`の内容を置き換えて以降のセルを実行してください。"
   ]
  },
  {
   "cell_type": "markdown",
   "id": "eaa84a48-20dc-4983-9ccb-9a37d5ecb4b1",
   "metadata": {
    "hidden": true,
    "lc_cell_meme": {
     "current": "bfd349e8-c10a-11ef-8d33-02420a64004f",
     "history": [
      {
       "current": "bfd1bf1a-c10a-11ef-8d33-02420a64004f",
       "next": "bfd1bf7e-c10a-11ef-8d33-02420a64004f",
       "previous": "bfd1beac-c10a-11ef-8d33-02420a64004f"
      }
     ],
     "next": "bfd34a24-c10a-11ef-8d33-02420a64004f",
     "previous": "bfd349a2-c10a-11ef-8d33-02420a64004f"
    }
   },
   "source": [
    "まず、イメージのビルドに必要なファイルを格納するためのディレクトリを作成します。"
   ]
  },
  {
   "cell_type": "code",
   "execution_count": null,
   "id": "85d9b72b-7582-4cef-af75-6de1ff1a82b4",
   "metadata": {
    "hidden": true,
    "lc_cell_meme": {
     "current": "bfd34a24-c10a-11ef-8d33-02420a64004f",
     "history": [
      {
       "current": "bfd1bf7e-c10a-11ef-8d33-02420a64004f",
       "next": "bfd1bfec-c10a-11ef-8d33-02420a64004f",
       "previous": "bfd1bf1a-c10a-11ef-8d33-02420a64004f"
      }
     ],
     "next": "bfd34a6a-c10a-11ef-8d33-02420a64004f",
     "previous": "bfd349e8-c10a-11ef-8d33-02420a64004f"
    }
   },
   "outputs": [],
   "source": [
    "!ansible {ugroup_name} -b -m file -a \\\n",
    "    'path={{{{notebook_dir}}}}/image state=directory owner={{{{ansible_user}}}}'"
   ]
  },
  {
   "cell_type": "markdown",
   "id": "d742c6e2-30b6-4914-a23b-d5fd3e0bb506",
   "metadata": {
    "hidden": true,
    "lc_cell_meme": {
     "current": "bfd34a6a-c10a-11ef-8d33-02420a64004f",
     "history": [
      {
       "current": "bfd1bfec-c10a-11ef-8d33-02420a64004f",
       "next": "bfd1c05a-c10a-11ef-8d33-02420a64004f",
       "previous": "bfd1bf7e-c10a-11ef-8d33-02420a64004f"
      }
     ],
     "next": "bfd34ab0-c10a-11ef-8d33-02420a64004f",
     "previous": "bfd34a24-c10a-11ef-8d33-02420a64004f"
    }
   },
   "source": [
    "single-user Jupyter Notebook serverコンテナイメージビルドに必要なファイルを配置します。\n",
    "\n",
    "実際に配置する前に、チェックモードでファイルの不足等が無いか確認します。"
   ]
  },
  {
   "cell_type": "code",
   "execution_count": null,
   "id": "0281250c-a790-4b43-8d7c-3db2861adb25",
   "metadata": {
    "hidden": true,
    "lc_cell_meme": {
     "current": "bfd34ab0-c10a-11ef-8d33-02420a64004f",
     "history": [
      {
       "current": "bfd1c05a-c10a-11ef-8d33-02420a64004f",
       "next": "bfd1c0be-c10a-11ef-8d33-02420a64004f",
       "previous": "bfd1bfec-c10a-11ef-8d33-02420a64004f"
      }
     ],
     "next": "bfd34af6-c10a-11ef-8d33-02420a64004f",
     "previous": "bfd34a6a-c10a-11ef-8d33-02420a64004f"
    },
    "scrolled": true
   },
   "outputs": [],
   "source": [
    "!ansible {ugroup_name} -CDv -m synchronize \\\n",
    "    -a 'src=template/notebook/image/{{{{singleuser_image_tag}}}} dest={{{{notebook_dir}}}}/image'\n",
    "!ansible {ugroup_name} -CDv -m template \\\n",
    "    -a 'src=template/notebook/image/{{{{singleuser_image_tag}}}}/ldap.conf dest={{{{notebook_dir}}}}/notebook/image/ backup=yes'\n",
    "!ansible {ugroup_name} -CDv -m template \\\n",
    "    -a 'src=template/notebook/image/{{{{singleuser_image_tag}}}}/nbgrader_config.py dest={{{{notebook_dir}}}}/notebook/image/ backup=yes'"
   ]
  },
  {
   "cell_type": "markdown",
   "id": "c0852261-e38f-4d39-804f-f1c96a4b4b5e",
   "metadata": {
    "hidden": true,
    "lc_cell_meme": {
     "current": "bfd34af6-c10a-11ef-8d33-02420a64004f",
     "history": [
      {
       "current": "bfd1c0be-c10a-11ef-8d33-02420a64004f",
       "next": "bfd1c12c-c10a-11ef-8d33-02420a64004f",
       "previous": "bfd1c05a-c10a-11ef-8d33-02420a64004f"
      }
     ],
     "next": "bfd34b3c-c10a-11ef-8d33-02420a64004f",
     "previous": "bfd34ab0-c10a-11ef-8d33-02420a64004f"
    }
   },
   "source": [
    "ファイルを実際に配置します。"
   ]
  },
  {
   "cell_type": "code",
   "execution_count": null,
   "id": "b3bf9ab8-f987-4a60-a904-900380fd43c6",
   "metadata": {
    "hidden": true,
    "lc_cell_meme": {
     "current": "bfd34b3c-c10a-11ef-8d33-02420a64004f",
     "history": [
      {
       "current": "bfd1c12c-c10a-11ef-8d33-02420a64004f",
       "next": "bfd1c19a-c10a-11ef-8d33-02420a64004f",
       "previous": "bfd1c0be-c10a-11ef-8d33-02420a64004f"
      }
     ],
     "next": "bfd34b82-c10a-11ef-8d33-02420a64004f",
     "previous": "bfd34af6-c10a-11ef-8d33-02420a64004f"
    },
    "scrolled": true
   },
   "outputs": [],
   "source": [
    "!ansible {ugroup_name} -Dv -m synchronize \\\n",
    "    -a 'src=template/notebook/image/{{{{singleuser_image_tag}}}} dest={{{{notebook_dir}}}}/image'\n",
    "!ansible {ugroup_name} -Dv -m template \\\n",
    "    -a 'src=template/notebook/image/{{{{singleuser_image_tag}}}}/ldap.conf dest={{{{notebook_dir}}}}/notebook/image/ backup=yes'\n",
    "!ansible {ugroup_name} -Dv -m template \\\n",
    "    -a 'src=template/notebook/image/{{{{singleuser_image_tag}}}}/nbgrader_config.py dest={{{{notebook_dir}}}}/notebook/image/ backup=yes'"
   ]
  },
  {
   "cell_type": "markdown",
   "id": "7a7b5e7b-01a5-4e3d-b8e9-5eceb0205a17",
   "metadata": {
    "hidden": true,
    "lc_cell_meme": {
     "current": "bfd34b82-c10a-11ef-8d33-02420a64004f",
     "history": [
      {
       "current": "bfd1c19a-c10a-11ef-8d33-02420a64004f",
       "next": "bfd1c1fe-c10a-11ef-8d33-02420a64004f",
       "previous": "bfd1c12c-c10a-11ef-8d33-02420a64004f"
      }
     ],
     "next": "bfd34bc8-c10a-11ef-8d33-02420a64004f",
     "previous": "bfd34b3c-c10a-11ef-8d33-02420a64004f"
    }
   },
   "source": [
    "配置したファイルを用いて、single-user Jupyter Notebook serverコンテナイメージのビルドを行います。\n",
    "\n",
    "ビルド前に、チェックモードで確認します。"
   ]
  },
  {
   "cell_type": "code",
   "execution_count": null,
   "id": "93900aa7-f4fe-42d4-aca1-4605304e824e",
   "metadata": {
    "hidden": true,
    "lc_cell_meme": {
     "current": "bfd34bc8-c10a-11ef-8d33-02420a64004f",
     "history": [
      {
       "current": "bfd1c1fe-c10a-11ef-8d33-02420a64004f",
       "next": "bfd1c26c-c10a-11ef-8d33-02420a64004f",
       "previous": "bfd1c19a-c10a-11ef-8d33-02420a64004f"
      }
     ],
     "next": "bfd34c0e-c10a-11ef-8d33-02420a64004f",
     "previous": "bfd34b82-c10a-11ef-8d33-02420a64004f"
    },
    "scrolled": true
   },
   "outputs": [],
   "source": [
    "!ansible-playbook -l {ugroup_name} -CDv playbooks/setup-jupyter-notebook.yml || true"
   ]
  },
  {
   "cell_type": "markdown",
   "id": "f1a9d0de-700c-4f9c-b313-97aa1a7083f1",
   "metadata": {
    "hidden": true,
    "lc_cell_meme": {
     "current": "bfd34c0e-c10a-11ef-8d33-02420a64004f",
     "history": [
      {
       "current": "bfd1c26c-c10a-11ef-8d33-02420a64004f",
       "next": "bfd1c2da-c10a-11ef-8d33-02420a64004f",
       "previous": "bfd1c1fe-c10a-11ef-8d33-02420a64004f"
      }
     ],
     "next": "bfd34c5e-c10a-11ef-8d33-02420a64004f",
     "previous": "bfd34bc8-c10a-11ef-8d33-02420a64004f"
    }
   },
   "source": [
    "実際にビルドを行います。"
   ]
  },
  {
   "cell_type": "code",
   "execution_count": null,
   "id": "ead4d0b2-2c27-41e5-9791-5db844c8b957",
   "metadata": {
    "hidden": true,
    "lc_cell_meme": {
     "current": "bfd34c5e-c10a-11ef-8d33-02420a64004f",
     "history": [
      {
       "current": "bfd1c2da-c10a-11ef-8d33-02420a64004f",
       "next": "bfd1c33e-c10a-11ef-8d33-02420a64004f",
       "previous": "bfd1c26c-c10a-11ef-8d33-02420a64004f"
      }
     ],
     "next": "bfd34ca4-c10a-11ef-8d33-02420a64004f",
     "previous": "bfd34c0e-c10a-11ef-8d33-02420a64004f"
    },
    "scrolled": true
   },
   "outputs": [],
   "source": [
    "!ansible-playbook -l {ugroup_name} playbooks/setup-jupyter-notebook.yml"
   ]
  },
  {
   "cell_type": "markdown",
   "id": "a72e0d02-144f-4105-9ac6-37d35795799a",
   "metadata": {
    "hidden": true,
    "lc_cell_meme": {
     "current": "bfd34ca4-c10a-11ef-8d33-02420a64004f",
     "history": [
      {
       "current": "bfd1c33e-c10a-11ef-8d33-02420a64004f",
       "next": "bfd1c3ac-c10a-11ef-8d33-02420a64004f",
       "previous": "bfd1c2da-c10a-11ef-8d33-02420a64004f"
      }
     ],
     "next": "bfd34cea-c10a-11ef-8d33-02420a64004f",
     "previous": "bfd34c5e-c10a-11ef-8d33-02420a64004f"
    }
   },
   "source": [
    "各VCノードのコンテナイメージ一覧を確認します。\n",
    "\n",
    "single-user Jupyter Notebook serverコンテナイメージが存在することを確認します。"
   ]
  },
  {
   "cell_type": "code",
   "execution_count": null,
   "id": "a1f45a9a-2d77-49a2-9b2f-2d078b167b0a",
   "metadata": {
    "hidden": true,
    "lc_cell_meme": {
     "current": "bfd34cea-c10a-11ef-8d33-02420a64004f",
     "history": [
      {
       "current": "bfd1c3ac-c10a-11ef-8d33-02420a64004f",
       "next": "bfd1c41a-c10a-11ef-8d33-02420a64004f",
       "previous": "bfd1c33e-c10a-11ef-8d33-02420a64004f"
      }
     ],
     "next": "bfd34d26-c10a-11ef-8d33-02420a64004f",
     "previous": "bfd34ca4-c10a-11ef-8d33-02420a64004f"
    },
    "pinned_outputs": []
   },
   "outputs": [],
   "source": [
    "print(f'指定したイメージ名:{singleuser_image}')\n",
    "\n",
    "!ansible {ugroup_name} -m shell -a 'docker images | \\\n",
    "    grep -e \"{{{{singleuser_image}}}}\"'"
   ]
  },
  {
   "cell_type": "markdown",
   "id": "1f215f3b-c7a6-44fe-9313-91352674a6de",
   "metadata": {
    "heading_collapsed": true,
    "lc_cell_meme": {
     "current": "bfd34d26-c10a-11ef-8d33-02420a64004f",
     "history": [
      {
       "current": "bfd1c41a-c10a-11ef-8d33-02420a64004f",
       "next": "bfd1c488-c10a-11ef-8d33-02420a64004f",
       "previous": "bfd1c3ac-c10a-11ef-8d33-02420a64004f"
      }
     ],
     "next": "bfd34d6c-c10a-11ef-8d33-02420a64004f",
     "previous": "bfd34cea-c10a-11ef-8d33-02420a64004f"
    }
   },
   "source": [
    "## コンテナの起動"
   ]
  },
  {
   "cell_type": "markdown",
   "id": "38d5b54f-38b3-4932-af5c-1be3f7f7e037",
   "metadata": {
    "heading_collapsed": true,
    "hidden": true,
    "lc_cell_meme": {
     "current": "bfd34d6c-c10a-11ef-8d33-02420a64004f",
     "history": [
      {
       "current": "bfd1c488-c10a-11ef-8d33-02420a64004f",
       "next": "bfd1c4ec-c10a-11ef-8d33-02420a64004f",
       "previous": "bfd1c41a-c10a-11ef-8d33-02420a64004f"
      }
     ],
     "next": "bfd34db2-c10a-11ef-8d33-02420a64004f",
     "previous": "bfd34d26-c10a-11ef-8d33-02420a64004f"
    }
   },
   "source": [
    "### docker-compose.yml の配置"
   ]
  },
  {
   "cell_type": "markdown",
   "id": "2414df3f-7de1-467e-8348-42e04577646b",
   "metadata": {
    "hidden": true,
    "lc_cell_meme": {
     "current": "bfd34db2-c10a-11ef-8d33-02420a64004f",
     "history": [
      {
       "current": "bfd1c4ec-c10a-11ef-8d33-02420a64004f",
       "next": "bfd1c55a-c10a-11ef-8d33-02420a64004f",
       "previous": "bfd1c488-c10a-11ef-8d33-02420a64004f"
      }
     ],
     "next": "bfd34df8-c10a-11ef-8d33-02420a64004f",
     "previous": "bfd34d6c-c10a-11ef-8d33-02420a64004f"
    }
   },
   "source": [
    "複数のコンテナに関する設定をまとめて扱うために `docker-compose.yml` を利用します。\n",
    "\n",
    "ここまでに指定されたパラメータに応じた`docker-compose.yml`, `default.conf`を生成し、構築環境に配置します。"
   ]
  },
  {
   "cell_type": "markdown",
   "id": "d4ac1014-d920-4b53-bcaa-d64f83901016",
   "metadata": {
    "hidden": true,
    "lc_cell_meme": {
     "current": "bfd34df8-c10a-11ef-8d33-02420a64004f",
     "history": [
      {
       "current": "bfd1c55a-c10a-11ef-8d33-02420a64004f",
       "next": "bfd1c5c8-c10a-11ef-8d33-02420a64004f",
       "previous": "bfd1c4ec-c10a-11ef-8d33-02420a64004f"
      }
     ],
     "next": "bfd34e3e-c10a-11ef-8d33-02420a64004f",
     "previous": "bfd34db2-c10a-11ef-8d33-02420a64004f"
    }
   },
   "source": [
    "まずは、チェックモードで確認を行います。"
   ]
  },
  {
   "cell_type": "code",
   "execution_count": null,
   "id": "2ee3f525-6df1-422c-862b-51b97ca6faae",
   "metadata": {
    "hidden": true,
    "lc_cell_meme": {
     "current": "bfd34e3e-c10a-11ef-8d33-02420a64004f",
     "history": [
      {
       "current": "bfd1c5c8-c10a-11ef-8d33-02420a64004f",
       "next": "bfd1c62c-c10a-11ef-8d33-02420a64004f",
       "previous": "bfd1c55a-c10a-11ef-8d33-02420a64004f"
      }
     ],
     "next": "bfd34e84-c10a-11ef-8d33-02420a64004f",
     "previous": "bfd34df8-c10a-11ef-8d33-02420a64004f"
    },
    "scrolled": true
   },
   "outputs": [],
   "source": [
    "!ansible {target_hub} -CDv -m template \\\n",
    "    -a 'src=template/jupyterhub/docker-compose.yml dest={{{{base_dir}}}}/jupyterhub backup=yes'\n",
    "!ansible {target_hub} -CDv -m template \\\n",
    "    -a 'src=template/jupyterhub/nginx/default.conf dest={{{{base_dir}}}}/jupyterhub/nginx backup=yes'\n",
    "!ansible {target_hub} -CDv -m synchronize \\\n",
    "    -a 'src=edit/lms_web_service.py dest={{{{jupyterhub_dir}}}}/jupyterhub'\n",
    "!ansible {target_hub} -CDv -m synchronize \\\n",
    "    -a 'src=edit/jupyterhub_config.py dest={{{{jupyterhub_dir}}}}/jupyterhub'\n",
    "!ansible {target_hub} -CDv -m synchronize \\\n",
    "    -a 'src=edit/jupyterhub_params.yaml dest={{{{jupyterhub_dir}}}}/jupyterhub'"
   ]
  },
  {
   "cell_type": "markdown",
   "id": "58da8ad4-09ef-4bb4-9a8e-41877d15c730",
   "metadata": {
    "hidden": true,
    "lc_cell_meme": {
     "current": "bfd34e84-c10a-11ef-8d33-02420a64004f",
     "history": [
      {
       "current": "bfd1c62c-c10a-11ef-8d33-02420a64004f",
       "next": "bfd1c69a-c10a-11ef-8d33-02420a64004f",
       "previous": "bfd1c5c8-c10a-11ef-8d33-02420a64004f"
      }
     ],
     "next": "bfd34eca-c10a-11ef-8d33-02420a64004f",
     "previous": "bfd34e3e-c10a-11ef-8d33-02420a64004f"
    }
   },
   "source": [
    "実際に各ファイルの配置を行います。"
   ]
  },
  {
   "cell_type": "code",
   "execution_count": null,
   "id": "94d593aa-353a-468f-b363-0ec1779e5dbf",
   "metadata": {
    "hidden": true,
    "lc_cell_meme": {
     "current": "bfd34eca-c10a-11ef-8d33-02420a64004f",
     "history": [
      {
       "current": "bfd1c69a-c10a-11ef-8d33-02420a64004f",
       "next": "bfd1c708-c10a-11ef-8d33-02420a64004f",
       "previous": "bfd1c62c-c10a-11ef-8d33-02420a64004f"
      }
     ],
     "next": "bfd34f10-c10a-11ef-8d33-02420a64004f",
     "previous": "bfd34e84-c10a-11ef-8d33-02420a64004f"
    },
    "scrolled": true
   },
   "outputs": [],
   "source": [
    "!ansible {target_hub} -Dv -m template \\\n",
    "    -a 'src=template/jupyterhub/docker-compose.yml dest={{{{base_dir}}}}/jupyterhub backup=yes'\n",
    "!ansible {target_hub} -Dv -m template \\\n",
    "    -a 'src=template/jupyterhub/nginx/default.conf dest={{{{base_dir}}}}/jupyterhub/nginx backup=yes'\n",
    "!ansible {target_hub} -Dv -m synchronize \\\n",
    "    -a 'src=edit/lms_web_service.py dest={{{{jupyterhub_dir}}}}/jupyterhub'\n",
    "!ansible {target_hub} -Dv -m synchronize \\\n",
    "    -a 'src=edit/jupyterhub_config.py dest={{{{jupyterhub_dir}}}}/jupyterhub'\n",
    "!ansible {target_hub} -Dv -m synchronize \\\n",
    "    -a 'src=edit/jupyterhub_params.yaml dest={{{{jupyterhub_dir}}}}/jupyterhub'"
   ]
  },
  {
   "cell_type": "markdown",
   "id": "6d49bae0-c87c-454d-a62f-fe1715fb6f0c",
   "metadata": {
    "hidden": true,
    "lc_cell_meme": {
     "current": "bfd34f10-c10a-11ef-8d33-02420a64004f",
     "history": [
      {
       "current": "bfd1c708-c10a-11ef-8d33-02420a64004f",
       "next": "bfd1c76c-c10a-11ef-8d33-02420a64004f",
       "previous": "bfd1c69a-c10a-11ef-8d33-02420a64004f"
      }
     ],
     "next": "bfd34f56-c10a-11ef-8d33-02420a64004f",
     "previous": "bfd34eca-c10a-11ef-8d33-02420a64004f"
    }
   },
   "source": [
    "### コンテナの起動\n",
    "\n",
    "コンテナを起動します。"
   ]
  },
  {
   "cell_type": "code",
   "execution_count": null,
   "id": "e16cfe4d-6d1c-4153-a5f5-323fce8994df",
   "metadata": {
    "hidden": true,
    "lc_cell_meme": {
     "current": "bfd34f56-c10a-11ef-8d33-02420a64004f",
     "history": [
      {
       "current": "bfd1c76c-c10a-11ef-8d33-02420a64004f",
       "next": "bfd1c7da-c10a-11ef-8d33-02420a64004f",
       "previous": "bfd1c708-c10a-11ef-8d33-02420a64004f"
      }
     ],
     "next": "bfd34f9c-c10a-11ef-8d33-02420a64004f",
     "previous": "bfd34f10-c10a-11ef-8d33-02420a64004f"
    }
   },
   "outputs": [],
   "source": [
    "!ansible {target_hub} -a 'chdir={{{{base_dir}}}}/jupyterhub \\\n",
    "    docker stack deploy -c docker-compose.yml {{{{ugroup_name}}}}'"
   ]
  },
  {
   "cell_type": "markdown",
   "id": "9ac53b9e-0b02-43e7-97f1-7d20e846d837",
   "metadata": {
    "hidden": true,
    "lc_cell_meme": {
     "current": "bfd34f9c-c10a-11ef-8d33-02420a64004f",
     "history": [
      {
       "current": "bfd1c7da-c10a-11ef-8d33-02420a64004f",
       "next": "bfd1c848-c10a-11ef-8d33-02420a64004f",
       "previous": "bfd1c76c-c10a-11ef-8d33-02420a64004f"
      }
     ],
     "next": "bfd34fe2-c10a-11ef-8d33-02420a64004f",
     "previous": "bfd34f56-c10a-11ef-8d33-02420a64004f"
    }
   },
   "source": [
    "コンテナの起動状態を確認します。"
   ]
  },
  {
   "cell_type": "code",
   "execution_count": null,
   "id": "30a3a952-d34e-4e7e-bafc-24a84561cc8f",
   "metadata": {
    "hidden": true,
    "lc_cell_meme": {
     "current": "bfd34fe2-c10a-11ef-8d33-02420a64004f",
     "history": [
      {
       "current": "bfd1c848-c10a-11ef-8d33-02420a64004f",
       "next": "bfd1c8ac-c10a-11ef-8d33-02420a64004f",
       "previous": "bfd1c7da-c10a-11ef-8d33-02420a64004f"
      }
     ],
     "next": "bfd3501e-c10a-11ef-8d33-02420a64004f",
     "previous": "bfd34f9c-c10a-11ef-8d33-02420a64004f"
    }
   },
   "outputs": [],
   "source": [
    "!ansible {target_hub} -a 'docker stack ps {{{{ugroup_name}}}}'"
   ]
  },
  {
   "cell_type": "markdown",
   "id": "b5f5cdaf-bab2-46c7-b6dc-bb950e76e6f7",
   "metadata": {
    "hidden": true,
    "lc_cell_meme": {
     "current": "bfd3501e-c10a-11ef-8d33-02420a64004f",
     "history": [
      {
       "current": "bfd1c8ac-c10a-11ef-8d33-02420a64004f",
       "next": "bfd1c91a-c10a-11ef-8d33-02420a64004f",
       "previous": "bfd1c848-c10a-11ef-8d33-02420a64004f"
      }
     ],
     "next": "bfd35064-c10a-11ef-8d33-02420a64004f",
     "previous": "bfd34fe2-c10a-11ef-8d33-02420a64004f"
    }
   },
   "source": [
    "Masterノードにて、jupyterhubのヘルスチェック用URLに向けて、curlコマンドを実行してみます。    \n",
    "起動に時間がかかる場合があるため、指定回数を上限とし、成功するまでリトライします。  \n",
    "ステータスコード`200`が返ると、このセルは正常終了します。  \n",
    "\n",
    "※managerノード（のVM）へのアクセス制限を行っている場合、この構築環境からはアクセスできない場合があります。その場合は、許可されたアクセス元から、https://{jupyterhub_fqdn}/hub/healthにGETリクエストを行うか、https://{jupyterhub_fqdn}/にブラウザでアクセスし、画面が表示されれば問題ありません。\n",
    "このようなアクセス制限を行う場合は、Jupyterhubに設定しているグローバルIPアドレスからMoodleへのアクセスを許可する必要があります。"
   ]
  },
  {
   "cell_type": "code",
   "execution_count": null,
   "id": "165ebe45-df49-44a3-a218-f09f25a515e3",
   "metadata": {
    "hidden": true,
    "lc_cell_meme": {
     "current": "bfd35064-c10a-11ef-8d33-02420a64004f",
     "history": [
      {
       "current": "bfd1c91a-c10a-11ef-8d33-02420a64004f",
       "next": "bfd1c988-c10a-11ef-8d33-02420a64004f",
       "previous": "bfd1c8ac-c10a-11ef-8d33-02420a64004f"
      }
     ],
     "next": "bfd350aa-c10a-11ef-8d33-02420a64004f",
     "previous": "bfd3501e-c10a-11ef-8d33-02420a64004f"
    }
   },
   "outputs": [],
   "source": [
    "import time\n",
    "\n",
    "# 規定回数\n",
    "retry_max = 10\n",
    "err = None\n",
    "status_ok = \"200\"\n",
    "\n",
    "for retry in range(retry_max):\n",
    "    status = !ansible {target_hub} -m shell -a \"curl http://localhost:8000/hub/health -o /dev/null -w '%{{http_code}}\\n' -s\"\n",
    "    if status_ok == status[1]:\n",
    "        break\n",
    "\n",
    "    print(f\"Status is not {status_ok}: {status[1]}\")\n",
    "    time.sleep(10)\n",
    "else:\n",
    "    raise Exception"
   ]
  },
  {
   "cell_type": "markdown",
   "id": "12809b58-648b-4129-b1f8-7e94e8f6c567",
   "metadata": {
    "hidden": true,
    "lc_cell_meme": {
     "current": "bfd350aa-c10a-11ef-8d33-02420a64004f",
     "history": [
      {
       "current": "bfd1c988-c10a-11ef-8d33-02420a64004f",
       "next": "bfd1c9ec-c10a-11ef-8d33-02420a64004f",
       "previous": "bfd1c91a-c10a-11ef-8d33-02420a64004f"
      }
     ],
     "next": "bfd350f0-c10a-11ef-8d33-02420a64004f",
     "previous": "bfd35064-c10a-11ef-8d33-02420a64004f"
    }
   },
   "source": [
    "`MariaDB` コンテナのログを表示してみます。"
   ]
  },
  {
   "cell_type": "code",
   "execution_count": null,
   "id": "5584ffd4-0855-4e8b-9800-80032957d463",
   "metadata": {
    "hidden": true,
    "lc_cell_meme": {
     "current": "bfd350f0-c10a-11ef-8d33-02420a64004f",
     "history": [
      {
       "current": "bfd1c9ec-c10a-11ef-8d33-02420a64004f",
       "next": "bfd1ca5a-c10a-11ef-8d33-02420a64004f",
       "previous": "bfd1c988-c10a-11ef-8d33-02420a64004f"
      }
     ],
     "next": "bfd35136-c10a-11ef-8d33-02420a64004f",
     "previous": "bfd350aa-c10a-11ef-8d33-02420a64004f"
    },
    "scrolled": true
   },
   "outputs": [],
   "source": [
    "!ansible {target_hub} -a 'docker service logs {{{{ugroup_name}}}}_mariadb'"
   ]
  },
  {
   "cell_type": "markdown",
   "id": "46dd9dfe-de77-4d19-b188-d25e1d684618",
   "metadata": {
    "hidden": true,
    "lc_cell_meme": {
     "current": "bfd35136-c10a-11ef-8d33-02420a64004f",
     "history": [
      {
       "current": "bfd1ca5a-c10a-11ef-8d33-02420a64004f",
       "next": "bfd1cac8-c10a-11ef-8d33-02420a64004f",
       "previous": "bfd1c9ec-c10a-11ef-8d33-02420a64004f"
      }
     ],
     "next": "bfd3517c-c10a-11ef-8d33-02420a64004f",
     "previous": "bfd350f0-c10a-11ef-8d33-02420a64004f"
    }
   },
   "source": [
    "`jupyterhub` コンテナのログを表示してみます。\n",
    "\n",
    "> DBに接続できないなどのエラーが表示されていないことを確認してください。"
   ]
  },
  {
   "cell_type": "code",
   "execution_count": null,
   "id": "531f6233-9082-4493-8201-68299b9d13b0",
   "metadata": {
    "hidden": true,
    "lc_cell_meme": {
     "current": "bfd3517c-c10a-11ef-8d33-02420a64004f",
     "history": [
      {
       "current": "bfd1cac8-c10a-11ef-8d33-02420a64004f",
       "next": "bfd1cb2c-c10a-11ef-8d33-02420a64004f",
       "previous": "bfd1ca5a-c10a-11ef-8d33-02420a64004f"
      }
     ],
     "next": "bfd351c2-c10a-11ef-8d33-02420a64004f",
     "previous": "bfd35136-c10a-11ef-8d33-02420a64004f"
    },
    "scrolled": true
   },
   "outputs": [],
   "source": [
    "!ansible {target_hub} -a 'docker service logs {{{{ugroup_name}}}}_jupyterhub'"
   ]
  },
  {
   "cell_type": "markdown",
   "id": "2f2b6cbe-47fe-4196-b919-2062c4d617b8",
   "metadata": {
    "hidden": true,
    "lc_cell_meme": {
     "current": "bfd351c2-c10a-11ef-8d33-02420a64004f",
     "history": [
      {
       "current": "bfd1cb2c-c10a-11ef-8d33-02420a64004f",
       "next": "bfd1cb9a-c10a-11ef-8d33-02420a64004f",
       "previous": "bfd1cac8-c10a-11ef-8d33-02420a64004f"
      }
     ],
     "next": "bfd35208-c10a-11ef-8d33-02420a64004f",
     "previous": "bfd3517c-c10a-11ef-8d33-02420a64004f"
    }
   },
   "source": [
    "`Nginx` コンテナのログを表示してみます。\n",
    "\n",
    "> 証明書設定に誤りがあるなどのエラーが表示されていないことを確認してください。"
   ]
  },
  {
   "cell_type": "code",
   "execution_count": null,
   "id": "6638143c-b11b-4387-a4a5-44c5b1adf68b",
   "metadata": {
    "hidden": true,
    "lc_cell_meme": {
     "current": "bfd35208-c10a-11ef-8d33-02420a64004f",
     "history": [
      {
       "current": "bfd1cb9a-c10a-11ef-8d33-02420a64004f",
       "next": "bfd1cc08-c10a-11ef-8d33-02420a64004f",
       "previous": "bfd1cb2c-c10a-11ef-8d33-02420a64004f"
      }
     ],
     "next": "bfd3524e-c10a-11ef-8d33-02420a64004f",
     "previous": "bfd351c2-c10a-11ef-8d33-02420a64004f"
    },
    "scrolled": true
   },
   "outputs": [],
   "source": [
    "!ansible {target_hub} -a 'docker service logs {{{{ugroup_name}}}}_proxy'"
   ]
  },
  {
   "cell_type": "markdown",
   "id": "e316f139-16f6-41dd-8c7d-1bc1f4c54b5d",
   "metadata": {
    "lc_cell_meme": {
     "current": "bfd3524e-c10a-11ef-8d33-02420a64004f",
     "history": [
      {
       "current": "bfd1cc08-c10a-11ef-8d33-02420a64004f",
       "next": "bfd1cc76-c10a-11ef-8d33-02420a64004f",
       "previous": "bfd1cb9a-c10a-11ef-8d33-02420a64004f"
      }
     ],
     "next": "bfd35294-c10a-11ef-8d33-02420a64004f",
     "previous": "bfd35208-c10a-11ef-8d33-02420a64004f"
    }
   },
   "source": [
    "## LMS設定"
   ]
  },
  {
   "cell_type": "markdown",
   "id": "107a484f-3f36-4e65-8e30-2cd17ec7322a",
   "metadata": {
    "lc_cell_meme": {
     "current": "bfd35294-c10a-11ef-8d33-02420a64004f",
     "history": [
      {
       "current": "bfd1cc76-c10a-11ef-8d33-02420a64004f",
       "next": "bfd1ccda-c10a-11ef-8d33-02420a64004f",
       "previous": "bfd1cc08-c10a-11ef-8d33-02420a64004f"
      }
     ],
     "next": "bfd3532a-c10a-11ef-8d33-02420a64004f",
     "previous": "bfd3524e-c10a-11ef-8d33-02420a64004f"
    }
   },
   "source": [
    "LTI認証連携で受講生情報を取得するために必要な公開鍵情報を表示します。  \n",
    "NRPS（Names and Role Provisioning Services）を利用できる場合、表示された公開鍵情報を、事前に設定したMoodleの外部ツール設定にて、RSA鍵の欄にコピー＆ペーストしてください。  \n",
    "設定例について、「021-Moodleの外部ツール設定例（lti1.3&JupyterHub）」ノートブックの「NRPS利用の場合の設定」の章に図解があります。"
   ]
  },
  {
   "cell_type": "code",
   "execution_count": null,
   "id": "f000782d-8264-4c68-9734-43e323236be4",
   "metadata": {
    "lc_cell_meme": {
     "current": "bfd3532a-c10a-11ef-8d33-02420a64004f",
     "history": [
      {
       "current": "bfd1ccda-c10a-11ef-8d33-02420a64004f",
       "next": null,
       "previous": "bfd1cc76-c10a-11ef-8d33-02420a64004f"
      }
     ],
     "next": null,
     "previous": "bfd35294-c10a-11ef-8d33-02420a64004f"
    }
   },
   "outputs": [],
   "source": [
    "if not 'get_course_member_method' in globals() or not get_course_member_method == 'moodle_api':\n",
    "    !ansible {target_hub} -a \\\n",
    "        'cat  {{{{jupyterhub_dir}}}}/jupyterhub/public_key_nrps.pem'"
   ]
  }
 ],
 "metadata": {
  "kernelspec": {
   "display_name": "Python 3",
   "language": "python",
   "name": "python3"
  },
  "language_info": {
   "file_extension": ".py",
   "mimetype": "text/x-python",
   "name": "python",
   "nbconvert_exporter": "python",
   "pygments_lexer": "ipython3",
   "version": "3.10.11"
  },
  "lc_notebook_meme": {
   "current": "bfd334b2-c10a-11ef-8d33-02420a64004f",
   "history": [
    "bfd19d78-c10a-11ef-8d33-02420a64004f"
   ],
   "root_cells": [
    "bfd3357a-c10a-11ef-8d33-02420a64004f",
    "bfd335d4-c10a-11ef-8d33-02420a64004f",
    "bfd33624-c10a-11ef-8d33-02420a64004f",
    "bfd3366a-c10a-11ef-8d33-02420a64004f",
    "bfd336b0-c10a-11ef-8d33-02420a64004f",
    "bfd336ec-c10a-11ef-8d33-02420a64004f",
    "bfd33732-c10a-11ef-8d33-02420a64004f",
    "bfd33778-c10a-11ef-8d33-02420a64004f",
    "bfd337be-c10a-11ef-8d33-02420a64004f",
    "bfd33804-c10a-11ef-8d33-02420a64004f",
    "bfd3384a-c10a-11ef-8d33-02420a64004f",
    "bfd33890-c10a-11ef-8d33-02420a64004f",
    "bfd338d6-c10a-11ef-8d33-02420a64004f",
    "bfd3391c-c10a-11ef-8d33-02420a64004f",
    "bfd33962-c10a-11ef-8d33-02420a64004f",
    "bfd339a8-c10a-11ef-8d33-02420a64004f",
    "bfd339ee-c10a-11ef-8d33-02420a64004f",
    "bfd33a34-c10a-11ef-8d33-02420a64004f",
    "bfd33a7a-c10a-11ef-8d33-02420a64004f",
    "bfd33ac0-c10a-11ef-8d33-02420a64004f",
    "bfd33b06-c10a-11ef-8d33-02420a64004f",
    "bfd33b4c-c10a-11ef-8d33-02420a64004f",
    "bfd33b92-c10a-11ef-8d33-02420a64004f",
    "bfd33bd8-c10a-11ef-8d33-02420a64004f",
    "bfd33c1e-c10a-11ef-8d33-02420a64004f",
    "bfd33c64-c10a-11ef-8d33-02420a64004f",
    "bfd33ca0-c10a-11ef-8d33-02420a64004f",
    "bfd33ce6-c10a-11ef-8d33-02420a64004f",
    "bfd33d2c-c10a-11ef-8d33-02420a64004f",
    "bfd33d72-c10a-11ef-8d33-02420a64004f",
    "bfd33db8-c10a-11ef-8d33-02420a64004f",
    "bfd33dfe-c10a-11ef-8d33-02420a64004f",
    "bfd33e44-c10a-11ef-8d33-02420a64004f",
    "bfd33e8a-c10a-11ef-8d33-02420a64004f",
    "bfd33ed0-c10a-11ef-8d33-02420a64004f",
    "bfd33f16-c10a-11ef-8d33-02420a64004f",
    "bfd33f5c-c10a-11ef-8d33-02420a64004f",
    "bfd33fa2-c10a-11ef-8d33-02420a64004f",
    "bfd33fe8-c10a-11ef-8d33-02420a64004f",
    "bfd3402e-c10a-11ef-8d33-02420a64004f",
    "bfd3406a-c10a-11ef-8d33-02420a64004f",
    "bfd340b0-c10a-11ef-8d33-02420a64004f",
    "bfd340f6-c10a-11ef-8d33-02420a64004f",
    "bfd3413c-c10a-11ef-8d33-02420a64004f",
    "bfd34182-c10a-11ef-8d33-02420a64004f",
    "bfd341c8-c10a-11ef-8d33-02420a64004f",
    "bfd3420e-c10a-11ef-8d33-02420a64004f",
    "bfd34254-c10a-11ef-8d33-02420a64004f",
    "bfd3429a-c10a-11ef-8d33-02420a64004f",
    "bfd342e0-c10a-11ef-8d33-02420a64004f",
    "bfd34326-c10a-11ef-8d33-02420a64004f",
    "bfd3436c-c10a-11ef-8d33-02420a64004f",
    "bfd343a8-c10a-11ef-8d33-02420a64004f",
    "bfd343ee-c10a-11ef-8d33-02420a64004f",
    "bfd34434-c10a-11ef-8d33-02420a64004f",
    "bfd3447a-c10a-11ef-8d33-02420a64004f",
    "bfd344c0-c10a-11ef-8d33-02420a64004f",
    "bfd34506-c10a-11ef-8d33-02420a64004f",
    "bfd3454c-c10a-11ef-8d33-02420a64004f",
    "bfd34592-c10a-11ef-8d33-02420a64004f",
    "bfd345d8-c10a-11ef-8d33-02420a64004f",
    "bfd3461e-c10a-11ef-8d33-02420a64004f",
    "bfd34664-c10a-11ef-8d33-02420a64004f",
    "bfd346aa-c10a-11ef-8d33-02420a64004f",
    "bfd346f0-c10a-11ef-8d33-02420a64004f",
    "bfd3472c-c10a-11ef-8d33-02420a64004f",
    "bfd34772-c10a-11ef-8d33-02420a64004f",
    "bfd347b8-c10a-11ef-8d33-02420a64004f",
    "bfd347fe-c10a-11ef-8d33-02420a64004f",
    "bfd34844-c10a-11ef-8d33-02420a64004f",
    "bfd3488a-c10a-11ef-8d33-02420a64004f",
    "bfd348d0-c10a-11ef-8d33-02420a64004f",
    "bfd34916-c10a-11ef-8d33-02420a64004f",
    "bfd3495c-c10a-11ef-8d33-02420a64004f",
    "bfd349a2-c10a-11ef-8d33-02420a64004f",
    "bfd349e8-c10a-11ef-8d33-02420a64004f",
    "bfd34a24-c10a-11ef-8d33-02420a64004f",
    "bfd34a6a-c10a-11ef-8d33-02420a64004f",
    "bfd34ab0-c10a-11ef-8d33-02420a64004f",
    "bfd34af6-c10a-11ef-8d33-02420a64004f",
    "bfd34b3c-c10a-11ef-8d33-02420a64004f",
    "bfd34b82-c10a-11ef-8d33-02420a64004f",
    "bfd34bc8-c10a-11ef-8d33-02420a64004f",
    "bfd34c0e-c10a-11ef-8d33-02420a64004f",
    "bfd34c5e-c10a-11ef-8d33-02420a64004f",
    "bfd34ca4-c10a-11ef-8d33-02420a64004f",
    "bfd34cea-c10a-11ef-8d33-02420a64004f",
    "bfd34d26-c10a-11ef-8d33-02420a64004f",
    "bfd34d6c-c10a-11ef-8d33-02420a64004f",
    "bfd34db2-c10a-11ef-8d33-02420a64004f",
    "bfd34df8-c10a-11ef-8d33-02420a64004f",
    "bfd34e3e-c10a-11ef-8d33-02420a64004f",
    "bfd34e84-c10a-11ef-8d33-02420a64004f",
    "bfd34eca-c10a-11ef-8d33-02420a64004f",
    "bfd34f10-c10a-11ef-8d33-02420a64004f",
    "bfd34f56-c10a-11ef-8d33-02420a64004f",
    "bfd34f9c-c10a-11ef-8d33-02420a64004f",
    "bfd34fe2-c10a-11ef-8d33-02420a64004f",
    "bfd3501e-c10a-11ef-8d33-02420a64004f",
    "bfd35064-c10a-11ef-8d33-02420a64004f",
    "bfd350aa-c10a-11ef-8d33-02420a64004f",
    "bfd350f0-c10a-11ef-8d33-02420a64004f",
    "bfd35136-c10a-11ef-8d33-02420a64004f",
    "bfd3517c-c10a-11ef-8d33-02420a64004f",
    "bfd351c2-c10a-11ef-8d33-02420a64004f",
    "bfd35208-c10a-11ef-8d33-02420a64004f",
    "bfd3524e-c10a-11ef-8d33-02420a64004f",
    "bfd35294-c10a-11ef-8d33-02420a64004f",
    "bfd3532a-c10a-11ef-8d33-02420a64004f"
   ],
   "root_cells_history": [
    [
     [
      "bfd19ecc-c10a-11ef-8d33-02420a64004f",
      "bfd3357a-c10a-11ef-8d33-02420a64004f"
     ],
     [
      "bfd19f62-c10a-11ef-8d33-02420a64004f",
      "bfd335d4-c10a-11ef-8d33-02420a64004f"
     ],
     [
      "bfd19fe4-c10a-11ef-8d33-02420a64004f",
      "bfd33624-c10a-11ef-8d33-02420a64004f"
     ],
     [
      "bfd1a0d4-c10a-11ef-8d33-02420a64004f",
      "bfd3366a-c10a-11ef-8d33-02420a64004f"
     ],
     [
      "bfd1a14c-c10a-11ef-8d33-02420a64004f",
      "bfd336b0-c10a-11ef-8d33-02420a64004f"
     ],
     [
      "bfd1a1b0-c10a-11ef-8d33-02420a64004f",
      "bfd336ec-c10a-11ef-8d33-02420a64004f"
     ],
     [
      "bfd1a21e-c10a-11ef-8d33-02420a64004f",
      "bfd33732-c10a-11ef-8d33-02420a64004f"
     ],
     [
      "bfd1a28c-c10a-11ef-8d33-02420a64004f",
      "bfd33778-c10a-11ef-8d33-02420a64004f"
     ],
     [
      "bfd1a2fa-c10a-11ef-8d33-02420a64004f",
      "bfd337be-c10a-11ef-8d33-02420a64004f"
     ],
     [
      "bfd1a368-c10a-11ef-8d33-02420a64004f",
      "bfd33804-c10a-11ef-8d33-02420a64004f"
     ],
     [
      "bfd1a3d6-c10a-11ef-8d33-02420a64004f",
      "bfd3384a-c10a-11ef-8d33-02420a64004f"
     ],
     [
      "bfd1a444-c10a-11ef-8d33-02420a64004f",
      "bfd33890-c10a-11ef-8d33-02420a64004f"
     ],
     [
      "bfd1a4b2-c10a-11ef-8d33-02420a64004f",
      "bfd338d6-c10a-11ef-8d33-02420a64004f"
     ],
     [
      "bfd1a516-c10a-11ef-8d33-02420a64004f",
      "bfd3391c-c10a-11ef-8d33-02420a64004f"
     ],
     [
      "bfd1a584-c10a-11ef-8d33-02420a64004f",
      "bfd33962-c10a-11ef-8d33-02420a64004f"
     ],
     [
      "bfd1a5f2-c10a-11ef-8d33-02420a64004f",
      "bfd339a8-c10a-11ef-8d33-02420a64004f"
     ],
     [
      "bfd1a660-c10a-11ef-8d33-02420a64004f",
      "bfd339ee-c10a-11ef-8d33-02420a64004f"
     ],
     [
      "bfd1a6c4-c10a-11ef-8d33-02420a64004f",
      "bfd33a34-c10a-11ef-8d33-02420a64004f"
     ],
     [
      "bfd1a732-c10a-11ef-8d33-02420a64004f",
      "bfd33a7a-c10a-11ef-8d33-02420a64004f"
     ],
     [
      "bfd1a7a0-c10a-11ef-8d33-02420a64004f",
      "bfd33ac0-c10a-11ef-8d33-02420a64004f"
     ],
     [
      "bfd1a80e-c10a-11ef-8d33-02420a64004f",
      "bfd33b06-c10a-11ef-8d33-02420a64004f"
     ],
     [
      "bfd1a87c-c10a-11ef-8d33-02420a64004f",
      "bfd33b4c-c10a-11ef-8d33-02420a64004f"
     ],
     [
      "bfd1a8e0-c10a-11ef-8d33-02420a64004f",
      "bfd33b92-c10a-11ef-8d33-02420a64004f"
     ],
     [
      "bfd1a94e-c10a-11ef-8d33-02420a64004f",
      "bfd33bd8-c10a-11ef-8d33-02420a64004f"
     ],
     [
      "bfd1a9bc-c10a-11ef-8d33-02420a64004f",
      "bfd33c1e-c10a-11ef-8d33-02420a64004f"
     ],
     [
      "bfd1aa20-c10a-11ef-8d33-02420a64004f",
      "bfd33c64-c10a-11ef-8d33-02420a64004f"
     ],
     [
      "bfd1aa8e-c10a-11ef-8d33-02420a64004f",
      "bfd33ca0-c10a-11ef-8d33-02420a64004f"
     ],
     [
      "bfd1aafc-c10a-11ef-8d33-02420a64004f",
      "bfd33ce6-c10a-11ef-8d33-02420a64004f"
     ],
     [
      "bfd1ab6a-c10a-11ef-8d33-02420a64004f",
      "bfd33d2c-c10a-11ef-8d33-02420a64004f"
     ],
     [
      "bfd1abd8-c10a-11ef-8d33-02420a64004f",
      "bfd33d72-c10a-11ef-8d33-02420a64004f"
     ],
     [
      "bfd1ac3c-c10a-11ef-8d33-02420a64004f",
      "bfd33db8-c10a-11ef-8d33-02420a64004f"
     ],
     [
      "bfd1acaa-c10a-11ef-8d33-02420a64004f",
      "bfd33dfe-c10a-11ef-8d33-02420a64004f"
     ],
     [
      "bfd1ad18-c10a-11ef-8d33-02420a64004f",
      "bfd33e44-c10a-11ef-8d33-02420a64004f"
     ],
     [
      "bfd1ad7c-c10a-11ef-8d33-02420a64004f",
      "bfd33e8a-c10a-11ef-8d33-02420a64004f"
     ],
     [
      "bfd1adea-c10a-11ef-8d33-02420a64004f",
      "bfd33ed0-c10a-11ef-8d33-02420a64004f"
     ],
     [
      "bfd1ae58-c10a-11ef-8d33-02420a64004f",
      "bfd33f16-c10a-11ef-8d33-02420a64004f"
     ],
     [
      "bfd1aec6-c10a-11ef-8d33-02420a64004f",
      "bfd33f5c-c10a-11ef-8d33-02420a64004f"
     ],
     [
      "bfd1af2a-c10a-11ef-8d33-02420a64004f",
      "bfd33fa2-c10a-11ef-8d33-02420a64004f"
     ],
     [
      "bfd1af98-c10a-11ef-8d33-02420a64004f",
      "bfd33fe8-c10a-11ef-8d33-02420a64004f"
     ],
     [
      "bfd1b006-c10a-11ef-8d33-02420a64004f",
      "bfd3402e-c10a-11ef-8d33-02420a64004f"
     ],
     [
      "bfd1b06a-c10a-11ef-8d33-02420a64004f",
      "bfd3406a-c10a-11ef-8d33-02420a64004f"
     ],
     [
      "bfd1b0d8-c10a-11ef-8d33-02420a64004f",
      "bfd340b0-c10a-11ef-8d33-02420a64004f"
     ],
     [
      "bfd1b146-c10a-11ef-8d33-02420a64004f",
      "bfd340f6-c10a-11ef-8d33-02420a64004f"
     ],
     [
      "bfd1b1b4-c10a-11ef-8d33-02420a64004f",
      "bfd3413c-c10a-11ef-8d33-02420a64004f"
     ],
     [
      "bfd1b218-c10a-11ef-8d33-02420a64004f",
      "bfd34182-c10a-11ef-8d33-02420a64004f"
     ],
     [
      "bfd1b286-c10a-11ef-8d33-02420a64004f",
      "bfd341c8-c10a-11ef-8d33-02420a64004f"
     ],
     [
      "bfd1b2f4-c10a-11ef-8d33-02420a64004f",
      "bfd3420e-c10a-11ef-8d33-02420a64004f"
     ],
     [
      "bfd1b362-c10a-11ef-8d33-02420a64004f",
      "bfd34254-c10a-11ef-8d33-02420a64004f"
     ],
     [
      "bfd1b3c6-c10a-11ef-8d33-02420a64004f",
      "bfd3429a-c10a-11ef-8d33-02420a64004f"
     ],
     [
      "bfd1b434-c10a-11ef-8d33-02420a64004f",
      "bfd342e0-c10a-11ef-8d33-02420a64004f"
     ],
     [
      "bfd1b4a2-c10a-11ef-8d33-02420a64004f",
      "bfd34326-c10a-11ef-8d33-02420a64004f"
     ],
     [
      "bfd1b506-c10a-11ef-8d33-02420a64004f",
      "bfd3436c-c10a-11ef-8d33-02420a64004f"
     ],
     [
      "bfd1b574-c10a-11ef-8d33-02420a64004f",
      "bfd343a8-c10a-11ef-8d33-02420a64004f"
     ],
     [
      "bfd1b5d8-c10a-11ef-8d33-02420a64004f",
      "bfd343ee-c10a-11ef-8d33-02420a64004f"
     ],
     [
      "bfd1b646-c10a-11ef-8d33-02420a64004f",
      "bfd34434-c10a-11ef-8d33-02420a64004f"
     ],
     [
      "bfd1b6b4-c10a-11ef-8d33-02420a64004f",
      "bfd3447a-c10a-11ef-8d33-02420a64004f"
     ],
     [
      "bfd1b722-c10a-11ef-8d33-02420a64004f",
      "bfd344c0-c10a-11ef-8d33-02420a64004f"
     ],
     [
      "bfd1b790-c10a-11ef-8d33-02420a64004f",
      "bfd34506-c10a-11ef-8d33-02420a64004f"
     ],
     [
      "bfd1b7fe-c10a-11ef-8d33-02420a64004f",
      "bfd3454c-c10a-11ef-8d33-02420a64004f"
     ],
     [
      "bfd1b862-c10a-11ef-8d33-02420a64004f",
      "bfd34592-c10a-11ef-8d33-02420a64004f"
     ],
     [
      "bfd1b8d0-c10a-11ef-8d33-02420a64004f",
      "bfd345d8-c10a-11ef-8d33-02420a64004f"
     ],
     [
      "bfd1b93e-c10a-11ef-8d33-02420a64004f",
      "bfd3461e-c10a-11ef-8d33-02420a64004f"
     ],
     [
      "bfd1b9ac-c10a-11ef-8d33-02420a64004f",
      "bfd34664-c10a-11ef-8d33-02420a64004f"
     ],
     [
      "bfd1ba10-c10a-11ef-8d33-02420a64004f",
      "bfd346aa-c10a-11ef-8d33-02420a64004f"
     ],
     [
      "bfd1ba7e-c10a-11ef-8d33-02420a64004f",
      "bfd346f0-c10a-11ef-8d33-02420a64004f"
     ],
     [
      "bfd1baec-c10a-11ef-8d33-02420a64004f",
      "bfd3472c-c10a-11ef-8d33-02420a64004f"
     ],
     [
      "bfd1bb5a-c10a-11ef-8d33-02420a64004f",
      "bfd34772-c10a-11ef-8d33-02420a64004f"
     ],
     [
      "bfd1bbbe-c10a-11ef-8d33-02420a64004f",
      "bfd347b8-c10a-11ef-8d33-02420a64004f"
     ],
     [
      "bfd1bc2c-c10a-11ef-8d33-02420a64004f",
      "bfd347fe-c10a-11ef-8d33-02420a64004f"
     ],
     [
      "bfd1bc90-c10a-11ef-8d33-02420a64004f",
      "bfd34844-c10a-11ef-8d33-02420a64004f"
     ],
     [
      "bfd1bcfe-c10a-11ef-8d33-02420a64004f",
      "bfd3488a-c10a-11ef-8d33-02420a64004f"
     ],
     [
      "bfd1bd6c-c10a-11ef-8d33-02420a64004f",
      "bfd348d0-c10a-11ef-8d33-02420a64004f"
     ],
     [
      "bfd1bdd0-c10a-11ef-8d33-02420a64004f",
      "bfd34916-c10a-11ef-8d33-02420a64004f"
     ],
     [
      "bfd1be3e-c10a-11ef-8d33-02420a64004f",
      "bfd3495c-c10a-11ef-8d33-02420a64004f"
     ],
     [
      "bfd1beac-c10a-11ef-8d33-02420a64004f",
      "bfd349a2-c10a-11ef-8d33-02420a64004f"
     ],
     [
      "bfd1bf1a-c10a-11ef-8d33-02420a64004f",
      "bfd349e8-c10a-11ef-8d33-02420a64004f"
     ],
     [
      "bfd1bf7e-c10a-11ef-8d33-02420a64004f",
      "bfd34a24-c10a-11ef-8d33-02420a64004f"
     ],
     [
      "bfd1bfec-c10a-11ef-8d33-02420a64004f",
      "bfd34a6a-c10a-11ef-8d33-02420a64004f"
     ],
     [
      "bfd1c05a-c10a-11ef-8d33-02420a64004f",
      "bfd34ab0-c10a-11ef-8d33-02420a64004f"
     ],
     [
      "bfd1c0be-c10a-11ef-8d33-02420a64004f",
      "bfd34af6-c10a-11ef-8d33-02420a64004f"
     ],
     [
      "bfd1c12c-c10a-11ef-8d33-02420a64004f",
      "bfd34b3c-c10a-11ef-8d33-02420a64004f"
     ],
     [
      "bfd1c19a-c10a-11ef-8d33-02420a64004f",
      "bfd34b82-c10a-11ef-8d33-02420a64004f"
     ],
     [
      "bfd1c1fe-c10a-11ef-8d33-02420a64004f",
      "bfd34bc8-c10a-11ef-8d33-02420a64004f"
     ],
     [
      "bfd1c26c-c10a-11ef-8d33-02420a64004f",
      "bfd34c0e-c10a-11ef-8d33-02420a64004f"
     ],
     [
      "bfd1c2da-c10a-11ef-8d33-02420a64004f",
      "bfd34c5e-c10a-11ef-8d33-02420a64004f"
     ],
     [
      "bfd1c33e-c10a-11ef-8d33-02420a64004f",
      "bfd34ca4-c10a-11ef-8d33-02420a64004f"
     ],
     [
      "bfd1c3ac-c10a-11ef-8d33-02420a64004f",
      "bfd34cea-c10a-11ef-8d33-02420a64004f"
     ],
     [
      "bfd1c41a-c10a-11ef-8d33-02420a64004f",
      "bfd34d26-c10a-11ef-8d33-02420a64004f"
     ],
     [
      "bfd1c488-c10a-11ef-8d33-02420a64004f",
      "bfd34d6c-c10a-11ef-8d33-02420a64004f"
     ],
     [
      "bfd1c4ec-c10a-11ef-8d33-02420a64004f",
      "bfd34db2-c10a-11ef-8d33-02420a64004f"
     ],
     [
      "bfd1c55a-c10a-11ef-8d33-02420a64004f",
      "bfd34df8-c10a-11ef-8d33-02420a64004f"
     ],
     [
      "bfd1c5c8-c10a-11ef-8d33-02420a64004f",
      "bfd34e3e-c10a-11ef-8d33-02420a64004f"
     ],
     [
      "bfd1c62c-c10a-11ef-8d33-02420a64004f",
      "bfd34e84-c10a-11ef-8d33-02420a64004f"
     ],
     [
      "bfd1c69a-c10a-11ef-8d33-02420a64004f",
      "bfd34eca-c10a-11ef-8d33-02420a64004f"
     ],
     [
      "bfd1c708-c10a-11ef-8d33-02420a64004f",
      "bfd34f10-c10a-11ef-8d33-02420a64004f"
     ],
     [
      "bfd1c76c-c10a-11ef-8d33-02420a64004f",
      "bfd34f56-c10a-11ef-8d33-02420a64004f"
     ],
     [
      "bfd1c7da-c10a-11ef-8d33-02420a64004f",
      "bfd34f9c-c10a-11ef-8d33-02420a64004f"
     ],
     [
      "bfd1c848-c10a-11ef-8d33-02420a64004f",
      "bfd34fe2-c10a-11ef-8d33-02420a64004f"
     ],
     [
      "bfd1c8ac-c10a-11ef-8d33-02420a64004f",
      "bfd3501e-c10a-11ef-8d33-02420a64004f"
     ],
     [
      "bfd1c91a-c10a-11ef-8d33-02420a64004f",
      "bfd35064-c10a-11ef-8d33-02420a64004f"
     ],
     [
      "bfd1c988-c10a-11ef-8d33-02420a64004f",
      "bfd350aa-c10a-11ef-8d33-02420a64004f"
     ],
     [
      "bfd1c9ec-c10a-11ef-8d33-02420a64004f",
      "bfd350f0-c10a-11ef-8d33-02420a64004f"
     ],
     [
      "bfd1ca5a-c10a-11ef-8d33-02420a64004f",
      "bfd35136-c10a-11ef-8d33-02420a64004f"
     ],
     [
      "bfd1cac8-c10a-11ef-8d33-02420a64004f",
      "bfd3517c-c10a-11ef-8d33-02420a64004f"
     ],
     [
      "bfd1cb2c-c10a-11ef-8d33-02420a64004f",
      "bfd351c2-c10a-11ef-8d33-02420a64004f"
     ],
     [
      "bfd1cb9a-c10a-11ef-8d33-02420a64004f",
      "bfd35208-c10a-11ef-8d33-02420a64004f"
     ],
     [
      "bfd1cc08-c10a-11ef-8d33-02420a64004f",
      "bfd3524e-c10a-11ef-8d33-02420a64004f"
     ],
     [
      "bfd1cc76-c10a-11ef-8d33-02420a64004f",
      "bfd35294-c10a-11ef-8d33-02420a64004f"
     ],
     [
      "bfd1ccda-c10a-11ef-8d33-02420a64004f",
      "bfd3532a-c10a-11ef-8d33-02420a64004f"
     ]
    ]
   ]
  },
  "toc": {
   "base_numbering": 1,
   "nav_menu": {},
   "number_sections": true,
   "sideBar": true,
   "skip_h1_title": true,
   "title_cell": "Table of Contents",
   "title_sidebar": "Contents",
   "toc_cell": false,
   "toc_position": {
    "height": "calc(100% - 180px)",
    "left": "10px",
    "top": "150px",
    "width": "299.867px"
   },
   "toc_section_display": true,
   "toc_window_display": true
  }
 },
 "nbformat": 4,
 "nbformat_minor": 5
}
