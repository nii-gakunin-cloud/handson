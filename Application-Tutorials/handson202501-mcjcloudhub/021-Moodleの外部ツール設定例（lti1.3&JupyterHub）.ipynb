{
 "cells": [
  {
   "cell_type": "markdown",
   "id": "3b5b7442",
   "metadata": {
    "lc_cell_meme": {
     "current": "bf794fd8-c10a-11ef-aa47-02420a64004f",
     "history": [
      {
       "current": "bf79231e-c10a-11ef-aa47-02420a64004f",
       "next": "bf79238c-c10a-11ef-aa47-02420a64004f",
       "previous": null
      }
     ],
     "next": "bf795014-c10a-11ef-aa47-02420a64004f",
     "previous": null
    }
   },
   "source": [
    "# Moodleの外部ツールの設定例（LTI1.3&JupyterHub）\n",
    "\n",
    "---\n",
    "\n",
    "JupyterHubシステム構築前に、Moodleにて、JupyterHubとのLTI1.3認証連携用の外部ツールを設定しておく必要があります。  \n",
    "ここでは、その設定例を記載しています。"
   ]
  },
  {
   "cell_type": "markdown",
   "id": "a9ce742b",
   "metadata": {
    "lc_cell_meme": {
     "current": "bf795014-c10a-11ef-aa47-02420a64004f",
     "history": [
      {
       "current": "bf79238c-c10a-11ef-aa47-02420a64004f",
       "next": "bf7923e6-c10a-11ef-aa47-02420a64004f",
       "previous": "bf79231e-c10a-11ef-aa47-02420a64004f"
      }
     ],
     "next": "bf795046-c10a-11ef-aa47-02420a64004f",
     "previous": "bf794fd8-c10a-11ef-aa47-02420a64004f"
    }
   },
   "source": [
    "## 外部ツールの作成\n",
    "\n",
    "まず、外部ツールを作成します。  \n",
    "ここでは、その設定例を表示します。  \n",
    "\n",
    "外部ツールは、以下のURLよりアクセスできます。（ユーザ名の部分は変更してください）  \n",
    "https://mcj-handson-moodle.vcp-handson.org/{ユーザ名}/mod/lti/toolconfigure.php  \n",
    "もしくは、`Site administration`-`Plugins`-`Activity modules`-`External tool`-`Manage tools` にあります。"
   ]
  },
  {
   "cell_type": "markdown",
   "id": "86e6646e",
   "metadata": {
    "lc_cell_meme": {
     "current": "bf795046-c10a-11ef-aa47-02420a64004f",
     "history": [
      {
       "current": "bf7923e6-c10a-11ef-aa47-02420a64004f",
       "next": "bf792436-c10a-11ef-aa47-02420a64004f",
       "previous": "bf79238c-c10a-11ef-aa47-02420a64004f"
      }
     ],
     "next": "bf795078-c10a-11ef-aa47-02420a64004f",
     "previous": "bf795014-c10a-11ef-aa47-02420a64004f"
    }
   },
   "source": [
    "### 基本設定\n",
    "\n",
    "JupyterhubとのLTI認証連携のため、Moodleに、Jupyterhubを外部ツールとして利用するための設定を行います。"
   ]
  },
  {
   "cell_type": "markdown",
   "id": "2964f2e1",
   "metadata": {
    "lc_cell_meme": {
     "current": "bf795078-c10a-11ef-aa47-02420a64004f",
     "history": [
      {
       "current": "bf792436-c10a-11ef-aa47-02420a64004f",
       "next": "bf792486-c10a-11ef-aa47-02420a64004f",
       "previous": "bf7923e6-c10a-11ef-aa47-02420a64004f"
      }
     ],
     "next": "bf7950aa-c10a-11ef-aa47-02420a64004f",
     "previous": "bf795046-c10a-11ef-aa47-02420a64004f"
    }
   },
   "source": [
    "先に、この後外部ツール設定で入力するJupyterhubのパラメータを確認しておきます。  \n",
    "以下のセルに必要な情報を入力し、実行してください。"
   ]
  },
  {
   "cell_type": "code",
   "execution_count": null,
   "id": "0cb205d2",
   "metadata": {
    "lc_cell_meme": {
     "current": "bf7950aa-c10a-11ef-aa47-02420a64004f",
     "history": [
      {
       "current": "bf792486-c10a-11ef-aa47-02420a64004f",
       "next": "bf7924d6-c10a-11ef-aa47-02420a64004f",
       "previous": "bf792436-c10a-11ef-aa47-02420a64004f"
      }
     ],
     "next": "bf7950dc-c10a-11ef-aa47-02420a64004f",
     "previous": "bf795078-c10a-11ef-aa47-02420a64004f"
    }
   },
   "outputs": [],
   "source": [
    "jupyterhub_fqdn = \n",
    "\n",
    "print(f'Tool URL: https://{jupyterhub_fqdn}')\n",
    "print(f'Initiate login URL: https://{jupyterhub_fqdn}/hub/lti13/oauth_login')\n",
    "print(f'Redirection URI(s): https://{jupyterhub_fqdn}/hub/lti13/oauth_callback')"
   ]
  },
  {
   "cell_type": "markdown",
   "id": "f3d3e923",
   "metadata": {
    "lc_cell_meme": {
     "current": "bf7950dc-c10a-11ef-aa47-02420a64004f",
     "history": [
      {
       "current": "bf7924d6-c10a-11ef-aa47-02420a64004f",
       "next": "bf792530-c10a-11ef-aa47-02420a64004f",
       "previous": "bf792486-c10a-11ef-aa47-02420a64004f"
      }
     ],
     "next": "bf79510e-c10a-11ef-aa47-02420a64004f",
     "previous": "bf7950aa-c10a-11ef-aa47-02420a64004f"
    }
   },
   "source": [
    "出力されたパラメータを外部ツールに設定していきます。  \n",
    "以下の画像を参考に設定を行ってください。"
   ]
  },
  {
   "cell_type": "markdown",
   "id": "231eab4d",
   "metadata": {
    "lc_cell_meme": {
     "current": "bf79510e-c10a-11ef-aa47-02420a64004f",
     "history": [
      {
       "current": "bf792530-c10a-11ef-aa47-02420a64004f",
       "next": "bf792580-c10a-11ef-aa47-02420a64004f",
       "previous": "bf7924d6-c10a-11ef-aa47-02420a64004f"
      }
     ],
     "next": "bf795140-c10a-11ef-aa47-02420a64004f",
     "previous": "bf7950dc-c10a-11ef-aa47-02420a64004f"
    },
    "lc_wrapper": {
     "log_history": [
      "/home/adminx96614e/textbook/mcj-cloudhub/work/.log/20241223/20241223-073905-0460.log",
      "/home/adminx96614e/textbook/mcj-cloudhub/work/.log/20241223/20241223-075730-0783.log"
     ]
    }
   },
   "source": [
    "![](images/021/moodle_lti13_jupyterhub_sample.png)"
   ]
  },
  {
   "cell_type": "markdown",
   "id": "92616954",
   "metadata": {
    "lc_cell_meme": {
     "current": "bf795140-c10a-11ef-aa47-02420a64004f",
     "history": [
      {
       "current": "bf792580-c10a-11ef-aa47-02420a64004f",
       "next": "bf7925d0-c10a-11ef-aa47-02420a64004f",
       "previous": "bf792530-c10a-11ef-aa47-02420a64004f"
      }
     ],
     "next": "bf795172-c10a-11ef-aa47-02420a64004f",
     "previous": "bf79510e-c10a-11ef-aa47-02420a64004f"
    }
   },
   "source": [
    "## 作成した外部ツールのキーなどを確認\n",
    "\n",
    "外部ツールを作成すると、キーが自動生成されます。  \n",
    "ここで生成されたキーをJupyterHub構築時に使用するため、確認しておきます。\n",
    "\n",
    "外部ツール一覧にて、赤四角で囲んだアイコンをクリックすると、ツール設定詳細画面がモーダルウィンドウで立ち上がります。  \n",
    "ここに記載されている内容を確認します。  \n",
    "\n",
    "Jupyterhub構築時に必要なパラメータは以下の通りです。\n",
    "* **プラットフォームID**  \n",
    "  「121-JupyterHubのセットアップ」の「2.1.1 パラメータ類」の`moodle_platform_id`\n",
    "* **クライアントID**  \n",
    "  「121-JupyterHubのセットアップ」の「2.1.1 パラメータ類」の`moodle_client_id`\n",
    "\n",
    "<img src=\"images/021/moodle_tool.png\">"
   ]
  },
  {
   "cell_type": "markdown",
   "id": "2375cade",
   "metadata": {
    "lc_cell_meme": {
     "current": "bf795172-c10a-11ef-aa47-02420a64004f",
     "history": [
      {
       "current": "bf7925d0-c10a-11ef-aa47-02420a64004f",
       "next": "bf792620-c10a-11ef-aa47-02420a64004f",
       "previous": "bf792580-c10a-11ef-aa47-02420a64004f"
      }
     ],
     "next": "bf7951a4-c10a-11ef-aa47-02420a64004f",
     "previous": "bf795140-c10a-11ef-aa47-02420a64004f"
    },
    "lc_wrapper": {
     "log_history": [
      "/home/adminx96614e/textbook/mcj-cloudhub/work/.log/20241223/20241223-073719-0319.log"
     ]
    }
   },
   "source": [
    "## jupyterhub構築\n",
    "\n",
    "Moodleでの設定は一旦ここまでとし、この後はJupyterhubを構築します。  \n",
    "\n",
    "[121-JupyterHubのセットアップ.ipynb](./121-JupyterHubのセットアップ.ipynb)に移動し、構築を行ってください。  \n",
    "Jupyterhub構築後に出力されるJupyterhubの公開鍵を外部ツールに設定する必要があるため、Jupyterhub構築後に本ノートブックに戻り、 これ以降のセルを参照して残りの設定を行ってください。"
   ]
  },
  {
   "cell_type": "markdown",
   "id": "f01676d2",
   "metadata": {
    "lc_cell_meme": {
     "current": "bf7951a4-c10a-11ef-aa47-02420a64004f",
     "history": [
      {
       "current": "bf792620-c10a-11ef-aa47-02420a64004f",
       "next": "bf792670-c10a-11ef-aa47-02420a64004f",
       "previous": "bf7925d0-c10a-11ef-aa47-02420a64004f"
      }
     ],
     "next": "bf7951d6-c10a-11ef-aa47-02420a64004f",
     "previous": "bf795172-c10a-11ef-aa47-02420a64004f"
    }
   },
   "source": [
    "## NRPS利用の場合の設定\n",
    "\n",
    "NRPS(Names and Role Provisioning Services)を利用できる場合、基本設定を以下のように修正します。  "
   ]
  },
  {
   "cell_type": "markdown",
   "id": "10628309",
   "metadata": {
    "lc_cell_meme": {
     "current": "bf7951d6-c10a-11ef-aa47-02420a64004f",
     "history": [
      {
       "current": "bf792670-c10a-11ef-aa47-02420a64004f",
       "next": "bf7926c0-c10a-11ef-aa47-02420a64004f",
       "previous": "bf792620-c10a-11ef-aa47-02420a64004f"
      }
     ],
     "next": "bf795208-c10a-11ef-aa47-02420a64004f",
     "previous": "bf7951a4-c10a-11ef-aa47-02420a64004f"
    },
    "lc_wrapper": {
     "log_history": [
      "/home/adminx96614e/textbook/mcj-cloudhub/work/.log/20241223/20241223-073923-0475.log",
      "/home/adminx96614e/textbook/mcj-cloudhub/work/.log/20241223/20241223-073935-0711.log",
      "/home/adminx96614e/textbook/mcj-cloudhub/work/.log/20241223/20241223-074108-0264.log",
      "/home/adminx96614e/textbook/mcj-cloudhub/work/.log/20241223/20241223-074117-0892.log",
      "/home/adminx96614e/textbook/mcj-cloudhub/work/.log/20241223/20241223-074142-0589.log"
     ]
    }
   },
   "source": [
    "![](images/021/moodle_lti13_jupyterhub_sample_nrps.png)\n",
    "![](images/021/moodle_lti13_jupyterhub_sample_nrps2.png)"
   ]
  },
  {
   "cell_type": "markdown",
   "id": "5aad4112",
   "metadata": {
    "lc_cell_meme": {
     "current": "bf795208-c10a-11ef-aa47-02420a64004f",
     "history": [
      {
       "current": "bf7926c0-c10a-11ef-aa47-02420a64004f",
       "next": "bf792710-c10a-11ef-aa47-02420a64004f",
       "previous": "bf792670-c10a-11ef-aa47-02420a64004f"
      }
     ],
     "next": "bf79523a-c10a-11ef-aa47-02420a64004f",
     "previous": "bf7951d6-c10a-11ef-aa47-02420a64004f"
    }
   },
   "source": [
    "## 完成した設定例  \n",
    "\n",
    "以下の設定例を参照し、設定漏れが無いかなどを確認してください。"
   ]
  },
  {
   "cell_type": "markdown",
   "id": "e12e46c1",
   "metadata": {
    "lc_cell_meme": {
     "current": "bf79523a-c10a-11ef-aa47-02420a64004f",
     "history": [
      {
       "current": "bf792710-c10a-11ef-aa47-02420a64004f",
       "next": "bf792760-c10a-11ef-aa47-02420a64004f",
       "previous": "bf7926c0-c10a-11ef-aa47-02420a64004f"
      }
     ],
     "next": "bf79526c-c10a-11ef-aa47-02420a64004f",
     "previous": "bf795208-c10a-11ef-aa47-02420a64004f"
    }
   },
   "source": [
    "![](images/021/moodle_lti13_jupyterhub_sample_whole1.png)\n",
    "![](images/021/moodle_lti13_jupyterhub_sample_whole2.png)"
   ]
  },
  {
   "cell_type": "code",
   "execution_count": null,
   "id": "9a9d1036",
   "metadata": {
    "lc_cell_meme": {
     "current": "bf79526c-c10a-11ef-aa47-02420a64004f",
     "history": [
      {
       "current": "bf792760-c10a-11ef-aa47-02420a64004f",
       "next": null,
       "previous": "bf792710-c10a-11ef-aa47-02420a64004f"
      }
     ],
     "next": null,
     "previous": "bf79523a-c10a-11ef-aa47-02420a64004f"
    }
   },
   "outputs": [],
   "source": []
  }
 ],
 "metadata": {
  "kernelspec": {
   "display_name": "Python 3",
   "language": "python",
   "name": "python3"
  },
  "language_info": {
   "file_extension": ".py",
   "mimetype": "text/x-python",
   "name": "python",
   "nbconvert_exporter": "python",
   "pygments_lexer": "ipython3",
   "version": "3.10.11"
  },
  "lc_notebook_meme": {
   "current": "bf794f74-c10a-11ef-aa47-02420a64004f",
   "history": [
    "bf792224-c10a-11ef-aa47-02420a64004f"
   ],
   "root_cells": [
    "bf794fd8-c10a-11ef-aa47-02420a64004f",
    "bf795014-c10a-11ef-aa47-02420a64004f",
    "bf795046-c10a-11ef-aa47-02420a64004f",
    "bf795078-c10a-11ef-aa47-02420a64004f",
    "bf7950aa-c10a-11ef-aa47-02420a64004f",
    "bf7950dc-c10a-11ef-aa47-02420a64004f",
    "bf79510e-c10a-11ef-aa47-02420a64004f",
    "bf795140-c10a-11ef-aa47-02420a64004f",
    "bf795172-c10a-11ef-aa47-02420a64004f",
    "bf7951a4-c10a-11ef-aa47-02420a64004f",
    "bf7951d6-c10a-11ef-aa47-02420a64004f",
    "bf795208-c10a-11ef-aa47-02420a64004f",
    "bf79523a-c10a-11ef-aa47-02420a64004f",
    "bf79526c-c10a-11ef-aa47-02420a64004f"
   ],
   "root_cells_history": [
    [
     [
      "bf79231e-c10a-11ef-aa47-02420a64004f",
      "bf794fd8-c10a-11ef-aa47-02420a64004f"
     ],
     [
      "bf79238c-c10a-11ef-aa47-02420a64004f",
      "bf795014-c10a-11ef-aa47-02420a64004f"
     ],
     [
      "bf7923e6-c10a-11ef-aa47-02420a64004f",
      "bf795046-c10a-11ef-aa47-02420a64004f"
     ],
     [
      "bf792436-c10a-11ef-aa47-02420a64004f",
      "bf795078-c10a-11ef-aa47-02420a64004f"
     ],
     [
      "bf792486-c10a-11ef-aa47-02420a64004f",
      "bf7950aa-c10a-11ef-aa47-02420a64004f"
     ],
     [
      "bf7924d6-c10a-11ef-aa47-02420a64004f",
      "bf7950dc-c10a-11ef-aa47-02420a64004f"
     ],
     [
      "bf792530-c10a-11ef-aa47-02420a64004f",
      "bf79510e-c10a-11ef-aa47-02420a64004f"
     ],
     [
      "bf792580-c10a-11ef-aa47-02420a64004f",
      "bf795140-c10a-11ef-aa47-02420a64004f"
     ],
     [
      "bf7925d0-c10a-11ef-aa47-02420a64004f",
      "bf795172-c10a-11ef-aa47-02420a64004f"
     ],
     [
      "bf792620-c10a-11ef-aa47-02420a64004f",
      "bf7951a4-c10a-11ef-aa47-02420a64004f"
     ],
     [
      "bf792670-c10a-11ef-aa47-02420a64004f",
      "bf7951d6-c10a-11ef-aa47-02420a64004f"
     ],
     [
      "bf7926c0-c10a-11ef-aa47-02420a64004f",
      "bf795208-c10a-11ef-aa47-02420a64004f"
     ],
     [
      "bf792710-c10a-11ef-aa47-02420a64004f",
      "bf79523a-c10a-11ef-aa47-02420a64004f"
     ],
     [
      "bf792760-c10a-11ef-aa47-02420a64004f",
      "bf79526c-c10a-11ef-aa47-02420a64004f"
     ]
    ]
   ]
  },
  "toc": {
   "base_numbering": 1,
   "nav_menu": {},
   "number_sections": true,
   "sideBar": true,
   "skip_h1_title": false,
   "title_cell": "Table of Contents",
   "title_sidebar": "Contents",
   "toc_cell": false,
   "toc_position": {},
   "toc_section_display": true,
   "toc_window_display": true
  }
 },
 "nbformat": 4,
 "nbformat_minor": 5
}
