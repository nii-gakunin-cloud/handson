{
 "cells": [
  {
   "cell_type": "markdown",
   "id": "fd53aa79-f29f-4c46-afd4-70c243cb94a8",
   "metadata": {
    "lc_cell_meme": {
     "current": "c031dbfc-c10a-11ef-bf7d-02420a64004f",
     "history": [
      {
       "current": "c03122c0-c10a-11ef-bf7d-02420a64004f",
       "next": "c0312356-c10a-11ef-bf7d-02420a64004f",
       "previous": null
      }
     ],
     "next": "c031dc60-c10a-11ef-bf7d-02420a64004f",
     "previous": null
    }
   },
   "source": [
    "# JupyterHub環境の削除\n",
    "\n",
    "---\n",
    "\n",
    "構築した環境を削除します。"
   ]
  },
  {
   "cell_type": "markdown",
   "id": "3697e49c-74c1-4f0a-ab44-7c0aa8cc1e7d",
   "metadata": {
    "lc_cell_meme": {
     "current": "c031dc60-c10a-11ef-bf7d-02420a64004f",
     "history": [
      {
       "current": "c0312356-c10a-11ef-bf7d-02420a64004f",
       "next": "c03123ce-c10a-11ef-bf7d-02420a64004f",
       "previous": "c03122c0-c10a-11ef-bf7d-02420a64004f"
      }
     ],
     "next": "c031dcb0-c10a-11ef-bf7d-02420a64004f",
     "previous": "c031dbfc-c10a-11ef-bf7d-02420a64004f"
    }
   },
   "source": [
    "## パラメータの指定"
   ]
  },
  {
   "cell_type": "markdown",
   "id": "4de00c53-df57-406d-87b1-071a6bb1b49b",
   "metadata": {
    "lc_cell_meme": {
     "current": "c031dcb0-c10a-11ef-bf7d-02420a64004f",
     "history": [
      {
       "current": "c03123ce-c10a-11ef-bf7d-02420a64004f",
       "next": "c031243c-c10a-11ef-bf7d-02420a64004f",
       "previous": "c0312356-c10a-11ef-bf7d-02420a64004f"
      }
     ],
     "next": "c031dd00-c10a-11ef-bf7d-02420a64004f",
     "previous": "c031dc60-c10a-11ef-bf7d-02420a64004f"
    }
   },
   "source": [
    "### VCCアクセストークンの入力"
   ]
  },
  {
   "cell_type": "markdown",
   "id": "6964c20e-63ea-41e0-a188-c35ee39dbeca",
   "metadata": {
    "lc_cell_meme": {
     "current": "c031dd00-c10a-11ef-bf7d-02420a64004f",
     "history": [
      {
       "current": "c031243c-c10a-11ef-bf7d-02420a64004f",
       "next": "c03124aa-c10a-11ef-bf7d-02420a64004f",
       "previous": "c03123ce-c10a-11ef-bf7d-02420a64004f"
      }
     ],
     "next": "c031dd50-c10a-11ef-bf7d-02420a64004f",
     "previous": "c031dcb0-c10a-11ef-bf7d-02420a64004f"
    }
   },
   "source": [
    "VCノードを削除するためにVC Controller(VCC)のアクセストークンが必要となります。\n",
    "次のセルを実行すると表示される入力枠にVCCのアクセストークンを入力してください。\n",
    "\n",
    "> アクセストークン入力後に Enter キーを押すことで入力が完了します。"
   ]
  },
  {
   "cell_type": "code",
   "execution_count": null,
   "id": "5e18b37c-b4f5-4b69-937c-e28f961cf834",
   "metadata": {
    "lc_cell_meme": {
     "current": "c031dd50-c10a-11ef-bf7d-02420a64004f",
     "history": [
      {
       "current": "c03124aa-c10a-11ef-bf7d-02420a64004f",
       "next": "c0312518-c10a-11ef-bf7d-02420a64004f",
       "previous": "c031243c-c10a-11ef-bf7d-02420a64004f"
      }
     ],
     "next": "c031dda0-c10a-11ef-bf7d-02420a64004f",
     "previous": "c031dd00-c10a-11ef-bf7d-02420a64004f"
    },
    "tags": [
     "vcp:skip",
     "vcp:parameters"
    ]
   },
   "outputs": [],
   "source": [
    "from getpass import getpass\n",
    "vcc_access_token = getpass()"
   ]
  },
  {
   "cell_type": "markdown",
   "id": "73603bb5-e71d-4f90-ad38-40b9c23e64db",
   "metadata": {
    "lc_cell_meme": {
     "current": "c031dda0-c10a-11ef-bf7d-02420a64004f",
     "history": [
      {
       "current": "c0312518-c10a-11ef-bf7d-02420a64004f",
       "next": "c0312586-c10a-11ef-bf7d-02420a64004f",
       "previous": "c03124aa-c10a-11ef-bf7d-02420a64004f"
      }
     ],
     "next": "c031dde6-c10a-11ef-bf7d-02420a64004f",
     "previous": "c031dd50-c10a-11ef-bf7d-02420a64004f"
    }
   },
   "source": [
    "入力されたアクセストークンが正しいことを、実際にVCCにアクセスして確認します。"
   ]
  },
  {
   "cell_type": "code",
   "execution_count": null,
   "id": "0c01a791-16e3-4ec5-9264-cf952b691716",
   "metadata": {
    "lc_cell_meme": {
     "current": "c031dde6-c10a-11ef-bf7d-02420a64004f",
     "history": [
      {
       "current": "c0312586-c10a-11ef-bf7d-02420a64004f",
       "next": "c03125f4-c10a-11ef-bf7d-02420a64004f",
       "previous": "c0312518-c10a-11ef-bf7d-02420a64004f"
      }
     ],
     "next": "c031de36-c10a-11ef-bf7d-02420a64004f",
     "previous": "c031dda0-c10a-11ef-bf7d-02420a64004f"
    },
    "tags": [
     "vcp:rewrite:vcpsdk"
    ]
   },
   "outputs": [],
   "source": [
    "from vcpsdk.vcpsdk import VcpSDK\n",
    "import os\n",
    "import sys\n",
    "\n",
    "home = os.path.expanduser(\"~\")\n",
    "vcpsdk_config_path = os.path.join(home, 'vcp_config')\n",
    "\n",
    "vcp = VcpSDK(vcc_access_token, config_dir=vcpsdk_config_path)"
   ]
  },
  {
   "cell_type": "markdown",
   "id": "896027dc-5e1c-4a64-b015-b3da5e869b2f",
   "metadata": {
    "lc_cell_meme": {
     "current": "c031de36-c10a-11ef-bf7d-02420a64004f",
     "history": [
      {
       "current": "c03125f4-c10a-11ef-bf7d-02420a64004f",
       "next": "c0312658-c10a-11ef-bf7d-02420a64004f",
       "previous": "c0312586-c10a-11ef-bf7d-02420a64004f"
      }
     ],
     "next": "c031de86-c10a-11ef-bf7d-02420a64004f",
     "previous": "c031dde6-c10a-11ef-bf7d-02420a64004f"
    }
   },
   "source": [
    "上のセルの実行結果がエラーとなり以下のようなメッセージが表示されている場合は、入力されたアクセストークンに誤りがあります。\n",
    "\n",
    "```\n",
    "ERROR - config vc failed: http_status(403)\n",
    "ERROR - 2021/XX/XX XX:XX:XX UTC: VCPAuthException: xxxxxxx:token lookup is failed: permission denied\n",
    "```\n",
    "\n",
    "エラーになった場合はこの節のセルを全て `unfreeze` してから、もう一度アクセストークンの入力を行ってください。"
   ]
  },
  {
   "cell_type": "markdown",
   "id": "35b354cc-6396-4973-84db-beb0acf11489",
   "metadata": {
    "lc_cell_meme": {
     "current": "c031de86-c10a-11ef-bf7d-02420a64004f",
     "history": [
      {
       "current": "c0312658-c10a-11ef-bf7d-02420a64004f",
       "next": "c03126c6-c10a-11ef-bf7d-02420a64004f",
       "previous": "c03125f4-c10a-11ef-bf7d-02420a64004f"
      }
     ],
     "next": "c031ded6-c10a-11ef-bf7d-02420a64004f",
     "previous": "c031de36-c10a-11ef-bf7d-02420a64004f"
    }
   },
   "source": [
    "### グループ名\n",
    "\n",
    "削除対象となるVCPのUnitGroup名を指定します。"
   ]
  },
  {
   "cell_type": "markdown",
   "id": "315540a8-8593-4b51-afcc-18764ee2c089",
   "metadata": {
    "lc_cell_meme": {
     "current": "c031ded6-c10a-11ef-bf7d-02420a64004f",
     "history": [
      {
       "current": "c03126c6-c10a-11ef-bf7d-02420a64004f",
       "next": "c0312734-c10a-11ef-bf7d-02420a64004f",
       "previous": "c0312658-c10a-11ef-bf7d-02420a64004f"
      }
     ],
     "next": "c031df26-c10a-11ef-bf7d-02420a64004f",
     "previous": "c031de86-c10a-11ef-bf7d-02420a64004f"
    }
   },
   "source": [
    "対象となり得るUnitGroupを確認するために group_varsファイル名の一覧を表示します。"
   ]
  },
  {
   "cell_type": "code",
   "execution_count": null,
   "id": "30fd27fd-c17e-4824-8f89-cafa1c6de239",
   "metadata": {
    "lc_cell_meme": {
     "current": "c031df26-c10a-11ef-bf7d-02420a64004f",
     "history": [
      {
       "current": "c0312734-c10a-11ef-bf7d-02420a64004f",
       "next": "c03127a2-c10a-11ef-bf7d-02420a64004f",
       "previous": "c03126c6-c10a-11ef-bf7d-02420a64004f"
      }
     ],
     "next": "c031df76-c10a-11ef-bf7d-02420a64004f",
     "previous": "c031ded6-c10a-11ef-bf7d-02420a64004f"
    }
   },
   "outputs": [],
   "source": [
    "!ls -1 group_vars/"
   ]
  },
  {
   "cell_type": "markdown",
   "id": "f78ae7bb-78a9-4aa1-9891-87bac0629c34",
   "metadata": {
    "lc_cell_meme": {
     "current": "c031df76-c10a-11ef-bf7d-02420a64004f",
     "history": [
      {
       "current": "c03127a2-c10a-11ef-bf7d-02420a64004f",
       "next": "c0312810-c10a-11ef-bf7d-02420a64004f",
       "previous": "c0312734-c10a-11ef-bf7d-02420a64004f"
      }
     ],
     "next": "c031dfc6-c10a-11ef-bf7d-02420a64004f",
     "previous": "c031df26-c10a-11ef-bf7d-02420a64004f"
    }
   },
   "source": [
    " UnitGroup名を次のセルに指定してください。"
   ]
  },
  {
   "cell_type": "code",
   "execution_count": null,
   "id": "6d877901-1088-4fc7-bb23-6670e21df12d",
   "metadata": {
    "lc_cell_meme": {
     "current": "c031dfc6-c10a-11ef-bf7d-02420a64004f",
     "history": [
      {
       "current": "c0312810-c10a-11ef-bf7d-02420a64004f",
       "next": "c0312874-c10a-11ef-bf7d-02420a64004f",
       "previous": "c03127a2-c10a-11ef-bf7d-02420a64004f"
      }
     ],
     "next": "c031e016-c10a-11ef-bf7d-02420a64004f",
     "previous": "c031df76-c10a-11ef-bf7d-02420a64004f"
    },
    "tags": [
     "vcp:parameters"
    ]
   },
   "outputs": [],
   "source": [
    "# (例)\n",
    "# ugroup_name = 'JupyterHub'\n",
    "\n",
    "ugroup_name = "
   ]
  },
  {
   "cell_type": "markdown",
   "id": "3d9d904c-390b-43d7-b6c5-7dae9ce46483",
   "metadata": {
    "heading_collapsed": true,
    "lc_cell_meme": {
     "current": "c031e016-c10a-11ef-bf7d-02420a64004f",
     "history": [
      {
       "current": "c0312874-c10a-11ef-bf7d-02420a64004f",
       "next": "c03128e2-c10a-11ef-bf7d-02420a64004f",
       "previous": "c0312810-c10a-11ef-bf7d-02420a64004f"
      }
     ],
     "next": "c031e066-c10a-11ef-bf7d-02420a64004f",
     "previous": "c031dfc6-c10a-11ef-bf7d-02420a64004f"
    }
   },
   "source": [
    "## 構築環境の削除"
   ]
  },
  {
   "cell_type": "markdown",
   "id": "5680d95e-6702-46e7-bccc-0bad1fb74d02",
   "metadata": {
    "heading_collapsed": true,
    "hidden": true,
    "lc_cell_meme": {
     "current": "c031e066-c10a-11ef-bf7d-02420a64004f",
     "history": [
      {
       "current": "c03128e2-c10a-11ef-bf7d-02420a64004f",
       "next": "c0312950-c10a-11ef-bf7d-02420a64004f",
       "previous": "c0312874-c10a-11ef-bf7d-02420a64004f"
      }
     ],
     "next": "c031e0ac-c10a-11ef-bf7d-02420a64004f",
     "previous": "c031e016-c10a-11ef-bf7d-02420a64004f"
    }
   },
   "source": [
    "### VCノードの削除\n",
    "\n",
    "起動したVCノードを削除します。"
   ]
  },
  {
   "cell_type": "markdown",
   "id": "e4d0a484-954e-4d18-bb69-d4f14849d72f",
   "metadata": {
    "hidden": true,
    "lc_cell_meme": {
     "current": "c031e0ac-c10a-11ef-bf7d-02420a64004f",
     "history": [
      {
       "current": "c0312950-c10a-11ef-bf7d-02420a64004f",
       "next": "c03129b4-c10a-11ef-bf7d-02420a64004f",
       "previous": "c03128e2-c10a-11ef-bf7d-02420a64004f"
      }
     ],
     "next": "c031e0fc-c10a-11ef-bf7d-02420a64004f",
     "previous": "c031e066-c10a-11ef-bf7d-02420a64004f"
    }
   },
   "source": [
    "現在のUnitGroupの一覧を確認します。"
   ]
  },
  {
   "cell_type": "code",
   "execution_count": null,
   "id": "c27ec698-5d51-4d6c-af93-40b0ab3a71b5",
   "metadata": {
    "hidden": true,
    "lc_cell_meme": {
     "current": "c031e0fc-c10a-11ef-bf7d-02420a64004f",
     "history": [
      {
       "current": "c03129b4-c10a-11ef-bf7d-02420a64004f",
       "next": "c0312a22-c10a-11ef-bf7d-02420a64004f",
       "previous": "c0312950-c10a-11ef-bf7d-02420a64004f"
      }
     ],
     "next": "c031e14c-c10a-11ef-bf7d-02420a64004f",
     "previous": "c031e0ac-c10a-11ef-bf7d-02420a64004f"
    }
   },
   "outputs": [],
   "source": [
    "vcp.df_ugroups()"
   ]
  },
  {
   "cell_type": "markdown",
   "id": "18573bb4-4678-432e-bbda-3a3d8c6619d1",
   "metadata": {
    "hidden": true,
    "lc_cell_meme": {
     "current": "c031e14c-c10a-11ef-bf7d-02420a64004f",
     "history": [
      {
       "current": "c0312a22-c10a-11ef-bf7d-02420a64004f",
       "next": "c0312a90-c10a-11ef-bf7d-02420a64004f",
       "previous": "c03129b4-c10a-11ef-bf7d-02420a64004f"
      }
     ],
     "next": "c031e19c-c10a-11ef-bf7d-02420a64004f",
     "previous": "c031e0fc-c10a-11ef-bf7d-02420a64004f"
    }
   },
   "source": [
    "現在のVCノードの状態を確認します。"
   ]
  },
  {
   "cell_type": "code",
   "execution_count": null,
   "id": "625b4990-814a-4a31-9f28-f4b8d8b08e24",
   "metadata": {
    "hidden": true,
    "lc_cell_meme": {
     "current": "c031e19c-c10a-11ef-bf7d-02420a64004f",
     "history": [
      {
       "current": "c0312a90-c10a-11ef-bf7d-02420a64004f",
       "next": "c0312af4-c10a-11ef-bf7d-02420a64004f",
       "previous": "c0312a22-c10a-11ef-bf7d-02420a64004f"
      }
     ],
     "next": "c031e1ec-c10a-11ef-bf7d-02420a64004f",
     "previous": "c031e14c-c10a-11ef-bf7d-02420a64004f"
    }
   },
   "outputs": [],
   "source": [
    "ugroup = vcp.get_ugroup(ugroup_name)\n",
    "ugroup.df_nodes()"
   ]
  },
  {
   "cell_type": "markdown",
   "id": "46f48761-083b-41a1-9768-f38bd828affa",
   "metadata": {
    "hidden": true,
    "lc_cell_meme": {
     "current": "c031e1ec-c10a-11ef-bf7d-02420a64004f",
     "history": [
      {
       "current": "c0312af4-c10a-11ef-bf7d-02420a64004f",
       "next": "c0312b62-c10a-11ef-bf7d-02420a64004f",
       "previous": "c0312a90-c10a-11ef-bf7d-02420a64004f"
      }
     ],
     "next": "c031e23c-c10a-11ef-bf7d-02420a64004f",
     "previous": "c031e19c-c10a-11ef-bf7d-02420a64004f"
    }
   },
   "source": [
    "まず worker の VCノードを削除します。\n",
    "\n",
    "> workerのVCノードがない場合は何もしません。"
   ]
  },
  {
   "cell_type": "code",
   "execution_count": null,
   "id": "a34efe27-c6bf-4272-a5e1-5a25f57dd487",
   "metadata": {
    "hidden": true,
    "lc_cell_meme": {
     "current": "c031e23c-c10a-11ef-bf7d-02420a64004f",
     "history": [
      {
       "current": "c0312b62-c10a-11ef-bf7d-02420a64004f",
       "next": "c0312bd0-c10a-11ef-bf7d-02420a64004f",
       "previous": "c0312af4-c10a-11ef-bf7d-02420a64004f"
      }
     ],
     "next": "c031e28c-c10a-11ef-bf7d-02420a64004f",
     "previous": "c031e1ec-c10a-11ef-bf7d-02420a64004f"
    }
   },
   "outputs": [],
   "source": [
    "worker_unit = ugroup.get_unit('worker')\n",
    "if worker_unit:\n",
    "    worker_unit.delete_nodes(num_delete_nodes=len(worker_unit.find_nodes()))"
   ]
  },
  {
   "cell_type": "markdown",
   "id": "903ac6f4-8f88-48d5-afd9-19a6cb889e9d",
   "metadata": {
    "hidden": true,
    "lc_cell_meme": {
     "current": "c031e28c-c10a-11ef-bf7d-02420a64004f",
     "history": [
      {
       "current": "c0312bd0-c10a-11ef-bf7d-02420a64004f",
       "next": "c0312c3e-c10a-11ef-bf7d-02420a64004f",
       "previous": "c0312b62-c10a-11ef-bf7d-02420a64004f"
      }
     ],
     "next": "c031e2d2-c10a-11ef-bf7d-02420a64004f",
     "previous": "c031e23c-c10a-11ef-bf7d-02420a64004f"
    }
   },
   "source": [
    "マスターのVCノードを削除します。"
   ]
  },
  {
   "cell_type": "code",
   "execution_count": null,
   "id": "1b9b6d3a-afbb-4937-ad2d-168d7e1cd733",
   "metadata": {
    "hidden": true,
    "lc_cell_meme": {
     "current": "c031e2d2-c10a-11ef-bf7d-02420a64004f",
     "history": [
      {
       "current": "c0312c3e-c10a-11ef-bf7d-02420a64004f",
       "next": "c0312ca2-c10a-11ef-bf7d-02420a64004f",
       "previous": "c0312bd0-c10a-11ef-bf7d-02420a64004f"
      }
     ],
     "next": "c031e322-c10a-11ef-bf7d-02420a64004f",
     "previous": "c031e28c-c10a-11ef-bf7d-02420a64004f"
    }
   },
   "outputs": [],
   "source": [
    "manager_unit = ugroup.get_unit('manager')\n",
    "if manager_unit:\n",
    "    manager_unit.delete_nodes()"
   ]
  },
  {
   "cell_type": "markdown",
   "id": "d5f1b1f0-3c18-47b6-916c-bd450f3dace0",
   "metadata": {
    "hidden": true,
    "lc_cell_meme": {
     "current": "c031e322-c10a-11ef-bf7d-02420a64004f",
     "history": [
      {
       "current": "c0312ca2-c10a-11ef-bf7d-02420a64004f",
       "next": "c0312d10-c10a-11ef-bf7d-02420a64004f",
       "previous": "c0312c3e-c10a-11ef-bf7d-02420a64004f"
      }
     ],
     "next": "c031e372-c10a-11ef-bf7d-02420a64004f",
     "previous": "c031e2d2-c10a-11ef-bf7d-02420a64004f"
    }
   },
   "source": [
    "UnitGroupに属する全てのVCノードとUnitGroupの削除を行います。"
   ]
  },
  {
   "cell_type": "code",
   "execution_count": null,
   "id": "aecc66cc-4fdb-40b5-86ef-a99ff1b39948",
   "metadata": {
    "hidden": true,
    "lc_cell_meme": {
     "current": "c031e372-c10a-11ef-bf7d-02420a64004f",
     "history": [
      {
       "current": "c0312d10-c10a-11ef-bf7d-02420a64004f",
       "next": "c0312d74-c10a-11ef-bf7d-02420a64004f",
       "previous": "c0312ca2-c10a-11ef-bf7d-02420a64004f"
      }
     ],
     "next": "c031e3c2-c10a-11ef-bf7d-02420a64004f",
     "previous": "c031e322-c10a-11ef-bf7d-02420a64004f"
    }
   },
   "outputs": [],
   "source": [
    "ugroup.cleanup()"
   ]
  },
  {
   "cell_type": "markdown",
   "id": "04ff8c5f-660c-40e0-9579-6e6315c9ce9d",
   "metadata": {
    "hidden": true,
    "lc_cell_meme": {
     "current": "c031e3c2-c10a-11ef-bf7d-02420a64004f",
     "history": [
      {
       "current": "c0312d74-c10a-11ef-bf7d-02420a64004f",
       "next": "c0312de2-c10a-11ef-bf7d-02420a64004f",
       "previous": "c0312d10-c10a-11ef-bf7d-02420a64004f"
      }
     ],
     "next": "c031e412-c10a-11ef-bf7d-02420a64004f",
     "previous": "c031e372-c10a-11ef-bf7d-02420a64004f"
    }
   },
   "source": [
    "削除後の UnitGroupの一覧を確認します。"
   ]
  },
  {
   "cell_type": "code",
   "execution_count": null,
   "id": "752e77ab-0dce-449b-bf26-0fa487ffad8e",
   "metadata": {
    "hidden": true,
    "lc_cell_meme": {
     "current": "c031e412-c10a-11ef-bf7d-02420a64004f",
     "history": [
      {
       "current": "c0312de2-c10a-11ef-bf7d-02420a64004f",
       "next": "c0312ec8-c10a-11ef-bf7d-02420a64004f",
       "previous": "c0312d74-c10a-11ef-bf7d-02420a64004f"
      }
     ],
     "next": "c031e462-c10a-11ef-bf7d-02420a64004f",
     "previous": "c031e3c2-c10a-11ef-bf7d-02420a64004f"
    }
   },
   "outputs": [],
   "source": [
    "vcp.df_ugroups()"
   ]
  },
  {
   "cell_type": "markdown",
   "id": "564b6977-b654-45a3-8fbb-08b3dbf05813",
   "metadata": {
    "heading_collapsed": true,
    "hidden": true,
    "lc_cell_meme": {
     "current": "c031e462-c10a-11ef-bf7d-02420a64004f",
     "history": [
      {
       "current": "c0312ec8-c10a-11ef-bf7d-02420a64004f",
       "next": "c0312f36-c10a-11ef-bf7d-02420a64004f",
       "previous": "c0312de2-c10a-11ef-bf7d-02420a64004f"
      }
     ],
     "next": "c031e4b2-c10a-11ef-bf7d-02420a64004f",
     "previous": "c031e412-c10a-11ef-bf7d-02420a64004f"
    }
   },
   "source": [
    "### VCディスクの削除"
   ]
  },
  {
   "cell_type": "markdown",
   "id": "b196df34-2db3-49bb-93af-b0aa544f564e",
   "metadata": {
    "hidden": true,
    "lc_cell_meme": {
     "current": "c031e4b2-c10a-11ef-bf7d-02420a64004f",
     "history": [
      {
       "current": "c0312f36-c10a-11ef-bf7d-02420a64004f",
       "next": "c0312fa4-c10a-11ef-bf7d-02420a64004f",
       "previous": "c0312ec8-c10a-11ef-bf7d-02420a64004f"
      }
     ],
     "next": "c031e502-c10a-11ef-bf7d-02420a64004f",
     "previous": "c031e462-c10a-11ef-bf7d-02420a64004f"
    }
   },
   "source": [
    "NFS用のVCディスクを削除します。\n",
    "\n",
    "> VCディスクを作成していない場合は、何もしません。"
   ]
  },
  {
   "cell_type": "markdown",
   "id": "d3ada313-2672-4d31-be73-2e83c8445b49",
   "metadata": {
    "hidden": true,
    "lc_cell_meme": {
     "current": "c031e502-c10a-11ef-bf7d-02420a64004f",
     "history": [
      {
       "current": "c0312fa4-c10a-11ef-bf7d-02420a64004f",
       "next": "c0313012-c10a-11ef-bf7d-02420a64004f",
       "previous": "c0312f36-c10a-11ef-bf7d-02420a64004f"
      }
     ],
     "next": "c031e548-c10a-11ef-bf7d-02420a64004f",
     "previous": "c031e4b2-c10a-11ef-bf7d-02420a64004f"
    }
   },
   "source": [
    "現在の状態を確認します。"
   ]
  },
  {
   "cell_type": "code",
   "execution_count": null,
   "id": "d95a50da-c10c-4c1e-a474-4267ba2bfb30",
   "metadata": {
    "hidden": true,
    "lc_cell_meme": {
     "current": "c031e548-c10a-11ef-bf7d-02420a64004f",
     "history": [
      {
       "current": "c0313012-c10a-11ef-bf7d-02420a64004f",
       "next": "c0313080-c10a-11ef-bf7d-02420a64004f",
       "previous": "c0312fa4-c10a-11ef-bf7d-02420a64004f"
      }
     ],
     "next": "c031e598-c10a-11ef-bf7d-02420a64004f",
     "previous": "c031e502-c10a-11ef-bf7d-02420a64004f"
    }
   },
   "outputs": [],
   "source": [
    "from IPython.display import display\n",
    "ug_disk = vcp.get_ugroup(ugroup_name + '_disk')\n",
    "if ug_disk:\n",
    "    display(ug_disk.df_nodes())"
   ]
  },
  {
   "cell_type": "markdown",
   "id": "12db2d4e-ea08-41cb-9973-04f82ff3f6fa",
   "metadata": {
    "hidden": true,
    "lc_cell_meme": {
     "current": "c031e598-c10a-11ef-bf7d-02420a64004f",
     "history": [
      {
       "current": "c0313080-c10a-11ef-bf7d-02420a64004f",
       "next": "c03130e4-c10a-11ef-bf7d-02420a64004f",
       "previous": "c0313012-c10a-11ef-bf7d-02420a64004f"
      }
     ],
     "next": "c031e5e8-c10a-11ef-bf7d-02420a64004f",
     "previous": "c031e548-c10a-11ef-bf7d-02420a64004f"
    }
   },
   "source": [
    "VCディスクを削除します。"
   ]
  },
  {
   "cell_type": "code",
   "execution_count": null,
   "id": "35e204c5-9b20-4f58-82ae-67a246fa0e83",
   "metadata": {
    "hidden": true,
    "lc_cell_meme": {
     "current": "c031e5e8-c10a-11ef-bf7d-02420a64004f",
     "history": [
      {
       "current": "c03130e4-c10a-11ef-bf7d-02420a64004f",
       "next": "c0313152-c10a-11ef-bf7d-02420a64004f",
       "previous": "c0313080-c10a-11ef-bf7d-02420a64004f"
      }
     ],
     "next": "c031e638-c10a-11ef-bf7d-02420a64004f",
     "previous": "c031e598-c10a-11ef-bf7d-02420a64004f"
    }
   },
   "outputs": [],
   "source": [
    "if ug_disk:\n",
    "    ug_disk.cleanup()"
   ]
  },
  {
   "cell_type": "markdown",
   "id": "0b83dc7b-466a-4ffc-849e-f648225ababf",
   "metadata": {
    "hidden": true,
    "lc_cell_meme": {
     "current": "c031e638-c10a-11ef-bf7d-02420a64004f",
     "history": [
      {
       "current": "c0313152-c10a-11ef-bf7d-02420a64004f",
       "next": "c03131c0-c10a-11ef-bf7d-02420a64004f",
       "previous": "c03130e4-c10a-11ef-bf7d-02420a64004f"
      }
     ],
     "next": "c031e688-c10a-11ef-bf7d-02420a64004f",
     "previous": "c031e5e8-c10a-11ef-bf7d-02420a64004f"
    }
   },
   "source": [
    "削除後のUnitGroupの一覧を確認します。"
   ]
  },
  {
   "cell_type": "code",
   "execution_count": null,
   "id": "a1ed0522-6f9f-47d3-9b1a-36e246428c75",
   "metadata": {
    "hidden": true,
    "lc_cell_meme": {
     "current": "c031e688-c10a-11ef-bf7d-02420a64004f",
     "history": [
      {
       "current": "c03131c0-c10a-11ef-bf7d-02420a64004f",
       "next": "c031322e-c10a-11ef-bf7d-02420a64004f",
       "previous": "c0313152-c10a-11ef-bf7d-02420a64004f"
      }
     ],
     "next": "c031e6d8-c10a-11ef-bf7d-02420a64004f",
     "previous": "c031e638-c10a-11ef-bf7d-02420a64004f"
    }
   },
   "outputs": [],
   "source": [
    "vcp.df_ugroups()"
   ]
  },
  {
   "cell_type": "markdown",
   "id": "1e0c677c-b87d-404a-bef8-11129f11511b",
   "metadata": {
    "heading_collapsed": true,
    "lc_cell_meme": {
     "current": "c031e6d8-c10a-11ef-bf7d-02420a64004f",
     "history": [
      {
       "current": "c031322e-c10a-11ef-bf7d-02420a64004f",
       "next": "c0313292-c10a-11ef-bf7d-02420a64004f",
       "previous": "c03131c0-c10a-11ef-bf7d-02420a64004f"
      }
     ],
     "next": "c031e71e-c10a-11ef-bf7d-02420a64004f",
     "previous": "c031e688-c10a-11ef-bf7d-02420a64004f"
    }
   },
   "source": [
    "## Ansible設定のクリア\n",
    "\n",
    "削除した環境に対応するAnsibleの設定をクリアします。"
   ]
  },
  {
   "cell_type": "markdown",
   "id": "a7a6717b-e46e-45e7-8581-358db9b1c8ab",
   "metadata": {
    "heading_collapsed": true,
    "hidden": true,
    "lc_cell_meme": {
     "current": "c031e71e-c10a-11ef-bf7d-02420a64004f",
     "history": [
      {
       "current": "c0313292-c10a-11ef-bf7d-02420a64004f",
       "next": "c0313300-c10a-11ef-bf7d-02420a64004f",
       "previous": "c031322e-c10a-11ef-bf7d-02420a64004f"
      }
     ],
     "next": "c031e76e-c10a-11ef-bf7d-02420a64004f",
     "previous": "c031e6d8-c10a-11ef-bf7d-02420a64004f"
    }
   },
   "source": [
    "### group_varsファイル\n",
    "\n",
    "group_varsファイルをリネームします。"
   ]
  },
  {
   "cell_type": "code",
   "execution_count": null,
   "id": "f59402e2-955c-45af-b43a-8534cb0d2463",
   "metadata": {
    "hidden": true,
    "lc_cell_meme": {
     "current": "c031e76e-c10a-11ef-bf7d-02420a64004f",
     "history": [
      {
       "current": "c0313300-c10a-11ef-bf7d-02420a64004f",
       "next": "c0313378-c10a-11ef-bf7d-02420a64004f",
       "previous": "c0313292-c10a-11ef-bf7d-02420a64004f"
      }
     ],
     "next": "c031e7be-c10a-11ef-bf7d-02420a64004f",
     "previous": "c031e71e-c10a-11ef-bf7d-02420a64004f"
    }
   },
   "outputs": [],
   "source": [
    "!mv group_vars/{ugroup_name} group_vars/.{ugroup_name}.bak"
   ]
  },
  {
   "cell_type": "markdown",
   "id": "835baa86-10c8-4c34-b9f0-33a24f26ad7c",
   "metadata": {
    "heading_collapsed": true,
    "hidden": true,
    "lc_cell_meme": {
     "current": "c031e7be-c10a-11ef-bf7d-02420a64004f",
     "history": [
      {
       "current": "c0313378-c10a-11ef-bf7d-02420a64004f",
       "next": "c03133fa-c10a-11ef-bf7d-02420a64004f",
       "previous": "c0313300-c10a-11ef-bf7d-02420a64004f"
      }
     ],
     "next": "c031e80e-c10a-11ef-bf7d-02420a64004f",
     "previous": "c031e76e-c10a-11ef-bf7d-02420a64004f"
    }
   },
   "source": [
    "### インベントリ"
   ]
  },
  {
   "cell_type": "markdown",
   "id": "9bb5564b-a108-427d-9f8d-ef88fcf71115",
   "metadata": {
    "hidden": true,
    "lc_cell_meme": {
     "current": "c031e80e-c10a-11ef-bf7d-02420a64004f",
     "history": [
      {
       "current": "c03133fa-c10a-11ef-bf7d-02420a64004f",
       "next": "c0313472-c10a-11ef-bf7d-02420a64004f",
       "previous": "c0313378-c10a-11ef-bf7d-02420a64004f"
      }
     ],
     "next": "c031e85e-c10a-11ef-bf7d-02420a64004f",
     "previous": "c031e7be-c10a-11ef-bf7d-02420a64004f"
    }
   },
   "source": [
    "インベントリから削除対象のグループを除去します。"
   ]
  },
  {
   "cell_type": "code",
   "execution_count": null,
   "id": "2cbb0130-aac7-489b-8b50-f5d86cbd2cc9",
   "metadata": {
    "hidden": true,
    "lc_cell_meme": {
     "current": "c031e85e-c10a-11ef-bf7d-02420a64004f",
     "history": [
      {
       "current": "c0313472-c10a-11ef-bf7d-02420a64004f",
       "next": "c03134ea-c10a-11ef-bf7d-02420a64004f",
       "previous": "c03133fa-c10a-11ef-bf7d-02420a64004f"
      }
     ],
     "next": "c031e8ae-c10a-11ef-bf7d-02420a64004f",
     "previous": "c031e80e-c10a-11ef-bf7d-02420a64004f"
    }
   },
   "outputs": [],
   "source": [
    "%run scripts/group.py\n",
    "remove_group_from_inventory_yml(ugroup_name)\n",
    "\n",
    "# 削除前との差分を表示します。\n",
    "! ! diff -u inventory.yml.bak inventory.yml"
   ]
  },
  {
   "cell_type": "markdown",
   "id": "44889802-719a-4d4e-b366-e75189c4d096",
   "metadata": {
    "heading_collapsed": true,
    "lc_cell_meme": {
     "current": "c031e8ae-c10a-11ef-bf7d-02420a64004f",
     "history": [
      {
       "current": "c03134ea-c10a-11ef-bf7d-02420a64004f",
       "next": "c031356c-c10a-11ef-bf7d-02420a64004f",
       "previous": "c0313472-c10a-11ef-bf7d-02420a64004f"
      }
     ],
     "next": "c031e8fe-c10a-11ef-bf7d-02420a64004f",
     "previous": "c031e85e-c10a-11ef-bf7d-02420a64004f"
    }
   },
   "source": [
    "## 設定ファイルの削除\n",
    "\n",
    "設定用ファイルを削除します。"
   ]
  },
  {
   "cell_type": "markdown",
   "id": "1f4e881c-3e11-40a0-a8fc-cb93088cc414",
   "metadata": {
    "heading_collapsed": true,
    "hidden": true,
    "lc_cell_meme": {
     "current": "c031e8fe-c10a-11ef-bf7d-02420a64004f",
     "history": [
      {
       "current": "c031356c-c10a-11ef-bf7d-02420a64004f",
       "next": "c03135e4-c10a-11ef-bf7d-02420a64004f",
       "previous": "c03134ea-c10a-11ef-bf7d-02420a64004f"
      }
     ],
     "next": "c031e94e-c10a-11ef-bf7d-02420a64004f",
     "previous": "c031e8ae-c10a-11ef-bf7d-02420a64004f"
    }
   },
   "source": [
    "### 設定用ファイル  \n",
    "\n",
    "設定用ファイルが入っているディレクトリをリネームします。"
   ]
  },
  {
   "cell_type": "code",
   "execution_count": null,
   "id": "2d7a5dbf-8069-4adf-a5e4-ae0710ef50d1",
   "metadata": {
    "hidden": true,
    "lc_cell_meme": {
     "current": "c031e94e-c10a-11ef-bf7d-02420a64004f",
     "history": [
      {
       "current": "c03135e4-c10a-11ef-bf7d-02420a64004f",
       "next": null,
       "previous": "c031356c-c10a-11ef-bf7d-02420a64004f"
      }
     ],
     "next": null,
     "previous": "c031e8fe-c10a-11ef-bf7d-02420a64004f"
    }
   },
   "outputs": [],
   "source": [
    "!mv edit edit.bak"
   ]
  }
 ],
 "metadata": {
  "kernelspec": {
   "display_name": "Python 3",
   "language": "python",
   "name": "python3"
  },
  "language_info": {
   "file_extension": ".py",
   "mimetype": "text/x-python",
   "name": "python",
   "nbconvert_exporter": "python",
   "pygments_lexer": "ipython3",
   "version": "3.10.11"
  },
  "lc_notebook_meme": {
   "current": "c031db52-c10a-11ef-bf7d-02420a64004f",
   "history": [
    "c0312176-c10a-11ef-bf7d-02420a64004f"
   ],
   "root_cells": [
    "c031dbfc-c10a-11ef-bf7d-02420a64004f",
    "c031dc60-c10a-11ef-bf7d-02420a64004f",
    "c031dcb0-c10a-11ef-bf7d-02420a64004f",
    "c031dd00-c10a-11ef-bf7d-02420a64004f",
    "c031dd50-c10a-11ef-bf7d-02420a64004f",
    "c031dda0-c10a-11ef-bf7d-02420a64004f",
    "c031dde6-c10a-11ef-bf7d-02420a64004f",
    "c031de36-c10a-11ef-bf7d-02420a64004f",
    "c031de86-c10a-11ef-bf7d-02420a64004f",
    "c031ded6-c10a-11ef-bf7d-02420a64004f",
    "c031df26-c10a-11ef-bf7d-02420a64004f",
    "c031df76-c10a-11ef-bf7d-02420a64004f",
    "c031dfc6-c10a-11ef-bf7d-02420a64004f",
    "c031e016-c10a-11ef-bf7d-02420a64004f",
    "c031e066-c10a-11ef-bf7d-02420a64004f",
    "c031e0ac-c10a-11ef-bf7d-02420a64004f",
    "c031e0fc-c10a-11ef-bf7d-02420a64004f",
    "c031e14c-c10a-11ef-bf7d-02420a64004f",
    "c031e19c-c10a-11ef-bf7d-02420a64004f",
    "c031e1ec-c10a-11ef-bf7d-02420a64004f",
    "c031e23c-c10a-11ef-bf7d-02420a64004f",
    "c031e28c-c10a-11ef-bf7d-02420a64004f",
    "c031e2d2-c10a-11ef-bf7d-02420a64004f",
    "c031e322-c10a-11ef-bf7d-02420a64004f",
    "c031e372-c10a-11ef-bf7d-02420a64004f",
    "c031e3c2-c10a-11ef-bf7d-02420a64004f",
    "c031e412-c10a-11ef-bf7d-02420a64004f",
    "c031e462-c10a-11ef-bf7d-02420a64004f",
    "c031e4b2-c10a-11ef-bf7d-02420a64004f",
    "c031e502-c10a-11ef-bf7d-02420a64004f",
    "c031e548-c10a-11ef-bf7d-02420a64004f",
    "c031e598-c10a-11ef-bf7d-02420a64004f",
    "c031e5e8-c10a-11ef-bf7d-02420a64004f",
    "c031e638-c10a-11ef-bf7d-02420a64004f",
    "c031e688-c10a-11ef-bf7d-02420a64004f",
    "c031e6d8-c10a-11ef-bf7d-02420a64004f",
    "c031e71e-c10a-11ef-bf7d-02420a64004f",
    "c031e76e-c10a-11ef-bf7d-02420a64004f",
    "c031e7be-c10a-11ef-bf7d-02420a64004f",
    "c031e80e-c10a-11ef-bf7d-02420a64004f",
    "c031e85e-c10a-11ef-bf7d-02420a64004f",
    "c031e8ae-c10a-11ef-bf7d-02420a64004f",
    "c031e8fe-c10a-11ef-bf7d-02420a64004f",
    "c031e94e-c10a-11ef-bf7d-02420a64004f"
   ],
   "root_cells_history": [
    [
     [
      "c03122c0-c10a-11ef-bf7d-02420a64004f",
      "c031dbfc-c10a-11ef-bf7d-02420a64004f"
     ],
     [
      "c0312356-c10a-11ef-bf7d-02420a64004f",
      "c031dc60-c10a-11ef-bf7d-02420a64004f"
     ],
     [
      "c03123ce-c10a-11ef-bf7d-02420a64004f",
      "c031dcb0-c10a-11ef-bf7d-02420a64004f"
     ],
     [
      "c031243c-c10a-11ef-bf7d-02420a64004f",
      "c031dd00-c10a-11ef-bf7d-02420a64004f"
     ],
     [
      "c03124aa-c10a-11ef-bf7d-02420a64004f",
      "c031dd50-c10a-11ef-bf7d-02420a64004f"
     ],
     [
      "c0312518-c10a-11ef-bf7d-02420a64004f",
      "c031dda0-c10a-11ef-bf7d-02420a64004f"
     ],
     [
      "c0312586-c10a-11ef-bf7d-02420a64004f",
      "c031dde6-c10a-11ef-bf7d-02420a64004f"
     ],
     [
      "c03125f4-c10a-11ef-bf7d-02420a64004f",
      "c031de36-c10a-11ef-bf7d-02420a64004f"
     ],
     [
      "c0312658-c10a-11ef-bf7d-02420a64004f",
      "c031de86-c10a-11ef-bf7d-02420a64004f"
     ],
     [
      "c03126c6-c10a-11ef-bf7d-02420a64004f",
      "c031ded6-c10a-11ef-bf7d-02420a64004f"
     ],
     [
      "c0312734-c10a-11ef-bf7d-02420a64004f",
      "c031df26-c10a-11ef-bf7d-02420a64004f"
     ],
     [
      "c03127a2-c10a-11ef-bf7d-02420a64004f",
      "c031df76-c10a-11ef-bf7d-02420a64004f"
     ],
     [
      "c0312810-c10a-11ef-bf7d-02420a64004f",
      "c031dfc6-c10a-11ef-bf7d-02420a64004f"
     ],
     [
      "c0312874-c10a-11ef-bf7d-02420a64004f",
      "c031e016-c10a-11ef-bf7d-02420a64004f"
     ],
     [
      "c03128e2-c10a-11ef-bf7d-02420a64004f",
      "c031e066-c10a-11ef-bf7d-02420a64004f"
     ],
     [
      "c0312950-c10a-11ef-bf7d-02420a64004f",
      "c031e0ac-c10a-11ef-bf7d-02420a64004f"
     ],
     [
      "c03129b4-c10a-11ef-bf7d-02420a64004f",
      "c031e0fc-c10a-11ef-bf7d-02420a64004f"
     ],
     [
      "c0312a22-c10a-11ef-bf7d-02420a64004f",
      "c031e14c-c10a-11ef-bf7d-02420a64004f"
     ],
     [
      "c0312a90-c10a-11ef-bf7d-02420a64004f",
      "c031e19c-c10a-11ef-bf7d-02420a64004f"
     ],
     [
      "c0312af4-c10a-11ef-bf7d-02420a64004f",
      "c031e1ec-c10a-11ef-bf7d-02420a64004f"
     ],
     [
      "c0312b62-c10a-11ef-bf7d-02420a64004f",
      "c031e23c-c10a-11ef-bf7d-02420a64004f"
     ],
     [
      "c0312bd0-c10a-11ef-bf7d-02420a64004f",
      "c031e28c-c10a-11ef-bf7d-02420a64004f"
     ],
     [
      "c0312c3e-c10a-11ef-bf7d-02420a64004f",
      "c031e2d2-c10a-11ef-bf7d-02420a64004f"
     ],
     [
      "c0312ca2-c10a-11ef-bf7d-02420a64004f",
      "c031e322-c10a-11ef-bf7d-02420a64004f"
     ],
     [
      "c0312d10-c10a-11ef-bf7d-02420a64004f",
      "c031e372-c10a-11ef-bf7d-02420a64004f"
     ],
     [
      "c0312d74-c10a-11ef-bf7d-02420a64004f",
      "c031e3c2-c10a-11ef-bf7d-02420a64004f"
     ],
     [
      "c0312de2-c10a-11ef-bf7d-02420a64004f",
      "c031e412-c10a-11ef-bf7d-02420a64004f"
     ],
     [
      "c0312ec8-c10a-11ef-bf7d-02420a64004f",
      "c031e462-c10a-11ef-bf7d-02420a64004f"
     ],
     [
      "c0312f36-c10a-11ef-bf7d-02420a64004f",
      "c031e4b2-c10a-11ef-bf7d-02420a64004f"
     ],
     [
      "c0312fa4-c10a-11ef-bf7d-02420a64004f",
      "c031e502-c10a-11ef-bf7d-02420a64004f"
     ],
     [
      "c0313012-c10a-11ef-bf7d-02420a64004f",
      "c031e548-c10a-11ef-bf7d-02420a64004f"
     ],
     [
      "c0313080-c10a-11ef-bf7d-02420a64004f",
      "c031e598-c10a-11ef-bf7d-02420a64004f"
     ],
     [
      "c03130e4-c10a-11ef-bf7d-02420a64004f",
      "c031e5e8-c10a-11ef-bf7d-02420a64004f"
     ],
     [
      "c0313152-c10a-11ef-bf7d-02420a64004f",
      "c031e638-c10a-11ef-bf7d-02420a64004f"
     ],
     [
      "c03131c0-c10a-11ef-bf7d-02420a64004f",
      "c031e688-c10a-11ef-bf7d-02420a64004f"
     ],
     [
      "c031322e-c10a-11ef-bf7d-02420a64004f",
      "c031e6d8-c10a-11ef-bf7d-02420a64004f"
     ],
     [
      "c0313292-c10a-11ef-bf7d-02420a64004f",
      "c031e71e-c10a-11ef-bf7d-02420a64004f"
     ],
     [
      "c0313300-c10a-11ef-bf7d-02420a64004f",
      "c031e76e-c10a-11ef-bf7d-02420a64004f"
     ],
     [
      "c0313378-c10a-11ef-bf7d-02420a64004f",
      "c031e7be-c10a-11ef-bf7d-02420a64004f"
     ],
     [
      "c03133fa-c10a-11ef-bf7d-02420a64004f",
      "c031e80e-c10a-11ef-bf7d-02420a64004f"
     ],
     [
      "c0313472-c10a-11ef-bf7d-02420a64004f",
      "c031e85e-c10a-11ef-bf7d-02420a64004f"
     ],
     [
      "c03134ea-c10a-11ef-bf7d-02420a64004f",
      "c031e8ae-c10a-11ef-bf7d-02420a64004f"
     ],
     [
      "c031356c-c10a-11ef-bf7d-02420a64004f",
      "c031e8fe-c10a-11ef-bf7d-02420a64004f"
     ],
     [
      "c03135e4-c10a-11ef-bf7d-02420a64004f",
      "c031e94e-c10a-11ef-bf7d-02420a64004f"
     ]
    ]
   ]
  },
  "toc": {
   "base_numbering": 1,
   "nav_menu": {},
   "number_sections": true,
   "sideBar": true,
   "skip_h1_title": true,
   "title_cell": "Table of Contents",
   "title_sidebar": "Contents",
   "toc_cell": false,
   "toc_position": {
    "height": "calc(100% - 180px)",
    "left": "10px",
    "top": "150px",
    "width": "333.2px"
   },
   "toc_section_display": true,
   "toc_window_display": true
  }
 },
 "nbformat": 4,
 "nbformat_minor": 5
}
