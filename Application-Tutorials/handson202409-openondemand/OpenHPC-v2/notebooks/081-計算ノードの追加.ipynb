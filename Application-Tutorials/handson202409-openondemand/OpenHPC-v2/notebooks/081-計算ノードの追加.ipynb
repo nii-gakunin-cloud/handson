{
 "cells": [
  {
   "cell_type": "markdown",
   "metadata": {},
   "source": [
    "# 計算ノードの追加"
   ]
  },
  {
   "cell_type": "markdown",
   "metadata": {},
   "source": [
    "このnotebookでは、OCS OpenHPC-v2テンプレートで作成されたSlurmクラスタに計算ノードを追加する手順について説明します。"
   ]
  },
  {
   "cell_type": "markdown",
   "metadata": {},
   "source": [
    "## 前提"
   ]
  },
  {
   "cell_type": "markdown",
   "metadata": {},
   "source": [
    "* このnotebookで動作確認しているのは、mdx VM上に構築されたOpenHPC環境のみです。他のクラウドプロバイダ上に構築された環境に適用する場合には変更が必要かもしれません。\n",
    "* 正常にジョブ実行ができる状態となっている状態を前提とします。構築途中であったり不具合のある状態の環境は対象としません。\n",
    "* 既存の計算ノードのIPアドレスは連続した状態で構築されているものとします。また、このnotebookで新規に追加される計算ノードのIPアドレスは、既存の計算ノードのIPアドレスの4オクテット目に1加算されたものとなります。"
   ]
  },
  {
   "cell_type": "markdown",
   "metadata": {},
   "source": [
    "## 準備"
   ]
  },
  {
   "cell_type": "markdown",
   "metadata": {},
   "source": [
    "### UnitGroup名の指定\n",
    "\n",
    "構築環境の UnitGroup名を指定します。"
   ]
  },
  {
   "cell_type": "markdown",
   "metadata": {},
   "source": [
    "VCノードを作成時に指定した値を確認するために group_vars ファイル名の一覧を表示します。"
   ]
  },
  {
   "cell_type": "code",
   "execution_count": null,
   "metadata": {},
   "outputs": [],
   "source": [
    "!ls -1 group_vars/*.yml | sed -e 's/^group_vars\\///' -e 's/\\.yml//' | sort"
   ]
  },
  {
   "cell_type": "markdown",
   "metadata": {},
   "source": [
    "UnitGroup名を次のセルに指定してください。"
   ]
  },
  {
   "cell_type": "code",
   "execution_count": null,
   "metadata": {},
   "outputs": [],
   "source": [
    "# (例)\n",
    "# ugroup_name = 'OpenHPC'\n",
    "\n",
    "ugroup_name = "
   ]
  },
  {
   "cell_type": "markdown",
   "metadata": {},
   "source": [
    "### VCCアクセストークンの入力"
   ]
  },
  {
   "cell_type": "markdown",
   "metadata": {},
   "source": [
    "VCノードを起動するにはVC Controller(VCC)にアクセスして、操作を行う必要があります。VCCにアクセスするために必要となるアクセストークンをここで入力します。"
   ]
  },
  {
   "cell_type": "code",
   "execution_count": null,
   "metadata": {},
   "outputs": [],
   "source": [
    "from getpass import getpass\n",
    "vcc_access_token = getpass()"
   ]
  },
  {
   "cell_type": "markdown",
   "metadata": {},
   "source": [
    "入力されたアクセストークンが正しいことを、実際にVCCにアクセスして確認します。"
   ]
  },
  {
   "cell_type": "code",
   "execution_count": null,
   "metadata": {},
   "outputs": [],
   "source": [
    "from common import logsetting\n",
    "from vcpsdk.vcpsdk import VcpSDK\n",
    "vcp = VcpSDK(vcc_access_token)"
   ]
  },
  {
   "cell_type": "markdown",
   "metadata": {},
   "source": [
    "上のセルの実行結果がエラーとなり以下のようなメッセージが表示されている場合は、入力されたアクセストークンに誤りがあります。\n",
    "\n",
    "```\n",
    "config vc failed: http_status(403)\n",
    "2021/XX/XX XX:XX:XX UTC: VCPAuthException: xxxxxxx:token lookup is failed: permission denied\n",
    "```\n",
    "\n",
    "エラーになった場合はこの節のセルを全て `unfreeze` してから、もう一度アクセストークンの入力を行ってください。\n",
    "\n",
    "> `unfreeze`するにはNotebookのツールバーにある`unfreeze below in section`ボタンなどを利用してください。"
   ]
  },
  {
   "cell_type": "markdown",
   "metadata": {},
   "source": [
    "### group_varsの読み込み"
   ]
  },
  {
   "cell_type": "markdown",
   "metadata": {},
   "source": [
    "次のセルを実行すると「010-パラメータの設定.ipynb」で指定したパラメータを読み込みます。読み込むパラメータの値は、UnitGroup名に指定した 値に対応するものになります。UnitGroup名の指定が誤っていると意図したパラメータが読み込めないので注意してください。"
   ]
  },
  {
   "cell_type": "code",
   "execution_count": null,
   "metadata": {},
   "outputs": [],
   "source": [
    "%run scripts/group.py\n",
    "\n",
    "gvars = load_group_vars(ugroup_name)"
   ]
  },
  {
   "cell_type": "markdown",
   "metadata": {},
   "source": [
    "group_varsの内容を確認しておきます。"
   ]
  },
  {
   "cell_type": "code",
   "execution_count": null,
   "metadata": {},
   "outputs": [],
   "source": [
    "!cat group_vars/{ugroup_name}.yml"
   ]
  },
  {
   "cell_type": "markdown",
   "metadata": {},
   "source": [
    "## 追加するノードのパラメータ設定\n",
    "\n",
    "計算ノード追加の準備として、変数などの設定を実施します。"
   ]
  },
  {
   "cell_type": "markdown",
   "metadata": {},
   "source": [
    "追加するノード数を`nodes_to_add`に設定します。"
   ]
  },
  {
   "cell_type": "code",
   "execution_count": null,
   "metadata": {},
   "outputs": [],
   "source": [
    "nodes_to_add = 1"
   ]
  },
  {
   "cell_type": "markdown",
   "metadata": {},
   "source": [
    "以下のセルで計算ノードのホスト名からホスト名部分のプレフィックス部分を推定し、`c_hostname_prefix`に設定します。設定内容が表示されます。"
   ]
  },
  {
   "cell_type": "code",
   "execution_count": null,
   "metadata": {},
   "outputs": [],
   "source": [
    "cn_present = gvars['compute_etc_hosts']\n",
    "cn_max = max(cn_present.values(), key=len)\n",
    "for i in range(len(cn_max) - 2):\n",
    "    c_hostname_prefix = cn_max[0:-(i+1)]\n",
    "    for n in list(cn_present.values()):\n",
    "        matched = n.startswith(c_hostname_prefix)\n",
    "        if not matched:\n",
    "            break\n",
    "    if matched:\n",
    "        break\n",
    "\n",
    "c_hostname_prefix"
   ]
  },
  {
   "cell_type": "markdown",
   "metadata": {},
   "source": [
    "表示されたプレフィックスが正しくない場合は、以下のセルのコメントを外して、`c_hostname_prefix`に正しいプレフィックスを設定してください。"
   ]
  },
  {
   "cell_type": "code",
   "execution_count": null,
   "metadata": {},
   "outputs": [],
   "source": [
    "# c_hostname_prefix = ''"
   ]
  },
  {
   "cell_type": "markdown",
   "metadata": {},
   "source": [
    "以下のセルで、追加する計算ノードに割り当てる先頭のIPアドレスを推定します。"
   ]
  },
  {
   "cell_type": "code",
   "execution_count": null,
   "metadata": {},
   "outputs": [],
   "source": [
    "import ipaddress\n",
    "\n",
    "c_addr_base = max(map(ipaddress.ip_address,\n",
    "                      gvars['compute_etc_hosts'].keys())) + 1\n",
    "str(c_addr_base)"
   ]
  },
  {
   "cell_type": "markdown",
   "metadata": {},
   "source": [
    "推定されたアドレスが正しくない場合には、以下のセルのコメントを外して、`c_addr_base`に正しいIPアドレスを設定してください。"
   ]
  },
  {
   "cell_type": "code",
   "execution_count": null,
   "metadata": {},
   "outputs": [],
   "source": [
    "# c_addr_base = ipaddress.ip_address('192.168.1.30')"
   ]
  },
  {
   "cell_type": "markdown",
   "metadata": {},
   "source": [
    "今後の作業のために、追加する計算ノードのためのデータ構造を作成します。"
   ]
  },
  {
   "cell_type": "code",
   "execution_count": null,
   "metadata": {},
   "outputs": [],
   "source": [
    "c_add_etc_hosts = {\n",
    "        f'{c_addr_base + i}':\n",
    "            c_hostname_prefix + str(gvars['compute_nodes'] + i + 1)\n",
    "        for i in range(nodes_to_add)\n",
    "    }"
   ]
  },
  {
   "cell_type": "markdown",
   "metadata": {},
   "source": [
    "新規に追加する計算ノードのIPアドレスが適切かどうかチェックします。"
   ]
  },
  {
   "cell_type": "code",
   "execution_count": null,
   "metadata": {},
   "outputs": [],
   "source": [
    "%run scripts/utils.py\n",
    "\n",
    "check_parameters(\n",
    "    _params=dict(\n",
    "        vcp=vcp,\n",
    "        vc_provider=gvars['vc_provider'],\n",
    "        compute_nodes=nodes_to_add,\n",
    "    ),\n",
    "    compute_etc_hosts=c_add_etc_hosts,\n",
    ")"
   ]
  },
  {
   "cell_type": "markdown",
   "metadata": {},
   "source": [
    "## mdx VMの起動\n",
    "\n",
    "計算ノードとなるmdx VMを起動し、VCノードとして使用できる状態にします。VM起動時点でVCノードとして使用できる環境では、この章をスキップすればこのnotebookを使用できるよう意図しています(検証はしていません)。"
   ]
  },
  {
   "cell_type": "markdown",
   "metadata": {},
   "source": [
    "### mdx操作の準備"
   ]
  },
  {
   "cell_type": "markdown",
   "metadata": {},
   "source": [
    "以下のセルを実行してmdx REST API認証トークンを入力します。"
   ]
  },
  {
   "cell_type": "code",
   "execution_count": null,
   "metadata": {},
   "outputs": [],
   "source": [
    "from getpass import getpass\n",
    "mdx_token = getpass(\"mdx API token\")"
   ]
  },
  {
   "cell_type": "markdown",
   "metadata": {},
   "source": [
    "mdx REST APIエンドポイントにIPv6で接続しようとすると到達不可となる場合があるため、以下のセルを実行してIPv4での接続を強制します。"
   ]
  },
  {
   "cell_type": "code",
   "execution_count": null,
   "metadata": {},
   "outputs": [],
   "source": [
    "def use_ipv4_only():\n",
    "    import socket\n",
    "    old_getaddrinfo = socket.getaddrinfo\n",
    "    def new_getaddrinfo(*args, **kwargs):\n",
    "        responses = old_getaddrinfo(*args, **kwargs)\n",
    "        return [response\n",
    "                for response in responses\n",
    "                if response[0] == socket.AF_INET]\n",
    "    socket.getaddrinfo = new_getaddrinfo\n",
    "\n",
    "use_ipv4_only()"
   ]
  },
  {
   "cell_type": "markdown",
   "metadata": {},
   "source": [
    "VCP SDK mdx用プラグインモジュールを読み込みます。"
   ]
  },
  {
   "cell_type": "code",
   "execution_count": null,
   "metadata": {},
   "outputs": [],
   "source": [
    "from common import logsetting\n",
    "from vcpsdk.plugins.mdx_ext import MdxResourceExt\n",
    "mdx = MdxResourceExt(mdx_token)"
   ]
  },
  {
   "cell_type": "markdown",
   "metadata": {},
   "source": [
    "### 計算ノード用VMパラメータの設定"
   ]
  },
  {
   "cell_type": "markdown",
   "metadata": {},
   "source": [
    "以下のセルを実行することで、計算ノードのVMのパラメータを作成します。作成するVMは既存の計算ノードと同じパラメータ設定となります。"
   ]
  },
  {
   "cell_type": "code",
   "execution_count": null,
   "metadata": {},
   "outputs": [],
   "source": [
    "%run scripts/mdx_ops.py\n",
    "\n",
    "# disk_size\n",
    "if 'compute_root_size' in gvars:\n",
    "    disk_size = gvars['compute_root_size']\n",
    "else:\n",
    "    disk_size = 40\n",
    "\n",
    "# shared_key読み込み\n",
    "import os\n",
    "with open(os.path.expanduser(gvars['ssh_public_key_path'])) as f:\n",
    "    shared_key = f.read()\n",
    "\n",
    "c_spec = mdx_get_vm_spec(\n",
    "    mdx,\n",
    "    gvars['mdx_compute_pack_num'],\n",
    "    gvars['compute_use_gpu'],\n",
    "    disk_size,\n",
    "    gvars['mdx_segment_id'],\n",
    "    shared_key\n",
    ")"
   ]
  },
  {
   "cell_type": "markdown",
   "metadata": {},
   "source": [
    "2023-01-31のmdx REST APIの仕様変更により、VMのspecに`service_level`を指定しないとVMデプロイのリクエストがエラーとなるようになりました。このため、`service_level`を`guarantee`に指定して、明示的に起動保証VMとしてデプロイするよう指定します。"
   ]
  },
  {
   "cell_type": "code",
   "execution_count": null,
   "metadata": {},
   "outputs": [],
   "source": [
    "from vcpsdk.plugins.mdx_ext import MDX_VM_SPEC_SCHEMA\n",
    "\n",
    "if not 'service_level' in MDX_VM_SPEC_SCHEMA['properties']:\n",
    "    MDX_VM_SPEC_SCHEMA['properties'].update(\n",
    "        {'service_level': {'type': 'string'}}\n",
    "    )\n",
    "\n",
    "c_spec.update({'service_level': 'guarantee'})"
   ]
  },
  {
   "cell_type": "markdown",
   "metadata": {},
   "source": [
    "VM内のユーザの初期パスワードを`initial_passwd`に設定します。"
   ]
  },
  {
   "cell_type": "code",
   "execution_count": null,
   "metadata": {},
   "outputs": [],
   "source": [
    "initial_passwd = 'mdx additional cnode passwd'"
   ]
  },
  {
   "cell_type": "markdown",
   "metadata": {},
   "source": [
    "### VMデプロイ\n",
    "\n",
    "追加する計算ノードをmdx上にデプロイし、IPアドレスの変更を実施します。"
   ]
  },
  {
   "cell_type": "markdown",
   "metadata": {},
   "source": [
    "VMのデプロイと設定に数分程度要するため、実行中のセルの経過時間を表示するライブラリjupyter-autotime機能を有効化します。"
   ]
  },
  {
   "cell_type": "code",
   "execution_count": null,
   "metadata": {},
   "outputs": [],
   "source": [
    "!pip install --no-deps jupyter-autotime\n",
    "%load_ext autotime"
   ]
  },
  {
   "cell_type": "markdown",
   "metadata": {},
   "source": [
    "追加する計算ノードをデプロイし、外部からアクセスできるようになるまで待ちます。この処理には数分程度要します。"
   ]
  },
  {
   "cell_type": "code",
   "execution_count": null,
   "metadata": {},
   "outputs": [],
   "source": [
    "%run scripts/mdx_ops.py\n",
    "\n",
    "mdx_deploy_vms(mdx, list(c_add_etc_hosts.values()), c_spec,\n",
    "               project=gvars['mdx_project_name'], verbose=True)"
   ]
  },
  {
   "cell_type": "markdown",
   "metadata": {},
   "source": [
    "VMに対し初期パスワードを設定します。"
   ]
  },
  {
   "cell_type": "code",
   "execution_count": null,
   "metadata": {},
   "outputs": [],
   "source": [
    "%run scripts/mdx_ops.py\n",
    "\n",
    "mdx_set_init_passwd(mdx, c_add_etc_hosts.values(),\n",
    "                   gvars['ssh_private_key_path'],\n",
    "                   initial_passwd)"
   ]
  },
  {
   "cell_type": "markdown",
   "metadata": {},
   "source": [
    "IPアドレスを変更します。"
   ]
  },
  {
   "cell_type": "code",
   "execution_count": null,
   "metadata": {},
   "outputs": [],
   "source": [
    "%run scripts/mdx_ops.py\n",
    "\n",
    "mdx_change_ipaddrs(mdx, c_add_etc_hosts,\n",
    "                   os.path.expanduser(gvars['ssh_private_key_path']),\n",
    "                   verbose=True)"
   ]
  },
  {
   "cell_type": "markdown",
   "metadata": {},
   "source": [
    "### VCノード向け設定"
   ]
  },
  {
   "cell_type": "markdown",
   "metadata": {},
   "source": [
    "mdx VMに対し、VCノードとして使用できるよう設定します。"
   ]
  },
  {
   "cell_type": "code",
   "execution_count": null,
   "metadata": {},
   "outputs": [],
   "source": [
    "%run scripts/mdx_ops.py\n",
    "\n",
    "vcppubkey = vcp.get_publickey()\n",
    "mdx_init_vcp(list(c_add_etc_hosts.keys()),\n",
    "             os.path.expanduser(gvars['ssh_private_key_path']),\n",
    "            vcppubkey)"
   ]
  },
  {
   "cell_type": "markdown",
   "metadata": {},
   "source": [
    "## Slurmへの組み込み\n",
    "\n",
    "起動したmdx VMをVC Unitに組み込み、必要な設定更新をした後でSlurmに組み込みます。"
   ]
  },
  {
   "cell_type": "markdown",
   "metadata": {},
   "source": [
    "### VC unitへの組み込み\n",
    "\n",
    "起動したmdx VMを計算ノードのUnitに組み込むことで、OpenHPCを導入します。"
   ]
  },
  {
   "cell_type": "markdown",
   "metadata": {},
   "source": [
    "UnitGroupの状態を表示し、組み込み先のUnitを確認します。"
   ]
  },
  {
   "cell_type": "code",
   "execution_count": null,
   "metadata": {},
   "outputs": [],
   "source": [
    "ug = vcp.get_ugroup(gvars['ugroup_name'])\n",
    "ug.df_units()"
   ]
  },
  {
   "cell_type": "markdown",
   "metadata": {},
   "source": [
    "mdx VMを計算ノードのUnitに組み込みます。"
   ]
  },
  {
   "cell_type": "code",
   "execution_count": null,
   "metadata": {},
   "outputs": [],
   "source": [
    "unit = ug.get_unit('compute')\n",
    "unit.add_nodes(num_add_nodes=nodes_to_add,\n",
    "               ip_addresses=list(c_add_etc_hosts.keys()))"
   ]
  },
  {
   "cell_type": "markdown",
   "metadata": {},
   "source": [
    "### ansibleの設定更新\n",
    "\n",
    "追加したVCノードをansibleでの操作対象とするため、ansibleの設定を更新します。"
   ]
  },
  {
   "cell_type": "markdown",
   "metadata": {},
   "source": [
    "SSHのknown_hostsファイルに追加したノードのエントリを追加します。"
   ]
  },
  {
   "cell_type": "code",
   "execution_count": null,
   "metadata": {},
   "outputs": [],
   "source": [
    "from time import sleep\n",
    "\n",
    "def check_update_known_hosts(ipaddr):\n",
    "    # VCノード起動直後だと sshd サービスが開始されておらずに known_hosts が更新されない場合がある\n",
    "    # ssh-keyscan が値を取得できるまで何度かリトライする\n",
    "    for x in range(10):\n",
    "        out = ! echo $(ssh-keyscan {ipaddr} 2> /dev/null | wc -l)\n",
    "        update_lines = int(out[0])\n",
    "        if update_lines > 0:\n",
    "            break\n",
    "        sleep(1)\n",
    "    else:\n",
    "        raise RuntimeError(\"ERROR: timeout!\")    \n",
    "\n",
    "for addr in list(c_add_etc_hosts.keys()):\n",
    "    !ssh-keygen -R {addr}\n",
    "    check_update_known_hosts(addr)\n",
    "    !ssh-keyscan -H {addr} >> ~/.ssh/known_hosts"
   ]
  },
  {
   "cell_type": "markdown",
   "metadata": {},
   "source": [
    "ansibleの`inventory.yml`を更新します。"
   ]
  },
  {
   "cell_type": "code",
   "execution_count": null,
   "metadata": {},
   "outputs": [],
   "source": [
    "import yaml\n",
    "\n",
    "inventory = {\n",
    "    'all': {\n",
    "        'children': {\n",
    "            ug.name: {\n",
    "                'children': dict([\n",
    "                    (\n",
    "                        f'{ug.name}_{unit.name}',\n",
    "                        {\n",
    "                            'hosts': dict([\n",
    "                                (ip, {})\n",
    "                                for ip in unit.find_ip_addresses()\n",
    "                            ])\n",
    "                        }\n",
    "                    )\n",
    "                    for unit in ug.find_units()]),\n",
    "                'vars': {\n",
    "                    'ansible_user': 'vcp',\n",
    "                    'ansible_ssh_private_key_file': gvars['ssh_private_key_path'],\n",
    "                }\n",
    "            }\n",
    "        }\n",
    "    }\n",
    "}\n",
    "\n",
    "with open('inventory.yml', 'w') as f:\n",
    "    yaml.safe_dump(inventory, f, default_flow_style=False)\n",
    "    \n",
    "!cat inventory.yml"
   ]
  },
  {
   "cell_type": "markdown",
   "metadata": {},
   "source": [
    "追加したノードにansibleでアクセスできるか確認します。"
   ]
  },
  {
   "cell_type": "code",
   "execution_count": null,
   "metadata": {},
   "outputs": [],
   "source": [
    "!ansible {ug.name} -m ping"
   ]
  },
  {
   "cell_type": "markdown",
   "metadata": {},
   "source": [
    "### Slurmクラスタノードの設定ファイル更新\n",
    "\n",
    "追加したVCノードが正しく既存のSlurmクラスタに組み込めるよう、各ノードの設定ファイルを更新します。具体的には以下のファイルを更新します。\n",
    "* `/etc/hosts` (全VCノード)\n",
    "* ホスト名(追加VCノード)\n",
    "* アカウント関連ファイル(追加VCノード)\n",
    "* `/etc/slurm/slurm.conf` (全VCノード)"
   ]
  },
  {
   "cell_type": "markdown",
   "metadata": {},
   "source": [
    "`/etc/hosts`を更新します。"
   ]
  },
  {
   "cell_type": "code",
   "execution_count": null,
   "metadata": {},
   "outputs": [],
   "source": [
    "for addr, host in c_add_etc_hosts.items():\n",
    "    !ansible {ug.name} -m lineinfile -b -a \\\n",
    "        \"path=/etc/hosts line='{addr}\\t{host}' \\\n",
    "        state=present unsafe_writes=true\""
   ]
  },
  {
   "cell_type": "markdown",
   "metadata": {},
   "source": [
    "追加VCノードのホスト名を設定します。OpenHPC-v2テンプレートで使用しているコンテナでは、VcpSDKの`Unit.add_node()`でVCノードを追加した場合にホスト名が正しく設定されないため、別途設定します。"
   ]
  },
  {
   "cell_type": "code",
   "execution_count": null,
   "metadata": {},
   "outputs": [],
   "source": [
    "for addr in c_add_etc_hosts.keys():\n",
    "    !ansible {addr} -m shell -b -a \\\n",
    "        \"PRIVATE_IP={addr} sh /etc/vcp/rc.d/00-hostname.sh && \\\n",
    "            hostnamectl set-hostname --transient `cat /etc/hostname`\""
   ]
  },
  {
   "cell_type": "markdown",
   "metadata": {},
   "source": [
    "追加VCノードのユーザアカウント関連のファイルを、既存の計算ノードと一致させます。"
   ]
  },
  {
   "cell_type": "code",
   "execution_count": null,
   "metadata": {},
   "outputs": [],
   "source": [
    "filemodes = {\n",
    "    '/etc/passwd': '0644',\n",
    "    '/etc/group': '0644',\n",
    "    '/etc/shadow': '0000'\n",
    "}\n",
    "files = list(filemodes.keys())\n",
    "srchost = list(gvars['compute_etc_hosts'].keys())[0]\n",
    "tmpd = 'tmp.account'\n",
    "\n",
    "!mkdir -p {tmpd}\n",
    "for f in files:\n",
    "    !ansible {srchost} -m fetch -b -a \\\n",
    "        \"dest={tmpd} src={f}\"\n",
    "for addr in c_add_etc_hosts.keys():\n",
    "    for f in files:\n",
    "        !ansible {addr} -m copy -b -a \\\n",
    "            \"src={tmpd}/{srchost}/{f} dest={f} mode={filemodes[f]}\"\n",
    "!rm -rf {tmpd}"
   ]
  },
  {
   "cell_type": "markdown",
   "metadata": {},
   "source": [
    "`/etc/slurm/slurm.conf`を更新します。まず、現状の`slurm.conf`のベースとなっているgroup_varsの設定を確認します。"
   ]
  },
  {
   "cell_type": "code",
   "execution_count": null,
   "metadata": {},
   "outputs": [],
   "source": [
    "import json\n",
    "print(json.dumps(gvars['slurm_conf'], indent=2))"
   ]
  },
  {
   "cell_type": "markdown",
   "metadata": {},
   "source": [
    "`NodeName`に、追加VCノードが含まれるように更新します。以下の処理では正しく更新できない場合には、別途セルを編集の上設定してください。"
   ]
  },
  {
   "cell_type": "code",
   "execution_count": null,
   "metadata": {},
   "outputs": [],
   "source": [
    "from copy import deepcopy\n",
    "\n",
    "compute_nodes_new = gvars['compute_nodes'] + nodes_to_add\n",
    "gvars_new = deepcopy(gvars)\n",
    "gvars_new['slurm_conf'].update(\n",
    "    {'NodeName': f'{c_hostname_prefix}[1-{compute_nodes_new}]'}\n",
    ")\n",
    "\n",
    "print(json.dumps(gvars_new['slurm_conf'], indent=2))"
   ]
  },
  {
   "cell_type": "markdown",
   "metadata": {},
   "source": [
    "各ノードの`slurm.conf`を更新します。更新に先立って必要なスクリプトを各ノードにコピーしています。"
   ]
  },
  {
   "cell_type": "code",
   "execution_count": null,
   "metadata": {},
   "outputs": [],
   "source": [
    "# slurmfuncs.shを配布\n",
    "!ansible {ug.name} -m copy -b -a \\\n",
    "    'src=scripts/slurmfuncs.sh dest=/etc/vcp/'\n",
    "\n",
    "# 配布したスクリプトを使用してslurm.confを更新\n",
    "%run scripts/utils.py\n",
    "gvars_new['compute_etc_hosts'].update(c_add_etc_hosts)\n",
    "slurm_params = spec_env_slurm_conf(gvars_new)\n",
    "!ansible {ug.name} -m file -b -a \\\n",
    "    'path=/var/lib/vcp/.20-slurm state=absent'\n",
    "!ansible {ug.name} -m shell -b -a \\\n",
    "    \". /etc/vcp/slurmfuncs.sh; \\\n",
    "    SLURM_NODE_PARAMS={slurm_params} setup_slurm_conf && \\\n",
    "    MASTER_HOSTNAME={gvars_new['master_hostname']} setup_control_machine\""
   ]
  },
  {
   "cell_type": "markdown",
   "metadata": {},
   "source": [
    "### Slurmへの追加VCノードの組み込み\n",
    "\n",
    "`slurmctld`, `slurmd`それぞれに対して設定更新の通知をすることで、追加したVCノードがジョブのスケジュール対象となるようにします。"
   ]
  },
  {
   "cell_type": "markdown",
   "metadata": {},
   "source": [
    "`slurmctld`を再起動します。"
   ]
  },
  {
   "cell_type": "code",
   "execution_count": null,
   "metadata": {},
   "outputs": [],
   "source": [
    "!ansible {ug.name}_master -m systemd -b -a \\\n",
    "    'name=slurmctld state=restarted'"
   ]
  },
  {
   "cell_type": "markdown",
   "metadata": {},
   "source": [
    "Slurmクラスタの再構成を指示します。"
   ]
  },
  {
   "cell_type": "code",
   "execution_count": null,
   "metadata": {},
   "outputs": [],
   "source": [
    "!ansible {ug.name}_master -b -a \\\n",
    "    'scontrol reconfigure'"
   ]
  },
  {
   "cell_type": "markdown",
   "metadata": {},
   "source": [
    "追加ノードの`slurmd`を再起動します。"
   ]
  },
  {
   "cell_type": "code",
   "execution_count": null,
   "metadata": {},
   "outputs": [],
   "source": [
    "for addr in c_add_etc_hosts.keys():\n",
    "    !ansible {addr} -m systemd -b -a \\\n",
    "        'name=slurmd state=restarted'"
   ]
  },
  {
   "cell_type": "markdown",
   "metadata": {},
   "source": [
    "Slurmの状態を確認し、追加ノードが正しく追加されていることを確認します。"
   ]
  },
  {
   "cell_type": "code",
   "execution_count": null,
   "metadata": {},
   "outputs": [],
   "source": [
    "!ansible {ug.name}_master -b -a 'sinfo'"
   ]
  },
  {
   "cell_type": "markdown",
   "metadata": {},
   "source": [
    "追加ノードも必要となるジョブを実行して、実際に追加ノードが組み込まれていることを確認します。"
   ]
  },
  {
   "cell_type": "code",
   "execution_count": null,
   "metadata": {},
   "outputs": [],
   "source": [
    "!ansible {ug.name}_master -a 'srun -l -N {compute_nodes_new} hostname'"
   ]
  },
  {
   "cell_type": "markdown",
   "metadata": {},
   "source": [
    "## notebook環境側のデータ更新\n",
    "\n",
    "後でさらにノードを追加したり、ノードを削除する場合に備えて、ノードを追加した状態の設定に合わせて、noetbook環境側のデータを更新します。"
   ]
  },
  {
   "cell_type": "markdown",
   "metadata": {},
   "source": [
    "### group_varsの更新"
   ]
  },
  {
   "cell_type": "markdown",
   "metadata": {},
   "source": [
    "ノードを追加した際に更新する必要がある、以下のパラメータを更新します。\n",
    "* `slurm_conf`\n",
    "* `compute_nodes`\n",
    "* `compute_etc_hosts`"
   ]
  },
  {
   "cell_type": "code",
   "execution_count": null,
   "metadata": {},
   "outputs": [],
   "source": [
    "%run scripts/group.py\n",
    "\n",
    "update_group_vars(\n",
    "    ugroup_name,\n",
    "    slurm_conf=gvars_new['slurm_conf'],\n",
    "    compute_nodes=compute_nodes_new,\n",
    "    compute_etc_hosts=gvars_new['compute_etc_hosts']\n",
    ")"
   ]
  },
  {
   "cell_type": "markdown",
   "metadata": {},
   "source": [
    "group_varsの内容を確認します。"
   ]
  },
  {
   "cell_type": "code",
   "execution_count": null,
   "metadata": {},
   "outputs": [],
   "source": [
    "!cat group_vars/{ugroup_name}.yml"
   ]
  },
  {
   "cell_type": "markdown",
   "metadata": {},
   "source": [
    "## その他\n",
    "\n",
    "このnotebookでは扱いませんが、計算ノードに対してパッケージの追加や設定ファイルの更新などを実施している場合は、別途追加した計算ノードにも同じ設定が必要です。"
   ]
  }
 ],
 "metadata": {
  "kernelspec": {
   "display_name": "Python 3",
   "language": "python",
   "name": "python3"
  },
  "language_info": {
   "file_extension": ".py",
   "mimetype": "text/x-python",
   "name": "python",
   "nbconvert_exporter": "python",
   "pygments_lexer": "ipython3",
   "version": "3.8.6"
  },
  "toc": {
   "base_numbering": 1,
   "nav_menu": {},
   "number_sections": true,
   "sideBar": true,
   "skip_h1_title": true,
   "title_cell": "Table of Contents",
   "title_sidebar": "Contents",
   "toc_cell": false,
   "toc_position": {},
   "toc_section_display": true,
   "toc_window_display": false
  }
 },
 "nbformat": 4,
 "nbformat_minor": 4
}
