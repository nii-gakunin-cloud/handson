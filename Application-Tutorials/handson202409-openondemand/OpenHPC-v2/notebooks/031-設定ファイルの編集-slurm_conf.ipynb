{
 "cells": [
  {
   "cell_type": "markdown",
   "metadata": {},
   "source": [
    "# 設定ファイルの編集 -- slurm.conf\n",
    "\n",
    "---\n",
    "\n",
    "OpenHPC環境の設定ファイルの内容を変更します。"
   ]
  },
  {
   "cell_type": "markdown",
   "metadata": {},
   "source": [
    "## 概要\n",
    "\n",
    "このNotebookでは、VCノードの`slurm.conf`の内容を変更し、その変更を反映する手順を示します。"
   ]
  },
  {
   "cell_type": "markdown",
   "metadata": {},
   "source": [
    "![処理の流れ](images/ohpc-010.png)\n",
    "\n",
    "主な手順は以下のようになります。\n",
    "\n",
    "1. マスターノードの設定ファイル`slurm.conf`をNotebook環境に取得する\n",
    "2. 取得したファイルのバックアップを作成する\n",
    "3. Notebookの編集機能を利用して設定ファイルの変更をおこなう\n",
    "4. 変更した設定ファイルを各VCノードに配置する\n",
    "5. 各VCノードのSLURMデーモンに設定ファイルの再読み込みを指示する"
   ]
  },
  {
   "cell_type": "markdown",
   "metadata": {},
   "source": [
    "## 前提条件\n",
    "\n",
    "このNotebookを実行するための前提条件を満たしていることを確認します。"
   ]
  },
  {
   "cell_type": "markdown",
   "metadata": {},
   "source": [
    "以下のことを前提条件とします。\n",
    "* 構築済のOpenHPC環境がある\n",
    "* 各VCノードに対してAnsibleで操作できるように設定されている\n",
    "* 各VCノードに対して管理者権限で操作が行える"
   ]
  },
  {
   "cell_type": "markdown",
   "metadata": {},
   "source": [
    "VCノードを作成時に指定した値を確認するために `group_vars` ファイル名の一覧を表示します。"
   ]
  },
  {
   "cell_type": "code",
   "execution_count": null,
   "metadata": {},
   "outputs": [],
   "source": [
    "!ls -1 group_vars/*.yml | sed -e 's/^group_vars\\///' -e 's/\\.yml//' | sort"
   ]
  },
  {
   "cell_type": "markdown",
   "metadata": {},
   "source": [
    "操作対象となる UnitGroup 名を指定してください。"
   ]
  },
  {
   "cell_type": "code",
   "execution_count": null,
   "metadata": {
    "tags": [
     "vcp:skip",
     "vcp:parameters"
    ]
   },
   "outputs": [],
   "source": [
    "# (例)\n",
    "# ugroup_name = 'OpenHPC'\n",
    "\n",
    "ugroup_name = "
   ]
  },
  {
   "cell_type": "markdown",
   "metadata": {},
   "source": [
    "疎通確認を行います。"
   ]
  },
  {
   "cell_type": "code",
   "execution_count": null,
   "metadata": {},
   "outputs": [],
   "source": [
    "!ansible {ugroup_name} -m ping "
   ]
  },
  {
   "cell_type": "markdown",
   "metadata": {},
   "source": [
    "管理者権限でコマンドが実行できることを確認します。"
   ]
  },
  {
   "cell_type": "code",
   "execution_count": null,
   "metadata": {},
   "outputs": [],
   "source": [
    "!ansible {ugroup_name} -b -a 'whoami'"
   ]
  },
  {
   "cell_type": "markdown",
   "metadata": {},
   "source": [
    "## パラメータの設定"
   ]
  },
  {
   "cell_type": "markdown",
   "metadata": {},
   "source": [
    "### 編集対象となるファイルの指定\n",
    "\n",
    "対象となるファイルのパスを指定してください。"
   ]
  },
  {
   "cell_type": "code",
   "execution_count": null,
   "metadata": {
    "tags": [
     "vcp:parameters"
    ]
   },
   "outputs": [],
   "source": [
    "target_file = '/etc/slurm/slurm.conf'"
   ]
  },
  {
   "cell_type": "markdown",
   "metadata": {},
   "source": [
    "## 設定ファイルの編集\n",
    "\n",
    "OpenHPC環境の設定ファイルを取得して、Jupyter Notebookの編集機能を用いて設定ファイルを編集します。"
   ]
  },
  {
   "cell_type": "markdown",
   "metadata": {},
   "source": [
    "次のセルを実行すると、以下の手順が実行されます。\n",
    "\n",
    "1. マスターノードの設定ファイル(`slurm.conf`)をローカル環境に取得する\n",
    "2. 取得した設定ファイルのバックアップを作成する\n",
    "3. Jupyter Notebookの編集機能を利用して設定ファイルを編集するためのリンクを表示する\n",
    "\n",
    "表示されたリンクをクリックして、設定ファイルを編集してください。\n",
    "\n",
    "ローカル環境に取得したファイルは、以下のパスに格納されています。\n",
    "\n",
    "`./edit/{ugroup_name}/{YYYYMMDDHHmmssffffff}/slurm.conf`\n",
    "\n",
    "`{ugroup_name}` には UnitGroup名が、`{YYYYMMDDHHmmssfffff}` にはファイルを取得したタイムスタンプが入ります。\n",
    "\n",
    "また、バックアップファイルは以下のパスに格納されます。\n",
    "\n",
    "`./edit/{ugroup_name}/{YYYYMMDDHHmmssffffff}/slurm.conf.orig`"
   ]
  },
  {
   "cell_type": "code",
   "execution_count": null,
   "metadata": {
    "tags": [
     "vcp:callback:fetch_conf"
    ]
   },
   "outputs": [],
   "source": [
    "%run scripts/edit_conf.py\n",
    "fetch_conf(target_file, ugroup_name, 'master')"
   ]
  },
  {
   "cell_type": "markdown",
   "metadata": {},
   "source": [
    "上のセルに表示されているリンクをクリックするとファイルの編集画面が開きます。必要な箇所の編集を行い、その結果をファイルに保存してください。ファイルの保存を行うにはメニューの File -- Save を選択するか、キーボードで Ctrl-S をタイプしてください。"
   ]
  },
  {
   "cell_type": "markdown",
   "metadata": {},
   "source": [
    "`slurm.conf`の設定方法の詳細については [slurm.conf(5)](https://slurm.schedmd.com/slurm.conf.html)を参照してください。\n",
    "\n",
    "また、次のセルを実行すると計算ノードの実際のリソース量を確認することができます。`slurm.conf`を編集する際の参考にしてください。通常は次のセルの実行結果に合わせて `slurm.conf` の `NodeName` の行を以下のように更新することになります。\n",
    "\n",
    "```\n",
    "NodeName=c[1-4] CPUs=4 Boards=1 SocketsPerBoard=1 CoresPerSocket=2 ThreadsPerCore=2 RealMemory=15751 State=UNKNOWN\n",
    "```"
   ]
  },
  {
   "cell_type": "code",
   "execution_count": null,
   "metadata": {
    "tags": [
     "vcp:callback:slurmd_C"
    ]
   },
   "outputs": [],
   "source": [
    "!ansible {ugroup_name}_compute -a '/usr/sbin/slurmd -C'"
   ]
  },
  {
   "cell_type": "markdown",
   "metadata": {},
   "source": [
    "設定ファイルの編集後に次のセルを実行すると、編集の前後での差分を確認することができます。"
   ]
  },
  {
   "cell_type": "code",
   "execution_count": null,
   "metadata": {},
   "outputs": [],
   "source": [
    "%run scripts/edit_conf.py\n",
    "show_local_conf_diff(target_file, ugroup_name, 'master')"
   ]
  },
  {
   "cell_type": "markdown",
   "metadata": {},
   "source": [
    "## 編集した設定ファイルの反映\n",
    "\n",
    "編集したファイルをVCノードに配置して、設定ファイルの変更内容をコンテナに反映させます。"
   ]
  },
  {
   "cell_type": "markdown",
   "metadata": {},
   "source": [
    "### 編集内容の反映\n",
    "\n",
    "前章で編集した設定ファイル `slurm.conf` を各VCノードに配置します。"
   ]
  },
  {
   "cell_type": "markdown",
   "metadata": {},
   "source": [
    "まず、変更前の状態を確認しておきます。"
   ]
  },
  {
   "cell_type": "code",
   "execution_count": null,
   "metadata": {
    "scrolled": true
   },
   "outputs": [],
   "source": [
    "!ansible {ugroup_name}_master -a 'scontrol show node'"
   ]
  },
  {
   "cell_type": "markdown",
   "metadata": {},
   "source": [
    "では、実際に設定ファイルの変更を行います。\n",
    "\n",
    "次のセルを実行すると、以下の手順が実行されます。\n",
    "\n",
    "1. 編集前と編集後の設定ファイルの差分を表示する\n",
    "2. 編集した設定ファイル(`slurm.conf`)を各VCノードに配置する"
   ]
  },
  {
   "cell_type": "code",
   "execution_count": null,
   "metadata": {},
   "outputs": [],
   "source": [
    "%run scripts/edit_conf.py\n",
    "upload_conf(target_file, ugroup_name)"
   ]
  },
  {
   "cell_type": "markdown",
   "metadata": {},
   "source": [
    "マスターノード、計算ノードの SLURMデーモンに設定ファイルの再読み込みを指示します。"
   ]
  },
  {
   "cell_type": "code",
   "execution_count": null,
   "metadata": {},
   "outputs": [],
   "source": [
    "!ansible {ugroup_name}_master -b -a 'systemctl reload slurmctld'\n",
    "!ansible {ugroup_name}_compute -b -a 'systemctl reload slurmd'"
   ]
  },
  {
   "cell_type": "markdown",
   "metadata": {},
   "source": [
    "設定ファイル変更後のノードの状態を確認します。"
   ]
  },
  {
   "cell_type": "code",
   "execution_count": null,
   "metadata": {
    "scrolled": true
   },
   "outputs": [],
   "source": [
    "!ansible {ugroup_name}_master -a 'scontrol show node'"
   ]
  },
  {
   "cell_type": "markdown",
   "metadata": {},
   "source": [
    "設定ファイルに誤りがあり、SLURMデーモンが停止してしまった場合は「4. 設定ファイルの編集」以降のセルを unfreeze してから再度実行してください。また、SLURMデーモンが停止している場合は `systemctl reload` のかわりに `systemctl restart` を指定してサービスの再起動を行ってください。"
   ]
  }
 ],
 "metadata": {
  "kernelspec": {
   "display_name": "Python 3",
   "language": "python",
   "name": "python3"
  },
  "language_info": {
   "file_extension": ".py",
   "mimetype": "text/x-python",
   "name": "python",
   "nbconvert_exporter": "python",
   "pygments_lexer": "ipython3",
   "version": "3.10.4"
  },
  "toc": {
   "base_numbering": 1,
   "nav_menu": {},
   "number_sections": true,
   "sideBar": true,
   "skip_h1_title": true,
   "title_cell": "Table of Contents",
   "title_sidebar": "Contents",
   "toc_cell": false,
   "toc_position": {},
   "toc_section_display": true,
   "toc_window_display": true
  }
 },
 "nbformat": 4,
 "nbformat_minor": 2
}