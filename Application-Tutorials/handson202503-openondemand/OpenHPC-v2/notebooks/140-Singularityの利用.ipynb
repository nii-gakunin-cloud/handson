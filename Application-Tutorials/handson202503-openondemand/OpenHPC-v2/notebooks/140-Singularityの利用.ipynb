{
 "cells": [
  {
   "cell_type": "markdown",
   "metadata": {},
   "source": [
    "# Singularityの利用\n",
    "\n",
    "---\n",
    "\n",
    "構築したOpenHPC環境で[Singularity](https://sylabs.io/singularity/)を利用します。"
   ]
  },
  {
   "cell_type": "markdown",
   "metadata": {},
   "source": [
    "## 前提条件\n",
    "\n",
    "このNotebookを実行するための前提条件を満たしていることを確認します。"
   ]
  },
  {
   "cell_type": "markdown",
   "metadata": {},
   "source": [
    "以下のことを前提条件とします。\n",
    "* 構築済のOpenHPC環境がある\n",
    "* Singularity(version:3.4.2)がロードされる設定になっている\n",
    "* OpenHPC環境のマスターノードに対してSSHでログインできる\n",
    "\n",
    "> この Notebookでは、管理ユーザ以外が実行した状況に合わせるために Ansible ではなく ssh で操作を行います。"
   ]
  },
  {
   "cell_type": "markdown",
   "metadata": {},
   "source": [
    "マスターノードに対して SSH でログインできることを確認します。マスターノードのアドレスを指定してください。"
   ]
  },
  {
   "cell_type": "code",
   "execution_count": null,
   "metadata": {
    "tags": [
     "vcp:skip",
     "vcp:parameters"
    ]
   },
   "outputs": [],
   "source": [
    "# (例)\n",
    "# master_address = '172.30.XXX.xxx'\n",
    "\n",
    "master_address = "
   ]
  },
  {
   "cell_type": "markdown",
   "metadata": {},
   "source": [
    "SSHでログインするユーザ名を指定してください。"
   ]
  },
  {
   "cell_type": "code",
   "execution_count": null,
   "metadata": {
    "tags": [
     "vcp:skip",
     "vcp:parameters"
    ]
   },
   "outputs": [],
   "source": [
    "# (例)\n",
    "# user = 'vcp'\n",
    "# user = 'user00'\n",
    "\n",
    "user = "
   ]
  },
  {
   "cell_type": "markdown",
   "metadata": {},
   "source": [
    "必要であればSSHの秘密鍵を指定してください。"
   ]
  },
  {
   "cell_type": "code",
   "execution_count": null,
   "metadata": {
    "tags": [
     "vcp:rewrite:ssh_identity"
    ]
   },
   "outputs": [],
   "source": [
    "# (例)\n",
    "# ssh_identity = '~/.ssh/id_rsa'"
   ]
  },
  {
   "cell_type": "markdown",
   "metadata": {},
   "source": [
    "SSHでログインする際の引数を、変数に格納しておきます。"
   ]
  },
  {
   "cell_type": "code",
   "execution_count": null,
   "metadata": {
    "tags": [
     "vcp:parameters"
    ]
   },
   "outputs": [],
   "source": [
    "# ユーザ名とホスト名\n",
    "target = f'{user}@{master_address}'\n",
    "print(target)\n",
    "\n",
    "# SSHのコマンドライン引数\n",
    "ssh_opts = f'-i {ssh_identity}' if 'ssh_identity' in vars() else ''\n",
    "print(ssh_opts)"
   ]
  },
  {
   "cell_type": "markdown",
   "metadata": {},
   "source": [
    "マスターノードに対してSSHでログインしてコマンドを実行してみます。"
   ]
  },
  {
   "cell_type": "code",
   "execution_count": null,
   "metadata": {},
   "outputs": [],
   "source": [
    "!ssh {ssh_opts} {target} hostname"
   ]
  },
  {
   "cell_type": "markdown",
   "metadata": {},
   "source": [
    "Singularityがロードされていることを確認します。"
   ]
  },
  {
   "cell_type": "code",
   "execution_count": null,
   "metadata": {},
   "outputs": [],
   "source": [
    "!ssh {ssh_opts} {target} module is-loaded singularity"
   ]
  },
  {
   "cell_type": "markdown",
   "metadata": {},
   "source": [
    "上のセルがエラーになった場合は Singularity をロードする設定が行われていません。「061-Singularityのロード.ipynb」を実行して Singularity がロードされるよう設定してください。"
   ]
  },
  {
   "cell_type": "markdown",
   "metadata": {},
   "source": [
    "## Singularityの実行\n",
    "\n",
    "singularityで docker コンテナイメージを実行してみます。"
   ]
  },
  {
   "cell_type": "markdown",
   "metadata": {},
   "source": [
    "> singularityの操作の詳細については Singularityの[User Guide](https://sylabs.io/guides/3.4/user-guide/index.html)などを参照してください。"
   ]
  },
  {
   "cell_type": "markdown",
   "metadata": {},
   "source": [
    "dockerhub にある RockyLinux のコンテナイメージを singularity で実行してみます。まずコンテナイメージを取得してみます。\n",
    "\n",
    "> 数分程度かかります。"
   ]
  },
  {
   "cell_type": "code",
   "execution_count": null,
   "metadata": {},
   "outputs": [],
   "source": [
    "!ssh {ssh_opts} {target} bash -l -c \\\n",
    "    \"'test -f rockylinux_9.sif || singularity pull docker://rockylinux:9'\""
   ]
  },
  {
   "cell_type": "markdown",
   "metadata": {},
   "source": [
    "コンテナを実行して `/etc/redhat-release` の内容を表示してみます。"
   ]
  },
  {
   "cell_type": "code",
   "execution_count": null,
   "metadata": {},
   "outputs": [],
   "source": [
    "!ssh {ssh_opts} {target} bash -l -c \\\n",
    "    \"'singularity exec rockylinux_9.sif cat /etc/redhat-release'\""
   ]
  },
  {
   "cell_type": "markdown",
   "metadata": {},
   "source": [
    "SLURMで実行してみます。\n",
    "\n",
    "まず、実行するノード数を指定してください。"
   ]
  },
  {
   "cell_type": "code",
   "execution_count": null,
   "metadata": {
    "tags": [
     "vcp:skip",
     "vcp:parameters"
    ]
   },
   "outputs": [],
   "source": [
    "# (例)\n",
    "# num_nodes = 2\n",
    "\n",
    "num_nodes = "
   ]
  },
  {
   "cell_type": "markdown",
   "metadata": {},
   "source": [
    "srunで実行します。"
   ]
  },
  {
   "cell_type": "code",
   "execution_count": null,
   "metadata": {},
   "outputs": [],
   "source": [
    "!ssh {ssh_opts} {target} bash -l -c \\\n",
    "    \"'srun -l -N {num_nodes} \\\n",
    "    --deadline=$(date -d \"3 minutes\" \"+%H:%M\") \\\n",
    "    singularity exec rockylinux_9.sif cat /etc/redhat-release'\""
   ]
  }
 ],
 "metadata": {
  "kernelspec": {
   "display_name": "Python 3",
   "language": "python",
   "name": "python3"
  },
  "language_info": {
   "file_extension": ".py",
   "mimetype": "text/x-python",
   "name": "python",
   "nbconvert_exporter": "python",
   "pygments_lexer": "ipython3",
   "version": "3.10.4"
  },
  "toc": {
   "base_numbering": 1,
   "nav_menu": {},
   "number_sections": true,
   "sideBar": true,
   "skip_h1_title": true,
   "title_cell": "Table of Contents",
   "title_sidebar": "Contents",
   "toc_cell": false,
   "toc_position": {},
   "toc_section_display": true,
   "toc_window_display": true
  }
 },
 "nbformat": 4,
 "nbformat_minor": 2
}