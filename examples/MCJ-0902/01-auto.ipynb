{
 "cells": [
  {
   "cell_type": "markdown",
   "id": "101fed9b",
   "metadata": {
    "lc_cell_meme": {
     "current": "3d1eeb6e-7e43-11f0-a388-02420a0107b5-1-0344",
     "history": [
      {
       "current": "3d1eeb6e-7e43-11f0-a388-02420a0107b5-1-0344",
       "next": null,
       "previous": null
      },
      {
       "current": "3d1eeb6e-7e43-11f0-a388-02420a0107b5-1-0344",
       "next": "5aa6fca2-7e44-11f0-a388-02420a0107b5",
       "previous": null
      }
     ],
     "next": "e9b3b5e8-7e44-11f0-a388-02420a0107b5",
     "previous": null
    },
    "nbgrader": {
     "grade": false,
     "grade_id": "cell-ea6e34b03bba6c9b",
     "locked": true,
     "schema_version": 3,
     "solution": false,
     "task": false
    }
   },
   "source": [
    "引数nの2乗を返す関数squareを定義します。「raise IntImplementedError()」を削除してからコードを記述してください。"
   ]
  },
  {
   "cell_type": "code",
   "execution_count": 1,
   "id": "bcea9ea5",
   "metadata": {
    "lc_cell_meme": {
     "current": "e9b3b5e8-7e44-11f0-a388-02420a0107b5",
     "execution_end_time": "2025-08-21T04:14:33.876606Z",
     "history": [
      {
       "current": "e9b3b5e8-7e44-11f0-a388-02420a0107b5",
       "next": null,
       "previous": "3d1eeb6e-7e43-11f0-a388-02420a0107b5-1-0344"
      },
      {
       "current": "e9b3b5e8-7e44-11f0-a388-02420a0107b5",
       "next": "7953c5bc-7e45-11f0-a388-02420a0107b5",
       "previous": "3d1eeb6e-7e43-11f0-a388-02420a0107b5-1-0344"
      }
     ],
     "next": "7953c5bc-7e45-11f0-a388-02420a0107b5-1-4b2b",
     "previous": "3d1eeb6e-7e43-11f0-a388-02420a0107b5-1-0344"
    },
    "lc_wrapper": {
     "log_history": [
      "/home/user110t/nbgrader/course110/source/assign01/.log/20250821/20250821-131433-0855.log"
     ]
    },
    "nbgrader": {
     "grade": false,
     "grade_id": "cell-31118fadd047a21d",
     "locked": false,
     "schema_version": 3,
     "solution": true,
     "task": false
    }
   },
   "outputs": [],
   "source": [
    "def square(n):\n",
    "    ### BEGIN SOLUTION\n",
    "    return n*n\n",
    "    ### END SOLUTION"
   ]
  },
  {
   "cell_type": "markdown",
   "id": "940a72ab",
   "metadata": {
    "lc_cell_meme": {
     "current": "7953c5bc-7e45-11f0-a388-02420a0107b5-1-4b2b",
     "history": [
      {
       "current": "7953c5bc-7e45-11f0-a388-02420a0107b5-1-4b2b",
       "next": null,
       "previous": "e9b3b5e8-7e44-11f0-a388-02420a0107b5"
      }
     ],
     "next": "defcc336-7e46-11f0-a388-02420a0107b5",
     "previous": "e9b3b5e8-7e44-11f0-a388-02420a0107b5"
    },
    "nbgrader": {
     "grade": false,
     "grade_id": "cell-846e492ff48cceeb",
     "locked": true,
     "schema_version": 3,
     "solution": false,
     "task": false
    }
   },
   "source": [
    "このセルでプログラムの計算結果を確認しましょう。"
   ]
  },
  {
   "cell_type": "code",
   "execution_count": 2,
   "id": "81afed26",
   "metadata": {
    "lc_cell_meme": {
     "current": "defcc336-7e46-11f0-a388-02420a0107b5",
     "execution_end_time": "2025-08-21T04:26:02.435803Z",
     "history": [
      {
       "current": "defcc336-7e46-11f0-a388-02420a0107b5",
       "next": null,
       "previous": "7953c5bc-7e45-11f0-a388-02420a0107b5-1-4b2b"
      }
     ],
     "next": "25e76aa8-7e47-11f0-a388-02420a0107b5",
     "previous": "7953c5bc-7e45-11f0-a388-02420a0107b5-1-4b2b"
    },
    "lc_wrapper": {
     "log_history": [
      "/home/user110t/nbgrader/course110/source/assign01/.log/20250821/20250821-132602-0418.log"
     ]
    }
   },
   "outputs": [
    {
     "name": "stdout",
     "output_type": "stream",
     "text": [
      "25\n"
     ]
    }
   ],
   "source": [
    "print(square(5))"
   ]
  },
  {
   "cell_type": "code",
   "execution_count": 3,
   "id": "6cf81b02",
   "metadata": {
    "lc_cell_meme": {
     "current": "25e76aa8-7e47-11f0-a388-02420a0107b5",
     "execution_end_time": "2025-08-21T04:29:48.354310Z",
     "next": null,
     "previous": "defcc336-7e46-11f0-a388-02420a0107b5"
    },
    "lc_wrapper": {
     "log_history": [
      "/home/user110t/nbgrader/course110/source/assign01/.log/20250821/20250821-132948-0338.log"
     ]
    },
    "nbgrader": {
     "grade": true,
     "grade_id": "cell-331310679d2ed1e4",
     "locked": true,
     "points": 1,
     "schema_version": 3,
     "solution": false,
     "task": false
    }
   },
   "outputs": [],
   "source": [
    "### BEGIN HIDDEN TESTS\n",
    "assert square(1) == 1\n",
    "assert square(2) == 4\n",
    "assert square(3) == 9\n",
    "assert square(4) == 16\n",
    "### END HIDDEN TESTS"
   ]
  }
 ],
 "metadata": {
  "celltoolbar": "Create Assignment",
  "kernelspec": {
   "display_name": "LC_wrapper",
   "language": "python",
   "name": "lc_wrapper"
  },
  "language_info": {
   "file_extension": ".py",
   "mimetype": "text/x-python",
   "name": "python",
   "nbconvert_exporter": "python",
   "pygments_lexer": "ipython3",
   "version": "3.11.4"
  },
  "lc_notebook_meme": {
   "current": "3d1ee98e-7e43-11f0-a388-02420a0107b5",
   "lc_server_signature": {
    "current": {
     "notebook_dir": "/home/user110t",
     "notebook_path": "/nbgrader/course110/source/assign01",
     "server_url": "https://mcj-handson-cwh.vcp-handson.org/mcj/user/user110t/",
     "signature_id": "76407538-7115-11f0-a665-02420a010c02"
    },
    "history": []
   }
  }
 },
 "nbformat": 4,
 "nbformat_minor": 5
}
