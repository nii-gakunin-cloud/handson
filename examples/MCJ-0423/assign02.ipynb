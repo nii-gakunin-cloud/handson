{
 "cells": [
  {
   "cell_type": "markdown",
   "id": "59bcf2e0",
   "metadata": {
    "lc_cell_meme": {
     "current": "8bd4c362-1e73-11f0-9cd4-02420a010026-1-f9a3",
     "history": [
      {
       "current": "8bd4c362-1e73-11f0-9cd4-02420a010026-1-f9a3",
       "next": null,
       "previous": null
      }
     ],
     "next": "87f8b544-1e7a-11f0-9cd4-02420a010026",
     "previous": null
    },
    "nbgrader": {
     "grade": false,
     "grade_id": "cell-678895c639a4975b",
     "locked": true,
     "schema_version": 3,
     "solution": false,
     "task": false
    }
   },
   "source": [
    "引数nの2乗を返す関数squareを定義します。「raise NotImplementedError()」を削除してからコードを記述してください。"
   ]
  },
  {
   "cell_type": "code",
   "execution_count": 1,
   "id": "2945a74a",
   "metadata": {
    "lc_cell_meme": {
     "current": "87f8b544-1e7a-11f0-9cd4-02420a010026",
     "execution_end_time": "2025-04-21T06:46:29.910057Z",
     "history": [
      {
       "current": "87f8b544-1e7a-11f0-9cd4-02420a010026",
       "next": null,
       "previous": "8bd4c362-1e73-11f0-9cd4-02420a010026-1-f9a3"
      },
      {
       "current": "87f8b544-1e7a-11f0-9cd4-02420a010026",
       "next": "7caad332-1e7c-11f0-9cd4-02420a010026",
       "previous": "8bd4c362-1e73-11f0-9cd4-02420a010026-1-f9a3"
      }
     ],
     "next": "7caad332-1e7c-11f0-9cd4-02420a010026-1-a9f8",
     "previous": "8bd4c362-1e73-11f0-9cd4-02420a010026-1-f9a3"
    },
    "lc_wrapper": {
     "log_history": [
      "/home/user102t/nbgrader/course102/source/assign02/.log/20250421/20250421-154629-0893.log"
     ]
    },
    "nbgrader": {
     "grade": false,
     "grade_id": "cell-adaa32a79dabdb56",
     "locked": false,
     "schema_version": 3,
     "solution": true,
     "task": false
    }
   },
   "outputs": [],
   "source": [
    "def square(n):\n",
    "    ### BEGIN SOLUTION ###\n",
    "    return n*n\n",
    "    ### END SOLUTION ###"
   ]
  },
  {
   "cell_type": "markdown",
   "id": "1b91cf11",
   "metadata": {
    "lc_cell_meme": {
     "current": "7caad332-1e7c-11f0-9cd4-02420a010026-1-a9f8",
     "next": "9ab85fce-1e7d-11f0-9cd4-02420a010026",
     "previous": "87f8b544-1e7a-11f0-9cd4-02420a010026"
    },
    "nbgrader": {
     "grade": false,
     "grade_id": "cell-0be18bd3d2da0838",
     "locked": true,
     "schema_version": 3,
     "solution": false,
     "task": false
    }
   },
   "source": [
    "このセルでプログラムの計算結果を確認してみましょう。"
   ]
  },
  {
   "cell_type": "code",
   "execution_count": 2,
   "id": "f9b516fd",
   "metadata": {
    "lc_cell_meme": {
     "current": "9ab85fce-1e7d-11f0-9cd4-02420a010026",
     "execution_end_time": "2025-04-21T06:54:01.926980Z",
     "next": "9ab861c2-1e7d-11f0-9cd4-02420a010026",
     "previous": "7caad332-1e7c-11f0-9cd4-02420a010026-1-a9f8"
    },
    "lc_wrapper": {
     "log_history": [
      "/home/user102t/nbgrader/course102/source/assign02/.log/20250421/20250421-155401-0912.log"
     ]
    }
   },
   "outputs": [
    {
     "name": "stdout",
     "output_type": "stream",
     "text": [
      "25\n"
     ]
    }
   ],
   "source": [
    "print(square(5))"
   ]
  },
  {
   "cell_type": "code",
   "execution_count": 3,
   "id": "525b099d",
   "metadata": {
    "lc_cell_meme": {
     "current": "9ab861c2-1e7d-11f0-9cd4-02420a010026",
     "execution_end_time": "2025-04-21T07:17:26.733171Z",
     "history": [
      {
       "current": "9ab861c2-1e7d-11f0-9cd4-02420a010026",
       "next": null,
       "previous": "9ab85fce-1e7d-11f0-9cd4-02420a010026"
      }
     ],
     "next": null,
     "previous": "9ab85fce-1e7d-11f0-9cd4-02420a010026"
    },
    "lc_wrapper": {
     "log_history": [
      "/home/user102t/nbgrader/course102/source/assign02/.log/20250421/20250421-161726-0723.log"
     ]
    },
    "nbgrader": {
     "grade": true,
     "grade_id": "cell-7b48244014263505",
     "locked": true,
     "points": 1,
     "schema_version": 3,
     "solution": false,
     "task": false
    }
   },
   "outputs": [],
   "source": [
    "### BEGIN HIDDEN TESTS\n",
    "assert square(1) == 1\n",
    "assert square(2) == 4\n",
    "assert square(3) == 9\n",
    "assert square(4) == 16\n",
    "### END HIDDEN TESTS"
   ]
  }
 ],
 "metadata": {
  "celltoolbar": "Create Assignment",
  "kernelspec": {
   "display_name": "LC_wrapper",
   "language": "python",
   "name": "lc_wrapper"
  },
  "language_info": {
   "file_extension": ".py",
   "mimetype": "text/x-python",
   "name": "python",
   "nbconvert_exporter": "python",
   "pygments_lexer": "ipython3",
   "version": "3.11.4"
  },
  "lc_notebook_meme": {
   "current": "8bd4bfa2-1e73-11f0-9cd4-02420a010026",
   "lc_server_signature": {
    "current": {
     "notebook_dir": "/home/user102t",
     "notebook_path": "/nbgrader/course102/source/assign02",
     "server_url": "https://ocs-yhub.vcp-handson.org/user/user102t/",
     "signature_id": "37e72b26-1dfd-11f0-a599-02420a010014"
    },
    "history": []
   }
  }
 },
 "nbformat": 4,
 "nbformat_minor": 5
}
