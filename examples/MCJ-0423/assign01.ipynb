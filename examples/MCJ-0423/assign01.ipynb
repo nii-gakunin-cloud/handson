{
 "cells": [
  {
   "cell_type": "markdown",
   "id": "b0047827",
   "metadata": {
    "lc_cell_meme": {
     "current": "b3af24f8-1e01-11f0-a599-02420a010014-1-bb70",
     "execution_end_time": "2025-04-20T17:00:53.112878Z",
     "history": [
      {
       "current": "b3af24f8-1e01-11f0-a599-02420a010014-1-bb70",
       "next": null,
       "previous": null
      }
     ],
     "next": "3edcf166-1e09-11f0-a599-02420a010014",
     "previous": null
    },
    "lc_wrapper": {
     "log_history": [
      "/home/user102t/nbgrader/course102/source/assign01/.log/20250421/20250421-020053-0092.log"
     ]
    },
    "nbgrader": {
     "grade": false,
     "grade_id": "cell-f4df44a29c5ead16",
     "locked": true,
     "schema_version": 3,
     "solution": false,
     "task": false
    }
   },
   "source": [
    "1. 引数nの2乗を返す関数squareを定義します。「raise NotImplementedError()」を削除してからコードを記述してください。"
   ]
  },
  {
   "cell_type": "code",
   "execution_count": 2,
   "id": "2872e20d",
   "metadata": {
    "lc_cell_meme": {
     "current": "3edcf166-1e09-11f0-a599-02420a010014",
     "execution_end_time": "2025-04-20T17:20:30.824680Z",
     "history": [
      {
       "current": "3edcf166-1e09-11f0-a599-02420a010014",
       "next": null,
       "previous": "b3af24f8-1e01-11f0-a599-02420a010014-1-bb70"
      },
      {
       "current": "3edcf166-1e09-11f0-a599-02420a010014",
       "next": "0a1bef56-1e0c-11f0-a599-02420a010014",
       "previous": "b3af24f8-1e01-11f0-a599-02420a010014-1-bb70"
      }
     ],
     "next": "0a1bef56-1e0c-11f0-a599-02420a010014-1-482c",
     "previous": "b3af24f8-1e01-11f0-a599-02420a010014-1-bb70"
    },
    "lc_wrapper": {
     "log_history": [
      "/home/user102t/nbgrader/course102/source/assign01/.log/20250421/20250421-022030-0812.log"
     ]
    },
    "nbgrader": {
     "grade": true,
     "grade_id": "cell-ca43715d23a59596",
     "locked": false,
     "points": 1,
     "schema_version": 3,
     "solution": true,
     "task": false
    }
   },
   "outputs": [],
   "source": [
    "def square(n):\n",
    "    ### BEGIN SOLUTION ###\n",
    "    return n*n\n",
    "    ### END SOLUTION ###"
   ]
  },
  {
   "cell_type": "markdown",
   "id": "18486f59",
   "metadata": {
    "lc_cell_meme": {
     "current": "0a1bef56-1e0c-11f0-a599-02420a010014-1-482c",
     "execution_end_time": "2025-04-20T17:39:11.088051Z",
     "history": [
      {
       "current": "0a1bef56-1e0c-11f0-a599-02420a010014-1-482c",
       "next": null,
       "previous": "3edcf166-1e09-11f0-a599-02420a010014"
      }
     ],
     "next": "8ddb67c0-1e0e-11f0-a599-02420a010014",
     "previous": "3edcf166-1e09-11f0-a599-02420a010014"
    },
    "lc_wrapper": {
     "log_history": [
      "/home/user102t/nbgrader/course102/source/assign01/.log/20250421/20250421-023911-0073.log"
     ]
    },
    "nbgrader": {
     "grade": false,
     "grade_id": "cell-f4b2a570c97869f5",
     "locked": true,
     "schema_version": 3,
     "solution": false,
     "task": false
    }
   },
   "source": [
    "このセルでプログラムの計算結果を確認してみましょう。"
   ]
  },
  {
   "cell_type": "code",
   "execution_count": 4,
   "id": "eab30029",
   "metadata": {
    "lc_cell_meme": {
     "current": "8ddb67c0-1e0e-11f0-a599-02420a010014",
     "execution_end_time": "2025-04-20T17:46:15.445006Z",
     "history": [
      {
       "current": "8ddb67c0-1e0e-11f0-a599-02420a010014",
       "next": null,
       "previous": "0a1bef56-1e0c-11f0-a599-02420a010014-1-482c"
      },
      {
       "current": "8ddb67c0-1e0e-11f0-a599-02420a010014",
       "next": "6471d3b4-1e0f-11f0-a599-02420a010014",
       "previous": "0a1bef56-1e0c-11f0-a599-02420a010014-1-482c"
      },
      {
       "current": "8ddb67c0-1e0e-11f0-a599-02420a010014",
       "next": "6471d3b4-1e0f-11f0-a599-02420a010014-1-0def",
       "previous": "0a1bef56-1e0c-11f0-a599-02420a010014-1-482c"
      }
     ],
     "next": "6471d3b4-1e0f-11f0-a599-02420a010014-3-0def-1fa4-b841",
     "previous": "0a1bef56-1e0c-11f0-a599-02420a010014-1-482c"
    },
    "lc_wrapper": {
     "log_history": [
      "/home/user102t/nbgrader/course102/source/assign01/.log/20250421/20250421-024615-0433.log"
     ]
    }
   },
   "outputs": [
    {
     "name": "stdout",
     "output_type": "stream",
     "text": [
      "25\n"
     ]
    }
   ],
   "source": [
    "print(square(5))"
   ]
  },
  {
   "cell_type": "markdown",
   "id": "27b6d94c",
   "metadata": {
    "lc_cell_meme": {
     "current": "6471d3b4-1e0f-11f0-a599-02420a010014-3-0def-1fa4-b841",
     "history": [
      {
       "current": "6471d3b4-1e0f-11f0-a599-02420a010014-1-0def",
       "next": null,
       "previous": "8ddb67c0-1e0e-11f0-a599-02420a010014"
      },
      {
       "current": "6471d3b4-1e0f-11f0-a599-02420a010014-1-0def",
       "next": "118e9f04-1e11-11f0-a599-02420a010014",
       "previous": "8ddb67c0-1e0e-11f0-a599-02420a010014"
      },
      {
       "current": "6471d3b4-1e0f-11f0-a599-02420a010014-3-0def-1fa4-b841",
       "next": "118e9f04-1e11-11f0-a599-02420a010014-1-78b4",
       "previous": "8ddb67c0-1e0e-11f0-a599-02420a010014"
      },
      {
       "current": "6471d3b4-1e0f-11f0-a599-02420a010014-3-0def-1fa4-b841",
       "next": "118e9f04-1e11-11f0-a599-02420a010014-2-78b4-41ce",
       "previous": "8ddb67c0-1e0e-11f0-a599-02420a010014"
      }
     ],
     "next": "118e9f04-1e11-11f0-a599-02420a010014-3-78b4-41ce-b3fd",
     "previous": "8ddb67c0-1e0e-11f0-a599-02420a010014"
    },
    "nbgrader": {
     "grade": false,
     "grade_id": "cell-4be656d816cc34d2",
     "locked": true,
     "schema_version": 3,
     "solution": false,
     "task": false
    }
   },
   "source": [
    "2. 以下に何か感想を入力してください。セルをダブルクリックした後、「YOUR ANSWER HERE」を削除してから感想を入力してください。"
   ]
  },
  {
   "cell_type": "markdown",
   "id": "80f86ca3",
   "metadata": {
    "lc_cell_meme": {
     "current": "118e9f04-1e11-11f0-a599-02420a010014-3-78b4-41ce-b3fd",
     "history": [
      {
       "current": "118e9f04-1e11-11f0-a599-02420a010014-1-78b4",
       "next": null,
       "previous": "6471d3b4-1e0f-11f0-a599-02420a010014-1-0def"
      }
     ],
     "next": null,
     "previous": "6471d3b4-1e0f-11f0-a599-02420a010014-3-0def-1fa4-b841"
    },
    "nbgrader": {
     "grade": true,
     "grade_id": "cell-e8081571e72a69f1",
     "locked": false,
     "points": 1,
     "schema_version": 3,
     "solution": true,
     "task": false
    }
   },
   "source": []
  }
 ],
 "metadata": {
  "celltoolbar": "Create Assignment",
  "kernelspec": {
   "display_name": "LC_wrapper",
   "language": "python",
   "name": "lc_wrapper"
  },
  "language_info": {
   "file_extension": ".py",
   "mimetype": "text/x-python",
   "name": "python",
   "nbconvert_exporter": "python",
   "pygments_lexer": "ipython3",
   "version": "3.11.4"
  },
  "lc_notebook_meme": {
   "current": "b3af22be-1e01-11f0-a599-02420a010014",
   "lc_server_signature": {
    "current": {
     "notebook_dir": "/home/user102t",
     "notebook_path": "/nbgrader/course102/source/assign01",
     "server_url": "https://ocs-yhub.vcp-handson.org/user/user102t/",
     "signature_id": "37e72b26-1dfd-11f0-a599-02420a010014"
    },
    "history": []
   }
  }
 },
 "nbformat": 4,
 "nbformat_minor": 5
}
