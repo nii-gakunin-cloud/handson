{
 "cells": [
  {
   "cell_type": "markdown",
   "id": "b0047827",
   "metadata": {
    "lc_cell_meme": {
     "current": "b3af24f8-1e01-11f0-a599-02420a010014-3-bb70-c3b9-e05f",
     "execution_end_time": "2025-04-20T17:00:53.112878Z",
     "history": [
      {
       "current": "b3af24f8-1e01-11f0-a599-02420a010014-1-bb70",
       "next": null,
       "previous": null
      },
      {
       "current": "b3af24f8-1e01-11f0-a599-02420a010014-2-bb70-c3b9",
       "next": "3edcf166-1e09-11f0-a599-02420a010014",
       "previous": null
      },
      {
       "current": "b3af24f8-1e01-11f0-a599-02420a010014-3-bb70-c3b9-e05f",
       "next": "3edcf166-1e09-11f0-a599-02420a010014-1-d1bb",
       "previous": null
      }
     ],
     "next": "3edcf166-1e09-11f0-a599-02420a010014-2-d1bb-c17a",
     "previous": null
    },
    "lc_wrapper": {
     "log_history": [
      "/home/user102t/nbgrader/course102/source/assign01/.log/20250421/20250421-020053-0092.log"
     ]
    }
   },
   "source": [
    "1. 引数nの2乗を返す関数squareを定義します。「YOURE CODE HERE」の下にコードを記述し、関数を完成させましょう。"
   ]
  },
  {
   "cell_type": "code",
   "execution_count": 2,
   "id": "2872e20d",
   "metadata": {
    "lc_cell_meme": {
     "current": "3edcf166-1e09-11f0-a599-02420a010014-2-d1bb-c17a",
     "execution_end_time": "2025-04-20T17:20:30.824680Z",
     "history": [
      {
       "current": "3edcf166-1e09-11f0-a599-02420a010014",
       "next": null,
       "previous": "b3af24f8-1e01-11f0-a599-02420a010014-1-bb70"
      },
      {
       "current": "3edcf166-1e09-11f0-a599-02420a010014",
       "next": "0a1bef56-1e0c-11f0-a599-02420a010014",
       "previous": "b3af24f8-1e01-11f0-a599-02420a010014-1-bb70"
      },
      {
       "current": "3edcf166-1e09-11f0-a599-02420a010014-1-d1bb",
       "next": "0a1bef56-1e0c-11f0-a599-02420a010014-1-482c",
       "previous": "b3af24f8-1e01-11f0-a599-02420a010014-1-bb70"
      },
      {
       "current": "3edcf166-1e09-11f0-a599-02420a010014-2-d1bb-c17a",
       "next": "0a1bef56-1e0c-11f0-a599-02420a010014-2-482c-7003",
       "previous": "b3af24f8-1e01-11f0-a599-02420a010014-2-bb70-c3b9"
      }
     ],
     "next": "0a1bef56-1e0c-11f0-a599-02420a010014-3-482c-7003-f881",
     "previous": "b3af24f8-1e01-11f0-a599-02420a010014-3-bb70-c3b9-e05f"
    },
    "lc_wrapper": {
     "log_history": [
      "/home/user102t/nbgrader/course102/source/assign01/.log/20250421/20250421-022030-0812.log"
     ]
    }
   },
   "outputs": [],
   "source": [
    "def square(n):\n",
    "    ### YOURE CODE HERE ###\n",
    "    "
   ]
  },
  {
   "cell_type": "markdown",
   "id": "18486f59",
   "metadata": {
    "lc_cell_meme": {
     "current": "0a1bef56-1e0c-11f0-a599-02420a010014-3-482c-7003-f881",
     "execution_end_time": "2025-04-20T17:39:11.088051Z",
     "history": [
      {
       "current": "0a1bef56-1e0c-11f0-a599-02420a010014-1-482c",
       "next": null,
       "previous": "3edcf166-1e09-11f0-a599-02420a010014"
      },
      {
       "current": "0a1bef56-1e0c-11f0-a599-02420a010014-2-482c-7003",
       "next": "8ddb67c0-1e0e-11f0-a599-02420a010014",
       "previous": "3edcf166-1e09-11f0-a599-02420a010014"
      },
      {
       "current": "0a1bef56-1e0c-11f0-a599-02420a010014-3-482c-7003-f881",
       "next": "8ddb67c0-1e0e-11f0-a599-02420a010014-1-a2eb",
       "previous": "3edcf166-1e09-11f0-a599-02420a010014-1-d1bb"
      }
     ],
     "next": "8ddb67c0-1e0e-11f0-a599-02420a010014-2-a2eb-5b5a",
     "previous": "3edcf166-1e09-11f0-a599-02420a010014-2-d1bb-c17a"
    },
    "lc_wrapper": {
     "log_history": [
      "/home/user102t/nbgrader/course102/source/assign01/.log/20250421/20250421-023911-0073.log"
     ]
    }
   },
   "source": [
    "このセルでプログラムの計算結果を確認してみましょう。"
   ]
  },
  {
   "cell_type": "code",
   "execution_count": null,
   "id": "eab30029",
   "metadata": {
    "lc_cell_meme": {
     "current": "8ddb67c0-1e0e-11f0-a599-02420a010014-2-a2eb-5b5a",
     "history": [
      {
       "current": "8ddb67c0-1e0e-11f0-a599-02420a010014",
       "next": null,
       "previous": "0a1bef56-1e0c-11f0-a599-02420a010014-1-482c"
      },
      {
       "current": "8ddb67c0-1e0e-11f0-a599-02420a010014",
       "next": "6471d3b4-1e0f-11f0-a599-02420a010014",
       "previous": "0a1bef56-1e0c-11f0-a599-02420a010014-1-482c"
      },
      {
       "current": "8ddb67c0-1e0e-11f0-a599-02420a010014",
       "next": "6471d3b4-1e0f-11f0-a599-02420a010014-1-0def",
       "previous": "0a1bef56-1e0c-11f0-a599-02420a010014-1-482c"
      },
      {
       "current": "8ddb67c0-1e0e-11f0-a599-02420a010014-1-a2eb",
       "next": "6471d3b4-1e0f-11f0-a599-02420a010014-3-0def-1fa4-b841",
       "previous": "0a1bef56-1e0c-11f0-a599-02420a010014-1-482c"
      },
      {
       "current": "8ddb67c0-1e0e-11f0-a599-02420a010014-2-a2eb-5b5a",
       "next": "6471d3b4-1e0f-11f0-a599-02420a010014-4-0def-1fa4-b841-497f",
       "previous": "0a1bef56-1e0c-11f0-a599-02420a010014-2-482c-7003"
      }
     ],
     "next": "6471d3b4-1e0f-11f0-a599-02420a010014-5-0def-1fa4-b841-497f-2903",
     "previous": "0a1bef56-1e0c-11f0-a599-02420a010014-3-482c-7003-f881"
    },
    "lc_wrapper": {
     "log_history": [
      "/home/user102t/nbgrader/course102/source/assign01/.log/20250421/20250421-024615-0433.log"
     ]
    }
   },
   "outputs": [],
   "source": [
    "print(square(5))"
   ]
  },
  {
   "cell_type": "markdown",
   "id": "27b6d94c",
   "metadata": {
    "lc_cell_meme": {
     "current": "6471d3b4-1e0f-11f0-a599-02420a010014-5-0def-1fa4-b841-497f-2903",
     "history": [
      {
       "current": "6471d3b4-1e0f-11f0-a599-02420a010014-1-0def",
       "next": null,
       "previous": "8ddb67c0-1e0e-11f0-a599-02420a010014"
      },
      {
       "current": "6471d3b4-1e0f-11f0-a599-02420a010014-1-0def",
       "next": "118e9f04-1e11-11f0-a599-02420a010014",
       "previous": "8ddb67c0-1e0e-11f0-a599-02420a010014"
      },
      {
       "current": "6471d3b4-1e0f-11f0-a599-02420a010014-3-0def-1fa4-b841",
       "next": "118e9f04-1e11-11f0-a599-02420a010014-1-78b4",
       "previous": "8ddb67c0-1e0e-11f0-a599-02420a010014"
      },
      {
       "current": "6471d3b4-1e0f-11f0-a599-02420a010014-3-0def-1fa4-b841",
       "next": "118e9f04-1e11-11f0-a599-02420a010014-2-78b4-41ce",
       "previous": "8ddb67c0-1e0e-11f0-a599-02420a010014"
      },
      {
       "current": "6471d3b4-1e0f-11f0-a599-02420a010014-4-0def-1fa4-b841-497f",
       "next": "118e9f04-1e11-11f0-a599-02420a010014-3-78b4-41ce-b3fd",
       "previous": "8ddb67c0-1e0e-11f0-a599-02420a010014"
      },
      {
       "current": "6471d3b4-1e0f-11f0-a599-02420a010014-5-0def-1fa4-b841-497f-2903",
       "next": "118e9f04-1e11-11f0-a599-02420a010014-4-78b4-41ce-b3fd-8cfc",
       "previous": "8ddb67c0-1e0e-11f0-a599-02420a010014-1-a2eb"
      }
     ],
     "next": "4a46c33e-1ea3-11f0-965f-02420a010038",
     "previous": "8ddb67c0-1e0e-11f0-a599-02420a010014-2-a2eb-5b5a"
    }
   },
   "source": [
    "2. 以下のセルをダブルクリックした後、何か感想を入力してください。"
   ]
  },
  {
   "cell_type": "markdown",
   "id": "5829893c",
   "metadata": {
    "lc_cell_meme": {
     "current": "4a46c33e-1ea3-11f0-965f-02420a010038",
     "next": null,
     "previous": "6471d3b4-1e0f-11f0-a599-02420a010014-5-0def-1fa4-b841-497f-2903"
    }
   },
   "source": []
  }
 ],
 "metadata": {
  "kernelspec": {
   "display_name": "LC_wrapper",
   "language": "python",
   "name": "lc_wrapper"
  },
  "language_info": {
   "file_extension": ".py",
   "mimetype": "text/x-python",
   "name": "python",
   "nbconvert_exporter": "python",
   "pygments_lexer": "ipython3",
   "version": "3.11.4"
  },
  "lc_notebook_meme": {
   "current": "b3af22be-1e01-11f0-a599-02420a010014",
   "lc_server_signature": {
    "current": {
     "notebook_dir": "/home/user102t",
     "notebook_path": "/class/course102/share",
     "server_url": "https://ocs-yhub.vcp-handson.org/user/user102t/",
     "signature_id": "37e72b26-1dfd-11f0-a599-02420a010014"
    },
    "history": [
     {
      "notebook_dir": "/home/user102t",
      "notebook_path": "/nbgrader/course102/source/assign01",
      "server_url": "https://ocs-yhub.vcp-handson.org/user/user102t/",
      "signature_id": "37e72b26-1dfd-11f0-a599-02420a010014"
     },
     {
      "notebook_dir": "/home/tea00001",
      "notebook_path": "/",
      "server_url": "https://ocs-yhub.vcp-handson.org/user/tea00001/",
      "signature_id": "b9a628fc-c1b3-11ef-afa1-02420a010029"
     }
    ]
   }
  }
 },
 "nbformat": 4,
 "nbformat_minor": 5
}
